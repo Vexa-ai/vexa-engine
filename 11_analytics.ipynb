{
 "cells": [
  {
   "cell_type": "code",
   "execution_count": 2,
   "metadata": {},
   "outputs": [],
   "source": [
    "import sys\n",
    "sys.path.append('/app')"
   ]
  },
  {
   "cell_type": "code",
   "execution_count": 3,
   "metadata": {},
   "outputs": [],
   "source": [
    "from analytics.export import AnalyticsExporter\n",
    "from datetime import datetime, timedelta"
   ]
  },
  {
   "cell_type": "code",
   "execution_count": 4,
   "metadata": {},
   "outputs": [],
   "source": [
    "exporter = AnalyticsExporter()\n",
    "\n",
    "# Export last 7 days of data\n",
    "end_date = datetime.utcnow()\n",
    "start_date = end_date - timedelta(days=7)\n",
    "\n",
    "dfs = await exporter.export_all(start_date, end_date)"
   ]
  },
  {
   "cell_type": "code",
   "execution_count": 5,
   "metadata": {},
   "outputs": [
    {
     "data": {
      "text/plain": [
       "{'sessions': Empty DataFrame\n",
       " Columns: []\n",
       " Index: [],\n",
       " 'events': Empty DataFrame\n",
       " Columns: []\n",
       " Index: [],\n",
       " 'pageviews': Empty DataFrame\n",
       " Columns: []\n",
       " Index: [],\n",
       " 'feature_usage': Empty DataFrame\n",
       " Columns: []\n",
       " Index: []}"
      ]
     },
     "execution_count": 5,
     "metadata": {},
     "output_type": "execute_result"
    }
   ],
   "source": [
    "dfs"
   ]
  },
  {
   "cell_type": "code",
   "execution_count": null,
   "metadata": {},
   "outputs": [],
   "source": []
  }
 ],
 "metadata": {
  "kernelspec": {
   "display_name": "langchain",
   "language": "python",
   "name": "python3"
  },
  "language_info": {
   "codemirror_mode": {
    "name": "ipython",
    "version": 3
   },
   "file_extension": ".py",
   "mimetype": "text/x-python",
   "name": "python",
   "nbconvert_exporter": "python",
   "pygments_lexer": "ipython3",
   "version": "3.11.10"
  }
 },
 "nbformat": 4,
 "nbformat_minor": 2
}
