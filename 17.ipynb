{
 "cells": [
  {
   "cell_type": "code",
   "execution_count": 1,
   "metadata": {},
   "outputs": [],
   "source": [
    "%load_ext autoreload\n",
    "%autoreload 2\n"
   ]
  },
  {
   "cell_type": "code",
   "execution_count": 9,
   "metadata": {},
   "outputs": [],
   "source": [
    "import pandas as pd\n",
    "from core import system_msg, user_msg,assistant_msg\n"
   ]
  },
  {
   "cell_type": "code",
   "execution_count": 82,
   "metadata": {},
   "outputs": [
    {
     "name": "stdout",
     "output_type": "stream",
     "text": [
      "Using device: cuda:0\n",
      "Creating field-specific indices...\n",
      "Processing topic_name...\n"
     ]
    },
    {
     "data": {
      "application/vnd.jupyter.widget-view+json": {
       "model_id": "6e2784b76fcc4efa824f06acee793790",
       "version_major": 2,
       "version_minor": 0
      },
      "text/plain": [
       "  0%|          | 0/400 [00:00<?, ?it/s]"
      ]
     },
     "metadata": {},
     "output_type": "display_data"
    },
    {
     "name": "stdout",
     "output_type": "stream",
     "text": [
      "Processing summary...\n"
     ]
    },
    {
     "data": {
      "application/vnd.jupyter.widget-view+json": {
       "model_id": "2c5183ff17074589b6675bf454c9a865",
       "version_major": 2,
       "version_minor": 0
      },
      "text/plain": [
       "  0%|          | 0/400 [00:00<?, ?it/s]"
      ]
     },
     "metadata": {},
     "output_type": "display_data"
    },
    {
     "name": "stdout",
     "output_type": "stream",
     "text": [
      "Processing details...\n"
     ]
    },
    {
     "data": {
      "application/vnd.jupyter.widget-view+json": {
       "model_id": "73df8b3f938e4491891398b78e84e655",
       "version_major": 2,
       "version_minor": 0
      },
      "text/plain": [
       "  0%|          | 0/400 [00:00<?, ?it/s]"
      ]
     },
     "metadata": {},
     "output_type": "display_data"
    }
   ],
   "source": [
    "from sampling import fetch_joined_data\n",
    "df = await fetch_joined_data()\n",
    "df = df.sort_values(['meeting_timestamp'])\n",
    "from elastic_search import VectorSearchEngine\n",
    "search_engine = VectorSearchEngine(device=0)\n",
    "search_engine.create_index(df)"
   ]
  },
  {
   "cell_type": "code",
   "execution_count": 144,
   "metadata": {},
   "outputs": [
    {
     "name": "stdout",
     "output_type": "stream",
     "text": [
      "\n",
      "Initializing Search...\n",
      "Initial search complete - found 119 results\n",
      "\n",
      "==================================================\n",
      "Starting Iterative Research for: vexa\n",
      "==================================================\n",
      "\n",
      "==============================\n",
      "Iteration 1/5\n",
      "Current Query: vexa\n",
      "Remaining queries in queue: 0\n",
      "==============================\n",
      "\n",
      "Search Results:\n",
      "- Found 119 matches\n",
      "- Similarity range: 0.495 to 1.436\n",
      "\n",
      "=== Generating Report for Query: vexa ===\n",
      "Previous findings count: 0\n",
      "Explored queries count: 1\n",
      "Results data shape: (119, 11)\n",
      "\n",
      "Report Summary:\n"
     ]
    },
    {
     "ename": "AttributeError",
     "evalue": "'NoneType' object has no attribute 'report_sections'",
     "output_type": "error",
     "traceback": [
      "\u001b[0;31m---------------------------------------------------------------------------\u001b[0m",
      "\u001b[0;31mAttributeError\u001b[0m                            Traceback (most recent call last)",
      "Cell \u001b[0;32mIn[144], line 171\u001b[0m\n\u001b[1;32m    168\u001b[0m \u001b[38;5;28mprint\u001b[39m(\u001b[38;5;124mf\u001b[39m\u001b[38;5;124m\"\u001b[39m\u001b[38;5;124mInitial search complete - found \u001b[39m\u001b[38;5;132;01m{\u001b[39;00m\u001b[38;5;28mlen\u001b[39m(results)\u001b[38;5;132;01m}\u001b[39;00m\u001b[38;5;124m results\u001b[39m\u001b[38;5;124m\"\u001b[39m)\n\u001b[1;32m    170\u001b[0m \u001b[38;5;66;03m# Start iterative research with verbose output\u001b[39;00m\n\u001b[0;32m--> 171\u001b[0m reports \u001b[38;5;241m=\u001b[39m \u001b[38;5;28;01mawait\u001b[39;00m conduct_iterative_research(search_engine, q, verbose\u001b[38;5;241m=\u001b[39m\u001b[38;5;28;01mTrue\u001b[39;00m)\n\u001b[1;32m    173\u001b[0m \u001b[38;5;66;03m# Summarize findings\u001b[39;00m\n\u001b[1;32m    174\u001b[0m \u001b[38;5;28mprint\u001b[39m(\u001b[38;5;124m\"\u001b[39m\u001b[38;5;130;01m\\n\u001b[39;00m\u001b[38;5;124mFinal Summary of All Findings:\u001b[39m\u001b[38;5;124m\"\u001b[39m)\n",
      "Cell \u001b[0;32mIn[144], line 98\u001b[0m, in \u001b[0;36mconduct_iterative_research\u001b[0;34m(search_engine, initial_query, max_iterations, min_context_quality, verbose)\u001b[0m\n\u001b[1;32m     96\u001b[0m \u001b[38;5;28;01mif\u001b[39;00m verbose:\n\u001b[1;32m     97\u001b[0m     \u001b[38;5;28mprint\u001b[39m(\u001b[38;5;124m\"\u001b[39m\u001b[38;5;130;01m\\n\u001b[39;00m\u001b[38;5;124mReport Summary:\u001b[39m\u001b[38;5;124m\"\u001b[39m)\n\u001b[0;32m---> 98\u001b[0m     \u001b[38;5;28mprint\u001b[39m(\u001b[38;5;124mf\u001b[39m\u001b[38;5;124m\"\u001b[39m\u001b[38;5;124m- Sections: \u001b[39m\u001b[38;5;132;01m{\u001b[39;00m\u001b[38;5;28mlen\u001b[39m(\u001b[43mreport\u001b[49m\u001b[38;5;241;43m.\u001b[39;49m\u001b[43mreport_sections\u001b[49m)\u001b[38;5;132;01m}\u001b[39;00m\u001b[38;5;124m\"\u001b[39m)\n\u001b[1;32m     99\u001b[0m     \u001b[38;5;28mprint\u001b[39m(\u001b[38;5;124mf\u001b[39m\u001b[38;5;124m\"\u001b[39m\u001b[38;5;124m- Key Findings: \u001b[39m\u001b[38;5;132;01m{\u001b[39;00m\u001b[38;5;28mlen\u001b[39m(report\u001b[38;5;241m.\u001b[39mkey_findings)\u001b[38;5;132;01m}\u001b[39;00m\u001b[38;5;124m\"\u001b[39m)\n\u001b[1;32m    100\u001b[0m     \u001b[38;5;28mprint\u001b[39m(\u001b[38;5;124mf\u001b[39m\u001b[38;5;124m\"\u001b[39m\u001b[38;5;124m- Information Gaps: \u001b[39m\u001b[38;5;132;01m{\u001b[39;00m\u001b[38;5;28mlen\u001b[39m(report\u001b[38;5;241m.\u001b[39minformation_gaps)\u001b[38;5;132;01m}\u001b[39;00m\u001b[38;5;124m\"\u001b[39m)\n",
      "\u001b[0;31mAttributeError\u001b[0m: 'NoneType' object has no attribute 'report_sections'"
     ]
    }
   ],
   "source": [
    "from typing import List, Optional\n",
    "from pydantic import BaseModel, Field\n",
    "from core import BaseCall, system_msg, user_msg\n",
    "import pandas as pd\n",
    "from datetime import datetime\n",
    "from typing import List, Optional, Set\n",
    "from pydantic import BaseModel, Field\n",
    "from core import BaseCall, system_msg, user_msg, assistant_msg\n",
    "import pandas as pd\n",
    "from datetime import datetime\n",
    "\n",
    "class FollowUpSearch(BaseModel):\n",
    "    query: str = Field(..., description=\"Follow-up search query\")\n",
    "    rationale: str = Field(..., description=\"Reason for this follow-up search\")\n",
    "    priority: int = Field(..., ge=1, le=5, description=\"Priority level (1-5)\")\n",
    "    focus_areas: List[str] = Field(..., description=\"Specific areas or topics to focus on\")\n",
    "\n",
    "class ReportSection(BaseModel):\n",
    "    title: str = Field(..., description=\"Section title\")\n",
    "    content: str = Field(..., description=\"Section content\")\n",
    "    confidence: float = Field(..., ge=0, le=1, description=\"Confidence score for this section\")\n",
    "    sources: List[int] = Field(..., description=\"Source indices that support this section\")\n",
    "\n",
    "\n",
    "class SearchReport(BaseCall):\n",
    "    \"\"\"Generates structured report and follow-up searches from search results\"\"\"\n",
    "    \n",
    "    report_sections: List[ReportSection] = Field(\n",
    "        ..., \n",
    "        description=\"Organized sections of the report\"\n",
    "    )\n",
    "    \n",
    "    key_findings: List[str] = Field(\n",
    "        ..., \n",
    "        description=\"Main insights extracted from the search results\"\n",
    "    )\n",
    "    \n",
    "    information_gaps: List[str] = Field(\n",
    "        ..., \n",
    "        description=\"Identified gaps in current information\"\n",
    "    )\n",
    "    \n",
    "    follow_up_searches: List[FollowUpSearch] = Field(\n",
    "        ..., \n",
    "        max_items=5,\n",
    "        description=\"Suggested follow-up searches to fill information gaps\"\n",
    "    )\n",
    "    \n",
    "    context_quality: float = Field(\n",
    "        ..., \n",
    "        ge=0, \n",
    "        le=1,\n",
    "        description=\"Overall quality score of available context\"\n",
    "    )\n",
    "\n",
    "    @classmethod\n",
    "    async def extract(cls, \n",
    "                     df: pd.DataFrame,\n",
    "                     original_query: str,\n",
    "                     previous_findings: List[str] = None,\n",
    "                     explored_queries: Set[str] = None,\n",
    "                     use_cache: bool = False) -> \"SearchReport\":\n",
    "        \n",
    "        # Initialize tracking of explored queries\n",
    "        if explored_queries is None:\n",
    "            explored_queries = set()\n",
    "        if previous_findings is None:\n",
    "            previous_findings = []\n",
    "            \n",
    "        # Format DataFrame for context\n",
    "        context = df[['meeting_timestamp', 'speaker_name', 'topic_name', 'summary', 'details']].to_string()\n",
    "        \n",
    "        # Build cumulative context from previous findings\n",
    "        cumulative_context = \"\\n\\nPrevious Findings:\\n\" + \"\\n\".join(previous_findings) if previous_findings else \"\"\n",
    "        \n",
    "        messages = [\n",
    "            system_msg(\"\"\"You are an analytical search assistant conducting an iterative research process. Your task is to:\n",
    "            1. Analyze search results and create a structured report\n",
    "            2. Identify information gaps\n",
    "            3. Suggest strategic follow-up searches that build upon previous findings\n",
    "            4. Rate information quality and confidence\n",
    "            5. Ensure follow-up searches explore new angles while avoiding redundancy\n",
    "            \n",
    "            Be precise, evidence-based, and never speculate beyond available data.\"\"\"),\n",
    "            \n",
    "            user_msg(f\"\"\"Original Query: {original_query}\n",
    "\n",
    "Search Results Context:\n",
    "{context}\n",
    "{cumulative_context}\n",
    "\n",
    "Previously Explored Queries: {', '.join(explored_queries) if explored_queries else 'None'}\n",
    "\n",
    "Generate a comprehensive report with strategic follow-up searches that build upon our current understanding.\"\"\")\n",
    "        ]\n",
    "        \n",
    "        return await cls.call(messages, model=\"default\", use_cache=use_cache)\n",
    "\n",
    "async def conduct_iterative_research(\n",
    "    search_engine,\n",
    "    initial_query: str,\n",
    "    max_iterations: int = 5,\n",
    "    min_context_quality: float = 0.8\n",
    ") -> List[SearchReport]:\n",
    "    \"\"\"\n",
    "    Conduct iterative research by following up on gaps and building context\n",
    "    \"\"\"\n",
    "    reports = []\n",
    "    explored_queries = set([initial_query])\n",
    "    cumulative_findings = []\n",
    "    todo_queries = [initial_query]\n",
    "    \n",
    "    while len(reports) < max_iterations and todo_queries:\n",
    "        current_query = todo_queries.pop(0)\n",
    "        \n",
    "        # Execute search\n",
    "        results = search_engine.search(\n",
    "            query=current_query,\n",
    "            k=200,\n",
    "            min_similarity=0.49,\n",
    "            exact_match_boost=0.3,\n",
    "            return_scores=True\n",
    "        )\n",
    "        \n",
    "        # Generate report with cumulative context\n",
    "        report = await SearchReport.extract(\n",
    "            df=results,\n",
    "            original_query=current_query,\n",
    "            previous_findings=cumulative_findings,\n",
    "            explored_queries=explored_queries\n",
    "        )\n",
    "        \n",
    "        reports.append(report)\n",
    "        \n",
    "        # Update cumulative findings\n",
    "        cumulative_findings.extend(report.key_findings)\n",
    "        \n",
    "        # Add new follow-up searches to todo list, avoiding duplicates\n",
    "        new_queries = [\n",
    "            search.query for search in report.follow_up_searches\n",
    "            if search.query not in explored_queries\n",
    "            and search.priority >= 3  # Only follow high-priority leads\n",
    "        ]\n",
    "        todo_queries.extend(new_queries)\n",
    "        explored_queries.update(new_queries)\n",
    "        \n",
    "        # Check if we've reached sufficient context quality\n",
    "        if report.context_quality >= min_context_quality:\n",
    "            print(f\"Reached sufficient context quality: {report.context_quality}\")\n",
    "            break\n",
    "            \n",
    "        print(f\"Completed iteration {len(reports)}/{max_iterations}. \"\n",
    "              f\"Context quality: {report.context_quality}\")\n",
    "    \n",
    "    return reports\n",
    "\n",
    "# Example usage:\n",
    "reports = []\n",
    "todo_queries = []\n",
    "todo_queries.append('vexa')\n",
    "\n",
    "# Initial search\n",
    "q = todo_queries.pop(0)\n",
    "results = search_engine.search(\n",
    "    query=q,\n",
    "    k=200,\n",
    "    min_similarity=0.49,\n",
    "    exact_match_boost=0.3,\n",
    "    return_scores=True\n",
    ")\n",
    "\n",
    "# Start iterative research\n",
    "reports = await conduct_iterative_research(search_engine, q)\n",
    "\n",
    "# Access cumulative findings\n",
    "all_findings = []\n",
    "for r in reports:\n",
    "    all_findings.extend(r.key_findings)"
   ]
  },
  {
   "cell_type": "code",
   "execution_count": 93,
   "metadata": {},
   "outputs": [],
   "source": [
    "reports = []\n",
    "todo_queries = []\n",
    "todo_queries.append('vexa')"
   ]
  },
  {
   "cell_type": "code",
   "execution_count": 120,
   "metadata": {},
   "outputs": [
    {
     "name": "stdout",
     "output_type": "stream",
     "text": [
      "Timeline for Vexa's paid plan rollout\n"
     ]
    },
    {
     "data": {
      "text/html": [
       "<div>\n",
       "<style scoped>\n",
       "    .dataframe tbody tr th:only-of-type {\n",
       "        vertical-align: middle;\n",
       "    }\n",
       "\n",
       "    .dataframe tbody tr th {\n",
       "        vertical-align: top;\n",
       "    }\n",
       "\n",
       "    .dataframe thead th {\n",
       "        text-align: right;\n",
       "    }\n",
       "</style>\n",
       "<table border=\"1\" class=\"dataframe\">\n",
       "  <thead>\n",
       "    <tr style=\"text-align: right;\">\n",
       "      <th></th>\n",
       "      <th>topic_name</th>\n",
       "      <th>speaker_name</th>\n",
       "      <th>summary</th>\n",
       "      <th>details</th>\n",
       "      <th>meeting_timestamp</th>\n",
       "      <th>similarity_score</th>\n",
       "    </tr>\n",
       "  </thead>\n",
       "  <tbody>\n",
       "    <tr>\n",
       "      <th>1654</th>\n",
       "      <td>Plans for rolling out a paid plan for Vexa</td>\n",
       "      <td>Dmitry Grankin</td>\n",
       "      <td>Dmitry Grankin discussed plans to introduce a ...</td>\n",
       "      <td>The paid plan aims to generate revenue to cove...</td>\n",
       "      <td>2024-08-30 10:29:05.146</td>\n",
       "      <td>0.678391</td>\n",
       "    </tr>\n",
       "    <tr>\n",
       "      <th>1488</th>\n",
       "      <td>paid plan</td>\n",
       "      <td>Ahmed Abdelaziz</td>\n",
       "      <td>A paid plan is a subscription model that allow...</td>\n",
       "      <td>Ahmed inquires about the rollout of a paid pla...</td>\n",
       "      <td>2024-08-30 10:29:05.146</td>\n",
       "      <td>0.538884</td>\n",
       "    </tr>\n",
       "    <tr>\n",
       "      <th>2146</th>\n",
       "      <td>Vexa</td>\n",
       "      <td>Dmitriy Grankin</td>\n",
       "      <td>Vexa is a venture-backed startup focused on de...</td>\n",
       "      <td>Vexa aims to provide tools that highlight key ...</td>\n",
       "      <td>2024-09-04 15:00:03.180</td>\n",
       "      <td>0.500262</td>\n",
       "    </tr>\n",
       "    <tr>\n",
       "      <th>2449</th>\n",
       "      <td>Introduction of Vexa startup and its current p...</td>\n",
       "      <td>Dmitriy Grankin</td>\n",
       "      <td>Dmitriy Grankin introduced Vexa, a startup foc...</td>\n",
       "      <td>Vexa is incorporated in the USA and has been i...</td>\n",
       "      <td>2024-09-06 16:22:35.780</td>\n",
       "      <td>0.498155</td>\n",
       "    </tr>\n",
       "    <tr>\n",
       "      <th>2502</th>\n",
       "      <td>Vexa</td>\n",
       "      <td>Olga Nemirovskaya</td>\n",
       "      <td>Vexa is a product being discussed in the meeti...</td>\n",
       "      <td>The team is considering how to improve user ac...</td>\n",
       "      <td>2024-09-06 19:03:43.560</td>\n",
       "      <td>0.494625</td>\n",
       "    </tr>\n",
       "    <tr>\n",
       "      <th>1652</th>\n",
       "      <td>Discussion about Vexa's updates and features</td>\n",
       "      <td>Dmitry Grankin</td>\n",
       "      <td>Dmitry Grankin provided updates on Vexa's feat...</td>\n",
       "      <td>Vexa now delivers transcripts in real-time and...</td>\n",
       "      <td>2024-08-30 10:29:05.146</td>\n",
       "      <td>0.494579</td>\n",
       "    </tr>\n",
       "    <tr>\n",
       "      <th>676</th>\n",
       "      <td>Vexa</td>\n",
       "      <td>Dmitry Grankin</td>\n",
       "      <td>Vexa is a product discussed in the meeting, fo...</td>\n",
       "      <td>Vexa is currently in the testing phase with a ...</td>\n",
       "      <td>2024-09-30 10:01:22.780</td>\n",
       "      <td>0.493481</td>\n",
       "    </tr>\n",
       "  </tbody>\n",
       "</table>\n",
       "</div>"
      ],
      "text/plain": [
       "                                             topic_name       speaker_name  \\\n",
       "1654         Plans for rolling out a paid plan for Vexa     Dmitry Grankin   \n",
       "1488                                          paid plan    Ahmed Abdelaziz   \n",
       "2146                                               Vexa    Dmitriy Grankin   \n",
       "2449  Introduction of Vexa startup and its current p...    Dmitriy Grankin   \n",
       "2502                                               Vexa  Olga Nemirovskaya   \n",
       "1652       Discussion about Vexa's updates and features     Dmitry Grankin   \n",
       "676                                                Vexa     Dmitry Grankin   \n",
       "\n",
       "                                                summary  \\\n",
       "1654  Dmitry Grankin discussed plans to introduce a ...   \n",
       "1488  A paid plan is a subscription model that allow...   \n",
       "2146  Vexa is a venture-backed startup focused on de...   \n",
       "2449  Dmitriy Grankin introduced Vexa, a startup foc...   \n",
       "2502  Vexa is a product being discussed in the meeti...   \n",
       "1652  Dmitry Grankin provided updates on Vexa's feat...   \n",
       "676   Vexa is a product discussed in the meeting, fo...   \n",
       "\n",
       "                                                details  \\\n",
       "1654  The paid plan aims to generate revenue to cove...   \n",
       "1488  Ahmed inquires about the rollout of a paid pla...   \n",
       "2146  Vexa aims to provide tools that highlight key ...   \n",
       "2449  Vexa is incorporated in the USA and has been i...   \n",
       "2502  The team is considering how to improve user ac...   \n",
       "1652  Vexa now delivers transcripts in real-time and...   \n",
       "676   Vexa is currently in the testing phase with a ...   \n",
       "\n",
       "           meeting_timestamp  similarity_score  \n",
       "1654 2024-08-30 10:29:05.146          0.678391  \n",
       "1488 2024-08-30 10:29:05.146          0.538884  \n",
       "2146 2024-09-04 15:00:03.180          0.500262  \n",
       "2449 2024-09-06 16:22:35.780          0.498155  \n",
       "2502 2024-09-06 19:03:43.560          0.494625  \n",
       "1652 2024-08-30 10:29:05.146          0.494579  \n",
       "676  2024-09-30 10:01:22.780          0.493481  "
      ]
     },
     "execution_count": 120,
     "metadata": {},
     "output_type": "execute_result"
    }
   ],
   "source": [
    "q = todo_queries.pop(0)\n",
    "print(q)\n",
    "results = search_engine.search(\n",
    "    query=q,\n",
    "    k=200,\n",
    "    min_similarity=0.49,\n",
    "    exact_match_boost=0.3,  # Moderate boost for exact matches\n",
    "    return_scores=True\n",
    ")\n",
    "results[['topic_name','speaker_name','summary','details','meeting_timestamp','similarity_score']]"
   ]
  },
  {
   "cell_type": "code",
   "execution_count": 121,
   "metadata": {},
   "outputs": [],
   "source": [
    "report = await SearchReport.extract(results,q)\n",
    "reports.append(report)\n",
    "todo_queries.extend([r.query for r in report.follow_up_searches])"
   ]
  },
  {
   "cell_type": "code",
   "execution_count": 122,
   "metadata": {},
   "outputs": [
    {
     "data": {
      "text/plain": [
       "['User acquisition strategies for Vexa',\n",
       " \"Feedback on Vexa's interface and usability\",\n",
       " \"Sustainability of Vexa's pricing model\",\n",
       " 'Comparison of Vexa and VEX features and pricing',\n",
       " 'User demographics for audio transcription products',\n",
       " 'Effectiveness of influencer marketing in tech startups',\n",
       " 'Technological advancements in audio transcription',\n",
       " 'User feedback on Vexa and similar products',\n",
       " 'User demographics for Vexa',\n",
       " 'User acquisition and retention metrics for Vexa',\n",
       " 'Competitive analysis of Vexa in the meeting assistant market',\n",
       " 'User feedback and reviews on Vexa',\n",
       " 'Marketing strategies for tech startups in Brazil',\n",
       " 'Vexa user retention rates statistics',\n",
       " \"Effectiveness of Vexa's marketing strategies\",\n",
       " 'User demographics and behavior for Vexa',\n",
       " 'User feedback on Vexa interface improvements',\n",
       " 'Competitor analysis for user retention in similar products',\n",
       " 'Vexa paid plan rollout timeline',\n",
       " \"Features included in Vexa's paid version\",\n",
       " 'User feedback implementation in Vexa updates',\n",
       " 'Vexa marketing strategies in Brazil',\n",
       " 'User experience improvements for Vexa',\n",
       " \"Detailed features of Vexa's paid plan\",\n",
       " \"Timeline for Vexa's paid plan rollout\",\n",
       " \"Comparison of Vexa's free and paid plans\",\n",
       " \"User feedback on Vexa's paid plan\",\n",
       " \"Sustainability of Vexa's pricing model\",\n",
       " \"Timeline for Vexa's paid plan rollout\",\n",
       " \"Pricing structure of Vexa's paid plan\",\n",
       " \"Features included in Vexa's paid plan\",\n",
       " \"User feedback on Vexa's current features\",\n",
       " \"Marketing strategies for Vexa's paid plan\"]"
      ]
     },
     "execution_count": 122,
     "metadata": {},
     "output_type": "execute_result"
    }
   ],
   "source": [
    "todo_queries"
   ]
  },
  {
   "cell_type": "code",
   "execution_count": 128,
   "metadata": {},
   "outputs": [
    {
     "data": {
      "text/plain": [
       "[['Vexa is a real-time meeting assistant focused on enhancing productivity through transcription and contextual support.',\n",
       "  'The product is currently in the testing phase and aims to improve its market presence through user feedback and marketing strategies.',\n",
       "  'User feedback highlights both positive experiences with the interface and concerns regarding usability and visibility.',\n",
       "  'Marketing efforts are primarily through influencer partnerships and social media, but user acquisition remains low due to limited outreach.',\n",
       "  'Future plans include a paid plan rollout and the development of collaborative features.'],\n",
       " ['Vexa is planning to introduce a paid subscription model to generate revenue.',\n",
       "  'The proposed pricing includes a lifetime deal at approximately $200 per user.',\n",
       "  'Current free plan features may be adjusted to encourage upgrades to paid plans.',\n",
       "  'User feedback indicates a need for interface improvements and better marketing strategies.'],\n",
       " ['Vexa is in the pre-seed stage and focuses on real-time transcription and meeting assistance.',\n",
       "  'Marketing efforts are currently limited, affecting user acquisition despite good retention rates.',\n",
       "  'User feedback highlights interface issues that need addressing for better usability.',\n",
       "  'Vexa competes with products like VEX, which also offers transcription and meeting assistance features.'],\n",
       " ['Vexa is a real-time meeting assistant that focuses on enhancing communication and productivity during meetings.',\n",
       "  'Current marketing efforts are limited, resulting in low user numbers despite positive retention rates.',\n",
       "  'User feedback indicates significant interface issues that need to be addressed to improve overall user experience.'],\n",
       " ['User retention rates for Vexa are positive, but the total user base is low due to limited marketing efforts.',\n",
       "  'Vexa currently has around 200 free users, with gradual growth expected as user feedback is implemented.',\n",
       "  'Marketing strategies are being discussed to improve user acquisition and retention.',\n",
       "  'User experience feedback highlights the need for interface improvements to enhance usability.'],\n",
       " ['Vexa is in the testing phase with real-time transcription features.',\n",
       "  'Plans for a paid version are underway to support operational costs.',\n",
       "  'User feedback is being actively sought to improve the interface and functionality.',\n",
       "  'Marketing strategies are being developed to enhance user acquisition, particularly in specific markets.'],\n",
       " ['Vexa is introducing a paid plan to enhance revenue generation.',\n",
       "  'Current features include real-time transcription and contextual support during meetings.',\n",
       "  'A proposed lifetime deal for the paid plan is around $200 per user, but sustainability concerns exist.',\n",
       "  'User feedback suggests the need for a more structured free plan to encourage upgrades.'],\n",
       " ['Vexa is planning to introduce a paid plan as part of its growth strategy.',\n",
       "  'The paid plan is crucial for generating revenue to cover operational costs.',\n",
       "  'Vexa is currently in the pre-seed stage and refining its product features.',\n",
       "  'User engagement and marketing strategies are being developed to support the rollout.']]"
      ]
     },
     "execution_count": 128,
     "metadata": {},
     "output_type": "execute_result"
    }
   ],
   "source": [
    "[r.model_dump()['key_findings'] for r in reports]\n",
    "\n"
   ]
  },
  {
   "cell_type": "code",
   "execution_count": 133,
   "metadata": {},
   "outputs": [],
   "source": [
    "from core import generic_call_stream"
   ]
  },
  {
   "cell_type": "code",
   "execution_count": 138,
   "metadata": {},
   "outputs": [
    {
     "name": "stdout",
     "output_type": "stream",
     "text": [
      "Vexa is a real-time meeting assistant currently in the testing phase, aimed at enhancing productivity through transcription and contextual support. User feedback has been mixed, with positive comments on the interface but concerns regarding usability and visibility. The product is facing challenges in user acquisition due to limited marketing efforts, primarily relying on influencer partnerships and social media, despite having good user retention rates.\n",
      "\n",
      "Vexa plans to introduce a paid subscription model, proposing a lifetime deal at approximately $200 per user, while considering adjustments to current free plan features to encourage upgrades. The company is in the pre-seed stage and is focused on refining its product, with plans for collaborative features and improved marketing strategies to boost user acquisition.\n",
      "\n",
      "Current user numbers are low, with around 200 free users, but gradual growth is anticipated as user feedback is implemented. Key areas for improvement include the interface and overall usability, which are critical for enhancing the user experience. Vexa competes with similar products like VEX and is actively seeking user feedback to inform its development and marketing strategies. Overall, Vexa's future growth will depend on addressing user concerns, refining its features, and effectively marketing its offerings.\n"
     ]
    },
    {
     "name": "stderr",
     "output_type": "stream",
     "text": [
      "/tmp/ipykernel_2127239/2407120628.py:1: RuntimeWarning: coroutine 'generic_call_stream' was never awaited\n",
      "  r = await generic_call_stream(\n",
      "RuntimeWarning: Enable tracemalloc to get the object allocation traceback\n"
     ]
    }
   ],
   "source": [
    "r = await generic_call_stream(\n",
    "    messages=[\n",
    "        system_msg(\"summarize findings\"),\n",
    "        user_msg(' '.join([' '.join(r.model_dump()['key_findings']) for r in reports]))\n",
    "    ],\n",
    ")"
   ]
  },
  {
   "cell_type": "code",
   "execution_count": 140,
   "metadata": {},
   "outputs": [
    {
     "data": {
      "text/markdown": [
       "Vexa is a real-time meeting assistant currently in the testing phase, aimed at enhancing productivity through transcription and contextual support. User feedback has been mixed, with positive comments on the interface but concerns regarding usability and visibility. The product is facing challenges in user acquisition due to limited marketing efforts, primarily relying on influencer partnerships and social media, despite having good user retention rates.\n",
       "\n",
       "Vexa plans to introduce a paid subscription model, proposing a lifetime deal at approximately $200 per user, while considering adjustments to current free plan features to encourage upgrades. The company is in the pre-seed stage and is focused on refining its product, with plans for collaborative features and improved marketing strategies to boost user acquisition.\n",
       "\n",
       "Current user numbers are low, with around 200 free users, but gradual growth is anticipated as user feedback is implemented. Key areas for improvement include the interface and overall usability, which are critical for enhancing the user experience. Vexa competes with similar products like VEX and is actively seeking user feedback to inform its development and marketing strategies. Overall, Vexa's future growth will depend on addressing user concerns, refining its features, and effectively marketing its offerings."
      ],
      "text/plain": [
       "<IPython.core.display.Markdown object>"
      ]
     },
     "execution_count": 140,
     "metadata": {},
     "output_type": "execute_result"
    }
   ],
   "source": [
    "from IPython import display\n",
    "display.Markdown(r)"
   ]
  },
  {
   "cell_type": "code",
   "execution_count": 139,
   "metadata": {},
   "outputs": [
    {
     "data": {
      "text/plain": [
       "\"Vexa is a real-time meeting assistant currently in the testing phase, aimed at enhancing productivity through transcription and contextual support. User feedback has been mixed, with positive comments on the interface but concerns regarding usability and visibility. The product is facing challenges in user acquisition due to limited marketing efforts, primarily relying on influencer partnerships and social media, despite having good user retention rates.\\n\\nVexa plans to introduce a paid subscription model, proposing a lifetime deal at approximately $200 per user, while considering adjustments to current free plan features to encourage upgrades. The company is in the pre-seed stage and is focused on refining its product, with plans for collaborative features and improved marketing strategies to boost user acquisition.\\n\\nCurrent user numbers are low, with around 200 free users, but gradual growth is anticipated as user feedback is implemented. Key areas for improvement include the interface and overall usability, which are critical for enhancing the user experience. Vexa competes with similar products like VEX and is actively seeking user feedback to inform its development and marketing strategies. Overall, Vexa's future growth will depend on addressing user concerns, refining its features, and effectively marketing its offerings.\""
      ]
     },
     "execution_count": 139,
     "metadata": {},
     "output_type": "execute_result"
    }
   ],
   "source": [
    "r"
   ]
  },
  {
   "cell_type": "code",
   "execution_count": null,
   "metadata": {},
   "outputs": [],
   "source": []
  }
 ],
 "metadata": {
  "kernelspec": {
   "display_name": "langchain",
   "language": "python",
   "name": "python3"
  },
  "language_info": {
   "codemirror_mode": {
    "name": "ipython",
    "version": 3
   },
   "file_extension": ".py",
   "mimetype": "text/x-python",
   "name": "python",
   "nbconvert_exporter": "python",
   "pygments_lexer": "ipython3",
   "version": "3.11.2"
  }
 },
 "nbformat": 4,
 "nbformat_minor": 2
}
