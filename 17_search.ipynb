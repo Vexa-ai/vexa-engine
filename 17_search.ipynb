{
 "cells": [
  {
   "cell_type": "code",
   "execution_count": 10,
   "metadata": {},
   "outputs": [
    {
     "name": "stdout",
     "output_type": "stream",
     "text": [
      "The autoreload extension is already loaded. To reload it, use:\n",
      "  %reload_ext autoreload\n"
     ]
    }
   ],
   "source": [
    "# 17_search.ipynb\n",
    "\n",
    "%load_ext autoreload\n",
    "%autoreload 2\n",
    "\n",
    "import sys\n",
    "sys.path.append('/app')"
   ]
  },
  {
   "cell_type": "code",
   "execution_count": 11,
   "metadata": {},
   "outputs": [],
   "source": [
    "from new_indexing import reset_indices,process_meetings\n",
    "from vexa import VexaAPI\n",
    "from qdrant_search import QdrantSearchEngine\n",
    "from bm25_search import ElasticsearchBM25\n",
    "voyage_apikey = 'pa-g4x1yHL4Hv6qBjXcrT2Nhm5gG0srlDhVBp6Op7_IJBQ'\n"
   ]
  },
  {
   "cell_type": "code",
   "execution_count": 12,
   "metadata": {},
   "outputs": [
    {
     "name": "stdout",
     "output_type": "stream",
     "text": [
      "Vexa token: 3ae04e20124d40babc5107e658c666b6\n",
      "Connecting to Elasticsearch at elasticsearch:9200\n"
     ]
    }
   ],
   "source": [
    "vexa = VexaAPI()\n",
    "qdrant_engine = QdrantSearchEngine(voyage_apikey)\n",
    "es_engine = ElasticsearchBM25()"
   ]
  },
  {
   "cell_type": "code",
   "execution_count": 13,
   "metadata": {},
   "outputs": [
    {
     "name": "stdout",
     "output_type": "stream",
     "text": [
      "Error deleting Elasticsearch index: 'ElasticsearchBM25' object has no attribute 'client'\n",
      "Created new Elasticsearch index\n",
      "Deleted Qdrant collection: meeting_chunks\n"
     ]
    },
    {
     "name": "stdout",
     "output_type": "stream",
     "text": [
      "Created new Qdrant collection\n"
     ]
    }
   ],
   "source": [
    "await reset_indices(es_engine, qdrant_engine)"
   ]
  },
  {
   "cell_type": "code",
   "execution_count": 14,
   "metadata": {},
   "outputs": [
    {
     "name": "stdout",
     "output_type": "stream",
     "text": [
      "Request URL: http://host.docker.internal:8001/api/v1/calls/all\n",
      "Request Params: {'token': '3ae04e20124d40babc5107e658c666b6'}\n"
     ]
    }
   ],
   "source": [
    "meetings = await vexa.get_meetings()"
   ]
  },
  {
   "cell_type": "code",
   "execution_count": 15,
   "metadata": {},
   "outputs": [],
   "source": [
    "meetings = meetings[-50:]"
   ]
  },
  {
   "cell_type": "code",
   "execution_count": 16,
   "metadata": {},
   "outputs": [
    {
     "name": "stdout",
     "output_type": "stream",
     "text": [
      "Error processing meeting 851092b9-5019-4be1-9749-df479b1e6cd6: cannot unpack non-iterable NoneType object\n"
     ]
    },
    {
     "name": "stderr",
     "output_type": "stream",
     "text": [
      "/app/new_indexing.py:71: FutureWarning: DataFrame.fillna with 'method' is deprecated and will raise in a future version. Use obj.ffill() or obj.bfill() instead.\n",
      "  df = df[['formatted_time','topic','content','speaker']].fillna(method='ffill')\n"
     ]
    },
    {
     "name": "stdout",
     "output_type": "stream",
     "text": [
      "The document contains a brief test message in Russian, indicating a verification of communication or connection.\n",
      "Processed meeting 6a115a4d-ef35-41e0-8f51-8d648d523da0 - indexed to both Qdrant and Elasticsearch\n"
     ]
    },
    {
     "name": "stderr",
     "output_type": "stream",
     "text": [
      "/app/new_indexing.py:71: FutureWarning: DataFrame.fillna with 'method' is deprecated and will raise in a future version. Use obj.ffill() or obj.bfill() instead.\n",
      "  df = df[['formatted_time','topic','content','speaker']].fillna(method='ffill')\n"
     ]
    },
    {
     "name": "stdout",
     "output_type": "stream",
     "text": [
      "The document contains a brief message intended to verify communication functionality.\n",
      "Processed meeting a4d20e6e-6eb2-4dac-ba63-7f1d241b357e - indexed to both Qdrant and Elasticsearch\n"
     ]
    },
    {
     "name": "stderr",
     "output_type": "stream",
     "text": [
      "/app/new_indexing.py:71: FutureWarning: DataFrame.fillna with 'method' is deprecated and will raise in a future version. Use obj.ffill() or obj.bfill() instead.\n",
      "  df = df[['formatted_time','topic','content','speaker']].fillna(method='ffill')\n"
     ]
    },
    {
     "name": "stdout",
     "output_type": "stream",
     "text": [
      "The document consists of a dialogue discussing the status of a connection check, with alternating responses indicating whether it is working or not, followed by a brief commentary on the speed of the responses and a concluding remark.\n",
      "The chunk reflects a moment of realization or agreement in a conversation about the functionality of a system, following a discussion on the reliability of communication checks.\n",
      "The chunk expresses a feeling of confusion or surprise regarding the speed of a previous discussion about connectivity checks, which is a recurring theme in the document.\n",
      "The document consists of a series of statements regarding the functionality of a connection, alternating between working and not working, followed by a brief commentary on the speed of the communication. The chunk \"Finish ball.\" appears as a concluding remark, possibly indicating the end of a discussion or task related to the connection checks.\n",
      "Processed meeting 6132de2e-3d0a-4a94-b10e-0460fa613d81 - indexed to both Qdrant and Elasticsearch\n"
     ]
    },
    {
     "name": "stderr",
     "output_type": "stream",
     "text": [
      "/app/new_indexing.py:71: FutureWarning: DataFrame.fillna with 'method' is deprecated and will raise in a future version. Use obj.ffill() or obj.bfill() instead.\n",
      "  df = df[['formatted_time','topic','content','speaker']].fillna(method='ffill')\n"
     ]
    },
    {
     "name": "stdout",
     "output_type": "stream",
     "text": [
      "The document appears to be a communication or test message, likely intended to confirm connectivity or functionality, as indicated by the repeated phrase \"Проверка связи\" (Check connection).\n",
      "Processed meeting f5114d1b-b319-4474-8d7e-24f96fd5241b - indexed to both Qdrant and Elasticsearch\n"
     ]
    },
    {
     "name": "stderr",
     "output_type": "stream",
     "text": [
      "/app/new_indexing.py:71: FutureWarning: DataFrame.fillna with 'method' is deprecated and will raise in a future version. Use obj.ffill() or obj.bfill() instead.\n",
      "  df = df[['formatted_time','topic','content','speaker']].fillna(method='ffill')\n"
     ]
    },
    {
     "name": "stdout",
     "output_type": "stream",
     "text": [
      "Документ описывает процесс тестирования и оценки работы системы после проведенной интервенции, включая результаты и выводы.\n",
      "Processed meeting 5738f21e-7b78-41bc-84d9-cb0bbbc24c12 - indexed to both Qdrant and Elasticsearch\n"
     ]
    },
    {
     "name": "stderr",
     "output_type": "stream",
     "text": [
      "/app/new_indexing.py:71: FutureWarning: DataFrame.fillna with 'method' is deprecated and will raise in a future version. Use obj.ffill() or obj.bfill() instead.\n",
      "  df = df[['formatted_time','topic','content','speaker']].fillna(method='ffill')\n"
     ]
    },
    {
     "name": "stdout",
     "output_type": "stream",
     "text": [
      "The chunk \"Thank you so much.\" is part of a conversation where individuals are discussing a pending decision or response related to a request, indicating a moment of gratitude amidst a dialogue about the status of that request.\n",
      "The chunk is part of a conversation where individuals are discussing the status of a decision or response, indicating a moment of anticipation or inquiry about the outcome.\n",
      "The document appears to involve a discussion about a process or system that is expected to provide a solution or response, but is currently failing to do so, prompting a question about the reason for this failure.\n",
      "The document appears to involve a discussion about a system or process that is expected to provide responses or solutions based on specific requests, with a focus on the reasons for a lack of response in a particular instance.\n",
      "Processed meeting a4ed2674-b383-4d2d-992c-d85ade04d21a - indexed to both Qdrant and Elasticsearch\n"
     ]
    },
    {
     "name": "stderr",
     "output_type": "stream",
     "text": [
      "/app/new_indexing.py:71: FutureWarning: DataFrame.fillna with 'method' is deprecated and will raise in a future version. Use obj.ffill() or obj.bfill() instead.\n",
      "  df = df[['formatted_time','topic','content','speaker']].fillna(method='ffill')\n"
     ]
    },
    {
     "name": "stdout",
     "output_type": "stream",
     "text": [
      "The document discusses the importance of being cautious when interacting with users, highlighting a specific instance or experience that emphasizes this need for careful communication.\n",
      "The document discusses the importance of being cautious when interacting with users, with a specific focus on a personal experience or situation that occurred during the night.\n",
      "The document discusses the importance of being cautious when interacting with users, indicating a situation or experience that has led to this realization, culminating in the statement about the current circumstances providing clarity or understanding.\n",
      "The document discusses the need for caution when interacting with users, indicating a situation or issue that has arisen, leading to the response \"Похоже, нет,\" which suggests a denial or negation of a previous statement or expectation.\n",
      "Processed meeting f22e2fd3-8e15-4b7e-8d14-076b3bbb50af - indexed to both Qdrant and Elasticsearch\n"
     ]
    },
    {
     "name": "stderr",
     "output_type": "stream",
     "text": [
      "/app/new_indexing.py:71: FutureWarning: DataFrame.fillna with 'method' is deprecated and will raise in a future version. Use obj.ffill() or obj.bfill() instead.\n",
      "  df = df[['formatted_time','topic','content','speaker']].fillna(method='ffill')\n"
     ]
    },
    {
     "name": "stdout",
     "output_type": "stream",
     "text": [
      "The chunk expresses a desire for repetition and emphasizes the need to revisit a previous point or action, indicating a focus on clarity or thoroughness in the discussion.\n",
      "The document appears to discuss the process of creating or identifying specific elements, with the chunk reflecting a hypothetical scenario or example related to this topic.\n",
      "Processed meeting cc46bac8-a4f1-404d-b07d-d2e2231d15d8 - indexed to both Qdrant and Elasticsearch\n"
     ]
    },
    {
     "name": "stderr",
     "output_type": "stream",
     "text": [
      "/app/new_indexing.py:71: FutureWarning: DataFrame.fillna with 'method' is deprecated and will raise in a future version. Use obj.ffill() or obj.bfill() instead.\n",
      "  df = df[['formatted_time','topic','content','speaker']].fillna(method='ffill')\n"
     ]
    },
    {
     "name": "stdout",
     "output_type": "stream",
     "text": [
      "The chunk is part of a conversation where Dmitriy Grankin is discussing technical issues and troubleshooting related to a session, indicating a collaborative effort to resolve problems.\n",
      "The chunk occurs during a discussion where Dmitriy Grankin is troubleshooting a session issue, expressing confusion and seeking clarification about the situation, indicating a collaborative problem-solving environment.\n",
      "The chunk is part of a conversation by Dmitriy Grankin discussing technical issues related to a session, expressing frustration about visibility and functionality, and indicating a need for something to appear or work correctly.\n",
      "The chunk is part of a conversation where Dmitriy Grankin discusses technical issues related to a session, including problems with visibility and speaker identification, indicating a troubleshooting scenario.\n",
      "The chunk is part of a conversation by Dmitriy Grankin, discussing technical issues related to a session, visibility of data, and potential errors in indicators, while also referencing a personal experience with \"Tempo de chuva.\"\n",
      "The chunk is part of a conversation by Dmitriy Grankin discussing technical issues related to a session, including questions about commits and their visibility in an analysis, amidst other troubleshooting remarks.\n",
      "The chunk is part of a conversation by Dmitriy Grankin, who is discussing technical issues and troubleshooting related to a session or project, expressing a desire to proceed with an experiment or task to see the outcome.\n",
      "The document consists of a conversation by Dmitriy Grankin discussing technical issues related to a session, visibility of elements, and a specific idea involving cookies, indicating a troubleshooting or development context. The chunk reflects his inquiry about the absence of a particular idea or element in the ongoing discussion.\n",
      "Processed meeting 361335a4-f97f-44b6-a0ba-aa2e81d74f88 - indexed to both Qdrant and Elasticsearch\n"
     ]
    },
    {
     "name": "stderr",
     "output_type": "stream",
     "text": [
      "/app/new_indexing.py:71: FutureWarning: DataFrame.fillna with 'method' is deprecated and will raise in a future version. Use obj.ffill() or obj.bfill() instead.\n",
      "  df = df[['formatted_time','topic','content','speaker']].fillna(method='ffill')\n"
     ]
    },
    {
     "name": "stdout",
     "output_type": "stream",
     "text": [
      "The chunk is part of a conversation where Dmitriy Grankin discusses trying out a new idea or plan, expressing anticipation for its outcome and indicating that it should become apparent soon. The surrounding text reveals ongoing technical issues and processes related to the idea being tested.\n",
      "The chunk is part of a conversation where Dmitriy Grankin discusses troubleshooting issues with a process related to a database, expressing confusion about the situation and observing the behavior of different processes.\n",
      "The chunk is part of a conversation where Dmitriy Grankin discusses technical issues related to processes and database performance, expressing confusion about the situation and mentioning another process that is affecting the current one.\n",
      "The chunk appears to be part of a troubleshooting discussion where Dmitriy Grankin is analyzing issues related to processes and database performance, expressing confusion about the behavior of certain processes and their interactions.\n",
      "The chunk is part of a conversation where Dmitriy Grankin discusses issues related to a project, specifically mentioning problems with a database and the unclear status of a process, indicating frustration with the situation.\n",
      "Processed meeting bb03116a-9a62-4196-8bad-c4322095a8a3 - indexed to both Qdrant and Elasticsearch\n"
     ]
    },
    {
     "name": "stderr",
     "output_type": "stream",
     "text": [
      "/app/new_indexing.py:71: FutureWarning: DataFrame.fillna with 'method' is deprecated and will raise in a future version. Use obj.ffill() or obj.bfill() instead.\n",
      "  df = df[['formatted_time','topic','content','speaker']].fillna(method='ffill')\n"
     ]
    },
    {
     "name": "stdout",
     "output_type": "stream",
     "text": [
      "The document is a test recording aimed at evaluating the recognition and recording of speakers, with the specific chunk expressing the intention behind the test.\n",
      "The document is a test recording where the speaker discusses the process of recording and recognizing speech, specifically noting the anticipation of a 15-second mark to assess the recording's quality.\n",
      "Processed meeting 257b078d-2ae6-4cfe-8456-b95f7cc8bec1 - indexed to both Qdrant and Elasticsearch\n"
     ]
    },
    {
     "name": "stderr",
     "output_type": "stream",
     "text": [
      "/app/new_indexing.py:71: FutureWarning: DataFrame.fillna with 'method' is deprecated and will raise in a future version. Use obj.ffill() or obj.bfill() instead.\n",
      "  df = df[['formatted_time','topic','content','speaker']].fillna(method='ffill')\n"
     ]
    },
    {
     "name": "stdout",
     "output_type": "stream",
     "text": [
      "The chunk is part of a conversation where Dmitriy Grankin is troubleshooting issues related to immutable objects and the loss of speech data within a database or processing system. He expresses confusion about the timing and reasons for the loss of this data while exploring various components of the system.\n",
      "The chunk occurs during a troubleshooting session where Dmitriy Grankin is examining the state of the database to understand issues related to immutable objects and the handling of speeches within a system.\n",
      "The chunk is part of a conversation where Dmitriy Grankin is troubleshooting issues related to speech data processing in a database, specifically checking the status of speeches and the functionality of a pipeline that manages these processes.\n",
      "The chunk is part of a discussion by Dmitriy Grankin about troubleshooting and understanding the processes related to speech data management, specifically focusing on the \"Speech Data Convert\" pipeline and its components within a larger system involving speakers and sessions.\n",
      "The chunk occurs during a troubleshooting session where Dmitriy Grankin is investigating issues related to immutable components and the handling of speeches in a database. He is examining the state of the speeches and confirming their presence in the system after performing certain actions.\n",
      "The chunk occurs during a troubleshooting session where Dmitriy Grankin is investigating issues related to speech processing and database interactions. He is discussing the execution of a specific pipeline related to closing meeting sessions and questioning whether a particular action he took had the desired effect.\n",
      "The chunk appears towards the end of a conversation where Dmitriy Grankin is discussing technical issues related to speech processing and database interactions. It interrupts the technical dialogue with a personal plea for privacy, indicating a shift from a focused work discussion to a moment of frustration or distraction.\n",
      "The document captures a conversation by Dmitriy Grankin as he troubleshoots issues related to immutable data structures, specifically focusing on the processes involved in saving and updating speakers and speeches within a database system. The chunk in question highlights his explanation of these processes amidst his exploration of the system's functionality.\n",
      "This chunk is part of a conversation by Dmitriy Grankin, where he is troubleshooting and discussing the processes related to saving and managing speech data within a database system. He reflects on the functionality of the system, the use of speakers, and the testing of various components in the context of a speech processing pipeline.\n",
      "Processed meeting c0b22605-f51f-4307-bbbc-d873fe21f4e8 - indexed to both Qdrant and Elasticsearch\n"
     ]
    },
    {
     "name": "stderr",
     "output_type": "stream",
     "text": [
      "/app/new_indexing.py:71: FutureWarning: DataFrame.fillna with 'method' is deprecated and will raise in a future version. Use obj.ffill() or obj.bfill() instead.\n",
      "  df = df[['formatted_time','topic','content','speaker']].fillna(method='ffill')\n"
     ]
    },
    {
     "name": "stdout",
     "output_type": "stream",
     "text": [
      "The chunk is part of a conversation where Dmitriy Grankin discusses the progress of a meeting and the functionality of a tool used for data transfer, indicating a focus on monitoring and evaluating the situation during the meeting.\n",
      "The chunk occurs during a technical discussion where Dmitriy Grankin is troubleshooting a system or software feature, expressing confusion about data handling or processing.\n",
      "The chunk occurs during a technical discussion where Dmitriy Grankin is troubleshooting a system that involves transferring data, expressing frustration about data not being saved properly.\n",
      "The chunk occurs during a discussion where Dmitriy Grankin is troubleshooting a technical issue related to a data transfer mechanism, expressing confusion about its functionality and performance.\n",
      "The chunk occurs during a discussion among participants about the functionality and performance of a specific tool or feature, with Dmitriy Grankin expressing observations about its operation and effectiveness.\n",
      "The chunk occurs during a conversation where Dmitriy Grankin is discussing the functionality of a tool and its performance, expressing confusion about its operation and results, before concluding with a casual farewell.\n",
      "The chunk occurs during a discussion about a tool or mechanism that is being manipulated or tested, following a series of questions and observations regarding its functionality and performance in a technical context.\n",
      "The chunk occurs during a technical discussion where Dmitriy Grankin is troubleshooting a system or software feature, expressing frustration and confusion about its functionality before concluding with a casual farewell.\n",
      "The document captures a conversation involving Dmitriy Grankin discussing the functionality of a tool that transfers data, expressing curiosity about its operation frequency and effectiveness during a meeting.\n",
      "The chunk occurs during a discussion between Dmitriy Grankin and others about the functionality of a tool that transfers data, where Dmitriy expresses confusion about the tool's accuracy and performance.\n",
      "The chunk occurs during a technical discussion where Dmitriy Grankin is troubleshooting a system or application, expressing frustration about a component not functioning properly, leading to the statement \"Dead.\"\n",
      "The chunk \"Yeah.\" appears at the end of a conversation where Dmitriy Grankin and others are discussing the functionality of a tool that transfers data, expressing confusion and troubleshooting issues related to its operation.\n",
      "The chunk occurs during a discussion between Dmitriy Grankin and others about the functionality of a tool that transfers data, specifically questioning why the data is not visibly descending as expected.\n",
      "The chunk occurs during a discussion led by Dmitriy Grankin, where he is inquiring about the location of a specific item or feature related to their ongoing project, amidst a conversation about the functionality of a tool they are using.\n",
      "The chunk occurs during a discussion between Dmitriy Grankin and others about the functionality of a tool that transfers data, where Dmitriy expresses confusion about why the data is not appearing as expected.\n",
      "The chunk is part of a conversation where Dmitriy Grankin discusses the functionality and frequency of a tool that transfers data, expressing uncertainty about its operation and suggesting to investigate further.\n",
      "The chunk occurs towards the end of a conversation where Dmitriy Grankin is discussing the functionality of a tool and expressing frustration about its performance, indicating a moment of urgency or a call for attention before continuing the discussion.\n",
      "The chunk occurs during a discussion among participants, where Dmitriy Grankin mentions \"53 минуты\" in the context of troubleshooting a technical issue related to a tool that transfers data, indicating a time reference in their ongoing conversation.\n",
      "The chunk occurs during a discussion between Dmitriy Grankin and others about the functionality of a tool that transfers data, where Dmitriy expresses uncertainty about its operation and suggests that there may be an issue on his end.\n",
      "The chunk appears during a conversation between Dmitriy Grankin and others, discussing the functionality of a tool that transfers data, with some technical issues and observations about its performance. The dialogue includes a mix of Russian and Polish, indicating a collaborative troubleshooting session.\n",
      "The chunk \"Yeah.\" appears at the end of a conversation where Dmitriy Grankin and others are discussing the functionality of a tool that transfers data, expressing confusion and troubleshooting issues related to its operation.\n",
      "The chunk appears during a technical discussion between Dmitriy Grankin and others about a software feature related to data transfer, indicating a shift in conversation to a more casual or informal tone, possibly referencing a character or phrase in Polish.\n",
      "The document captures a conversation involving Dmitriy Grankin discussing the functionality and performance of a tool that transfers data, expressing curiosity about its operational frequency and troubleshooting its visibility during the process.\n",
      "Processed meeting 8056a2ad-0c94-4654-b888-321c68e6174c - indexed to both Qdrant and Elasticsearch\n"
     ]
    },
    {
     "name": "stderr",
     "output_type": "stream",
     "text": [
      "/app/new_indexing.py:71: FutureWarning: DataFrame.fillna with 'method' is deprecated and will raise in a future version. Use obj.ffill() or obj.bfill() instead.\n",
      "  df = df[['formatted_time','topic','content','speaker']].fillna(method='ffill')\n"
     ]
    },
    {
     "name": "stdout",
     "output_type": "stream",
     "text": [
      "The document consists of a conversation involving Dmitriy Grankin and other participants discussing the status of a project or system, expressing confusion and seeking clarity about ongoing developments. The chunk reflects the initial action of starting up and observing the situation.\n",
      "The document consists of a conversation involving Dmitriy Grankin, who is inquiring about the current status or developments in a situation, expressing confusion and seeking clarity on what is happening.\n",
      "The chunk is part of a conversation where Dmitriy Grankin is discussing the progress and status of a project or task, expressing a hopeful sentiment about collective capability and success.\n",
      "The chunk occurs during a conversation where Dmitriy Grankin is discussing the status of a project or system, expressing confusion and seeking clarity about the current situation.\n",
      "The chunk is part of a conversation where Dmitriy Grankin is expressing confusion or curiosity about the current situation or events occurring during a discussion or meeting.\n",
      "The chunk is part of a conversation where Dmitriy Grankin is discussing the status of a project or system, expressing uncertainty about new developments or additions that have not yet been observed.\n",
      "The chunk \"Yes.\" appears in a conversation where Dmitriy Grankin is discussing the status of a project or system, expressing confusion and seeking clarity about the situation, while another participant responds affirmatively.\n",
      "The document appears to be a conversation involving Dmitriy Grankin and others discussing a situation or project, with expressions of confusion and inquiries about its purpose, including the specific question about the necessity of something for someone.\n",
      "The document features a conversation involving Dmitriy Grankin and others discussing the status of a project or system, expressing confusion and seeking clarity about ongoing developments. The chunk reflects a moment of frustration or realization amidst this dialogue.\n",
      "Processed meeting 13c8cb72-9421-4181-a782-db4d66f12481 - indexed to both Qdrant and Elasticsearch\n"
     ]
    },
    {
     "name": "stderr",
     "output_type": "stream",
     "text": [
      "/app/new_indexing.py:71: FutureWarning: DataFrame.fillna with 'method' is deprecated and will raise in a future version. Use obj.ffill() or obj.bfill() instead.\n",
      "  df = df[['formatted_time','topic','content','speaker']].fillna(method='ffill')\n"
     ]
    },
    {
     "name": "stdout",
     "output_type": "stream",
     "text": [
      "The document expresses frustration and disdain towards an individual, using derogatory terms to describe their actions and intelligence. The chunk specifically highlights the speaker's strong negative feelings, labeling the person as an \"idiot\" and \"cretin.\"\n",
      "The document expresses frustration and disdain towards someone's actions, repeatedly labeling them as an idiot and a cretin, with the specific chunk being a direct insult.\n",
      "The document expresses frustration and disdain towards someone's actions, labeling them as foolish and incompetent, with the chunk specifically referring to the act of \"twisting\" or \"manipulating\" something in a negative manner.\n",
      "Processed meeting 3f6ac1da-0bd8-4681-825a-4b29c68a61f6 - indexed to both Qdrant and Elasticsearch\n"
     ]
    },
    {
     "name": "stderr",
     "output_type": "stream",
     "text": [
      "/app/new_indexing.py:71: FutureWarning: DataFrame.fillna with 'method' is deprecated and will raise in a future version. Use obj.ffill() or obj.bfill() instead.\n",
      "  df = df[['formatted_time','topic','content','speaker']].fillna(method='ffill')\n"
     ]
    },
    {
     "name": "stdout",
     "output_type": "stream",
     "text": [
      "The document contains a conversation in multiple languages, where the chunk \"Je n'ai mon compte.\" expresses a sentiment of not having an account, likely in response to a discussion about accessibility or usability issues.\n",
      "The document contains a conversation in multiple languages, discussing issues related to account access and difficulties in finding information, with the chunk expressing a hesitant agreement in Portuguese.\n",
      "The document appears to involve a conversation or exchange where individuals express frustration about difficulties in finding information or understanding a situation, with one participant mentioning they do not have an account.\n",
      "Processed meeting 21a176db-7ff4-4c3c-a806-d6437a635388 - indexed to both Qdrant and Elasticsearch\n"
     ]
    },
    {
     "name": "stderr",
     "output_type": "stream",
     "text": [
      "/app/new_indexing.py:71: FutureWarning: DataFrame.fillna with 'method' is deprecated and will raise in a future version. Use obj.ffill() or obj.bfill() instead.\n",
      "  df = df[['formatted_time','topic','content','speaker']].fillna(method='ffill')\n"
     ]
    },
    {
     "name": "stdout",
     "output_type": "stream",
     "text": [
      "The document appears to be a conversation where the speaker is discussing a potential issue or malfunction, suggesting that the reason for the problem may differ from what was previously assumed.\n",
      "The chunk \"Mm-hmm.\" is a brief acknowledgment or response during a conversation where the speaker is discussing potential reasons for an issue, indicating engagement or understanding.\n",
      "The chunk is part of a conversation where the speaker is reflecting on a situation, possibly expressing uncertainty about their own actions or decisions related to a previous topic discussed, indicating a moment of introspection or self-doubt.\n",
      "Processed meeting 0220af3b-b112-47c5-b65f-6e75778c0842 - indexed to both Qdrant and Elasticsearch\n"
     ]
    },
    {
     "name": "stderr",
     "output_type": "stream",
     "text": [
      "/app/new_indexing.py:71: FutureWarning: DataFrame.fillna with 'method' is deprecated and will raise in a future version. Use obj.ffill() or obj.bfill() instead.\n",
      "  df = df[['formatted_time','topic','content','speaker']].fillna(method='ffill')\n"
     ]
    },
    {
     "name": "stdout",
     "output_type": "stream",
     "text": [
      "The chunk appears at the beginning of a conversation, where the speaker addresses a character named Паниковский, indicating a discussion about a rating and a potential issue with a meeting.\n",
      "The chunk appears in a conversation involving technical discussions about a project, specifically referencing processes and tools related to data handling and programming, indicating a focus on operational tasks and troubleshooting.\n",
      "The chunk is part of a conversation involving technical discussions about data processing and programming, specifically referencing the use of subtitles and coding elements like pandas and SQL queries.\n",
      "The chunk occurs during a discussion about organizing and managing tasks related to a project, indicating a need to regroup and reassess the next steps in the process.\n",
      "The chunk is part of a conversation discussing technical tasks related to data processing and programming, specifically involving the use of the pandas library and SQL queries to retrieve and order data from a database.\n",
      "The document appears to be a transcript of a conversation or discussion involving technical tasks related to programming or data processing, specifically mentioning APIs, data retrieval, and coding practices. The chunk reflects a moment of troubleshooting or optimizing a process to avoid unnecessary reloading.\n",
      "The document appears to be a conversation or a transcript related to a technical or programming task, where participants discuss various aspects of a project, including the importance of remembering the Start Engine API and preparing for a rating system. The chunk emphasizes the need to remember the Start Engine API amidst the ongoing technical discussions.\n",
      "The document appears to be a conversation or a transcript related to a technical or programming task, discussing various steps and components involved in a project, including references to APIs, data handling, and coding practices. The chunk in question refers to a specific action or transition in the process, indicating a movement towards a particular tool or environment (тенджер на пи).\n",
      "The chunk is part of a conversation involving a character named Паниковский, discussing the upcoming formation of a rating and the need to switch to a calmer approach in their tasks, amidst a technical or operational setting.\n",
      "Processed meeting 7781e37d-f733-4bfc-ad18-041e8ba20231 - indexed to both Qdrant and Elasticsearch\n"
     ]
    },
    {
     "name": "stderr",
     "output_type": "stream",
     "text": [
      "/app/new_indexing.py:71: FutureWarning: DataFrame.fillna with 'method' is deprecated and will raise in a future version. Use obj.ffill() or obj.bfill() instead.\n",
      "  df = df[['formatted_time','topic','content','speaker']].fillna(method='ffill')\n"
     ]
    },
    {
     "name": "stdout",
     "output_type": "stream",
     "text": [
      "The chunk reflects a moment of frustration and confusion regarding a technical issue or update process, expressing dissatisfaction with the situation and the handling of certain responsibilities, which is a recurring theme in the document as Dmitriy Grankin discusses various challenges and frustrations related to user experience and system management.\n",
      "The chunk occurs during a chaotic discussion where Dmitriy Grankin expresses confusion and frustration about ongoing updates and technical issues, reflecting a sense of disarray and dissatisfaction with the situation.\n",
      "The chunk is part of a conversation where Dmitriy Grankin expresses frustration and confusion about a technical issue related to updates and registration, while also discussing the need to ensure that their system is functioning properly.\n",
      "The chunk occurs during a conversation where Dmitriy Grankin expresses confusion and frustration about a situation involving updates and user experience, reflecting on the challenges faced in managing a system or process.\n",
      "The chunk occurs during a conversation where Dmitriy Grankin expresses frustration about a problematic situation affecting users, mentioning a \"terrible force\" and referencing a process involving speakers, amidst a broader discussion about issues with registration and database management.\n",
      "The chunk is part of a conversation by Dmitriy Grankin, expressing frustration and contemplation about the need for refactoring in a project, amidst a broader discussion about technical issues, user experience, and challenges related to registration and database management.\n",
      "The chunk is part of a conversation where Dmitriy Grankin expresses frustration about technical issues related to a database and registration problems, while also mentioning a desire to prepare a meal with turkey. This section reflects his ongoing struggle with the system and his thoughts on the situation.\n",
      "The chunk reflects Dmitriy Grankin's frustration regarding a problematic registration process, attributing the issues to a person named Андрей, and expressing disdain for the situation, which he perceives as a form of deception or incompetence. This sentiment is part of a broader discussion about technical difficulties and user experience challenges.\n",
      "Processed meeting 1e98ec1a-891f-4e89-bca5-9be39c8a4856 - indexed to both Qdrant and Elasticsearch\n"
     ]
    },
    {
     "name": "stderr",
     "output_type": "stream",
     "text": [
      "/app/new_indexing.py:71: FutureWarning: DataFrame.fillna with 'method' is deprecated and will raise in a future version. Use obj.ffill() or obj.bfill() instead.\n",
      "  df = df[['formatted_time','topic','content','speaker']].fillna(method='ffill')\n"
     ]
    },
    {
     "name": "stdout",
     "output_type": "stream",
     "text": [
      "The chunk is part of a conversation by Dmitriy Grankin, where he is testing a system or application, expressing frustration about its stability, and engaging in a casual dialogue with others about the status and functionality of the system.\n",
      "The chunk occurs during a technical discussion where Dmitriy Grankin is testing a system or application, expressing observations about its stability and functionality amidst a series of tests and updates.\n",
      "The chunk is part of a conversation involving Dmitriy Grankin discussing the status of a monitoring tool and interacting with others about updates and observations during a testing or troubleshooting session.\n",
      "The chunk is part of a conversation involving Dmitriy Grankin and others discussing technical updates and monitoring status, reflecting on the differences between ideas and their execution, and referencing a specific meeting or project status.\n",
      "The chunk occurs during a conversation where Dmitriy Grankin is testing and discussing various technical aspects, including monitoring and updates, before casually saying \"Tchau, tchau,\" indicating a farewell amidst the technical dialogue.\n",
      "The chunk occurs during a conversation where Dmitriy Grankin is testing and observing the status of a system or tool, discussing its functionality and performance, and contemplating the next steps in the process.\n",
      "The chunk is part of a conversation involving Dmitriy Grankin and others discussing technical testing and monitoring processes, specifically focusing on the initiation of a system and the anticipation of updates following a test run.\n",
      "The chunk appears to be part of a conversation involving Dmitriy Grankin and others discussing technical updates and system statuses, with a mix of humor and commentary on the situation, including references to greetings and unexpected interruptions.\n",
      "The chunk appears at the end of a conversation involving Dmitriy Grankin and others discussing technical aspects of a project, including testing and monitoring statuses, with a humorous reference to \"мультирасист\" as a play on words related to their work.\n",
      "The chunk is part of a conversation involving Dmitriy Grankin discussing technical aspects of a project, specifically mentioning an \"end-point\" and a \"мультиасист\" (multi-assist), indicating a focus on software or system functionality and updates.\n",
      "Processed meeting d44d0430-2754-428b-b934-9264c255578c - indexed to both Qdrant and Elasticsearch\n"
     ]
    },
    {
     "name": "stderr",
     "output_type": "stream",
     "text": [
      "/app/new_indexing.py:71: FutureWarning: DataFrame.fillna with 'method' is deprecated and will raise in a future version. Use obj.ffill() or obj.bfill() instead.\n",
      "  df = df[['formatted_time','topic','content','speaker']].fillna(method='ffill')\n"
     ]
    },
    {
     "name": "stdout",
     "output_type": "stream",
     "text": [
      "The chunk is an opening remark in a conversation where participants are discussing the status of a project or task, indicating a positive development with the arrival of a person or element that is deemed beneficial.\n",
      "The chunk occurs during a discussion among participants about managing and updating meeting sessions, specifically addressing issues with a problematic process that resets sessions.\n",
      "The chunk occurs during a discussion about managing and updating meeting sessions, where Dmitriy Grankin expresses the need to execute a specific pipeline related to closing meeting sessions amidst concerns about a problematic script affecting their processes.\n",
      "The chunk is part of a conversation where Dmitriy Grankin discusses issues with a system or process that resets sessions, expressing the need to address a problematic script related to \"Close Meeting Sessions\" that triggers in an hour.\n",
      "The chunk \"Tchau, tchau.\" appears at the end of a conversation where Dmitriy Grankin discusses technical issues related to a project, including updates and processes, indicating a casual farewell after a technical discussion.\n",
      "The chunk occurs during a discussion about the functionality and issues related to a system or process, where Dmitriy Grankin expresses frustration over updates and potential resets, referencing a problematic individual involved in the process.\n",
      "The chunk is part of a conversation involving Dmitriy Grankin discussing the current status of various tasks and processes, indicating a relaxed state as certain activities and individuals are on hold, amidst a broader dialogue about managing sessions and addressing issues with a specific process.\n",
      "Processed meeting 4b253b0e-6b15-452a-b66c-da5f06ec3fcf - indexed to both Qdrant and Elasticsearch\n"
     ]
    },
    {
     "name": "stderr",
     "output_type": "stream",
     "text": [
      "/app/new_indexing.py:71: FutureWarning: DataFrame.fillna with 'method' is deprecated and will raise in a future version. Use obj.ffill() or obj.bfill() instead.\n",
      "  df = df[['formatted_time','topic','content','speaker']].fillna(method='ffill')\n"
     ]
    },
    {
     "name": "stdout",
     "output_type": "stream",
     "text": [
      "The chunk is part of a conversation where Dmitriy Grankin greets someone, indicating a casual and familiar interaction, followed by a discussion about ongoing tasks and feelings of exhaustion.\n",
      "The chunk is part of a conversation where Dmitriy Grankin expresses his exhaustion and frustration after a long day, while discussing the status of a task or project that is expected to be completed soon.\n",
      "The chunk reflects a moment of reflection or realization by the speaker amidst a conversation about exhaustion and the challenges faced, suggesting a metaphorical or philosophical perspective on a situation being discussed.\n",
      "The chunk is part of a conversation where Dmitriy Grankin expresses his exhaustion and discusses the current status of packages, indicating that there are no packages available at the moment.\n",
      "The chunk reflects a moment of self-reflection and realization by the speaker, following a discussion about feeling exhausted and overwhelmed, indicating a need for self-care amidst the challenges faced.\n",
      "The document features a conversation involving Dmitriy Grankin, who expresses his exhaustion and discusses the status of a task or project, indicating that it should be closing soon.\n",
      "The chunk is part of a conversation where Dmitriy Grankin discusses feeling exhausted and the status of a task or project, leading to the decision to close it.\n",
      "Processed meeting 61b8db8b-f0c6-4895-8ca2-00e82466c8da - indexed to both Qdrant and Elasticsearch\n"
     ]
    },
    {
     "name": "stderr",
     "output_type": "stream",
     "text": [
      "/app/new_indexing.py:71: FutureWarning: DataFrame.fillna with 'method' is deprecated and will raise in a future version. Use obj.ffill() or obj.bfill() instead.\n",
      "  df = df[['formatted_time','topic','content','speaker']].fillna(method='ffill')\n"
     ]
    },
    {
     "name": "stdout",
     "output_type": "stream",
     "text": [
      "The chunk is part of a conversation where Dmitriy Grankin is conducting a test to evaluate a system's functionality and processing capabilities, indicating a focus on experimentation and observation.\n",
      "The document consists of a conversation where Dmitriy Grankin is testing a system or process, discussing its functionality and how it will be processed, leading up to the specific moment captured in the chunk.\n",
      "The chunk is part of a conversation where Dmitriy Grankin is testing a system and discussing the process of observing its functionality, indicating a transition to the next step in the testing.\n",
      "The chunk is part of a conversation where Dmitriy Grankin is testing a system and discussing the process of observing its functionality, leading up to the statement about how the situation will unfold.\n",
      "The chunk is part of a conversation where Dmitriy Grankin is testing a system or process, expressing curiosity about its functionality and results, and indicating a specific time reference (21.07) related to the test.\n",
      "Processed meeting 317ddaa3-711c-482f-b830-4ee924963b70 - indexed to both Qdrant and Elasticsearch\n"
     ]
    },
    {
     "name": "stderr",
     "output_type": "stream",
     "text": [
      "/app/new_indexing.py:71: FutureWarning: DataFrame.fillna with 'method' is deprecated and will raise in a future version. Use obj.ffill() or obj.bfill() instead.\n",
      "  df = df[['formatted_time','topic','content','speaker']].fillna(method='ffill')\n"
     ]
    },
    {
     "name": "stdout",
     "output_type": "stream",
     "text": [
      "The chunk is part of a conversation by Dmitriy Grankin discussing the handling of active meetings, expressing frustration about unnecessary tests, and mentioning the need for active meetings to be returned rather than processed.\n",
      "The chunk appears to be a response or commentary related to the discussion of active meetings and their processing, following a series of statements by Dmitriy Grankin about the status and updates of meetings.\n",
      "The chunk is part of a conversation by Dmitriy Grankin discussing the update process of a system or application, expressing curiosity about its functionality and current status, amidst a broader dialogue about active meetings and their handling.\n",
      "The chunk is part of a conversation by Dmitriy Grankin discussing the handling of active meetings, expressing frustration about their processing and questioning their purpose, amidst a broader dialogue about updates and functionality related to meetings.\n",
      "Processed meeting a5fe10ae-2525-44a5-8931-7033c353973c - indexed to both Qdrant and Elasticsearch\n"
     ]
    },
    {
     "name": "stderr",
     "output_type": "stream",
     "text": [
      "/app/new_indexing.py:71: FutureWarning: DataFrame.fillna with 'method' is deprecated and will raise in a future version. Use obj.ffill() or obj.bfill() instead.\n",
      "  df = df[['formatted_time','topic','content','speaker']].fillna(method='ffill')\n"
     ]
    },
    {
     "name": "stdout",
     "output_type": "stream",
     "text": [
      "The chunk is part of an introductory conversation between Alisa Molokova and Dmitry Grankin, where they establish a friendly rapport, agree to use informal language, and outline the structure of their discussion, focusing on sharing their professional backgrounds and project details.\n",
      "The chunk is part of a conversation between Alisa Molokova and Dmitry Grankin, where Alisa introduces herself and her professional background, highlighting her experience in sales and focus on international markets, particularly the USA and Europe, as they discuss potential collaboration on business projects.\n",
      "The chunk occurs during a conversation between Alisa Molokova and Dmitry Grankin, where Dmitry inquires about Alisa's location and the specific outreach approaches she employs in her work, indicating a discussion focused on business strategies and collaboration in the context of their respective projects.\n",
      "The chunk occurs towards the end of a conversation between Dmitry Grankin and Alisa Molokova, where Dmitry is discussing the trial use of his product, which is currently free, and expressing gratitude for the meeting and the opportunity to collaborate.\n",
      "The chunk is part of a conversation between Alisa Molokova and Dmitry Grankin, where Dmitry introduces his project, a Google Meet assistant that transcribes calls and organizes meeting data. This discussion follows Alisa's introduction of her background and expertise in outreach and sales for international markets.\n",
      "The chunk is part of a conversation between Dmitry Grankin and Alisa Molokova, where Dmitry discusses his project involving a Google Meet assistant that captures and organizes knowledge from calls. He explains the current status of the project, including its user base and the lack of monetization due to ongoing development and account setup issues.\n",
      "The chunk is part of a conversation between Alisa Molokova and Dmitry Grankin, where Alisa discusses her experience in outreach strategies, specifically focusing on automated processes for lead generation and communication. She emphasizes the importance of using client accounts for outreach and offers insights into her services, including the provision of accounts for companies facing challenges.\n",
      "The chunk is part of a conversation between Alisa Molokova and Dmitry Grankin, where Alisa discusses her approach to client work, emphasizing the importance of understanding the target audience and conducting preliminary tests before starting projects. She also mentions sending a commercial proposal and outlines her process for gathering information to create a comprehensive picture for clients.\n",
      "The chunk is part of a conversation between Alisa Molokova and Dmitry Grankin, where they discuss lead generation, the importance of meetings in B2B contexts, and the planning of marketing strategies over the next few months. Alisa emphasizes the need for client involvement in meetings and the challenges of making long-term plans in a dynamic environment.\n",
      "This chunk is part of a conversation between Dmitry Grankin and Alisa Molokova, where Dmitry discusses his current focus on managing incoming outreach requests and refining his system for a product related to Google Meet. He emphasizes the need for a structured approach to outreach and the challenges of handling communications as a solo operator.\n",
      "The chunk is part of a conversation between Alisa Molokova and Dmitry Grankin, where Alisa discusses her approach to business collaboration, outlining her services in training and project management, and the use of outreach strategies. They also touch on formulating a commercial proposal and the potential for targeting Web3 development teams, particularly in Brazil.\n",
      "The chunk is part of a conversation between Alisa Molokova and Dmitry Grankin, where Alisa discusses her experience in outreach strategies, particularly focusing on email outreach and social media, while explaining her role in facilitating meetings and managing communication processes for businesses.\n",
      "This chunk is part of a conversation between Dmitry Grankin and Alisa Molokova, where they discuss the challenges and experiences related to outreach strategies, specifically focusing on email campaigns and LinkedIn usage for communication and lead generation. Dmitry reflects on the lack of structured metrics and the chaotic nature of their previous outreach efforts.\n",
      "Processed meeting 8f275c86-e397-43fe-a884-b4535f7f82e3 - indexed to both Qdrant and Elasticsearch\n"
     ]
    },
    {
     "name": "stderr",
     "output_type": "stream",
     "text": [
      "/app/new_indexing.py:71: FutureWarning: DataFrame.fillna with 'method' is deprecated and will raise in a future version. Use obj.ffill() or obj.bfill() instead.\n",
      "  df = df[['formatted_time','topic','content','speaker']].fillna(method='ffill')\n"
     ]
    },
    {
     "name": "stdout",
     "output_type": "stream",
     "text": [
      "The chunk is part of a conversation between Olga Nemirovskaya and Dmitriy Grankin discussing technical issues and user experiences related to a transcription and chat application, including troubleshooting, interface preferences, and the functionality of the tool.\n",
      "This chunk is part of a conversation between Dmitriy Grankin and Olga Nemirovskaya discussing the functionality and usability of a chat and transcription system, specifically focusing on how communication is managed, the importance of context in conversations, and the integration of various communication channels.\n",
      "This chunk is part of a conversation between Olga Nemirovskaya and other participants discussing issues with a transcription feature in a software application. They express frustrations about the functionality, layout, and usability of the interface, particularly regarding the visibility of transcripts and the organization of meeting information.\n",
      "This chunk is part of a conversation between Olga Nemirovskaya and Dmitriy Grankin discussing their experiences and challenges with transcription services, chat management, and workflow efficiency during meetings, particularly in the context of partner interactions and the use of various tools like Zoom and tactics for managing transcripts.\n",
      "This chunk is part of a conversation between Olga Nemirovskaya and Dmitriy Grankin discussing the functionality and user experience of a chat interface related to meetings and transcripts. Olga is suggesting improvements for filtering and selecting meetings based on speakers, dates, and tags, while also addressing the organization of chat interactions and the usability of the interface.\n",
      "This chunk is part of a conversation between Dmitriy Grankin and Olga Nemirovskaya discussing the management of chat systems, the organization of projects, and the challenges of handling multiple chats and transcripts. They explore user experiences, preferences for project structures, and the importance of context in communication, as well as considerations for payment for transcription services.\n",
      "The chunk is part of a conversation between Olga Nemirovskaya and Dmitriy Grankin, where Olga expresses frustration about technical issues she is experiencing with a software or application, indicating that it is not functioning properly. This discussion occurs amidst a broader dialogue about the functionality and usability of a platform related to meetings and transcripts.\n",
      "This chunk is part of a conversation discussing the importance of recording meetings and transcribing them for effective follow-up and analysis. The speakers express their experiences with different tools, the necessity of having accessible transcripts, and the challenges they face in managing communication with partners. They also touch on the integration of CRM systems and the need for efficient information retrieval from past meetings.\n",
      "This chunk is part of a conversation between Dmitriy Grankin and Olga Nemirovskaya discussing the functionality and user experience of a software interface related to meetings, chat, and transcripts. They explore issues with navigation, context management, and the organization of information within the application, emphasizing the need for clarity and efficiency in accessing chat and meeting details.\n",
      "This chunk is part of a conversation between Olga Nemirovskaya and Dmitriy Grankin discussing the usability and functionality of a software interface, specifically focusing on the organization and accessibility of meeting transcripts, details, and user interface elements. They express frustrations with the current layout, suggest improvements, and explore how to better manage and retrieve information from past meetings.\n",
      "This chunk is part of a conversation between Olga Nemirovskaya and Dmitriy Grankin discussing the organization and management of chat communications with partners. Olga explains her approach to maintaining context within chats, the challenges of handling lengthy conversations, and the differences in how information is processed in their current system compared to another tool called Claude. The discussion highlights the importance of context in communication and the need for efficient management of chat histories.\n",
      "Processed meeting 8c21aec2-1d7c-4bb6-95da-c2d66085f85a - indexed to both Qdrant and Elasticsearch\n"
     ]
    },
    {
     "name": "stderr",
     "output_type": "stream",
     "text": [
      "/app/new_indexing.py:71: FutureWarning: DataFrame.fillna with 'method' is deprecated and will raise in a future version. Use obj.ffill() or obj.bfill() instead.\n",
      "  df = df[['formatted_time','topic','content','speaker']].fillna(method='ffill')\n"
     ]
    },
    {
     "name": "stdout",
     "output_type": "stream",
     "text": [
      "The document captures a conversation involving Dmitriy Grankin, who is expressing frustration and confusion while testing a new database, indicating a collaborative effort with others and a series of attempts to resolve issues.\n",
      "The chunk occurs during a conversation where Dmitriy Grankin expresses frustration and confusion about a situation involving a new database, indicating a tense and chaotic atmosphere.\n",
      "The chunk occurs during a conversation where Dmitriy Grankin is expressing frustration and confusion about a situation involving a new database, indicating a collaborative effort with others.\n",
      "The chunk occurs during a conversation where Dmitriy Grankin is expressing frustration and confusion about a technical issue, suggesting a collaborative effort to resolve it.\n",
      "The chunk occurs during a conversation where Dmitriy Grankin expresses frustration and confusion about a situation, questioning why he is not liked while discussing the launch of a new database.\n",
      "The chunk occurs during a conversation where Dmitriy Grankin expresses confusion and frustration about a situation involving a new database, indicating that there is already a name established for something being discussed.\n",
      "The chunk occurs during a conversation where Dmitriy Grankin expresses confusion about the current situation and suggests further investigation, amidst a series of technical discussions and frustrations related to a database.\n",
      "The chunk occurs during a conversation where Dmitriy Grankin expresses frustration and confusion about a situation involving a new database, indicating a sense of urgency and exasperation with the ongoing issues.\n",
      "The chunk occurs during a conversation where Dmitriy Grankin expresses frustration and confusion about a situation, likely related to a technical issue or misunderstanding, as he interacts with others and discusses a new database.\n",
      "The document captures a conversation involving Dmitriy Grankin and others discussing issues related to a new database, expressing frustration and confusion about the situation, with the chunk reflecting a specific instance of unclear communication or problems during a meeting.\n",
      "The chunk occurs during a conversation where Dmitriy Grankin expresses frustration and confusion about a situation involving a new database, followed by a mix of exclamations and interactions with others, indicating a collaborative troubleshooting effort.\n",
      "The chunk occurs during a conversation where Dmitriy Grankin expresses confusion and frustration about a situation involving a new database, indicating a collaborative effort to troubleshoot or resolve issues.\n",
      "The chunk \"Здесь одна встреча.\" is part of a conversation involving Dmitriy Grankin and others discussing issues related to a new database, expressing confusion and frustration, and referencing a meeting in the context of troubleshooting or problem-solving.\n",
      "The chunk appears to be part of a conversation involving Dmitriy Grankin and others discussing issues related to a database, with expressions of confusion and frustration. The specific line suggests a moment of reflection or analysis regarding a situation that is being addressed in the dialogue.\n",
      "The document captures a conversation involving Dmitriy Grankin, who expresses frustration and confusion regarding a technical issue or project, indicating that someone has made mistakes and become disoriented. The chunk reflects his exasperation in the midst of troubleshooting a new database.\n",
      "Processed meeting 16705c46-ba51-4f1b-83d2-08e0bfc5eae5 - indexed to both Qdrant and Elasticsearch\n"
     ]
    },
    {
     "name": "stderr",
     "output_type": "stream",
     "text": [
      "/app/new_indexing.py:71: FutureWarning: DataFrame.fillna with 'method' is deprecated and will raise in a future version. Use obj.ffill() or obj.bfill() instead.\n",
      "  df = df[['formatted_time','topic','content','speaker']].fillna(method='ffill')\n"
     ]
    },
    {
     "name": "stdout",
     "output_type": "stream",
     "text": [
      "The chunk is part of a conversation between Tatiana Sukhova and Dmitriy Grankin, where they discuss their recent social experiences and emotional states, specifically focusing on Tatiana's feelings after meeting new people over the weekend.\n",
      "The chunk is part of a conversation between Tatiana Sukhova and Dmitriy Grankin, where Tatiana shares her experiences from a busy weekend filled with social activities, including poker, tennis, and dining with friends, highlighting the impact of these interactions on her energy levels.\n",
      "This chunk occurs during a conversation between Dmitriy Grankin and Tatiana Sukhova, where Dmitriy expresses curiosity about Tatiana's ideas and projects, specifically mentioning an accelerator and discussing a user interface improvement related to a tool they are both using.\n",
      "This chunk is part of a conversation between Dmitriy Grankin and Tatiana Sukhova, where they discuss their experiences with startup accelerators, networking events, and the challenges of engaging in such environments, particularly focusing on the superficiality of interactions and the complexities of commitments involved in advisory roles.\n",
      "This chunk is part of a conversation between Tatiana Sukhova and Dmitriy Grankin, where Tatiana discusses her frustrations with filling out a structured response table for an accelerator program. She expresses her feelings about the time invested in interviews and the challenges of using a chat tool effectively, while also brainstorming ideas for improving the process and the tool's functionality.\n",
      "This chunk is part of a conversation between Tatiana Sukhova and Dmitriy Grankin, where Tatiana discusses her new full-time job as a design lead in a startup, shares ideas for UX improvements, and reflects on her experiences with chat tools and data privacy concerns. The dialogue also touches on the challenges of managing information and the need for better organizational tools in her work.\n",
      "In this segment of the conversation, Tatiana Sukhova discusses her idea for a new engine that allows specialists to create task templates, similar to those in tools like Miro or Notion. She emphasizes the importance of these templates being adaptable to specific business knowledge and highlights the potential for community-driven, professional templates to enhance research processes in product development. This idea emerges during a broader discussion about her experiences in an accelerator program and the challenges of conducting user research.\n",
      "This chunk is part of a conversation between Tatiana Sukhova and Dmitriy Grankin, where Tatiana discusses her ideas about data sources and knowledge management in the context of using tools like \"Chat PDF.\" She emphasizes the importance of integrating various data sources and adapting templates for business research, while also reflecting on the challenges and potential of her project. The conversation includes insights on software engineering and the need for focus in her work.\n",
      "This chunk is part of a conversation between Tatiana Sukhova and Dmitriy Grankin, where Tatiana discusses her experience with a startup investment opportunity involving an acquaintance, investor Sergey Bogdanov. She shares her insights on the startup's email marketing project, her impressions from a meeting with the founders, and her considerations about joining their advisory team, highlighting the challenges and uncertainties involved.\n",
      "Processed meeting 1579143f-3d96-4346-9220-febb329ca5ce - indexed to both Qdrant and Elasticsearch\n"
     ]
    },
    {
     "name": "stderr",
     "output_type": "stream",
     "text": [
      "/app/new_indexing.py:71: FutureWarning: DataFrame.fillna with 'method' is deprecated and will raise in a future version. Use obj.ffill() or obj.bfill() instead.\n",
      "  df = df[['formatted_time','topic','content','speaker']].fillna(method='ffill')\n"
     ]
    },
    {
     "name": "stdout",
     "output_type": "stream",
     "text": [
      "The chunk is part of a conversation between Dmitriy Grankin and Igor Lyubimov, where they discuss their recent activities, specifically focusing on coding and work-related topics.\n",
      "The chunk occurs early in a conversation between Dmitriy Grankin and Igor Lyubimov, where Dmitriy discusses his recent work and challenges related to a project, specifically referencing a funnel that he has been working on and questioning its completion.\n",
      "The chunk is part of a conversation between Dmitriy Grankin and Igor Lyubimov, where they discuss various tools and strategies for managing calls and meetings, culminating in a friendly farewell as they conclude their discussion.\n",
      "The chunk is part of a conversation between Igor Lyubimov and Dmitriy Grankin discussing marketing funnels, user engagement, and the effectiveness of personalized content versus linear approaches in guiding users through a sales process.\n",
      "The chunk is part of a conversation between Igor Lyubimov and Dmitriy Grankin discussing the challenges of user engagement in sales funnels, specifically addressing user skepticism and the importance of personalization in marketing strategies.\n",
      "The chunk is part of a conversation between Igor Lyubimov and Dmitriy Grankin discussing the challenges of managing client calls, particularly the difficulty of remembering details from those calls and the reliance on a tool called \"тактик\" for reviewing transcripts.\n",
      "The chunk is part of a conversation between Igor Lyubimov and Dmitriy Grankin discussing the features and pricing of a transcription tool. Igor expresses his willingness to pay more for a service that accurately transcribes and automatically detects the language spoken during sales calls, leading into a demonstration of the tool by Dmitriy.\n",
      "The chunk is part of a conversation between Igor Lyubimov and Dmitriy Grankin discussing the challenges and frustrations of using a transcription tool for calls, specifically focusing on issues with lost calls, licensing costs, and the need for improvements in the tool's functionality.\n",
      "The chunk is part of a conversation between Igor Lyubimov and Dmitriy Grankin discussing the effectiveness of sales funnels and user engagement strategies. Igor elaborates on the concept of investment effects in user behavior, emphasizing the importance of perceived value and understanding user needs during the sales process.\n",
      "The chunk occurs during a conversation between Dmitriy Grankin and Igor Lyubimov, where they discuss the challenges of accepting payments for a product, the need for user feedback, and the functionality of a Chrome Extension related to their project.\n",
      "The chunk is part of a conversation between Igor Lyubimov and Dmitriy Grankin discussing the integration of a customer success manager into their sales process, focusing on task management and automation following sales calls. It highlights the need for effective communication and organization within their team, particularly through tools like Slack.\n",
      "The chunk is part of a conversation between Igor Lyubimov and Dmitriy Grankin discussing the functionalities of a tool that utilizes AI credits for generating summaries, action points, and other outputs from meeting transcripts. Igor expresses a desire for improved follow-up features for meetings.\n",
      "The chunk is part of a conversation between Igor Lyubimov and Dmitriy Grankin discussing the design and effectiveness of user funnels in a product, specifically focusing on the length of the funnels, user retention, and the importance of preparing users to pay before reaching a paywall.\n",
      "This chunk is part of a conversation between Igor Lyubimov and Dmitriy Grankin discussing the design and effectiveness of user funnels in product development. Igor reflects on the challenges of creating personalized scripts and the limitations of automated content generation, emphasizing the importance of engaging and dynamic interactions in user experience.\n",
      "This chunk is part of a conversation between Igor Lyubimov and Dmitriy Grankin discussing the features and functionalities of a transcription tool, specifically comparing it to another tool called \"тактик.\" Igor highlights the real-time transcription capabilities and the importance of being able to quickly reference previous parts of the conversation during calls.\n",
      "This chunk is part of a conversation between Dmitriy Grankin and Igor Lyubimov discussing a tool that assists with managing and summarizing meetings. Dmitriy describes features such as tagging, summaries, and speaker selection, while also contemplating the potential for payment and feedback regarding the tool.\n",
      "This chunk is part of a conversation between Igor Lyubimov and Dmitriy Grankin discussing the challenges of managing multilingual calls and the limitations of transcription tools they are using, specifically mentioning issues with switching languages and recording calls effectively.\n",
      "This chunk is part of a conversation between Dmitriy Grankin and Igor Lyubimov discussing the features and functionalities of a tool called Vex, comparing it to another tool called Tactic. They focus on aspects such as language switching, audio recording capabilities, and the accuracy of transcripts, highlighting user preferences and technical limitations.\n",
      "This chunk is part of a conversation between Dmitriy Grankin and Igor Lyubimov discussing the features and functionalities of a call recording and transcription tool. Dmitriy explains a specific feature that allows users to access call recordings later and mentions a potential bug related to call participation. The overall document captures their dialogue about product development, user experience, and feedback on the tool.\n",
      "The chunk is part of a conversation between Igor Lyubimov and Dmitriy Grankin discussing the challenges of creating personalized content for users, the limitations of automated systems, and the importance of human expertise in product development. They also touch on the use of a tool called \"тактик\" within their team for managing discussions and notes during calls.\n",
      "This chunk is part of a conversation between Igor Lyubimov and Dmitriy Grankin discussing the functionalities and limitations of transcription tools, specifically focusing on the ability to switch languages automatically and the quality of transcriptions. Igor expresses his frustrations with the current tool's inability to highlight issues in real-time and contrasts it with another tool's capabilities. The discussion is part of a broader dialogue about improving user experience in handling calls and transcriptions.\n",
      "Processed meeting b2df54b2-e91e-4d41-bd4a-48c8fc99e5fb - indexed to both Qdrant and Elasticsearch\n"
     ]
    },
    {
     "name": "stderr",
     "output_type": "stream",
     "text": [
      "/app/new_indexing.py:71: FutureWarning: DataFrame.fillna with 'method' is deprecated and will raise in a future version. Use obj.ffill() or obj.bfill() instead.\n",
      "  df = df[['formatted_time','topic','content','speaker']].fillna(method='ffill')\n"
     ]
    },
    {
     "name": "stdout",
     "output_type": "stream",
     "text": [
      "The chunk is part of a conversation where Dmitriy Grankin discusses his experience reviewing a tool called Tactic, which integrates with Google Meet, focusing on its features and functionalities related to meeting management and transcription.\n",
      "This chunk is part of a conversation where Dmitriy Grankin is reviewing a tool called Tactic, specifically discussing its home extension features, including transcription functionalities and user interface improvements for managing meeting notes.\n",
      "The chunk occurs during a discussion about the integration and publishing of a Google Workspace extension, where Dmitriy Grankin reflects on the process of publishing his logo and mentions taking screenshots related to the topic.\n",
      "This chunk occurs during Dmitriy Grankin's review of the Tactic tool, specifically discussing the features related to archiving meetings, managing action items, and sharing recordings within the platform.\n",
      "This chunk occurs during Dmitriy Grankin's review of the Tactic application, specifically when he is prompted to grant the app access to change extensive data, highlighting his interaction with the app's permissions and features.\n",
      "The chunk is part of a review by Dmitriy Grankin discussing the features and functionalities of the Tactic tool, specifically focusing on the dashboard layout and its meeting-centric design.\n",
      "The chunk occurs during Dmitriy Grankin's review of the Tactic application, specifically after he discusses the features and functionalities of the home extension, leading to his navigation to the dashboard where he explores meeting-related options.\n",
      "This chunk is part of a conversation where Dmitriy Grankin is reviewing and discussing the features of a tool called Tactic, specifically focusing on its functionality related to meeting transcripts and team collaboration features.\n",
      "This chunk is part of a conversation where Dmitriy Grankin is reviewing the features of a tool called Tactic, specifically focusing on its reporting capabilities, meeting management, and sharing options for transcripts and recordings.\n",
      "The chunk occurs during a discussion about the features and functionalities of the Tactic tool, specifically focusing on sharing meeting information and the effectiveness of the meeting ID for accessing shared content.\n",
      "This chunk occurs during a discussion about the features and functionalities of the Tactic tool, specifically focusing on the installation and publishing of Google Workspace add-ons, highlighting the number of downloads and seeking clarification on the differences between various extensions.\n",
      "This chunk occurs during a conversation where Dmitriy Grankin is discussing various features and functionalities of a meeting transcription tool, interspersed with personal dialogue in Russian, indicating a casual exchange about bringing money and concluding a discussion.\n",
      "This chunk occurs during Dmitriy Grankin's review of the Tactic tool, specifically when he is exploring the features related to meeting transcripts and trying to understand the output and functionality of the tool.\n",
      "The chunk appears during Dmitriy Grankin's review of the Tactic tool's features, specifically discussing the various options available on the meeting page, including icons for action items and different formats, while expressing uncertainty about certain terms.\n",
      "This chunk occurs during a conversation where Dmitriy Grankin is reviewing a tool called Tactic, discussing its features and functionalities, and suddenly shifts to a personal phone call, indicating a break from the main topic.\n",
      "The chunk occurs during a review of the Tactic tool, where Dmitriy Grankin discusses features related to managing meetings and sharing information, specifically mentioning the integration of AI tools for enhancing meeting productivity.\n",
      "This chunk is part of a conversation where Dmitriy Grankin is reviewing the features of a meeting management tool called Tactic, discussing its functionalities related to meeting pages, including options for exporting, emailing, sharing, and renaming meeting notes.\n",
      "This chunk occurs towards the end of a conversation where Dmitriy Grankin is reviewing a tool called Tactic, discussing features such as labeling for meetings and expressing confusion about certain functionalities, while also indicating a desire to move forward with actions related to the tool.\n",
      "This chunk occurs during Dmitriy Grankin's review of a meeting management tool, specifically when he navigates to a meeting page and discusses the features available, including meeting notes, while also incorporating a brief non-English interjection.\n",
      "This chunk occurs during Dmitriy Grankin's review of the Tactic tool, specifically discussing the features related to sharing meeting information, including options for sharing via email and managing shared spaces.\n",
      "This chunk is part of a conversation where Dmitriy Grankin is reviewing a meeting transcription tool, discussing its features, including real-time updates and post-meeting actions, while also incorporating some Russian phrases.\n",
      "The chunk occurs during a discussion about the features and functionalities of the Tactic tool, specifically comparing the Google Workspace Marketplace to a home extension, indicating a focus on integration and usability within the context of meeting management and transcription services.\n",
      "The chunk appears towards the end of a conversation where Dmitriy Grankin is reviewing a tool called Tactic, discussing its features, functionalities, and potential improvements. He expresses a newfound understanding or strategy related to the tool, indicating a shift in perspective or approach regarding its use.\n",
      "The chunk occurs during a conversation where Dmitriy Grankin is discussing various topics related to a meeting and its transcription features, and it transitions into a brief exchange about a person named Лукаш Гоэш, indicating a shift to a more casual or personal discussion amidst the technical review.\n",
      "In the document, Dmitriy Grankin is reviewing a tool called Tactic, discussing its features and functionalities related to meeting transcription and management. The chunk reflects his consideration of the ability to edit or remove content from the meeting transcripts, indicating a focus on improving user experience and functionality within the tool.\n",
      "The chunk occurs during a discussion where Dmitriy Grankin is reviewing a tool called Tactic, specifically focusing on its features and functionalities, including meeting transcription and sharing capabilities. He briefly shifts the conversation to inquire about the view count of a video related to the tool, indicating his interest in its popularity or reach.\n",
      "Processed meeting 33c14d85-55c7-4bce-854f-eb9e617c9ea5 - indexed to both Qdrant and Elasticsearch\n"
     ]
    },
    {
     "name": "stderr",
     "output_type": "stream",
     "text": [
      "/app/new_indexing.py:71: FutureWarning: DataFrame.fillna with 'method' is deprecated and will raise in a future version. Use obj.ffill() or obj.bfill() instead.\n",
      "  df = df[['formatted_time','topic','content','speaker']].fillna(method='ffill')\n"
     ]
    },
    {
     "name": "stdout",
     "output_type": "stream",
     "text": [
      "The document contains a user testing note where the author is making a test entry to evaluate the process and functionality of a system, followed by a question about the appearance of Userflow.\n",
      "The document contains a test entry discussing the process of understanding how a test will proceed, culminating in a question about the appearance of a Userflow.\n",
      "Processed meeting 08b8398e-0b1b-4771-9516-f414888dc500 - indexed to both Qdrant and Elasticsearch\n"
     ]
    },
    {
     "name": "stderr",
     "output_type": "stream",
     "text": [
      "/app/new_indexing.py:71: FutureWarning: DataFrame.fillna with 'method' is deprecated and will raise in a future version. Use obj.ffill() or obj.bfill() instead.\n",
      "  df = df[['formatted_time','topic','content','speaker']].fillna(method='ffill')\n"
     ]
    },
    {
     "name": "stdout",
     "output_type": "stream",
     "text": [
      "The chunk occurs at the beginning of a conversation between Dmitriy Grankin and Daniel, where Dmitriy is about to demonstrate a screen-sharing feature related to a transcription tool they are discussing.\n",
      "This chunk occurs during a conversation where Dmitriy Grankin is explaining how to access and use the Vexa AI plugin, highlighting its straightforward installation process and real-time functionality during online meetings.\n",
      "This chunk is part of a conversation between Dmitriy Grankin and Daniel, where Dmitriy explains the features of a transcription extension that transcribes their discussion in real-time, highlights important information, and allows for interactive engagement, similar to a chat GPT assistant.\n",
      "This chunk is part of a conversation between Daniel and Dmitriy Grankin discussing the limitations of the Fireflies transcription service, particularly its requirement for a Google Workspace account, and contrasting it with Dmitriy's solution, which offers more flexibility and privacy for users.\n",
      "This chunk is part of a conversation between Dmitriy Grankin and Daniel discussing a language transcription plugin that can operate in real-time and supports multiple languages, including Portuguese. They explore its competitive advantages, potential bugs, and installation details.\n",
      "This chunk is part of a conversation between Dmitriy Grankin and Daniel, discussing the use of Google Meet and other meeting services, the performance of the Vexa plugin, and its relevance in the crypto market, particularly in Brazil. They also touch on feedback and collaboration opportunities regarding the product.\n",
      "This chunk occurs during a conversation between Dmitriy Grankin and Daniel, where Dmitriy discusses his experience of working alone after firing his team, the challenges he faced in developing a Chrome extension, and how he has become more productive using AI tools compared to working with a team.\n",
      "In this segment of the conversation, Daniel expresses concerns about privacy and trust regarding the use of AI agents for transcribing meetings. He introduces the concept of ZKML (Zero Knowledge Machine Learning) as a potential solution for ensuring data privacy and security, prompting a discussion with Dmitriy about its implications and applications.\n",
      "The chunk is part of a conversation between Dmitriy Grankin and Daniel, discussing the use of a transcription and AI assistant tool in the context of online meetings, particularly within the Brazilian crypto community. Dmitriy highlights the growing demand for such products and their frequent usage in calls, indicating a competitive landscape.\n",
      "This chunk is part of a conversation between Daniel and Dmitriy Grankin discussing the impact of AI on software development, the use of machine learning tools, and the potential for sales of Dmitriy's product, which is a transcription and AI assistant tool. They also touch on privacy concerns regarding data handling and the importance of marketing for product success.\n",
      "This chunk occurs towards the end of a conversation between Dmitriy Grankin and Daniel, where Dmitriy explains the concept and purpose behind his product, emphasizing its focus on knowledge building and enhancing communication during calls. He discusses the potential for creating a knowledge base from shared information in meetings, positioning the product as a tool for better collaboration and conversation enhancement.\n",
      "This chunk is part of a conversation between Daniel and Dmitriy Grankin discussing the use of AI agents in online meetings, specifically focusing on the differences in their functionalities, privacy concerns, and user experiences with various transcription tools. Daniel expresses his dissatisfaction with existing agents and shares specific issues he has encountered, while also showing interest in testing Dmitriy's solution.\n",
      "This chunk occurs during a discussion between Dmitriy Grankin and Daniel about the potential for a corporate enterprise product that enhances privacy through the use of containers on client servers. They explore the concept of zero-knowledge machine learning (ZKML) and its implications for data security, particularly in the context of Vexa's services and the broader market for AI-driven transcription tools.\n",
      "Processed meeting 8eb8d512-2ba3-40f4-8535-8bba86779336 - indexed to both Qdrant and Elasticsearch\n"
     ]
    },
    {
     "name": "stderr",
     "output_type": "stream",
     "text": [
      "/app/new_indexing.py:71: FutureWarning: DataFrame.fillna with 'method' is deprecated and will raise in a future version. Use obj.ffill() or obj.bfill() instead.\n",
      "  df = df[['formatted_time','topic','content','speaker']].fillna(method='ffill')\n"
     ]
    },
    {
     "name": "stdout",
     "output_type": "stream",
     "text": [
      "The chunk is part of a conversation between Dmitry Grankin and Anna Pavlova discussing a Google Meet assistant that transcribes calls and organizes knowledge for research and usage. Dmitry explains the functionality of the assistant and the technology behind it, including the use of different models for sound-to-text conversion.\n",
      "This chunk occurs during a conversation between Dmitry Grankin and Anna Pavlova, where they discuss potential meeting times and locations in Lisbon, including an invitation to a breakfast event on Friday.\n",
      "The chunk is part of a conversation between Dmitry Grankin and Anna Pavlova discussing a Google Meet call assistant that provides transcription and research capabilities. Dmitry is explaining the features of the tool, including a dashboard for reviewing past calls and requesting summaries of discussions.\n",
      "The chunk is part of a conversation between Dmitry Grankin and Anna Pavlova, where Anna discusses recent events organized by her business club in Lisbon, including networking breakfasts and a Pitch Day related to the Web Summit, as well as upcoming events planned for December.\n",
      "The chunk is part of a conversation between Anna Pavlova and Dmitry Grankin, where Anna discusses various networking and collaboration formats within her business club in Lisbon, including a marketing mastermind group, business breakfasts, and speed networking events aimed at fostering connections among entrepreneurs and startups.\n",
      "This chunk occurs towards the end of a conversation between Dmitry Grankin and Anna Pavlova, where they discuss scheduling a meeting and sharing contact information, following a series of networking events related to a recent web summit.\n",
      "This chunk is part of a conversation between Anna Pavlova and Dmitry Grankin, where Anna discusses the activities and community engagement of a business club in Lisbon. She emphasizes the importance of offline interactions among members to foster relationships and business partnerships, contrasting it with the overwhelming amount of online communication.\n",
      "The chunk occurs during a conversation between Anna Pavlova and Dmitry Grankin, where they discuss a potential meeting to connect Dmitry with Anna's husband, Alexander Pavlov, who is working on launching multiple startups. They are coordinating a time and place for this meeting, emphasizing the challenges of commuting in Lisbon.\n",
      "The chunk is part of a conversation between Dmitry Grankin and Anna Pavlova, where Anna discusses her experience living in Lisbon and the activities of a business club for entrepreneurs that she is involved with. She explains the club's transition from focusing on Russian-speaking members to including English-speaking expatriates and outlines their meeting structure and future plans for recording sessions.\n",
      "The chunk is part of a conversation between Dmitry Grankin and Anna Pavlova, where Anna discusses the activities and formats of a business club in Lisbon, specifically focusing on the \"forum-group\" format that facilitates sharing personal and business challenges among members.\n",
      "This chunk is part of a conversation between Dmitry Grankin and Anna Pavlova, where Dmitry discusses his experience as a solo founder, the growth of his user base, and the competitive landscape of his product. It highlights his current challenges and the progress he has made in attracting users.\n",
      "The chunk occurs during a conversation between Dmitry Grankin and Anna Pavlova, where they discuss the recording of meetings, payment systems for services, and the challenges Dmitry faces in opening a bank account in the U.S. This exchange is part of a broader dialogue about their respective business activities and networking efforts.\n",
      "The chunk is part of a conversation between Dmitry Grankin and Anna Pavlova, where Anna discusses the membership fee for her business club, the process of connecting interested individuals with their SEO, and the relevance of AI and technology discussions within the club's activities.\n",
      "Processed meeting e85a7645-53aa-4e18-92a9-09a5b1886f30 - indexed to both Qdrant and Elasticsearch\n"
     ]
    },
    {
     "name": "stderr",
     "output_type": "stream",
     "text": [
      "/app/new_indexing.py:71: FutureWarning: DataFrame.fillna with 'method' is deprecated and will raise in a future version. Use obj.ffill() or obj.bfill() instead.\n",
      "  df = df[['formatted_time','topic','content','speaker']].fillna(method='ffill')\n"
     ]
    },
    {
     "name": "stdout",
     "output_type": "stream",
     "text": [
      "The chunk is part of a conversation between Dmitriy Grankin and another participant discussing a recent update to a dashboard and issues related to its visibility and version management in a software application.\n",
      "The chunk is part of a conversation between Dmitriy Grankin and Sergio Goriachev discussing the dynamics of startup involvement, the importance of focusing on product development and user engagement, and the potential for significant financial exits in the startup ecosystem.\n",
      "This chunk is part of a conversation between Dmitriy Grankin and Sergio Goriachev discussing updates to a software dashboard, user experience improvements, and the development of new features. They also touch on personal projects, funding opportunities, and market conditions related to their respective ventures.\n",
      "This chunk is part of a conversation between Sergio Goriachev and Dmitriy Grankin discussing ideas for a digital platform aimed at digital nomads. They explore trends in remote living, potential features for a service that assists nomads, and the business model for generating revenue. The dialogue also touches on collaboration with a venture builder and the importance of user feedback in developing the platform.\n",
      "Processed meeting 7bac546e-43b4-48f1-8347-35d567c805df - indexed to both Qdrant and Elasticsearch\n"
     ]
    },
    {
     "name": "stderr",
     "output_type": "stream",
     "text": [
      "/app/new_indexing.py:71: FutureWarning: DataFrame.fillna with 'method' is deprecated and will raise in a future version. Use obj.ffill() or obj.bfill() instead.\n",
      "  df = df[['formatted_time','topic','content','speaker']].fillna(method='ffill')\n"
     ]
    },
    {
     "name": "stdout",
     "output_type": "stream",
     "text": [
      "The chunk is part of a conversation between Aleksandr Lavrinenko and Dmitry Grankin discussing technical experiments related to virtual microphones and audio processing, as well as updates on their respective products and projects in the field of online consultations and transcription technology.\n",
      "The chunk is part of a conversation between Aleksandr Lavrinenko and Dmitry Grankin, where they discuss updates and features of their respective products, specifically focusing on the recent release of a Chrome extension and its new dashboard.\n",
      "The chunk is part of a conversation between Dmitry Grankin and Aleksandr Lavrinenko discussing audio streaming, real-time transcription, and the technical challenges of speaker identification and diarization in the context of developing a Chrome extension for audio processing.\n",
      "The chunk occurs during a conversation between Dmitry Grankin and Aleksandr Lavrinenko, where they discuss updates and changes to a Chrome extension, including its visual design and backend improvements, as well as their experiences with the product.\n",
      "In this conversation, Aleksandr Lavrinenko discusses his technical experiments with virtual microphones and audio processing, specifically focusing on the integration of these technologies with Google Meet and the challenges of implementing features like diarization and transcription for online therapy sessions.\n",
      "This chunk is part of a conversation between Aleksandr Lavrinenko and Dmitry Grankin discussing the use of virtual microphones, updates on their respective products, and technical details related to AI models, specifically mentioning the GPT-4 mini model.\n",
      "This chunk is part of a conversation between Aleksandr Lavrinenko and Dmitry Grankin, where they discuss the challenges and developments in their respective projects, particularly focusing on a new software solution aimed at psychotherapists for tracking client progress during online consultations.\n",
      "The chunk is part of a conversation between Aleksandr Lavrinenko and Dmitry Grankin discussing the functionalities of a Chrome Extension related to Google Meet, including its capabilities for real-time access and comparison with a competitor's product. They explore technical aspects and seek information on how the competitor's product operates.\n",
      "The chunk is part of a conversation between Aleksandr Lavrinenko and Dmitry Grankin discussing the challenges and technical aspects of transcription software, specifically focusing on the readability of transcribed text and the user interface of their respective tools, including issues related to Google Chrome's display settings.\n",
      "This chunk is part of a conversation between Dmitry Grankin and Aleksandr Lavrinenko discussing the development and testing of their respective software products, focusing on the challenges of creating effective solutions for online consultations, particularly in the context of psychotherapists. They explore technical aspects, user experience, and the importance of practical implementation over perfection.\n",
      "The chunk is part of a conversation between Aleksandr Lavrinenko and Dmitry Grankin discussing the development of a transcription tool for online therapy sessions. They explore the technical requirements for transcribing speech, identifying speakers, and the need for punctuation to enhance readability. Aleksandr expresses urgency in testing the product with a group of therapists for feedback.\n",
      "The chunk is part of a conversation between Aleksandr Lavrinenko and Dmitry Grankin discussing the development and testing of a software solution for online psychotherapy sessions conducted via platforms like Zoom and Google Meet. They explore the functionalities of their respective products, including audio processing and transcription capabilities, and consider the implications of using Google Meet for their project.\n",
      "The chunk is part of a conversation between Aleksandr Lavrinenko and Dmitry Grankin discussing their respective products and potential collaborations. In this specific segment, Lavrinenko expresses his intention to suggest to his co-founder the idea of testing a product called VEX, considering the possibility of integrating it with Chrome for cost-effectiveness, while reflecting on the competitive landscape of their industry.\n",
      "The chunk occurs during a conversation between Aleksandr Lavrinenko and Dmitry Grankin, where they discuss the development of a product related to online consultations for psychotherapists. Aleksandr expresses skepticism about creating a minimum viable product (MVP) using subpar methods, while referencing the potential use of Google Meet for their project.\n",
      "The chunk is part of a conversation between Aleksandr Lavrinenko and Dmitry Grankin, where they discuss technical experiments related to virtual microphones and audio processing tools, specifically focusing on the capabilities of the Crisp application and its potential for enhancing sound quality in their projects.\n",
      "Processed meeting a7973009-1387-47e4-a0cc-19694593194f - indexed to both Qdrant and Elasticsearch\n"
     ]
    },
    {
     "name": "stderr",
     "output_type": "stream",
     "text": [
      "/app/new_indexing.py:71: FutureWarning: DataFrame.fillna with 'method' is deprecated and will raise in a future version. Use obj.ffill() or obj.bfill() instead.\n",
      "  df = df[['formatted_time','topic','content','speaker']].fillna(method='ffill')\n"
     ]
    },
    {
     "name": "stdout",
     "output_type": "stream",
     "text": [
      "The chunk is a brief remark made at the beginning of a conversation, indicating that the speaker has just come from a challenging call, setting the tone for the subsequent discussion about trading, liquidity, and business strategies.\n",
      "The chunk is part of a conversation between Sergio Goriachev and Dmitriy Grankin discussing the development of a trading product that incorporates technology and tokenization to address the needs and pain points of participants in trading deals.\n",
      "The chunk is part of a conversation between Sergio Goriachev and Dmitriy Grankin discussing the challenges and opportunities in international trade, specifically focusing on liquidity provision through DeFi tools for transactions between suppliers and buyers in different countries.\n",
      "This chunk is part of a conversation between Sergio Goriachev and Dmitriy Grankin discussing the development of a startup, focusing on market potential, traffic acquisition strategies, and the importance of user retention in the B2C sector.\n",
      "The chunk is part of a conversation between Dmitriy Grankin and Sergio Goriachev discussing liquidity supply in the context of cryptocurrency trading and international transactions. They explore the challenges of securing financing through banks, the role of liquidity in trade operations, and the impact of market conditions on profitability.\n",
      "The chunk is part of a conversation between Sergio Goriachev and Dmitriy Grankin discussing the implementation of digital solutions in trading logistics, specifically focusing on the use of digital bills of lading and electronic documentation to streamline the verification and quality control of goods during shipping.\n",
      "This chunk is part of a conversation between Dmitriy Grankin and Sergio Goriachev discussing the potential profitability of financing operations in the cryptocurrency market, specifically focusing on liquidity provision and the returns from trading operations. They analyze the timeframes for transactions and the impact of compound interest on earnings.\n",
      "This chunk is part of a conversation between Sergio Goriachev and Dmitriy Grankin discussing the initial steps for developing a marketing strategy for a project. Sergio emphasizes the importance of creating a presentation, identifying key features, and utilizing SEO strategies to attract traffic, while also exploring cost-effective tools and methods to test product hypotheses.\n",
      "The chunk is part of a conversation between Sergio Goriachev and Dmitriy Grankin discussing strategies for generating traffic and content ideas for a project aimed at digital nomads. They explore using popular topics from Reddit to create engaging content for platforms like YouTube Shorts and consider the feasibility of implementing these ideas through a Telegram bot.\n",
      "This chunk is part of a conversation between Sergio Goriachev and Dmitriy Grankin discussing the complexities and challenges of trading, particularly in the context of DeFi (Decentralized Finance) and international transactions. Sergio shares a personal anecdote about a past trading experience involving a sulfur ship, highlighting the risks and intricacies of dealing with suppliers and buyers in different countries.\n",
      "The chunk is part of a conversation between Sergio Goriachev and Dmitriy Grankin discussing their trading operations, specifically focusing on the implementation of a new website feature that allows buyers to showcase their cryptocurrency wallets (in USDT) to facilitate transactions without traditional bank documentation. They explore the use of smart contracts and the need for human oversight in confirming transactions.\n",
      "This chunk is part of a conversation between Dmitriy Grankin and Sergio Goriachev discussing strategies for growing a startup, focusing on traffic generation, competitor analysis, and the potential for testing hypotheses related to a product. Grankin emphasizes the importance of user retention and the possibility of securing investment for future rounds, while also considering the implications of a specific business idea related to R&B&B.\n",
      "This chunk is part of a conversation between Sergio Goriachev and Dmitriy Grankin discussing business strategies, particularly focusing on the concept of a \"free exit\" in entrepreneurial ventures. They explore the potential of leveraging existing networks and experiences to create new opportunities, while also considering the viability of a specific project related to R'n'B. The dialogue reflects their brainstorming on innovative ideas and market possibilities.\n",
      "This chunk is part of a conversation between Sergio Goriachev and Dmitriy Grankin discussing the development of tools for digital nomads. They explore ideas for keyword research, potential product features, and the importance of understanding user needs in order to create a valuable assistant for this target audience. The dialogue reflects their brainstorming process and the need for a solid product concept to attract users and investors.\n",
      "Processed meeting 21d4d45e-19c3-40c3-ad9d-277b5dc7405b - indexed to both Qdrant and Elasticsearch\n"
     ]
    },
    {
     "name": "stderr",
     "output_type": "stream",
     "text": [
      "/app/new_indexing.py:71: FutureWarning: DataFrame.fillna with 'method' is deprecated and will raise in a future version. Use obj.ffill() or obj.bfill() instead.\n",
      "  df = df[['formatted_time','topic','content','speaker']].fillna(method='ffill')\n"
     ]
    },
    {
     "name": "stdout",
     "output_type": "stream",
     "text": [
      "This chunk is part of a conversation between Jasper Vanuytrecht and Dmitry Grankin, where they discuss their current locations and the weather. Jasper mentions spending time in Catalonia, while Dmitry shares that he is in Cascais, Portugal, and they compare the distances to nearby cities like Lisbon.\n",
      "The chunk occurs during a conversation between Jasper Vanuytrecht and Dmitry Grankin, where they discuss their current locations and experiences in different regions of Spain and Portugal, leading to a personal inquiry about Dmitry's origins.\n",
      "This chunk is part of a conversation between Jasper Vanuytrecht and Dmitry Grankin, where Jasper discusses the importance of having a systematic strategy and process for lead generation and outreach, particularly focusing on automation and identifying the right channels for B2B marketing.\n",
      "This chunk is part of a conversation between Dmitry Grankin and Jasper Vanuytrecht, where Dmitry discusses the challenges of balancing product development with marketing and sales efforts in a startup environment. He reflects on his experiences with hiring a product manager, the difficulties of effective communication, and the importance of understanding the target audience for successful marketing strategies.\n",
      "This chunk is part of a conversation between Jasper Vanuytrecht and Dmitry Grankin, where Jasper provides feedback on Dmitry's product demo, discussing sales strategies, market positioning, and the importance of understanding customer needs. He emphasizes the need for effective messaging and highlights the demand for tools that help store information securely, particularly for enterprises.\n",
      "This chunk is part of a conversation between Dmitry Grankin and Jasper Vanuytrecht discussing the vision and functionality of a product designed to facilitate knowledge sharing within organizations. It highlights the importance of verbal communication in meetings, the value of accessible knowledge, and the potential use cases for the product, as well as the challenges in understanding market needs and competition.\n",
      "The chunk occurs during a conversation between Jasper Vanuytrecht and Dmitry Grankin, where they discuss their backgrounds and reasons for living in their current locations. Jasper inquires about Dmitry's move from Russia, leading to a brief exchange about Dmitry's escape in 2021, which was not related to the war or sanctions that began in 2022.\n",
      "This chunk is part of a conversation between Dmitry Grankin and Jasper Vanuytrecht, where Dmitry discusses the challenges of gaining trust as a small startup in the tech industry. He explains his solution of providing a secure, on-premises backend and frontend system that can operate independently of external parties like OpenAI, addressing concerns about data privacy and security for potential enterprise clients.\n",
      "This chunk is part of a conversation between Jasper Vanuytrecht and Dmitry Grankin, where they discuss the functionality of a transcription tool that supports multiple languages, including Dutch. Jasper shares his positive experience using the tool for training sessions and workshops, highlighting its effectiveness in transcribing Dutch. The discussion also touches on the tool's features, such as real-time language switching and meeting summaries.\n",
      "This chunk occurs towards the end of a conversation between Dmitry Grankin and Jasper Vanuytrecht, where Dmitry discusses his current focus on coding and the potential for using SEO tools for marketing. He reflects on a competitor's strategy involving YouTube transcripts and expresses interest in transitioning his product from B2C to B2B. The dialogue emphasizes the importance of outreach and maintaining connections for future collaboration.\n",
      "The chunk is part of a conversation between Jasper Vanuytrecht and Dmitry Grankin, where they discuss Dmitry's background, his reasons for relocating from Russia, and the political climate in Russia, particularly in relation to raising children in an autocratic environment.\n",
      "This chunk is part of a conversation between Jasper Vanuytrecht and Dmitry Grankin, where Jasper discusses his consulting services aimed at helping business owners develop effective sales strategies. He outlines the structure, duration, and cost of his sessions, emphasizing the importance of execution and the founder's role in driving sales success. The context revolves around the challenges of sales and marketing for startups and the need for a systematic approach to generate leads and customers.\n",
      "This chunk is part of a conversation between Dmitry Grankin and Jasper Vanuytrecht discussing a product related to meeting summaries and knowledge management. They explore features of the product, its user base, funding status, and client acquisition strategies, highlighting the challenges and opportunities in marketing and sales for early-stage startups.\n",
      "Processed meeting 2a40c363-c52b-4f89-8719-e0be87591485 - indexed to both Qdrant and Elasticsearch\n"
     ]
    },
    {
     "name": "stderr",
     "output_type": "stream",
     "text": [
      "/app/new_indexing.py:71: FutureWarning: DataFrame.fillna with 'method' is deprecated and will raise in a future version. Use obj.ffill() or obj.bfill() instead.\n",
      "  df = df[['formatted_time','topic','content','speaker']].fillna(method='ffill')\n"
     ]
    },
    {
     "name": "stdout",
     "output_type": "stream",
     "text": [
      "The chunk occurs at the beginning of a conversation between Oleg Ageychev and Dmitry Grankin, where they exchange greetings and inquire about each other's well-being before discussing a project related to a Google Meet assistant.\n",
      "The chunk is part of a conversation between Oleg Ageychev and Dmitry Grankin, where Dmitry discusses his recent work on coding and finalizing a publication related to his project, which is an assistant for Google Meet.\n",
      "Dmitry Grankin discusses the features of his assistant for Google Meet, emphasizing its ability to highlight and interact with important information during conversations.\n",
      "The chunk occurs during a conversation between Oleg Ageychev and Dmitry Grankin, where they discuss the functionality of a knowledge assistant for Google Meet. Oleg emphasizes the importance of verbalizing his thoughts during conversations, which are then recorded and can be referenced later.\n",
      "The chunk is part of a conversation between Oleg Ageychev and Dmitry Grankin, where they discuss the nature of data on the internet, specifically focusing on the limited percentage of publicly accessible data compared to the vast amount of information that remains unshared or private.\n",
      "The chunk is part of a conversation between Oleg Ageychev and Dmitry Grankin discussing the development of a Google Meet assistant called Векция. Dmitry explains how the assistant utilizes public information to generate knowledge and insights, emphasizing the effectiveness of this process.\n",
      "The chunk is part of a conversation between Oleg Ageychev and Dmitry Grankin, where they discuss the capabilities of a Google Meet assistant called Векция. Dmitry explains how the assistant collects and generalizes knowledge, comparing it to the functionality of ChatGPT in generating responses based on the data it was trained on.\n",
      "The chunk is part of a conversation between Oleg Ageychev and Dmitry Grankin, where Dmitry discusses his project, \"векция,\" which is an assistant for Google Meet that collects and provides access to knowledge. This discussion occurs as they explore the functionalities and potential of the assistant in relation to user needs and data management.\n",
      "The chunk is part of a conversation between Dmitry Grankin and Oleg Ageychev discussing a Google Meet assistant called Вексия, which collects and organizes knowledge. Dmitry explains its features, including its multilingual capabilities, highlighting how it can switch between languages during interactions.\n",
      "The chunk occurs during a conversation between Oleg Ageychev and Dmitry Grankin, where they discuss the development and functionality of a knowledge assistant for Google Meet. Oleg is inquiring about the implications of training a GPT model with personal data and the potential concerns surrounding data privacy and ownership.\n",
      "In this conversation, Oleg Ageychev discusses his desire to create a personal assistant that learns from his interactions and context, emphasizing the sensitivity of the data he provides and the importance of secure storage, while addressing concerns about copyright and legal issues related to the information he shares.\n",
      "This chunk is part of a conversation between Dmitry Grankin and Oleg Ageychev discussing the development of a knowledge assistant for Google Meet. In this specific segment, Dmitry explains the technical aspects of how the model processes unstructured text to create dense indexes and ensures data security between users, addressing concerns about data leaks.\n",
      "The conversation between Oleg Ageychev and Dmitry Grankin revolves around the development of a Google Meet assistant called Vexia, which collects and organizes knowledge for users. Dmitry discusses the importance of personal information and how it adds value to users, highlighting the transition from general public data to individual user data. The chunk in question specifically addresses the point at which the assistant begins to gather and provide access to users' personal information.\n",
      "This chunk is part of a conversation between Dmitry Grankin and Oleg Ageychev discussing the value of conversations and the functionality of a real-time transcription product that Dmitry is developing, which processes and refines spoken dialogue into a structured format.\n",
      "The chunk occurs during a conversation between Oleg Ageychev and Dmitry Grankin, where they discuss the security and privacy of user data in the context of a knowledge assistant for Google Meet. Oleg is inquiring about the potential for data leakage between users and the measures in place to ensure that individual user information remains confidential.\n",
      "Dmitry Grankin discusses his current focus on acquiring users for his product, rather than seeking funding, as he shares insights about his assistant for Google Meet and its features.\n",
      "The chunk occurs during a discussion between Oleg Ageychev and Dmitry Grankin about the monetization strategy for Dmitry's product, specifically addressing subscription pricing and security concerns related to user data.\n",
      "The chunk occurs during a conversation between Dmitry Grankin and Oleg Ageychev, where they discuss the features and functionalities of a knowledge management assistant for Google Meet, specifically focusing on how the assistant structures and organizes knowledge.\n",
      "The chunk occurs during a conversation between Oleg Ageychev and Dmitry Grankin, where they discuss a project called \"векция,\" an assistant for Google Meet that collects and provides access to knowledge. Oleg seeks clarification on the concept of \"knowledge\" as it relates to the functionality of the assistant.\n",
      "This chunk is part of a conversation between Dmitry Grankin and Oleg Ageychev discussing the development of a productivity tool called \"курсора\" (Cursor), its applications in programming, and its potential use in game development. The dialogue reflects on the efficiency and advancements in software development tools, highlighting Grankin's background as a programmer.\n",
      "Dmitry Grankin discusses the current state and development of his assistant for Google Meet, indicating a desire to show its interface and features during the conversation with Oleg Ageychev.\n",
      "The chunk occurs during a conversation between Dmitry Grankin and Oleg Ageychev, where they discuss the value of personal information and knowledge in the context of a Google Meet assistant product being developed by Dmitry.\n",
      "The chunk is part of a conversation between Oleg Ageychev and Dmitry Grankin discussing the value of personal data compared to publicly available information, specifically highlighting how banking transactions represent a minuscule fraction of the vast amount of data on the internet.\n",
      "The chunk is part of a conversation between Dmitry Grankin and Oleg Ageychev discussing the features and functionalities of a knowledge assistant for Google Meet, specifically focusing on how the assistant indexes conversations and organizes knowledge for user access.\n",
      "The chunk occurs during a discussion between Oleg Ageychev and Dmitry Grankin about the user experience of a Google Meet assistant, specifically addressing user concerns regarding the presence of a bot during meetings and the implications of its visibility.\n",
      "In this segment of the conversation, Oleg Ageychev inquires about the progress and appearance of Dmitry Grankin's project, while also asking if Dmitry is currently raising funds, indicating a discussion about the project's development and financial aspects.\n",
      "The chunk occurs during a discussion between Dmitry Grankin and Oleg Ageychev about a project involving a Google Meet assistant called Vexia. Dmitry is explaining the functionality of the assistant, specifically how it processes and indexes conversations for knowledge retrieval.\n",
      "In this section of the conversation, Dmitry Grankin discusses the fundamental user need for information preservation and highlights the competitive advantages of his product, specifically the absence of a bot presence in meetings and its multilingual capabilities. This reflects the users' preferences and the unique selling points of his assistant for Google Meet.\n",
      "The chunk is part of a conversation between Oleg Ageychev and Dmitry Grankin discussing technological advancements and programming tools, specifically focusing on the impact of Visual Studio Code (VS Code) on software development practices.\n",
      "The chunk occurs during a conversation between Dmitry Grankin and Oleg Ageychev, where Dmitry discusses his work and seeks to understand Oleg's expertise in content marketing and video production, highlighting the importance of original and effective products in communication and advertising.\n",
      "This chunk is part of a conversation between Oleg Ageychev and Dmitry Grankin discussing the limitations and functionalities of AI tools, specifically focusing on how user interactions with these tools have been modified to limit their responses and the challenges in extracting critical feedback from them.\n",
      "This chunk occurs during a discussion between Dmitry Grankin and Oleg Ageychev about the current status of Dmitry's project and potential funding opportunities. Dmitry expresses his disinterest in a press round and indicates a preference to skip certain funding stages.\n",
      "Dmitry Grankin discusses the nature of data used in his project, explaining that it consists of publicly available information, which he likens to a form of the internet, as part of a broader conversation about knowledge gathering and user data in the context of his assistant for Google Meet.\n",
      "In a conversation between Oleg Ageychev and Dmitry Grankin about the development of a Google Meet assistant and the importance of user data, Oleg expresses interest in creating innovative communication strategies, viewing it as an open opportunity without specific constraints.\n",
      "The chunk is part of a conversation between Oleg Ageychev and Dmitry Grankin discussing the implications of using a program that transcribes meetings, emphasizing the importance of informing participants about the recording for legal and ethical reasons.\n",
      "This chunk is part of a conversation between Dmitry Grankin and Oleg Ageychev, where Dmitry discusses his current focus on sharing his product, attracting users, and gathering feedback, while expressing that he does not currently need funding or monetization strategies.\n",
      "The chunk is part of a conversation between Dmitry Grankin and Oleg Ageychev discussing the security of data in a software product. Dmitry explains how data is secured and offers a solution for companies that require additional security measures by deploying the backend in their own cloud infrastructure.\n",
      "This chunk is part of a conversation between Dmitry Grankin and Oleg Ageychev discussing the features of a knowledge assistant for Google Meet, specifically focusing on the sharing functionality that allows users to share conversations and information while maintaining context.\n",
      "This chunk is part of a conversation between Dmitry Grankin and Oleg Ageychev, where Dmitry discusses his use of a tool called \"курсора\" (Cursor) for real-time collaboration in software development. He emphasizes the importance of working closely with others and the challenges he faces in finding suitable collaborators.\n",
      "The chunk is part of a conversation between Dmitry Grankin and Oleg Ageychev discussing the features and capabilities of a knowledge assistant for Google Meet, specifically focusing on how it can provide contextual responses based on previous discussions.\n",
      "This chunk is part of a conversation between Dmitry Grankin and Oleg Ageychev discussing the features and functionalities of a knowledge assistant for Google Meet, specifically focusing on how conversations are analyzed and summarized into knowledge units for user retrieval.\n",
      "This chunk occurs during a conversation between Oleg Ageychev and Dmitry Grankin, where Oleg inquires about data management and user privacy regarding the assistant tool being discussed. He expresses a desire for a feature that allows users to delete their data, highlighting the importance of user control over personal information.\n",
      "The chunk is part of a conversation between Dmitry Grankin and Oleg Ageychev discussing the development and features of a knowledge assistant for Google Meet. In this specific segment, Dmitry emphasizes the existing market need for a tool that allows users to retain and manage new information effectively, highlighting the competitive landscape and user desires for information preservation.\n",
      "В этом фрагменте Олег Ageychev обсуждает возможности фандрайзинга и предлагает Дмитрию Гранкину показать его проект потенциальным инвесторам, включая Богданова и фонд ультра-ВС, который ищет инвестиции в образовательные технологии.\n",
      "In this segment of the conversation, Oleg Ageychev expresses concerns about the ethical implications of using a bot during meetings, particularly regarding the privacy of transcribed conversations and the lack of user consent. He emphasizes the importance of user awareness and legal protection when sharing information in such contexts.\n",
      "This chunk occurs during a conversation between Dmitry Grankin and Oleg Ageychev, where they discuss the features and marketing strategies of Dmitry's product, a Google Meet assistant. Dmitry explains the concept of product-led growth and how sharing links to recorded calls can enhance user engagement and understanding of the product's value.\n",
      "In this segment of the conversation, Dmitry Grankin discusses his approach to building a user base for his product through word-of-mouth marketing (saraфан), emphasizing the importance of delivering a valuable product and iterating based on user feedback. He expresses a growing confidence in the product's maturity, suggesting it is now ready for marketing and sales efforts.\n",
      "The chunk occurs during a conversation between Dmitry Grankin and Oleg Ageychev, where they discuss the marketing strategies and user engagement related to Dmitry's assistant product for Google Meet, highlighting the importance of user feedback and communication in building the product's value.\n",
      "The chunk occurs at the end of a conversation between Oleg Ageychev and Dmitry Grankin, where they discuss the progress of Dmitry's project, Vexia, and the need for competitor analysis. Oleg is concluding the discussion and indicating plans to follow up on the information shared.\n",
      "The chunk occurs during a conversation between Oleg Ageychev and Dmitry Grankin, where they discuss the importance of communication in the context of a product that collects and organizes knowledge from meetings. Oleg emphasizes the growing significance of effective communication strategies within the sector they are discussing.\n",
      "The chunk occurs during a discussion between Oleg Ageychev and Dmitry Grankin about the potential for creative communication strategies and innovative ideas in their respective fields, emphasizing the absence of specific limits in brainstorming and the value of generating interesting and useful concepts.\n",
      "In a conversation between Oleg Ageychev and Dmitry Grankin about a Google Meet assistant product, Oleg suggests exploring strategies to attract more teams to use Dmitry's product, indicating his interest in enhancing its market reach and user engagement.\n",
      "The chunk is part of a conversation between Oleg Ageychev and Dmitry Grankin discussing the value of personal information and knowledge in the context of a Google Meet assistant called Векция. Dmitry emphasizes the significance of personal data for users, highlighting its greater value compared to publicly available information.\n",
      "This chunk is part of a conversation between Dmitry Grankin and Oleg Ageychev discussing the development and potential of a knowledge assistant for Google Meet. Dmitry emphasizes the importance of user feedback and team collaboration, highlighting how energy and creativity emerge when teams share information during client interactions.\n",
      "This chunk occurs during a conversation between Dmitry Grankin and Oleg Ageychev, where they discuss advancements in programming tools and technologies. Dmitry mentions a specific tool that enhances coding efficiency, allowing for faster development, and Oleg expresses interest in learning more about it for his brother, who is a beginner programmer.\n",
      "This chunk is part of a conversation between Oleg Ageychev and Dmitry Grankin discussing the development and features of a knowledge assistant for Google Meet. Oleg expresses interest in exploring competitors and potential ideas for collaboration, while also sharing his preferences for using Google Meet over Zoom for meetings.\n",
      "The chunk occurs during a conversation between Oleg Ageychev and Dmitry Grankin, where Oleg is inquiring about how he can contribute or be useful in relation to Dmitry's project, which involves a knowledge assistant for Google Meet. Oleg expresses uncertainty about his requests and emphasizes his interest in utilizing the tool.\n",
      "This chunk occurs during a conversation between Oleg Ageychev and Dmitry Grankin, where they discuss the functionality of a knowledge assistant for Google Meet. Oleg expresses how the assistant helps him articulate his thoughts and refer back to previous discussions, highlighting the tool's utility in organizing and retrieving information.\n",
      "In this segment of the conversation, Oleg Ageychev discusses his desire to develop a knowledge base that functions as an editor for his creative work. He emphasizes the importance of human interaction in the feedback process and contrasts it with the limitations of AI tools like ChatGPT, suggesting a need for a more critical and responsive system.\n",
      "This chunk is part of a conversation between Oleg Ageychev and Dmitry Grankin discussing the development and implications of a knowledge assistant tool for Google Meet. Oleg reflects on the evolving challenges and opportunities in the business landscape, particularly regarding knowledge management, reputation, and emerging legal issues within the sector.\n",
      "The chunk occurs during a conversation between Oleg Ageychev and Dmitry Grankin, where they discuss the capabilities of a knowledge assistant for Google Meet, specifically focusing on how the assistant collects and organizes information from conversations. Oleg is inquiring about the extent of the assistant's knowledge and data collection.\n",
      "This chunk is part of a conversation between Dmitry Grankin and Oleg Ageychev, where Dmitry discusses his experience in developing a product called \"курсора\" (Cursor) after transitioning from a team-based approach to working independently. He reflects on the challenges of collaboration, the efficiency gained from working alone, and the common struggles faced by those in technical roles.\n",
      "This chunk is part of a conversation between Oleg Ageychev and Dmitry Grankin, where Oleg expresses his interest in developing a personal assistant that can help him create scripts and structure his ideas, drawing from his past experiences of collaborating with a human assistant. The discussion revolves around the use of technology and AI in enhancing creativity and productivity.\n",
      "This chunk is part of a conversation between Dmitry Grankin and Oleg Ageychev, where Dmitry discusses his experience with a programming tool called \"курсора\" (Cursor) that enhances his coding efficiency. He reflects on the challenges of finding suitable collaborators and contrasts his current workflow with previous methods, emphasizing a more streamlined and productive approach to software development.\n",
      "The chunk occurs during a conversation between Dmitry Grankin and Oleg Ageychev, where they discuss the development and features of a Google Meet assistant called Векция. Dmitry shares his experiences and insights about user engagement and marketing strategies, including his collaboration with an influencer, which highlights the importance of leveraging external partnerships for product promotion.\n",
      "This chunk is part of a conversation between Dmitry Grankin and Oleg Ageychev, where Dmitry discusses his current focus on product development and user feedback, expressing a lack of interest in fundraising or external investments at the moment.\n",
      "In this segment of the conversation, Oleg Ageychev is requesting Dmitry Grankin to provide links to his competitors. He emphasizes the importance of understanding their communication styles and focuses, suggesting that insights can be derived from analyzing how different companies engage with their consumers. This discussion is part of a broader dialogue about product development, user feedback, and marketing strategies.\n",
      "This chunk occurs during a conversation between Dmitry Grankin and Oleg Ageychev, where Dmitry discusses the development of his product, the challenges he faced with team communication and information transfer, and the realization that direct interaction with users is more valuable than relying on a product marketing person. Oleg responds by highlighting the alignment between Dmitry's values and the product he is creating.\n",
      "In a conversation between Oleg Ageychev and Dmitry Grankin about the development of a knowledge assistant for Google Meet, Oleg reflects on Dmitry's insights regarding user needs for information retention and the importance of being close to that information. He acknowledges the storytelling aspect of Dmitry's experience in product development, highlighting the discovery of a feature that enhances information management.\n",
      "In this conversation between Oleg Ageychev and Dmitry Grankin, Oleg discusses the importance of effectively communicating the value of Dmitry's product to a diverse audience, emphasizing the need to tailor the messaging for both technical and creative individuals. He reflects on his own business experiences, highlighting his preference for working independently on projects and the significance of conveying the product's value clearly to potential users.\n",
      "In this conversation between Oleg Ageychev and Dmitry Grankin, Oleg discusses the challenges of relying on word-of-mouth marketing (saraфан) for business growth, emphasizing the unpredictability of its outcomes compared to more structured marketing strategies like Google or Facebook ads. He reflects on the inherent risks of their current approach and suggests the need for a more systematic marketing strategy.\n",
      "В данном фрагменте Олег Агеевич обсуждает проблемы, связанные с сарафанным маркетингом, основываясь на своем опыте продаж. Он подчеркивает, что хотя сарафанный метод приносил ему успех, он неэффективен для масштабирования бизнеса с устойчивым денежным потоком. Этот разговор происходит в контексте более широкой дискуссии о маркетинговых стратегиях и развитии бизнеса между Олегом и Дмитрием Гранкиным.\n",
      "Processed meeting 5401ff51-4f8f-4f95-a5d2-21564c9b3cc4 - indexed to both Qdrant and Elasticsearch\n"
     ]
    },
    {
     "name": "stderr",
     "output_type": "stream",
     "text": [
      "/app/new_indexing.py:71: FutureWarning: DataFrame.fillna with 'method' is deprecated and will raise in a future version. Use obj.ffill() or obj.bfill() instead.\n",
      "  df = df[['formatted_time','topic','content','speaker']].fillna(method='ffill')\n"
     ]
    },
    {
     "name": "stdout",
     "output_type": "stream",
     "text": [
      "The chunk is part of a conversation between Alex Shevliakov and Dmitry Grankin, where Alex discusses his involvement in multiple projects, including a startup focused on a streaming data platform and his own project. He reflects on his approach to coding and design, emphasizing the importance of rapid development and iteration in response to client needs.\n",
      "This chunk is part of a conversation between Alex Shevliakov and Dmitry Grankin, where they discuss their collaborative work processes, the dynamics of teamwork in a startup environment, and the importance of daily accountability in achieving progress. They also touch on community engagement among indie hackers and provide feedback on website structure and SEO strategies.\n",
      "This chunk is part of a conversation between Alex Shevliakov and Dmitry Grankin discussing the development and functionality of a software project, focusing on features like speaker filtering, sharing capabilities, and user engagement. They explore strategies for organic growth, user feedback, and the importance of understanding user workflows, while also considering the potential for integrating additional functionalities and targeting specific user cases.\n",
      "This chunk is part of a conversation between Alex Shevliakov and Dmitry Grankin, where they discuss knowledge management, the integration of various data channels, and the dynamics of collaborative work in software development. Alex shares his experiences with project management and the benefits of working closely with a partner, emphasizing the importance of real-time feedback and agile development practices.\n",
      "This chunk is part of a conversation between Dmitry Grankin and Alex Shevliakov discussing strategies for user acquisition and product development, particularly focusing on the effectiveness of influencer marketing, the importance of integrating with calendars, and the dynamics of organic traffic through social media versus SEO. They explore the challenges and opportunities in leveraging these strategies for growth in their respective projects.\n",
      "Processed meeting 2182def0-c078-45f6-bce1-cbac254c8007 - indexed to both Qdrant and Elasticsearch\n"
     ]
    },
    {
     "name": "stderr",
     "output_type": "stream",
     "text": [
      "/app/new_indexing.py:71: FutureWarning: DataFrame.fillna with 'method' is deprecated and will raise in a future version. Use obj.ffill() or obj.bfill() instead.\n",
      "  df = df[['formatted_time','topic','content','speaker']].fillna(method='ffill')\n"
     ]
    },
    {
     "name": "stdout",
     "output_type": "stream",
     "text": [
      "This chunk is part of the introductory conversation in a business meeting where Sunny and Nora are greeting Dmitry, who is joining from Lisbon, Portugal. They are establishing rapport and context before discussing business matters.\n",
      "This chunk occurs at the beginning of a conversation between Dmitry Grankin and Sunny Wyrzykowski, where they introduce themselves, share their locations, and agree to record the call for note-taking purposes before discussing business matters.\n",
      "This chunk occurs during a conversation between Sunny Wyrzykowski and Dmitry Grankin, where Sunny is assessing Dmitry's business situation and goals for his product, specifically focusing on user acquisition and growth strategies.\n",
      "This chunk occurs towards the end of a conversation between Dmitry Grankin and representatives from Ace Makers, where Dmitry inquires about their use of the Fathom product, discussing its functionality and effectiveness in recording calls and retaining internal knowledge.\n",
      "This chunk occurs during a conversation between Dmitry Grankin and Sunny Wyrzykowski, where Dmitry discusses his goals for user acquisition for his product, including both individual and B2B users. He explains his strategies for growth, including a bottom-up and top-down approach, and addresses privacy and security concerns related to product deployment in companies.\n",
      "This chunk occurs during a conversation between Sunny Wyrzykowski and Dmitry Grankin, where they discuss Dmitry's current marketing efforts to acquire clients for his product. Sunny inquires about the effectiveness of outreach strategies beyond word of mouth, leading to Dmitry's reflections on his experiences with platforms like Product Hunt, LinkedIn, and influencer marketing in Brazil.\n",
      "This chunk occurs early in a conversation between Dmitry Grankin and Sunny Wyrzykowski, where Dmitry introduces his product, a Chrome extension called VXR, which transcribes calls and highlights important information. The discussion is part of a broader meeting aimed at understanding business situations, goals, and potential collaboration between Dmitry and the Ace Makers team.\n",
      "This chunk occurs during a conversation between Dmitry Grankin and Sunny Wyrzykowski, where Dmitry expresses interest in specific consulting questions related to user acquisition. Sunny explains the consulting model of Ace Makers, emphasizing the monthly retainer and six-month duration for effective progress, ultimately indicating that this model may not align with Dmitry's needs.\n",
      "This chunk occurs towards the end of a conversation between Sunny Wyrzykowski, Dmitry Grankin, and Nora Köppling, where they discuss Dmitry's product, VXR, and its features. Nora expresses interest in trying out the product, mentions its current free status, and leaves the door open for future consulting discussions, indicating a positive conclusion to the meeting.\n",
      "This chunk occurs during a conversation between Sunny Wyrzykowski and Dmitry Grankin, where Sunny is outlining the purpose of the call, which is to understand Dmitry's business situation, goals, and challenges. Sunny also introduces Ace Makers and seeks to gauge Dmitry's familiarity with the company, while Dmitry shares insights about his product and interest in exploring sales opportunities.\n",
      "This chunk occurs during a conversation between Sunny Wyrzykowski and Dmitry Grankin, where Sunny is explaining the services offered by Ace Makers, a consulting firm that helps IT consulting company founders develop business strategies. The discussion focuses on the benefits of one-on-one consulting sessions and the tailored approach to address individual business needs, leading to an offer for a strategy session with a consulting expert.\n",
      "This chunk occurs towards the end of a conversation between Dmitry Grankin and Sunny Wyrzykowski, where Dmitry discusses the advantages of his product, Vexa, in comparison to another product, Fathom. He highlights Vexa's unique features, such as its silent operation during calls and multilingual capabilities, while also emphasizing its ability to build collective knowledge from meetings.\n",
      "This chunk occurs during a conversation between Dmitry Grankin and Sunny Wyrzykowski, where Dmitry discusses his business goals, specifically aiming for a few thousand paying users for his product, which is currently free and has around 300 users. He also mentions the challenges he faces, such as lacking a bank account and payment integration, while highlighting the product's value for collective knowledge sharing.\n",
      "This chunk occurs during a conversation between Sunny Wyrzykowski and Dmitry Grankin, where Sunny is explaining the details of a proposed strategy session with a consulting expert named Jacob. The discussion focuses on how the session will help analyze Dmitry's business situation and develop a tailored strategy for collaboration, emphasizing that the session is free and aimed at ensuring a good fit before any financial commitments are made.\n",
      "This chunk occurs during a conversation between Sunny Wyrzykowski and Dmitry Grankin, where they discuss the potential for consulting services offered by Ace Makers. Sunny outlines the investment required for the consulting program, and Dmitry expresses his concerns about the feasibility of a monthly payment due to his current capacity to implement the advice. The dialogue reflects the negotiation and exploration of consulting options tailored to Dmitry's business needs.\n",
      "This chunk is part of a conversation between Dmitry Grankin and Sunny Wyrzykowski, where Dmitry discusses his product, a Chrome extension for Google Meet users, highlighting its competitive advantages, such as its multilingual capabilities and silent operation during meetings. The dialogue is focused on understanding Dmitry's business goals and current user demographics, particularly in relation to the Brazilian market.\n",
      "Processed meeting e4b4ba0c-1249-400a-81eb-469361572591 - indexed to both Qdrant and Elasticsearch\n"
     ]
    },
    {
     "name": "stderr",
     "output_type": "stream",
     "text": [
      "/app/new_indexing.py:71: FutureWarning: DataFrame.fillna with 'method' is deprecated and will raise in a future version. Use obj.ffill() or obj.bfill() instead.\n",
      "  df = df[['formatted_time','topic','content','speaker']].fillna(method='ffill')\n"
     ]
    },
    {
     "name": "stdout",
     "output_type": "stream",
     "text": [
      "The chunk occurs at the beginning of a conversation between Lara Vargas and Dmitry Grankin, where they are confirming their audio connection before discussing various topics, including their locations, weather, and plans related to VEXA, a product they are involved with.\n",
      "The chunk occurs at the beginning of a conversation between Lara Vargas and Dmitry Grankin, where they discuss their locations, the weather, and Lara's background as a Brazilian from Rio, setting a friendly tone for the meeting.\n",
      "This chunk occurs during a discussion between Lara Vargas and Dmitry Grankin about the recent enhancements made to VEXA, specifically focusing on the product's new features that improve user engagement and knowledge retention during meetings.\n",
      "This chunk is part of a conversation between Lara Vargas and Dmitry Grankin, where Lara discusses her previous role as a marketing manager at Buitrix, detailing her responsibilities in user acquisition, CRM management, paid campaigns, and content creation for an energy monitoring product.\n",
      "This chunk is part of a conversation between Dmitry Grankin and Lara Vargas discussing the features and improvements of the VEXA platform, specifically focusing on user feedback regarding the need for a dashboard to enhance post-meeting usability and insights.\n",
      "This chunk occurs during a discussion between Dmitry Grankin and Lara Vargas about the promotional activities and timelines related to an influencer partnership, specifically referencing dates of announcements and relaunches that impacted user registrations for their product, VEXA.\n",
      "This chunk occurs during a conversation between Dmitry Grankin and Lara Vargas, where they discuss Dmitry's interest in obtaining Brazilian permanent residence and citizenship, as well as their thoughts on visiting Brazil, specifically mentioning Florianopolis as a desirable location.\n",
      "This chunk occurs during a discussion between Lara Vargas and Dmitry Grankin about potential strategies for expanding the VEXA product, specifically focusing on new integrations and the challenges of targeting different user bases, including smaller companies using Google Meet versus larger corporations using Microsoft Teams.\n",
      "The chunk occurs during a conversation between Lara Vargas and Dmitry Grankin, where they discuss the process of obtaining Brazilian permanent residence, particularly in relation to family connections, such as having a Portuguese child, which can facilitate the residency process.\n",
      "The chunk occurs during a conversation between Dmitry Grankin and Lara Vargas, where they discuss Dmitry's interest in obtaining Brazilian permanent residence and the implications of his background as a Ukrainian-born Russian citizen. This exchange highlights their personal experiences and motivations related to travel and citizenship.\n",
      "This chunk occurs towards the end of a conversation between Dmitry Grankin and Lara Vargas, where they discuss scheduling a follow-up meeting, the use of Google Meet for calls, and issues related to user access and premium subscriptions for the VEXA platform.\n",
      "This chunk occurs during a conversation between Lara Vargas and Dmitry Grankin, where they discuss potential influencer partnerships, the impact of a YouTube video by an influencer named Lucas, and strategies for promoting VEXA through social media, including challenges with Instagram and setting up advertising accounts.\n",
      "This chunk is part of a conversation between Dmitry Grankin and Lara Vargas discussing strategies for content creation and influencer marketing for the VEXA product. They explore the effectiveness of leveraging influencers with established audiences versus creating original content based on user search behavior, emphasizing the importance of understanding the target audience's needs and preferences.\n",
      "This chunk occurs during a discussion between Dmitry Grankin and Lara Vargas about the potential of their product, VEXA, particularly in relation to its user base and retention rates among free users, including those from the crypto and web 3 sectors in Brazil. They are exploring strategies for moving forward despite the absence of a payment system.\n",
      "This chunk occurs during a discussion between Dmitry Grankin and Lara Vargas about the impact of influencer marketing on user registrations for VEXA. They analyze the effects of a specific influencer's promotion within a closed community of alumni in Brazil, highlighting the potential for increased engagement and the influencer's notable role in advocating for productivity initiatives in the country.\n",
      "This chunk is part of a conversation between Dmitry Grankin and Lara Vargas discussing strategies for VEXA's market penetration. Dmitry outlines a dual approach to reach potential users within companies, addressing the challenges of security and privacy that hinder a bottom-up strategy, and proposes a solution involving deploying VEXA's backend within company infrastructures.\n",
      "This chunk is part of a conversation between Lara Vargas and Dmitry Grankin, where Lara discusses her experience as a marketing manager at Biltrix, focusing on content strategy, branded content, and social media engagement, particularly on LinkedIn. The discussion highlights her approach to educating customers and promoting the product, as well as her role in managing marketing efforts.\n",
      "This chunk is part of a conversation between Dmitry Grankin and Lara Vargas discussing recent updates and features of the VEXA platform, specifically focusing on its new dashboard and knowledge-sharing capabilities during meetings. The dialogue also touches on the integration of insights and action points from meetings, as well as a brief mention of a previous conversation in Russian.\n",
      "This chunk is part of a conversation between Lara Vargas and Dmitry Grankin discussing content creation strategies for VEXA, focusing on search engine optimization and user needs. Lara suggests starting with what potential users are searching for, using the example of a competitor that provides YouTube transcripts, and emphasizes the importance of delivering relevant content to attract traffic and convert users.\n",
      "This chunk is part of a conversation between Dmitry Grankin and Lara Vargas discussing the performance and user retention of their product, VEXA, particularly in relation to its appeal in Brazil. They mention the influence of a community leader, Renata, who promoted the product to her audience, and the impact of multilingual capabilities on user engagement.\n",
      "This chunk is part of a conversation between Lara Vargas and Dmitry Grankin discussing Lara's transition from a B2B marketing role at Buildtrix to seeking opportunities in B2C marketing. She reflects on her experiences, preferences, and the fulfillment she finds in understanding and engaging with customers, while also touching on the potential of Vexa's product offerings in both consumer and enterprise markets.\n",
      "This chunk occurs during a conversation between Lara Vargas and Dmitry Grankin, where they discuss the challenges of setting up a business account on Facebook. Lara shares her experience with the difficulties she faced while setting up her first account and mentions her transition from a full-time position at a B2B SaaS company called Build Tricks to seeking freelance opportunities, indicating her availability to assist Dmitry.\n",
      "Processed meeting d6b623d8-542e-40ed-8660-cdb9efceaf81 - indexed to both Qdrant and Elasticsearch\n"
     ]
    },
    {
     "name": "stderr",
     "output_type": "stream",
     "text": [
      "/app/new_indexing.py:71: FutureWarning: DataFrame.fillna with 'method' is deprecated and will raise in a future version. Use obj.ffill() or obj.bfill() instead.\n",
      "  df = df[['formatted_time','topic','content','speaker']].fillna(method='ffill')\n"
     ]
    },
    {
     "name": "stdout",
     "output_type": "stream",
     "text": [
      "This chunk is part of a larger discussion among multiple individuals, primarily Dmitriy Grankin, about their experiences with partnerships in business. It includes anecdotes about investment, collaboration, and the dynamics of working with partners, as well as reflections on personal growth and challenges faced in these partnerships.\n",
      "This chunk is part of a larger discussion by Dmitriy Grankin about his experiences with partnerships in business, where he reflects on both successful and unsuccessful collaborations, including working with family and friends.\n",
      "This chunk is part of a larger discussion on partnerships and personal experiences related to business collaborations. Dmitriy Grankin reflects on a successful long-term partnership, highlighting the challenges faced, personal growth achieved, and the resolution of conflicts within the partnership.\n",
      "This chunk is part of a larger discussion on partnerships and collaboration experiences among various individuals, where Dmitriy Grankin shares his insights on the prevalence of partnerships in his projects, the challenges faced, and the importance of taking time to evaluate potential partners.\n",
      "This chunk is part of a larger discussion among several individuals, including Dmitriy Grankin and Christian, about their experiences with partnerships, business projects, and personal ventures. It specifically highlights Dmitriy's background in technology and partnerships, followed by a brief introduction to Christian's project focused on automating personal finance management.\n",
      "This chunk is part of a larger discussion among various individuals, including Dmitriy Grankin and Andy, about their experiences and projects related to partnerships, business ventures, and personal coaching. It highlights Dmitriy's marketing program and coaching focus, as well as Andy's health tech and fintech startups, contributing to the overall theme of collaboration and entrepreneurship.\n",
      "This chunk is part of a larger discussion among several individuals, primarily Dmitriy Grankin, reflecting on their experiences with partnerships in business. It highlights Dmitriy's thoughts on the challenges of finding reliable partners, his past experiences with partnerships, and a brief mention of his interest in shamanism in Peru, indicating a personal journey alongside his professional reflections.\n",
      "This chunk is part of a larger discussion on partnerships and personal experiences in business, where Dmitriy Grankin shares his insights and stories about his ventures, including his first business partnership with his brother and the challenges faced. It highlights his background in video production and graphics, as well as his approach to sharing experiences and learning from others in the context of partnerships.\n",
      "This chunk is part of a larger discussion among various individuals sharing their experiences and projects related to partnerships, business ventures, and personal finance. Dmitriy Grankin is providing feedback and insights on Andre's projects, which focus on HealthTech and financial services, while also introducing Christian, who is working on automating personal finance management.\n",
      "This chunk is part of a larger discussion among various individuals, including Dmitriy Grankin, about their experiences with partnerships and business projects. In this specific segment, Dmitriy shares details about his recent project focused on automating personal finance management, highlighting its purpose, development process, and his search for a co-founder, while also referencing his extensive background in building partnership programs.\n",
      "This chunk is part of a larger discussion led by Dmitriy Grankin, where he shares his experiences and insights on partnerships in business, particularly focusing on the development and licensing of technologies since 2009. He highlights the creation of a partnership program aimed at integrating their technologies into consumer products, including wireless speakers and smart home devices, and discusses the impact of these innovations on various industries, including automotive and health tech.\n",
      "This chunk is part of a larger discussion among various individuals sharing their experiences and insights on partnerships, business ventures, and personal projects. Dmitriy Grankin specifically discusses his venture, VXA, which is an AI assistant for Google Meet, detailing its development, the challenges faced with a co-founder, and the subsequent success achieved after the partnership ended. The context includes reflections on personal backgrounds, business experiences, and the importance of effective collaboration in entrepreneurial endeavors.\n",
      "Processed meeting 7a2b0c2f-c043-427c-b2a0-68e9a6a18b34 - indexed to both Qdrant and Elasticsearch\n"
     ]
    },
    {
     "name": "stderr",
     "output_type": "stream",
     "text": [
      "/app/new_indexing.py:71: FutureWarning: DataFrame.fillna with 'method' is deprecated and will raise in a future version. Use obj.ffill() or obj.bfill() instead.\n",
      "  df = df[['formatted_time','topic','content','speaker']].fillna(method='ffill')\n"
     ]
    },
    {
     "name": "stdout",
     "output_type": "stream",
     "text": [
      "This chunk is part of a conversation where Dmitriy Grankin discusses the features of a transcription and summarization tool used during meetings, highlighting its ability to provide real-time transcripts, summarize discussions, and send summaries via email to users who miss meetings.\n",
      "This chunk occurs during a discussion about the need for efficient meeting summaries and the ability to understand and translate conversations in real-time, highlighting the challenges of language barriers among participants from different backgrounds.\n",
      "The chunk occurs during a discussion about the features and functionalities of a meeting transcription and summarization tool, where Dmitriy Grankin is asking for a visual demonstration of the dashboard to better understand its capabilities.\n",
      "This chunk is part of a discussion where Dmitriy Grankin explains the features of a meeting recording and transcription tool, specifically focusing on its ability to summarize ongoing meetings and create participant tables.\n",
      "The chunk occurs during a discussion about the features and capabilities of a transcription and summarization tool, where Dmitriy Grankin inquires about the underlying large language model (LLM) being utilized for the service.\n",
      "This chunk occurs during a discussion about the features of a transcription and meeting summarization tool, specifically focusing on the need for manual recording initiation and the quality of the transcriptions, including the potential for proofreading.\n",
      "This chunk occurs during a discussion about the capabilities of a transcription and summarization tool, where Dmitriy Grankin demonstrates its ability to translate and summarize conversations in real-time, specifically switching to Romanian to discuss project timelines and resource allocation.\n",
      "This chunk is part of a conversation where Dmitriy Grankin discusses user preferences for a meeting transcription and summarization tool, emphasizing the need for customizable summaries and action lists in different languages, as well as the importance of user feedback for future improvements.\n",
      "This chunk is part of a discussion where Dmitriy Grankin compares his product's features with those of Microsoft Teams and Slack, addressing competition and the challenges posed by larger companies with more resources. It highlights the limitations of existing platforms and the potential for differentiation in a sparse market.\n",
      "This chunk is part of a conversation where Dmitriy Grankin discusses strategies for differentiating his product in a competitive market, emphasizing the importance of user feedback and the evolving nature of the market landscape. It follows a discussion about competitors and the challenges of standing out in a space with emerging technologies and user needs.\n",
      "This chunk is part of a discussion where Dmitriy Grankin is explaining the functionality of a meeting transcription and summarization tool, emphasizing user preferences for quick access to information via email or calendar rather than engaging in follow-up conversations with the AI.\n",
      "This chunk is part of a conversation where Dmitriy Grankin discusses the capabilities of a transcription tool, specifically addressing concerns about transcription quality and the tool's ability to highlight and summarize important information in real-time transcripts.\n",
      "This chunk occurs during a discussion about the business model and user metrics of a transcription and meeting summarization tool, where Dmitriy Grankin inquires about the subscription model and the current user base, highlighting the number of active users and their engagement with the platform.\n",
      "This chunk occurs towards the end of a conversation where Dmitriy Grankin discusses the technical aspects of a transcription model and its integration with a large language model, specifically GPT-4. He expresses optimism about the potential growth of the user base and the financial success of the project, reflecting on the current user statistics and future aspirations.\n",
      "The chunk occurs during a discussion about the capabilities of a meeting transcription and summarization tool, where Dmitriy Grankin explains how users can engage with the tool to inquire about specific topics, such as the status of product development, across multiple meetings.\n",
      "Processed meeting 161f80a4-135f-4aa4-b2fc-84dec9d6445c - indexed to both Qdrant and Elasticsearch\n"
     ]
    },
    {
     "name": "stderr",
     "output_type": "stream",
     "text": [
      "/app/new_indexing.py:71: FutureWarning: DataFrame.fillna with 'method' is deprecated and will raise in a future version. Use obj.ffill() or obj.bfill() instead.\n",
      "  df = df[['formatted_time','topic','content','speaker']].fillna(method='ffill')\n"
     ]
    },
    {
     "name": "stdout",
     "output_type": "stream",
     "text": [
      "The chunk introduces Dmitriy Grankin's innovative concept for VXR, setting the stage for a detailed discussion about leveraging online events, community engagement, and collaborative content creation to enhance value and knowledge sharing among participants.\n",
      "The chunk is a concluding affirmation of the concept of collaborative intelligence, which is discussed throughout the document as a means to enhance content sharing, indexing, and community engagement in online events and meetups.\n",
      "The chunk describes Dmitriy Grankin's experience at an offline business club event where participants were openly discussing partnerships, setting the stage for his subsequent ideas about leveraging recorded meetings and collaborative content creation for broader engagement and value delivery.\n",
      "The chunk is part of a discussion by Dmitriy Grankin about the concept for VXR, focusing on how to create value through recording and sharing online events, particularly in relation to community engagement and the potential benefits for participants.\n",
      "The chunk discusses a marketing idea related to the integration of YouTube videos into a collaborative indexing system, where users can interact with the content, create new material, and save edits alongside the original video, contributing to a dynamic and user-driven content repository.\n",
      "This chunk occurs after Dmitriy Grankin shares his experience at an offline event where he recorded presentations and summarizes his thoughts on how to reposition a product to create immediate value for a large audience. It reflects his brainstorming process for enhancing the product's appeal and utility.\n",
      "The chunk is part of a discussion by Dmitriy Grankin about the concept of VXR, focusing on the sharing and indexing of various types of content, including meeting transcripts and YouTube videos, to create a collaborative and dynamic knowledge base that can range from private to public access.\n",
      "The chunk is part of a discussion by Dmitriy Grankin about his experience at an offline business club event, where he recorded and summarized presentations made by participants, including his own introduction and that of the speaker before him, as a way to explore the concept of creating value through shared content in online events.\n",
      "The chunk discusses the use of a large language model in the context of a collaborative platform where users or the community create prompts to enhance content sharing and indexing, as part of a broader vision for improving engagement and value delivery in online events and meetups.\n",
      "The document discusses Dmitriy Grankin's vision for VXR, focusing on creating a platform for recording and sharing online events, enhancing community engagement, and utilizing collaborative indexing to generate valuable content from meetups. The chunk highlights the capability of recording large gatherings of participants using the VXR system.\n",
      "This chunk is part of a discussion by Dmitriy Grankin about the concept of VXR, focusing on the idea of recording and sharing meetups to create a collaborative content index. It emphasizes the dynamic nature of the index and the potential for users to interact with and contribute to the content, enhancing its value and accessibility.\n",
      "The chunk is part of a discussion by Dmitriy Grankin about the concept of VXR, focusing on the idea of creating a collaborative platform for sharing and indexing content from events, such as meetups and university lectures. It emphasizes the potential for users to contribute additional content and insights, thereby enhancing the original material and forming a collaborative intelligence network.\n",
      "The chunk is part of a discussion by Dmitriy Grankin about the concept of VXR, focusing on the idea of collaborative indexing and content creation. It emphasizes the importance of human involvement in indexing information and creating secondary content, such as summaries and reports, to enhance the value and accessibility of the indexed material, which can be both public and private.\n",
      "The chunk is part of a discussion by Dmitriy Grankin about the concept of VXR, focusing on the idea of creating a public sharing mechanism for recorded events and content. He uses the metaphor of mycelium to describe the interconnectedness of shared information and the network-like structure of these interactions, emphasizing the collaborative nature of content creation and dissemination among participants.\n",
      "The chunk is part of a discussion by Dmitriy Grankin about the concept for VXR, focusing on creating value through sharing content from online events. It specifically addresses the idea of an \"event card\" as a content unit that includes raw text, summaries, and indexed content, which can enhance community engagement and knowledge sharing.\n",
      "The chunk discusses the concept of a \"content card\" as a key element in Dmitriy Grankin's vision for VXR, emphasizing its role in facilitating public sharing and collaborative content creation among users. This idea is part of a broader discussion on enhancing value through community engagement and the use of language models to generate supplementary knowledge.\n",
      "The chunk is part of a discussion by Dmitriy Grankin about the concept of VXR, focusing on the potential for recording and sharing online meetups to create a collaborative content index. It emphasizes the idea of expanding the audience for these meetups and how the indexed content can be enriched by contributions from others.\n",
      "Processed meeting 15af0212-e418-4476-8586-085581bfd8c9 - indexed to both Qdrant and Elasticsearch\n"
     ]
    },
    {
     "name": "stderr",
     "output_type": "stream",
     "text": [
      "/app/new_indexing.py:71: FutureWarning: DataFrame.fillna with 'method' is deprecated and will raise in a future version. Use obj.ffill() or obj.bfill() instead.\n",
      "  df = df[['formatted_time','topic','content','speaker']].fillna(method='ffill')\n"
     ]
    },
    {
     "name": "stdout",
     "output_type": "stream",
     "text": [
      "The chunk occurs at the beginning of a conversation between Waqas Arshad and Dmitry Grankin, where they exchange greetings and inquire about each other's well-being before transitioning into a discussion about a Google Meet Assistant product and its features.\n",
      "The chunk is part of a conversation between Waqas Arshad and Dmitry Grankin, where Dmitry introduces and explains the features of a Google Meet Assistant tool that transcribes meetings and provides actionable items, highlighting its functionality and competitive advantages in the market.\n",
      "This chunk occurs during a conversation between Waqas Arshad and Dmitry Grankin, where Waqas inquires about the pricing model of Dmitry's Google Meet Assistant tool. Dmitry explains that the tool is currently free and will eventually adopt a subscription-based model with a freemium option.\n",
      "In a conversation between Waqas Arshad and Dmitry Grankin about the marketing strategies for a new AI transcription tool, Waqas emphasizes the importance of product-led SEO as a long-term strategy to attract users by addressing their specific problems, contrasting it with short-term tactics like PPC and influencer marketing.\n",
      "This chunk is part of a conversation between Waqas Arshad and Dmitry Grankin discussing a Chrome extension that provides clean transcriptions and actionable items from Google Meet meetings. Dmitry explains the functionality of the extension, including its context-aware chat assistant and the ease of installation without requiring user integration of APIs.\n",
      "This chunk is part of a conversation between Waqas Arshad and Dmitry Grankin, where Waqas discusses the importance of content marketing and blogging for driving organic traffic to Dmitry's AI product. He emphasizes that investing time in these strategies will lead to a steady influx of visitors and enhance the product's visibility in search results over time.\n",
      "This chunk occurs during a conversation between Waqas Arshad and Dmitry Grankin, where they discuss the features and user experience of a Chrome extension for transcribing Google Meet meetings. Waqas inquires about the visibility of the transcription process to other meeting participants and highlights a competitive advantage of the product, emphasizing its discreet operation compared to other tools.\n",
      "This chunk is part of a conversation between Waqas Arshad and Dmitry Grankin discussing marketing strategies for a new product, specifically focusing on the effectiveness of influencer marketing and SEO. Dmitry shares insights on user acquisition through platforms like Product Hunt, G2, and Capterra, while emphasizing the importance of long-term SEO efforts for visibility in search results.\n",
      "This chunk is part of a conversation between Waqas Arshad and Dmitry Grankin, where Waqas inquires about the future plans and competitive advantages of Dmitry's product in comparison to established tools like Fireflies AI and Otter AI. Dmitry responds by highlighting the unique features of their product, such as not using bots in meetings and offering multilingual support.\n",
      "This chunk occurs during a conversation between Waqas Arshad and Dmitry Grankin, where Waqas discusses the importance of SEO and content marketing for Dmitry's product, which is currently in beta testing. He compares Dmitry's product to competitors like Otter and Firefly, emphasizing the need for a blog section that addresses user queries to enhance conversion rates.\n",
      "This chunk occurs towards the end of a conversation between Waqas Arshad and Dmitry Grankin, where Waqas provides strategic advice on content marketing for Dmitry's AI product. He emphasizes the importance of focusing on high-quality content over quantity, discusses the relevance of targeted traffic in the SaaS industry, and suggests conducting trials with different content creation approaches to evaluate effectiveness and pricing.\n",
      "This chunk occurs during a discussion between Waqas Arshad and Dmitry Grankin about the pricing and value of content creation services for SEO. Waqas outlines the packages offered, emphasizing the quality and effectiveness of their service compared to cheaper alternatives, while Dmitry expresses surprise at the high pricing. The conversation highlights the importance of quality over quantity in content marketing for SaaS products.\n",
      "This chunk occurs during a conversation between Waqas Arshad and Dmitry Grankin, where Waqas inquires about the future plans for Dmitry's product, specifically regarding its subscription model and lead generation strategies. This discussion follows an exploration of the product's features and competitive advantages, highlighting the importance of marketing and user acquisition strategies in the context of launching a new tool in a competitive market.\n",
      "This chunk occurs during a discussion between Dmitry Grankin and Waqas Arshad about content marketing strategies for a SaaS product. Dmitry elaborates on the importance of categorizing content into top, middle, and bottom of the funnel topics to effectively attract and convert traffic into sales, emphasizing the need to align content with user search intent and the product's value proposition.\n",
      "This chunk occurs during a conversation between Waqas Arshad and Dmitry Grankin, where Waqas discusses the importance of targeting interested users for conversion and proposes a trial article to demonstrate the quality of his content creation services compared to cheaper alternatives. The dialogue emphasizes the value of high-quality content in establishing authority in the SaaS market and critiques the pitfalls of prioritizing quantity over quality in SEO strategies.\n",
      "This chunk occurs during a discussion between Dmitry Grankin and Waqas Arshad about content creation strategies for Dmitry's product. They are exploring the possibility of developing a content marketing plan, including the frequency of posts, budget considerations, and the approach to competitor analysis and content generation. Dmitry expresses interest in a semi-automated system for content creation, indicating his desire for efficiency and effectiveness in their content strategy.\n",
      "This chunk occurs during a discussion between Waqas Arshad and Dmitry Grankin about content creation strategies for Dmitry's AI tool. They explore the balance between using AI for content generation and the necessity of manual processes to ensure quality and relevance in SEO. Waqas emphasizes the importance of human oversight in content creation, outlining the steps involved in developing effective content briefs and outlines, while Dmitry shares insights about his team's capabilities and approach to content production.\n",
      "This chunk is part of a conversation between Waqas Arshad and Dmitry Grankin, where Waqas discusses strategies for content marketing and SEO specifically tailored for SaaS companies. He emphasizes the importance of understanding the product's features, identifying the ideal customer profile (ICP), and creating relevant content that addresses user needs to generate leads, rather than just focusing on traffic. The dialogue also touches on the potential for using video content to drive traffic to the website.\n",
      "Processed meeting 2a92e93e-dc1c-455d-acbb-182555197434 - indexed to both Qdrant and Elasticsearch\n"
     ]
    },
    {
     "name": "stderr",
     "output_type": "stream",
     "text": [
      "/app/new_indexing.py:71: FutureWarning: DataFrame.fillna with 'method' is deprecated and will raise in a future version. Use obj.ffill() or obj.bfill() instead.\n",
      "  df = df[['formatted_time','topic','content','speaker']].fillna(method='ffill')\n"
     ]
    },
    {
     "name": "stdout",
     "output_type": "stream",
     "text": [
      "This chunk is part of a conversation between Lara Vargas and Dmitriy Grankin, where Lara discusses a recent incident involving windows falling from a building, expressing concern about the building's construction quality. The dialogue transitions into a discussion about marketing strategies and influencer outreach.\n",
      "This chunk occurs early in the conversation between Dmitriy Grankin and Lara Vargas, where Dmitriy addresses a personal issue regarding his children and checks the quality of his internet connection before discussing marketing strategies and influencer outreach.\n",
      "This chunk is part of a conversation between Dmitriy Grankin and Lara Vargas discussing strategies for influencer marketing, specifically focusing on finding micro-influencers to promote Vexa and gather insights about their target audience and market positioning.\n",
      "This chunk occurs early in a conversation between Dmitriy Grankin and Lara Vargas, where they discuss their internet connection issues before transitioning into a discussion about influencer marketing strategies.\n",
      "This chunk is part of a conversation between Dmitriy Grankin and Lara Vargas discussing strategies for influencer marketing, specifically focusing on outreach to micro-influencers related to tools like Trello and Jira for content creation.\n",
      "This chunk occurs during a discussion between Dmitriy Grankin and Lara Vargas about strategies for influencer marketing, specifically focusing on outreach methods to engage micro-influencers on LinkedIn and the expected outcomes of such efforts.\n",
      "The chunk occurs during a discussion between Lara Vargas and Dmitriy Grankin about marketing strategies and potential use cases for VEXA, where Lara inquires about VEXA's integration capabilities with project management tools Trello and Jira.\n",
      "This chunk is part of a conversation between Lara Vargas and Dmitriy Grankin discussing the potential applications of VEXA, a transcription tool, in qualitative research, specifically in the context of focus groups and product feedback for companies launching new products.\n",
      "This chunk is part of a conversation between Lara Vargas and Dmitriy Grankin discussing various use cases for the VEXA tool. Specifically, Lara is outlining the application of VEXA in qualitative research, highlighting its benefits for transcription and analysis of interviews conducted by specialized marketing companies.\n",
      "This chunk occurs during a discussion between Dmitriy Grankin and Lara Vargas about strategies for influencer marketing and product management. Dmitriy is seeking clarification on the specific mechanics and processes involved in their outreach efforts, particularly in relation to customer development interviews and the overall pipeline for their marketing strategy.\n",
      "This chunk occurs during a discussion between Lara Vargas and Dmitriy Grankin about strategies for influencer marketing and content creation for VEXA. Lara suggests focusing on understanding the audience and existing content before creating new material, emphasizing the importance of engaging with influencers to better define the problem space.\n",
      "This chunk occurs during a discussion between Lara Vargas and Dmitriy Grankin about identifying and engaging with micro-influencers for marketing purposes. Lara emphasizes the importance of a human touch in evaluating influencers' engagement rates, sharing insights from a previous experience with live sessions and contrasting follower counts with actual viewer engagement.\n",
      "This chunk occurs during a discussion between Lara Vargas and Dmitriy Grankin, where they are brainstorming ideas to enhance the utility of VEXA, a tool they are working on. Lara references a previous conversation about exploring innovative uses for VEXA and presents her thoughts on potential applications and content creation strategies.\n",
      "This chunk occurs towards the end of a conversation between Dmitriy Grankin and Lara Vargas, where they discuss the next steps in their outreach strategy for engaging with micro-influencers. They agree on creating a list of target audiences and channels for outreach, emphasizing collaboration and the importance of processing their findings into actionable steps.\n",
      "This chunk is part of a conversation between Lara Vargas and Dmitriy Grankin discussing potential use cases for the VEXA tool. Lara proposes using VEXA for training feedback in communication, specifically targeting coaches and career coaches, and outlines a strategy for promoting this use case on social media platforms like LinkedIn and Instagram.\n",
      "This chunk occurs during a discussion between Lara Vargas and Dmitriy Grankin about strategies for influencer marketing and content creation. Lara is seeking clarification on the next steps in their collaborative efforts to engage with micro-influencers and develop a pipeline for outreach, following a brainstorming session on potential use cases for VEXA.\n",
      "This chunk occurs during a discussion between Lara Vargas and Dmitriy Grankin about potential use cases for VEXA, focusing on various types of engagements and how to effectively target audiences for marketing purposes. Lara lists different engagement types, and they explore the importance of understanding the production process in relation to content creation and audience targeting.\n",
      "This chunk is part of a conversation between Dmitriy Grankin and Lara Vargas, where they discuss strategies for influencer marketing, specifically focusing on identifying target audiences and relevant social media platforms for outreach. Dmitriy outlines a pipeline for selecting influencers and content types, emphasizing the importance of platforms like TikTok and YouTube for their marketing efforts.\n",
      "This chunk is part of a conversation between Dmitriy Grankin and Lara Vargas discussing strategies for influencer marketing, specifically focusing on engaging micro-influencers who have expertise in niche areas like project management tools (e.g., Jira). Dmitriy emphasizes the value of these influencers' audiences and their potential to source clients based on their domain expertise.\n",
      "The chunk is part of a conversation between Lara Vargas and Dmitriy Grankin discussing marketing strategies, specifically focusing on the use of micro-influencers with fewer than 10,000 subscribers to promote their product, VEXA. Dmitriy introduces the idea of engaging with these influencers to leverage their niche audiences for content creation and outreach efforts.\n",
      "This chunk occurs towards the end of a conversation between Dmitriy Grankin and Lara Vargas, where they discuss strategies for outreach to micro-influencers. Dmitriy emphasizes the importance of understanding the audience of these influencers and outlines action points for identifying and engaging with them, highlighting the value of meetings with domain experts rather than just content creators.\n",
      "This chunk is part of a conversation between Dmitriy Grankin and Lara Vargas, where they discuss strategies for influencer marketing, specifically focusing on the mechanics of automating the research and outreach process for identifying potential influencers on social media. Dmitriy explains how he assesses engagement rates and the importance of both automated tools and human evaluation in this process.\n",
      "This chunk is part of a conversation between Dmitriy Grankin and Lara Vargas discussing strategies for influencer marketing and content creation. Dmitriy emphasizes the importance of outreach to domain experts, setting up meetings to gather insights, and using that information to inform content development. The focus is on understanding the target audience and refining the approach based on interactions with influencers.\n",
      "This chunk is part of a conversation between Dmitriy Grankin and Lara Vargas, where Dmitriy discusses strategies for identifying and engaging with micro-influencers in specific industries. He emphasizes the importance of targeting domain insiders who have a precise user base and can provide insights into potential customer profiles, as he seeks to better understand his ideal customer for a system that services various business use cases.\n",
      "This chunk is part of a conversation between Dmitriy Grankin and Lara Vargas, where Dmitriy discusses a piece of code he created to automate the process of finding and contacting micro-influencers on YouTube. He explains how the code can generate a list of user profiles and their contact information, which will facilitate outreach and setting up meetings with potential influencers for content collaboration.\n",
      "This chunk is part of a conversation between Dmitriy Grankin and Lara Vargas discussing strategies for outreach to micro-influencers in the context of promoting VEXA, a tool related to project management. Dmitriy emphasizes the importance of gathering information from meetings with potential influencers and suggests using specific queries related to project management tools like Trello to facilitate outreach efforts.\n",
      "This chunk is part of a conversation between Dmitriy Grankin and Lara Vargas discussing strategies for outreach to micro-influencers on social media platforms. It focuses on the importance of content type over follower count in platforms like Instagram and TikTok, and the potential for organic partnerships on LinkedIn, as they explore ways to engage influencers for marketing purposes.\n",
      "This chunk occurs during a discussion between Lara Vargas and Dmitriy Grankin about using a piece of code to gather contact information for potential influencers on YouTube. Lara expresses confusion about the code's application and the type of content they should focus on for outreach, while also mentioning that she has a list of options to share later. This conversation is part of a broader dialogue on influencer marketing strategies and audience targeting.\n",
      "This chunk is part of a conversation between Dmitriy Grankin and Lara Vargas, where they discuss strategies for influencer outreach and marketing. Dmitriy emphasizes the importance of creating efficient pipelines for outreach on platforms like LinkedIn and YouTube, and he mentions using code to automate the process of identifying potential influencers. The discussion also touches on the need to target various audiences and explore different use cases for their product, VEXA.\n",
      "Processed meeting 4f64ba1e-fd80-4b5d-a1be-345225028f6c - indexed to both Qdrant and Elasticsearch\n"
     ]
    },
    {
     "name": "stderr",
     "output_type": "stream",
     "text": [
      "/app/new_indexing.py:71: FutureWarning: DataFrame.fillna with 'method' is deprecated and will raise in a future version. Use obj.ffill() or obj.bfill() instead.\n",
      "  df = df[['formatted_time','topic','content','speaker']].fillna(method='ffill')\n"
     ]
    },
    {
     "name": "stdout",
     "output_type": "stream",
     "text": [
      "The chunk is part of a conversation between Елизавета Иванова and Dmitry Grankin, where Елизавета discusses her recent health issues and the current status of a project, indicating a transition to discussing work-related topics.\n",
      "The chunk occurs at the beginning of a conversation between Елизавета Иванова and Dmitry Grankin, where they discuss ongoing projects and the busy period before the New Year, indicating a positive outlook on new initiatives.\n",
      "The chunk occurs early in the conversation between Dmitry Grankin and Eлизавета Иванова, where they discuss the busy period leading up to the New Year and transition into other topics related to their work and projects.\n",
      "This chunk occurs during a conversation between Dmitry Grankin and Eлизавета Иванова, where they discuss a new dashboard update and explore its features together, suggesting a screen-sharing session to better understand the changes.\n",
      "The chunk occurs during a discussion between Dmitry Grankin and Eлизавета Иванова about the functionality of a new dashboard and its features, specifically focusing on note-taking and transcription during meetings.\n",
      "The chunk occurs during a conversation between Елизавета Иванова and Dmitry Grankin, where they discuss their experiences and challenges with using a new dashboard tool, specifically addressing confusion about accessing the correct version of the dashboard and referencing a previous call.\n",
      "The chunk occurs during a conversation between Dmitry Grankin and Eлизавета Иванова, where they discuss a new dashboard feature and its usability, with Dmitry inquiring about Eлизавета's experience and actions related to it.\n",
      "The chunk is part of a conversation between Елизавета Иванова and Dmitry Grankin discussing the functionality of a new dashboard and the challenges they face while sharing screens and using presentation tools during their meetings.\n",
      "The chunk is part of a conversation between Елизавета Иванова and Dmitry Grankin discussing their experiences with a new dashboard tool, specifically highlighting the features and benefits of the \"Your Nodes-Based Summary\" function that generates reports and tasks.\n",
      "The chunk is part of a conversation between Елизавета Иванова and Dmitry Grankin discussing the features and usability of a new dashboard tool, where Елизавета shares her positive feedback and mentions a specific issue related to video streaming during presentations.\n",
      "The chunk occurs during a conversation between Елизавета Иванова and Dmitry Grankin, where they discuss a new dashboard and its features. Елизавета expresses her unfamiliarity with the new interface and mentions having seen a different page with new capabilities, indicating her interest but also confusion about the updates.\n",
      "The chunk occurs during a conversation between Dmitry Grankin and Eлизавета Иванова, where they discuss the new features of a dashboard on the vexa.ai platform. Dmitry expresses interest in how Eлизавета interacts with the new interface, while she shares her confusion and preference for the old dashboard.\n",
      "The chunk is part of a conversation between Dmitry Grankin and Eлизавета Иванова discussing the functionalities and challenges of a new dashboard tool, specifically focusing on screen sharing and audio issues during presentations.\n",
      "The chunk is part of a conversation between Dmitry Grankin and Eлизавета Иванова discussing the features and usability of a new dashboard tool, specifically focusing on the Global Search functionality and its potential applications for their team, including user access and pricing considerations for the tool.\n",
      "The chunk is part of a conversation between Елизавета Иванова and Dmitry Grankin discussing the challenges of using a presentation tool during a meeting, specifically focusing on issues with screen sharing, access permissions, and the interface clutter when switching between tabs.\n",
      "The chunk occurs during a discussion between Dmitry Grankin and Eлизавета Иванова about the new dashboard interface, specifically focusing on its features related to meeting summaries and how to navigate and utilize the dashboard effectively.\n",
      "The chunk occurs during a conversation between Елизавета Иванова and Dmitry Grankin, where they discuss technical issues related to screen sharing and demonstrating content during virtual meetings. Елизавета expresses frustration about the limitations of her screen sharing capabilities, particularly regarding confidentiality and sound reproduction.\n",
      "The chunk is part of a conversation between Eлизавета Иванова, Dmitry Grankin, and Евгения Садовская discussing the functionality and accuracy of a new dashboard and its features, specifically focusing on the correctness of transcripts and summaries from their meetings.\n",
      "The chunk is part of a conversation between Елизавета Иванова and Dmitry Grankin discussing a recent meeting that took place on December 9th, focusing on financial difficulties and organizational changes, as well as the functionality of a new dashboard and its transcription features.\n",
      "The chunk occurs during a conversation between Dmitry Grankin and Eлизавета Иванова, where they discuss the features of a new dashboard, including the ability to access meetings and filter participants. Dmitry expresses curiosity about the functionality related to viewing others' meetings and notes discrepancies in meeting titles.\n",
      "The chunk is part of a conversation between Елизавета Иванова and Dmitry Grankin discussing the usability and potential adoption of a new dashboard tool for their company. Елизавета expresses her thoughts on the tool's value, its accessibility, and the challenges users face when navigating multiple tabs during meetings.\n",
      "The chunk occurs during a conversation between Dmitry Grankin and Eлизавета Иванова, where they discuss the status of Dmitry's company, his challenges in opening a bank account in the U.S., and his focus on product development amidst the pressures of ensuring the product's market viability.\n",
      "The chunk occurs during a conversation between Dmitry Grankin and Eлизавета Иванова, where they discuss their experiences with a new dashboard tool, including issues related to meeting records and the visibility of past meetings, specifically referencing a meeting with Eгор on December 9.\n",
      "The chunk is part of a conversation between team members discussing the use of a new dashboard tool for managing meetings and tasks. Евгения Садовская is inquiring about the use cases of the tool, specifically regarding internal meetings and action points, while suggesting a follow-up discussion to explore these use cases further.\n",
      "The chunk is part of a conversation between Елизавета Иванова and Dmitry Grankin discussing the features and usability of a new dashboard tool, specifically focusing on its functionalities, such as generating summaries and the potential for adding hyper buttons for enhanced interactivity.\n",
      "The chunk is part of a conversation between Dmitry Grankin and Eлизавета Иванова discussing the features and usability of a new dashboard tool for managing meetings and project statuses. They focus on the importance of clear meeting titles and summaries for better tracking of discussions and decisions made during their weekly calls.\n",
      "В данном фрагменте Елизавета Иванова интересуется о продажах, на что Дмитрий Гранкин отвечает о трудностях с открытием счета в США и необходимостью наличия директора для оформления. Этот диалог происходит в контексте обсуждения работы и проектов команды.\n",
      "В данном документе обсуждаются новые функции и интерфейс дашборда, используемого для управления проектами и встречами. В этом контексте Дмитрий Гранкин задает вопросы о юзкейсе системы, интересуясь, как она используется для внутренних и клиентских созвонов, а также как происходит передача дел с помощью бота.\n",
      "The chunk occurs at the end of a conversation between Eлизавета Иванова and Dmitry Grankin, where they discuss the functionalities of a new dashboard and their experiences with it, concluding with polite farewells.\n",
      "The chunk is part of a conversation between Елизавета Иванова and Dmitry Grankin discussing the use of a new dashboard tool, where Елизавета expresses her active engagement with the tool and her efforts to encourage producers to utilize it, despite their time constraints.\n",
      "The chunk occurs towards the end of a conversation between Елизавета Иванова and Dmitry Grankin, where they discuss the potential purchase of a software tool for their company, comparing its cost to their current expenses for another service (АМАСИРМ). They also mention the pricing structure and the need for a more honest pricing model, before wrapping up the conversation as Елизавета prepares to leave for another meeting.\n",
      "This chunk occurs during a discussion between Dmitry Grankin and Eлизавета Иванова about the functionality and usability of a new meeting dashboard tool. They explore features such as a meeting bot that can automatically record meetings and the challenges faced when switching between tabs during presentations.\n",
      "The chunk is part of a conversation between Елизавета Иванова and Dmitry Grankin discussing the details of their meetings, specifically addressing a confusion about the content and categorization of a meeting that took place on December 9th, which was not related to financial issues as initially thought.\n",
      "The chunk occurs during a discussion between Елизавета Иванова and Dmitry Grankin about using a new dashboard tool for managing meetings and tasks. They are specifically focusing on organizing and documenting tasks based on decisions made in previous meetings, particularly related to cash flow planning.\n",
      "This chunk occurs during a conversation between Dmitry Grankin and Eлизавета Иванова, where they discuss the functionality and usability of a new dashboard tool. Dmitry reflects on the naming of meetings and the tracking of past meetings, specifically mentioning interactions with a colleague named Vika and the challenges of recording and retrieving meeting notes.\n",
      "Processed meeting 860f9495-13a2-486e-8abf-3b5a3ec22a48 - indexed to both Qdrant and Elasticsearch\n"
     ]
    },
    {
     "name": "stderr",
     "output_type": "stream",
     "text": [
      "/app/new_indexing.py:71: FutureWarning: DataFrame.fillna with 'method' is deprecated and will raise in a future version. Use obj.ffill() or obj.bfill() instead.\n",
      "  df = df[['formatted_time','topic','content','speaker']].fillna(method='ffill')\n"
     ]
    },
    {
     "name": "stdout",
     "output_type": "stream",
     "text": [
      "This chunk is part of an introductory conversation between representatives of AI Marketing Directory and Dmitry Grankin, where they reconnect and acknowledge recent changes in their respective companies before discussing their current focus and strategies.\n",
      "The chunk is part of a conversation between representatives of AI Marketing Directory and Dmitry Grankin, discussing the evolution of their respective companies and the changes they have undergone since their last interaction.\n",
      "This chunk is part of a conversation between the AI Marketing Directory and Dmitry Grankin, discussing their approach to content creation for founder-led companies. It emphasizes the importance of collaboration and developing a tailored content plan over a specified timeline.\n",
      "This chunk concludes a discussion between the AI Marketing Directory team and Dmitry Grankin about their content creation and marketing strategy for Vexa, summarizing the next steps and expressing gratitude for the meeting.\n",
      "This chunk occurs during a conversation between Dmitry Grankin and the AI Marketing Directory, where Dmitry introduces his product, Vexa, a meeting note-taking tool, while discussing collaboration and sharing progress on their respective projects.\n",
      "This chunk occurs during a conversation between representatives of AI Marketing Directory and Dmitry Grankin, where they discuss a shift in the company's focus and express interest in exploring potential collaboration regarding Vexa, a meeting note-taking product.\n",
      "This chunk occurs during a conversation between the AI Marketing Directory and Dmitry Grankin, where they discuss the use of meeting note-taking tools and the organization of notes, specifically focusing on how Dmitry stores and retrieves information from his meetings.\n",
      "This chunk occurs during a discussion between Dmitry Grankin and the AI Marketing Directory team, where Dmitry presents the features and functionalities of Vexa, a meeting note-taking tool, highlighting its real-time capabilities and user-friendly interface.\n",
      "This chunk is part of a conversation between the AI Marketing Directory and Dmitry Grankin, discussing the structure and frequency of their potential partnership, specifically focusing on content planning and collaboration for VEXA, a meeting note-taking product.\n",
      "This chunk occurs during a conversation between Dmitry Grankin and representatives from AI Marketing Directory, where they discuss the focus on helping founders with growth strategies and the current stage of updating their landing page and product development.\n",
      "This chunk is part of a conversation between representatives of AI Marketing Directory and Dmitry Grankin, discussing the company's strategic pivot towards creating high-quality content for founder-led companies, with an initial focus on Twitter for distribution before expanding to LinkedIn.\n",
      "This chunk is part of a conversation between Dmitry Grankin and the AI Marketing Directory, where Dmitry discusses his challenges with content creation for his business, specifically focusing on issues of consistency, time management, and the need for tools to effectively manage content channels.\n",
      "This chunk is part of a conversation between AI Marketing Directory and Dmitry Grankin, where they discuss the use of meeting note-taking tools and the personal experiences of the AI Marketing Directory team in summarizing calls for internal communication, particularly in relation to their third partner.\n",
      "This chunk is part of a conversation between representatives of AI Marketing Directory and Dmitry Grankin, discussing their new approach to content creation for founder-led companies. It highlights their expertise in crafting viral content and leveraging an influencer network, emphasizing the challenges founders face in executing their ideas effectively.\n",
      "This chunk is part of a conversation between the AI Marketing Directory team and Dmitry Grankin, where they discuss their approach to content creation and management for founder-led companies. It emphasizes the importance of constant communication and collaboration to understand the specific content needs and storytelling preferences of their clients.\n",
      "This chunk is part of a conversation between representatives of AI Marketing Directory and Dmitry Grankin, discussing the use and perceived value of meeting note-taking tools. It reflects on their experiences with such tools, their current needs, and the reluctance to adopt them at this stage of their business development.\n",
      "The chunk occurs during a conversation between Dmitry Grankin and the AI Marketing Directory team, where they discuss the structure of their meeting and the focus on customer development as they pivot their product strategy. Dmitry expresses interest in using customer development interviews to gather insights from potential customers regarding their product.\n",
      "This chunk occurs during a conversation between the AI Marketing Directory and Dmitry Grankin, where they discuss their experiences with various meeting note-taking products, including Fireflies and Otter AI, as part of a broader dialogue about the functionality and usefulness of such tools in their work processes.\n",
      "This chunk is part of a conversation between representatives of AI Marketing Directory and Dmitry Grankin, discussing the company's pivot towards creating tailored content strategies for founder-led businesses. It outlines their approach to understanding client products, analyzing market competition, and developing a comprehensive content plan over a specified timeframe.\n",
      "This chunk occurs towards the end of a conversation between representatives of AI Marketing Directory and Dmitry Grankin, the founder of Vexa. It focuses on discussing the next steps for collaboration, specifically regarding the crafting of a new landing page and how the AI Marketing Directory can support Vexa in growing its personal brand and content strategy.\n",
      "This chunk is part of a conversation between Dmitry Grankin and the AI Marketing Directory, where they discuss the use of meeting note-taking products, personal note-taking habits, and the perceived value of such tools. Dmitry shares his experiences and preferences regarding note-taking, specifically mentioning the use of Otter and GPT for summarizing meetings.\n",
      "This chunk is part of a conversation between Dmitry Grankin and the AI Marketing Directory team, where Dmitry discusses the challenges of creating content, particularly blog posts, and the importance of balancing personal vision with outsourcing tasks. He emphasizes the need for collaboration and staying involved in the content creation process to ensure it aligns with the product and brand identity.\n",
      "This chunk occurs during a discussion between Dmitry Grankin and the AI Marketing Directory team, where they explore the value and mechanics of content creation for founder-led companies. Dmitry expresses the need for clarity on the content strategy, emphasizing the importance of human-generated content and collaboration in the process, while the AI Marketing Directory team outlines their approach to managing content for both founders and their brands.\n",
      "This chunk occurs during a conversation between Dmitry Grankin and representatives from AI Marketing Directory, where Dmitry discusses his role as the sole founder of Vexa, his experiences with team dynamics, and the advantages of being a solo developer. The dialogue highlights the challenges and efficiencies in product development, as well as the collaborative nature of their ongoing discussions about content creation and marketing strategies.\n",
      "This chunk is part of a conversation between Dmitry Grankin and representatives from AI Marketing Directory, where Dmitry presents the features and benefits of his product, Vexa, a meeting note-taking tool. He emphasizes its capability to facilitate knowledge sharing and product-led growth through its functionalities during Google Meet sessions. The discussion also touches on Dmitry's role as the sole founder of Vexa.\n",
      "This chunk is part of a conversation between Dmitry Grankin and the AI Marketing Directory team, where Dmitry explains the features and functionalities of Vexa, a meeting note-taking tool that utilizes GPT for real-time context and post-meeting summaries. The discussion highlights the tool's ability to filter and research past meetings and interactions with specific individuals, showcasing its innovative approach to managing meeting information.\n",
      "Processed meeting 77af4031-a5a9-4dae-ad90-80d12bdadde0 - indexed to both Qdrant and Elasticsearch\n"
     ]
    },
    {
     "name": "stderr",
     "output_type": "stream",
     "text": [
      "/app/new_indexing.py:71: FutureWarning: DataFrame.fillna with 'method' is deprecated and will raise in a future version. Use obj.ffill() or obj.bfill() instead.\n",
      "  df = df[['formatted_time','topic','content','speaker']].fillna(method='ffill')\n"
     ]
    },
    {
     "name": "stdout",
     "output_type": "stream",
     "text": [
      "The chunk is part of a conversation between Viktoria Kharlamova and Dmitry Grankin, where Viktoria initiates the discussion by inquiring about the current status, questions, and assistance needed regarding a product development project.\n",
      "This chunk is part of a conversation between Dmitry Grankin and Viktoria Kharlamova, where Dmitry discusses the development and features of a product he has been using, referencing a previous interaction in August and indicating that there have been updates or changes since then.\n",
      "The chunk is part of a conversation between Viktoria Kharlamova and Dmitry Grankin discussing the development of a product that aims to serve as a knowledge hub for company projects, focusing on improving structure and organization of information.\n",
      "This chunk is part of a conversation between Dmitry Grankin and Viktoria Kharlamova discussing the features and user experience of a Chrome Extension related to onboarding and user statistics.\n",
      "In this section of the conversation, Viktoria Kharlamova is summarizing her understanding of the main challenges faced by Dmitry Grankin regarding user acquisition and retention for their product, emphasizing the need for increased incoming traffic and maintaining user engagement.\n",
      "This chunk is part of a conversation between Dmitry Grankin and Viktoria Kharlamova discussing the features and improvements of a product related to meeting management, including chat functionalities and structured summaries of meetings.\n",
      "This chunk occurs towards the end of a conversation between Viktoria Kharlamova and Dmitry Grankin, where they discuss plans for the upcoming quarters, the status of client engagement, and the potential for future collaboration on product development and monetization strategies.\n",
      "The chunk is part of a conversation between Dmitry Grankin and Viktoria Kharlamova discussing the development of a product that serves as a knowledge hub for project information, emphasizing its ability to store and structure data, as well as visual elements on the website.\n",
      "This chunk is part of a conversation between Dmitry Grankin and Viktoria Kharlamova discussing the features and functionalities of a product designed to enhance meeting management and information sharing within projects, emphasizing the integration of chat and document management.\n",
      "The chunk is part of a conversation between Viktoria Kharlamova and Dmitry Grankin discussing the potential monetization and retention of their product. Dmitry expresses uncertainty about the willingness of users to pay for the service and shares insights from a recent conversation regarding pricing expectations.\n",
      "In this segment of the conversation, Viktoria Kharlamova discusses the challenges related to product packaging and onboarding, emphasizing the need for a solid business model and effective user engagement. She highlights concerns about user registrations and their lack of usage, suggesting that onboarding may not be effective and identifying traffic as a critical issue that has not been adequately addressed.\n",
      "This chunk is part of a conversation between Viktoria Kharlamova and Dmitry Grankin discussing the product's user retention, active users, and the absence of a paid version. They analyze user engagement metrics and the challenges faced in establishing a paid model, highlighting the need for better onboarding and understanding of user behavior.\n",
      "This chunk is part of a conversation between Dmitry Grankin and Viktoria Kharlamova, where they discuss the metrics related to user engagement and growth for a product. Dmitry provides insights into the number of active users, daily registrations, and session statistics, highlighting challenges in user retention and product usage.\n",
      "The chunk is part of a conversation between Dmitry Grankin and Viktoria Kharlamova discussing the evolution of a meeting note-taking product. Grankin explains the shift from basic note-taking to a more advanced system that integrates access to both public and private data, emphasizing the importance of gated data for enhancing user experience and business direction.\n",
      "This chunk is part of a conversation between Viktoria Kharlamova and Dmitry Grankin discussing business consulting services, specifically focusing on pricing, preparation for meetings, and the importance of traffic generation for their product. It highlights the need for effective onboarding and monetization strategies while also addressing the challenges of attracting users.\n",
      "In this segment of the conversation, Viktoria Kharlamova discusses the importance of onboarding, traffic, and monetization strategies for a product, emphasizing a structured approach to improving user engagement and revenue generation. She outlines her flexible consulting format, which includes weekly sessions to analyze and enhance the onboarding process and explore monetization options, while also addressing the need for a retainer agreement for her services.\n",
      "This chunk is part of a conversation between Viktoria Kharlamova and Dmitry Grankin, where Viktoria discusses her focus on onboarding and monetization strategies for a product, while also addressing the challenges related to traffic and the importance of having a team in place to support these efforts. The dialogue explores the current state of the product's development and the potential for improvement in user engagement and business model implementation.\n",
      "This chunk is part of a conversation between Viktoria Kharlamova and Dmitry Grankin discussing the features of a product related to meeting notes and transcripts. They explore how these notes will be integrated into the product, emphasizing the automatic addition of transcripts to projects and their accessibility for chat discussions.\n",
      "Processed meeting 6a3451aa-f18c-4211-8140-fbc77ea7ba05 - indexed to both Qdrant and Elasticsearch\n"
     ]
    }
   ],
   "source": [
    "await process_meetings(\n",
    "    meetings=meetings,\n",
    "    vexa_api=vexa,\n",
    "    voyage_api_key=voyage_apikey,\n",
    "    qdrant_engine=qdrant_engine,\n",
    "    es_engine=es_engine\n",
    ")"
   ]
  },
  {
   "cell_type": "code",
   "execution_count": 17,
   "metadata": {},
   "outputs": [],
   "source": [
    "\n",
    "from hybrid_search import hybrid_search\n",
    "from qdrant_search import QdrantSearchEngine\n",
    "from bm25_search import ElasticsearchBM25\n",
    "from vexa import VexaAPI"
   ]
  },
  {
   "cell_type": "code",
   "execution_count": null,
   "metadata": {},
   "outputs": [],
   "source": [
    "\n",
    "# Initialize engines\n",
    "voyage_apikey = 'pa-g4x1yHL4Hv6qBjXcrT2Nhm5gG0srlDhVBp6Op7_IJBQ'\n",
    "qdrant_engine = QdrantSearchEngine(voyage_apikey)\n",
    "es_engine = ElasticsearchBM25()\n",
    "\n",
    "# Example searches\n",
    "queries = [\n",
    "    \"What was discussed about product features?\",\n",
    "    \"Any mentions of customer feedback?\",\n",
    "    \"Discussion about timelines and deadlines\"\n",
    "]\n",
    "\n",
    "for query in queries:\n",
    "    print(f\"\\nQuery: {query}\")\n",
    "    print(\"-\" * 80)\n",
    "    \n",
    "    results = await hybrid_search(\n",
    "        query=query,\n",
    "        qdrant_engine=qdrant_engine,\n",
    "        es_engine=es_engine,\n",
    "        k=3,  # top 3 results\n",
    "        semantic_weight=0.7,\n",
    "        bm25_weight=0.3\n",
    "    )\n",
    "    \n",
    "    for r in results:\n",
    "        print(f\"\\nScore: {r['combined_score']:.3f} (from {r['sources']})\")\n",
    "        print(f\"Meeting: {r['meeting_id']}\")\n",
    "        print(f\"Time: {r['formatted_time']}\")\n",
    "        print(f\"Topic: {r['topic']}\")\n",
    "        print(f\"Content: {r['content'][:200]}...\")\n",
    "        print(\"-\" * 40)"
   ]
  },
  {
   "cell_type": "code",
   "execution_count": 25,
   "metadata": {},
   "outputs": [],
   "source": [
    "query = 'Vexa'"
   ]
  },
  {
   "cell_type": "code",
   "execution_count": 26,
   "metadata": {},
   "outputs": [],
   "source": [
    "results = await hybrid_search(\n",
    "        query=query,\n",
    "        qdrant_engine=qdrant_engine,\n",
    "        es_engine=es_engine,\n",
    "        k=300,  # top 3 results\n",
    "        semantic_weight=0.7,\n",
    "        bm25_weight=0.3\n",
    "    )"
   ]
  },
  {
   "cell_type": "code",
   "execution_count": 27,
   "metadata": {},
   "outputs": [
    {
     "data": {
      "text/plain": [
       "[{'score': 0.23456661,\n",
       "  'content': \"Dmitriy Grankin:  But the idea is just to find an influencer who will be interested in explaining Vexa to their audience basically or even if not it's an interesting source of domain information.  It's like talking to these guys who bring a lot of generalized information from their specific niches they are in because like I am very I understand I have been very local about my ideas How to market this thing, how to position this thing, and who is my ideal customer?  I just basically have no idea who is my ideal.\",\n",
       "  'contextualized_content': \"This chunk is part of a conversation between Dmitriy Grankin and Lara Vargas discussing strategies for influencer marketing, specifically focusing on finding micro-influencers to promote Vexa and gather insights about their target audience and market positioning.\\nDmitriy Grankin:  But the idea is just to find an influencer who will be interested in explaining Vexa to their audience basically or even if not it's an interesting source of domain information.  It's like talking to these guys who bring a lot of generalized information from their specific niches they are in because like I am very I understand I have been very local about my ideas How to market this thing, how to position this thing, and who is my ideal customer?  I just basically have no idea who is my ideal.\",\n",
       "  'topic': 'Explaining Vexa to Audiences',\n",
       "  'formatted_time': '05:01',\n",
       "  'meeting_id': '4f64ba1e-fd80-4b5d-a1be-345225028f6c',\n",
       "  'timestamp': '2024-12-11T18:31:31.143999+00:00',\n",
       "  'combined_score': 1.2751162790697674,\n",
       "  'sources': ['semantic', 'bm25', 'bm25', 'bm25']},\n",
       " {'score': 0.29803777,\n",
       "  'content': \"Lara Vargas:  so uh what do you feel the next step should be i am now that's what i've been doing now\",\n",
       "  'contextualized_content': \"This chunk occurs during a discussion between Lara Vargas and Dmitriy Grankin about strategies for influencer marketing and content creation for VEXA. Lara is seeking clarification on the next steps in their collaborative efforts after sharing her ideas and suggestions.\\nLara Vargas:  so uh what do you feel the next step should be i am now that's what i've been doing now\",\n",
       "  'topic': 'Next Steps in Outreach',\n",
       "  'formatted_time': '20:30',\n",
       "  'meeting_id': '4f64ba1e-fd80-4b5d-a1be-345225028f6c',\n",
       "  'timestamp': '2024-12-11T18:31:31.143999+00:00',\n",
       "  'combined_score': 1.0732558139534882,\n",
       "  'sources': ['semantic', 'bm25', 'bm25']},\n",
       " {'score': 0.21946642,\n",
       "  'content': \"AI Marketing Directory:  I guess the goal from our side was just to inform you that we're changing our direction and maybe this something that might be more interesting to you um than what we spoke about before um and yeah i mean we're happy to talk more on this call about vexa specifically i mean we could also schedule more calls in the future to do that whatever you prefer okay I love that\",\n",
       "  'contextualized_content': \"This chunk occurs during a conversation between the AI Marketing Directory representatives and Dmitry Grankin, where they discuss a shift in the company's focus and express interest in exploring potential collaboration regarding Vexa, a meeting note-taking product.\\nAI Marketing Directory:  I guess the goal from our side was just to inform you that we're changing our direction and maybe this something that might be more interesting to you um than what we spoke about before um and yeah i mean we're happy to talk more on this call about vexa specifically i mean we could also schedule more calls in the future to do that whatever you prefer okay I love that\",\n",
       "  'topic': 'Change in Direction and Future Calls',\n",
       "  'formatted_time': '04:11',\n",
       "  'meeting_id': '77af4031-a5a9-4dae-ad90-80d12bdadde0',\n",
       "  'timestamp': '2024-12-12T16:00:42.624000+00:00',\n",
       "  'combined_score': 0.9216279069767441,\n",
       "  'sources': ['semantic', 'bm25', 'bm25', 'bm25']},\n",
       " {'score': 0.23222026,\n",
       "  'content': \"Dmitry Grankin:  has been been done here but basically it can do the variety of things and this share button is here is supposed to deliver, like, product-led growth for people willing to search, willing to share their uh knowledge because uh you are sharing not only the meeting you're basically sharing the knowledge uh point right a bunch of knowledgeable points which uh the other person can also research in a across a mixture of meetings of their own and their team or whatever so Vexa as they state that in the landing page is something about building knowledge during every google meet and building and accessing it in different in a variety of ways yeah yeah so that being said it's my presentation it was a good one  yeah awesome Dimitri you're the sole founder yes I am\",\n",
       "  'contextualized_content': \"This chunk is part of a conversation between Dmitry Grankin and representatives from AI Marketing Directory, where Dmitry presents the features and benefits of his product, Vexa, a meeting note-taking tool. He emphasizes its capability to facilitate knowledge sharing and product-led growth during meetings, while also confirming his role as the sole founder of the company.\\nDmitry Grankin:  has been been done here but basically it can do the variety of things and this share button is here is supposed to deliver, like, product-led growth for people willing to search, willing to share their uh knowledge because uh you are sharing not only the meeting you're basically sharing the knowledge uh point right a bunch of knowledgeable points which uh the other person can also research in a across a mixture of meetings of their own and their team or whatever so Vexa as they state that in the landing page is something about building knowledge during every google meet and building and accessing it in different in a variety of ways yeah yeah so that being said it's my presentation it was a good one  yeah awesome Dimitri you're the sole founder yes I am\",\n",
       "  'topic': \"Vexa's Knowledge Sharing\",\n",
       "  'formatted_time': '16:07',\n",
       "  'meeting_id': '77af4031-a5a9-4dae-ad90-80d12bdadde0',\n",
       "  'timestamp': '2024-12-12T16:00:42.624000+00:00',\n",
       "  'combined_score': 0.9190697674418604,\n",
       "  'sources': ['semantic', 'bm25', 'bm25', 'bm25']},\n",
       " {'score': 0.24200463,\n",
       "  'content': \":  just the content but that's obviously a huge portion of it yeah got it okay guys  thanks for your time dan  great so yeah so we'll send you i'll send you an email like today or tomorrow and we'll i'll  summarize it for you that sounds good yeah sure thanks a lot all right well thanks for your time  dimitri thank you  Nej.\",\n",
       "  'contextualized_content': \"This chunk concludes a discussion between the AI Marketing Directory team and Dmitry Grankin about their content creation and marketing strategy for Vexa, summarizing the next steps and expressing gratitude for the meeting.\\n:  just the content but that's obviously a huge portion of it yeah got it okay guys  thanks for your time dan  great so yeah so we'll send you i'll send you an email like today or tomorrow and we'll i'll  summarize it for you that sounds good yeah sure thanks a lot all right well thanks for your time  dimitri thank you  Nej.\",\n",
       "  'topic': 'Conclusion and Thanks',\n",
       "  'formatted_time': '26:04',\n",
       "  'meeting_id': '77af4031-a5a9-4dae-ad90-80d12bdadde0',\n",
       "  'timestamp': '2024-12-12T16:00:42.624000+00:00',\n",
       "  'combined_score': 0.9125581395348836,\n",
       "  'sources': ['semantic', 'bm25', 'bm25']},\n",
       " {'score': 0.22071165,\n",
       "  'content': \"AI Marketing Directory:  Yeah, we'll detail out what the partnership would even look like, cause we would wanna meet with you like every two weeks, get an idea of what's going on with VEXA and he, product updates, any thing that you want to push to these audiences that we're building up for you. Any like industry news that you want to touch on like those kind of things. And then, like come up with a content plan based on our conversations for like the next two weeks and then we just kind of do it all over again yeah I feel like as of May\",\n",
       "  'contextualized_content': \"This chunk is part of a conversation between the AI Marketing Directory and Dmitry Grankin, discussing the structure and frequency of their potential partnership, specifically focusing on content planning and collaboration for VEXA, a meeting note-taking product.\\nAI Marketing Directory:  Yeah, we'll detail out what the partnership would even look like, cause we would wanna meet with you like every two weeks, get an idea of what's going on with VEXA and he, product updates, any thing that you want to push to these audiences that we're building up for you. Any like industry news that you want to touch on like those kind of things. And then, like come up with a content plan based on our conversations for like the next two weeks and then we just kind of do it all over again yeah I feel like as of May\",\n",
       "  'topic': 'Partnership and Content Planning',\n",
       "  'formatted_time': '22:22',\n",
       "  'meeting_id': '77af4031-a5a9-4dae-ad90-80d12bdadde0',\n",
       "  'timestamp': '2024-12-12T16:00:42.624000+00:00',\n",
       "  'combined_score': 0.9113953488372092,\n",
       "  'sources': ['semantic', 'bm25', 'bm25', 'bm25']},\n",
       " {'score': 0.20208341,\n",
       "  'content': 'Lara Vargas:  Yeah, so from what I gathered from our conversation last week, the briefing was think about ways to think to make VEXA a useful tool outside the...  usual way of use, think about tips and tricks to use it, to make content around it, and make research and About what type of different uses that would be.  So I brought a few that I thought about.  And so the first one would be a training Feedback for communication, so for example, people that are coaches, career coaches, you know, that they can use VEXA for their clients.  when they are in coaching their clients really, and then they can use a transcription to analyze how the person communicates during the meetings, look for, patterns and their communication as, for example, if they use some kind of excessive terms or if they interrupt sometimes how efficient the message is that they are transcribing and then sorry okay okay yeah go ahead and then add the social media that i would focus for this specific The specific target would be LinkedIn and Instagram.  The strategy would be short videos, visual testimonials and carousel.',\n",
       "  'contextualized_content': 'This chunk is part of a conversation between Lara Vargas and Dmitriy Grankin, where they discuss strategies for utilizing VEXA, a tool for transcription and communication analysis. Lara presents ideas for making VEXA useful in various contexts, specifically focusing on its application for coaches and the types of content that could be created to promote its use on social media platforms like LinkedIn and Instagram.\\nLara Vargas:  Yeah, so from what I gathered from our conversation last week, the briefing was think about ways to think to make VEXA a useful tool outside the...  usual way of use, think about tips and tricks to use it, to make content around it, and make research and About what type of different uses that would be.  So I brought a few that I thought about.  And so the first one would be a training Feedback for communication, so for example, people that are coaches, career coaches, you know, that they can use VEXA for their clients.  when they are in coaching their clients really, and then they can use a transcription to analyze how the person communicates during the meetings, look for, patterns and their communication as, for example, if they use some kind of excessive terms or if they interrupt sometimes how efficient the message is that they are transcribing and then sorry okay okay yeah go ahead and then add the social media that i would focus for this specific The specific target would be LinkedIn and Instagram.  The strategy would be short videos, visual testimonials and carousel.',\n",
       "  'topic': 'Using Vexa for Coaching',\n",
       "  'formatted_time': '09:22',\n",
       "  'meeting_id': '4f64ba1e-fd80-4b5d-a1be-345225028f6c',\n",
       "  'timestamp': '2024-12-11T18:31:31.143999+00:00',\n",
       "  'combined_score': 0.9109302325581394,\n",
       "  'sources': ['semantic', 'bm25', 'bm25', 'bm25']},\n",
       " {'score': 3.2818983,\n",
       "  'content': \"This chunk is part of a conversation between Lara Vargas and Dmitriy Grankin discussing potential use cases for the VEXA tool. Specifically, Lara is presenting the idea of using VEXA for qualitative research, highlighting its benefits in transcribing interviews for analysis, while Dmitriy seeks clarification on the type of companies involved in qualitative research.\\nLara Vargas:  The second use case would be qualitative research.  So there is a few companies that do qualitative research So they have to make interviews and that is also a really good way of using VEXA because then they can have the transcription, and lots of times when you use a when you do qualitative research you make a recording that you have to listen to over and over again so vexa would do a very good way to to not have to go through the recording again you would just have to go through the transcription and then analyze it so a few quality  search you mean uh what what's the you you mean uh those guys who are listening to conversations by by other people yeah like yeah like uh like specialized marketing companies that's  specialized in research for other companies.\",\n",
       "  'topic': 'Qualitative Research Applications',\n",
       "  'meeting_id': '4f64ba1e-fd80-4b5d-a1be-345225028f6c',\n",
       "  'formatted_time': '11:00',\n",
       "  'timestamp': '2024-12-11T18:31:31.143999+00:00',\n",
       "  'combined_score': 0.8511627906976743,\n",
       "  'sources': ['bm25', 'bm25', 'bm25']},\n",
       " {'score': 0.23066255,\n",
       "  'content': \"Dmitry Grankin:  and we have what's the product say it again that's good that's cool fireflies the children vexa and we have a list with description so basically you got this GPT real-time with you or the meeting which has got all the real-time context ready to go and okay and that is during the meeting and after meeting we'll get this thing which is Dashboard Here is our meeting with God which is not finished yet it does not indexed yet because we tend to, yeah, index meetings after being made, you've got, uh short summary you've got this uh points of interest and most interestingly yeah you can filter uh by because you spoke lately, and you can continue research in even a global fashion like this, what is...  And that will be working over all the meetings that's been collected during the the last few months which is quite uh yeah quite a number 763 that's um no that's that's super cool i  Have not seen a tool like that where you can like take all of the context from all of your meetings and then interact with it so  Yeah, yeah like that. Yeah, and then you can research specific people like this like you chat about this person who is Lara and here we have got the context of meetings that i had with this specific person only and you can share me meetings with this and uh so it's taking your like your conversations with that  woman lara and summarizing it that's what it's doing yeah actually  I've asked about who is Lara. And it's very cool. Yeah, these three conversations here and here is the output. And It works in a different way for global chat and with the meeting-specific chat, there are different context memories.\",\n",
       "  'contextualized_content': \"This chunk is part of a conversation between Dmitry Grankin and the AI Marketing Directory team, where Dmitry is explaining the features and functionalities of Vexa, a meeting note-taking tool that utilizes GPT for real-time context and post-meeting summaries. The discussion highlights how Vexa can enhance meeting productivity by allowing users to filter and research past conversations, specifically mentioning interactions with a person named Lara.\\nDmitry Grankin:  and we have what's the product say it again that's good that's cool fireflies the children vexa and we have a list with description so basically you got this GPT real-time with you or the meeting which has got all the real-time context ready to go and okay and that is during the meeting and after meeting we'll get this thing which is Dashboard Here is our meeting with God which is not finished yet it does not indexed yet because we tend to, yeah, index meetings after being made, you've got, uh short summary you've got this uh points of interest and most interestingly yeah you can filter uh by because you spoke lately, and you can continue research in even a global fashion like this, what is...  And that will be working over all the meetings that's been collected during the the last few months which is quite uh yeah quite a number 763 that's um no that's that's super cool i  Have not seen a tool like that where you can like take all of the context from all of your meetings and then interact with it so  Yeah, yeah like that. Yeah, and then you can research specific people like this like you chat about this person who is Lara and here we have got the context of meetings that i had with this specific person only and you can share me meetings with this and uh so it's taking your like your conversations with that  woman lara and summarizing it that's what it's doing yeah actually  I've asked about who is Lara. And it's very cool. Yeah, these three conversations here and here is the output. And It works in a different way for global chat and with the meeting-specific chat, there are different context memories.\",\n",
       "  'topic': 'Real-time Context and Meeting Interaction',\n",
       "  'formatted_time': '13:05',\n",
       "  'meeting_id': '77af4031-a5a9-4dae-ad90-80d12bdadde0',\n",
       "  'timestamp': '2024-12-12T16:00:42.624000+00:00',\n",
       "  'combined_score': 0.7304651162790698,\n",
       "  'sources': ['semantic', 'bm25', 'bm25', 'bm25']},\n",
       " {'score': 3.13208,\n",
       "  'content': \"This chunk occurs during a conversation between Lara Vargas and Dmitry Grankin, where they discuss recent improvements made to the VEXA product, specifically its new dashboard features and how these enhancements positively impact user engagement and experience.\\nLara Vargas:  Yeah, I think it's great. And also from a product perspective, it also increases the time that people spend with Vaxxer.  I think it's a really good way forward for the product.  And to me, it's one of the coolest things about VEXA, is this capability.  of resuming and getting the actual point and all of this.  So this is really nice.\",\n",
       "  'topic': 'Product Engagement',\n",
       "  'meeting_id': 'd6b623d8-542e-40ed-8660-cdb9efceaf81',\n",
       "  'formatted_time': '07:01',\n",
       "  'timestamp': '2024-12-05T19:00:53.060000+00:00',\n",
       "  'combined_score': 0.708139534883721,\n",
       "  'sources': ['bm25', 'bm25', 'bm25']},\n",
       " {'score': 0.2253297,\n",
       "  'content': \"Dmitry Grankin:  With that being said, let me share with you what Vex is actually doing right now.  the rotating screen here, which will hopefully return the dialogue. We have a real time with it's not just a simple transcript because it's a little bit polished it's easier to read and we've got something something is that this defines importance highlighted real time like this product name i can help to you to get that  this is very cool and ethan there's a little bit of feedback  on your own yeah and research with a single touch like this and Firefly submitting a system tool that helps with this and that.  And we can do other cool things too, like list the products mentioned.\",\n",
       "  'contextualized_content': \"This chunk occurs during a discussion between Dmitry Grankin and the AI Marketing Directory team, where Dmitry presents the features and functionalities of his product, Vexa, highlighting its capabilities in real-time note-taking and summarization during meetings.\\nDmitry Grankin:  With that being said, let me share with you what Vex is actually doing right now.  the rotating screen here, which will hopefully return the dialogue. We have a real time with it's not just a simple transcript because it's a little bit polished it's easier to read and we've got something something is that this defines importance highlighted real time like this product name i can help to you to get that  this is very cool and ethan there's a little bit of feedback  on your own yeah and research with a single touch like this and Firefly submitting a system tool that helps with this and that.  And we can do other cool things too, like list the products mentioned.\",\n",
       "  'topic': \"Vexa's Current Features\",\n",
       "  'formatted_time': '10:33',\n",
       "  'meeting_id': '77af4031-a5a9-4dae-ad90-80d12bdadde0',\n",
       "  'timestamp': '2024-12-12T16:00:42.624000+00:00',\n",
       "  'combined_score': 0.6360465116279069,\n",
       "  'sources': ['semantic', 'bm25', 'bm25']},\n",
       " {'score': 2.9619079,\n",
       "  'content': \"This chunk is part of a conversation between Dmitry Grankin and Lara Vargas discussing the performance and user retention of their product, VEXA, particularly highlighting its appeal to Brazilian users due to its multilingual capabilities.\\nDmitry Grankin:  Yeah, and it becomes, I don't know, it becomes a market actually we've got we've got competitors uh we've our products got retention with users and steady influx of new users daily and actually quite a lot of from Brazil I don't have a good analytic system to understand what is actually the source but these links don't happen UTMs. But as a matter of fact, there's a lot of Brazilians, maybe because of the multilingual capabilities of VEXA.  what people like about it is that it seriously switches from one language to\",\n",
       "  'topic': 'User Retention and Brazilian Market',\n",
       "  'meeting_id': 'd6b623d8-542e-40ed-8660-cdb9efceaf81',\n",
       "  'formatted_time': '08:19',\n",
       "  'timestamp': '2024-12-05T19:00:53.060000+00:00',\n",
       "  'combined_score': 0.5197674418604651,\n",
       "  'sources': ['bm25', 'bm25', 'bm25']},\n",
       " {'score': 3.1623616,\n",
       "  'content': \"This chunk occurs during a conversation between Dmitry Grankin and the AI Marketing Directory, where Dmitry introduces his product, Vexa, a meeting note-taking tool, while discussing collaboration and sharing progress on their respective projects.\\nDmitry Grankin:  feel of flexibility and willingness to to no more yeah and so yeah to collaborate so okay um i can i can share my progress with you know absolutely So Vexa is a meeting note taker, basically, which is probably you've been encountering\",\n",
       "  'topic': 'Vexa Product Overview',\n",
       "  'meeting_id': '77af4031-a5a9-4dae-ad90-80d12bdadde0',\n",
       "  'formatted_time': '04:43',\n",
       "  'timestamp': '2024-12-12T16:00:42.624000+00:00',\n",
       "  'combined_score': 0.5093023255813953,\n",
       "  'sources': ['bm25', 'bm25']},\n",
       " {'score': 2.8583736,\n",
       "  'content': \"This chunk occurs during a discussion between Dmitriy Grankin and Lara Vargas about leveraging micro-influencers for marketing VEXA, focusing on their domain expertise and audience engagement. Dmitriy mentions the potential of influencers who post about tools like Jira, leading to a question about VEXA's integrations with Trello and Jira.\\nDmitriy Grankin:  Yeah, and the perspective of these guys is also something that's a pretty valuable thing because they got their audience they've got their specific niche use case because if they are posting about setting up jira for whatever reason they are possibly sourcing sourcing clients from this so that's something about But their domain expertise is somewhere around that, so it's an interesting source of business use case.  Okay, so I remember that Olia had told me that Vext has an integration with Trello, does it also have with Jira?  No, we don't have any integrations for now.  Okay.\",\n",
       "  'topic': 'Influencer Audience Insights',\n",
       "  'meeting_id': '4f64ba1e-fd80-4b5d-a1be-345225028f6c',\n",
       "  'formatted_time': '04:07',\n",
       "  'timestamp': '2024-12-11T18:31:31.143999+00:00',\n",
       "  'combined_score': 0.4709302325581395,\n",
       "  'sources': ['bm25', 'bm25']},\n",
       " {'score': 3.1023731,\n",
       "  'content': \"This chunk occurs during a discussion between Dmitry Grankin and Lara Vargas about the functionalities and features of VEXA, including the use of a global chart and the organization of follow-up calls and content calendars.\\nDmitry Grankin:  just a little bit of conversation in russian maybe that was what that's the reason and that the previous conversation like action points from that table so just to record recall what we've been up for the follow-up call content calendar yeah so that's how it works and we also have A global chart, which works like what is VEXA.  Oh, okay.\",\n",
       "  'topic': 'Meeting Insights and Knowledge Sharing',\n",
       "  'meeting_id': 'd6b623d8-542e-40ed-8660-cdb9efceaf81',\n",
       "  'formatted_time': '06:05',\n",
       "  'timestamp': '2024-12-05T19:00:53.060000+00:00',\n",
       "  'combined_score': 0.46744186046511627,\n",
       "  'sources': ['bm25', 'bm25']},\n",
       " {'score': 2.9052114,\n",
       "  'content': \"This chunk occurs during a conversation between Dmitry Grankin and Lara Vargas, where they discuss marketing strategies and influencer partnerships for VEXA. Dmitry shares a personal issue regarding being blocked from Instagram due to a previous attempt at data scraping, and they explore the possibility of setting up a new Facebook ads account for promotional purposes.\\nDmitry Grankin:  yeah i have a stupid problem with instagram I was I think I was blocked for life Instagram really what happened I just made a pretty stupid attempt to to scrape Instagram with my own you know headers I can I can help you did something how happen in the vexa  Instagram not vexa I'm about my own  which is okay which is uh you don't like instagram i would like i just don't have access to instagram for now i used to use it and i uh i just played around with instagram data scraping this data once uh uh about a couple of years ago so they just blocked me uh with my facebook no way so but we can make a  i can manage that if you want i can it's pretty easy to set up uh um another account that's an ads account yeah through facebook I can set it up and if you send me your Facebook link, do you still have a Facebook or no?  Yes, I do.  Oh, okay.  Yeah, Facebook works.\",\n",
       "  'topic': 'Instagram Account Issues',\n",
       "  'meeting_id': 'd6b623d8-542e-40ed-8660-cdb9efceaf81',\n",
       "  'formatted_time': '18:23',\n",
       "  'timestamp': '2024-12-05T19:00:53.060000+00:00',\n",
       "  'combined_score': 0.44651162790697674,\n",
       "  'sources': ['bm25', 'bm25']},\n",
       " {'score': 3.0165396,\n",
       "  'content': \"The chunk is part of a conversation between Lara Vargas and Dmitriy Grankin discussing the potential applications of VEXA, a transcription tool, in various business contexts. Specifically, Lara is explaining how VEXA could be utilized in qualitative research, particularly in focus groups for product launches, highlighting its usefulness in analyzing participant feedback.\\nLara Vargas:  So for example, if there is a big, a large company that wants to launch a product, and so they will make a focus group about that product you know yes so they will ask that focus group what they think about that product that normally happens with a record regarding that they make an interview with the person about what they think of the product.  So Vaxxer could be a really good use.  It's the kind of product\",\n",
       "  'topic': 'Focus Groups and Product Launches',\n",
       "  'meeting_id': '4f64ba1e-fd80-4b5d-a1be-345225028f6c',\n",
       "  'formatted_time': '12:39',\n",
       "  'timestamp': '2024-12-11T18:31:31.143999+00:00',\n",
       "  'combined_score': 0.40116279069767447,\n",
       "  'sources': ['bm25', 'bm25']},\n",
       " {'score': 2.9052114,\n",
       "  'content': \"This chunk occurs towards the end of a conversation between Dmitry Grankin and representatives from Ace Makers, where Dmitry discusses the advantages of his product, Vexa, in comparison to another product, Fathom. He highlights Vexa's unique features, such as its silent operation during calls and multilingual capabilities, while also emphasizing its ability to build collective knowledge from meetings.\\nDmitry Grankin:  Okay, so you are absolutely happy about this product nothing really bothers you okay cool that's one of a few products with which i i hear i hear that okay great i i encourage you to to try out vexa because um this what are the competitive advantage on which people are telling me not what I am telling people, but my users are telling, is that it stays silent on the call, doesn't participate.  As a meeting participant, there's some...  noise people i don't know why actually but as a matter of fact and as i mentioned earlier it's multilingual and it's seamlessly um switching from one language to another and as what I'm telling the users you know they are telling me is that we are building knowledge with that so we can research not just a specific meeting after a call, but we can actually ask general questions about who are our competitors, what users say about us.  what we've been doing the last two weeks and yeah creating reports that are derived from the full body of uh collective knowledge how how does it uh how does it sounds to you\",\n",
       "  'topic': 'Vexa Product Introduction',\n",
       "  'meeting_id': 'e4b4ba0c-1249-400a-81eb-469361572591',\n",
       "  'formatted_time': '24:26',\n",
       "  'timestamp': '2024-12-05T13:59:51.280000+00:00',\n",
       "  'combined_score': 0.37674418604651155,\n",
       "  'sources': ['bm25', 'bm25', 'bm25']},\n",
       " {'score': 2.5966358,\n",
       "  'content': 'The chunk is part of a conversation between Dmitriy Grankin and Lara Vargas discussing strategies for influencer marketing, specifically focusing on engaging micro-influencers with up to 10,000 subscribers to promote their product, VEXA.\\nDmitriy Grankin:  than i can yeah um my ideas were about this micro influencers and engaging with those that are up to 10,000 subscribers maybe.  Now, those who are posting about some specific, some specific request.',\n",
       "  'topic': 'Micro-Influencers Engagement',\n",
       "  'meeting_id': '4f64ba1e-fd80-4b5d-a1be-345225028f6c',\n",
       "  'formatted_time': '02:00',\n",
       "  'timestamp': '2024-12-11T18:31:31.143999+00:00',\n",
       "  'combined_score': 0.33837209302325577,\n",
       "  'sources': ['bm25', 'bm25']},\n",
       " {'score': 2.6716008,\n",
       "  'content': \"This chunk occurs during a conversation between Dmitry Grankin and Lara Vargas, where they discuss the impact of an influencer's promotion on user engagement with VEXA, specifically referencing a community of alumni in Brazil and the influence of a prominent productivity advocate in the country.\\nDmitry Grankin:  i can see a significant spike these days um okay uh like I don't know, maybe it's got a prolonged effect, but I can't see any segmentation.  significant spikes at this on these dates yeah um i think that this is something that she  will be releasing for like it's it's a perk of her community so it's like it will be in a dashboard as well and they can like choose from from different perks and vexa is among you know okay uh can you share  with the link where where this it's uh it's a closed community okay of uh and  like alumni. Do you know like alumni? It's something like this, so it's previous students of her that are in this community also.  students in brazil yeah in brazil and this is a this is the person in brazil that is one of the most known persons in productivity actually this woman Ela é a pessoa que está empurrando o projeto da semana de trabalho de quatro dias no Brasil.  Ok, ok.\",\n",
       "  'topic': 'User Registration Spikes',\n",
       "  'meeting_id': 'd6b623d8-542e-40ed-8660-cdb9efceaf81',\n",
       "  'formatted_time': '10:17',\n",
       "  'timestamp': '2024-12-05T19:00:53.060000+00:00',\n",
       "  'combined_score': 0.27558139534883724,\n",
       "  'sources': ['bm25', 'bm25']},\n",
       " {'score': 2.6286597,\n",
       "  'content': \"This chunk is part of a conversation between Lara Vargas and Dmitry Grankin discussing the effectiveness of YouTube as a platform for content that remains accessible over time. They reflect on a specific video created by an influencer named Lucas, highlighting its ongoing viewership and potential long-term impact, despite being based on an earlier version of their product, VEXA.\\nLara Vargas:  That's great. Yeah, because I actually noticed the other day that this is something that Lucas commented with me at the time when he suggested said let's do a youtube video because he said the youtube will be um it's almost like an encyclopedia because the story the reels they go away after a while but the youtube when someone is looking for something they will reach it and i noticed that the video he posted with vexa has is still getting views after lots of time yes yes  it's not that long it will yeah it will have prolonged effect yes exactly it can it can work for years and since there is actually he he made video with the previous version of the extension yeah previous version of the dashboard and he basically didn't even touch the dashboard as as it was so it might he delivered the new Yes, and even if he would mention Vexile with every of his videos, it still would work.\",\n",
       "  'topic': 'YouTube as a Long-Term Resource',\n",
       "  'meeting_id': 'd6b623d8-542e-40ed-8660-cdb9efceaf81',\n",
       "  'formatted_time': '15:15',\n",
       "  'timestamp': '2024-12-05T19:00:53.060000+00:00',\n",
       "  'combined_score': 0.2755813953488372,\n",
       "  'sources': ['bm25', 'bm25']},\n",
       " {'score': 2.8084393,\n",
       "  'content': \"This chunk occurs during a conversation between Dmitry Grankin and Lara Vargas, where they discuss the features and capabilities of VEXA, including its research functionalities and the competitive landscape.\\nDmitry Grankin:  research people, they do some general kind of research, competitors.  Okay, that's really nice.\",\n",
       "  'topic': 'Research on Competitors',\n",
       "  'meeting_id': 'd6b623d8-542e-40ed-8660-cdb9efceaf81',\n",
       "  'formatted_time': '06:18',\n",
       "  'timestamp': '2024-12-05T19:00:53.060000+00:00',\n",
       "  'combined_score': 0.2302325581395349,\n",
       "  'sources': ['bm25']},\n",
       " {'score': 2.7845306,\n",
       "  'content': \"The chunk occurs at the beginning of a conversation between Lara Vargas and Dmitry Grankin, where they are confirming their audio connection before discussing various topics, including their locations, weather, and VEXA's features and developments.\\n:  Good can you hear me? Well, okay. Yes. Yes. Yes. Yeah. Perfect.\",\n",
       "  'topic': 'Introduction and Greetings',\n",
       "  'meeting_id': 'd6b623d8-542e-40ed-8660-cdb9efceaf81',\n",
       "  'formatted_time': '00:00',\n",
       "  'timestamp': '2024-12-05T19:00:53.060000+00:00',\n",
       "  'combined_score': 0.22325581395348837,\n",
       "  'sources': ['bm25']},\n",
       " {'score': 2.5437183,\n",
       "  'content': \"This chunk is part of a conversation between Dmitry Grankin and Lara Vargas discussing strategies for VEXA's market penetration, focusing on both bottom-up and top-down approaches to reach companies through individual users. They explore the challenges related to security and privacy policies, potential solutions for deploying VEXA within company infrastructures, and the importance of new integrations to enhance the product's reach and functionality.\\nDmitry Grankin:  Currently, the idea is that we are kind of implementing is that we approach individuals improving their day-to-day work working setup but sure enough this most likely this individuals are part of a company employees yeah and so the idea is that we could potentially if penetrate these companies through these individuals bottom up yeah and uh but actually this top-down approach could potentially work as well because there is something that blocks this bottom-up approach because of uh the security and privacy issues yeah from power and privacy policies they have and these things have to be addressed top down top down yes and we have an idea of a solution for that is that currently works is works uh server service in multiple clients and you have to trust vexa to uh to secure the data If you don't want to do this, the idea is that you can deploy your own VEX backend inside your company infrastructure.  That's a great idea.  Yeah, and that's the way for those who want to to use this kind of service, but cannot.  Yeah, that sounds great.  And there's a lot of users who basically They use VXR silently and they have no power to introduce VXR in silence.  that these companies because of these problems decisions  yeah i think that um do you also think in terms of new integrations Porque eu estava falando com algumas pessoas, por exemplo, eu conheço algumas pessoas no Venture Capital Building, mas no British Telecom, e eles said the product is amazing but they also have this barrier and even if they didn't they use for example they use teams so considering that is that in your you  Yeah, new integration is something that is kind of an obvious way to go to expand, but even in this google meet environment there is still a lot of opportunities for now and in order You have limited resources where you want to go, whether you want to go and expand horizontally with new integrations or vertically to get...\",\n",
       "  'topic': 'Integration Opportunities',\n",
       "  'meeting_id': 'd6b623d8-542e-40ed-8660-cdb9efceaf81',\n",
       "  'formatted_time': '29:12',\n",
       "  'timestamp': '2024-12-05T19:00:53.060000+00:00',\n",
       "  'combined_score': 0.22325581395348837,\n",
       "  'sources': ['bm25', 'bm25', 'bm25']},\n",
       " {'score': 2.7039642,\n",
       "  'content': \"The chunk occurs during a discussion between Dmitry Grankin and Lara Vargas about strategies for expanding VEXA's market reach. Dmitry expresses interest in exploring a top-down approach to penetrate companies, complementing their current bottom-up strategy that targets individual users.\\nDmitry Grankin:  I would want to try out a top-down approach as well.\",\n",
       "  'topic': 'Top-Down vs Bottom-Up Approach',\n",
       "  'meeting_id': 'd6b623d8-542e-40ed-8660-cdb9efceaf81',\n",
       "  'formatted_time': '27:20',\n",
       "  'timestamp': '2024-12-05T19:00:53.060000+00:00',\n",
       "  'combined_score': 0.20930232558139536,\n",
       "  'sources': ['bm25']},\n",
       " {'score': 2.3628166,\n",
       "  'content': \"This chunk is part of a conversation between Lara Vargas and Dmitry Grankin discussing Lara's experiences in marketing, particularly her preference for B2C (business-to-consumer) over B2B (business-to-business) marketing. She reflects on her previous role at Buildtrix, emphasizing the impersonal nature of B2B content and expressing her desire to return to B2C marketing, which she finds more fulfilling. The discussion also touches on the potential for Vexa to grow in the consumer market while acknowledging its existing B2B opportunities.\\nLara Vargas:  Sim, eu quero dizer, quando eu estava, por exemplo, quando no Beatrix o conteúdo é muito mais impessoal, sabe, é muito mais...  Mesmo o copywriting, o que eu tenho que dizer ao cliente é muito mais impessoal.  O valor, o benefício que eu tenho que oferecer.  is more impersonal. It's not how that person will improve its life, it's how the company will improve their life. And for example, when I was working with you guys in Vexa, that was something way more fulfilling for me and that's what what showed me that i actually wanted to go more uh go back into b2c so i'm yeah i'm actually looking for stuff in more related to b2c and you perceive the access to b2c product i think you guys have both right i think that there is uh the free use part there is the the paid part for the consumer but there is also the big the big part net right which is where you get most i think of the it's where the the the mark the big value of the company will be right is selling to big companies but yeah i think that i believe that as as a startup fax will first grow in the consumer right and\",\n",
       "  'topic': 'B2B vs B2C Preferences',\n",
       "  'meeting_id': 'd6b623d8-542e-40ed-8660-cdb9efceaf81',\n",
       "  'formatted_time': '25:39',\n",
       "  'timestamp': '2024-12-05T19:00:53.060000+00:00',\n",
       "  'combined_score': 0.18488372093023253,\n",
       "  'sources': ['bm25', 'bm25']},\n",
       " {'score': 2.6174145,\n",
       "  'content': 'The chunk occurs during a conversation between Lara Vargas and Dmitry Grankin, where they discuss potential marketing strategies for VEXA, including the idea of forming new influencer partnerships to enhance user engagement and promote the product.\\nLara Vargas:  would you like to to make new influencers partnerships yeah we can  make new we can we can make another ...with Louis as well.  Another, okay.',\n",
       "  'topic': 'Influencer Partnerships',\n",
       "  'meeting_id': 'd6b623d8-542e-40ed-8660-cdb9efceaf81',\n",
       "  'formatted_time': '12:49',\n",
       "  'timestamp': '2024-12-05T19:00:53.060000+00:00',\n",
       "  'combined_score': 0.177906976744186,\n",
       "  'sources': ['bm25']},\n",
       " {'score': 2.1523771,\n",
       "  'content': \"The chunk occurs during a conversation between Dmitry Grankin and the AI Marketing Directory, where they discuss the structure of their meeting and the focus on customer development as Dmitry seeks insights on pivoting his product, Vexa. This dialogue reflects their collaborative approach to understanding product needs and gathering feedback.\\nDmitry Grankin:  Do you feel like customer development to review is the right format for us?  today from your side obviously okay i'm sorry can you yeah how do you want to have our meeting today structured?  Do you want to have a kind of a product like customer development interview?  Is that what I would be looking for to have worldwide?  When pivoting product with potential customers, because that's actually something that's quite interesting to me.  Yeah, well, we definitely want to hear.  everything there is here about what's going on with your specific product.\",\n",
       "  'topic': 'Meeting Structure and Customer Development',\n",
       "  'meeting_id': '77af4031-a5a9-4dae-ad90-80d12bdadde0',\n",
       "  'formatted_time': '03:03',\n",
       "  'timestamp': '2024-12-12T16:00:42.624000+00:00',\n",
       "  'combined_score': 0.17093023255813955,\n",
       "  'sources': ['bm25', 'bm25']},\n",
       " {'score': 2.5560527,\n",
       "  'content': 'The chunk is part of a conversation between Dmitry Grankin and Lara Vargas discussing the recent updates and features of the VEXA platform, specifically focusing on the demand for a dashboard that enhances user experience after meetings, highlighting the importance of both real-time capabilities and post-meeting functionalities.\\nDmitry Grankin:  Yeah, so people have been asking for a dashboard because real-time capabilities are nice have but but after meeting is something that they tend to use a lot so this attempt to deliver something',\n",
       "  'topic': 'User Dashboard Requests',\n",
       "  'meeting_id': 'd6b623d8-542e-40ed-8660-cdb9efceaf81',\n",
       "  'formatted_time': '06:48',\n",
       "  'timestamp': '2024-12-05T19:00:53.060000+00:00',\n",
       "  'combined_score': 0.16395348837209303,\n",
       "  'sources': ['bm25']},\n",
       " {'score': 2.1523771,\n",
       "  'content': \"This chunk occurs during a conversation between Dmitry Grankin and Lara Vargas, where they discuss the potential of their product, VEXA, particularly in relation to its user base and retention rates among free users, including those from the crypto and web3 sectors in Brazil. They are exploring strategies for moving forward with user engagement and product development.\\nDmitry Grankin:  Um, so I, I feel like it's got a lot of potential, even though we don't have, uh, you know, payment implemented for now but still free users is something that still proves availability of the all the tone and let me and i i see a lot of people from this crypto web 3 world using the tool nice from from brazil nice okay so they they show good retention that's a good sign yes let's let's see what we can do how can we move forward with this okay\",\n",
       "  'topic': 'Potential of Free Users',\n",
       "  'meeting_id': 'd6b623d8-542e-40ed-8660-cdb9efceaf81',\n",
       "  'formatted_time': '12:40',\n",
       "  'timestamp': '2024-12-05T19:00:53.060000+00:00',\n",
       "  'combined_score': 0.14651162790697675,\n",
       "  'sources': ['bm25', 'bm25']},\n",
       " {'score': 2.433122,\n",
       "  'content': \"This chunk occurs towards the end of a conversation between representatives from AI Marketing Directory and Dmitry Grankin, the founder of Vexa. It focuses on discussing the next steps for collaboration, specifically regarding the crafting of a new landing page and the sharing of information about their services to support Vexa's growth and personal branding efforts.\\nAI Marketing Directory:  So I guess maybe the next step for us might be, you know, like i said we're crafting a new landing page but we could send you we pretty much have it all we know what we're what it's going what's going to be on it and everything so we could send you an email um you know with you know, all the, all the information, and we can maybe, you know, you can let us know how you feel about that, and I guess, you know, in light of your situation, you know, we'll, we'll, you know, we'll see, um, like, but, um, like, what we can deal with with respect to that um so does that sound good to you yeah sure um all right and then yeah sorry we're gonna say no i was gonna say yeah we could just send over an email with what our offer is and kind of how we think it would work well for BEXA and you personally, especially if you're trying to grow your personal brand along with BEXA.  Because obviously, that's going to help.  So yeah, we'll send over all the details, and then.  MARIUSZ GASIEWSKI, But can you share with me the idea?\",\n",
       "  'topic': 'Next Steps and Email Communication',\n",
       "  'meeting_id': '77af4031-a5a9-4dae-ad90-80d12bdadde0',\n",
       "  'formatted_time': '19:14',\n",
       "  'timestamp': '2024-12-12T16:00:42.624000+00:00',\n",
       "  'combined_score': 0.14302325581395348,\n",
       "  'sources': ['bm25']},\n",
       " {'score': 2.40566,\n",
       "  'content': \"This chunk occurs during a conversation between the AI Marketing Directory representatives and Dmitry Grankin, where they discuss their current team structure and express appreciation for Dmitry's presentation about his product, Vexa. It highlights their collaborative approach and understanding of the challenges faced by founders.\\nAI Marketing Directory:  We, we, we, uh, we're on the same wavelength as that. I mean, you know, right now it's just me and Phil and we're, um, I mean, we have content writers and other people that work for us part-time, I guess.  But, um, yeah, so.  we understand, but thank you for the presentation for sure.\",\n",
       "  'topic': 'Team Structure and Content Creation',\n",
       "  'meeting_id': '77af4031-a5a9-4dae-ad90-80d12bdadde0',\n",
       "  'formatted_time': '18:09',\n",
       "  'timestamp': '2024-12-12T16:00:42.624000+00:00',\n",
       "  'combined_score': 0.13953488372093023,\n",
       "  'sources': ['bm25']},\n",
       " {'score': 2.3369105,\n",
       "  'content': \"Lara Vargas:  will be releasing for like it's it's a perk of her community so it's like it will be in a dashboard as well and they can like choose from from different perks and vexa is among you know okay uh can you share  with the link where where this it's uh it's a closed community okay of uh and  like alumni. Do you know like alumni? It's something like this, so it's previous students of her that are in this community also.  students in brazil yeah in brazil and this is a this is the person in brazil that is one of the most known persons in productivity actually this woman Ela é a pessoa que está empurrando o projeto da semana de trabalho de quatro dias no Brasil.  Ok, ok.\",\n",
       "  'topic': 'User Registration and Analytics',\n",
       "  'meeting_id': 'd6b623d8-542e-40ed-8660-cdb9efceaf81',\n",
       "  'formatted_time': '10:50',\n",
       "  'timestamp': '2024-12-05T19:00:53.060000+00:00',\n",
       "  'combined_score': 0.12209302325581393,\n",
       "  'sources': ['bm25']},\n",
       " {'score': 2.2105625,\n",
       "  'content': \"This chunk occurs during a conversation between Dmitry Grankin and Lara Vargas, where they discuss the impact of influencer marketing on VEXA's user registrations, specifically referencing a YouTube video published by an influencer named Lucas on September 26th, which coincided with an increase in Brazilian registrations for their product.\\nDmitry Grankin:  Yeah, because I feel like his publication was sometimes in September.  Can we check what was the date he actually published his YouTube video?  let me see that lucas published the video yes yes it was the 26th of september 26th of september okay so  Peace.  okay 26th of september yeah it looks like uh there was something 26 yeah we had eight new registration and nine and uh and then uh it's still like  And then from then it's...  And from that time we had a lot of Brazilian registrations.\",\n",
       "  'topic': 'YouTube Video Impact',\n",
       "  'meeting_id': 'd6b623d8-542e-40ed-8660-cdb9efceaf81',\n",
       "  'formatted_time': '13:05',\n",
       "  'timestamp': '2024-12-05T19:00:53.060000+00:00',\n",
       "  'combined_score': 0.10813953488372093,\n",
       "  'sources': ['bm25']},\n",
       " {'score': 2.2105625,\n",
       "  'content': \"This chunk occurs during a conversation between Dmitry Grankin and representatives from AI Marketing Directory, where they discuss the current state of Dmitry's company, Vexa, and its focus on supporting founder-led growth while updating their landing page and product offerings.\\nDmitry Grankin:  okay so the idea is that you help founders uh leading uh leading founder-led growth yeah and um  And I guess we're like in the process of like updating our actual landing page, which is, you know, like we were like very, you know, we have a couple of test clients that we've been working with.  For the most part, you know, we're in sort of the embryonic stages of it. I guess you could say So you're in the process of building?  your product Say it again. You're pivoting your\",\n",
       "  'topic': 'Founder-led Growth',\n",
       "  'meeting_id': '77af4031-a5a9-4dae-ad90-80d12bdadde0',\n",
       "  'formatted_time': '01:09',\n",
       "  'timestamp': '2024-12-12T16:00:42.624000+00:00',\n",
       "  'combined_score': 0.10465116279069765,\n",
       "  'sources': ['bm25']},\n",
       " {'score': 2.2105625,\n",
       "  'content': \"This chunk occurs during a discussion between Dmitry Grankin and the AI Marketing Directory team, where Dmitry is presenting features of Vexa, a meeting note-taking tool, highlighting its real-time capabilities and user-friendly interface, while comparing it to other tools like Fireflies.\\nDmitry Grankin:  the rotating screen here, which will hopefully return the dialogue. We have a real time with it's not just a simple transcript because it's a little bit polished it's easier to read and we've got something something is that this defines importance highlighted real time like this product name i can help to you to get that  this is very cool and ethan there's a little bit of feedback  on your own yeah and research with a single touch like this and Firefly submitting a system tool that helps with this and that.  And we can do other cool things too, like list the products mentioned.\",\n",
       "  'topic': 'Real-time Meeting Features',\n",
       "  'meeting_id': '77af4031-a5a9-4dae-ad90-80d12bdadde0',\n",
       "  'formatted_time': '11:12',\n",
       "  'timestamp': '2024-12-12T16:00:42.624000+00:00',\n",
       "  'combined_score': 0.10116279069767443,\n",
       "  'sources': ['bm25']},\n",
       " {'score': 0.20123577,\n",
       "  'content': \"Dmitriy Grankin:  I was just piece of I'll share with you a piece of code Don't know if you can see much here. Yeah, I mean it's a code yeah this is the right code right so So here it is. So we've got we've got Search with channels how to stop Trello for product manager Management and here I'm going and to get I got the results and I got 10 videos with channels and description channel channel info title description and hopefully somewhere here we've got their contact information like they've got this Instagram gmail business contact that's what they shared in their in their channel Description, yeah Yeah, so maybe the easiest way would be just to first to come up with the list of like a list of user profiles and then to generate a list of their possible cures that they will be likely making on youtube and then uh parsing those channels that were created content recently with a not that huge amount of views and parse uh their contact information from those and that will be already like the list basically a list of contacts you are automatically getting a list of contacts so that the the manual part comes in the manual part is that you go and you outreach The next part is basically to set up a meeting.  To set up a meeting in order to talk to them. Basically, this is the result itself.  which is already a lot of information from this meeting possibly if we if we're talking about something that we for sure would understand if there is anything about this at all if we are in the same share share at least some common ground at all if we do share then it's a win if we don't it's already it's also an information a lot of information okay right so we should  really start i should really start reaching out to the people regarding the Project management.  We don't know, because it's just a piece of text that we're putting into the system.  system uh how to set up trello for product management you can you you can put whatever request like how to uh how to make a paper ship right and it will work the same way okay  I don't know if I understand this last part about the code, because do you want me to use to be using this code for the for the next steps as well uh using this code i don't think  it will work and i don't think it's possible uh think that maybe would go the other way is that we just I'll just put a bunch of contacts out of it okay yeah so tell me if it's so funny interested there's something about that you'll be interested to do it all because yeah  sorry what did what i don't don't understand yeah i'm tell me  if it's if you are interested at all about uh doing doing this thing  yeah i am i just i just don't understand uh what you mean because um You are, so you are showing me this piece of code and then through this piece of code you plan on getting the code.  contact information of the people on youtube so you can afterwards reach out to them to make videos with them but um the in terms of the the content that they promote.  That's what is in my mind.  I don't understand what type of content you want to focus on.  Do you think that we should just Por exemplo, a lista que eu tenho aqui. Talvez eu possa compartilhar com vocês também.  Oh, mas desculpe, está em português. Eu posso compartilhar com vocês mais tarde.  So I have a few different options.  For example, the the product research, the I have a human resources, so different types of engagement engagements. So, should I focus on all these different types or...  Tell me, what are the different types of engagements? What are you about?  So I will just go through them really quick. So the first one, as I said, is the coaching. Second one, product research and brain.  Storming for marketing teams, creative planning, e-learning and education.  A internal auditing.  A inclusion, assistant for a Teams yes, these are all valid thing well it thinks  absolutely uh legitimate targets absolutely like agile meetings you are more about about what are the audience we want to tackle but yeah i am about how to process any of the all of this into a a result any of this right okay we'll be iterating on on those we will be iterating okay so it brings a lot of value when you are also thinking about what you're going to do not about like not what is the you know like you're making a car but what is the what the what the what the what is the production line right because what you're going to produce but about how you're going to produce because this way we can produce whatever we can We can put whatever piece of text and then get the result of who is actually been posting about it lately.  The question is if you want to do these things like to outreach people in various social media and outreach and then later to communicate with them about this thing to yeah at least we we yeah it will start with outreach so uh first creating a bunch of requests And the result of running this code would be a report comprehending of report of you'll be seeing what are actually what's the channel what's the person you can go and research the channel yourself to accommodate yourself about about it about this guy and then to outreach mm-hmm  Yeah, I think that in terms of the pipeline, it really depends on how the social media promotes this sort of content.\",\n",
       "  'contextualized_content': \"This chunk is part of a conversation between Dmitriy Grankin and Lara Vargas discussing strategies for influencer outreach and content creation related to VEXA, a tool for project management. Dmitriy shares a piece of code intended to help identify potential influencers on YouTube, while Lara seeks clarification on the type of content to focus on and the various engagement types they could target. The dialogue emphasizes the importance of understanding the audience and refining their outreach approach.\\nDmitriy Grankin:  I was just piece of I'll share with you a piece of code Don't know if you can see much here. Yeah, I mean it's a code yeah this is the right code right so So here it is. So we've got we've got Search with channels how to stop Trello for product manager Management and here I'm going and to get I got the results and I got 10 videos with channels and description channel channel info title description and hopefully somewhere here we've got their contact information like they've got this Instagram gmail business contact that's what they shared in their in their channel Description, yeah Yeah, so maybe the easiest way would be just to first to come up with the list of like a list of user profiles and then to generate a list of their possible cures that they will be likely making on youtube and then uh parsing those channels that were created content recently with a not that huge amount of views and parse uh their contact information from those and that will be already like the list basically a list of contacts you are automatically getting a list of contacts so that the the manual part comes in the manual part is that you go and you outreach The next part is basically to set up a meeting.  To set up a meeting in order to talk to them. Basically, this is the result itself.  which is already a lot of information from this meeting possibly if we if we're talking about something that we for sure would understand if there is anything about this at all if we are in the same share share at least some common ground at all if we do share then it's a win if we don't it's already it's also an information a lot of information okay right so we should  really start i should really start reaching out to the people regarding the Project management.  We don't know, because it's just a piece of text that we're putting into the system.  system uh how to set up trello for product management you can you you can put whatever request like how to uh how to make a paper ship right and it will work the same way okay  I don't know if I understand this last part about the code, because do you want me to use to be using this code for the for the next steps as well uh using this code i don't think  it will work and i don't think it's possible uh think that maybe would go the other way is that we just I'll just put a bunch of contacts out of it okay yeah so tell me if it's so funny interested there's something about that you'll be interested to do it all because yeah  sorry what did what i don't don't understand yeah i'm tell me  if it's if you are interested at all about uh doing doing this thing  yeah i am i just i just don't understand uh what you mean because um You are, so you are showing me this piece of code and then through this piece of code you plan on getting the code.  contact information of the people on youtube so you can afterwards reach out to them to make videos with them but um the in terms of the the content that they promote.  That's what is in my mind.  I don't understand what type of content you want to focus on.  Do you think that we should just Por exemplo, a lista que eu tenho aqui. Talvez eu possa compartilhar com vocês também.  Oh, mas desculpe, está em português. Eu posso compartilhar com vocês mais tarde.  So I have a few different options.  For example, the the product research, the I have a human resources, so different types of engagement engagements. So, should I focus on all these different types or...  Tell me, what are the different types of engagements? What are you about?  So I will just go through them really quick. So the first one, as I said, is the coaching. Second one, product research and brain.  Storming for marketing teams, creative planning, e-learning and education.  A internal auditing.  A inclusion, assistant for a Teams yes, these are all valid thing well it thinks  absolutely uh legitimate targets absolutely like agile meetings you are more about about what are the audience we want to tackle but yeah i am about how to process any of the all of this into a a result any of this right okay we'll be iterating on on those we will be iterating okay so it brings a lot of value when you are also thinking about what you're going to do not about like not what is the you know like you're making a car but what is the what the what the what the what is the production line right because what you're going to produce but about how you're going to produce because this way we can produce whatever we can We can put whatever piece of text and then get the result of who is actually been posting about it lately.  The question is if you want to do these things like to outreach people in various social media and outreach and then later to communicate with them about this thing to yeah at least we we yeah it will start with outreach so uh first creating a bunch of requests And the result of running this code would be a report comprehending of report of you'll be seeing what are actually what's the channel what's the person you can go and research the channel yourself to accommodate yourself about about it about this guy and then to outreach mm-hmm  Yeah, I think that in terms of the pipeline, it really depends on how the social media promotes this sort of content.\",\n",
       "  'topic': 'Using Code for Influencer Research',\n",
       "  'formatted_time': '23:34',\n",
       "  'meeting_id': '4f64ba1e-fd80-4b5d-a1be-345225028f6c',\n",
       "  'timestamp': '2024-12-11T18:31:31.143999+00:00',\n",
       "  'combined_score': 0.07348837209302324,\n",
       "  'sources': ['semantic', 'bm25']},\n",
       " {'score': 1.7038875,\n",
       "  'content': \"Waqas Arshad:  SEO so that focuses on writing content for the users who are actually looking for the product who are having a problem in actually getting transcriptions or recording of the meeting or AI based speech recognition and the transcription of the meeting notes.  So these kinds of problems.  So they are actually writing topics, covering those problems and giving their product The solution, so that when someone comes and reads that content piece, first of all, they'll find the solution to the problem and then they will naturally see that, okay, VEXA AI actually solved my problem, okay, let me try it out.  So it will be acting as a natural lead magnet for you, right?  So it's a long-term thing.  You definitely need to work on that as your competitors are also doing.  And if you don't go towards SEO and you just focus on Captera, GE2 or PPC or influencer marketer, obviously you'll get quick results, you will get short term results, you will get short term leads, but in the longer run, And whenever you stop paying them, your traffic would fall down and you'll not be having a steady inflow of users onto your website.  So cutting it short, it should be a very balanced approach where you should focus on SEO as well as you should build a short-term strategy, let it be PPC, let it be influencer marketing, let it be other platforms like G2 Capital. So I'm not saying don't go that way.  But it has to be a balanced approach.  So you take both of these side by side so that one chunking is going toward a short-term goal and then one chunk is going towards a long-term plan.\",\n",
       "  'topic': 'Product-led SEO',\n",
       "  'meeting_id': '2a92e93e-dc1c-455d-acbb-182555197434',\n",
       "  'formatted_time': '10:24',\n",
       "  'timestamp': '2024-12-10T11:01:18.660000+00:00',\n",
       "  'combined_score': 0.07325581395348837,\n",
       "  'sources': ['bm25', 'bm25']},\n",
       " {'score': 1.994854,\n",
       "  'content': \"This chunk is part of a conversation between Dmitry Grankin and Lara Vargas discussing strategies for VEXA's product development and marketing approach. Specifically, it focuses on targeting smaller, modern companies that use Google Meet, as opposed to larger corporations using Microsoft Teams, and the content creation strategy for promoting the product through social media, particularly Instagram.\\nDmitry Grankin:  more into the value the product delivers to the end customer.  And I chose, for now, I chose the second approach because there is actually a lot of companies teams uh that are into google meet hundred percent and um these are smaller teams smaller companies uh more modern ones and a lot of this web3 and all this web3 Maniacs, they are all into Google Meet 100%.  So I don't say I don't want to work with large corporations who are entirely on Microsoft Teams I want, but I just don't have enough resources to tackle the both  directions for now yeah okay all right so okay so in terms of uh the content that we will be creating So, should we go forward? You want Instagram, new Instagram posts?\",\n",
       "  'topic': 'Content Creation Strategy',\n",
       "  'meeting_id': 'd6b623d8-542e-40ed-8660-cdb9efceaf81',\n",
       "  'formatted_time': '31:12',\n",
       "  'timestamp': '2024-12-05T19:00:53.060000+00:00',\n",
       "  'combined_score': 0.07325581395348836,\n",
       "  'sources': ['bm25']},\n",
       " {'score': 1.9473481,\n",
       "  'content': \"This chunk is part of a conversation between Lara Vargas and Dmitry Grankin discussing marketing strategies for VEXA, specifically focusing on the effectiveness of influencer partnerships and the potential for using corporate photos and promotional videos on social media platforms like Instagram and YouTube to enhance brand trust and visibility.\\nLara Vargas:  do you think that it worked what do you think yes i think we could do both like i think that because i'm seeing here that the the instagram of And it would be nice to have more photos that, so I have it open on my phone now.  I don't know if I can share the screen.  But, for example, if we get more photos that are more corporate, you know, they can get more, add trust to the company as well.  You know, when people go into VEX after going from the, from the influencer or from Seeing some, if we do ads first, for example, we can also promote the video that Lucas posted.  I don't know if you consider that we can, the video that Lucas posted, we can, you can make a paid promo with it on youtube or even on instagram like as a real\",\n",
       "  'topic': 'Corporate Branding and Trust',\n",
       "  'meeting_id': 'd6b623d8-542e-40ed-8660-cdb9efceaf81',\n",
       "  'formatted_time': '17:07',\n",
       "  'timestamp': '2024-12-05T19:00:53.060000+00:00',\n",
       "  'combined_score': 0.06279069767441861,\n",
       "  'sources': ['bm25']},\n",
       " {'score': 1.8588157,\n",
       "  'content': \"Dmitry Grankin:  sometimes in the future we'll do that because because because why not actually yeah okay um so we we've done something We've done some significant refurbishment of Yexa recently and Now it's not only the real-time and as a real-time assistant but also it's nice it's a nice dashboard and the idea behind that is that you share a lot of valuable insights during these meetings and people tend to share it with you openly because like people people people say things that they tend not to to write each other right and the idea is to collect this and build knowledge with it so each meeting becomes a unit of knowledge with Wow with actions with with knowledge points, discussion points, people mentioned companies with descriptions and chat like that, which enables you to research specific meetings like it's pretty weird why is that in Russian by the way this because we spoke english i believe  but maybe you i don't know i don't know if you and alia were in the call before Okay, maybe, yeah, we got you.  just a little bit of conversation in russian maybe that was what that's the reason and that the previous conversation like action points from that table so just to record recall what we've been up for the follow-up call content calendar yeah so that's how it works and we also have A global chart, which works like what is VEXA.  Oh, okay.\",\n",
       "  'topic': 'VEXA Dashboard and Meeting Insights',\n",
       "  'meeting_id': 'd6b623d8-542e-40ed-8660-cdb9efceaf81',\n",
       "  'formatted_time': '04:54',\n",
       "  'timestamp': '2024-12-05T19:00:53.060000+00:00',\n",
       "  'combined_score': 0.052325581395348826,\n",
       "  'sources': ['bm25']},\n",
       " {'score': 1.7038875,\n",
       "  'content': \"This chunk occurs during a conversation between Dmitry Grankin and representatives from AI Marketing Directory, where Dmitry discusses his role as the sole founder of Vexa, his experiences with team dynamics, and the advantages of being a solo developer. The dialogue highlights the challenges and efficiencies in product development, as well as the collaborative nature of their ongoing discussions about content creation and marketing strategies.\\nDmitry Grankin:  the only founder of this thing and I have an investor basically you can consider a company being a pre-seed financed purchasing fund company but basically i i would say i for the runway, and I am now myself, but believe me or not, being myself boosted the development significantly, because a few months ago, I was a team of six people and there was a lot of communication and dailies and retros and this scrum stuff, very funny things.  Well, very cool things and, the product manager but basically now i can i i develop faster because i'm a developer and i have we have basically the market tools that deliver the ai augmentation of coding that gives you like a boost that you wouldn't be able to find before and you don't basically you basically don't need anyone to move really fast now yeah  We, we, we, uh, we're on the same wavelength as that. I mean, you know, right now it's just me and Phil and we're, um, I mean, we have content writers and other people that work for us part-time, I guess.  But, um, yeah, so.  we understand, but thank you for the presentation for sure.\",\n",
       "  'topic': 'Founder Background and Development Speed',\n",
       "  'meeting_id': '77af4031-a5a9-4dae-ad90-80d12bdadde0',\n",
       "  'formatted_time': '17:15',\n",
       "  'timestamp': '2024-12-12T16:00:42.624000+00:00',\n",
       "  'combined_score': 0.045348837209302335,\n",
       "  'sources': ['bm25']},\n",
       " {'score': 1.6357205,\n",
       "  'content': \"This chunk is part of a conversation between Lara Vargas and Dmitriy Grankin discussing various engagement types for potential marketing strategies using VEXA. Lara outlines different use cases such as coaching, product research, and e-learning, while emphasizing the importance of understanding the audience and the process of content creation. The dialogue reflects their brainstorming session on how to effectively target and engage with influencers in specific niches.\\nLara Vargas:  For example, the the product research, the I have a human resources, so different types of engagement engagements. So, should I focus on all these different types or...  Tell me, what are the different types of engagements? What are you about?  So I will just go through them really quick. So the first one, as I said, is the coaching. Second one, product research and brain.  Storming for marketing teams, creative planning, e-learning and education.  A internal auditing.  A inclusion, assistant for a Teams yes, these are all valid thing well it thinks  absolutely uh legitimate targets absolutely like agile meetings you are more about about what are the audience we want to tackle but yeah i am about how to process any of the all of this into a a result any of this right okay we'll be iterating on on those we will be iterating okay so it brings a lot of value when you are also thinking about what you're going to do not about like not what is the you know like you're making a car but what is the what the what the what the what is the production line right because what you're going to produce but about how you're going to produce because this way we can produce whatever we can We can put whatever piece of text and then get the result of who is actually been posting about it lately.\",\n",
       "  'topic': 'Types of Engagements',\n",
       "  'meeting_id': '4f64ba1e-fd80-4b5d-a1be-345225028f6c',\n",
       "  'formatted_time': '27:30',\n",
       "  'timestamp': '2024-12-11T18:31:31.143999+00:00',\n",
       "  'combined_score': 0.041860465116279076,\n",
       "  'sources': ['bm25']},\n",
       " {'score': 1.572798,\n",
       "  'content': \"This chunk is part of a conversation between Dmitriy Grankin and Lara Vargas discussing strategies for identifying and engaging with micro-influencers in specific domains to better understand their ideal customer profiles and enhance marketing efforts for VEXA.\\nDmitriy Grankin:  deal customer for now and the idea is true yeah to talk to the it's an easy at least some kind of very specific way pipeline of getting in touch with with domain insiders  Okay. Sorry, with which insiders?  Domain means those that are doing something specific thing that they're i don't know maybe they are doing for equipment some kind of specific or they are in pharma or they are setting up some Jira for a company's location.  in in the UK for example right or in Brazil so they are very local they are very specific they have a very precise user base a client base so they are very local about what they are doing and about where they are doing what they are doing  So the idea is to penetrate through these people who are already in contact with big companies we don't know what what  companies they are servicing okay we don't know where there is a big companies or smaller companies or whatever but if they are having something to say about this thing right on youtube they're probably having some idea ideas about how they're going to convert this views into money, right?  So most likely they are, they have some, uh, local business, I mean local, not just in terms of geography, but local in terms of very specific, you know, very specific user base.  it's a very specific customer they're there most likely having their own idea customer profile they all And since I don't know my ideal customer profile, but I have a system which can service a variety of business use cases.  This way I want to find an ideal customer profile or a bunch of those.  Okay.  Okay, and what do you have on your mind about that?  Do you want to participate in this thing or you have your own ideas?\",\n",
       "  'topic': 'Identifying Ideal Customers',\n",
       "  'meeting_id': '4f64ba1e-fd80-4b5d-a1be-345225028f6c',\n",
       "  'formatted_time': '06:01',\n",
       "  'timestamp': '2024-12-11T18:31:31.143999+00:00',\n",
       "  'combined_score': 0.027906976744186063,\n",
       "  'sources': ['bm25']},\n",
       " {'score': 1.4100716,\n",
       "  'content': \"Lara Vargas:  So for the last, for example, the month of October and November, I couldn't focus much on content posting because we were focusing on creating our black friday campaign so i was doing a marketing funnel to create this black friday campaign so i spent the last last two months doing that yeah i will send you the page for build tricks and why are you living in the company Because I want to work more. I don't really like working B2B, I have to say. I prefer working B2C. It makes me happier. It makes me...  I prefer talking to the customer, I think that I have a knack for understanding the customer, you know, I feel that I know what people want.  and i like talking to them about it i like feel i like the pleasure it gets me when i understand them uh means like you're more like  on a product manager management site like talking to customers and customer development interviews all this all this stuff  Sim, eu quero dizer, quando eu estava, por exemplo, quando no Beatrix o conteúdo é muito mais impessoal, sabe, é muito mais...  Mesmo o copywriting, o que eu tenho que dizer ao cliente é muito mais impessoal.  O valor, o benefício que eu tenho que oferecer.  is more impersonal. It's not how that person will improve its life, it's how the company will improve their life. And for example, when I was working with you guys in Vexa, that was something way more fulfilling for me and that's what what showed me that i actually wanted to go more uh go back into b2c so i'm yeah i'm actually looking for stuff in more related to b2c and you perceive the access to b2c product i think you guys have both right i think that there is uh the free use part there is the the paid part for the consumer but there is also the big the big part net right which is where you get most i think of the it's where the the the mark the big value of the company will be right is selling to big companies but yeah i think that i believe that as as a startup fax will first grow in the consumer right and\",\n",
       "  'topic': 'B2B vs B2C Preferences',\n",
       "  'meeting_id': 'd6b623d8-542e-40ed-8660-cdb9efceaf81',\n",
       "  'formatted_time': '24:49',\n",
       "  'timestamp': '2024-12-05T19:00:53.060000+00:00',\n",
       "  'combined_score': 0.020930232558139538,\n",
       "  'sources': ['bm25']},\n",
       " {'score': 1.4100716,\n",
       "  'content': \"This chunk occurs during a discussion between Dmitry Grankin and Lara Vargas about content creation strategies for VEXA, focusing on the effectiveness of influencer marketing versus creating original content based on user search behavior. They explore the potential of leveraging influencers who provide tips and tricks to reach target audiences and emphasize the importance of understanding what users are searching for to guide content development.\\nDmitry Grankin:  the state world for we just just to create the content about about the exa but we don't actually know uh if that would work right uh we know that if we we have an influencer with their own established audience that this audience will get in touch with the content created by this influencer.  That's what we know. If we create our own content, but we don't know if it will resonate at any way uh to make life easier better do um to start from what people search and create content for what people search around the problem area we are we attacked yeah i think that  Eu acho que isso pode ser feito. Eu acho que, por exemplo, uma coisa que eu vi é que muitas vezes o tipo de influencer que There is a type of influencer that is tips and tricks influencer.  So this type of influencer, lots of times they are not directly where your consumer is, but that specific video will go to your consumers for you page. Because the the content of it has to do with what they want in that specific context of the tips and tricks, so yeah, I think that this is something that I researched some of them, they were just a bit outside.  of the target that we were looking for that time, but I can reach out to them again and see.  Yeah.  Okay.  Okay, so basically I see a tool, first of all.  If you want to create content, then start with the content.  research, with the research of what people are actually looking for. Otherwise, if we integration that we can just say here is the product you know your audience you you know what you want to deliver to your audience what do you like what they're expecting from you, you know much better how to present it.  These two ways, both would work, I believe.  At least for now we know that one of these things works.\",\n",
       "  'topic': 'Influencer Content Creation',\n",
       "  'meeting_id': 'd6b623d8-542e-40ed-8660-cdb9efceaf81',\n",
       "  'formatted_time': '37:07',\n",
       "  'timestamp': '2024-12-05T19:00:53.060000+00:00',\n",
       "  'combined_score': 0.017441860465116275,\n",
       "  'sources': ['bm25']},\n",
       " {'score': 1.2778602,\n",
       "  'content': \"This chunk is part of a conversation between Dmitry Grankin and Lara Vargas discussing strategies for improving VEXA's product visibility and user engagement. Dmitry suggests focusing on search engine optimization and creating content that addresses specific user needs, using the example of a competitor that provides YouTube transcript services. The discussion emphasizes the importance of understanding user queries and developing solutions that can drive traffic and conversions.\\nDmitry Grankin:  I think the right approach would be to forget what the actual product is and start from search engine optimization start from what people actually are looking for around the problem area we're in and deliverance content and maybe even micro products.  for that specific problems like the example is that I recently researched tactic tactic is yeah yeah it's a competitor The thing they were doing is that they probably noticed that there is such a problem as people searching on how to acquire transcripts from YouTube yeah and saw that as well which is a pretty straightforward thing yeah you can get it from API easily like it's the latest it's like this it's it's a very common request so basically what you do is you create a a page where and you will just drop drag and drop this your youtube link and get a transcript and you create a little bit of contact on youtube hey guys come in and we will give you this that's how it works how to fulfill your specific request they type in how to get transcripts from youtube and here it is that's how you do it it's free no strings attached come and get it and so you get this traffic and and then you find a way on how to convert.  And basically the way to convert is, is give them this product, this tool, script directly in the dashboard so that they got they found themselves in the dashboard and I see they see the capabilities okay here we can add new more youtube videos and then search uh and then search this youtube videos create another content from this youtube videos or we can download extension and at calls for meetings there or whatever um so i'll probably go for this multi-step  Maybe it's  so overcomplicated for probably but better take some straightforward steps first like I I see what you mean though  and I think that it can it can be a uma introdução para um caminho em frente, eu posso pensar sobre isso.  Se você tem alguma outra ideia também, em termos do briefing, porque isso é realmente about tactic from when we first started working together.  I researched them, I researched the competitors, but then the other day I needed a transcript from YouTube and I stumbled upon that.  So, yeah.\",\n",
       "  'topic': 'SEO and Content Research',\n",
       "  'meeting_id': 'd6b623d8-542e-40ed-8660-cdb9efceaf81',\n",
       "  'formatted_time': '33:11',\n",
       "  'timestamp': '2024-12-05T19:00:53.060000+00:00',\n",
       "  'combined_score': 0.013953488372093014,\n",
       "  'sources': ['bm25']},\n",
       " {'score': 1.1358593,\n",
       "  'content': \"This chunk is part of a conversation between Waqas Arshad and Dmitry Grankin, where Waqas discusses the importance of SEO and content marketing for Dmitry's AI product. He emphasizes the need for a strong online presence through effective SEO strategies, particularly in comparison to competitors like Otter and Firefly, and highlights the concept of product-led SEO to attract potential users.\\nWaqas Arshad:  Now, if you talk about SEO, as you just mentioned that SEO is something that does help product like these.  So the best SEO that you could do is on your own website.  So people who are searching for AI automation platform or AI assistant platform, they should see your website.  That's the best thing that you could do with your platform.  And it's a long process.  It's not something that's going to happen in a month or in a quarter or in six months.  It's a long run and it's a long process that you have to work on.  That's something that should be done from the very start.  So as you know, you are actually launching your product, you are beta testing it right now.  People are getting traction and obviously from product and we can see that people are actually giving good reviews about the product.  So that actually shows that your market fit right now.  So once you go towards the launch, you should actually start working on your SEO and SEO should be focused towards your content marketing.  your blog section.  So what I have to say about your SEO, I mean, the main reason I reached out to you as well was, if you have seen your main competitors like Otter or Five Flies, Just I would like to know, do you consider Otter or Firefly as your competitor, or do you have some other competitors that you think are more relevant, if you can name them to me?  Yeah, we've got Otter, Firefly, We've got Fathom, we've got ETLGB, and these are the main competitors.  Okay, so while doing my head  I went on to Fireflies and Autumn.  So if you actually go onto the website and you did a little exploration on the website, you will see that both of them have a specific blog section on your website. And if you actually go a little bit deeper and see what type of content they're actually writing on the website. So that's not just an informational content that they write, their main goal and their main purpose.  was for having a block section is to address the queries and address the problem their users are having so that they can actually convert and start using the product, right?  So we call it as a product led SEO.  SEO so that focuses on writing content for the users who are actually looking for the product who are having a problem in actually getting transcriptions or recording of the meeting or AI based speech recognition and the transcription of the meeting notes.  So these kinds of problems.  So they are actually writing topics, covering those problems and giving their product The solution, so that when someone comes and reads that content piece, first of all, they'll find the solution to the problem and then they will naturally see that, okay, VEXA AI actually solved my problem, okay, let me try it out.\",\n",
       "  'topic': 'SEO and Content Marketing Strategies',\n",
       "  'meeting_id': '2a92e93e-dc1c-455d-acbb-182555197434',\n",
       "  'formatted_time': '07:55',\n",
       "  'timestamp': '2024-12-10T11:01:18.660000+00:00',\n",
       "  'combined_score': 0.010465116279069752,\n",
       "  'sources': ['bm25']},\n",
       " {'score': 1.0760705,\n",
       "  'content': \"This chunk occurs towards the end of a conversation between Dmitry Grankin and Lara Vargas, where they discuss scheduling a follow-up meeting, the use of Google Meet for calls, and issues related to user accounts and premium subscriptions for the VEXA platform.\\nDmitry Grankin:  Okay, Laura, I think we can have another meeting next week.  Okay.  Just...  Just think about it.  Yeah, I will.  I will start researching what kind of different uses we can propose.  and get back to you and I will I will check on your on your calendar I will already schedule maybe for Tuesday or Wednesday if that's okay for you yeah  And do you tend to have these Google Meet calls?  I'm sorry?  Do you have a lot of Google Meet calls?  I only take Google Meet.  I only use Google Meet.  Is it, do you have many of those?  Yeah, sometimes.  Yeah, some days I have, some days I have full day, some days I don't.  don't have any quotes here so why don't uh why don't you select something because now i'm on my ipad i was gonna ask you that we need an integration i but i always use vex dmitry i'm always with vex it's just that i i don't have my laptop right now i'm only with my bed oh i don't see you because maybe i've  you to the list of insiders that's like really i don't see you as a as a user because i just really uh yeah removed some people who Who I consider like not being a user.  Really?  Larger embargoes, I'm not being user.  I use it so much, I even I got really upset the other day.  I was going to tell you this because I recorded the meeting.  I think it was even with you guys, the meeting that you were showing me that was in rushing and I couldn't find it.  my dashboard you couldn't find anything that we had no I couldn't find it I got  rid of But I it was recorded because I saw it getting recorded at the time  Let me find it. I'll share it with you if I have it. I Saw this meeting I I show this meeting to show you this meeting.  Yeah, I, I, I open my large Vargas.  I have my let me see if I can.  share with you i found i found you yeah yes i found that i've added the action i've actually added your uh yes your account as and i  yeah as a test in account account okay another thing i meant to ask you sorry dimitri i'll let you go but this is the last thing uh lucas asked asked me how to see if he is a paid user because we negotiated with him premium for a year and he's he was asking me I think that  all the users are premium users but I can assure him that as soon as we have  have payment uh his one year will start from that point in time okay okay okay if it works for you  okay i will let him know i will let him know  okay great okay I'll talk to you soon okay what's so great to talk to you one  okay bye-bye you too bye-bye\",\n",
       "  'topic': 'Next Steps and Future Meetings',\n",
       "  'meeting_id': 'd6b623d8-542e-40ed-8660-cdb9efceaf81',\n",
       "  'formatted_time': '39:51',\n",
       "  'timestamp': '2024-12-05T19:00:53.060000+00:00',\n",
       "  'combined_score': 0.006976744186046524,\n",
       "  'sources': ['bm25']}]"
      ]
     },
     "execution_count": 27,
     "metadata": {},
     "output_type": "execute_result"
    }
   ],
   "source": [
    "results"
   ]
  },
  {
   "cell_type": "code",
   "execution_count": 28,
   "metadata": {},
   "outputs": [],
   "source": [
    "meeting_ids = None\n",
    "k=10"
   ]
  },
  {
   "cell_type": "code",
   "execution_count": null,
   "metadata": {},
   "outputs": [],
   "source": []
  }
 ],
 "metadata": {
  "kernelspec": {
   "display_name": "Python 3 (ipykernel)",
   "language": "python",
   "name": "python3"
  },
  "language_info": {
   "codemirror_mode": {
    "name": "ipython",
    "version": 3
   },
   "file_extension": ".py",
   "mimetype": "text/x-python",
   "name": "python",
   "nbconvert_exporter": "python",
   "pygments_lexer": "ipython3",
   "version": "3.11.11"
  }
 },
 "nbformat": 4,
 "nbformat_minor": 2
}
