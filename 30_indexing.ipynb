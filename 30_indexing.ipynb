{
 "cells": [
  {
   "cell_type": "code",
   "execution_count": 3,
   "metadata": {},
   "outputs": [],
   "source": [
    "%load_ext autoreload\n",
    "%autoreload 2"
   ]
  },
  {
   "cell_type": "code",
   "execution_count": 4,
   "metadata": {},
   "outputs": [],
   "source": [
    "from indexing import get_indexing_stats,start_indexing_for_users\n",
    "from psql_helpers import get_session"
   ]
  },
  {
   "cell_type": "code",
   "execution_count": 5,
   "metadata": {},
   "outputs": [],
   "source": [
    "active_users = ['a.zakharov@citydrive.ru', 'arabuli.sh@gmail.com', 'ahmed@forager.ai',\n",
    "       'liza@blasterstudio.ru', 'evgeniya@blasterstudio.ru',\n",
    "       'vitaliy.eremeychik@gmail.com', 'marianna.inozemtseva@gmail.com',\n",
    "       'nick@occam.fi', 'joes82242@gmail.com', 'Arabuli.Sh@gmail.com',\n",
    "       'makarenkov93@gmail.com', 'adam@ispeedtolead.com', 'lenishe@gmail.com',\n",
    "       'ilia.semukhin@gmail.com', 'hello@motiohead.com',\n",
    "       'stacygulyaeva@gmail.com', 'iv.bess@gmail.com',\n",
    "       'adm.publisher@gmail.com', 'guilherme.francisco@hotmart.com',\n",
    "       'OlgaNemirovskaya@gmail.com']"
   ]
  },
  {
   "cell_type": "code",
   "execution_count": 6,
   "metadata": {},
   "outputs": [],
   "source": [
    "selected = ['2280905@gmail.com','ryabenko.sergey@gmail.com','arabuli.sh@gmail.com']\n"
   ]
  },
  {
   "cell_type": "code",
   "execution_count": 7,
   "metadata": {},
   "outputs": [],
   "source": [
    "# from vexa import VexaAuth\n",
    "# vexa_auth = VexaAuth()\n",
    "# [await vexa_auth.authenticate_user(s) for s in selected]"
   ]
  },
  {
   "cell_type": "code",
   "execution_count": 8,
   "metadata": {},
   "outputs": [],
   "source": [
    "from indexing import Indexing"
   ]
  },
  {
   "cell_type": "markdown",
   "metadata": {},
   "source": []
  },
  {
   "cell_type": "code",
   "execution_count": 12,
   "metadata": {},
   "outputs": [],
   "source": [
    "selected = ['evgenia.grudtseva@oom-agency.ru']"
   ]
  },
  {
   "cell_type": "markdown",
   "metadata": {},
   "source": []
  },
  {
   "cell_type": "code",
   "execution_count": 17,
   "metadata": {},
   "outputs": [],
   "source": [
    "email = 'valeria@thetreeapp.org'"
   ]
  },
  {
   "cell_type": "code",
   "execution_count": 18,
   "metadata": {},
   "outputs": [
    {
     "name": "stdout",
     "output_type": "stream",
     "text": [
      "Vexa token: 47b81be984b3491b8f78d8c93b4aa061\n"
     ]
    },
    {
     "name": "stderr",
     "output_type": "stream",
     "text": [
      "/home/dima/anaconda3/envs/langchain/lib/python3.11/site-packages/huggingface_hub/file_download.py:1132: FutureWarning: `resume_download` is deprecated and will be removed in version 1.0.0. Downloads always resume when possible. If you want to force a new download, use `force_download=True`.\n",
      "  warnings.warn(\n"
     ]
    }
   ],
   "source": [
    "indexer = await Indexing.from_email(email)"
   ]
  },
  {
   "cell_type": "code",
   "execution_count": null,
   "metadata": {},
   "outputs": [],
   "source": []
  },
  {
   "cell_type": "code",
   "execution_count": 13,
   "metadata": {},
   "outputs": [],
   "source": [
    "# Example usage\n",
    "async def index_user_meetings(email: str):\n",
    "    indexer = await Indexing.from_email(email)\n",
    "    await indexer.index_meetings()"
   ]
  },
  {
   "cell_type": "code",
   "execution_count": 16,
   "metadata": {},
   "outputs": [
    {
     "name": "stdout",
     "output_type": "stream",
     "text": [
      "Vexa token: 47b81be984b3491b8f78d8c93b4aa061\n"
     ]
    },
    {
     "name": "stdout",
     "output_type": "stream",
     "text": [
      "User information retrieved successfully.\n",
      "Created text index for field: topic_name\n",
      "Created text index for field: summary\n",
      "Created text index for field: details\n",
      "Request URL: http://127.0.0.1:8001/api/v1/calls/all\n",
      "Request Params: {'token': '47b81be984b3491b8f78d8c93b4aa061'}\n",
      "Error in BaseCall.call_sync: Request timed out.\n",
      "Error processing meeting 6f32c8ae-d983-4ec9-95bb-32fe976dd2a1: 'NoneType' object has no attribute 'model_dump'\n",
      "Error in BaseCall.call_sync: Request timed out.\n",
      "Error processing meeting 8383e3d6-5005-42b9-bd64-a1fba3dcaca3: 'NoneType' object has no attribute 'model_dump'\n",
      "Error in BaseCall.call_sync: Request timed out.\n",
      "Error in BaseCall.call_sync: Request timed out.\n",
      "Error processing meeting 200fa34c-eeb8-40f8-ac2c-55ddc492fcd4: 'NoneType' object has no attribute 'model_dump'\n",
      "Error in BaseCall.call_sync: Request timed out.\n",
      "Error in BaseCall.call_sync: Request timed out.\n",
      "Error in BaseCall.call_sync: Connection error.\n",
      "Error in BaseCall.call_sync: Connection error.\n",
      "Error processing meeting 8509aa7b-259f-4c3a-822a-30699ca4379b: 'NoneType' object has no attribute 'model_dump'\n"
     ]
    }
   ],
   "source": [
    "await index_user_meetings('valeria@thetreeapp.org')"
   ]
  },
  {
   "cell_type": "code",
   "execution_count": null,
   "metadata": {},
   "outputs": [],
   "source": []
  },
  {
   "cell_type": "code",
   "execution_count": 9,
   "metadata": {},
   "outputs": [
    {
     "name": "stdout",
     "output_type": "stream",
     "text": [
      "Vexa token: 0214d19adcc241b385dad8ddccbfd17a\n"
     ]
    },
    {
     "name": "stderr",
     "output_type": "stream",
     "text": [
      "/home/dima/anaconda3/envs/langchain/lib/python3.11/site-packages/huggingface_hub/file_download.py:1132: FutureWarning: `resume_download` is deprecated and will be removed in version 1.0.0. Downloads always resume when possible. If you want to force a new download, use `force_download=True`.\n",
      "  warnings.warn(\n"
     ]
    }
   ],
   "source": [
    "indexing = Indexing(token='0214d19adcc241b385dad8ddccbfd17a')"
   ]
  },
  {
   "cell_type": "code",
   "execution_count": 10,
   "metadata": {},
   "outputs": [
    {
     "data": {
      "text/plain": [
       "{'is_indexing': False, 'current_meeting': None, 'processing_meetings': []}"
      ]
     },
     "execution_count": 10,
     "metadata": {},
     "output_type": "execute_result"
    }
   ],
   "source": [
    "indexing.status"
   ]
  },
  {
   "cell_type": "code",
   "execution_count": 11,
   "metadata": {},
   "outputs": [
    {
     "name": "stdout",
     "output_type": "stream",
     "text": [
      "Vexa token: 3ae04e20124d40babc5107e658c666b6\n",
      "Vexa token: 0214d19adcc241b385dad8ddccbfd17a\n",
      "User information retrieved successfully.\n",
      "User information retrieved successfully.\n",
      "Created text index for field: topic_name\n",
      "Created text index for field: topic_name\n",
      "Created text index for field: summary\n",
      "Created text index for field: summary\n",
      "Created text index for field: details\n",
      "Created text index for field: details\n",
      "Request URL: http://127.0.0.1:8001/api/v1/calls/all\n",
      "Request Params: {'token': '0214d19adcc241b385dad8ddccbfd17a'}\n",
      "Request URL: http://127.0.0.1:8001/api/v1/calls/all\n",
      "Request Params: {'token': '3ae04e20124d40babc5107e658c666b6'}\n",
      "Meeting 37769a4e-fd8d-4193-8a91-f001a16649b2 already being processed, skipping...\n"
     ]
    }
   ],
   "source": [
    "\n",
    "\n",
    "async with get_session() as session:\n",
    "    # Example 1: Start indexing for specific users by email\n",
    "    results = await start_indexing_for_users(\n",
    "        session, \n",
    "        num_meetings=20,\n",
    "        emails=selected\n",
    "    )"
   ]
  },
  {
   "cell_type": "code",
   "execution_count": 17,
   "metadata": {},
   "outputs": [
    {
     "name": "stdout",
     "output_type": "stream",
     "text": [
      "df columns: ['email', 'last_meeting_date', 'token', 'user_id']\n",
      "total_df columns: ['total_meetings', 'user_id']\n",
      "\n",
      "df head:\n",
      "                        email       last_meeting_date  \\\n",
      "0  ryabenko.sergey@gmail.com 2024-11-05 19:43:39.080   \n",
      "1          2280905@gmail.com 2024-11-06 15:42:37.160   \n",
      "\n",
      "                              token                               user_id  \n",
      "0  0214d19adcc241b385dad8ddccbfd17a  aa8d9413-8d77-437f-96f1-0187bc9d412f  \n",
      "1  3ae04e20124d40babc5107e658c666b6  ef7c085b-fdb5-4c94-b7b6-a61a3d04c210  \n",
      "\n",
      "total_df head:\n",
      "    total_meetings                               user_id\n",
      "0              14  aa8d9413-8d77-437f-96f1-0187bc9d412f\n",
      "1              18  ef7c085b-fdb5-4c94-b7b6-a61a3d04c210\n"
     ]
    },
    {
     "data": {
      "text/html": [
       "<div>\n",
       "<style scoped>\n",
       "    .dataframe tbody tr th:only-of-type {\n",
       "        vertical-align: middle;\n",
       "    }\n",
       "\n",
       "    .dataframe tbody tr th {\n",
       "        vertical-align: top;\n",
       "    }\n",
       "\n",
       "    .dataframe thead th {\n",
       "        text-align: right;\n",
       "    }\n",
       "</style>\n",
       "<table border=\"1\" class=\"dataframe\">\n",
       "  <thead>\n",
       "    <tr style=\"text-align: right;\">\n",
       "      <th></th>\n",
       "      <th>user_id</th>\n",
       "      <th>email</th>\n",
       "      <th>total_meetings</th>\n",
       "      <th>indexed_meetings</th>\n",
       "      <th>remaining_meetings</th>\n",
       "      <th>progress_percentage</th>\n",
       "      <th>last_meeting_date</th>\n",
       "    </tr>\n",
       "  </thead>\n",
       "  <tbody>\n",
       "    <tr>\n",
       "      <th>0</th>\n",
       "      <td>aa8d9413-8d77-437f-96f1-0187bc9d412f</td>\n",
       "      <td>ryabenko.sergey@gmail.com</td>\n",
       "      <td>14</td>\n",
       "      <td>14</td>\n",
       "      <td>0</td>\n",
       "      <td>100.0</td>\n",
       "      <td>2024-11-05 19:43:39</td>\n",
       "    </tr>\n",
       "    <tr>\n",
       "      <th>1</th>\n",
       "      <td>ef7c085b-fdb5-4c94-b7b6-a61a3d04c210</td>\n",
       "      <td>2280905@gmail.com</td>\n",
       "      <td>18</td>\n",
       "      <td>18</td>\n",
       "      <td>0</td>\n",
       "      <td>100.0</td>\n",
       "      <td>2024-11-06 15:42:37</td>\n",
       "    </tr>\n",
       "  </tbody>\n",
       "</table>\n",
       "</div>"
      ],
      "text/plain": [
       "                                user_id                      email  \\\n",
       "0  aa8d9413-8d77-437f-96f1-0187bc9d412f  ryabenko.sergey@gmail.com   \n",
       "1  ef7c085b-fdb5-4c94-b7b6-a61a3d04c210          2280905@gmail.com   \n",
       "\n",
       "   total_meetings  indexed_meetings  remaining_meetings  progress_percentage  \\\n",
       "0              14                14                   0                100.0   \n",
       "1              18                18                   0                100.0   \n",
       "\n",
       "     last_meeting_date  \n",
       "0  2024-11-05 19:43:39  \n",
       "1  2024-11-06 15:42:37  "
      ]
     },
     "execution_count": 17,
     "metadata": {},
     "output_type": "execute_result"
    }
   ],
   "source": [
    "async with get_session() as session:\n",
    "    stats = await get_indexing_stats(session)\n",
    "stats"
   ]
  },
  {
   "cell_type": "code",
   "execution_count": 14,
   "metadata": {},
   "outputs": [
    {
     "name": "stdout",
     "output_type": "stream",
     "text": [
      "Model device: cuda:3\n"
     ]
    },
    {
     "data": {
      "text/plain": [
       "{'2280905@gmail.com': {'email': '2280905@gmail.com', 'status': 'running'},\n",
       " 'ryabenko.sergey@gmail.com': {'email': 'ryabenko.sergey@gmail.com',\n",
       "  'status': 'running'}}"
      ]
     },
     "execution_count": 14,
     "metadata": {},
     "output_type": "execute_result"
    },
    {
     "name": "stdout",
     "output_type": "stream",
     "text": [
      "Model device: cuda:3\n",
      "Model device: cuda:3\n",
      "Model device: cuda:3\n",
      "Model device: cuda:3\n",
      "Model device: cuda:3\n",
      "Model device: cuda:3\n",
      "Model device: cuda:3\n",
      "Model device: cuda:3\n",
      "Model device: cuda:3\n",
      "Model device: cuda:3\n",
      "Model device: cuda:3\n",
      "Model device: cuda:3\n",
      "Model device: cuda:3\n",
      "Model device: cuda:3\n",
      "Model device: cuda:3\n",
      "Model device: cuda:3\n",
      "Model device: cuda:3\n",
      "Model device: cuda:3\n",
      "Model device: cuda:3\n",
      "Model device: cuda:3\n",
      "Model device: cuda:3\n",
      "Model device: cuda:3\n",
      "Model device: cuda:3\n",
      "Model device: cuda:3\n",
      "Model device: cuda:3\n",
      "Model device: cuda:3\n",
      "Model device: cuda:3\n",
      "Model device: cuda:3\n",
      "Model device: cuda:3\n",
      "Model device: cuda:3\n",
      "Model device: cuda:3\n",
      "Model device: cuda:3\n",
      "Model device: cuda:3\n",
      "Model device: cuda:3\n",
      "Model device: cuda:3\n",
      "Model device: cuda:3\n",
      "Model device: cuda:3\n",
      "Model device: cuda:3\n",
      "Model device: cuda:3\n",
      "Model device: cuda:3\n",
      "Model device: cuda:3\n",
      "Model device: cuda:3\n",
      "Model device: cuda:3\n",
      "Model device: cuda:3\n",
      "Model device: cuda:3\n",
      "Model device: cuda:3\n",
      "Model device: cuda:3\n",
      "Model device: cuda:3\n",
      "Model device: cuda:3\n",
      "Model device: cuda:3\n",
      "Model device: cuda:3\n",
      "Model device: cuda:3\n",
      "Model device: cuda:3\n",
      "Model device: cuda:3\n",
      "Model device: cuda:3\n",
      "Model device: cuda:3\n",
      "Model device: cuda:3\n",
      "Model device: cuda:3\n",
      "Model device: cuda:3\n",
      "Model device: cuda:3\n",
      "Model device: cuda:3\n",
      "Model device: cuda:3\n",
      "Model device: cuda:3\n",
      "Model device: cuda:3\n",
      "Model device: cuda:3\n",
      "Model device: cuda:3\n",
      "Model device: cuda:3\n",
      "Model device: cuda:3\n",
      "Model device: cuda:3\n",
      "Model device: cuda:3\n",
      "Model device: cuda:3\n",
      "Model device: cuda:3\n",
      "Model device: cuda:3\n",
      "Model device: cuda:3\n",
      "Model device: cuda:3\n",
      "Model device: cuda:3\n",
      "Model device: cuda:3\n",
      "Model device: cuda:3\n",
      "Model device: cuda:3\n"
     ]
    }
   ],
   "source": [
    "results"
   ]
  },
  {
   "cell_type": "code",
   "execution_count": 14,
   "metadata": {},
   "outputs": [
    {
     "ename": "AttributeError",
     "evalue": "'VexaAuth' object has no attribute 'token'",
     "output_type": "error",
     "traceback": [
      "\u001b[0;31m---------------------------------------------------------------------------\u001b[0m",
      "\u001b[0;31mAttributeError\u001b[0m                            Traceback (most recent call last)",
      "Cell \u001b[0;32mIn[14], line 1\u001b[0m\n\u001b[0;32m----> 1\u001b[0m \u001b[43mvexa_auth\u001b[49m\u001b[38;5;241;43m.\u001b[39;49m\u001b[43mtoken\u001b[49m\n",
      "\u001b[0;31mAttributeError\u001b[0m: 'VexaAuth' object has no attribute 'token'"
     ]
    }
   ],
   "source": [
    "vexa_auth.token\n"
   ]
  },
  {
   "cell_type": "code",
   "execution_count": 15,
   "metadata": {},
   "outputs": [
    {
     "name": "stdout",
     "output_type": "stream",
     "text": [
      "Vexa token: 3ae04e20124d40babc5107e658c666b6\n",
      "User information retrieved successfully.\n"
     ]
    },
    {
     "data": {
      "text/plain": [
       "{'id': 'ef7c085b-fdb5-4c94-b7b6-a61a3d04c210',\n",
       " 'email': '2280905@gmail.com',\n",
       " 'is_allowed_send_init_message': True,\n",
       " 'username': 'string',\n",
       " 'first_name': 'string',\n",
       " 'last_name': 'string',\n",
       " 'image': None,\n",
       " 'created_timestamp': '2024-05-28T11:16:50.894711Z',\n",
       " 'updated_timestamp': '2024-11-02T20:12:41.410552Z'}"
      ]
     },
     "execution_count": 15,
     "metadata": {},
     "output_type": "execute_result"
    }
   ],
   "source": [
    "from vexa import VexaAPI\n",
    "vexa_api = VexaAPI()\n",
    "await vexa_api.get_user_info()\n"
   ]
  },
  {
   "cell_type": "code",
   "execution_count": 16,
   "metadata": {},
   "outputs": [
    {
     "name": "stdout",
     "output_type": "stream",
     "text": [
      "Vexa token: 3ae04e20124d40babc5107e658c666b6\n"
     ]
    },
    {
     "data": {
      "text/plain": [
       "{'is_indexing': False,\n",
       " 'current_meeting': None,\n",
       " 'processing_meetings': ['3357836b-2b6d-41d4-b4ca-84de919d7a5f',\n",
       "  '4210ef8c-17c6-493b-a25b-f225c3b2b4c1',\n",
       "  '76ac149f-dabf-4f68-ab00-1fa3ba5fc491',\n",
       "  'ca623359-4678-4876-b66d-704a00a3f2e9']}"
      ]
     },
     "execution_count": 16,
     "metadata": {},
     "output_type": "execute_result"
    }
   ],
   "source": [
    "from indexing import Indexing\n",
    "indexing = Indexing(token='3ae04e20124d40babc5107e658c666b6')\n",
    "indexing.status\n"
   ]
  },
  {
   "cell_type": "code",
   "execution_count": null,
   "metadata": {},
   "outputs": [],
   "source": []
  }
 ],
 "metadata": {
  "kernelspec": {
   "display_name": "langchain",
   "language": "python",
   "name": "python3"
  },
  "language_info": {
   "codemirror_mode": {
    "name": "ipython",
    "version": 3
   },
   "file_extension": ".py",
   "mimetype": "text/x-python",
   "name": "python",
   "nbconvert_exporter": "python",
   "pygments_lexer": "ipython3",
   "version": "3.11.2"
  }
 },
 "nbformat": 4,
 "nbformat_minor": 2
}
