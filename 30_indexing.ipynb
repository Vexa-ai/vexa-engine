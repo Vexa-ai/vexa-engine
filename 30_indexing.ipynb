{
 "cells": [
  {
   "cell_type": "code",
   "execution_count": 1,
   "metadata": {},
   "outputs": [],
   "source": [
    "%load_ext autoreload\n",
    "%autoreload 2"
   ]
  },
  {
   "cell_type": "code",
   "execution_count": 2,
   "metadata": {},
   "outputs": [],
   "source": [
    "from indexing import get_indexing_stats,start_indexing_for_users\n",
    "from psql_helpers import get_session"
   ]
  },
  {
   "cell_type": "code",
   "execution_count": 3,
   "metadata": {},
   "outputs": [],
   "source": [
    "active_users = ['a.zakharov@citydrive.ru', 'arabuli.sh@gmail.com', 'ahmed@forager.ai',\n",
    "       'liza@blasterstudio.ru', 'evgeniya@blasterstudio.ru',\n",
    "       'vitaliy.eremeychik@gmail.com', 'marianna.inozemtseva@gmail.com',\n",
    "       'nick@occam.fi', 'joes82242@gmail.com', 'Arabuli.Sh@gmail.com',\n",
    "       'makarenkov93@gmail.com', 'adam@ispeedtolead.com', 'lenishe@gmail.com',\n",
    "       'ilia.semukhin@gmail.com', 'hello@motiohead.com',\n",
    "       'stacygulyaeva@gmail.com', 'iv.bess@gmail.com',\n",
    "       'adm.publisher@gmail.com', 'guilherme.francisco@hotmart.com',\n",
    "       'OlgaNemirovskaya@gmail.com']"
   ]
  },
  {
   "cell_type": "code",
   "execution_count": 4,
   "metadata": {},
   "outputs": [],
   "source": [
    "selected = ['2280905@gmail.com', 'a.zakharov@citydrive.ru', 'arabuli.sh@gmail.com',  'marianna.inozemtseva@gmail.com','ahmed@forager.ai']\n"
   ]
  },
  {
   "cell_type": "code",
   "execution_count": 8,
   "metadata": {},
   "outputs": [
    {
     "data": {
      "text/plain": [
       "[{'user_id': 'ef7c085b-fdb5-4c94-b7b6-a61a3d04c210',\n",
       "  'user_name': 'string string'},\n",
       " {'user_id': 'bcf446ed-e0ef-4040-92df-07fcaaaf9390',\n",
       "  'user_name': 'string string'},\n",
       " {'user_id': 'b7a44b71-c622-420a-aa03-58f996f4c863',\n",
       "  'user_name': 'string string'},\n",
       " {'user_id': 'e69e5d9a-438c-4074-9380-3b52b4412c48',\n",
       "  'user_name': 'string string'},\n",
       " {'user_id': 'fecb31b5-e6b3-4ccd-a275-a25007988aad',\n",
       "  'user_name': 'string string'}]"
      ]
     },
     "execution_count": 8,
     "metadata": {},
     "output_type": "execute_result"
    }
   ],
   "source": [
    "from vexa import VexaAuth\n",
    "vexa_auth = VexaAuth()\n",
    "[await vexa_auth.authenticate_user(s) for s in selected]"
   ]
  },
  {
   "cell_type": "code",
   "execution_count": 9,
   "metadata": {},
   "outputs": [
    {
     "name": "stdout",
     "output_type": "stream",
     "text": [
      "Vexa token: 3ae04e20124d40babc5107e658c666b6\n",
      "Vexa token: ffc47fdc1f79475994fb93a29a394a09\n",
      "Vexa token: 160ad3dda96c4d6697e95028bbcc2614\n",
      "Vexa token: dadf578eb00c481d9bbbb66a01df6324\n",
      "Vexa token: 32228beb2a8c44ee845a6a24e8525694\n",
      "User information retrieved successfully.\n",
      "User information retrieved successfully.\n",
      "User information retrieved successfully.\n",
      "Created text index for field: topic_name\n",
      "Created text index for field: topic_name\n",
      "Created text index for field: topic_name\n",
      "Created text index for field: summary\n",
      "Created text index for field: summary\n",
      "Created text index for field: summary\n",
      "Created text index for field: details\n",
      "Created text index for field: details\n",
      "Created text index for field: details\n",
      "User information retrieved successfully.\n",
      "User information retrieved successfully.\n",
      "Created text index for field: topic_name\n",
      "Created text index for field: topic_name\n",
      "Created text index for field: summary\n",
      "Created text index for field: summary\n",
      "Created text index for field: details\n",
      "Created text index for field: details\n",
      "Request URL: http://127.0.0.1:8001/api/v1/calls/all\n",
      "Request Params: {'token': 'dadf578eb00c481d9bbbb66a01df6324'}\n",
      "Request URL: http://127.0.0.1:8001/api/v1/calls/all\n",
      "Request Params: {'token': '160ad3dda96c4d6697e95028bbcc2614'}\n",
      "Request URL: http://127.0.0.1:8001/api/v1/calls/all\n",
      "Request Params: {'token': '32228beb2a8c44ee845a6a24e8525694'}\n",
      "Request URL: http://127.0.0.1:8001/api/v1/calls/all\n",
      "Request Params: {'token': '3ae04e20124d40babc5107e658c666b6'}\n",
      "Request URL: http://127.0.0.1:8001/api/v1/calls/all\n",
      "Request Params: {'token': 'ffc47fdc1f79475994fb93a29a394a09'}\n"
     ]
    },
    {
     "name": "stdout",
     "output_type": "stream",
     "text": [
      "Meeting 350937fb-6eb9-4b21-bcae-eafc2ffbcae5 in dead letter queue, skipping...\n",
      "Error processing meeting data: \"Column(s) ['details', 'speaker', 'summary', 'topic_name', 'topic_type'] do not exist\"\n",
      "Error processing meeting c5d9f577-75f1-4e9b-b690-67a089ca93bc: 'speaker'\n",
      "Error processing meeting 88494cec-9ca3-4ddd-aa1f-c01cee96b823: \n",
      "Error processing meeting 76fcb5c4-9d78-47c2-b793-e743d162abb7: \n",
      "Error processing meeting 800c60eb-a3b4-46cd-8b92-f2ce72ef0e86: \n",
      "Error in BaseCall.call_sync: 1 validation error for EntityExtraction\n",
      "entities.24.speaker\n",
      "  Field required [type=missing, input_value={'entity': 'Community', '...gh shared experiences.'}, input_type=dict]\n",
      "    For further information visit https://errors.pydantic.dev/2.9/v/missing\n",
      "Error processing meeting d3545902-24a1-4310-8552-08e4628d43f9: 'NoneType' object has no attribute 'model_dump'\n",
      "Error processing meeting 32dce9ac-920d-42e9-9b21-335fc08f7243: \n",
      "Error in BaseCall.call_sync: 5 validation errors for MeetingExtraction\n",
      "items.2.speaker\n",
      "  Field required [type=missing, input_value={'item': 'Регуляр...женедельно.'}, input_type=dict]\n",
      "    For further information visit https://errors.pydantic.dev/2.9/v/missing\n",
      "items.3.speaker\n",
      "  Field required [type=missing, input_value={'item': 'Обсужде...щей встречи.'}, input_type=dict]\n",
      "    For further information visit https://errors.pydantic.dev/2.9/v/missing\n",
      "items.4.speaker\n",
      "  Field required [type=missing, input_value={'item': 'Планиро... конца года.'}, input_type=dict]\n",
      "    For further information visit https://errors.pydantic.dev/2.9/v/missing\n",
      "items.5.speaker\n",
      "  Field required [type=missing, input_value={'item': 'Логика р...щей встречи.'}, input_type=dict]\n",
      "    For further information visit https://errors.pydantic.dev/2.9/v/missing\n",
      "items.6.speaker\n",
      "  Field required [type=missing, input_value={'item': 'Обсужде... конца года.'}, input_type=dict]\n",
      "    For further information visit https://errors.pydantic.dev/2.9/v/missing\n",
      "Error processing meeting 57f7ac22-70bc-450d-a131-1791735efc60: 'NoneType' object has no attribute 'model_dump'\n",
      "Error in BaseCall.call_sync: 1 validation error for EntityExtraction\n",
      "entities.23.speaker\n",
      "  Field required [type=missing, input_value={'entity': 'переме...m storage to shipment.'}, input_type=dict]\n",
      "    For further information visit https://errors.pydantic.dev/2.9/v/missing\n",
      "Error processing meeting b1c0ba0e-2a61-452f-94fe-cec2d574debb: 'NoneType' object has no attribute 'model_dump'\n",
      "Error processing meeting ca623359-4678-4876-b66d-704a00a3f2e9: \n",
      "Error in BaseCall.call_sync: 1 validation error for EntityExtraction\n",
      "entities.28.speaker\n",
      "  Field required [type=missing, input_value={'entity': 'Процес...d management of tires.'}, input_type=dict]\n",
      "    For further information visit https://errors.pydantic.dev/2.9/v/missing\n",
      "Error processing meeting 7b77b952-7366-4af1-9cbb-2b18b57c9216: 'NoneType' object has no attribute 'model_dump'\n",
      "Error in BaseCall.call_sync: 1 validation error for EntityExtraction\n",
      "entities.31.speaker\n",
      "  Field required [type=missing, input_value={'entity': 'Австра... the mid-20th century.'}, input_type=dict]\n",
      "    For further information visit https://errors.pydantic.dev/2.9/v/missing\n",
      "Error processing meeting 76ac149f-dabf-4f68-ab00-1fa3ba5fc491: 'NoneType' object has no attribute 'model_dump'\n",
      "Error processing meeting 4210ef8c-17c6-493b-a25b-f225c3b2b4c1: \n",
      "Error processing meeting 3357836b-2b6d-41d4-b4ca-84de919d7a5f: \n"
     ]
    }
   ],
   "source": [
    "\n",
    "async with get_session() as session:\n",
    "    # Example 1: Start indexing for specific users by email\n",
    "    user_emails = selected\n",
    "    results = await start_indexing_for_users(\n",
    "        session, \n",
    "        emails=user_emails\n",
    "    )"
   ]
  },
  {
   "cell_type": "code",
   "execution_count": 43,
   "metadata": {},
   "outputs": [
    {
     "name": "stdout",
     "output_type": "stream",
     "text": [
      "Request URL: http://127.0.0.1:8001/api/v1/calls/all\n",
      "Request Params: {'token': '160ad3dda96c4d6697e95028bbcc2614'}\n",
      "Request URL: http://127.0.0.1:8001/api/v1/calls/all\n",
      "Request Params: {'token': 'dadf578eb00c481d9bbbb66a01df6324'}\n",
      "Request URL: http://127.0.0.1:8001/api/v1/calls/all\n",
      "Request Params: {'token': '5faa86ba0dc74b14a78c60c8aa20a014'}\n",
      "Request URL: http://127.0.0.1:8001/api/v1/calls/all\n",
      "Request Params: {'token': '3ae04e20124d40babc5107e658c666b6'}\n",
      "Request URL: http://127.0.0.1:8001/api/v1/calls/all\n",
      "Request Params: {'token': 'ffc47fdc1f79475994fb93a29a394a09'}\n",
      "Request URL: http://127.0.0.1:8001/api/v1/calls/all\n",
      "Request Params: {'token': '117cde619acd4d68b8943b33003e6d56'}\n"
     ]
    },
    {
     "data": {
      "text/html": [
       "<div>\n",
       "<style scoped>\n",
       "    .dataframe tbody tr th:only-of-type {\n",
       "        vertical-align: middle;\n",
       "    }\n",
       "\n",
       "    .dataframe tbody tr th {\n",
       "        vertical-align: top;\n",
       "    }\n",
       "\n",
       "    .dataframe thead th {\n",
       "        text-align: right;\n",
       "    }\n",
       "</style>\n",
       "<table border=\"1\" class=\"dataframe\">\n",
       "  <thead>\n",
       "    <tr style=\"text-align: right;\">\n",
       "      <th></th>\n",
       "      <th>user_id</th>\n",
       "      <th>email</th>\n",
       "      <th>total_meetings</th>\n",
       "      <th>indexed_meetings</th>\n",
       "      <th>remaining_meetings</th>\n",
       "      <th>progress_percentage</th>\n",
       "      <th>last_meeting_date</th>\n",
       "    </tr>\n",
       "  </thead>\n",
       "  <tbody>\n",
       "    <tr>\n",
       "      <th>0</th>\n",
       "      <td>b7a44b71-c622-420a-aa03-58f996f4c863</td>\n",
       "      <td>arabuli.sh@gmail.com</td>\n",
       "      <td>76</td>\n",
       "      <td>69</td>\n",
       "      <td>7</td>\n",
       "      <td>90.79</td>\n",
       "      <td>2024-10-29 11:15:36</td>\n",
       "    </tr>\n",
       "    <tr>\n",
       "      <th>1</th>\n",
       "      <td>e69e5d9a-438c-4074-9380-3b52b4412c48</td>\n",
       "      <td>marianna.inozemtseva@gmail.com</td>\n",
       "      <td>42</td>\n",
       "      <td>41</td>\n",
       "      <td>1</td>\n",
       "      <td>97.62</td>\n",
       "      <td>2024-10-09 14:07:34</td>\n",
       "    </tr>\n",
       "    <tr>\n",
       "      <th>2</th>\n",
       "      <td>8b767b85-44fb-4c20-97df-7aa172242273</td>\n",
       "      <td>olganemirovskaya@gmail.com</td>\n",
       "      <td>464</td>\n",
       "      <td>93</td>\n",
       "      <td>371</td>\n",
       "      <td>20.04</td>\n",
       "      <td>2024-10-30 14:02:28</td>\n",
       "    </tr>\n",
       "    <tr>\n",
       "      <th>3</th>\n",
       "      <td>ef7c085b-fdb5-4c94-b7b6-a61a3d04c210</td>\n",
       "      <td>2280905@gmail.com</td>\n",
       "      <td>628</td>\n",
       "      <td>122</td>\n",
       "      <td>506</td>\n",
       "      <td>19.43</td>\n",
       "      <td>2024-10-30 14:13:45</td>\n",
       "    </tr>\n",
       "    <tr>\n",
       "      <th>4</th>\n",
       "      <td>bcf446ed-e0ef-4040-92df-07fcaaaf9390</td>\n",
       "      <td>a.zakharov@citydrive.ru</td>\n",
       "      <td>112</td>\n",
       "      <td>107</td>\n",
       "      <td>5</td>\n",
       "      <td>95.54</td>\n",
       "      <td>2024-10-30 11:56:03</td>\n",
       "    </tr>\n",
       "    <tr>\n",
       "      <th>5</th>\n",
       "      <td>404aea1e-27b3-4226-9664-02e5be2fd2df</td>\n",
       "      <td>ilia.semukhin@gmail.com</td>\n",
       "      <td>17</td>\n",
       "      <td>14</td>\n",
       "      <td>3</td>\n",
       "      <td>82.35</td>\n",
       "      <td>2024-10-24 14:18:54</td>\n",
       "    </tr>\n",
       "  </tbody>\n",
       "</table>\n",
       "</div>"
      ],
      "text/plain": [
       "                                user_id                           email  \\\n",
       "0  b7a44b71-c622-420a-aa03-58f996f4c863            arabuli.sh@gmail.com   \n",
       "1  e69e5d9a-438c-4074-9380-3b52b4412c48  marianna.inozemtseva@gmail.com   \n",
       "2  8b767b85-44fb-4c20-97df-7aa172242273      olganemirovskaya@gmail.com   \n",
       "3  ef7c085b-fdb5-4c94-b7b6-a61a3d04c210               2280905@gmail.com   \n",
       "4  bcf446ed-e0ef-4040-92df-07fcaaaf9390         a.zakharov@citydrive.ru   \n",
       "5  404aea1e-27b3-4226-9664-02e5be2fd2df         ilia.semukhin@gmail.com   \n",
       "\n",
       "   total_meetings  indexed_meetings  remaining_meetings  progress_percentage  \\\n",
       "0              76                69                   7                90.79   \n",
       "1              42                41                   1                97.62   \n",
       "2             464                93                 371                20.04   \n",
       "3             628               122                 506                19.43   \n",
       "4             112               107                   5                95.54   \n",
       "5              17                14                   3                82.35   \n",
       "\n",
       "     last_meeting_date  \n",
       "0  2024-10-29 11:15:36  \n",
       "1  2024-10-09 14:07:34  \n",
       "2  2024-10-30 14:02:28  \n",
       "3  2024-10-30 14:13:45  \n",
       "4  2024-10-30 11:56:03  \n",
       "5  2024-10-24 14:18:54  "
      ]
     },
     "execution_count": 43,
     "metadata": {},
     "output_type": "execute_result"
    }
   ],
   "source": [
    "async with get_session() as session:\n",
    "    stats = await get_indexing_stats(session)\n",
    "stats"
   ]
  },
  {
   "cell_type": "code",
   "execution_count": 41,
   "metadata": {},
   "outputs": [
    {
     "data": {
      "text/plain": [
       "{'a.zakharov@citydrive.ru': {'email': 'a.zakharov@citydrive.ru',\n",
       "  'status': 'running'},\n",
       " 'arabuli.sh@gmail.com': {'email': 'arabuli.sh@gmail.com',\n",
       "  'status': 'failed',\n",
       "  'error': 'Indexing already in progress for this user'},\n",
       " 'marianna.inozemtseva@gmail.com': {'email': 'marianna.inozemtseva@gmail.com',\n",
       "  'status': 'running'}}"
      ]
     },
     "execution_count": 41,
     "metadata": {},
     "output_type": "execute_result"
    }
   ],
   "source": [
    "results"
   ]
  },
  {
   "cell_type": "code",
   "execution_count": null,
   "metadata": {},
   "outputs": [],
   "source": []
  }
 ],
 "metadata": {
  "kernelspec": {
   "display_name": "langchain",
   "language": "python",
   "name": "python3"
  },
  "language_info": {
   "codemirror_mode": {
    "name": "ipython",
    "version": 3
   },
   "file_extension": ".py",
   "mimetype": "text/x-python",
   "name": "python",
   "nbconvert_exporter": "python",
   "pygments_lexer": "ipython3",
   "version": "3.11.2"
  }
 },
 "nbformat": 4,
 "nbformat_minor": 2
}
