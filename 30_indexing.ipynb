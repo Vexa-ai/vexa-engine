{
 "cells": [
  {
   "cell_type": "code",
   "execution_count": 1,
   "metadata": {},
   "outputs": [],
   "source": [
    "%load_ext autoreload\n",
    "%autoreload 2"
   ]
  },
  {
   "cell_type": "code",
   "execution_count": 2,
   "metadata": {},
   "outputs": [],
   "source": [
    "from indexing import get_indexing_stats,start_indexing_for_users\n",
    "from psql_helpers import get_session"
   ]
  },
  {
   "cell_type": "code",
   "execution_count": 3,
   "metadata": {},
   "outputs": [],
   "source": [
    "active_users = ['a.zakharov@citydrive.ru', 'arabuli.sh@gmail.com', 'ahmed@forager.ai',\n",
    "       'liza@blasterstudio.ru', 'evgeniya@blasterstudio.ru',\n",
    "       'vitaliy.eremeychik@gmail.com', 'marianna.inozemtseva@gmail.com',\n",
    "       'nick@occam.fi', 'joes82242@gmail.com', 'Arabuli.Sh@gmail.com',\n",
    "       'makarenkov93@gmail.com', 'adam@ispeedtolead.com', 'lenishe@gmail.com',\n",
    "       'ilia.semukhin@gmail.com', 'hello@motiohead.com',\n",
    "       'stacygulyaeva@gmail.com', 'iv.bess@gmail.com',\n",
    "       'adm.publisher@gmail.com', 'guilherme.francisco@hotmart.com',\n",
    "       'OlgaNemirovskaya@gmail.com']"
   ]
  },
  {
   "cell_type": "code",
   "execution_count": 4,
   "metadata": {},
   "outputs": [],
   "source": [
    "selected = ['2280905@gmail.com', 'a.zakharov@citydrive.ru', 'arabuli.sh@gmail.com',  'marianna.inozemtseva@gmail.com','ahmed@forager.ai']\n"
   ]
  },
  {
   "cell_type": "code",
   "execution_count": 5,
   "metadata": {},
   "outputs": [
    {
     "data": {
      "text/plain": [
       "[{'user_id': 'ef7c085b-fdb5-4c94-b7b6-a61a3d04c210',\n",
       "  'user_name': 'string string'},\n",
       " {'user_id': 'bcf446ed-e0ef-4040-92df-07fcaaaf9390',\n",
       "  'user_name': 'string string'},\n",
       " {'user_id': 'b7a44b71-c622-420a-aa03-58f996f4c863',\n",
       "  'user_name': 'string string'},\n",
       " {'user_id': 'e69e5d9a-438c-4074-9380-3b52b4412c48',\n",
       "  'user_name': 'string string'},\n",
       " {'user_id': 'fecb31b5-e6b3-4ccd-a275-a25007988aad',\n",
       "  'user_name': 'string string'}]"
      ]
     },
     "execution_count": 5,
     "metadata": {},
     "output_type": "execute_result"
    }
   ],
   "source": [
    "from vexa import VexaAuth\n",
    "vexa_auth = VexaAuth()\n",
    "[await vexa_auth.authenticate_user(s) for s in selected]"
   ]
  },
  {
   "cell_type": "code",
   "execution_count": 6,
   "metadata": {},
   "outputs": [
    {
     "name": "stdout",
     "output_type": "stream",
     "text": [
      "Vexa token: 3ae04e20124d40babc5107e658c666b6\n",
      "Vexa token: ffc47fdc1f79475994fb93a29a394a09\n",
      "Vexa token: 160ad3dda96c4d6697e95028bbcc2614\n",
      "Vexa token: dadf578eb00c481d9bbbb66a01df6324\n",
      "Vexa token: 32228beb2a8c44ee845a6a24e8525694\n",
      "User information retrieved successfully.\n",
      "User information retrieved successfully.\n",
      "User information retrieved successfully.\n",
      "User information retrieved successfully.\n",
      "User information retrieved successfully.\n",
      "Created text index for field: topic_name\n",
      "Created text index for field: topic_name\n",
      "Created text index for field: topic_name\n",
      "Created text index for field: summary\n",
      "Created text index for field: summary\n",
      "Created text index for field: summary\n",
      "Created text index for field: details\n",
      "Created text index for field: details\n",
      "Created text index for field: details\n",
      "Request URL: http://127.0.0.1:8001/api/v1/calls/all\n",
      "Request Params: {'token': '32228beb2a8c44ee845a6a24e8525694'}\n",
      "Request URL: http://127.0.0.1:8001/api/v1/calls/all\n",
      "Request Params: {'token': '3ae04e20124d40babc5107e658c666b6'}\n",
      "Request URL: http://127.0.0.1:8001/api/v1/calls/all\n",
      "Request Params: {'token': 'dadf578eb00c481d9bbbb66a01df6324'}\n",
      "Meeting 350937fb-6eb9-4b21-bcae-eafc2ffbcae5 in dead letter queue, skipping...\n"
     ]
    }
   ],
   "source": [
    "\n",
    "async with get_session() as session:\n",
    "    # Example 1: Start indexing for specific users by email\n",
    "    user_emails = selected\n",
    "    results = await start_indexing_for_users(\n",
    "        session, \n",
    "        emails=user_emails\n",
    "    )"
   ]
  },
  {
   "cell_type": "code",
   "execution_count": 12,
   "metadata": {},
   "outputs": [
    {
     "name": "stdout",
     "output_type": "stream",
     "text": [
      "Vexa token: 160ad3dda96c4d6697e95028bbcc2614\n",
      "Request URL: http://127.0.0.1:8001/api/v1/calls/all\n",
      "Request Params: {'token': '160ad3dda96c4d6697e95028bbcc2614'}\n",
      "Vexa token: ffc47fdc1f79475994fb93a29a394a09\n",
      "Request URL: http://127.0.0.1:8001/api/v1/calls/all\n",
      "Request Params: {'token': 'ffc47fdc1f79475994fb93a29a394a09'}\n",
      "Vexa token: dadf578eb00c481d9bbbb66a01df6324\n",
      "Request URL: http://127.0.0.1:8001/api/v1/calls/all\n",
      "Request Params: {'token': 'dadf578eb00c481d9bbbb66a01df6324'}\n",
      "Vexa token: 3ae04e20124d40babc5107e658c666b6\n",
      "Request URL: http://127.0.0.1:8001/api/v1/calls/all\n",
      "Request Params: {'token': '3ae04e20124d40babc5107e658c666b6'}\n",
      "Vexa token: 32228beb2a8c44ee845a6a24e8525694\n",
      "Request URL: http://127.0.0.1:8001/api/v1/calls/all\n",
      "Request Params: {'token': '32228beb2a8c44ee845a6a24e8525694'}\n"
     ]
    },
    {
     "data": {
      "text/html": [
       "<div>\n",
       "<style scoped>\n",
       "    .dataframe tbody tr th:only-of-type {\n",
       "        vertical-align: middle;\n",
       "    }\n",
       "\n",
       "    .dataframe tbody tr th {\n",
       "        vertical-align: top;\n",
       "    }\n",
       "\n",
       "    .dataframe thead th {\n",
       "        text-align: right;\n",
       "    }\n",
       "</style>\n",
       "<table border=\"1\" class=\"dataframe\">\n",
       "  <thead>\n",
       "    <tr style=\"text-align: right;\">\n",
       "      <th></th>\n",
       "      <th>user_id</th>\n",
       "      <th>email</th>\n",
       "      <th>total_meetings</th>\n",
       "      <th>indexed_meetings</th>\n",
       "      <th>remaining_meetings</th>\n",
       "      <th>progress_percentage</th>\n",
       "      <th>last_meeting_date</th>\n",
       "    </tr>\n",
       "  </thead>\n",
       "  <tbody>\n",
       "    <tr>\n",
       "      <th>0</th>\n",
       "      <td>b7a44b71-c622-420a-aa03-58f996f4c863</td>\n",
       "      <td>arabuli.sh@gmail.com</td>\n",
       "      <td>76</td>\n",
       "      <td>73</td>\n",
       "      <td>3</td>\n",
       "      <td>96.05</td>\n",
       "      <td>2024-10-29 11:15:36</td>\n",
       "    </tr>\n",
       "    <tr>\n",
       "      <th>1</th>\n",
       "      <td>bcf446ed-e0ef-4040-92df-07fcaaaf9390</td>\n",
       "      <td>a.zakharov@citydrive.ru</td>\n",
       "      <td>116</td>\n",
       "      <td>110</td>\n",
       "      <td>6</td>\n",
       "      <td>94.83</td>\n",
       "      <td>2024-11-02 09:08:16</td>\n",
       "    </tr>\n",
       "    <tr>\n",
       "      <th>2</th>\n",
       "      <td>e69e5d9a-438c-4074-9380-3b52b4412c48</td>\n",
       "      <td>marianna.inozemtseva@gmail.com</td>\n",
       "      <td>42</td>\n",
       "      <td>41</td>\n",
       "      <td>1</td>\n",
       "      <td>97.62</td>\n",
       "      <td>2024-10-09 14:07:34</td>\n",
       "    </tr>\n",
       "    <tr>\n",
       "      <th>3</th>\n",
       "      <td>ef7c085b-fdb5-4c94-b7b6-a61a3d04c210</td>\n",
       "      <td>2280905@gmail.com</td>\n",
       "      <td>632</td>\n",
       "      <td>111</td>\n",
       "      <td>521</td>\n",
       "      <td>17.56</td>\n",
       "      <td>2024-11-01 13:44:06</td>\n",
       "    </tr>\n",
       "    <tr>\n",
       "      <th>4</th>\n",
       "      <td>fecb31b5-e6b3-4ccd-a275-a25007988aad</td>\n",
       "      <td>ahmed@forager.ai</td>\n",
       "      <td>67</td>\n",
       "      <td>63</td>\n",
       "      <td>4</td>\n",
       "      <td>94.03</td>\n",
       "      <td>2024-11-01 18:02:20</td>\n",
       "    </tr>\n",
       "  </tbody>\n",
       "</table>\n",
       "</div>"
      ],
      "text/plain": [
       "                                user_id                           email  \\\n",
       "0  b7a44b71-c622-420a-aa03-58f996f4c863            arabuli.sh@gmail.com   \n",
       "1  bcf446ed-e0ef-4040-92df-07fcaaaf9390         a.zakharov@citydrive.ru   \n",
       "2  e69e5d9a-438c-4074-9380-3b52b4412c48  marianna.inozemtseva@gmail.com   \n",
       "3  ef7c085b-fdb5-4c94-b7b6-a61a3d04c210               2280905@gmail.com   \n",
       "4  fecb31b5-e6b3-4ccd-a275-a25007988aad                ahmed@forager.ai   \n",
       "\n",
       "   total_meetings  indexed_meetings  remaining_meetings  progress_percentage  \\\n",
       "0              76                73                   3                96.05   \n",
       "1             116               110                   6                94.83   \n",
       "2              42                41                   1                97.62   \n",
       "3             632               111                 521                17.56   \n",
       "4              67                63                   4                94.03   \n",
       "\n",
       "     last_meeting_date  \n",
       "0  2024-10-29 11:15:36  \n",
       "1  2024-11-02 09:08:16  \n",
       "2  2024-10-09 14:07:34  \n",
       "3  2024-11-01 13:44:06  \n",
       "4  2024-11-01 18:02:20  "
      ]
     },
     "execution_count": 12,
     "metadata": {},
     "output_type": "execute_result"
    }
   ],
   "source": [
    "async with get_session() as session:\n",
    "    stats = await get_indexing_stats(session)\n",
    "stats"
   ]
  },
  {
   "cell_type": "code",
   "execution_count": 11,
   "metadata": {},
   "outputs": [
    {
     "data": {
      "text/plain": [
       "{'2280905@gmail.com': {'email': '2280905@gmail.com', 'status': 'completed'},\n",
       " 'a.zakharov@citydrive.ru': {'email': 'a.zakharov@citydrive.ru',\n",
       "  'status': 'failed',\n",
       "  'error': 'Indexing already in progress for this user'},\n",
       " 'arabuli.sh@gmail.com': {'email': 'arabuli.sh@gmail.com',\n",
       "  'status': 'failed',\n",
       "  'error': 'Indexing already in progress for this user'},\n",
       " 'marianna.inozemtseva@gmail.com': {'email': 'marianna.inozemtseva@gmail.com',\n",
       "  'status': 'completed'},\n",
       " 'ahmed@forager.ai': {'email': 'ahmed@forager.ai', 'status': 'completed'}}"
      ]
     },
     "execution_count": 11,
     "metadata": {},
     "output_type": "execute_result"
    }
   ],
   "source": [
    "results"
   ]
  },
  {
   "cell_type": "code",
   "execution_count": 14,
   "metadata": {},
   "outputs": [
    {
     "ename": "AttributeError",
     "evalue": "'VexaAuth' object has no attribute 'token'",
     "output_type": "error",
     "traceback": [
      "\u001b[0;31m---------------------------------------------------------------------------\u001b[0m",
      "\u001b[0;31mAttributeError\u001b[0m                            Traceback (most recent call last)",
      "Cell \u001b[0;32mIn[14], line 1\u001b[0m\n\u001b[0;32m----> 1\u001b[0m \u001b[43mvexa_auth\u001b[49m\u001b[38;5;241;43m.\u001b[39;49m\u001b[43mtoken\u001b[49m\n",
      "\u001b[0;31mAttributeError\u001b[0m: 'VexaAuth' object has no attribute 'token'"
     ]
    }
   ],
   "source": [
    "vexa_auth.token\n"
   ]
  },
  {
   "cell_type": "code",
   "execution_count": 15,
   "metadata": {},
   "outputs": [
    {
     "name": "stdout",
     "output_type": "stream",
     "text": [
      "Vexa token: 3ae04e20124d40babc5107e658c666b6\n",
      "User information retrieved successfully.\n"
     ]
    },
    {
     "data": {
      "text/plain": [
       "{'id': 'ef7c085b-fdb5-4c94-b7b6-a61a3d04c210',\n",
       " 'email': '2280905@gmail.com',\n",
       " 'is_allowed_send_init_message': True,\n",
       " 'username': 'string',\n",
       " 'first_name': 'string',\n",
       " 'last_name': 'string',\n",
       " 'image': None,\n",
       " 'created_timestamp': '2024-05-28T11:16:50.894711Z',\n",
       " 'updated_timestamp': '2024-11-02T20:12:41.410552Z'}"
      ]
     },
     "execution_count": 15,
     "metadata": {},
     "output_type": "execute_result"
    }
   ],
   "source": [
    "from vexa import VexaAPI\n",
    "vexa_api = VexaAPI()\n",
    "await vexa_api.get_user_info()\n"
   ]
  },
  {
   "cell_type": "code",
   "execution_count": 16,
   "metadata": {},
   "outputs": [
    {
     "name": "stdout",
     "output_type": "stream",
     "text": [
      "Vexa token: 3ae04e20124d40babc5107e658c666b6\n"
     ]
    },
    {
     "data": {
      "text/plain": [
       "{'is_indexing': False,\n",
       " 'current_meeting': None,\n",
       " 'processing_meetings': ['3357836b-2b6d-41d4-b4ca-84de919d7a5f',\n",
       "  '4210ef8c-17c6-493b-a25b-f225c3b2b4c1',\n",
       "  '76ac149f-dabf-4f68-ab00-1fa3ba5fc491',\n",
       "  'ca623359-4678-4876-b66d-704a00a3f2e9']}"
      ]
     },
     "execution_count": 16,
     "metadata": {},
     "output_type": "execute_result"
    }
   ],
   "source": [
    "from indexing import Indexing\n",
    "indexing = Indexing(token='3ae04e20124d40babc5107e658c666b6')\n",
    "indexing.status\n"
   ]
  },
  {
   "cell_type": "code",
   "execution_count": null,
   "metadata": {},
   "outputs": [],
   "source": []
  }
 ],
 "metadata": {
  "kernelspec": {
   "display_name": "langchain",
   "language": "python",
   "name": "python3"
  },
  "language_info": {
   "codemirror_mode": {
    "name": "ipython",
    "version": 3
   },
   "file_extension": ".py",
   "mimetype": "text/x-python",
   "name": "python",
   "nbconvert_exporter": "python",
   "pygments_lexer": "ipython3",
   "version": "3.11.2"
  }
 },
 "nbformat": 4,
 "nbformat_minor": 2
}
