{
 "cells": [
  {
   "cell_type": "code",
   "execution_count": 1,
   "metadata": {},
   "outputs": [],
   "source": [
    "%reload_ext autoreload\n",
    "%autoreload 2"
   ]
  },
  {
   "cell_type": "code",
   "execution_count": 2,
   "metadata": {},
   "outputs": [],
   "source": [
    "from typing import List, Optional, AsyncGenerator\n",
    "from datetime import datetime\n",
    "from pydantic import Field\n",
    "from core import BaseCall, Msg\n",
    "import instructor\n",
    "from openai import AsyncOpenAI\n",
    "import pandas as pd\n",
    "from typing import Dict\n",
    "from sampling import WeightedSampler"
   ]
  },
  {
   "cell_type": "code",
   "execution_count": 3,
   "metadata": {},
   "outputs": [],
   "source": [
    "from query_planner import QueryPlan\n",
    "import enum\n",
    "from typing import List\n",
    "from pydantic import Field\n",
    "from core import user_msg\n",
    "def create_enum_class(name: str, values: List[str]) -> enum.Enum:\n",
    "    return enum.Enum(name, {value.upper(): value for value in values})\n"
   ]
  },
  {
   "cell_type": "code",
   "execution_count": 4,
   "metadata": {},
   "outputs": [],
   "source": [
    "def create_search_query_class(speakers: Optional[List[str]] = None, topic_types: Optional[List[str]] = None):\n",
    "    class DynamicSearchQuery(BaseCall):\n",
    "        query: Optional[List[str]] = Field(description=\"A specific, focused search query to find semantically relevant content.\")\n",
    "        include_speakers: Optional[List[create_enum_class('IncludeSpeakers', speakers)]] = Field(description=\"Speakers to include in search results\")\n",
    "        exclude_speakers: Optional[List[create_enum_class('ExcludeSpeakers', speakers)]] = Field(description=\"Speakers to exclude from search results\")\n",
    "        topic_type:       Optional[List[create_enum_class('TopicType', topic_types)]]    = Field(description=\"Types of topics to filter by\")\n",
    "    return DynamicSearchQuery"
   ]
  },
  {
   "cell_type": "code",
   "execution_count": 5,
   "metadata": {},
   "outputs": [],
   "source": [
    "\n",
    "class SearchQuery(BaseCall):\n",
    "    query: Optional[List[str]] = Field(description=\"A specific, focused search query to find semantically relevant content.\")\n",
    "    include_speakers: Optional[List[str]] = Field(description=\"Speakers to include in search results May reference speaker groups\")\n",
    "    exclude_speakers: Optional[List[str]] = Field(description=\"Speakers to exclude from search results. May reference speaker groups\")\n",
    "    topic_type: Optional[List[str]] = Field(description=\"Types of topics to filter by\")\n",
    "    topic_name: Optional[List[str]] = Field(description=\"Topics name to include\")"
   ]
  },
  {
   "cell_type": "code",
   "execution_count": 6,
   "metadata": {},
   "outputs": [],
   "source": [
    "from sampling import WeightedSampler"
   ]
  },
  {
   "cell_type": "code",
   "execution_count": 7,
   "metadata": {},
   "outputs": [],
   "source": [
    "from sampling import fetch_joined_data,WeightedSampler\n",
    "\n",
    "df = await fetch_joined_data()"
   ]
  },
  {
   "cell_type": "code",
   "execution_count": 8,
   "metadata": {},
   "outputs": [
    {
     "name": "stdout",
     "output_type": "stream",
     "text": [
      "Building vector index...\n"
     ]
    },
    {
     "data": {
      "application/vnd.jupyter.widget-view+json": {
       "model_id": "41657cb15ff749dd93b157738df002bb",
       "version_major": 2,
       "version_minor": 0
      },
      "text/plain": [
       "Batches:   0%|          | 0/100 [00:00<?, ?it/s]"
      ]
     },
     "metadata": {},
     "output_type": "display_data"
    }
   ],
   "source": [
    "sampler = WeightedSampler(df.drop(columns=['other_speakers']),date_column='meeting_timestamp')"
   ]
  },
  {
   "cell_type": "code",
   "execution_count": 9,
   "metadata": {},
   "outputs": [],
   "source": [
    "samped_df = sampler.sample(n_samples=100)\n",
    "topics = df['topic_name'].unique().tolist()\n",
    "topic_types = df['topic_type'].unique().tolist()\n",
    "speakers = df['speaker_name'].unique().tolist()\n",
    "\n",
    "#SearchQuery = create_search_query_class(speakers, topic_types)"
   ]
  },
  {
   "cell_type": "code",
   "execution_count": 10,
   "metadata": {},
   "outputs": [],
   "source": [
    "from core import system_msg,user_msg,assistant_msg"
   ]
  },
  {
   "cell_type": "code",
   "execution_count": 11,
   "metadata": {},
   "outputs": [
    {
     "data": {
      "text/plain": [
       "['Dmitriy Grankin',\n",
       " 'Sergey Ryabenko',\n",
       " 'Ilia Semukhin',\n",
       " 'Olga Nemirovskaya',\n",
       " 'Alex Shevliakov',\n",
       " 'Nick Frolov',\n",
       " 'nan (0)',\n",
       " 'nan (1)',\n",
       " 'nan',\n",
       " 'Jenish Mursidinov',\n",
       " 'Dmitry Grankin',\n",
       " 'Vasilii Glebov',\n",
       " 'Igor Vinidiktov',\n",
       " 'nan (22)',\n",
       " 'Сергей',\n",
       " 'Nikolay',\n",
       " 'Andy Black',\n",
       " 'СЖ',\n",
       " 'DG',\n",
       " 'Сергей Жилко',\n",
       " 'Lara Vargas',\n",
       " 'Murat Sultanov',\n",
       " 'Rick Tousseyn',\n",
       " 'Umar Lateef',\n",
       " 'Tatiana Sukhova',\n",
       " 'Olga Mykhoparkina',\n",
       " 'Matt Lewis',\n",
       " 'David Sterry',\n",
       " 'Nadya Gorodetskaya',\n",
       " 'Igor Bessonov',\n",
       " 'Ethan Noah',\n",
       " 'AI Marketing Directory',\n",
       " 'nan (3)',\n",
       " 'nan (2)',\n",
       " 'nan (19)',\n",
       " 'Ilya Semukhin',\n",
       " 'ISSE',\n",
       " 'Özay Demirezen',\n",
       " 'Ahmed Abdelaziz',\n",
       " 'Sergio Goriachev',\n",
       " 'Karine Stepanyan',\n",
       " 'Matthew Berman',\n",
       " 'nan (5)',\n",
       " 'nan (6)',\n",
       " 'nan (10)',\n",
       " 'nan (31)',\n",
       " 'nan (43)',\n",
       " 'nan (38)',\n",
       " 'nan (225)',\n",
       " 'nan (11)',\n",
       " 'nan (101)',\n",
       " 'nan (205)',\n",
       " 'nan (210)',\n",
       " 'nan (222)',\n",
       " 'nan (56)',\n",
       " 'nan (228)',\n",
       " 'Dmitrii Bashkirov',\n",
       " 'KS',\n",
       " 'Andrey Pisankin',\n",
       " 'Okafor Ikenna',\n",
       " 'Dmtiry Grankin',\n",
       " 'Дмитрий Гранкин',\n",
       " 'MJ',\n",
       " 'Павел Коркодинов',\n",
       " 'Maksim Jmihov',\n",
       " 'nan (4)',\n",
       " 'nan (7)',\n",
       " 'Mayank Tayal',\n",
       " 'Олег',\n",
       " 'Oleg',\n",
       " 'Dmitrii Grankin',\n",
       " 'Lidiia Abramova',\n",
       " 'Shota Arabuli',\n",
       " 'Илья Дзенски',\n",
       " 'ON (Olga Nemirovskaya)',\n",
       " 'Анастасия Гуляева',\n",
       " 'Ольга Немировская',\n",
       " 'Алекс Локтев',\n",
       " 'DG (Dmitriy Grankin)',\n",
       " 'AG (Anastasiia GULIAEVA)',\n",
       " 'AL (Alex Loktev)',\n",
       " 'OM (Oleg Maleev)',\n",
       " 'ID (Ilya Dzenski)',\n",
       " 'Олег Малиев',\n",
       " 'Olga Miller',\n",
       " 'Дмитрий Башкиров',\n",
       " 'Xut tuX',\n",
       " 'Юрий Б',\n",
       " 'ЮБ',\n",
       " 'Daniil Andreev',\n",
       " 'Robert Hangu',\n",
       " 'Tatiana Illarionova-Zervas',\n",
       " 'SK',\n",
       " 'Slawa Kister',\n",
       " 'Eugene Tartakovsky',\n",
       " 'SR',\n",
       " 'XT',\n",
       " 'Sergey Fofanov',\n",
       " 'OM',\n",
       " 'Julia Zakharova',\n",
       " 'Stephanus Gunawan',\n",
       " 'Dmitrii Chistov',\n",
       " 'Александр Мелихов']"
      ]
     },
     "execution_count": 11,
     "metadata": {},
     "output_type": "execute_result"
    }
   ],
   "source": [
    "speakers"
   ]
  },
  {
   "cell_type": "code",
   "execution_count": 12,
   "metadata": {},
   "outputs": [],
   "source": [
    "coworkers = [\n",
    "    'Dmitriy Grankin',\n",
    "    'Sergey Ryabenko',\n",
    "    'Olga Nemirovskaya',\n",
    "    'Alex Shevliakov',\n",
    "    'Nick Frolov',\n",
    "    'Jenish Mursidinov',\n",
    "    'Dmitry Grankin',\n",
    "]"
   ]
  },
  {
   "cell_type": "code",
   "execution_count": 13,
   "metadata": {},
   "outputs": [],
   "source": [
    "context = f\"\"\"\n",
    "Available topics: {', '.join(topics)}\n",
    "Topic types: {', '.join(topic_types)}\n",
    "Speakers: {', '.join(speakers)}\n",
    "Content: {' '.join(samped_df.to_csv())}\n",
    "\"\"\""
   ]
  },
  {
   "cell_type": "code",
   "execution_count": 14,
   "metadata": {},
   "outputs": [],
   "source": [
    "knowledge = \"\"\"\n",
    "\n",
    "our product name is Vexa\n",
    "exclude coworkers if asking about users\n",
    "\n",
    "\n",
    "\"\"\""
   ]
  },
  {
   "cell_type": "code",
   "execution_count": 15,
   "metadata": {},
   "outputs": [],
   "source": [
    "speaker_groups = ['coworkers']"
   ]
  },
  {
   "cell_type": "code",
   "execution_count": 26,
   "metadata": {},
   "outputs": [],
   "source": [
    "messages = [\n",
    "    system_msg(f'knwoledge: {knowledge},  speaker groups: {speaker_groups}, context {context}' ),\n",
    "    user_msg('what users say about us? ')\n",
    "            \n",
    "            ]"
   ]
  },
  {
   "cell_type": "code",
   "execution_count": 27,
   "metadata": {},
   "outputs": [],
   "source": [
    "from IPython.display import display,clear_output"
   ]
  },
  {
   "cell_type": "code",
   "execution_count": 28,
   "metadata": {},
   "outputs": [
    {
     "name": "stdout",
     "output_type": "stream",
     "text": [
      "None\n"
     ]
    }
   ],
   "source": [
    "async for plan in SearchQuery.call(messages):\n",
    "    clear_output()\n",
    "    print(plan, flush=True)\n"
   ]
  },
  {
   "cell_type": "code",
   "execution_count": 25,
   "metadata": {},
   "outputs": [],
   "source": [
    "plan"
   ]
  },
  {
   "cell_type": "code",
   "execution_count": 20,
   "metadata": {},
   "outputs": [
    {
     "name": "stdout",
     "output_type": "stream",
     "text": [
      "Building vector index...\n"
     ]
    },
    {
     "data": {
      "application/vnd.jupyter.widget-view+json": {
       "model_id": "303135da2cc6400b862ebe7d41598df1",
       "version_major": 2,
       "version_minor": 0
      },
      "text/plain": [
       "Batches:   0%|          | 0/100 [00:00<?, ?it/s]"
      ]
     },
     "metadata": {},
     "output_type": "display_data"
    }
   ],
   "source": [
    "# Initialize the sampler with your DataFrame\n",
    "sampler = WeightedSampler(\n",
    "    df=df,\n",
    "    text_columns=['summary', 'details','topic_name'],  # Specify which columns to use for semantic search\n",
    "    date_column='meeting_timestamp'\n",
    ")"
   ]
  },
  {
   "cell_type": "code",
   "execution_count": 21,
   "metadata": {},
   "outputs": [
    {
     "data": {
      "text/plain": [
       "['Dmitriy Grankin',\n",
       " 'Sergey Ryabenko',\n",
       " 'Olga Nemirovskaya',\n",
       " 'Alex Shevliakov',\n",
       " 'Nick Frolov',\n",
       " 'Jenish Mursidinov',\n",
       " 'Dmitry Grankin']"
      ]
     },
     "execution_count": 21,
     "metadata": {},
     "output_type": "execute_result"
    }
   ],
   "source": [
    "coworkers"
   ]
  },
  {
   "cell_type": "code",
   "execution_count": 22,
   "metadata": {},
   "outputs": [
    {
     "ename": "AttributeError",
     "evalue": "'NoneType' object has no attribute 'query'",
     "output_type": "error",
     "traceback": [
      "\u001b[0;31m---------------------------------------------------------------------------\u001b[0m",
      "\u001b[0;31mAttributeError\u001b[0m                            Traceback (most recent call last)",
      "Cell \u001b[0;32mIn[22], line 4\u001b[0m\n\u001b[1;32m      1\u001b[0m \u001b[38;5;66;03m# Now sampler is an instance, not a class\u001b[39;00m\n\u001b[1;32m      2\u001b[0m \u001b[38;5;66;03m# Assuming 'plan' is your SearchQuery instance\u001b[39;00m\n\u001b[1;32m      3\u001b[0m sampled_df \u001b[38;5;241m=\u001b[39m sampler\u001b[38;5;241m.\u001b[39msample(\n\u001b[0;32m----> 4\u001b[0m     query\u001b[38;5;241m=\u001b[39m\u001b[43mplan\u001b[49m\u001b[38;5;241;43m.\u001b[39;49m\u001b[43mquery\u001b[49m,  \u001b[38;5;66;03m# List of query strings\u001b[39;00m\n\u001b[1;32m      5\u001b[0m     exclude_speakers\u001b[38;5;241m=\u001b[39mcoworkers \u001b[38;5;28;01mif\u001b[39;00m \u001b[38;5;124m'\u001b[39m\u001b[38;5;124mcoworkers\u001b[39m\u001b[38;5;124m'\u001b[39m \u001b[38;5;129;01min\u001b[39;00m plan\u001b[38;5;241m.\u001b[39mexclude_speakers  \u001b[38;5;28;01melse\u001b[39;00m plan\u001b[38;5;241m.\u001b[39mexclude_speakers,\n\u001b[1;32m      6\u001b[0m     include_speakers\u001b[38;5;241m=\u001b[39mplan\u001b[38;5;241m.\u001b[39minclude_speakers,\n\u001b[1;32m      7\u001b[0m     topic_type\u001b[38;5;241m=\u001b[39mplan\u001b[38;5;241m.\u001b[39mtopic_type,\n\u001b[1;32m      8\u001b[0m     topic_name\u001b[38;5;241m=\u001b[39mplan\u001b[38;5;241m.\u001b[39mtopic_name,\n\u001b[1;32m      9\u001b[0m     n_samples\u001b[38;5;241m=\u001b[39m\u001b[38;5;241m100\u001b[39m,\n\u001b[1;32m     10\u001b[0m     mode\u001b[38;5;241m=\u001b[39m\u001b[38;5;124m'\u001b[39m\u001b[38;5;124mcombined\u001b[39m\u001b[38;5;124m'\u001b[39m,\n\u001b[1;32m     11\u001b[0m     recency_weight\u001b[38;5;241m=\u001b[39m\u001b[38;5;241m0.1\u001b[39m,\n\u001b[1;32m     12\u001b[0m     similarity_weight\u001b[38;5;241m=\u001b[39m\u001b[38;5;241m0.1\u001b[39m,\n\u001b[1;32m     13\u001b[0m     filter_weight\u001b[38;5;241m=\u001b[39m\u001b[38;5;241m1.\u001b[39m\n\u001b[1;32m     14\u001b[0m )\n\u001b[1;32m     16\u001b[0m \u001b[38;5;66;03m# Sort by combined score to see most relevant results first\u001b[39;00m\n\u001b[1;32m     17\u001b[0m sorted_results \u001b[38;5;241m=\u001b[39m sampled_df\u001b[38;5;241m.\u001b[39msort_values(\u001b[38;5;124m'\u001b[39m\u001b[38;5;124mcombined_score\u001b[39m\u001b[38;5;124m'\u001b[39m, ascending\u001b[38;5;241m=\u001b[39m\u001b[38;5;28;01mFalse\u001b[39;00m)\n",
      "\u001b[0;31mAttributeError\u001b[0m: 'NoneType' object has no attribute 'query'"
     ]
    }
   ],
   "source": [
    "\n",
    "# Now sampler is an instance, not a class\n",
    "# Assuming 'plan' is your SearchQuery instance\n",
    "sampled_df = sampler.sample(\n",
    "    query=plan.query,  # List of query strings\n",
    "    exclude_speakers=coworkers if 'coworkers' in plan.exclude_speakers  else plan.exclude_speakers,\n",
    "    include_speakers=plan.include_speakers,\n",
    "    topic_type=plan.topic_type,\n",
    "    topic_name=plan.topic_name,\n",
    "    n_samples=100,\n",
    "    mode='combined',\n",
    "    recency_weight=0.1,\n",
    "    similarity_weight=0.1,\n",
    "    filter_weight=1.\n",
    ")\n",
    "\n",
    "# Sort by combined score to see most relevant results first\n",
    "sorted_results = sampled_df.sort_values('combined_score', ascending=False)"
   ]
  },
  {
   "cell_type": "code",
   "execution_count": 23,
   "metadata": {},
   "outputs": [
    {
     "ename": "AttributeError",
     "evalue": "'NoneType' object has no attribute 'model_dump'",
     "output_type": "error",
     "traceback": [
      "\u001b[0;31m---------------------------------------------------------------------------\u001b[0m",
      "\u001b[0;31mAttributeError\u001b[0m                            Traceback (most recent call last)",
      "Cell \u001b[0;32mIn[23], line 1\u001b[0m\n\u001b[0;32m----> 1\u001b[0m \u001b[43mplan\u001b[49m\u001b[38;5;241;43m.\u001b[39;49m\u001b[43mmodel_dump\u001b[49m()\n",
      "\u001b[0;31mAttributeError\u001b[0m: 'NoneType' object has no attribute 'model_dump'"
     ]
    }
   ],
   "source": [
    "plan.model_dump()"
   ]
  },
  {
   "cell_type": "code",
   "execution_count": 54,
   "metadata": {},
   "outputs": [
    {
     "data": {
      "text/html": [
       "<div>\n",
       "<style scoped>\n",
       "    .dataframe tbody tr th:only-of-type {\n",
       "        vertical-align: middle;\n",
       "    }\n",
       "\n",
       "    .dataframe tbody tr th {\n",
       "        vertical-align: top;\n",
       "    }\n",
       "\n",
       "    .dataframe thead th {\n",
       "        text-align: right;\n",
       "    }\n",
       "</style>\n",
       "<table border=\"1\" class=\"dataframe\">\n",
       "  <thead>\n",
       "    <tr style=\"text-align: right;\">\n",
       "      <th></th>\n",
       "      <th>summary_index</th>\n",
       "      <th>summary</th>\n",
       "      <th>details</th>\n",
       "      <th>referenced_text</th>\n",
       "      <th>topic_name</th>\n",
       "      <th>topic_type</th>\n",
       "      <th>meeting_id</th>\n",
       "      <th>meeting_timestamp</th>\n",
       "      <th>speaker_name</th>\n",
       "      <th>other_speakers</th>\n",
       "      <th>filter_score</th>\n",
       "      <th>recency_score</th>\n",
       "      <th>similarity_score</th>\n",
       "      <th>combined_score</th>\n",
       "    </tr>\n",
       "  </thead>\n",
       "  <tbody>\n",
       "    <tr>\n",
       "      <th>946</th>\n",
       "      <td>4</td>\n",
       "      <td>Plan to interview users who have stopped using...</td>\n",
       "      <td>Olga Nemirovskaya suggested reaching out to bo...</td>\n",
       "      <td>Olga Nemirovskaya:  на этой неделе, например, ...</td>\n",
       "      <td>Conduct user interviews for feedback</td>\n",
       "      <td>task</td>\n",
       "      <td>1be62b63-99ea-4aea-b284-a2ed45e44b82</td>\n",
       "      <td>2024-10-08 11:25:07.510000</td>\n",
       "      <td>Olga Nemirovskaya</td>\n",
       "      <td>[Dmitriy Grankin]</td>\n",
       "      <td>2.0</td>\n",
       "      <td>0.000875</td>\n",
       "      <td>0.733700</td>\n",
       "      <td>0.000380</td>\n",
       "    </tr>\n",
       "    <tr>\n",
       "      <th>3139</th>\n",
       "      <td>7</td>\n",
       "      <td>Olga emphasized the need to clearly define the...</td>\n",
       "      <td>Identifying the right audience is crucial for ...</td>\n",
       "      <td>Olga Nemirovskaya:  Тогда, если мы сейчас хоти...</td>\n",
       "      <td>Target Audience Identification</td>\n",
       "      <td>task</td>\n",
       "      <td>3ead8b34-f5de-42ef-8d28-5dd64a2b8669</td>\n",
       "      <td>2024-09-16 09:47:34.620000</td>\n",
       "      <td>Olga Nemirovskaya</td>\n",
       "      <td>[Dmitriy Grankin]</td>\n",
       "      <td>2.0</td>\n",
       "      <td>0.000097</td>\n",
       "      <td>0.603516</td>\n",
       "      <td>0.000378</td>\n",
       "    </tr>\n",
       "    <tr>\n",
       "      <th>1858</th>\n",
       "      <td>4</td>\n",
       "      <td>Reach out to users who registered but did not ...</td>\n",
       "      <td>The team will use email to contact users and i...</td>\n",
       "      <td>Olga Nemirovskaya:  Хорошо. У нас же есть все ...</td>\n",
       "      <td>Contact users for onboarding feedback</td>\n",
       "      <td>task</td>\n",
       "      <td>733a72e0-cca9-4d47-b5e9-628aa1849556</td>\n",
       "      <td>2024-09-02 11:32:46.540000</td>\n",
       "      <td>Olga Nemirovskaya</td>\n",
       "      <td>[Dmitriy Grankin]</td>\n",
       "      <td>2.0</td>\n",
       "      <td>0.000024</td>\n",
       "      <td>0.593231</td>\n",
       "      <td>0.000378</td>\n",
       "    </tr>\n",
       "    <tr>\n",
       "      <th>2993</th>\n",
       "      <td>4</td>\n",
       "      <td>The team discussed using SEO strategies to ext...</td>\n",
       "      <td>By optimizing content for search engines, the ...</td>\n",
       "      <td>Olga Miller:  И вот это вот то, что по минимал...</td>\n",
       "      <td>SEO Strategies for Use Cases</td>\n",
       "      <td>task</td>\n",
       "      <td>e2f3a86b-e94d-4967-8dad-89ac78a0617c</td>\n",
       "      <td>2024-09-13 10:17:35.355999</td>\n",
       "      <td>Dmitry Grankin</td>\n",
       "      <td>[OM, DG, Olga Miller]</td>\n",
       "      <td>2.0</td>\n",
       "      <td>0.000072</td>\n",
       "      <td>0.585791</td>\n",
       "      <td>0.000377</td>\n",
       "    </tr>\n",
       "    <tr>\n",
       "      <th>1517</th>\n",
       "      <td>9</td>\n",
       "      <td>The team will keep track of new user registrat...</td>\n",
       "      <td>Daily monitoring of user registrations is esse...</td>\n",
       "      <td>Dmitriy Grankin:  Типа там где-нибудь по одном...</td>\n",
       "      <td>Monitor user registrations and engagement</td>\n",
       "      <td>task</td>\n",
       "      <td>2ef8bcc3-d3fd-473a-a7c8-865873cb038c</td>\n",
       "      <td>2024-08-29 10:11:26.570000</td>\n",
       "      <td>Dmitriy Grankin</td>\n",
       "      <td>[Olga Nemirovskaya]</td>\n",
       "      <td>2.0</td>\n",
       "      <td>0.000016</td>\n",
       "      <td>0.575901</td>\n",
       "      <td>0.000377</td>\n",
       "    </tr>\n",
       "    <tr>\n",
       "      <th>...</th>\n",
       "      <td>...</td>\n",
       "      <td>...</td>\n",
       "      <td>...</td>\n",
       "      <td>...</td>\n",
       "      <td>...</td>\n",
       "      <td>...</td>\n",
       "      <td>...</td>\n",
       "      <td>...</td>\n",
       "      <td>...</td>\n",
       "      <td>...</td>\n",
       "      <td>...</td>\n",
       "      <td>...</td>\n",
       "      <td>...</td>\n",
       "      <td>...</td>\n",
       "    </tr>\n",
       "    <tr>\n",
       "      <th>1884</th>\n",
       "      <td>11</td>\n",
       "      <td>FastAPI is a modern web framework for building...</td>\n",
       "      <td>It is used to create the API for the applicati...</td>\n",
       "      <td></td>\n",
       "      <td>FastAPI</td>\n",
       "      <td>technology</td>\n",
       "      <td>c1f4044d-a8ce-4dc1-9383-2c066c37c351</td>\n",
       "      <td>2024-09-02 13:14:41.720000</td>\n",
       "      <td>Andrey Pisankin</td>\n",
       "      <td>[Dmitriy Grankin]</td>\n",
       "      <td>1.0</td>\n",
       "      <td>0.000024</td>\n",
       "      <td>0.268219</td>\n",
       "      <td>0.000188</td>\n",
       "    </tr>\n",
       "    <tr>\n",
       "      <th>2468</th>\n",
       "      <td>17</td>\n",
       "      <td>Docker is a platform for developing, shipping,...</td>\n",
       "      <td>He uses Docker as part of his development work...</td>\n",
       "      <td>Юрий Б:  По скиллам, соответственно, знаком с ...</td>\n",
       "      <td>Docker</td>\n",
       "      <td>product</td>\n",
       "      <td>472fca20-8cf3-4910-b08d-88b93d4919ef</td>\n",
       "      <td>2024-09-06 16:22:35.780000</td>\n",
       "      <td>ЮБ</td>\n",
       "      <td>[Юрий Б, DG, Dmitriy Grankin]</td>\n",
       "      <td>1.0</td>\n",
       "      <td>0.000036</td>\n",
       "      <td>0.246868</td>\n",
       "      <td>0.000188</td>\n",
       "    </tr>\n",
       "    <tr>\n",
       "      <th>928</th>\n",
       "      <td>14</td>\n",
       "      <td>Training material refers to the content and re...</td>\n",
       "      <td>David mentioned the minimal budget and proof o...</td>\n",
       "      <td>David Sterry:  It's view it more of as a proof...</td>\n",
       "      <td>training material</td>\n",
       "      <td>task</td>\n",
       "      <td>cdf9078d-87e0-49cb-9b62-71596961f436</td>\n",
       "      <td>2024-10-08 10:33:20.200000</td>\n",
       "      <td>David Sterry</td>\n",
       "      <td>[Dmitry Grankin, Nadya Gorodetskaya]</td>\n",
       "      <td>1.0</td>\n",
       "      <td>0.000875</td>\n",
       "      <td>0.216466</td>\n",
       "      <td>0.000187</td>\n",
       "    </tr>\n",
       "    <tr>\n",
       "      <th>2787</th>\n",
       "      <td>36</td>\n",
       "      <td>Work-Life Balance refers to the equilibrium be...</td>\n",
       "      <td>The team discusses the importance of maintaini...</td>\n",
       "      <td>Dmitriy Grankin:  В этом процессе и как раз та...</td>\n",
       "      <td>Work-Life Balance</td>\n",
       "      <td>concept</td>\n",
       "      <td>cde02f21-5001-4f19-b477-5dc4a04017fd</td>\n",
       "      <td>2024-09-11 10:57:53.150000</td>\n",
       "      <td>DG</td>\n",
       "      <td>[Dmitriy Grankin, Sergey Ryabenko, Xut tuX, SR...</td>\n",
       "      <td>1.0</td>\n",
       "      <td>0.000059</td>\n",
       "      <td>0.216729</td>\n",
       "      <td>0.000187</td>\n",
       "    </tr>\n",
       "    <tr>\n",
       "      <th>2037</th>\n",
       "      <td>11</td>\n",
       "      <td>xdev.vexa is one of the domains mentioned in t...</td>\n",
       "      <td>Andrey discusses the need to configure CORS se...</td>\n",
       "      <td>Sergey Ryabenko:  Ну, xdev.vexa и dashboard.vexa.</td>\n",
       "      <td>xdev.vexa</td>\n",
       "      <td>domain</td>\n",
       "      <td>6e0e127a-1673-4eb0-9e77-3605cce50883</td>\n",
       "      <td>2024-09-04 09:16:49.640000</td>\n",
       "      <td>Andrey Pisankin</td>\n",
       "      <td>[Dmitriy Grankin, Sergey Ryabenko]</td>\n",
       "      <td>1.0</td>\n",
       "      <td>0.000026</td>\n",
       "      <td>0.179877</td>\n",
       "      <td>0.000187</td>\n",
       "    </tr>\n",
       "  </tbody>\n",
       "</table>\n",
       "<p>100 rows × 14 columns</p>\n",
       "</div>"
      ],
      "text/plain": [
       "      summary_index                                            summary  \\\n",
       "946               4  Plan to interview users who have stopped using...   \n",
       "3139              7  Olga emphasized the need to clearly define the...   \n",
       "1858              4  Reach out to users who registered but did not ...   \n",
       "2993              4  The team discussed using SEO strategies to ext...   \n",
       "1517              9  The team will keep track of new user registrat...   \n",
       "...             ...                                                ...   \n",
       "1884             11  FastAPI is a modern web framework for building...   \n",
       "2468             17  Docker is a platform for developing, shipping,...   \n",
       "928              14  Training material refers to the content and re...   \n",
       "2787             36  Work-Life Balance refers to the equilibrium be...   \n",
       "2037             11  xdev.vexa is one of the domains mentioned in t...   \n",
       "\n",
       "                                                details  \\\n",
       "946   Olga Nemirovskaya suggested reaching out to bo...   \n",
       "3139  Identifying the right audience is crucial for ...   \n",
       "1858  The team will use email to contact users and i...   \n",
       "2993  By optimizing content for search engines, the ...   \n",
       "1517  Daily monitoring of user registrations is esse...   \n",
       "...                                                 ...   \n",
       "1884  It is used to create the API for the applicati...   \n",
       "2468  He uses Docker as part of his development work...   \n",
       "928   David mentioned the minimal budget and proof o...   \n",
       "2787  The team discusses the importance of maintaini...   \n",
       "2037  Andrey discusses the need to configure CORS se...   \n",
       "\n",
       "                                        referenced_text  \\\n",
       "946   Olga Nemirovskaya:  на этой неделе, например, ...   \n",
       "3139  Olga Nemirovskaya:  Тогда, если мы сейчас хоти...   \n",
       "1858  Olga Nemirovskaya:  Хорошо. У нас же есть все ...   \n",
       "2993  Olga Miller:  И вот это вот то, что по минимал...   \n",
       "1517  Dmitriy Grankin:  Типа там где-нибудь по одном...   \n",
       "...                                                 ...   \n",
       "1884                                                      \n",
       "2468  Юрий Б:  По скиллам, соответственно, знаком с ...   \n",
       "928   David Sterry:  It's view it more of as a proof...   \n",
       "2787  Dmitriy Grankin:  В этом процессе и как раз та...   \n",
       "2037  Sergey Ryabenko:  Ну, xdev.vexa и dashboard.vexa.   \n",
       "\n",
       "                                     topic_name  topic_type  \\\n",
       "946        Conduct user interviews for feedback        task   \n",
       "3139             Target Audience Identification        task   \n",
       "1858      Contact users for onboarding feedback        task   \n",
       "2993               SEO Strategies for Use Cases        task   \n",
       "1517  Monitor user registrations and engagement        task   \n",
       "...                                         ...         ...   \n",
       "1884                                    FastAPI  technology   \n",
       "2468                                     Docker     product   \n",
       "928                           training material        task   \n",
       "2787                          Work-Life Balance     concept   \n",
       "2037                                  xdev.vexa      domain   \n",
       "\n",
       "                                meeting_id          meeting_timestamp  \\\n",
       "946   1be62b63-99ea-4aea-b284-a2ed45e44b82 2024-10-08 11:25:07.510000   \n",
       "3139  3ead8b34-f5de-42ef-8d28-5dd64a2b8669 2024-09-16 09:47:34.620000   \n",
       "1858  733a72e0-cca9-4d47-b5e9-628aa1849556 2024-09-02 11:32:46.540000   \n",
       "2993  e2f3a86b-e94d-4967-8dad-89ac78a0617c 2024-09-13 10:17:35.355999   \n",
       "1517  2ef8bcc3-d3fd-473a-a7c8-865873cb038c 2024-08-29 10:11:26.570000   \n",
       "...                                    ...                        ...   \n",
       "1884  c1f4044d-a8ce-4dc1-9383-2c066c37c351 2024-09-02 13:14:41.720000   \n",
       "2468  472fca20-8cf3-4910-b08d-88b93d4919ef 2024-09-06 16:22:35.780000   \n",
       "928   cdf9078d-87e0-49cb-9b62-71596961f436 2024-10-08 10:33:20.200000   \n",
       "2787  cde02f21-5001-4f19-b477-5dc4a04017fd 2024-09-11 10:57:53.150000   \n",
       "2037  6e0e127a-1673-4eb0-9e77-3605cce50883 2024-09-04 09:16:49.640000   \n",
       "\n",
       "           speaker_name                                     other_speakers  \\\n",
       "946   Olga Nemirovskaya                                  [Dmitriy Grankin]   \n",
       "3139  Olga Nemirovskaya                                  [Dmitriy Grankin]   \n",
       "1858  Olga Nemirovskaya                                  [Dmitriy Grankin]   \n",
       "2993     Dmitry Grankin                              [OM, DG, Olga Miller]   \n",
       "1517    Dmitriy Grankin                                [Olga Nemirovskaya]   \n",
       "...                 ...                                                ...   \n",
       "1884    Andrey Pisankin                                  [Dmitriy Grankin]   \n",
       "2468                 ЮБ                      [Юрий Б, DG, Dmitriy Grankin]   \n",
       "928        David Sterry               [Dmitry Grankin, Nadya Gorodetskaya]   \n",
       "2787                 DG  [Dmitriy Grankin, Sergey Ryabenko, Xut tuX, SR...   \n",
       "2037    Andrey Pisankin                 [Dmitriy Grankin, Sergey Ryabenko]   \n",
       "\n",
       "      filter_score  recency_score  similarity_score  combined_score  \n",
       "946            2.0       0.000875          0.733700        0.000380  \n",
       "3139           2.0       0.000097          0.603516        0.000378  \n",
       "1858           2.0       0.000024          0.593231        0.000378  \n",
       "2993           2.0       0.000072          0.585791        0.000377  \n",
       "1517           2.0       0.000016          0.575901        0.000377  \n",
       "...            ...            ...               ...             ...  \n",
       "1884           1.0       0.000024          0.268219        0.000188  \n",
       "2468           1.0       0.000036          0.246868        0.000188  \n",
       "928            1.0       0.000875          0.216466        0.000187  \n",
       "2787           1.0       0.000059          0.216729        0.000187  \n",
       "2037           1.0       0.000026          0.179877        0.000187  \n",
       "\n",
       "[100 rows x 14 columns]"
      ]
     },
     "execution_count": 54,
     "metadata": {},
     "output_type": "execute_result"
    }
   ],
   "source": [
    "sorted_results"
   ]
  },
  {
   "cell_type": "code",
   "execution_count": null,
   "metadata": {},
   "outputs": [],
   "source": []
  }
 ],
 "metadata": {
  "kernelspec": {
   "display_name": "langchain",
   "language": "python",
   "name": "python3"
  },
  "language_info": {
   "codemirror_mode": {
    "name": "ipython",
    "version": 3
   },
   "file_extension": ".py",
   "mimetype": "text/x-python",
   "name": "python",
   "nbconvert_exporter": "python",
   "pygments_lexer": "ipython3",
   "version": "3.11.2"
  }
 },
 "nbformat": 4,
 "nbformat_minor": 2
}
