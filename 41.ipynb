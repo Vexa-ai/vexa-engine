{
 "cells": [
  {
   "cell_type": "code",
   "execution_count": 1,
   "metadata": {},
   "outputs": [],
   "source": [
    "%load_ext autoreload\n",
    "%autoreload 2\n"
   ]
  },
  {
   "cell_type": "code",
   "execution_count": 2,
   "metadata": {},
   "outputs": [
    {
     "name": "stderr",
     "output_type": "stream",
     "text": [
      "\u001b[32m2024-11-05 18:30:29.295\u001b[0m | \u001b[33m\u001b[1mWARNING \u001b[0m | \u001b[36mfastembed.embedding\u001b[0m:\u001b[36m<module>\u001b[0m:\u001b[36m7\u001b[0m - \u001b[33m\u001b[1mDefaultEmbedding, FlagEmbedding, JinaEmbedding are deprecated.Use from fastembed import TextEmbedding instead.\u001b[0m\n"
     ]
    },
    {
     "data": {
      "application/vnd.jupyter.widget-view+json": {
       "model_id": "b1453b4670a443fc9acf7687c97434f8",
       "version_major": 2,
       "version_minor": 0
      },
      "text/plain": [
       "Fetching 5 files:   0%|          | 0/5 [00:00<?, ?it/s]"
      ]
     },
     "metadata": {},
     "output_type": "display_data"
    },
    {
     "data": {
      "application/vnd.jupyter.widget-view+json": {
       "model_id": "fe7dbef3d5904c61befbef4fe7ee5585",
       "version_major": 2,
       "version_minor": 0
      },
      "text/plain": [
       "Fetching 29 files:   0%|          | 0/29 [00:00<?, ?it/s]"
      ]
     },
     "metadata": {},
     "output_type": "display_data"
    },
    {
     "name": "stdout",
     "output_type": "stream",
     "text": [
      "Collection discussion_points dropped successfully\n"
     ]
    }
   ],
   "source": [
    "from qdrant_search import QdrantSearchEngine\n",
    "\n",
    "qdrant_search = QdrantSearchEngine()\n",
    "await qdrant_search.drop_collection()\n",
    "await qdrant_search.initialize()"
   ]
  },
  {
   "cell_type": "code",
   "execution_count": 3,
   "metadata": {},
   "outputs": [],
   "source": [
    "from psql_helpers import get_session"
   ]
  },
  {
   "cell_type": "code",
   "execution_count": 4,
   "metadata": {},
   "outputs": [],
   "source": [
    "self = qdrant_search"
   ]
  },
  {
   "cell_type": "code",
   "execution_count": 6,
   "metadata": {},
   "outputs": [],
   "source": [
    "await self.sync_from_postgres(get_session)"
   ]
  },
  {
   "cell_type": "code",
   "execution_count": null,
   "metadata": {},
   "outputs": [],
   "source": []
  },
  {
   "cell_type": "code",
   "execution_count": 34,
   "metadata": {},
   "outputs": [],
   "source": [
    "from qdrant_client import AsyncQdrantClient\n",
    "from fastembed import TextEmbedding\n"
   ]
  },
  {
   "cell_type": "code",
   "execution_count": 37,
   "metadata": {},
   "outputs": [],
   "source": [
    "import os"
   ]
  },
  {
   "cell_type": "code",
   "execution_count": 38,
   "metadata": {},
   "outputs": [],
   "source": [
    "QDRANT_HOST = os.getenv('QDRANT_HOST', '127.0.0.1')\n",
    "QDRANT_PORT = os.getenv('QDRANT_PORT', '6333')\n",
    "\n",
    "\n"
   ]
  },
  {
   "cell_type": "code",
   "execution_count": 39,
   "metadata": {},
   "outputs": [
    {
     "data": {
      "application/vnd.jupyter.widget-view+json": {
       "model_id": "35fa4f1ac7904eb2940b4650030fab44",
       "version_major": 2,
       "version_minor": 0
      },
      "text/plain": [
       "Fetching 5 files:   0%|          | 0/5 [00:00<?, ?it/s]"
      ]
     },
     "metadata": {},
     "output_type": "display_data"
    }
   ],
   "source": [
    "self.client = AsyncQdrantClient(QDRANT_HOST, port=QDRANT_PORT)\n",
    "# Set up both dense and sparse models\n",
    "self.model = TextEmbedding(\"sentence-transformers/paraphrase-multilingual-MiniLM-L12-v2\")\n",
    "self.client.set_sparse_model(\"Qdrant/bm25\")\n",
    "self.collection_name = \"discussion_points\""
   ]
  },
  {
   "cell_type": "code",
   "execution_count": 40,
   "metadata": {},
   "outputs": [],
   "source": [
    "\n",
    "async with get_session() as session:\n",
    "    # Get existing meeting_ids from Qdrant\n",
    "    existing_points = await self.client.scroll(\n",
    "        collection_name=self.collection_name,\n",
    "        limit=10000000,\n",
    "        with_payload=[\"meeting_id\"]\n",
    "    )\n",
    "    existing_meeting_ids = set()\n",
    "    if existing_points[0]:\n",
    "        existing_meeting_ids = {\n",
    "            point.payload.get(\"meeting_id\") \n",
    "            for point in existing_points[0] \n",
    "            if point.payload.get(\"meeting_id\")\n",
    "        }"
   ]
  },
  {
   "cell_type": "code",
   "execution_count": 41,
   "metadata": {},
   "outputs": [
    {
     "data": {
      "text/plain": [
       "([], None)"
      ]
     },
     "execution_count": 41,
     "metadata": {},
     "output_type": "execute_result"
    }
   ],
   "source": [
    "existing_points"
   ]
  },
  {
   "cell_type": "code",
   "execution_count": 42,
   "metadata": {},
   "outputs": [],
   "source": [
    "from sqlalchemy import select\n",
    "from psql_models import DiscussionPoint, Meeting, Speaker"
   ]
  },
  {
   "cell_type": "code",
   "execution_count": 43,
   "metadata": {},
   "outputs": [],
   "source": [
    "query = select(DiscussionPoint, Meeting, Speaker).join(\n",
    "    Meeting, DiscussionPoint.meeting_id == Meeting.meeting_id\n",
    ").join(\n",
    "    Speaker, DiscussionPoint.speaker_id == Speaker.id\n",
    ")\n",
    "\n",
    "result = await session.execute(query)\n",
    "rows = result.fetchall()"
   ]
  },
  {
   "cell_type": "code",
   "execution_count": 45,
   "metadata": {},
   "outputs": [],
   "source": [
    "points = []\n",
    "current_meeting = True\n"
   ]
  },
  {
   "cell_type": "code",
   "execution_count": 46,
   "metadata": {},
   "outputs": [
    {
     "data": {
      "text/plain": [
       "(<psql_models.DiscussionPoint object at 0x7efc184c4710>, <psql_models.Meeting object at 0x7efc184c67d0>, <psql_models.Speaker object at 0x7efc184c7dd0>)"
      ]
     },
     "execution_count": 46,
     "metadata": {},
     "output_type": "execute_result"
    }
   ],
   "source": [
    "rows[0]"
   ]
  },
  {
   "cell_type": "code",
   "execution_count": 47,
   "metadata": {},
   "outputs": [],
   "source": [
    "dp, meeting, speaker = rows[0]"
   ]
  },
  {
   "cell_type": "code",
   "execution_count": 51,
   "metadata": {},
   "outputs": [],
   "source": [
    "current_meeting = meeting"
   ]
  },
  {
   "cell_type": "code",
   "execution_count": 52,
   "metadata": {},
   "outputs": [],
   "source": [
    "meeting_id_str = str(meeting.meeting_id)"
   ]
  },
  {
   "cell_type": "code",
   "execution_count": 53,
   "metadata": {},
   "outputs": [],
   "source": [
    "if current_meeting and current_meeting.meeting_id != meeting.meeting_id:\n",
    "    if current_meeting.transcript:\n",
    "        transcript_points = await self._process_transcript(current_meeting)\n",
    "        points.extend(transcript_points)"
   ]
  },
  {
   "cell_type": "code",
   "execution_count": 55,
   "metadata": {},
   "outputs": [],
   "source": [
    "embedding_strings = [dp.topic_name if dp.topic_name else \"\", dp.summary if dp.summary else \"\", dp.details if dp.details else \"\", speaker.name]\n",
    "embeddings = self.model.embed(embedding_strings)\n",
    "topic_vector,summary_vector,details_vector,speaker_vector = list(embeddings)\n"
   ]
  },
  {
   "cell_type": "code",
   "execution_count": null,
   "metadata": {},
   "outputs": [],
   "source": []
  },
  {
   "cell_type": "code",
   "execution_count": null,
   "metadata": {},
   "outputs": [],
   "source": []
  },
  {
   "cell_type": "code",
   "execution_count": null,
   "metadata": {},
   "outputs": [],
   "source": []
  },
  {
   "cell_type": "code",
   "execution_count": null,
   "metadata": {},
   "outputs": [],
   "source": []
  },
  {
   "cell_type": "code",
   "execution_count": 18,
   "metadata": {},
   "outputs": [
    {
     "data": {
      "application/vnd.jupyter.widget-view+json": {
       "model_id": "f54023e55c8944b0a82ed913f135fd1a",
       "version_major": 2,
       "version_minor": 0
      },
      "text/plain": [
       "Fetching 5 files:   0%|          | 0/5 [00:00<?, ?it/s]"
      ]
     },
     "metadata": {},
     "output_type": "display_data"
    }
   ],
   "source": [
    "from fastembed import TextEmbedding\n",
    "from typing import List\n",
    "\n",
    "# Example list of documents\n",
    "documents: List[str] = [\n",
    "    \"This is built to be faster and lighter than other embedding libraries e.g. Transformers, Sentence-Transformers, etc.\",\n",
    "    \"fastembed is supported by and maintained by Qdrant.\",\n",
    "]\n",
    "\n",
    "# This will trigger the model download and initialization\n",
    "embedding_model = TextEmbedding(model=\"paraphrase-multilingual-MiniLM-L12-v2\",cuda=False)"
   ]
  },
  {
   "cell_type": "code",
   "execution_count": 19,
   "metadata": {},
   "outputs": [],
   "source": [
    "embeddings = list(embedding_model.embed(documents))"
   ]
  },
  {
   "cell_type": "code",
   "execution_count": 20,
   "metadata": {},
   "outputs": [
    {
     "data": {
      "text/plain": [
       "[array([-0.1115468 ,  0.00976557,  0.00524553,  0.01951895, -0.01934952,\n",
       "         0.02943452, -0.1051909 , -0.00890122,  0.01831437,  0.014868  ,\n",
       "        -0.05642497,  0.02561355, -0.00120166,  0.0063746 ,  0.02633464,\n",
       "         0.00892209,  0.05313656,  0.03955455, -0.04400251, -0.02929405,\n",
       "         0.04691842, -0.02515871,  0.00778645, -0.05410658, -0.04362101,\n",
       "         0.01275096, -0.02304645, -0.02250822,  0.01992304, -0.19920595,\n",
       "         0.01895351, -0.02651558,  0.08252289, -0.02281935, -0.057813  ,\n",
       "        -0.01367696, -0.03570741,  0.05386206, -0.10155279,  0.0209727 ,\n",
       "         0.00652712,  0.03738065, -0.03508432, -0.00091194,  0.03425015,\n",
       "        -0.02445885, -0.00739984, -0.0308434 , -0.03605131, -0.02814274,\n",
       "         0.01547161, -0.02158502,  0.0254423 ,  0.02438808, -0.02049716,\n",
       "        -0.02665791,  0.03727326,  0.08809512,  0.02471924, -0.0085119 ,\n",
       "        -0.02016545,  0.05734606, -0.05127538,  0.02370393, -0.02993907,\n",
       "        -0.02091446, -0.0392783 , -0.02315619,  0.00927738,  0.07043552,\n",
       "         0.02359608, -0.01002697,  0.04758467,  0.00795117,  0.00199826,\n",
       "         0.05515845,  0.0184372 , -0.00297785, -0.01339658, -0.00348843,\n",
       "         0.0795168 , -0.0636621 , -0.0129501 , -0.00558422, -0.02937807,\n",
       "        -0.03242923,  0.03339406,  0.01734226,  0.01248072,  0.06825155,\n",
       "        -0.08455563, -0.04574715, -0.00958251,  0.05233805, -0.00915513,\n",
       "        -0.0618749 , -0.01228705,  0.03380496,  0.03197373,  0.35104707,\n",
       "        -0.06548344, -0.00566748,  0.05857927, -0.05616154,  0.01007559,\n",
       "        -0.03780001,  0.04616214, -0.01843746, -0.09301552, -0.02079748,\n",
       "        -0.04339448, -0.0264894 , -0.02158686,  0.02083872,  0.0229537 ,\n",
       "         0.01272574, -0.03758859,  0.00559676, -0.06286895,  0.04843563,\n",
       "         0.00935002,  0.01959496,  0.00112754, -0.01437087,  0.01551346,\n",
       "         0.03026592,  0.04408655,  0.05475585,  0.05326192,  0.07697894,\n",
       "        -0.01663394,  0.0122855 , -0.01277491,  0.03190341,  0.0299643 ,\n",
       "         0.04491729, -0.02979671, -0.03278976,  0.0173001 , -0.00223163,\n",
       "        -0.04579118,  0.11361726,  0.01470173, -0.04264669, -0.04399695,\n",
       "         0.06602894, -0.00867756, -0.01433712, -0.0245108 ,  0.00416823,\n",
       "         0.03465071,  0.03361178,  0.04309672, -0.05711748, -0.03614637,\n",
       "        -0.01957097,  0.04611279,  0.00653192, -0.00397204, -0.03064724,\n",
       "         0.00837798,  0.03048814, -0.00592957,  0.02347307,  0.01496452,\n",
       "        -0.06332057, -0.03251883, -0.04869227,  0.02282279, -0.03523589,\n",
       "         0.01058851,  0.03910527,  0.02767141,  0.06423505,  0.03829632,\n",
       "        -0.06573223, -0.08320768, -0.05718215,  0.032103  ,  0.02064368,\n",
       "         0.10592969, -0.00394272, -0.05392285,  0.02672249,  0.00775735,\n",
       "        -0.01757087,  0.01085255, -0.02709266, -0.01186659,  0.02550753,\n",
       "        -0.04300734,  0.10134846, -0.05021184,  0.01615322, -0.05007049,\n",
       "        -0.04070355,  0.02206326,  0.00786542, -0.04022969,  0.01102208,\n",
       "        -0.05670201,  0.06371459,  0.04182272,  0.04779015,  0.00664955,\n",
       "        -0.06148716,  0.00420996, -0.04121443,  0.01855408, -0.00361694,\n",
       "        -0.03537439, -0.04944494,  0.04226604, -0.03273364, -0.00653173,\n",
       "        -0.01640933, -0.04222875,  0.02018564,  0.03509492,  0.03532553,\n",
       "        -0.10200297, -0.00397541,  0.03265328, -0.27892536, -0.05658522,\n",
       "         0.01701447, -0.00449947,  0.05060689, -0.0649941 ,  0.01190284,\n",
       "         0.03217281,  0.0012889 ,  0.03063431,  0.07366722, -0.0489304 ,\n",
       "        -0.01412378, -0.01474854, -0.00826357,  0.0145827 ,  0.03724321,\n",
       "        -0.0103078 , -0.02107087,  0.0078122 , -0.00658979,  0.05725319,\n",
       "         0.08171411, -0.05366951, -0.00367528, -0.00357438,  0.12753023,\n",
       "        -0.06057397,  0.05828974, -0.03270791,  0.02324423, -0.00164788,\n",
       "        -0.02812943, -0.07287656,  0.0374564 ,  0.03951741,  0.06104765,\n",
       "         0.03782516,  0.05370097,  0.02615047, -0.03439131,  0.02340423,\n",
       "         0.03635769, -0.13454738, -0.02032871, -0.04759544, -0.02616175,\n",
       "        -0.05073289, -0.0401398 ,  0.03446065,  0.01762317, -0.02912303,\n",
       "        -0.01398167,  0.02396318,  0.00132058, -0.06350204, -0.01303045,\n",
       "        -0.00629201, -0.04972707,  0.00407771,  0.01150149, -0.06017116,\n",
       "        -0.03213599, -0.01901644,  0.01318631, -0.04036636, -0.0301525 ,\n",
       "        -0.00698376, -0.03276829,  0.05166868, -0.05484485,  0.07105541,\n",
       "        -0.0573741 ,  0.01871951,  0.04634564,  0.04099836, -0.00277325,\n",
       "         0.09684803, -0.02202534,  0.04704949,  0.02065699,  0.05638561,\n",
       "         0.02581931, -0.02389525,  0.04793627, -0.0356344 ,  0.04439345,\n",
       "         0.00885728, -0.04005633,  0.08745716, -0.02079476, -0.01768558,\n",
       "         0.00970369,  0.00073049,  0.0083411 , -0.01247688, -0.28980002,\n",
       "         0.01545562,  0.0294983 , -0.04447613, -0.03082364, -0.0031392 ,\n",
       "         0.02959315, -0.05352895,  0.05985722,  0.01590354, -0.02330944,\n",
       "         0.04883645,  0.03509052,  0.05289931,  0.04672194, -0.01115786,\n",
       "         0.14264485, -0.04142468,  0.00188216, -0.01826798, -0.04291841,\n",
       "        -0.01292037,  0.18563963, -0.00567573, -0.04968629,  0.03097991,\n",
       "         0.00046474, -0.02851096,  0.04891977, -0.01101995, -0.00629898,\n",
       "         0.00147009,  0.02324687, -0.0111582 , -0.02069091,  0.05764964,\n",
       "        -0.03267058, -0.06093276,  0.03421429,  0.01529417,  0.05965804,\n",
       "         0.01811419, -0.09919287, -0.00265527,  0.02271152,  0.01319533,\n",
       "         0.03898044,  0.02463533, -0.03220859,  0.00463611,  0.06515262,\n",
       "        -0.00238057, -0.01171632, -0.01450326,  0.08445505, -0.00357798,\n",
       "        -0.01779739,  0.03850415, -0.00440675, -0.01196046, -0.00934461,\n",
       "        -0.03048329, -0.01320518,  0.0532809 ,  0.06424668], dtype=float32),\n",
       " array([-0.10196537,  0.06358093, -0.03328549,  0.05224774,  0.06559844,\n",
       "         0.03798314, -0.02140837,  0.00469163, -0.01551025, -0.00523216,\n",
       "         0.03456413, -0.03431664,  0.00099284,  0.03215213,  0.0430968 ,\n",
       "         0.00804688,  0.01759586, -0.03325997,  0.03812215, -0.02370394,\n",
       "        -0.04514232, -0.07142671,  0.00524402, -0.01002173,  0.00588341,\n",
       "        -0.00421306,  0.00317446, -0.05969485, -0.03239138, -0.15592098,\n",
       "         0.04748417, -0.04159546, -0.03269454,  0.04071245, -0.03071212,\n",
       "         0.01932417, -0.0792853 ,  0.03136195, -0.02740536, -0.0115168 ,\n",
       "         0.02948355,  0.08805544, -0.05778746, -0.01315421,  0.02286931,\n",
       "         0.05057597,  0.04561461, -0.05757051,  0.00286979, -0.01934241,\n",
       "         0.07758489,  0.05463945,  0.04206332,  0.02058818,  0.01018681,\n",
       "         0.02920104, -0.00638032,  0.04659195, -0.03239446, -0.0033362 ,\n",
       "         0.036643  ,  0.0263447 , -0.10204933, -0.00712966, -0.04907705,\n",
       "         0.05144264,  0.00582803, -0.00747698, -0.0497597 ,  0.05159492,\n",
       "         0.02628944, -0.02505196, -0.00683319,  0.03330373,  0.01304878,\n",
       "        -0.03049756,  0.08891898,  0.02298584, -0.04526839, -0.00472973,\n",
       "         0.04558905,  0.01959776, -0.02372923,  0.03742705, -0.06537244,\n",
       "        -0.04028707,  0.09634684, -0.02361673, -0.00583518, -0.00708869,\n",
       "        -0.04141805, -0.03688717, -0.00289186, -0.02630563,  0.02303953,\n",
       "        -0.00530899, -0.04532337,  0.02385876, -0.02264653,  0.29766613,\n",
       "        -0.00245225,  0.03986998, -0.02394979,  0.03818644,  0.03415034,\n",
       "        -0.06681063,  0.01194893, -0.01912134, -0.01363677, -0.0353358 ,\n",
       "         0.00226291, -0.0436872 ,  0.04748074, -0.00237354,  0.06443186,\n",
       "         0.02986888, -0.07213315,  0.07147688, -0.02233437, -0.02170114,\n",
       "         0.00987585,  0.06264772,  0.02714762,  0.0541885 ,  0.00862082,\n",
       "         0.02809399,  0.09431335,  0.05165977, -0.01308683,  0.04281358,\n",
       "        -0.0036031 , -0.01152128,  0.00763388, -0.00531964,  0.00250475,\n",
       "         0.01307405,  0.04746181, -0.07671399,  0.04888143, -0.03900953,\n",
       "        -0.06418302, -0.01218671,  0.0360223 , -0.15457255,  0.02374438,\n",
       "         0.02551486,  0.03282617,  0.02857376,  0.03373059, -0.01652421,\n",
       "         0.04448724,  0.00215168, -0.02682974, -0.08791953,  0.01965346,\n",
       "        -0.03850344,  0.0053166 , -0.00594933,  0.05468621, -0.01238488,\n",
       "        -0.02387807,  0.00860869, -0.06606307,  0.11659572, -0.0149854 ,\n",
       "        -0.08124808,  0.04230737, -0.07130364,  0.05840378, -0.04641074,\n",
       "         0.02890989,  0.00555195,  0.00394335,  0.02760744,  0.0158118 ,\n",
       "        -0.02001749, -0.00085725, -0.04459581,  0.06296276,  0.04250728,\n",
       "         0.08025829, -0.01846181, -0.04807085,  0.05754853,  0.01393857,\n",
       "        -0.01263182, -0.03404711, -0.03054681, -0.00254243, -0.02850541,\n",
       "        -0.0144576 ,  0.0935489 , -0.07991938,  0.04766706,  0.02740227,\n",
       "        -0.02885795, -0.04746773,  0.06660871, -0.0087337 , -0.05113437,\n",
       "        -0.03008273,  0.06593161, -0.0373258 ,  0.05446275, -0.05265652,\n",
       "        -0.0363621 , -0.02804556, -0.00393475, -0.01730784, -0.02264817,\n",
       "         0.01777955, -0.00873407,  0.00772994,  0.0008931 , -0.00301884,\n",
       "         0.02314723, -0.03249814,  0.04427516,  0.0271191 ,  0.06801503,\n",
       "        -0.02531348, -0.01609013,  0.0262219 , -0.2591167 , -0.10432565,\n",
       "        -0.05982441,  0.0489339 ,  0.0117322 , -0.0540438 , -0.04562082,\n",
       "        -0.01706339, -0.00837825, -0.06000608,  0.08165053, -0.04163657,\n",
       "        -0.02448405, -0.00987524, -0.02742597,  0.03129574,  0.01518877,\n",
       "         0.04551579, -0.01987803, -0.03124694, -0.02250839,  0.06723864,\n",
       "        -0.01050605,  0.02090658,  0.0143632 ,  0.00526191,  0.18434674,\n",
       "        -0.07003088, -0.00984635, -0.02376249,  0.0653456 ,  0.00040959,\n",
       "         0.02105125, -0.20141709,  0.05478038,  0.08476392, -0.01895315,\n",
       "         0.06721344,  0.01170948, -0.00441173, -0.01240432,  0.05460442,\n",
       "         0.03719969, -0.11065677, -0.00431063,  0.01919129, -0.04106353,\n",
       "         0.02775824, -0.04971793, -0.01873406, -0.03346109, -0.06752603,\n",
       "        -0.0060242 ,  0.0555005 ,  0.00633183,  0.03998725,  0.03911077,\n",
       "         0.02659218, -0.0335975 ,  0.03392798,  0.03006888, -0.05896934,\n",
       "        -0.04232116, -0.03526152,  0.09043565, -0.03938924,  0.01558418,\n",
       "         0.03716353,  0.00267569, -0.01981233, -0.04048501,  0.02239532,\n",
       "        -0.10821804,  0.0017136 ,  0.00047859, -0.04413801,  0.03207711,\n",
       "         0.03172935, -0.02306125,  0.00358784,  0.04196437,  0.04725502,\n",
       "         0.04772153, -0.08898119,  0.02590909, -0.02570397,  0.0253138 ,\n",
       "         0.00337631,  0.00954411,  0.07753916,  0.01995823,  0.0348414 ,\n",
       "        -0.02978568, -0.00791148,  0.01251111,  0.03465511, -0.2584754 ,\n",
       "        -0.01391623, -0.04987432, -0.06194169, -0.06767831,  0.00538717,\n",
       "        -0.04501396, -0.03984588,  0.04122883,  0.03328095,  0.02391853,\n",
       "         0.04889222,  0.0895853 ,  0.01272258,  0.00683692, -0.00854501,\n",
       "         0.07410533, -0.01604408,  0.01387368, -0.05848192,  0.0045348 ,\n",
       "        -0.01418261,  0.14575058, -0.02247003, -0.01442246,  0.03293832,\n",
       "        -0.01002965, -0.01168065, -0.01355252, -0.03014586, -0.01586816,\n",
       "        -0.03000921,  0.07651708, -0.0781482 , -0.04322865,  0.02661438,\n",
       "        -0.00189474, -0.00766878,  0.00786169,  0.02401084, -0.00707772,\n",
       "        -0.00243011, -0.01820582,  0.0293861 ,  0.02108984, -0.02178087,\n",
       "         0.02971893, -0.00790562,  0.03561783,  0.06524874, -0.04371538,\n",
       "        -0.05550047,  0.02651667, -0.01116156, -0.0168225 , -0.05976736,\n",
       "        -0.03143924,  0.06522722,  0.01801392, -0.0261101 ,  0.01627174,\n",
       "        -0.0368538 ,  0.03968835,  0.027597  ,  0.03305929], dtype=float32)]"
      ]
     },
     "execution_count": 20,
     "metadata": {},
     "output_type": "execute_result"
    }
   ],
   "source": [
    "embeddings"
   ]
  },
  {
   "cell_type": "code",
   "execution_count": 2,
   "metadata": {},
   "outputs": [
    {
     "data": {
      "application/vnd.jupyter.widget-view+json": {
       "model_id": "da2480ae65464b04a30afef0f2ee9caa",
       "version_major": 2,
       "version_minor": 0
      },
      "text/plain": [
       "Fetching 5 files:   0%|          | 0/5 [00:00<?, ?it/s]"
      ]
     },
     "metadata": {},
     "output_type": "display_data"
    }
   ],
   "source": [
    "from fastembed import TextEmbedding\n",
    "\n",
    "# Initialize with explicit model name and force download\n",
    "embeddings_generator = TextEmbedding(\n",
    "    model_name=\"BAAI/bge-small-en-v1.5\",\n",
    "    max_length=512,\n",
    "    cache_dir=None  # This will use default cache location but ensure fresh download\n",
    ")"
   ]
  },
  {
   "cell_type": "code",
   "execution_count": 6,
   "metadata": {},
   "outputs": [
    {
     "data": {
      "application/vnd.jupyter.widget-view+json": {
       "model_id": "4d20feee65364764bcf656cd1440e8cd",
       "version_major": 2,
       "version_minor": 0
      },
      "text/plain": [
       "Fetching 5 files:   0%|          | 0/5 [00:00<?, ?it/s]"
      ]
     },
     "metadata": {},
     "output_type": "display_data"
    }
   ],
   "source": [
    "from fastembed import SparseTextEmbedding\n",
    "\n",
    "model = SparseTextEmbedding(model_name=\"prithivida/Splade_PP_en_v1\")\n",
    "embeddings = list(model.embed(documents))"
   ]
  },
  {
   "cell_type": "code",
   "execution_count": 7,
   "metadata": {},
   "outputs": [],
   "source": [
    "embeddings_generator = embedding_model.embed(['test'])\n"
   ]
  },
  {
   "cell_type": "code",
   "execution_count": null,
   "metadata": {},
   "outputs": [],
   "source": []
  }
 ],
 "metadata": {
  "kernelspec": {
   "display_name": "langchain",
   "language": "python",
   "name": "python3"
  },
  "language_info": {
   "codemirror_mode": {
    "name": "ipython",
    "version": 3
   },
   "file_extension": ".py",
   "mimetype": "text/x-python",
   "name": "python",
   "nbconvert_exporter": "python",
   "pygments_lexer": "ipython3",
   "version": "3.11.2"
  }
 },
 "nbformat": 4,
 "nbformat_minor": 2
}
