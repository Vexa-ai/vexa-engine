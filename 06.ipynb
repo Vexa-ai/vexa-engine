{
 "cells": [
  {
   "cell_type": "code",
   "execution_count": 1,
   "metadata": {},
   "outputs": [],
   "source": [
    "%reload_ext autoreload\n",
    "%autoreload 2"
   ]
  },
  {
   "cell_type": "code",
   "execution_count": 2,
   "metadata": {},
   "outputs": [],
   "source": [
    "from psql_models import read_table_async,DiscussionPoint,Meeting,Speaker,Output\n"
   ]
  },
  {
   "cell_type": "code",
   "execution_count": 3,
   "metadata": {},
   "outputs": [],
   "source": [
    "\n",
    "discussion_points_df = await read_table_async(DiscussionPoint)\n",
    "meetings_df = await read_table_async(Meeting)\n",
    "speakers_df = await read_table_async(Speaker)"
   ]
  },
  {
   "cell_type": "code",
   "execution_count": 4,
   "metadata": {},
   "outputs": [],
   "source": [
    "import pandas as pd"
   ]
  },
  {
   "cell_type": "code",
   "execution_count": 8,
   "metadata": {},
   "outputs": [],
   "source": [
    "from sampling import fetch_joined_data,WeightedSampler"
   ]
  },
  {
   "cell_type": "code",
   "execution_count": 14,
   "metadata": {},
   "outputs": [],
   "source": [
    "joined_df = await fetch_joined_data()\n",
    "joined_df['meeting_time'] = pd.to_datetime(joined_df['meeting_timestamp']).dt.strftime('%Y-%m-%d')"
   ]
  },
  {
   "cell_type": "code",
   "execution_count": 141,
   "metadata": {},
   "outputs": [],
   "source": [
    "# Set display options to show all content\n",
    "pd.set_option('display.max_colwidth', 100)  # Show full contents of each column\n",
    "pd.set_option('display.max_rows', 20)      # Show all rows\n",
    "pd.set_option('display.max_columns', 20)   # Show all columns\n",
    "pd.set_option('display.width', 100)         # Don't wrap wide columns"
   ]
  },
  {
   "cell_type": "code",
   "execution_count": 142,
   "metadata": {},
   "outputs": [
    {
     "data": {
      "text/html": [
       "<div>\n",
       "<style scoped>\n",
       "    .dataframe tbody tr th:only-of-type {\n",
       "        vertical-align: middle;\n",
       "    }\n",
       "\n",
       "    .dataframe tbody tr th {\n",
       "        vertical-align: top;\n",
       "    }\n",
       "\n",
       "    .dataframe thead th {\n",
       "        text-align: right;\n",
       "    }\n",
       "</style>\n",
       "<table border=\"1\" class=\"dataframe\">\n",
       "  <thead>\n",
       "    <tr style=\"text-align: right;\">\n",
       "      <th></th>\n",
       "      <th>summary_index</th>\n",
       "      <th>summary</th>\n",
       "      <th>details</th>\n",
       "      <th>referenced_text</th>\n",
       "      <th>topic_name</th>\n",
       "      <th>topic_type</th>\n",
       "      <th>meeting_id</th>\n",
       "      <th>meeting_timestamp</th>\n",
       "      <th>speaker_name</th>\n",
       "      <th>other_speakers</th>\n",
       "      <th>meeting_time</th>\n",
       "    </tr>\n",
       "  </thead>\n",
       "  <tbody>\n",
       "    <tr>\n",
       "      <th>0</th>\n",
       "      <td>18</td>\n",
       "      <td>Лара Маргас is a team member involved in testing and feedback processes.</td>\n",
       "      <td>Olga mentions Лара's feedback on the new build and her experience with the platform's features.</td>\n",
       "      <td>Olga Nemirovskaya:  Лара Маргас, это... | Dmitriy Grankin:  Лара, это вот наша девочка, с которо...</td>\n",
       "      <td>Лара Маргас</td>\n",
       "      <td>person</td>\n",
       "      <td>cd43879a-0b16-4473-9744-04ae567626ff</td>\n",
       "      <td>2024-08-26 19:14:18.976</td>\n",
       "      <td>Olga Nemirovskaya</td>\n",
       "      <td>[Dmitriy Grankin]</td>\n",
       "      <td>2024-08-26</td>\n",
       "    </tr>\n",
       "    <tr>\n",
       "      <th>1</th>\n",
       "      <td>17</td>\n",
       "      <td>Алексей is a colleague mentioned in relation to design elements like colors and fonts.</td>\n",
       "      <td>Dmitriy confirms that he has not discussed design elements with Алексей yet, indicating a need f...</td>\n",
       "      <td>Olga Nemirovskaya:  и шрифтов. Ничего не обсуждал ты еще с Алексеем? | Olga Nemirovskaya:  Тушла...</td>\n",
       "      <td>Алексей</td>\n",
       "      <td>person</td>\n",
       "      <td>cd43879a-0b16-4473-9744-04ae567626ff</td>\n",
       "      <td>2024-08-26 19:14:18.976</td>\n",
       "      <td>Dmitriy Grankin</td>\n",
       "      <td>[Olga Nemirovskaya]</td>\n",
       "      <td>2024-08-26</td>\n",
       "    </tr>\n",
       "    <tr>\n",
       "      <th>2</th>\n",
       "      <td>21</td>\n",
       "      <td>Саша Титов is mentioned as a contact for agency collaboration.</td>\n",
       "      <td>Olga discusses her conversation with Саша regarding potential testing and collaboration for thei...</td>\n",
       "      <td>Olga Nemirovskaya:  А, ну, с этим, с Сашей мы сегодня тоже пообщались. | Olga Nemirovskaya:  Тит...</td>\n",
       "      <td>Саша Титов</td>\n",
       "      <td>person</td>\n",
       "      <td>cd43879a-0b16-4473-9744-04ae567626ff</td>\n",
       "      <td>2024-08-26 19:14:18.976</td>\n",
       "      <td>Olga Nemirovskaya</td>\n",
       "      <td>[Dmitriy Grankin]</td>\n",
       "      <td>2024-08-26</td>\n",
       "    </tr>\n",
       "    <tr>\n",
       "      <th>3</th>\n",
       "      <td>19</td>\n",
       "      <td>Product School is a platform where Olga has submitted information but has not received responses...</td>\n",
       "      <td>Olga notes that she submitted information to Product School but is waiting for engagement from t...</td>\n",
       "      <td>Olga Nemirovskaya:  Product School я закинула. | Olga Nemirovskaya:  Вечером, там пока тишина. |...</td>\n",
       "      <td>Product School</td>\n",
       "      <td>organization</td>\n",
       "      <td>cd43879a-0b16-4473-9744-04ae567626ff</td>\n",
       "      <td>2024-08-26 19:14:18.976</td>\n",
       "      <td>Olga Nemirovskaya</td>\n",
       "      <td>[Dmitriy Grankin]</td>\n",
       "      <td>2024-08-26</td>\n",
       "    </tr>\n",
       "    <tr>\n",
       "      <th>4</th>\n",
       "      <td>32</td>\n",
       "      <td>Анализ refers to the analysis of user data and marketing effectiveness.</td>\n",
       "      <td>The meeting emphasizes the importance of analytics and data analysis for optimizing marketing st...</td>\n",
       "      <td>Olga Nemirovskaya:  Да, это будет удобнее.</td>\n",
       "      <td>анализ</td>\n",
       "      <td>concept</td>\n",
       "      <td>cd43879a-0b16-4473-9744-04ae567626ff</td>\n",
       "      <td>2024-08-26 19:14:18.976</td>\n",
       "      <td>Dmitriy Grankin</td>\n",
       "      <td>[Olga Nemirovskaya]</td>\n",
       "      <td>2024-08-26</td>\n",
       "    </tr>\n",
       "    <tr>\n",
       "      <th>...</th>\n",
       "      <td>...</td>\n",
       "      <td>...</td>\n",
       "      <td>...</td>\n",
       "      <td>...</td>\n",
       "      <td>...</td>\n",
       "      <td>...</td>\n",
       "      <td>...</td>\n",
       "      <td>...</td>\n",
       "      <td>...</td>\n",
       "      <td>...</td>\n",
       "      <td>...</td>\n",
       "    </tr>\n",
       "    <tr>\n",
       "      <th>1379</th>\n",
       "      <td>2</td>\n",
       "      <td>Özay discussed the long sales cycles in the manufacturing sector and the difficulties faced in s...</td>\n",
       "      <td>Özay mentioned that they are in discussions with multiple manufacturing companies, but the sales...</td>\n",
       "      <td>Özay Demirezen:  And also the area that we are trying to sell stuff is manufacturing long sales ...</td>\n",
       "      <td>Challenges in the manufacturing sector</td>\n",
       "      <td>concern</td>\n",
       "      <td>50d5d659-3a57-42f2-8f32-31c7145ebe91</td>\n",
       "      <td>2024-10-24 09:32:32.980</td>\n",
       "      <td>Özay Demirezen</td>\n",
       "      <td>[Dmitry Grankin]</td>\n",
       "      <td>2024-10-24</td>\n",
       "    </tr>\n",
       "    <tr>\n",
       "      <th>1380</th>\n",
       "      <td>1</td>\n",
       "      <td>Özay raised concerns about the inability to record phone calls and WhatsApp calls, which often l...</td>\n",
       "      <td>Özay highlighted the challenge of not being able to record phone calls, especially when on the g...</td>\n",
       "      <td>Özay Demirezen:  My main, like a feedback about that, these days I mentioned to you, we are havi...</td>\n",
       "      <td>Discussion on recording phone calls and WhatsApp calls</td>\n",
       "      <td>problem</td>\n",
       "      <td>50d5d659-3a57-42f2-8f32-31c7145ebe91</td>\n",
       "      <td>2024-10-24 09:32:32.980</td>\n",
       "      <td>Özay Demirezen</td>\n",
       "      <td>[Dmitry Grankin]</td>\n",
       "      <td>2024-10-24</td>\n",
       "    </tr>\n",
       "    <tr>\n",
       "      <th>1381</th>\n",
       "      <td>0</td>\n",
       "      <td>Dmitry shared that his product has a steady user base with good retention, although it is still ...</td>\n",
       "      <td>Dmitry has acquired a steady user base since launching his MVP in February, with users engaging ...</td>\n",
       "      <td>Özay Demirezen:  that's good that's good uh how's everything going you release your product how ...</td>\n",
       "      <td>Product feedback and user retention</td>\n",
       "      <td>feedback</td>\n",
       "      <td>50d5d659-3a57-42f2-8f32-31c7145ebe91</td>\n",
       "      <td>2024-10-24 09:32:32.980</td>\n",
       "      <td>Dmitry Grankin</td>\n",
       "      <td>[Özay Demirezen]</td>\n",
       "      <td>2024-10-24</td>\n",
       "    </tr>\n",
       "    <tr>\n",
       "      <th>1382</th>\n",
       "      <td>10</td>\n",
       "      <td>Antler is a startup generator and early-stage venture capital firm where Dmitry validated his pr...</td>\n",
       "      <td>Dmitry discusses his experience with Antler, where he worked on validating his product idea befo...</td>\n",
       "      <td>Dmitry Grankin:  This problem field, problem area, we have validated in Antler with, what's the ...</td>\n",
       "      <td>Antler</td>\n",
       "      <td>company</td>\n",
       "      <td>50d5d659-3a57-42f2-8f32-31c7145ebe91</td>\n",
       "      <td>2024-10-24 09:32:32.980</td>\n",
       "      <td>Dmitry Grankin</td>\n",
       "      <td>[Özay Demirezen]</td>\n",
       "      <td>2024-10-24</td>\n",
       "    </tr>\n",
       "    <tr>\n",
       "      <th>1383</th>\n",
       "      <td>4</td>\n",
       "      <td>Dmitry and Özay discussed the crowded market for their products and the strategies needed to dif...</td>\n",
       "      <td>Dmitry acknowledged the presence of competition but argued that the market is still sparse. He e...</td>\n",
       "      <td>Özay Demirezen:  But how did you decide to enter this crowded market? Like, uh, This market is c...</td>\n",
       "      <td>Market competition and product differentiation</td>\n",
       "      <td>discussion</td>\n",
       "      <td>50d5d659-3a57-42f2-8f32-31c7145ebe91</td>\n",
       "      <td>2024-10-24 09:32:32.980</td>\n",
       "      <td>Dmitry Grankin</td>\n",
       "      <td>[Özay Demirezen]</td>\n",
       "      <td>2024-10-24</td>\n",
       "    </tr>\n",
       "  </tbody>\n",
       "</table>\n",
       "<p>1384 rows × 11 columns</p>\n",
       "</div>"
      ],
      "text/plain": [
       "      summary_index  \\\n",
       "0                18   \n",
       "1                17   \n",
       "2                21   \n",
       "3                19   \n",
       "4                32   \n",
       "...             ...   \n",
       "1379              2   \n",
       "1380              1   \n",
       "1381              0   \n",
       "1382             10   \n",
       "1383              4   \n",
       "\n",
       "                                                                                                  summary  \\\n",
       "0                                Лара Маргас is a team member involved in testing and feedback processes.   \n",
       "1                  Алексей is a colleague mentioned in relation to design elements like colors and fonts.   \n",
       "2                                          Саша Титов is mentioned as a contact for agency collaboration.   \n",
       "3     Product School is a platform where Olga has submitted information but has not received responses...   \n",
       "4                                 Анализ refers to the analysis of user data and marketing effectiveness.   \n",
       "...                                                                                                   ...   \n",
       "1379  Özay discussed the long sales cycles in the manufacturing sector and the difficulties faced in s...   \n",
       "1380  Özay raised concerns about the inability to record phone calls and WhatsApp calls, which often l...   \n",
       "1381  Dmitry shared that his product has a steady user base with good retention, although it is still ...   \n",
       "1382  Antler is a startup generator and early-stage venture capital firm where Dmitry validated his pr...   \n",
       "1383  Dmitry and Özay discussed the crowded market for their products and the strategies needed to dif...   \n",
       "\n",
       "                                                                                                  details  \\\n",
       "0         Olga mentions Лара's feedback on the new build and her experience with the platform's features.   \n",
       "1     Dmitriy confirms that he has not discussed design elements with Алексей yet, indicating a need f...   \n",
       "2     Olga discusses her conversation with Саша regarding potential testing and collaboration for thei...   \n",
       "3     Olga notes that she submitted information to Product School but is waiting for engagement from t...   \n",
       "4     The meeting emphasizes the importance of analytics and data analysis for optimizing marketing st...   \n",
       "...                                                                                                   ...   \n",
       "1379  Özay mentioned that they are in discussions with multiple manufacturing companies, but the sales...   \n",
       "1380  Özay highlighted the challenge of not being able to record phone calls, especially when on the g...   \n",
       "1381  Dmitry has acquired a steady user base since launching his MVP in February, with users engaging ...   \n",
       "1382  Dmitry discusses his experience with Antler, where he worked on validating his product idea befo...   \n",
       "1383  Dmitry acknowledged the presence of competition but argued that the market is still sparse. He e...   \n",
       "\n",
       "                                                                                          referenced_text  \\\n",
       "0     Olga Nemirovskaya:  Лара Маргас, это... | Dmitriy Grankin:  Лара, это вот наша девочка, с которо...   \n",
       "1     Olga Nemirovskaya:  и шрифтов. Ничего не обсуждал ты еще с Алексеем? | Olga Nemirovskaya:  Тушла...   \n",
       "2     Olga Nemirovskaya:  А, ну, с этим, с Сашей мы сегодня тоже пообщались. | Olga Nemirovskaya:  Тит...   \n",
       "3     Olga Nemirovskaya:  Product School я закинула. | Olga Nemirovskaya:  Вечером, там пока тишина. |...   \n",
       "4                                                              Olga Nemirovskaya:  Да, это будет удобнее.   \n",
       "...                                                                                                   ...   \n",
       "1379  Özay Demirezen:  And also the area that we are trying to sell stuff is manufacturing long sales ...   \n",
       "1380  Özay Demirezen:  My main, like a feedback about that, these days I mentioned to you, we are havi...   \n",
       "1381  Özay Demirezen:  that's good that's good uh how's everything going you release your product how ...   \n",
       "1382  Dmitry Grankin:  This problem field, problem area, we have validated in Antler with, what's the ...   \n",
       "1383  Özay Demirezen:  But how did you decide to enter this crowded market? Like, uh, This market is c...   \n",
       "\n",
       "                                                  topic_name    topic_type  \\\n",
       "0                                                Лара Маргас        person   \n",
       "1                                                    Алексей        person   \n",
       "2                                                 Саша Титов        person   \n",
       "3                                             Product School  organization   \n",
       "4                                                     анализ       concept   \n",
       "...                                                      ...           ...   \n",
       "1379                  Challenges in the manufacturing sector       concern   \n",
       "1380  Discussion on recording phone calls and WhatsApp calls       problem   \n",
       "1381                     Product feedback and user retention      feedback   \n",
       "1382                                                  Antler       company   \n",
       "1383          Market competition and product differentiation    discussion   \n",
       "\n",
       "                                meeting_id       meeting_timestamp       speaker_name  \\\n",
       "0     cd43879a-0b16-4473-9744-04ae567626ff 2024-08-26 19:14:18.976  Olga Nemirovskaya   \n",
       "1     cd43879a-0b16-4473-9744-04ae567626ff 2024-08-26 19:14:18.976    Dmitriy Grankin   \n",
       "2     cd43879a-0b16-4473-9744-04ae567626ff 2024-08-26 19:14:18.976  Olga Nemirovskaya   \n",
       "3     cd43879a-0b16-4473-9744-04ae567626ff 2024-08-26 19:14:18.976  Olga Nemirovskaya   \n",
       "4     cd43879a-0b16-4473-9744-04ae567626ff 2024-08-26 19:14:18.976    Dmitriy Grankin   \n",
       "...                                    ...                     ...                ...   \n",
       "1379  50d5d659-3a57-42f2-8f32-31c7145ebe91 2024-10-24 09:32:32.980     Özay Demirezen   \n",
       "1380  50d5d659-3a57-42f2-8f32-31c7145ebe91 2024-10-24 09:32:32.980     Özay Demirezen   \n",
       "1381  50d5d659-3a57-42f2-8f32-31c7145ebe91 2024-10-24 09:32:32.980     Dmitry Grankin   \n",
       "1382  50d5d659-3a57-42f2-8f32-31c7145ebe91 2024-10-24 09:32:32.980     Dmitry Grankin   \n",
       "1383  50d5d659-3a57-42f2-8f32-31c7145ebe91 2024-10-24 09:32:32.980     Dmitry Grankin   \n",
       "\n",
       "           other_speakers meeting_time  \n",
       "0       [Dmitriy Grankin]   2024-08-26  \n",
       "1     [Olga Nemirovskaya]   2024-08-26  \n",
       "2       [Dmitriy Grankin]   2024-08-26  \n",
       "3       [Dmitriy Grankin]   2024-08-26  \n",
       "4     [Olga Nemirovskaya]   2024-08-26  \n",
       "...                   ...          ...  \n",
       "1379     [Dmitry Grankin]   2024-10-24  \n",
       "1380     [Dmitry Grankin]   2024-10-24  \n",
       "1381     [Özay Demirezen]   2024-10-24  \n",
       "1382     [Özay Demirezen]   2024-10-24  \n",
       "1383     [Özay Demirezen]   2024-10-24  \n",
       "\n",
       "[1384 rows x 11 columns]"
      ]
     },
     "execution_count": 142,
     "metadata": {},
     "output_type": "execute_result"
    }
   ],
   "source": [
    "joined_df"
   ]
  },
  {
   "cell_type": "code",
   "execution_count": 143,
   "metadata": {},
   "outputs": [
    {
     "data": {
      "text/plain": [
       "1384"
      ]
     },
     "execution_count": 143,
     "metadata": {},
     "output_type": "execute_result"
    }
   ],
   "source": [
    "len(joined_df)"
   ]
  },
  {
   "cell_type": "code",
   "execution_count": 144,
   "metadata": {},
   "outputs": [
    {
     "data": {
      "text/plain": [
       "['Dmitriy Grankin',\n",
       " 'Olga Nemirovskaya',\n",
       " 'Sergey Ryabenko',\n",
       " 'Dmitry Grankin',\n",
       " 'David Sterry',\n",
       " 'Rick Tousseyn',\n",
       " 'Nikolay',\n",
       " 'nan',\n",
       " 'Alex Shevliakov',\n",
       " 'Murat Sultanov',\n",
       " 'nan (0)',\n",
       " 'Matt Lewis',\n",
       " 'Ilia Semukhin',\n",
       " 'Igor Vinidiktov',\n",
       " 'Сергей Жилко',\n",
       " 'Olga Mykhoparkina',\n",
       " 'Igor Bessonov',\n",
       " 'nan (1)',\n",
       " 'Sergio Goriachev',\n",
       " 'Andy Black',\n",
       " 'Nick Frolov',\n",
       " 'Ethan Noah',\n",
       " 'Nadya Gorodetskaya',\n",
       " 'Özay Demirezen',\n",
       " 'Lara Vargas',\n",
       " 'Jenish Mursidinov',\n",
       " 'Vasilii Glebov',\n",
       " 'Umar Lateef',\n",
       " 'Tatiana Sukhova',\n",
       " 'Сергей',\n",
       " 'nan (3)',\n",
       " 'Ilya Semukhin',\n",
       " 'ISSE',\n",
       " 'СЖ',\n",
       " 'DG',\n",
       " 'AI Marketing Directory',\n",
       " 'nan (19)',\n",
       " 'nan (2)',\n",
       " 'nan (22)']"
      ]
     },
     "execution_count": 144,
     "metadata": {},
     "output_type": "execute_result"
    }
   ],
   "source": [
    "joined_df.groupby('speaker_name').count().sort_values(by='summary_index', ascending=False).index.tolist()\n"
   ]
  },
  {
   "cell_type": "code",
   "execution_count": 101,
   "metadata": {},
   "outputs": [],
   "source": [
    "coworkers = ['Dmitriy Grankin','Sergey Ryabenko','Olga Nemirovskaya','Dmitry Grankin']"
   ]
  },
  {
   "cell_type": "code",
   "execution_count": 145,
   "metadata": {},
   "outputs": [],
   "source": [
    "selected_speakers = ['Igor Bessonov']\n"
   ]
  },
  {
   "cell_type": "code",
   "execution_count": 146,
   "metadata": {},
   "outputs": [],
   "source": [
    "filtered_df = joined_df[joined_df['speaker_name'].isin(selected_speakers)]"
   ]
  },
  {
   "cell_type": "code",
   "execution_count": 102,
   "metadata": {},
   "outputs": [],
   "source": [
    "filtered_df = joined_df[~joined_df['speaker_name'].isin(coworkers)]"
   ]
  },
  {
   "cell_type": "code",
   "execution_count": 147,
   "metadata": {},
   "outputs": [],
   "source": [
    "context = filtered_df.reset_index()[['index','speaker_name','topic_name','summary']].to_csv()\n"
   ]
  },
  {
   "cell_type": "code",
   "execution_count": 148,
   "metadata": {},
   "outputs": [
    {
     "data": {
      "text/plain": [
       "426"
      ]
     },
     "execution_count": 148,
     "metadata": {},
     "output_type": "execute_result"
    }
   ],
   "source": [
    "from core import count_tokens\n",
    "count_tokens(context)"
   ]
  },
  {
   "cell_type": "code",
   "execution_count": 149,
   "metadata": {},
   "outputs": [],
   "source": [
    "from core import generic_call_stream,system_msg,user_msg,assistant_msg\n"
   ]
  },
  {
   "cell_type": "code",
   "execution_count": 150,
   "metadata": {},
   "outputs": [],
   "source": [
    "from prompts import Prompts\n",
    "prompts = Prompts()"
   ]
  },
  {
   "cell_type": "code",
   "execution_count": 151,
   "metadata": {},
   "outputs": [
    {
     "data": {
      "text/plain": [
       "'You are Vexa, a helpful search assistant trained by Vexa AI. Your task is to deliver a concise and accurate response to a user\\'s query, drawing from the given search results. Your answer must be precise, of high-quality, and written by an expert using an unbiased and journalistic tone. It is EXTREMELY IMPORTANT to directly answer the query. NEVER say \"based on the search results\" or start your answer with a heading or title. Get straight to the point. Your answer must be written in the same language as the query, even if language preference is different.\\n\\nYou MUST cite the most relevant search results that answer the query. Do not mention any irrelevant results. You MUST ADHERE to the following instructions for citing search results: - to cite a search result, enclose its index located above the summary with brackets at the end of the corresponding sentence, for example \"Ice is less dense than water[1][2].\" or \"Paris is the capital of France[1][4][5].\" - NO SPACE between the last word and the citation, and ALWAYS use brackets. Only use this format to cite search results. NEVER include a References section at the end of your answer. - If you don\\'t know the answer or the premise is incorrect, explain why. If the search results are empty or unhelpful, answer the query as well as you can with existing knowledge.\\n\\nYou MUST NEVER use moralization or hedging language. AVOID using the following phrases: - \"It is important to ...\" - \"It is inappropriate ...\" - \"It is subjective ...\"\\n\\nYou MUST ADHERE to the following formatting instructions: - Use markdown to format paragraphs, lists, tables, and quotes whenever possible. - Use headings level 2 and 3 to separate sections of your response, like \"## Header\", but NEVER start an answer with a heading or title of any kind (i.e. Never start with #). - Use single new lines for lists and double new lines for paragraphs. - Use markdown to render images given in the search results. - NEVER write URLs or links.\\n\\nYou MUST base your answer SOLELY on the search results.\\n\\nYou MUST ALWAYS REFERENCE results with CORRECT VERIFIED INDEX in square brackets:\\n\\n    Example:\\n\\n    Alex Thompson\\'s contributions regarding blockchain technology appear focused on technical implementation. In the September 26, 2024 meeting, he discussed preparing technical documentation including architecture diagrams, code samples, and deployment guides for the Ethereum integration [0cvh]. However, in the provided search results, there are no direct discussions or statements from Alex specifically addressing blockchain consensus mechanisms or smart contract development.'"
      ]
     },
     "execution_count": 151,
     "metadata": {},
     "output_type": "execute_result"
    }
   ],
   "source": [
    "prompts.perplexity"
   ]
  },
  {
   "cell_type": "code",
   "execution_count": 152,
   "metadata": {},
   "outputs": [],
   "source": [
    "misspelled = ['Vexa.ai','TL;DV']"
   ]
  },
  {
   "cell_type": "code",
   "execution_count": 153,
   "metadata": {},
   "outputs": [
    {
     "data": {
      "text/plain": [
       "',index,speaker_name,topic_name,summary\\n0,1134,Igor Bessonov,call summary,Call summary refers to the overall analysis and insights derived from the transcribed calls.\\n1,1135,Igor Bessonov,GPT,GPT (Generative Pre-trained Transformer) is discussed as a tool for processing and generating text based on call data.\\n2,1136,Igor Bessonov,MVP,MVP (Minimum Viable Product) is discussed in relation to developing a basic version of the contact center script.\\n3,1137,Igor Bessonov,LLM,LLM (Large Language Model) is referenced in the context of processing call data and generating insights.\\n4,1140,Igor Bessonov,contact center,\"The contact center is a key focus of the meeting, with discussions on creating scripts and improving call handling.\"\\n5,1142,Igor Bessonov,Igor Bessonov,\"Igor Bessonov is a speaker in the meeting, collaborating with Dmitriy on AI and contact center projects.\"\\n6,1144,Igor Bessonov,Training contact center agents,Develop training materials based on analyzed call data to improve agent performance.\\n7,1146,Igor Bessonov,Filtering and categorizing calls,Implement a system to filter and categorize calls based on their quality and relevance.\\n8,1147,Igor Bessonov,real estate,\"Real estate is a business area discussed in the meeting, particularly in relation to the contact center project.\"\\n9,1148,Igor Bessonov,script,The script refers to the development of a call script for the contact center to improve customer interactions.\\n10,1149,Igor Bessonov,Transcription of calls,Transcribe a large volume of calls into text format for further analysis and script development.\\n11,1152,Igor Bessonov,Creation of a call script for a contact center,\"Develop a structured call script for a contact center that specializes in real estate rental businesses, focusing on best practices and handling objections.\"\\n'"
      ]
     },
     "execution_count": 153,
     "metadata": {},
     "output_type": "execute_result"
    }
   ],
   "source": [
    "context"
   ]
  },
  {
   "cell_type": "code",
   "execution_count": 156,
   "metadata": {},
   "outputs": [
    {
     "name": "stdout",
     "output_type": "stream",
     "text": [
      "The context revolves around a series of meetings led by Igor Bessonov, focusing on the development and improvement of a contact center, particularly in the real estate sector. Key topics discussed include:\n",
      "\n",
      "- **Call Summary**: Analyzing insights from transcribed calls to enhance operations.\n",
      "  \n",
      "- **GPT and LLM**: Utilizing Generative Pre-trained Transformers and Large Language Models for processing call data and generating insights.\n",
      "\n",
      "- **MVP Development**: Creating a Minimum Viable Product for a contact center script to streamline customer interactions.\n",
      "\n",
      "- **Training Materials**: Developing training resources based on analyzed call data to boost agent performance.\n",
      "\n",
      "- **Call Filtering**: Implementing systems to filter and categorize calls by quality and relevance.\n",
      "\n",
      "- **Script Development**: Crafting a structured call script tailored for real estate rental businesses, focusing on best practices and objection handling.\n",
      "\n",
      "Overall, the meetings emphasize leveraging AI and data analysis to enhance the effectiveness of the contact center operations.\n"
     ]
    }
   ],
   "source": [
    "r = await generic_call_stream([\n",
    "    system_msg(f'''{prompts.perplexity}. \n",
    "               You user is Dmitry Grankin, who is your user, who also participates the meetings in the context. \n",
    "               '''),\n",
    "    system_msg(f'''Today is {pd.to_datetime('today').strftime('%Y-%m-%d')}.'''),\n",
    "    system_msg('''Frequently misspelled names and terms: {misspelled}. Replace misspelled company names and terms if found in context.'''),\n",
    "    \n",
    "    user_msg(f'search results: {context}. Give comprehensive answer based on the context only. Interprete user question based on the context and the context based on the question.'),\n",
    "    \n",
    "    user_msg('''summarize the context''')\n",
    "],model='default')"
   ]
  },
  {
   "cell_type": "code",
   "execution_count": 157,
   "metadata": {},
   "outputs": [
    {
     "data": {
      "text/markdown": [
       "The context revolves around a series of meetings led by Igor Bessonov, focusing on the development and improvement of a contact center, particularly in the real estate sector. Key topics discussed include:\n",
       "\n",
       "- **Call Summary**: Analyzing insights from transcribed calls to enhance operations.\n",
       "  \n",
       "- **GPT and LLM**: Utilizing Generative Pre-trained Transformers and Large Language Models for processing call data and generating insights.\n",
       "\n",
       "- **MVP Development**: Creating a Minimum Viable Product for a contact center script to streamline customer interactions.\n",
       "\n",
       "- **Training Materials**: Developing training resources based on analyzed call data to boost agent performance.\n",
       "\n",
       "- **Call Filtering**: Implementing systems to filter and categorize calls by quality and relevance.\n",
       "\n",
       "- **Script Development**: Crafting a structured call script tailored for real estate rental businesses, focusing on best practices and objection handling.\n",
       "\n",
       "Overall, the meetings emphasize leveraging AI and data analysis to enhance the effectiveness of the contact center operations."
      ],
      "text/plain": [
       "<IPython.core.display.Markdown object>"
      ]
     },
     "execution_count": 157,
     "metadata": {},
     "output_type": "execute_result"
    }
   ],
   "source": [
    "from IPython.display import Markdown\n",
    "Markdown(r)"
   ]
  },
  {
   "cell_type": "code",
   "execution_count": null,
   "metadata": {},
   "outputs": [],
   "source": []
  },
  {
   "cell_type": "code",
   "execution_count": null,
   "metadata": {},
   "outputs": [
    {
     "data": {
      "text/markdown": [
       "Olga Nemirovskaya discusses several aspects of SEO in the context of their marketing strategies. She emphasizes the importance of internal linking and domain authority as critical factors for SEO success. Olga explains that internal linking helps improve search rankings and that building domain authority through quality backlinks is essential for enhancing visibility.\n",
       "\n",
       "Additionally, she mentions the need for clear messaging on their website to improve client understanding and engagement, which ties into SEO practices. Olga also highlights the significance of using tools like Surfer SEO for optimizing content based on competitive analysis, indicating that they have been using it successfully for several years to improve their articles' performance in search engines[1][2][3][4]."
      ],
      "text/plain": [
       "<IPython.core.display.Markdown object>"
      ]
     },
     "execution_count": 68,
     "metadata": {},
     "output_type": "execute_result"
    }
   ],
   "source": [
    "Markdown(r)"
   ]
  },
  {
   "cell_type": "code",
   "execution_count": null,
   "metadata": {},
   "outputs": [],
   "source": []
  }
 ],
 "metadata": {
  "kernelspec": {
   "display_name": "langchain",
   "language": "python",
   "name": "python3"
  },
  "language_info": {
   "codemirror_mode": {
    "name": "ipython",
    "version": 3
   },
   "file_extension": ".py",
   "mimetype": "text/x-python",
   "name": "python",
   "nbconvert_exporter": "python",
   "pygments_lexer": "ipython3",
   "version": "3.11.2"
  }
 },
 "nbformat": 4,
 "nbformat_minor": 2
}
