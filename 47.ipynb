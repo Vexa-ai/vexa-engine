{
 "cells": [
  {
   "cell_type": "code",
   "execution_count": 17,
   "metadata": {},
   "outputs": [],
   "source": [
    "from indexing_newv2 import RedisMonitor\n",
    "\n",
    "# Example monitoring usage"
   ]
  },
  {
   "cell_type": "code",
   "execution_count": 18,
   "metadata": {},
   "outputs": [],
   "source": [
    "from redis import Redis\n",
    "import os\n"
   ]
  },
  {
   "cell_type": "code",
   "execution_count": 19,
   "metadata": {},
   "outputs": [],
   "source": [
    "redis = Redis(\n",
    "            host=os.getenv('REDIS_HOST', '127.0.0.1'),\n",
    "            port=int(os.getenv('REDIS_PORT', 6379)),\n",
    "            db=0,\n",
    "            decode_responses=True,\n",
    "            max_connections=10,  # Add connection pooling\n",
    "            socket_timeout=5\n",
    "        )"
   ]
  },
  {
   "cell_type": "code",
   "execution_count": 20,
   "metadata": {},
   "outputs": [],
   "source": [
    "redis_stats = RedisMonitor(redis)\n"
   ]
  },
  {
   "cell_type": "code",
   "execution_count": 21,
   "metadata": {},
   "outputs": [
    {
     "data": {
      "text/plain": [
       "{'users': {'count': 3,\n",
       "  'items': ['d47466b3-fb76-42ea-8ed2-0d05f1a64486',\n",
       "   '638129fd-9722-4430-bd1d-cd3f9a0c3dd6',\n",
       "   '8b767b85-44fb-4c20-97df-7aa172242273']},\n",
       " 'meetings': {'queued': {'count': 19,\n",
       "   'items': [{'id': '8d0f7a03-3f3f-4f1e-b1db-3bc9cbbc400b',\n",
       "     'score': 1731346871.790121},\n",
       "    {'id': 'de9d41b3-7ad5-41bb-8bc7-e89e7fb0b4bd', 'score': 1731347247.698531},\n",
       "    {'id': '04a30805-51aa-44f8-a276-db94dc0e2003', 'score': 1731347253.402036},\n",
       "    {'id': '2620dfe1-8fd0-4754-bf61-82597a7c5c01', 'score': 1731347258.837498},\n",
       "    {'id': '80605c49-1b3c-4c4b-8297-7e353ea9d61a', 'score': 1731347264.210579},\n",
       "    {'id': '99ace047-9f56-42d0-a3d4-0c8e94aa35f0', 'score': 1731347269.614711},\n",
       "    {'id': '2282ae72-ce59-4313-aaea-f165c021048d', 'score': 1731347275.03356},\n",
       "    {'id': '43fb56ac-c1cc-4aae-be6c-994d4e148172', 'score': 1731347280.508847},\n",
       "    {'id': '9d474f0c-4b20-45b8-9beb-29bd4cc490f3', 'score': 1731347285.867245},\n",
       "    {'id': 'd01ae506-7435-4185-83ae-149a00752adc', 'score': 1731347291.295327},\n",
       "    {'id': '083f0f3c-50d1-4da1-8e43-6ebd50fc6c49', 'score': 1731347296.704894},\n",
       "    {'id': '6e7334f3-544b-4b0a-a787-cf7299d45579', 'score': 1731347301.759792},\n",
       "    {'id': '91ddb24a-2249-413a-b276-4a9751178e7d', 'score': 1731347307.150211},\n",
       "    {'id': '6fb41ae1-e7ae-4005-9d00-6e6f665bb674', 'score': 1731347307.165702},\n",
       "    {'id': '7a226103-d15b-4161-af48-09f59d45a746', 'score': 1731347312.554872},\n",
       "    {'id': 'd0e183f7-7c10-40f9-95b1-ee32ae7aeb93', 'score': 1731347317.988314},\n",
       "    {'id': '66ee1528-ed7f-407e-b83a-a5c4db99265b', 'score': 1731347323.403403},\n",
       "    {'id': '70e897dc-f229-4d99-89bf-1808908e717c', 'score': 1731347328.826749},\n",
       "    {'id': '6c73fd4e-bba9-4057-b0f9-0a550b82d993',\n",
       "     'score': 1731347334.230851}]},\n",
       "  'processing': {'count': 19,\n",
       "   'items': ['6fb41ae1-e7ae-4005-9d00-6e6f665bb674',\n",
       "    '083f0f3c-50d1-4da1-8e43-6ebd50fc6c49',\n",
       "    '2620dfe1-8fd0-4754-bf61-82597a7c5c01',\n",
       "    '9d474f0c-4b20-45b8-9beb-29bd4cc490f3',\n",
       "    '6e7334f3-544b-4b0a-a787-cf7299d45579',\n",
       "    '2282ae72-ce59-4313-aaea-f165c021048d',\n",
       "    '7a226103-d15b-4161-af48-09f59d45a746',\n",
       "    '6c73fd4e-bba9-4057-b0f9-0a550b82d993',\n",
       "    '66ee1528-ed7f-407e-b83a-a5c4db99265b',\n",
       "    '70e897dc-f229-4d99-89bf-1808908e717c',\n",
       "    '99ace047-9f56-42d0-a3d4-0c8e94aa35f0',\n",
       "    '43fb56ac-c1cc-4aae-be6c-994d4e148172',\n",
       "    '04a30805-51aa-44f8-a276-db94dc0e2003',\n",
       "    '91ddb24a-2249-413a-b276-4a9751178e7d',\n",
       "    '80605c49-1b3c-4c4b-8297-7e353ea9d61a',\n",
       "    '8d0f7a03-3f3f-4f1e-b1db-3bc9cbbc400b',\n",
       "    'd01ae506-7435-4185-83ae-149a00752adc',\n",
       "    'd0e183f7-7c10-40f9-95b1-ee32ae7aeb93',\n",
       "    'de9d41b3-7ad5-41bb-8bc7-e89e7fb0b4bd']},\n",
       "  'failed': {'count': 0, 'items': {}},\n",
       "  'retries': {}}}"
      ]
     },
     "execution_count": 21,
     "metadata": {},
     "output_type": "execute_result"
    }
   ],
   "source": [
    "redis_stats.get_pipeline_stats()"
   ]
  },
  {
   "cell_type": "code",
   "execution_count": 30,
   "metadata": {},
   "outputs": [],
   "source": [
    "from psql_models import Meeting\n",
    "from psql_helpers import read_table_async\n",
    "from sqlalchemy import select, and_\n",
    "from psql_models import UserToken, UserMeeting,Meeting,User, User\n",
    "\n",
    "meetings = await read_table_async(Meeting)\n"
   ]
  },
  {
   "cell_type": "code",
   "execution_count": 31,
   "metadata": {},
   "outputs": [
    {
     "data": {
      "text/plain": [
       "psql_models.User"
      ]
     },
     "execution_count": 31,
     "metadata": {},
     "output_type": "execute_result"
    }
   ],
   "source": [
    "User"
   ]
  },
  {
   "cell_type": "code",
   "execution_count": 32,
   "metadata": {},
   "outputs": [],
   "source": [
    "query = select(User.email,Meeting).join(UserMeeting, User.id == UserMeeting.user_id).join(Meeting, UserMeeting.meeting_id == Meeting.meeting_id)\n",
    "users = await read_table_async(query)"
   ]
  },
  {
   "cell_type": "code",
   "execution_count": 33,
   "metadata": {},
   "outputs": [
    {
     "data": {
      "text/html": [
       "<div>\n",
       "<style scoped>\n",
       "    .dataframe tbody tr th:only-of-type {\n",
       "        vertical-align: middle;\n",
       "    }\n",
       "\n",
       "    .dataframe tbody tr th {\n",
       "        vertical-align: top;\n",
       "    }\n",
       "\n",
       "    .dataframe thead th {\n",
       "        text-align: right;\n",
       "    }\n",
       "</style>\n",
       "<table border=\"1\" class=\"dataframe\">\n",
       "  <thead>\n",
       "    <tr style=\"text-align: right;\">\n",
       "      <th></th>\n",
       "    </tr>\n",
       "  </thead>\n",
       "  <tbody>\n",
       "  </tbody>\n",
       "</table>\n",
       "</div>"
      ],
      "text/plain": [
       "Empty DataFrame\n",
       "Columns: []\n",
       "Index: []"
      ]
     },
     "execution_count": 33,
     "metadata": {},
     "output_type": "execute_result"
    }
   ],
   "source": [
    "users"
   ]
  },
  {
   "cell_type": "code",
   "execution_count": 34,
   "metadata": {},
   "outputs": [],
   "source": [
    "from uuid import UUID"
   ]
  },
  {
   "cell_type": "code",
   "execution_count": 11,
   "metadata": {},
   "outputs": [
    {
     "data": {
      "text/html": [
       "<div>\n",
       "<style scoped>\n",
       "    .dataframe tbody tr th:only-of-type {\n",
       "        vertical-align: middle;\n",
       "    }\n",
       "\n",
       "    .dataframe tbody tr th {\n",
       "        vertical-align: top;\n",
       "    }\n",
       "\n",
       "    .dataframe thead th {\n",
       "        text-align: right;\n",
       "    }\n",
       "</style>\n",
       "<table border=\"1\" class=\"dataframe\">\n",
       "  <thead>\n",
       "    <tr style=\"text-align: right;\">\n",
       "      <th></th>\n",
       "      <th>email</th>\n",
       "      <th>meetings_id</th>\n",
       "      <th>meetings_meeting_id</th>\n",
       "      <th>meetings_transcript</th>\n",
       "      <th>meetings_timestamp</th>\n",
       "      <th>meetings_meeting_name</th>\n",
       "      <th>meetings_meeting_summary</th>\n",
       "    </tr>\n",
       "  </thead>\n",
       "  <tbody>\n",
       "    <tr>\n",
       "      <th>22</th>\n",
       "      <td>olganemirovskaya@gmail.com</td>\n",
       "      <td>23</td>\n",
       "      <td>6cb93941-cb17-4a61-8581-381975276562</td>\n",
       "      <td>None</td>\n",
       "      <td>2024-06-14 09:00:40.341191</td>\n",
       "      <td>Обсуждение использования технологий для работы...</td>\n",
       "      <td>Iron Bear интересовалась дополнительной информ...</td>\n",
       "    </tr>\n",
       "  </tbody>\n",
       "</table>\n",
       "</div>"
      ],
      "text/plain": [
       "                         email  meetings_id  \\\n",
       "22  olganemirovskaya@gmail.com           23   \n",
       "\n",
       "                     meetings_meeting_id meetings_transcript  \\\n",
       "22  6cb93941-cb17-4a61-8581-381975276562                None   \n",
       "\n",
       "           meetings_timestamp  \\\n",
       "22 2024-06-14 09:00:40.341191   \n",
       "\n",
       "                                meetings_meeting_name  \\\n",
       "22  Обсуждение использования технологий для работы...   \n",
       "\n",
       "                             meetings_meeting_summary  \n",
       "22  Iron Bear интересовалась дополнительной информ...  "
      ]
     },
     "execution_count": 11,
     "metadata": {},
     "output_type": "execute_result"
    }
   ],
   "source": [
    "users[users['meetings_meeting_id']==UUID('6cb93941-cb17-4a61-8581-381975276562')]"
   ]
  },
  {
   "cell_type": "code",
   "execution_count": 12,
   "metadata": {},
   "outputs": [
    {
     "data": {
      "text/plain": [
       "array(['chamisluizaduarte@gmail.com', 'olganemirovskaya@gmail.com',\n",
       "       'robert.hangu@gmail.com'], dtype=object)"
      ]
     },
     "execution_count": 12,
     "metadata": {},
     "output_type": "execute_result"
    }
   ],
   "source": [
    "users['email'].unique()"
   ]
  },
  {
   "cell_type": "code",
   "execution_count": 14,
   "metadata": {},
   "outputs": [
    {
     "data": {
      "text/html": [
       "<div>\n",
       "<style scoped>\n",
       "    .dataframe tbody tr th:only-of-type {\n",
       "        vertical-align: middle;\n",
       "    }\n",
       "\n",
       "    .dataframe tbody tr th {\n",
       "        vertical-align: top;\n",
       "    }\n",
       "\n",
       "    .dataframe thead th {\n",
       "        text-align: right;\n",
       "    }\n",
       "</style>\n",
       "<table border=\"1\" class=\"dataframe\">\n",
       "  <thead>\n",
       "    <tr style=\"text-align: right;\">\n",
       "      <th></th>\n",
       "      <th>id</th>\n",
       "      <th>email</th>\n",
       "      <th>username</th>\n",
       "      <th>first_name</th>\n",
       "      <th>last_name</th>\n",
       "      <th>image</th>\n",
       "      <th>created_timestamp</th>\n",
       "      <th>updated_timestamp</th>\n",
       "    </tr>\n",
       "  </thead>\n",
       "  <tbody>\n",
       "    <tr>\n",
       "      <th>0</th>\n",
       "      <td>638129fd-9722-4430-bd1d-cd3f9a0c3dd6</td>\n",
       "      <td>chamisluizaduarte@gmail.com</td>\n",
       "      <td>Luiza Duarte</td>\n",
       "      <td>Luiza</td>\n",
       "      <td>Duarte</td>\n",
       "      <td>https://lh3.googleusercontent.com/a/ACg8ocJaEv...</td>\n",
       "      <td>2024-11-11 15:14:46.437837+00:00</td>\n",
       "      <td>2024-11-11 12:14:46.439107+00:00</td>\n",
       "    </tr>\n",
       "    <tr>\n",
       "      <th>1</th>\n",
       "      <td>8b767b85-44fb-4c20-97df-7aa172242273</td>\n",
       "      <td>olganemirovskaya@gmail.com</td>\n",
       "      <td>Olga Nemirovskaya</td>\n",
       "      <td>Olga</td>\n",
       "      <td>Nemirovskaya</td>\n",
       "      <td>https://lh3.googleusercontent.com/a/ACg8ocKR1i...</td>\n",
       "      <td>2024-11-11 15:31:02.759385+00:00</td>\n",
       "      <td>2024-11-11 12:31:02.760192+00:00</td>\n",
       "    </tr>\n",
       "    <tr>\n",
       "      <th>2</th>\n",
       "      <td>e77e9304-9adb-4654-9a9e-3d66fad3f3ac</td>\n",
       "      <td>robert.hangu@gmail.com</td>\n",
       "      <td>Robert Hangu</td>\n",
       "      <td>Robert</td>\n",
       "      <td>Hangu</td>\n",
       "      <td>https://lh3.googleusercontent.com/a/ACg8ocLU0b...</td>\n",
       "      <td>2024-11-11 15:31:04.758017+00:00</td>\n",
       "      <td>2024-11-11 12:31:04.758683+00:00</td>\n",
       "    </tr>\n",
       "    <tr>\n",
       "      <th>3</th>\n",
       "      <td>c93eb171-1923-4992-8b49-f7ae5c9d19a7</td>\n",
       "      <td>2280905@gmail.com</td>\n",
       "      <td>Dmitriy Grankin</td>\n",
       "      <td>Dmitriy</td>\n",
       "      <td>Grankin</td>\n",
       "      <td>https://lh3.googleusercontent.com/a/ACg8ocLu4Z...</td>\n",
       "      <td>2024-11-11 15:40:13.460938+00:00</td>\n",
       "      <td>2024-11-11 15:40:13.460950+00:00</td>\n",
       "    </tr>\n",
       "  </tbody>\n",
       "</table>\n",
       "</div>"
      ],
      "text/plain": [
       "                                     id                        email  \\\n",
       "0  638129fd-9722-4430-bd1d-cd3f9a0c3dd6  chamisluizaduarte@gmail.com   \n",
       "1  8b767b85-44fb-4c20-97df-7aa172242273   olganemirovskaya@gmail.com   \n",
       "2  e77e9304-9adb-4654-9a9e-3d66fad3f3ac       robert.hangu@gmail.com   \n",
       "3  c93eb171-1923-4992-8b49-f7ae5c9d19a7            2280905@gmail.com   \n",
       "\n",
       "            username first_name     last_name  \\\n",
       "0       Luiza Duarte      Luiza        Duarte   \n",
       "1  Olga Nemirovskaya       Olga  Nemirovskaya   \n",
       "2       Robert Hangu     Robert         Hangu   \n",
       "3    Dmitriy Grankin    Dmitriy       Grankin   \n",
       "\n",
       "                                               image  \\\n",
       "0  https://lh3.googleusercontent.com/a/ACg8ocJaEv...   \n",
       "1  https://lh3.googleusercontent.com/a/ACg8ocKR1i...   \n",
       "2  https://lh3.googleusercontent.com/a/ACg8ocLU0b...   \n",
       "3  https://lh3.googleusercontent.com/a/ACg8ocLu4Z...   \n",
       "\n",
       "                 created_timestamp                updated_timestamp  \n",
       "0 2024-11-11 15:14:46.437837+00:00 2024-11-11 12:14:46.439107+00:00  \n",
       "1 2024-11-11 15:31:02.759385+00:00 2024-11-11 12:31:02.760192+00:00  \n",
       "2 2024-11-11 15:31:04.758017+00:00 2024-11-11 12:31:04.758683+00:00  \n",
       "3 2024-11-11 15:40:13.460938+00:00 2024-11-11 15:40:13.460950+00:00  "
      ]
     },
     "execution_count": 14,
     "metadata": {},
     "output_type": "execute_result"
    }
   ],
   "source": [
    "await read_table_async(User)"
   ]
  },
  {
   "cell_type": "code",
   "execution_count": null,
   "metadata": {},
   "outputs": [],
   "source": []
  },
  {
   "cell_type": "code",
   "execution_count": null,
   "metadata": {},
   "outputs": [],
   "source": [
    "\n",
    "    \n",
    "    \n",
    "    # Get basic queue stats\n",
    "    stats = pipeline.get_queue_stats()\n",
    "    print(stats.to_dict())\n",
    "    \n",
    "    # Get detailed stats including database info\n",
    "    detailed_stats = await pipeline.get_detailed_stats()\n",
    "    print(json.dumps(detailed_stats, indent=2))\n",
    "    \n",
    "    # Retry failed meetings\n",
    "    retry_result = await pipeline.retry_failed_meetings()\n",
    "    print(retry_result)\n",
    "    \n",
    "    # Remove a specific meeting\n",
    "    remove_result = await pipeline.remove_meeting(\"meeting_id_here\")\n",
    "    print(remove_result)"
   ]
  }
 ],
 "metadata": {
  "kernelspec": {
   "display_name": "langchain",
   "language": "python",
   "name": "python3"
  },
  "language_info": {
   "codemirror_mode": {
    "name": "ipython",
    "version": 3
   },
   "file_extension": ".py",
   "mimetype": "text/x-python",
   "name": "python",
   "nbconvert_exporter": "python",
   "pygments_lexer": "ipython3",
   "version": "3.11.2"
  }
 },
 "nbformat": 4,
 "nbformat_minor": 2
}
