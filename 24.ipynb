{
 "cells": [
  {
   "cell_type": "code",
   "execution_count": 1,
   "metadata": {},
   "outputs": [],
   "source": [
    "%reload_ext autoreload\n",
    "%autoreload 2"
   ]
  },
  {
   "cell_type": "code",
   "execution_count": 2,
   "metadata": {},
   "outputs": [],
   "source": [
    "from search import SearchAssistant\n",
    "\n",
    "from pydantic_models import ParsedSearchRequest"
   ]
  },
  {
   "cell_type": "code",
   "execution_count": 3,
   "metadata": {},
   "outputs": [
    {
     "name": "stdout",
     "output_type": "stream",
     "text": [
      "User information retrieved successfully.\n"
     ]
    },
    {
     "data": {
      "text/plain": [
       "{'id': 'ef7c085b-fdb5-4c94-b7b6-a61a3d04c210',\n",
       " 'email': '2280905@gmail.com',\n",
       " 'is_allowed_send_init_message': True,\n",
       " 'username': 'Dmitriy Grankin',\n",
       " 'first_name': 'Dmitriy',\n",
       " 'last_name': 'Grankin',\n",
       " 'image': 'https://lh3.googleusercontent.com/a/ACg8ocLu4ZPfzj9KFNVqKL3NTF4SXUYvJ4mwoXLuoQ0BZzjw7OBIRA=s96-c',\n",
       " 'created_timestamp': '2024-05-28T11:16:50.894711Z',\n",
       " 'updated_timestamp': '2024-10-18T08:47:02.519781Z'}"
      ]
     },
     "execution_count": 3,
     "metadata": {},
     "output_type": "execute_result"
    }
   ],
   "source": [
    "from vexa import VexaAPI\n",
    "vexa = VexaAPI()\n",
    "await vexa.get_user_info()\n"
   ]
  },
  {
   "cell_type": "code",
   "execution_count": 79,
   "metadata": {},
   "outputs": [],
   "source": [
    "query = 'competitors'\n",
    "r = await ParsedSearchRequest.parse_request(query)"
   ]
  },
  {
   "cell_type": "code",
   "execution_count": 80,
   "metadata": {},
   "outputs": [
    {
     "data": {
      "text/plain": [
       "ParsedSearchRequest(search_queries=[SearchQuery(query='competitors'), SearchQuery(query='competitive analysis'), SearchQuery(query='market competition'), SearchQuery(query='rival companies'), SearchQuery(query='industry competitors'), SearchQuery(query='competitor strategies'), SearchQuery(query='competitor performance'), SearchQuery(query='competitor landscape'), SearchQuery(query='competing products'), SearchQuery(query='competitive positioning')])"
      ]
     },
     "execution_count": 80,
     "metadata": {},
     "output_type": "execute_result"
    }
   ],
   "source": [
    "r"
   ]
  },
  {
   "cell_type": "code",
   "execution_count": 81,
   "metadata": {},
   "outputs": [
    {
     "data": {
      "text/plain": [
       "['competitors',\n",
       " 'competitive analysis',\n",
       " 'market competition',\n",
       " 'rival companies',\n",
       " 'industry competitors',\n",
       " 'competitor strategies',\n",
       " 'competitor performance',\n",
       " 'competitor landscape',\n",
       " 'competing products',\n",
       " 'competitive positioning']"
      ]
     },
     "execution_count": 81,
     "metadata": {},
     "output_type": "execute_result"
    }
   ],
   "source": [
    "queries = [q.query for q in r.search_queries]\n",
    "queries"
   ]
  },
  {
   "cell_type": "code",
   "execution_count": 82,
   "metadata": {},
   "outputs": [
    {
     "data": {
      "text/plain": [
       "'ef7c085b-fdb5-4c94-b7b6-a61a3d04c210'"
      ]
     },
     "execution_count": 82,
     "metadata": {},
     "output_type": "execute_result"
    }
   ],
   "source": [
    "vexa.user_id"
   ]
  },
  {
   "cell_type": "code",
   "execution_count": 83,
   "metadata": {},
   "outputs": [],
   "source": [
    "output = ''"
   ]
  },
  {
   "cell_type": "code",
   "execution_count": 84,
   "metadata": {},
   "outputs": [],
   "source": [
    "import pandas as pd"
   ]
  },
  {
   "cell_type": "code",
   "execution_count": 85,
   "metadata": {},
   "outputs": [],
   "source": [
    "# Initialize the search assistant\n",
    "self = SearchAssistant()\n",
    "await self.initialize()"
   ]
  },
  {
   "cell_type": "code",
   "execution_count": 86,
   "metadata": {},
   "outputs": [
    {
     "name": "stderr",
     "output_type": "stream",
     "text": [
      "/home/dima/playground/vexa_multiassistant/back/search.py:99: FutureWarning: The behavior of DataFrame concatenation with empty or all-NA entries is deprecated. In a future version, this will no longer exclude empty or all-NA columns when determining the result dtypes. To retain the old behavior, exclude the relevant entries before the concat operation.\n",
      "  results = pd.concat([main_df, speaker_df]).drop_duplicates(subset=columns).reset_index(drop=True)\n",
      "/home/dima/playground/vexa_multiassistant/back/search.py:99: FutureWarning: The behavior of DataFrame concatenation with empty or all-NA entries is deprecated. In a future version, this will no longer exclude empty or all-NA columns when determining the result dtypes. To retain the old behavior, exclude the relevant entries before the concat operation.\n",
      "  results = pd.concat([main_df, speaker_df]).drop_duplicates(subset=columns).reset_index(drop=True)\n",
      "/home/dima/playground/vexa_multiassistant/back/search.py:99: FutureWarning: The behavior of DataFrame concatenation with empty or all-NA entries is deprecated. In a future version, this will no longer exclude empty or all-NA columns when determining the result dtypes. To retain the old behavior, exclude the relevant entries before the concat operation.\n",
      "  results = pd.concat([main_df, speaker_df]).drop_duplicates(subset=columns).reset_index(drop=True)\n",
      "/home/dima/playground/vexa_multiassistant/back/search.py:99: FutureWarning: The behavior of DataFrame concatenation with empty or all-NA entries is deprecated. In a future version, this will no longer exclude empty or all-NA columns when determining the result dtypes. To retain the old behavior, exclude the relevant entries before the concat operation.\n",
      "  results = pd.concat([main_df, speaker_df]).drop_duplicates(subset=columns).reset_index(drop=True)\n",
      "/home/dima/playground/vexa_multiassistant/back/search.py:99: FutureWarning: The behavior of DataFrame concatenation with empty or all-NA entries is deprecated. In a future version, this will no longer exclude empty or all-NA columns when determining the result dtypes. To retain the old behavior, exclude the relevant entries before the concat operation.\n",
      "  results = pd.concat([main_df, speaker_df]).drop_duplicates(subset=columns).reset_index(drop=True)\n",
      "/home/dima/playground/vexa_multiassistant/back/search.py:99: FutureWarning: The behavior of DataFrame concatenation with empty or all-NA entries is deprecated. In a future version, this will no longer exclude empty or all-NA columns when determining the result dtypes. To retain the old behavior, exclude the relevant entries before the concat operation.\n",
      "  results = pd.concat([main_df, speaker_df]).drop_duplicates(subset=columns).reset_index(drop=True)\n",
      "/home/dima/playground/vexa_multiassistant/back/search.py:99: FutureWarning: The behavior of DataFrame concatenation with empty or all-NA entries is deprecated. In a future version, this will no longer exclude empty or all-NA columns when determining the result dtypes. To retain the old behavior, exclude the relevant entries before the concat operation.\n",
      "  results = pd.concat([main_df, speaker_df]).drop_duplicates(subset=columns).reset_index(drop=True)\n",
      "/home/dima/playground/vexa_multiassistant/back/search.py:99: FutureWarning: The behavior of DataFrame concatenation with empty or all-NA entries is deprecated. In a future version, this will no longer exclude empty or all-NA columns when determining the result dtypes. To retain the old behavior, exclude the relevant entries before the concat operation.\n",
      "  results = pd.concat([main_df, speaker_df]).drop_duplicates(subset=columns).reset_index(drop=True)\n",
      "/home/dima/playground/vexa_multiassistant/back/search.py:99: FutureWarning: The behavior of DataFrame concatenation with empty or all-NA entries is deprecated. In a future version, this will no longer exclude empty or all-NA columns when determining the result dtypes. To retain the old behavior, exclude the relevant entries before the concat operation.\n",
      "  results = pd.concat([main_df, speaker_df]).drop_duplicates(subset=columns).reset_index(drop=True)\n",
      "/home/dima/playground/vexa_multiassistant/back/search.py:99: FutureWarning: The behavior of DataFrame concatenation with empty or all-NA entries is deprecated. In a future version, this will no longer exclude empty or all-NA columns when determining the result dtypes. To retain the old behavior, exclude the relevant entries before the concat operation.\n",
      "  results = pd.concat([main_df, speaker_df]).drop_duplicates(subset=columns).reset_index(drop=True)\n"
     ]
    }
   ],
   "source": [
    "search_results = [await self.search(query) for query in queries]"
   ]
  },
  {
   "cell_type": "code",
   "execution_count": 87,
   "metadata": {},
   "outputs": [],
   "source": [
    "search_results\n",
    "search_results = pd.concat(search_results)"
   ]
  },
  {
   "cell_type": "code",
   "execution_count": 88,
   "metadata": {},
   "outputs": [],
   "source": [
    "search_results['relevance_score'] = self.normalize_series(search_results['score']).round(2)"
   ]
  },
  {
   "cell_type": "code",
   "execution_count": 89,
   "metadata": {},
   "outputs": [],
   "source": [
    "search_results = search_results[search_results['score']>0.49]"
   ]
  },
  {
   "cell_type": "code",
   "execution_count": 90,
   "metadata": {},
   "outputs": [
    {
     "data": {
      "text/html": [
       "<div>\n",
       "<style scoped>\n",
       "    .dataframe tbody tr th:only-of-type {\n",
       "        vertical-align: middle;\n",
       "    }\n",
       "\n",
       "    .dataframe tbody tr th {\n",
       "        vertical-align: top;\n",
       "    }\n",
       "\n",
       "    .dataframe thead th {\n",
       "        text-align: right;\n",
       "    }\n",
       "</style>\n",
       "<table border=\"1\" class=\"dataframe\">\n",
       "  <thead>\n",
       "    <tr style=\"text-align: right;\">\n",
       "      <th></th>\n",
       "      <th>topic_name</th>\n",
       "      <th>speaker_name</th>\n",
       "      <th>summary</th>\n",
       "      <th>details</th>\n",
       "      <th>meeting_id</th>\n",
       "      <th>timestamp</th>\n",
       "      <th>score</th>\n",
       "      <th>vector_scores</th>\n",
       "      <th>exact_matches</th>\n",
       "      <th>source</th>\n",
       "      <th>relevance_score</th>\n",
       "    </tr>\n",
       "  </thead>\n",
       "  <tbody>\n",
       "    <tr>\n",
       "      <th>0</th>\n",
       "      <td>Competitors</td>\n",
       "      <td>Tempest Dragon</td>\n",
       "      <td>Competitors are mentioned in the context of an...</td>\n",
       "      <td>The participants discuss the need to analyze c...</td>\n",
       "      <td>54b5f83d-d970-49fc-bf83-325b0dca738e</td>\n",
       "      <td>2024-08-14T19:04:14.740598</td>\n",
       "      <td>1.400000</td>\n",
       "      <td>{'topic_name': 0.65, 'summary': 0.5315187, 'de...</td>\n",
       "      <td>[topic_name, summary, details, topic_name, sum...</td>\n",
       "      <td>main</td>\n",
       "      <td>0.88</td>\n",
       "    </tr>\n",
       "    <tr>\n",
       "      <th>1</th>\n",
       "      <td>Identify key competitors for analysis</td>\n",
       "      <td>Dmitriy Grankin</td>\n",
       "      <td>Dmitrii Bashkirov and Dmitriy Grankin discusse...</td>\n",
       "      <td>Competitors selected for analysis include Fato...</td>\n",
       "      <td>ae547dc7-22b0-4628-a715-4d0377adfc6c</td>\n",
       "      <td>2024-09-04T11:23:50.070000</td>\n",
       "      <td>1.038165</td>\n",
       "      <td>{'topic_name': 0.5190824, 'details': 0.4789890...</td>\n",
       "      <td>[topic_name, details, summary, topic_name, det...</td>\n",
       "      <td>main</td>\n",
       "      <td>0.71</td>\n",
       "    </tr>\n",
       "    <tr>\n",
       "      <th>2</th>\n",
       "      <td>Analyze competitors' posts</td>\n",
       "      <td>Tempest Dragon</td>\n",
       "      <td>Research and analyze successful posts from com...</td>\n",
       "      <td>The team discussed the importance of analyzing...</td>\n",
       "      <td>54b5f83d-d970-49fc-bf83-325b0dca738e</td>\n",
       "      <td>2024-08-14T19:04:14.740598</td>\n",
       "      <td>1.001882</td>\n",
       "      <td>{'topic_name': 0.5009411, 'details': 0.4493990...</td>\n",
       "      <td>[topic_name, details, summary, topic_name, det...</td>\n",
       "      <td>main</td>\n",
       "      <td>0.69</td>\n",
       "    </tr>\n",
       "    <tr>\n",
       "      <th>3</th>\n",
       "      <td>Analyze competitors' content strategies</td>\n",
       "      <td>Rufina Osmonalieva</td>\n",
       "      <td>The team agreed to analyze competitors' succes...</td>\n",
       "      <td>The analysis will focus on competitors' TikTok...</td>\n",
       "      <td>82057ea4-ee3d-46d2-be94-3773dd1b28d0</td>\n",
       "      <td>2024-08-27T15:05:17.356000</td>\n",
       "      <td>0.983368</td>\n",
       "      <td>{'topic_name': 0.491684, 'summary': 0.38425388...</td>\n",
       "      <td>[topic_name, summary, details, topic_name, sum...</td>\n",
       "      <td>main</td>\n",
       "      <td>0.68</td>\n",
       "    </tr>\n",
       "    <tr>\n",
       "      <th>4</th>\n",
       "      <td>Differentiate product features from competitors</td>\n",
       "      <td>Dmitriy Grankin</td>\n",
       "      <td>Dmitriy highlighted the need to articulate the...</td>\n",
       "      <td>They discussed the importance of identifying t...</td>\n",
       "      <td>e3dea53c-a0d6-4b10-ab63-8b4c120bd245</td>\n",
       "      <td>2024-09-16T19:02:08.440000</td>\n",
       "      <td>0.983351</td>\n",
       "      <td>{'topic_name': 0.6183460009999999, 'summary': ...</td>\n",
       "      <td>[topic_name, summary, topic_name, summary]</td>\n",
       "      <td>main</td>\n",
       "      <td>0.68</td>\n",
       "    </tr>\n",
       "    <tr>\n",
       "      <th>...</th>\n",
       "      <td>...</td>\n",
       "      <td>...</td>\n",
       "      <td>...</td>\n",
       "      <td>...</td>\n",
       "      <td>...</td>\n",
       "      <td>...</td>\n",
       "      <td>...</td>\n",
       "      <td>...</td>\n",
       "      <td>...</td>\n",
       "      <td>...</td>\n",
       "      <td>...</td>\n",
       "    </tr>\n",
       "    <tr>\n",
       "      <th>19</th>\n",
       "      <td>marketing strategy</td>\n",
       "      <td>Dmitriy Grankin</td>\n",
       "      <td>Marketing strategy refers to a business's over...</td>\n",
       "      <td>Olga and Dmitriy discuss the need for a clear ...</td>\n",
       "      <td>2ef8bcc3-d3fd-473a-a7c8-865873cb038c</td>\n",
       "      <td>2024-08-29T10:11:26.570000</td>\n",
       "      <td>0.519245</td>\n",
       "      <td>{'topic_name': 0.51924497}</td>\n",
       "      <td>[]</td>\n",
       "      <td>main</td>\n",
       "      <td>0.46</td>\n",
       "    </tr>\n",
       "    <tr>\n",
       "      <th>17</th>\n",
       "      <td>marketing strategy</td>\n",
       "      <td>Olga Miller</td>\n",
       "      <td>A marketing strategy outlines how a business w...</td>\n",
       "      <td>Olga emphasizes the need for a well-defined ma...</td>\n",
       "      <td>577a2c8f-f406-479d-9618-2fa48297e70d</td>\n",
       "      <td>2024-09-06T10:30:31.135999</td>\n",
       "      <td>0.519245</td>\n",
       "      <td>{'topic_name': 0.51924497, 'summary': 0.284701...</td>\n",
       "      <td>[]</td>\n",
       "      <td>main</td>\n",
       "      <td>0.46</td>\n",
       "    </tr>\n",
       "    <tr>\n",
       "      <th>20</th>\n",
       "      <td>Feedback request on competitor analysis</td>\n",
       "      <td>Tempest Dragon</td>\n",
       "      <td>Tempest Dragon has shared competitor analysis ...</td>\n",
       "      <td>Tempest Dragon sent the competitor analysis an...</td>\n",
       "      <td>44fecde4-4bb3-46e7-9227-00373c667e1a</td>\n",
       "      <td>2024-08-13T19:06:10.524715</td>\n",
       "      <td>0.514200</td>\n",
       "      <td>{'topic_name': 0.5141999}</td>\n",
       "      <td>[]</td>\n",
       "      <td>main</td>\n",
       "      <td>0.46</td>\n",
       "    </tr>\n",
       "    <tr>\n",
       "      <th>21</th>\n",
       "      <td>Discuss competition with Google and other play...</td>\n",
       "      <td>Eugene Tartakovsky</td>\n",
       "      <td>The meeting highlighted the competitive landsc...</td>\n",
       "      <td>Eugene Tartakovsky raised concerns about Googl...</td>\n",
       "      <td>081d04c6-827d-4375-af68-9f8fbd50b707</td>\n",
       "      <td>2024-09-10T12:02:21.644000</td>\n",
       "      <td>0.504535</td>\n",
       "      <td>{'topic_name': 0.5045347, 'summary': 0.389923835}</td>\n",
       "      <td>[]</td>\n",
       "      <td>main</td>\n",
       "      <td>0.45</td>\n",
       "    </tr>\n",
       "    <tr>\n",
       "      <th>22</th>\n",
       "      <td>Product Hunt strategy alignment</td>\n",
       "      <td>Eclipse Panther</td>\n",
       "      <td>Eclipse Panther proposed aligning their outrea...</td>\n",
       "      <td>The team discussed leveraging LinkedIn for out...</td>\n",
       "      <td>37ab837a-adf4-48b9-95d9-d2b9a89b8094</td>\n",
       "      <td>2024-07-31T12:57:13.519200</td>\n",
       "      <td>0.492244</td>\n",
       "      <td>{'topic_name': 0.49224392}</td>\n",
       "      <td>[]</td>\n",
       "      <td>main</td>\n",
       "      <td>0.44</td>\n",
       "    </tr>\n",
       "  </tbody>\n",
       "</table>\n",
       "<p>532 rows × 11 columns</p>\n",
       "</div>"
      ],
      "text/plain": [
       "                                           topic_name        speaker_name  \\\n",
       "0                                         Competitors      Tempest Dragon   \n",
       "1               Identify key competitors for analysis     Dmitriy Grankin   \n",
       "2                          Analyze competitors' posts      Tempest Dragon   \n",
       "3             Analyze competitors' content strategies  Rufina Osmonalieva   \n",
       "4     Differentiate product features from competitors     Dmitriy Grankin   \n",
       "..                                                ...                 ...   \n",
       "19                                 marketing strategy     Dmitriy Grankin   \n",
       "17                                 marketing strategy         Olga Miller   \n",
       "20            Feedback request on competitor analysis      Tempest Dragon   \n",
       "21  Discuss competition with Google and other play...  Eugene Tartakovsky   \n",
       "22                    Product Hunt strategy alignment     Eclipse Panther   \n",
       "\n",
       "                                              summary  \\\n",
       "0   Competitors are mentioned in the context of an...   \n",
       "1   Dmitrii Bashkirov and Dmitriy Grankin discusse...   \n",
       "2   Research and analyze successful posts from com...   \n",
       "3   The team agreed to analyze competitors' succes...   \n",
       "4   Dmitriy highlighted the need to articulate the...   \n",
       "..                                                ...   \n",
       "19  Marketing strategy refers to a business's over...   \n",
       "17  A marketing strategy outlines how a business w...   \n",
       "20  Tempest Dragon has shared competitor analysis ...   \n",
       "21  The meeting highlighted the competitive landsc...   \n",
       "22  Eclipse Panther proposed aligning their outrea...   \n",
       "\n",
       "                                              details  \\\n",
       "0   The participants discuss the need to analyze c...   \n",
       "1   Competitors selected for analysis include Fato...   \n",
       "2   The team discussed the importance of analyzing...   \n",
       "3   The analysis will focus on competitors' TikTok...   \n",
       "4   They discussed the importance of identifying t...   \n",
       "..                                                ...   \n",
       "19  Olga and Dmitriy discuss the need for a clear ...   \n",
       "17  Olga emphasizes the need for a well-defined ma...   \n",
       "20  Tempest Dragon sent the competitor analysis an...   \n",
       "21  Eugene Tartakovsky raised concerns about Googl...   \n",
       "22  The team discussed leveraging LinkedIn for out...   \n",
       "\n",
       "                              meeting_id                   timestamp  \\\n",
       "0   54b5f83d-d970-49fc-bf83-325b0dca738e  2024-08-14T19:04:14.740598   \n",
       "1   ae547dc7-22b0-4628-a715-4d0377adfc6c  2024-09-04T11:23:50.070000   \n",
       "2   54b5f83d-d970-49fc-bf83-325b0dca738e  2024-08-14T19:04:14.740598   \n",
       "3   82057ea4-ee3d-46d2-be94-3773dd1b28d0  2024-08-27T15:05:17.356000   \n",
       "4   e3dea53c-a0d6-4b10-ab63-8b4c120bd245  2024-09-16T19:02:08.440000   \n",
       "..                                   ...                         ...   \n",
       "19  2ef8bcc3-d3fd-473a-a7c8-865873cb038c  2024-08-29T10:11:26.570000   \n",
       "17  577a2c8f-f406-479d-9618-2fa48297e70d  2024-09-06T10:30:31.135999   \n",
       "20  44fecde4-4bb3-46e7-9227-00373c667e1a  2024-08-13T19:06:10.524715   \n",
       "21  081d04c6-827d-4375-af68-9f8fbd50b707  2024-09-10T12:02:21.644000   \n",
       "22  37ab837a-adf4-48b9-95d9-d2b9a89b8094  2024-07-31T12:57:13.519200   \n",
       "\n",
       "       score                                      vector_scores  \\\n",
       "0   1.400000  {'topic_name': 0.65, 'summary': 0.5315187, 'de...   \n",
       "1   1.038165  {'topic_name': 0.5190824, 'details': 0.4789890...   \n",
       "2   1.001882  {'topic_name': 0.5009411, 'details': 0.4493990...   \n",
       "3   0.983368  {'topic_name': 0.491684, 'summary': 0.38425388...   \n",
       "4   0.983351  {'topic_name': 0.6183460009999999, 'summary': ...   \n",
       "..       ...                                                ...   \n",
       "19  0.519245                         {'topic_name': 0.51924497}   \n",
       "17  0.519245  {'topic_name': 0.51924497, 'summary': 0.284701...   \n",
       "20  0.514200                          {'topic_name': 0.5141999}   \n",
       "21  0.504535  {'topic_name': 0.5045347, 'summary': 0.389923835}   \n",
       "22  0.492244                         {'topic_name': 0.49224392}   \n",
       "\n",
       "                                        exact_matches source  relevance_score  \n",
       "0   [topic_name, summary, details, topic_name, sum...   main             0.88  \n",
       "1   [topic_name, details, summary, topic_name, det...   main             0.71  \n",
       "2   [topic_name, details, summary, topic_name, det...   main             0.69  \n",
       "3   [topic_name, summary, details, topic_name, sum...   main             0.68  \n",
       "4          [topic_name, summary, topic_name, summary]   main             0.68  \n",
       "..                                                ...    ...              ...  \n",
       "19                                                 []   main             0.46  \n",
       "17                                                 []   main             0.46  \n",
       "20                                                 []   main             0.46  \n",
       "21                                                 []   main             0.45  \n",
       "22                                                 []   main             0.44  \n",
       "\n",
       "[532 rows x 11 columns]"
      ]
     },
     "execution_count": 90,
     "metadata": {},
     "output_type": "execute_result"
    }
   ],
   "source": [
    "search_results"
   ]
  },
  {
   "cell_type": "code",
   "execution_count": 91,
   "metadata": {},
   "outputs": [],
   "source": [
    "import numpy as np"
   ]
  },
  {
   "cell_type": "code",
   "execution_count": 92,
   "metadata": {},
   "outputs": [],
   "source": [
    "search_results = search_results.drop(columns=['vector_scores','exact_matches']).drop_duplicates(subset = ['topic_name','speaker_name','summary','details','meeting_id'])"
   ]
  },
  {
   "cell_type": "code",
   "execution_count": 93,
   "metadata": {},
   "outputs": [
    {
     "data": {
      "text/html": [
       "<div>\n",
       "<style scoped>\n",
       "    .dataframe tbody tr th:only-of-type {\n",
       "        vertical-align: middle;\n",
       "    }\n",
       "\n",
       "    .dataframe tbody tr th {\n",
       "        vertical-align: top;\n",
       "    }\n",
       "\n",
       "    .dataframe thead th {\n",
       "        text-align: right;\n",
       "    }\n",
       "</style>\n",
       "<table border=\"1\" class=\"dataframe\">\n",
       "  <thead>\n",
       "    <tr style=\"text-align: right;\">\n",
       "      <th></th>\n",
       "      <th>topic_name</th>\n",
       "      <th>speaker_name</th>\n",
       "      <th>summary</th>\n",
       "      <th>details</th>\n",
       "      <th>meeting_id</th>\n",
       "      <th>timestamp</th>\n",
       "      <th>score</th>\n",
       "      <th>source</th>\n",
       "      <th>relevance_score</th>\n",
       "    </tr>\n",
       "  </thead>\n",
       "  <tbody>\n",
       "    <tr>\n",
       "      <th>0</th>\n",
       "      <td>Competitors</td>\n",
       "      <td>Tempest Dragon</td>\n",
       "      <td>Competitors are mentioned in the context of an...</td>\n",
       "      <td>The participants discuss the need to analyze c...</td>\n",
       "      <td>54b5f83d-d970-49fc-bf83-325b0dca738e</td>\n",
       "      <td>2024-08-14T19:04:14.740598</td>\n",
       "      <td>1.400000</td>\n",
       "      <td>main</td>\n",
       "      <td>0.88</td>\n",
       "    </tr>\n",
       "    <tr>\n",
       "      <th>1</th>\n",
       "      <td>Identify key competitors for analysis</td>\n",
       "      <td>Dmitriy Grankin</td>\n",
       "      <td>Dmitrii Bashkirov and Dmitriy Grankin discusse...</td>\n",
       "      <td>Competitors selected for analysis include Fato...</td>\n",
       "      <td>ae547dc7-22b0-4628-a715-4d0377adfc6c</td>\n",
       "      <td>2024-09-04T11:23:50.070000</td>\n",
       "      <td>1.038165</td>\n",
       "      <td>main</td>\n",
       "      <td>0.71</td>\n",
       "    </tr>\n",
       "    <tr>\n",
       "      <th>2</th>\n",
       "      <td>Analyze competitors' posts</td>\n",
       "      <td>Tempest Dragon</td>\n",
       "      <td>Research and analyze successful posts from com...</td>\n",
       "      <td>The team discussed the importance of analyzing...</td>\n",
       "      <td>54b5f83d-d970-49fc-bf83-325b0dca738e</td>\n",
       "      <td>2024-08-14T19:04:14.740598</td>\n",
       "      <td>1.001882</td>\n",
       "      <td>main</td>\n",
       "      <td>0.69</td>\n",
       "    </tr>\n",
       "    <tr>\n",
       "      <th>3</th>\n",
       "      <td>Analyze competitors' content strategies</td>\n",
       "      <td>Rufina Osmonalieva</td>\n",
       "      <td>The team agreed to analyze competitors' succes...</td>\n",
       "      <td>The analysis will focus on competitors' TikTok...</td>\n",
       "      <td>82057ea4-ee3d-46d2-be94-3773dd1b28d0</td>\n",
       "      <td>2024-08-27T15:05:17.356000</td>\n",
       "      <td>0.983368</td>\n",
       "      <td>main</td>\n",
       "      <td>0.68</td>\n",
       "    </tr>\n",
       "    <tr>\n",
       "      <th>4</th>\n",
       "      <td>Differentiate product features from competitors</td>\n",
       "      <td>Dmitriy Grankin</td>\n",
       "      <td>Dmitriy highlighted the need to articulate the...</td>\n",
       "      <td>They discussed the importance of identifying t...</td>\n",
       "      <td>e3dea53c-a0d6-4b10-ab63-8b4c120bd245</td>\n",
       "      <td>2024-09-16T19:02:08.440000</td>\n",
       "      <td>0.983351</td>\n",
       "      <td>main</td>\n",
       "      <td>0.68</td>\n",
       "    </tr>\n",
       "    <tr>\n",
       "      <th>...</th>\n",
       "      <td>...</td>\n",
       "      <td>...</td>\n",
       "      <td>...</td>\n",
       "      <td>...</td>\n",
       "      <td>...</td>\n",
       "      <td>...</td>\n",
       "      <td>...</td>\n",
       "      <td>...</td>\n",
       "      <td>...</td>\n",
       "    </tr>\n",
       "    <tr>\n",
       "      <th>105</th>\n",
       "      <td>Product School</td>\n",
       "      <td>Olga Nemirovskaya</td>\n",
       "      <td>Product School is a community platform where O...</td>\n",
       "      <td>Olga shares her experience of posting in Produ...</td>\n",
       "      <td>e4b0703b-3285-4fca-af1d-c547d4b75630</td>\n",
       "      <td>2024-08-28T19:00:55.020000</td>\n",
       "      <td>0.500470</td>\n",
       "      <td>main</td>\n",
       "      <td>0.45</td>\n",
       "    </tr>\n",
       "    <tr>\n",
       "      <th>107</th>\n",
       "      <td>Product Hunt strategy alignment</td>\n",
       "      <td>Eclipse Panther</td>\n",
       "      <td>Eclipse Panther proposed aligning their outrea...</td>\n",
       "      <td>The team discussed leveraging LinkedIn for out...</td>\n",
       "      <td>37ab837a-adf4-48b9-95d9-d2b9a89b8094</td>\n",
       "      <td>2024-07-31T12:57:13.519200</td>\n",
       "      <td>0.499922</td>\n",
       "      <td>main</td>\n",
       "      <td>0.45</td>\n",
       "    </tr>\n",
       "    <tr>\n",
       "      <th>108</th>\n",
       "      <td>Develop a strategy for Product Hunt launch</td>\n",
       "      <td>Dmitriy Grankin</td>\n",
       "      <td>Dmitriy emphasized the importance of preparing...</td>\n",
       "      <td>Dmitriy suggested that they need to formulate ...</td>\n",
       "      <td>d7d8d9e4-f349-42b3-9599-f9707f1405f8</td>\n",
       "      <td>2024-09-10T09:28:46.960000</td>\n",
       "      <td>0.497916</td>\n",
       "      <td>main</td>\n",
       "      <td>0.45</td>\n",
       "    </tr>\n",
       "    <tr>\n",
       "      <th>109</th>\n",
       "      <td>Product Hunt strategy integration</td>\n",
       "      <td>Eclipse Panther</td>\n",
       "      <td>Eclipse Panther proposed integrating the Produ...</td>\n",
       "      <td>The idea is to create a cohesive marketing str...</td>\n",
       "      <td>37ab837a-adf4-48b9-95d9-d2b9a89b8094</td>\n",
       "      <td>2024-07-31T12:57:13.519200</td>\n",
       "      <td>0.497702</td>\n",
       "      <td>main</td>\n",
       "      <td>0.45</td>\n",
       "    </tr>\n",
       "    <tr>\n",
       "      <th>110</th>\n",
       "      <td>Follow up with potential leads regarding produ...</td>\n",
       "      <td>Olga Nemirovskaya</td>\n",
       "      <td>Olga Nemirovskaya will follow up with a contac...</td>\n",
       "      <td>This follow-up is crucial to understand the co...</td>\n",
       "      <td>331c3dbb-9233-4894-ad9d-6a537df88b7b</td>\n",
       "      <td>2024-09-09T09:56:24.416000</td>\n",
       "      <td>0.497589</td>\n",
       "      <td>main</td>\n",
       "      <td>0.45</td>\n",
       "    </tr>\n",
       "  </tbody>\n",
       "</table>\n",
       "<p>237 rows × 9 columns</p>\n",
       "</div>"
      ],
      "text/plain": [
       "                                            topic_name        speaker_name  \\\n",
       "0                                          Competitors      Tempest Dragon   \n",
       "1                Identify key competitors for analysis     Dmitriy Grankin   \n",
       "2                           Analyze competitors' posts      Tempest Dragon   \n",
       "3              Analyze competitors' content strategies  Rufina Osmonalieva   \n",
       "4      Differentiate product features from competitors     Dmitriy Grankin   \n",
       "..                                                 ...                 ...   \n",
       "105                                     Product School   Olga Nemirovskaya   \n",
       "107                    Product Hunt strategy alignment     Eclipse Panther   \n",
       "108         Develop a strategy for Product Hunt launch     Dmitriy Grankin   \n",
       "109                  Product Hunt strategy integration     Eclipse Panther   \n",
       "110  Follow up with potential leads regarding produ...   Olga Nemirovskaya   \n",
       "\n",
       "                                               summary  \\\n",
       "0    Competitors are mentioned in the context of an...   \n",
       "1    Dmitrii Bashkirov and Dmitriy Grankin discusse...   \n",
       "2    Research and analyze successful posts from com...   \n",
       "3    The team agreed to analyze competitors' succes...   \n",
       "4    Dmitriy highlighted the need to articulate the...   \n",
       "..                                                 ...   \n",
       "105  Product School is a community platform where O...   \n",
       "107  Eclipse Panther proposed aligning their outrea...   \n",
       "108  Dmitriy emphasized the importance of preparing...   \n",
       "109  Eclipse Panther proposed integrating the Produ...   \n",
       "110  Olga Nemirovskaya will follow up with a contac...   \n",
       "\n",
       "                                               details  \\\n",
       "0    The participants discuss the need to analyze c...   \n",
       "1    Competitors selected for analysis include Fato...   \n",
       "2    The team discussed the importance of analyzing...   \n",
       "3    The analysis will focus on competitors' TikTok...   \n",
       "4    They discussed the importance of identifying t...   \n",
       "..                                                 ...   \n",
       "105  Olga shares her experience of posting in Produ...   \n",
       "107  The team discussed leveraging LinkedIn for out...   \n",
       "108  Dmitriy suggested that they need to formulate ...   \n",
       "109  The idea is to create a cohesive marketing str...   \n",
       "110  This follow-up is crucial to understand the co...   \n",
       "\n",
       "                               meeting_id                   timestamp  \\\n",
       "0    54b5f83d-d970-49fc-bf83-325b0dca738e  2024-08-14T19:04:14.740598   \n",
       "1    ae547dc7-22b0-4628-a715-4d0377adfc6c  2024-09-04T11:23:50.070000   \n",
       "2    54b5f83d-d970-49fc-bf83-325b0dca738e  2024-08-14T19:04:14.740598   \n",
       "3    82057ea4-ee3d-46d2-be94-3773dd1b28d0  2024-08-27T15:05:17.356000   \n",
       "4    e3dea53c-a0d6-4b10-ab63-8b4c120bd245  2024-09-16T19:02:08.440000   \n",
       "..                                    ...                         ...   \n",
       "105  e4b0703b-3285-4fca-af1d-c547d4b75630  2024-08-28T19:00:55.020000   \n",
       "107  37ab837a-adf4-48b9-95d9-d2b9a89b8094  2024-07-31T12:57:13.519200   \n",
       "108  d7d8d9e4-f349-42b3-9599-f9707f1405f8  2024-09-10T09:28:46.960000   \n",
       "109  37ab837a-adf4-48b9-95d9-d2b9a89b8094  2024-07-31T12:57:13.519200   \n",
       "110  331c3dbb-9233-4894-ad9d-6a537df88b7b  2024-09-09T09:56:24.416000   \n",
       "\n",
       "        score source  relevance_score  \n",
       "0    1.400000   main             0.88  \n",
       "1    1.038165   main             0.71  \n",
       "2    1.001882   main             0.69  \n",
       "3    0.983368   main             0.68  \n",
       "4    0.983351   main             0.68  \n",
       "..        ...    ...              ...  \n",
       "105  0.500470   main             0.45  \n",
       "107  0.499922   main             0.45  \n",
       "108  0.497916   main             0.45  \n",
       "109  0.497702   main             0.45  \n",
       "110  0.497589   main             0.45  \n",
       "\n",
       "[237 rows x 9 columns]"
      ]
     },
     "execution_count": 93,
     "metadata": {},
     "output_type": "execute_result"
    }
   ],
   "source": [
    "search_results"
   ]
  },
  {
   "cell_type": "code",
   "execution_count": 94,
   "metadata": {},
   "outputs": [],
   "source": [
    "prepared_df, indexed_meetings = self.prep_context(search_results)"
   ]
  },
  {
   "cell_type": "code",
   "execution_count": 95,
   "metadata": {},
   "outputs": [],
   "source": [
    "from core import generic_call_, system_msg,user_msg"
   ]
  },
  {
   "cell_type": "code",
   "execution_count": 96,
   "metadata": {},
   "outputs": [],
   "source": [
    "messages = []"
   ]
  },
  {
   "cell_type": "code",
   "execution_count": 97,
   "metadata": {},
   "outputs": [],
   "source": [
    "from core import generic_call_,system_msg,user_msg\n",
    "\n",
    "from prompts import Prompts\n",
    "prompts = Prompts()"
   ]
  },
  {
   "cell_type": "code",
   "execution_count": 98,
   "metadata": {},
   "outputs": [],
   "source": [
    "columns_to_drop = ['timestamp', 'vector_scores', 'exact_matches', 'source', 'score', 'meeting_id']\n",
    "existing_columns = [col for col in columns_to_drop if col in prepared_df.columns]\n",
    "context_prepared = prepared_df.drop(columns=existing_columns)\n",
    "\n",
    "context = context_prepared.to_markdown(index=False) if not prepared_df.empty else \"No relevant context found.\"\n",
    "url_dict = {k: f'https://dashboard.vexa.ai/#{v}' for k, v in indexed_meetings.items()}\n",
    "\n",
    "# Build messages\n",
    "context_msg = system_msg(f\"Context: {context}\")\n",
    "messages_context = [\n",
    "    system_msg(prompts.search),\n",
    "    *messages,\n",
    "    context_msg,\n",
    "    user_msg(query)\n",
    "]\n"
   ]
  },
  {
   "cell_type": "code",
   "execution_count": 99,
   "metadata": {},
   "outputs": [],
   "source": [
    "\n",
    "# Generate response\n",
    "output = \"\"\n",
    "async for chunk in generic_call_(messages_context, streaming=True):\n",
    "    output += chunk"
   ]
  },
  {
   "cell_type": "code",
   "execution_count": 100,
   "metadata": {},
   "outputs": [
    {
     "data": {
      "text/plain": [
       "\"## Competitor Analysis Overview\\n\\n### Key Competitors in the Market\\nThe following competitors have been identified as significant players in the market for AI-driven transcription and meeting assistant tools:\\n\\n| Competitor       | Key Features                                           | Market Positioning                                      |\\n|------------------|-------------------------------------------------------|--------------------------------------------------------|\\n| **Otter.ai**     | Real-time transcription, collaboration features       | Strong presence in the transcription market             |\\n| **Fireflies**    | AI meeting assistant, integrates with various tools   | Focus on enhancing productivity in meetings             |\\n| **TLDV**         | Video meeting summaries, user-friendly interface      | Targets remote teams and businesses                     |\\n| **SuperPower**   | Multilingual support, contextual assistance           | Emphasizes user privacy and data security               |\\n| **Fatom**        | AI-driven insights, competitive pricing               | Competes on affordability and feature set              |\\n| **MidGeek**      | Focus on user experience, customizable features       | Targets tech-savvy users looking for tailored solutions |\\n\\n### Competitive Landscape Insights\\n- **Market Saturation**: The market is becoming increasingly crowded, with many competitors offering similar features. This necessitates a clear differentiation strategy for new entrants.\\n- **User Pain Points**: Users often express dissatisfaction with the quality of automated transcriptions and the presence of bots in competitor products. Addressing these concerns can be a unique selling point for new products.\\n- **Feature Comparison**: Competitors like Otter.ai and Fireflies are well-established, but there is an opportunity to capture market share by focusing on unique features such as multilingual support and enhanced user privacy.\\n\\n### Strategic Recommendations\\n1. **Differentiation**: Emphasize unique features such as no bots, multilingual capabilities, and superior user experience to stand out in the market.\\n2. **User Engagement**: Actively gather user feedback to refine product offerings and address common pain points identified in competitor analysis.\\n3. **Marketing Focus**: Develop targeted marketing strategies that highlight the product's unique advantages over competitors, particularly in terms of user experience and data security.\\n\\n### Conclusion\\nUnderstanding the competitive landscape is crucial for positioning the product effectively. By leveraging insights from competitor analysis, the team can develop strategies that not only address market needs but also capitalize on gaps left by existing solutions.\""
      ]
     },
     "execution_count": 100,
     "metadata": {},
     "output_type": "execute_result"
    }
   ],
   "source": [
    "output"
   ]
  },
  {
   "cell_type": "code",
   "execution_count": 101,
   "metadata": {},
   "outputs": [
    {
     "data": {
      "text/markdown": [
       "## Competitor Analysis Overview\n",
       "\n",
       "### Key Competitors in the Market\n",
       "The following competitors have been identified as significant players in the market for AI-driven transcription and meeting assistant tools:\n",
       "\n",
       "| Competitor       | Key Features                                           | Market Positioning                                      |\n",
       "|------------------|-------------------------------------------------------|--------------------------------------------------------|\n",
       "| **Otter.ai**     | Real-time transcription, collaboration features       | Strong presence in the transcription market             |\n",
       "| **Fireflies**    | AI meeting assistant, integrates with various tools   | Focus on enhancing productivity in meetings             |\n",
       "| **TLDV**         | Video meeting summaries, user-friendly interface      | Targets remote teams and businesses                     |\n",
       "| **SuperPower**   | Multilingual support, contextual assistance           | Emphasizes user privacy and data security               |\n",
       "| **Fatom**        | AI-driven insights, competitive pricing               | Competes on affordability and feature set              |\n",
       "| **MidGeek**      | Focus on user experience, customizable features       | Targets tech-savvy users looking for tailored solutions |\n",
       "\n",
       "### Competitive Landscape Insights\n",
       "- **Market Saturation**: The market is becoming increasingly crowded, with many competitors offering similar features. This necessitates a clear differentiation strategy for new entrants.\n",
       "- **User Pain Points**: Users often express dissatisfaction with the quality of automated transcriptions and the presence of bots in competitor products. Addressing these concerns can be a unique selling point for new products.\n",
       "- **Feature Comparison**: Competitors like Otter.ai and Fireflies are well-established, but there is an opportunity to capture market share by focusing on unique features such as multilingual support and enhanced user privacy.\n",
       "\n",
       "### Strategic Recommendations\n",
       "1. **Differentiation**: Emphasize unique features such as no bots, multilingual capabilities, and superior user experience to stand out in the market.\n",
       "2. **User Engagement**: Actively gather user feedback to refine product offerings and address common pain points identified in competitor analysis.\n",
       "3. **Marketing Focus**: Develop targeted marketing strategies that highlight the product's unique advantages over competitors, particularly in terms of user experience and data security.\n",
       "\n",
       "### Conclusion\n",
       "Understanding the competitive landscape is crucial for positioning the product effectively. By leveraging insights from competitor analysis, the team can develop strategies that not only address market needs but also capitalize on gaps left by existing solutions."
      ],
      "text/plain": [
       "<IPython.core.display.Markdown object>"
      ]
     },
     "execution_count": 101,
     "metadata": {},
     "output_type": "execute_result"
    }
   ],
   "source": [
    "from IPython.display import Markdown\n",
    "Markdown(output)"
   ]
  },
  {
   "cell_type": "code",
   "execution_count": null,
   "metadata": {},
   "outputs": [],
   "source": []
  },
  {
   "cell_type": "code",
   "execution_count": 51,
   "metadata": {},
   "outputs": [
    {
     "data": {
      "text/plain": [
       "\"To create an effective influencer marketing report, consider including the following key sections:\\n\\n## Executive Summary\\n\\nProvide a brief overview of the influencer marketing campaign, including objectives, target audience, and key results.\\n\\n## Campaign Objectives\\n\\nOutline the specific goals of the influencer marketing campaign, such as:\\n\\n- Increase brand awareness\\n- Drive website traffic\\n- Generate leads or sales\\n- Enhance social media engagement\\n\\n## Influencer Selection\\n\\nDetail the criteria used for selecting influencers, including:\\n\\n- Audience demographics\\n- Engagement rates\\n- Relevance to the brand\\n- Previous collaboration success\\n\\n## Campaign Strategy\\n\\nDescribe the overall strategy, including:\\n\\n- Types of content created (e.g., posts, stories, videos)\\n- Platforms used (e.g., Instagram, YouTube, TikTok)\\n- Key messaging and themes\\n\\n## Performance Metrics\\n\\nPresent the metrics used to evaluate the campaign's success, such as:\\n\\n- Impressions and reach\\n- Engagement rates (likes, comments, shares)\\n- Click-through rates (CTR)\\n- Conversion rates (sales, sign-ups)\\n\\n## Results Analysis\\n\\nAnalyze the results against the objectives set at the beginning of the campaign. Include:\\n\\n- Total impressions and engagement\\n- Comparison of performance across different influencers\\n- Insights on what worked well and what could be improved\\n\\n## ROI Calculation\\n\\nCalculate the return on investment (ROI) for the campaign by comparing the costs of influencer partnerships against the revenue generated or other key performance indicators.\\n\\n## Recommendations\\n\\nProvide actionable recommendations for future influencer marketing campaigns based on the insights gained from this campaign. This could include:\\n\\n- Adjusting influencer selection criteria\\n- Exploring new platforms or content types\\n- Enhancing collaboration strategies\\n\\n## Conclusion\\n\\nSummarize the overall impact of the influencer marketing campaign and its contribution to the brand's marketing goals.\\n\\nBy structuring the report in this way, you can effectively communicate the outcomes and insights from your influencer marketing efforts, helping to inform future strategies.\""
      ]
     },
     "execution_count": 51,
     "metadata": {},
     "output_type": "execute_result"
    }
   ],
   "source": [
    "output"
   ]
  },
  {
   "cell_type": "code",
   "execution_count": null,
   "metadata": {},
   "outputs": [],
   "source": []
  },
  {
   "cell_type": "code",
   "execution_count": null,
   "metadata": {},
   "outputs": [],
   "source": []
  },
  {
   "cell_type": "code",
   "execution_count": null,
   "metadata": {},
   "outputs": [],
   "source": []
  },
  {
   "cell_type": "code",
   "execution_count": 18,
   "metadata": {},
   "outputs": [],
   "source": [
    "meeting_groups = search_results.sort_values('score', ascending=False).groupby('meeting_id').agg({\n",
    "        'score': lambda x: np.average(x, weights=np.exp2(x)),  # Exponential weighting\n",
    "        'topic_name': 'first',\n",
    "        'speaker_name': set,\n",
    "        'summary': '; '.join,\n",
    "        'details': '; '.join,\n",
    "        'timestamp': 'first'\n",
    "    }).sort_values('score', ascending=False).reset_index()"
   ]
  },
  {
   "cell_type": "code",
   "execution_count": 19,
   "metadata": {},
   "outputs": [
    {
     "data": {
      "text/plain": [
       "\"|    | topic_name                                                   | speaker_name                             | summary                                                                                                                                                                                                                                                                                                                                                                    | details                                                                                                                                                                                                                                                                                                                                                                                                                                                                                                                                                                                                                                                                                                                                 |\\n|---:|:-------------------------------------------------------------|:-----------------------------------------|:---------------------------------------------------------------------------------------------------------------------------------------------------------------------------------------------------------------------------------------------------------------------------------------------------------------------------------------------------------------------------|:----------------------------------------------------------------------------------------------------------------------------------------------------------------------------------------------------------------------------------------------------------------------------------------------------------------------------------------------------------------------------------------------------------------------------------------------------------------------------------------------------------------------------------------------------------------------------------------------------------------------------------------------------------------------------------------------------------------------------------------|\\n|  0 | Discussion of the product features and user engagement       | {'Dmitry Grankin'}                       | The product features include real-time transcription, keyword highlighting, and a dashboard for call analysis, which enhances user engagement and retention.                                                                                                                                                                                                               | The product allows users to interact with transcriptions in real-time, providing contextual assistance similar to chat GPT. The dashboard feature enables users to review previous calls, which has shown good retention rates among the small user base.                                                                                                                                                                                                                                                                                                                                                                                                                                                                               |\\n|  1 | Otter                                                        | {'Dmitrii Bashkirov'}                    | Otter is mentioned as a product with good user engagement and onboarding.                                                                                                                                                                                                                                                                                                  | Dmitrii notes that Otter has a significant user base and effective onboarding, contributing to its popularity.                                                                                                                                                                                                                                                                                                                                                                                                                                                                                                                                                                                                                          |\\n|  2 | Otter                                                        | {'Dmitriy Grankin'}                      | Otter is a transcription service that the speakers have subscribed to for their meetings.                                                                                                                                                                                                                                                                                  | Dmitriy mentions that they have purchased a subscription to Otter to assist with note-taking and documentation.                                                                                                                                                                                                                                                                                                                                                                                                                                                                                                                                                                                                                         |\\n|  3 | Otter                                                        | {'Dmitriy Grankin'}                      | Otter is a transcription service that provides real-time transcription of meetings and conversations.                                                                                                                                                                                                                                                                      | Dmitriy Grankin mentioned Otter as a competitor in the transcription space, highlighting its integration capabilities.                                                                                                                                                                                                                                                                                                                                                                                                                                                                                                                                                                                                                  |\\n|  4 | competitor analysis                                          | {'Tempest Dragon'}                       | Competitor analysis is discussed as a critical component of the research process.; Tempest Dragon has shared competitor analysis with the researcher for feedback.                                                                                                                                                                                                         | Tempest Dragon shares plans to analyze competitors to better understand the market landscape.; Tempest Dragon sent the competitor analysis and a table of customer development insights to the researcher, requesting feedback on missing elements. This feedback is expected by Thursday.                                                                                                                                                                                                                                                                                                                                                                                                                                              |\\n|  5 | Discuss the need for analytics and tracking user engagement  | {'Dmitry Grankin'}                       | Dmitry highlighted the importance of having robust analytics to track user engagement and understand user behavior.                                                                                                                                                                                                                                                        | He mentioned the need for backend analytics to accurately measure active users and their engagement with the extension.                                                                                                                                                                                                                                                                                                                                                                                                                                                                                                                                                                                                                 |\\n|  6 | Monitor user registrations and engagement                    | {'Dmitriy Grankin'}                      | The team will keep track of new user registrations and their engagement levels to assess marketing effectiveness.                                                                                                                                                                                                                                                          | Daily monitoring of user registrations is essential to evaluate the success of current marketing strategies. The team aims to identify trends and adjust strategies accordingly.                                                                                                                                                                                                                                                                                                                                                                                                                                                                                                                                                        |\\n|  7 | Discuss the algorithm for user engagement and moderation     | {'Dmitriy Grankin'}                      | Dmitriy expressed concerns about the lack of a good algorithm for user engagement and moderation, which is affecting the project's performance.                                                                                                                                                                                                                            | Dmitriy noted that without a proper algorithm, the project struggles to maintain user engagement and may face challenges in moderation. This issue needs to be addressed to improve overall performance.                                                                                                                                                                                                                                                                                                                                                                                                                                                                                                                                |\\n|  8 | Otter                                                        | {'Dmitriy Grankin'}                      | Otter is mentioned as one of the competitors in the market that the speakers are analyzing.; Dmitrii Bashkirov and Dmitriy Grankin discussed and identified key competitors to analyze, focusing on those with significant market presence.                                                                                                                                | Dmitriy Grankin notes that Otter is among the companies selected for competitive analysis, indicating its relevance in the B2B space.; Competitors selected for analysis include Fatom, TLDV, FireFiles, Otter, MidGeek, and SuperPower. The focus will be on understanding their marketing mechanics and user acquisition strategies.                                                                                                                                                                                                                                                                                                                                                                                                  |\\n|  9 | General engagement and interaction                           | {'Dmitriy Grankin'}                      | Dmitriy engaged in light-hearted banter and interaction during the meeting.                                                                                                                                                                                                                                                                                                | The meeting included informal interactions and expressions from Dmitriy, which may contribute to team morale but do not directly relate to actionable tasks or decisions. This aspect of the meeting reflects a casual atmosphere, which can be beneficial for team dynamics.                                                                                                                                                                                                                                                                                                                                                                                                                                                           |\\n| 10 | Marketing strategies for user acquisition                    | {'Dmitry Grankin'}                       | Discussed various strategies to market the transcription tool and attract users.                                                                                                                                                                                                                                                                                           | Current users are primarily acquired through personal networks, and there are plans to enhance marketing efforts, including a landing page and outreach to consulting firms.                                                                                                                                                                                                                                                                                                                                                                                                                                                                                                                                                            |\\n| 11 | Competitor analysis                                          | {'Dmitriy Grankin', 'Olga Nemirovskaya'} | Dmitriy and Olga discussed identifying competitors and understanding their market positioning.; Discussed the importance of engaging with the community to understand user needs and preferences.; Dmitriy suggested trying to sell to current active users to gauge interest and gather feedback.; Discussed the potential of using influencers to promote their product. | They need to analyze competitors in the note-taking and AI space to understand their offerings and how to differentiate their product.; Both speakers emphasized the need to identify and engage with potential users in relevant communities, such as Telegram, to gather insights and feedback on their product.; The goal is to approach existing users and ask if they would be willing to pay for the product. This will help identify what features or improvements are needed to convert them into paying customers.; Olga mentioned a potential influencer with a significant following who could help promote their product on LinkedIn and Product Hunt. They are considering a paid collaboration to reach a wider audience. |\\n| 12 | Explore user retention and marketing strategies              | {'Dmitry Grankin'}                       | The team discussed the current user base and strategies to improve retention and marketing efforts to attract more users.                                                                                                                                                                                                                                                  | Dmitry Grankin mentioned that while user retention is currently sufficient, there is a need to enhance marketing strategies to bring in more users. The focus is on understanding user needs and improving the product accordingly.                                                                                                                                                                                                                                                                                                                                                                                                                                                                                                     |\\n| 13 | Analyze engagement metrics                                   | {'Dmitriy Grankin'}                      | Review engagement metrics from posts to understand audience interaction.                                                                                                                                                                                                                                                                                                   | Dmitriy proposed analyzing engagement metrics from their posts to identify which types of content resonate with their audience. This analysis will help optimize future content strategies. No specific deadline was mentioned.                                                                                                                                                                                                                                                                                                                                                                                                                                                                                                         |\\n| 14 | Participant engagement                                       | {'CTNS'}                                 | Encouraging participants to share their backgrounds to tailor the content of the meeting.                                                                                                                                                                                                                                                                                  | Participants are asked to introduce themselves, including their industry and location, to facilitate relevant discussions.                                                                                                                                                                                                                                                                                                                                                                                                                                                                                                                                                                                                              |\\n| 15 | Discussion on the importance of user feedback and engagement | {'Emerald Hawk', 'Scarlet Phoenix'}      | The team discussed the need for continuous user feedback to improve the product and user experience.; The team reviewed user activity metrics to assess engagement levels and identify areas for improvement.                                                                                                                                                              | Engaging with users through surveys and direct communication will help gather insights on their needs and preferences, which can inform future product developments and marketing strategies.; Current metrics show 14 active users, with discussions on how to increase this number through better marketing and user engagement strategies.                                                                                                                                                                                                                                                                                                                                                                                           |\\n| 16 | Client engagement and feedback                               | {'CTNS'}                                 | The team set a goal to attract several clients for testing the application and emphasized the importance of gathering feedback from these early users.; The team aims to attract clients for testing the application and gather feedback to improve its functionality and user experience.                                                                                 | CTNS suggested that engaging with clients and obtaining their feedback is essential for refining the application. The team aims to connect with business units within larger companies to facilitate this testing process.; CTNS suggested the importance of engaging with potential clients and obtaining their feedback. The goal is to attract several clients to test the application and provide insights that can guide further development.                                                                                                                                                                                                                                                                                      |\\n| 17 | User Engagement                                              | {'Dmitriy Grankin', 'Olga Nemirovskaya'} | User Engagement refers to the interaction and involvement of users with VEX.; User Experience refers to the overall experience a user has when interacting with VEX.; User Behavior refers to the actions and interactions of users with VEX.                                                                                                                              | The team discusses strategies to enhance user engagement through community building and content sharing.; The team discusses improving user experience through better onboarding and support materials.; The team discusses analyzing user behavior to identify areas for improvement in the product.                                                                                                                                                                                                                                                                                                                                                                                                                                   |\\n| 18 | User experience insights and suggestions for improvement     | {'Ilia Semukhin', 'Dmitriy Grankin'}     | The speakers shared insights on user experience and proposed solutions to enhance the product's usability.; User experience is a key focus of the meeting, with discussions on improving the product's usability.                                                                                                                                                          | Both Ilia and Dmitriy provided suggestions for improving the user interface, including making controls more intuitive and ensuring that the assistant's presence is less intrusive during meetings. They emphasized the need for a design that allows users to focus on their tasks without unnecessary distractions.; The speakers share their thoughts on how to create a better user experience through design and functionality improvements.                                                                                                                                                                                                                                                                                       |\\n| 19 | OtterEye                                                     | {'Dmitry Grankin'}                       | OtterEye is a company referenced in the meeting that has successfully marketed its product by addressing user pain points.                                                                                                                                                                                                                                                 | They focused on a simple pitch that emphasized ease of use and reliability, which resonated with their audience.                                                                                                                                                                                                                                                                                                                                                                                                                                                                                                                                                                                                                        |\""
      ]
     },
     "execution_count": 19,
     "metadata": {},
     "output_type": "execute_result"
    }
   ],
   "source": [
    "context = meeting_groups.drop(columns=['score','meeting_id','timestamp']).head(20).to_markdown()\n",
    "context"
   ]
  },
  {
   "cell_type": "code",
   "execution_count": 63,
   "metadata": {},
   "outputs": [],
   "source": []
  },
  {
   "cell_type": "code",
   "execution_count": 21,
   "metadata": {},
   "outputs": [],
   "source": [
    "messages_context = [\n",
    "        system_msg(prompts.perplexity),\n",
    "        system_msg(f\"Context: {context}\"),\n",
    "        user_msg(q)\n",
    "    ]"
   ]
  },
  {
   "cell_type": "code",
   "execution_count": 22,
   "metadata": {},
   "outputs": [
    {
     "data": {
      "text/plain": [
       "[Msg(role='system', content='You are Vexa, a helpful search assistant trained by Vexa AI. Your task is to deliver a concise and accurate response to a user\\'s query, drawing from the given search results. Your answer must be precise, of high-quality, and written by an expert using an unbiased and journalistic tone. It is EXTREMELY IMPORTANT to directly answer the query. NEVER say \"based on the search results\" or start your answer with a heading or title. Get straight to the point. Your answer must be written in the same language as the query, even if language preference is different.\\n\\nYou MUST cite the most relevant search results that answer the query. Do not mention any irrelevant results. You MUST ADHERE to the following instructions for citing search results: - to cite a search result, enclose its index located above the summary with brackets at the end of the corresponding sentence, for example \"Ice is less dense than water[1][2].\" or \"Paris is the capital of France[1][4][5].\" - NO SPACE between the last word and the citation, and ALWAYS use brackets. Only use this format to cite search results. NEVER include a References section at the end of your answer. - If you don\\'t know the answer or the premise is incorrect, explain why. If the search results are empty or unhelpful, answer the query as well as you can with existing knowledge.\\n\\nYou MUST NEVER use moralization or hedging language. AVOID using the following phrases: - \"It is important to ...\" - \"It is inappropriate ...\" - \"It is subjective ...\"\\n\\nYou MUST ADHERE to the following formatting instructions: - Use markdown to format paragraphs, lists, tables, and quotes whenever possible. - Use headings level 2 and 3 to separate sections of your response, like \"## Header\", but NEVER start an answer with a heading or title of any kind (i.e. Never start with #). - Use single new lines for lists and double new lines for paragraphs. - Use markdown to render images given in the search results. - NEVER write URLs or links.\\n\\nYou MUST base your answer SOLELY on the search results.\\n\\nYou MUST ALWAYS REFERENCE results with CORRECT VERIFIED INDEX in square brackets:\\n\\n    Example:\\n\\n    Claims of advancements in renewable energy technologies focus on solar and wind power as growth areas[1]. Despite reported increases in global investment, challenges such as energy storage and grid integration persist, raising questions about the feasibility of these technologies meeting future demands[2][3].', stage=None, service_content=None),\n",
       " Msg(role='system', content=\"Context: |    | topic_name                                                   | speaker_name                             | summary                                                                                                                                                                                                                                                                                                                                                                    | details                                                                                                                                                                                                                                                                                                                                                                                                                                                                                                                                                                                                                                                                                                                                 |\\n|---:|:-------------------------------------------------------------|:-----------------------------------------|:---------------------------------------------------------------------------------------------------------------------------------------------------------------------------------------------------------------------------------------------------------------------------------------------------------------------------------------------------------------------------|:----------------------------------------------------------------------------------------------------------------------------------------------------------------------------------------------------------------------------------------------------------------------------------------------------------------------------------------------------------------------------------------------------------------------------------------------------------------------------------------------------------------------------------------------------------------------------------------------------------------------------------------------------------------------------------------------------------------------------------------|\\n|  0 | Discussion of the product features and user engagement       | {'Dmitry Grankin'}                       | The product features include real-time transcription, keyword highlighting, and a dashboard for call analysis, which enhances user engagement and retention.                                                                                                                                                                                                               | The product allows users to interact with transcriptions in real-time, providing contextual assistance similar to chat GPT. The dashboard feature enables users to review previous calls, which has shown good retention rates among the small user base.                                                                                                                                                                                                                                                                                                                                                                                                                                                                               |\\n|  1 | Otter                                                        | {'Dmitrii Bashkirov'}                    | Otter is mentioned as a product with good user engagement and onboarding.                                                                                                                                                                                                                                                                                                  | Dmitrii notes that Otter has a significant user base and effective onboarding, contributing to its popularity.                                                                                                                                                                                                                                                                                                                                                                                                                                                                                                                                                                                                                          |\\n|  2 | Otter                                                        | {'Dmitriy Grankin'}                      | Otter is a transcription service that the speakers have subscribed to for their meetings.                                                                                                                                                                                                                                                                                  | Dmitriy mentions that they have purchased a subscription to Otter to assist with note-taking and documentation.                                                                                                                                                                                                                                                                                                                                                                                                                                                                                                                                                                                                                         |\\n|  3 | Otter                                                        | {'Dmitriy Grankin'}                      | Otter is a transcription service that provides real-time transcription of meetings and conversations.                                                                                                                                                                                                                                                                      | Dmitriy Grankin mentioned Otter as a competitor in the transcription space, highlighting its integration capabilities.                                                                                                                                                                                                                                                                                                                                                                                                                                                                                                                                                                                                                  |\\n|  4 | competitor analysis                                          | {'Tempest Dragon'}                       | Competitor analysis is discussed as a critical component of the research process.; Tempest Dragon has shared competitor analysis with the researcher for feedback.                                                                                                                                                                                                         | Tempest Dragon shares plans to analyze competitors to better understand the market landscape.; Tempest Dragon sent the competitor analysis and a table of customer development insights to the researcher, requesting feedback on missing elements. This feedback is expected by Thursday.                                                                                                                                                                                                                                                                                                                                                                                                                                              |\\n|  5 | Discuss the need for analytics and tracking user engagement  | {'Dmitry Grankin'}                       | Dmitry highlighted the importance of having robust analytics to track user engagement and understand user behavior.                                                                                                                                                                                                                                                        | He mentioned the need for backend analytics to accurately measure active users and their engagement with the extension.                                                                                                                                                                                                                                                                                                                                                                                                                                                                                                                                                                                                                 |\\n|  6 | Monitor user registrations and engagement                    | {'Dmitriy Grankin'}                      | The team will keep track of new user registrations and their engagement levels to assess marketing effectiveness.                                                                                                                                                                                                                                                          | Daily monitoring of user registrations is essential to evaluate the success of current marketing strategies. The team aims to identify trends and adjust strategies accordingly.                                                                                                                                                                                                                                                                                                                                                                                                                                                                                                                                                        |\\n|  7 | Discuss the algorithm for user engagement and moderation     | {'Dmitriy Grankin'}                      | Dmitriy expressed concerns about the lack of a good algorithm for user engagement and moderation, which is affecting the project's performance.                                                                                                                                                                                                                            | Dmitriy noted that without a proper algorithm, the project struggles to maintain user engagement and may face challenges in moderation. This issue needs to be addressed to improve overall performance.                                                                                                                                                                                                                                                                                                                                                                                                                                                                                                                                |\\n|  8 | Otter                                                        | {'Dmitriy Grankin'}                      | Otter is mentioned as one of the competitors in the market that the speakers are analyzing.; Dmitrii Bashkirov and Dmitriy Grankin discussed and identified key competitors to analyze, focusing on those with significant market presence.                                                                                                                                | Dmitriy Grankin notes that Otter is among the companies selected for competitive analysis, indicating its relevance in the B2B space.; Competitors selected for analysis include Fatom, TLDV, FireFiles, Otter, MidGeek, and SuperPower. The focus will be on understanding their marketing mechanics and user acquisition strategies.                                                                                                                                                                                                                                                                                                                                                                                                  |\\n|  9 | General engagement and interaction                           | {'Dmitriy Grankin'}                      | Dmitriy engaged in light-hearted banter and interaction during the meeting.                                                                                                                                                                                                                                                                                                | The meeting included informal interactions and expressions from Dmitriy, which may contribute to team morale but do not directly relate to actionable tasks or decisions. This aspect of the meeting reflects a casual atmosphere, which can be beneficial for team dynamics.                                                                                                                                                                                                                                                                                                                                                                                                                                                           |\\n| 10 | Marketing strategies for user acquisition                    | {'Dmitry Grankin'}                       | Discussed various strategies to market the transcription tool and attract users.                                                                                                                                                                                                                                                                                           | Current users are primarily acquired through personal networks, and there are plans to enhance marketing efforts, including a landing page and outreach to consulting firms.                                                                                                                                                                                                                                                                                                                                                                                                                                                                                                                                                            |\\n| 11 | Competitor analysis                                          | {'Dmitriy Grankin', 'Olga Nemirovskaya'} | Dmitriy and Olga discussed identifying competitors and understanding their market positioning.; Discussed the importance of engaging with the community to understand user needs and preferences.; Dmitriy suggested trying to sell to current active users to gauge interest and gather feedback.; Discussed the potential of using influencers to promote their product. | They need to analyze competitors in the note-taking and AI space to understand their offerings and how to differentiate their product.; Both speakers emphasized the need to identify and engage with potential users in relevant communities, such as Telegram, to gather insights and feedback on their product.; The goal is to approach existing users and ask if they would be willing to pay for the product. This will help identify what features or improvements are needed to convert them into paying customers.; Olga mentioned a potential influencer with a significant following who could help promote their product on LinkedIn and Product Hunt. They are considering a paid collaboration to reach a wider audience. |\\n| 12 | Explore user retention and marketing strategies              | {'Dmitry Grankin'}                       | The team discussed the current user base and strategies to improve retention and marketing efforts to attract more users.                                                                                                                                                                                                                                                  | Dmitry Grankin mentioned that while user retention is currently sufficient, there is a need to enhance marketing strategies to bring in more users. The focus is on understanding user needs and improving the product accordingly.                                                                                                                                                                                                                                                                                                                                                                                                                                                                                                     |\\n| 13 | Analyze engagement metrics                                   | {'Dmitriy Grankin'}                      | Review engagement metrics from posts to understand audience interaction.                                                                                                                                                                                                                                                                                                   | Dmitriy proposed analyzing engagement metrics from their posts to identify which types of content resonate with their audience. This analysis will help optimize future content strategies. No specific deadline was mentioned.                                                                                                                                                                                                                                                                                                                                                                                                                                                                                                         |\\n| 14 | Participant engagement                                       | {'CTNS'}                                 | Encouraging participants to share their backgrounds to tailor the content of the meeting.                                                                                                                                                                                                                                                                                  | Participants are asked to introduce themselves, including their industry and location, to facilitate relevant discussions.                                                                                                                                                                                                                                                                                                                                                                                                                                                                                                                                                                                                              |\\n| 15 | Discussion on the importance of user feedback and engagement | {'Emerald Hawk', 'Scarlet Phoenix'}      | The team discussed the need for continuous user feedback to improve the product and user experience.; The team reviewed user activity metrics to assess engagement levels and identify areas for improvement.                                                                                                                                                              | Engaging with users through surveys and direct communication will help gather insights on their needs and preferences, which can inform future product developments and marketing strategies.; Current metrics show 14 active users, with discussions on how to increase this number through better marketing and user engagement strategies.                                                                                                                                                                                                                                                                                                                                                                                           |\\n| 16 | Client engagement and feedback                               | {'CTNS'}                                 | The team set a goal to attract several clients for testing the application and emphasized the importance of gathering feedback from these early users.; The team aims to attract clients for testing the application and gather feedback to improve its functionality and user experience.                                                                                 | CTNS suggested that engaging with clients and obtaining their feedback is essential for refining the application. The team aims to connect with business units within larger companies to facilitate this testing process.; CTNS suggested the importance of engaging with potential clients and obtaining their feedback. The goal is to attract several clients to test the application and provide insights that can guide further development.                                                                                                                                                                                                                                                                                      |\\n| 17 | User Engagement                                              | {'Dmitriy Grankin', 'Olga Nemirovskaya'} | User Engagement refers to the interaction and involvement of users with VEX.; User Experience refers to the overall experience a user has when interacting with VEX.; User Behavior refers to the actions and interactions of users with VEX.                                                                                                                              | The team discusses strategies to enhance user engagement through community building and content sharing.; The team discusses improving user experience through better onboarding and support materials.; The team discusses analyzing user behavior to identify areas for improvement in the product.                                                                                                                                                                                                                                                                                                                                                                                                                                   |\\n| 18 | User experience insights and suggestions for improvement     | {'Ilia Semukhin', 'Dmitriy Grankin'}     | The speakers shared insights on user experience and proposed solutions to enhance the product's usability.; User experience is a key focus of the meeting, with discussions on improving the product's usability.                                                                                                                                                          | Both Ilia and Dmitriy provided suggestions for improving the user interface, including making controls more intuitive and ensuring that the assistant's presence is less intrusive during meetings. They emphasized the need for a design that allows users to focus on their tasks without unnecessary distractions.; The speakers share their thoughts on how to create a better user experience through design and functionality improvements.                                                                                                                                                                                                                                                                                       |\\n| 19 | OtterEye                                                     | {'Dmitry Grankin'}                       | OtterEye is a company referenced in the meeting that has successfully marketed its product by addressing user pain points.                                                                                                                                                                                                                                                 | They focused on a simple pitch that emphasized ease of use and reliability, which resonated with their audience.                                                                                                                                                                                                                                                                                                                                                                                                                                                                                                                                                                                                                        |\", stage=None, service_content=None),\n",
       " Msg(role='user', content='explain how our compatitors fireflier and otter attract users', stage=None, service_content=None)]"
      ]
     },
     "execution_count": 22,
     "metadata": {},
     "output_type": "execute_result"
    }
   ],
   "source": [
    "messages_context"
   ]
  },
  {
   "cell_type": "code",
   "execution_count": 23,
   "metadata": {},
   "outputs": [],
   "source": [
    "output = \"\"\n",
    "async for chunk in generic_call_(messages_context, streaming=True):\n",
    "    output += chunk"
   ]
  },
  {
   "cell_type": "code",
   "execution_count": 24,
   "metadata": {},
   "outputs": [
    {
     "data": {
      "text/markdown": [
       "FireFlier and Otter attract users through various strategies that focus on user needs and effective marketing.\n",
       "\n",
       "**FireFlier:**\n",
       "\n",
       "- **User Pain Points:** FireFlier successfully markets its product by addressing specific user pain points, which resonates with potential customers. This approach helps in creating a strong value proposition that appeals to users looking for solutions to their challenges[19].\n",
       "\n",
       "- **Simplicity and Reliability:** The company emphasizes a straightforward pitch that highlights the ease of use and reliability of its service. This messaging is designed to attract users who prioritize functionality and dependability in transcription services[19].\n",
       "\n",
       "**Otter:**\n",
       "\n",
       "- **Effective Onboarding:** Otter has established a significant user base partly due to its effective onboarding process. This helps new users quickly understand and utilize the service, enhancing user engagement from the start[1].\n",
       "\n",
       "- **Real-Time Transcription Features:** Otter offers real-time transcription of meetings and conversations, which is a key feature that attracts users looking for efficient note-taking solutions. This functionality is particularly appealing in professional settings where accurate documentation is essential[3][2].\n",
       "\n",
       "- **Community Engagement:** Otter engages with its community to understand user needs and preferences, which informs their marketing strategies and product development. This engagement helps in building a loyal user base that feels valued and heard[11].\n",
       "\n",
       "Both companies leverage these strategies to enhance user acquisition and retention in the competitive transcription market."
      ],
      "text/plain": [
       "<IPython.core.display.Markdown object>"
      ]
     },
     "execution_count": 24,
     "metadata": {},
     "output_type": "execute_result"
    }
   ],
   "source": [
    "from IPython.display import Markdown\n",
    "Markdown(output)"
   ]
  },
  {
   "cell_type": "code",
   "execution_count": 96,
   "metadata": {},
   "outputs": [
    {
     "data": {
      "text/plain": [
       "'Lara is involved in several key activities related to your projects. She is coordinating with a YouTuber for promotional activities, arranging for content creation that includes a video and social media posts to enhance visibility[1]. Additionally, Lara is engaged in influencer marketing, working to secure posts that will promote your content. She is currently negotiating with two influencers to publish posts within two weeks[7].\\n\\nFurthermore, Lara is also a contact for contract discussions, and Olga is waiting for contracts from her to proceed with various projects. There is no immediate urgency for translation work related to these contracts, allowing for some flexibility in timelines[6]. Lastly, there is a plan for collaboration with Lara to establish an Instagram presence and explore influencer partnerships[4].'"
      ]
     },
     "execution_count": 96,
     "metadata": {},
     "output_type": "execute_result"
    }
   ],
   "source": [
    "output"
   ]
  },
  {
   "cell_type": "code",
   "execution_count": null,
   "metadata": {},
   "outputs": [],
   "source": []
  }
 ],
 "metadata": {
  "kernelspec": {
   "display_name": "langchain",
   "language": "python",
   "name": "python3"
  },
  "language_info": {
   "codemirror_mode": {
    "name": "ipython",
    "version": 3
   },
   "file_extension": ".py",
   "mimetype": "text/x-python",
   "name": "python",
   "nbconvert_exporter": "python",
   "pygments_lexer": "ipython3",
   "version": "3.11.2"
  }
 },
 "nbformat": 4,
 "nbformat_minor": 2
}
