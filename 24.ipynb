{
 "cells": [
  {
   "cell_type": "code",
   "execution_count": 1,
   "metadata": {},
   "outputs": [],
   "source": [
    "%reload_ext autoreload\n",
    "%autoreload 2"
   ]
  },
  {
   "cell_type": "code",
   "execution_count": 2,
   "metadata": {},
   "outputs": [],
   "source": [
    "from search import SearchAssistant\n",
    "\n",
    "from pydantic_models import ParsedSearchRequest"
   ]
  },
  {
   "cell_type": "code",
   "execution_count": 3,
   "metadata": {},
   "outputs": [
    {
     "name": "stdout",
     "output_type": "stream",
     "text": [
      "User information retrieved successfully.\n"
     ]
    },
    {
     "data": {
      "text/plain": [
       "{'id': 'ef7c085b-fdb5-4c94-b7b6-a61a3d04c210',\n",
       " 'email': '2280905@gmail.com',\n",
       " 'is_allowed_send_init_message': True,\n",
       " 'username': 'Dmitriy Grankin',\n",
       " 'first_name': 'Dmitriy',\n",
       " 'last_name': 'Grankin',\n",
       " 'image': 'https://lh3.googleusercontent.com/a/ACg8ocLu4ZPfzj9KFNVqKL3NTF4SXUYvJ4mwoXLuoQ0BZzjw7OBIRA=s96-c',\n",
       " 'created_timestamp': '2024-05-28T11:16:50.894711Z',\n",
       " 'updated_timestamp': '2024-10-18T08:47:02.519781Z'}"
      ]
     },
     "execution_count": 3,
     "metadata": {},
     "output_type": "execute_result"
    }
   ],
   "source": [
    "from vexa import VexaAPI\n",
    "vexa = VexaAPI()\n",
    "await vexa.get_user_info()\n"
   ]
  },
  {
   "cell_type": "code",
   "execution_count": 25,
   "metadata": {},
   "outputs": [],
   "source": [
    "q = 'copetitors'\n",
    "r = await ParsedSearchRequest.parse_request(q)"
   ]
  },
  {
   "cell_type": "code",
   "execution_count": 26,
   "metadata": {},
   "outputs": [
    {
     "data": {
      "text/plain": [
       "['competitors']"
      ]
     },
     "execution_count": 26,
     "metadata": {},
     "output_type": "execute_result"
    }
   ],
   "source": [
    "queries = [q.query for q in r.search_queries]\n",
    "queries"
   ]
  },
  {
   "cell_type": "code",
   "execution_count": 27,
   "metadata": {},
   "outputs": [
    {
     "data": {
      "text/plain": [
       "'ef7c085b-fdb5-4c94-b7b6-a61a3d04c210'"
      ]
     },
     "execution_count": 27,
     "metadata": {},
     "output_type": "execute_result"
    }
   ],
   "source": [
    "vexa.user_id"
   ]
  },
  {
   "cell_type": "code",
   "execution_count": 28,
   "metadata": {},
   "outputs": [],
   "source": [
    "output = ''"
   ]
  },
  {
   "cell_type": "code",
   "execution_count": 8,
   "metadata": {},
   "outputs": [],
   "source": [
    "import pandas as pd"
   ]
  },
  {
   "cell_type": "code",
   "execution_count": 9,
   "metadata": {},
   "outputs": [],
   "source": [
    "# Initialize the search assistant\n",
    "search_assistant = SearchAssistant()\n",
    "await search_assistant.initialize()"
   ]
  },
  {
   "cell_type": "code",
   "execution_count": 10,
   "metadata": {},
   "outputs": [
    {
     "name": "stderr",
     "output_type": "stream",
     "text": [
      "/home/dima/playground/vexa_multiassistant/back/search.py:99: FutureWarning: The behavior of DataFrame concatenation with empty or all-NA entries is deprecated. In a future version, this will no longer exclude empty or all-NA columns when determining the result dtypes. To retain the old behavior, exclude the relevant entries before the concat operation.\n",
      "  results = pd.concat([main_df, speaker_df]).drop_duplicates(subset=columns).reset_index(drop=True)\n",
      "/home/dima/playground/vexa_multiassistant/back/search.py:99: FutureWarning: The behavior of DataFrame concatenation with empty or all-NA entries is deprecated. In a future version, this will no longer exclude empty or all-NA columns when determining the result dtypes. To retain the old behavior, exclude the relevant entries before the concat operation.\n",
      "  results = pd.concat([main_df, speaker_df]).drop_duplicates(subset=columns).reset_index(drop=True)\n",
      "/home/dima/playground/vexa_multiassistant/back/search.py:99: FutureWarning: The behavior of DataFrame concatenation with empty or all-NA entries is deprecated. In a future version, this will no longer exclude empty or all-NA columns when determining the result dtypes. To retain the old behavior, exclude the relevant entries before the concat operation.\n",
      "  results = pd.concat([main_df, speaker_df]).drop_duplicates(subset=columns).reset_index(drop=True)\n",
      "/home/dima/playground/vexa_multiassistant/back/search.py:99: FutureWarning: The behavior of DataFrame concatenation with empty or all-NA entries is deprecated. In a future version, this will no longer exclude empty or all-NA columns when determining the result dtypes. To retain the old behavior, exclude the relevant entries before the concat operation.\n",
      "  results = pd.concat([main_df, speaker_df]).drop_duplicates(subset=columns).reset_index(drop=True)\n",
      "/home/dima/playground/vexa_multiassistant/back/search.py:99: FutureWarning: The behavior of DataFrame concatenation with empty or all-NA entries is deprecated. In a future version, this will no longer exclude empty or all-NA columns when determining the result dtypes. To retain the old behavior, exclude the relevant entries before the concat operation.\n",
      "  results = pd.concat([main_df, speaker_df]).drop_duplicates(subset=columns).reset_index(drop=True)\n"
     ]
    }
   ],
   "source": [
    "search_results = [await search_assistant.search(query) for query in queries]"
   ]
  },
  {
   "cell_type": "code",
   "execution_count": 11,
   "metadata": {},
   "outputs": [],
   "source": [
    "search_results\n",
    "search_results = pd.concat(search_results)"
   ]
  },
  {
   "cell_type": "code",
   "execution_count": 12,
   "metadata": {},
   "outputs": [],
   "source": [
    "search_results['relevance_score'] = search_assistant.normalize_series(search_results['score']).round(2)"
   ]
  },
  {
   "cell_type": "code",
   "execution_count": 14,
   "metadata": {},
   "outputs": [],
   "source": [
    "search_results = search_results[search_results['score']>0.49]"
   ]
  },
  {
   "cell_type": "code",
   "execution_count": 15,
   "metadata": {},
   "outputs": [
    {
     "data": {
      "text/html": [
       "<div>\n",
       "<style scoped>\n",
       "    .dataframe tbody tr th:only-of-type {\n",
       "        vertical-align: middle;\n",
       "    }\n",
       "\n",
       "    .dataframe tbody tr th {\n",
       "        vertical-align: top;\n",
       "    }\n",
       "\n",
       "    .dataframe thead th {\n",
       "        text-align: right;\n",
       "    }\n",
       "</style>\n",
       "<table border=\"1\" class=\"dataframe\">\n",
       "  <thead>\n",
       "    <tr style=\"text-align: right;\">\n",
       "      <th></th>\n",
       "      <th>topic_name</th>\n",
       "      <th>speaker_name</th>\n",
       "      <th>summary</th>\n",
       "      <th>details</th>\n",
       "      <th>meeting_id</th>\n",
       "      <th>timestamp</th>\n",
       "      <th>score</th>\n",
       "      <th>vector_scores</th>\n",
       "      <th>exact_matches</th>\n",
       "      <th>source</th>\n",
       "      <th>relevance_score</th>\n",
       "    </tr>\n",
       "  </thead>\n",
       "  <tbody>\n",
       "    <tr>\n",
       "      <th>0</th>\n",
       "      <td>User Engagement</td>\n",
       "      <td>Dmitriy Grankin</td>\n",
       "      <td>User Engagement refers to the interaction and ...</td>\n",
       "      <td>The team discusses strategies to enhance user ...</td>\n",
       "      <td>f93390d3-bb36-47aa-856b-2e44cd4026a2</td>\n",
       "      <td>2024-08-30T17:34:58.980000</td>\n",
       "      <td>0.616697</td>\n",
       "      <td>{'topic_name': 0.6166973}</td>\n",
       "      <td>[]</td>\n",
       "      <td>main</td>\n",
       "      <td>0.66</td>\n",
       "    </tr>\n",
       "    <tr>\n",
       "      <th>1</th>\n",
       "      <td>Marketing strategies for user acquisition</td>\n",
       "      <td>Dmitry Grankin</td>\n",
       "      <td>Discussed various strategies to market the tra...</td>\n",
       "      <td>Current users are primarily acquired through p...</td>\n",
       "      <td>2e36140e-e62e-4657-bbb4-a0473dbf608e</td>\n",
       "      <td>2024-09-10T10:05:32.675999</td>\n",
       "      <td>0.609003</td>\n",
       "      <td>{'topic_name': 0.6090028700000001}</td>\n",
       "      <td>[]</td>\n",
       "      <td>main</td>\n",
       "      <td>0.65</td>\n",
       "    </tr>\n",
       "    <tr>\n",
       "      <th>2</th>\n",
       "      <td>Explore user retention and marketing strategies</td>\n",
       "      <td>Dmitry Grankin</td>\n",
       "      <td>The team discussed the current user base and s...</td>\n",
       "      <td>Dmitry Grankin mentioned that while user reten...</td>\n",
       "      <td>081d04c6-827d-4375-af68-9f8fbd50b707</td>\n",
       "      <td>2024-09-10T12:02:21.644000</td>\n",
       "      <td>0.605758</td>\n",
       "      <td>{'topic_name': 0.60575784}</td>\n",
       "      <td>[]</td>\n",
       "      <td>main</td>\n",
       "      <td>0.64</td>\n",
       "    </tr>\n",
       "    <tr>\n",
       "      <th>3</th>\n",
       "      <td>Customer Engagement Strategies</td>\n",
       "      <td>Olga Nemirovskaya</td>\n",
       "      <td>The meeting emphasized the importance of engag...</td>\n",
       "      <td>Olga suggested that businesses should focus on...</td>\n",
       "      <td>07084c2f-3197-4140-b5a8-e453256db364</td>\n",
       "      <td>2024-09-24T16:36:56.820000</td>\n",
       "      <td>0.553882</td>\n",
       "      <td>{'topic_name': 0.55388177}</td>\n",
       "      <td>[]</td>\n",
       "      <td>main</td>\n",
       "      <td>0.58</td>\n",
       "    </tr>\n",
       "    <tr>\n",
       "      <th>4</th>\n",
       "      <td>Sales strategies targeting existing users</td>\n",
       "      <td>Dmitriy Grankin</td>\n",
       "      <td>Dmitriy suggested trying to sell to current ac...</td>\n",
       "      <td>The goal is to approach existing users and ask...</td>\n",
       "      <td>cac618cd-fb7f-4d15-ada4-0f06358b13e5</td>\n",
       "      <td>2024-09-20T19:03:16.004000</td>\n",
       "      <td>0.553240</td>\n",
       "      <td>{'topic_name': 0.55323992}</td>\n",
       "      <td>[]</td>\n",
       "      <td>main</td>\n",
       "      <td>0.58</td>\n",
       "    </tr>\n",
       "    <tr>\n",
       "      <th>...</th>\n",
       "      <td>...</td>\n",
       "      <td>...</td>\n",
       "      <td>...</td>\n",
       "      <td>...</td>\n",
       "      <td>...</td>\n",
       "      <td>...</td>\n",
       "      <td>...</td>\n",
       "      <td>...</td>\n",
       "      <td>...</td>\n",
       "      <td>...</td>\n",
       "      <td>...</td>\n",
       "    </tr>\n",
       "    <tr>\n",
       "      <th>1</th>\n",
       "      <td>Otter</td>\n",
       "      <td>Dmitrii Bashkirov</td>\n",
       "      <td>Otter is mentioned as a product with good user...</td>\n",
       "      <td>Dmitrii notes that Otter has a significant use...</td>\n",
       "      <td>fa6923af-1655-4564-bc97-6f436e0e664e</td>\n",
       "      <td>2024-09-06T14:38:04.040000</td>\n",
       "      <td>0.824765</td>\n",
       "      <td>{'topic_name': 0.82476494, 'summary': 0.600521...</td>\n",
       "      <td>[]</td>\n",
       "      <td>main</td>\n",
       "      <td>0.90</td>\n",
       "    </tr>\n",
       "    <tr>\n",
       "      <th>2</th>\n",
       "      <td>Otter</td>\n",
       "      <td>Dmitriy Grankin</td>\n",
       "      <td>Otter is mentioned as one of the competitors i...</td>\n",
       "      <td>Dmitriy Grankin notes that Otter is among the ...</td>\n",
       "      <td>ae547dc7-22b0-4628-a715-4d0377adfc6c</td>\n",
       "      <td>2024-09-04T11:23:50.070000</td>\n",
       "      <td>0.824765</td>\n",
       "      <td>{'topic_name': 0.82476494, 'summary': 0.511076...</td>\n",
       "      <td>[]</td>\n",
       "      <td>main</td>\n",
       "      <td>0.90</td>\n",
       "    </tr>\n",
       "    <tr>\n",
       "      <th>3</th>\n",
       "      <td>Otter</td>\n",
       "      <td>Dmitriy Grankin</td>\n",
       "      <td>Otter is a transcription service that provides...</td>\n",
       "      <td>Dmitriy Grankin mentioned Otter as a competito...</td>\n",
       "      <td>23c077e5-a0f9-4175-8b5a-dd13bfb90c91</td>\n",
       "      <td>2024-08-28T13:18:30.600000</td>\n",
       "      <td>0.824765</td>\n",
       "      <td>{'topic_name': 0.82476494, 'summary': 0.451963...</td>\n",
       "      <td>[]</td>\n",
       "      <td>main</td>\n",
       "      <td>0.90</td>\n",
       "    </tr>\n",
       "    <tr>\n",
       "      <th>4</th>\n",
       "      <td>OtterEye</td>\n",
       "      <td>Dmitry Grankin</td>\n",
       "      <td>OtterEye is a company referenced in the meetin...</td>\n",
       "      <td>They focused on a simple pitch that emphasized...</td>\n",
       "      <td>db0e1e1a-8c83-4d8d-8ac5-c7d4a8264242</td>\n",
       "      <td>2024-09-12T10:00:07.800000</td>\n",
       "      <td>0.613720</td>\n",
       "      <td>{'topic_name': 0.61371964, 'summary': 0.431255...</td>\n",
       "      <td>[]</td>\n",
       "      <td>main</td>\n",
       "      <td>0.65</td>\n",
       "    </tr>\n",
       "    <tr>\n",
       "      <th>5</th>\n",
       "      <td>Otter.ai</td>\n",
       "      <td>Matt Lewis</td>\n",
       "      <td>Otter.ai is a transcription service that Matt ...</td>\n",
       "      <td>Matt recalls using Otter.ai for recording and ...</td>\n",
       "      <td>a2926b2d-f4eb-4bcc-864f-27607faa39fb</td>\n",
       "      <td>2024-08-30T17:04:58.820000</td>\n",
       "      <td>0.607826</td>\n",
       "      <td>{'topic_name': 0.607826, 'summary': 0.31527894...</td>\n",
       "      <td>[]</td>\n",
       "      <td>main</td>\n",
       "      <td>0.65</td>\n",
       "    </tr>\n",
       "  </tbody>\n",
       "</table>\n",
       "<p>62 rows × 11 columns</p>\n",
       "</div>"
      ],
      "text/plain": [
       "                                         topic_name       speaker_name  \\\n",
       "0                                   User Engagement    Dmitriy Grankin   \n",
       "1         Marketing strategies for user acquisition     Dmitry Grankin   \n",
       "2   Explore user retention and marketing strategies     Dmitry Grankin   \n",
       "3                    Customer Engagement Strategies  Olga Nemirovskaya   \n",
       "4         Sales strategies targeting existing users    Dmitriy Grankin   \n",
       "..                                              ...                ...   \n",
       "1                                             Otter  Dmitrii Bashkirov   \n",
       "2                                             Otter    Dmitriy Grankin   \n",
       "3                                             Otter    Dmitriy Grankin   \n",
       "4                                          OtterEye     Dmitry Grankin   \n",
       "5                                          Otter.ai         Matt Lewis   \n",
       "\n",
       "                                              summary  \\\n",
       "0   User Engagement refers to the interaction and ...   \n",
       "1   Discussed various strategies to market the tra...   \n",
       "2   The team discussed the current user base and s...   \n",
       "3   The meeting emphasized the importance of engag...   \n",
       "4   Dmitriy suggested trying to sell to current ac...   \n",
       "..                                                ...   \n",
       "1   Otter is mentioned as a product with good user...   \n",
       "2   Otter is mentioned as one of the competitors i...   \n",
       "3   Otter is a transcription service that provides...   \n",
       "4   OtterEye is a company referenced in the meetin...   \n",
       "5   Otter.ai is a transcription service that Matt ...   \n",
       "\n",
       "                                              details  \\\n",
       "0   The team discusses strategies to enhance user ...   \n",
       "1   Current users are primarily acquired through p...   \n",
       "2   Dmitry Grankin mentioned that while user reten...   \n",
       "3   Olga suggested that businesses should focus on...   \n",
       "4   The goal is to approach existing users and ask...   \n",
       "..                                                ...   \n",
       "1   Dmitrii notes that Otter has a significant use...   \n",
       "2   Dmitriy Grankin notes that Otter is among the ...   \n",
       "3   Dmitriy Grankin mentioned Otter as a competito...   \n",
       "4   They focused on a simple pitch that emphasized...   \n",
       "5   Matt recalls using Otter.ai for recording and ...   \n",
       "\n",
       "                              meeting_id                   timestamp  \\\n",
       "0   f93390d3-bb36-47aa-856b-2e44cd4026a2  2024-08-30T17:34:58.980000   \n",
       "1   2e36140e-e62e-4657-bbb4-a0473dbf608e  2024-09-10T10:05:32.675999   \n",
       "2   081d04c6-827d-4375-af68-9f8fbd50b707  2024-09-10T12:02:21.644000   \n",
       "3   07084c2f-3197-4140-b5a8-e453256db364  2024-09-24T16:36:56.820000   \n",
       "4   cac618cd-fb7f-4d15-ada4-0f06358b13e5  2024-09-20T19:03:16.004000   \n",
       "..                                   ...                         ...   \n",
       "1   fa6923af-1655-4564-bc97-6f436e0e664e  2024-09-06T14:38:04.040000   \n",
       "2   ae547dc7-22b0-4628-a715-4d0377adfc6c  2024-09-04T11:23:50.070000   \n",
       "3   23c077e5-a0f9-4175-8b5a-dd13bfb90c91  2024-08-28T13:18:30.600000   \n",
       "4   db0e1e1a-8c83-4d8d-8ac5-c7d4a8264242  2024-09-12T10:00:07.800000   \n",
       "5   a2926b2d-f4eb-4bcc-864f-27607faa39fb  2024-08-30T17:04:58.820000   \n",
       "\n",
       "       score                                      vector_scores exact_matches  \\\n",
       "0   0.616697                          {'topic_name': 0.6166973}            []   \n",
       "1   0.609003                 {'topic_name': 0.6090028700000001}            []   \n",
       "2   0.605758                         {'topic_name': 0.60575784}            []   \n",
       "3   0.553882                         {'topic_name': 0.55388177}            []   \n",
       "4   0.553240                         {'topic_name': 0.55323992}            []   \n",
       "..       ...                                                ...           ...   \n",
       "1   0.824765  {'topic_name': 0.82476494, 'summary': 0.600521...            []   \n",
       "2   0.824765  {'topic_name': 0.82476494, 'summary': 0.511076...            []   \n",
       "3   0.824765  {'topic_name': 0.82476494, 'summary': 0.451963...            []   \n",
       "4   0.613720  {'topic_name': 0.61371964, 'summary': 0.431255...            []   \n",
       "5   0.607826  {'topic_name': 0.607826, 'summary': 0.31527894...            []   \n",
       "\n",
       "   source  relevance_score  \n",
       "0    main             0.66  \n",
       "1    main             0.65  \n",
       "2    main             0.64  \n",
       "3    main             0.58  \n",
       "4    main             0.58  \n",
       "..    ...              ...  \n",
       "1    main             0.90  \n",
       "2    main             0.90  \n",
       "3    main             0.90  \n",
       "4    main             0.65  \n",
       "5    main             0.65  \n",
       "\n",
       "[62 rows x 11 columns]"
      ]
     },
     "execution_count": 15,
     "metadata": {},
     "output_type": "execute_result"
    }
   ],
   "source": [
    "search_results"
   ]
  },
  {
   "cell_type": "code",
   "execution_count": 16,
   "metadata": {},
   "outputs": [],
   "source": [
    "import numpy as np"
   ]
  },
  {
   "cell_type": "code",
   "execution_count": 17,
   "metadata": {},
   "outputs": [],
   "source": [
    "search_results = search_results.drop(columns=['vector_scores','exact_matches']).drop_duplicates(subset = ['topic_name','speaker_name','summary','details','meeting_id'])"
   ]
  },
  {
   "cell_type": "code",
   "execution_count": 18,
   "metadata": {},
   "outputs": [],
   "source": [
    "meeting_groups = search_results.sort_values('score', ascending=False).groupby('meeting_id').agg({\n",
    "        'score': lambda x: np.average(x, weights=np.exp2(x)),  # Exponential weighting\n",
    "        'topic_name': 'first',\n",
    "        'speaker_name': set,\n",
    "        'summary': '; '.join,\n",
    "        'details': '; '.join,\n",
    "        'timestamp': 'first'\n",
    "    }).sort_values('score', ascending=False).reset_index()"
   ]
  },
  {
   "cell_type": "code",
   "execution_count": 19,
   "metadata": {},
   "outputs": [
    {
     "data": {
      "text/plain": [
       "\"|    | topic_name                                                   | speaker_name                             | summary                                                                                                                                                                                                                                                                                                                                                                    | details                                                                                                                                                                                                                                                                                                                                                                                                                                                                                                                                                                                                                                                                                                                                 |\\n|---:|:-------------------------------------------------------------|:-----------------------------------------|:---------------------------------------------------------------------------------------------------------------------------------------------------------------------------------------------------------------------------------------------------------------------------------------------------------------------------------------------------------------------------|:----------------------------------------------------------------------------------------------------------------------------------------------------------------------------------------------------------------------------------------------------------------------------------------------------------------------------------------------------------------------------------------------------------------------------------------------------------------------------------------------------------------------------------------------------------------------------------------------------------------------------------------------------------------------------------------------------------------------------------------|\\n|  0 | Discussion of the product features and user engagement       | {'Dmitry Grankin'}                       | The product features include real-time transcription, keyword highlighting, and a dashboard for call analysis, which enhances user engagement and retention.                                                                                                                                                                                                               | The product allows users to interact with transcriptions in real-time, providing contextual assistance similar to chat GPT. The dashboard feature enables users to review previous calls, which has shown good retention rates among the small user base.                                                                                                                                                                                                                                                                                                                                                                                                                                                                               |\\n|  1 | Otter                                                        | {'Dmitrii Bashkirov'}                    | Otter is mentioned as a product with good user engagement and onboarding.                                                                                                                                                                                                                                                                                                  | Dmitrii notes that Otter has a significant user base and effective onboarding, contributing to its popularity.                                                                                                                                                                                                                                                                                                                                                                                                                                                                                                                                                                                                                          |\\n|  2 | Otter                                                        | {'Dmitriy Grankin'}                      | Otter is a transcription service that the speakers have subscribed to for their meetings.                                                                                                                                                                                                                                                                                  | Dmitriy mentions that they have purchased a subscription to Otter to assist with note-taking and documentation.                                                                                                                                                                                                                                                                                                                                                                                                                                                                                                                                                                                                                         |\\n|  3 | Otter                                                        | {'Dmitriy Grankin'}                      | Otter is a transcription service that provides real-time transcription of meetings and conversations.                                                                                                                                                                                                                                                                      | Dmitriy Grankin mentioned Otter as a competitor in the transcription space, highlighting its integration capabilities.                                                                                                                                                                                                                                                                                                                                                                                                                                                                                                                                                                                                                  |\\n|  4 | competitor analysis                                          | {'Tempest Dragon'}                       | Competitor analysis is discussed as a critical component of the research process.; Tempest Dragon has shared competitor analysis with the researcher for feedback.                                                                                                                                                                                                         | Tempest Dragon shares plans to analyze competitors to better understand the market landscape.; Tempest Dragon sent the competitor analysis and a table of customer development insights to the researcher, requesting feedback on missing elements. This feedback is expected by Thursday.                                                                                                                                                                                                                                                                                                                                                                                                                                              |\\n|  5 | Discuss the need for analytics and tracking user engagement  | {'Dmitry Grankin'}                       | Dmitry highlighted the importance of having robust analytics to track user engagement and understand user behavior.                                                                                                                                                                                                                                                        | He mentioned the need for backend analytics to accurately measure active users and their engagement with the extension.                                                                                                                                                                                                                                                                                                                                                                                                                                                                                                                                                                                                                 |\\n|  6 | Monitor user registrations and engagement                    | {'Dmitriy Grankin'}                      | The team will keep track of new user registrations and their engagement levels to assess marketing effectiveness.                                                                                                                                                                                                                                                          | Daily monitoring of user registrations is essential to evaluate the success of current marketing strategies. The team aims to identify trends and adjust strategies accordingly.                                                                                                                                                                                                                                                                                                                                                                                                                                                                                                                                                        |\\n|  7 | Discuss the algorithm for user engagement and moderation     | {'Dmitriy Grankin'}                      | Dmitriy expressed concerns about the lack of a good algorithm for user engagement and moderation, which is affecting the project's performance.                                                                                                                                                                                                                            | Dmitriy noted that without a proper algorithm, the project struggles to maintain user engagement and may face challenges in moderation. This issue needs to be addressed to improve overall performance.                                                                                                                                                                                                                                                                                                                                                                                                                                                                                                                                |\\n|  8 | Otter                                                        | {'Dmitriy Grankin'}                      | Otter is mentioned as one of the competitors in the market that the speakers are analyzing.; Dmitrii Bashkirov and Dmitriy Grankin discussed and identified key competitors to analyze, focusing on those with significant market presence.                                                                                                                                | Dmitriy Grankin notes that Otter is among the companies selected for competitive analysis, indicating its relevance in the B2B space.; Competitors selected for analysis include Fatom, TLDV, FireFiles, Otter, MidGeek, and SuperPower. The focus will be on understanding their marketing mechanics and user acquisition strategies.                                                                                                                                                                                                                                                                                                                                                                                                  |\\n|  9 | General engagement and interaction                           | {'Dmitriy Grankin'}                      | Dmitriy engaged in light-hearted banter and interaction during the meeting.                                                                                                                                                                                                                                                                                                | The meeting included informal interactions and expressions from Dmitriy, which may contribute to team morale but do not directly relate to actionable tasks or decisions. This aspect of the meeting reflects a casual atmosphere, which can be beneficial for team dynamics.                                                                                                                                                                                                                                                                                                                                                                                                                                                           |\\n| 10 | Marketing strategies for user acquisition                    | {'Dmitry Grankin'}                       | Discussed various strategies to market the transcription tool and attract users.                                                                                                                                                                                                                                                                                           | Current users are primarily acquired through personal networks, and there are plans to enhance marketing efforts, including a landing page and outreach to consulting firms.                                                                                                                                                                                                                                                                                                                                                                                                                                                                                                                                                            |\\n| 11 | Competitor analysis                                          | {'Dmitriy Grankin', 'Olga Nemirovskaya'} | Dmitriy and Olga discussed identifying competitors and understanding their market positioning.; Discussed the importance of engaging with the community to understand user needs and preferences.; Dmitriy suggested trying to sell to current active users to gauge interest and gather feedback.; Discussed the potential of using influencers to promote their product. | They need to analyze competitors in the note-taking and AI space to understand their offerings and how to differentiate their product.; Both speakers emphasized the need to identify and engage with potential users in relevant communities, such as Telegram, to gather insights and feedback on their product.; The goal is to approach existing users and ask if they would be willing to pay for the product. This will help identify what features or improvements are needed to convert them into paying customers.; Olga mentioned a potential influencer with a significant following who could help promote their product on LinkedIn and Product Hunt. They are considering a paid collaboration to reach a wider audience. |\\n| 12 | Explore user retention and marketing strategies              | {'Dmitry Grankin'}                       | The team discussed the current user base and strategies to improve retention and marketing efforts to attract more users.                                                                                                                                                                                                                                                  | Dmitry Grankin mentioned that while user retention is currently sufficient, there is a need to enhance marketing strategies to bring in more users. The focus is on understanding user needs and improving the product accordingly.                                                                                                                                                                                                                                                                                                                                                                                                                                                                                                     |\\n| 13 | Analyze engagement metrics                                   | {'Dmitriy Grankin'}                      | Review engagement metrics from posts to understand audience interaction.                                                                                                                                                                                                                                                                                                   | Dmitriy proposed analyzing engagement metrics from their posts to identify which types of content resonate with their audience. This analysis will help optimize future content strategies. No specific deadline was mentioned.                                                                                                                                                                                                                                                                                                                                                                                                                                                                                                         |\\n| 14 | Participant engagement                                       | {'CTNS'}                                 | Encouraging participants to share their backgrounds to tailor the content of the meeting.                                                                                                                                                                                                                                                                                  | Participants are asked to introduce themselves, including their industry and location, to facilitate relevant discussions.                                                                                                                                                                                                                                                                                                                                                                                                                                                                                                                                                                                                              |\\n| 15 | Discussion on the importance of user feedback and engagement | {'Emerald Hawk', 'Scarlet Phoenix'}      | The team discussed the need for continuous user feedback to improve the product and user experience.; The team reviewed user activity metrics to assess engagement levels and identify areas for improvement.                                                                                                                                                              | Engaging with users through surveys and direct communication will help gather insights on their needs and preferences, which can inform future product developments and marketing strategies.; Current metrics show 14 active users, with discussions on how to increase this number through better marketing and user engagement strategies.                                                                                                                                                                                                                                                                                                                                                                                           |\\n| 16 | Client engagement and feedback                               | {'CTNS'}                                 | The team set a goal to attract several clients for testing the application and emphasized the importance of gathering feedback from these early users.; The team aims to attract clients for testing the application and gather feedback to improve its functionality and user experience.                                                                                 | CTNS suggested that engaging with clients and obtaining their feedback is essential for refining the application. The team aims to connect with business units within larger companies to facilitate this testing process.; CTNS suggested the importance of engaging with potential clients and obtaining their feedback. The goal is to attract several clients to test the application and provide insights that can guide further development.                                                                                                                                                                                                                                                                                      |\\n| 17 | User Engagement                                              | {'Dmitriy Grankin', 'Olga Nemirovskaya'} | User Engagement refers to the interaction and involvement of users with VEX.; User Experience refers to the overall experience a user has when interacting with VEX.; User Behavior refers to the actions and interactions of users with VEX.                                                                                                                              | The team discusses strategies to enhance user engagement through community building and content sharing.; The team discusses improving user experience through better onboarding and support materials.; The team discusses analyzing user behavior to identify areas for improvement in the product.                                                                                                                                                                                                                                                                                                                                                                                                                                   |\\n| 18 | User experience insights and suggestions for improvement     | {'Ilia Semukhin', 'Dmitriy Grankin'}     | The speakers shared insights on user experience and proposed solutions to enhance the product's usability.; User experience is a key focus of the meeting, with discussions on improving the product's usability.                                                                                                                                                          | Both Ilia and Dmitriy provided suggestions for improving the user interface, including making controls more intuitive and ensuring that the assistant's presence is less intrusive during meetings. They emphasized the need for a design that allows users to focus on their tasks without unnecessary distractions.; The speakers share their thoughts on how to create a better user experience through design and functionality improvements.                                                                                                                                                                                                                                                                                       |\\n| 19 | OtterEye                                                     | {'Dmitry Grankin'}                       | OtterEye is a company referenced in the meeting that has successfully marketed its product by addressing user pain points.                                                                                                                                                                                                                                                 | They focused on a simple pitch that emphasized ease of use and reliability, which resonated with their audience.                                                                                                                                                                                                                                                                                                                                                                                                                                                                                                                                                                                                                        |\""
      ]
     },
     "execution_count": 19,
     "metadata": {},
     "output_type": "execute_result"
    }
   ],
   "source": [
    "context = meeting_groups.drop(columns=['score','meeting_id','timestamp']).head(20).to_markdown()\n",
    "context"
   ]
  },
  {
   "cell_type": "code",
   "execution_count": 20,
   "metadata": {},
   "outputs": [],
   "source": [
    "from core import generic_call_,system_msg,user_msg\n",
    "\n",
    "from prompts import Prompts\n",
    "prompts = Prompts()"
   ]
  },
  {
   "cell_type": "code",
   "execution_count": 21,
   "metadata": {},
   "outputs": [],
   "source": [
    "messages_context = [\n",
    "        system_msg(prompts.perplexity),\n",
    "        system_msg(f\"Context: {context}\"),\n",
    "        user_msg(q)\n",
    "    ]"
   ]
  },
  {
   "cell_type": "code",
   "execution_count": 22,
   "metadata": {},
   "outputs": [
    {
     "data": {
      "text/plain": [
       "[Msg(role='system', content='You are Vexa, a helpful search assistant trained by Vexa AI. Your task is to deliver a concise and accurate response to a user\\'s query, drawing from the given search results. Your answer must be precise, of high-quality, and written by an expert using an unbiased and journalistic tone. It is EXTREMELY IMPORTANT to directly answer the query. NEVER say \"based on the search results\" or start your answer with a heading or title. Get straight to the point. Your answer must be written in the same language as the query, even if language preference is different.\\n\\nYou MUST cite the most relevant search results that answer the query. Do not mention any irrelevant results. You MUST ADHERE to the following instructions for citing search results: - to cite a search result, enclose its index located above the summary with brackets at the end of the corresponding sentence, for example \"Ice is less dense than water[1][2].\" or \"Paris is the capital of France[1][4][5].\" - NO SPACE between the last word and the citation, and ALWAYS use brackets. Only use this format to cite search results. NEVER include a References section at the end of your answer. - If you don\\'t know the answer or the premise is incorrect, explain why. If the search results are empty or unhelpful, answer the query as well as you can with existing knowledge.\\n\\nYou MUST NEVER use moralization or hedging language. AVOID using the following phrases: - \"It is important to ...\" - \"It is inappropriate ...\" - \"It is subjective ...\"\\n\\nYou MUST ADHERE to the following formatting instructions: - Use markdown to format paragraphs, lists, tables, and quotes whenever possible. - Use headings level 2 and 3 to separate sections of your response, like \"## Header\", but NEVER start an answer with a heading or title of any kind (i.e. Never start with #). - Use single new lines for lists and double new lines for paragraphs. - Use markdown to render images given in the search results. - NEVER write URLs or links.\\n\\nYou MUST base your answer SOLELY on the search results.\\n\\nYou MUST ALWAYS REFERENCE results with CORRECT VERIFIED INDEX in square brackets:\\n\\n    Example:\\n\\n    Claims of advancements in renewable energy technologies focus on solar and wind power as growth areas[1]. Despite reported increases in global investment, challenges such as energy storage and grid integration persist, raising questions about the feasibility of these technologies meeting future demands[2][3].', stage=None, service_content=None),\n",
       " Msg(role='system', content=\"Context: |    | topic_name                                                   | speaker_name                             | summary                                                                                                                                                                                                                                                                                                                                                                    | details                                                                                                                                                                                                                                                                                                                                                                                                                                                                                                                                                                                                                                                                                                                                 |\\n|---:|:-------------------------------------------------------------|:-----------------------------------------|:---------------------------------------------------------------------------------------------------------------------------------------------------------------------------------------------------------------------------------------------------------------------------------------------------------------------------------------------------------------------------|:----------------------------------------------------------------------------------------------------------------------------------------------------------------------------------------------------------------------------------------------------------------------------------------------------------------------------------------------------------------------------------------------------------------------------------------------------------------------------------------------------------------------------------------------------------------------------------------------------------------------------------------------------------------------------------------------------------------------------------------|\\n|  0 | Discussion of the product features and user engagement       | {'Dmitry Grankin'}                       | The product features include real-time transcription, keyword highlighting, and a dashboard for call analysis, which enhances user engagement and retention.                                                                                                                                                                                                               | The product allows users to interact with transcriptions in real-time, providing contextual assistance similar to chat GPT. The dashboard feature enables users to review previous calls, which has shown good retention rates among the small user base.                                                                                                                                                                                                                                                                                                                                                                                                                                                                               |\\n|  1 | Otter                                                        | {'Dmitrii Bashkirov'}                    | Otter is mentioned as a product with good user engagement and onboarding.                                                                                                                                                                                                                                                                                                  | Dmitrii notes that Otter has a significant user base and effective onboarding, contributing to its popularity.                                                                                                                                                                                                                                                                                                                                                                                                                                                                                                                                                                                                                          |\\n|  2 | Otter                                                        | {'Dmitriy Grankin'}                      | Otter is a transcription service that the speakers have subscribed to for their meetings.                                                                                                                                                                                                                                                                                  | Dmitriy mentions that they have purchased a subscription to Otter to assist with note-taking and documentation.                                                                                                                                                                                                                                                                                                                                                                                                                                                                                                                                                                                                                         |\\n|  3 | Otter                                                        | {'Dmitriy Grankin'}                      | Otter is a transcription service that provides real-time transcription of meetings and conversations.                                                                                                                                                                                                                                                                      | Dmitriy Grankin mentioned Otter as a competitor in the transcription space, highlighting its integration capabilities.                                                                                                                                                                                                                                                                                                                                                                                                                                                                                                                                                                                                                  |\\n|  4 | competitor analysis                                          | {'Tempest Dragon'}                       | Competitor analysis is discussed as a critical component of the research process.; Tempest Dragon has shared competitor analysis with the researcher for feedback.                                                                                                                                                                                                         | Tempest Dragon shares plans to analyze competitors to better understand the market landscape.; Tempest Dragon sent the competitor analysis and a table of customer development insights to the researcher, requesting feedback on missing elements. This feedback is expected by Thursday.                                                                                                                                                                                                                                                                                                                                                                                                                                              |\\n|  5 | Discuss the need for analytics and tracking user engagement  | {'Dmitry Grankin'}                       | Dmitry highlighted the importance of having robust analytics to track user engagement and understand user behavior.                                                                                                                                                                                                                                                        | He mentioned the need for backend analytics to accurately measure active users and their engagement with the extension.                                                                                                                                                                                                                                                                                                                                                                                                                                                                                                                                                                                                                 |\\n|  6 | Monitor user registrations and engagement                    | {'Dmitriy Grankin'}                      | The team will keep track of new user registrations and their engagement levels to assess marketing effectiveness.                                                                                                                                                                                                                                                          | Daily monitoring of user registrations is essential to evaluate the success of current marketing strategies. The team aims to identify trends and adjust strategies accordingly.                                                                                                                                                                                                                                                                                                                                                                                                                                                                                                                                                        |\\n|  7 | Discuss the algorithm for user engagement and moderation     | {'Dmitriy Grankin'}                      | Dmitriy expressed concerns about the lack of a good algorithm for user engagement and moderation, which is affecting the project's performance.                                                                                                                                                                                                                            | Dmitriy noted that without a proper algorithm, the project struggles to maintain user engagement and may face challenges in moderation. This issue needs to be addressed to improve overall performance.                                                                                                                                                                                                                                                                                                                                                                                                                                                                                                                                |\\n|  8 | Otter                                                        | {'Dmitriy Grankin'}                      | Otter is mentioned as one of the competitors in the market that the speakers are analyzing.; Dmitrii Bashkirov and Dmitriy Grankin discussed and identified key competitors to analyze, focusing on those with significant market presence.                                                                                                                                | Dmitriy Grankin notes that Otter is among the companies selected for competitive analysis, indicating its relevance in the B2B space.; Competitors selected for analysis include Fatom, TLDV, FireFiles, Otter, MidGeek, and SuperPower. The focus will be on understanding their marketing mechanics and user acquisition strategies.                                                                                                                                                                                                                                                                                                                                                                                                  |\\n|  9 | General engagement and interaction                           | {'Dmitriy Grankin'}                      | Dmitriy engaged in light-hearted banter and interaction during the meeting.                                                                                                                                                                                                                                                                                                | The meeting included informal interactions and expressions from Dmitriy, which may contribute to team morale but do not directly relate to actionable tasks or decisions. This aspect of the meeting reflects a casual atmosphere, which can be beneficial for team dynamics.                                                                                                                                                                                                                                                                                                                                                                                                                                                           |\\n| 10 | Marketing strategies for user acquisition                    | {'Dmitry Grankin'}                       | Discussed various strategies to market the transcription tool and attract users.                                                                                                                                                                                                                                                                                           | Current users are primarily acquired through personal networks, and there are plans to enhance marketing efforts, including a landing page and outreach to consulting firms.                                                                                                                                                                                                                                                                                                                                                                                                                                                                                                                                                            |\\n| 11 | Competitor analysis                                          | {'Dmitriy Grankin', 'Olga Nemirovskaya'} | Dmitriy and Olga discussed identifying competitors and understanding their market positioning.; Discussed the importance of engaging with the community to understand user needs and preferences.; Dmitriy suggested trying to sell to current active users to gauge interest and gather feedback.; Discussed the potential of using influencers to promote their product. | They need to analyze competitors in the note-taking and AI space to understand their offerings and how to differentiate their product.; Both speakers emphasized the need to identify and engage with potential users in relevant communities, such as Telegram, to gather insights and feedback on their product.; The goal is to approach existing users and ask if they would be willing to pay for the product. This will help identify what features or improvements are needed to convert them into paying customers.; Olga mentioned a potential influencer with a significant following who could help promote their product on LinkedIn and Product Hunt. They are considering a paid collaboration to reach a wider audience. |\\n| 12 | Explore user retention and marketing strategies              | {'Dmitry Grankin'}                       | The team discussed the current user base and strategies to improve retention and marketing efforts to attract more users.                                                                                                                                                                                                                                                  | Dmitry Grankin mentioned that while user retention is currently sufficient, there is a need to enhance marketing strategies to bring in more users. The focus is on understanding user needs and improving the product accordingly.                                                                                                                                                                                                                                                                                                                                                                                                                                                                                                     |\\n| 13 | Analyze engagement metrics                                   | {'Dmitriy Grankin'}                      | Review engagement metrics from posts to understand audience interaction.                                                                                                                                                                                                                                                                                                   | Dmitriy proposed analyzing engagement metrics from their posts to identify which types of content resonate with their audience. This analysis will help optimize future content strategies. No specific deadline was mentioned.                                                                                                                                                                                                                                                                                                                                                                                                                                                                                                         |\\n| 14 | Participant engagement                                       | {'CTNS'}                                 | Encouraging participants to share their backgrounds to tailor the content of the meeting.                                                                                                                                                                                                                                                                                  | Participants are asked to introduce themselves, including their industry and location, to facilitate relevant discussions.                                                                                                                                                                                                                                                                                                                                                                                                                                                                                                                                                                                                              |\\n| 15 | Discussion on the importance of user feedback and engagement | {'Emerald Hawk', 'Scarlet Phoenix'}      | The team discussed the need for continuous user feedback to improve the product and user experience.; The team reviewed user activity metrics to assess engagement levels and identify areas for improvement.                                                                                                                                                              | Engaging with users through surveys and direct communication will help gather insights on their needs and preferences, which can inform future product developments and marketing strategies.; Current metrics show 14 active users, with discussions on how to increase this number through better marketing and user engagement strategies.                                                                                                                                                                                                                                                                                                                                                                                           |\\n| 16 | Client engagement and feedback                               | {'CTNS'}                                 | The team set a goal to attract several clients for testing the application and emphasized the importance of gathering feedback from these early users.; The team aims to attract clients for testing the application and gather feedback to improve its functionality and user experience.                                                                                 | CTNS suggested that engaging with clients and obtaining their feedback is essential for refining the application. The team aims to connect with business units within larger companies to facilitate this testing process.; CTNS suggested the importance of engaging with potential clients and obtaining their feedback. The goal is to attract several clients to test the application and provide insights that can guide further development.                                                                                                                                                                                                                                                                                      |\\n| 17 | User Engagement                                              | {'Dmitriy Grankin', 'Olga Nemirovskaya'} | User Engagement refers to the interaction and involvement of users with VEX.; User Experience refers to the overall experience a user has when interacting with VEX.; User Behavior refers to the actions and interactions of users with VEX.                                                                                                                              | The team discusses strategies to enhance user engagement through community building and content sharing.; The team discusses improving user experience through better onboarding and support materials.; The team discusses analyzing user behavior to identify areas for improvement in the product.                                                                                                                                                                                                                                                                                                                                                                                                                                   |\\n| 18 | User experience insights and suggestions for improvement     | {'Ilia Semukhin', 'Dmitriy Grankin'}     | The speakers shared insights on user experience and proposed solutions to enhance the product's usability.; User experience is a key focus of the meeting, with discussions on improving the product's usability.                                                                                                                                                          | Both Ilia and Dmitriy provided suggestions for improving the user interface, including making controls more intuitive and ensuring that the assistant's presence is less intrusive during meetings. They emphasized the need for a design that allows users to focus on their tasks without unnecessary distractions.; The speakers share their thoughts on how to create a better user experience through design and functionality improvements.                                                                                                                                                                                                                                                                                       |\\n| 19 | OtterEye                                                     | {'Dmitry Grankin'}                       | OtterEye is a company referenced in the meeting that has successfully marketed its product by addressing user pain points.                                                                                                                                                                                                                                                 | They focused on a simple pitch that emphasized ease of use and reliability, which resonated with their audience.                                                                                                                                                                                                                                                                                                                                                                                                                                                                                                                                                                                                                        |\", stage=None, service_content=None),\n",
       " Msg(role='user', content='explain how our compatitors fireflier and otter attract users', stage=None, service_content=None)]"
      ]
     },
     "execution_count": 22,
     "metadata": {},
     "output_type": "execute_result"
    }
   ],
   "source": [
    "messages_context"
   ]
  },
  {
   "cell_type": "code",
   "execution_count": 23,
   "metadata": {},
   "outputs": [],
   "source": [
    "output = \"\"\n",
    "async for chunk in generic_call_(messages_context, streaming=True):\n",
    "    output += chunk"
   ]
  },
  {
   "cell_type": "code",
   "execution_count": 24,
   "metadata": {},
   "outputs": [
    {
     "data": {
      "text/markdown": [
       "FireFlier and Otter attract users through various strategies that focus on user needs and effective marketing.\n",
       "\n",
       "**FireFlier:**\n",
       "\n",
       "- **User Pain Points:** FireFlier successfully markets its product by addressing specific user pain points, which resonates with potential customers. This approach helps in creating a strong value proposition that appeals to users looking for solutions to their challenges[19].\n",
       "\n",
       "- **Simplicity and Reliability:** The company emphasizes a straightforward pitch that highlights the ease of use and reliability of its service. This messaging is designed to attract users who prioritize functionality and dependability in transcription services[19].\n",
       "\n",
       "**Otter:**\n",
       "\n",
       "- **Effective Onboarding:** Otter has established a significant user base partly due to its effective onboarding process. This helps new users quickly understand and utilize the service, enhancing user engagement from the start[1].\n",
       "\n",
       "- **Real-Time Transcription Features:** Otter offers real-time transcription of meetings and conversations, which is a key feature that attracts users looking for efficient note-taking solutions. This functionality is particularly appealing in professional settings where accurate documentation is essential[3][2].\n",
       "\n",
       "- **Community Engagement:** Otter engages with its community to understand user needs and preferences, which informs their marketing strategies and product development. This engagement helps in building a loyal user base that feels valued and heard[11].\n",
       "\n",
       "Both companies leverage these strategies to enhance user acquisition and retention in the competitive transcription market."
      ],
      "text/plain": [
       "<IPython.core.display.Markdown object>"
      ]
     },
     "execution_count": 24,
     "metadata": {},
     "output_type": "execute_result"
    }
   ],
   "source": [
    "from IPython.display import Markdown\n",
    "Markdown(output)"
   ]
  },
  {
   "cell_type": "code",
   "execution_count": 96,
   "metadata": {},
   "outputs": [
    {
     "data": {
      "text/plain": [
       "'Lara is involved in several key activities related to your projects. She is coordinating with a YouTuber for promotional activities, arranging for content creation that includes a video and social media posts to enhance visibility[1]. Additionally, Lara is engaged in influencer marketing, working to secure posts that will promote your content. She is currently negotiating with two influencers to publish posts within two weeks[7].\\n\\nFurthermore, Lara is also a contact for contract discussions, and Olga is waiting for contracts from her to proceed with various projects. There is no immediate urgency for translation work related to these contracts, allowing for some flexibility in timelines[6]. Lastly, there is a plan for collaboration with Lara to establish an Instagram presence and explore influencer partnerships[4].'"
      ]
     },
     "execution_count": 96,
     "metadata": {},
     "output_type": "execute_result"
    }
   ],
   "source": [
    "output"
   ]
  },
  {
   "cell_type": "code",
   "execution_count": null,
   "metadata": {},
   "outputs": [],
   "source": []
  }
 ],
 "metadata": {
  "kernelspec": {
   "display_name": "langchain",
   "language": "python",
   "name": "python3"
  },
  "language_info": {
   "codemirror_mode": {
    "name": "ipython",
    "version": 3
   },
   "file_extension": ".py",
   "mimetype": "text/x-python",
   "name": "python",
   "nbconvert_exporter": "python",
   "pygments_lexer": "ipython3",
   "version": "3.11.2"
  }
 },
 "nbformat": 4,
 "nbformat_minor": 2
}
