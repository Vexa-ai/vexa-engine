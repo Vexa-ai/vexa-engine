{
 "cells": [
  {
   "cell_type": "code",
   "execution_count": 1,
   "metadata": {},
   "outputs": [],
   "source": [
    "import requests\n",
    "import json\n",
    "from uuid import UUID\n",
    "\n",
    "BASE_URL = \"http://127.0.0.1:8765\"  # Adjust to your API URL\n",
    "\n",
    "class ShareLinksClient:\n",
    "    def __init__(self, token):\n",
    "        self.headers = {\n",
    "            \"Authorization\": f\"Bearer {token}\",\n",
    "            \"Content-Type\": \"application/json\"\n",
    "        }\n",
    "    \n",
    "    def create_share_link(\n",
    "        self,\n",
    "        access_level: str,\n",
    "        target_email: str = None,\n",
    "        expiration_hours: int = 24,\n",
    "        include_existing_meetings: bool = False\n",
    "    ):\n",
    "        \"\"\"\n",
    "        Create a new share link.\n",
    "        \n",
    "        Args:\n",
    "            access_level: One of 'search', 'transcript', 'owner'\n",
    "            target_email: Optional email to restrict the link to\n",
    "            expiration_hours: Hours until link expires\n",
    "            include_existing_meetings: Whether to grant access to existing meetings\n",
    "        \n",
    "        Returns:\n",
    "            str: The generated share link token\n",
    "        \"\"\"\n",
    "        payload = {\n",
    "            \"access_level\": access_level,\n",
    "            \"expiration_hours\": expiration_hours,\n",
    "            \"include_existing_meetings\": include_existing_meetings\n",
    "        }\n",
    "        if target_email:\n",
    "            payload[\"target_email\"] = target_email\n",
    "            \n",
    "        response = requests.post(\n",
    "            f\"{BASE_URL}/share-links\",\n",
    "            headers=self.headers,\n",
    "            json=payload\n",
    "        )\n",
    "        \n",
    "        if response.status_code == 200:\n",
    "            return response.json()[\"token\"]\n",
    "        else:\n",
    "            raise Exception(f\"Failed to create share link: {response.text}\")\n",
    "    \n",
    "    def accept_share_link(\n",
    "        self,\n",
    "        token: str,\n",
    "        accepting_email: str = None,\n",
    "        update_existing_meetings: bool = False\n",
    "    ):\n",
    "        \"\"\"\n",
    "        Accept a share link.\n",
    "        \n",
    "        Args:\n",
    "            token: The share link token to accept\n",
    "            accepting_email: Email address of the accepting user (if required)\n",
    "            update_existing_meetings: Whether to request access to existing meetings\n",
    "        \"\"\"\n",
    "        payload = {\n",
    "            \"token\": token,\n",
    "            \"update_existing_meetings\": update_existing_meetings\n",
    "        }\n",
    "        if accepting_email:\n",
    "            payload[\"accepting_email\"] = accepting_email\n",
    "            \n",
    "        response = requests.post(\n",
    "            f\"{BASE_URL}/share-links/accept\",\n",
    "            headers=self.headers,\n",
    "            json=payload\n",
    "        )\n",
    "        \n",
    "        if response.status_code != 200:\n",
    "            raise Exception(f\"Failed to accept share link: {response.text}\")\n",
    "        \n",
    "        return response.json()"
   ]
  },
  {
   "cell_type": "code",
   "execution_count": 2,
   "metadata": {},
   "outputs": [],
   "source": [
    "self = ShareLinksClient(token=\"5faa86ba0dc74b14a78c60c8aa20a014\")"
   ]
  },
  {
   "cell_type": "code",
   "execution_count": 3,
   "metadata": {},
   "outputs": [
    {
     "ename": "Exception",
     "evalue": "Failed to create share link: Internal Server Error",
     "output_type": "error",
     "traceback": [
      "\u001b[0;31m---------------------------------------------------------------------------\u001b[0m",
      "\u001b[0;31mException\u001b[0m                                 Traceback (most recent call last)",
      "Cell \u001b[0;32mIn[3], line 1\u001b[0m\n\u001b[0;32m----> 1\u001b[0m \u001b[38;5;28;43mself\u001b[39;49m\u001b[38;5;241;43m.\u001b[39;49m\u001b[43mcreate_share_link\u001b[49m\u001b[43m(\u001b[49m\u001b[43maccess_level\u001b[49m\u001b[38;5;241;43m=\u001b[39;49m\u001b[38;5;124;43m\"\u001b[39;49m\u001b[38;5;124;43msearch\u001b[39;49m\u001b[38;5;124;43m\"\u001b[39;49m\u001b[43m,\u001b[49m\u001b[43m \u001b[49m\u001b[43mtarget_email\u001b[49m\u001b[38;5;241;43m=\u001b[39;49m\u001b[38;5;124;43m\"\u001b[39;49m\u001b[38;5;124;43m2280905@gmail.com\u001b[39;49m\u001b[38;5;124;43m\"\u001b[39;49m\u001b[43m)\u001b[49m\n",
      "Cell \u001b[0;32mIn[1], line 50\u001b[0m, in \u001b[0;36mShareLinksClient.create_share_link\u001b[0;34m(self, access_level, target_email, expiration_hours, include_existing_meetings)\u001b[0m\n\u001b[1;32m     48\u001b[0m     \u001b[38;5;28;01mreturn\u001b[39;00m response\u001b[38;5;241m.\u001b[39mjson()[\u001b[38;5;124m\"\u001b[39m\u001b[38;5;124mtoken\u001b[39m\u001b[38;5;124m\"\u001b[39m]\n\u001b[1;32m     49\u001b[0m \u001b[38;5;28;01melse\u001b[39;00m:\n\u001b[0;32m---> 50\u001b[0m     \u001b[38;5;28;01mraise\u001b[39;00m \u001b[38;5;167;01mException\u001b[39;00m(\u001b[38;5;124mf\u001b[39m\u001b[38;5;124m\"\u001b[39m\u001b[38;5;124mFailed to create share link: \u001b[39m\u001b[38;5;132;01m{\u001b[39;00mresponse\u001b[38;5;241m.\u001b[39mtext\u001b[38;5;132;01m}\u001b[39;00m\u001b[38;5;124m\"\u001b[39m)\n",
      "\u001b[0;31mException\u001b[0m: Failed to create share link: Internal Server Error"
     ]
    }
   ],
   "source": [
    "self.create_share_link(access_level=\"search\", target_email=\"2280905@gmail.com\")"
   ]
  },
  {
   "cell_type": "code",
   "execution_count": null,
   "metadata": {},
   "outputs": [],
   "source": []
  }
 ],
 "metadata": {
  "kernelspec": {
   "display_name": "langchain",
   "language": "python",
   "name": "python3"
  },
  "language_info": {
   "codemirror_mode": {
    "name": "ipython",
    "version": 3
   },
   "file_extension": ".py",
   "mimetype": "text/x-python",
   "name": "python",
   "nbconvert_exporter": "python",
   "pygments_lexer": "ipython3",
   "version": "3.11.2"
  }
 },
 "nbformat": 4,
 "nbformat_minor": 2
}
