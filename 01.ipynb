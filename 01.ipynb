{
 "cells": [
  {
   "cell_type": "code",
   "execution_count": 4,
   "metadata": {},
   "outputs": [],
   "source": [
    "%reload_ext autoreload\n",
    "%autoreload 2"
   ]
  },
  {
   "cell_type": "code",
   "execution_count": 5,
   "metadata": {},
   "outputs": [
    {
     "data": {
      "text/plain": [
       "<async_generator object SearchAssistant.chat at 0x7fcfd58d8040>"
      ]
     },
     "execution_count": 5,
     "metadata": {},
     "output_type": "execute_result"
    }
   ],
   "source": [
    "\n",
    "from search import SearchAssistant\n",
    "\n",
    "search = SearchAssistant()\n",
    "\n",
    "\n",
    "search.chat(user_id=\"1\", query=\"What is the weather in Tokyo?\")"
   ]
  },
  {
   "cell_type": "code",
   "execution_count": 6,
   "metadata": {},
   "outputs": [
    {
     "name": "stdout",
     "output_type": "stream",
     "text": [
      "User information retrieved successfully.\n"
     ]
    }
   ],
   "source": [
    "from vexa import VexaAPI\n",
    "vexa = VexaAPI()\n"
   ]
  },
  {
   "cell_type": "code",
   "execution_count": 13,
   "metadata": {},
   "outputs": [
    {
     "data": {
      "text/plain": [
       "'3ae04e20124d40babc5107e658c666b6'"
      ]
     },
     "execution_count": 13,
     "metadata": {},
     "output_type": "execute_result"
    }
   ],
   "source": [
    "vexa.token\n",
    "\n"
   ]
  },
  {
   "cell_type": "code",
   "execution_count": null,
   "metadata": {},
   "outputs": [],
   "source": [
    "user_id = \"ef7c085bfdb54c94b7b6a61a3d04c210\""
   ]
  },
  {
   "cell_type": "code",
   "execution_count": 10,
   "metadata": {},
   "outputs": [
    {
     "name": "stdout",
     "output_type": "stream",
     "text": [
      "B2B, or business-to-business, refers to transactions between businesses, rather than between a business and individual consumers (B2C). In a B2B model, companies provide products or services to other companies that may use them in their operations, for resale, or in production processes. This can include wholesale distributors, manufacturers, and service providers that cater specifically to other businesses.\n",
      "\n",
      "In the context of the meetings, there could be discussions around B2B functionalities, integrations for payment processing like LemonSqueezy, or the exploration of user analytics for businesses in the context of customer retention and engagement strategies, as discussed by Sergey Ryabenko and Dmitriy Grankin in their meetings[1].Thread upserted with id 067e9870-3859-4119-a47a-81017675bd6c\n",
      "\n",
      "\n",
      "Full response:\n",
      "B2B, or business-to-business, refers to transactions between businesses, rather than between a business and individual consumers (B2C). In a B2B model, companies provide products or services to other companies that may use them in their operations, for resale, or in production processes. This can include wholesale distributors, manufacturers, and service providers that cater specifically to other businesses.\n",
      "\n",
      "In the context of the meetings, there could be discussions around B2B functionalities, integrations for payment processing like LemonSqueezy, or the exploration of user analytics for businesses in the context of customer retention and engagement strategies, as discussed by Sergey Ryabenko and Dmitriy Grankin in their meetings[1].\n",
      "\n",
      "Thread ID: 067e9870-3859-4119-a47a-81017675bd6c\n",
      "Linked Output: B2B, or business-to-business, refers to transactions between businesses, rather than between a business and individual consumers (B2C). In a B2B model, companies provide products or services to other companies that may use them in their operations, for resale, or in production processes. This can include wholesale distributors, manufacturers, and service providers that cater specifically to other businesses.\n",
      "\n",
      "In the context of the meetings, there could be discussions around B2B functionalities, integrations for payment processing like LemonSqueezy, or the exploration of user analytics for businesses in the context of customer retention and engagement strategies, as discussed by Sergey Ryabenko and Dmitriy Grankin in their meetings[1](https://dashboard.vexa.ai/#e2864cf9-f8d5-4a22-85bc-d07557b634ee).\n"
     ]
    }
   ],
   "source": [
    "user_id = vexa.user_id\n",
    "query = \"what is b2b?\"\n",
    "\n",
    "full_response = \"\"\n",
    "thread_id = None\n",
    "linked_output = None\n",
    "\n",
    "async for item in search.chat(user_id=user_id, query=query):\n",
    "    if isinstance(item, str):\n",
    "        # This is a chunk of the streaming response\n",
    "        print(item, end='', flush=True)\n",
    "        full_response += item\n",
    "    elif isinstance(item, dict):\n",
    "        # This is the final response with thread_id and linked_output\n",
    "        thread_id = item.get('thread_id')\n",
    "        linked_output = item.get('linked_output')\n",
    "\n",
    "print(\"\\n\\nFull response:\")\n",
    "print(full_response)\n",
    "print(f\"\\nThread ID: {thread_id}\")\n",
    "print(f\"Linked Output: {linked_output}\")"
   ]
  },
  {
   "cell_type": "code",
   "execution_count": 12,
   "metadata": {},
   "outputs": [
    {
     "data": {
      "text/markdown": [
       "B2B, or business-to-business, refers to transactions between businesses, rather than between a business and individual consumers (B2C). In a B2B model, companies provide products or services to other companies that may use them in their operations, for resale, or in production processes. This can include wholesale distributors, manufacturers, and service providers that cater specifically to other businesses.\n",
       "\n",
       "In the context of the meetings, there could be discussions around B2B functionalities, integrations for payment processing like LemonSqueezy, or the exploration of user analytics for businesses in the context of customer retention and engagement strategies, as discussed by Sergey Ryabenko and Dmitriy Grankin in their meetings[1](https://dashboard.vexa.ai/#e2864cf9-f8d5-4a22-85bc-d07557b634ee)."
      ],
      "text/plain": [
       "<IPython.core.display.Markdown object>"
      ]
     },
     "execution_count": 12,
     "metadata": {},
     "output_type": "execute_result"
    }
   ],
   "source": [
    "from IPython.display import Markdown\n",
    "Markdown(linked_output)\n",
    "\n"
   ]
  },
  {
   "cell_type": "code",
   "execution_count": null,
   "metadata": {},
   "outputs": [],
   "source": []
  }
 ],
 "metadata": {
  "kernelspec": {
   "display_name": "langchain",
   "language": "python",
   "name": "langchain"
  },
  "language_info": {
   "codemirror_mode": {
    "name": "ipython",
    "version": 3
   },
   "file_extension": ".py",
   "mimetype": "text/x-python",
   "name": "python",
   "nbconvert_exporter": "python",
   "pygments_lexer": "ipython3",
   "version": "3.11.2"
  }
 },
 "nbformat": 4,
 "nbformat_minor": 2
}
