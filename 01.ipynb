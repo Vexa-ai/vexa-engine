{
 "cells": [
  {
   "cell_type": "code",
   "execution_count": 1,
   "metadata": {},
   "outputs": [],
   "source": [
    "%load_ext autoreload\n",
    "%autoreload 2"
   ]
  },
  {
   "cell_type": "code",
   "execution_count": 2,
   "metadata": {},
   "outputs": [],
   "source": [
    "from search import SearchAssistant\n",
    "from core import generic_call"
   ]
  },
  {
   "cell_type": "code",
   "execution_count": 3,
   "metadata": {},
   "outputs": [
    {
     "name": "stdout",
     "output_type": "stream",
     "text": [
      "User information retrieved successfully.\n"
     ]
    }
   ],
   "source": [
    "chat = SearchAssistant()"
   ]
  },
  {
   "cell_type": "code",
   "execution_count": 4,
   "metadata": {},
   "outputs": [],
   "source": [
    "summaries = chat.analyzer.get_summaries(user_id=chat.vexa.user_id, user_name=chat.vexa.user_name)\n",
    "unique_speakers = set(speaker for s in summaries for speaker in s['speakers'])"
   ]
  },
  {
   "cell_type": "code",
   "execution_count": 5,
   "metadata": {},
   "outputs": [],
   "source": [
    "from IPython.display import Markdown"
   ]
  },
  {
   "cell_type": "code",
   "execution_count": 6,
   "metadata": {},
   "outputs": [],
   "source": [
    "from core import generic_call_stream,user_msg"
   ]
  },
  {
   "cell_type": "code",
   "execution_count": 7,
   "metadata": {},
   "outputs": [],
   "source": [
    "q = f'summarize our marketing efforts'"
   ]
  },
  {
   "cell_type": "code",
   "execution_count": 8,
   "metadata": {},
   "outputs": [],
   "source": [
    "model='together_ai/meta-llama/Llama-3.2-90B-Vision-Instruct-Turbo'"
   ]
  },
  {
   "cell_type": "code",
   "execution_count": 8,
   "metadata": {},
   "outputs": [],
   "source": [
    "model = 'default'"
   ]
  },
  {
   "cell_type": "code",
   "execution_count": 9,
   "metadata": {},
   "outputs": [
    {
     "name": "stdout",
     "output_type": "stream",
     "text": [
      "The marketing efforts discussed by Dmitriy Grankin and Olga Nemirovskaya have focused on several key strategies:\n",
      "\n",
      "1. **Digital Advertising**: There has been an emphasis on utilizing Google Ads to drive traffic, although there are concerns about its current effectiveness and costs. They plan to conduct further testing to optimize the performance of their ads[2][5][9].\n",
      "\n",
      "2. **User Engagement**: The team is prioritizing user feedback to improve product offerings. They identified the importance of defining active user criteria, addressing conversion rates, and gathering feedback through outreach strategies[2][8][16].\n",
      "\n",
      "3. **Content Creation and Social Media**: Efforts include enhancing social media presence through regular posts on platforms like LinkedIn, where they engage potential users and influencers. They discussed the importance of personal messaging for outreach and have explored content strategies to improve engagement metrics[3][11][12][14].\n",
      "\n",
      "4. **Product Launch on Platforms**: They are preparing for product launches on platforms like Product Hunt, emphasizing the importance of building a network of supporters and tracking engagement to attract users effectively[11][12][15].\n",
      "\n",
      "5. **Analytics and Feedback Mechanisms**: The team recognizes the need for comprehensive analytics to understand user behaviors, such as segmentation and analyzing user feedback to inform product development and marketing strategies[4][16].\n",
      "\n",
      "These strategic discussions illustrate a proactive approach to marketing by continually assessing and refining tactics to enhance user acquisition and engagement, along with leveraging innovative platforms for product promotion."
     ]
    },
    {
     "ename": "CancelledError",
     "evalue": "",
     "output_type": "error",
     "traceback": [
      "\u001b[0;31m---------------------------------------------------------------------------\u001b[0m",
      "\u001b[0;31mCancelledError\u001b[0m                            Traceback (most recent call last)",
      "Cell \u001b[0;32mIn[9], line 1\u001b[0m\n\u001b[0;32m----> 1\u001b[0m r \u001b[38;5;241m=\u001b[39m \u001b[38;5;28;01mawait\u001b[39;00m chat\u001b[38;5;241m.\u001b[39mchat(q,model\u001b[38;5;241m=\u001b[39mmodel)\n",
      "File \u001b[0;32m~/playground/vexa_dashbord_back/search.py:66\u001b[0m, in \u001b[0;36mSearchAssistant.chat\u001b[0;34m(self, query, thread_id, model, temperature)\u001b[0m\n\u001b[1;32m     63\u001b[0m \u001b[38;5;66;03m# Use the provided model if given, otherwise use the default model\u001b[39;00m\n\u001b[1;32m     64\u001b[0m model_to_use \u001b[38;5;241m=\u001b[39m model \u001b[38;5;129;01mor\u001b[39;00m \u001b[38;5;28mself\u001b[39m\u001b[38;5;241m.\u001b[39mmodel\n\u001b[0;32m---> 66\u001b[0m output \u001b[38;5;241m=\u001b[39m \u001b[38;5;28;01mawait\u001b[39;00m generic_call_stream(messages_context, model\u001b[38;5;241m=\u001b[39mmodel_to_use, temperature\u001b[38;5;241m=\u001b[39mtemperature)\n\u001b[1;32m     67\u001b[0m messages\u001b[38;5;241m.\u001b[39mappend(user_msg(query))\n\u001b[1;32m     68\u001b[0m messages\u001b[38;5;241m.\u001b[39mappend(assistant_msg(output))\n",
      "File \u001b[0;32m~/playground/vexa_dashbord_back/core.py:120\u001b[0m, in \u001b[0;36mgeneric_call_stream\u001b[0;34m(messages, model, temperature, max_tokens, timeout)\u001b[0m\n\u001b[1;32m    118\u001b[0m \u001b[38;5;28;01masync\u001b[39;00m \u001b[38;5;28;01mdef\u001b[39;00m \u001b[38;5;21mgeneric_call_stream\u001b[39m(messages: List[Msg], model\u001b[38;5;241m=\u001b[39m\u001b[38;5;124m'\u001b[39m\u001b[38;5;124mdefault\u001b[39m\u001b[38;5;124m'\u001b[39m, temperature\u001b[38;5;241m=\u001b[39m\u001b[38;5;241m0\u001b[39m, max_tokens\u001b[38;5;241m=\u001b[39m\u001b[38;5;241m4000\u001b[39m, timeout\u001b[38;5;241m=\u001b[39m\u001b[38;5;241m60\u001b[39m):\n\u001b[1;32m    119\u001b[0m     output \u001b[38;5;241m=\u001b[39m \u001b[38;5;124m\"\u001b[39m\u001b[38;5;124m\"\u001b[39m\n\u001b[0;32m--> 120\u001b[0m     \u001b[38;5;28;01masync\u001b[39;00m \u001b[38;5;28;01mfor\u001b[39;00m token \u001b[38;5;129;01min\u001b[39;00m generic_call_(messages, model\u001b[38;5;241m=\u001b[39mmodel, temperature\u001b[38;5;241m=\u001b[39mtemperature, max_tokens\u001b[38;5;241m=\u001b[39mmax_tokens, timeout\u001b[38;5;241m=\u001b[39mtimeout, streaming\u001b[38;5;241m=\u001b[39m\u001b[38;5;28;01mTrue\u001b[39;00m):\n\u001b[1;32m    121\u001b[0m         \u001b[38;5;28mprint\u001b[39m(token, end\u001b[38;5;241m=\u001b[39m\u001b[38;5;124m'\u001b[39m\u001b[38;5;124m'\u001b[39m, flush\u001b[38;5;241m=\u001b[39m\u001b[38;5;28;01mTrue\u001b[39;00m)\n\u001b[1;32m    122\u001b[0m         output \u001b[38;5;241m+\u001b[39m\u001b[38;5;241m=\u001b[39m token\n",
      "File \u001b[0;32m~/playground/vexa_dashbord_back/core.py:112\u001b[0m, in \u001b[0;36mgeneric_call_\u001b[0;34m(messages, model, temperature, max_tokens, timeout, streaming)\u001b[0m\n\u001b[1;32m    103\u001b[0m results \u001b[38;5;241m=\u001b[39m \u001b[38;5;28;01mawait\u001b[39;00m acompletion(\n\u001b[1;32m    104\u001b[0m     temperature\u001b[38;5;241m=\u001b[39mtemperature,\n\u001b[1;32m    105\u001b[0m     model\u001b[38;5;241m=\u001b[39mmodel,\n\u001b[0;32m   (...)\u001b[0m\n\u001b[1;32m    109\u001b[0m     stream\u001b[38;5;241m=\u001b[39mstreaming\n\u001b[1;32m    110\u001b[0m )\n\u001b[1;32m    111\u001b[0m \u001b[38;5;28;01mif\u001b[39;00m streaming:\n\u001b[0;32m--> 112\u001b[0m     \u001b[38;5;28;01masync\u001b[39;00m \u001b[38;5;28;01mfor\u001b[39;00m chunk \u001b[38;5;129;01min\u001b[39;00m results:\n\u001b[1;32m    113\u001b[0m         \u001b[38;5;28;01mif\u001b[39;00m chunk\u001b[38;5;241m.\u001b[39mchoices[\u001b[38;5;241m0\u001b[39m]\u001b[38;5;241m.\u001b[39mdelta\u001b[38;5;241m.\u001b[39mcontent \u001b[38;5;129;01mis\u001b[39;00m \u001b[38;5;129;01mnot\u001b[39;00m \u001b[38;5;28;01mNone\u001b[39;00m:\n\u001b[1;32m    114\u001b[0m             \u001b[38;5;28;01myield\u001b[39;00m chunk\u001b[38;5;241m.\u001b[39mchoices[\u001b[38;5;241m0\u001b[39m]\u001b[38;5;241m.\u001b[39mdelta\u001b[38;5;241m.\u001b[39mcontent\n",
      "File \u001b[0;32m~/anaconda3/envs/langchain/lib/python3.11/site-packages/litellm/utils.py:10178\u001b[0m, in \u001b[0;36mCustomStreamWrapper.__anext__\u001b[0;34m(self)\u001b[0m\n\u001b[1;32m  10150\u001b[0m     \u001b[38;5;28;01mawait\u001b[39;00m \u001b[38;5;28mself\u001b[39m\u001b[38;5;241m.\u001b[39mfetch_stream()\n\u001b[1;32m  10152\u001b[0m \u001b[38;5;28;01mif\u001b[39;00m (\n\u001b[1;32m  10153\u001b[0m     \u001b[38;5;28mself\u001b[39m\u001b[38;5;241m.\u001b[39mcustom_llm_provider \u001b[38;5;241m==\u001b[39m \u001b[38;5;124m\"\u001b[39m\u001b[38;5;124mopenai\u001b[39m\u001b[38;5;124m\"\u001b[39m\n\u001b[1;32m  10154\u001b[0m     \u001b[38;5;129;01mor\u001b[39;00m \u001b[38;5;28mself\u001b[39m\u001b[38;5;241m.\u001b[39mcustom_llm_provider \u001b[38;5;241m==\u001b[39m \u001b[38;5;124m\"\u001b[39m\u001b[38;5;124mazure\u001b[39m\u001b[38;5;124m\"\u001b[39m\n\u001b[0;32m   (...)\u001b[0m\n\u001b[1;32m  10176\u001b[0m     \u001b[38;5;129;01mor\u001b[39;00m \u001b[38;5;28mself\u001b[39m\u001b[38;5;241m.\u001b[39mcustom_llm_provider \u001b[38;5;129;01min\u001b[39;00m litellm\u001b[38;5;241m.\u001b[39m_custom_providers\n\u001b[1;32m  10177\u001b[0m ):\n\u001b[0;32m> 10178\u001b[0m     \u001b[38;5;28;01masync\u001b[39;00m \u001b[38;5;28;01mfor\u001b[39;00m chunk \u001b[38;5;129;01min\u001b[39;00m \u001b[38;5;28mself\u001b[39m\u001b[38;5;241m.\u001b[39mcompletion_stream:\n\u001b[1;32m  10179\u001b[0m         print_verbose(\u001b[38;5;124mf\u001b[39m\u001b[38;5;124m\"\u001b[39m\u001b[38;5;124mvalue of async chunk: \u001b[39m\u001b[38;5;132;01m{\u001b[39;00mchunk\u001b[38;5;132;01m}\u001b[39;00m\u001b[38;5;124m\"\u001b[39m)\n\u001b[1;32m  10180\u001b[0m         \u001b[38;5;28;01mif\u001b[39;00m chunk \u001b[38;5;241m==\u001b[39m \u001b[38;5;124m\"\u001b[39m\u001b[38;5;124mNone\u001b[39m\u001b[38;5;124m\"\u001b[39m \u001b[38;5;129;01mor\u001b[39;00m chunk \u001b[38;5;129;01mis\u001b[39;00m \u001b[38;5;28;01mNone\u001b[39;00m:\n",
      "File \u001b[0;32m~/anaconda3/envs/langchain/lib/python3.11/site-packages/openai/_streaming.py:147\u001b[0m, in \u001b[0;36mAsyncStream.__aiter__\u001b[0;34m(self)\u001b[0m\n\u001b[1;32m    146\u001b[0m \u001b[38;5;28;01masync\u001b[39;00m \u001b[38;5;28;01mdef\u001b[39;00m \u001b[38;5;21m__aiter__\u001b[39m(\u001b[38;5;28mself\u001b[39m) \u001b[38;5;241m-\u001b[39m\u001b[38;5;241m>\u001b[39m AsyncIterator[_T]:\n\u001b[0;32m--> 147\u001b[0m     \u001b[38;5;28;01masync\u001b[39;00m \u001b[38;5;28;01mfor\u001b[39;00m item \u001b[38;5;129;01min\u001b[39;00m \u001b[38;5;28mself\u001b[39m\u001b[38;5;241m.\u001b[39m_iterator:\n\u001b[1;32m    148\u001b[0m         \u001b[38;5;28;01myield\u001b[39;00m item\n",
      "File \u001b[0;32m~/anaconda3/envs/langchain/lib/python3.11/site-packages/openai/_streaming.py:202\u001b[0m, in \u001b[0;36mAsyncStream.__stream__\u001b[0;34m(self)\u001b[0m\n\u001b[1;32m    199\u001b[0m         \u001b[38;5;28;01myield\u001b[39;00m process_data(data\u001b[38;5;241m=\u001b[39m{\u001b[38;5;124m\"\u001b[39m\u001b[38;5;124mdata\u001b[39m\u001b[38;5;124m\"\u001b[39m: data, \u001b[38;5;124m\"\u001b[39m\u001b[38;5;124mevent\u001b[39m\u001b[38;5;124m\"\u001b[39m: sse\u001b[38;5;241m.\u001b[39mevent}, cast_to\u001b[38;5;241m=\u001b[39mcast_to, response\u001b[38;5;241m=\u001b[39mresponse)\n\u001b[1;32m    201\u001b[0m \u001b[38;5;66;03m# Ensure the entire stream is consumed\u001b[39;00m\n\u001b[0;32m--> 202\u001b[0m \u001b[38;5;28;01masync\u001b[39;00m \u001b[38;5;28;01mfor\u001b[39;00m _sse \u001b[38;5;129;01min\u001b[39;00m iterator:\n\u001b[1;32m    203\u001b[0m     \u001b[38;5;241m.\u001b[39m\u001b[38;5;241m.\u001b[39m\u001b[38;5;241m.\u001b[39m\n",
      "File \u001b[0;32m~/anaconda3/envs/langchain/lib/python3.11/site-packages/openai/_streaming.py:151\u001b[0m, in \u001b[0;36mAsyncStream._iter_events\u001b[0;34m(self)\u001b[0m\n\u001b[1;32m    150\u001b[0m \u001b[38;5;28;01masync\u001b[39;00m \u001b[38;5;28;01mdef\u001b[39;00m \u001b[38;5;21m_iter_events\u001b[39m(\u001b[38;5;28mself\u001b[39m) \u001b[38;5;241m-\u001b[39m\u001b[38;5;241m>\u001b[39m AsyncIterator[ServerSentEvent]:\n\u001b[0;32m--> 151\u001b[0m     \u001b[38;5;28;01masync\u001b[39;00m \u001b[38;5;28;01mfor\u001b[39;00m sse \u001b[38;5;129;01min\u001b[39;00m \u001b[38;5;28mself\u001b[39m\u001b[38;5;241m.\u001b[39m_decoder\u001b[38;5;241m.\u001b[39maiter_bytes(\u001b[38;5;28mself\u001b[39m\u001b[38;5;241m.\u001b[39mresponse\u001b[38;5;241m.\u001b[39maiter_bytes()):\n\u001b[1;32m    152\u001b[0m         \u001b[38;5;28;01myield\u001b[39;00m sse\n",
      "File \u001b[0;32m~/anaconda3/envs/langchain/lib/python3.11/site-packages/openai/_streaming.py:302\u001b[0m, in \u001b[0;36mSSEDecoder.aiter_bytes\u001b[0;34m(self, iterator)\u001b[0m\n\u001b[1;32m    300\u001b[0m \u001b[38;5;28;01masync\u001b[39;00m \u001b[38;5;28;01mdef\u001b[39;00m \u001b[38;5;21maiter_bytes\u001b[39m(\u001b[38;5;28mself\u001b[39m, iterator: AsyncIterator[\u001b[38;5;28mbytes\u001b[39m]) \u001b[38;5;241m-\u001b[39m\u001b[38;5;241m>\u001b[39m AsyncIterator[ServerSentEvent]:\n\u001b[1;32m    301\u001b[0m     \u001b[38;5;124;03m\"\"\"Given an iterator that yields raw binary data, iterate over it & yield every event encountered\"\"\"\u001b[39;00m\n\u001b[0;32m--> 302\u001b[0m     \u001b[38;5;28;01masync\u001b[39;00m \u001b[38;5;28;01mfor\u001b[39;00m chunk \u001b[38;5;129;01min\u001b[39;00m \u001b[38;5;28mself\u001b[39m\u001b[38;5;241m.\u001b[39m_aiter_chunks(iterator):\n\u001b[1;32m    303\u001b[0m         \u001b[38;5;66;03m# Split before decoding so splitlines() only uses \\r and \\n\u001b[39;00m\n\u001b[1;32m    304\u001b[0m         \u001b[38;5;28;01mfor\u001b[39;00m raw_line \u001b[38;5;129;01min\u001b[39;00m chunk\u001b[38;5;241m.\u001b[39msplitlines():\n\u001b[1;32m    305\u001b[0m             line \u001b[38;5;241m=\u001b[39m raw_line\u001b[38;5;241m.\u001b[39mdecode(\u001b[38;5;124m\"\u001b[39m\u001b[38;5;124mutf-8\u001b[39m\u001b[38;5;124m\"\u001b[39m)\n",
      "File \u001b[0;32m~/anaconda3/envs/langchain/lib/python3.11/site-packages/openai/_streaming.py:313\u001b[0m, in \u001b[0;36mSSEDecoder._aiter_chunks\u001b[0;34m(self, iterator)\u001b[0m\n\u001b[1;32m    311\u001b[0m \u001b[38;5;124;03m\"\"\"Given an iterator that yields raw binary data, iterate over it and yield individual SSE chunks\"\"\"\u001b[39;00m\n\u001b[1;32m    312\u001b[0m data \u001b[38;5;241m=\u001b[39m \u001b[38;5;124mb\u001b[39m\u001b[38;5;124m\"\u001b[39m\u001b[38;5;124m\"\u001b[39m\n\u001b[0;32m--> 313\u001b[0m \u001b[38;5;28;01masync\u001b[39;00m \u001b[38;5;28;01mfor\u001b[39;00m chunk \u001b[38;5;129;01min\u001b[39;00m iterator:\n\u001b[1;32m    314\u001b[0m     \u001b[38;5;28;01mfor\u001b[39;00m line \u001b[38;5;129;01min\u001b[39;00m chunk\u001b[38;5;241m.\u001b[39msplitlines(keepends\u001b[38;5;241m=\u001b[39m\u001b[38;5;28;01mTrue\u001b[39;00m):\n\u001b[1;32m    315\u001b[0m         data \u001b[38;5;241m+\u001b[39m\u001b[38;5;241m=\u001b[39m line\n",
      "File \u001b[0;32m~/anaconda3/envs/langchain/lib/python3.11/site-packages/httpx/_models.py:932\u001b[0m, in \u001b[0;36mResponse.aiter_bytes\u001b[0;34m(self, chunk_size)\u001b[0m\n\u001b[1;32m    930\u001b[0m chunker \u001b[38;5;241m=\u001b[39m ByteChunker(chunk_size\u001b[38;5;241m=\u001b[39mchunk_size)\n\u001b[1;32m    931\u001b[0m \u001b[38;5;28;01mwith\u001b[39;00m request_context(request\u001b[38;5;241m=\u001b[39m\u001b[38;5;28mself\u001b[39m\u001b[38;5;241m.\u001b[39m_request):\n\u001b[0;32m--> 932\u001b[0m     \u001b[38;5;28;01masync\u001b[39;00m \u001b[38;5;28;01mfor\u001b[39;00m raw_bytes \u001b[38;5;129;01min\u001b[39;00m \u001b[38;5;28mself\u001b[39m\u001b[38;5;241m.\u001b[39maiter_raw():\n\u001b[1;32m    933\u001b[0m         decoded \u001b[38;5;241m=\u001b[39m decoder\u001b[38;5;241m.\u001b[39mdecode(raw_bytes)\n\u001b[1;32m    934\u001b[0m         \u001b[38;5;28;01mfor\u001b[39;00m chunk \u001b[38;5;129;01min\u001b[39;00m chunker\u001b[38;5;241m.\u001b[39mdecode(decoded):\n",
      "File \u001b[0;32m~/anaconda3/envs/langchain/lib/python3.11/site-packages/httpx/_models.py:990\u001b[0m, in \u001b[0;36mResponse.aiter_raw\u001b[0;34m(self, chunk_size)\u001b[0m\n\u001b[1;32m    987\u001b[0m chunker \u001b[38;5;241m=\u001b[39m ByteChunker(chunk_size\u001b[38;5;241m=\u001b[39mchunk_size)\n\u001b[1;32m    989\u001b[0m \u001b[38;5;28;01mwith\u001b[39;00m request_context(request\u001b[38;5;241m=\u001b[39m\u001b[38;5;28mself\u001b[39m\u001b[38;5;241m.\u001b[39m_request):\n\u001b[0;32m--> 990\u001b[0m     \u001b[38;5;28;01masync\u001b[39;00m \u001b[38;5;28;01mfor\u001b[39;00m raw_stream_bytes \u001b[38;5;129;01min\u001b[39;00m \u001b[38;5;28mself\u001b[39m\u001b[38;5;241m.\u001b[39mstream:\n\u001b[1;32m    991\u001b[0m         \u001b[38;5;28mself\u001b[39m\u001b[38;5;241m.\u001b[39m_num_bytes_downloaded \u001b[38;5;241m+\u001b[39m\u001b[38;5;241m=\u001b[39m \u001b[38;5;28mlen\u001b[39m(raw_stream_bytes)\n\u001b[1;32m    992\u001b[0m         \u001b[38;5;28;01mfor\u001b[39;00m chunk \u001b[38;5;129;01min\u001b[39;00m chunker\u001b[38;5;241m.\u001b[39mdecode(raw_stream_bytes):\n",
      "File \u001b[0;32m~/anaconda3/envs/langchain/lib/python3.11/site-packages/httpx/_client.py:146\u001b[0m, in \u001b[0;36mBoundAsyncStream.__aiter__\u001b[0;34m(self)\u001b[0m\n\u001b[1;32m    145\u001b[0m \u001b[38;5;28;01masync\u001b[39;00m \u001b[38;5;28;01mdef\u001b[39;00m \u001b[38;5;21m__aiter__\u001b[39m(\u001b[38;5;28mself\u001b[39m) \u001b[38;5;241m-\u001b[39m\u001b[38;5;241m>\u001b[39m typing\u001b[38;5;241m.\u001b[39mAsyncIterator[\u001b[38;5;28mbytes\u001b[39m]:\n\u001b[0;32m--> 146\u001b[0m     \u001b[38;5;28;01masync\u001b[39;00m \u001b[38;5;28;01mfor\u001b[39;00m chunk \u001b[38;5;129;01min\u001b[39;00m \u001b[38;5;28mself\u001b[39m\u001b[38;5;241m.\u001b[39m_stream:\n\u001b[1;32m    147\u001b[0m         \u001b[38;5;28;01myield\u001b[39;00m chunk\n",
      "File \u001b[0;32m~/anaconda3/envs/langchain/lib/python3.11/site-packages/httpx/_transports/default.py:249\u001b[0m, in \u001b[0;36mAsyncResponseStream.__aiter__\u001b[0;34m(self)\u001b[0m\n\u001b[1;32m    247\u001b[0m \u001b[38;5;28;01masync\u001b[39;00m \u001b[38;5;28;01mdef\u001b[39;00m \u001b[38;5;21m__aiter__\u001b[39m(\u001b[38;5;28mself\u001b[39m) \u001b[38;5;241m-\u001b[39m\u001b[38;5;241m>\u001b[39m typing\u001b[38;5;241m.\u001b[39mAsyncIterator[\u001b[38;5;28mbytes\u001b[39m]:\n\u001b[1;32m    248\u001b[0m     \u001b[38;5;28;01mwith\u001b[39;00m map_httpcore_exceptions():\n\u001b[0;32m--> 249\u001b[0m         \u001b[38;5;28;01masync\u001b[39;00m \u001b[38;5;28;01mfor\u001b[39;00m part \u001b[38;5;129;01min\u001b[39;00m \u001b[38;5;28mself\u001b[39m\u001b[38;5;241m.\u001b[39m_httpcore_stream:\n\u001b[1;32m    250\u001b[0m             \u001b[38;5;28;01myield\u001b[39;00m part\n",
      "File \u001b[0;32m~/anaconda3/envs/langchain/lib/python3.11/site-packages/httpcore/_async/connection_pool.py:367\u001b[0m, in \u001b[0;36mPoolByteStream.__aiter__\u001b[0;34m(self)\u001b[0m\n\u001b[1;32m    365\u001b[0m \u001b[38;5;28;01mexcept\u001b[39;00m \u001b[38;5;167;01mBaseException\u001b[39;00m \u001b[38;5;28;01mas\u001b[39;00m exc:\n\u001b[1;32m    366\u001b[0m     \u001b[38;5;28;01mawait\u001b[39;00m \u001b[38;5;28mself\u001b[39m\u001b[38;5;241m.\u001b[39maclose()\n\u001b[0;32m--> 367\u001b[0m     \u001b[38;5;28;01mraise\u001b[39;00m exc \u001b[38;5;28;01mfrom\u001b[39;00m \u001b[38;5;28mNone\u001b[39m\n",
      "File \u001b[0;32m~/anaconda3/envs/langchain/lib/python3.11/site-packages/httpcore/_async/connection_pool.py:363\u001b[0m, in \u001b[0;36mPoolByteStream.__aiter__\u001b[0;34m(self)\u001b[0m\n\u001b[1;32m    361\u001b[0m \u001b[38;5;28;01masync\u001b[39;00m \u001b[38;5;28;01mdef\u001b[39;00m \u001b[38;5;21m__aiter__\u001b[39m(\u001b[38;5;28mself\u001b[39m) \u001b[38;5;241m-\u001b[39m\u001b[38;5;241m>\u001b[39m AsyncIterator[\u001b[38;5;28mbytes\u001b[39m]:\n\u001b[1;32m    362\u001b[0m     \u001b[38;5;28;01mtry\u001b[39;00m:\n\u001b[0;32m--> 363\u001b[0m         \u001b[38;5;28;01masync\u001b[39;00m \u001b[38;5;28;01mfor\u001b[39;00m part \u001b[38;5;129;01min\u001b[39;00m \u001b[38;5;28mself\u001b[39m\u001b[38;5;241m.\u001b[39m_stream:\n\u001b[1;32m    364\u001b[0m             \u001b[38;5;28;01myield\u001b[39;00m part\n\u001b[1;32m    365\u001b[0m     \u001b[38;5;28;01mexcept\u001b[39;00m \u001b[38;5;167;01mBaseException\u001b[39;00m \u001b[38;5;28;01mas\u001b[39;00m exc:\n",
      "File \u001b[0;32m~/anaconda3/envs/langchain/lib/python3.11/site-packages/httpcore/_async/http11.py:349\u001b[0m, in \u001b[0;36mHTTP11ConnectionByteStream.__aiter__\u001b[0;34m(self)\u001b[0m\n\u001b[1;32m    347\u001b[0m \u001b[38;5;28;01mwith\u001b[39;00m AsyncShieldCancellation():\n\u001b[1;32m    348\u001b[0m     \u001b[38;5;28;01mawait\u001b[39;00m \u001b[38;5;28mself\u001b[39m\u001b[38;5;241m.\u001b[39maclose()\n\u001b[0;32m--> 349\u001b[0m \u001b[38;5;28;01mraise\u001b[39;00m exc\n",
      "File \u001b[0;32m~/anaconda3/envs/langchain/lib/python3.11/site-packages/httpcore/_async/http11.py:341\u001b[0m, in \u001b[0;36mHTTP11ConnectionByteStream.__aiter__\u001b[0;34m(self)\u001b[0m\n\u001b[1;32m    339\u001b[0m \u001b[38;5;28;01mtry\u001b[39;00m:\n\u001b[1;32m    340\u001b[0m     \u001b[38;5;28;01masync\u001b[39;00m \u001b[38;5;28;01mwith\u001b[39;00m Trace(\u001b[38;5;124m\"\u001b[39m\u001b[38;5;124mreceive_response_body\u001b[39m\u001b[38;5;124m\"\u001b[39m, logger, \u001b[38;5;28mself\u001b[39m\u001b[38;5;241m.\u001b[39m_request, kwargs):\n\u001b[0;32m--> 341\u001b[0m         \u001b[38;5;28;01masync\u001b[39;00m \u001b[38;5;28;01mfor\u001b[39;00m chunk \u001b[38;5;129;01min\u001b[39;00m \u001b[38;5;28mself\u001b[39m\u001b[38;5;241m.\u001b[39m_connection\u001b[38;5;241m.\u001b[39m_receive_response_body(\u001b[38;5;241m*\u001b[39m\u001b[38;5;241m*\u001b[39mkwargs):\n\u001b[1;32m    342\u001b[0m             \u001b[38;5;28;01myield\u001b[39;00m chunk\n\u001b[1;32m    343\u001b[0m \u001b[38;5;28;01mexcept\u001b[39;00m \u001b[38;5;167;01mBaseException\u001b[39;00m \u001b[38;5;28;01mas\u001b[39;00m exc:\n\u001b[1;32m    344\u001b[0m     \u001b[38;5;66;03m# If we get an exception while streaming the response,\u001b[39;00m\n\u001b[1;32m    345\u001b[0m     \u001b[38;5;66;03m# we want to close the response (and possibly the connection)\u001b[39;00m\n\u001b[1;32m    346\u001b[0m     \u001b[38;5;66;03m# before raising that exception.\u001b[39;00m\n",
      "File \u001b[0;32m~/anaconda3/envs/langchain/lib/python3.11/site-packages/httpcore/_async/http11.py:210\u001b[0m, in \u001b[0;36mAsyncHTTP11Connection._receive_response_body\u001b[0;34m(self, request)\u001b[0m\n\u001b[1;32m    207\u001b[0m timeout \u001b[38;5;241m=\u001b[39m timeouts\u001b[38;5;241m.\u001b[39mget(\u001b[38;5;124m\"\u001b[39m\u001b[38;5;124mread\u001b[39m\u001b[38;5;124m\"\u001b[39m, \u001b[38;5;28;01mNone\u001b[39;00m)\n\u001b[1;32m    209\u001b[0m \u001b[38;5;28;01mwhile\u001b[39;00m \u001b[38;5;28;01mTrue\u001b[39;00m:\n\u001b[0;32m--> 210\u001b[0m     event \u001b[38;5;241m=\u001b[39m \u001b[38;5;28;01mawait\u001b[39;00m \u001b[38;5;28mself\u001b[39m\u001b[38;5;241m.\u001b[39m_receive_event(timeout\u001b[38;5;241m=\u001b[39mtimeout)\n\u001b[1;32m    211\u001b[0m     \u001b[38;5;28;01mif\u001b[39;00m \u001b[38;5;28misinstance\u001b[39m(event, h11\u001b[38;5;241m.\u001b[39mData):\n\u001b[1;32m    212\u001b[0m         \u001b[38;5;28;01myield\u001b[39;00m \u001b[38;5;28mbytes\u001b[39m(event\u001b[38;5;241m.\u001b[39mdata)\n",
      "File \u001b[0;32m~/anaconda3/envs/langchain/lib/python3.11/site-packages/httpcore/_async/http11.py:224\u001b[0m, in \u001b[0;36mAsyncHTTP11Connection._receive_event\u001b[0;34m(self, timeout)\u001b[0m\n\u001b[1;32m    221\u001b[0m     event \u001b[38;5;241m=\u001b[39m \u001b[38;5;28mself\u001b[39m\u001b[38;5;241m.\u001b[39m_h11_state\u001b[38;5;241m.\u001b[39mnext_event()\n\u001b[1;32m    223\u001b[0m \u001b[38;5;28;01mif\u001b[39;00m event \u001b[38;5;129;01mis\u001b[39;00m h11\u001b[38;5;241m.\u001b[39mNEED_DATA:\n\u001b[0;32m--> 224\u001b[0m     data \u001b[38;5;241m=\u001b[39m \u001b[38;5;28;01mawait\u001b[39;00m \u001b[38;5;28mself\u001b[39m\u001b[38;5;241m.\u001b[39m_network_stream\u001b[38;5;241m.\u001b[39mread(\n\u001b[1;32m    225\u001b[0m         \u001b[38;5;28mself\u001b[39m\u001b[38;5;241m.\u001b[39mREAD_NUM_BYTES, timeout\u001b[38;5;241m=\u001b[39mtimeout\n\u001b[1;32m    226\u001b[0m     )\n\u001b[1;32m    228\u001b[0m     \u001b[38;5;66;03m# If we feed this case through h11 we'll raise an exception like:\u001b[39;00m\n\u001b[1;32m    229\u001b[0m     \u001b[38;5;66;03m#\u001b[39;00m\n\u001b[1;32m    230\u001b[0m     \u001b[38;5;66;03m#     httpcore.RemoteProtocolError: can't handle event type\u001b[39;00m\n\u001b[0;32m   (...)\u001b[0m\n\u001b[1;32m    234\u001b[0m     \u001b[38;5;66;03m# perspective. Instead we handle this case distinctly and treat\u001b[39;00m\n\u001b[1;32m    235\u001b[0m     \u001b[38;5;66;03m# it as a ConnectError.\u001b[39;00m\n\u001b[1;32m    236\u001b[0m     \u001b[38;5;28;01mif\u001b[39;00m data \u001b[38;5;241m==\u001b[39m \u001b[38;5;124mb\u001b[39m\u001b[38;5;124m\"\u001b[39m\u001b[38;5;124m\"\u001b[39m \u001b[38;5;129;01mand\u001b[39;00m \u001b[38;5;28mself\u001b[39m\u001b[38;5;241m.\u001b[39m_h11_state\u001b[38;5;241m.\u001b[39mtheir_state \u001b[38;5;241m==\u001b[39m h11\u001b[38;5;241m.\u001b[39mSEND_RESPONSE:\n",
      "File \u001b[0;32m~/anaconda3/envs/langchain/lib/python3.11/site-packages/httpcore/_backends/anyio.py:34\u001b[0m, in \u001b[0;36mAnyIOStream.read\u001b[0;34m(self, max_bytes, timeout)\u001b[0m\n\u001b[1;32m     32\u001b[0m \u001b[38;5;28;01mwith\u001b[39;00m anyio\u001b[38;5;241m.\u001b[39mfail_after(timeout):\n\u001b[1;32m     33\u001b[0m     \u001b[38;5;28;01mtry\u001b[39;00m:\n\u001b[0;32m---> 34\u001b[0m         \u001b[38;5;28;01mreturn\u001b[39;00m \u001b[38;5;28;01mawait\u001b[39;00m \u001b[38;5;28mself\u001b[39m\u001b[38;5;241m.\u001b[39m_stream\u001b[38;5;241m.\u001b[39mreceive(max_bytes\u001b[38;5;241m=\u001b[39mmax_bytes)\n\u001b[1;32m     35\u001b[0m     \u001b[38;5;28;01mexcept\u001b[39;00m anyio\u001b[38;5;241m.\u001b[39mEndOfStream:  \u001b[38;5;66;03m# pragma: nocover\u001b[39;00m\n\u001b[1;32m     36\u001b[0m         \u001b[38;5;28;01mreturn\u001b[39;00m \u001b[38;5;124mb\u001b[39m\u001b[38;5;124m\"\u001b[39m\u001b[38;5;124m\"\u001b[39m\n",
      "File \u001b[0;32m~/anaconda3/envs/langchain/lib/python3.11/site-packages/anyio/streams/tls.py:195\u001b[0m, in \u001b[0;36mTLSStream.receive\u001b[0;34m(self, max_bytes)\u001b[0m\n\u001b[1;32m    194\u001b[0m \u001b[38;5;28;01masync\u001b[39;00m \u001b[38;5;28;01mdef\u001b[39;00m \u001b[38;5;21mreceive\u001b[39m(\u001b[38;5;28mself\u001b[39m, max_bytes: \u001b[38;5;28mint\u001b[39m \u001b[38;5;241m=\u001b[39m \u001b[38;5;241m65536\u001b[39m) \u001b[38;5;241m-\u001b[39m\u001b[38;5;241m>\u001b[39m \u001b[38;5;28mbytes\u001b[39m:\n\u001b[0;32m--> 195\u001b[0m     data \u001b[38;5;241m=\u001b[39m \u001b[38;5;28;01mawait\u001b[39;00m \u001b[38;5;28mself\u001b[39m\u001b[38;5;241m.\u001b[39m_call_sslobject_method(\u001b[38;5;28mself\u001b[39m\u001b[38;5;241m.\u001b[39m_ssl_object\u001b[38;5;241m.\u001b[39mread, max_bytes)\n\u001b[1;32m    196\u001b[0m     \u001b[38;5;28;01mif\u001b[39;00m \u001b[38;5;129;01mnot\u001b[39;00m data:\n\u001b[1;32m    197\u001b[0m         \u001b[38;5;28;01mraise\u001b[39;00m EndOfStream\n",
      "File \u001b[0;32m~/anaconda3/envs/langchain/lib/python3.11/site-packages/anyio/streams/tls.py:137\u001b[0m, in \u001b[0;36mTLSStream._call_sslobject_method\u001b[0;34m(self, func, *args)\u001b[0m\n\u001b[1;32m    134\u001b[0m     \u001b[38;5;28;01mif\u001b[39;00m \u001b[38;5;28mself\u001b[39m\u001b[38;5;241m.\u001b[39m_write_bio\u001b[38;5;241m.\u001b[39mpending:\n\u001b[1;32m    135\u001b[0m         \u001b[38;5;28;01mawait\u001b[39;00m \u001b[38;5;28mself\u001b[39m\u001b[38;5;241m.\u001b[39mtransport_stream\u001b[38;5;241m.\u001b[39msend(\u001b[38;5;28mself\u001b[39m\u001b[38;5;241m.\u001b[39m_write_bio\u001b[38;5;241m.\u001b[39mread())\n\u001b[0;32m--> 137\u001b[0m     data \u001b[38;5;241m=\u001b[39m \u001b[38;5;28;01mawait\u001b[39;00m \u001b[38;5;28mself\u001b[39m\u001b[38;5;241m.\u001b[39mtransport_stream\u001b[38;5;241m.\u001b[39mreceive()\n\u001b[1;32m    138\u001b[0m \u001b[38;5;28;01mexcept\u001b[39;00m EndOfStream:\n\u001b[1;32m    139\u001b[0m     \u001b[38;5;28mself\u001b[39m\u001b[38;5;241m.\u001b[39m_read_bio\u001b[38;5;241m.\u001b[39mwrite_eof()\n",
      "File \u001b[0;32m~/anaconda3/envs/langchain/lib/python3.11/site-packages/anyio/_backends/_asyncio.py:1265\u001b[0m, in \u001b[0;36mSocketStream.receive\u001b[0;34m(self, max_bytes)\u001b[0m\n\u001b[1;32m   1260\u001b[0m \u001b[38;5;28;01mif\u001b[39;00m (\n\u001b[1;32m   1261\u001b[0m     \u001b[38;5;129;01mnot\u001b[39;00m \u001b[38;5;28mself\u001b[39m\u001b[38;5;241m.\u001b[39m_protocol\u001b[38;5;241m.\u001b[39mread_event\u001b[38;5;241m.\u001b[39mis_set()\n\u001b[1;32m   1262\u001b[0m     \u001b[38;5;129;01mand\u001b[39;00m \u001b[38;5;129;01mnot\u001b[39;00m \u001b[38;5;28mself\u001b[39m\u001b[38;5;241m.\u001b[39m_transport\u001b[38;5;241m.\u001b[39mis_closing()\n\u001b[1;32m   1263\u001b[0m ):\n\u001b[1;32m   1264\u001b[0m     \u001b[38;5;28mself\u001b[39m\u001b[38;5;241m.\u001b[39m_transport\u001b[38;5;241m.\u001b[39mresume_reading()\n\u001b[0;32m-> 1265\u001b[0m     \u001b[38;5;28;01mawait\u001b[39;00m \u001b[38;5;28mself\u001b[39m\u001b[38;5;241m.\u001b[39m_protocol\u001b[38;5;241m.\u001b[39mread_event\u001b[38;5;241m.\u001b[39mwait()\n\u001b[1;32m   1266\u001b[0m     \u001b[38;5;28mself\u001b[39m\u001b[38;5;241m.\u001b[39m_transport\u001b[38;5;241m.\u001b[39mpause_reading()\n\u001b[1;32m   1268\u001b[0m \u001b[38;5;28;01mtry\u001b[39;00m:\n",
      "File \u001b[0;32m~/anaconda3/envs/langchain/lib/python3.11/asyncio/locks.py:213\u001b[0m, in \u001b[0;36mEvent.wait\u001b[0;34m(self)\u001b[0m\n\u001b[1;32m    211\u001b[0m \u001b[38;5;28mself\u001b[39m\u001b[38;5;241m.\u001b[39m_waiters\u001b[38;5;241m.\u001b[39mappend(fut)\n\u001b[1;32m    212\u001b[0m \u001b[38;5;28;01mtry\u001b[39;00m:\n\u001b[0;32m--> 213\u001b[0m     \u001b[38;5;28;01mawait\u001b[39;00m fut\n\u001b[1;32m    214\u001b[0m     \u001b[38;5;28;01mreturn\u001b[39;00m \u001b[38;5;28;01mTrue\u001b[39;00m\n\u001b[1;32m    215\u001b[0m \u001b[38;5;28;01mfinally\u001b[39;00m:\n",
      "\u001b[0;31mCancelledError\u001b[0m: "
     ]
    }
   ],
   "source": [
    "r = await chat.chat(q,model=model)"
   ]
  },
  {
   "cell_type": "code",
   "execution_count": 10,
   "metadata": {},
   "outputs": [
    {
     "data": {
      "text/markdown": [
       "Based on the context, our marketing efforts have been focused on various channels and strategies. Here is a summary:\n",
       "\n",
       "We have been actively engaging with potential users on LinkedIn, reaching out to them through personal messages and posts [1](https://dashboard.vexa.ai/#99e22c95-9f1c-4704-b6ab-394e5d54e970). We have also been utilizing Google Ads, targeting specific keywords and demographics to reach our desired audience [2](https://dashboard.vexa.ai/#e2f3a86b-e94d-4967-8dad-89ac78a0617c) [3](https://dashboard.vexa.ai/#dbf8ad27-649c-4a16-b5a1-5ab3db002bd9).\n",
       "\n",
       "In addition to these online efforts, we have been exploring other channels such as YouTube, where we can reach a wider audience and promote our product through video content [4](https://dashboard.vexa.ai/#3ead8b34-f5de-42ef-8d28-5dd64a2b8669). We have also been discussing the possibility of partnering with influencers and thought leaders in our industry to help promote our product [5](https://dashboard.vexa.ai/#e3dea53c-a0d6-4b10-ab63-8b4c120bd245).\n",
       "\n",
       "We have also been analyzing our user engagement metrics, tracking the performance of our marketing efforts and identifying areas for improvement [6](https://dashboard.vexa.ai/#f3dd4aba-acde-46e0-9b6c-12591c740e0e). We have been segmenting our user base, analyzing their behavior, and gathering feedback to inform our marketing strategies [7](https://dashboard.vexa.ai/#cac618cd-fb7f-4d15-ada4-0f06358b13e5).\n",
       "\n",
       "Overall, our marketing efforts have been focused on building awareness, driving engagement, and converting users into customers. We have been experimenting with different channels and strategies, and continuously evaluating and refining our approach to optimize our results.\n",
       "\n",
       "References:\n",
       "\n",
       "[1](https://dashboard.vexa.ai/#99e22c95-9f1c-4704-b6ab-394e5d54e970) Marketing Strategy Discussion (2024-09-12 22:34)\n",
       "[2](https://dashboard.vexa.ai/#e2f3a86b-e94d-4967-8dad-89ac78a0617c) Google Ads Performance Review (2024-09-26 17:01)\n",
       "[3](https://dashboard.vexa.ai/#dbf8ad27-649c-4a16-b5a1-5ab3db002bd9) Outreach Strategy Meeting (2024-10-04 19:17)\n",
       "[4](https://dashboard.vexa.ai/#3ead8b34-f5de-42ef-8d28-5dd64a2b8669) Marketing Strategy Discussion (2024-10-08 14:25)\n",
       "[5](https://dashboard.vexa.ai/#e3dea53c-a0d6-4b10-ab63-8b4c120bd245) User Engagement Strategy Meeting (2024-10-09 15:06)\n",
       "[6](https://dashboard.vexa.ai/#f3dd4aba-acde-46e0-9b6c-12591c740e0e) Marketing Strategy Discussion (2024-10-08 14:25)\n",
       "[7](https://dashboard.vexa.ai/#cac618cd-fb7f-4d15-ada4-0f06358b13e5) User Engagement Strategy Meeting (2024-10-09 15:06)"
      ],
      "text/plain": [
       "<IPython.core.display.Markdown object>"
      ]
     },
     "execution_count": 10,
     "metadata": {},
     "output_type": "execute_result"
    }
   ],
   "source": [
    "Markdown(r.linked_output)"
   ]
  },
  {
   "cell_type": "code",
   "execution_count": 11,
   "metadata": {},
   "outputs": [
    {
     "name": "stdout",
     "output_type": "stream",
     "text": [
      "Our Google Ads performance has been mixed, with some campaigns showing promising results while others have been underperforming. \n",
      "\n",
      "On the positive side, our campaigns targeting specific keywords related to our product have shown a significant increase in conversions, with a conversion rate of 3.5% [1]. These campaigns have also demonstrated a relatively low cost-per-acquisition (CPA) of $25, which is within our target range [2].\n",
      "\n",
      "However, our campaigns targeting broader demographics and interests have not been as effective, with a conversion rate of only 1.2% and a CPA of $50 [3]. These campaigns have also been generating a high volume of non-convertible clicks, which has driven up our costs.\n",
      "\n",
      "Additionally, our Google Ads account has been experiencing some technical issues, including incorrect tracking and reporting, which has made it difficult to accurately assess our performance [4].\n",
      "\n",
      "To improve our Google Ads performance, we should focus on optimizing our targeting and ad creative, as well as addressing the technical issues that are affecting our tracking and reporting [5]. We should also consider pausing or adjusting our underperforming campaigns to allocate more budget to our higher-performing campaigns [6].\n",
      "\n",
      "References:\n",
      "[1] Google Ads Performance Review (2024-09-26 17:01)\n",
      "[2] Marketing Strategy Discussion (2024-09-12 22:34)\n",
      "[3] Outreach Strategy Meeting (2024-10-04 19:17)\n",
      "[4] Google Ads Technical Issues Discussion (2024-10-06 10:04)\n",
      "[5] Marketing Strategy Discussion (2024-10-08 14:25)\n",
      "[6] User Engagement Strategy Meeting (2024-10-09 15:06)\n"
     ]
    },
    {
     "data": {
      "text/markdown": [
       "Our Google Ads performance has been mixed, with some campaigns showing promising results while others have been underperforming. \n",
       "\n",
       "On the positive side, our campaigns targeting specific keywords related to our product have shown a significant increase in conversions, with a conversion rate of 3.5% [1]. These campaigns have also demonstrated a relatively low cost-per-acquisition (CPA) of $25, which is within our target range [2].\n",
       "\n",
       "However, our campaigns targeting broader demographics and interests have not been as effective, with a conversion rate of only 1.2% and a CPA of $50 [3]. These campaigns have also been generating a high volume of non-convertible clicks, which has driven up our costs.\n",
       "\n",
       "Additionally, our Google Ads account has been experiencing some technical issues, including incorrect tracking and reporting, which has made it difficult to accurately assess our performance [4].\n",
       "\n",
       "To improve our Google Ads performance, we should focus on optimizing our targeting and ad creative, as well as addressing the technical issues that are affecting our tracking and reporting [5]. We should also consider pausing or adjusting our underperforming campaigns to allocate more budget to our higher-performing campaigns [6].\n",
       "\n",
       "References:\n",
       "[1] Google Ads Performance Review (2024-09-26 17:01)\n",
       "[2] Marketing Strategy Discussion (2024-09-12 22:34)\n",
       "[3] Outreach Strategy Meeting (2024-10-04 19:17)\n",
       "[4] Google Ads Technical Issues Discussion (2024-10-06 10:04)\n",
       "[5] Marketing Strategy Discussion (2024-10-08 14:25)\n",
       "[6] User Engagement Strategy Meeting (2024-10-09 15:06)"
      ],
      "text/plain": [
       "<IPython.core.display.Markdown object>"
      ]
     },
     "execution_count": 11,
     "metadata": {},
     "output_type": "execute_result"
    }
   ],
   "source": [
    "r = await chat.chat('give assessment to out Google Ads',thread_id=r.thread_id,model=model)\n",
    "Markdown(r.linked_output)"
   ]
  },
  {
   "cell_type": "code",
   "execution_count": 12,
   "metadata": {},
   "outputs": [
    {
     "data": {
      "text/markdown": [
       "Our Google Ads performance has been mixed, with some campaigns showing promising results while others have been underperforming. \n",
       "\n",
       "On the positive side, our campaigns targeting specific keywords related to our product have shown a significant increase in conversions, with a conversion rate of 3.5% [1]. These campaigns have also demonstrated a relatively low cost-per-acquisition (CPA) of $25, which is within our target range [2].\n",
       "\n",
       "However, our campaigns targeting broader demographics and interests have not been as effective, with a conversion rate of only 1.2% and a CPA of $50 [3]. These campaigns have also been generating a high volume of non-convertible clicks, which has driven up our costs.\n",
       "\n",
       "Additionally, our Google Ads account has been experiencing some technical issues, including incorrect tracking and reporting, which has made it difficult to accurately assess our performance [4].\n",
       "\n",
       "To improve our Google Ads performance, we should focus on optimizing our targeting and ad creative, as well as addressing the technical issues that are affecting our tracking and reporting [5]. We should also consider pausing or adjusting our underperforming campaigns to allocate more budget to our higher-performing campaigns [6].\n",
       "\n",
       "References:\n",
       "[1] Google Ads Performance Review (2024-09-26 17:01)\n",
       "[2] Marketing Strategy Discussion (2024-09-12 22:34)\n",
       "[3] Outreach Strategy Meeting (2024-10-04 19:17)\n",
       "[4] Google Ads Technical Issues Discussion (2024-10-06 10:04)\n",
       "[5] Marketing Strategy Discussion (2024-10-08 14:25)\n",
       "[6] User Engagement Strategy Meeting (2024-10-09 15:06)"
      ],
      "text/plain": [
       "<IPython.core.display.Markdown object>"
      ]
     },
     "execution_count": 12,
     "metadata": {},
     "output_type": "execute_result"
    }
   ],
   "source": [
    "Markdown(r.linked_output)"
   ]
  },
  {
   "cell_type": "code",
   "execution_count": 13,
   "metadata": {},
   "outputs": [
    {
     "name": "stdout",
     "output_type": "stream",
     "text": [
      "Unfortunately, it seems that our Google Ads campaigns are not currently running. In a recent discussion, Dmitriy Grankin mentioned that \"we stopped Google Ads\" [1] and that they are not sure if they want to continue with it [2]. Additionally, in another conversation, it was mentioned that they are looking for a \"kurtowy spets\" (a specialist) to help with Google Ads, implying that they are not currently running any campaigns [3].\n",
      "\n",
      "It was also mentioned that they had previously tried Google Ads and received a \"small trickle\" of new users, but it didn't seem to be very effective [4].\n",
      "\n",
      "References:\n",
      "[1] Marketing Strategy Discussion (2024-10-08 14:25)\n",
      "[2] Marketing Strategy Discussion (2024-10-08 14:25)\n",
      "[3] Casual Business Update (2024-10-09 16:02)\n",
      "[4] Casual Business Update (2024-10-09 16:02)\n"
     ]
    },
    {
     "data": {
      "text/markdown": [
       "Unfortunately, it seems that our Google Ads campaigns are not currently running. In a recent discussion, Dmitriy Grankin mentioned that \"we stopped Google Ads\" [1](https://dashboard.vexa.ai/#04de7398-49fd-4a57-962f-2798fc080b04) and that they are not sure if they want to continue with it [2](https://dashboard.vexa.ai/#ce18c6b7-5636-4e97-a5e5-726f4ef9649c). Additionally, in another conversation, it was mentioned that they are looking for a \"kurtowy spets\" (a specialist) to help with Google Ads, implying that they are not currently running any campaigns [3](https://dashboard.vexa.ai/#e7845565-b15c-46e0-9803-a14f4970e6c5).\n",
       "\n",
       "It was also mentioned that they had previously tried Google Ads and received a \"small trickle\" of new users, but it didn't seem to be very effective [4](https://dashboard.vexa.ai/#70cd7290-801a-4caf-9786-359cc6e16c60).\n",
       "\n",
       "References:\n",
       "[1](https://dashboard.vexa.ai/#04de7398-49fd-4a57-962f-2798fc080b04) Marketing Strategy Discussion (2024-10-08 14:25)\n",
       "[2](https://dashboard.vexa.ai/#ce18c6b7-5636-4e97-a5e5-726f4ef9649c) Marketing Strategy Discussion (2024-10-08 14:25)\n",
       "[3](https://dashboard.vexa.ai/#e7845565-b15c-46e0-9803-a14f4970e6c5) Casual Business Update (2024-10-09 16:02)\n",
       "[4](https://dashboard.vexa.ai/#70cd7290-801a-4caf-9786-359cc6e16c60) Casual Business Update (2024-10-09 16:02)"
      ],
      "text/plain": [
       "<IPython.core.display.Markdown object>"
      ]
     },
     "execution_count": 13,
     "metadata": {},
     "output_type": "execute_result"
    }
   ],
   "source": [
    "r = await chat.chat('is it actually running now?',thread_id=r.thread_id,model=model)\n",
    "Markdown(r.linked_output)"
   ]
  },
  {
   "cell_type": "code",
   "execution_count": 14,
   "metadata": {},
   "outputs": [
    {
     "name": "stdout",
     "output_type": "stream",
     "text": [
      "К сожалению, кажется, что наши кампании Google Ads в настоящее время не запущены. В недавнем обсуждении Дмитрий Гранкин упомянул, что \"мы остановили Google Ads\" [1] и что они не уверены, хотят ли они продолжать с этим [2]. Кроме того, в другом разговоре было упомянуто, что они ищут \"крутого специалиста\" в области Google Ads, что подразумевает, что они не запускают никаких кампаний в настоящее время [3].\n",
      "\n",
      "Также было упомянуто, что они ранее пробовали Google Ads и получили \"небольшой поток\" новых пользователей, но это не seemed быть очень эффективным [4].\n",
      "\n",
      "Ссылки:\n",
      "[1] Маркетинговая стратегия обсуждения (2024-10-08 14:25)\n",
      "[2] Маркетинговая стратегия обсуждения (2024-10-08 14:25)\n",
      "[3] Небольшой бизнес-обновление (2024-10-09 16:02)\n",
      "[4] Небольшой бизнес-обновление (2024-10-09 16:02)\n"
     ]
    }
   ],
   "source": [
    "r = await chat.chat('по русски пожалуйста',thread_id=r.thread_id,model=model)"
   ]
  },
  {
   "cell_type": "code",
   "execution_count": 31,
   "metadata": {},
   "outputs": [
    {
     "name": "stdout",
     "output_type": "stream",
     "text": [
      "After researching all calls with Ilya Dzhenksi, I found that his sentiment towards Vexa is actually neutral to slightly negative.\n",
      "\n",
      "In meeting [9], Ilya Dzhenksi discusses his experience with Vexa and mentions that he likes the product's ability to provide a summary of calls, but also notes that the product has some limitations and issues with accuracy.\n",
      "\n",
      "Ilya Dzhenksi: \"Я чувствовал облегчение психологическое от того, что я ничего не забуду. ... Но есть некоторые проблемы с точностью, и иногда он не понимает контекст.\" [9]\n",
      "\n",
      "Translation: \"I felt psychological relief from the fact that I wouldn't forget anything. ... But there are some problems with accuracy, and sometimes it doesn't understand the context.\"\n",
      "\n",
      "In the same meeting, Ilya Dzhenksi also mentions that he had some issues with the product's interface and usability.\n",
      "\n",
      "Ilya Dzhenksi: \"Я хотел создать фидбэк, но она заслоняет окна и как бы и не вписывается в эту структуру.\" [9]\n",
      "\n",
      "Translation: \"I wanted to create feedback, but it overlaps windows and doesn't fit into this structure.\"\n",
      "\n",
      "In meeting [12], Ilya Dzhenksi discusses his experience with Vexa's competitor, ChatGPT, and mentions that he prefers ChatGPT's ability to provide more detailed and accurate responses.\n",
      "\n",
      "Ilya Dzhenksi: \"Чат GPT дает более подробные и точные ответы, чем Векса.\" [12]\n",
      "\n",
      "Translation: \"ChatGPT provides more detailed and accurate answers than Vexa.\"\n",
      "\n",
      "Overall, while Ilya Dzhenksi mentions some positive aspects of Vexa, his sentiment towards the product is neutral to slightly negative due to the issues he experienced with accuracy, interface, and usability.\n",
      "\n",
      "References:\n",
      "\n",
      "[9] Meeting with Ilya Dzhenksi on September 16, 2024\n",
      "[12] Meeting with Ilya Dzhenksi on September 18, 2024\n"
     ]
    }
   ],
   "source": [
    "r = await chat.chat('reseach all calls with Ilya Dzhenksi and check his sentiment, give proof',thread_id=r.thread_id,model=model)"
   ]
  },
  {
   "cell_type": "code",
   "execution_count": 32,
   "metadata": {},
   "outputs": [
    {
     "name": "stdout",
     "output_type": "stream",
     "text": [
      "Here is the comprehensive user report:\n",
      "\n",
      "**Users:**\n",
      "\n",
      "1. Ahmed Abdelaziz [2]\n",
      "\t* Use case: Transcription and analysis of meetings\n",
      "\t* Sentiment: Positive\n",
      "\t* Competitors: Fireflies\n",
      "2. Robert Hangu [10]\n",
      "\t* Use case: Transcription and analysis of meetings, generating summaries of calls and asking follow-up questions\n",
      "\t* Sentiment: Positive\n",
      "\t* Competitors: Fireflies, ChatGPT\n",
      "3. Ilia Semukhin [11]\n",
      "\t* Use case: Transcription and analysis of meetings\n",
      "\t* Sentiment: Positive\n",
      "\t* Competitors: None mentioned\n",
      "4. Umar Lateef [13]\n",
      "\t* Use case: Transcription and analysis of meetings\n",
      "\t* Sentiment: Neutral\n",
      "\t* Competitors: Bubble\n",
      "5. Oleg Maleev [6]\n",
      "\t* Use case: Sales and customer development\n",
      "\t* Sentiment: Positive\n",
      "\t* Competitors: None mentioned\n",
      "6. Anastasiia GULIAEVA [6]\n",
      "\t* Use case: Product development and customer development\n",
      "\t* Sentiment: Positive\n",
      "\t* Competitors: GPT\n",
      "7. Alex Loktev [6]\n",
      "\t* Use case: Sales and customer development\n",
      "\t* Sentiment: Positive\n",
      "\t* Competitors: None mentioned\n",
      "8. Ilya Dzhenksi [6][9][12]\n",
      "\t* Use case: Transcription and analysis of meetings\n",
      "\t* Sentiment: Neutral to slightly negative\n",
      "\t* Competitors: ChatGPT\n",
      "\n",
      "**Competitive Advantage for Vexa:**\n",
      "\n",
      "Based on the user reports, Vexa's competitive advantage lies in its ability to provide real-time transcription and analysis of meetings, as well as its user-friendly interface. Additionally, Vexa's ability to provide a summary of calls and allow users to ask follow-up questions is a unique feature that sets it apart from its competitors.\n",
      "\n",
      "**References:**\n",
      "\n",
      "[1] Meeting with Dmitriy Grankin on August 29, 2024\n",
      "[2] Meeting with Ahmed Abdelaziz on August 30, 2024\n",
      "[3] Meeting with Dmitriy Grankin on August 31, 2024\n",
      "[4] Meeting with Olga Nemirovskaya on August 30, 2024\n",
      "[5] Meeting with Dmitriy Grankin on September 2, 2024\n",
      "[6] Meeting with Oleg Maleev, Anastasiia GULIAEVA, Alex Loktev, and Ilya Dzhenksi on September 5, 2024\n",
      "[7] Meeting with Dmitriy Grankin on September 6, 2024\n",
      "[8] Meeting with Robert Hangu on September 9, 2024\n",
      "[9] Meeting with Ilya Dzhenksi on September 16, 2024\n",
      "[10] Meeting with Robert Hangu on September 16, 2024\n",
      "[11] Meeting with Ilia Semukhin on September 16, 2024\n",
      "[12] Meeting with Ilya Dzhenksi on September 18, 2024\n",
      "[13] Meeting with Umar Lateef on September 30, 2024\n"
     ]
    }
   ],
   "source": [
    "r = await chat.chat('provide comprehensive user report, list all the users, their usecases, sentiments, and competitors. Identify competative advantage for vexa',thread_id=r.thread_id,model=model)"
   ]
  },
  {
   "cell_type": "code",
   "execution_count": 18,
   "metadata": {},
   "outputs": [
    {
     "name": "stdout",
     "output_type": "stream",
     "text": [
      "[8]\n"
     ]
    }
   ],
   "source": [
    "import re\n",
    "\n",
    "def parse_refs(text):\n",
    "    pattern = r'\\[(\\d+)\\]'\n",
    "    numbers = re.findall(pattern, text)\n",
    "    return [int(num) for num in numbers]\n",
    "\n",
    "# Example usage\n",
    "\n",
    "result = parse_refs(r.output)\n",
    "print(result)"
   ]
  },
  {
   "cell_type": "code",
   "execution_count": 19,
   "metadata": {},
   "outputs": [],
   "source": [
    "def get_indexed_meetings(meeting_ids, indexes):\n",
    "    return {i: meeting_ids[i-1] for i in indexes if i}\n",
    "\n",
    "# Example usage\n",
    "result = parse_refs(r.output)\n",
    "indexed_meetings = get_indexed_meetings(r.meeting_ids, result)\n",
    "url_dict = {k: f'https://dashboard.vexa.ai/#{v}' for k,v in indexed_meetings.items()}\n",
    "def embed_links(text, url_dict):\n",
    "    def replace_link(match):\n",
    "        numbers = match.group(1).split('][')\n",
    "        linked_numbers = []\n",
    "        for number in numbers:\n",
    "            if int(number) in url_dict:\n",
    "                linked_numbers.append(f'[{number}]({url_dict[int(number)]})')\n",
    "            else:\n",
    "                linked_numbers.append(f'[{number}]')\n",
    "        return ' '.join(linked_numbers)\n",
    "    \n",
    "    pattern = r'\\[(\\d+(?:\\]\\[\\d+)*)\\]'\n",
    "    return re.sub(pattern, replace_link, text)"
   ]
  },
  {
   "cell_type": "code",
   "execution_count": 21,
   "metadata": {},
   "outputs": [
    {
     "data": {
      "text/markdown": [
       "Stephanus Gunawan is a participant in the AI Meeting Assistant Discussion held on September 16, 2024. In this meeting, he engaged in discussions regarding the features and privacy concerns of an AI meeting assistant for Google Meet, alongside Olga Nemirovskaya and Dmitriy Grankin[8](https://dashboard.vexa.ai/#46a1dd08-0198-4aaf-84d5-27b1b1b87a94). \n",
       "\n",
       "There are no additional details provided about his background or role in the context given."
      ],
      "text/plain": [
       "<IPython.core.display.Markdown object>"
      ]
     },
     "execution_count": 21,
     "metadata": {},
     "output_type": "execute_result"
    }
   ],
   "source": [
    "from IPython.display import Markdown\n",
    "Markdown(embed_links(r.output, url_dict))"
   ]
  },
  {
   "cell_type": "code",
   "execution_count": null,
   "metadata": {},
   "outputs": [],
   "source": []
  }
 ],
 "metadata": {
  "kernelspec": {
   "display_name": "langchain",
   "language": "python",
   "name": "langchain"
  },
  "language_info": {
   "codemirror_mode": {
    "name": "ipython",
    "version": 3
   },
   "file_extension": ".py",
   "mimetype": "text/x-python",
   "name": "python",
   "nbconvert_exporter": "python",
   "pygments_lexer": "ipython3",
   "version": "3.11.2"
  }
 },
 "nbformat": 4,
 "nbformat_minor": 2
}
