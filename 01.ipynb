{
 "cells": [
  {
   "cell_type": "code",
   "execution_count": 3,
   "metadata": {},
   "outputs": [
    {
     "name": "stdout",
     "output_type": "stream",
     "text": [
      "The autoreload extension is already loaded. To reload it, use:\n",
      "  %reload_ext autoreload\n"
     ]
    }
   ],
   "source": [
    "%load_ext autoreload\n",
    "%autoreload 2"
   ]
  },
  {
   "cell_type": "code",
   "execution_count": 4,
   "metadata": {},
   "outputs": [],
   "source": [
    "from search import SearchAssistant\n",
    "from core import generic_call"
   ]
  },
  {
   "cell_type": "code",
   "execution_count": 10,
   "metadata": {},
   "outputs": [
    {
     "name": "stdout",
     "output_type": "stream",
     "text": [
      "User information retrieved successfully.\n"
     ]
    }
   ],
   "source": [
    "chat = SearchAssistant()"
   ]
  },
  {
   "cell_type": "code",
   "execution_count": 11,
   "metadata": {},
   "outputs": [
    {
     "name": "stdout",
     "output_type": "stream",
     "text": [
      "User information retrieved successfully.\n",
      "The current weather is not explicitly described in the provided meeting context. However, in a casual business update on October 9, Dmitriy Grankin mentioned that the weather is \"cold and windy,\" which is typical for autumn in Finland[28]. There's no specific mention of today's weather. For specific daily forecasts, it would be best to check a reliable weather service.\n",
      "\n",
      "Final SearchResult:\n",
      "Output: The current weather is not explicitly described in the provided meeting context. However, in a casual business update on October 9, Dmitriy Grankin mentioned that the weather is \"cold and windy,\" which is typical for autumn in Finland[28]. There's no specific mention of today's weather. For specific daily forecasts, it would be best to check a reliable weather service.\n"
     ]
    }
   ],
   "source": [
    "import asyncio\n",
    "from search import SearchAssistant\n",
    "\n",
    "\n",
    "search_assistant = SearchAssistant()  # Initialize your SearchAssistant\n",
    "query = \"What's the weather like today?\"\n",
    "\n",
    "async for item in search_assistant.chat(query):\n",
    "    if isinstance(item, str):\n",
    "        # This is a streaming chunk\n",
    "        print(item, end='', flush=True)\n",
    "    else:\n",
    "        # This is the final SearchResult\n",
    "        print(\"\\n\\nFinal SearchResult:\")\n",
    "        print(f\"Output: {item.output}\")\n",
    "            # ... print other attributes as needed\n"
   ]
  },
  {
   "cell_type": "code",
   "execution_count": 12,
   "metadata": {},
   "outputs": [],
   "source": [
    "from IPython.display import Markdown"
   ]
  },
  {
   "cell_type": "code",
   "execution_count": 13,
   "metadata": {},
   "outputs": [],
   "source": [
    "from core import generic_call_stream,user_msg"
   ]
  },
  {
   "cell_type": "code",
   "execution_count": 18,
   "metadata": {},
   "outputs": [],
   "source": [
    "q = f'summarize our marketing efforts'"
   ]
  },
  {
   "cell_type": "code",
   "execution_count": 19,
   "metadata": {},
   "outputs": [],
   "source": [
    "model='together_ai/meta-llama/Llama-3.2-90B-Vision-Instruct-Turbo'"
   ]
  },
  {
   "cell_type": "code",
   "execution_count": 20,
   "metadata": {},
   "outputs": [],
   "source": [
    "model = 'default'"
   ]
  },
  {
   "cell_type": "code",
   "execution_count": 22,
   "metadata": {},
   "outputs": [
    {
     "name": "stdout",
     "output_type": "stream",
     "text": [
      "The marketing efforts discussed in the recent meetings mainly focus on optimizing advertising performance, enhancing user engagement, and leveraging influencer marketing strategies. \n",
      "\n",
      "1. **Advertising Performance**: The team is actively monitoring Google Ads campaigns, which have shown varying conversion rates. Recently, a conversion rate of around 5% was noted, prompting discussions on improving tracking and engagement strategies to boost these numbers further[1][2].\n",
      "\n",
      "2. **Influencer Marketing**: There is a strong emphasis on engaging with influencers to reach new audiences. The team debated potential partnerships and pricing with influencers, considering the conversion potential of social media engagements. Olga suggested that utilizing influencers would help tap into demographics that are currently hard to reach through direct marketing[1][2]–[5].\n",
      "\n",
      "3. **User Engagement and Onboarding**: A significant concern raised was the low conversion of registered users to active users. The discussions highlighted a need for effective onboarding processes and interplay with users to gather feedback that can inform product development[4][5][6]. \n",
      "\n",
      "4. **Testing and Optimization**: The team is keen on iterating their marketing messages based on user feedback and engagement metrics. This involves testing different outreach strategies and utilizing analytics to improve the overall effectiveness of their campaigns[2][3][5].\n",
      "\n",
      "5. **Community Engagement**: Discussions also focused on building a community through platforms like Product Hunt, where gathering user feedback and visibility through engagement can lead to a better grasp of the target audience and their needs. The importance of personal outreach and leveraging existing networks was deemed essential for the upcoming product launch[22][24].\n",
      "\n",
      "These collective strategies aim to refine their marketing efforts and ultimately enhance product uptake and user satisfaction."
     ]
    }
   ],
   "source": [
    "async for item in search_assistant.chat(q):\n",
    "    if isinstance(item, str):\n",
    "        # This is a streaming chunk\n",
    "        print(item, end='', flush=True)"
   ]
  },
  {
   "cell_type": "code",
   "execution_count": 25,
   "metadata": {},
   "outputs": [
    {
     "data": {
      "text/markdown": [
       "The marketing efforts discussed in the recent meetings mainly focus on optimizing advertising performance, enhancing user engagement, and leveraging influencer marketing strategies. \n",
       "\n",
       "1. **Advertising Performance**: The team is actively monitoring Google Ads campaigns, which have shown varying conversion rates. Recently, a conversion rate of around 5% was noted, prompting discussions on improving tracking and engagement strategies to boost these numbers further[1](https://dashboard.vexa.ai/#df0a9f4c-3b7b-436b-a329-504b99cfe37d) [2](https://dashboard.vexa.ai/#b584e414-fc70-4592-ace8-158fb392e686).\n",
       "\n",
       "2. **Influencer Marketing**: There is a strong emphasis on engaging with influencers to reach new audiences. The team debated potential partnerships and pricing with influencers, considering the conversion potential of social media engagements. Olga suggested that utilizing influencers would help tap into demographics that are currently hard to reach through direct marketing[1](https://dashboard.vexa.ai/#df0a9f4c-3b7b-436b-a329-504b99cfe37d) [2](https://dashboard.vexa.ai/#b584e414-fc70-4592-ace8-158fb392e686)–[5](https://dashboard.vexa.ai/#ed111242-a663-46f0-ae3d-6fa8e541cdc3).\n",
       "\n",
       "3. **User Engagement and Onboarding**: A significant concern raised was the low conversion of registered users to active users. The discussions highlighted a need for effective onboarding processes and interplay with users to gather feedback that can inform product development[4](https://dashboard.vexa.ai/#733a72e0-cca9-4d47-b5e9-628aa1849556) [5](https://dashboard.vexa.ai/#ed111242-a663-46f0-ae3d-6fa8e541cdc3) [6](https://dashboard.vexa.ai/#ae547dc7-22b0-4628-a715-4d0377adfc6c). \n",
       "\n",
       "4. **Testing and Optimization**: The team is keen on iterating their marketing messages based on user feedback and engagement metrics. This involves testing different outreach strategies and utilizing analytics to improve the overall effectiveness of their campaigns[2](https://dashboard.vexa.ai/#b584e414-fc70-4592-ace8-158fb392e686) [3](https://dashboard.vexa.ai/#f93390d3-bb36-47aa-856b-2e44cd4026a2) [5](https://dashboard.vexa.ai/#ed111242-a663-46f0-ae3d-6fa8e541cdc3).\n",
       "\n",
       "5. **Community Engagement**: Discussions also focused on building a community through platforms like Product Hunt, where gathering user feedback and visibility through engagement can lead to a better grasp of the target audience and their needs. The importance of personal outreach and leveraging existing networks was deemed essential for the upcoming product launch[22](https://dashboard.vexa.ai/#ce18c6b7-5636-4e97-a5e5-726f4ef9649c) [24](https://dashboard.vexa.ai/#08a4b53e-6ff1-4a95-9263-57ca27f0995a).\n",
       "\n",
       "These collective strategies aim to refine their marketing efforts and ultimately enhance product uptake and user satisfaction."
      ],
      "text/plain": [
       "<IPython.core.display.Markdown object>"
      ]
     },
     "execution_count": 25,
     "metadata": {},
     "output_type": "execute_result"
    }
   ],
   "source": [
    "Markdown(item.linked_output)"
   ]
  },
  {
   "cell_type": "code",
   "execution_count": 10,
   "metadata": {},
   "outputs": [
    {
     "data": {
      "text/markdown": [
       "Based on the context, our marketing efforts have been focused on various channels and strategies. Here is a summary:\n",
       "\n",
       "We have been actively engaging with potential users on LinkedIn, reaching out to them through personal messages and posts [1](https://dashboard.vexa.ai/#99e22c95-9f1c-4704-b6ab-394e5d54e970). We have also been utilizing Google Ads, targeting specific keywords and demographics to reach our desired audience [2](https://dashboard.vexa.ai/#e2f3a86b-e94d-4967-8dad-89ac78a0617c) [3](https://dashboard.vexa.ai/#dbf8ad27-649c-4a16-b5a1-5ab3db002bd9).\n",
       "\n",
       "In addition to these online efforts, we have been exploring other channels such as YouTube, where we can reach a wider audience and promote our product through video content [4](https://dashboard.vexa.ai/#3ead8b34-f5de-42ef-8d28-5dd64a2b8669). We have also been discussing the possibility of partnering with influencers and thought leaders in our industry to help promote our product [5](https://dashboard.vexa.ai/#e3dea53c-a0d6-4b10-ab63-8b4c120bd245).\n",
       "\n",
       "We have also been analyzing our user engagement metrics, tracking the performance of our marketing efforts and identifying areas for improvement [6](https://dashboard.vexa.ai/#f3dd4aba-acde-46e0-9b6c-12591c740e0e). We have been segmenting our user base, analyzing their behavior, and gathering feedback to inform our marketing strategies [7](https://dashboard.vexa.ai/#cac618cd-fb7f-4d15-ada4-0f06358b13e5).\n",
       "\n",
       "Overall, our marketing efforts have been focused on building awareness, driving engagement, and converting users into customers. We have been experimenting with different channels and strategies, and continuously evaluating and refining our approach to optimize our results.\n",
       "\n",
       "References:\n",
       "\n",
       "[1](https://dashboard.vexa.ai/#99e22c95-9f1c-4704-b6ab-394e5d54e970) Marketing Strategy Discussion (2024-09-12 22:34)\n",
       "[2](https://dashboard.vexa.ai/#e2f3a86b-e94d-4967-8dad-89ac78a0617c) Google Ads Performance Review (2024-09-26 17:01)\n",
       "[3](https://dashboard.vexa.ai/#dbf8ad27-649c-4a16-b5a1-5ab3db002bd9) Outreach Strategy Meeting (2024-10-04 19:17)\n",
       "[4](https://dashboard.vexa.ai/#3ead8b34-f5de-42ef-8d28-5dd64a2b8669) Marketing Strategy Discussion (2024-10-08 14:25)\n",
       "[5](https://dashboard.vexa.ai/#e3dea53c-a0d6-4b10-ab63-8b4c120bd245) User Engagement Strategy Meeting (2024-10-09 15:06)\n",
       "[6](https://dashboard.vexa.ai/#f3dd4aba-acde-46e0-9b6c-12591c740e0e) Marketing Strategy Discussion (2024-10-08 14:25)\n",
       "[7](https://dashboard.vexa.ai/#cac618cd-fb7f-4d15-ada4-0f06358b13e5) User Engagement Strategy Meeting (2024-10-09 15:06)"
      ],
      "text/plain": [
       "<IPython.core.display.Markdown object>"
      ]
     },
     "execution_count": 10,
     "metadata": {},
     "output_type": "execute_result"
    }
   ],
   "source": [
    "Markdown(r.linked_output)"
   ]
  },
  {
   "cell_type": "code",
   "execution_count": 11,
   "metadata": {},
   "outputs": [
    {
     "name": "stdout",
     "output_type": "stream",
     "text": [
      "Our Google Ads performance has been mixed, with some campaigns showing promising results while others have been underperforming. \n",
      "\n",
      "On the positive side, our campaigns targeting specific keywords related to our product have shown a significant increase in conversions, with a conversion rate of 3.5% [1]. These campaigns have also demonstrated a relatively low cost-per-acquisition (CPA) of $25, which is within our target range [2].\n",
      "\n",
      "However, our campaigns targeting broader demographics and interests have not been as effective, with a conversion rate of only 1.2% and a CPA of $50 [3]. These campaigns have also been generating a high volume of non-convertible clicks, which has driven up our costs.\n",
      "\n",
      "Additionally, our Google Ads account has been experiencing some technical issues, including incorrect tracking and reporting, which has made it difficult to accurately assess our performance [4].\n",
      "\n",
      "To improve our Google Ads performance, we should focus on optimizing our targeting and ad creative, as well as addressing the technical issues that are affecting our tracking and reporting [5]. We should also consider pausing or adjusting our underperforming campaigns to allocate more budget to our higher-performing campaigns [6].\n",
      "\n",
      "References:\n",
      "[1] Google Ads Performance Review (2024-09-26 17:01)\n",
      "[2] Marketing Strategy Discussion (2024-09-12 22:34)\n",
      "[3] Outreach Strategy Meeting (2024-10-04 19:17)\n",
      "[4] Google Ads Technical Issues Discussion (2024-10-06 10:04)\n",
      "[5] Marketing Strategy Discussion (2024-10-08 14:25)\n",
      "[6] User Engagement Strategy Meeting (2024-10-09 15:06)\n"
     ]
    },
    {
     "data": {
      "text/markdown": [
       "Our Google Ads performance has been mixed, with some campaigns showing promising results while others have been underperforming. \n",
       "\n",
       "On the positive side, our campaigns targeting specific keywords related to our product have shown a significant increase in conversions, with a conversion rate of 3.5% [1]. These campaigns have also demonstrated a relatively low cost-per-acquisition (CPA) of $25, which is within our target range [2].\n",
       "\n",
       "However, our campaigns targeting broader demographics and interests have not been as effective, with a conversion rate of only 1.2% and a CPA of $50 [3]. These campaigns have also been generating a high volume of non-convertible clicks, which has driven up our costs.\n",
       "\n",
       "Additionally, our Google Ads account has been experiencing some technical issues, including incorrect tracking and reporting, which has made it difficult to accurately assess our performance [4].\n",
       "\n",
       "To improve our Google Ads performance, we should focus on optimizing our targeting and ad creative, as well as addressing the technical issues that are affecting our tracking and reporting [5]. We should also consider pausing or adjusting our underperforming campaigns to allocate more budget to our higher-performing campaigns [6].\n",
       "\n",
       "References:\n",
       "[1] Google Ads Performance Review (2024-09-26 17:01)\n",
       "[2] Marketing Strategy Discussion (2024-09-12 22:34)\n",
       "[3] Outreach Strategy Meeting (2024-10-04 19:17)\n",
       "[4] Google Ads Technical Issues Discussion (2024-10-06 10:04)\n",
       "[5] Marketing Strategy Discussion (2024-10-08 14:25)\n",
       "[6] User Engagement Strategy Meeting (2024-10-09 15:06)"
      ],
      "text/plain": [
       "<IPython.core.display.Markdown object>"
      ]
     },
     "execution_count": 11,
     "metadata": {},
     "output_type": "execute_result"
    }
   ],
   "source": [
    "r = await chat.chat('give assessment to out Google Ads',thread_id=r.thread_id,model=model)\n",
    "Markdown(r.linked_output)"
   ]
  },
  {
   "cell_type": "code",
   "execution_count": 12,
   "metadata": {},
   "outputs": [
    {
     "data": {
      "text/markdown": [
       "Our Google Ads performance has been mixed, with some campaigns showing promising results while others have been underperforming. \n",
       "\n",
       "On the positive side, our campaigns targeting specific keywords related to our product have shown a significant increase in conversions, with a conversion rate of 3.5% [1]. These campaigns have also demonstrated a relatively low cost-per-acquisition (CPA) of $25, which is within our target range [2].\n",
       "\n",
       "However, our campaigns targeting broader demographics and interests have not been as effective, with a conversion rate of only 1.2% and a CPA of $50 [3]. These campaigns have also been generating a high volume of non-convertible clicks, which has driven up our costs.\n",
       "\n",
       "Additionally, our Google Ads account has been experiencing some technical issues, including incorrect tracking and reporting, which has made it difficult to accurately assess our performance [4].\n",
       "\n",
       "To improve our Google Ads performance, we should focus on optimizing our targeting and ad creative, as well as addressing the technical issues that are affecting our tracking and reporting [5]. We should also consider pausing or adjusting our underperforming campaigns to allocate more budget to our higher-performing campaigns [6].\n",
       "\n",
       "References:\n",
       "[1] Google Ads Performance Review (2024-09-26 17:01)\n",
       "[2] Marketing Strategy Discussion (2024-09-12 22:34)\n",
       "[3] Outreach Strategy Meeting (2024-10-04 19:17)\n",
       "[4] Google Ads Technical Issues Discussion (2024-10-06 10:04)\n",
       "[5] Marketing Strategy Discussion (2024-10-08 14:25)\n",
       "[6] User Engagement Strategy Meeting (2024-10-09 15:06)"
      ],
      "text/plain": [
       "<IPython.core.display.Markdown object>"
      ]
     },
     "execution_count": 12,
     "metadata": {},
     "output_type": "execute_result"
    }
   ],
   "source": [
    "Markdown(r.linked_output)"
   ]
  },
  {
   "cell_type": "code",
   "execution_count": 13,
   "metadata": {},
   "outputs": [
    {
     "name": "stdout",
     "output_type": "stream",
     "text": [
      "Unfortunately, it seems that our Google Ads campaigns are not currently running. In a recent discussion, Dmitriy Grankin mentioned that \"we stopped Google Ads\" [1] and that they are not sure if they want to continue with it [2]. Additionally, in another conversation, it was mentioned that they are looking for a \"kurtowy spets\" (a specialist) to help with Google Ads, implying that they are not currently running any campaigns [3].\n",
      "\n",
      "It was also mentioned that they had previously tried Google Ads and received a \"small trickle\" of new users, but it didn't seem to be very effective [4].\n",
      "\n",
      "References:\n",
      "[1] Marketing Strategy Discussion (2024-10-08 14:25)\n",
      "[2] Marketing Strategy Discussion (2024-10-08 14:25)\n",
      "[3] Casual Business Update (2024-10-09 16:02)\n",
      "[4] Casual Business Update (2024-10-09 16:02)\n"
     ]
    },
    {
     "data": {
      "text/markdown": [
       "Unfortunately, it seems that our Google Ads campaigns are not currently running. In a recent discussion, Dmitriy Grankin mentioned that \"we stopped Google Ads\" [1](https://dashboard.vexa.ai/#04de7398-49fd-4a57-962f-2798fc080b04) and that they are not sure if they want to continue with it [2](https://dashboard.vexa.ai/#ce18c6b7-5636-4e97-a5e5-726f4ef9649c). Additionally, in another conversation, it was mentioned that they are looking for a \"kurtowy spets\" (a specialist) to help with Google Ads, implying that they are not currently running any campaigns [3](https://dashboard.vexa.ai/#e7845565-b15c-46e0-9803-a14f4970e6c5).\n",
       "\n",
       "It was also mentioned that they had previously tried Google Ads and received a \"small trickle\" of new users, but it didn't seem to be very effective [4](https://dashboard.vexa.ai/#70cd7290-801a-4caf-9786-359cc6e16c60).\n",
       "\n",
       "References:\n",
       "[1](https://dashboard.vexa.ai/#04de7398-49fd-4a57-962f-2798fc080b04) Marketing Strategy Discussion (2024-10-08 14:25)\n",
       "[2](https://dashboard.vexa.ai/#ce18c6b7-5636-4e97-a5e5-726f4ef9649c) Marketing Strategy Discussion (2024-10-08 14:25)\n",
       "[3](https://dashboard.vexa.ai/#e7845565-b15c-46e0-9803-a14f4970e6c5) Casual Business Update (2024-10-09 16:02)\n",
       "[4](https://dashboard.vexa.ai/#70cd7290-801a-4caf-9786-359cc6e16c60) Casual Business Update (2024-10-09 16:02)"
      ],
      "text/plain": [
       "<IPython.core.display.Markdown object>"
      ]
     },
     "execution_count": 13,
     "metadata": {},
     "output_type": "execute_result"
    }
   ],
   "source": [
    "r = await chat.chat('is it actually running now?',thread_id=r.thread_id,model=model)\n",
    "Markdown(r.linked_output)"
   ]
  },
  {
   "cell_type": "code",
   "execution_count": 14,
   "metadata": {},
   "outputs": [
    {
     "name": "stdout",
     "output_type": "stream",
     "text": [
      "К сожалению, кажется, что наши кампании Google Ads в настоящее время не запущены. В недавнем обсуждении Дмитрий Гранкин упомянул, что \"мы остановили Google Ads\" [1] и что они не уверены, хотят ли они продолжать с этим [2]. Кроме того, в другом разговоре было упомянуто, что они ищут \"крутого специалиста\" в области Google Ads, что подразумевает, что они не запускают никаких кампаний в настоящее время [3].\n",
      "\n",
      "Также было упомянуто, что они ранее пробовали Google Ads и получили \"небольшой поток\" новых пользователей, но это не seemed быть очень эффективным [4].\n",
      "\n",
      "Ссылки:\n",
      "[1] Маркетинговая стратегия обсуждения (2024-10-08 14:25)\n",
      "[2] Маркетинговая стратегия обсуждения (2024-10-08 14:25)\n",
      "[3] Небольшой бизнес-обновление (2024-10-09 16:02)\n",
      "[4] Небольшой бизнес-обновление (2024-10-09 16:02)\n"
     ]
    }
   ],
   "source": [
    "r = await chat.chat('по русски пожалуйста',thread_id=r.thread_id,model=model)"
   ]
  },
  {
   "cell_type": "code",
   "execution_count": 31,
   "metadata": {},
   "outputs": [
    {
     "name": "stdout",
     "output_type": "stream",
     "text": [
      "After researching all calls with Ilya Dzhenksi, I found that his sentiment towards Vexa is actually neutral to slightly negative.\n",
      "\n",
      "In meeting [9], Ilya Dzhenksi discusses his experience with Vexa and mentions that he likes the product's ability to provide a summary of calls, but also notes that the product has some limitations and issues with accuracy.\n",
      "\n",
      "Ilya Dzhenksi: \"Я чувствовал облегчение психологическое от того, что я ничего не забуду. ... Но есть некоторые проблемы с точностью, и иногда он не понимает контекст.\" [9]\n",
      "\n",
      "Translation: \"I felt psychological relief from the fact that I wouldn't forget anything. ... But there are some problems with accuracy, and sometimes it doesn't understand the context.\"\n",
      "\n",
      "In the same meeting, Ilya Dzhenksi also mentions that he had some issues with the product's interface and usability.\n",
      "\n",
      "Ilya Dzhenksi: \"Я хотел создать фидбэк, но она заслоняет окна и как бы и не вписывается в эту структуру.\" [9]\n",
      "\n",
      "Translation: \"I wanted to create feedback, but it overlaps windows and doesn't fit into this structure.\"\n",
      "\n",
      "In meeting [12], Ilya Dzhenksi discusses his experience with Vexa's competitor, ChatGPT, and mentions that he prefers ChatGPT's ability to provide more detailed and accurate responses.\n",
      "\n",
      "Ilya Dzhenksi: \"Чат GPT дает более подробные и точные ответы, чем Векса.\" [12]\n",
      "\n",
      "Translation: \"ChatGPT provides more detailed and accurate answers than Vexa.\"\n",
      "\n",
      "Overall, while Ilya Dzhenksi mentions some positive aspects of Vexa, his sentiment towards the product is neutral to slightly negative due to the issues he experienced with accuracy, interface, and usability.\n",
      "\n",
      "References:\n",
      "\n",
      "[9] Meeting with Ilya Dzhenksi on September 16, 2024\n",
      "[12] Meeting with Ilya Dzhenksi on September 18, 2024\n"
     ]
    }
   ],
   "source": [
    "r = await chat.chat('reseach all calls with Ilya Dzhenksi and check his sentiment, give proof',thread_id=r.thread_id,model=model)"
   ]
  },
  {
   "cell_type": "code",
   "execution_count": 32,
   "metadata": {},
   "outputs": [
    {
     "name": "stdout",
     "output_type": "stream",
     "text": [
      "Here is the comprehensive user report:\n",
      "\n",
      "**Users:**\n",
      "\n",
      "1. Ahmed Abdelaziz [2]\n",
      "\t* Use case: Transcription and analysis of meetings\n",
      "\t* Sentiment: Positive\n",
      "\t* Competitors: Fireflies\n",
      "2. Robert Hangu [10]\n",
      "\t* Use case: Transcription and analysis of meetings, generating summaries of calls and asking follow-up questions\n",
      "\t* Sentiment: Positive\n",
      "\t* Competitors: Fireflies, ChatGPT\n",
      "3. Ilia Semukhin [11]\n",
      "\t* Use case: Transcription and analysis of meetings\n",
      "\t* Sentiment: Positive\n",
      "\t* Competitors: None mentioned\n",
      "4. Umar Lateef [13]\n",
      "\t* Use case: Transcription and analysis of meetings\n",
      "\t* Sentiment: Neutral\n",
      "\t* Competitors: Bubble\n",
      "5. Oleg Maleev [6]\n",
      "\t* Use case: Sales and customer development\n",
      "\t* Sentiment: Positive\n",
      "\t* Competitors: None mentioned\n",
      "6. Anastasiia GULIAEVA [6]\n",
      "\t* Use case: Product development and customer development\n",
      "\t* Sentiment: Positive\n",
      "\t* Competitors: GPT\n",
      "7. Alex Loktev [6]\n",
      "\t* Use case: Sales and customer development\n",
      "\t* Sentiment: Positive\n",
      "\t* Competitors: None mentioned\n",
      "8. Ilya Dzhenksi [6][9][12]\n",
      "\t* Use case: Transcription and analysis of meetings\n",
      "\t* Sentiment: Neutral to slightly negative\n",
      "\t* Competitors: ChatGPT\n",
      "\n",
      "**Competitive Advantage for Vexa:**\n",
      "\n",
      "Based on the user reports, Vexa's competitive advantage lies in its ability to provide real-time transcription and analysis of meetings, as well as its user-friendly interface. Additionally, Vexa's ability to provide a summary of calls and allow users to ask follow-up questions is a unique feature that sets it apart from its competitors.\n",
      "\n",
      "**References:**\n",
      "\n",
      "[1] Meeting with Dmitriy Grankin on August 29, 2024\n",
      "[2] Meeting with Ahmed Abdelaziz on August 30, 2024\n",
      "[3] Meeting with Dmitriy Grankin on August 31, 2024\n",
      "[4] Meeting with Olga Nemirovskaya on August 30, 2024\n",
      "[5] Meeting with Dmitriy Grankin on September 2, 2024\n",
      "[6] Meeting with Oleg Maleev, Anastasiia GULIAEVA, Alex Loktev, and Ilya Dzhenksi on September 5, 2024\n",
      "[7] Meeting with Dmitriy Grankin on September 6, 2024\n",
      "[8] Meeting with Robert Hangu on September 9, 2024\n",
      "[9] Meeting with Ilya Dzhenksi on September 16, 2024\n",
      "[10] Meeting with Robert Hangu on September 16, 2024\n",
      "[11] Meeting with Ilia Semukhin on September 16, 2024\n",
      "[12] Meeting with Ilya Dzhenksi on September 18, 2024\n",
      "[13] Meeting with Umar Lateef on September 30, 2024\n"
     ]
    }
   ],
   "source": [
    "r = await chat.chat('provide comprehensive user report, list all the users, their usecases, sentiments, and competitors. Identify competative advantage for vexa',thread_id=r.thread_id,model=model)"
   ]
  },
  {
   "cell_type": "code",
   "execution_count": 18,
   "metadata": {},
   "outputs": [
    {
     "name": "stdout",
     "output_type": "stream",
     "text": [
      "[8]\n"
     ]
    }
   ],
   "source": [
    "import re\n",
    "\n",
    "def parse_refs(text):\n",
    "    pattern = r'\\[(\\d+)\\]'\n",
    "    numbers = re.findall(pattern, text)\n",
    "    return [int(num) for num in numbers]\n",
    "\n",
    "# Example usage\n",
    "\n",
    "result = parse_refs(r.output)\n",
    "print(result)"
   ]
  },
  {
   "cell_type": "code",
   "execution_count": 19,
   "metadata": {},
   "outputs": [],
   "source": [
    "def get_indexed_meetings(meeting_ids, indexes):\n",
    "    return {i: meeting_ids[i-1] for i in indexes if i}\n",
    "\n",
    "# Example usage\n",
    "result = parse_refs(r.output)\n",
    "indexed_meetings = get_indexed_meetings(r.meeting_ids, result)\n",
    "url_dict = {k: f'https://dashboard.vexa.ai/#{v}' for k,v in indexed_meetings.items()}\n",
    "def embed_links(text, url_dict):\n",
    "    def replace_link(match):\n",
    "        numbers = match.group(1).split('][')\n",
    "        linked_numbers = []\n",
    "        for number in numbers:\n",
    "            if int(number) in url_dict:\n",
    "                linked_numbers.append(f'[{number}]({url_dict[int(number)]})')\n",
    "            else:\n",
    "                linked_numbers.append(f'[{number}]')\n",
    "        return ' '.join(linked_numbers)\n",
    "    \n",
    "    pattern = r'\\[(\\d+(?:\\]\\[\\d+)*)\\]'\n",
    "    return re.sub(pattern, replace_link, text)"
   ]
  },
  {
   "cell_type": "code",
   "execution_count": 21,
   "metadata": {},
   "outputs": [
    {
     "data": {
      "text/markdown": [
       "Stephanus Gunawan is a participant in the AI Meeting Assistant Discussion held on September 16, 2024. In this meeting, he engaged in discussions regarding the features and privacy concerns of an AI meeting assistant for Google Meet, alongside Olga Nemirovskaya and Dmitriy Grankin[8](https://dashboard.vexa.ai/#46a1dd08-0198-4aaf-84d5-27b1b1b87a94). \n",
       "\n",
       "There are no additional details provided about his background or role in the context given."
      ],
      "text/plain": [
       "<IPython.core.display.Markdown object>"
      ]
     },
     "execution_count": 21,
     "metadata": {},
     "output_type": "execute_result"
    }
   ],
   "source": [
    "from IPython.display import Markdown\n",
    "Markdown(embed_links(r.output, url_dict))"
   ]
  },
  {
   "cell_type": "code",
   "execution_count": null,
   "metadata": {},
   "outputs": [],
   "source": []
  }
 ],
 "metadata": {
  "kernelspec": {
   "display_name": "langchain",
   "language": "python",
   "name": "langchain"
  },
  "language_info": {
   "codemirror_mode": {
    "name": "ipython",
    "version": 3
   },
   "file_extension": ".py",
   "mimetype": "text/x-python",
   "name": "python",
   "nbconvert_exporter": "python",
   "pygments_lexer": "ipython3",
   "version": "3.11.2"
  }
 },
 "nbformat": 4,
 "nbformat_minor": 2
}
