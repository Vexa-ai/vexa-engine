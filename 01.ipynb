{
 "cells": [
  {
   "cell_type": "code",
   "execution_count": 4,
   "metadata": {},
   "outputs": [],
   "source": [
    "%reload_ext autoreload\n",
    "%autoreload 2"
   ]
  },
  {
   "cell_type": "code",
   "execution_count": 5,
   "metadata": {},
   "outputs": [
    {
     "data": {
      "text/plain": [
       "<async_generator object SearchAssistant.chat at 0x7fcfd58d8040>"
      ]
     },
     "execution_count": 5,
     "metadata": {},
     "output_type": "execute_result"
    }
   ],
   "source": [
    "\n",
    "from search import SearchAssistant\n",
    "\n",
    "search = SearchAssistant()\n",
    "\n",
    "\n",
    "search.chat(user_id=\"1\", query=\"What is the weather in Tokyo?\")"
   ]
  },
  {
   "cell_type": "code",
   "execution_count": 1,
   "metadata": {},
   "outputs": [
    {
     "name": "stdout",
     "output_type": "stream",
     "text": [
      "User information retrieved successfully.\n"
     ]
    }
   ],
   "source": [
    "from vexa import VexaAPI\n",
    "vexa = VexaAPI()\n"
   ]
  },
  {
   "cell_type": "code",
   "execution_count": 2,
   "metadata": {},
   "outputs": [
    {
     "data": {
      "text/plain": [
       "'3ae04e20124d40babc5107e658c666b6'"
      ]
     },
     "execution_count": 2,
     "metadata": {},
     "output_type": "execute_result"
    }
   ],
   "source": [
    "vexa.token\n",
    "\n"
   ]
  },
  {
   "cell_type": "code",
   "execution_count": 6,
   "metadata": {},
   "outputs": [],
   "source": [
    "user_id = vexa.user_id\n",
    "user_name = vexa.user_name\n",
    "query = \"This is a test query\""
   ]
  },
  {
   "cell_type": "code",
   "execution_count": 7,
   "metadata": {},
   "outputs": [
    {
     "name": "stdout",
     "output_type": "stream",
     "text": [
      "Creating a new thread...\n",
      "Thread upserted with id 31c7c7b5-2277-47dd-ae80-03d311397ef0\n",
      "Thread created with ID: 31c7c7b5-2277-47dd-ae80-03d311397ef0\n",
      "Thread retrieved successfully\n",
      "Deleting the thread...\n",
      "Thread deleted with id 31c7c7b5-2277-47dd-ae80-03d311397ef0\n",
      "Thread deleted successfully\n",
      "Thread confirmed deleted (unable to retrieve)\n"
     ]
    }
   ],
   "source": [
    "import asyncio\n",
    "from search import SearchAssistant\n",
    "from core import user_msg\n",
    "\n",
    "\n",
    "# Initialize SearchAssistant\n",
    "search_assistant = SearchAssistant()\n",
    "\n",
    "\n",
    "# Create a new thread\n",
    "print(\"Creating a new thread...\")\n",
    "async for chunk in search_assistant.chat(user_id, query, user_name):\n",
    "    if isinstance(chunk, dict) and 'thread_id' in chunk:\n",
    "        thread_id = chunk['thread_id']\n",
    "        break\n",
    "\n",
    "print(f\"Thread created with ID: {thread_id}\")\n",
    "\n",
    "# Retrieve the thread to confirm it exists\n",
    "thread = search_assistant.get_thread(thread_id)\n",
    "if thread:\n",
    "    print(\"Thread retrieved successfully\")\n",
    "else:\n",
    "    print(\"Failed to retrieve thread\")\n",
    "    pass\n",
    "\n",
    "# Delete the thread\n",
    "print(\"Deleting the thread...\")\n",
    "success = search_assistant.delete_thread(thread_id)\n",
    "if success:\n",
    "    print(\"Thread deleted successfully\")\n",
    "else:\n",
    "    print(\"Failed to delete thread\")\n",
    "\n",
    "# Try to retrieve the deleted thread\n",
    "deleted_thread = search_assistant.get_thread(thread_id)\n",
    "if deleted_thread is None:\n",
    "    print(\"Thread confirmed deleted (unable to retrieve)\")\n",
    "else:\n",
    "    print(\"Error: Thread still exists after deletion\")\n"
   ]
  },
  {
   "cell_type": "code",
   "execution_count": null,
   "metadata": {},
   "outputs": [],
   "source": []
  }
 ],
 "metadata": {
  "kernelspec": {
   "display_name": "langchain",
   "language": "python",
   "name": "langchain"
  },
  "language_info": {
   "codemirror_mode": {
    "name": "ipython",
    "version": 3
   },
   "file_extension": ".py",
   "mimetype": "text/x-python",
   "name": "python",
   "nbconvert_exporter": "python",
   "pygments_lexer": "ipython3",
   "version": "3.11.2"
  }
 },
 "nbformat": 4,
 "nbformat_minor": 2
}
