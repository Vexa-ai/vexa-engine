{
 "cells": [
  {
   "cell_type": "code",
   "execution_count": 1,
   "metadata": {},
   "outputs": [],
   "source": [
    "%load_ext autoreload\n",
    "%autoreload 2\n"
   ]
  },
  {
   "cell_type": "code",
   "execution_count": 2,
   "metadata": {},
   "outputs": [],
   "source": [
    "import sys\n",
    "sys.path.append('/app')"
   ]
  },
  {
   "cell_type": "code",
   "execution_count": 3,
   "metadata": {},
   "outputs": [],
   "source": [
    "from psql_helpers import read_table_async"
   ]
  },
  {
   "cell_type": "code",
   "execution_count": 4,
   "metadata": {},
   "outputs": [],
   "source": [
    "from psql_models import Meeting"
   ]
  },
  {
   "cell_type": "code",
   "execution_count": 9,
   "metadata": {},
   "outputs": [],
   "source": [
    "from sqlalchemy import select,func\n"
   ]
  },
  {
   "cell_type": "code",
   "execution_count": null,
   "metadata": {},
   "outputs": [],
   "source": [
    "func"
   ]
  },
  {
   "cell_type": "code",
   "execution_count": 11,
   "metadata": {},
   "outputs": [
    {
     "data": {
      "text/html": [
       "<div>\n",
       "<style scoped>\n",
       "    .dataframe tbody tr th:only-of-type {\n",
       "        vertical-align: middle;\n",
       "    }\n",
       "\n",
       "    .dataframe tbody tr th {\n",
       "        vertical-align: top;\n",
       "    }\n",
       "\n",
       "    .dataframe thead th {\n",
       "        text-align: right;\n",
       "    }\n",
       "</style>\n",
       "<table border=\"1\" class=\"dataframe\">\n",
       "  <thead>\n",
       "    <tr style=\"text-align: right;\">\n",
       "      <th></th>\n",
       "      <th>meetings_id</th>\n",
       "      <th>meetings_meeting_id</th>\n",
       "      <th>meetings_transcript</th>\n",
       "      <th>meetings_timestamp</th>\n",
       "      <th>meetings_meeting_name</th>\n",
       "      <th>meetings_meeting_summary</th>\n",
       "      <th>meetings_is_indexed</th>\n",
       "      <th>meetings_last_update</th>\n",
       "    </tr>\n",
       "  </thead>\n",
       "  <tbody>\n",
       "    <tr>\n",
       "      <th>0</th>\n",
       "      <td>834</td>\n",
       "      <td>0f53eaff-3c0e-4733-a88c-3d85680d2bc3</td>\n",
       "      <td>[{'speaker': 'Olga Nemirovskaya', 'speaker_id'...</td>\n",
       "      <td>2024-09-24 16:22:56.000000</td>\n",
       "      <td>Этапы развития бизнеса и роль фаундеров</td>\n",
       "      <td>**Этапы развития бизнеса**: 1. **Стартап**: фа...</td>\n",
       "      <td>True</td>\n",
       "      <td>None</td>\n",
       "    </tr>\n",
       "    <tr>\n",
       "      <th>1</th>\n",
       "      <td>71</td>\n",
       "      <td>582f4e41-572c-47e9-8feb-0f485f31728b</td>\n",
       "      <td>[{'speaker': 'Dmitriy Grankin', 'speaker_id': ...</td>\n",
       "      <td>2024-11-18 12:17:12.000000</td>\n",
       "      <td>VEX.AI Development and Investor Strategy</td>\n",
       "      <td>**VEXA AI** is a **real-time Google Meet assis...</td>\n",
       "      <td>True</td>\n",
       "      <td>None</td>\n",
       "    </tr>\n",
       "    <tr>\n",
       "      <th>2</th>\n",
       "      <td>58</td>\n",
       "      <td>522f2887-19e2-4b20-90c9-05948197d51b</td>\n",
       "      <td>[{'speaker': 'Douglas Purmocena', 'speaker_id'...</td>\n",
       "      <td>2024-11-18 13:01:25.000000</td>\n",
       "      <td>Cronograma de compras e feedback entre Tainá e...</td>\n",
       "      <td>Reunião excepcional para discutir o **cronogra...</td>\n",
       "      <td>True</td>\n",
       "      <td>None</td>\n",
       "    </tr>\n",
       "    <tr>\n",
       "      <th>3</th>\n",
       "      <td>96</td>\n",
       "      <td>e61c7417-99e8-4497-9646-0a730b0075de</td>\n",
       "      <td>[{'speaker': 'Michael Santos Duarte', 'speaker...</td>\n",
       "      <td>2024-11-15 13:29:21.000000</td>\n",
       "      <td>Teste de funcionamento da plataforma e criação...</td>\n",
       "      <td>**Teste de funcionamento da plataforma**: Mich...</td>\n",
       "      <td>True</td>\n",
       "      <td>None</td>\n",
       "    </tr>\n",
       "    <tr>\n",
       "      <th>4</th>\n",
       "      <td>110</td>\n",
       "      <td>db670dd7-7575-4334-abd7-f2f6685068e4</td>\n",
       "      <td>None</td>\n",
       "      <td>2024-07-05 08:16:04.074990</td>\n",
       "      <td>08:16</td>\n",
       "      <td>None</td>\n",
       "      <td>False</td>\n",
       "      <td>None</td>\n",
       "    </tr>\n",
       "    <tr>\n",
       "      <th>5</th>\n",
       "      <td>43</td>\n",
       "      <td>fbd87964-4849-46b4-9c00-6118ae848135</td>\n",
       "      <td>[{'speaker': 'Andrew Craig', 'speaker_id': 'TB...</td>\n",
       "      <td>2024-11-18 17:39:19.000000</td>\n",
       "      <td>User Login and Subscription Flow Improvements</td>\n",
       "      <td>**Redirect logic** for users not logged in to ...</td>\n",
       "      <td>True</td>\n",
       "      <td>None</td>\n",
       "    </tr>\n",
       "    <tr>\n",
       "      <th>6</th>\n",
       "      <td>600</td>\n",
       "      <td>36517cb7-2129-4b44-995a-256b92394eca</td>\n",
       "      <td>[{'speaker': 'Carina Lima', 'speaker_id': 'TBD...</td>\n",
       "      <td>2024-10-11 18:04:39.000000</td>\n",
       "      <td>Carina Lima e Patricia Piagentini: Experiência...</td>\n",
       "      <td>**Carina Lima** destacou seu papel como **Head...</td>\n",
       "      <td>True</td>\n",
       "      <td>None</td>\n",
       "    </tr>\n",
       "    <tr>\n",
       "      <th>7</th>\n",
       "      <td>27</td>\n",
       "      <td>25b5fdaf-354e-40bb-b13d-0de557ad0bd2</td>\n",
       "      <td>[{'speaker': '', 'speaker_id': 'TBD', 'content...</td>\n",
       "      <td>2024-11-19 11:00:29.000000</td>\n",
       "      <td>Обсуждение алгоритма мойки и ожидание участников</td>\n",
       "      <td>Геннадий Башмаков интересовался **процессом ра...</td>\n",
       "      <td>True</td>\n",
       "      <td>None</td>\n",
       "    </tr>\n",
       "    <tr>\n",
       "      <th>8</th>\n",
       "      <td>79</td>\n",
       "      <td>fc7a2f9d-6d5e-4b0c-a891-46baf80b0575</td>\n",
       "      <td>[{'speaker': 'Ewan Simpson', 'speaker_id': 'TB...</td>\n",
       "      <td>2024-11-18 03:58:34.000000</td>\n",
       "      <td>Kazakhstan Work Schedule, Politics, and Invest...</td>\n",
       "      <td>Ewan Simpson criticized the **chaotic work sch...</td>\n",
       "      <td>True</td>\n",
       "      <td>None</td>\n",
       "    </tr>\n",
       "    <tr>\n",
       "      <th>9</th>\n",
       "      <td>4057</td>\n",
       "      <td>a5fe10ae-2525-44a5-8931-7033c353973c</td>\n",
       "      <td>[{'speaker': 'Dmitriy Grankin', 'speaker_id': ...</td>\n",
       "      <td>2024-11-25 21:22:34.453999</td>\n",
       "      <td>Тестирование и проблемы тестович</td>\n",
       "      <td>**Тестирование** проводится с целью **выявлени...</td>\n",
       "      <td>True</td>\n",
       "      <td>None</td>\n",
       "    </tr>\n",
       "  </tbody>\n",
       "</table>\n",
       "</div>"
      ],
      "text/plain": [
       "   meetings_id  ... meetings_last_update\n",
       "0          834  ...                 None\n",
       "1           71  ...                 None\n",
       "2           58  ...                 None\n",
       "3           96  ...                 None\n",
       "4          110  ...                 None\n",
       "5           43  ...                 None\n",
       "6          600  ...                 None\n",
       "7           27  ...                 None\n",
       "8           79  ...                 None\n",
       "9         4057  ...                 None\n",
       "\n",
       "[10 rows x 8 columns]"
      ]
     },
     "execution_count": 11,
     "metadata": {},
     "output_type": "execute_result"
    }
   ],
   "source": [
    "last_meets = await read_table_async(select(Meeting).order_by(Meeting.last_update.desc()).limit(10))\n",
    "last_meets\n"
   ]
  },
  {
   "cell_type": "code",
   "execution_count": null,
   "metadata": {},
   "outputs": [],
   "source": []
  },
  {
   "cell_type": "code",
   "execution_count": null,
   "metadata": {},
   "outputs": [],
   "source": []
  },
  {
   "cell_type": "code",
   "execution_count": 3,
   "metadata": {},
   "outputs": [
    {
     "name": "stdout",
     "output_type": "stream",
     "text": [
      "Vexa token: 3ae04e20124d40babc5107e658c666b6\n",
      "User information retrieved successfully.\n"
     ]
    },
    {
     "data": {
      "text/plain": [
       "{'id': 'ef7c085b-fdb5-4c94-b7b6-a61a3d04c210',\n",
       " 'email': '2280905@gmail.com',\n",
       " 'is_allowed_send_init_message': True,\n",
       " 'username': 'Dmitriy Grankin',\n",
       " 'first_name': 'Dmitriy',\n",
       " 'last_name': 'Grankin',\n",
       " 'image': None,\n",
       " 'created_timestamp': '2024-05-28T11:16:50.894711Z',\n",
       " 'updated_timestamp': '2024-11-24T20:25:31.568023Z'}"
      ]
     },
     "execution_count": 3,
     "metadata": {},
     "output_type": "execute_result"
    }
   ],
   "source": [
    "from vexa import VexaAPI\n",
    "vexa = VexaAPI()\n",
    "await vexa.get_user_info()"
   ]
  },
  {
   "cell_type": "code",
   "execution_count": 4,
   "metadata": {},
   "outputs": [],
   "source": [
    "from vexa import VexaAuth\n",
    "vexaauth = VexaAuth()"
   ]
  },
  {
   "cell_type": "code",
   "execution_count": 5,
   "metadata": {},
   "outputs": [],
   "source": [
    "from datetime import datetime, timedelta"
   ]
  },
  {
   "cell_type": "code",
   "execution_count": 6,
   "metadata": {},
   "outputs": [
    {
     "name": "stdout",
     "output_type": "stream",
     "text": [
      "[{'meeting_session_id': 'f23e86de-1731-4a4c-a83d-f0efff059351', 'start_timestamp': '2024-10-07T15:01:30Z', 'user_id': 'f4bec0f6-e1de-47cd-b76f-d6baef4451fe', 'last_finish': '2024-11-25T14:27:26Z', 'speakers': ['Artur Hearhizau', 'Igor Bessonov', 'Oleg Yafimov', 'TBD']}, {'meeting_session_id': 'a4ed2674-b383-4d2d-992c-d85ade04d21a', 'start_timestamp': '2024-11-24T20:24:25Z', 'user_id': 'ef7c085b-fdb5-4c94-b7b6-a61a3d04c210', 'last_finish': '2024-11-24T20:25:54Z', 'speakers': ['TBD']}, {'meeting_session_id': 'f22e2fd3-8e15-4b7e-8d14-076b3bbb50af', 'start_timestamp': '2024-11-24T20:49:40Z', 'user_id': 'ef7c085b-fdb5-4c94-b7b6-a61a3d04c210', 'last_finish': '2024-11-24T20:55:10Z', 'speakers': ['TBD']}, {'meeting_session_id': 'cc46bac8-a4f1-404d-b07d-d2e2231d15d8', 'start_timestamp': '2024-11-24T21:44:17Z', 'user_id': 'ef7c085b-fdb5-4c94-b7b6-a61a3d04c210', 'last_finish': '2024-11-24T22:08:49Z', 'speakers': ['TBD']}, {'meeting_session_id': '361335a4-f97f-44b6-a0ba-aa2e81d74f88', 'start_timestamp': '2024-11-24T22:09:02Z', 'user_id': 'ef7c085b-fdb5-4c94-b7b6-a61a3d04c210', 'last_finish': '2024-11-24T22:21:12Z', 'speakers': ['Dmitriy Grankin', 'TBD']}, {'meeting_session_id': 'bb03116a-9a62-4196-8bad-c4322095a8a3', 'start_timestamp': '2024-11-24T22:42:09Z', 'user_id': 'ef7c085b-fdb5-4c94-b7b6-a61a3d04c210', 'last_finish': '2024-11-24T22:59:35Z', 'speakers': ['Dmitriy Grankin', 'TBD']}, {'meeting_session_id': '4a8dec2d-1e1e-4632-9b0d-75b3619f533a', 'start_timestamp': '2024-11-25T10:08:16Z', 'user_id': 'c4bbd6e6-3275-4ce1-8fb6-7ed66fe16db6', 'last_finish': '2024-11-25T10:54:16Z', 'speakers': ['TBD']}, {'meeting_session_id': '257b078d-2ae6-4cfe-8456-b95f7cc8bec1', 'start_timestamp': '2024-11-25T10:13:50Z', 'user_id': 'ef7c085b-fdb5-4c94-b7b6-a61a3d04c210', 'last_finish': '2024-11-25T10:14:09Z', 'speakers': ['TBD']}, {'meeting_session_id': '2ae23adb-9257-42df-941b-0726f66f1d25', 'start_timestamp': '2024-11-25T11:02:30Z', 'user_id': 'fd57278e-1cdc-4ad9-b12e-837ac39e9a55', 'last_finish': '2024-11-25T11:12:04Z', 'speakers': ['TBD']}, {'meeting_session_id': '1fdc99e0-77e9-4014-8cf3-192833de673c', 'start_timestamp': '2024-11-25T11:02:38Z', 'user_id': '2f4ab929-6aa2-4125-abf9-f9a917bde150', 'last_finish': '2024-11-25T11:36:30Z', 'speakers': ['TBD']}, {'meeting_session_id': '98c0cef5-71aa-4067-ab63-0b05bb5f8c6a', 'start_timestamp': '2024-11-25T11:19:20Z', 'user_id': 'a9fad6fe-4a10-4b5d-ad4a-e23aaf53fe9d', 'last_finish': '2024-11-25T11:53:37Z', 'speakers': ['TBD']}, {'meeting_session_id': 'c0b22605-f51f-4307-bbbc-d873fe21f4e8', 'start_timestamp': '2024-11-25T11:47:50Z', 'user_id': 'ef7c085b-fdb5-4c94-b7b6-a61a3d04c210', 'last_finish': '2024-11-25T12:42:22Z', 'speakers': ['Dmitriy Grankin', 'TBD']}, {'meeting_session_id': '8cd4e5dc-0375-4cf6-9923-13801b185d83', 'start_timestamp': '2024-11-25T12:52:05Z', 'user_id': 'ef5ae9ba-46ff-416e-bd3d-68f61c67eb3f', 'last_finish': '2024-11-25T12:53:47Z', 'speakers': ['Anton Melnikov', 'TBD']}, {'meeting_session_id': '8056a2ad-0c94-4654-b888-321c68e6174c', 'start_timestamp': '2024-11-25T12:53:50Z', 'user_id': 'ef7c085b-fdb5-4c94-b7b6-a61a3d04c210', 'last_finish': '2024-11-25T13:11:21Z', 'speakers': ['Dmitriy Grankin', 'TBD']}, {'meeting_session_id': 'ea992fae-e603-40de-b2ee-245f7d65e7bb', 'start_timestamp': '2024-11-25T12:59:33Z', 'user_id': '8b767b85-44fb-4c20-97df-7aa172242273', 'last_finish': '2024-11-25T13:14:04Z', 'speakers': ['Olia Nemirovski', 'Raushan Irgaliyeva', 'TBD']}, {'meeting_session_id': 'a0bc2aaa-ddf4-4322-b079-3d3305b43505', 'start_timestamp': '2024-11-25T13:04:26Z', 'user_id': '638129fd-9722-4430-bd1d-cd3f9a0c3dd6', 'last_finish': '2024-11-25T13:36:00Z', 'speakers': ['Green Thinking Project Educação Ambiental', 'Luiza Duarte', 'TBD']}, {'meeting_session_id': 'e9e2657a-5d35-47f7-a041-a1f0b73745cd', 'start_timestamp': '2024-11-25T13:06:49Z', 'user_id': '55ebc8d4-003d-4117-a407-8019a58c1cd2', 'last_finish': '2024-11-25T13:55:43Z', 'speakers': ['Maiara Pinheiro', 'TBD']}, {'meeting_session_id': '13c8cb72-9421-4181-a782-db4d66f12481', 'start_timestamp': '2024-11-25T13:11:33Z', 'user_id': 'ef7c085b-fdb5-4c94-b7b6-a61a3d04c210', 'last_finish': '2024-11-25T13:26:34Z', 'speakers': ['Dmitriy Grankin', 'TBD']}, {'meeting_session_id': '3f6ac1da-0bd8-4681-825a-4b29c68a61f6', 'start_timestamp': '2024-11-25T13:30:49Z', 'user_id': 'ef7c085b-fdb5-4c94-b7b6-a61a3d04c210', 'last_finish': '2024-11-25T13:38:14Z', 'speakers': ['TBD']}, {'meeting_session_id': '21a176db-7ff4-4c3c-a806-d6437a635388', 'start_timestamp': '2024-11-25T13:38:29Z', 'user_id': 'ef7c085b-fdb5-4c94-b7b6-a61a3d04c210', 'last_finish': '2024-11-25T13:52:49Z', 'speakers': ['TBD']}, {'meeting_session_id': '0fb14030-0229-45f3-b824-0c896ff4a1f7', 'start_timestamp': '2024-11-25T13:50:50Z', 'user_id': '68967f86-a9df-4741-b982-c5738d082ceb', 'last_finish': '2024-11-25T14:52:53Z', 'speakers': ['TBD']}, {'meeting_session_id': '0220af3b-b112-47c5-b65f-6e75778c0842', 'start_timestamp': '2024-11-25T13:53:17Z', 'user_id': 'ef7c085b-fdb5-4c94-b7b6-a61a3d04c210', 'last_finish': '2024-11-25T14:19:09Z', 'speakers': ['TBD']}, {'meeting_session_id': '9e3d6d9c-1d49-46d9-a4ea-d5272c525250', 'start_timestamp': '2024-11-25T13:59:38Z', 'user_id': '8b767b85-44fb-4c20-97df-7aa172242273', 'last_finish': '2024-11-25T14:16:30Z', 'speakers': ['TBD']}, {'meeting_session_id': '4dd3215a-1145-4dcb-9834-a757f5763c34', 'start_timestamp': '2024-11-25T14:00:28Z', 'user_id': '058980af-dfa0-4dc1-b9c0-adf6c24e4994', 'last_finish': '2024-11-25T14:24:33Z', 'speakers': ['TBD']}, {'meeting_session_id': '0c24c6b0-023d-4cfe-ae2c-13b2d7b1745f', 'start_timestamp': '2024-11-25T14:04:07Z', 'user_id': 'f4bec0f6-e1de-47cd-b76f-d6baef4451fe', 'last_finish': '2024-11-25T14:27:26Z', 'speakers': ['Igor Bessonov', 'Oleg Yafimov', 'Stanislav Narkevich', 'TBD', 'Valeriya Slepianok', 'Екатерина']}, {'meeting_session_id': '7781e37d-f733-4bfc-ad18-041e8ba20231', 'start_timestamp': '2024-11-25T14:56:51Z', 'user_id': 'ef7c085b-fdb5-4c94-b7b6-a61a3d04c210', 'last_finish': '2024-11-25T15:00:05Z', 'speakers': ['TBD']}, {'meeting_session_id': '2a88ed2e-8a4a-42b7-86dd-9635e0fc3266', 'start_timestamp': '2024-11-25T15:00:40Z', 'user_id': 'e77e9304-9adb-4654-9a9e-3d66fad3f3ac', 'last_finish': '2024-11-25T15:33:43Z', 'speakers': ['David Lahoz Martín', 'Robert Hangu', 'TBD']}, {'meeting_session_id': '1e98ec1a-891f-4e89-bca5-9be39c8a4856', 'start_timestamp': '2024-11-25T15:20:48Z', 'user_id': 'ef7c085b-fdb5-4c94-b7b6-a61a3d04c210', 'last_finish': '2024-11-25T15:36:23Z', 'speakers': ['Dmitriy Grankin', 'TBD']}, {'meeting_session_id': '4fa426e1-295d-4e02-9b12-92682759f5c9', 'start_timestamp': '2024-11-25T16:01:44Z', 'user_id': '8b767b85-44fb-4c20-97df-7aa172242273', 'last_finish': '2024-11-25T16:03:31Z', 'speakers': ['TBD']}, {'meeting_session_id': 'b843337c-0108-426c-9486-9339fd926d8b', 'start_timestamp': '2024-11-25T16:08:28Z', 'user_id': '09e04994-0223-47fa-918b-2037aab7980a', 'last_finish': '2024-11-25T17:01:10Z', 'speakers': ['Klinger Taveira de Brito', 'Sergio Luis', 'TBD']}, {'meeting_session_id': 'c459ce96-8acc-47a5-9123-6b7349d55865', 'start_timestamp': '2024-11-25T16:16:03Z', 'user_id': '447f8b00-db04-4e95-811c-e659369752e8', 'last_finish': '2024-11-25T16:19:47Z', 'speakers': ['Eric Kenney', 'Tatiana Sukhova', 'TBD']}, {'meeting_session_id': 'ff63ba3d-ceb0-4fe9-bc08-2e9cb7477cd8', 'start_timestamp': '2024-11-25T17:02:38Z', 'user_id': 'dc33070b-7138-4da1-97c4-a9bd6cb8d71a', 'last_finish': '2024-11-25T17:16:16Z', 'speakers': ['Alice Santos', 'ARGUILIS ANDRE ALVARENGA SOUSA', 'ELAINE VASCONCELOS FERREIRA', 'Fábio Teixeira', 'Janaina Sousa', 'Joao Paulo Lucena Lopes', 'John Lennon Ribeiro de Sousa', 'kassia santos', 'stepheson honorato', 'TBD']}, {'meeting_session_id': '88386976-3790-4d9e-bb6d-315f1a4cef97', 'start_timestamp': '2024-11-25T17:03:41Z', 'user_id': '1b2e43cb-be19-4390-aed2-a756558b4953', 'last_finish': '2024-11-25T17:25:50Z', 'speakers': ['Michael Santos Duarte', 'TBD', 'Tiago Façanha']}, {'meeting_session_id': '4a76027b-67fc-44c7-a727-7f54303c6cad', 'start_timestamp': '2024-11-25T17:35:28Z', 'user_id': '6e753d17-3f29-4cf1-b5c0-691fc94e3771', 'last_finish': '2024-11-25T18:01:15Z', 'speakers': ['Arthur Geraldo', 'Rafael Saint Yves', 'TBD', 'Vinicius Reis']}, {'meeting_session_id': '0a7e1fe0-b5cf-4201-af60-6b2c9cd24b39', 'start_timestamp': '2024-11-25T18:15:40Z', 'user_id': '7313e166-f67f-4c73-9400-615769587817', 'last_finish': '2024-11-25T19:13:59Z', 'speakers': ['Cristina Senador (ela / dela)', 'Flávia Elias', 'TBD']}, {'meeting_session_id': '300befca-54f7-4893-9730-68a25debb276', 'start_timestamp': '2024-11-25T18:30:17Z', 'user_id': '2f4ab929-6aa2-4125-abf9-f9a917bde150', 'last_finish': '2024-11-25T19:01:45Z', 'speakers': ['Amelia Walkley', 'Tatiana Sukhova', 'TBD']}, {'meeting_session_id': 'f7c49a3f-2e2d-479d-8ae7-0181629fe80e', 'start_timestamp': '2024-11-25T19:01:52Z', 'user_id': '2f4ab929-6aa2-4125-abf9-f9a917bde150', 'last_finish': '2024-11-25T19:33:48Z', 'speakers': ['Jimmy Chen', 'Khoa Tran', 'Tatiana Sukhova', 'TBD']}, {'meeting_session_id': 'd44d0430-2754-428b-b934-9264c255578c', 'start_timestamp': '2024-11-25T19:45:30Z', 'user_id': 'ef7c085b-fdb5-4c94-b7b6-a61a3d04c210', 'last_finish': '2024-11-25T19:52:08Z', 'speakers': ['Dmitriy Grankin']}]\n"
     ]
    }
   ],
   "source": [
    "meetings = await vexaauth.get_speech_stats(after_time=datetime.now() - timedelta(days=1))\n",
    "print(meetings)"
   ]
  },
  {
   "cell_type": "code",
   "execution_count": 13,
   "metadata": {},
   "outputs": [],
   "source": [
    "meetings_data = meetings['items']"
   ]
  },
  {
   "cell_type": "code",
   "execution_count": 14,
   "metadata": {},
   "outputs": [],
   "source": [
    "meeting_id, start_timestamp, user_id, timestamp, speakers = meetings_data[0]\n"
   ]
  },
  {
   "cell_type": "code",
   "execution_count": 19,
   "metadata": {},
   "outputs": [
    {
     "data": {
      "text/plain": [
       "{'meeting_session_id': '84cfdb34-1f67-4025-a13b-ddb67fe0a4d7',\n",
       " 'start_timestamp': '2024-11-24T16:45:17Z',\n",
       " 'user_id': 'b21c798b-b6b5-4a93-99a5-d407157e71c6',\n",
       " 'last_finish': '2024-11-24T19:13:49Z',\n",
       " 'speakers': ['TBD']}"
      ]
     },
     "execution_count": 19,
     "metadata": {},
     "output_type": "execute_result"
    }
   ],
   "source": [
    "meetings_data[0]"
   ]
  },
  {
   "cell_type": "code",
   "execution_count": 15,
   "metadata": {},
   "outputs": [],
   "source": [
    "from uuid import UUID"
   ]
  },
  {
   "cell_type": "code",
   "execution_count": 18,
   "metadata": {},
   "outputs": [
    {
     "data": {
      "text/plain": [
       "'meeting_session_id'"
      ]
     },
     "execution_count": 18,
     "metadata": {},
     "output_type": "execute_result"
    }
   ],
   "source": [
    "meeting_id"
   ]
  },
  {
   "cell_type": "code",
   "execution_count": 16,
   "metadata": {},
   "outputs": [
    {
     "ename": "ValueError",
     "evalue": "badly formed hexadecimal UUID string",
     "output_type": "error",
     "traceback": [
      "\u001b[0;31m---------------------------------------------------------------------------\u001b[0m",
      "\u001b[0;31mValueError\u001b[0m                                Traceback (most recent call last)",
      "Cell \u001b[0;32mIn[16], line 1\u001b[0m\n\u001b[0;32m----> 1\u001b[0m meeting_id \u001b[38;5;241m=\u001b[39m \u001b[43mUUID\u001b[49m\u001b[43m(\u001b[49m\u001b[43mmeeting_id\u001b[49m\u001b[43m)\u001b[49m\n\u001b[1;32m      2\u001b[0m user_id \u001b[38;5;241m=\u001b[39m UUID(user_id)\n",
      "File \u001b[0;32m/usr/local/lib/python3.11/uuid.py:178\u001b[0m, in \u001b[0;36mUUID.__init__\u001b[0;34m(self, hex, bytes, bytes_le, fields, int, version, is_safe)\u001b[0m\n\u001b[1;32m    176\u001b[0m     \u001b[38;5;28mhex\u001b[39m \u001b[38;5;241m=\u001b[39m \u001b[38;5;28mhex\u001b[39m\u001b[38;5;241m.\u001b[39mstrip(\u001b[38;5;124m'\u001b[39m\u001b[38;5;132;01m{}\u001b[39;00m\u001b[38;5;124m'\u001b[39m)\u001b[38;5;241m.\u001b[39mreplace(\u001b[38;5;124m'\u001b[39m\u001b[38;5;124m-\u001b[39m\u001b[38;5;124m'\u001b[39m, \u001b[38;5;124m'\u001b[39m\u001b[38;5;124m'\u001b[39m)\n\u001b[1;32m    177\u001b[0m     \u001b[38;5;28;01mif\u001b[39;00m \u001b[38;5;28mlen\u001b[39m(\u001b[38;5;28mhex\u001b[39m) \u001b[38;5;241m!=\u001b[39m \u001b[38;5;241m32\u001b[39m:\n\u001b[0;32m--> 178\u001b[0m         \u001b[38;5;28;01mraise\u001b[39;00m \u001b[38;5;167;01mValueError\u001b[39;00m(\u001b[38;5;124m'\u001b[39m\u001b[38;5;124mbadly formed hexadecimal UUID string\u001b[39m\u001b[38;5;124m'\u001b[39m)\n\u001b[1;32m    179\u001b[0m     \u001b[38;5;28mint\u001b[39m \u001b[38;5;241m=\u001b[39m int_(\u001b[38;5;28mhex\u001b[39m, \u001b[38;5;241m16\u001b[39m)\n\u001b[1;32m    180\u001b[0m \u001b[38;5;28;01mif\u001b[39;00m bytes_le \u001b[38;5;129;01mis\u001b[39;00m \u001b[38;5;129;01mnot\u001b[39;00m \u001b[38;5;28;01mNone\u001b[39;00m:\n",
      "\u001b[0;31mValueError\u001b[0m: badly formed hexadecimal UUID string"
     ]
    }
   ],
   "source": [
    "meeting_id = UUID(meeting_id)\n",
    "user_id = UUID(user_id)"
   ]
  },
  {
   "cell_type": "code",
   "execution_count": 17,
   "metadata": {},
   "outputs": [
    {
     "data": {
      "text/plain": [
       "'meeting_session_id'"
      ]
     },
     "execution_count": 17,
     "metadata": {},
     "output_type": "execute_result"
    }
   ],
   "source": [
    "meeting_id"
   ]
  },
  {
   "cell_type": "code",
   "execution_count": null,
   "metadata": {},
   "outputs": [],
   "source": []
  }
 ],
 "metadata": {
  "kernelspec": {
   "display_name": "langchain",
   "language": "python",
   "name": "python3"
  },
  "language_info": {
   "codemirror_mode": {
    "name": "ipython",
    "version": 3
   },
   "file_extension": ".py",
   "mimetype": "text/x-python",
   "name": "python",
   "nbconvert_exporter": "python",
   "pygments_lexer": "ipython3",
   "version": "3.11.10"
  }
 },
 "nbformat": 4,
 "nbformat_minor": 2
}
