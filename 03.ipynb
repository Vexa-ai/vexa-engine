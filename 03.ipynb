{
 "cells": [
  {
   "cell_type": "code",
   "execution_count": 1,
   "metadata": {},
   "outputs": [],
   "source": [
    "import requests\n",
    "from sseclient import SSEClient\n",
    "from pprint import pprint\n",
    "\n",
    "# Base URL of your FastAPI server\n",
    "BASE_URL = \"http://127.0.0.1:8765\"\n",
    "\n",
    "#BASE_URL = \"https://chat.dev.vexa.ai\"\n",
    "\n",
    "# Function to get all threads\n",
    "def get_threads():\n",
    "    response = requests.get(f\"{BASE_URL}/threads\")\n",
    "    if response.status_code == 200:\n",
    "        return response.json()\n",
    "    else:\n",
    "        print(f\"Error: {response.status_code}\")\n",
    "        return None\n",
    "\n",
    "# Function to get a specific thread\n",
    "def get_thread(thread_id):\n",
    "    response = requests.get(f\"{BASE_URL}/thread/{thread_id}\")\n",
    "    if response.status_code == 200:\n",
    "        return response.json()\n",
    "    else:\n",
    "        print(f\"Error: {response.status_code}\")\n",
    "        return None\n",
    "\n",
    "def chat(query, thread_id=None, model=None, temperature=None):\n",
    "    data = {\n",
    "        \"query\": query,\n",
    "        \"thread_id\": thread_id,\n",
    "        \"model\": model,\n",
    "        \"temperature\": temperature\n",
    "    }\n",
    "    response = requests.post(f\"{BASE_URL}/chat\", json=data, stream=True)\n",
    "    \n",
    "    if response.status_code == 200:\n",
    "        final_output = \"\"\n",
    "        for line in response.iter_lines():\n",
    "            if line:\n",
    "                decoded_line = line.decode('utf-8')\n",
    "                if decoded_line.startswith('data: '):\n",
    "                    event_data = decoded_line[6:]\n",
    "                    if event_data == '[DONE]':\n",
    "                        break\n",
    "                    print(event_data, end='', flush=True)\n",
    "                    final_output += event_data\n",
    "        print()  # Add a newline at the end of the response\n",
    "        return final_output\n",
    "    else:\n",
    "        print(f\"Error: {response.status_code}\")\n",
    "        return None"
   ]
  },
  {
   "cell_type": "code",
   "execution_count": 2,
   "metadata": {},
   "outputs": [
    {
     "name": "stdout",
     "output_type": "stream",
     "text": [
      "Getting all threads:\n",
      "[{'thread_id': '001735e2-9977-4bd0-af37-d3250e511db1',\n",
      "  'thread_name': 'test',\n",
      "  'timestamp': '2024-10-18T21:21:01.196244'},\n",
      " {'thread_id': '038bdbe8-83d6-4b8e-8aba-9cf11de511dd',\n",
      "  'thread_name': 'Client Meeting with User Feedback and Discussion',\n",
      "  'timestamp': '2024-10-17T18:40:30.160965'},\n",
      " {'thread_id': '041c54e1-54da-4ee3-8d91-4509156d01e2',\n",
      "  'thread_name': 'Assessing Potential Vexa Customers Among Speakers',\n",
      "  'timestamp': '2024-10-18T12:52:44.042996'},\n",
      " {'thread_id': '083f9925-9c74-4ef1-929a-f5e81b73f92c',\n",
      "  'thread_name': 'Identifying Vexa Customers Among Speakers',\n",
      "  'timestamp': '2024-10-18T13:56:48.396266'},\n",
      " {'thread_id': '09d93006-108a-4f0a-988d-708661f87026',\n",
      "  'thread_name': 'Communications with Matt Lewis',\n",
      "  'timestamp': '2024-10-17T18:00:57.482037'},\n",
      " {'thread_id': '0dff7138-83eb-433b-b546-2d4a3a999702',\n",
      "  'thread_name': 'Identifying Vexa Customers Among Speakers',\n",
      "  'timestamp': '2024-10-18T14:07:13.837322'},\n",
      " {'thread_id': '0e02a54a-b4f2-4aa8-b62b-aaaa9a0d07a1',\n",
      "  'thread_name': 'Identifying Vexa Customers Among Unique Speakers',\n",
      "  'timestamp': '2024-10-18T12:49:22.561451'},\n",
      " {'thread_id': '1398efc9-f1f7-455d-ac2a-b4888b2d32bf',\n",
      "  'thread_name': 'Identifying Vexa Customers Among Speakers',\n",
      "  'timestamp': '2024-10-18T13:47:21.941628'},\n",
      " {'thread_id': '143cbec5-cf8f-4bcc-bac2-c5350e510b77',\n",
      "  'thread_name': 'Meetings with Users and Clients',\n",
      "  'timestamp': '2024-10-17T18:42:54.426240'},\n",
      " {'thread_id': '1747569e-a548-4780-907f-bc5035291a80',\n",
      "  'thread_name': 'Identifying Vexa Customers Among Unique Speakers',\n",
      "  'timestamp': '2024-10-18T12:45:25.009034'}]\n",
      "\n"
     ]
    }
   ],
   "source": [
    "print(\"Getting all threads:\")\n",
    "threads = get_threads()\n",
    "pprint(threads)\n",
    "print()"
   ]
  },
  {
   "cell_type": "code",
   "execution_count": 3,
   "metadata": {},
   "outputs": [
    {
     "name": "stdout",
     "output_type": "stream",
     "text": [
      "Getting thread 001735e2-9977-4bd0-af37-d3250e511db1:\n",
      "{'messages': [{'content': 'test', 'role': 'user', 'stage': None},\n",
      "              {'content': 'The context discusses various technical meetings '\n",
      "                          'focusing on system performance, troubleshooting, '\n",
      "                          'and testing processes. Key participants such as '\n",
      "                          'Dmitriy Grankin are involved in discussions about '\n",
      "                          'understanding system capacity, identifying '\n",
      "                          'bottlenecks, and conducting tests on transcription '\n",
      "                          'services and other functionalities. For example, in '\n",
      "                          'a meeting on August 30, the team, including '\n",
      "                          'Grankin, emphasized the importance of load testing '\n",
      "                          'and determining system limits to ensure efficient '\n",
      "                          'operation[1][2].\\n'\n",
      "                          '\\n'\n",
      "                          'Moreover, the discussions also include efforts to '\n",
      "                          'improve user interface and functionality of the '\n",
      "                          'software through ongoing testing sessions, where '\n",
      "                          'issues like video render discrepancies and audio '\n",
      "                          'service performance are scrutinized[16][18][21]. In '\n",
      "                          'these meetings, various testing methods and '\n",
      "                          'strategies are shared to ensure robust operation of '\n",
      "                          'the system as it scales[30][31]. \\n'\n",
      "                          '\\n'\n",
      "                          'Hence, the overall focus is on ensuring reliable '\n",
      "                          'system performance through rigorous testing and '\n",
      "                          'collaborative troubleshooting efforts among the '\n",
      "                          'team members.',\n",
      "               'role': 'assistant',\n",
      "               'stage': None}],\n",
      " 'thread_id': '001735e2-9977-4bd0-af37-d3250e511db1',\n",
      " 'thread_name': 'test',\n",
      " 'timestamp': '2024-10-18T21:21:01.196244',\n",
      " 'user_id': 'ef7c085b-fdb5-4c94-b7b6-a61a3d04c210'}\n",
      "\n"
     ]
    }
   ],
   "source": [
    "\n",
    "# Get a specific thread (assuming we have a thread_id)\n",
    "if threads:\n",
    "    thread_id = threads[0]['thread_id']\n",
    "    print(f\"Getting thread {thread_id}:\")\n",
    "    thread = get_thread(thread_id)\n",
    "    pprint(thread)\n",
    "    print()"
   ]
  },
  {
   "cell_type": "code",
   "execution_count": 4,
   "metadata": {},
   "outputs": [],
   "source": [
    "query = 'summarize our marketing efforts'"
   ]
  },
  {
   "cell_type": "code",
   "execution_count": 5,
   "metadata": {},
   "outputs": [
    {
     "name": "stdout",
     "output_type": "stream",
     "text": [
      "The marketing efforts discussed in the meetings highlight a strategic approach focused on testing, analytics, and influencer partnerships to enhance performance. In the meeting on August 29, 2024, Dmitriy Grankin and Olga Nemirovskaya explored mobile flow testing and advertising performance, noting a 5% conversion rate from 81 site visits. They considered utilizing short links and influencer collaborations to boost marketing effectiveness and assessed the potential return on investment from influencer posts, factoring in audience engagement[1].On September 13, 2024, discussions between Dmitriy Grankin and Olga Miller centered on user feedback and quick testing of marketing messages. They emphasized the significance of effective communication and KPIs to refine strategies, especially in validating marketing channels during the startup phase[2].Later that day, Grankin and Dmitrii Chistov examined the challenges of targeted traffic acquisition and product-market fit. They discussed the critical need for understanding user needs and crafting effective landing pages while sharing insights from their experiences in enhancing marketing efforts[3].On September 26, 2024, the team reviewed Google Ads performance since the campaign's launch. They noted the necessity for improved conversion tracking and targeted advertising efforts toward English-speaking countries to optimize reach[4].Finally, in preparation for their upcoming Product Hunt launch, Grankin and Nemirovskaya evaluated marketing strategies to foster audience engagement and maximize visibility. They recognized the importance of tracking metrics to validate their value proposition, which was aligned with their overall marketing strategy[5].Overall, the marketing efforts focus on analytics-driven decision-making, leveraging influencer relationships, and maintaining a proactive approach to user engagement and feedback collection across various channels.\n",
      "Final output: The marketing efforts discussed in the meetings highlight a strategic approach focused on testing, analytics, and influencer partnerships to enhance performance. In the meeting on August 29, 2024, Dmitriy Grankin and Olga Nemirovskaya explored mobile flow testing and advertising performance, noting a 5% conversion rate from 81 site visits. They considered utilizing short links and influencer collaborations to boost marketing effectiveness and assessed the potential return on investment from influencer posts, factoring in audience engagement[1].On September 13, 2024, discussions between Dmitriy Grankin and Olga Miller centered on user feedback and quick testing of marketing messages. They emphasized the significance of effective communication and KPIs to refine strategies, especially in validating marketing channels during the startup phase[2].Later that day, Grankin and Dmitrii Chistov examined the challenges of targeted traffic acquisition and product-market fit. They discussed the critical need for understanding user needs and crafting effective landing pages while sharing insights from their experiences in enhancing marketing efforts[3].On September 26, 2024, the team reviewed Google Ads performance since the campaign's launch. They noted the necessity for improved conversion tracking and targeted advertising efforts toward English-speaking countries to optimize reach[4].Finally, in preparation for their upcoming Product Hunt launch, Grankin and Nemirovskaya evaluated marketing strategies to foster audience engagement and maximize visibility. They recognized the importance of tracking metrics to validate their value proposition, which was aligned with their overall marketing strategy[5].Overall, the marketing efforts focus on analytics-driven decision-making, leveraging influencer relationships, and maintaining a proactive approach to user engagement and feedback collection across various channels.\n"
     ]
    }
   ],
   "source": [
    "final_result = chat(query)\n",
    "if final_result:\n",
    "    print(\"Final output:\", final_result)"
   ]
  },
  {
   "cell_type": "code",
   "execution_count": 6,
   "metadata": {},
   "outputs": [],
   "source": [
    "from IPython.display import Markdown"
   ]
  },
  {
   "cell_type": "code",
   "execution_count": 7,
   "metadata": {},
   "outputs": [
    {
     "data": {
      "text/markdown": [
       "The marketing efforts discussed in the meetings highlight a strategic approach focused on testing, analytics, and influencer partnerships to enhance performance. In the meeting on August 29, 2024, Dmitriy Grankin and Olga Nemirovskaya explored mobile flow testing and advertising performance, noting a 5% conversion rate from 81 site visits. They considered utilizing short links and influencer collaborations to boost marketing effectiveness and assessed the potential return on investment from influencer posts, factoring in audience engagement[1].On September 13, 2024, discussions between Dmitriy Grankin and Olga Miller centered on user feedback and quick testing of marketing messages. They emphasized the significance of effective communication and KPIs to refine strategies, especially in validating marketing channels during the startup phase[2].Later that day, Grankin and Dmitrii Chistov examined the challenges of targeted traffic acquisition and product-market fit. They discussed the critical need for understanding user needs and crafting effective landing pages while sharing insights from their experiences in enhancing marketing efforts[3].On September 26, 2024, the team reviewed Google Ads performance since the campaign's launch. They noted the necessity for improved conversion tracking and targeted advertising efforts toward English-speaking countries to optimize reach[4].Finally, in preparation for their upcoming Product Hunt launch, Grankin and Nemirovskaya evaluated marketing strategies to foster audience engagement and maximize visibility. They recognized the importance of tracking metrics to validate their value proposition, which was aligned with their overall marketing strategy[5].Overall, the marketing efforts focus on analytics-driven decision-making, leveraging influencer relationships, and maintaining a proactive approach to user engagement and feedback collection across various channels."
      ],
      "text/plain": [
       "<IPython.core.display.Markdown object>"
      ]
     },
     "execution_count": 7,
     "metadata": {},
     "output_type": "execute_result"
    }
   ],
   "source": [
    "Markdown(final_result)"
   ]
  },
  {
   "cell_type": "code",
   "execution_count": null,
   "metadata": {},
   "outputs": [],
   "source": []
  }
 ],
 "metadata": {
  "kernelspec": {
   "display_name": "langchain",
   "language": "python",
   "name": "langchain"
  },
  "language_info": {
   "codemirror_mode": {
    "name": "ipython",
    "version": 3
   },
   "file_extension": ".py",
   "mimetype": "text/x-python",
   "name": "python",
   "nbconvert_exporter": "python",
   "pygments_lexer": "ipython3",
   "version": "3.11.2"
  }
 },
 "nbformat": 4,
 "nbformat_minor": 2
}
