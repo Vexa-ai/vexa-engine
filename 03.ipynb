{
 "cells": [
  {
   "cell_type": "code",
   "execution_count": 8,
   "metadata": {},
   "outputs": [],
   "source": [
    "import requests\n",
    "from sseclient import SSEClient\n",
    "from pprint import pprint\n",
    "\n",
    "# Base URL of your FastAPI server\n",
    "BASE_URL = \"http://127.0.0.1:8765\"\n",
    "\n",
    "#BASE_URL = \"https://chat.dev.vexa.ai\"\n",
    "\n",
    "# Function to get all threads\n",
    "def get_threads():\n",
    "    response = requests.get(f\"{BASE_URL}/threads\")\n",
    "    if response.status_code == 200:\n",
    "        return response.json()\n",
    "    else:\n",
    "        print(f\"Error: {response.status_code}\")\n",
    "        return None\n",
    "\n",
    "# Function to get a specific thread\n",
    "def get_thread(thread_id):\n",
    "    response = requests.get(f\"{BASE_URL}/thread/{thread_id}\")\n",
    "    if response.status_code == 200:\n",
    "        return response.json()\n",
    "    else:\n",
    "        print(f\"Error: {response.status_code}\")\n",
    "        return None\n",
    "\n",
    "def chat(query, thread_id=None, model=None, temperature=None):\n",
    "    data = {\n",
    "        \"query\": query,\n",
    "        \"thread_id\": thread_id,\n",
    "        \"model\": model,\n",
    "        \"temperature\": temperature\n",
    "    }\n",
    "    response = requests.post(f\"{BASE_URL}/chat\", json=data, stream=True)\n",
    "    \n",
    "    if response.status_code == 200:\n",
    "        final_output = \"\"\n",
    "        for line in response.iter_lines():\n",
    "            if line:\n",
    "                decoded_line = line.decode('utf-8')\n",
    "                if decoded_line.startswith('data: '):\n",
    "                    event_data = decoded_line[6:]\n",
    "                    if event_data == '[DONE]':\n",
    "                        break\n",
    "                    print(event_data, end='', flush=True)\n",
    "                    final_output += event_data\n",
    "        print()  # Add a newline at the end of the response\n",
    "        return final_output\n",
    "    else:\n",
    "        print(f\"Error: {response.status_code}\")\n",
    "        return None"
   ]
  },
  {
   "cell_type": "code",
   "execution_count": 9,
   "metadata": {},
   "outputs": [
    {
     "name": "stdout",
     "output_type": "stream",
     "text": [
      "Getting all threads:\n",
      "[{'thread_id': '001735e2-9977-4bd0-af37-d3250e511db1',\n",
      "  'thread_name': 'test',\n",
      "  'timestamp': '2024-10-18T21:21:01.196244'},\n",
      " {'thread_id': '038bdbe8-83d6-4b8e-8aba-9cf11de511dd',\n",
      "  'thread_name': 'Client Meeting with User Feedback and Discussion',\n",
      "  'timestamp': '2024-10-17T18:40:30.160965'},\n",
      " {'thread_id': '041c54e1-54da-4ee3-8d91-4509156d01e2',\n",
      "  'thread_name': 'Assessing Potential Vexa Customers Among Speakers',\n",
      "  'timestamp': '2024-10-18T12:52:44.042996'},\n",
      " {'thread_id': '083f9925-9c74-4ef1-929a-f5e81b73f92c',\n",
      "  'thread_name': 'Identifying Vexa Customers Among Speakers',\n",
      "  'timestamp': '2024-10-18T13:56:48.396266'},\n",
      " {'thread_id': '09d93006-108a-4f0a-988d-708661f87026',\n",
      "  'thread_name': 'Communications with Matt Lewis',\n",
      "  'timestamp': '2024-10-17T18:00:57.482037'},\n",
      " {'thread_id': '0dff7138-83eb-433b-b546-2d4a3a999702',\n",
      "  'thread_name': 'Identifying Vexa Customers Among Speakers',\n",
      "  'timestamp': '2024-10-18T14:07:13.837322'},\n",
      " {'thread_id': '0e02a54a-b4f2-4aa8-b62b-aaaa9a0d07a1',\n",
      "  'thread_name': 'Identifying Vexa Customers Among Unique Speakers',\n",
      "  'timestamp': '2024-10-18T12:49:22.561451'},\n",
      " {'thread_id': '1398efc9-f1f7-455d-ac2a-b4888b2d32bf',\n",
      "  'thread_name': 'Identifying Vexa Customers Among Speakers',\n",
      "  'timestamp': '2024-10-18T13:47:21.941628'},\n",
      " {'thread_id': '143cbec5-cf8f-4bcc-bac2-c5350e510b77',\n",
      "  'thread_name': 'Meetings with Users and Clients',\n",
      "  'timestamp': '2024-10-17T18:42:54.426240'},\n",
      " {'thread_id': '1747569e-a548-4780-907f-bc5035291a80',\n",
      "  'thread_name': 'Identifying Vexa Customers Among Unique Speakers',\n",
      "  'timestamp': '2024-10-18T12:45:25.009034'}]\n",
      "\n"
     ]
    }
   ],
   "source": [
    "print(\"Getting all threads:\")\n",
    "threads = get_threads()\n",
    "pprint(threads)\n",
    "print()"
   ]
  },
  {
   "cell_type": "code",
   "execution_count": 10,
   "metadata": {},
   "outputs": [
    {
     "name": "stdout",
     "output_type": "stream",
     "text": [
      "Getting thread 001735e2-9977-4bd0-af37-d3250e511db1:\n",
      "{'messages': [{'content': 'test', 'role': 'user', 'stage': None},\n",
      "              {'content': 'The context discusses various technical meetings '\n",
      "                          'focusing on system performance, troubleshooting, '\n",
      "                          'and testing processes. Key participants such as '\n",
      "                          'Dmitriy Grankin are involved in discussions about '\n",
      "                          'understanding system capacity, identifying '\n",
      "                          'bottlenecks, and conducting tests on transcription '\n",
      "                          'services and other functionalities. For example, in '\n",
      "                          'a meeting on August 30, the team, including '\n",
      "                          'Grankin, emphasized the importance of load testing '\n",
      "                          'and determining system limits to ensure efficient '\n",
      "                          'operation[1][2].\\n'\n",
      "                          '\\n'\n",
      "                          'Moreover, the discussions also include efforts to '\n",
      "                          'improve user interface and functionality of the '\n",
      "                          'software through ongoing testing sessions, where '\n",
      "                          'issues like video render discrepancies and audio '\n",
      "                          'service performance are scrutinized[16][18][21]. In '\n",
      "                          'these meetings, various testing methods and '\n",
      "                          'strategies are shared to ensure robust operation of '\n",
      "                          'the system as it scales[30][31]. \\n'\n",
      "                          '\\n'\n",
      "                          'Hence, the overall focus is on ensuring reliable '\n",
      "                          'system performance through rigorous testing and '\n",
      "                          'collaborative troubleshooting efforts among the '\n",
      "                          'team members.',\n",
      "               'role': 'assistant',\n",
      "               'stage': None}],\n",
      " 'thread_id': '001735e2-9977-4bd0-af37-d3250e511db1',\n",
      " 'thread_name': 'test',\n",
      " 'timestamp': '2024-10-18T21:21:01.196244',\n",
      " 'user_id': 'ef7c085b-fdb5-4c94-b7b6-a61a3d04c210'}\n",
      "\n"
     ]
    }
   ],
   "source": [
    "\n",
    "# Get a specific thread (assuming we have a thread_id)\n",
    "if threads:\n",
    "    thread_id = threads[0]['thread_id']\n",
    "    print(f\"Getting thread {thread_id}:\")\n",
    "    thread = get_thread(thread_id)\n",
    "    pprint(thread)\n",
    "    print()"
   ]
  },
  {
   "cell_type": "code",
   "execution_count": 23,
   "metadata": {},
   "outputs": [],
   "source": [
    "query = 'test'"
   ]
  },
  {
   "cell_type": "code",
   "execution_count": 24,
   "metadata": {},
   "outputs": [
    {
     "name": "stdout",
     "output_type": "stream",
     "text": [
      "The test meetings involved confirming the functionality and operational status of a system. Participants tested various aspects, with discussions focusing on its reliability and data-saving capabilities.- In the check-in on September 5, 2024, the session was informal and aimed at verifying that everything was operational[1]. - On October 16, 2024, a meeting emphasized ensuring the system's operational efficiency, with participants confirming its functionality[2]. - The session on October 17, 2024, concentrated on the system's data-saving capabilities, where participants provided feedback and discussed further refinements needed for better performance[3].{\"output\": \"The test meetings involved confirming the functionality and operational status of a system. Participants tested various aspects, with discussions focusing on its reliability and data-saving capabilities.\\n\\n- In the check-in on September 5, 2024, the session was informal and aimed at verifying that everything was operational[1]. \\n- On October 16, 2024, a meeting emphasized ensuring the system's operational efficiency, with participants confirming its functionality[2]. \\n- The session on October 17, 2024, concentrated on the system's data-saving capabilities, where participants provided feedback and discussed further refinements needed for better performance[3].\", \"messages\": [{\"role\": \"user\", \"content\": \"test\", \"stage\": null}, {\"role\": \"assistant\", \"content\": \"The test meetings involved confirming the functionality and operational status of a system. Participants tested various aspects, with discussions focusing on its reliability and data-saving capabilities.\\n\\n- In the check-in on September 5, 2024, the session was informal and aimed at verifying that everything was operational[1]. \\n- On October 16, 2024, a meeting emphasized ensuring the system's operational efficiency, with participants confirming its functionality[2]. \\n- The session on October 17, 2024, concentrated on the system's data-saving capabilities, where participants provided feedback and discussed further refinements needed for better performance[3].\", \"stage\": null}], \"meeting_ids\": [\"d3a41d6a-2309-4ef3-96e3-02b7be002d7d\", \"5b4bbd02-d8a7-4e5d-b232-6c9e853d5f2b\", \"d5795fba-6b5c-49df-8421-c84b7815379d\"], \"full_context\": \"# [1] Functionality Testing Check-in (2024-09-05 19:25):\\nThe meeting was a brief check-in to confirm the functionality of a system, with participants testing and confirming that everything is operational. The tone was informal, indicating a casual testing session.\\n## Related Quotes:\\n:  \\u0442\\u0435\\u0441\\u0442 \\u0442\\u0435\\u0441\\u0442\\u0438\\u0440\\u0443\\u0435\\u043c \\u0447\\u0442\\u043e \\u043f\\u0440\\u043e\\u0438\\u0441\\u0445\\u043e\\u0434\\u0438\\u0442 \\u0440\\u0430\\u0431\\u043e\\u0442\\u0430\\u0435\\u0442 \\u043d\\u0435 \\u0440\\u0430\\u0431\\u043e\\u0442\\u0430\\u0435\\u0442 \\u0432\\u0435\\u043a \\u0441\\u0430\\u043c :  Thank you.\\n\\n---\\n\\n# [2] System Testing Session (2024-10-16 12:56):\\nThe meeting involved testing the functionality of a system, with participants confirming the system's operational status. Key focus was on ensuring the system works as intended.\\n## Related Quotes:\\n:  \\u0442\\u0435\\u0441\\u0442\\u0438\\u0440\\u0443\\u044e \\u0440\\u0430\\u0431\\u043e\\u0442\\u044b \\u0441\\u0438\\u0441\\u0442\\u0435\\u043c\\u044b \\u0442\\u0435\\u0441\\u0442\\u0438\\u0440\\u0443\\u044e \\u0440\\u0430\\u0431\\u043e\\u0442\\u0443 \\u0441\\u0438\\u0441\\u0442\\u0435\\u043c\\u044b\\n:  \\u0422\\u0435\\u0441\\u0442\\u0438\\u0440\\u043e\\u0432\\u0430\\u043b \\u0440\\u0430\\u0431\\u043e\\u0442\\u0443 \\u0441\\u0438\\u0441\\u0442\\u0435\\u043c\\u044b.\\n\\n---\\n\\n# [3] System Functionality Testing Session (2024-10-17 15:43):\\nThe meeting focused on testing a system's functionality, specifically its data saving capabilities. Participants discussed the system's performance, confirming that it is currently operational but requires further refinement. The conversation included various testing phrases and feedback on the system's reliability.\\n## Related Quotes:\\n:  \\u0422\\u0435\\u0441\\u0442\\u0438\\u0440\\u0443\\u0435\\u043c, \\u0447\\u0442\\u043e \\u043f\\u0440\\u043e\\u0438\\u0441\\u0445\\u043e\\u0434\\u0438\\u0442, \\u0442\\u0435\\u0441\\u0442\\u0438\\u0440\\u0443\\u0435\\u043c, \\u0447\\u0442\\u043e \\u043f\\u0440\\u043e\\u0438\\u0441\\u0445\\u043e\\u0434\\u0438\\u0442, :  \\u041a\\u0430\\u043a \\u0440\\u0430\\u0431\\u043e\\u0442\\u0430\\u0435\\u0442 \\u0438\\u043b\\u0438 \\u043d\\u0435 \\u0440\\u0430\\u0431\\u043e\\u0442\\u0430\\u0435\\u0442. :  \\u0417\\u0434\\u0435\\u0441\\u044c \\u043f\\u043e\\u043a\\u0430 \\u043d\\u0438\\u0447\\u0435\\u0433\\u043e \\u043d\\u0435\\u0442\\u0443, \\u0437\\u0434\\u0435\\u0441\\u044c Stop Length \\u0435\\u0441\\u0442\\u044c. :  \\u0422\\u0435\\u043f\\u0435\\u0440\\u044c \\u043c\\u044b \\u0445\\u043e\\u0442\\u0438\\u043c \\u043f\\u043e\\u043d\\u044f\\u0442\\u044c, \\u043a\\u0430\\u043a \\u043e\\u043d \\u0431\\u0443\\u0434\\u0435\\u0442 \\u0441\\u043e\\u0445\\u0440\\u0430\\u043d\\u044f\\u0442\\u044c \\u0438\\u043b\\u0438 \\u043d\\u0435 \\u0431\\u0443\\u0434\\u0435\\u0442 \\u0441\\u043e\\u0445\\u0440\\u0430\\u043d\\u044f\\u0442\\u044c. :  \\u0447\\u0442\\u043e-\\u0442\\u043e \\u043f\\u0440\\u043e\\u0438\\u0441\\u0445\\u043e\\u0434\\u0438\\u0442 \\u043d\\u043e \\u043d\\u0435 \\u0437\\u0430\\u0444\\u0438\\u043a\\u0441\\u0438\\u0440\\u043e\\u0432\\u0430\\u0442\\u044c :  \\u0421\\u043e\\u0445\\u0440\\u0430\\u043d\\u044f\\u0435\\u0442\\u0441\\u044f \\u0438\\u043b\\u0438 \\u043d\\u0435 \\u0441\\u043e\\u0445\\u0440\\u0430\\u043d\\u044f\\u0435\\u0442\\u0441\\u044f? :  Mm-hmm. :  1 \\u043c\\u0438\\u043d\\u0443\\u0442\\u0430 39 \\u0441\\u0435\\u043a\\u0443\\u043d\\u0434. \\u0422\\u0435\\u0441\\u0442\\u0438\\u0440\\u0443\\u0435\\u043c, \\u0447\\u0442\\u043e \\u043f\\u0440\\u043e\\u0438\\u0441\\u0445\\u043e\\u0434\\u0438\\u0442. \\u0414\\u0430\\u0432\\u0430\\u0439 \\u0434\\u043e\\u0436\\u0434\\u0435\\u043c\\u0441\\u044f. :  Thank you. :  \\u043f\\u043e\\u043a\\u0430 \\u043d\\u0435 \\u0442\\u0435\\u0440\\u044f\\u0435\\u0442\\u0441\\u044f \\u0445\\u043e\\u0440\\u043e\\u0448\\u043e \\u043f\\u043e\\u043a\\u0430 \\u043d\\u0435 \\u0442\\u0435\\u0440\\u044f\\u0435\\u0442\\u0441\\u044f :  \\u0420\\u0430\\u0431\\u043e\\u0442\\u0430\\u0435\\u0442.\\n\\n---\\n\", \"thread_id\": \"c8cd3f3b-23be-42d3-adbb-201ada3849b3\", \"thread_name\": \"test\", \"indexed_meetings\": {\"1\": \"d3a41d6a-2309-4ef3-96e3-02b7be002d7d\", \"2\": \"5b4bbd02-d8a7-4e5d-b232-6c9e853d5f2b\", \"3\": \"d5795fba-6b5c-49df-8421-c84b7815379d\"}, \"linked_output\": \"The test meetings involved confirming the functionality and operational status of a system. Participants tested various aspects, with discussions focusing on its reliability and data-saving capabilities.\\n\\n- In the check-in on September 5, 2024, the session was informal and aimed at verifying that everything was operational[1](https://dashboard.vexa.ai/#d3a41d6a-2309-4ef3-96e3-02b7be002d7d). \\n- On October 16, 2024, a meeting emphasized ensuring the system's operational efficiency, with participants confirming its functionality[2](https://dashboard.vexa.ai/#5b4bbd02-d8a7-4e5d-b232-6c9e853d5f2b). \\n- The session on October 17, 2024, concentrated on the system's data-saving capabilities, where participants provided feedback and discussed further refinements needed for better performance[3](https://dashboard.vexa.ai/#d5795fba-6b5c-49df-8421-c84b7815379d).\"}\n",
      "Final output: The test meetings involved confirming the functionality and operational status of a system. Participants tested various aspects, with discussions focusing on its reliability and data-saving capabilities.- In the check-in on September 5, 2024, the session was informal and aimed at verifying that everything was operational[1]. - On October 16, 2024, a meeting emphasized ensuring the system's operational efficiency, with participants confirming its functionality[2]. - The session on October 17, 2024, concentrated on the system's data-saving capabilities, where participants provided feedback and discussed further refinements needed for better performance[3].{\"output\": \"The test meetings involved confirming the functionality and operational status of a system. Participants tested various aspects, with discussions focusing on its reliability and data-saving capabilities.\\n\\n- In the check-in on September 5, 2024, the session was informal and aimed at verifying that everything was operational[1]. \\n- On October 16, 2024, a meeting emphasized ensuring the system's operational efficiency, with participants confirming its functionality[2]. \\n- The session on October 17, 2024, concentrated on the system's data-saving capabilities, where participants provided feedback and discussed further refinements needed for better performance[3].\", \"messages\": [{\"role\": \"user\", \"content\": \"test\", \"stage\": null}, {\"role\": \"assistant\", \"content\": \"The test meetings involved confirming the functionality and operational status of a system. Participants tested various aspects, with discussions focusing on its reliability and data-saving capabilities.\\n\\n- In the check-in on September 5, 2024, the session was informal and aimed at verifying that everything was operational[1]. \\n- On October 16, 2024, a meeting emphasized ensuring the system's operational efficiency, with participants confirming its functionality[2]. \\n- The session on October 17, 2024, concentrated on the system's data-saving capabilities, where participants provided feedback and discussed further refinements needed for better performance[3].\", \"stage\": null}], \"meeting_ids\": [\"d3a41d6a-2309-4ef3-96e3-02b7be002d7d\", \"5b4bbd02-d8a7-4e5d-b232-6c9e853d5f2b\", \"d5795fba-6b5c-49df-8421-c84b7815379d\"], \"full_context\": \"# [1] Functionality Testing Check-in (2024-09-05 19:25):\\nThe meeting was a brief check-in to confirm the functionality of a system, with participants testing and confirming that everything is operational. The tone was informal, indicating a casual testing session.\\n## Related Quotes:\\n:  \\u0442\\u0435\\u0441\\u0442 \\u0442\\u0435\\u0441\\u0442\\u0438\\u0440\\u0443\\u0435\\u043c \\u0447\\u0442\\u043e \\u043f\\u0440\\u043e\\u0438\\u0441\\u0445\\u043e\\u0434\\u0438\\u0442 \\u0440\\u0430\\u0431\\u043e\\u0442\\u0430\\u0435\\u0442 \\u043d\\u0435 \\u0440\\u0430\\u0431\\u043e\\u0442\\u0430\\u0435\\u0442 \\u0432\\u0435\\u043a \\u0441\\u0430\\u043c :  Thank you.\\n\\n---\\n\\n# [2] System Testing Session (2024-10-16 12:56):\\nThe meeting involved testing the functionality of a system, with participants confirming the system's operational status. Key focus was on ensuring the system works as intended.\\n## Related Quotes:\\n:  \\u0442\\u0435\\u0441\\u0442\\u0438\\u0440\\u0443\\u044e \\u0440\\u0430\\u0431\\u043e\\u0442\\u044b \\u0441\\u0438\\u0441\\u0442\\u0435\\u043c\\u044b \\u0442\\u0435\\u0441\\u0442\\u0438\\u0440\\u0443\\u044e \\u0440\\u0430\\u0431\\u043e\\u0442\\u0443 \\u0441\\u0438\\u0441\\u0442\\u0435\\u043c\\u044b\\n:  \\u0422\\u0435\\u0441\\u0442\\u0438\\u0440\\u043e\\u0432\\u0430\\u043b \\u0440\\u0430\\u0431\\u043e\\u0442\\u0443 \\u0441\\u0438\\u0441\\u0442\\u0435\\u043c\\u044b.\\n\\n---\\n\\n# [3] System Functionality Testing Session (2024-10-17 15:43):\\nThe meeting focused on testing a system's functionality, specifically its data saving capabilities. Participants discussed the system's performance, confirming that it is currently operational but requires further refinement. The conversation included various testing phrases and feedback on the system's reliability.\\n## Related Quotes:\\n:  \\u0422\\u0435\\u0441\\u0442\\u0438\\u0440\\u0443\\u0435\\u043c, \\u0447\\u0442\\u043e \\u043f\\u0440\\u043e\\u0438\\u0441\\u0445\\u043e\\u0434\\u0438\\u0442, \\u0442\\u0435\\u0441\\u0442\\u0438\\u0440\\u0443\\u0435\\u043c, \\u0447\\u0442\\u043e \\u043f\\u0440\\u043e\\u0438\\u0441\\u0445\\u043e\\u0434\\u0438\\u0442, :  \\u041a\\u0430\\u043a \\u0440\\u0430\\u0431\\u043e\\u0442\\u0430\\u0435\\u0442 \\u0438\\u043b\\u0438 \\u043d\\u0435 \\u0440\\u0430\\u0431\\u043e\\u0442\\u0430\\u0435\\u0442. :  \\u0417\\u0434\\u0435\\u0441\\u044c \\u043f\\u043e\\u043a\\u0430 \\u043d\\u0438\\u0447\\u0435\\u0433\\u043e \\u043d\\u0435\\u0442\\u0443, \\u0437\\u0434\\u0435\\u0441\\u044c Stop Length \\u0435\\u0441\\u0442\\u044c. :  \\u0422\\u0435\\u043f\\u0435\\u0440\\u044c \\u043c\\u044b \\u0445\\u043e\\u0442\\u0438\\u043c \\u043f\\u043e\\u043d\\u044f\\u0442\\u044c, \\u043a\\u0430\\u043a \\u043e\\u043d \\u0431\\u0443\\u0434\\u0435\\u0442 \\u0441\\u043e\\u0445\\u0440\\u0430\\u043d\\u044f\\u0442\\u044c \\u0438\\u043b\\u0438 \\u043d\\u0435 \\u0431\\u0443\\u0434\\u0435\\u0442 \\u0441\\u043e\\u0445\\u0440\\u0430\\u043d\\u044f\\u0442\\u044c. :  \\u0447\\u0442\\u043e-\\u0442\\u043e \\u043f\\u0440\\u043e\\u0438\\u0441\\u0445\\u043e\\u0434\\u0438\\u0442 \\u043d\\u043e \\u043d\\u0435 \\u0437\\u0430\\u0444\\u0438\\u043a\\u0441\\u0438\\u0440\\u043e\\u0432\\u0430\\u0442\\u044c :  \\u0421\\u043e\\u0445\\u0440\\u0430\\u043d\\u044f\\u0435\\u0442\\u0441\\u044f \\u0438\\u043b\\u0438 \\u043d\\u0435 \\u0441\\u043e\\u0445\\u0440\\u0430\\u043d\\u044f\\u0435\\u0442\\u0441\\u044f? :  Mm-hmm. :  1 \\u043c\\u0438\\u043d\\u0443\\u0442\\u0430 39 \\u0441\\u0435\\u043a\\u0443\\u043d\\u0434. \\u0422\\u0435\\u0441\\u0442\\u0438\\u0440\\u0443\\u0435\\u043c, \\u0447\\u0442\\u043e \\u043f\\u0440\\u043e\\u0438\\u0441\\u0445\\u043e\\u0434\\u0438\\u0442. \\u0414\\u0430\\u0432\\u0430\\u0439 \\u0434\\u043e\\u0436\\u0434\\u0435\\u043c\\u0441\\u044f. :  Thank you. :  \\u043f\\u043e\\u043a\\u0430 \\u043d\\u0435 \\u0442\\u0435\\u0440\\u044f\\u0435\\u0442\\u0441\\u044f \\u0445\\u043e\\u0440\\u043e\\u0448\\u043e \\u043f\\u043e\\u043a\\u0430 \\u043d\\u0435 \\u0442\\u0435\\u0440\\u044f\\u0435\\u0442\\u0441\\u044f :  \\u0420\\u0430\\u0431\\u043e\\u0442\\u0430\\u0435\\u0442.\\n\\n---\\n\", \"thread_id\": \"c8cd3f3b-23be-42d3-adbb-201ada3849b3\", \"thread_name\": \"test\", \"indexed_meetings\": {\"1\": \"d3a41d6a-2309-4ef3-96e3-02b7be002d7d\", \"2\": \"5b4bbd02-d8a7-4e5d-b232-6c9e853d5f2b\", \"3\": \"d5795fba-6b5c-49df-8421-c84b7815379d\"}, \"linked_output\": \"The test meetings involved confirming the functionality and operational status of a system. Participants tested various aspects, with discussions focusing on its reliability and data-saving capabilities.\\n\\n- In the check-in on September 5, 2024, the session was informal and aimed at verifying that everything was operational[1](https://dashboard.vexa.ai/#d3a41d6a-2309-4ef3-96e3-02b7be002d7d). \\n- On October 16, 2024, a meeting emphasized ensuring the system's operational efficiency, with participants confirming its functionality[2](https://dashboard.vexa.ai/#5b4bbd02-d8a7-4e5d-b232-6c9e853d5f2b). \\n- The session on October 17, 2024, concentrated on the system's data-saving capabilities, where participants provided feedback and discussed further refinements needed for better performance[3](https://dashboard.vexa.ai/#d5795fba-6b5c-49df-8421-c84b7815379d).\"}\n"
     ]
    }
   ],
   "source": [
    "final_result = chat(query)\n",
    "if final_result:\n",
    "    print(\"Final output:\", final_result)"
   ]
  },
  {
   "cell_type": "code",
   "execution_count": 25,
   "metadata": {},
   "outputs": [
    {
     "data": {
      "text/plain": [
       "'The test meetings involved confirming the functionality and operational status of a system. Participants tested various aspects, with discussions focusing on its reliability and data-saving capabilities.- In the check-in on September 5, 2024, the session was informal and aimed at verifying that everything was operational[1]. - On October 16, 2024, a meeting emphasized ensuring the system\\'s operational efficiency, with participants confirming its functionality[2]. - The session on October 17, 2024, concentrated on the system\\'s data-saving capabilities, where participants provided feedback and discussed further refinements needed for better performance[3].{\"output\": \"The test meetings involved confirming the functionality and operational status of a system. Participants tested various aspects, with discussions focusing on its reliability and data-saving capabilities.\\\\n\\\\n- In the check-in on September 5, 2024, the session was informal and aimed at verifying that everything was operational[1]. \\\\n- On October 16, 2024, a meeting emphasized ensuring the system\\'s operational efficiency, with participants confirming its functionality[2]. \\\\n- The session on October 17, 2024, concentrated on the system\\'s data-saving capabilities, where participants provided feedback and discussed further refinements needed for better performance[3].\", \"messages\": [{\"role\": \"user\", \"content\": \"test\", \"stage\": null}, {\"role\": \"assistant\", \"content\": \"The test meetings involved confirming the functionality and operational status of a system. Participants tested various aspects, with discussions focusing on its reliability and data-saving capabilities.\\\\n\\\\n- In the check-in on September 5, 2024, the session was informal and aimed at verifying that everything was operational[1]. \\\\n- On October 16, 2024, a meeting emphasized ensuring the system\\'s operational efficiency, with participants confirming its functionality[2]. \\\\n- The session on October 17, 2024, concentrated on the system\\'s data-saving capabilities, where participants provided feedback and discussed further refinements needed for better performance[3].\", \"stage\": null}], \"meeting_ids\": [\"d3a41d6a-2309-4ef3-96e3-02b7be002d7d\", \"5b4bbd02-d8a7-4e5d-b232-6c9e853d5f2b\", \"d5795fba-6b5c-49df-8421-c84b7815379d\"], \"full_context\": \"# [1] Functionality Testing Check-in (2024-09-05 19:25):\\\\nThe meeting was a brief check-in to confirm the functionality of a system, with participants testing and confirming that everything is operational. The tone was informal, indicating a casual testing session.\\\\n## Related Quotes:\\\\n:  \\\\u0442\\\\u0435\\\\u0441\\\\u0442 \\\\u0442\\\\u0435\\\\u0441\\\\u0442\\\\u0438\\\\u0440\\\\u0443\\\\u0435\\\\u043c \\\\u0447\\\\u0442\\\\u043e \\\\u043f\\\\u0440\\\\u043e\\\\u0438\\\\u0441\\\\u0445\\\\u043e\\\\u0434\\\\u0438\\\\u0442 \\\\u0440\\\\u0430\\\\u0431\\\\u043e\\\\u0442\\\\u0430\\\\u0435\\\\u0442 \\\\u043d\\\\u0435 \\\\u0440\\\\u0430\\\\u0431\\\\u043e\\\\u0442\\\\u0430\\\\u0435\\\\u0442 \\\\u0432\\\\u0435\\\\u043a \\\\u0441\\\\u0430\\\\u043c :  Thank you.\\\\n\\\\n---\\\\n\\\\n# [2] System Testing Session (2024-10-16 12:56):\\\\nThe meeting involved testing the functionality of a system, with participants confirming the system\\'s operational status. Key focus was on ensuring the system works as intended.\\\\n## Related Quotes:\\\\n:  \\\\u0442\\\\u0435\\\\u0441\\\\u0442\\\\u0438\\\\u0440\\\\u0443\\\\u044e \\\\u0440\\\\u0430\\\\u0431\\\\u043e\\\\u0442\\\\u044b \\\\u0441\\\\u0438\\\\u0441\\\\u0442\\\\u0435\\\\u043c\\\\u044b \\\\u0442\\\\u0435\\\\u0441\\\\u0442\\\\u0438\\\\u0440\\\\u0443\\\\u044e \\\\u0440\\\\u0430\\\\u0431\\\\u043e\\\\u0442\\\\u0443 \\\\u0441\\\\u0438\\\\u0441\\\\u0442\\\\u0435\\\\u043c\\\\u044b\\\\n:  \\\\u0422\\\\u0435\\\\u0441\\\\u0442\\\\u0438\\\\u0440\\\\u043e\\\\u0432\\\\u0430\\\\u043b \\\\u0440\\\\u0430\\\\u0431\\\\u043e\\\\u0442\\\\u0443 \\\\u0441\\\\u0438\\\\u0441\\\\u0442\\\\u0435\\\\u043c\\\\u044b.\\\\n\\\\n---\\\\n\\\\n# [3] System Functionality Testing Session (2024-10-17 15:43):\\\\nThe meeting focused on testing a system\\'s functionality, specifically its data saving capabilities. Participants discussed the system\\'s performance, confirming that it is currently operational but requires further refinement. The conversation included various testing phrases and feedback on the system\\'s reliability.\\\\n## Related Quotes:\\\\n:  \\\\u0422\\\\u0435\\\\u0441\\\\u0442\\\\u0438\\\\u0440\\\\u0443\\\\u0435\\\\u043c, \\\\u0447\\\\u0442\\\\u043e \\\\u043f\\\\u0440\\\\u043e\\\\u0438\\\\u0441\\\\u0445\\\\u043e\\\\u0434\\\\u0438\\\\u0442, \\\\u0442\\\\u0435\\\\u0441\\\\u0442\\\\u0438\\\\u0440\\\\u0443\\\\u0435\\\\u043c, \\\\u0447\\\\u0442\\\\u043e \\\\u043f\\\\u0440\\\\u043e\\\\u0438\\\\u0441\\\\u0445\\\\u043e\\\\u0434\\\\u0438\\\\u0442, :  \\\\u041a\\\\u0430\\\\u043a \\\\u0440\\\\u0430\\\\u0431\\\\u043e\\\\u0442\\\\u0430\\\\u0435\\\\u0442 \\\\u0438\\\\u043b\\\\u0438 \\\\u043d\\\\u0435 \\\\u0440\\\\u0430\\\\u0431\\\\u043e\\\\u0442\\\\u0430\\\\u0435\\\\u0442. :  \\\\u0417\\\\u0434\\\\u0435\\\\u0441\\\\u044c \\\\u043f\\\\u043e\\\\u043a\\\\u0430 \\\\u043d\\\\u0438\\\\u0447\\\\u0435\\\\u0433\\\\u043e \\\\u043d\\\\u0435\\\\u0442\\\\u0443, \\\\u0437\\\\u0434\\\\u0435\\\\u0441\\\\u044c Stop Length \\\\u0435\\\\u0441\\\\u0442\\\\u044c. :  \\\\u0422\\\\u0435\\\\u043f\\\\u0435\\\\u0440\\\\u044c \\\\u043c\\\\u044b \\\\u0445\\\\u043e\\\\u0442\\\\u0438\\\\u043c \\\\u043f\\\\u043e\\\\u043d\\\\u044f\\\\u0442\\\\u044c, \\\\u043a\\\\u0430\\\\u043a \\\\u043e\\\\u043d \\\\u0431\\\\u0443\\\\u0434\\\\u0435\\\\u0442 \\\\u0441\\\\u043e\\\\u0445\\\\u0440\\\\u0430\\\\u043d\\\\u044f\\\\u0442\\\\u044c \\\\u0438\\\\u043b\\\\u0438 \\\\u043d\\\\u0435 \\\\u0431\\\\u0443\\\\u0434\\\\u0435\\\\u0442 \\\\u0441\\\\u043e\\\\u0445\\\\u0440\\\\u0430\\\\u043d\\\\u044f\\\\u0442\\\\u044c. :  \\\\u0447\\\\u0442\\\\u043e-\\\\u0442\\\\u043e \\\\u043f\\\\u0440\\\\u043e\\\\u0438\\\\u0441\\\\u0445\\\\u043e\\\\u0434\\\\u0438\\\\u0442 \\\\u043d\\\\u043e \\\\u043d\\\\u0435 \\\\u0437\\\\u0430\\\\u0444\\\\u0438\\\\u043a\\\\u0441\\\\u0438\\\\u0440\\\\u043e\\\\u0432\\\\u0430\\\\u0442\\\\u044c :  \\\\u0421\\\\u043e\\\\u0445\\\\u0440\\\\u0430\\\\u043d\\\\u044f\\\\u0435\\\\u0442\\\\u0441\\\\u044f \\\\u0438\\\\u043b\\\\u0438 \\\\u043d\\\\u0435 \\\\u0441\\\\u043e\\\\u0445\\\\u0440\\\\u0430\\\\u043d\\\\u044f\\\\u0435\\\\u0442\\\\u0441\\\\u044f? :  Mm-hmm. :  1 \\\\u043c\\\\u0438\\\\u043d\\\\u0443\\\\u0442\\\\u0430 39 \\\\u0441\\\\u0435\\\\u043a\\\\u0443\\\\u043d\\\\u0434. \\\\u0422\\\\u0435\\\\u0441\\\\u0442\\\\u0438\\\\u0440\\\\u0443\\\\u0435\\\\u043c, \\\\u0447\\\\u0442\\\\u043e \\\\u043f\\\\u0440\\\\u043e\\\\u0438\\\\u0441\\\\u0445\\\\u043e\\\\u0434\\\\u0438\\\\u0442. \\\\u0414\\\\u0430\\\\u0432\\\\u0430\\\\u0439 \\\\u0434\\\\u043e\\\\u0436\\\\u0434\\\\u0435\\\\u043c\\\\u0441\\\\u044f. :  Thank you. :  \\\\u043f\\\\u043e\\\\u043a\\\\u0430 \\\\u043d\\\\u0435 \\\\u0442\\\\u0435\\\\u0440\\\\u044f\\\\u0435\\\\u0442\\\\u0441\\\\u044f \\\\u0445\\\\u043e\\\\u0440\\\\u043e\\\\u0448\\\\u043e \\\\u043f\\\\u043e\\\\u043a\\\\u0430 \\\\u043d\\\\u0435 \\\\u0442\\\\u0435\\\\u0440\\\\u044f\\\\u0435\\\\u0442\\\\u0441\\\\u044f :  \\\\u0420\\\\u0430\\\\u0431\\\\u043e\\\\u0442\\\\u0430\\\\u0435\\\\u0442.\\\\n\\\\n---\\\\n\", \"thread_id\": \"c8cd3f3b-23be-42d3-adbb-201ada3849b3\", \"thread_name\": \"test\", \"indexed_meetings\": {\"1\": \"d3a41d6a-2309-4ef3-96e3-02b7be002d7d\", \"2\": \"5b4bbd02-d8a7-4e5d-b232-6c9e853d5f2b\", \"3\": \"d5795fba-6b5c-49df-8421-c84b7815379d\"}, \"linked_output\": \"The test meetings involved confirming the functionality and operational status of a system. Participants tested various aspects, with discussions focusing on its reliability and data-saving capabilities.\\\\n\\\\n- In the check-in on September 5, 2024, the session was informal and aimed at verifying that everything was operational[1](https://dashboard.vexa.ai/#d3a41d6a-2309-4ef3-96e3-02b7be002d7d). \\\\n- On October 16, 2024, a meeting emphasized ensuring the system\\'s operational efficiency, with participants confirming its functionality[2](https://dashboard.vexa.ai/#5b4bbd02-d8a7-4e5d-b232-6c9e853d5f2b). \\\\n- The session on October 17, 2024, concentrated on the system\\'s data-saving capabilities, where participants provided feedback and discussed further refinements needed for better performance[3](https://dashboard.vexa.ai/#d5795fba-6b5c-49df-8421-c84b7815379d).\"}'"
      ]
     },
     "execution_count": 25,
     "metadata": {},
     "output_type": "execute_result"
    }
   ],
   "source": [
    "final_result"
   ]
  },
  {
   "cell_type": "code",
   "execution_count": 26,
   "metadata": {},
   "outputs": [],
   "source": [
    "from IPython.display import Markdown"
   ]
  },
  {
   "cell_type": "code",
   "execution_count": 27,
   "metadata": {},
   "outputs": [
    {
     "data": {
      "text/plain": [
       "str"
      ]
     },
     "execution_count": 27,
     "metadata": {},
     "output_type": "execute_result"
    }
   ],
   "source": [
    "type(final_result)\n",
    "\n"
   ]
  },
  {
   "cell_type": "code",
   "execution_count": 30,
   "metadata": {},
   "outputs": [
    {
     "ename": "JSONDecodeError",
     "evalue": "Expecting value: line 1 column 1 (char 0)",
     "output_type": "error",
     "traceback": [
      "\u001b[0;31m---------------------------------------------------------------------------\u001b[0m",
      "\u001b[0;31mJSONDecodeError\u001b[0m                           Traceback (most recent call last)",
      "Cell \u001b[0;32mIn[30], line 2\u001b[0m\n\u001b[1;32m      1\u001b[0m \u001b[38;5;28;01mimport\u001b[39;00m \u001b[38;5;21;01mjson\u001b[39;00m\n\u001b[0;32m----> 2\u001b[0m \u001b[43mjson\u001b[49m\u001b[38;5;241;43m.\u001b[39;49m\u001b[43mloads\u001b[49m\u001b[43m(\u001b[49m\u001b[43mfinal_result\u001b[49m\u001b[43m)\u001b[49m\n",
      "File \u001b[0;32m~/anaconda3/envs/langchain/lib/python3.11/json/__init__.py:346\u001b[0m, in \u001b[0;36mloads\u001b[0;34m(s, cls, object_hook, parse_float, parse_int, parse_constant, object_pairs_hook, **kw)\u001b[0m\n\u001b[1;32m    341\u001b[0m     s \u001b[38;5;241m=\u001b[39m s\u001b[38;5;241m.\u001b[39mdecode(detect_encoding(s), \u001b[38;5;124m'\u001b[39m\u001b[38;5;124msurrogatepass\u001b[39m\u001b[38;5;124m'\u001b[39m)\n\u001b[1;32m    343\u001b[0m \u001b[38;5;28;01mif\u001b[39;00m (\u001b[38;5;28mcls\u001b[39m \u001b[38;5;129;01mis\u001b[39;00m \u001b[38;5;28;01mNone\u001b[39;00m \u001b[38;5;129;01mand\u001b[39;00m object_hook \u001b[38;5;129;01mis\u001b[39;00m \u001b[38;5;28;01mNone\u001b[39;00m \u001b[38;5;129;01mand\u001b[39;00m\n\u001b[1;32m    344\u001b[0m         parse_int \u001b[38;5;129;01mis\u001b[39;00m \u001b[38;5;28;01mNone\u001b[39;00m \u001b[38;5;129;01mand\u001b[39;00m parse_float \u001b[38;5;129;01mis\u001b[39;00m \u001b[38;5;28;01mNone\u001b[39;00m \u001b[38;5;129;01mand\u001b[39;00m\n\u001b[1;32m    345\u001b[0m         parse_constant \u001b[38;5;129;01mis\u001b[39;00m \u001b[38;5;28;01mNone\u001b[39;00m \u001b[38;5;129;01mand\u001b[39;00m object_pairs_hook \u001b[38;5;129;01mis\u001b[39;00m \u001b[38;5;28;01mNone\u001b[39;00m \u001b[38;5;129;01mand\u001b[39;00m \u001b[38;5;129;01mnot\u001b[39;00m kw):\n\u001b[0;32m--> 346\u001b[0m     \u001b[38;5;28;01mreturn\u001b[39;00m \u001b[43m_default_decoder\u001b[49m\u001b[38;5;241;43m.\u001b[39;49m\u001b[43mdecode\u001b[49m\u001b[43m(\u001b[49m\u001b[43ms\u001b[49m\u001b[43m)\u001b[49m\n\u001b[1;32m    347\u001b[0m \u001b[38;5;28;01mif\u001b[39;00m \u001b[38;5;28mcls\u001b[39m \u001b[38;5;129;01mis\u001b[39;00m \u001b[38;5;28;01mNone\u001b[39;00m:\n\u001b[1;32m    348\u001b[0m     \u001b[38;5;28mcls\u001b[39m \u001b[38;5;241m=\u001b[39m JSONDecoder\n",
      "File \u001b[0;32m~/anaconda3/envs/langchain/lib/python3.11/json/decoder.py:337\u001b[0m, in \u001b[0;36mJSONDecoder.decode\u001b[0;34m(self, s, _w)\u001b[0m\n\u001b[1;32m    332\u001b[0m \u001b[38;5;28;01mdef\u001b[39;00m \u001b[38;5;21mdecode\u001b[39m(\u001b[38;5;28mself\u001b[39m, s, _w\u001b[38;5;241m=\u001b[39mWHITESPACE\u001b[38;5;241m.\u001b[39mmatch):\n\u001b[1;32m    333\u001b[0m     \u001b[38;5;124;03m\"\"\"Return the Python representation of ``s`` (a ``str`` instance\u001b[39;00m\n\u001b[1;32m    334\u001b[0m \u001b[38;5;124;03m    containing a JSON document).\u001b[39;00m\n\u001b[1;32m    335\u001b[0m \n\u001b[1;32m    336\u001b[0m \u001b[38;5;124;03m    \"\"\"\u001b[39;00m\n\u001b[0;32m--> 337\u001b[0m     obj, end \u001b[38;5;241m=\u001b[39m \u001b[38;5;28;43mself\u001b[39;49m\u001b[38;5;241;43m.\u001b[39;49m\u001b[43mraw_decode\u001b[49m\u001b[43m(\u001b[49m\u001b[43ms\u001b[49m\u001b[43m,\u001b[49m\u001b[43m \u001b[49m\u001b[43midx\u001b[49m\u001b[38;5;241;43m=\u001b[39;49m\u001b[43m_w\u001b[49m\u001b[43m(\u001b[49m\u001b[43ms\u001b[49m\u001b[43m,\u001b[49m\u001b[43m \u001b[49m\u001b[38;5;241;43m0\u001b[39;49m\u001b[43m)\u001b[49m\u001b[38;5;241;43m.\u001b[39;49m\u001b[43mend\u001b[49m\u001b[43m(\u001b[49m\u001b[43m)\u001b[49m\u001b[43m)\u001b[49m\n\u001b[1;32m    338\u001b[0m     end \u001b[38;5;241m=\u001b[39m _w(s, end)\u001b[38;5;241m.\u001b[39mend()\n\u001b[1;32m    339\u001b[0m     \u001b[38;5;28;01mif\u001b[39;00m end \u001b[38;5;241m!=\u001b[39m \u001b[38;5;28mlen\u001b[39m(s):\n",
      "File \u001b[0;32m~/anaconda3/envs/langchain/lib/python3.11/json/decoder.py:355\u001b[0m, in \u001b[0;36mJSONDecoder.raw_decode\u001b[0;34m(self, s, idx)\u001b[0m\n\u001b[1;32m    353\u001b[0m     obj, end \u001b[38;5;241m=\u001b[39m \u001b[38;5;28mself\u001b[39m\u001b[38;5;241m.\u001b[39mscan_once(s, idx)\n\u001b[1;32m    354\u001b[0m \u001b[38;5;28;01mexcept\u001b[39;00m \u001b[38;5;167;01mStopIteration\u001b[39;00m \u001b[38;5;28;01mas\u001b[39;00m err:\n\u001b[0;32m--> 355\u001b[0m     \u001b[38;5;28;01mraise\u001b[39;00m JSONDecodeError(\u001b[38;5;124m\"\u001b[39m\u001b[38;5;124mExpecting value\u001b[39m\u001b[38;5;124m\"\u001b[39m, s, err\u001b[38;5;241m.\u001b[39mvalue) \u001b[38;5;28;01mfrom\u001b[39;00m \u001b[38;5;28mNone\u001b[39m\n\u001b[1;32m    356\u001b[0m \u001b[38;5;28;01mreturn\u001b[39;00m obj, end\n",
      "\u001b[0;31mJSONDecodeError\u001b[0m: Expecting value: line 1 column 1 (char 0)"
     ]
    }
   ],
   "source": [
    "import json\n",
    "json.loads(final_result)\n"
   ]
  },
  {
   "cell_type": "code",
   "execution_count": 29,
   "metadata": {},
   "outputs": [
    {
     "data": {
      "text/plain": [
       "'The test meetings involved confirming the functionality and operational status of a system. Participants tested various aspects, with discussions focusing on its reliability and data-saving capabilities.- In the check-in on September 5, 2024, the session was informal and aimed at verifying that everything was operational[1]. - On October 16, 2024, a meeting emphasized ensuring the system\\'s operational efficiency, with participants confirming its functionality[2]. - The session on October 17, 2024, concentrated on the system\\'s data-saving capabilities, where participants provided feedback and discussed further refinements needed for better performance[3].{\"output\": \"The test meetings involved confirming the functionality and operational status of a system. Participants tested various aspects, with discussions focusing on its reliability and data-saving capabilities.\\\\n\\\\n- In the check-in on September 5, 2024, the session was informal and aimed at verifying that everything was operational[1]. \\\\n- On October 16, 2024, a meeting emphasized ensuring the system\\'s operational efficiency, with participants confirming its functionality[2]. \\\\n- The session on October 17, 2024, concentrated on the system\\'s data-saving capabilities, where participants provided feedback and discussed further refinements needed for better performance[3].\", \"messages\": [{\"role\": \"user\", \"content\": \"test\", \"stage\": null}, {\"role\": \"assistant\", \"content\": \"The test meetings involved confirming the functionality and operational status of a system. Participants tested various aspects, with discussions focusing on its reliability and data-saving capabilities.\\\\n\\\\n- In the check-in on September 5, 2024, the session was informal and aimed at verifying that everything was operational[1]. \\\\n- On October 16, 2024, a meeting emphasized ensuring the system\\'s operational efficiency, with participants confirming its functionality[2]. \\\\n- The session on October 17, 2024, concentrated on the system\\'s data-saving capabilities, where participants provided feedback and discussed further refinements needed for better performance[3].\", \"stage\": null}], \"meeting_ids\": [\"d3a41d6a-2309-4ef3-96e3-02b7be002d7d\", \"5b4bbd02-d8a7-4e5d-b232-6c9e853d5f2b\", \"d5795fba-6b5c-49df-8421-c84b7815379d\"], \"full_context\": \"# [1] Functionality Testing Check-in (2024-09-05 19:25):\\\\nThe meeting was a brief check-in to confirm the functionality of a system, with participants testing and confirming that everything is operational. The tone was informal, indicating a casual testing session.\\\\n## Related Quotes:\\\\n:  \\\\u0442\\\\u0435\\\\u0441\\\\u0442 \\\\u0442\\\\u0435\\\\u0441\\\\u0442\\\\u0438\\\\u0440\\\\u0443\\\\u0435\\\\u043c \\\\u0447\\\\u0442\\\\u043e \\\\u043f\\\\u0440\\\\u043e\\\\u0438\\\\u0441\\\\u0445\\\\u043e\\\\u0434\\\\u0438\\\\u0442 \\\\u0440\\\\u0430\\\\u0431\\\\u043e\\\\u0442\\\\u0430\\\\u0435\\\\u0442 \\\\u043d\\\\u0435 \\\\u0440\\\\u0430\\\\u0431\\\\u043e\\\\u0442\\\\u0430\\\\u0435\\\\u0442 \\\\u0432\\\\u0435\\\\u043a \\\\u0441\\\\u0430\\\\u043c :  Thank you.\\\\n\\\\n---\\\\n\\\\n# [2] System Testing Session (2024-10-16 12:56):\\\\nThe meeting involved testing the functionality of a system, with participants confirming the system\\'s operational status. Key focus was on ensuring the system works as intended.\\\\n## Related Quotes:\\\\n:  \\\\u0442\\\\u0435\\\\u0441\\\\u0442\\\\u0438\\\\u0440\\\\u0443\\\\u044e \\\\u0440\\\\u0430\\\\u0431\\\\u043e\\\\u0442\\\\u044b \\\\u0441\\\\u0438\\\\u0441\\\\u0442\\\\u0435\\\\u043c\\\\u044b \\\\u0442\\\\u0435\\\\u0441\\\\u0442\\\\u0438\\\\u0440\\\\u0443\\\\u044e \\\\u0440\\\\u0430\\\\u0431\\\\u043e\\\\u0442\\\\u0443 \\\\u0441\\\\u0438\\\\u0441\\\\u0442\\\\u0435\\\\u043c\\\\u044b\\\\n:  \\\\u0422\\\\u0435\\\\u0441\\\\u0442\\\\u0438\\\\u0440\\\\u043e\\\\u0432\\\\u0430\\\\u043b \\\\u0440\\\\u0430\\\\u0431\\\\u043e\\\\u0442\\\\u0443 \\\\u0441\\\\u0438\\\\u0441\\\\u0442\\\\u0435\\\\u043c\\\\u044b.\\\\n\\\\n---\\\\n\\\\n# [3] System Functionality Testing Session (2024-10-17 15:43):\\\\nThe meeting focused on testing a system\\'s functionality, specifically its data saving capabilities. Participants discussed the system\\'s performance, confirming that it is currently operational but requires further refinement. The conversation included various testing phrases and feedback on the system\\'s reliability.\\\\n## Related Quotes:\\\\n:  \\\\u0422\\\\u0435\\\\u0441\\\\u0442\\\\u0438\\\\u0440\\\\u0443\\\\u0435\\\\u043c, \\\\u0447\\\\u0442\\\\u043e \\\\u043f\\\\u0440\\\\u043e\\\\u0438\\\\u0441\\\\u0445\\\\u043e\\\\u0434\\\\u0438\\\\u0442, \\\\u0442\\\\u0435\\\\u0441\\\\u0442\\\\u0438\\\\u0440\\\\u0443\\\\u0435\\\\u043c, \\\\u0447\\\\u0442\\\\u043e \\\\u043f\\\\u0440\\\\u043e\\\\u0438\\\\u0441\\\\u0445\\\\u043e\\\\u0434\\\\u0438\\\\u0442, :  \\\\u041a\\\\u0430\\\\u043a \\\\u0440\\\\u0430\\\\u0431\\\\u043e\\\\u0442\\\\u0430\\\\u0435\\\\u0442 \\\\u0438\\\\u043b\\\\u0438 \\\\u043d\\\\u0435 \\\\u0440\\\\u0430\\\\u0431\\\\u043e\\\\u0442\\\\u0430\\\\u0435\\\\u0442. :  \\\\u0417\\\\u0434\\\\u0435\\\\u0441\\\\u044c \\\\u043f\\\\u043e\\\\u043a\\\\u0430 \\\\u043d\\\\u0438\\\\u0447\\\\u0435\\\\u0433\\\\u043e \\\\u043d\\\\u0435\\\\u0442\\\\u0443, \\\\u0437\\\\u0434\\\\u0435\\\\u0441\\\\u044c Stop Length \\\\u0435\\\\u0441\\\\u0442\\\\u044c. :  \\\\u0422\\\\u0435\\\\u043f\\\\u0435\\\\u0440\\\\u044c \\\\u043c\\\\u044b \\\\u0445\\\\u043e\\\\u0442\\\\u0438\\\\u043c \\\\u043f\\\\u043e\\\\u043d\\\\u044f\\\\u0442\\\\u044c, \\\\u043a\\\\u0430\\\\u043a \\\\u043e\\\\u043d \\\\u0431\\\\u0443\\\\u0434\\\\u0435\\\\u0442 \\\\u0441\\\\u043e\\\\u0445\\\\u0440\\\\u0430\\\\u043d\\\\u044f\\\\u0442\\\\u044c \\\\u0438\\\\u043b\\\\u0438 \\\\u043d\\\\u0435 \\\\u0431\\\\u0443\\\\u0434\\\\u0435\\\\u0442 \\\\u0441\\\\u043e\\\\u0445\\\\u0440\\\\u0430\\\\u043d\\\\u044f\\\\u0442\\\\u044c. :  \\\\u0447\\\\u0442\\\\u043e-\\\\u0442\\\\u043e \\\\u043f\\\\u0440\\\\u043e\\\\u0438\\\\u0441\\\\u0445\\\\u043e\\\\u0434\\\\u0438\\\\u0442 \\\\u043d\\\\u043e \\\\u043d\\\\u0435 \\\\u0437\\\\u0430\\\\u0444\\\\u0438\\\\u043a\\\\u0441\\\\u0438\\\\u0440\\\\u043e\\\\u0432\\\\u0430\\\\u0442\\\\u044c :  \\\\u0421\\\\u043e\\\\u0445\\\\u0440\\\\u0430\\\\u043d\\\\u044f\\\\u0435\\\\u0442\\\\u0441\\\\u044f \\\\u0438\\\\u043b\\\\u0438 \\\\u043d\\\\u0435 \\\\u0441\\\\u043e\\\\u0445\\\\u0440\\\\u0430\\\\u043d\\\\u044f\\\\u0435\\\\u0442\\\\u0441\\\\u044f? :  Mm-hmm. :  1 \\\\u043c\\\\u0438\\\\u043d\\\\u0443\\\\u0442\\\\u0430 39 \\\\u0441\\\\u0435\\\\u043a\\\\u0443\\\\u043d\\\\u0434. \\\\u0422\\\\u0435\\\\u0441\\\\u0442\\\\u0438\\\\u0440\\\\u0443\\\\u0435\\\\u043c, \\\\u0447\\\\u0442\\\\u043e \\\\u043f\\\\u0440\\\\u043e\\\\u0438\\\\u0441\\\\u0445\\\\u043e\\\\u0434\\\\u0438\\\\u0442. \\\\u0414\\\\u0430\\\\u0432\\\\u0430\\\\u0439 \\\\u0434\\\\u043e\\\\u0436\\\\u0434\\\\u0435\\\\u043c\\\\u0441\\\\u044f. :  Thank you. :  \\\\u043f\\\\u043e\\\\u043a\\\\u0430 \\\\u043d\\\\u0435 \\\\u0442\\\\u0435\\\\u0440\\\\u044f\\\\u0435\\\\u0442\\\\u0441\\\\u044f \\\\u0445\\\\u043e\\\\u0440\\\\u043e\\\\u0448\\\\u043e \\\\u043f\\\\u043e\\\\u043a\\\\u0430 \\\\u043d\\\\u0435 \\\\u0442\\\\u0435\\\\u0440\\\\u044f\\\\u0435\\\\u0442\\\\u0441\\\\u044f :  \\\\u0420\\\\u0430\\\\u0431\\\\u043e\\\\u0442\\\\u0430\\\\u0435\\\\u0442.\\\\n\\\\n---\\\\n\", \"thread_id\": \"c8cd3f3b-23be-42d3-adbb-201ada3849b3\", \"thread_name\": \"test\", \"indexed_meetings\": {\"1\": \"d3a41d6a-2309-4ef3-96e3-02b7be002d7d\", \"2\": \"5b4bbd02-d8a7-4e5d-b232-6c9e853d5f2b\", \"3\": \"d5795fba-6b5c-49df-8421-c84b7815379d\"}, \"linked_output\": \"The test meetings involved confirming the functionality and operational status of a system. Participants tested various aspects, with discussions focusing on its reliability and data-saving capabilities.\\\\n\\\\n- In the check-in on September 5, 2024, the session was informal and aimed at verifying that everything was operational[1](https://dashboard.vexa.ai/#d3a41d6a-2309-4ef3-96e3-02b7be002d7d). \\\\n- On October 16, 2024, a meeting emphasized ensuring the system\\'s operational efficiency, with participants confirming its functionality[2](https://dashboard.vexa.ai/#5b4bbd02-d8a7-4e5d-b232-6c9e853d5f2b). \\\\n- The session on October 17, 2024, concentrated on the system\\'s data-saving capabilities, where participants provided feedback and discussed further refinements needed for better performance[3](https://dashboard.vexa.ai/#d5795fba-6b5c-49df-8421-c84b7815379d).\"}'"
      ]
     },
     "execution_count": 29,
     "metadata": {},
     "output_type": "execute_result"
    }
   ],
   "source": [
    "final_result"
   ]
  },
  {
   "cell_type": "code",
   "execution_count": 28,
   "metadata": {},
   "outputs": [
    {
     "data": {
      "text/markdown": [
       "The test meetings involved confirming the functionality and operational status of a system. Participants tested various aspects, with discussions focusing on its reliability and data-saving capabilities.- In the check-in on September 5, 2024, the session was informal and aimed at verifying that everything was operational[1]. - On October 16, 2024, a meeting emphasized ensuring the system's operational efficiency, with participants confirming its functionality[2]. - The session on October 17, 2024, concentrated on the system's data-saving capabilities, where participants provided feedback and discussed further refinements needed for better performance[3].{\"output\": \"The test meetings involved confirming the functionality and operational status of a system. Participants tested various aspects, with discussions focusing on its reliability and data-saving capabilities.\\n\\n- In the check-in on September 5, 2024, the session was informal and aimed at verifying that everything was operational[1]. \\n- On October 16, 2024, a meeting emphasized ensuring the system's operational efficiency, with participants confirming its functionality[2]. \\n- The session on October 17, 2024, concentrated on the system's data-saving capabilities, where participants provided feedback and discussed further refinements needed for better performance[3].\", \"messages\": [{\"role\": \"user\", \"content\": \"test\", \"stage\": null}, {\"role\": \"assistant\", \"content\": \"The test meetings involved confirming the functionality and operational status of a system. Participants tested various aspects, with discussions focusing on its reliability and data-saving capabilities.\\n\\n- In the check-in on September 5, 2024, the session was informal and aimed at verifying that everything was operational[1]. \\n- On October 16, 2024, a meeting emphasized ensuring the system's operational efficiency, with participants confirming its functionality[2]. \\n- The session on October 17, 2024, concentrated on the system's data-saving capabilities, where participants provided feedback and discussed further refinements needed for better performance[3].\", \"stage\": null}], \"meeting_ids\": [\"d3a41d6a-2309-4ef3-96e3-02b7be002d7d\", \"5b4bbd02-d8a7-4e5d-b232-6c9e853d5f2b\", \"d5795fba-6b5c-49df-8421-c84b7815379d\"], \"full_context\": \"# [1] Functionality Testing Check-in (2024-09-05 19:25):\\nThe meeting was a brief check-in to confirm the functionality of a system, with participants testing and confirming that everything is operational. The tone was informal, indicating a casual testing session.\\n## Related Quotes:\\n:  \\u0442\\u0435\\u0441\\u0442 \\u0442\\u0435\\u0441\\u0442\\u0438\\u0440\\u0443\\u0435\\u043c \\u0447\\u0442\\u043e \\u043f\\u0440\\u043e\\u0438\\u0441\\u0445\\u043e\\u0434\\u0438\\u0442 \\u0440\\u0430\\u0431\\u043e\\u0442\\u0430\\u0435\\u0442 \\u043d\\u0435 \\u0440\\u0430\\u0431\\u043e\\u0442\\u0430\\u0435\\u0442 \\u0432\\u0435\\u043a \\u0441\\u0430\\u043c :  Thank you.\\n\\n---\\n\\n# [2] System Testing Session (2024-10-16 12:56):\\nThe meeting involved testing the functionality of a system, with participants confirming the system's operational status. Key focus was on ensuring the system works as intended.\\n## Related Quotes:\\n:  \\u0442\\u0435\\u0441\\u0442\\u0438\\u0440\\u0443\\u044e \\u0440\\u0430\\u0431\\u043e\\u0442\\u044b \\u0441\\u0438\\u0441\\u0442\\u0435\\u043c\\u044b \\u0442\\u0435\\u0441\\u0442\\u0438\\u0440\\u0443\\u044e \\u0440\\u0430\\u0431\\u043e\\u0442\\u0443 \\u0441\\u0438\\u0441\\u0442\\u0435\\u043c\\u044b\\n:  \\u0422\\u0435\\u0441\\u0442\\u0438\\u0440\\u043e\\u0432\\u0430\\u043b \\u0440\\u0430\\u0431\\u043e\\u0442\\u0443 \\u0441\\u0438\\u0441\\u0442\\u0435\\u043c\\u044b.\\n\\n---\\n\\n# [3] System Functionality Testing Session (2024-10-17 15:43):\\nThe meeting focused on testing a system's functionality, specifically its data saving capabilities. Participants discussed the system's performance, confirming that it is currently operational but requires further refinement. The conversation included various testing phrases and feedback on the system's reliability.\\n## Related Quotes:\\n:  \\u0422\\u0435\\u0441\\u0442\\u0438\\u0440\\u0443\\u0435\\u043c, \\u0447\\u0442\\u043e \\u043f\\u0440\\u043e\\u0438\\u0441\\u0445\\u043e\\u0434\\u0438\\u0442, \\u0442\\u0435\\u0441\\u0442\\u0438\\u0440\\u0443\\u0435\\u043c, \\u0447\\u0442\\u043e \\u043f\\u0440\\u043e\\u0438\\u0441\\u0445\\u043e\\u0434\\u0438\\u0442, :  \\u041a\\u0430\\u043a \\u0440\\u0430\\u0431\\u043e\\u0442\\u0430\\u0435\\u0442 \\u0438\\u043b\\u0438 \\u043d\\u0435 \\u0440\\u0430\\u0431\\u043e\\u0442\\u0430\\u0435\\u0442. :  \\u0417\\u0434\\u0435\\u0441\\u044c \\u043f\\u043e\\u043a\\u0430 \\u043d\\u0438\\u0447\\u0435\\u0433\\u043e \\u043d\\u0435\\u0442\\u0443, \\u0437\\u0434\\u0435\\u0441\\u044c Stop Length \\u0435\\u0441\\u0442\\u044c. :  \\u0422\\u0435\\u043f\\u0435\\u0440\\u044c \\u043c\\u044b \\u0445\\u043e\\u0442\\u0438\\u043c \\u043f\\u043e\\u043d\\u044f\\u0442\\u044c, \\u043a\\u0430\\u043a \\u043e\\u043d \\u0431\\u0443\\u0434\\u0435\\u0442 \\u0441\\u043e\\u0445\\u0440\\u0430\\u043d\\u044f\\u0442\\u044c \\u0438\\u043b\\u0438 \\u043d\\u0435 \\u0431\\u0443\\u0434\\u0435\\u0442 \\u0441\\u043e\\u0445\\u0440\\u0430\\u043d\\u044f\\u0442\\u044c. :  \\u0447\\u0442\\u043e-\\u0442\\u043e \\u043f\\u0440\\u043e\\u0438\\u0441\\u0445\\u043e\\u0434\\u0438\\u0442 \\u043d\\u043e \\u043d\\u0435 \\u0437\\u0430\\u0444\\u0438\\u043a\\u0441\\u0438\\u0440\\u043e\\u0432\\u0430\\u0442\\u044c :  \\u0421\\u043e\\u0445\\u0440\\u0430\\u043d\\u044f\\u0435\\u0442\\u0441\\u044f \\u0438\\u043b\\u0438 \\u043d\\u0435 \\u0441\\u043e\\u0445\\u0440\\u0430\\u043d\\u044f\\u0435\\u0442\\u0441\\u044f? :  Mm-hmm. :  1 \\u043c\\u0438\\u043d\\u0443\\u0442\\u0430 39 \\u0441\\u0435\\u043a\\u0443\\u043d\\u0434. \\u0422\\u0435\\u0441\\u0442\\u0438\\u0440\\u0443\\u0435\\u043c, \\u0447\\u0442\\u043e \\u043f\\u0440\\u043e\\u0438\\u0441\\u0445\\u043e\\u0434\\u0438\\u0442. \\u0414\\u0430\\u0432\\u0430\\u0439 \\u0434\\u043e\\u0436\\u0434\\u0435\\u043c\\u0441\\u044f. :  Thank you. :  \\u043f\\u043e\\u043a\\u0430 \\u043d\\u0435 \\u0442\\u0435\\u0440\\u044f\\u0435\\u0442\\u0441\\u044f \\u0445\\u043e\\u0440\\u043e\\u0448\\u043e \\u043f\\u043e\\u043a\\u0430 \\u043d\\u0435 \\u0442\\u0435\\u0440\\u044f\\u0435\\u0442\\u0441\\u044f :  \\u0420\\u0430\\u0431\\u043e\\u0442\\u0430\\u0435\\u0442.\\n\\n---\\n\", \"thread_id\": \"c8cd3f3b-23be-42d3-adbb-201ada3849b3\", \"thread_name\": \"test\", \"indexed_meetings\": {\"1\": \"d3a41d6a-2309-4ef3-96e3-02b7be002d7d\", \"2\": \"5b4bbd02-d8a7-4e5d-b232-6c9e853d5f2b\", \"3\": \"d5795fba-6b5c-49df-8421-c84b7815379d\"}, \"linked_output\": \"The test meetings involved confirming the functionality and operational status of a system. Participants tested various aspects, with discussions focusing on its reliability and data-saving capabilities.\\n\\n- In the check-in on September 5, 2024, the session was informal and aimed at verifying that everything was operational[1](https://dashboard.vexa.ai/#d3a41d6a-2309-4ef3-96e3-02b7be002d7d). \\n- On October 16, 2024, a meeting emphasized ensuring the system's operational efficiency, with participants confirming its functionality[2](https://dashboard.vexa.ai/#5b4bbd02-d8a7-4e5d-b232-6c9e853d5f2b). \\n- The session on October 17, 2024, concentrated on the system's data-saving capabilities, where participants provided feedback and discussed further refinements needed for better performance[3](https://dashboard.vexa.ai/#d5795fba-6b5c-49df-8421-c84b7815379d).\"}"
      ],
      "text/plain": [
       "<IPython.core.display.Markdown object>"
      ]
     },
     "execution_count": 28,
     "metadata": {},
     "output_type": "execute_result"
    }
   ],
   "source": [
    "Markdown(final_result)"
   ]
  },
  {
   "cell_type": "code",
   "execution_count": null,
   "metadata": {},
   "outputs": [],
   "source": []
  }
 ],
 "metadata": {
  "kernelspec": {
   "display_name": "langchain",
   "language": "python",
   "name": "langchain"
  },
  "language_info": {
   "codemirror_mode": {
    "name": "ipython",
    "version": 3
   },
   "file_extension": ".py",
   "mimetype": "text/x-python",
   "name": "python",
   "nbconvert_exporter": "python",
   "pygments_lexer": "ipython3",
   "version": "3.11.2"
  }
 },
 "nbformat": 4,
 "nbformat_minor": 2
}
