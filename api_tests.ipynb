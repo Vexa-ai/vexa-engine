{
 "cells": [
  {
   "cell_type": "code",
   "execution_count": 4,
   "metadata": {},
   "outputs": [
    {
     "name": "stdout",
     "output_type": "stream",
     "text": [
      "Vexa token: 3ae04e20124d40babc5107e658c666b6\n",
      "User information retrieved successfully.\n"
     ]
    }
   ],
   "source": [
    "import requests\n",
    "import json\n",
    "from datetime import datetime\n",
    "from typing import Optional, List, Dict, Any, Generator\n",
    "\n",
    "\n",
    "from vexa import VexaAPI\n",
    "vexa = VexaAPI()\n",
    "await vexa.get_user_info()\n",
    "\n",
    "BASE_URL = \"http://localhost:8765\"\n",
    "headers = {\"Authorization\": f\"Bearer {vexa.token}\", \"Content-Type\": \"application/json\"}\n",
    "\n",
    "def submit_token(token: str) -> Dict:\n",
    "    return requests.post(f\"{BASE_URL}/submit_token\", json={\"token\": token}).json()\n",
    "\n",
    "def chat(query: str, thread_id: Optional[str] = None, model: str = \"gpt-4\", temperature: float = 0.7) -> Generator:\n",
    "    response = requests.post(f\"{BASE_URL}/chat\", headers=headers, json={\n",
    "        \"query\": query, \"thread_id\": thread_id, \"model\": model, \"temperature\": temperature\n",
    "    }, stream=True)\n",
    "    return (json.loads(line.decode('utf-8').replace('data: ', '')) for line in response.iter_lines() if line)\n",
    "\n",
    "def global_search(query: str, limit: int = 200, min_score: float = 0.4) -> Dict:\n",
    "    return requests.post(f\"{BASE_URL}/search/global\", headers=headers, \n",
    "        json={\"query\": query, \"limit\": limit, \"min_score\": min_score}).json()\n",
    "\n",
    "def search_transcripts(query: str, meeting_ids: Optional[List[str]] = None, min_score: float = 0.8) -> Dict:\n",
    "    return requests.post(f\"{BASE_URL}/search/transcripts\", headers=headers,\n",
    "        json={\"query\": query, \"meeting_ids\": meeting_ids, \"min_score\": min_score}).json()\n",
    "\n",
    "def get_meetings(offset: int = 0, limit: int = 50) -> Dict:\n",
    "    return requests.get(f\"{BASE_URL}/meetings/all\", headers=headers, \n",
    "        params={\"offset\": offset, \"limit\": limit}).json()\n",
    "\n",
    "def get_meeting_details(meeting_id: str) -> Dict:\n",
    "    return requests.get(f\"{BASE_URL}/meeting/{meeting_id}/details\", headers=headers).json()\n",
    "\n",
    "def create_share_link(target_email: str, access_level: str = \"READ\", \n",
    "                     expiration_hours: int = 24, include_existing: bool = True) -> Dict:\n",
    "    return requests.post(f\"{BASE_URL}/share-links\", headers=headers, json={\n",
    "        \"access_level\": access_level, \"target_email\": target_email,\n",
    "        \"expiration_hours\": expiration_hours, \"include_existing_meetings\": include_existing\n",
    "    }).json()\n",
    "\n",
    "def accept_share_link(token: str, accepting_email: str) -> Dict:\n",
    "    return requests.post(f\"{BASE_URL}/share-links/accept\", headers=headers,\n",
    "        json={\"token\": token, \"accepting_email\": accepting_email}).json()\n",
    "\n",
    "def start_indexing(num_meetings: int = 200) -> Dict:\n",
    "    return requests.post(f\"{BASE_URL}/start_indexing\", headers=headers,\n",
    "        json={\"num_meetings\": num_meetings}).json()\n",
    "\n",
    "def get_indexing_status() -> Dict:\n",
    "    return requests.get(f\"{BASE_URL}/indexing_status\", headers=headers).json()\n"
   ]
  },
  {
   "cell_type": "code",
   "execution_count": 5,
   "metadata": {},
   "outputs": [
    {
     "data": {
      "text/plain": [
       "{'total': 0, 'meetings': []}"
      ]
     },
     "execution_count": 5,
     "metadata": {},
     "output_type": "execute_result"
    }
   ],
   "source": [
    "get_meetings()"
   ]
  },
  {
   "cell_type": "code",
   "execution_count": 28,
   "metadata": {},
   "outputs": [],
   "source": [
    "from psql_helpers import get_session\n",
    "from psql_models import Meeting, UserMeeting, Speaker, DiscussionPoint, AccessLevel,User\n",
    "from sqlalchemy import select, and_, func,distinct"
   ]
  },
  {
   "cell_type": "code",
   "execution_count": 10,
   "metadata": {},
   "outputs": [],
   "source": [
    "limit=None\n",
    "offset=0\n"
   ]
  },
  {
   "cell_type": "code",
   "execution_count": 13,
   "metadata": {},
   "outputs": [],
   "source": [
    "user_id = vexa.user_id"
   ]
  },
  {
   "cell_type": "code",
   "execution_count": 14,
   "metadata": {},
   "outputs": [],
   "source": [
    "async with get_session() as session:\n",
    "    # Build base query\n",
    "    query = (\n",
    "        select(\n",
    "            Meeting.meeting_id,\n",
    "            Meeting.meeting_name,\n",
    "            Meeting.timestamp,\n",
    "            func.array_agg(distinct(Speaker.name)).label('speakers')\n",
    "        )\n",
    "        .join(UserMeeting, Meeting.meeting_id == UserMeeting.meeting_id)\n",
    "        .join(DiscussionPoint, Meeting.meeting_id == DiscussionPoint.meeting_id)\n",
    "        .join(Speaker, DiscussionPoint.speaker_id == Speaker.id)\n",
    "        .where(\n",
    "            and_(\n",
    "                UserMeeting.user_id == user_id,\n",
    "                UserMeeting.access_level != AccessLevel.REMOVED.value\n",
    "            )\n",
    "        )\n",
    "        .group_by(Meeting.meeting_id, Meeting.meeting_name, Meeting.timestamp)\n",
    "        .order_by(Meeting.timestamp.desc())\n",
    "    )\n",
    "    \n",
    "    # Add limit and offset if provided\n",
    "    if limit is not None:\n",
    "        query = query.limit(limit)\n",
    "    if offset:\n",
    "        query = query.offset(offset)\n",
    "\n",
    "    # Execute query\n",
    "    result = await session.execute(query)\n",
    "    meetings = result.all()"
   ]
  },
  {
   "cell_type": "code",
   "execution_count": 15,
   "metadata": {},
   "outputs": [
    {
     "data": {
      "text/plain": [
       "[]"
      ]
     },
     "execution_count": 15,
     "metadata": {},
     "output_type": "execute_result"
    }
   ],
   "source": [
    "meetings\n"
   ]
  },
  {
   "cell_type": "code",
   "execution_count": 29,
   "metadata": {},
   "outputs": [],
   "source": [
    "from psql_helpers import read_table_async"
   ]
  },
  {
   "cell_type": "code",
   "execution_count": 30,
   "metadata": {},
   "outputs": [
    {
     "data": {
      "text/plain": [
       "'ef7c085b-fdb5-4c94-b7b6-a61a3d04c210'"
      ]
     },
     "execution_count": 30,
     "metadata": {},
     "output_type": "execute_result"
    }
   ],
   "source": [
    "user_id"
   ]
  },
  {
   "cell_type": "code",
   "execution_count": 33,
   "metadata": {},
   "outputs": [
    {
     "ename": "AttributeError",
     "evalue": "type object 'UserMeeting' has no attribute 'join'",
     "output_type": "error",
     "traceback": [
      "\u001b[0;31m---------------------------------------------------------------------------\u001b[0m",
      "\u001b[0;31mAttributeError\u001b[0m                            Traceback (most recent call last)",
      "Cell \u001b[0;32mIn[33], line 1\u001b[0m\n\u001b[0;32m----> 1\u001b[0m q \u001b[38;5;241m=\u001b[39m (\u001b[43mUserMeeting\u001b[49m\u001b[38;5;241;43m.\u001b[39;49m\u001b[43mjoin\u001b[49m(User))\n",
      "\u001b[0;31mAttributeError\u001b[0m: type object 'UserMeeting' has no attribute 'join'"
     ]
    }
   ],
   "source": [
    "q = (UserMeeting.join(User))"
   ]
  },
  {
   "cell_type": "code",
   "execution_count": 20,
   "metadata": {},
   "outputs": [
    {
     "data": {
      "text/html": [
       "<div>\n",
       "<style scoped>\n",
       "    .dataframe tbody tr th:only-of-type {\n",
       "        vertical-align: middle;\n",
       "    }\n",
       "\n",
       "    .dataframe tbody tr th {\n",
       "        vertical-align: top;\n",
       "    }\n",
       "\n",
       "    .dataframe thead th {\n",
       "        text-align: right;\n",
       "    }\n",
       "</style>\n",
       "<table border=\"1\" class=\"dataframe\">\n",
       "  <thead>\n",
       "    <tr style=\"text-align: right;\">\n",
       "      <th></th>\n",
       "      <th>id</th>\n",
       "      <th>meeting_id</th>\n",
       "      <th>user_id</th>\n",
       "      <th>access_level</th>\n",
       "      <th>created_at</th>\n",
       "      <th>created_by</th>\n",
       "      <th>is_owner</th>\n",
       "    </tr>\n",
       "  </thead>\n",
       "  <tbody>\n",
       "    <tr>\n",
       "      <th>0</th>\n",
       "      <td>1</td>\n",
       "      <td>842afeb6-ab24-4a2c-87f2-49a7a1456e12</td>\n",
       "      <td>None</td>\n",
       "      <td>owner</td>\n",
       "      <td>2024-11-06 08:17:02.812937+00:00</td>\n",
       "      <td>None</td>\n",
       "      <td>True</td>\n",
       "    </tr>\n",
       "  </tbody>\n",
       "</table>\n",
       "</div>"
      ],
      "text/plain": [
       "   id                            meeting_id user_id access_level  \\\n",
       "0   1  842afeb6-ab24-4a2c-87f2-49a7a1456e12    None        owner   \n",
       "\n",
       "                        created_at created_by  is_owner  \n",
       "0 2024-11-06 08:17:02.812937+00:00       None      True  "
      ]
     },
     "execution_count": 20,
     "metadata": {},
     "output_type": "execute_result"
    }
   ],
   "source": [
    "await read_table_async(UserMeeting)"
   ]
  },
  {
   "cell_type": "code",
   "execution_count": null,
   "metadata": {},
   "outputs": [],
   "source": []
  }
 ],
 "metadata": {
  "kernelspec": {
   "display_name": "langchain",
   "language": "python",
   "name": "python3"
  },
  "language_info": {
   "codemirror_mode": {
    "name": "ipython",
    "version": 3
   },
   "file_extension": ".py",
   "mimetype": "text/x-python",
   "name": "python",
   "nbconvert_exporter": "python",
   "pygments_lexer": "ipython3",
   "version": "3.11.2"
  }
 },
 "nbformat": 4,
 "nbformat_minor": 2
}
