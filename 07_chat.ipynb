{
 "cells": [
  {
   "cell_type": "code",
   "execution_count": 1,
   "metadata": {},
   "outputs": [],
   "source": [
    "%load_ext autoreload\n",
    "%autoreload 2"
   ]
  },
  {
   "cell_type": "code",
   "execution_count": 2,
   "metadata": {},
   "outputs": [],
   "source": [
    "import sys\n",
    "sys.path.append('/app')"
   ]
  },
  {
   "cell_type": "code",
   "execution_count": 3,
   "metadata": {},
   "outputs": [],
   "source": [
    "from vexa import VexaAuth, VexaAPI\n",
    "from chat import UnifiedChatManager, UnifiedContextProvider\n",
    "from qdrant_search import QdrantSearchEngine\n",
    "from bm25_search import ElasticsearchBM25\n",
    "from helpers import jupyter_stream_output\n",
    "from uuid import UUID\n",
    "from typing import Optional, List"
   ]
  },
  {
   "cell_type": "code",
   "execution_count": 4,
   "metadata": {},
   "outputs": [
    {
     "name": "stdout",
     "output_type": "stream",
     "text": [
      "Vexa token: 3ae04e20124d40babc5107e658c666b6\n",
      "User information retrieved successfully.\n"
     ]
    }
   ],
   "source": [
    "auth = VexaAuth()\n",
    "vexa = VexaAPI()\n",
    "user_id = (await vexa.get_user_info())['id']\n",
    "\n",
    "# Initialize search engines"
   ]
  },
  {
   "cell_type": "code",
   "execution_count": 5,
   "metadata": {},
   "outputs": [],
   "source": [
    "import os\n",
    "voyage_apikey = os.getenv('VOYAGE_API_KEY')"
   ]
  },
  {
   "cell_type": "code",
   "execution_count": 6,
   "metadata": {},
   "outputs": [],
   "source": [
    "from chat import UnifiedContextProvider\n",
    "from chat import UnifiedChatManager"
   ]
  },
  {
   "cell_type": "code",
   "execution_count": 7,
   "metadata": {},
   "outputs": [],
   "source": [
    "from qdrant_search import QdrantSearchEngine\n",
    "from bm25_search import ElasticsearchBM25\n"
   ]
  },
  {
   "cell_type": "code",
   "execution_count": 8,
   "metadata": {},
   "outputs": [
    {
     "name": "stdout",
     "output_type": "stream",
     "text": [
      "Connecting to Elasticsearch at elasticsearch:9200\n"
     ]
    }
   ],
   "source": [
    "qdrant_engine = QdrantSearchEngine(voyage_apikey)\n",
    "es_engine = ElasticsearchBM25()"
   ]
  },
  {
   "cell_type": "code",
   "execution_count": 9,
   "metadata": {},
   "outputs": [],
   "source": [
    "context_provider = UnifiedContextProvider(qdrant_engine=qdrant_engine,es_engine=es_engine)"
   ]
  },
  {
   "cell_type": "code",
   "execution_count": 10,
   "metadata": {},
   "outputs": [],
   "source": [
    "\n",
    "@jupyter_stream_output(markdown=True)\n",
    "async def unified_chat(\n",
    "    query: str,\n",
    "    meeting_ids: Optional[List[UUID]] = None,\n",
    "    speakers: Optional[List[str]] = None,\n",
    "    thread_id: Optional[str] = None,\n",
    "    temperature: float = 0.7\n",
    "):\n",
    "    \"\"\"\n",
    "    Unified chat function supporting both single-meeting and multi-meeting search\n",
    "    \"\"\"\n",
    "    chat_manager = UnifiedChatManager(\n",
    "        qdrant_engine=qdrant_engine,\n",
    "        es_engine=es_engine\n",
    "    )\n",
    "    \n",
    "    async for result in chat_manager.chat(\n",
    "        user_id=user_id,\n",
    "        query=query,\n",
    "        meeting_ids=meeting_ids,\n",
    "        speakers=speakers,\n",
    "        thread_id=thread_id,\n",
    "        temperature=temperature\n",
    "    ):\n",
    "        if 'chunk' in result:\n",
    "            yield result['chunk']\n",
    "        elif 'linked_output' in result:\n",
    "            yield result"
   ]
  },
  {
   "cell_type": "code",
   "execution_count": 21,
   "metadata": {},
   "outputs": [
    {
     "data": {
      "text/markdown": [
       "To enhance your job performance, consider the following strategies based on your discussions about software development practices, project management, and user experience:\n",
       "\n",
       "1. **Task Formulation**: As you mentioned in your conversations, it's crucial to clearly define tasks before diving into coding. Take time to formulate your tasks in a structured manner. For example, instead of saying \"move this button,\" specify \"create a button component that looks like this and functions in this way\" [11:32]. This clarity can help avoid misunderstandings and lead to better coding practices.\n",
       "\n",
       "2. **Focus on Problem-Solving**: Shift your focus from just writing code to understanding the problem you're trying to solve. As you noted, \"your task is to spend 10 times less time fiddling with code than you currently do\" [18:54]. This approach can lead to more efficient solutions and reduce time spent on debugging.\n",
       "\n",
       "3. **Utilize Tools and Automation**: Leverage tools that can automate repetitive tasks. For instance, using AI tools for transcription or note-taking can save you time and allow you to focus on more critical aspects of your work [22:42]. \n",
       "\n",
       "4. **Improve Communication**: Foster open communication with your team. Regular check-ins can help clarify expectations and ensure everyone is on the same page. As you discussed, \"the energy arises when people start sharing information\" [10:12]. This can lead to better collaboration and problem-solving.\n",
       "\n",
       "5. **User Feedback**: Incorporate user feedback into your development process. Understanding user needs can guide your project direction and improve the overall user experience. You mentioned the importance of user experience improvements in your discussions with Tatiana Sukhova [1:29]. \n",
       "\n",
       "6. **Continuous Learning**: Stay updated with the latest trends and technologies in your field. Engaging in discussions with peers or attending workshops can provide new insights and techniques that can be applied to your work.\n",
       "\n",
       "7. **Set Clear Goals**: Define specific, measurable goals for your projects. This can help you stay focused and track your progress effectively. As you noted, having a clear understanding of your objectives can streamline your efforts and lead to better outcomes [6:00].\n",
       "\n",
       "By implementing these strategies, you can create a more efficient and productive work environment for yourself. If you have specific areas you'd like to focus on or challenges you're facing, feel free to share, and I can provide more tailored advice!"
      ],
      "text/plain": [
       "<IPython.core.display.Markdown object>"
      ]
     },
     "metadata": {},
     "output_type": "display_data"
    }
   ],
   "source": [
    "r = await unified_chat(\n",
    "    query=\"how to make my job in a better way?\",\n",
    "    thread_id='123'\n",
    ")"
   ]
  },
  {
   "cell_type": "markdown",
   "metadata": {},
   "source": []
  },
  {
   "cell_type": "code",
   "execution_count": 20,
   "metadata": {},
   "outputs": [
    {
     "data": {
      "text/plain": [
       "'In the recent meeting between you, Dmitriy Grankin, and Jasper Vanuytrecht, several key topics were discussed regarding your product related to meeting summaries and knowledge management. Here’s a summary of the main points:\\n\\n1. **Product Features and User Base**: You highlighted the functionality of your product, which includes a dashboard that provides summaries and a chat interface similar to ChatGPT. This allows users to generate insights based on specific meetings or a collection of meetings. You mentioned that the product is currently in a free trial phase, attracting a stable user base with minimal marketing efforts ([1](/meeting/2a40c363-c52b-4f89-8719-e0be87591485)).\\n\\n2. **Sales and Marketing Strategy**: Jasper emphasized the importance of identifying target customers and crafting effective outreach messages. He suggested that a strategic approach to sales and marketing is crucial for growth, particularly for tools addressing enterprise privacy and knowledge management challenges. You discussed the need for a systematic approach to lead generation and the potential for your product to transition from a B2C to a B2B model ([20:31], [34:16]).\\n\\n3. **Challenges in Balancing Development and Marketing**: You reflected on the difficulties of balancing product development with marketing and sales efforts. You shared your experiences with hiring a product manager and the challenges of effective communication, emphasizing the need for founders to engage directly with potential customers to understand their needs ([11:33], [17:24]).\\n\\n4. **SEO and Competitor Strategies**: You mentioned the potential of using SEO tools to drive traffic and how competitors are leveraging YouTube transcripts to attract users. This insight could inform your marketing strategy as you consider ways to enhance visibility and user acquisition ([34:16]).\\n\\n5. **Personal Background**: The conversation also touched on your background, including your move from Russia and the political climate that influenced your decision to relocate ([20:31], [2:10]).\\n\\nOverall, the meeting provided valuable insights into product development, marketing strategies, and the importance of understanding your target audience to drive growth. If you need further details or specific aspects to focus on, feel free to ask!'"
      ]
     },
     "execution_count": 20,
     "metadata": {},
     "output_type": "execute_result"
    }
   ],
   "source": [
    "r['linked_output']"
   ]
  },
  {
   "cell_type": "code",
   "execution_count": 13,
   "metadata": {},
   "outputs": [],
   "source": [
    "meeting_ids = ['q','w']"
   ]
  },
  {
   "cell_type": "code",
   "execution_count": 14,
   "metadata": {},
   "outputs": [],
   "source": [
    "url_dict = {\n",
    "    idx+1: f\"/meeting/{mid}\"\n",
    "    for idx, mid in enumerate(meeting_ids) if mid\n",
    "} if meeting_ids else {}"
   ]
  },
  {
   "cell_type": "code",
   "execution_count": 15,
   "metadata": {},
   "outputs": [
    {
     "data": {
      "text/plain": [
       "{1: '/meeting/q', 2: '/meeting/w'}"
      ]
     },
     "execution_count": 15,
     "metadata": {},
     "output_type": "execute_result"
    }
   ],
   "source": [
    "url_dict"
   ]
  },
  {
   "cell_type": "code",
   "execution_count": 16,
   "metadata": {},
   "outputs": [],
   "source": [
    "import re"
   ]
  },
  {
   "cell_type": "code",
   "execution_count": 17,
   "metadata": {},
   "outputs": [],
   "source": [
    "async def embed_links(text: str, url_dict: dict) -> str:\n",
    "    # Find all numeric references in the text\n",
    "    references = re.findall(r'\\[(\\d+)\\]', text)\n",
    "    \n",
    "    # Replace each reference with the corresponding URL based on position\n",
    "    for idx, ref in enumerate(references, 1):\n",
    "        if idx in url_dict:\n",
    "            text = text.replace(f'[{ref}]', f'[{ref}]({url_dict[idx]})')\n",
    "    return text"
   ]
  },
  {
   "cell_type": "code",
   "execution_count": 18,
   "metadata": {},
   "outputs": [
    {
     "data": {
      "text/plain": [
       "'In the recent meeting between you, Dmitriy Grankin, and Jasper Vanuytrecht, several key topics were discussed regarding your product related to meeting summaries and knowledge management. Here’s a summary of the main points:\\n\\n1. **Product Features and User Base**: You highlighted the functionality of your product, which includes a dashboard that provides summaries and a chat interface similar to ChatGPT. This allows users to generate insights based on specific meetings or a collection of meetings. You mentioned that the product is currently in a free trial phase, attracting a stable user base with minimal marketing efforts ([1](/meeting/q)(/meeting/2a40c363-c52b-4f89-8719-e0be87591485)).\\n\\n2. **Sales and Marketing Strategy**: Jasper emphasized the importance of identifying target customers and crafting effective outreach messages. He suggested that a strategic approach to sales and marketing is crucial for growth, particularly for tools addressing enterprise privacy and knowledge management challenges. You discussed the need for a systematic approach to lead generation and the potential for your product to transition from a B2C to a B2B model ([20:31], [34:16]).\\n\\n3. **Challenges in Balancing Development and Marketing**: You reflected on the difficulties of balancing product development with marketing and sales efforts. You shared your experiences with hiring a product manager and the challenges of effective communication, emphasizing the need for founders to engage directly with potential customers to understand their needs ([11:33], [17:24]).\\n\\n4. **SEO and Competitor Strategies**: You mentioned the potential of using SEO tools to drive traffic and how competitors are leveraging YouTube transcripts to attract users. This insight could inform your marketing strategy as you consider ways to enhance visibility and user acquisition ([34:16]).\\n\\n5. **Personal Background**: The conversation also touched on your background, including your move from Russia and the political climate that influenced your decision to relocate ([20:31], [2:10]).\\n\\nOverall, the meeting provided valuable insights into product development, marketing strategies, and the importance of understanding your target audience to drive growth. If you need further details or specific aspects to focus on, feel free to ask!'"
      ]
     },
     "execution_count": 18,
     "metadata": {},
     "output_type": "execute_result"
    }
   ],
   "source": [
    "await embed_links(r['linked_output'],url_dict)"
   ]
  },
  {
   "cell_type": "code",
   "execution_count": null,
   "metadata": {},
   "outputs": [],
   "source": []
  },
  {
   "cell_type": "code",
   "execution_count": null,
   "metadata": {},
   "outputs": [],
   "source": []
  },
  {
   "cell_type": "code",
   "execution_count": 19,
   "metadata": {},
   "outputs": [
    {
     "ename": "NameError",
     "evalue": "name 'SearchChatManager' is not defined",
     "output_type": "error",
     "traceback": [
      "\u001b[0;31m---------------------------------------------------------------------------\u001b[0m",
      "\u001b[0;31mNameError\u001b[0m                                 Traceback (most recent call last)",
      "Cell \u001b[0;32mIn[19], line 1\u001b[0m\n\u001b[0;32m----> 1\u001b[0m chat_manager \u001b[38;5;241m=\u001b[39m \u001b[43mSearchChatManager\u001b[49m()\n",
      "\u001b[0;31mNameError\u001b[0m: name 'SearchChatManager' is not defined"
     ]
    }
   ],
   "source": [
    "chat_manager = SearchChatManager()"
   ]
  },
  {
   "cell_type": "code",
   "execution_count": 65,
   "metadata": {},
   "outputs": [],
   "source": [
    "from helpers import jupyter_stream_output\n",
    "from typing import Optional"
   ]
  },
  {
   "cell_type": "code",
   "execution_count": null,
   "metadata": {},
   "outputs": [],
   "source": [
    "from typing import Optional\n",
    "from helpers import jupyter_stream_output\n",
    "from search import SearchAssistant\n",
    "\n",
    "# Initialize managers\n",
    "search_assistant = SearchAssistant()\n",
    "chat_manager = SearchChatManager()"
   ]
  },
  {
   "cell_type": "code",
   "execution_count": null,
   "metadata": {},
   "outputs": [],
   "source": [
    "\n",
    "@jupyter_stream_output(markdown=True)\n",
    "async def stream_chat(user_id: str, query: str, thread_id: Optional[str] = None):\n",
    "    async for result in chat_manager.chat(\n",
    "        user_id=user_id,\n",
    "        query=query,\n",
    "        search_assistant=search_assistant,\n",
    "        thread_id=thread_id\n",
    "    ):\n",
    "        if 'chunk' in result:\n",
    "            yield result['chunk']\n",
    "        elif 'output' in result:\n",
    "            yield result['output']\n",
    "\n",
    "# Usage\n",
    "await stream_chat(user_id=user_id, query=\"андрей\")"
   ]
  },
  {
   "cell_type": "code",
   "execution_count": null,
   "metadata": {},
   "outputs": [],
   "source": [
    "\n",
    "# Call the decorated function\n",
    "await stream_chat(user_id=user_id, query=\"маркетинг\")"
   ]
  },
  {
   "cell_type": "code",
   "execution_count": null,
   "metadata": {},
   "outputs": [],
   "source": [
    "await stream_chat(user_id=user_id,query=\"маркетинг\")"
   ]
  },
  {
   "cell_type": "code",
   "execution_count": null,
   "metadata": {},
   "outputs": [],
   "source": []
  },
  {
   "cell_type": "code",
   "execution_count": null,
   "metadata": {},
   "outputs": [],
   "source": [
    "SearchChatManager"
   ]
  },
  {
   "cell_type": "code",
   "execution_count": null,
   "metadata": {},
   "outputs": [],
   "source": []
  },
  {
   "cell_type": "code",
   "execution_count": null,
   "metadata": {},
   "outputs": [],
   "source": []
  },
  {
   "cell_type": "code",
   "execution_count": 21,
   "metadata": {},
   "outputs": [],
   "source": [
    "r = await ParsedSearchRequest.parse_request(\"маркетинг\")\n",
    "queries = r.search_queries"
   ]
  },
  {
   "cell_type": "code",
   "execution_count": null,
   "metadata": {},
   "outputs": [],
   "source": [
    "queries"
   ]
  },
  {
   "cell_type": "code",
   "execution_count": 40,
   "metadata": {},
   "outputs": [],
   "source": [
    "search_results = [\n",
    "            await search_assistant.search(q.query, user_id=user_id) \n",
    "            for q in queries\n",
    "        ]"
   ]
  },
  {
   "cell_type": "code",
   "execution_count": 41,
   "metadata": {},
   "outputs": [],
   "source": [
    "import pandas as pd"
   ]
  },
  {
   "cell_type": "code",
   "execution_count": 42,
   "metadata": {},
   "outputs": [],
   "source": [
    "search_results = pd.concat(search_results)\n",
    "search_results = search_results.drop(columns=['vector_scores', 'exact_matches'])\\\n",
    "    .drop_duplicates(subset=['topic_name', 'speaker_name', 'summary', 'details', 'meeting_id'])\n",
    "\n",
    "# Prepare context using search assistant's methods\n",
    "prepared_df, indexed_meetings = search_assistant.prep_context(search_results)"
   ]
  },
  {
   "cell_type": "code",
   "execution_count": 43,
   "metadata": {},
   "outputs": [],
   "source": [
    "columns_to_drop = ['timestamp', 'vector_scores', 'exact_matches', 'source', 'score', 'meeting_id']\n",
    "existing_columns = [col for col in columns_to_drop if col in prepared_df.columns]\n",
    "context_prepared = prepared_df.drop(columns=existing_columns)\n",
    "\n",
    "context = context_prepared.to_markdown(index=False) if not prepared_df.empty else \"No relevant context found.\"\n",
    "        "
   ]
  },
  {
   "cell_type": "code",
   "execution_count": 45,
   "metadata": {},
   "outputs": [],
   "source": [
    "context = await context_provider._get_raw_context(user_id=user_id,query=\"маркетинг\")"
   ]
  },
  {
   "cell_type": "code",
   "execution_count": null,
   "metadata": {},
   "outputs": [],
   "source": [
    "context"
   ]
  },
  {
   "cell_type": "code",
   "execution_count": null,
   "metadata": {},
   "outputs": [],
   "source": [
    "context_provider.url_dict"
   ]
  },
  {
   "cell_type": "code",
   "execution_count": null,
   "metadata": {},
   "outputs": [],
   "source": []
  },
  {
   "cell_type": "code",
   "execution_count": null,
   "metadata": {},
   "outputs": [],
   "source": []
  },
  {
   "cell_type": "code",
   "execution_count": null,
   "metadata": {},
   "outputs": [],
   "source": [
    "await search_assistant.search(query=\"vexa\",user_id=user_id)"
   ]
  },
  {
   "cell_type": "code",
   "execution_count": null,
   "metadata": {},
   "outputs": [],
   "source": [
    "context = await context_provider.get_context(user_id=user_id,query=\"vexa\")"
   ]
  },
  {
   "cell_type": "code",
   "execution_count": null,
   "metadata": {},
   "outputs": [],
   "source": [
    "context"
   ]
  },
  {
   "cell_type": "code",
   "execution_count": null,
   "metadata": {},
   "outputs": [],
   "source": [
    "\n",
    "meetings = await vexa.get_meetings()"
   ]
  },
  {
   "cell_type": "code",
   "execution_count": 6,
   "metadata": {},
   "outputs": [],
   "source": [
    "from chat import MeetingContextProvider,MeetingChatManager"
   ]
  },
  {
   "cell_type": "code",
   "execution_count": 7,
   "metadata": {},
   "outputs": [],
   "source": [
    "from psql_helpers import get_session,get_meeting_by_id"
   ]
  },
  {
   "cell_type": "code",
   "execution_count": 8,
   "metadata": {},
   "outputs": [],
   "source": [
    "from helpers import jupyter_stream_output"
   ]
  },
  {
   "cell_type": "code",
   "execution_count": 21,
   "metadata": {},
   "outputs": [],
   "source": [
    "meeting_id = 'dbf8ad27-649c-4a16-b5a1-5ab3db002bd9'"
   ]
  },
  {
   "cell_type": "code",
   "execution_count": null,
   "metadata": {},
   "outputs": [],
   "source": [
    "from uuid import UUID\n",
    "meeting_id = UUID(meeting_id)"
   ]
  },
  {
   "cell_type": "code",
   "execution_count": null,
   "metadata": {},
   "outputs": [],
   "source": [
    "meeting_id"
   ]
  },
  {
   "cell_type": "code",
   "execution_count": 23,
   "metadata": {},
   "outputs": [],
   "source": [
    "query = 'summary'"
   ]
  },
  {
   "cell_type": "code",
   "execution_count": 24,
   "metadata": {},
   "outputs": [],
   "source": [
    "thread_id = None"
   ]
  },
  {
   "cell_type": "code",
   "execution_count": 25,
   "metadata": {},
   "outputs": [],
   "source": [
    "from prompts import Prompts\n",
    "prompts = Prompts()\n",
    "prompt = prompts.single_meeting_2711"
   ]
  },
  {
   "cell_type": "code",
   "execution_count": 29,
   "metadata": {},
   "outputs": [],
   "source": [
    "context_provider = MeetingContextProvider([meeting_id])"
   ]
  },
  {
   "cell_type": "code",
   "execution_count": null,
   "metadata": {},
   "outputs": [],
   "source": [
    "async with get_session() as session:\n",
    "    context = await context_provider.get_context(session=session)\n",
    "context\n"
   ]
  },
  {
   "cell_type": "code",
   "execution_count": null,
   "metadata": {},
   "outputs": [],
   "source": [
    "@jupyter_stream_output(markdown=True)\n",
    "async def chat_with_meeting(thread_id, user_id, meeting_id, query):\n",
    "    async with get_session() as session:\n",
    "        context_provider = MeetingContextProvider([meeting_id])\n",
    "        meeting_chat_manager = MeetingChatManager(session, context_provider=context_provider)\n",
    "        async for response in meeting_chat_manager.chat(\n",
    "            meeting_ids=[meeting_id],\n",
    "            user_id=user_id,\n",
    "            query=query,\n",
    "            thread_id=thread_id,\n",
    "            temperature=0.7,\n",
    "            prompt=prompts.single_meeting_2711\n",
    "        ):\n",
    "            yield response\n",
    "# Usage\n",
    "response = await chat_with_meeting(\n",
    "    thread_id=thread_id,\n",
    "    user_id='ef7c085b-fdb5-4c94-b7b6-a61a3d04c210',\n",
    "    meeting_id=meeting_id,\n",
    "    query=\"summare meeting\"\n",
    ")"
   ]
  },
  {
   "cell_type": "code",
   "execution_count": null,
   "metadata": {},
   "outputs": [],
   "source": [
    "meeting_"
   ]
  },
  {
   "cell_type": "code",
   "execution_count": null,
   "metadata": {},
   "outputs": [],
   "source": [
    "await meeting_chat_manager.chat(user_id=user_id,query=\"What was the main topic of the meeting?\",meeting_ids=[meeting_id])"
   ]
  }
 ],
 "metadata": {
  "kernelspec": {
   "display_name": "Python 3",
   "language": "python",
   "name": "python3"
  },
  "language_info": {
   "codemirror_mode": {
    "name": "ipython",
    "version": 3
   },
   "file_extension": ".py",
   "mimetype": "text/x-python",
   "name": "python",
   "nbconvert_exporter": "python",
   "pygments_lexer": "ipython3",
   "version": "3.11.11"
  }
 },
 "nbformat": 4,
 "nbformat_minor": 2
}
