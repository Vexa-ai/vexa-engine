{
 "cells": [
  {
   "cell_type": "code",
   "execution_count": 1,
   "metadata": {},
   "outputs": [],
   "source": [
    "%reload_ext autoreload\n",
    "%autoreload 2"
   ]
  },
  {
   "cell_type": "code",
   "execution_count": 2,
   "metadata": {},
   "outputs": [],
   "source": [
    "from apitests import *"
   ]
  },
  {
   "cell_type": "code",
   "execution_count": 3,
   "metadata": {},
   "outputs": [
    {
     "name": "stdout",
     "output_type": "stream",
     "text": [
      "Submit Token: {'user_id': 'ef7c085b-fdb5-4c94-b7b6-a61a3d04c210', 'user_name': 'Dmitriy Grankin'}\n"
     ]
    }
   ],
   "source": [
    "submit_token()"
   ]
  },
  {
   "cell_type": "code",
   "execution_count": 4,
   "metadata": {},
   "outputs": [
    {
     "name": "stdout",
     "output_type": "stream",
     "text": [
      "Threads: [{'thread_id': '50957088-5f5b-4245-bb36-c856eb138673', 'thread_name': 'What were the key points from my last meeting?', 'timestamp': '2024-10-28T09:15:48.775524Z'}, {'thread_id': 'b9dd6d1a-c45c-477f-9c05-6bad63d0a298', 'thread_name': 'vexa', 'timestamp': '2024-10-28T08:45:52.794189Z'}, {'thread_id': '7bea7188-b1bb-4f48-9f63-486f2c8807de', 'thread_name': 'vexa', 'timestamp': '2024-10-28T07:02:46.503989Z'}]\n"
     ]
    }
   ],
   "source": [
    "get_threads()"
   ]
  },
  {
   "cell_type": "code",
   "execution_count": 5,
   "metadata": {},
   "outputs": [
    {
     "name": "stdout",
     "output_type": "stream",
     "text": [
      "{'type': 'stream', 'content': 'The'}\n",
      "{'type': 'stream', 'content': ' meeting'}\n",
      "{'type': 'stream', 'content': ' focused'}\n",
      "{'type': 'stream', 'content': ' on'}\n",
      "{'type': 'stream', 'content': ' the'}\n",
      "{'type': 'stream', 'content': ' process'}\n",
      "{'type': 'stream', 'content': ' of'}\n",
      "{'type': 'stream', 'content': ' testing'}\n",
      "{'type': 'stream', 'content': ' various'}\n",
      "{'type': 'stream', 'content': ' systems'}\n",
      "{'type': 'stream', 'content': ' and'}\n",
      "{'type': 'stream', 'content': ' functionalities'}\n",
      "{'type': 'stream', 'content': ' to'}\n",
      "{'type': 'stream', 'content': ' ensure'}\n",
      "{'type': 'stream', 'content': ' they'}\n",
      "{'type': 'stream', 'content': ' operate'}\n",
      "{'type': 'stream', 'content': ' correctly'}\n",
      "{'type': 'stream', 'content': '.'}\n",
      "{'type': 'stream', 'content': ' Key'}\n",
      "{'type': 'stream', 'content': ' points'}\n",
      "{'type': 'stream', 'content': ' included'}\n",
      "{'type': 'stream', 'content': ':\\n\\n'}\n",
      "{'type': 'stream', 'content': '-'}\n",
      "{'type': 'stream', 'content': ' **'}\n",
      "{'type': 'stream', 'content': 'System'}\n",
      "{'type': 'stream', 'content': ' Function'}\n",
      "{'type': 'stream', 'content': 'ality'}\n",
      "{'type': 'stream', 'content': ' Testing'}\n",
      "{'type': 'stream', 'content': '**'}\n",
      "{'type': 'stream', 'content': ':'}\n",
      "{'type': 'stream', 'content': ' The'}\n",
      "{'type': 'stream', 'content': ' team'}\n",
      "{'type': 'stream', 'content': ' conducted'}\n",
      "{'type': 'stream', 'content': ' tests'}\n",
      "{'type': 'stream', 'content': ' to'}\n",
      "{'type': 'stream', 'content': ' verify'}\n",
      "{'type': 'stream', 'content': ' that'}\n",
      "{'type': 'stream', 'content': ' the'}\n",
      "{'type': 'stream', 'content': ' system'}\n",
      "{'type': 'stream', 'content': ' is'}\n",
      "{'type': 'stream', 'content': ' operational'}\n",
      "{'type': 'stream', 'content': ' and'}\n",
      "{'type': 'stream', 'content': ' meets'}\n",
      "{'type': 'stream', 'content': ' the'}\n",
      "{'type': 'stream', 'content': ' required'}\n",
      "{'type': 'stream', 'content': ' specifications'}\n",
      "{'type': 'stream', 'content': '.'}\n",
      "{'type': 'stream', 'content': ' This'}\n",
      "{'type': 'stream', 'content': ' involved'}\n",
      "{'type': 'stream', 'content': ' checking'}\n",
      "{'type': 'stream', 'content': ' various'}\n",
      "{'type': 'stream', 'content': ' components'}\n",
      "{'type': 'stream', 'content': ' for'}\n",
      "{'type': 'stream', 'content': ' performance'}\n",
      "{'type': 'stream', 'content': ' and'}\n",
      "{'type': 'stream', 'content': ' reliability'}\n",
      "{'type': 'stream', 'content': '['}\n",
      "{'type': 'stream', 'content': '55'}\n",
      "{'type': 'stream', 'content': ']['}\n",
      "{'type': 'stream', 'content': '62'}\n",
      "{'type': 'stream', 'content': ']['}\n",
      "{'type': 'stream', 'content': '63'}\n",
      "{'type': 'stream', 'content': '].\\n\\n'}\n",
      "{'type': 'stream', 'content': '-'}\n",
      "{'type': 'stream', 'content': ' **'}\n",
      "{'type': 'stream', 'content': 'Evaluation'}\n",
      "{'type': 'stream', 'content': ' of'}\n",
      "{'type': 'stream', 'content': ' Testing'}\n",
      "{'type': 'stream', 'content': ' Processes'}\n",
      "{'type': 'stream', 'content': '**'}\n",
      "{'type': 'stream', 'content': ':'}\n",
      "{'type': 'stream', 'content': ' There'}\n",
      "{'type': 'stream', 'content': ' was'}\n",
      "{'type': 'stream', 'content': ' an'}\n",
      "{'type': 'stream', 'content': ' emphasis'}\n",
      "{'type': 'stream', 'content': ' on'}\n",
      "{'type': 'stream', 'content': ' evaluating'}\n",
      "{'type': 'stream', 'content': ' the'}\n",
      "{'type': 'stream', 'content': ' results'}\n",
      "{'type': 'stream', 'content': ' of'}\n",
      "{'type': 'stream', 'content': ' the'}\n",
      "{'type': 'stream', 'content': ' testing'}\n",
      "{'type': 'stream', 'content': ' processes'}\n",
      "{'type': 'stream', 'content': ' to'}\n",
      "{'type': 'stream', 'content': ' determine'}\n",
      "{'type': 'stream', 'content': ' their'}\n",
      "{'type': 'stream', 'content': ' success'}\n",
      "{'type': 'stream', 'content': ' or'}\n",
      "{'type': 'stream', 'content': ' failure'}\n",
      "{'type': 'stream', 'content': ','}\n",
      "{'type': 'stream', 'content': ' which'}\n",
      "{'type': 'stream', 'content': ' is'}\n",
      "{'type': 'stream', 'content': ' crucial'}\n",
      "{'type': 'stream', 'content': ' for'}\n",
      "{'type': 'stream', 'content': ' understanding'}\n",
      "{'type': 'stream', 'content': ' the'}\n",
      "{'type': 'stream', 'content': ' effectiveness'}\n",
      "{'type': 'stream', 'content': ' of'}\n",
      "{'type': 'stream', 'content': ' the'}\n",
      "{'type': 'stream', 'content': ' methods'}\n",
      "{'type': 'stream', 'content': ' used'}\n",
      "{'type': 'stream', 'content': '['}\n",
      "{'type': 'stream', 'content': '61'}\n",
      "{'type': 'stream', 'content': '].\\n\\n'}\n",
      "{'type': 'stream', 'content': '-'}\n",
      "{'type': 'stream', 'content': ' **'}\n",
      "{'type': 'stream', 'content': 'Documentation'}\n",
      "{'type': 'stream', 'content': ' of'}\n",
      "{'type': 'stream', 'content': ' Issues'}\n",
      "{'type': 'stream', 'content': '**'}\n",
      "{'type': 'stream', 'content': ':'}\n",
      "{'type': 'stream', 'content': ' The'}\n",
      "{'type': 'stream', 'content': ' team'}\n",
      "{'type': 'stream', 'content': ' is'}\n",
      "{'type': 'stream', 'content': ' expected'}\n",
      "{'type': 'stream', 'content': ' to'}\n",
      "{'type': 'stream', 'content': ' document'}\n",
      "{'type': 'stream', 'content': ' any'}\n",
      "{'type': 'stream', 'content': ' issues'}\n",
      "{'type': 'stream', 'content': ' encountered'}\n",
      "{'type': 'stream', 'content': ' during'}\n",
      "{'type': 'stream', 'content': ' testing'}\n",
      "{'type': 'stream', 'content': ' for'}\n",
      "{'type': 'stream', 'content': ' further'}\n",
      "{'type': 'stream', 'content': ' analysis'}\n",
      "{'type': 'stream', 'content': ' and'}\n",
      "{'type': 'stream', 'content': ' resolution'}\n",
      "{'type': 'stream', 'content': ','}\n",
      "{'type': 'stream', 'content': ' ensuring'}\n",
      "{'type': 'stream', 'content': ' that'}\n",
      "{'type': 'stream', 'content': ' all'}\n",
      "{'type': 'stream', 'content': ' findings'}\n",
      "{'type': 'stream', 'content': ' are'}\n",
      "{'type': 'stream', 'content': ' recorded'}\n",
      "{'type': 'stream', 'content': ' for'}\n",
      "{'type': 'stream', 'content': ' future'}\n",
      "{'type': 'stream', 'content': ' reference'}\n",
      "{'type': 'stream', 'content': '['}\n",
      "{'type': 'stream', 'content': '63'}\n",
      "{'type': 'stream', 'content': '].\\n\\n'}\n",
      "{'type': 'stream', 'content': 'These'}\n",
      "{'type': 'stream', 'content': ' points'}\n",
      "{'type': 'stream', 'content': ' highlight'}\n",
      "{'type': 'stream', 'content': ' the'}\n",
      "{'type': 'stream', 'content': ' importance'}\n",
      "{'type': 'stream', 'content': ' of'}\n",
      "{'type': 'stream', 'content': ' thorough'}\n",
      "{'type': 'stream', 'content': ' testing'}\n",
      "{'type': 'stream', 'content': ' in'}\n",
      "{'type': 'stream', 'content': ' maintaining'}\n",
      "{'type': 'stream', 'content': ' system'}\n",
      "{'type': 'stream', 'content': ' integrity'}\n",
      "{'type': 'stream', 'content': ' and'}\n",
      "{'type': 'stream', 'content': ' performance'}\n",
      "{'type': 'stream', 'content': '.'}\n",
      "{'type': 'final', 'thread_id': '50957088-5f5b-4245-bb36-c856eb138673', 'linked_output': 'The meeting focused on the process of testing various systems and functionalities to ensure they operate correctly. Key points included:\\n\\n- **System Functionality Testing**: The team conducted tests to verify that the system is operational and meets the required specifications. This involved checking various components for performance and reliability[55](https://dashboard.vexa.ai/#ce6a2c16-840c-4802-a26d-da41fbac8f6e) [62](https://dashboard.vexa.ai/#52abd49e-3bea-4d52-89fa-ecaedb69361c) [63](https://dashboard.vexa.ai/#a618de2c-d3cd-4a8d-ad8f-8696f880716e).\\n\\n- **Evaluation of Testing Processes**: There was an emphasis on evaluating the results of the testing processes to determine their success or failure, which is crucial for understanding the effectiveness of the methods used[61](https://dashboard.vexa.ai/#33d997a9-979f-41fc-ab09-ca11cd94f566).\\n\\n- **Documentation of Issues**: The team is expected to document any issues encountered during testing for further analysis and resolution, ensuring that all findings are recorded for future reference[63](https://dashboard.vexa.ai/#a618de2c-d3cd-4a8d-ad8f-8696f880716e).\\n\\nThese points highlight the importance of thorough testing in maintaining system integrity and performance.'}\n",
      "{'type': 'done'}\n"
     ]
    }
   ],
   "source": [
    "start_chat('test',thread_id='50957088-5f5b-4245-bb36-c856eb138673')"
   ]
  },
  {
   "cell_type": "code",
   "execution_count": 5,
   "metadata": {},
   "outputs": [
    {
     "ename": "JSONDecodeError",
     "evalue": "Expecting value: line 1 column 1 (char 0)",
     "output_type": "error",
     "traceback": [
      "\u001b[0;31m---------------------------------------------------------------------------\u001b[0m",
      "\u001b[0;31mJSONDecodeError\u001b[0m                           Traceback (most recent call last)",
      "File \u001b[0;32m~/anaconda3/envs/langchain/lib/python3.11/site-packages/requests/models.py:974\u001b[0m, in \u001b[0;36mResponse.json\u001b[0;34m(self, **kwargs)\u001b[0m\n\u001b[1;32m    973\u001b[0m \u001b[38;5;28;01mtry\u001b[39;00m:\n\u001b[0;32m--> 974\u001b[0m     \u001b[38;5;28;01mreturn\u001b[39;00m \u001b[43mcomplexjson\u001b[49m\u001b[38;5;241;43m.\u001b[39;49m\u001b[43mloads\u001b[49m\u001b[43m(\u001b[49m\u001b[38;5;28;43mself\u001b[39;49m\u001b[38;5;241;43m.\u001b[39;49m\u001b[43mtext\u001b[49m\u001b[43m,\u001b[49m\u001b[43m \u001b[49m\u001b[38;5;241;43m*\u001b[39;49m\u001b[38;5;241;43m*\u001b[39;49m\u001b[43mkwargs\u001b[49m\u001b[43m)\u001b[49m\n\u001b[1;32m    975\u001b[0m \u001b[38;5;28;01mexcept\u001b[39;00m JSONDecodeError \u001b[38;5;28;01mas\u001b[39;00m e:\n\u001b[1;32m    976\u001b[0m     \u001b[38;5;66;03m# Catch JSON-related errors and raise as requests.JSONDecodeError\u001b[39;00m\n\u001b[1;32m    977\u001b[0m     \u001b[38;5;66;03m# This aliases json.JSONDecodeError and simplejson.JSONDecodeError\u001b[39;00m\n",
      "File \u001b[0;32m~/anaconda3/envs/langchain/lib/python3.11/site-packages/simplejson/__init__.py:514\u001b[0m, in \u001b[0;36mloads\u001b[0;34m(s, encoding, cls, object_hook, parse_float, parse_int, parse_constant, object_pairs_hook, use_decimal, allow_nan, **kw)\u001b[0m\n\u001b[1;32m    510\u001b[0m \u001b[38;5;28;01mif\u001b[39;00m (\u001b[38;5;28mcls\u001b[39m \u001b[38;5;129;01mis\u001b[39;00m \u001b[38;5;28;01mNone\u001b[39;00m \u001b[38;5;129;01mand\u001b[39;00m encoding \u001b[38;5;129;01mis\u001b[39;00m \u001b[38;5;28;01mNone\u001b[39;00m \u001b[38;5;129;01mand\u001b[39;00m object_hook \u001b[38;5;129;01mis\u001b[39;00m \u001b[38;5;28;01mNone\u001b[39;00m \u001b[38;5;129;01mand\u001b[39;00m\n\u001b[1;32m    511\u001b[0m         parse_int \u001b[38;5;129;01mis\u001b[39;00m \u001b[38;5;28;01mNone\u001b[39;00m \u001b[38;5;129;01mand\u001b[39;00m parse_float \u001b[38;5;129;01mis\u001b[39;00m \u001b[38;5;28;01mNone\u001b[39;00m \u001b[38;5;129;01mand\u001b[39;00m\n\u001b[1;32m    512\u001b[0m         parse_constant \u001b[38;5;129;01mis\u001b[39;00m \u001b[38;5;28;01mNone\u001b[39;00m \u001b[38;5;129;01mand\u001b[39;00m object_pairs_hook \u001b[38;5;129;01mis\u001b[39;00m \u001b[38;5;28;01mNone\u001b[39;00m\n\u001b[1;32m    513\u001b[0m         \u001b[38;5;129;01mand\u001b[39;00m \u001b[38;5;129;01mnot\u001b[39;00m use_decimal \u001b[38;5;129;01mand\u001b[39;00m \u001b[38;5;129;01mnot\u001b[39;00m allow_nan \u001b[38;5;129;01mand\u001b[39;00m \u001b[38;5;129;01mnot\u001b[39;00m kw):\n\u001b[0;32m--> 514\u001b[0m     \u001b[38;5;28;01mreturn\u001b[39;00m \u001b[43m_default_decoder\u001b[49m\u001b[38;5;241;43m.\u001b[39;49m\u001b[43mdecode\u001b[49m\u001b[43m(\u001b[49m\u001b[43ms\u001b[49m\u001b[43m)\u001b[49m\n\u001b[1;32m    515\u001b[0m \u001b[38;5;28;01mif\u001b[39;00m \u001b[38;5;28mcls\u001b[39m \u001b[38;5;129;01mis\u001b[39;00m \u001b[38;5;28;01mNone\u001b[39;00m:\n",
      "File \u001b[0;32m~/anaconda3/envs/langchain/lib/python3.11/site-packages/simplejson/decoder.py:386\u001b[0m, in \u001b[0;36mJSONDecoder.decode\u001b[0;34m(self, s, _w, _PY3)\u001b[0m\n\u001b[1;32m    385\u001b[0m     s \u001b[38;5;241m=\u001b[39m \u001b[38;5;28mstr\u001b[39m(s, \u001b[38;5;28mself\u001b[39m\u001b[38;5;241m.\u001b[39mencoding)\n\u001b[0;32m--> 386\u001b[0m obj, end \u001b[38;5;241m=\u001b[39m \u001b[38;5;28;43mself\u001b[39;49m\u001b[38;5;241;43m.\u001b[39;49m\u001b[43mraw_decode\u001b[49m\u001b[43m(\u001b[49m\u001b[43ms\u001b[49m\u001b[43m)\u001b[49m\n\u001b[1;32m    387\u001b[0m end \u001b[38;5;241m=\u001b[39m _w(s, end)\u001b[38;5;241m.\u001b[39mend()\n",
      "File \u001b[0;32m~/anaconda3/envs/langchain/lib/python3.11/site-packages/simplejson/decoder.py:416\u001b[0m, in \u001b[0;36mJSONDecoder.raw_decode\u001b[0;34m(self, s, idx, _w, _PY3)\u001b[0m\n\u001b[1;32m    415\u001b[0m         idx \u001b[38;5;241m+\u001b[39m\u001b[38;5;241m=\u001b[39m \u001b[38;5;241m3\u001b[39m\n\u001b[0;32m--> 416\u001b[0m \u001b[38;5;28;01mreturn\u001b[39;00m \u001b[38;5;28;43mself\u001b[39;49m\u001b[38;5;241;43m.\u001b[39;49m\u001b[43mscan_once\u001b[49m\u001b[43m(\u001b[49m\u001b[43ms\u001b[49m\u001b[43m,\u001b[49m\u001b[43m \u001b[49m\u001b[43midx\u001b[49m\u001b[38;5;241;43m=\u001b[39;49m\u001b[43m_w\u001b[49m\u001b[43m(\u001b[49m\u001b[43ms\u001b[49m\u001b[43m,\u001b[49m\u001b[43m \u001b[49m\u001b[43midx\u001b[49m\u001b[43m)\u001b[49m\u001b[38;5;241;43m.\u001b[39;49m\u001b[43mend\u001b[49m\u001b[43m(\u001b[49m\u001b[43m)\u001b[49m\u001b[43m)\u001b[49m\n",
      "\u001b[0;31mJSONDecodeError\u001b[0m: Expecting value: line 1 column 1 (char 0)",
      "\nDuring handling of the above exception, another exception occurred:\n",
      "\u001b[0;31mJSONDecodeError\u001b[0m                           Traceback (most recent call last)",
      "Cell \u001b[0;32mIn[5], line 1\u001b[0m\n\u001b[0;32m----> 1\u001b[0m \u001b[43mget_meeting_timestamps\u001b[49m\u001b[43m(\u001b[49m\u001b[43m)\u001b[49m\n",
      "File \u001b[0;32m~/playground/vexa_multiassistant/back/apitests.py:58\u001b[0m, in \u001b[0;36mget_meeting_timestamps\u001b[0;34m()\u001b[0m\n\u001b[1;32m     53\u001b[0m \u001b[38;5;28;01mdef\u001b[39;00m \u001b[38;5;21mget_meeting_timestamps\u001b[39m():\n\u001b[1;32m     54\u001b[0m     response \u001b[38;5;241m=\u001b[39m requests\u001b[38;5;241m.\u001b[39mget(\n\u001b[1;32m     55\u001b[0m         \u001b[38;5;124mf\u001b[39m\u001b[38;5;124m\"\u001b[39m\u001b[38;5;132;01m{\u001b[39;00mBASE_URL\u001b[38;5;132;01m}\u001b[39;00m\u001b[38;5;124m/user/meetings/timestamps\u001b[39m\u001b[38;5;124m\"\u001b[39m,\n\u001b[1;32m     56\u001b[0m         headers\u001b[38;5;241m=\u001b[39mHEADERS\n\u001b[1;32m     57\u001b[0m     )\n\u001b[0;32m---> 58\u001b[0m     \u001b[38;5;28mprint\u001b[39m(\u001b[38;5;124m\"\u001b[39m\u001b[38;5;124mMeeting Timestamps:\u001b[39m\u001b[38;5;124m\"\u001b[39m, \u001b[43mresponse\u001b[49m\u001b[38;5;241;43m.\u001b[39;49m\u001b[43mjson\u001b[49m\u001b[43m(\u001b[49m\u001b[43m)\u001b[49m)\n",
      "File \u001b[0;32m~/anaconda3/envs/langchain/lib/python3.11/site-packages/requests/models.py:978\u001b[0m, in \u001b[0;36mResponse.json\u001b[0;34m(self, **kwargs)\u001b[0m\n\u001b[1;32m    974\u001b[0m     \u001b[38;5;28;01mreturn\u001b[39;00m complexjson\u001b[38;5;241m.\u001b[39mloads(\u001b[38;5;28mself\u001b[39m\u001b[38;5;241m.\u001b[39mtext, \u001b[38;5;241m*\u001b[39m\u001b[38;5;241m*\u001b[39mkwargs)\n\u001b[1;32m    975\u001b[0m \u001b[38;5;28;01mexcept\u001b[39;00m JSONDecodeError \u001b[38;5;28;01mas\u001b[39;00m e:\n\u001b[1;32m    976\u001b[0m     \u001b[38;5;66;03m# Catch JSON-related errors and raise as requests.JSONDecodeError\u001b[39;00m\n\u001b[1;32m    977\u001b[0m     \u001b[38;5;66;03m# This aliases json.JSONDecodeError and simplejson.JSONDecodeError\u001b[39;00m\n\u001b[0;32m--> 978\u001b[0m     \u001b[38;5;28;01mraise\u001b[39;00m RequestsJSONDecodeError(e\u001b[38;5;241m.\u001b[39mmsg, e\u001b[38;5;241m.\u001b[39mdoc, e\u001b[38;5;241m.\u001b[39mpos)\n",
      "\u001b[0;31mJSONDecodeError\u001b[0m: Expecting value: line 1 column 1 (char 0)"
     ]
    }
   ],
   "source": [
    "get_meeting_timestamps()"
   ]
  },
  {
   "cell_type": "code",
   "execution_count": null,
   "metadata": {},
   "outputs": [],
   "source": []
  }
 ],
 "metadata": {
  "kernelspec": {
   "display_name": "langchain",
   "language": "python",
   "name": "python3"
  },
  "language_info": {
   "codemirror_mode": {
    "name": "ipython",
    "version": 3
   },
   "file_extension": ".py",
   "mimetype": "text/x-python",
   "name": "python",
   "nbconvert_exporter": "python",
   "pygments_lexer": "ipython3",
   "version": "3.11.2"
  }
 },
 "nbformat": 4,
 "nbformat_minor": 2
}
