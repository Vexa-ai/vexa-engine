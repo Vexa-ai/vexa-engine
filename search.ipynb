{
 "cells": [
  {
   "cell_type": "code",
   "execution_count": 1,
   "metadata": {},
   "outputs": [],
   "source": [
    "%load_ext autoreload   "
   ]
  },
  {
   "cell_type": "code",
   "execution_count": 2,
   "metadata": {},
   "outputs": [],
   "source": [
    "k = 1000\n",
    "model = 'gpt-4o-mini'"
   ]
  },
  {
   "cell_type": "code",
   "execution_count": 66,
   "metadata": {},
   "outputs": [
    {
     "name": "stdout",
     "output_type": "stream",
     "text": [
      "The autoreload extension is already loaded. To reload it, use:\n",
      "  %reload_ext autoreload\n",
      "1279\n"
     ]
    }
   ],
   "source": [
    "%load_ext autoreload\n",
    "%autoreload 2\n",
    "\n",
    "import asyncio\n",
    "import pandas as pd\n",
    "from meeting_search import MeetingSearch, build_context_string\n",
    "from typing import List\n",
    "\n",
    "from qdrant_client import QdrantClient, models\n",
    "from sentence_transformers import SentenceTransformer, CrossEncoder\n",
    "from core import count_tokens\n",
    "\n",
    "from vexa import VexaAPI\n",
    "from core import system_msg, user_msg,generic_call_stream\n",
    "from datetime import datetime\n",
    "\n",
    "from prompts import Prompts\n",
    "prompts = Prompts()\n",
    "\n",
    "analyzer = MeetingSearch()\n",
    "print(analyzer.count_documents())\n",
    "from qdrant_client import QdrantClient, models\n",
    "from sentence_transformers import SentenceTransformer, CrossEncoder\n",
    "from core import count_tokens, assistant_msg\n",
    "from pydantic_models import QueryPlan, Query\n"
   ]
  },
  {
   "cell_type": "code",
   "execution_count": 73,
   "metadata": {},
   "outputs": [],
   "source": [
    "async def generate_output(query, messages):\n",
    "    query_ = ' '.join([m.content for m in messages])+' '+query\n",
    "    queries = await analyzer.generate_search_queries(query_)\n",
    "    print(queries)\n",
    "    summaries =  analyzer.get_summaries()\n",
    "    full_context, meeting_ids = await analyzer.build_context(queries, summaries,include_all_summaries=False)\n",
    "    pref = f\"Based on the following context, answer the question:\" if len(messages) == 0 else \"Update your previous answer given the follow-up request:\"\n",
    "    messages_context = [system_msg(prompts.perplexity), user_msg(f\"Context:\\n{full_context}\")] + messages + [user_msg(f\"{pref} {query}\")]\n",
    "    output = await generic_call_stream(messages_context)\n",
    "    messages.append(user_msg(query))\n",
    "    messages.append(assistant_msg(output))\n",
    "    return output, messages\n",
    "\n"
   ]
  },
  {
   "cell_type": "code",
   "execution_count": 74,
   "metadata": {},
   "outputs": [],
   "source": [
    "messages=[]"
   ]
  },
  {
   "cell_type": "code",
   "execution_count": 75,
   "metadata": {},
   "outputs": [],
   "source": [
    "query = 'list seo meetings'"
   ]
  },
  {
   "cell_type": "code",
   "execution_count": 76,
   "metadata": {},
   "outputs": [
    {
     "name": "stdout",
     "output_type": "stream",
     "text": [
      "[{'start': None, 'end': None, 'vector_search_query': 'SEO strategies and content generation discussion'}, {'start': None, 'end': None, 'vector_search_query': 'SEO tool development discussion'}, {'start': None, 'end': None, 'vector_search_query': 'SEO strategies discussion'}, {'start': None, 'end': None, 'vector_search_query': 'Google Ads campaign review and strategy'}, {'start': None, 'end': None, 'vector_search_query': 'User feedback and outreach strategy discussion'}]\n",
      "The SEO meetings discussed in the context are as follows:\n",
      "\n",
      "1. **SEO Marketing Strategy Discussion (2024-09-06 17:32)**: This meeting focused on competitor SEO marketing strategies and Google Ads, emphasizing the need to review initial ideas and develop onboarding processes. The importance of interpreting data from SimilarWeb to inform marketing decisions was also highlighted[4].\n",
      "\n",
      "2. **SEO Tool Development Discussion (2024-10-01 12:19)**: In this meeting, Rick Tousseyn and Dmitriy Grankin discussed a content creation tool for SEO optimization, exploring existing tools, keyword targeting, and strategies for improving article rankings. They emphasized collaboration potential and the importance of case studies in demonstrating the tool's effectiveness[11].\n",
      "\n",
      "3. **SEO Strategies and Content Generation Discussion (2024-10-03 12:00)**: This meeting involved strategies for improving SEO and content generation, with insights shared on collaboration with an SEO expert to update outdated articles and the potential of AI in content creation[12].\n"
     ]
    }
   ],
   "source": [
    "output, messages = await generate_output(query, messages)"
   ]
  },
  {
   "cell_type": "code",
   "execution_count": 78,
   "metadata": {},
   "outputs": [
    {
     "name": "stdout",
     "output_type": "stream",
     "text": [
      "[{'start': None, 'end': None, 'vector_search_query': 'SEO marketing strategies and Google Ads, competitor analysis, onboarding processes, SimilarWeb data interpretation.'}, {'start': None, 'end': None, 'vector_search_query': 'content creation tool for SEO optimization, keyword targeting, article ranking strategies, collaboration potential, case studies.'}, {'start': None, 'end': None, 'vector_search_query': 'improving SEO and content generation, collaboration with SEO experts, updating articles, AI in content creation.'}]\n",
      "The following tools were mentioned in the SEO meetings:\n",
      "\n",
      "1. **SimilarWeb**: Used for interpreting data to inform marketing decisions and analyze competitors' strategies[4].\n",
      "\n",
      "2. **Surfer SEO**: Discussed for its content editor features, which help optimize articles based on keyword targeting and competitor analysis. It provides a content score and recommendations for improving SEO performance[10][11].\n",
      "\n",
      "3. **Rank Math**: An SEO plugin for WordPress that helps manage meta descriptions, titles, and schema markup, enhancing website optimization[11].\n",
      "\n",
      "4. **Yoast**: Another SEO plugin for WordPress, similar to Rank Math, used for managing SEO elements on web pages[11].\n",
      "\n",
      "5. **Google Search Console**: Mentioned for tracking website performance and understanding organic search traffic[11].\n",
      "\n",
      "6. **PageSpeed Insights**: A tool for analyzing website loading speed and performance metrics[11]. \n",
      "\n",
      "7. **Elementor**: A WordPress page builder that allows for easy design and layout customization, facilitating SEO-friendly website creation[11]. \n",
      "\n",
      "These tools were discussed in the context of improving SEO strategies and content generation.\n"
     ]
    }
   ],
   "source": [
    "output, messages = await generate_output('wheech tools mentioned?', messages)"
   ]
  },
  {
   "cell_type": "code",
   "execution_count": 79,
   "metadata": {},
   "outputs": [
    {
     "name": "stdout",
     "output_type": "stream",
     "text": [
      "[{'start': datetime.datetime(2024, 9, 6, 17, 32, tzinfo=TzInfo(UTC)), 'end': datetime.datetime(2024, 9, 6, 17, 32, tzinfo=TzInfo(UTC)), 'vector_search_query': 'SEO Marketing Strategy Discussion'}, {'start': datetime.datetime(2024, 10, 1, 12, 19, tzinfo=TzInfo(UTC)), 'end': datetime.datetime(2024, 10, 1, 12, 19, tzinfo=TzInfo(UTC)), 'vector_search_query': 'SEO Tool Development Discussion'}, {'start': datetime.datetime(2024, 10, 3, 12, 0, tzinfo=TzInfo(UTC)), 'end': datetime.datetime(2024, 10, 3, 12, 0, tzinfo=TzInfo(UTC)), 'vector_search_query': 'SEO Strategies and Content Generation Discussion'}, {'start': None, 'end': None, 'vector_search_query': 'SimilarWeb'}, {'start': None, 'end': None, 'vector_search_query': 'Surfer SEO'}, {'start': None, 'end': None, 'vector_search_query': 'Rank Math'}, {'start': None, 'end': None, 'vector_search_query': 'Yoast'}, {'start': None, 'end': None, 'vector_search_query': 'Google Search Console'}, {'start': None, 'end': None, 'vector_search_query': 'PageSpeed Insights'}, {'start': None, 'end': None, 'vector_search_query': 'Elementor'}]\n",
      "The following tools were mentioned in the SEO meetings:\n",
      "\n",
      "1. **SimilarWeb**: Used for interpreting data to inform marketing decisions and analyze competitors' strategies.\n",
      "\n",
      "2. **Surfer SEO**: Discussed for its content editor features, which help optimize articles based on keyword targeting and competitor analysis. It provides a content score and recommendations for improving SEO performance.\n",
      "\n",
      "3. **Rank Math**: An SEO plugin for WordPress that helps manage meta descriptions, titles, and schema markup, enhancing website optimization.\n",
      "\n",
      "4. **Yoast**: Another SEO plugin for WordPress, similar to Rank Math, used for managing SEO elements on web pages. It helps users optimize their content for search engines by providing real-time feedback on readability and keyword usage, as well as generating XML sitemaps and managing breadcrumbs.\n",
      "\n",
      "5. **Google Search Console**: Mentioned for tracking website performance and understanding organic search traffic.\n",
      "\n",
      "6. **PageSpeed Insights**: A tool for analyzing website loading speed and performance metrics.\n",
      "\n",
      "7. **Elementor**: A WordPress page builder that allows for easy design and layout customization, facilitating SEO-friendly website creation.\n",
      "\n",
      "These tools were discussed in the context of improving SEO strategies and content generation.\n"
     ]
    }
   ],
   "source": [
    "output, messages = await generate_output('what is Yoast?', messages)\n"
   ]
  },
  {
   "cell_type": "code",
   "execution_count": 81,
   "metadata": {},
   "outputs": [
    {
     "data": {
      "text/plain": [
       "[Msg(role='user', content='list seo meetings', stage=None),\n",
       " Msg(role='assistant', content=\"The SEO meetings discussed in the context are as follows:\\n\\n1. **SEO Marketing Strategy Discussion (2024-09-06 17:32)**: This meeting focused on competitor SEO marketing strategies and Google Ads, emphasizing the need to review initial ideas and develop onboarding processes. The importance of interpreting data from SimilarWeb to inform marketing decisions was also highlighted[4].\\n\\n2. **SEO Tool Development Discussion (2024-10-01 12:19)**: In this meeting, Rick Tousseyn and Dmitriy Grankin discussed a content creation tool for SEO optimization, exploring existing tools, keyword targeting, and strategies for improving article rankings. They emphasized collaboration potential and the importance of case studies in demonstrating the tool's effectiveness[11].\\n\\n3. **SEO Strategies and Content Generation Discussion (2024-10-03 12:00)**: This meeting involved strategies for improving SEO and content generation, with insights shared on collaboration with an SEO expert to update outdated articles and the potential of AI in content creation[12].\", stage=None),\n",
       " Msg(role='user', content='wheech tools mentioned?', stage=None),\n",
       " Msg(role='assistant', content=\"The following tools were mentioned in the SEO meetings:\\n\\n1. **SimilarWeb**: Used for interpreting data to inform marketing decisions and analyze competitors' strategies[4].\\n\\n2. **Surfer SEO**: Discussed for its content editor features, which help optimize articles based on keyword targeting and competitor analysis. It provides a content score and recommendations for improving SEO performance[10][11].\\n\\n3. **Rank Math**: An SEO plugin for WordPress that helps manage meta descriptions, titles, and schema markup, enhancing website optimization[11].\\n\\n4. **Yoast**: Another SEO plugin for WordPress, similar to Rank Math, used for managing SEO elements on web pages[11].\\n\\n5. **Google Search Console**: Mentioned for tracking website performance and understanding organic search traffic[11].\\n\\n6. **PageSpeed Insights**: A tool for analyzing website loading speed and performance metrics[11]. \\n\\n7. **Elementor**: A WordPress page builder that allows for easy design and layout customization, facilitating SEO-friendly website creation[11]. \\n\\nThese tools were discussed in the context of improving SEO strategies and content generation.\", stage=None),\n",
       " Msg(role='user', content='what is Yoast?', stage=None),\n",
       " Msg(role='assistant', content=\"The following tools were mentioned in the SEO meetings:\\n\\n1. **SimilarWeb**: Used for interpreting data to inform marketing decisions and analyze competitors' strategies.\\n\\n2. **Surfer SEO**: Discussed for its content editor features, which help optimize articles based on keyword targeting and competitor analysis. It provides a content score and recommendations for improving SEO performance.\\n\\n3. **Rank Math**: An SEO plugin for WordPress that helps manage meta descriptions, titles, and schema markup, enhancing website optimization.\\n\\n4. **Yoast**: Another SEO plugin for WordPress, similar to Rank Math, used for managing SEO elements on web pages. It helps users optimize their content for search engines by providing real-time feedback on readability and keyword usage, as well as generating XML sitemaps and managing breadcrumbs.\\n\\n5. **Google Search Console**: Mentioned for tracking website performance and understanding organic search traffic.\\n\\n6. **PageSpeed Insights**: A tool for analyzing website loading speed and performance metrics.\\n\\n7. **Elementor**: A WordPress page builder that allows for easy design and layout customization, facilitating SEO-friendly website creation.\\n\\nThese tools were discussed in the context of improving SEO strategies and content generation.\", stage=None)]"
      ]
     },
     "execution_count": 81,
     "metadata": {},
     "output_type": "execute_result"
    }
   ],
   "source": [
    "messages"
   ]
  },
  {
   "cell_type": "code",
   "execution_count": 63,
   "metadata": {},
   "outputs": [
    {
     "data": {
      "text/plain": [
       "\"The SEO meetings discussed in the context are as follows:\\n\\n1. **SEO Marketing Strategy Discussion (2024-09-06 17:32)**: This meeting focused on competitor SEO marketing strategies and Google Ads, emphasizing the need to review initial ideas and develop onboarding processes. The importance of interpreting data from SimilarWeb to inform marketing decisions was also highlighted[4].\\n\\n2. **SEO Tool Development Discussion (2024-10-01 12:19)**: In this meeting, Rick Tousseyn and Dmitriy Grankin discussed a content creation tool for SEO optimization, exploring existing tools, keyword targeting, and strategies for improving article rankings. They emphasized collaboration potential and the importance of case studies in demonstrating the tool's effectiveness[8].\\n\\n3. **SEO Strategies and Content Generation Discussion (2024-10-03 12:00)**: This meeting involved strategies for improving SEO and content generation, with insights shared on updating outdated articles and the potential of AI in content creation. The importance of human oversight in maintaining quality was also discussed[9].\""
      ]
     },
     "execution_count": 63,
     "metadata": {},
     "output_type": "execute_result"
    }
   ],
   "source": [
    "output"
   ]
  },
  {
   "cell_type": "code",
   "execution_count": 53,
   "metadata": {},
   "outputs": [
    {
     "data": {
      "text/plain": [
       "['find all meetings that where about seo',\n",
       " \"The meetings that discussed SEO are as follows:\\n\\n1. **SEO Marketing Strategy Discussion (2024-09-06 17:32)**: Olga Nemirovskaya and Dmitriy Grankin discussed competitor SEO marketing strategies and Google Ads, emphasizing the need to review initial ideas and develop onboarding processes. They highlighted the importance of interpreting data from SimilarWeb to inform marketing decisions[4].\\n\\n2. **SEO Tool Development Discussion (2024-10-01 12:19)**: Rick Tousseyn and Dmitriy Grankin discussed a content creation tool for SEO optimization, exploring existing tools, keyword targeting, and strategies for improving article rankings. They emphasized collaboration potential and the importance of case studies in demonstrating the tool's effectiveness[8].\\n\\n3. **SEO Strategies and Content Generation Discussion (2024-10-03 12:00)**: Olga Mykhoparkina and Dmitriy Grankin discussed strategies for improving SEO and content generation, including collaboration with an SEO expert to update outdated articles and the potential of AI in content creation[9].\"]"
      ]
     },
     "execution_count": 53,
     "metadata": {},
     "output_type": "execute_result"
    }
   ],
   "source": [
    "' '.join([m.content for m in messages])\n",
    "queries = await analyzer.generate_search_queries(output+' '+query)"
   ]
  },
  {
   "cell_type": "code",
   "execution_count": 51,
   "metadata": {},
   "outputs": [
    {
     "name": "stdout",
     "output_type": "stream",
     "text": [
      "[{'start': None, 'end': None, 'vector_search_query': 'SEO marketing strategies and analytics tools discussed in meetings, including SimilarWeb and content creation tools for SEO optimization.'}, {'start': None, 'end': None, 'vector_search_query': 'Discussions on SEO strategies, content generation, and analytics tools used for improving article rankings and marketing decisions.'}, {'start': None, 'end': None, 'vector_search_query': 'Meetings that focused on SEO, including tools for keyword targeting and strategies for enhancing content visibility.'}, {'start': None, 'end': None, 'vector_search_query': 'SEO discussions involving analytics tools and strategies for optimizing content and improving search engine rankings.'}, {'start': None, 'end': None, 'vector_search_query': 'Meetings that covered SEO strategies, including the use of analytics tools like SimilarWeb and content creation tools for optimization.'}]\n"
     ]
    }
   ],
   "source": [
    "queries = await analyzer.generate_search_queries(output+' '+query)\n",
    "print(queries)"
   ]
  },
  {
   "cell_type": "code",
   "execution_count": null,
   "metadata": {},
   "outputs": [],
   "source": []
  },
  {
   "cell_type": "code",
   "execution_count": null,
   "metadata": {},
   "outputs": [],
   "source": []
  },
  {
   "cell_type": "code",
   "execution_count": 47,
   "metadata": {},
   "outputs": [
    {
     "data": {
      "text/plain": [
       "[Msg(role='user', content='find all meetings that where about seo', stage=None),\n",
       " Msg(role='user', content=\"The meetings that discussed SEO are as follows:\\n\\n1. **SEO Marketing Strategy Discussion (2024-09-06 17:32)**: Olga Nemirovskaya and Dmitriy Grankin discussed competitor SEO marketing strategies and Google Ads, emphasizing the need to review initial ideas and develop onboarding processes. They highlighted the importance of interpreting data from SimilarWeb to inform marketing decisions[4].\\n\\n2. **SEO Tool Development Discussion (2024-10-01 12:19)**: Rick Tousseyn and Dmitriy Grankin discussed a content creation tool for SEO optimization, exploring existing tools, keyword targeting, and strategies for improving article rankings. They emphasized collaboration potential and the importance of case studies in demonstrating the tool's effectiveness[8].\\n\\n3. **SEO Strategies and Content Generation Discussion (2024-10-03 12:00)**: Olga Mykhoparkina and Dmitriy Grankin discussed strategies for improving SEO and content generation, including collaboration with an SEO expert to update outdated articles and the potential of AI in content creation[9].\", stage=None)]"
      ]
     },
     "execution_count": 47,
     "metadata": {},
     "output_type": "execute_result"
    }
   ],
   "source": [
    "messages"
   ]
  },
  {
   "cell_type": "code",
   "execution_count": null,
   "metadata": {},
   "outputs": [],
   "source": [
    "await generate_output('which analityc tools mentioned?', messages)"
   ]
  },
  {
   "cell_type": "code",
   "execution_count": 16,
   "metadata": {},
   "outputs": [
    {
     "data": {
      "text/plain": [
       "'https://dashboard.vexa.ai/#6cf0b989-5e9c-4a57-a058-8f6ac0ca8025'"
      ]
     },
     "execution_count": 16,
     "metadata": {},
     "output_type": "execute_result"
    }
   ],
   "source": [
    "\n",
    "meeting_id_ref = 9\n",
    "dashboard_url = f\"https://dashboard.vexa.ai/#{meeting_ids[meeting_id_ref-1]}\"\n",
    "dashboard_url\n"
   ]
  },
  {
   "cell_type": "code",
   "execution_count": null,
   "metadata": {},
   "outputs": [],
   "source": []
  }
 ],
 "metadata": {
  "kernelspec": {
   "display_name": "langchain",
   "language": "python",
   "name": "python3"
  },
  "language_info": {
   "codemirror_mode": {
    "name": "ipython",
    "version": 3
   },
   "file_extension": ".py",
   "mimetype": "text/x-python",
   "name": "python",
   "nbconvert_exporter": "python",
   "pygments_lexer": "ipython3",
   "version": "3.11.2"
  }
 },
 "nbformat": 4,
 "nbformat_minor": 2
}
