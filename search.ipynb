{
 "cells": [
  {
   "cell_type": "code",
   "execution_count": 1,
   "metadata": {},
   "outputs": [],
   "source": [
    "%load_ext autoreload   "
   ]
  },
  {
   "cell_type": "code",
   "execution_count": 2,
   "metadata": {},
   "outputs": [],
   "source": [
    "k = 1000\n",
    "model = 'gpt-4o-mini'"
   ]
  },
  {
   "cell_type": "code",
   "execution_count": 96,
   "metadata": {},
   "outputs": [
    {
     "name": "stdout",
     "output_type": "stream",
     "text": [
      "The autoreload extension is already loaded. To reload it, use:\n",
      "  %reload_ext autoreload\n",
      "1279\n"
     ]
    }
   ],
   "source": [
    "%load_ext autoreload\n",
    "%autoreload 2\n",
    "\n",
    "import asyncio\n",
    "import pandas as pd\n",
    "from meeting_search import MeetingSearch, build_context_string\n",
    "from typing import List\n",
    "\n",
    "from qdrant_client import QdrantClient, models\n",
    "from sentence_transformers import SentenceTransformer, CrossEncoder\n",
    "from core import count_tokens\n",
    "\n",
    "from vexa import VexaAPI\n",
    "from core import system_msg, user_msg,generic_call_stream\n",
    "from datetime import datetime\n",
    "\n",
    "from prompts import Prompts\n",
    "prompts = Prompts()\n",
    "\n",
    "analyzer = MeetingSearch()\n",
    "print(analyzer.count_documents())\n",
    "from qdrant_client import QdrantClient, models\n",
    "from sentence_transformers import SentenceTransformer, CrossEncoder\n",
    "from core import count_tokens, assistant_msg\n",
    "from pydantic_models import QueryPlan, Query\n"
   ]
  },
  {
   "cell_type": "code",
   "execution_count": 97,
   "metadata": {},
   "outputs": [],
   "source": [
    "async def generate_output(query, messages):\n",
    "    query_ = ' '.join([m.content for m in messages])+' '+query\n",
    "    queries = await analyzer.generate_search_queries(query_)\n",
    "    print(queries)\n",
    "    summaries =  analyzer.get_summaries()\n",
    "    full_context, meeting_ids = await analyzer.build_context(queries, summaries,include_all_summaries=False)\n",
    "    pref = f\"Based on the following context, answer the question:\" if len(messages) == 0 else \"Follow-up request:\"\n",
    "    messages_context = [system_msg(prompts.perplexity), user_msg(f\"Context:\\n{full_context}\")] + messages + [user_msg(f\"{pref} {query}\")]\n",
    "    output = await generic_call_stream(messages_context)\n",
    "    messages.append(user_msg(query))\n",
    "    messages.append(assistant_msg(output))\n",
    "    return output, messages,meeting_ids\n",
    "\n"
   ]
  },
  {
   "cell_type": "code",
   "execution_count": 122,
   "metadata": {},
   "outputs": [],
   "source": [
    "messages=[]"
   ]
  },
  {
   "cell_type": "code",
   "execution_count": 127,
   "metadata": {},
   "outputs": [
    {
     "name": "stdout",
     "output_type": "stream",
     "text": [
      "[{'start': None, 'end': None, 'vector_search_query': 'Vexa user feedback on real-time transcription capabilities and user-friendly interface'}, {'start': None, 'end': None, 'vector_search_query': 'User experiences with Vexa compared to Fireflies and other competitors'}, {'start': None, 'end': None, 'vector_search_query': \"User feedback on Vexa's absence of bots during meetings\"}, {'start': None, 'end': None, 'vector_search_query': 'User-centric development feedback for Vexa'}, {'start': None, 'end': None, 'vector_search_query': \"User satisfaction with Vexa's functionality and flexibility\"}]\n",
      "Here’s a suggested layout and content for a landing page for Vexa, incorporating user feedback and highlighting its competitive advantages:\n",
      "\n",
      "---\n",
      "\n",
      "## Vexa: Your Real-Time Meeting Assistant\n",
      "\n",
      "### Transform Your Meetings with Vexa\n",
      "\n",
      "Experience seamless communication and enhanced productivity with Vexa, the real-time transcription assistant designed for Google Meet. Say goodbye to cumbersome note-taking and hello to effortless collaboration.\n",
      "\n",
      "---\n",
      "\n",
      "### Key Features\n",
      "\n",
      "#### **Real-Time Transcription**\n",
      "Capture every detail as it happens. Vexa provides live transcription during your meetings, ensuring you never miss a crucial point.\n",
      "\n",
      "#### **User-Friendly Interface**\n",
      "Navigate effortlessly with our clean and intuitive design. Access transcripts and summaries with just a few clicks, allowing you to focus on what truly matters.\n",
      "\n",
      "#### **No Bots, Just You**\n",
      "Enjoy natural conversations without the distraction of intrusive bots. Vexa operates quietly in the background, enhancing your meeting experience without interrupting the flow.\n",
      "\n",
      "#### **Interactive Highlights**\n",
      "Stay engaged with real-time highlighting of important information. Easily reference key terms and names during discussions, making your meetings more productive.\n",
      "\n",
      "#### **User-Centric Development**\n",
      "We listen to our users! Vexa is continuously evolving based on your feedback, ensuring that we meet your needs and enhance your experience.\n",
      "\n",
      "---\n",
      "\n",
      "### What Our Users Say\n",
      "\n",
      "> \"Vexa's real-time capabilities allow me to interact with the transcript during calls, enhancing my ability to focus on key points.\"  \n",
      "— **Robert Hangu**\n",
      "\n",
      "> \"The absence of a bot makes Vexa a preferred choice. It allows for a more natural conversation flow.\"  \n",
      "— **Umar Lateef**\n",
      "\n",
      "> \"I appreciate how Vexa actively seeks user feedback for continuous improvement. It shows they care about our experience.\"  \n",
      "— **Dmitriy Grankin**\n",
      "\n",
      "---\n",
      "\n",
      "### Why Choose Vexa?\n",
      "\n",
      "- **Enhanced Productivity**: Focus on your discussions while Vexa handles the transcription.\n",
      "- **Seamless Integration**: Works effortlessly with Google Meet, making it easy to get started.\n",
      "- **Continuous Improvement**: Our commitment to user feedback ensures that Vexa evolves to meet your needs.\n",
      "\n",
      "---\n",
      "\n",
      "### Get Started Today!\n",
      "\n",
      "Join the growing community of users who are transforming their meetings with Vexa. Sign up now for a free trial and experience the difference!\n",
      "\n",
      "[**Start Your Free Trial**]\n",
      "\n",
      "---\n",
      "\n",
      "### Stay Connected\n",
      "\n",
      "Follow us on social media for updates, tips, and user stories!\n",
      "\n",
      "- [Facebook]\n",
      "- [Twitter]\n",
      "- [LinkedIn]\n",
      "\n",
      "---\n",
      "\n",
      "### Contact Us\n",
      "\n",
      "Have questions? Reach out to our support team at [support@vexa.com] or visit our [Help Center].\n",
      "\n",
      "---\n",
      "\n",
      "This landing page layout emphasizes Vexa's unique selling points, user testimonials, and a clear call to action, encouraging potential users to engage with the product.\n"
     ]
    }
   ],
   "source": [
    "query = 'now given all that create landing page'\n",
    "output, messages,meeting_ids = await generate_output(query, messages)"
   ]
  },
  {
   "cell_type": "code",
   "execution_count": null,
   "metadata": {},
   "outputs": [],
   "source": []
  },
  {
   "cell_type": "code",
   "execution_count": 120,
   "metadata": {},
   "outputs": [
    {
     "data": {
      "text/plain": [
       "'https://dashboard.vexa.ai/#c57bb398-711b-42be-aa4f-9c75b0b4759b'"
      ]
     },
     "execution_count": 120,
     "metadata": {},
     "output_type": "execute_result"
    }
   ],
   "source": [
    "\n",
    "meeting_id_ref = 3\n",
    "dashboard_url = f\"https://dashboard.vexa.ai/#{meeting_ids[meeting_id_ref-1]}\"\n",
    "dashboard_url\n"
   ]
  },
  {
   "cell_type": "code",
   "execution_count": null,
   "metadata": {},
   "outputs": [],
   "source": []
  }
 ],
 "metadata": {
  "kernelspec": {
   "display_name": "langchain",
   "language": "python",
   "name": "python3"
  },
  "language_info": {
   "codemirror_mode": {
    "name": "ipython",
    "version": 3
   },
   "file_extension": ".py",
   "mimetype": "text/x-python",
   "name": "python",
   "nbconvert_exporter": "python",
   "pygments_lexer": "ipython3",
   "version": "3.11.2"
  }
 },
 "nbformat": 4,
 "nbformat_minor": 2
}
