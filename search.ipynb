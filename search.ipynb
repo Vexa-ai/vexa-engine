{
 "cells": [
  {
   "cell_type": "code",
   "execution_count": 1,
   "metadata": {},
   "outputs": [],
   "source": [
    "%load_ext autoreload   "
   ]
  },
  {
   "cell_type": "code",
   "execution_count": 2,
   "metadata": {},
   "outputs": [],
   "source": [
    "k = 1000\n",
    "model = 'gpt-4o-mini'"
   ]
  },
  {
   "cell_type": "code",
   "execution_count": 3,
   "metadata": {},
   "outputs": [
    {
     "name": "stdout",
     "output_type": "stream",
     "text": [
      "The autoreload extension is already loaded. To reload it, use:\n",
      "  %reload_ext autoreload\n"
     ]
    }
   ],
   "source": [
    "%load_ext autoreload\n",
    "%autoreload 2\n",
    "\n",
    "import asyncio\n",
    "import pandas as pd\n",
    "from meeting_search import MeetingSearch, build_context_string\n",
    "from typing import List\n",
    "\n",
    "from qdrant_client import QdrantClient, models\n",
    "from sentence_transformers import SentenceTransformer, CrossEncoder\n",
    "from core import count_tokens\n",
    "\n",
    "from vexa import VexaAPI\n",
    "from core import system_msg, user_msg,generic_call_stream\n",
    "from datetime import datetime\n",
    "\n",
    "from prompts import Prompts\n",
    "prompts = Prompts()\n",
    "\n",
    "\n",
    "from qdrant_client import QdrantClient, models\n",
    "from sentence_transformers import SentenceTransformer, CrossEncoder\n",
    "from core import count_tokens, assistant_msg\n",
    "from pydantic_models import QueryPlan, Query\n"
   ]
  },
  {
   "cell_type": "code",
   "execution_count": 4,
   "metadata": {},
   "outputs": [
    {
     "name": "stdout",
     "output_type": "stream",
     "text": [
      "User information retrieved successfully.\n",
      "49\n"
     ]
    }
   ],
   "source": [
    "vexa = VexaAPI()\n",
    "analyzer = MeetingSearch()\n",
    "print(analyzer.count_documents())\n"
   ]
  },
  {
   "cell_type": "code",
   "execution_count": 5,
   "metadata": {},
   "outputs": [
    {
     "data": {
      "text/plain": [
       "'Dmitriy Grankin'"
      ]
     },
     "execution_count": 5,
     "metadata": {},
     "output_type": "execute_result"
    }
   ],
   "source": [
    "vexa.user_name\n"
   ]
  },
  {
   "cell_type": "code",
   "execution_count": 6,
   "metadata": {},
   "outputs": [
    {
     "data": {
      "text/plain": [
       "'ef7c085b-fdb5-4c94-b7b6-a61a3d04c210'"
      ]
     },
     "execution_count": 6,
     "metadata": {},
     "output_type": "execute_result"
    }
   ],
   "source": [
    "vexa.user_id"
   ]
  },
  {
   "cell_type": "code",
   "execution_count": 10,
   "metadata": {},
   "outputs": [],
   "source": [
    "async def generate_output(query, messages, user_id=None, user_name=None):\n",
    "    query_ = ' '.join([m.content for m in messages]) + ' ' + query\n",
    "    queries = await analyzer.generate_search_queries(query_,user_id=user_id,user_name=user_name)\n",
    "    print(queries)\n",
    "    \n",
    "    if not user_id and not user_name:\n",
    "        raise ValueError(\"Either user_id or user_name must be provided\")\n",
    "    \n",
    "    summaries = analyzer.get_summaries(user_id=user_id, user_name=user_name)\n",
    "    full_context, meeting_ids = await analyzer.build_context(queries, summaries, include_all_summaries=False, user_id=user_id, user_name=user_name)\n",
    "    \n",
    "    pref = \"Based on the following context, answer the question:\" if len(messages) == 0 else \"Follow-up request:\"\n",
    "    user_info = f\"The User is {user_name}\"\n",
    "    messages_context = [\n",
    "        system_msg(prompts.perplexity + f'. {user_info}'), \n",
    "        user_msg(f\"Context:\\n{full_context}\")\n",
    "    ] + messages + [user_msg(f\"{pref} {query}\")]\n",
    "    \n",
    "    output = await generic_call_stream(messages_context)\n",
    "    messages.append(user_msg(query))\n",
    "    messages.append(assistant_msg(output))\n",
    "    return output, messages, meeting_ids, full_context"
   ]
  },
  {
   "cell_type": "code",
   "execution_count": 70,
   "metadata": {},
   "outputs": [],
   "source": [
    "async def generate_output(query, messages, user_id=None, user_name=None, thread_id=None):\n",
    "    query_ = ' '.join([m.content for m in messages]) + ' ' + query\n",
    "    queries = await analyzer.generate_search_queries(query_, user_id=user_id, user_name=user_name)\n",
    "    print(queries)\n",
    "    \n",
    "    if not user_id and not user_name:\n",
    "        raise ValueError(\"Either user_id or user_name must be provided\")\n",
    "    \n",
    "    summaries = analyzer.get_summaries(user_id=user_id, user_name=user_name)\n",
    "    full_context, meeting_ids = await analyzer.build_context(queries, summaries, include_all_summaries=False, user_id=user_id, user_name=user_name)\n",
    "    \n",
    "    pref = \"Based on the following context, answer the question:\" if len(messages) == 0 else \"Follow-up request:\"\n",
    "    user_info = f\"The User is {user_name}\"\n",
    "    messages_context = [\n",
    "        system_msg(prompts.perplexity + f'. {user_info}'), \n",
    "        user_msg(f\"Context:\\n{full_context}\")\n",
    "    ] + messages + [user_msg(f\"{pref} {query}\")]\n",
    "    \n",
    "    output = await generic_call_stream(messages_context)\n",
    "    messages.append(user_msg(query))\n",
    "    messages.append(assistant_msg(output))\n",
    "\n",
    "    # Create or update thread\n",
    "    thread_manager = ThreadManager()\n",
    "    if not thread_id:  # New conversation\n",
    "        messages_str = ';'.join([m.content for m in messages if m.role == 'user'])\n",
    "        thread_name = await ThreadName.call([user_msg(messages_str)])\n",
    "        thread_id = thread_manager.create_thread(user_id=user_id, thread_name=thread_name.thread_name, messages=messages)\n",
    "    else:  # Existing conversation\n",
    "        thread_manager.update_thread(thread_id, messages)\n",
    "\n",
    "    return output, messages, meeting_ids, full_context, thread_id"
   ]
  },
  {
   "cell_type": "code",
   "execution_count": 71,
   "metadata": {},
   "outputs": [],
   "source": [
    "messages=[]"
   ]
  },
  {
   "cell_type": "code",
   "execution_count": 72,
   "metadata": {},
   "outputs": [],
   "source": [
    "from pydantic_models import ThreadName"
   ]
  },
  {
   "cell_type": "code",
   "execution_count": 73,
   "metadata": {},
   "outputs": [],
   "source": [
    "messages_str = ';'.join([m.content for m in messages if m.role == 'user'])"
   ]
  },
  {
   "cell_type": "code",
   "execution_count": 67,
   "metadata": {},
   "outputs": [
    {
     "data": {
      "text/plain": [
       "(ThreadName(thread_name='who do i work with?'),\n",
       " ChatCompletion(id='chatcmpl-AJMnZ5Rgbyhq4Bl3vINXacc3iehsE', choices=[Choice(finish_reason='stop', index=0, logprobs=None, message=ChatCompletionMessage(content=None, refusal=None, role='assistant', function_call=None, tool_calls=[ChatCompletionMessageToolCall(id='call_lPQBPOq64w5LdngpZEEGV5wb', function=Function(arguments='{\"thread_name\":\"who do i work with?\"}', name='ThreadName'), type='function')]))], created=1729179233, model='gpt-4o-mini-2024-07-18', object='chat.completion', service_tier=None, system_fingerprint='fp_e2bde53e6e', usage=CompletionUsage(completion_tokens=11, prompt_tokens=101, total_tokens=112, completion_tokens_details=None, prompt_tokens_details=None)))"
      ]
     },
     "execution_count": 67,
     "metadata": {},
     "output_type": "execute_result"
    }
   ],
   "source": [
    "await ThreadName.call([user_msg(messages_str)])\n"
   ]
  },
  {
   "cell_type": "code",
   "execution_count": 24,
   "metadata": {},
   "outputs": [
    {
     "name": "stdout",
     "output_type": "stream",
     "text": [
      "[{'start': None, 'end': None, 'vector_search_query': 'Dmitriy Grankin'}, {'start': None, 'end': None, 'vector_search_query': 'Olga Nemirovskaya'}, {'start': None, 'end': None, 'vector_search_query': 'Tatiana Sukhova'}, {'start': None, 'end': None, 'vector_search_query': 'Rick Tousseyn'}, {'start': None, 'end': None, 'vector_search_query': 'Nikolay'}, {'start': None, 'end': None, 'vector_search_query': 'Umar Lateef'}, {'start': None, 'end': None, 'vector_search_query': 'Sergey Ryabenko'}, {'start': None, 'end': None, 'vector_search_query': 'David Sterry'}, {'start': None, 'end': None, 'vector_search_query': 'Angelina Geru'}, {'start': None, 'end': None, 'vector_search_query': 'Igor Bessonov'}]\n",
      "You work with several individuals, including Umar Lateef, Tatiana Sukhova, Rick Tousseyn, Olga Nemirovskaya, Angelina Geru, and Igor Bessonov. Your discussions cover various topics such as social media strategies, product development, marketing strategies, and technical troubleshooting.\n"
     ]
    }
   ],
   "source": [
    "query = 'who do i work with?'\n",
    "output, messages,meeting_ids,full_context = await generate_output(query, messages,user_id=vexa.user_id,user_name=vexa.user_name)"
   ]
  },
  {
   "cell_type": "code",
   "execution_count": 36,
   "metadata": {},
   "outputs": [],
   "source": [
    "from core import Msg"
   ]
  },
  {
   "cell_type": "code",
   "execution_count": 37,
   "metadata": {},
   "outputs": [
    {
     "data": {
      "text/plain": [
       "core.Msg"
      ]
     },
     "execution_count": 37,
     "metadata": {},
     "output_type": "execute_result"
    }
   ],
   "source": [
    "Msg"
   ]
  },
  {
   "cell_type": "code",
   "execution_count": 38,
   "metadata": {},
   "outputs": [],
   "source": [
    "from assistant_thread import SearchAssistantThreadManager"
   ]
  },
  {
   "cell_type": "code",
   "execution_count": 44,
   "metadata": {},
   "outputs": [],
   "source": [
    "\n",
    "thread_manager = SearchAssistantThreadManager()\n",
    "\n",
    "# Then you can use it as before:\n",
    "thread_id = thread_manager.create_thread(user_id=\"user123\", thread_name=\"My First Thread1\", messages=messages,thread_id=thread_id)"
   ]
  },
  {
   "cell_type": "code",
   "execution_count": 45,
   "metadata": {},
   "outputs": [
    {
     "data": {
      "text/plain": [
       "'73ace234-2c88-4d4b-bc2a-24bdbe1691fc'"
      ]
     },
     "execution_count": 45,
     "metadata": {},
     "output_type": "execute_result"
    }
   ],
   "source": [
    "thread_id"
   ]
  },
  {
   "cell_type": "code",
   "execution_count": 46,
   "metadata": {},
   "outputs": [
    {
     "data": {
      "text/plain": [
       "SearchAssistantThread(thread_id='73ace234-2c88-4d4b-bc2a-24bdbe1691fc', user_id='user123', thread_name='My First Thread1', messages=[Msg(role='user', content='who do i work with?', stage=None), Msg(role='assistant', content='You work with several individuals, including Umar Lateef, Tatiana Sukhova, Rick Tousseyn, Olga Nemirovskaya, Angelina Geru, and Igor Bessonov. Your discussions cover various topics such as social media strategies, product development, marketing strategies, and technical troubleshooting.', stage=None)], timestamp=datetime.datetime(2024, 10, 17, 15, 20, 46, 572578))"
      ]
     },
     "execution_count": 46,
     "metadata": {},
     "output_type": "execute_result"
    }
   ],
   "source": [
    "thread_manager.get_thread(thread_id)"
   ]
  },
  {
   "cell_type": "code",
   "execution_count": 21,
   "metadata": {},
   "outputs": [
    {
     "data": {
      "text/plain": [
       "[Msg(role='user', content='who is the user?', stage=None),\n",
       " Msg(role='assistant', content='The user is Dmitriy Grankin.', stage=None),\n",
       " Msg(role='user', content='who do i work with?', stage=None),\n",
       " Msg(role='assistant', content='You work with Sergey Ryabenko, as indicated in the discussions regarding the Figma plugin for HTML generation and other technical meetings.', stage=None),\n",
       " Msg(role='user', content='who do i work with?', stage=None),\n",
       " Msg(role='assistant', content='You work with Sergey Ryabenko, as well as other team members involved in various discussions and testing sessions.', stage=None)]"
      ]
     },
     "execution_count": 21,
     "metadata": {},
     "output_type": "execute_result"
    }
   ],
   "source": [
    "messages"
   ]
  },
  {
   "cell_type": "code",
   "execution_count": 16,
   "metadata": {},
   "outputs": [
    {
     "name": "stdout",
     "output_type": "stream",
     "text": [
      "# [1] Figma Plugin Discussion (2024-10-14 13:21):\n",
      "In a technical meeting on October 14, 2024, Sergey Ryabenko and Dmitriy Grankin discussed the use of a Figma plugin for HTML generation. They addressed issues with the plugin's performance, the need for responsive design, and the potential use of Tailwind CSS for styling. The conversation included troubleshooting steps and the importance of exporting code effectively.\n",
      "## Related Quotes:\n",
      ":  Все, Дим, давай. :  Нет, попробуем, попробуем сперва, попробуем. :  Давай, пока.\n",
      "Dmitriy Grankin:  export code get pro давай export Sergey Ryabenko:  download zip Dmitriy Grankin:  Не, окей, а посмотреть-то можно, что получилось? Dmitriy Grankin:  Ну вот ты смотришь, видимо. Dmitriy Grankin:  Так я же хочу посмотреть на код. Sergey Ryabenko:  Ну, сделай инспект. Sergey Ryabenko:  А-а-а. Dmitriy Grankin:  Логично. Sergey Ryabenko:  Ты можешь, знаешь, что попробовать? Sergey Ryabenko:  Подожди, кликни правой кнопкой, там должно быть... Sergey Ryabenko:  Кликни правой кнопкой на вот этот фрейм. Sergey Ryabenko:  На код, на вот это, да. Dmitriy Grankin:  На какой-нибудь код. Dmitriy Grankin:  На любом, куда угодно, да. Sergey Ryabenko:  Кликни, кликни, кликни. Sergey Ryabenko:  Save as. Sergey Ryabenko:  И, ну да, вот так вот. Sergey Ryabenko:  Попробую теперь открыть сохраненное.\n",
      "Dmitriy Grankin:  Поэтому нужен дизайн-мод, который только в профессиональном варианте. Dmitriy Grankin:  У тебя же вроде про... Sergey Ryabenko:  Насколько я понял. Sergey Ryabenko:  Нет. Sergey Ryabenko:  А, я понял. Dmitriy Grankin:  А у тебя? Dmitriy Grankin:  Нет. Sergey Ryabenko:  Ну, я думаю, взять этот, взять trial, если есть. Dmitriy Grankin:  Właśnie Ci powtórzę, jak to by się... Dmitriy Grankin:  этот вообще вариант обещает ну хотя бы выдал бы вверх и больше Tu nic nie trzeba. Sergey Ryabenko:  Tak, ty już na polskim mówiłeś. Sergey Ryabenko:  Właśnie się powtórzy jak to być. Sergey Ryabenko:  из я вот короче тот меня выдал но как-то нестабильно работает Dmitriy Grankin:  Видишь, ему всем вот этот девелоперский нужен. Dmitriy Grankin:  Подключить что-нибудь. Dmitriy Grankin:  Ага, ну вот видишь, даже вроде ему нужен. Dmitriy Grankin:  Говорит, что логинщик просто. Dmitriy Grankin:  working complete get called html react view don't care Sergey Ryabenko:  html давай. :  Респонсив. Dmitriy Grankin:  Да, респонсив. Dmitriy Grankin:  very responsive page select the frames you want to add some breakpoint breakpoints ну давай попробуем что-то происходит\n",
      "Dmitriy Grankin:  Да, смотри, плагинчик. Dmitriy Grankin:  Вот фигму открываешь, берешь какой-то элемент, плагин, html generator что-то что-то делают может поменьше взять долго делает, потому что какой-то объект поменьше. Dmitriy Grankin:  Ну, я не знаю, просто. Sergey Ryabenko:  Ну, он DailySync. Sergey Ryabenko:  Ну, да, давай вот этот вот. Dmitriy Grankin:  Что-то он-то долго крутит, то сразу выдаёт. Dmitriy Grankin:  Может, другой какой-нибудь посмотреть. Dmitriy Grankin:  Там большой магазин платит. Dmitriy Grankin:  То ли это у него там просто что-то, то работает, то не работает, я не знаю. Dmitriy Grankin:  пойдем что только что выдал сразу до этого тоже крутил не понимаю I don't know.\n",
      "Sergey Ryabenko:  но и тоже на практике нет сейчас глянем ой дим это ужас чокаса полная ну то есть как бы у них там свой какой-то походу, фреймворк кссный. Dmitriy Grankin:  Ну, так надо, может, ему что-то сказать было про то, что ему что, tailwind там? Dmitriy Grankin:  Ну, да, можешь попробовать tailwind. Sergey Ryabenko:  которые там, плагин, который в Tailwind, а так они, да, они каждый элемент своим этим, своим стилем описывают, то есть никакого масштабирования. Sergey Ryabenko:  Ну, короче, свой велосипед у них. Sergey Ryabenko:  Так что да, попробую там плагин этот в Tailwind, который... Sergey Ryabenko:  Нет, это не вариант. Dmitriy Grankin:  вот такой а мы делаем уж так и делали что имели а что сделать реакции мнение там другой плагин другой плагин есть который Sergey Ryabenko:  Втайлвінд. Sergey Ryabenko:  Втайлвінд. Sergey Ryabenko:  Ага, точно. Dmitriy Grankin:  Попробуємо. Dmitriy Grankin:  Плайдінгу. Dmitriy Grankin:  Фігмуотеку. Dmitriy Grankin:  Почтімо. Sergey Ryabenko:  Там прям есть конкретный плагин именно для Tailwind, узкоспециализированный. Dmitriy Grankin:  Что-то задумалось.\n",
      "\n",
      "---\n",
      "\n",
      "# [2] Team Discussion on System Operations (2024-10-14 13:37):\n",
      "The meeting involved a casual discussion among team members about the workings of their system. Participants expressed interest in understanding the system better, although there were moments of confusion regarding the presentation of information.\n",
      "## Related Quotes:\n",
      ":  con gusto :  как у нас происходит работа нашей системы прям очень даже интересно посмотреть очень даже\n",
      ":  интересно посмотреть как работает работа нашей системы эй ты чё мне вываливаешь какую-то фигню :  Где мой текст, который я говорю?\n",
      "\n",
      "---\n",
      "\n",
      "# [3] Service Functionality Check (2024-10-15 11:03):\n",
      "The meeting focused on verifying the functionality of a service, emphasizing the importance of operational checks to ensure service reliability and performance.\n",
      "## Related Quotes:\n",
      ":  проверка работы сервиса\n",
      "\n",
      "---\n",
      "\n",
      "# [4] System Functionality Test (2024-10-15 16:07):\n",
      "Dmitriy Grankin conducted a system functionality test, confirming its operation. The meeting included multilingual phrases, suggesting a diverse testing environment. Key points include system checks and user feedback.\n",
      "## Related Quotes:\n",
      "Dmitriy Grankin:  Thank you.\n",
      "Dmitriy Grankin:  다음 영상에서 만나요. Dmitriy Grankin:  Thank you. :  हुआ है :  Dzięki za oglądanie. :  Mom, I hate\n",
      "Dmitriy Grankin:  Тестирую проверку системы.\n",
      "Dmitriy Grankin:  Работает, не работает.\n",
      "\n",
      "---\n",
      "\n",
      "# [5] System Testing Session (2024-10-16 12:56):\n",
      "The meeting involved testing the functionality of a system, with participants confirming the system's operational status. Key focus was on ensuring the system works as intended.\n",
      "## Related Quotes:\n",
      ":  Тестировал работу системы.\n",
      ":  тестирую работы системы тестирую работу системы\n",
      "\n",
      "---\n",
      "\n",
      "# [6] Testing Meeting on File Names (2024-10-16 20:20):\n",
      "Dmitriy Grankin led a testing meeting discussing the process and format of file names. The conversation included informal exchanges and questions about file naming conventions, indicating a trial session rather than a formal meeting.\n",
      "## Related Quotes:\n",
      "Dmitriy Grankin:  Тестируем, как будет проходить это что-то, где-то как-то и будет ли оно проходить. Dmitriy Grankin:  Проходить. Отлично.\n",
      "Dmitriy Grankin:  Если вы можете рассказать, какие формы?\n",
      ":  Oké, we zien jullie vroeger. :  И вот, будем так делать, файл name, что такое файл name, какой файл name блин\n",
      "\n",
      "---\n",
      "\n",
      "# [7] System Functionality Testing Session (2024-10-17 15:43):\n",
      "The meeting focused on testing a system's functionality, specifically its data saving capabilities. Participants discussed the system's performance, confirming that it is currently operational but requires further refinement. The conversation included various testing phrases and feedback on the system's reliability.\n",
      "## Related Quotes:\n",
      ":  Okay. :  Ну и что, в итоге все работает, да? :  на бойке\n",
      ":  Работает, окей :  Ну ладно, это все там. :  Ну, нормально, там, ниче яйцами, ниче яйцами. :  4 минуты :  Вообще, зачем вот это... :  Поэтому вы мне это можете поставить. :  Тебе же вообще не нужна получается эта :  Да, очень много перерабатывать. :  в общем надо перерабатывать систему :  В общем, вот прорабатывается система.\n",
      ":  Тестируем, что происходит, тестируем, что происходит, :  Как работает или не работает. :  Здесь пока ничего нету, здесь Stop Length есть. :  Теперь мы хотим понять, как он будет сохранять или не будет сохранять. :  что-то происходит но не зафиксировать :  Сохраняется или не сохраняется? :  Mm-hmm. :  1 минута 39 секунд. Тестируем, что происходит. Давай дождемся. :  Thank you. :  пока не теряется хорошо пока не теряется :  Работает.\n",
      "\n",
      "---\n",
      "\n",
      "# [8] Testing Session with Dmitriy Grankin (2024-10-17 16:09):\n",
      "Dmitriy Grankin conducts a testing session to evaluate the functionality of a system. The meeting features informal dialogue, humor, and a mix of languages, indicating a light-hearted atmosphere. No significant decisions or business matters are discussed.\n",
      "## Related Quotes:\n",
      "Dmitriy Grankin:  Вчерашняя баранья херня. Dmitriy Grankin:  Вчерашняя баранья херня. Dmitriy Grankin:  Ни за что не работает херня.\n",
      "Dmitriy Grankin:  тестирую что происходят тестируют и что происходит как работает эта херовина если вообще работаем ученики Работает эта херовина, это будет очень интересно узнать. Dmitriy Grankin:  Что такое пришло? Что такое пришло? Dmitriy Grankin:  Где мое я? Dmitriy Grankin:  Ну, работаем.\n",
      "Dmitriy Grankin:  Tee-dee-ha-dee-ha-dee, na-dee-ha-dee-ha-dee, tee-dee-ha-dee. Dmitriy Grankin:  Tiri Hari Naari Hari Naari Hari Oh, yeah, the hearty, hearty, hearty, hearty, hearty. Dmitriy Grankin:  Howdy Howdy Howdy Howdy Howdy吉里哈里玛里哈里玛里 Choo-roo. :  Howdy Howdy Howdy Howdy Howdy :  Hotty Naughty Home :  Tee hee hee hee hee hee\n",
      "\n",
      "---\n",
      "\n",
      "# [9] Testing Session Review (2024-10-17 16:31):\n",
      "The meeting involved informal discussions about the status of a testing session, with expressions of frustration regarding the absence of speakers. Participants reflected on the outcomes of the tests and the overall situation.\n",
      "## Related Quotes:\n",
      ":  Прошло, получилось, не получилось, что происходит, не происходит.\n",
      ":  еще одну делаем тестировочку как чоп :  Прошло, получилось, не получилось, что происходит, не происходит. :  Чувствую, где мои прекрасные далёкие... :  Куда делись спикеры, это ваша мать. :  Куда спикеры-то делись опять, а?\n",
      ":  Чувствую, где мои прекрасные далёкие...\n",
      "\n",
      "---\n",
      "\n",
      "# [10] Testing Session on SPO Functionality (2024-10-17 16:36):\n",
      "Dmitriy Grankin conducts a testing session, focusing on SPO functionality and inquiring about the current build version. The meeting includes informal reactions and testing phrases, indicating a collaborative environment.\n",
      "## Related Quotes:\n",
      "Dmitriy Grankin:  Тестирую, тестирую, тестирую. Dmitriy Grankin:  Тестирую, тестирую, тестирую, тестирую.\n",
      "Dmitriy Grankin:  Так, что происходит, тестируем.\n",
      "Dmitriy Grankin:  Это какой билд у меня?\n",
      ":  что-то такое :  Merci. :  Wow.\n",
      "Dmitriy Grankin:  Что со SPO работает?\n",
      "\n",
      "---\n",
      "\n"
     ]
    }
   ],
   "source": [
    "print(full_context)"
   ]
  },
  {
   "cell_type": "code",
   "execution_count": 152,
   "metadata": {},
   "outputs": [
    {
     "data": {
      "text/plain": [
       "8835"
      ]
     },
     "execution_count": 152,
     "metadata": {},
     "output_type": "execute_result"
    }
   ],
   "source": [
    "count_tokens(full_context)"
   ]
  },
  {
   "cell_type": "code",
   "execution_count": 153,
   "metadata": {},
   "outputs": [
    {
     "data": {
      "text/plain": [
       "0.44999999999999996"
      ]
     },
     "execution_count": 153,
     "metadata": {},
     "output_type": "execute_result"
    }
   ],
   "source": [
    "30000*100/1000000*0.15"
   ]
  },
  {
   "cell_type": "code",
   "execution_count": 149,
   "metadata": {},
   "outputs": [
    {
     "name": "stdout",
     "output_type": "stream",
     "text": [
      "[{'start': None, 'end': None, 'vector_search_query': 'candidate evaluation for backend positions, concerns about qualifications and fit, ongoing evaluation process, overqualified candidates, coding abilities assessment'}, {'start': None, 'end': None, 'vector_search_query': 'status of backend position, open positions, candidate qualifications, technical role evaluations, long-term fit for team'}, {'start': None, 'end': None, 'vector_search_query': 'names of candidates considered for backend roles, assessment of coding skills, theoretical knowledge vs practical abilities, ongoing evaluations'}, {'start': None, 'end': None, 'vector_search_query': 'discussions on backend candidate evaluations, concerns about overqualified candidates, importance of practical coding skills, team fit'}, {'start': None, 'end': None, 'vector_search_query': 'current status of backend position, candidate evaluation process, qualifications of candidates, ongoing search for suitable candidates'}]\n",
      "The discussions include references to specific candidates, but only a few names are mentioned along with their assessments:\n",
      "\n",
      "1. **Andrey**: Praised for his coding abilities and approach to projects. He demonstrated a strong understanding of backend development and was noted for his efficiency in writing code that aligned well with project requirements.\n",
      "\n",
      "2. **Alexander**: Mentioned as a potentially strong candidate, but there were concerns about whether he could match Andrey's speed and quality of work. The assessment suggested that if Alexander could perform comparably to Andrey, he would be a viable option.\n",
      "\n",
      "3. **Nikita**: Noted for providing vague responses during evaluations, which raised concerns about his understanding of practical applications in backend development. His performance was seen as lacking clarity and specificity.\n",
      "\n",
      "The overall assessment indicates a focus on finding candidates who not only have the necessary technical skills but also fit well within the team dynamics and can contribute effectively to ongoing projects[6][7].\n"
     ]
    }
   ],
   "source": [
    "query = 'list all condidate names considered and your assessment'\n",
    "output, messages,meeting_ids,full_context = await generate_output(query, messages)"
   ]
  },
  {
   "cell_type": "code",
   "execution_count": 142,
   "metadata": {},
   "outputs": [
    {
     "name": "stdout",
     "output_type": "stream",
     "text": [
      "[{'start': datetime.datetime(2024, 10, 1, 0, 0), 'end': datetime.datetime(2024, 10, 17, 23, 59, 59), 'vector_search_query': 'candidates for backend development'}, {'start': datetime.datetime(2024, 10, 1, 0, 0), 'end': datetime.datetime(2024, 10, 17, 23, 59, 59), 'vector_search_query': 'backend developer position status'}, {'start': datetime.datetime(2024, 10, 1, 0, 0), 'end': datetime.datetime(2024, 10, 17, 23, 59, 59), 'vector_search_query': 'discussion on backend candidates'}, {'start': datetime.datetime(2024, 10, 1, 0, 0), 'end': datetime.datetime(2024, 10, 17, 23, 59, 59), 'vector_search_query': 'backend developer hiring process'}, {'start': datetime.datetime(2024, 10, 1, 0, 0), 'end': datetime.datetime(2024, 10, 17, 23, 59, 59), 'vector_search_query': 'October 14 meeting on backend candidates'}]\n",
      "The context does not provide any specific names of candidates considered for the backend position. The discussions mainly revolved around technical challenges and the need for developers without mentioning individual candidates. Therefore, I cannot provide specific names or assessments related to candidates for the backend role.\n"
     ]
    }
   ],
   "source": [
    "query = 'specific names please'\n",
    "output, messages,meeting_ids = await generate_output(query, messages)"
   ]
  },
  {
   "cell_type": "code",
   "execution_count": null,
   "metadata": {},
   "outputs": [],
   "source": []
  },
  {
   "cell_type": "code",
   "execution_count": 131,
   "metadata": {},
   "outputs": [
    {
     "data": {
      "text/plain": [
       "'https://dashboard.vexa.ai/#8ad52667-1a1d-4aa6-ba9a-a2021fe650bc'"
      ]
     },
     "execution_count": 131,
     "metadata": {},
     "output_type": "execute_result"
    }
   ],
   "source": [
    "\n",
    "meeting_id_ref = 4\n",
    "dashboard_url = f\"https://dashboard.vexa.ai/#{meeting_ids[meeting_id_ref-1]}\"\n",
    "dashboard_url\n"
   ]
  },
  {
   "cell_type": "code",
   "execution_count": null,
   "metadata": {},
   "outputs": [],
   "source": []
  }
 ],
 "metadata": {
  "kernelspec": {
   "display_name": "langchain",
   "language": "python",
   "name": "langchain"
  },
  "language_info": {
   "codemirror_mode": {
    "name": "ipython",
    "version": 3
   },
   "file_extension": ".py",
   "mimetype": "text/x-python",
   "name": "python",
   "nbconvert_exporter": "python",
   "pygments_lexer": "ipython3",
   "version": "3.11.2"
  }
 },
 "nbformat": 4,
 "nbformat_minor": 2
}
