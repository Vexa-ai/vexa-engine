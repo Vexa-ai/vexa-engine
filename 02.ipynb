{
 "cells": [
  {
   "cell_type": "code",
   "execution_count": 1,
   "metadata": {},
   "outputs": [],
   "source": [
    "%load_ext autoreload\n",
    "%autoreload 2\n"
   ]
  },
  {
   "cell_type": "code",
   "execution_count": 2,
   "metadata": {},
   "outputs": [
    {
     "ename": "ModuleNotFoundError",
     "evalue": "No module named 'vexa'",
     "output_type": "error",
     "traceback": [
      "\u001b[0;31m---------------------------------------------------------------------------\u001b[0m",
      "\u001b[0;31mModuleNotFoundError\u001b[0m                       Traceback (most recent call last)",
      "Cell \u001b[0;32mIn[2], line 1\u001b[0m\n\u001b[0;32m----> 1\u001b[0m \u001b[38;5;28;01mfrom\u001b[39;00m \u001b[38;5;21;01mvexa\u001b[39;00m \u001b[38;5;28;01mimport\u001b[39;00m VexaAPI\n\u001b[1;32m      2\u001b[0m vexa \u001b[38;5;241m=\u001b[39m VexaAPI()\n\u001b[1;32m      3\u001b[0m \u001b[38;5;28;01mawait\u001b[39;00m vexa\u001b[38;5;241m.\u001b[39mget_user_info()\n",
      "\u001b[0;31mModuleNotFoundError\u001b[0m: No module named 'vexa'"
     ]
    }
   ],
   "source": [
    "from vexa import VexaAPI\n",
    "vexa = VexaAPI()\n",
    "await vexa.get_user_info()"
   ]
  },
  {
   "cell_type": "code",
   "execution_count": 3,
   "metadata": {},
   "outputs": [],
   "source": [
    "import sys\n",
    "sys.path.append('/app')\n"
   ]
  },
  {
   "cell_type": "code",
   "execution_count": 4,
   "metadata": {},
   "outputs": [],
   "source": [
    "from chat import MeetingChatManager\n",
    "from psql_helpers import get_session\n",
    "from uuid import UUID\n"
   ]
  },
  {
   "cell_type": "code",
   "execution_count": 5,
   "metadata": {},
   "outputs": [],
   "source": [
    "from IPython.display import clear_output,display,Markdown\n"
   ]
  },
  {
   "cell_type": "code",
   "execution_count": 6,
   "metadata": {},
   "outputs": [],
   "source": [
    "from IPython.display import clear_output, display, Markdown\n",
    "from functools import wraps\n",
    "from typing import AsyncIterator\n",
    "\n",
    "def jupyter_stream_output(markdown: bool = True):\n",
    "    def decorator(func):\n",
    "        @wraps(func)\n",
    "        async def wrapper(*args, **kwargs):\n",
    "            chunks = []\n",
    "            async for response in func(*args, **kwargs):\n",
    "                if isinstance(response, str):\n",
    "                    chunks.append(response)\n",
    "                    clear_output(wait=True)\n",
    "                    if markdown:\n",
    "                        display(Markdown(''.join(chunks)))\n",
    "                    else:\n",
    "                        print(''.join(chunks), flush=True)\n",
    "            return ''.join(chunks)\n",
    "        return wrapper\n",
    "    return decorator"
   ]
  },
  {
   "cell_type": "code",
   "execution_count": 7,
   "metadata": {},
   "outputs": [],
   "source": [
    "from chat import MeetingSummaryContextProvider"
   ]
  },
  {
   "cell_type": "code",
   "execution_count": null,
   "metadata": {},
   "outputs": [],
   "source": [
    "# Using default MeetingContextProvider\n",
    "chat_manager = MeetingChatManager(session)\n",
    "\n",
    "# Using custom context provider\n",
    "summary_provider = MeetingSummaryContextProvider(meeting_ids, include_discussion_points=True)\n",
    "chat_manager = MeetingChatManager(session, context_provider=summary_provider)\n",
    "\n",
    "# Usage remains the same\n",
    "async for result in chat_manager.chat(\n",
    "    user_id=user_id,\n",
    "    query=query,\n",
    "    meeting_ids=meeting_ids\n",
    "):\n",
    "    # Handle results\n",
    "    pass"
   ]
  },
  {
   "cell_type": "code",
   "execution_count": 14,
   "metadata": {},
   "outputs": [],
   "source": [
    "meeting_ids = ['7973854d-ce5a-4263-b0f5-74007ea7a630',\n",
    " '06e239a1-dbc9-4e3d-968c-a307f30c0adc',\n",
    " '1be62b63-99ea-4aea-b284-a2ed45e44b82',\n",
    " 'fb2aea72-f75d-4790-99dc-bbc4c7219a31',\n",
    " 'c6bd2072-dcd6-45b9-8006-7b975bfe43ad',\n",
    " '08a4b53e-6ff1-4a95-9263-57ca27f0995a',\n",
    " 'ce18c6b7-5636-4e97-a5e5-726f4ef9649c',\n",
    " '9178c8e7-da6a-4883-9fe1-cc4ee30125ea',\n",
    " '04de7398-49fd-4a57-962f-2798fc080b04',\n",
    " 'cac618cd-fb7f-4d15-ada4-0f06358b13e5',\n",
    " 'b3d139a0-cc7a-4fa0-9f29-f69d5dc82c34',\n",
    " 'e941833d-5234-4f52-9a2a-d68f9ba45e13',\n",
    " 'f3dd4aba-acde-46e0-9b6c-12591c740e0e',\n",
    " 'e3dea53c-a0d6-4b10-ab63-8b4c120bd245',\n",
    " '3a964fa0-9463-4e7b-ad12-279ad64717d0',\n",
    " '46a1dd08-0198-4aaf-84d5-27b1b1b87a94',\n",
    " '3ead8b34-f5de-42ef-8d28-5dd64a2b8669',\n",
    " '99e22c95-9f1c-4704-b6ab-394e5d54e970',\n",
    " 'b1c57a93-7750-4633-a579-4d374d9c99f5',\n",
    " 'd06b1c93-f225-40cd-8448-e9efd790336e',\n",
    " 'd7d8d9e4-f349-42b3-9599-f9707f1405f8',\n",
    " '331c3dbb-9233-4894-ad9d-6a537df88b7b',\n",
    " '0eceb16a-7732-4e91-931b-ab588771dd41',\n",
    " '55fb40e1-096c-4280-b205-aa4cc68f6c76',\n",
    " '40001390-7187-47a7-9284-a1dab5dc0df6',\n",
    " 'c789fe81-bde1-4d8c-9aad-2c3f64bc9c28',\n",
    " '9d7e3d44-4a90-45f6-b68c-332fc53e9c9f',\n",
    " '12a4cd3c-2036-42f5-95c4-30a88db2e5bb',\n",
    " 'f0d5f231-b866-4cb4-b59d-73899f2e0dc9',\n",
    " 'ccdb2af5-8bb1-4eb4-a256-ee1916e20722',\n",
    " 'ed111242-a663-46f0-ae3d-6fa8e541cdc3',\n",
    " '5c3e3240-69d5-431e-bc37-d5b315b34c43',\n",
    " '045b1182-d64d-421a-8b33-1ff503e7fd58',\n",
    " '733a72e0-cca9-4d47-b5e9-628aa1849556',\n",
    " 'f93390d3-bb36-47aa-856b-2e44cd4026a2',\n",
    " 'eee87a80-0a72-4468-a105-8534bd6a6c21',\n",
    " 'b584e414-fc70-4592-ace8-158fb392e686',\n",
    " '4fd4df87-3886-47e4-8173-9a1990c64d01',\n",
    " '6baf67cc-a30f-45ae-be59-255b011415ee',\n",
    " 'df0a9f4c-3b7b-436b-a329-504b99cfe37d',\n",
    " '2ef8bcc3-d3fd-473a-a7c8-865873cb038c',\n",
    " 'e4b0703b-3285-4fca-af1d-c547d4b75630',\n",
    " '376586d0-be77-4b10-bbb5-075ea0fbc927',\n",
    " '99ade764-fd60-4e9a-9621-66cc037cb865',\n",
    " '288381d0-3ca7-4601-99b9-b42da8cd30d3',\n",
    " 'c57bb398-711b-42be-aa4f-9c75b0b4759b',\n",
    " 'cd43879a-0b16-4473-9744-04ae567626ff',\n",
    " '4917d10d-8f27-4670-9301-1cb84d40b8dd',\n",
    " '7353c827-8e12-4268-824d-a63ff4df00a4']"
   ]
  },
  {
   "cell_type": "code",
   "execution_count": 17,
   "metadata": {},
   "outputs": [
    {
     "data": {
      "text/markdown": [
       "The marketing strategy discussed in various meetings focuses on promoting the product Vexa, particularly in the Brazilian market. Key components include:\n",
       "\n",
       "1. **Localization**: Adapting the product for the Brazilian market by translating content into Portuguese and considering local preferences.\n",
       "\n",
       "2. **Content Strategy**: Developing a content plan for social media that includes various types of posts, such as original content and engagement through influencers. Creating a content calendar to organize publication schedules is emphasized.\n",
       "\n",
       "3. **Influencer Marketing**: Leveraging influencers, especially those in the Brazilian market, to reach a broader audience and drive engagement.\n",
       "\n",
       "4. **User Engagement**: Actively interacting with users on platforms like LinkedIn and Product Hunt to gather feedback and enhance visibility.\n",
       "\n",
       "5. **Community Building**: Encouraging warm contacts and existing users to share information about Vexa on social media to amplify reach during the launch.\n",
       "\n",
       "6. **Data Analysis**: Utilizing tools like Amplitude for tracking user engagement and conversions, and analyzing the effectiveness of marketing campaigns.\n",
       "\n",
       "7. **Targeting Specific Audiences**: Focusing on small businesses as a primary market segment and using tailored sales approaches to understand their needs.\n",
       "\n",
       "8. **Promotional Efforts**: Planning for significant online presence during the launch on Product Hunt, aiming for high engagement metrics such as upvotes and conversions.\n",
       "\n",
       "Overall, the strategy emphasizes a tailored approach for the Brazilian market, leveraging local influencers, and maintaining active engagement with users to foster community support and drive sales."
      ],
      "text/plain": [
       "<IPython.core.display.Markdown object>"
      ]
     },
     "metadata": {},
     "output_type": "display_data"
    },
    {
     "data": {
      "text/plain": [
       "'The marketing strategy discussed in various meetings focuses on promoting the product Vexa, particularly in the Brazilian market. Key components include:\\n\\n1. **Localization**: Adapting the product for the Brazilian market by translating content into Portuguese and considering local preferences.\\n\\n2. **Content Strategy**: Developing a content plan for social media that includes various types of posts, such as original content and engagement through influencers. Creating a content calendar to organize publication schedules is emphasized.\\n\\n3. **Influencer Marketing**: Leveraging influencers, especially those in the Brazilian market, to reach a broader audience and drive engagement.\\n\\n4. **User Engagement**: Actively interacting with users on platforms like LinkedIn and Product Hunt to gather feedback and enhance visibility.\\n\\n5. **Community Building**: Encouraging warm contacts and existing users to share information about Vexa on social media to amplify reach during the launch.\\n\\n6. **Data Analysis**: Utilizing tools like Amplitude for tracking user engagement and conversions, and analyzing the effectiveness of marketing campaigns.\\n\\n7. **Targeting Specific Audiences**: Focusing on small businesses as a primary market segment and using tailored sales approaches to understand their needs.\\n\\n8. **Promotional Efforts**: Planning for significant online presence during the launch on Product Hunt, aiming for high engagement metrics such as upvotes and conversions.\\n\\nOverall, the strategy emphasizes a tailored approach for the Brazilian market, leveraging local influencers, and maintaining active engagement with users to foster community support and drive sales.'"
      ]
     },
     "execution_count": 17,
     "metadata": {},
     "output_type": "execute_result"
    }
   ],
   "source": [
    "\n",
    "@jupyter_stream_output(markdown=True)\n",
    "async def chat_with_meeting(user_id: str, meeting_ids: list[UUID], query: str):\n",
    "    async with get_session() as session:\n",
    "        summary_provider = MeetingSummaryContextProvider(meeting_ids, include_discussion_points=True)\n",
    "        chat_manager = MeetingChatManager(session, context_provider=summary_provider)\n",
    "        async for response in chat_manager.chat(\n",
    "            user_id=user_id,\n",
    "            query=query,\n",
    "            meeting_ids=meeting_ids,\n",
    "            temperature=0.7\n",
    "        ):\n",
    "            yield response\n",
    "\n",
    "# Usage\n",
    "await chat_with_meeting(\n",
    "    user_id='ef7c085b-fdb5-4c94-b7b6-a61a3d04c210',\n",
    "    meeting_ids=meeting_ids,\n",
    "    query=\"summarize marketing strategy\"\n",
    ")"
   ]
  },
  {
   "cell_type": "code",
   "execution_count": null,
   "metadata": {},
   "outputs": [],
   "source": []
  }
 ],
 "metadata": {
  "kernelspec": {
   "display_name": "Python 3",
   "language": "python",
   "name": "python3"
  },
  "language_info": {
   "codemirror_mode": {
    "name": "ipython",
    "version": 3
   },
   "file_extension": ".py",
   "mimetype": "text/x-python",
   "name": "python",
   "nbconvert_exporter": "python",
   "pygments_lexer": "ipython3",
   "version": "3.11.10"
  }
 },
 "nbformat": 4,
 "nbformat_minor": 2
}
