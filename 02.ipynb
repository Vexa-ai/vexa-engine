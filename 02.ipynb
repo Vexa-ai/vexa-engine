{
 "cells": [
  {
   "cell_type": "code",
   "execution_count": 1,
   "metadata": {},
   "outputs": [],
   "source": [
    "import asyncio\n",
    "from typing import List, Optional\n",
    "from datetime import datetime\n",
    "\n",
    "from fastapi import Depends\n",
    "from pydantic import BaseModel, Field\n",
    "\n",
    "from vexa import VexaAPI\n",
    "from meeting_search import VectorSearch\n",
    "from core import system_msg, user_msg, assistant_msg, generic_call_stream, count_tokens, BaseCall\n",
    "from prompts import Prompts\n",
    "from pydantic_models import ThreadName, ContextQualityCheck\n",
    "from assistant_thread import ThreadManager"
   ]
  },
  {
   "cell_type": "code",
   "execution_count": 8,
   "metadata": {},
   "outputs": [],
   "source": [
    "class SearchAssistant:\n",
    "    def __init__(self, user_token: Optional[str] = None):\n",
    "        self.vexa = VexaAPI(user_token) if user_token else VexaAPI()\n",
    "        self.analyzer = VectorSearch()\n",
    "        self.thread_manager = ThreadManager()\n",
    "        self.prompts = Prompts()\n",
    "        \n",
    "    def get_thread(self, thread_id: str):\n",
    "        return self.thread_manager.get_thread(thread_id)\n",
    "\n",
    "    def get_user_threads(self):\n",
    "        return self.thread_manager.get_user_threads(self.vexa.user_id)\n",
    "\n",
    "    def count_documents(self):\n",
    "        return self.analyzer.count_documents(user_id=self.vexa.user_id)\n",
    "\n",
    "    def get_messages_by_thread_id(self, thread_id: str):\n",
    "        return self.thread_manager.get_messages_by_thread_id(thread_id)"
   ]
  },
  {
   "cell_type": "code",
   "execution_count": 12,
   "metadata": {},
   "outputs": [],
   "source": [
    "thread_id = None\n"
   ]
  },
  {
   "cell_type": "code",
   "execution_count": 13,
   "metadata": {},
   "outputs": [
    {
     "name": "stdout",
     "output_type": "stream",
     "text": [
      "User information retrieved successfully.\n"
     ]
    }
   ],
   "source": [
    "self = SearchAssistant()"
   ]
  },
  {
   "cell_type": "code",
   "execution_count": 45,
   "metadata": {},
   "outputs": [],
   "source": [
    "from typing import Union, Any, Dict\n",
    "from pydantic_models import QueryPlan\n",
    "from meeting_search import build_context_string\n"
   ]
  },
  {
   "cell_type": "code",
   "execution_count": 32,
   "metadata": {},
   "outputs": [],
   "source": [
    "query = 'list customer names'\n"
   ]
  },
  {
   "cell_type": "code",
   "execution_count": 33,
   "metadata": {},
   "outputs": [],
   "source": [
    "user_id = self.vexa.user_id\n",
    "user_name = self.vexa.user_name\n",
    "\n",
    "if thread_id:\n",
    "    thread = self.thread_manager.get_thread(thread_id)\n",
    "    if not thread:\n",
    "        raise ValueError(f\"Thread with id {thread_id} not found\")\n",
    "    messages = thread.messages\n",
    "    thread_name = thread.thread_name\n",
    "else:\n",
    "    messages = []\n",
    "    thread_name = None"
   ]
  },
  {
   "cell_type": "code",
   "execution_count": 34,
   "metadata": {},
   "outputs": [],
   "source": [
    "query_ = ' '.join([m.content for m in messages]) + ' ' + query\n",
    "queries = await self.analyzer.generate_search_queries(query_, user_id=user_id, user_name=user_name)"
   ]
  },
  {
   "cell_type": "code",
   "execution_count": 37,
   "metadata": {},
   "outputs": [],
   "source": [
    "self = self.analyzer"
   ]
  },
  {
   "cell_type": "code",
   "execution_count": 46,
   "metadata": {},
   "outputs": [],
   "source": [
    "async def generate_search_queries(self, query: str,last_n_meetings:int=100,user_id: Optional[Union[str, List[str]]] = None, user_name: Optional[Union[str, List[str]]] = None) -> List[Dict[str, Any]]:\n",
    "    summaries = self.get_summaries(user_id=user_id, user_name=user_name)[-last_n_meetings:]\n",
    "    now = datetime.now().strftime(\"%Y-%m-%d %H:%M:%S\")\n",
    "    planner_prompt = \"\"\"think step by step of which of the following meetings are relevant to the user request. and create many (5+) requests to the search system which will be used to find similar meetings to the user request, \n",
    "                        requests should have at least 125 char each and at least 2 sentences.\"\"\"\n",
    "    \n",
    "    plan = await QueryPlan.call([\n",
    "        system_msg(f\"\"\"{planner_prompt}.\n",
    "                        Now is {now}.\n",
    "                        Write queries based on user request and general context you have, don't use start and end if timing is not obvious from the user query.\n",
    "                    \"\"\"),\n",
    "        user_msg(f'general context: last {last_n_meetings} meeting summaries in ascending order: {build_context_string(summaries,only_summaries=True)}'),\n",
    "        user_msg(f'user request: {query}.')\n",
    "    ])\n",
    "\n",
    "    # Extract queries from the plan\n",
    "    queries = plan[0].model_dump()['queries']\n",
    "    return queries"
   ]
  },
  {
   "cell_type": "code",
   "execution_count": 48,
   "metadata": {},
   "outputs": [],
   "source": [
    "last_n_meetings = 100"
   ]
  },
  {
   "cell_type": "code",
   "execution_count": 49,
   "metadata": {},
   "outputs": [],
   "source": [
    "summaries = self.get_summaries(user_id=user_id, user_name=user_name)[-last_n_meetings:]"
   ]
  },
  {
   "cell_type": "code",
   "execution_count": 53,
   "metadata": {},
   "outputs": [
    {
     "data": {
      "text/plain": [
       "\"# [1] AI Applications in Business Processes (2024-09-12 20:46):\\nIn a meeting on September 12, 2024, Sergey Ryabenko and Dmitriy Grankin discussed the use of AI in generating acceptance criteria and summaries. Sergey highlighted Toptal's use of AI for client documentation, while Dmitriy presented his product that improves summaries iteratively. Both emphasized the practical benefits of AI in enhancing business processes and client interactions.\\n\\n---\\n\\n# [2] Team Discussion on Resources (2024-09-12 21:26):\\nDmitriy Grankin leads a casual team discussion addressing resource shortages and potential solutions. The conversation includes a mix of languages, reflecting team diversity, and highlights the need for efficiency and collaboration.\\n\\n---\\n\\n# [3] Landing Page Optimization Discussion (2024-09-12 22:34):\\nOn September 12, 2024, Olga Nemirovskaya and Dmitriy Grankin discussed the optimization of landing pages for their product, focusing on user feedback, visual updates, and marketing strategies. They emphasized the importance of testing hypotheses and aligning messaging with user needs to improve conversion rates and overall user experience.\\n\\n---\\n\\n# [4] Extension Build Discussion (2024-09-13 12:20):\\nIn a team meeting on September 13, 2024, Karine Stepanyan and Dmitriy Grankin discussed issues with a new software build, focusing on visibility problems in the extension's user interface. They noted the need for improvements in color contrast and text clarity, and mentioned a video demonstrating a bug. The team plans to address these issues and publish the product in the coming weeks.\\n\\n---\\n\\n# [5] Marketing Strategy Discussion (2024-09-13 13:17):\\nDmitriy Grankin and Olga Miller discuss marketing strategies for a product, focusing on user feedback, product development, and the separation of marketing from product hypotheses. They emphasize the importance of quickly testing marketing messages, influencer engagement, and establishing effective communication and KPIs. The conversation highlights the challenges faced by startups in validating marketing channels and the need for a collaborative approach to achieve results.\\n\\n---\\n\\n# [6] TLDV Tool Discussion (2024-09-13 14:30):\\nIlia Semukhin and Dmitriy Grankin discussed the TLDV tool's functionality, its benefits for legal professionals, and integration with AI technologies like ChatGPT. They shared personal experiences and expectations regarding task management and contextual understanding, emphasizing the tool's potential to enhance productivity. The conversation also touched on the current geopolitical situation affecting the participants.\\n\\n---\\n\\n# [7] Product Hunt Launch Strategies (2024-09-13 15:30):\\nJulia Zakharova and Dmitriy Grankin discuss strategies for launching products on Product Hunt, focusing on audience engagement, algorithm changes, and the importance of teamwork. JZ shares her experiences and challenges faced in achieving visibility and success on the platform, emphasizing the need for thorough preparation and active participation from the team.\\n\\n---\\n\\n# [8] Task Management System Development (2024-09-13 16:52):\\nDmitriy Grankin discusses the development of a task management system that tracks user goals, action points, and meeting summaries. The system aims to provide structured updates and notifications based on user interactions and meeting data. Key features include a ranking system for meetings and action points, as well as the exploration of database technologies for effective data management.\\n\\n---\\n\\n# [9] Marketing Strategies Discussion (2024-09-13 18:15):\\nDmitry Grankin and Dmitrii Chistov discuss marketing strategies, product development, and customer outreach. They explore the challenges of acquiring targeted traffic, the importance of understanding user needs, and the mechanics of creating effective landing pages. The conversation highlights the significance of product-market fit and the need for outreach in customer acquisition, sharing insights on their experiences and strategies for improving marketing efforts and product offerings.\\n\\n---\\n\\n# [10] Business Assistant Development Discussion (2024-09-13 19:03):\\nIn a meeting on September 13, 2024, Alexander Melikhov and Dmitriy Grankin discussed the development of a real-time transcription assistant for business calls. They explored the importance of knowledge management, the creation of artifacts from meetings, and the integration of these systems into corporate processes. The conversation emphasized the need for effective communication and the challenges of implementing such systems in organizations.\\n\\n---\\n\\n# [11] Informal Team Check-in (2024-09-15 13:53):\\nDmitriy Grankin leads an informal team meeting discussing work dynamics, with a light-hearted tone. The conversation includes multilingual expressions and emphasizes a commitment to working diligently, day and night.\\n\\n---\\n\\n# [12] Multilingual Team Check-in (2024-09-16 12:17):\\nThe meeting, led by Dmitriy Grankin, features a mix of languages and informal exchanges. Participants greet each other, express gratitude, and discuss various topics, though the conversation lacks a clear structure. Key points include plans for future meetings and expressions of camaraderie among team members.\\n\\n---\\n\\n# [13] System Functionality Confirmation (2024-09-16 12:47):\\nThe meeting confirmed that the system should be operational as stated by the speaker.\\n\\n---\\n\\n# [14] Marketing Strategy Discussion (2024-09-16 12:47):\\nOn September 16, 2024, Olga Nemirovskaya and Dmitriy Grankin discussed marketing strategies, including Reddit posts about Google Meta features and competitor analysis. They reviewed market research, audience targeting, and product pricing, emphasizing the importance of user feedback and early access claims for product development.\\n\\n---\\n\\n# [15] AI Meeting Assistant Discussion (2024-09-16 14:30):\\nThe meeting on September 16, 2024, involved Olga Nemirovskaya, Stephanus Gunawan, and Dmitriy Grankin discussing an AI meeting assistant for Google Meet. Key topics included product features, privacy concerns, and the competitive landscape. The assistant aims to transcribe and analyze conversations while addressing data security issues, particularly for organizations like Lazada, which operates under Alibaba Group.\\n\\n---\\n\\n# [16] Discussion on Note-Taking Tools and Compliance (2024-09-16 15:33):\\nOlga Nemirovskaya discusses the effectiveness of note-taking tools in enhancing work efficiency and managing client interactions. She highlights the challenges faced with existing software, the importance of compliance, and the need for better integration of AI tools in their processes. The conversation emphasizes the necessity of adapting tools to specific use cases and improving user experience.\\n\\n---\\n\\n# [17] Brainstorming on Knowledge Management System (2024-09-16 16:09):\\nIn a brainstorming session on September 16, 2024, Sergey Ryabenko and Dmitriy Grankin discussed the development of a knowledge management system that learns and adapts to user needs. They emphasized the importance of preserving knowledge, managing tasks, and providing concise summaries while minimizing unnecessary information. The speakers explored how the system could enhance user experience by tailoring its responses and insights based on ongoing conversations.\\n\\n---\\n\\n# [18] Feedback Session on VEX Product (2024-09-16 18:35):\\nOn September 16, 2024, Ilia Semukhin and Dmitriy Grankin discussed user feedback on the VEX product. They focused on interface usability, user experience, and potential improvements. Key insights included the need for adjustable interface elements and clearer notifications. The conversation highlighted the importance of user-centric design and the ongoing development of the product to enhance user satisfaction.\\n\\n---\\n\\n# [19] Outreach and Product Strategy (2024-09-16 22:02):\\nOn September 16, 2024, Olga Nemirovskaya and Dmitriy Grankin discussed outreach strategies and product development challenges. They emphasized refining their value proposition, understanding their target audience, and the importance of effective marketing to attract users. The conversation highlighted the need for feedback and the competitive landscape, focusing on differentiating their product in a rapidly evolving market.\\n\\n---\\n\\n# [20] Work Arrangements and Coding Practices Discussion (2024-09-17 12:26):\\nIn a meeting on September 17, 2024, Alex Shevliakov and Dmitriy Grankin discussed work arrangements, emphasizing the challenges of full-time versus freelance work. They noted an increase in job opportunities in Europe compared to the USA and shared insights on debugging and coding practices, stressing the importance of modern technologies in development.\\n\\n---\\n\\n# [21] Email Marketing Strategy Discussion (2024-09-17 12:49):\\nDmitriy Grankin and Olga Nemirovskaya discussed email marketing strategies, focusing on user engagement and feedback mechanisms. They evaluated a new email service recommended by Y Combinator, emphasizing the importance of understanding the target audience and gathering qualitative feedback for product development. The conversation highlighted the need for effective outreach and the potential for user interviews to enhance product development.\\n\\n---\\n\\n# [22] Project Update and Resource Management (2024-09-17 13:21):\\nIn a meeting on September 17, 2024, Sergey Ryabenko and Dmitriy Grankin discussed project updates, including a 90 readiness score, coding tasks, and dashboard development. They explored hiring options for frontend work and shared insights on resource management and project timelines.\\n\\n---\\n\\n# [23] Software Testing Session - Version 9.2 (2024-09-17 13:47):\\nDmitriy Grankin discusses issues encountered while testing version 9.2 of the software, highlighting several bugs including unresponsive buttons and interface movement problems. The meeting focuses on the need for improvements to enhance usability and functionality.\\n\\n---\\n\\n# [24] Technical Discussion on Software Bugs (2024-09-17 14:13):\\nDmitriy Grankin discussed critical bugs in a software extension, including non-clickable buttons, mouse movement discrepancies, and issues with the assistant feature. He emphasized the importance of user experience and suggested improvements to avoid obstructing the interface. The meeting highlighted the need for timely fixes to enhance functionality and usability.\\n\\n---\\n\\n# [25] E-commerce Backend Development Discussion (2024-09-17 15:30):\\nThe meeting involved Sergey Ryabenko, Nick Frolov, and Dmitriy Grankin discussing the development of a backend for an e-commerce platform. The focus was on importing product data via API, data validation, and database management. Key decisions included using unique product identifiers (MPN) and storing prices in cents to avoid floating-point issues. The conversation also covered architectural considerations and testing strategies for the code.\\n\\n---\\n\\n# [26] Team Update on Product Hunt and Reddit Engagement (2024-09-17 22:06):\\nOlga Nemirovskaya and Dmitriy Grankin discuss updates on their work, focusing on social media strategies, particularly on Reddit and Product Hunt. They address technical issues, engagement tactics, and collaboration on design tasks. Olga mentions challenges with post moderation on Reddit and plans to shift the launch date for their project. They also discuss connecting with beta testers and enhancing community engagement.\\n\\n---\\n\\n# [27] Informal Check-in Meeting (2024-09-18 12:15):\\nThe meeting held on September 18, 2024, was an informal check-in with minimal substantive content. Participants expressed gratitude repeatedly, indicating a positive but unstructured interaction. No specific topics, names, or actionable items were discussed.\\n\\n---\\n\\n# [28] Product Hunt Video Planning (2024-09-18 12:50):\\nOn September 18, 2024, Olga Nemirovskaya and Dmitriy Grankin discussed creating a short video for Product Hunt. Olga requested a 15-second video highlighting their mission, while also planning to gather editing costs. Dmitriy shared insights on algorithm challenges faced by their team, emphasizing the need for a good algorithm to improve user engagement. The meeting focused on video content, editing logistics, and team collaboration.\\n\\n---\\n\\n# [29] Text Review Discussion (2024-09-18 12:53):\\nA brief discussion between participants about editing a text, indicating collaboration and input on content.\\n\\n---\\n\\n# [30] Candidate Evaluation Discussion (2024-09-18 14:57):\\nIn a meeting on September 18, 2024, Sergey Ryabenko and Dmitriy Grankin discussed the qualifications of two candidates for a technical position. They expressed concerns about one candidate's lack of concrete ideas and the overqualification of another, emphasizing the need for practical skills and adaptability in a rapidly evolving industry. They also highlighted the importance of balancing practical work with exploring new technologies.\\n\\n---\\n\\n# [31] Technical Discussion on React Project (2024-09-18 20:37):\\nIn a technical meeting on September 18, 2024, Sergey Ryabenko and Dmitriy Grankin discussed a React project, focusing on code functionality, layout generation, and backend integration. They reviewed specific files and expressed interest in the project's development and potential limitations.\\n\\n---\\n\\n# [32] Application Interface Planning (2024-09-18 22:04):\\nDmitriy Grankin led a meeting on 2024-09-18 to plan an application interface. Key functionalities discussed include a searchable call list with filters for date and participants, the ability to update summaries via AI chat, and creating new threads based on calls. The focus is on maintaining a simple and intuitive user interface for better user experience.\\n\\n---\\n\\n# [33] Audio Testing Session (2024-09-19 13:26):\\nThe meeting involved a discussion about testing audio quality and background noise levels, with participants assessing whether the noise is disruptive to others.\\n\\n---\\n\\n# [34] Prototype Development Discussion (2024-09-19 16:57):\\nIn a meeting on September 19, 2024, Sergey Ryabenko and Dmitriy Grankin discussed the development of a prototype, its functionality, and design considerations. They explored the use of mockups and the potential for an MVP, emphasizing the importance of user experience and design systems. The conversation highlighted the need for collaboration and experimentation in the development process.\\n\\n---\\n\\n# [35] Cricut Business Ideas Brainstorming (2024-09-20 15:39):\\nDmitriy Grankin leads a brainstorming session discussing innovative business ideas related to the Cricut market. He emphasizes the potential of AI in creating SVG designs for crafters and explores subscription services for unlimited designs. The conversation highlights the lucrative nature of the Cricut industry and the importance of understanding market demands.\\n\\n---\\n\\n# [36] Marketing and Product Strategy (2024-09-20 22:03):\\nIn a strategic meeting on September 20, 2024, Olga Nemirovskaya and Dmitriy Grankin discussed marketing strategies, focusing on LinkedIn engagement and outreach to potential users. They explored the importance of user feedback for product development and considered various sales strategies targeting small businesses. The conversation highlighted the need for effective communication and understanding of their audience to enhance user acquisition and product-market fit.\\n\\n---\\n\\n# [37] Google Meet Assistant Overview (2024-09-22 23:46):\\nThe meeting discusses the Google Meet Assistant, a tool designed to transcribe meetings in real-time without sending any data externally. The assistant aims to enhance meeting productivity by providing accurate transcriptions of spoken content.\\n\\n---\\n\\n# [38] Multilingual Casual Discussion (2024-09-23 12:18):\\nThe meeting featured a casual, multilingual conversation with fragmented dialogue. Participants expressed gratitude and shared brief, unclear statements in various languages, indicating a relaxed atmosphere without a specific agenda or focus.\\n\\n---\\n\\n# [39] Prototype Collaboration Discussion (2024-09-23 12:26):\\nDmitriy Grankin and Sergey Ryabenko discuss a prototype's functionalities and integration options. They explore using Google Cloud for collaborative work, emphasizing the ease of SSH connections and the potential for AI-assisted programming. Sergey mentions a scheduled call with Artem to review website details, while Dmitriy shares insights on improving workflow efficiency.\\n\\n---\\n\\n# [40] Technical Discussion on Remote Development (2024-09-23 14:09):\\nIn a technical meeting on September 23, 2024, Sergey Ryabenko and Dmitriy Grankin discussed remote development and deployment processes. They explored using SSH for development, the integration of LLM in terminal commands, and the installation of React and Next.js. The conversation included practical demonstrations and troubleshooting, emphasizing efficiency in coding and deployment.\\n\\n---\\n\\n# [41] Technical Discussion on API Integration (2024-09-23 16:29):\\nIn a technical meeting on September 23, 2024, Sergey Ryabenko and Dmitriy Grankin discussed API integration challenges, debugging issues, and coding practices. They explored tools like SSH keys and shared insights on improving coding efficiency. The conversation highlighted the importance of proper documentation and methodologies in software development.\\n\\n---\\n\\n# [42] Troubleshooting Session (2024-09-23 18:52):\\nThe meeting reflects a troubleshooting session where the speaker expresses frustration and difficulty in managing a task. The informal tone indicates a casual setting, possibly among colleagues.\\n\\n---\\n\\n# [43] Technical Interview for Вексу Project (2024-09-24 13:01):\\nThe meeting on September 24, 2024, involved Dmitriy Grankin, Jenish Mursidinov, and Sergey Ryabenko discussing the Вексу project. They explored the product's architecture, maintenance needs, and the candidate's relevant experience. Key topics included cloud migration to Google Cloud, the use of web sockets for communication, and the importance of a robust technical team for project success.\\n\\n---\\n\\n# [44] Project Updates and Marketing Challenges (2024-09-24 13:30):\\nVasilii Glebov and Dmitry Grankin discuss their recent travels and ongoing projects. Glebov shares insights on children's app development and marketing challenges, while Grankin talks about a dashboard project. They highlight user engagement, the need for effective marketing strategies, and the importance of networking in job searches.\\n\\n---\\n\\n# [45] Productivity Enhancement Strategies (2024-09-24 18:36):\\nDmitriy Grankin discusses methods for simplifying work processes and enhancing productivity. He emphasizes the importance of automation, delegation, and using tools like Vexa AI to streamline tasks. Grankin shares personal experiences and practical tips, including the use of templates and text substitution to save time. The meeting aims to provide actionable insights for improving efficiency in daily tasks.\\n\\n---\\n\\n# [46] Informal Multilingual Discussion (2024-09-25 12:15):\\nThe meeting featured a series of informal exchanges among speakers in multiple languages, expressing sentiments of gratitude, farewell, and reflections on personal experiences. The tone was light-hearted, with various cultural references and casual remarks.\\n\\n---\\n\\n# [47] VEX.AI Startup Strategy Discussion (2024-09-25 16:28):\\nDmitry Grankin and Sergey discuss the VEX.AI startup, focusing on its Google Meet extension for transcription. Dmitry shares insights on development, user acquisition, and marketing strategies, emphasizing the need for effective advertising and outreach to secure paying customers. They explore SEO practices and the importance of understanding user metrics to drive growth.\\n\\n---\\n\\n# [48] API Development for Product Import (2024-09-25 17:01):\\nThe meeting focused on developing an API for importing products into an online store. Sergey Ryabenko outlined the task, which involves allowing an admin to import products using unique MPNs. Nikolay discussed the implementation details, including synchronous processing, error handling, and database interactions. The team emphasized best practices in coding and the importance of clear naming conventions. They also explored strategies for handling high loads and optimizing performance.\\n\\n---\\n\\n# [49] Candidate Evaluation Meeting (2024-09-25 17:49):\\nOn September 25, 2024, Sergey Ryabenko and Dmitriy Grankin evaluated a candidate's coding skills. They noted the candidate's energy and potential but identified gaps in experience. They discussed the candidate's $22/hour salary and agreed to request a review of his real code to assess capabilities more accurately.\\n\\n---\\n\\n# [50] Technical Code Review Meeting (2024-09-26 14:01):\\nThe meeting involved Nikolay, Sergey Ryabenko, and Dmitriy Grankin discussing code quality and project organization. Sergey expressed concerns about the quality of code previously submitted by Nikolay and requested examples of production-quality code. Nikolay presented his work on a FastAPI project, detailing its structure, database interactions, and error handling. The discussion also touched on improving code efficiency and memory management.\\n\\n---\\n\\n# [51] Marketing Strategies Discussion (2024-09-26 15:02):\\nIn a meeting on September 26, 2024, Andy Black and Dmitry Grankin discussed marketing strategies for a transcription software product. They explored the effectiveness of LinkedIn for lead generation and the potential of Google Ads for targeted outreach. Key insights included the importance of individual value propositions, competitor analysis, and the iterative nature of marketing. Both speakers emphasized the need for testing and adapting strategies based on audience engagement and feedback.\\n\\n---\\n\\n# [52] Google Ads Performance Review (2024-09-26 17:01):\\nOn September 26, 2024, Dmitriy Grankin, Sergey Zhylko, and Olga Nemirovskaya discussed Google Ads performance since the August 20 launch. They reviewed conversion statistics, campaign adjustments, and strategies for targeting audiences more effectively. Key insights included the need for better tracking of conversions and the importance of targeting English-speaking countries for advertising.\\n\\n---\\n\\n# [53] Influencer Marketing Strategy Discussion (2024-09-26 20:02):\\nThe meeting on September 26, 2024, involved Dmitriy Grankin, Olga Nemirovskaya, and Lara Vargas discussing influencer marketing strategies in Brazil. Key topics included market localization, the importance of engaging local influencers, and the need for a tailored content strategy to connect with the Brazilian audience effectively.\\n\\n---\\n\\n# [54] Product Hunt Launch Strategy Discussion (2024-09-26 20:34):\\nOlga Nemirovskaya and Dmitriy Grankin discuss the upcoming launch of their product on Product Hunt, weighing the pros and cons of publishing the build now versus waiting. They emphasize the importance of audience engagement, effective marketing strategies, and tracking metrics to validate their product's value proposition.\\n\\n---\\n\\n# [55] User Engagement Test Meeting (2024-09-27 12:14):\\nThe meeting focused on testing system functionality and user engagement metrics. The speaker confirmed the testing process and noted that there were 17 users yesterday, with no new data available today.\\n\\n---\\n\\n# [56] Business Collaboration Discussion (2024-09-27 13:30):\\nDmitriy Grankin, Murat Sultanov, and Sergey Ryabenko discussed potential collaboration in software development. Murat's company, registered in the USA and operating in Portugal, specializes in mobile development. They covered staffing processes, contract terms, and a developer's availability at $22/hour. Legal considerations for contracts between US entities were also discussed.\\n\\n---\\n\\n# [57] Casual Discussion on Relocation and Business (2024-09-27 15:34):\\nDmitry Grankin and Igor Vinidiktov discuss their experiences living in different countries, the challenges of relocation, and their current business ventures. Dmitry shares insights on his startup in data science, while Igor talks about his work in the healthcare sector, helping doctors obtain licenses in the UAE. They also touch on community dynamics and the importance of networking in entrepreneurship.\\n\\n---\\n\\n# [58] Social Media Strategy Discussion (2024-09-27 18:11):\\nDmitriy Grankin discusses strategies for enhancing social media engagement through content generation via Google Meet, targeting advanced users on platforms like Twitter and LinkedIn, and utilizing Google Ads. He emphasizes the importance of social proof and influencer collaboration to drive growth and engagement.\\n\\n---\\n\\n# [59] VEXA Product Discussion (2024-09-30 13:01):\\nDmitriy Grankin and Umar Lateef discuss VEXA's current market strategy, user feedback, and pricing plans. They explore the product's features, competition, and potential improvements, emphasizing the need for a more structured pricing model and limitations on the free plan to enhance user acquisition and retention.\\n\\n---\\n\\n# [60] Branding and Investment Strategies Discussion (2024-09-30 18:36):\\nTatiana Sukhova and Dmitriy Grankin discuss branding, design challenges, and innovative investment strategies, including the concept of SAFE agreements. They reflect on personal experiences and the importance of creating a strong impression through design, while exploring a barter-like model for investing time and resources in startups.\\n\\n---\\n\\n# [61] SEO Tool Development Discussion (2024-10-01 12:19):\\nOn October 1, 2024, Rick Tousseyn and Dmitriy Grankin discussed a content creation tool for SEO optimization. They explored its functionality, including scraping search results and generating articles based on keywords. The conversation highlighted the importance of keyword density, article length, and the potential for programmatic SEO. Tousseyn shared insights from his experience at Team Lewis, emphasizing effective content strategies and budget constraints.\\n\\n---\\n\\n# [62] System Functionality Test (2024-10-01 14:30):\\nThe meeting conducted on October 1, 2024, was a brief test to evaluate the functionality of a system. Two speakers confirmed that the system is operational.\\n\\n---\\n\\n# [63] Product Launch Strategy Meeting (2024-10-02 13:46):\\nOn October 2, 2024, Olga Nemirovskaya and Dmitriy Grankin discussed strategies for promoting their product launch on Product Hunt. They focused on leveraging their network for support, creating promotional posts, and tracking engagement metrics. Key tasks were assigned, including outreach to contacts and updating marketing materials.\\n\\n---\\n\\n# [64] Content Creation Insights with AG (2024-10-02 14:00):\\nDmitry Grankin and Angelina Geru discuss content creation on LinkedIn, focusing on AG's experiences and expectations. AG shares her journey as a new content creator, emphasizing the importance of quality and engagement. They explore the challenges of introducing new products in large companies and the potential for B2B video selling, highlighting the need for effective communication and understanding of target audiences.\\n\\n---\\n\\n# [65] SEO and AI Content Strategies Discussion (2024-10-03 12:00):\\nDmitriy Grankin and Olga Mykhoparkina discuss marketing strategies, focusing on SEO and AI's role in content creation. Dmitriy shares insights on his startup and recent collaborations, while Olga discusses her experiences with SEO tools like Surfer SEO. They explore the importance of content quality, engagement metrics, and potential collaboration on blog content, emphasizing the need for effective strategies in a competitive landscape.\\n\\n---\\n\\n# [66] Project Discussion and Follow-up Meeting (2024-10-03 13:40):\\nThe meeting focused on discussing important topics related to the project. Participants expressed the need to schedule a follow-up meeting to delve into details and continue the conversation.\\n\\n---\\n\\n# [67] Partnership Discussion Meeting (2024-10-03 13:41):\\nOn October 3, 2024, Dmitriy Grankin led a meeting focused on organizing further discussions regarding important aspects of a partnership. The conversation included multiple speakers expressing the need for a meeting to delve into partnership details.\\n\\n---\\n\\n# [68] Project Discussion with China (2024-10-03 13:42):\\nDmitriy Grankin leads a multi-lingual meeting discussing a project with China, focusing on readiness for next steps and strategic aspects. The conversation emphasizes the importance of addressing key points before proceeding further.\\n\\n---\\n\\n# [69] Equipment Testing Session (2024-10-03 16:14):\\nThe meeting on October 3, 2024, involved testing equipment functionality, with repeated phrases indicating whether the system was operational. No specific outcomes or decisions were made during this session.\\n\\n---\\n\\n# [70] Dmitriy Grankin and Matt Lewis Discussion (2024-10-03 20:02):\\nDmitriy Grankin and Matt Lewis discuss fitness routines, business strategies, and technology trends. They explore marketing efforts in Brazil, SEO strategies, and the potential for AI in content creation. The conversation also touches on challenges in client acquisition and the importance of effective communication in business. They share insights on the evolving internet landscape and the need for personalized content delivery.\\n\\n---\\n\\n# [71] WordPress Development and SEO Strategies (2024-10-03 21:06):\\nIn a meeting on October 3, 2024, Rick Tousseyn and Dmitriy Grankin discussed website development using WordPress and Elementor. Rick recommended plugins like Elementor and Rank Math for SEO, while Dmitriy expressed concerns about WordPress's complexity. They explored schema markup, SEO strategies, and the impact of AI on content creation. Rick offered to assist Dmitriy with website audits and keyword analysis, emphasizing the importance of a solid foundation for SEO success.\\n\\n---\\n\\n# [72] Testing Session Overview (2024-10-04 11:35):\\nThe meeting involved a testing session where the speaker, nan, expressed uncertainty about the functionality of certain processes, questioning what is happening and whether things are working as intended.\\n\\n---\\n\\n# [73] Technical Discussion on GitHub and Server Access (2024-10-04 13:14):\\nDmitriy Grankin and Nikolay discuss GitHub access, SSH keys, and server connection issues. They share insights on development tools like PyCharm and VS Code, and troubleshoot connectivity problems, emphasizing collaboration and knowledge sharing in a technical context.\\n\\n---\\n\\n# [74] Product Hunt Strategy Meeting (2024-10-04 14:10):\\nIn a team meeting on October 4, 2024, Olga Nemirovskaya and Dmitriy Grankin discussed strategies to improve their product's visibility on Product Hunt. They analyzed their current standing, compared it with competitors, and emphasized the need for engagement through comments and original posts to enhance their ranking.\\n\\n---\\n\\n# [75] Outreach Strategy Meeting (2024-10-04 19:17):\\nIn a team meeting on October 4, 2024, Olga Nemirovskaya and Dmitriy Grankin discussed outreach strategies for a product launch, focusing on LinkedIn and social media engagement. They emphasized the importance of personal messaging, timely posts, and compliance with GDPR. The conversation included tactics for connecting with potential users and influencers, as well as the need for effective communication to enhance engagement and avoid spam.\\n\\n---\\n\\n# [76] Technical Troubleshooting Meeting (2024-10-07 18:43):\\nThe meeting involved Nikolay, Dmitriy Grankin, and Sergey Ryabenko discussing server access issues, troubleshooting commands, and user permissions. They collaborated on resolving connectivity problems and shared technical insights, focusing on SSH access and user key management.\\n\\n---\\n\\n# [77] AI-Driven Training Course Development (2024-10-08 13:33):\\nThe meeting discussed the development of AI-generated training materials for Search Chain, focusing on creating SCORM-compliant courses. David Sterry outlined the project status, budget constraints, and the need for improved AI outputs. Dmitry Grankin emphasized the importance of effective prompt engineering and collaboration to enhance course quality. The team aims to produce engaging content for both mobile and web users, addressing compliance and competency in the construction industry.\\n\\n---\\n\\n# [78] Marketing Strategy Discussion (2024-10-08 14:25):\\nDmitriy Grankin and Olga Nemirovskaya discussed marketing strategies, focusing on Google Ads and YouTube channels. They analyzed user engagement metrics, identified areas for product improvement, and emphasized the need for structured user feedback. The conversation highlighted the importance of analytics and strategic planning for effective marketing outreach.\\n\\n---\\n\\n# [79] User Engagement Strategy Meeting (2024-10-09 15:06):\\nDmitriy Grankin and Olga Nemirovskaya discuss strategies for improving user engagement and feedback collection. They emphasize the importance of establishing contact with users, understanding their needs, and addressing onboarding issues. The conversation includes user segmentation, analysis of user behavior, and the need for a streamlined outreach process to gather valuable insights for product improvement.\\n\\n---\\n\\n# [80] Casual Business Update (2024-10-09 16:02):\\nDmitriy Grankin and Nadya Gorodetskaya discuss personal updates, including weather and living conditions in Finland. They also review DG's recent product hunt experience, user acquisition strategies, and marketing efforts, including Google Ads and influencer collaborations. DG mentions challenges in scaling their product and the need for adjustments in pricing and user management.\\n\\n---\\n\\n# [81] Informal Check-in Meeting (2024-10-09 20:34):\\nThe meeting consists of a brief informal check-in among participants, with minimal dialogue indicating a casual atmosphere. No specific facts or details are provided.\\n\\n---\\n\\n# [82] Grilling Discussion (2024-10-09 20:37):\\nThe meeting features a discussion led by 'nan' about the practicality of grilling, questioning its purpose when everyone is already seated at the table. The conversation seems informal and exploratory in nature.\\n\\n---\\n\\n# [83] Training Course Development Kickoff (2024-10-10 18:18):\\nThe meeting focused on developing a training course for a complex software interface, discussing the viability of the product, user-friendly design, and technical requirements. Key points included the need for SCORM format compatibility, the structure of the training course, and challenges in content creation and automation.\\n\\n---\\n\\n# [84] AI-Driven Contact Center Script Development (2024-10-10 19:34):\\nIn a meeting on October 10, 2024, Igor Bessonov and Dmitriy Grankin discussed the development of a contact center script using AI. They explored the need for structured data from call transcriptions, the challenges of processing large volumes of calls, and strategies for filtering quality interactions. The conversation highlighted the importance of leveraging AI technologies to enhance the efficiency and effectiveness of contact center operations.\\n\\n---\\n\\n# [85] AI Marketing Directory Collaboration Discussion (2024-10-10 21:45):\\nDmitry Grankin (DG) met with AI Marketing Directory representatives (AMD and EN) to discuss their influencer marketing services for AI tools. AMD explained their strategy of leveraging influencers on Twitter to promote AI products, sharing examples of successful campaigns like Hautech and less successful ones like Quick Blocks. They proposed a collaboration with DG's company, offering a service package for $149 per month, including content creation and performance reporting.\\n\\n---\\n\\n# [86] Technical Discussion on Backend and Design (2024-10-14 12:39):\\nIn a meeting on October 14, 2024, Sergey Ryabenko and Dmitriy Grankin discussed backend development challenges, the importance of recording, and the need for filtering and searching capabilities. They also addressed design elements, payment integration, user retention, and potential marketing strategies, emphasizing the importance of delivering what users need.\\n\\n---\\n\\n# [87] Figma Plugin Discussion (2024-10-14 13:21):\\nIn a technical meeting on October 14, 2024, Sergey Ryabenko and Dmitriy Grankin discussed the use of a Figma plugin for HTML generation. They addressed issues with the plugin's performance, the need for responsive design, and the potential use of Tailwind CSS for styling. The conversation included troubleshooting steps and the importance of exporting code effectively.\\n\\n---\\n\\n# [88] Team Discussion on System Operations (2024-10-14 13:37):\\nThe meeting involved a casual discussion among team members about the workings of their system. Participants expressed interest in understanding the system better, although there were moments of confusion regarding the presentation of information.\\n\\n---\\n\\n# [89] Service Functionality Check (2024-10-15 11:03):\\nThe meeting focused on verifying the functionality of a service, emphasizing the importance of operational checks to ensure service reliability and performance.\\n\\n---\\n\\n# [90] System Functionality Test (2024-10-15 16:07):\\nDmitriy Grankin conducted a system functionality test, confirming its operation. The meeting included multilingual phrases, suggesting a diverse testing environment. Key points include system checks and user feedback.\\n\\n---\\n\\n# [91] System Testing Session (2024-10-16 12:56):\\nThe meeting involved testing the functionality of a system, with participants confirming the system's operational status. Key focus was on ensuring the system works as intended.\\n\\n---\\n\\n# [92] Team Check-in Test Meeting (2024-10-16 14:51):\\nThe meeting was a brief check-in with minimal content, primarily testing audio or connection. Participants discussed a query regarding 'Lviv'.\\n\\n---\\n\\n# [93] Testing Meeting on File Names (2024-10-16 20:20):\\nDmitriy Grankin led a testing meeting discussing the process and format of file names. The conversation included informal exchanges and questions about file naming conventions, indicating a trial session rather than a formal meeting.\\n\\n---\\n\\n# [94] Technical Troubleshooting Session (2024-10-17 15:42):\\nThe meeting on October 17, 2024, involved a technical troubleshooting session where participants discussed restarting a system to resolve ongoing issues. The focus was on observing the results of the restart and ensuring functionality.\\n\\n---\\n\\n# [95] System Functionality Testing Session (2024-10-17 15:43):\\nThe meeting focused on testing a system's functionality, specifically its data saving capabilities. Participants discussed the system's performance, confirming that it is currently operational but requires further refinement. The conversation included various testing phrases and feedback on the system's reliability.\\n\\n---\\n\\n# [96] Testing Session with Dmitriy Grankin (2024-10-17 16:09):\\nDmitriy Grankin conducts a testing session to evaluate the functionality of a system. The meeting features informal dialogue, humor, and a mix of languages, indicating a light-hearted atmosphere. No significant decisions or business matters are discussed.\\n\\n---\\n\\n# [97] Testing Session Review (2024-10-17 16:31):\\nThe meeting involved informal discussions about the status of a testing session, with expressions of frustration regarding the absence of speakers. Participants reflected on the outcomes of the tests and the overall situation.\\n\\n---\\n\\n# [98] Speaker Functionality Discussion (2024-10-17 16:35):\\nThe meeting focused on the functionality of speakers, with participants discussing whether they work or not. The conversation was informal, with repeated phrases indicating uncertainty about the speakers' performance.\\n\\n---\\n\\n# [99] Testing Session on SPO Functionality (2024-10-17 16:36):\\nDmitriy Grankin conducts a testing session, focusing on SPO functionality and inquiring about the current build version. The meeting includes informal reactions and testing phrases, indicating a collaborative environment.\\n\\n---\\n\\n# [100] Initial Meeting Discussion (2024-10-17 17:48):\\nThe meeting commenced on October 17, 2024, at 14:48, with initial remarks indicating a focus on how the meeting will proceed.\\n\\n---\\n\""
      ]
     },
     "execution_count": 53,
     "metadata": {},
     "output_type": "execute_result"
    }
   ],
   "source": [
    "build_context_string(summaries,only_summaries=True)[0]"
   ]
  },
  {
   "cell_type": "code",
   "execution_count": 43,
   "metadata": {},
   "outputs": [
    {
     "data": {
      "text/plain": [
       "[{'start': None, 'end': None, 'vector_search_query': 'customer names'},\n",
       " {'start': None, 'end': None, 'vector_search_query': 'client names'},\n",
       " {'start': None, 'end': None, 'vector_search_query': 'list of customers'},\n",
       " {'start': None, 'end': None, 'vector_search_query': 'customer information'},\n",
       " {'start': None, 'end': None, 'vector_search_query': 'client details'}]"
      ]
     },
     "execution_count": 43,
     "metadata": {},
     "output_type": "execute_result"
    }
   ],
   "source": [
    "queries"
   ]
  },
  {
   "cell_type": "code",
   "execution_count": null,
   "metadata": {},
   "outputs": [],
   "source": []
  }
 ],
 "metadata": {
  "kernelspec": {
   "display_name": "langchain",
   "language": "python",
   "name": "langchain"
  },
  "language_info": {
   "codemirror_mode": {
    "name": "ipython",
    "version": 3
   },
   "file_extension": ".py",
   "mimetype": "text/x-python",
   "name": "python",
   "nbconvert_exporter": "python",
   "pygments_lexer": "ipython3",
   "version": "3.11.2"
  }
 },
 "nbformat": 4,
 "nbformat_minor": 2
}
