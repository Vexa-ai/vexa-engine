{
 "cells": [
  {
   "cell_type": "code",
   "execution_count": 2,
   "metadata": {},
   "outputs": [],
   "source": [
    "%load_ext autoreload\n",
    "%autoreload 2\n"
   ]
  },
  {
   "cell_type": "code",
   "execution_count": 3,
   "metadata": {},
   "outputs": [],
   "source": [
    "import sys\n",
    "sys.path.append('/app')"
   ]
  },
  {
   "cell_type": "code",
   "execution_count": 4,
   "metadata": {},
   "outputs": [
    {
     "name": "stdout",
     "output_type": "stream",
     "text": [
      "Vexa token: 3ae04e20124d40babc5107e658c666b6\n",
      "User information retrieved successfully.\n"
     ]
    },
    {
     "data": {
      "text/plain": [
       "{'id': 'ef7c085b-fdb5-4c94-b7b6-a61a3d04c210',\n",
       " 'email': '2280905@gmail.com',\n",
       " 'is_allowed_send_init_message': True,\n",
       " 'username': 'Dmitriy Grankin',\n",
       " 'first_name': 'Dmitriy',\n",
       " 'last_name': 'Grankin',\n",
       " 'image': None,\n",
       " 'created_timestamp': '2024-05-28T11:16:50.894711Z',\n",
       " 'updated_timestamp': '2024-11-21T22:19:24.910083Z'}"
      ]
     },
     "execution_count": 4,
     "metadata": {},
     "output_type": "execute_result"
    }
   ],
   "source": [
    "from vexa import VexaAPI, VexaAuth\n",
    "vexa = VexaAPI()\n",
    "await vexa.get_user_info()"
   ]
  },
  {
   "cell_type": "code",
   "execution_count": 5,
   "metadata": {},
   "outputs": [],
   "source": [
    "vexaauth = VexaAuth()\n"
   ]
  },
  {
   "cell_type": "code",
   "execution_count": 7,
   "metadata": {},
   "outputs": [
    {
     "data": {
      "text/plain": [
       "'ffc47fdc1f79475994fb93a29a394a09'"
      ]
     },
     "execution_count": 7,
     "metadata": {},
     "output_type": "execute_result"
    }
   ],
   "source": [
    "await vexaauth.get_user_token(email='a.zakharov@citydrive.ru')"
   ]
  },
  {
   "cell_type": "code",
   "execution_count": 4,
   "metadata": {},
   "outputs": [],
   "source": [
    "import sys\n",
    "sys.path.append('/app')\n"
   ]
  },
  {
   "cell_type": "code",
   "execution_count": 5,
   "metadata": {},
   "outputs": [],
   "source": [
    "from chat import MeetingChatManager\n",
    "from psql_helpers import get_session\n",
    "from uuid import UUID\n"
   ]
  },
  {
   "cell_type": "code",
   "execution_count": 6,
   "metadata": {},
   "outputs": [],
   "source": [
    "from IPython.display import clear_output,display,Markdown\n"
   ]
  },
  {
   "cell_type": "code",
   "execution_count": 7,
   "metadata": {},
   "outputs": [],
   "source": [
    "from IPython.display import clear_output, display, Markdown\n",
    "from functools import wraps\n",
    "from typing import AsyncIterator\n",
    "\n",
    "def jupyter_stream_output(markdown: bool = True):\n",
    "    def decorator(func):\n",
    "        @wraps(func)\n",
    "        async def wrapper(*args, **kwargs):\n",
    "            chunks = []\n",
    "            async for response in func(*args, **kwargs):\n",
    "                if isinstance(response, str):\n",
    "                    chunks.append(response)\n",
    "                    clear_output(wait=True)\n",
    "                    if markdown:\n",
    "                        display(Markdown(''.join(chunks)))\n",
    "                    else:\n",
    "                        print(''.join(chunks), flush=True)\n",
    "                else:\n",
    "                    return response\n",
    "            return ''.join(chunks)\n",
    "        return wrapper\n",
    "    return decorator"
   ]
  },
  {
   "cell_type": "code",
   "execution_count": 8,
   "metadata": {},
   "outputs": [],
   "source": [
    "from chat import MeetingSummaryContextProvider"
   ]
  },
  {
   "cell_type": "code",
   "execution_count": 37,
   "metadata": {},
   "outputs": [],
   "source": [
    "from typing import List, Dict\n",
    "import requests\n",
    "BASE_URL = \"http://localhost:8765\"\n",
    "headers = {\"Authorization\": f\"Bearer {vexa.token}\", \"Content-Type\": \"application/json\"}"
   ]
  },
  {
   "cell_type": "code",
   "execution_count": 38,
   "metadata": {},
   "outputs": [],
   "source": [
    "def get_meetings_by_speakers(speakers: List[str], limit: int = 50, offset: int = 0) -> Dict:\n",
    "    return requests.post(\n",
    "        f\"{BASE_URL}/meetings/by-speakers\",\n",
    "        headers=headers,\n",
    "        json={\"speakers\": speakers, \"limit\": limit, \"offset\": offset}\n",
    "    ).json()"
   ]
  },
  {
   "cell_type": "code",
   "execution_count": 39,
   "metadata": {},
   "outputs": [],
   "source": [
    "meeting_ids = get_meetings_by_speakers(['Artem Puzik'])"
   ]
  },
  {
   "cell_type": "code",
   "execution_count": 41,
   "metadata": {},
   "outputs": [],
   "source": [
    "meeting_ids = [m['meeting_id'] for m in meeting_ids['meetings']]\n"
   ]
  },
  {
   "cell_type": "code",
   "execution_count": 15,
   "metadata": {},
   "outputs": [],
   "source": [
    "user_id = vexa.user_id"
   ]
  },
  {
   "cell_type": "code",
   "execution_count": 52,
   "metadata": {},
   "outputs": [],
   "source": [
    "thread_id = None"
   ]
  },
  {
   "cell_type": "code",
   "execution_count": 57,
   "metadata": {},
   "outputs": [
    {
     "data": {
      "text/markdown": [
       "His first name in English is Dmitry."
      ],
      "text/plain": [
       "<IPython.core.display.Markdown object>"
      ]
     },
     "metadata": {},
     "output_type": "display_data"
    }
   ],
   "source": [
    "\n",
    "@jupyter_stream_output(markdown=True)\n",
    "async def chat_with_meeting(user_id: str, meeting_ids: list[UUID], query: str,thread_id: str):\n",
    "    async with get_session() as session:\n",
    "        summary_provider = MeetingSummaryContextProvider(meeting_ids, include_discussion_points=True)\n",
    "        chat_manager = MeetingChatManager(session, context_provider=summary_provider)\n",
    "        async for response in chat_manager.chat(\n",
    "            user_id=user_id,\n",
    "            query=query,\n",
    "            meeting_ids=meeting_ids,\n",
    "            thread_id=thread_id,\n",
    "            temperature=0.7\n",
    "        ):\n",
    "            yield response\n",
    "\n",
    "# Usage\n",
    "response = await chat_with_meeting(\n",
    "    thread_id=thread_id,\n",
    "    user_id='ef7c085b-fdb5-4c94-b7b6-a61a3d04c210',\n",
    "    meeting_ids=meeting_ids,\n",
    "    query=\"in english\"\n",
    ")"
   ]
  },
  {
   "cell_type": "code",
   "execution_count": 56,
   "metadata": {},
   "outputs": [],
   "source": [
    "thread_id = response['thread_id']"
   ]
  },
  {
   "cell_type": "code",
   "execution_count": null,
   "metadata": {},
   "outputs": [],
   "source": []
  },
  {
   "cell_type": "code",
   "execution_count": 35,
   "metadata": {},
   "outputs": [
    {
     "name": "stdout",
     "output_type": "stream",
     "text": [
      "19:13:38 - vexa_api - INFO - Initializing ChatManager\n"
     ]
    },
    {
     "name": "stdout",
     "output_type": "stream",
     "text": [
      "thread_id='c81013c1-7c1c-4a1e-a26f-dd4b1890ec1f' user_id='ef7c085b-fdb5-4c94-b7b6-a61a3d04c210' thread_name='what is it baout?' messages=[Msg(role='user', content='what is it baout?', stage=None, service_content=None), Msg(role='assistant', content=\"The meetings discussed involve team collaboration and updates on technical processes within a software development context. \\n\\n1. **Meeting on Artem's Work and Pair Programming**: \\n   - Dmitry Grankin suggested that Artem work on improving the interface under his guidance to enhance product and process understanding. \\n   - Sergey Ryabenko expressed concerns about the scalability of the proposed team collaboration approach. \\n   - Dmitry proposed an experiment with pair programming to assess its effectiveness and discussed the pros and cons of a no-code development approach. \\n   - There was a broader discussion on the efficiency of teamwork, with Sergey noting that speed doesn't always equate to effectiveness.\\n\\n2. **Meeting on Authorization Method Update and Testing**: \\n   - Dmitry updated the authorization method to simplify the process and avoid multiple registrations. He aimed to streamline this using a single token for better local data interaction. \\n   - There was a discussion about the necessity of testing the updated authorization code, with Sergey suggesting thorough testing to ensure functionality, while Dmitry faced challenges due to a lack of proper traceability.\\n   - Dmitry emphasized the importance of reducing friction in team discussions to enhance understanding and coherence.\\n\\nOverall, these meetings focus on improving development practices, enhancing team collaboration, and ensuring that the technical processes are efficient and effective.\", stage=None, service_content=None)] meeting_id=None timestamp=datetime.datetime(2024, 11, 20, 19, 13, 24, 726645, tzinfo=datetime.timezone.utc)\n",
      "The\n",
      " meetings\n",
      " focus\n",
      " on\n",
      " improving\n",
      " team\n",
      " collaboration\n",
      " and\n",
      " technical\n",
      " processes\n",
      " in\n",
      " software\n",
      " development\n",
      ".\n",
      " \n",
      "\n",
      "\n",
      "1\n",
      ".\n",
      " **\n",
      "Ar\n",
      "tem\n",
      "'s\n",
      " Work\n",
      " and\n",
      " Pair\n",
      " Programming\n",
      "**\n",
      ":\n",
      " Dmit\n",
      "ry\n",
      " suggested\n",
      " that\n",
      " Artem\n",
      " enhance\n",
      " the\n",
      " interface\n",
      " under\n",
      " his\n",
      " guidance\n",
      ".\n",
      " Sergey\n",
      " raised\n",
      " concerns\n",
      " about\n",
      " scalability\n",
      ",\n",
      " while\n",
      " Dmit\n",
      "ry\n",
      " proposed\n",
      " testing\n",
      " pair\n",
      " programming\n",
      " and\n",
      " discussed\n",
      " the\n",
      " benefits\n",
      " and\n",
      " drawbacks\n",
      " of\n",
      " no\n",
      "-code\n",
      " development\n",
      ".\n",
      "\n",
      "\n",
      "2\n",
      ".\n",
      " **\n",
      "Authorization\n",
      " Method\n",
      " Update\n",
      " and\n",
      " Testing\n",
      "**\n",
      ":\n",
      " Dmit\n",
      "ry\n",
      " updated\n",
      " the\n",
      " authorization\n",
      " method\n",
      " to\n",
      " simplify\n",
      " user\n",
      " registration\n",
      " with\n",
      " a\n",
      " single\n",
      " token\n",
      ".\n",
      " They\n",
      " discussed\n",
      " the\n",
      " need\n",
      " for\n",
      " testing\n",
      " the\n",
      " updated\n",
      " code\n",
      ",\n",
      " with\n",
      " Sergey\n",
      " advocating\n",
      " for\n",
      " thorough\n",
      " testing\n",
      ",\n",
      " and\n",
      " Dmit\n",
      "ry\n",
      " highlighted\n",
      " the\n",
      " importance\n",
      " of\n",
      " reducing\n",
      " friction\n",
      " in\n",
      " team\n",
      " discussions\n",
      " for\n",
      " better\n",
      " efficiency\n",
      ".\n",
      "\n",
      "\n",
      "Overall\n",
      ",\n",
      " the\n",
      " goal\n",
      " is\n",
      " to\n",
      " enhance\n",
      " product\n",
      " understanding\n",
      ",\n",
      " streamline\n",
      " processes\n",
      ",\n",
      " and\n",
      " improve\n",
      " team\n",
      " effectiveness\n",
      ".\n",
      "{'thread_id': 'c81013c1-7c1c-4a1e-a26f-dd4b1890ec1f', 'service_content': {'context_source': 'meeting', 'meeting_count': 2, 'meeting_id': None}}\n"
     ]
    }
   ],
   "source": [
    "summary_provider = MeetingSummaryContextProvider(meeting_ids, include_discussion_points=True)\n",
    "async with get_session() as session:\n",
    "    chat_manager = MeetingChatManager(session, context_provider=summary_provider)\n",
    "    async for response in chat_manager.chat(\n",
    "        user_id=user_id,\n",
    "        thread_id=thread_id,\n",
    "        query=query,\n",
    "        meeting_ids=meeting_ids,\n",
    "        temperature=0.7\n",
    "    ):\n",
    "        print(response)\n"
   ]
  },
  {
   "cell_type": "code",
   "execution_count": 36,
   "metadata": {},
   "outputs": [
    {
     "data": {
      "text/plain": [
       "[Msg(role='user', content='what is it baout?', stage=None, service_content=None),\n",
       " Msg(role='assistant', content=\"The meetings discussed involve team collaboration and updates on technical processes within a software development context. \\n\\n1. **Meeting on Artem's Work and Pair Programming**: \\n   - Dmitry Grankin suggested that Artem work on improving the interface under his guidance to enhance product and process understanding. \\n   - Sergey Ryabenko expressed concerns about the scalability of the proposed team collaboration approach. \\n   - Dmitry proposed an experiment with pair programming to assess its effectiveness and discussed the pros and cons of a no-code development approach. \\n   - There was a broader discussion on the efficiency of teamwork, with Sergey noting that speed doesn't always equate to effectiveness.\\n\\n2. **Meeting on Authorization Method Update and Testing**: \\n   - Dmitry updated the authorization method to simplify the process and avoid multiple registrations. He aimed to streamline this using a single token for better local data interaction. \\n   - There was a discussion about the necessity of testing the updated authorization code, with Sergey suggesting thorough testing to ensure functionality, while Dmitry faced challenges due to a lack of proper traceability.\\n   - Dmitry emphasized the importance of reducing friction in team discussions to enhance understanding and coherence.\\n\\nOverall, these meetings focus on improving development practices, enhancing team collaboration, and ensuring that the technical processes are efficient and effective.\", stage=None, service_content=None),\n",
       " Msg(role='user', content='shorter', stage=None, service_content=None),\n",
       " Msg(role='assistant', content=\"The meetings focus on improving team collaboration and technical processes in software development. \\n\\n1. **Artem's Work and Pair Programming**: Dmitry suggested that Artem enhance the interface under his guidance. Sergey raised concerns about scalability, while Dmitry proposed testing pair programming and discussed the benefits and drawbacks of no-code development.\\n\\n2. **Authorization Method Update and Testing**: Dmitry updated the authorization method to simplify user registration with a single token. They discussed the need for testing the updated code, with Sergey advocating for thorough testing, and Dmitry highlighted the importance of reducing friction in team discussions for better efficiency.\\n\\nOverall, the goal is to enhance product understanding, streamline processes, and improve team effectiveness.\", stage=None, service_content=None)]"
      ]
     },
     "execution_count": 36,
     "metadata": {},
     "output_type": "execute_result"
    }
   ],
   "source": [
    "chat_manager.messages"
   ]
  },
  {
   "cell_type": "code",
   "execution_count": 33,
   "metadata": {},
   "outputs": [],
   "source": [
    "thread_id = response['thread_id']"
   ]
  },
  {
   "cell_type": "code",
   "execution_count": 23,
   "metadata": {},
   "outputs": [
    {
     "data": {
      "text/plain": [
       "'13909c3e-47f9-4999-a3b9-5534294dfbd1'"
      ]
     },
     "execution_count": 23,
     "metadata": {},
     "output_type": "execute_result"
    }
   ],
   "source": [
    "response['thread_id']\n"
   ]
  }
 ],
 "metadata": {
  "kernelspec": {
   "display_name": "Python 3",
   "language": "python",
   "name": "python3"
  },
  "language_info": {
   "codemirror_mode": {
    "name": "ipython",
    "version": 3
   },
   "file_extension": ".py",
   "mimetype": "text/x-python",
   "name": "python",
   "nbconvert_exporter": "python",
   "pygments_lexer": "ipython3",
   "version": "3.11.10"
  }
 },
 "nbformat": 4,
 "nbformat_minor": 2
}
