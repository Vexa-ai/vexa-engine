{
 "cells": [
  {
   "cell_type": "code",
   "execution_count": 3,
   "metadata": {},
   "outputs": [
    {
     "name": "stdout",
     "output_type": "stream",
     "text": [
      "The autoreload extension is already loaded. To reload it, use:\n",
      "  %reload_ext autoreload\n"
     ]
    },
    {
     "data": {
      "application/vnd.jupyter.widget-view+json": {
       "model_id": "89d5952653094155a9f7d129474a8043",
       "version_major": 2,
       "version_minor": 0
      },
      "text/plain": [
       "Fetching 29 files:   0%|          | 0/29 [00:00<?, ?it/s]"
      ]
     },
     "metadata": {},
     "output_type": "display_data"
    }
   ],
   "source": [
    "%load_ext autoreload\n",
    "%autoreload 2\n"
   ]
  },
  {
   "cell_type": "code",
   "execution_count": null,
   "metadata": {},
   "outputs": [],
   "source": [
    "\n",
    "from qdrant_search import QdrantSearchEngine\n",
    "import asyncio\n",
    "\n",
    "# Initialize search engine\n",
    "search = QdrantSearchEngine()\n"
   ]
  },
  {
   "cell_type": "code",
   "execution_count": 23,
   "metadata": {},
   "outputs": [
    {
     "name": "stdout",
     "output_type": "stream",
     "text": [
      "Model device: cuda:3\n"
     ]
    }
   ],
   "source": [
    "\n",
    "\n",
    "# Search parameters\n",
    "query = \"курсор\"\n",
    "meeting_ids = [\"8ff59e4c-7cf3-444d-88bc-c6b25392e3e2\"]\n",
    "limit = 10\n",
    "min_score = -1.\n",
    "\n",
    "# Perform search\n",
    "results = await search.search_transcripts(\n",
    "    query_text=query,\n",
    "    meeting_ids=meeting_ids,\n",
    "    limit=limit,\n",
    "    min_score=min_score,\n",
    "    length_penalty=1.,\n",
    "    min_length=1,\n",
    "    max_length=25\n",
    ")\n"
   ]
  },
  {
   "cell_type": "code",
   "execution_count": 24,
   "metadata": {},
   "outputs": [
    {
     "data": {
      "text/html": [
       "<div>\n",
       "<style scoped>\n",
       "    .dataframe tbody tr th:only-of-type {\n",
       "        vertical-align: middle;\n",
       "    }\n",
       "\n",
       "    .dataframe tbody tr th {\n",
       "        vertical-align: top;\n",
       "    }\n",
       "\n",
       "    .dataframe thead th {\n",
       "        text-align: right;\n",
       "    }\n",
       "</style>\n",
       "<table border=\"1\" class=\"dataframe\">\n",
       "  <thead>\n",
       "    <tr style=\"text-align: right;\">\n",
       "      <th></th>\n",
       "      <th>content</th>\n",
       "      <th>speaker</th>\n",
       "      <th>timestamp</th>\n",
       "      <th>similarity</th>\n",
       "      <th>meeting_id</th>\n",
       "      <th>indices</th>\n",
       "      <th>vector_score</th>\n",
       "      <th>text_score</th>\n",
       "      <th>length</th>\n",
       "    </tr>\n",
       "  </thead>\n",
       "  <tbody>\n",
       "    <tr>\n",
       "      <th>0</th>\n",
       "      <td>чего? Ланч курсор?  Вот там, где плюсик.</td>\n",
       "      <td>Sergey Ryabenko</td>\n",
       "      <td>2024-11-06T15:47:33.224000Z</td>\n",
       "      <td>0.692628</td>\n",
       "      <td>8ff59e4c-7cf3-444d-88bc-c6b25392e3e2</td>\n",
       "      <td>[36, 37]</td>\n",
       "      <td>0.692628</td>\n",
       "      <td>0.377964</td>\n",
       "      <td>41</td>\n",
       "    </tr>\n",
       "    <tr>\n",
       "      <th>1</th>\n",
       "      <td>— На фронте вот он есть.</td>\n",
       "      <td>Sergey Ryabenko</td>\n",
       "      <td>2024-11-06T15:46:44.194000Z</td>\n",
       "      <td>0.595597</td>\n",
       "      <td>8ff59e4c-7cf3-444d-88bc-c6b25392e3e2</td>\n",
       "      <td>[25]</td>\n",
       "      <td>0.595597</td>\n",
       "      <td>0.000000</td>\n",
       "      <td>25</td>\n",
       "    </tr>\n",
       "    <tr>\n",
       "      <th>2</th>\n",
       "      <td>Курсор.  Вот, можно нажимаешь, и все.  Подожд...</td>\n",
       "      <td>Dmitriy Grankin</td>\n",
       "      <td>2024-11-06T15:47:26.304000Z</td>\n",
       "      <td>0.558699</td>\n",
       "      <td>8ff59e4c-7cf3-444d-88bc-c6b25392e3e2</td>\n",
       "      <td>[33, 34, 35]</td>\n",
       "      <td>0.558699</td>\n",
       "      <td>0.333333</td>\n",
       "      <td>55</td>\n",
       "    </tr>\n",
       "    <tr>\n",
       "      <th>3</th>\n",
       "      <td>Ты мне выслал.  выслал я сейчас попробую в эт...</td>\n",
       "      <td>Sergey Ryabenko</td>\n",
       "      <td>2024-11-06T15:48:03.680000Z</td>\n",
       "      <td>0.546222</td>\n",
       "      <td>8ff59e4c-7cf3-444d-88bc-c6b25392e3e2</td>\n",
       "      <td>[48, 49]</td>\n",
       "      <td>0.546222</td>\n",
       "      <td>0.000000</td>\n",
       "      <td>97</td>\n",
       "    </tr>\n",
       "    <tr>\n",
       "      <th>4</th>\n",
       "      <td>Что конкретно?</td>\n",
       "      <td>Sergey Ryabenko</td>\n",
       "      <td>2024-11-06T15:46:49.644000Z</td>\n",
       "      <td>0.381612</td>\n",
       "      <td>8ff59e4c-7cf3-444d-88bc-c6b25392e3e2</td>\n",
       "      <td>[27]</td>\n",
       "      <td>0.381612</td>\n",
       "      <td>0.000000</td>\n",
       "      <td>15</td>\n",
       "    </tr>\n",
       "    <tr>\n",
       "      <th>5</th>\n",
       "      <td>просто, вот у тебя же ты курсор открыл.  Не, ...</td>\n",
       "      <td>Dmitriy Grankin</td>\n",
       "      <td>2024-11-06T15:50:30.876000Z</td>\n",
       "      <td>0.340739</td>\n",
       "      <td>8ff59e4c-7cf3-444d-88bc-c6b25392e3e2</td>\n",
       "      <td>[70, 71]</td>\n",
       "      <td>0.000000</td>\n",
       "      <td>0.340739</td>\n",
       "      <td>59</td>\n",
       "    </tr>\n",
       "    <tr>\n",
       "      <th>6</th>\n",
       "      <td>Плюсик, да.</td>\n",
       "      <td>Dmitriy Grankin</td>\n",
       "      <td>2024-11-06T15:47:36.864000Z</td>\n",
       "      <td>0.303107</td>\n",
       "      <td>8ff59e4c-7cf3-444d-88bc-c6b25392e3e2</td>\n",
       "      <td>[38]</td>\n",
       "      <td>0.303107</td>\n",
       "      <td>0.000000</td>\n",
       "      <td>12</td>\n",
       "    </tr>\n",
       "    <tr>\n",
       "      <th>7</th>\n",
       "      <td>Как там...</td>\n",
       "      <td>Sergey Ryabenko</td>\n",
       "      <td>2024-11-06T15:51:38.352000Z</td>\n",
       "      <td>0.281093</td>\n",
       "      <td>8ff59e4c-7cf3-444d-88bc-c6b25392e3e2</td>\n",
       "      <td>[79]</td>\n",
       "      <td>0.281093</td>\n",
       "      <td>0.000000</td>\n",
       "      <td>11</td>\n",
       "    </tr>\n",
       "    <tr>\n",
       "      <th>8</th>\n",
       "      <td>А, я понял.</td>\n",
       "      <td>Dmitriy Grankin</td>\n",
       "      <td>2024-11-06T15:51:37.492000Z</td>\n",
       "      <td>0.270721</td>\n",
       "      <td>8ff59e4c-7cf3-444d-88bc-c6b25392e3e2</td>\n",
       "      <td>[78]</td>\n",
       "      <td>0.270721</td>\n",
       "      <td>0.000000</td>\n",
       "      <td>12</td>\n",
       "    </tr>\n",
       "    <tr>\n",
       "      <th>9</th>\n",
       "      <td>пишешь в поиске открываешь его и здесь три кн...</td>\n",
       "      <td>Dmitriy Grankin</td>\n",
       "      <td>2024-11-06T15:47:49.244000Z</td>\n",
       "      <td>0.261261</td>\n",
       "      <td>8ff59e4c-7cf3-444d-88bc-c6b25392e3e2</td>\n",
       "      <td>[40]</td>\n",
       "      <td>0.000000</td>\n",
       "      <td>0.261261</td>\n",
       "      <td>88</td>\n",
       "    </tr>\n",
       "  </tbody>\n",
       "</table>\n",
       "</div>"
      ],
      "text/plain": [
       "                                             content          speaker  \\\n",
       "0           чего? Ланч курсор?  Вот там, где плюсик.  Sergey Ryabenko   \n",
       "1                           — На фронте вот он есть.  Sergey Ryabenko   \n",
       "2   Курсор.  Вот, можно нажимаешь, и все.  Подожд...  Dmitriy Grankin   \n",
       "3   Ты мне выслал.  выслал я сейчас попробую в эт...  Sergey Ryabenko   \n",
       "4                                     Что конкретно?  Sergey Ryabenko   \n",
       "5   просто, вот у тебя же ты курсор открыл.  Не, ...  Dmitriy Grankin   \n",
       "6                                        Плюсик, да.  Dmitriy Grankin   \n",
       "7                                         Как там...  Sergey Ryabenko   \n",
       "8                                        А, я понял.  Dmitriy Grankin   \n",
       "9   пишешь в поиске открываешь его и здесь три кн...  Dmitriy Grankin   \n",
       "\n",
       "                     timestamp  similarity  \\\n",
       "0  2024-11-06T15:47:33.224000Z    0.692628   \n",
       "1  2024-11-06T15:46:44.194000Z    0.595597   \n",
       "2  2024-11-06T15:47:26.304000Z    0.558699   \n",
       "3  2024-11-06T15:48:03.680000Z    0.546222   \n",
       "4  2024-11-06T15:46:49.644000Z    0.381612   \n",
       "5  2024-11-06T15:50:30.876000Z    0.340739   \n",
       "6  2024-11-06T15:47:36.864000Z    0.303107   \n",
       "7  2024-11-06T15:51:38.352000Z    0.281093   \n",
       "8  2024-11-06T15:51:37.492000Z    0.270721   \n",
       "9  2024-11-06T15:47:49.244000Z    0.261261   \n",
       "\n",
       "                             meeting_id       indices  vector_score  \\\n",
       "0  8ff59e4c-7cf3-444d-88bc-c6b25392e3e2      [36, 37]      0.692628   \n",
       "1  8ff59e4c-7cf3-444d-88bc-c6b25392e3e2          [25]      0.595597   \n",
       "2  8ff59e4c-7cf3-444d-88bc-c6b25392e3e2  [33, 34, 35]      0.558699   \n",
       "3  8ff59e4c-7cf3-444d-88bc-c6b25392e3e2      [48, 49]      0.546222   \n",
       "4  8ff59e4c-7cf3-444d-88bc-c6b25392e3e2          [27]      0.381612   \n",
       "5  8ff59e4c-7cf3-444d-88bc-c6b25392e3e2      [70, 71]      0.000000   \n",
       "6  8ff59e4c-7cf3-444d-88bc-c6b25392e3e2          [38]      0.303107   \n",
       "7  8ff59e4c-7cf3-444d-88bc-c6b25392e3e2          [79]      0.281093   \n",
       "8  8ff59e4c-7cf3-444d-88bc-c6b25392e3e2          [78]      0.270721   \n",
       "9  8ff59e4c-7cf3-444d-88bc-c6b25392e3e2          [40]      0.000000   \n",
       "\n",
       "   text_score  length  \n",
       "0    0.377964      41  \n",
       "1    0.000000      25  \n",
       "2    0.333333      55  \n",
       "3    0.000000      97  \n",
       "4    0.000000      15  \n",
       "5    0.340739      59  \n",
       "6    0.000000      12  \n",
       "7    0.000000      11  \n",
       "8    0.000000      12  \n",
       "9    0.261261      88  "
      ]
     },
     "execution_count": 24,
     "metadata": {},
     "output_type": "execute_result"
    }
   ],
   "source": [
    "results"
   ]
  },
  {
   "cell_type": "code",
   "execution_count": null,
   "metadata": {},
   "outputs": [],
   "source": [
    "\n",
    "\n",
    "query = \"глобальный экономический кризис\"\n",
    "meeting_ids = [\"8ff59e4c-7cf3-444d-88bc-c6b25392e3e2\"]\n",
    "\n",
    "results = await search.search_transcripts_with_context(\n",
    "    query_text=query,\n",
    "    meeting_ids=meeting_ids\n"
   ]
  },
  {
   "cell_type": "code",
   "execution_count": null,
   "metadata": {},
   "outputs": [],
   "source": []
  },
  {
   "cell_type": "code",
   "execution_count": null,
   "metadata": {},
   "outputs": [],
   "source": []
  },
  {
   "cell_type": "code",
   "execution_count": null,
   "metadata": {},
   "outputs": [],
   "source": []
  },
  {
   "cell_type": "code",
   "execution_count": 1,
   "metadata": {},
   "outputs": [
    {
     "name": "stderr",
     "output_type": "stream",
     "text": [
      "/home/dima/anaconda3/envs/langchain/lib/python3.11/site-packages/huggingface_hub/file_download.py:1132: FutureWarning: `resume_download` is deprecated and will be removed in version 1.0.0. Downloads always resume when possible. If you want to force a new download, use `force_download=True`.\n",
      "  warnings.warn(\n"
     ]
    }
   ],
   "source": [
    "from qdrant_client import AsyncQdrantClient\n",
    "from sentence_transformers import SentenceTransformer\n",
    "import asyncio\n",
    "\n",
    "# Initialize\n",
    "client = AsyncQdrantClient(\"localhost\", port=6333)\n",
    "model = SentenceTransformer('paraphrase-multilingual-MiniLM-L12-v2', device='cuda:3')\n",
    "collection = \"discussion_points\"\n"
   ]
  },
  {
   "cell_type": "code",
   "execution_count": 4,
   "metadata": {},
   "outputs": [],
   "source": [
    "from qdrant_client.models import Filter, FieldCondition, MatchValue, MatchText, SearchParams,MatchAny"
   ]
  },
  {
   "cell_type": "code",
   "execution_count": 37,
   "metadata": {},
   "outputs": [
    {
     "name": "stderr",
     "output_type": "stream",
     "text": [
      "/home/dima/anaconda3/envs/langchain/lib/python3.11/site-packages/huggingface_hub/file_download.py:1132: FutureWarning: `resume_download` is deprecated and will be removed in version 1.0.0. Downloads always resume when possible. If you want to force a new download, use `force_download=True`.\n",
      "  warnings.warn(\n"
     ]
    }
   ],
   "source": [
    "self = QdrantSearchEngine()"
   ]
  },
  {
   "cell_type": "code",
   "execution_count": 67,
   "metadata": {},
   "outputs": [],
   "source": [
    "from fastembed import SparseTextEmbedding"
   ]
  },
  {
   "cell_type": "code",
   "execution_count": 68,
   "metadata": {},
   "outputs": [
    {
     "data": {
      "application/vnd.jupyter.widget-view+json": {
       "model_id": "0c9899d4808a41c3a18567665e2b820f",
       "version_major": 2,
       "version_minor": 0
      },
      "text/plain": [
       "Fetching 29 files:   0%|          | 0/29 [00:00<?, ?it/s]"
      ]
     },
     "metadata": {},
     "output_type": "display_data"
    }
   ],
   "source": [
    "self.sparse_model = SparseTextEmbedding(model_name=\"Qdrant/bm25\")"
   ]
  },
  {
   "cell_type": "code",
   "execution_count": 74,
   "metadata": {},
   "outputs": [],
   "source": [
    "from typing import List\n",
    "import numpy as np\n",
    "import pandas as pd"
   ]
  },
  {
   "cell_type": "code",
   "execution_count": 75,
   "metadata": {},
   "outputs": [],
   "source": [
    "async def calculate_sparse_similarity(self, query_text: str, content: str) -> float:\n",
    "    # Get sparse embeddings\n",
    "    embeddings = list(self.sparse_model.embed([query_text, content]))\n",
    "    if len(embeddings) != 2:\n",
    "        return 0.0\n",
    "        \n",
    "    query_emb, content_emb = embeddings\n",
    "    \n",
    "    # Find common indices\n",
    "    common_indices = np.intersect1d(query_emb.indices, content_emb.indices)\n",
    "    if len(common_indices) == 0:\n",
    "        return 0.0\n",
    "        \n",
    "    # Get positions of common indices\n",
    "    query_pos = np.searchsorted(query_emb.indices, common_indices)\n",
    "    content_pos = np.searchsorted(content_emb.indices, common_indices)\n",
    "    \n",
    "    # Calculate dot product for matching terms\n",
    "    similarity = np.sum(query_emb.values[query_pos] * content_emb.values[content_pos])\n",
    "    \n",
    "    # Normalize by document lengths\n",
    "    norm = np.sqrt(np.sum(query_emb.values**2) * np.sum(content_emb.values**2))\n",
    "    if norm > 0:\n",
    "        similarity /= norm\n",
    "        \n",
    "    return float(similarity)\n",
    "\n",
    "async def search_transcripts(self, query_text: str, meeting_ids: List[str] = None, limit: int = 20, min_score: float = 0.3):\n",
    "    # Base filter conditions\n",
    "    must_conditions = [\n",
    "        FieldCondition(key=\"vector_type\", match=MatchValue(value=\"transcript\"))\n",
    "    ]\n",
    "    if meeting_ids:\n",
    "        must_conditions.append(\n",
    "            FieldCondition(key=\"meeting_id\", match=MatchAny(any=meeting_ids))\n",
    "        )\n",
    "\n",
    "    # 1. Vector search\n",
    "    query_vector = await self.encode_text(query_text)\n",
    "    vector_results = await self.client.search(\n",
    "        collection_name=self.collection_name,\n",
    "        query_vector=query_vector.tolist(),\n",
    "        query_filter=Filter(must=must_conditions),\n",
    "        limit=limit,\n",
    "        score_threshold=min_score,\n",
    "        search_params=SearchParams(hnsw_ef=128),\n",
    "        with_payload=True\n",
    "    )\n",
    "    \n",
    "    # 2. Get all meeting content\n",
    "    scroll_response = await self.client.scroll(\n",
    "        collection_name=self.collection_name,\n",
    "        scroll_filter=Filter(must=must_conditions),\n",
    "        limit=10000,\n",
    "        with_payload=True\n",
    "    )\n",
    "    all_chunks = scroll_response[0]\n",
    "\n",
    "    # 3. Combine and score results\n",
    "    vector_scores = {hit.payload['content']: hit.score for hit in vector_results}\n",
    "    \n",
    "    results = []\n",
    "    for chunk in all_chunks:\n",
    "        content = chunk.payload['content']\n",
    "        \n",
    "        # Get vector score if exists, else 0\n",
    "        vector_score = vector_scores.get(content, 0.0)\n",
    "        \n",
    "        # Calculate BM25-like text similarity\n",
    "        text_score = await self.calculate_sparse_similarity(query_text, content)\n",
    "        \n",
    "        # Combined score (weighted combination)\n",
    "        final_score = max(vector_score, text_score)\n",
    "        \n",
    "        if final_score >= min_score:\n",
    "            results.append({\n",
    "                \"content\": content,\n",
    "                \"speaker\": chunk.payload.get(\"speaker\", \"\"),\n",
    "                \"timestamp\": chunk.payload.get(\"timestamp\", \"\"),\n",
    "                \"similarity\": final_score,\n",
    "                \"meeting_id\": chunk.payload.get(\"meeting_id\", \"\"),\n",
    "                \"indices\": chunk.payload.get(\"indices\", []),\n",
    "                \"vector_score\": vector_score,\n",
    "                \"text_score\": text_score\n",
    "            })\n",
    "    \n",
    "    # Sort by score and limit results\n",
    "    results.sort(key=lambda x: x['similarity'], reverse=True)\n",
    "    return pd.DataFrame(results[:limit])"
   ]
  },
  {
   "cell_type": "code",
   "execution_count": 85,
   "metadata": {},
   "outputs": [],
   "source": [
    "query = \"разработчик который работает с сервером\"\n",
    "meeting_ids = [\"9211c3e2-6e25-470c-8daf-d317d6555b34\"]\n",
    "limit = 10\n",
    "min_score = 0.4"
   ]
  },
  {
   "cell_type": "code",
   "execution_count": 86,
   "metadata": {},
   "outputs": [
    {
     "name": "stdout",
     "output_type": "stream",
     "text": [
      "Model device: cuda:3\n"
     ]
    },
    {
     "data": {
      "text/html": [
       "<div>\n",
       "<style scoped>\n",
       "    .dataframe tbody tr th:only-of-type {\n",
       "        vertical-align: middle;\n",
       "    }\n",
       "\n",
       "    .dataframe tbody tr th {\n",
       "        vertical-align: top;\n",
       "    }\n",
       "\n",
       "    .dataframe thead th {\n",
       "        text-align: right;\n",
       "    }\n",
       "</style>\n",
       "<table border=\"1\" class=\"dataframe\">\n",
       "  <thead>\n",
       "    <tr style=\"text-align: right;\">\n",
       "      <th></th>\n",
       "      <th>content</th>\n",
       "      <th>speaker</th>\n",
       "      <th>timestamp</th>\n",
       "      <th>similarity</th>\n",
       "      <th>meeting_id</th>\n",
       "      <th>indices</th>\n",
       "    </tr>\n",
       "  </thead>\n",
       "  <tbody>\n",
       "    <tr>\n",
       "      <th>0</th>\n",
       "      <td>от сервера, если что-то случилось.</td>\n",
       "      <td>Sergey Ryabenko</td>\n",
       "      <td>2024-11-01T13:46:12.884000Z</td>\n",
       "      <td>0.554024</td>\n",
       "      <td>9211c3e2-6e25-470c-8daf-d317d6555b34</td>\n",
       "      <td>[21]</td>\n",
       "    </tr>\n",
       "    <tr>\n",
       "      <th>1</th>\n",
       "      <td>...проблем с сервером и нагрузкой.</td>\n",
       "      <td>Sergey Ryabenko</td>\n",
       "      <td>2024-11-01T13:46:01.644000Z</td>\n",
       "      <td>0.546312</td>\n",
       "      <td>9211c3e2-6e25-470c-8daf-d317d6555b34</td>\n",
       "      <td>[18]</td>\n",
       "    </tr>\n",
       "    <tr>\n",
       "      <th>2</th>\n",
       "      <td>Поэтому я тебе говорю, тебе нужен сервис, а не просто вот DevOps.  Вот мое мнение.  Ну, более...</td>\n",
       "      <td>Sergey Ryabenko</td>\n",
       "      <td>2024-11-01T13:47:11.734000Z</td>\n",
       "      <td>0.415253</td>\n",
       "      <td>9211c3e2-6e25-470c-8daf-d317d6555b34</td>\n",
       "      <td>[29, 30, 31]</td>\n",
       "    </tr>\n",
       "  </tbody>\n",
       "</table>\n",
       "</div>"
      ],
      "text/plain": [
       "                                                                                             content  \\\n",
       "0                                                                 от сервера, если что-то случилось.   \n",
       "1                                                                 ...проблем с сервером и нагрузкой.   \n",
       "2   Поэтому я тебе говорю, тебе нужен сервис, а не просто вот DevOps.  Вот мое мнение.  Ну, более...   \n",
       "\n",
       "           speaker                    timestamp  similarity  \\\n",
       "0  Sergey Ryabenko  2024-11-01T13:46:12.884000Z    0.554024   \n",
       "1  Sergey Ryabenko  2024-11-01T13:46:01.644000Z    0.546312   \n",
       "2  Sergey Ryabenko  2024-11-01T13:47:11.734000Z    0.415253   \n",
       "\n",
       "                             meeting_id       indices  \n",
       "0  9211c3e2-6e25-470c-8daf-d317d6555b34          [21]  \n",
       "1  9211c3e2-6e25-470c-8daf-d317d6555b34          [18]  \n",
       "2  9211c3e2-6e25-470c-8daf-d317d6555b34  [29, 30, 31]  "
      ]
     },
     "execution_count": 86,
     "metadata": {},
     "output_type": "execute_result"
    }
   ],
   "source": [
    "await self.search_transcripts(query, meeting_ids, limit, min_score)"
   ]
  },
  {
   "cell_type": "code",
   "execution_count": null,
   "metadata": {},
   "outputs": [],
   "source": []
  },
  {
   "cell_type": "code",
   "execution_count": null,
   "metadata": {},
   "outputs": [],
   "source": []
  },
  {
   "cell_type": "code",
   "execution_count": 58,
   "metadata": {},
   "outputs": [],
   "source": [
    "must_conditions = [\n",
    "    FieldCondition(key=\"vector_type\", match=MatchValue(value=\"transcript\"))\n",
    "]\n",
    "if meeting_ids:\n",
    "    must_conditions.append(\n",
    "        FieldCondition(key=\"meeting_id\", match=MatchAny(any=meeting_ids))\n",
    "    )"
   ]
  },
  {
   "cell_type": "code",
   "execution_count": 59,
   "metadata": {},
   "outputs": [],
   "source": [
    "from qdrant_search import QdrantSearchEngine"
   ]
  },
  {
   "cell_type": "code",
   "execution_count": 60,
   "metadata": {},
   "outputs": [],
   "source": [
    "query_text = query"
   ]
  },
  {
   "cell_type": "code",
   "execution_count": 61,
   "metadata": {},
   "outputs": [
    {
     "name": "stdout",
     "output_type": "stream",
     "text": [
      "Model device: cuda:3\n"
     ]
    }
   ],
   "source": [
    "\n",
    "# 1. Vector search\n",
    "query_vector = await self.encode_text(query_text)\n",
    "vector_results = await self.client.search(\n",
    "    collection_name=self.collection_name,\n",
    "    query_vector=query_vector.tolist(),\n",
    "    query_filter=Filter(must=must_conditions),\n",
    "    limit=limit,\n",
    "    score_threshold=min_score,\n",
    "    search_params=SearchParams(hnsw_ef=128),\n",
    "    with_payload=True\n",
    ")"
   ]
  },
  {
   "cell_type": "code",
   "execution_count": 62,
   "metadata": {},
   "outputs": [],
   "source": [
    "\n",
    "# 2. Get all meeting content\n",
    "scroll_response = await self.client.scroll(\n",
    "    collection_name=self.collection_name,\n",
    "    scroll_filter=Filter(must=must_conditions),\n",
    "    limit=10000,\n",
    "    with_payload=True\n",
    ")\n",
    "all_chunks = scroll_response[0]"
   ]
  },
  {
   "cell_type": "code",
   "execution_count": 63,
   "metadata": {},
   "outputs": [],
   "source": [
    "\n",
    "# 3. Combine and score results\n",
    "vector_scores = {hit.payload['content']: hit.score for hit in vector_results}\n",
    "query_lower = query_text.lower()\n",
    "query_words = set(query_lower.split())\n",
    "\n",
    "results = []\n",
    "for chunk in all_chunks:\n",
    "    content = chunk.payload['content']\n",
    "    content_lower = content.lower()\n",
    "    content_words = set(content_lower.split())\n",
    "    \n",
    "    # Calculate text match score with multiple factors\n",
    "    text_match_score = 0.0\n",
    "    \n",
    "    # Exact phrase match (highest boost)\n",
    "    if query_lower in content_lower:\n",
    "        text_match_score += 0.3\n",
    "    \n",
    "    # Word-level matching\n",
    "    word_overlap = len(query_words.intersection(content_words))\n",
    "    if word_overlap > 0:\n",
    "        # Normalize by query length for more accurate scoring\n",
    "        text_match_score += 0.1 * (word_overlap / len(query_words))\n",
    "    \n",
    "    # Get vector score if exists, else 0\n",
    "    vector_score = vector_scores.get(content, 0.0)\n",
    "    \n",
    "    # Combined score (vector similarity + text boost)\n",
    "    final_score = max(vector_score, text_match_score)\n",
    "    \n",
    "    if final_score >= min_score:\n",
    "        results.append({\n",
    "            \"content\": content,\n",
    "            \"speaker\": chunk.payload.get(\"speaker\", \"\"),\n",
    "            \"timestamp\": chunk.payload.get(\"timestamp\", \"\"),\n",
    "            \"similarity\": final_score,\n",
    "            \"meeting_id\": chunk.payload.get(\"meeting_id\", \"\"),\n",
    "            \"indices\": chunk.payload.get(\"indices\", []),\n",
    "            \"vector_score\": vector_score,\n",
    "            \"text_score\": text_match_score\n",
    "        })"
   ]
  },
  {
   "cell_type": "code",
   "execution_count": 64,
   "metadata": {},
   "outputs": [],
   "source": [
    "import pandas as pd"
   ]
  },
  {
   "cell_type": "code",
   "execution_count": 65,
   "metadata": {},
   "outputs": [],
   "source": [
    "pd.options.display.max_colwidth = 1000"
   ]
  },
  {
   "cell_type": "code",
   "execution_count": 66,
   "metadata": {},
   "outputs": [
    {
     "data": {
      "text/html": [
       "<div>\n",
       "<style scoped>\n",
       "    .dataframe tbody tr th:only-of-type {\n",
       "        vertical-align: middle;\n",
       "    }\n",
       "\n",
       "    .dataframe tbody tr th {\n",
       "        vertical-align: top;\n",
       "    }\n",
       "\n",
       "    .dataframe thead th {\n",
       "        text-align: right;\n",
       "    }\n",
       "</style>\n",
       "<table border=\"1\" class=\"dataframe\">\n",
       "  <thead>\n",
       "    <tr style=\"text-align: right;\">\n",
       "      <th></th>\n",
       "      <th>content</th>\n",
       "      <th>speaker</th>\n",
       "      <th>timestamp</th>\n",
       "      <th>similarity</th>\n",
       "      <th>meeting_id</th>\n",
       "      <th>indices</th>\n",
       "      <th>vector_score</th>\n",
       "      <th>text_score</th>\n",
       "    </tr>\n",
       "  </thead>\n",
       "  <tbody>\n",
       "    <tr>\n",
       "      <th>0</th>\n",
       "      <td>Поэтому я тебе говорю, тебе нужен сервис, а не просто вот DevOps.  Вот мое мнение.  Ну, более...</td>\n",
       "      <td>Sergey Ryabenko</td>\n",
       "      <td>2024-11-01T13:47:11.734000Z</td>\n",
       "      <td>0.541408</td>\n",
       "      <td>9211c3e2-6e25-470c-8daf-d317d6555b34</td>\n",
       "      <td>[29, 30, 31]</td>\n",
       "      <td>0.541408</td>\n",
       "      <td>0.3</td>\n",
       "    </tr>\n",
       "  </tbody>\n",
       "</table>\n",
       "</div>"
      ],
      "text/plain": [
       "                                                                                             content  \\\n",
       "0   Поэтому я тебе говорю, тебе нужен сервис, а не просто вот DevOps.  Вот мое мнение.  Ну, более...   \n",
       "\n",
       "           speaker                    timestamp  similarity  \\\n",
       "0  Sergey Ryabenko  2024-11-01T13:47:11.734000Z    0.541408   \n",
       "\n",
       "                             meeting_id       indices  vector_score  \\\n",
       "0  9211c3e2-6e25-470c-8daf-d317d6555b34  [29, 30, 31]      0.541408   \n",
       "\n",
       "   text_score  \n",
       "0         0.3  "
      ]
     },
     "execution_count": 66,
     "metadata": {},
     "output_type": "execute_result"
    }
   ],
   "source": [
    "pd.DataFrame(results)"
   ]
  },
  {
   "cell_type": "code",
   "execution_count": null,
   "metadata": {},
   "outputs": [],
   "source": []
  },
  {
   "cell_type": "code",
   "execution_count": null,
   "metadata": {},
   "outputs": [],
   "source": []
  },
  {
   "cell_type": "code",
   "execution_count": null,
   "metadata": {},
   "outputs": [],
   "source": []
  },
  {
   "cell_type": "code",
   "execution_count": 1,
   "metadata": {},
   "outputs": [
    {
     "name": "stderr",
     "output_type": "stream",
     "text": [
      "/home/dima/anaconda3/envs/langchain/lib/python3.11/site-packages/huggingface_hub/file_download.py:1132: FutureWarning: `resume_download` is deprecated and will be removed in version 1.0.0. Downloads always resume when possible. If you want to force a new download, use `force_download=True`.\n",
      "  warnings.warn(\n"
     ]
    }
   ],
   "source": []
  },
  {
   "cell_type": "code",
   "execution_count": 7,
   "metadata": {},
   "outputs": [],
   "source": []
  },
  {
   "cell_type": "code",
   "execution_count": 41,
   "metadata": {},
   "outputs": [],
   "source": [
    "\n",
    "# Search parameters\n",
    "query = \"глобальный\"\n",
    "meeting_ids = [\"8ff59e4c-7cf3-444d-88bc-c6b25392e3e2\"]\n",
    "limit = 10\n",
    "min_score = 0.4\n",
    "\n",
    "must_conditions = [\n",
    "    FieldCondition(key=\"vector_type\", match=MatchValue(value=\"transcript\")),\n",
    "    FieldCondition(key=\"meeting_id\", match=MatchAny(any=meeting_ids))\n",
    "]\n",
    "\n",
    "\n",
    "query_vector = model.encode(query)\n",
    "\n",
    "results = await client.search(\n",
    "    collection_name=collection,\n",
    "    query_vector=query_vector.tolist(),\n",
    "    query_filter=Filter(\n",
    "        must=must_conditions\n",
    "    ),\n",
    "    limit=limit,\n",
    "    score_threshold=min_score,\n",
    "    search_params=SearchParams(hnsw_ef=128),\n",
    "    with_payload=True\n",
    ")"
   ]
  },
  {
   "cell_type": "code",
   "execution_count": 44,
   "metadata": {},
   "outputs": [],
   "source": [
    "response = await client.scroll(\n",
    "            collection_name=collection,\n",
    "            scroll_filter=Filter(must=must_conditions),\n",
    "            limit=10000000,\n",
    "            with_payload=True\n",
    "        )"
   ]
  },
  {
   "cell_type": "code",
   "execution_count": 45,
   "metadata": {},
   "outputs": [
    {
     "data": {
      "text/plain": [
       "([Record(id='01552cd4-8dee-45e7-b750-52d1a7cd18ff', payload={'meeting_id': '8ff59e4c-7cf3-444d-88bc-c6b25392e3e2', 'content': ' Плюсик, да.', 'speaker': 'Dmitriy Grankin', 'timestamp': '2024-11-06T15:47:36.864000Z', 'indices': [38], 'vector_type': 'transcript', 'vector_source': 'transcript', 'chunk_index': 23}, vector=None, shard_key=None, order_value=None),\n",
       "  Record(id='023d8a69-b4ad-47c7-8541-9546fdfd89de', payload={'meeting_id': '8ff59e4c-7cf3-444d-88bc-c6b25392e3e2', 'content': ' пишешь в поиске открываешь его и здесь три кнопки launch vs код launch курсор и connect', 'speaker': 'Dmitriy Grankin', 'timestamp': '2024-11-06T15:47:49.244000Z', 'indices': [40], 'vector_type': 'transcript', 'vector_source': 'transcript', 'chunk_index': 25}, vector=None, shard_key=None, order_value=None),\n",
       "  Record(id='059620e8-514e-48ee-8385-c7170bf327c7', payload={'meeting_id': '8ff59e4c-7cf3-444d-88bc-c6b25392e3e2', 'content': ' Согласен. Так, ну...  Так, что у нас вообще, какой...  Трэдс чат эриа и митингс чат эриа.  Вот это вот митингс чат эриа.', 'speaker': 'Sergey Ryabenko', 'timestamp': '2024-11-06T15:48:59.760000Z', 'indices': [52, 53, 54, 55], 'vector_type': 'transcript', 'vector_source': 'transcript', 'chunk_index': 30}, vector=None, shard_key=None, order_value=None),\n",
       "  Record(id='0a51b4c2-9e6c-49b9-b41b-076947b41cc9', payload={'meeting_id': '8ff59e4c-7cf3-444d-88bc-c6b25392e3e2', 'content': ' — А, на фронте еще нет?', 'speaker': 'Dmitriy Grankin', 'timestamp': '2024-11-06T15:46:42.614000Z', 'indices': [24], 'vector_type': 'transcript', 'vector_source': 'transcript', 'chunk_index': 12}, vector=None, shard_key=None, order_value=None),\n",
       "  Record(id='13d40f7a-3323-4de6-b2ca-ddbf1fac9cc9', payload={'meeting_id': '8ff59e4c-7cf3-444d-88bc-c6b25392e3e2', 'content': ' Окей, так, что ты хочешь сейчас, скажем так, от меня, что требуется?', 'speaker': 'Sergey Ryabenko', 'timestamp': '2024-11-06T15:44:31.136000Z', 'indices': [7], 'vector_type': 'transcript', 'vector_source': 'transcript', 'chunk_index': 5}, vector=None, shard_key=None, order_value=None),\n",
       "  Record(id='2172b27f-82ea-42ac-819f-02bbde059845', payload={'meeting_id': '8ff59e4c-7cf3-444d-88bc-c6b25392e3e2', 'content': ' Так, подожди, а можешь прислать ссылку на реплик?', 'speaker': 'Sergey Ryabenko', 'timestamp': '2024-11-06T15:46:53.244000Z', 'indices': [28], 'vector_type': 'transcript', 'vector_source': 'transcript', 'chunk_index': 16}, vector=None, shard_key=None, order_value=None),\n",
       "  Record(id='259c9ece-4879-42a1-8a2f-0e346041e113', payload={'meeting_id': '8ff59e4c-7cf3-444d-88bc-c6b25392e3e2', 'content': ' — Ну вот да, у меня просто вопрос, что...', 'speaker': 'Dmitriy Grankin', 'timestamp': '2024-11-06T15:46:46.894000Z', 'indices': [26], 'vector_type': 'transcript', 'vector_source': 'transcript', 'chunk_index': 14}, vector=None, shard_key=None, order_value=None),\n",
       "  Record(id='2a995744-6df1-49d8-ace3-57bddddd7701', payload={'meeting_id': '8ff59e4c-7cf3-444d-88bc-c6b25392e3e2', 'content': ' это... Но ты же, он же удаленно', 'speaker': 'Sergey Ryabenko', 'timestamp': '2024-11-06T15:50:34.736000Z', 'indices': [72], 'vector_type': 'transcript', 'vector_source': 'transcript', 'chunk_index': 38}, vector=None, shard_key=None, order_value=None),\n",
       "  Record(id='2cf46d70-1daa-4df4-b9a5-48ae2032d08d', payload={'meeting_id': '8ff59e4c-7cf3-444d-88bc-c6b25392e3e2', 'content': ' e a forma que eu usei eu использava', 'speaker': 'Sergey Ryabenko', 'timestamp': '2024-11-06T15:51:48.458000Z', 'indices': [82], 'vector_type': 'transcript', 'vector_source': 'transcript', 'chunk_index': 44}, vector=None, shard_key=None, order_value=None),\n",
       "  Record(id='2dba0406-fbbe-42a8-a13a-6e4eb71272de', payload={'meeting_id': '8ff59e4c-7cf3-444d-88bc-c6b25392e3e2', 'content': ' Так.', 'speaker': 'TBD', 'timestamp': '2024-11-06T15:44:24.124000Z', 'indices': [6], 'vector_type': 'transcript', 'vector_source': 'transcript', 'chunk_index': 4}, vector=None, shard_key=None, order_value=None),\n",
       "  Record(id='2dcc7fa9-0869-4614-a330-84fc418fbd21', payload={'meeting_id': '8ff59e4c-7cf3-444d-88bc-c6b25392e3e2', 'content': ' Как с каким-то регистрируешься, помнишь?  no meu gmail', 'speaker': 'Dmitriy Grankin', 'timestamp': '2024-11-06T15:51:44.172000Z', 'indices': [80, 81], 'vector_type': 'transcript', 'vector_source': 'transcript', 'chunk_index': 43}, vector=None, shard_key=None, order_value=None),\n",
       "  Record(id='305575e4-1b11-485b-9983-914e11396f42', payload={'meeting_id': '8ff59e4c-7cf3-444d-88bc-c6b25392e3e2', 'content': ' Окей. Ну, хорошо, тогда что делаем? Ну, вот этот вот локальный чат — Он сейчас уже готов или нет еще?  — На бэке, да, все есть.', 'speaker': 'Sergey Ryabenko', 'timestamp': '2024-11-06T15:46:37.734000Z', 'indices': [22, 23], 'vector_type': 'transcript', 'vector_source': 'transcript', 'chunk_index': 11}, vector=None, shard_key=None, order_value=None),\n",
       "  Record(id='3644cdef-e245-4cb4-985c-805cad1ee3f5', payload={'meeting_id': '8ff59e4c-7cf3-444d-88bc-c6b25392e3e2', 'content': ' Я выделил там отдельно чат.  Чат есть, вижу, да.  То есть ты разделил тогда митинг, чат, и это я выделил потом в чат отдельной компании.  И по идее этот отдельный компонент я старался под него делать, чтобы там были одинаковые.  Вот.', 'speaker': 'Dmitriy Grankin', 'timestamp': '2024-11-06T15:49:24.428000Z', 'indices': [59, 60, 61, 62, 63], 'vector_type': 'transcript', 'vector_source': 'transcript', 'chunk_index': 33}, vector=None, shard_key=None, order_value=None),\n",
       "  Record(id='4f72a2d3-1d71-42e0-ac4a-078818ebe48b', payload={'meeting_id': '8ff59e4c-7cf3-444d-88bc-c6b25392e3e2', 'content': ' Mm-hmm.  Инвалид токен.  Опять?  Ну да, да, наверное.', 'speaker': 'Sergey Ryabenko', 'timestamp': '2024-11-06T15:51:00.472000Z', 'indices': [74, 75, 76, 77], 'vector_type': 'transcript', 'vector_source': 'transcript', 'chunk_index': 40}, vector=None, shard_key=None, order_value=None),\n",
       "  Record(id='529109c6-5087-48af-9fcf-22e031798e66', payload={'meeting_id': '8ff59e4c-7cf3-444d-88bc-c6b25392e3e2', 'content': ' А, я понял.', 'speaker': 'Dmitriy Grankin', 'timestamp': '2024-11-06T15:51:37.492000Z', 'indices': [78], 'vector_type': 'transcript', 'vector_source': 'transcript', 'chunk_index': 41}, vector=None, shard_key=None, order_value=None),\n",
       "  Record(id='551d87b5-8e3e-444d-b525-928816af84a5', payload={'meeting_id': '8ff59e4c-7cf3-444d-88bc-c6b25392e3e2', 'content': ' Я что-то никак не могу найти.', 'speaker': 'Sergey Ryabenko', 'timestamp': '2024-11-06T15:46:54.444000Z', 'indices': [29], 'vector_type': 'transcript', 'vector_source': 'transcript', 'chunk_index': 17}, vector=None, shard_key=None, order_value=None),\n",
       "  Record(id='5a2d4fb4-ed4b-4b54-aef3-0ad889810f4c', payload={'meeting_id': '8ff59e4c-7cf3-444d-88bc-c6b25392e3e2', 'content': ' — На фронте вот он есть.', 'speaker': 'Sergey Ryabenko', 'timestamp': '2024-11-06T15:46:44.194000Z', 'indices': [25], 'vector_type': 'transcript', 'vector_source': 'transcript', 'chunk_index': 13}, vector=None, shard_key=None, order_value=None),\n",
       "  Record(id='5ff5cc00-2b22-4663-9eaa-cce6de5a9a70', payload={'meeting_id': '8ff59e4c-7cf3-444d-88bc-c6b25392e3e2', 'content': ' представлением видишь да вижу вот эта встреча короткая саммари транскрипт и чат который не работает чат который должен заменить внутренний чат который есть вот есть global чат которая работ Вот, значит, соответственно, то, чем я сейчас бодаюсь, это с этим локальным чатом.  вот с локальным чатом ну вот там дальше посмотрим Еще я делал поиск, но локальный поиск не очень по транскриптам работает, зато работает глобально опять-таки нормально.  Я не знаю, тешборд, монетазы, бэкапы.', 'speaker': 'Dmitriy Grankin', 'timestamp': '2024-11-06T15:43:47.136000Z', 'indices': [3, 4, 5], 'vector_type': 'transcript', 'vector_source': 'transcript', 'chunk_index': 3}, vector=None, shard_key=None, order_value=None),\n",
       "  Record(id='651b9f5c-d14b-470d-9813-9f2a992e2091', payload={'meeting_id': '8ff59e4c-7cf3-444d-88bc-c6b25392e3e2', 'content': ' Так, что тут у нас в вьюнер... А, подожди, раунд нужно запустить.  Не, он запущен.', 'speaker': 'Sergey Ryabenko', 'timestamp': '2024-11-06T15:50:12.148000Z', 'indices': [64, 65], 'vector_type': 'transcript', 'vector_source': 'transcript', 'chunk_index': 34}, vector=None, shard_key=None, order_value=None),\n",
       "  Record(id='67d52547-0578-4796-837a-52995c434368', payload={'meeting_id': '8ff59e4c-7cf3-444d-88bc-c6b25392e3e2', 'content': ' Я вижу, что запущен на 73-м порту, но WebView мне как бы сказал запустить порту.  То есть у каждого своя получается.  Инстинкт запущен. Смотри, сделай', 'speaker': 'Sergey Ryabenko', 'timestamp': '2024-11-06T15:50:24.292000Z', 'indices': [67, 68, 69], 'vector_type': 'transcript', 'vector_source': 'transcript', 'chunk_index': 36}, vector=None, shard_key=None, order_value=None),\n",
       "  Record(id='6fe53720-5342-49fe-9e1b-42f8fc69bdae', payload={'meeting_id': '8ff59e4c-7cf3-444d-88bc-c6b25392e3e2', 'content': ' Не, у меня не дает.', 'speaker': 'Dmitriy Grankin', 'timestamp': '2024-11-06T15:50:16.192000Z', 'indices': [66], 'vector_type': 'transcript', 'vector_source': 'transcript', 'chunk_index': 35}, vector=None, shard_key=None, order_value=None),\n",
       "  Record(id='73898a0b-a2fa-4ef0-bdd1-3a813ba5ac58', payload={'meeting_id': '8ff59e4c-7cf3-444d-88bc-c6b25392e3e2', 'content': ' Как там...', 'speaker': 'Sergey Ryabenko', 'timestamp': '2024-11-06T15:51:38.352000Z', 'indices': [79], 'vector_type': 'transcript', 'vector_source': 'transcript', 'chunk_index': 42}, vector=None, shard_key=None, order_value=None),\n",
       "  Record(id='75661896-e61f-4309-8cd3-924afe7cd738', payload={'meeting_id': '8ff59e4c-7cf3-444d-88bc-c6b25392e3e2', 'content': ' Вот. А, все, invited to collaborate, все, я нашел.', 'speaker': 'Sergey Ryabenko', 'timestamp': '2024-11-06T15:47:12.522000Z', 'indices': [31], 'vector_type': 'transcript', 'vector_source': 'transcript', 'chunk_index': 19}, vector=None, shard_key=None, order_value=None),\n",
       "  Record(id='75c75619-0ea2-4a42-8e9a-d34fb8777daa', payload={'meeting_id': '8ff59e4c-7cf3-444d-88bc-c6b25392e3e2', 'content': ' просто, вот у тебя же ты курсор открыл.  Не, курсор, да, я', 'speaker': 'Dmitriy Grankin', 'timestamp': '2024-11-06T15:50:30.876000Z', 'indices': [70, 71], 'vector_type': 'transcript', 'vector_source': 'transcript', 'chunk_index': 37}, vector=None, shard_key=None, order_value=None),\n",
       "  Record(id='77cd28c1-9282-4113-aa49-a8ddc3438814', payload={'meeting_id': '8ff59e4c-7cf3-444d-88bc-c6b25392e3e2', 'content': ' SSH.', 'speaker': 'TBD', 'timestamp': '2024-11-06T15:47:37.944000Z', 'indices': [39], 'vector_type': 'transcript', 'vector_source': 'transcript', 'chunk_index': 24}, vector=None, shard_key=None, order_value=None),\n",
       "  Record(id='7c7cb544-3cb1-4b43-90b1-479a74dbf513', payload={'meeting_id': '8ff59e4c-7cf3-444d-88bc-c6b25392e3e2', 'content': ' чего? Ланч курсор?  Вот там, где плюсик.', 'speaker': 'Sergey Ryabenko', 'timestamp': '2024-11-06T15:47:33.224000Z', 'indices': [36, 37], 'vector_type': 'transcript', 'vector_source': 'transcript', 'chunk_index': 22}, vector=None, shard_key=None, order_value=None),\n",
       "  Record(id='7ec6c63c-4b5a-4146-9483-7b967ce682e4', payload={'meeting_id': '8ff59e4c-7cf3-444d-88bc-c6b25392e3e2', 'content': ' подключился. Да, да, да. Ну вот нажми просто кнопку ports и forward me этот 5173 порт фарвард не будет у тебя аналогичную ну да да да да я помню', 'speaker': 'Dmitriy Grankin', 'timestamp': '2024-11-06T15:50:50.076000Z', 'indices': [73], 'vector_type': 'transcript', 'vector_source': 'transcript', 'chunk_index': 39}, vector=None, shard_key=None, order_value=None),\n",
       "  Record(id='9037e230-0790-4f19-88b9-9dbfb412fc51', payload={'meeting_id': '8ff59e4c-7cf3-444d-88bc-c6b25392e3e2', 'content': ' Ну, это же у нас как ассистент работал до этого, нет?  Ну, да, запросто, я не помню.', 'speaker': 'Sergey Ryabenko', 'timestamp': '2024-11-06T15:45:13.024000Z', 'indices': [13, 14], 'vector_type': 'transcript', 'vector_source': 'transcript', 'chunk_index': 7}, vector=None, shard_key=None, order_value=None),\n",
       "  Record(id='941abd1f-1884-409e-90cf-c308b33372b9', payload={'meeting_id': '8ff59e4c-7cf3-444d-88bc-c6b25392e3e2', 'content': ' Ты мне выслал.  выслал я сейчас попробую в этом курсоре найти ну там короче все это же сразу там', 'speaker': 'Sergey Ryabenko', 'timestamp': '2024-11-06T15:48:03.680000Z', 'indices': [48, 49], 'vector_type': 'transcript', 'vector_source': 'transcript', 'chunk_index': 28}, vector=None, shard_key=None, order_value=None),\n",
       "  Record(id='95b57a23-d6be-4802-b09e-171c3ffe376a', payload={'meeting_id': '8ff59e4c-7cf3-444d-88bc-c6b25392e3e2', 'content': ' векса мульти ассистент 01 минус 2 вот здесь ты нажмешь у тебя вот есть кнопка', 'speaker': 'Sergey Ryabenko', 'timestamp': '2024-11-06T15:47:25.242000Z', 'indices': [32], 'vector_type': 'transcript', 'vector_source': 'transcript', 'chunk_index': 20}, vector=None, shard_key=None, order_value=None),\n",
       "  Record(id='9695795c-0d1c-47e7-8708-98b3dcccdc6a', payload={'meeting_id': '8ff59e4c-7cf3-444d-88bc-c6b25392e3e2', 'content': ' здесь разница только в том что есть есть еще ключ митинг который митинг эти присутствуют становится Не глобальным, а локализованным под конкретный митинг.  Вот, под это есть отдельный endpoint.  Вот.', 'speaker': 'Dmitriy Grankin', 'timestamp': '2024-11-06T15:45:33.392000Z', 'indices': [15, 16, 17], 'vector_type': 'transcript', 'vector_source': 'transcript', 'chunk_index': 8}, vector=None, shard_key=None, order_value=None),\n",
       "  Record(id='af2150f0-292e-4505-a50d-1af4ce06f508', payload={'meeting_id': '8ff59e4c-7cf3-444d-88bc-c6b25392e3e2', 'content': ' Сейчас, подожди, Зоя Гиммич может это поможет.', 'speaker': 'Sergey Ryabenko', 'timestamp': '2024-11-06T15:46:57.544000Z', 'indices': [30], 'vector_type': 'transcript', 'vector_source': 'transcript', 'chunk_index': 18}, vector=None, shard_key=None, order_value=None),\n",
       "  Record(id='b0c029e9-a04c-47f9-bea8-78f9a2d674ec', payload={'meeting_id': '8ff59e4c-7cf3-444d-88bc-c6b25392e3e2', 'content': ' У него запущено, то есть смысл просто в том, чтобы Свои преимущества.  есть в разных подходах вот здесь полная интерактивность есть при этом github никто не отменял никаких недостатков', 'speaker': 'Dmitriy Grankin', 'timestamp': '2024-11-06T15:48:42.488000Z', 'indices': [50, 51], 'vector_type': 'transcript', 'vector_source': 'transcript', 'chunk_index': 29}, vector=None, shard_key=None, order_value=None),\n",
       "  Record(id='b5949e18-de16-42a9-bf17-ee9e260a5bc5', payload={'meeting_id': '8ff59e4c-7cf3-444d-88bc-c6b25392e3e2', 'content': ' Mm-hmm.', 'speaker': 'TBD', 'timestamp': '2024-11-06T15:52:02.664000Z', 'indices': [83], 'vector_type': 'transcript', 'vector_source': 'transcript', 'chunk_index': 45}, vector=None, shard_key=None, order_value=None),\n",
       "  Record(id='c82e4205-ac24-4c39-9315-cbae5244bdd9', payload={'meeting_id': '8ff59e4c-7cf3-444d-88bc-c6b25392e3e2', 'content': ' Okay, cool.  Endpoint, ты поменял его, это не тот, который раньше использовался, да, это новый?', 'speaker': 'Sergey Ryabenko', 'timestamp': '2024-11-06T15:45:55.622000Z', 'indices': [18, 19], 'vector_type': 'transcript', 'vector_source': 'transcript', 'chunk_index': 9}, vector=None, shard_key=None, order_value=None),\n",
       "  Record(id='c8b653f8-6fa1-4344-9138-38a41a9f2850', payload={'meeting_id': '8ff59e4c-7cf3-444d-88bc-c6b25392e3e2', 'content': ' Ну, это у нас вне...  Другая опишка, я специально не хотел смешивать, просто сверху нацепил настройку, пока так, может так и оставим пока.', 'speaker': 'Dmitriy Grankin', 'timestamp': '2024-11-06T15:46:07.348000Z', 'indices': [20, 21], 'vector_type': 'transcript', 'vector_source': 'transcript', 'chunk_index': 10}, vector=None, shard_key=None, order_value=None),\n",
       "  Record(id='cbc93ad7-e06d-4f01-918c-4a35458c258a', payload={'meeting_id': '8ff59e4c-7cf3-444d-88bc-c6b25392e3e2', 'content': ' Курсор.  Вот, можно нажимаешь, и все.  Подожди, на SSH', 'speaker': 'Dmitriy Grankin', 'timestamp': '2024-11-06T15:47:26.304000Z', 'indices': [33, 34, 35], 'vector_type': 'transcript', 'vector_source': 'transcript', 'chunk_index': 21}, vector=None, shard_key=None, order_value=None),\n",
       "  Record(id='d2fd4eee-9980-4d28-974f-282fd8e02a41', payload={'meeting_id': '8ff59e4c-7cf3-444d-88bc-c6b25392e3e2', 'content': ' Да, давай.  Так, сейчас только нужно мне тебя запустить.', 'speaker': 'Dmitriy Grankin', 'timestamp': '2024-11-06T15:52:19.670000Z', 'indices': [84, 85], 'vector_type': 'transcript', 'vector_source': 'transcript', 'chunk_index': 46}, vector=None, shard_key=None, order_value=None),\n",
       "  Record(id='d3a397c2-4a3d-46c7-9b20-902b3593f060', payload={'meeting_id': '8ff59e4c-7cf3-444d-88bc-c6b25392e3e2', 'content': ' А как мы с тобой в прошлый раз делали?  Я, наверное, просто...  Ну, ты мне выслал, да-да-да.', 'speaker': 'Dmitriy Grankin', 'timestamp': '2024-11-06T15:48:00.640000Z', 'indices': [45, 46, 47], 'vector_type': 'transcript', 'vector_source': 'transcript', 'chunk_index': 27}, vector=None, shard_key=None, order_value=None),\n",
       "  Record(id='dac94fec-ea04-482f-9bca-f118dd76accc', payload={'meeting_id': '8ff59e4c-7cf3-444d-88bc-c6b25392e3e2', 'content': ' Да, привет.  Я на том же репле разместил.', 'speaker': 'Dmitriy Grankin', 'timestamp': '2024-11-06T15:42:37.160000Z', 'indices': [0, 1], 'vector_type': 'transcript', 'vector_source': 'transcript', 'chunk_index': 1}, vector=None, shard_key=None, order_value=None),\n",
       "  Record(id='dc0cab81-ab82-4b55-a7e6-7b4da228993f', payload={'meeting_id': '8ff59e4c-7cf3-444d-88bc-c6b25392e3e2', 'content': ' Так подожди, ты же там убрал чат.  Мы же убрали чат из митингс.', 'speaker': 'Sergey Ryabenko', 'timestamp': '2024-11-06T15:49:17.620000Z', 'indices': [57, 58], 'vector_type': 'transcript', 'vector_source': 'transcript', 'chunk_index': 32}, vector=None, shard_key=None, order_value=None),\n",
       "  Record(id='e32d655e-296f-43a4-91e5-309265e5179b', payload={'meeting_id': '8ff59e4c-7cf3-444d-88bc-c6b25392e3e2', 'content': ' тебе показать что есть если так показать еще раз сейчас тебе покажу что есть все', 'speaker': 'Sergey Ryabenko', 'timestamp': '2024-11-06T15:43:06.786000Z', 'indices': [2], 'vector_type': 'transcript', 'vector_source': 'transcript', 'chunk_index': 2}, vector=None, shard_key=None, order_value=None),\n",
       "  Record(id='ef7b91ce-13b6-4394-8042-334c0c124695', payload={'meeting_id': '8ff59e4c-7cf3-444d-88bc-c6b25392e3e2', 'content': ' Нет, у меня только Join Replit Core.  Это, видимо, это...  А, Only Available to Replit Core.  Так, окей.', 'speaker': 'Sergey Ryabenko', 'timestamp': '2024-11-06T15:47:53.900000Z', 'indices': [41, 42, 43, 44], 'vector_type': 'transcript', 'vector_source': 'transcript', 'chunk_index': 26}, vector=None, shard_key=None, order_value=None),\n",
       "  Record(id='f7ada829-b128-415c-b89d-b511f0808842', payload={'meeting_id': '8ff59e4c-7cf3-444d-88bc-c6b25392e3e2', 'content': ' Что конкретно?', 'speaker': 'Sergey Ryabenko', 'timestamp': '2024-11-06T15:46:49.644000Z', 'indices': [27], 'vector_type': 'transcript', 'vector_source': 'transcript', 'chunk_index': 15}, vector=None, shard_key=None, order_value=None),\n",
       "  Record(id='fa53284f-14f5-4437-b27d-1a302b824760', payload={'meeting_id': '8ff59e4c-7cf3-444d-88bc-c6b25392e3e2', 'content': ' Нам надо дебажить.  И вот этот локальный чат. Вот, это прямой endpoint есть. Значит, там какой принцип?  Точно так же, как и в глобальном чате, у нас есть thread id. Когда мы начинаем новый, у нас нет thread id, мы без него посылаем backend, создаем thread.  возвращает его, и таким образом мы продолжаем.  Здесь все...', 'speaker': 'Dmitriy Grankin', 'timestamp': '2024-11-06T15:44:36.756000Z', 'indices': [8, 9, 10, 11, 12], 'vector_type': 'transcript', 'vector_source': 'transcript', 'chunk_index': 6}, vector=None, shard_key=None, order_value=None),\n",
       "  Record(id='fc2f4d12-10ba-4b64-854a-43fab1da37a0', payload={'meeting_id': '8ff59e4c-7cf3-444d-88bc-c6b25392e3e2', 'content': ' Митингс чат эриа.', 'speaker': 'Dmitriy Grankin', 'timestamp': '2024-11-06T15:49:15.880000Z', 'indices': [56], 'vector_type': 'transcript', 'vector_source': 'transcript', 'chunk_index': 31}, vector=None, shard_key=None, order_value=None)],\n",
       " None)"
      ]
     },
     "execution_count": 45,
     "metadata": {},
     "output_type": "execute_result"
    }
   ],
   "source": [
    "response"
   ]
  },
  {
   "cell_type": "code",
   "execution_count": 37,
   "metadata": {},
   "outputs": [
    {
     "data": {
      "text/plain": [
       "[ScoredPoint(id='f7ada829-b128-415c-b89d-b511f0808842', version=61, score=0.4828009, payload={'meeting_id': '8ff59e4c-7cf3-444d-88bc-c6b25392e3e2', 'content': ' Что конкретно?', 'speaker': 'Sergey Ryabenko', 'timestamp': '2024-11-06T15:46:49.644000Z', 'indices': [27], 'vector_type': 'transcript', 'vector_source': 'transcript', 'chunk_index': 15}, vector=None, shard_key=None, order_value=None),\n",
       " ScoredPoint(id='73898a0b-a2fa-4ef0-bdd1-3a813ba5ac58', version=61, score=0.4711425, payload={'meeting_id': '8ff59e4c-7cf3-444d-88bc-c6b25392e3e2', 'content': ' Как там...', 'speaker': 'Sergey Ryabenko', 'timestamp': '2024-11-06T15:51:38.352000Z', 'indices': [79], 'vector_type': 'transcript', 'vector_source': 'transcript', 'chunk_index': 42}, vector=None, shard_key=None, order_value=None),\n",
       " ScoredPoint(id='2dba0406-fbbe-42a8-a13a-6e4eb71272de', version=61, score=0.45968503, payload={'meeting_id': '8ff59e4c-7cf3-444d-88bc-c6b25392e3e2', 'content': ' Так.', 'speaker': 'TBD', 'timestamp': '2024-11-06T15:44:24.124000Z', 'indices': [6], 'vector_type': 'transcript', 'vector_source': 'transcript', 'chunk_index': 4}, vector=None, shard_key=None, order_value=None),\n",
       " ScoredPoint(id='01552cd4-8dee-45e7-b750-52d1a7cd18ff', version=61, score=0.41788024, payload={'meeting_id': '8ff59e4c-7cf3-444d-88bc-c6b25392e3e2', 'content': ' Плюсик, да.', 'speaker': 'Dmitriy Grankin', 'timestamp': '2024-11-06T15:47:36.864000Z', 'indices': [38], 'vector_type': 'transcript', 'vector_source': 'transcript', 'chunk_index': 23}, vector=None, shard_key=None, order_value=None),\n",
       " ScoredPoint(id='b5949e18-de16-42a9-bf17-ee9e260a5bc5', version=61, score=0.40907043, payload={'meeting_id': '8ff59e4c-7cf3-444d-88bc-c6b25392e3e2', 'content': ' Mm-hmm.', 'speaker': 'TBD', 'timestamp': '2024-11-06T15:52:02.664000Z', 'indices': [83], 'vector_type': 'transcript', 'vector_source': 'transcript', 'chunk_index': 45}, vector=None, shard_key=None, order_value=None)]"
      ]
     },
     "execution_count": 37,
     "metadata": {},
     "output_type": "execute_result"
    }
   ],
   "source": [
    "results"
   ]
  },
  {
   "cell_type": "code",
   "execution_count": null,
   "metadata": {},
   "outputs": [],
   "source": []
  },
  {
   "cell_type": "code",
   "execution_count": null,
   "metadata": {},
   "outputs": [],
   "source": [
    "\n",
    "# Process and boost scores\n",
    "enhanced_results = []\n",
    "for hit in results:\n",
    "    content = hit.payload[\"content\"].lower()\n",
    "    text_match_score = 0\n",
    "    \n",
    "    if query.lower() in content:\n",
    "        text_match_score += 0.3\n",
    "    \n",
    "    word_overlap = len(set(query.lower().split()) & set(content.split()))\n",
    "    text_match_score += 0.1 * word_overlap\n",
    "    \n",
    "    enhanced_results.append({\n",
    "        \"content\": hit.payload[\"content\"],\n",
    "        \"speaker\": hit.payload[\"speaker\"],\n",
    "        \"similarity\": hit.score + text_match_score,\n",
    "        \"meeting_id\": hit.payload[\"meeting_id\"]\n",
    "    })\n",
    "\n",
    "return sorted(enhanced_results, key=lambda x: x[\"similarity\"], reverse=True)\n",
    "\n"
   ]
  },
  {
   "cell_type": "code",
   "execution_count": 20,
   "metadata": {},
   "outputs": [],
   "source": [
    "import pandas as pd"
   ]
  },
  {
   "cell_type": "code",
   "execution_count": 21,
   "metadata": {},
   "outputs": [
    {
     "data": {
      "text/html": [
       "<div>\n",
       "<style scoped>\n",
       "    .dataframe tbody tr th:only-of-type {\n",
       "        vertical-align: middle;\n",
       "    }\n",
       "\n",
       "    .dataframe tbody tr th {\n",
       "        vertical-align: top;\n",
       "    }\n",
       "\n",
       "    .dataframe thead th {\n",
       "        text-align: right;\n",
       "    }\n",
       "</style>\n",
       "<table border=\"1\" class=\"dataframe\">\n",
       "  <thead>\n",
       "    <tr style=\"text-align: right;\">\n",
       "      <th></th>\n",
       "    </tr>\n",
       "  </thead>\n",
       "  <tbody>\n",
       "  </tbody>\n",
       "</table>\n",
       "</div>"
      ],
      "text/plain": [
       "Empty DataFrame\n",
       "Columns: []\n",
       "Index: []"
      ]
     },
     "execution_count": 21,
     "metadata": {},
     "output_type": "execute_result"
    }
   ],
   "source": [
    "df = pd.DataFrame(results)\n",
    "df"
   ]
  },
  {
   "cell_type": "code",
   "execution_count": null,
   "metadata": {},
   "outputs": [],
   "source": []
  }
 ],
 "metadata": {
  "kernelspec": {
   "display_name": "langchain",
   "language": "python",
   "name": "python3"
  },
  "language_info": {
   "codemirror_mode": {
    "name": "ipython",
    "version": 3
   },
   "file_extension": ".py",
   "mimetype": "text/x-python",
   "name": "python",
   "nbconvert_exporter": "python",
   "pygments_lexer": "ipython3",
   "version": "3.11.2"
  }
 },
 "nbformat": 4,
 "nbformat_minor": 2
}
