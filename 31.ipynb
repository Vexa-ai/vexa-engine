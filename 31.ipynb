{
 "cells": [
  {
   "cell_type": "code",
   "execution_count": 1,
   "metadata": {},
   "outputs": [],
   "source": [
    "%load_ext autoreload\n",
    "%autoreload 2\n"
   ]
  },
  {
   "cell_type": "code",
   "execution_count": 2,
   "metadata": {},
   "outputs": [
    {
     "name": "stdout",
     "output_type": "stream",
     "text": [
      "Vexa token: 3ae04e20124d40babc5107e658c666b6\n",
      "User information retrieved successfully.\n"
     ]
    },
    {
     "data": {
      "text/plain": [
       "{'id': 'ef7c085b-fdb5-4c94-b7b6-a61a3d04c210',\n",
       " 'email': '2280905@gmail.com',\n",
       " 'is_allowed_send_init_message': True,\n",
       " 'username': 'string',\n",
       " 'first_name': 'string',\n",
       " 'last_name': 'string',\n",
       " 'image': None,\n",
       " 'created_timestamp': '2024-05-28T11:16:50.894711Z',\n",
       " 'updated_timestamp': '2024-11-02T08:22:26.180063Z'}"
      ]
     },
     "execution_count": 2,
     "metadata": {},
     "output_type": "execute_result"
    }
   ],
   "source": [
    "from vexa import VexaAPI\n",
    "\n",
    "vexa = VexaAPI()\n",
    "\n",
    "await vexa.get_user_info()"
   ]
  },
  {
   "cell_type": "code",
   "execution_count": 3,
   "metadata": {},
   "outputs": [
    {
     "name": "stdout",
     "output_type": "stream",
     "text": [
      "Request URL: http://127.0.0.1:8001/api/v1/calls/all\n",
      "Request Params: {'token': '3ae04e20124d40babc5107e658c666b6'}\n"
     ]
    },
    {
     "data": {
      "text/plain": [
       "632"
      ]
     },
     "execution_count": 3,
     "metadata": {},
     "output_type": "execute_result"
    }
   ],
   "source": [
    "meetings = await vexa.get_meetings()\n",
    "\n",
    "len(meetings)"
   ]
  },
  {
   "cell_type": "code",
   "execution_count": 4,
   "metadata": {},
   "outputs": [
    {
     "data": {
      "text/plain": [
       "'d894ee56-d144-4cd5-8c2c-74de222a6b31'"
      ]
     },
     "execution_count": 4,
     "metadata": {},
     "output_type": "execute_result"
    }
   ],
   "source": [
    "meeting_id = meetings[-60]['id']\n",
    "meeting_id"
   ]
  },
  {
   "cell_type": "code",
   "execution_count": 29,
   "metadata": {},
   "outputs": [],
   "source": [
    "meeting_id = '6cf0b989-5e9c-4a57-a058-8f6ac0ca8025'"
   ]
  },
  {
   "cell_type": "code",
   "execution_count": 30,
   "metadata": {},
   "outputs": [],
   "source": [
    "transcription = await vexa.get_transcription(meeting_session_id=meeting_id)\n",
    "df, formatted_input, start_datetime, speakers, transcript = transcription\n"
   ]
  },
  {
   "cell_type": "code",
   "execution_count": 31,
   "metadata": {},
   "outputs": [
    {
     "data": {
      "text/plain": [
       "\"Meeting Metadata:\\nStart Date and Time: 2024-10-03 18:06:40\\nSpeakers:\\n  RT(: Rick Tousseyn (Presentation)\\n  RT: Rick Tousseyn\\n  DG: Dmitriy Grankin\\n\\nMeeting Transcript:\\n\\nDG (00:00):  hey rick hey dimitri how are you\\nnan (00:02):  How was your day today?\\nnan (00:05):  Yeah, long day.\\nDG (00:09):  So no traffic yet?\\nDG (00:11):  No traffic yet.\\nDG (00:14):  Yeah, it takes a while.\\nRT (00:17):  Show me what you're trying to do.\\nRT (00:19):  You want to...\\nRT (00:20):  Yeah.\\nDG (01:04):  Yeah, what I was trying to do is that I just created this empty WordPress yeah and yeah understand that this I need to to choose a thing theme but i don't know um what i'm using is elementor so this one actually um is\\nRT (01:35):  sort of plugin that you install and it's and it's much better because you are able to create it in your your style and there's also like a big unity for this um what's the name what's the name yeah i'm gonna give you the link and one seconds This is what I recommend to everyone.\\nRT (01:36):  OK.\\nDG (02:00):  so basically yeah I want to set up this thing and blow it with articles and see how it goes yep\\nnan (02:05):  Elementor\\nDG (02:07):  and Elementor is\\nRT (02:58):  what it's like a plug-in that you use but of course it's it's it's a paid plan mm-hmm but the cheapest one is I think like five euros per month and I think it's all you need if you just have one website it's it's more than enough and this one allows you to build your page like you want so I can show you like some tutorials if you want or some examples I'm using this also like for my friends who are building websites as the one that I always recommend.\\nRT (03:48):  And then the other one that I also recommend is RankMet Yoast. So I use this to rank that is the best one. And this one is a free plugin. So you don't need to buy anything. And this one is like to uh do your your schema markup to track the rankings so this is a really nice um nice one and this one is 100 free and i think if yeah download for free um where's the plugin and uh\\nDG (04:01):  How to actually install this thing. Yeah, so you're downloading the zip then you go back to your\\nRT (04:25):  WordPress add plugins and then in the top you have upload plugin yeah and then here is where you upload the zip That's the one. Then you just install it.\\nRT (04:29):  Oh, what's this?\\nRT (04:38):  Can you go back?\\nRT (04:53):  mmm try to look in the search plugins try to just type it in the search mm-hmm maybe I think it's there also so if you just type in rank Matt Rank Math?\\nRT (04:57):  Yeah, Rank Math.\\nDG (05:16):  And then the other one that I also recommend, I will let you\\nRT (05:18):  Finish.\\nRT (05:21):  Is...\\nRT (05:22):  That's not so wrong.\\nRT (05:24):  Oh, why is this?\\nRT (05:27):  Okay, Frank.\\nDG (05:40):  well i don't know i'm very strange\\nRT (05:47):  The alternative to RankMath is Yoast, is the other one that you saw there.\\nRT (05:54):  So if you remove this, it's very good.\\nDG (06:04):  slow oh my god um it's stuck i don't know i already just reloaded the page okay yeah yours is also a good one\\nRT (06:19):  then what I would also download is like a backup tool I think it's BP this migration\\nDG (06:29):  It doesn't work, I don't know, maybe there's some problem with connecting this thing to the internet.\\nRT (06:53):  like a problem with your wordpress what kind of problem could it be um i don't know like did you install it how did you install it do you have like a cPanel it's it's it's\\nDG (06:57):  running in a docker in a docker compose\\nRT (07:01):  Man, I have no no experience with with Docker.\\nRT (07:03):  Oh, I'm sorry about that.\\nnan (07:04):  Okay.\\nDG (07:08):  But I have I was installing something today.\\nDG (07:09):  Maybe I should.\\nDG (07:20):  to do uh i i will just reload the docker uh this docker compose now okay it will help\\nRT (07:43):  Yeah, so maybe I just show you how it looks like, the Elementor.\\nRT (07:44):  Yeah, yeah.\\nDG (07:47):  Just give me one moment, I'm trying to.\\nRT (08:11):  yeah I'm just using like a hosting site for this there's no no docker\\nDG (08:21):  You don't have to, basically.\\nDG (08:32):  I would prefer maybe already solution myself.\\nDG (08:52):  let me see but i i find it easier to do like docker a couple of run easier than adding payment method Sideguard\\nRT (09:12):  Okay, so this one is equal loss with MBE.\\nRT (10:23):  Yeah, so you can see see i have like this mentor installed right and um what this does is you you can create your pages and your blogs as you like so just to give you like an example so this is my friend is making like a website for his business and we business in real estate right and normally if you have normal wordpress your options are very limited you have to create almost everything yourself and here you can And here you can edit page with normal WordPress, but if you edit with Elementor, it's very easy.\\nRT (10:26):  It's like almost, you know, like drag and drop, you know?\\nRT (11:00):  Yeah, so you have your, yeah so you have your hierarchy on your right side so for example if I select this one you can see that it's a it's a text with it's a text with a text editor in it if I go back you can also choose your team so this I can change you know very easy I can Very easy, I can also drag and drop this one, so I can move it like I want.\\nRT (11:04):  You see, you can move the pictures.\\nRT (11:06):  So this makes WordPress very easy.\\nRT (11:09):  It makes WordPress very easy, right?\\nDG (11:18):  And I'm interested in how to make it a layout which I can fill with HTML.\\nDG (11:31):  for with HTML. If I if I have a text or HTML or Mario, I will need to look this up. But I believe it's possible\\nRT (11:46):  look this up but i believe it's possible so for example um let me just find because it's it's been a while um since i use this uh let me let me just think Let me just think.\\nRT (12:17):  Yeah, so you have like a sort of, have like a sort of a hot DML section that you can also drag and drop here, for example, and then this is where you can add your code. If you want anything more, more robust, more more robust more advanced, you know, I think this is like what you're looking for like JavaScript\\nnan (12:20):  Yeah, I believe so\\nRT (12:39):  Yeah, I think you can even make it I mean can even make it I mean there's so many you can even do custom CSS yeah I mean it's if you look on any form Elementor Elementor is one of the top five.\\nRT (12:47):  So even if you cannot find it, there will always be like a community that you can ask and they will always help you.\\nRT (12:51):  And this is why I like Elementor because because this one has the biggest community.\\nRT (12:56):  And whenever I'm stuck, I just go to like the forums and they are always helping me.\\nRT (12:59):  This is not the case with Divi.\\nRT (13:15):  Divi is like more smaller and there's And there's also EP Bakery, it's a little bit different, but I tested maybe six different ones and I like Elementor the most, but it depends But it depends also on your taste.\\nDG (13:21):  And do you do these things manually?\\nDG (13:23):  Yeah, everything is manually.\\nRT (13:30):  I'm not a programmer, so if I knew So, if I knew how to do these things, I would, like, automate a lot of things, you know?\\nRT (13:32):  Yeah.\\nRT (13:35):  But they do have templates.\\nRT (13:37):  So, if you are making a certain.\\nRT (13:57):  certain certain design you can have that certain template so within the Elementor you have Envato elements so So, this is just like an extra account that you have to make.\\nRT (14:30):  They have free templates and premium templates, I'm just going to show you I'm just going to show you like the free one and this one already has built in sort of things, you know, so if you want, I don't know software. Yeah, but the free one is but the free one is very limited but if i'm doing like the premium one there's more than 4 000 templates here you know so for example ai um is that a plug-in to\\nDG (14:38):  into the plugin yeah a plugin to the elementor plugin yeah but i like this because it's\\nRT (14:45):  compatible you know so this is why i like elementor because it's the only one that you can that you can, it's very flexible.\\nRT (15:23):  So for example, if you have like a software, I don't know, I really like I really like these kinds of things because they already built it and you know like this one so for example sas software template kit you can have like more information and they have everything so the homepage is ready the blogs are ready all the landing pages are there this will give you like an example right Right, so you don't have to really do anything.\\nRT (15:27):  I think the only thing that you have to do is like change your logo, the colors and so on.\\nRT (15:29):  This is what I really like, right?\\nRT (15:31):  So you don't have to really think about it.\\nRT (15:48):  to really think about it um and then for plugins uh what i recommend is uh yeah rank math i think that's the best one but some people like yoast But some people like Yoast, but I like RankBat.\\nRT (15:53):  But I also- Is it the same thing as Elementor or something?\\nDG (15:55):  No, this is the same like Yoast.\\nDG (15:57):  No, this is the same like Yoast.\\nDG (16:01):  What's the purpose of the same?\\nDG (16:03):  So, this one is an SEO plugin.\\nRT (16:30):  So, for example, if I'm looking at my pages, looking at my pages right I want this page here and I'm editing this we're Really having problems now.\\nRT (16:39):  Oh, you're right. Okay. Sorry.\\nRT (16:39):  It was in.\\nRT (16:47):  So with these things, you can edit your meta description, your title, and so on.\\nRT (16:49):  your title and so on.\\nRT (16:54):  And it will also tell you some basic recommendations, right?\\nRT (16:57):  You can also generate AI content.\\nRT (17:10):  So for example, here, let's say that Let's say that my focus keyword is real estate content with AI.\\nRT (17:12):  Yeah, this is probably like a page feature.\\nRT (17:42):  yeah this is like a paid feature so what I want to show you is maybe the website for my company So they are also doing So they are also doing WordPress, but this one is a little bit more custom-made, right?\\nRT (17:49):  So here with the pages, this one is Yoast.\\nRT (17:53):  This one is Yoast, so the competitor of RankMath.\\nRT (17:56):  So if you like Yoast, then this is also okay.\\nRT (18:00):  So pages, so for example, I have a service page.\\nRT (18:05):  For example, I have a service page with digital marketing.\\nRT (18:06):  I'm editing this.\\nRT (18:10):  So you see, because it's not Elementor, this is already a different layout, right?\\nRT (18:13):  Yeah, but some of the elements are the same.\\nnan (18:15):  So this is what Yoast is doing.\\nRT (18:58):  elements are the same so this is what the host is doing right you can see your meta description for desktop mobile and you can put your focus keyword here your focus keyword here right now what is the focus keyword um this is the seo keyword like your main uh what you want to rank in okay so ranking okay so I want to rank in for this page is about digital marketing I want to rank on this page, so digital marketing services.\\nRT (19:14):  And this one is, what I like about this one is that you can add sort But this one is that you can add sort of variables, so you can add like, let's say, current year, right?\\nRT (19:16):  So it will always be the number one agency of 2024.\\nRT (19:40):  one agency of 2024 so if it's next year it will automatically change so this is like nice nice features and then here depending on your focus keyword you can generate like a meta creates like a meta description, here you can choose, the AI will make it for you.\\nRT (19:46):  Is that something that Is that something that is not shown to the user?\\nDG (19:50):  Is it something that's for robots only?\\nDG (19:52):  No, this is for the user.\\nDG (19:54):  So if you...\\nnan (19:54):  Okay.\\nRT (20:21):  um if you okay that's for this preview yeah so this is this text here yeah okay yeah yeah so if you want people to click it then it will need to be very then it will need to be very very focused with the keywords that are trying to rank it so is that this some or some kind of tag or on the issue\\nDG (20:32):  kind of tag on the html that is yeah this one is um wait let me see uh metadata tag\\nRT (20:43):  I think you can generate this.\\nnan (20:46):  This is this code here, right?\\nRT (21:06):  Let's go here. Meta name description. I will send you the link. You can also generate this with HTML, so it's possible. Maybe because you're doing AI things, it's nice if you go ai things um it's nice if you can generate this automatically yeah\\nDG (21:25):  yeah yes of course it should be just a part of of the uh output yeah um for some Yeah, for some for some of the articles, I saw it created this thing need to deliberately prompt to to include this thing.\\nDG (21:28):  Yeah. And then the other one that you also\\nRT (21:32):  And then the other one that you also need is a schema markup.\\nRT (21:36):  So I'm gonna give you a documentation here.\\nRT (21:40):  So this one has all the schemas.\\nRT (21:42):  all the schemas, right?\\nRT (21:45):  I also send you the link.\\nRT (21:57):  And I think for you, maybe the schema that is most interesting is product, the product schema and also your, and also your organization schema.\\nRT (22:01):  What is, what is schema?\\nDG (22:04):  Schema is like a code.\\nRT (22:06):  I will show you.\\nRT (22:07):  We'll show you.\\nRT (22:11):  Can you give me a link of your competitor?\\nRT (22:13):  Yes.\\nnan (22:16):  I will look if they have a schema.\\nRT (23:39):  let's check this one so I'm gonna scan this one so they have so they have no schema you see they are they are not doing SEO very advanced but if you take like another website website um i don't know let's take let's take surfer seo for example yeah because i know that they are an seo company so let's have a look here in the in the validator when you test don't understand this don't understand this let me try another one schema validator you can also use this one google for This one, Google for developers, the schema testing tool.\\nRT (23:42):  So rich results.\\nRT (23:47):  You could make a great YouTube video out of it.\\nDG (24:03):  of it by the way yeah yeah basically you're just naturally showing things that are valuable not not just not just for me, but for a wider audience.\\nDG (24:08):  I don't know why it's not showing rich results,\\nRT (24:10):  but let's try, okay.\\nRT (24:11):  Search engine.\\nRT (24:27):  or let's try some rush yeah this is also like a tool that you know right yeah yeah so summers.com right Right, we put this in the validator.\\nRT (24:35):  Yeah, so here you can see two schemas, right?\\nRT (24:39):  We have the website schema, Right, we have the website schema, we have corporation schema.\\nRT (24:49):  And this one is the, on the left side, this is the, yeah, this is the code for all of these things here, right?\\nRT (24:51):  things here, right?\\nRT (24:58):  And here you are giving structured data to Google that you are saying, hey, Google, I'm a corporation.\\nRT (25:00):  This is where the company is based.\\nRT (25:01):  This is all the information.\\nRT (25:07):  the company is based, this is all the information, these are the products that we have, and so on and so on, right?\\nRT (25:09):  So it's for example.\\nRT (25:12):  So that's a kind of JSON, which is,\\nDG (25:20):  which has been read by Google.\\nDG (25:21):  Yeah.\\nDG (25:23):  So it's called structured data.\\nDG (25:26):  And this is what Google needs to understand\\nRT (25:31):  This is what Google needs to understand your website and your product better.\\nRT (25:37):  If you want to rank on number one, Google is going to pick the one that has the best information.\\nRT (25:39):  And this is extra information.\\nRT (25:44):  This is extra information. The user doesn't see this, by the way. This is only for the bot.\\nRT (25:48):  But I can find it on the page.\\nDG (25:50):  Yeah. So all the schemas are here.\\nRT (26:04):  so all the schemas are here local business place and so on so i gave you the link and you can also test it okay um with this tool so it's not obligatory but pretty much\\nDG (26:12):  pretty much required for good sale it's required for good SEO and if you want to\\nRT (26:17):  beat your competitors this is what you need to do okay so basically what I need\\nDG (26:23):  So basically what I need, I need this schema, I need these methods.\\nDG (26:38):  Meta, uh-huh, meta is a header and description.\\nDG (26:40):  Yeah, so meta tag.\\nDG (26:41):  Meta.\\nnan (26:45):  Meta description.\\nRT (26:52):  And then for the images, you need alt text.\\nRT (26:54):  I think you know this one.\\nnan (26:56):  I think you know this one.\\nRT (27:00):  And then what else you also need?\\nRT (27:05):  You also need to pass the core web files.\\nRT (27:09):  So PageSpeed Insights, this one here.\\nRT (27:13):  insights this one here i think you know this one now\\nDG (27:21):  at least i know that it is important it's important you need to always\\nRT (28:14):  you need to always test it um what i know what i can tell you is that wordpress is slow right so we use plugins like uh wii p rocket or other things uh you could also use cloudflare you know i don't know what your budget is but this is just like a plugin that will make it faster and you can pass these tests so the diagnostic for mobile right now you have problem here is LCP so it means LCP so it means loading speed is maybe it's not so bad look you have 2.9 seconds you just need a little bit more You just need a little bit more improvement will be better.\\nRT (28:19):  And your desktop version, I think it's okay.\\nRT (28:21):  Yeah, look, right?\\nRT (28:36):  So the most important one, so the most important one is this one this one and uh cls so it means that your layout is shifting right these three are the most important for for people\\nDG (29:21):  Yeah, I also feel like WordPress is something Kinda over layer things like layers or layers like layers over layers over layers of software and it looks like it's a better idea to build this thing from scratch or not from scratch but from not from scratch but for from from almost like from the ground up because basically it's just a couple for a few pages few pages and an engine that is creating these pages.\\nDG (29:24):  That's possible, yeah.\\nnan (29:26):  I've tested a bunch of them.\\nDG (29:39):  I've tested a bunch of these things today and since everyone uses WordPress, I went for WordPress, but it looks bloated to me.\\nDG (29:41):  It's bloated to me.\\nDG (29:42):  It's very bloated.\\nRT (29:48):  Yeah, it is very bloated, but it's no code.\\nRT (29:52):  So, I mean, if you're not a programmer, then it's perfect, you know?\\nRT (30:06):  that is perfect you know like the people i work with are marketeers so i don't need them to think i need them to to create pages and to get the pages to just write and get it online and get it online, you know?\\nRT (30:08):  That's the only thing they have to do.\\nRT (30:11):  Otherwise they're gonna waste so much time.\\nRT (30:13):  You know, I don't want them to waste time, you know?\\nRT (30:23):  So this is why I'm using WordPress So why I'm using WordPress and I guess, you know, we already are making so many pages here.\\nRT (30:27):  I mean, these are all the pages here, look, all the blogs.\\nRT (30:56):  you see it's already very slow right and we have cloud flare so i don't know what we can do to make it even faster but yeah we already have seven other blocks so you know it's very it's going to be a pain in the ass to mic it's going to be a pain in the ass to migrate it so be sure what you want from the beginning and be sure that it works if you can make like fast pages and it works for you then it's perfect yeah basically you just need to\\nDG (31:08):  basically you just need to pre-build a lot of pages and have a router to deliver access to those yeah that's it That's it.\\nDG (31:15):  Yeah, that is not that straightforward as I thought.\\nDG (31:20):  I'm gonna also show you one more tool that I'm using.\\nRT (32:02):  that i'm using this is really nice because you can do like a quick audit right so let's say that you have a page right i'm using this is a free tool uh for your chrome it's an extension for your chrome it's an extension it's called detailed seo extension and this is what i use to check if everything is okay so i'm going to send so I'm going to send this to you you go and I like it because it's free and all you need to do is if you look at this page If you look at this page and you look at the structure, right?\\nRT (32:04):  So you have the meta here is the meta.\\nRT (32:06):  Okay, it will be green.\\nRT (32:27):  If it's okay, it will be red if it's not right then here the headings then here the headings this is already a problem you see look you start with the higher key you start with h5 it's not good you have to start with h1 so this one here this is a So this one here, this little thing here is fucking it up, you know?\\nRT (32:31):  But at least you know and you know what to change on your page.\\nRT (32:33):  Does it check for schema?\\nDG (32:36):  Yeah, but it's not.\\nRT (32:49):  Uh, yeah, but it's not, I mean, it has schema here, but it's not, it's not a good tool for this. Um, I would use like a different, I would use the validator.\\nRT (33:19):  different i would use the validator the validator is more advanced but this is like a nice tool for quick quick check yeah this will ocean this will also show you your links and so on if you want to do internal linking so also very nice you can export and then it will also tell you if your images have you if your images have old text or not yeah that is something also to consider\\nDG (34:03):  is that you want to build this links link network of interconnected links and links and you need to also to implement it somehow in the pipeline is that the easiest thing is that you can have um just a static set of links which you want to uh uh just to prompt to to to to to use in articles and yeah and you probably want to update this one yeah\\nRT (34:33):  Yeah, so for example, if you have a blog, it's interesting to have like this automated that it automatically links to other blogs from the same same topic yeah so you're creating a cluster so for example i show you like a cluster The Surfer SEO is actually quite nice for making this, but it's an expensive tool.\\nRT (34:38):  The tool that we were talking about, remember?\\nRT (34:39):  Yeah.\\nRT (34:40):  Yeah.\\nRT (34:41):  Potential competitor.\\nRT (34:50):  So I also use this to make a typical map.\\nRT (35:23):  mm-hmm so for example this is the one that I'm making right so I have different keywords here so for example I don't know, public relations strategies that will give you all the possible combinations If it's too much, you tell me, OK?\\nRT (35:26):  okay because i'm giving you some information\\nDG (35:35):  so you're creating a sort of structure right and what you want is so for example asia\\nRT (35:53):  so for example Asia marketing SEO in Singapore and so on you're creating all the ones that you have this map is really good for this but it will also tell you which ones you still need you which ones you still need okay so the uh purple ones that are con\\nDG (35:59):  that are interconnected with with links yeah the white ones that not have\\nRT (36:18):  not have a link that you we don't have this yet yeah no so this is really interesting to create your linking structure right You can also use another tool, for example, Screaming Frog.\\nRT (36:23):  I mean, there are so many tools, I'm just showing you stuff.\\nRT (36:25):  I'm just showing you stuff.\\nDG (36:30):  So let's have a look at your website.\\nRT (36:32):  It's vexa.ai, right?\\nRT (36:32):  Yeah.\\nRT (36:35):  Do you have some pages there?\\nnan (36:36):  None.\\nDG (36:49):  Some pages there, not much, like a few. Yeah, I like a few, but they are not even interconnected to me. This is a tool.\\nRT (37:04):  This is a tool I use to audit. So we are now scanning your site. It's more than one It's more than one page you have, right?\\nRT (37:05):  Yeah.\\nRT (37:05):  Okay.\\nRT (37:06):  Yeah.\\nRT (37:07):  So in terms of use.\\nRT (37:11):  Okay.\\nRT (37:16):  So, eight pages is correct?\\nRT (37:19):  No.\\nDG (37:20):  These are not the pages.\\nDG (37:23):  Not all the pages, obviously.\\nDG (37:24):  Okay.\\nDG (37:26):  But are you having JavaScript pages or?\\nRT (37:29):  But are you having JavaScript pages, or are they...\\nDG (37:36):  They're static, but they might not be just accessible from the main...\\nDG (37:37):  Oh, okay, okay, okay.\\nDG (37:37):  Yeah.\\nDG (37:38):  Maybe it's blocked.\\nRT (37:47):  But this is nice because you can do like, I don't know, you can see your 404, like this pages are broken.\\nRT (37:56):  You can also click on this and you can see where, and see where your links are going to.\\nRT (37:59):  You see that here? So, outlinks.\\nRT (38:03):  You can also see the problems here.\\nRT (38:23):  So, for example, you have if we export this look this one page has has no security protocol i don't know if you have like I don't know if you have like automatic redirect.\\nDG (38:27):  Yes, we do, we do have.\\nDG (38:29):  Okay, I don't know why it's detecting this,\\nRT (38:32):  but okay, anyway, what happened?\\nRT (39:09):  What I want to show you is this one. You can also make your diagram. And red is usually broken so if you have a link that is going to a red page it means there's something wrong with the link and if it's a bigger website you're going to see like all the problems so for example um scraper scraper api i'm gonna test it yeah so this is a website that i want to analyze\\nnan (39:23):  So it's showing me like all the types.\\nRT (39:40):  me like all the types of elements here also javascript so images and applications and we are crawling and it has a lot of pages so this one has maybe It's maybe 700 pages, I think.\\nRT (39:47):  Anyway, we can use tools like this.\\nRT (40:30):  tools like this to fix your website if there's any problems yeah so this is like an analysis tool because sometimes you can't always see everything if you're making it you know you don't know everything if you're making it you know you don't know what broken links are and this is a tool that that we always use to get your website 100 right but of course it's much better if you already at the start of course it's much better if you already at the start everything is is okay yeah yeah um so this is also possible but it sounds like you want to make your own um Like you want to make your own CMS from scratch, right?\\nDG (40:35):  Yeah, because CMS is about user interface.\\nDG (40:40):  is about user interface.\\nDG (40:46):  It's heavy lifting is about user interfaces, which I don't need.\\nDG (40:47):  Okay.\\nDG (42:09):  And this like, it's kind of, is like it's a kind of burden for me because like I and yeah I feel like we'll have the we'll have the universal interface for anything which will be around chat soon so we won't need that many that much interface in the future that much interface in the future and if yeah if i want to code something it's very straightforward i just go and it creates code for me which works yeah yeah i understand understand I can put things into pipelines into loops easily and everyone will be able to do so with just a pure knowledge of English language soon, really soon, so we won't need that many interfaces because like learning interface is something which Chagipty can't help you with to search for these three dots that is the right corner and the button name is changed and the interface changed.\\nRT (42:33):  is changed and okay so let's let's do it like this right um what i can do is you can create your thing Your your own CMS, and if you have your page ready, let me do a scan and if there's anything missing, I will give you feedback and then you can program it like you wish.\\nRT (43:06):  you know like hey um maybe some of these tags are not there maybe there's something wrong with the schema you still need this i can i can help you with this yeah that's super cool yeah yeah because I have the tools they are paid by the company you don't have to buy them you know so it's nice to have like this collection of tools where I can just you know you saw you saw it right it was very fast i can give you feedback right away yeah that this networking thing is uh\\nDG (43:12):  yeah so it seems pretty pretty valuable yeah you should come\\nRT (43:22):  Next week, Wednesday, if you have time, 7 o'clock, 7.30, I will send you the meeting.\\nRT (43:24):  There's another event.\\nRT (43:43):  another event for the marketing tribe and if you want to meet other people there's also developers there so it's always interesting to to have a chat yeah good idea yeah and they can give you some you some inspiration yeah i will probably come yeah i will send you the link then\\nDG (43:48):  um and your rico where are you originally from just curious\\nRT (44:01):  from Belgium from Belgium okay yeah I'm only here for one year and probably not your final\\nDG (44:14):  destination I'm moving to Caparica in November in November and you you plan to stay in Portugal yeah I\\nRT (44:36):  I think so but I don't I'm not a big fan of the big city so I like more the the beach I like you know calm you know and you are fully remote I'm a hybrid, but I don't have to go to the office so much, like one time in a week.\\nDG (44:46):  um we actually live um around 30 minutes drive from lisbon in a golf resort\\nRT (44:51):  oh nice that's cool and uh it's a very\\nDG (45:04):  the Portuguese, so not that many nomads here, because nobody knows this place, actually.\\nDG (45:27):  actually it's on the top of a hill and i i can see lisbon from my window oh wow that's cool even though it's 15 kilometers and so yeah it's a very nice area yeah if you if you'll be curious to visit me here it'll be cool yeah it'll be cool\\nRT (46:01):  I don't have a lot of a lot of expat friends um but it will be nice to to uh make some more friends you know in the in the network uh would be very cool i really want to introduce you to um to one of my friends he's also doing he's also like an AI engineer and maybe it's interesting to introduce you yeah it's also working yeah he's also working on a different project it's totally different of course cool\\nDG (46:20):  um yeah rick uh thank you very much it's ton of information and i'll i'll need to forget about it for a while in order to you know properly study tomorrow yeah yeah yeah just let me know when your page is ready\\nRT (47:22):  page is ready and then I can do like an audit and then give you like a quick recommendation and then you can implement this in all your pages uh from from because uh the problem is I the problem is i have a lot of clients they are they have their custom cms but they are already 10 000 pages further you know so yeah for them it's a big big problem when it's already not already not not good from the start it's a big headache then you need to find the problem you know like it's really like this sort of pain in the ass and so i want you if you are are starting a website that it's it's really good from the start you know you don't have to worry about technical requirements from Google then you're just ranking yeah you just need to create the content that's it's the only thing you need to worry about and we'll have a good template to reuse yep there's one thing i want to show you before uh we we finish\\nRT( (47:36):  so um what i can also give you and this this one is free of charge you don't have to\\nRT (47:51):  I just want to help you, is if you know any keywords that would be interesting for your for your websites, you just let me know.\\nRT (47:56):  So what would be like a keyword for someone to find?\\nDG (48:00):  A A I note.\\nDG (48:13):  no taker like this yeah yeah okay let's have a look so this is a really interesting keyword\\nRT (48:46):  because it's already 35 400 times someone is looking this many people are looking this online and i can give you Your competitors mm-hmm, so this is interesting Apple comb yeah, I don't know why that YouTube also I don't item for the zapier i don't know maybe they're not relevant competitors but let me export\\nDG (49:01):  i feel like this is it looks very Very similar to Google Ads Keyword Planner, which I was using today to define my keywords.\\nDG (49:03):  Yeah, this is...\\nRT (49:06):  I mean, it's a free tool. You can also use this one.\\nDG (49:08):  Okay. Okay. Yeah.\\nnan (49:10):  Cool. Cool. Cool.\\nDG (49:13):  So Simrush common analytics keyword magic.\\nnan (49:16):  Yeah.\\nRT (49:20):  So let me just, I think you already have a list like this now.\\nDG (49:27):  Uh, yeah, I've, yeah, I've made up, I've made some, something.\\nDG (49:28):  Okay.\\nDG (49:29):  Then you already know.\\nDG (49:54):  I exported from my Google Ads account and it looks pretty similar but this one is a little bit more pretty video and it's got some other uh functionality so it's a it's a free thing keyword magic pool yeah but it's it's um limited so you know\\nRT (50:05):  is the problem with a lot of these tools is that some features are not 100%, but what I can give you here is maybe the questions.\\nRT (50:24):  no question yeah so you can filter by questions question keywords and this is maybe like in interesting things to write blogs about.\\nRT (50:31):  What I also do is, so for example, you go to Reddit, right?\\nRT (50:38):  There's like a forum section, so subreddits.\\nRT (50:41):  Oh, wow, why is it strange?\\nRT (50:48):  And what would be the subreddit for your category?\\nnan (50:52):  AI tools?\\nDG (50:54):  Maybe, yeah.\\nRT (51:09):  So what you can also do is scan the website.\\nRT (51:14):  So let's scan this one, right?\\nRT (51:22):  And here we want to get the subfolder.\\nRT (51:44):  folder and this is like all the keywords that this um uh forum section is is ranking on so if you have a competitor give me you like another competitor like alter AI\\nDG (51:46):  yeah let's try\\nRT (52:22):  so they have oh my god this has a lot of traffic they are very strong so they have 26 000 keywords but a lot of it is alter alter ai so what we can do here is For example, let's say we exclude otter and let's see what keywords they have.\\nRT (52:26):  And also let's just exclude everything with ot.\\nRT (52:40):  Okay, so AI note-taker they are number two AI transcription, so this is also keyword that is interesting and\\nDG (52:52):  but they got the traffic which is really really tiny percentage of their uh brand brand uh direct\\nRT (53:04):  Yeah, I think SEMrush is not 100% accurate, I think it's making estimations, so I'm not sure if this is correct.\\nRT (53:47):  right so 1000 traffic um could be could be off by um by a lot um but here let me export all these keywords there's a lot that could be interesting for you you know like if you want to programmatic steal all the keywords make pages you can make thousands so this is the list keyword search volume here it's the same like like the Google ads situation.\\nRT (53:52):  Where do you want me to send this to?\\nRT (53:53):  Do you have an email?\\nRT (53:54):  Yeah.\\nRT (54:06):  sorry what telegram do you use telegram uh i'm on my um i call it um computer from\\nDG (54:11):  Okay, I'll just stop you now.\\nRT (54:18):  Yeah, they locked down, I'm on the company computer, so they locked down all the programs that are not allowed.\\nRT (54:28):  But normally I have Telegram. It's on my phone.\\nRT (54:40):  So let me just email it to you.\\nDG (54:45):  Let me check how you get there, this SEMrush.\\nRT (55:13):  I think they have also free trial but it's expensive like the normal but I think you can do I do I don't know one one or two weeks you can do for free some rush so that what you've been\\nDG (55:25):  you've been using now was paid version this paid version from the company so yeah the company pays for a lot of stuff yeah i'm happy i don't have to pay it\\nRT (55:35):  um okay so what is your email that i can send this yeah i i send it to you over this google meet\\nDG (55:36):  thank you\\nRT (55:48):  So I will just call it Keywords, Non-Branded Keywords Otter AI.\\nRT (55:55):  I'm going to touch this file.\\nRT (56:00):  So yeah, have fun with this.\\nRT (56:03):  Yeah, there's a lot.\\nRT (56:05):  Yeah, there's a lot, a lot.\\nRT (56:09):  But I think you can program your AI to analyze it, no?\\nRT (56:12):  Like a quick, quick filters?\\nRT (56:15):  To analyze?\\nDG (57:09):  analyze keywords for yeah that was pretty pretty funny today I was playing around with this thing and one of the competitors names is fireflies and fireflies yeah and uh yeah so it's great uh this um yeah 10 pages with this firefly says there was a lot about the bug and the article was was really funny because it was about my company yeah and And the context, the mix of context was, you know, pretty interesting. So it mixed up this to meet an assistant with an animal.\\nRT (57:14):  I think it got confused.\\nDG (57:25):  Yeah, I was thinking maybe I should even publish this, you know, because uh because why not it still could be could be considered really one\\nRT (57:31):  i think it's like a funny um linkedin post via a funny one to share\\nDG (57:57):  so yeah uh i i still don't believe that it's gonna work really good out of the box i still don't know but uh yeah we could iterate until it's something valuable i'm pretty sure yeah\\nRT (58:22):  You know what you can do is you can also, I think you also have this feature in, so let's say you want your keyword difficulty yeah here yeah i think you can actually filter it um so for example ai\\nDG (58:35):  let's try yeah so um so you you suggest to to target\\nRT (58:55):  low so zero till maybe let's say 30 yeah because anyways i'm i don't have a domain their authority yeah you will need to get all the the quick ones first\\nDG (58:59):  yeah i think you should try to automate\\nRT (59:17):  automate all the easy ones first and then maybe uh go up to let's say 49 then you have more the yellow Because Fireflies is always everywhere.\\nRT (59:23):  Yeah, you will need to filter the branded keywords.\\nRT (59:25):  Need to filter.\\nDG (59:43):  to filter yeah you need to remove it um so no fireflies is it is not a good idea to create um comparison pages yeah it's a good idea\\nRT (60:17):  they are doing this for a lot of uh websites so scraper api versus just scraping the alternatives look this is a really good idea they are doing this i think you should also i think you should also do it yeah if you want some ideas on what to do in seconds and\\nDG (60:45):  like in order to kickstart a new version start a new website how long does it take for Google to start to start showing the content to start showing the content you have to index it so um\\nRT (61:15):  yeah i believe that these tools that i showed you uh live like rank Matt has like an auto indexer so it automatically does it but I think you can also program it now with your With your background, um, it's also possible to manually index it, but it's the one that you showed me, right? Search console.\\nRT (61:31):  Yeah, so for example, I don't know just request your\\nDG (62:07):  flexing here but i think there's ways to to automate it yes you can do it via api in google Google API but there's some limitation to this people even those who want to have like hundreds of thousands of pages the event you know scale number of projects with their own API limits in order to you know to index everything really quick\\nRT (62:24):  yeah um you also have to remember that google has the google bot has a crawling budget right so if you make 10 000 pages even if they They are all indexed.\\nRT (62:33):  The Google has a limitation of, I don't know, let's say, your crawl budget, for example, is only 3,000 pages, for example.\\nRT (62:48):  right you want the three thousand your three thousand budget to to target the most important pages so this is why you need to be very very strict tactical with what you want to put online.\\nRT (62:55):  You don't want it to only look at the pages that are not so important, you know?\\nRT (63:12):  So keep this in mind when you're creating like 10,000 pages pages um be sure that it's 10 000 a lot that the majority of those pages are really important for your business if that makes\\nDG (63:20):  sense i don't know yeah um how do you call it but what kind of budget is that\\nnan (63:25):  roll crawling budget yeah crawl budget\\nDG (63:36):  but it's not the same for our website I believe it's not the same for every website so they are like gradually increase it\\nRT (63:40):  Yeah, so this is some more information.\\nRT (63:43):  I think nobody really knows exactly what the number is.\\nnan (63:48):  Yeah.\\nDG (63:56):  yeah say then why it's important okay good to know\\nRT (64:27):  yeah so be careful with this when you're creating a lot of pages um this can also be a problem that google does not have the budget yet for your website maybe if you have a very old website it will give you more but crawl budget but for new websites sites um google will also i don't know i hope they don't penalize you you know this is also something that can happen yeah in order to overcome this you want to create\\nDG (64:58):  want to create many websites yeah exactly so yeah anyway so what is common is a massive wave of information online. And that's interesting how it's going on to how search engines search engine is going to deal with it oh yeah i think uh last year\\nRT (65:07):  google was trying to build a dam you know for all the ai content and uh And this was the result I show you.\\nRT (65:12):  Like so many websites.\\nRT (65:23):  So the website from my company was It was targeted and we went all the way down.\\nDG (65:43):  this was the result what was the reason for that because they did algorithm update of Google and\\nRT (65:45):  And here they did it again.\\nRT (65:47):  So you see it's going back up.\\nRT (65:50):  But the reason was because of ChatGPT.\\nRT (65:54):  They wanted to make it more strict.\\nRT (66:08):  But yeah, a lot of businesses went out of business, they became bankrupt because Google, one day they decided, okay, now we're gonna change the algorithm.\\nRT (66:15):  You know, so this is also something that can happen and they are trying to, they don't know what to do with it, with the AI content.\\nDG (66:27):  I mean, they were trying to, to detect, uh, generated content and it wasn't the case where you're generating a lot of content at times\\nRT (66:57):  not really no we were not um using i mean i mean people using ai but not like programmatic you know like not thousands of pages um but for some reason yeah the algorithm um wasn't smart enough to detect really what was with our sites that are doing it and which ones not so yeah this was the results and this is also the case with a lot of websites I think\\nDG (67:10):  Maybe that's the result of the amount of information increased significantly.\\nDG (67:12):  It's just you lose you.\\nDG (67:25):  this stake of market just because newcomers just took over maybe that was the case not the update it's it's possible\\nRT (67:32):  well yeah that's a good theory yeah yeah yeah yeah and it's it's going to happen again it's\\nDG (67:44):  going to increase even it's that was uh you know that was a first wave second And next waves will be massive, much, much bigger than this one.\\nDG (67:46):  Then these ones we have, um,\\nRT (67:54):  I think you're, you're in a good branch, you know, if you're part of of the next wave, then you really have a good business.\\nRT (68:03):  You don't need people anymore to write because the AI can write better than a lot of copywriter, no mistake.\\nRT (68:23):  no spelling mistakes it will write better maybe it will not know specific knowledge you know like very niche um maybe this is not possible but but for a lot of topics i think it can the second wave will come you're correct yeah i think that\\nDG (68:56):  what will distinguish uh generated content with more like a native one is is images because images are much easier to detect whether it's an ii images image and the easier way to detect is just to look at the image but it's not it's a pretty heavy to process on every image with some algorithm with the AI tool for it.\\nDG (68:59):  But we can, you can see it, right?\\nRT (69:06):  So I don't know if you ever saw like the articles from Surfer SEO, the AI generated articles.\\nDG (69:19):  Yeah, and actually it's quite a good question of what you're going to do, what I am going to do.\\nDG (69:36):  to do is that do I have to generate images as well a friend of mine is got a good business creating generate energy which is selling them on photo stocks, photo stocks.\\nDG (69:44):  He used to have, he used to be doing normal images and now completely switched to AI generated\\nRT (70:09):  and his business said even grow oh my god okay so this one look it's very very strange images see like i mean it's you can tell that it's ai you know like it's yeah what human would make like this you know like this is\\nDG (70:16):  mm-hmm yeah yeah that's that's definitely an ai image all of them\\nRT (70:26):  yeah so if i just upload this on the website then people are going to know that i'm using ai you know so it's really funny like what is this but actually\\nDG (70:35):  do they care at all because i would not care i wouldn't even i wouldn't even you know but\\nRT (70:43):  yeah yeah but look look at this chat chat pt you know like it's small details right\\nDG (70:53):  yeah you can even like i could i could you know, have an idea of what is the model and what's the generation of the model.\\nDG (70:57):  It was made probably like a year ago already.\\nDG (70:59):  Pretty well, pretty old.\\nDG (71:20):  old images the newer ones are much better yeah yeah yeah so i need to take care of this part as well it's more expensive yeah make sure that it's at least not like\\nRT (71:24):  strange you know like you you feel like it's your own\\nDG (71:33):  strange page like with a woman with with thing with feet as fingers you know like\\nRT (71:37):  like this is really strange it's pretty strange for\\nDG (71:58):  for a ai note taker okay but yeah so the copywriter's job will be to to basically have a human validation of whether it's an appropriate information.\\nRT (72:52):  Yeah, I think but this you can also course you know like they are already doing this with asia or also our company is doing this like all the creative uh jobs are now in malaysia because they are paying 10 times less than you know like an american you know who's asking like a lot of money to check they do exactly if you know english it's enough you know yeah like six dollars an hour and if you have many like this you have i don't know for the same price you have like i don't know 10 people that can check all your content and i think that is probably the only thing that you will need to do is just like have someone actually check if it's okay yeah and uh it's still\\nDG (73:42):  not a good check because these people are not part of your target audience yeah they do not have no idea what it is about what is supposed to be and base you're just trying to buy a little bit of yeah it's just just yeah just uh to know that the human there was some kind of human touch to it because otherwise it's pretty creepy stuff if you are established company to have 10 000 pages Which not a single human except of some users, some real, you know, if you're a real target audience have visited.\\nDG (73:56):  That's weird. Yeah, but still, these guys in Malaysia, even if they try hard, they can miss this.\\nnan (73:59):  Yeah, that's possible.\\nRT (74:02):  I guess it depends on the topic.\\nRT (74:05):  If you have an easy topic, then no problem.\\nRT (74:08):  But if it's more technical, yeah, you're one on.\\nRT (74:20):  percent right that's very hard to but even the normal writers it's it's hard you know more they will ask more and so on yeah\\nnan (74:30):  okay dimitri let me know um when if you have some pages ready and um i will\\nnan (74:33):  help you with doing some audits okay\\nnan (74:41):  very yeah very nice and very interesting and helpful thank you very much yeah thank\\nnan (74:46):  you also for helping i really appreciate it and i'm gonna put some more pages on\\nnan (74:53):  tomorrow i have some more time and uh let's um do continue the experiment\\nnan (74:58):  yeah let's do the next batch yeah thank\\n\""
      ]
     },
     "execution_count": 31,
     "metadata": {},
     "output_type": "execute_result"
    }
   ],
   "source": [
    "formatted_input"
   ]
  },
  {
   "cell_type": "code",
   "execution_count": 32,
   "metadata": {},
   "outputs": [],
   "source": [
    "\n",
    "from psql_models import Meeting\n",
    "from psql_helpers import async_session, get_meeting_by_id\n"
   ]
  },
  {
   "cell_type": "code",
   "execution_count": 33,
   "metadata": {},
   "outputs": [],
   "source": [
    "transcript = await vexa.get_transcription_(meeting_session_id=meeting_id)"
   ]
  },
  {
   "cell_type": "code",
   "execution_count": 34,
   "metadata": {},
   "outputs": [
    {
     "data": {
      "text/plain": [
       "[{'speaker': 'Dmitriy Grankin',\n",
       "  'speaker_id': 'TBD',\n",
       "  'content': ' hey rick hey dimitri how are you',\n",
       "  'html_content': None,\n",
       "  'html_content_short': None,\n",
       "  'keywords': [],\n",
       "  'timestamp': '2024-10-03T18:06:40.070000Z'},\n",
       " {'speaker': 'TBD',\n",
       "  'speaker_id': 'TBD',\n",
       "  'content': ' How was your day today?',\n",
       "  'html_content': None,\n",
       "  'html_content_short': None,\n",
       "  'keywords': [],\n",
       "  'timestamp': '2024-10-03T18:06:42.824000Z'},\n",
       " {'speaker': 'TBD',\n",
       "  'speaker_id': 'TBD',\n",
       "  'content': ' Yeah, long day.',\n",
       "  'html_content': 'Yeah, it was a long day.',\n",
       "  'html_content_short': '',\n",
       "  'keywords': [],\n",
       "  'timestamp': '2024-10-03T18:06:45.204000Z'}]"
      ]
     },
     "execution_count": 34,
     "metadata": {},
     "output_type": "execute_result"
    }
   ],
   "source": [
    "transcript[:3]"
   ]
  },
  {
   "cell_type": "code",
   "execution_count": 35,
   "metadata": {},
   "outputs": [],
   "source": [
    "from psql_helpers import get_meeting_by_id\n",
    "\n",
    "async with async_session() as session:\n",
    "    meeting = await get_meeting_by_id(session, meeting_id)\n"
   ]
  },
  {
   "cell_type": "code",
   "execution_count": 36,
   "metadata": {},
   "outputs": [
    {
     "data": {
      "text/plain": [
       "'Rick Tousseyn'"
      ]
     },
     "execution_count": 36,
     "metadata": {},
     "output_type": "execute_result"
    }
   ],
   "source": [
    "meeting.discussion_points[0].speaker.name\n"
   ]
  },
  {
   "cell_type": "code",
   "execution_count": 37,
   "metadata": {},
   "outputs": [
    {
     "data": {
      "text/plain": [
       "'PageSpeed Insights is a tool by Google that analyzes the performance of web pages and provides suggestions for improvement.'"
      ]
     },
     "execution_count": 37,
     "metadata": {},
     "output_type": "execute_result"
    }
   ],
   "source": [
    "meeting.discussion_points[0].summary\n"
   ]
  },
  {
   "cell_type": "code",
   "execution_count": 38,
   "metadata": {},
   "outputs": [
    {
     "data": {
      "text/html": [
       "<div>\n",
       "<style scoped>\n",
       "    .dataframe tbody tr th:only-of-type {\n",
       "        vertical-align: middle;\n",
       "    }\n",
       "\n",
       "    .dataframe tbody tr th {\n",
       "        vertical-align: top;\n",
       "    }\n",
       "\n",
       "    .dataframe thead th {\n",
       "        text-align: right;\n",
       "    }\n",
       "</style>\n",
       "<table border=\"1\" class=\"dataframe\">\n",
       "  <thead>\n",
       "    <tr style=\"text-align: right;\">\n",
       "      <th></th>\n",
       "      <th>summary_index</th>\n",
       "      <th>summary</th>\n",
       "      <th>details</th>\n",
       "      <th>referenced_text</th>\n",
       "      <th>topic_name</th>\n",
       "      <th>topic_type</th>\n",
       "      <th>model</th>\n",
       "      <th>speaker_name</th>\n",
       "    </tr>\n",
       "  </thead>\n",
       "  <tbody>\n",
       "    <tr>\n",
       "      <th>0</th>\n",
       "      <td>18</td>\n",
       "      <td>PageSpeed Insights is a tool by Google that analyzes the performance of web pages and provides suggestions for improvement.</td>\n",
       "      <td>Rick emphasizes the importance of using PageSpeed Insights to monitor and enhance website loading speeds.</td>\n",
       "      <td>Rick Tousseyn:  So PageSpeed Insights, this one here. | Rick Tousseyn:  insights this one here i think you know this one now</td>\n",
       "      <td>PageSpeed Insights</td>\n",
       "      <td>product</td>\n",
       "      <td>EntityExtraction</td>\n",
       "      <td>Rick Tousseyn</td>\n",
       "    </tr>\n",
       "    <tr>\n",
       "      <th>1</th>\n",
       "      <td>19</td>\n",
       "      <td>Screaming Frog is a website crawler tool used for SEO audits and analysis.</td>\n",
       "      <td>Rick mentions Screaming Frog as a tool for auditing websites and identifying SEO issues.</td>\n",
       "      <td>Rick Tousseyn:  not have a link that you we don't have this yet yeah no so this is really interesting to create your linking structure right You can also use another tool, for example, Screaming Frog.</td>\n",
       "      <td>Screaming Frog</td>\n",
       "      <td>product</td>\n",
       "      <td>EntityExtraction</td>\n",
       "      <td>Rick Tousseyn</td>\n",
       "    </tr>\n",
       "    <tr>\n",
       "      <th>2</th>\n",
       "      <td>20</td>\n",
       "      <td>Surfer SEO is a tool that helps users optimize their content based on data-driven insights.</td>\n",
       "      <td>Rick discusses Surfer SEO in the context of creating content clusters and improving SEO strategies.</td>\n",
       "      <td>Rick Tousseyn:  Yeah, so for example, if you have a blog, it's interesting to have like this automated that it automatically links to other blogs from the same same topic yeah so you're creating a cluster so for example i show you like a cluster The Surfer SEO is actually quite nice for making this, but it's an expensive tool.</td>\n",
       "      <td>Surfer SEO</td>\n",
       "      <td>product</td>\n",
       "      <td>EntityExtraction</td>\n",
       "      <td>Rick Tousseyn</td>\n",
       "    </tr>\n",
       "    <tr>\n",
       "      <th>3</th>\n",
       "      <td>21</td>\n",
       "      <td>A meta description is an HTML attribute that provides a brief summary of a web page's content.</td>\n",
       "      <td>Rick explains the role of meta descriptions in SEO and how they can influence click-through rates from search results.</td>\n",
       "      <td>:  Meta description. | Rick Tousseyn:  And then for the images, you need alt text.</td>\n",
       "      <td>Meta description</td>\n",
       "      <td>concept</td>\n",
       "      <td>EntityExtraction</td>\n",
       "      <td>Rick Tousseyn</td>\n",
       "    </tr>\n",
       "    <tr>\n",
       "      <th>4</th>\n",
       "      <td>22</td>\n",
       "      <td>Alt text is a description of an image that helps search engines understand its content and improves accessibility.</td>\n",
       "      <td>Rick mentions the importance of using alt text for images on websites to enhance SEO and user experience.</td>\n",
       "      <td>Rick Tousseyn:  And then for the images, you need alt text. | Rick Tousseyn:  I think you know this one.</td>\n",
       "      <td>Alt text</td>\n",
       "      <td>concept</td>\n",
       "      <td>EntityExtraction</td>\n",
       "      <td>Rick Tousseyn</td>\n",
       "    </tr>\n",
       "    <tr>\n",
       "      <th>5</th>\n",
       "      <td>0</td>\n",
       "      <td>Dmitriy is setting up a WordPress site and needs guidance on using Elementor for design and Rank Math for SEO.</td>\n",
       "      <td>Dmitriy has created an empty WordPress site and is looking to install Elementor (costing around 5 euros/month) and Rank Math (free) to enhance the site's design and SEO capabilities. Rick offered to provide tutorials and examples to assist in the setup.</td>\n",
       "      <td>Dmitriy Grankin:  Yeah, what I was trying to do is that I just created this empty WordPress yeah and yeah understand that this I need to to choose a thing theme but i don't know um what i'm using is elementor so this one actually um is | Rick Tousseyn:  sort of plugin that you install and it's and it's much better because you are able to create it in your your style and there's also like a big unity for this um what's the name what's the name yeah i'm gonna give you the link and one seconds This is what I recommend to everyone. | Rick Tousseyn:  OK. | Dmitriy Grankin:  so basically yeah I want to set up this thing and blow it with articles and see how it goes yep | :  Elementor | Dmitriy Grankin:  and Elementor is | Rick Tousseyn:  what it's like a plug-in that you use but of course it's it's it's a paid plan mm-hmm but the cheapest one is I think like five euros per month and I think it's all you need if you just have one website it's it's more than enough and this one allows you ...</td>\n",
       "      <td>Setting up WordPress with Elementor and Rank Math</td>\n",
       "      <td>task</td>\n",
       "      <td>MeetingExtraction</td>\n",
       "      <td>Dmitriy Grankin</td>\n",
       "    </tr>\n",
       "    <tr>\n",
       "      <th>6</th>\n",
       "      <td>1</td>\n",
       "      <td>Discussed the necessity of schema markup and meta descriptions for SEO.</td>\n",
       "      <td>Rick emphasized the importance of schema markup for better SEO performance and provided links to documentation. He mentioned that meta descriptions and alt text for images are also crucial for SEO.</td>\n",
       "      <td>Rick Tousseyn:  And then the other one that you also need is a schema markup. | Rick Tousseyn:  So I'm gonna give you a documentation here. | Rick Tousseyn:  And then for the images, you need alt text.</td>\n",
       "      <td>Schema markup and meta descriptions</td>\n",
       "      <td>task</td>\n",
       "      <td>MeetingExtraction</td>\n",
       "      <td>Rick Tousseyn</td>\n",
       "    </tr>\n",
       "    <tr>\n",
       "      <th>7</th>\n",
       "      <td>2</td>\n",
       "      <td>Addressed concerns regarding website speed and performance.</td>\n",
       "      <td>Rick noted that WordPress can be slow and recommended using plugins like WP Rocket or Cloudflare to improve loading times. He mentioned the importance of passing Core Web Vitals tests and suggested monitoring performance using PageSpeed Insights.</td>\n",
       "      <td>Rick Tousseyn:  you need to always test it um what i know what i can tell you is that wordpress is slow right so we use plugins like uh wii p rocket or other things uh you could also use cloudflare you know i don't know what your budget is but this is just like a plugin that will make it faster and you can pass these tests so the diagnostic for mobile right now you have problem here is LCP so it means LCP so it means loading speed is maybe it's not so bad look you have 2.9 seconds you just need a little bit more You just need a little bit more improvement will be better. | Rick Tousseyn:  Yeah, it is very bloated, but it's no code.</td>\n",
       "      <td>Website speed optimization</td>\n",
       "      <td>concern</td>\n",
       "      <td>MeetingExtraction</td>\n",
       "      <td>Rick Tousseyn</td>\n",
       "    </tr>\n",
       "    <tr>\n",
       "      <th>8</th>\n",
       "      <td>3</td>\n",
       "      <td>Proposed using a detailed SEO extension for quick audits of web pages.</td>\n",
       "      <td>Rick suggested a free Chrome extension that can help check the structure of web pages, including meta tags and headings, to ensure they are optimized for SEO.</td>\n",
       "      <td>Rick Tousseyn:  that i'm using this is really nice because you can do like a quick audit right so let's say that you have a page right i'm using this is a free tool uh for your chrome it's an extension for your chrome it's an extension it's called detailed seo extension and this is what i use to check if everything is okay so i'm going to send so I'm going to send this to you you go and I like it because it's free and all you need to do is if you look at this page If you look at this page and you look at the structure, right? | Rick Tousseyn:  So you have the meta here is the meta. | Rick Tousseyn:  Okay, it will be green. | Rick Tousseyn:  If it's okay, it will be red if it's not right then here the headings then here the headings this is already a problem you see look you start with the higher key you start with h5 it's not good you have to start with h1 so this one here this is a So this one here, this little thing here is fucking it up, you know? | Rick Tousseyn:  But at least ...</td>\n",
       "      <td>Using detailed SEO extension for audits</td>\n",
       "      <td>idea</td>\n",
       "      <td>MeetingExtraction</td>\n",
       "      <td>Rick Tousseyn</td>\n",
       "    </tr>\n",
       "    <tr>\n",
       "      <th>9</th>\n",
       "      <td>4</td>\n",
       "      <td>Scheduled a follow-up meeting to discuss progress and further assistance.</td>\n",
       "      <td>Rick invited Dmitriy to a follow-up meeting next Wednesday at 7:30 PM to discuss the website setup and provide additional support. Rick will send the meeting link.</td>\n",
       "      <td>Rick Tousseyn:  Next week, Wednesday, if you have time, 7 o'clock, 7.30, I will send you the meeting.</td>\n",
       "      <td>Follow-up meeting planning</td>\n",
       "      <td>action plan</td>\n",
       "      <td>MeetingExtraction</td>\n",
       "      <td>Rick Tousseyn</td>\n",
       "    </tr>\n",
       "    <tr>\n",
       "      <th>10</th>\n",
       "      <td>5</td>\n",
       "      <td>Rick Tousseyn is a speaker in the meeting, providing insights and recommendations on website development and SEO tools.</td>\n",
       "      <td>Rick discusses various plugins for WordPress, including Elementor for page building and Rank Math for SEO optimization. He shares his experiences and preferences regarding these tools.</td>\n",
       "      <td>Rick Tousseyn:  what it's like a plug-in that you use but of course it's it's it's a paid plan mm-hmm but the cheapest one is I think like five euros per month and I think it's all you need if you just have one website it's it's more than enough and this one allows you to build your page like you want so I can show you like some tutorials if you want or some examples I'm using this also like for my friends who are building websites as the one that I always recommend. | Rick Tousseyn:  to really think about it um and then for plugins uh what i recommend is uh yeah rank math i think that's the best one but some people like yoast But some people like Yoast, but I like RankBat.</td>\n",
       "      <td>Rick Tousseyn</td>\n",
       "      <td>person</td>\n",
       "      <td>EntityExtraction</td>\n",
       "      <td>Rick Tousseyn</td>\n",
       "    </tr>\n",
       "    <tr>\n",
       "      <th>11</th>\n",
       "      <td>6</td>\n",
       "      <td>Dmitriy Grankin is a participant in the meeting, seeking advice on setting up a WordPress site and SEO strategies.</td>\n",
       "      <td>Dmitriy is exploring the use of WordPress and Elementor for his website and is interested in SEO practices and tools recommended by Rick.</td>\n",
       "      <td>Dmitriy Grankin:  Yeah, what I was trying to do is that I just created this empty WordPress yeah and yeah understand that this I need to to choose a thing theme but i don't know um what i'm using is elementor so this one actually um is | Rick Tousseyn:  And then the other one that I also recommend is RankMet Yoast. So I use this to rank that is the best one. And this one is a free plugin. So you don't need to buy anything. And this one is like to uh do your your schema markup to track the rankings so this is a really nice um nice one and this one is 100 free and i think if yeah download for free um where's the plugin and uh</td>\n",
       "      <td>Dmitriy Grankin</td>\n",
       "      <td>person</td>\n",
       "      <td>EntityExtraction</td>\n",
       "      <td>Dmitriy Grankin</td>\n",
       "    </tr>\n",
       "    <tr>\n",
       "      <th>12</th>\n",
       "      <td>7</td>\n",
       "      <td>WordPress is a content management system (CMS) used for building websites.</td>\n",
       "      <td>Dmitriy is setting up a WordPress site and is learning about plugins like Elementor and Rank Math to enhance its functionality.</td>\n",
       "      <td>Dmitriy Grankin:  Yeah, what I was trying to do is that I just created this empty WordPress yeah and yeah understand that this I need to to choose a thing theme but i don't know um what i'm using is elementor so this one actually um is</td>\n",
       "      <td>WordPress</td>\n",
       "      <td>product</td>\n",
       "      <td>EntityExtraction</td>\n",
       "      <td>Rick Tousseyn</td>\n",
       "    </tr>\n",
       "    <tr>\n",
       "      <th>13</th>\n",
       "      <td>8</td>\n",
       "      <td>Elementor is a WordPress plugin that allows users to create custom page layouts using a drag-and-drop interface.</td>\n",
       "      <td>Rick recommends Elementor for its ease of use and flexibility in designing web pages without coding.</td>\n",
       "      <td>Rick Tousseyn:  what it's like a plug-in that you use but of course it's it's it's a paid plan mm-hmm but the cheapest one is I think like five euros per month and I think it's all you need if you just have one website it's it's more than enough and this one allows you to build your page like you want so I can show you like some tutorials if you want or some examples I'm using this also like for my friends who are building websites as the one that I always recommend.</td>\n",
       "      <td>Elementor</td>\n",
       "      <td>product</td>\n",
       "      <td>EntityExtraction</td>\n",
       "      <td>Rick Tousseyn</td>\n",
       "    </tr>\n",
       "    <tr>\n",
       "      <th>14</th>\n",
       "      <td>9</td>\n",
       "      <td>Rank Math is an SEO plugin for WordPress that helps users optimize their websites for search engines.</td>\n",
       "      <td>Rick prefers Rank Math for its features and effectiveness in improving SEO, comparing it to Yoast.</td>\n",
       "      <td>Rick Tousseyn:  to really think about it um and then for plugins uh what i recommend is uh yeah rank math i think that's the best one but some people like yoast But some people like Yoast, but I like RankBat.</td>\n",
       "      <td>Rank Math</td>\n",
       "      <td>product</td>\n",
       "      <td>EntityExtraction</td>\n",
       "      <td>Rick Tousseyn</td>\n",
       "    </tr>\n",
       "    <tr>\n",
       "      <th>15</th>\n",
       "      <td>10</td>\n",
       "      <td>Yoast is another popular SEO plugin for WordPress, used for optimizing website content.</td>\n",
       "      <td>Rick mentions Yoast as an alternative to Rank Math, noting that some users prefer it for SEO tasks.</td>\n",
       "      <td>Rick Tousseyn:  So here with the pages, this one is Yoast. | Rick Tousseyn:  This one is Yoast, so the competitor of RankMath. | Rick Tousseyn:  So if you like Yoast, then this is also okay.</td>\n",
       "      <td>Yoast</td>\n",
       "      <td>product</td>\n",
       "      <td>EntityExtraction</td>\n",
       "      <td>Rick Tousseyn</td>\n",
       "    </tr>\n",
       "    <tr>\n",
       "      <th>16</th>\n",
       "      <td>11</td>\n",
       "      <td>SEO (Search Engine Optimization) is the practice of optimizing websites to rank higher in search engine results.</td>\n",
       "      <td>The discussion revolves around using plugins like Rank Math and Yoast to improve SEO for Dmitriy's WordPress site.</td>\n",
       "      <td>Rick Tousseyn:  OK. | Rick Tousseyn:  So, for example, if I'm looking at my pages, looking at my pages right I want this page here and I'm editing this we're Really having problems now.</td>\n",
       "      <td>SEO</td>\n",
       "      <td>concept</td>\n",
       "      <td>EntityExtraction</td>\n",
       "      <td>Rick Tousseyn</td>\n",
       "    </tr>\n",
       "    <tr>\n",
       "      <th>17</th>\n",
       "      <td>12</td>\n",
       "      <td>Schema markup is a code that helps search engines understand the content of a website better.</td>\n",
       "      <td>Rick explains the importance of schema markup for SEO and provides resources for implementing it on Dmitriy's site.</td>\n",
       "      <td>Dmitriy Grankin:  Schema is like a code. | Rick Tousseyn:  I will show you.</td>\n",
       "      <td>schema markup</td>\n",
       "      <td>concept</td>\n",
       "      <td>EntityExtraction</td>\n",
       "      <td>Rick Tousseyn</td>\n",
       "    </tr>\n",
       "    <tr>\n",
       "      <th>18</th>\n",
       "      <td>13</td>\n",
       "      <td>Google is a search engine that uses algorithms to rank websites based on various factors, including SEO practices.</td>\n",
       "      <td>Rick discusses how Google's algorithms affect website rankings and the importance of adhering to SEO best practices.</td>\n",
       "      <td>:  Elementor</td>\n",
       "      <td>Google</td>\n",
       "      <td>company</td>\n",
       "      <td>EntityExtraction</td>\n",
       "      <td>Rick Tousseyn</td>\n",
       "    </tr>\n",
       "    <tr>\n",
       "      <th>19</th>\n",
       "      <td>14</td>\n",
       "      <td>AI (Artificial Intelligence) refers to the simulation of human intelligence in machines.</td>\n",
       "      <td>The conversation touches on the impact of AI on content creation and SEO, including the use of AI-generated content.</td>\n",
       "      <td>Dmitriy Grankin:  and Elementor is</td>\n",
       "      <td>AI</td>\n",
       "      <td>concept</td>\n",
       "      <td>EntityExtraction</td>\n",
       "      <td>Rick Tousseyn</td>\n",
       "    </tr>\n",
       "    <tr>\n",
       "      <th>20</th>\n",
       "      <td>15</td>\n",
       "      <td>cPanel is a web hosting control panel that provides a graphical interface for managing web hosting accounts.</td>\n",
       "      <td>Dmitriy mentions cPanel in the context of setting up his WordPress site, indicating he may need it for management tasks.</td>\n",
       "      <td>Rick Tousseyn:  like a problem with your wordpress what kind of problem could it be um i don't know like did you install it how did you install it do you have like a cPanel it's it's it's</td>\n",
       "      <td>cPanel</td>\n",
       "      <td>product</td>\n",
       "      <td>EntityExtraction</td>\n",
       "      <td>Dmitriy Grankin</td>\n",
       "    </tr>\n",
       "    <tr>\n",
       "      <th>21</th>\n",
       "      <td>16</td>\n",
       "      <td>Docker is a platform for developing, shipping, and running applications in containers.</td>\n",
       "      <td>Dmitriy is using Docker for his WordPress setup, but Rick notes that he has no experience with it, leading to a discussion about its complexities.</td>\n",
       "      <td>Dmitriy Grankin:  running in a docker in a docker compose</td>\n",
       "      <td>Docker</td>\n",
       "      <td>concept</td>\n",
       "      <td>EntityExtraction</td>\n",
       "      <td>Dmitriy Grankin</td>\n",
       "    </tr>\n",
       "    <tr>\n",
       "      <th>22</th>\n",
       "      <td>17</td>\n",
       "      <td>Cloudflare is a service that provides content delivery network (CDN) and security features for websites.</td>\n",
       "      <td>Rick suggests using Cloudflare to improve website speed and performance, especially for WordPress sites.</td>\n",
       "      <td>Rick Tousseyn:  you need to always test it um what i know what i can tell you is that wordpress is slow right so we use plugins like uh wii p rocket or other things uh you could also use cloudflare you know i don't know what your budget is but this is just like a plugin that will make it faster and you can pass these tests so the diagnostic for mobile right now you have problem here is LCP so it means LCP so it means loading speed is maybe it's not so bad look you have 2.9 seconds you just need a little bit more You just need a little bit more improvement will be better.</td>\n",
       "      <td>Cloudflare</td>\n",
       "      <td>company</td>\n",
       "      <td>EntityExtraction</td>\n",
       "      <td>Rick Tousseyn</td>\n",
       "    </tr>\n",
       "    <tr>\n",
       "      <th>23</th>\n",
       "      <td>23</td>\n",
       "      <td>Crawl budget refers to the number of pages a search engine will crawl on a website within a given timeframe.</td>\n",
       "      <td>Rick explains the significance of managing crawl budgets effectively, especially for websites with many pages.</td>\n",
       "      <td>:  roll crawling budget yeah crawl budget</td>\n",
       "      <td>Crawl budget</td>\n",
       "      <td>concept</td>\n",
       "      <td>EntityExtraction</td>\n",
       "      <td>Rick Tousseyn</td>\n",
       "    </tr>\n",
       "    <tr>\n",
       "      <th>24</th>\n",
       "      <td>24</td>\n",
       "      <td>An AI note-taker is a tool that uses artificial intelligence to transcribe and summarize meetings or discussions.</td>\n",
       "      <td>Dmitriy expresses interest in AI note-taking tools and their potential for enhancing productivity.</td>\n",
       "      <td>Dmitriy Grankin:  A A I note. | Dmitriy Grankin:  no taker like this yeah yeah okay let's have a look so this is a really interesting keyword</td>\n",
       "      <td>AI note-taker</td>\n",
       "      <td>concept</td>\n",
       "      <td>EntityExtraction</td>\n",
       "      <td>Dmitriy Grankin</td>\n",
       "    </tr>\n",
       "    <tr>\n",
       "      <th>25</th>\n",
       "      <td>25</td>\n",
       "      <td>AI-generated images are visuals created using artificial intelligence algorithms.</td>\n",
       "      <td>The discussion includes the implications of using AI-generated images for websites and their potential impact on user perception.</td>\n",
       "      <td>Dmitriy Grankin:  to do is that do I have to generate images as well a friend of mine is got a good business creating generate energy which is selling them on photo stocks, photo stocks.</td>\n",
       "      <td>AI-generated images</td>\n",
       "      <td>concept</td>\n",
       "      <td>EntityExtraction</td>\n",
       "      <td>Dmitriy Grankin</td>\n",
       "    </tr>\n",
       "  </tbody>\n",
       "</table>\n",
       "</div>"
      ],
      "text/plain": [
       "    summary_index  \\\n",
       "0              18   \n",
       "1              19   \n",
       "2              20   \n",
       "3              21   \n",
       "4              22   \n",
       "5               0   \n",
       "6               1   \n",
       "7               2   \n",
       "8               3   \n",
       "9               4   \n",
       "10              5   \n",
       "11              6   \n",
       "12              7   \n",
       "13              8   \n",
       "14              9   \n",
       "15             10   \n",
       "16             11   \n",
       "17             12   \n",
       "18             13   \n",
       "19             14   \n",
       "20             15   \n",
       "21             16   \n",
       "22             17   \n",
       "23             23   \n",
       "24             24   \n",
       "25             25   \n",
       "\n",
       "                                                                                                                        summary  \\\n",
       "0   PageSpeed Insights is a tool by Google that analyzes the performance of web pages and provides suggestions for improvement.   \n",
       "1                                                    Screaming Frog is a website crawler tool used for SEO audits and analysis.   \n",
       "2                                   Surfer SEO is a tool that helps users optimize their content based on data-driven insights.   \n",
       "3                                A meta description is an HTML attribute that provides a brief summary of a web page's content.   \n",
       "4            Alt text is a description of an image that helps search engines understand its content and improves accessibility.   \n",
       "5                Dmitriy is setting up a WordPress site and needs guidance on using Elementor for design and Rank Math for SEO.   \n",
       "6                                                       Discussed the necessity of schema markup and meta descriptions for SEO.   \n",
       "7                                                                   Addressed concerns regarding website speed and performance.   \n",
       "8                                                        Proposed using a detailed SEO extension for quick audits of web pages.   \n",
       "9                                                     Scheduled a follow-up meeting to discuss progress and further assistance.   \n",
       "10      Rick Tousseyn is a speaker in the meeting, providing insights and recommendations on website development and SEO tools.   \n",
       "11           Dmitriy Grankin is a participant in the meeting, seeking advice on setting up a WordPress site and SEO strategies.   \n",
       "12                                                   WordPress is a content management system (CMS) used for building websites.   \n",
       "13             Elementor is a WordPress plugin that allows users to create custom page layouts using a drag-and-drop interface.   \n",
       "14                        Rank Math is an SEO plugin for WordPress that helps users optimize their websites for search engines.   \n",
       "15                                      Yoast is another popular SEO plugin for WordPress, used for optimizing website content.   \n",
       "16             SEO (Search Engine Optimization) is the practice of optimizing websites to rank higher in search engine results.   \n",
       "17                                Schema markup is a code that helps search engines understand the content of a website better.   \n",
       "18           Google is a search engine that uses algorithms to rank websites based on various factors, including SEO practices.   \n",
       "19                                     AI (Artificial Intelligence) refers to the simulation of human intelligence in machines.   \n",
       "20                 cPanel is a web hosting control panel that provides a graphical interface for managing web hosting accounts.   \n",
       "21                                       Docker is a platform for developing, shipping, and running applications in containers.   \n",
       "22                     Cloudflare is a service that provides content delivery network (CDN) and security features for websites.   \n",
       "23                 Crawl budget refers to the number of pages a search engine will crawl on a website within a given timeframe.   \n",
       "24            An AI note-taker is a tool that uses artificial intelligence to transcribe and summarize meetings or discussions.   \n",
       "25                                            AI-generated images are visuals created using artificial intelligence algorithms.   \n",
       "\n",
       "                                                                                                                                                                                                                                                          details  \\\n",
       "0                                                                                                                                                       Rick emphasizes the importance of using PageSpeed Insights to monitor and enhance website loading speeds.   \n",
       "1                                                                                                                                                                        Rick mentions Screaming Frog as a tool for auditing websites and identifying SEO issues.   \n",
       "2                                                                                                                                                             Rick discusses Surfer SEO in the context of creating content clusters and improving SEO strategies.   \n",
       "3                                                                                                                                          Rick explains the role of meta descriptions in SEO and how they can influence click-through rates from search results.   \n",
       "4                                                                                                                                                       Rick mentions the importance of using alt text for images on websites to enhance SEO and user experience.   \n",
       "5   Dmitriy has created an empty WordPress site and is looking to install Elementor (costing around 5 euros/month) and Rank Math (free) to enhance the site's design and SEO capabilities. Rick offered to provide tutorials and examples to assist in the setup.   \n",
       "6                                                           Rick emphasized the importance of schema markup for better SEO performance and provided links to documentation. He mentioned that meta descriptions and alt text for images are also crucial for SEO.   \n",
       "7          Rick noted that WordPress can be slow and recommended using plugins like WP Rocket or Cloudflare to improve loading times. He mentioned the importance of passing Core Web Vitals tests and suggested monitoring performance using PageSpeed Insights.   \n",
       "8                                                                                                  Rick suggested a free Chrome extension that can help check the structure of web pages, including meta tags and headings, to ensure they are optimized for SEO.   \n",
       "9                                                                                             Rick invited Dmitriy to a follow-up meeting next Wednesday at 7:30 PM to discuss the website setup and provide additional support. Rick will send the meeting link.   \n",
       "10                                                                       Rick discusses various plugins for WordPress, including Elementor for page building and Rank Math for SEO optimization. He shares his experiences and preferences regarding these tools.   \n",
       "11                                                                                                                      Dmitriy is exploring the use of WordPress and Elementor for his website and is interested in SEO practices and tools recommended by Rick.   \n",
       "12                                                                                                                                Dmitriy is setting up a WordPress site and is learning about plugins like Elementor and Rank Math to enhance its functionality.   \n",
       "13                                                                                                                                                           Rick recommends Elementor for its ease of use and flexibility in designing web pages without coding.   \n",
       "14                                                                                                                                                             Rick prefers Rank Math for its features and effectiveness in improving SEO, comparing it to Yoast.   \n",
       "15                                                                                                                                                            Rick mentions Yoast as an alternative to Rank Math, noting that some users prefer it for SEO tasks.   \n",
       "16                                                                                                                                             The discussion revolves around using plugins like Rank Math and Yoast to improve SEO for Dmitriy's WordPress site.   \n",
       "17                                                                                                                                            Rick explains the importance of schema markup for SEO and provides resources for implementing it on Dmitriy's site.   \n",
       "18                                                                                                                                           Rick discusses how Google's algorithms affect website rankings and the importance of adhering to SEO best practices.   \n",
       "19                                                                                                                                           The conversation touches on the impact of AI on content creation and SEO, including the use of AI-generated content.   \n",
       "20                                                                                                                                       Dmitriy mentions cPanel in the context of setting up his WordPress site, indicating he may need it for management tasks.   \n",
       "21                                                                                                             Dmitriy is using Docker for his WordPress setup, but Rick notes that he has no experience with it, leading to a discussion about its complexities.   \n",
       "22                                                                                                                                                       Rick suggests using Cloudflare to improve website speed and performance, especially for WordPress sites.   \n",
       "23                                                                                                                                                 Rick explains the significance of managing crawl budgets effectively, especially for websites with many pages.   \n",
       "24                                                                                                                                                             Dmitriy expresses interest in AI note-taking tools and their potential for enhancing productivity.   \n",
       "25                                                                                                                              The discussion includes the implications of using AI-generated images for websites and their potential impact on user perception.   \n",
       "\n",
       "                                                                                                                                                                                                                                                                                                                                                                                                                                                                                                                                                                                                                                                                                                                                                                                                                                                                                                                                                                                                                            referenced_text  \\\n",
       "0                                                                                                                                                                                                                                                                                                                                                                                                                                                                                                                                                                                                                                                                                                                                                                                                                                                                                                              Rick Tousseyn:  So PageSpeed Insights, this one here. | Rick Tousseyn:  insights this one here i think you know this one now   \n",
       "1                                                                                                                                                                                                                                                                                                                                                                                                                                                                                                                                                                                                                                                                                                                                                                                                                                  Rick Tousseyn:  not have a link that you we don't have this yet yeah no so this is really interesting to create your linking structure right You can also use another tool, for example, Screaming Frog.   \n",
       "2                                                                                                                                                                                                                                                                                                                                                                                                                                                                                                                                                                                                                                                                                                  Rick Tousseyn:  Yeah, so for example, if you have a blog, it's interesting to have like this automated that it automatically links to other blogs from the same same topic yeah so you're creating a cluster so for example i show you like a cluster The Surfer SEO is actually quite nice for making this, but it's an expensive tool.   \n",
       "3                                                                                                                                                                                                                                                                                                                                                                                                                                                                                                                                                                                                                                                                                                                                                                                                                                                                                                                                                        :  Meta description. | Rick Tousseyn:  And then for the images, you need alt text.   \n",
       "4                                                                                                                                                                                                                                                                                                                                                                                                                                                                                                                                                                                                                                                                                                                                                                                                                                                                                                                                  Rick Tousseyn:  And then for the images, you need alt text. | Rick Tousseyn:  I think you know this one.   \n",
       "5   Dmitriy Grankin:  Yeah, what I was trying to do is that I just created this empty WordPress yeah and yeah understand that this I need to to choose a thing theme but i don't know um what i'm using is elementor so this one actually um is | Rick Tousseyn:  sort of plugin that you install and it's and it's much better because you are able to create it in your your style and there's also like a big unity for this um what's the name what's the name yeah i'm gonna give you the link and one seconds This is what I recommend to everyone. | Rick Tousseyn:  OK. | Dmitriy Grankin:  so basically yeah I want to set up this thing and blow it with articles and see how it goes yep | :  Elementor | Dmitriy Grankin:  and Elementor is | Rick Tousseyn:  what it's like a plug-in that you use but of course it's it's it's a paid plan mm-hmm but the cheapest one is I think like five euros per month and I think it's all you need if you just have one website it's it's more than enough and this one allows you ...   \n",
       "6                                                                                                                                                                                                                                                                                                                                                                                                                                                                                                                                                                                                                                                                                                                                                                                                                                 Rick Tousseyn:  And then the other one that you also need is a schema markup. | Rick Tousseyn:  So I'm gonna give you a documentation here. | Rick Tousseyn:  And then for the images, you need alt text.   \n",
       "7                                                                                                                                                                                                                                                                                                                                                                           Rick Tousseyn:  you need to always test it um what i know what i can tell you is that wordpress is slow right so we use plugins like uh wii p rocket or other things uh you could also use cloudflare you know i don't know what your budget is but this is just like a plugin that will make it faster and you can pass these tests so the diagnostic for mobile right now you have problem here is LCP so it means LCP so it means loading speed is maybe it's not so bad look you have 2.9 seconds you just need a little bit more You just need a little bit more improvement will be better. | Rick Tousseyn:  Yeah, it is very bloated, but it's no code.   \n",
       "8   Rick Tousseyn:  that i'm using this is really nice because you can do like a quick audit right so let's say that you have a page right i'm using this is a free tool uh for your chrome it's an extension for your chrome it's an extension it's called detailed seo extension and this is what i use to check if everything is okay so i'm going to send so I'm going to send this to you you go and I like it because it's free and all you need to do is if you look at this page If you look at this page and you look at the structure, right? | Rick Tousseyn:  So you have the meta here is the meta. | Rick Tousseyn:  Okay, it will be green. | Rick Tousseyn:  If it's okay, it will be red if it's not right then here the headings then here the headings this is already a problem you see look you start with the higher key you start with h5 it's not good you have to start with h1 so this one here this is a So this one here, this little thing here is fucking it up, you know? | Rick Tousseyn:  But at least ...   \n",
       "9                                                                                                                                                                                                                                                                                                                                                                                                                                                                                                                                                                                                                                                                                                                                                                                                                                                                                                                                     Rick Tousseyn:  Next week, Wednesday, if you have time, 7 o'clock, 7.30, I will send you the meeting.   \n",
       "10                                                                                                                                                                                                                                                                                                                               Rick Tousseyn:  what it's like a plug-in that you use but of course it's it's it's a paid plan mm-hmm but the cheapest one is I think like five euros per month and I think it's all you need if you just have one website it's it's more than enough and this one allows you to build your page like you want so I can show you like some tutorials if you want or some examples I'm using this also like for my friends who are building websites as the one that I always recommend. | Rick Tousseyn:  to really think about it um and then for plugins uh what i recommend is uh yeah rank math i think that's the best one but some people like yoast But some people like Yoast, but I like RankBat.   \n",
       "11                                                                                                                                                                                                                                                                                                                                                                                  Dmitriy Grankin:  Yeah, what I was trying to do is that I just created this empty WordPress yeah and yeah understand that this I need to to choose a thing theme but i don't know um what i'm using is elementor so this one actually um is | Rick Tousseyn:  And then the other one that I also recommend is RankMet Yoast. So I use this to rank that is the best one. And this one is a free plugin. So you don't need to buy anything. And this one is like to uh do your your schema markup to track the rankings so this is a really nice um nice one and this one is 100 free and i think if yeah download for free um where's the plugin and uh   \n",
       "12                                                                                                                                                                                                                                                                                                                                                                                                                                                                                                                                                                                                                                                                                                                                                                                              Dmitriy Grankin:  Yeah, what I was trying to do is that I just created this empty WordPress yeah and yeah understand that this I need to to choose a thing theme but i don't know um what i'm using is elementor so this one actually um is   \n",
       "13                                                                                                                                                                                                                                                                                                                                                                                                                                                                                                                                                  Rick Tousseyn:  what it's like a plug-in that you use but of course it's it's it's a paid plan mm-hmm but the cheapest one is I think like five euros per month and I think it's all you need if you just have one website it's it's more than enough and this one allows you to build your page like you want so I can show you like some tutorials if you want or some examples I'm using this also like for my friends who are building websites as the one that I always recommend.   \n",
       "14                                                                                                                                                                                                                                                                                                                                                                                                                                                                                                                                                                                                                                                                                                                                                                                                                         Rick Tousseyn:  to really think about it um and then for plugins uh what i recommend is uh yeah rank math i think that's the best one but some people like yoast But some people like Yoast, but I like RankBat.   \n",
       "15                                                                                                                                                                                                                                                                                                                                                                                                                                                                                                                                                                                                                                                                                                                                                                                                                                           Rick Tousseyn:  So here with the pages, this one is Yoast. | Rick Tousseyn:  This one is Yoast, so the competitor of RankMath. | Rick Tousseyn:  So if you like Yoast, then this is also okay.   \n",
       "16                                                                                                                                                                                                                                                                                                                                                                                                                                                                                                                                                                                                                                                                                                                                                                                                                                                Rick Tousseyn:  OK. | Rick Tousseyn:  So, for example, if I'm looking at my pages, looking at my pages right I want this page here and I'm editing this we're Really having problems now.   \n",
       "17                                                                                                                                                                                                                                                                                                                                                                                                                                                                                                                                                                                                                                                                                                                                                                                                                                                                                                                                                              Dmitriy Grankin:  Schema is like a code. | Rick Tousseyn:  I will show you.   \n",
       "18                                                                                                                                                                                                                                                                                                                                                                                                                                                                                                                                                                                                                                                                                                                                                                                                                                                                                                                                                                                                                             :  Elementor   \n",
       "19                                                                                                                                                                                                                                                                                                                                                                                                                                                                                                                                                                                                                                                                                                                                                                                                                                                                                                                                                                                                       Dmitriy Grankin:  and Elementor is   \n",
       "20                                                                                                                                                                                                                                                                                                                                                                                                                                                                                                                                                                                                                                                                                                                                                                                                                                              Rick Tousseyn:  like a problem with your wordpress what kind of problem could it be um i don't know like did you install it how did you install it do you have like a cPanel it's it's it's   \n",
       "21                                                                                                                                                                                                                                                                                                                                                                                                                                                                                                                                                                                                                                                                                                                                                                                                                                                                                                                                                                                Dmitriy Grankin:  running in a docker in a docker compose   \n",
       "22                                                                                                                                                                                                                                                                                                                                                                                                                                        Rick Tousseyn:  you need to always test it um what i know what i can tell you is that wordpress is slow right so we use plugins like uh wii p rocket or other things uh you could also use cloudflare you know i don't know what your budget is but this is just like a plugin that will make it faster and you can pass these tests so the diagnostic for mobile right now you have problem here is LCP so it means LCP so it means loading speed is maybe it's not so bad look you have 2.9 seconds you just need a little bit more You just need a little bit more improvement will be better.   \n",
       "23                                                                                                                                                                                                                                                                                                                                                                                                                                                                                                                                                                                                                                                                                                                                                                                                                                                                                                                                                                                                :  roll crawling budget yeah crawl budget   \n",
       "24                                                                                                                                                                                                                                                                                                                                                                                                                                                                                                                                                                                                                                                                                                                                                                                                                                                                                            Dmitriy Grankin:  A A I note. | Dmitriy Grankin:  no taker like this yeah yeah okay let's have a look so this is a really interesting keyword   \n",
       "25                                                                                                                                                                                                                                                                                                                                                                                                                                                                                                                                                                                                                                                                                                                                                                                                                                               Dmitriy Grankin:  to do is that do I have to generate images as well a friend of mine is got a good business creating generate energy which is selling them on photo stocks, photo stocks.   \n",
       "\n",
       "                                           topic_name   topic_type  \\\n",
       "0                                  PageSpeed Insights      product   \n",
       "1                                      Screaming Frog      product   \n",
       "2                                          Surfer SEO      product   \n",
       "3                                    Meta description      concept   \n",
       "4                                            Alt text      concept   \n",
       "5   Setting up WordPress with Elementor and Rank Math         task   \n",
       "6                 Schema markup and meta descriptions         task   \n",
       "7                          Website speed optimization      concern   \n",
       "8             Using detailed SEO extension for audits         idea   \n",
       "9                          Follow-up meeting planning  action plan   \n",
       "10                                      Rick Tousseyn       person   \n",
       "11                                    Dmitriy Grankin       person   \n",
       "12                                          WordPress      product   \n",
       "13                                          Elementor      product   \n",
       "14                                          Rank Math      product   \n",
       "15                                              Yoast      product   \n",
       "16                                                SEO      concept   \n",
       "17                                      schema markup      concept   \n",
       "18                                             Google      company   \n",
       "19                                                 AI      concept   \n",
       "20                                             cPanel      product   \n",
       "21                                             Docker      concept   \n",
       "22                                         Cloudflare      company   \n",
       "23                                       Crawl budget      concept   \n",
       "24                                      AI note-taker      concept   \n",
       "25                                AI-generated images      concept   \n",
       "\n",
       "                model     speaker_name  \n",
       "0    EntityExtraction    Rick Tousseyn  \n",
       "1    EntityExtraction    Rick Tousseyn  \n",
       "2    EntityExtraction    Rick Tousseyn  \n",
       "3    EntityExtraction    Rick Tousseyn  \n",
       "4    EntityExtraction    Rick Tousseyn  \n",
       "5   MeetingExtraction  Dmitriy Grankin  \n",
       "6   MeetingExtraction    Rick Tousseyn  \n",
       "7   MeetingExtraction    Rick Tousseyn  \n",
       "8   MeetingExtraction    Rick Tousseyn  \n",
       "9   MeetingExtraction    Rick Tousseyn  \n",
       "10   EntityExtraction    Rick Tousseyn  \n",
       "11   EntityExtraction  Dmitriy Grankin  \n",
       "12   EntityExtraction    Rick Tousseyn  \n",
       "13   EntityExtraction    Rick Tousseyn  \n",
       "14   EntityExtraction    Rick Tousseyn  \n",
       "15   EntityExtraction    Rick Tousseyn  \n",
       "16   EntityExtraction    Rick Tousseyn  \n",
       "17   EntityExtraction    Rick Tousseyn  \n",
       "18   EntityExtraction    Rick Tousseyn  \n",
       "19   EntityExtraction    Rick Tousseyn  \n",
       "20   EntityExtraction  Dmitriy Grankin  \n",
       "21   EntityExtraction  Dmitriy Grankin  \n",
       "22   EntityExtraction    Rick Tousseyn  \n",
       "23   EntityExtraction    Rick Tousseyn  \n",
       "24   EntityExtraction  Dmitriy Grankin  \n",
       "25   EntityExtraction  Dmitriy Grankin  "
      ]
     },
     "execution_count": 38,
     "metadata": {},
     "output_type": "execute_result"
    }
   ],
   "source": [
    "import pandas as pd\n",
    "\n",
    "discussion_points_data = [{\n",
    "    'summary_index': dp.summary_index,\n",
    "    'summary': dp.summary,\n",
    "    'details': dp.details,\n",
    "    'referenced_text': dp.referenced_text,\n",
    "    'topic_name': dp.topic_name,\n",
    "    'topic_type': dp.topic_type,\n",
    "    'model': dp.model,\n",
    "    'speaker_name': dp.speaker.name if dp.speaker else None\n",
    "} for dp in meeting.discussion_points]\n",
    "\n",
    "df = pd.DataFrame(discussion_points_data)\n",
    "df"
   ]
  },
  {
   "cell_type": "code",
   "execution_count": 39,
   "metadata": {},
   "outputs": [],
   "source": [
    "summary_input = df[['summary_index', 'summary', 'details','topic_name', 'topic_type','speaker_name']].to_markdown(index=False)"
   ]
  },
  {
   "cell_type": "code",
   "execution_count": 40,
   "metadata": {},
   "outputs": [
    {
     "data": {
      "text/plain": [
       "\"Meeting Metadata:\\nStart Date and Time: 2024-10-03 18:06:40\\nSpeakers:\\n  RT(: Rick Tousseyn (Presentation)\\n  RT: Rick Tousseyn\\n  DG: Dmitriy Grankin\\n\\nMeeting Transcript:\\n\\nDG (00:00):  hey rick hey dimitri how are you\\nnan (00:02):  How was your day today?\\nnan (00:05):  Yeah, long day.\\nDG (00:09):  So no traffic yet?\\nDG (00:11):  No traffic yet.\\nDG (00:14):  Yeah, it takes a while.\\nRT (00:17):  Show me what you're trying to do.\\nRT (00:19):  You want to...\\nRT (00:20):  Yeah.\\nDG (01:04):  Yeah, what I was trying to do is that I just created this empty WordPress yeah and yeah understand that this I need to to choose a thing theme but i don't know um what i'm using is elementor so this one actually um is\\nRT (01:35):  sort of plugin that you install and it's and it's much better because you are able to create it in your your style and there's also like a big unity for this um what's the name what's the name yeah i'm gonna give you the link and one seconds This is what I recommend to everyone.\\nRT (01:36):  OK.\\nDG (02:00):  so basically yeah I want to set up this thing and blow it with articles and see how it goes yep\\nnan (02:05):  Elementor\\nDG (02:07):  and Elementor is\\nRT (02:58):  what it's like a plug-in that you use but of course it's it's it's a paid plan mm-hmm but the cheapest one is I think like five euros per month and I think it's all you need if you just have one website it's it's more than enough and this one allows you to build your page like you want so I can show you like some tutorials if you want or some examples I'm using this also like for my friends who are building websites as the one that I always recommend.\\nRT (03:48):  And then the other one that I also recommend is RankMet Yoast. So I use this to rank that is the best one. And this one is a free plugin. So you don't need to buy anything. And this one is like to uh do your your schema markup to track the rankings so this is a really nice um nice one and this one is 100 free and i think if yeah download for free um where's the plugin and uh\\nDG (04:01):  How to actually install this thing. Yeah, so you're downloading the zip then you go back to your\\nRT (04:25):  WordPress add plugins and then in the top you have upload plugin yeah and then here is where you upload the zip That's the one. Then you just install it.\\nRT (04:29):  Oh, what's this?\\nRT (04:38):  Can you go back?\\nRT (04:53):  mmm try to look in the search plugins try to just type it in the search mm-hmm maybe I think it's there also so if you just type in rank Matt Rank Math?\\nRT (04:57):  Yeah, Rank Math.\\nDG (05:16):  And then the other one that I also recommend, I will let you\\nRT (05:18):  Finish.\\nRT (05:21):  Is...\\nRT (05:22):  That's not so wrong.\\nRT (05:24):  Oh, why is this?\\nRT (05:27):  Okay, Frank.\\nDG (05:40):  well i don't know i'm very strange\\nRT (05:47):  The alternative to RankMath is Yoast, is the other one that you saw there.\\nRT (05:54):  So if you remove this, it's very good.\\nDG (06:04):  slow oh my god um it's stuck i don't know i already just reloaded the page okay yeah yours is also a good one\\nRT (06:19):  then what I would also download is like a backup tool I think it's BP this migration\\nDG (06:29):  It doesn't work, I don't know, maybe there's some problem with connecting this thing to the internet.\\nRT (06:53):  like a problem with your wordpress what kind of problem could it be um i don't know like did you install it how did you install it do you have like a cPanel it's it's it's\\nDG (06:57):  running in a docker in a docker compose\\nRT (07:01):  Man, I have no no experience with with Docker.\\nRT (07:03):  Oh, I'm sorry about that.\\nnan (07:04):  Okay.\\nDG (07:08):  But I have I was installing something today.\\nDG (07:09):  Maybe I should.\\nDG (07:20):  to do uh i i will just reload the docker uh this docker compose now okay it will help\\nRT (07:43):  Yeah, so maybe I just show you how it looks like, the Elementor.\\nRT (07:44):  Yeah, yeah.\\nDG (07:47):  Just give me one moment, I'm trying to.\\nRT (08:11):  yeah I'm just using like a hosting site for this there's no no docker\\nDG (08:21):  You don't have to, basically.\\nDG (08:32):  I would prefer maybe already solution myself.\\nDG (08:52):  let me see but i i find it easier to do like docker a couple of run easier than adding payment method Sideguard\\nRT (09:12):  Okay, so this one is equal loss with MBE.\\nRT (10:23):  Yeah, so you can see see i have like this mentor installed right and um what this does is you you can create your pages and your blogs as you like so just to give you like an example so this is my friend is making like a website for his business and we business in real estate right and normally if you have normal wordpress your options are very limited you have to create almost everything yourself and here you can And here you can edit page with normal WordPress, but if you edit with Elementor, it's very easy.\\nRT (10:26):  It's like almost, you know, like drag and drop, you know?\\nRT (11:00):  Yeah, so you have your, yeah so you have your hierarchy on your right side so for example if I select this one you can see that it's a it's a text with it's a text with a text editor in it if I go back you can also choose your team so this I can change you know very easy I can Very easy, I can also drag and drop this one, so I can move it like I want.\\nRT (11:04):  You see, you can move the pictures.\\nRT (11:06):  So this makes WordPress very easy.\\nRT (11:09):  It makes WordPress very easy, right?\\nDG (11:18):  And I'm interested in how to make it a layout which I can fill with HTML.\\nDG (11:31):  for with HTML. If I if I have a text or HTML or Mario, I will need to look this up. But I believe it's possible\\nRT (11:46):  look this up but i believe it's possible so for example um let me just find because it's it's been a while um since i use this uh let me let me just think Let me just think.\\nRT (12:17):  Yeah, so you have like a sort of, have like a sort of a hot DML section that you can also drag and drop here, for example, and then this is where you can add your code. If you want anything more, more robust, more more robust more advanced, you know, I think this is like what you're looking for like JavaScript\\nnan (12:20):  Yeah, I believe so\\nRT (12:39):  Yeah, I think you can even make it I mean can even make it I mean there's so many you can even do custom CSS yeah I mean it's if you look on any form Elementor Elementor is one of the top five.\\nRT (12:47):  So even if you cannot find it, there will always be like a community that you can ask and they will always help you.\\nRT (12:51):  And this is why I like Elementor because because this one has the biggest community.\\nRT (12:56):  And whenever I'm stuck, I just go to like the forums and they are always helping me.\\nRT (12:59):  This is not the case with Divi.\\nRT (13:15):  Divi is like more smaller and there's And there's also EP Bakery, it's a little bit different, but I tested maybe six different ones and I like Elementor the most, but it depends But it depends also on your taste.\\nDG (13:21):  And do you do these things manually?\\nDG (13:23):  Yeah, everything is manually.\\nRT (13:30):  I'm not a programmer, so if I knew So, if I knew how to do these things, I would, like, automate a lot of things, you know?\\nRT (13:32):  Yeah.\\nRT (13:35):  But they do have templates.\\nRT (13:37):  So, if you are making a certain.\\nRT (13:57):  certain certain design you can have that certain template so within the Elementor you have Envato elements so So, this is just like an extra account that you have to make.\\nRT (14:30):  They have free templates and premium templates, I'm just going to show you I'm just going to show you like the free one and this one already has built in sort of things, you know, so if you want, I don't know software. Yeah, but the free one is but the free one is very limited but if i'm doing like the premium one there's more than 4 000 templates here you know so for example ai um is that a plug-in to\\nDG (14:38):  into the plugin yeah a plugin to the elementor plugin yeah but i like this because it's\\nRT (14:45):  compatible you know so this is why i like elementor because it's the only one that you can that you can, it's very flexible.\\nRT (15:23):  So for example, if you have like a software, I don't know, I really like I really like these kinds of things because they already built it and you know like this one so for example sas software template kit you can have like more information and they have everything so the homepage is ready the blogs are ready all the landing pages are there this will give you like an example right Right, so you don't have to really do anything.\\nRT (15:27):  I think the only thing that you have to do is like change your logo, the colors and so on.\\nRT (15:29):  This is what I really like, right?\\nRT (15:31):  So you don't have to really think about it.\\nRT (15:48):  to really think about it um and then for plugins uh what i recommend is uh yeah rank math i think that's the best one but some people like yoast But some people like Yoast, but I like RankBat.\\nRT (15:53):  But I also- Is it the same thing as Elementor or something?\\nDG (15:55):  No, this is the same like Yoast.\\nDG (15:57):  No, this is the same like Yoast.\\nDG (16:01):  What's the purpose of the same?\\nDG (16:03):  So, this one is an SEO plugin.\\nRT (16:30):  So, for example, if I'm looking at my pages, looking at my pages right I want this page here and I'm editing this we're Really having problems now.\\nRT (16:39):  Oh, you're right. Okay. Sorry.\\nRT (16:39):  It was in.\\nRT (16:47):  So with these things, you can edit your meta description, your title, and so on.\\nRT (16:49):  your title and so on.\\nRT (16:54):  And it will also tell you some basic recommendations, right?\\nRT (16:57):  You can also generate AI content.\\nRT (17:10):  So for example, here, let's say that Let's say that my focus keyword is real estate content with AI.\\nRT (17:12):  Yeah, this is probably like a page feature.\\nRT (17:42):  yeah this is like a paid feature so what I want to show you is maybe the website for my company So they are also doing So they are also doing WordPress, but this one is a little bit more custom-made, right?\\nRT (17:49):  So here with the pages, this one is Yoast.\\nRT (17:53):  This one is Yoast, so the competitor of RankMath.\\nRT (17:56):  So if you like Yoast, then this is also okay.\\nRT (18:00):  So pages, so for example, I have a service page.\\nRT (18:05):  For example, I have a service page with digital marketing.\\nRT (18:06):  I'm editing this.\\nRT (18:10):  So you see, because it's not Elementor, this is already a different layout, right?\\nRT (18:13):  Yeah, but some of the elements are the same.\\nnan (18:15):  So this is what Yoast is doing.\\nRT (18:58):  elements are the same so this is what the host is doing right you can see your meta description for desktop mobile and you can put your focus keyword here your focus keyword here right now what is the focus keyword um this is the seo keyword like your main uh what you want to rank in okay so ranking okay so I want to rank in for this page is about digital marketing I want to rank on this page, so digital marketing services.\\nRT (19:14):  And this one is, what I like about this one is that you can add sort But this one is that you can add sort of variables, so you can add like, let's say, current year, right?\\nRT (19:16):  So it will always be the number one agency of 2024.\\nRT (19:40):  one agency of 2024 so if it's next year it will automatically change so this is like nice nice features and then here depending on your focus keyword you can generate like a meta creates like a meta description, here you can choose, the AI will make it for you.\\nRT (19:46):  Is that something that Is that something that is not shown to the user?\\nDG (19:50):  Is it something that's for robots only?\\nDG (19:52):  No, this is for the user.\\nDG (19:54):  So if you...\\nnan (19:54):  Okay.\\nRT (20:21):  um if you okay that's for this preview yeah so this is this text here yeah okay yeah yeah so if you want people to click it then it will need to be very then it will need to be very very focused with the keywords that are trying to rank it so is that this some or some kind of tag or on the issue\\nDG (20:32):  kind of tag on the html that is yeah this one is um wait let me see uh metadata tag\\nRT (20:43):  I think you can generate this.\\nnan (20:46):  This is this code here, right?\\nRT (21:06):  Let's go here. Meta name description. I will send you the link. You can also generate this with HTML, so it's possible. Maybe because you're doing AI things, it's nice if you go ai things um it's nice if you can generate this automatically yeah\\nDG (21:25):  yeah yes of course it should be just a part of of the uh output yeah um for some Yeah, for some for some of the articles, I saw it created this thing need to deliberately prompt to to include this thing.\\nDG (21:28):  Yeah. And then the other one that you also\\nRT (21:32):  And then the other one that you also need is a schema markup.\\nRT (21:36):  So I'm gonna give you a documentation here.\\nRT (21:40):  So this one has all the schemas.\\nRT (21:42):  all the schemas, right?\\nRT (21:45):  I also send you the link.\\nRT (21:57):  And I think for you, maybe the schema that is most interesting is product, the product schema and also your, and also your organization schema.\\nRT (22:01):  What is, what is schema?\\nDG (22:04):  Schema is like a code.\\nRT (22:06):  I will show you.\\nRT (22:07):  We'll show you.\\nRT (22:11):  Can you give me a link of your competitor?\\nRT (22:13):  Yes.\\nnan (22:16):  I will look if they have a schema.\\nRT (23:39):  let's check this one so I'm gonna scan this one so they have so they have no schema you see they are they are not doing SEO very advanced but if you take like another website website um i don't know let's take let's take surfer seo for example yeah because i know that they are an seo company so let's have a look here in the in the validator when you test don't understand this don't understand this let me try another one schema validator you can also use this one google for This one, Google for developers, the schema testing tool.\\nRT (23:42):  So rich results.\\nRT (23:47):  You could make a great YouTube video out of it.\\nDG (24:03):  of it by the way yeah yeah basically you're just naturally showing things that are valuable not not just not just for me, but for a wider audience.\\nDG (24:08):  I don't know why it's not showing rich results,\\nRT (24:10):  but let's try, okay.\\nRT (24:11):  Search engine.\\nRT (24:27):  or let's try some rush yeah this is also like a tool that you know right yeah yeah so summers.com right Right, we put this in the validator.\\nRT (24:35):  Yeah, so here you can see two schemas, right?\\nRT (24:39):  We have the website schema, Right, we have the website schema, we have corporation schema.\\nRT (24:49):  And this one is the, on the left side, this is the, yeah, this is the code for all of these things here, right?\\nRT (24:51):  things here, right?\\nRT (24:58):  And here you are giving structured data to Google that you are saying, hey, Google, I'm a corporation.\\nRT (25:00):  This is where the company is based.\\nRT (25:01):  This is all the information.\\nRT (25:07):  the company is based, this is all the information, these are the products that we have, and so on and so on, right?\\nRT (25:09):  So it's for example.\\nRT (25:12):  So that's a kind of JSON, which is,\\nDG (25:20):  which has been read by Google.\\nDG (25:21):  Yeah.\\nDG (25:23):  So it's called structured data.\\nDG (25:26):  And this is what Google needs to understand\\nRT (25:31):  This is what Google needs to understand your website and your product better.\\nRT (25:37):  If you want to rank on number one, Google is going to pick the one that has the best information.\\nRT (25:39):  And this is extra information.\\nRT (25:44):  This is extra information. The user doesn't see this, by the way. This is only for the bot.\\nRT (25:48):  But I can find it on the page.\\nDG (25:50):  Yeah. So all the schemas are here.\\nRT (26:04):  so all the schemas are here local business place and so on so i gave you the link and you can also test it okay um with this tool so it's not obligatory but pretty much\\nDG (26:12):  pretty much required for good sale it's required for good SEO and if you want to\\nRT (26:17):  beat your competitors this is what you need to do okay so basically what I need\\nDG (26:23):  So basically what I need, I need this schema, I need these methods.\\nDG (26:38):  Meta, uh-huh, meta is a header and description.\\nDG (26:40):  Yeah, so meta tag.\\nDG (26:41):  Meta.\\nnan (26:45):  Meta description.\\nRT (26:52):  And then for the images, you need alt text.\\nRT (26:54):  I think you know this one.\\nnan (26:56):  I think you know this one.\\nRT (27:00):  And then what else you also need?\\nRT (27:05):  You also need to pass the core web files.\\nRT (27:09):  So PageSpeed Insights, this one here.\\nRT (27:13):  insights this one here i think you know this one now\\nDG (27:21):  at least i know that it is important it's important you need to always\\nRT (28:14):  you need to always test it um what i know what i can tell you is that wordpress is slow right so we use plugins like uh wii p rocket or other things uh you could also use cloudflare you know i don't know what your budget is but this is just like a plugin that will make it faster and you can pass these tests so the diagnostic for mobile right now you have problem here is LCP so it means LCP so it means loading speed is maybe it's not so bad look you have 2.9 seconds you just need a little bit more You just need a little bit more improvement will be better.\\nRT (28:19):  And your desktop version, I think it's okay.\\nRT (28:21):  Yeah, look, right?\\nRT (28:36):  So the most important one, so the most important one is this one this one and uh cls so it means that your layout is shifting right these three are the most important for for people\\nDG (29:21):  Yeah, I also feel like WordPress is something Kinda over layer things like layers or layers like layers over layers over layers of software and it looks like it's a better idea to build this thing from scratch or not from scratch but from not from scratch but for from from almost like from the ground up because basically it's just a couple for a few pages few pages and an engine that is creating these pages.\\nDG (29:24):  That's possible, yeah.\\nnan (29:26):  I've tested a bunch of them.\\nDG (29:39):  I've tested a bunch of these things today and since everyone uses WordPress, I went for WordPress, but it looks bloated to me.\\nDG (29:41):  It's bloated to me.\\nDG (29:42):  It's very bloated.\\nRT (29:48):  Yeah, it is very bloated, but it's no code.\\nRT (29:52):  So, I mean, if you're not a programmer, then it's perfect, you know?\\nRT (30:06):  that is perfect you know like the people i work with are marketeers so i don't need them to think i need them to to create pages and to get the pages to just write and get it online and get it online, you know?\\nRT (30:08):  That's the only thing they have to do.\\nRT (30:11):  Otherwise they're gonna waste so much time.\\nRT (30:13):  You know, I don't want them to waste time, you know?\\nRT (30:23):  So this is why I'm using WordPress So why I'm using WordPress and I guess, you know, we already are making so many pages here.\\nRT (30:27):  I mean, these are all the pages here, look, all the blogs.\\nRT (30:56):  you see it's already very slow right and we have cloud flare so i don't know what we can do to make it even faster but yeah we already have seven other blocks so you know it's very it's going to be a pain in the ass to mic it's going to be a pain in the ass to migrate it so be sure what you want from the beginning and be sure that it works if you can make like fast pages and it works for you then it's perfect yeah basically you just need to\\nDG (31:08):  basically you just need to pre-build a lot of pages and have a router to deliver access to those yeah that's it That's it.\\nDG (31:15):  Yeah, that is not that straightforward as I thought.\\nDG (31:20):  I'm gonna also show you one more tool that I'm using.\\nRT (32:02):  that i'm using this is really nice because you can do like a quick audit right so let's say that you have a page right i'm using this is a free tool uh for your chrome it's an extension for your chrome it's an extension it's called detailed seo extension and this is what i use to check if everything is okay so i'm going to send so I'm going to send this to you you go and I like it because it's free and all you need to do is if you look at this page If you look at this page and you look at the structure, right?\\nRT (32:04):  So you have the meta here is the meta.\\nRT (32:06):  Okay, it will be green.\\nRT (32:27):  If it's okay, it will be red if it's not right then here the headings then here the headings this is already a problem you see look you start with the higher key you start with h5 it's not good you have to start with h1 so this one here this is a So this one here, this little thing here is fucking it up, you know?\\nRT (32:31):  But at least you know and you know what to change on your page.\\nRT (32:33):  Does it check for schema?\\nDG (32:36):  Yeah, but it's not.\\nRT (32:49):  Uh, yeah, but it's not, I mean, it has schema here, but it's not, it's not a good tool for this. Um, I would use like a different, I would use the validator.\\nRT (33:19):  different i would use the validator the validator is more advanced but this is like a nice tool for quick quick check yeah this will ocean this will also show you your links and so on if you want to do internal linking so also very nice you can export and then it will also tell you if your images have you if your images have old text or not yeah that is something also to consider\\nDG (34:03):  is that you want to build this links link network of interconnected links and links and you need to also to implement it somehow in the pipeline is that the easiest thing is that you can have um just a static set of links which you want to uh uh just to prompt to to to to to use in articles and yeah and you probably want to update this one yeah\\nRT (34:33):  Yeah, so for example, if you have a blog, it's interesting to have like this automated that it automatically links to other blogs from the same same topic yeah so you're creating a cluster so for example i show you like a cluster The Surfer SEO is actually quite nice for making this, but it's an expensive tool.\\nRT (34:38):  The tool that we were talking about, remember?\\nRT (34:39):  Yeah.\\nRT (34:40):  Yeah.\\nRT (34:41):  Potential competitor.\\nRT (34:50):  So I also use this to make a typical map.\\nRT (35:23):  mm-hmm so for example this is the one that I'm making right so I have different keywords here so for example I don't know, public relations strategies that will give you all the possible combinations If it's too much, you tell me, OK?\\nRT (35:26):  okay because i'm giving you some information\\nDG (35:35):  so you're creating a sort of structure right and what you want is so for example asia\\nRT (35:53):  so for example Asia marketing SEO in Singapore and so on you're creating all the ones that you have this map is really good for this but it will also tell you which ones you still need you which ones you still need okay so the uh purple ones that are con\\nDG (35:59):  that are interconnected with with links yeah the white ones that not have\\nRT (36:18):  not have a link that you we don't have this yet yeah no so this is really interesting to create your linking structure right You can also use another tool, for example, Screaming Frog.\\nRT (36:23):  I mean, there are so many tools, I'm just showing you stuff.\\nRT (36:25):  I'm just showing you stuff.\\nDG (36:30):  So let's have a look at your website.\\nRT (36:32):  It's vexa.ai, right?\\nRT (36:32):  Yeah.\\nRT (36:35):  Do you have some pages there?\\nnan (36:36):  None.\\nDG (36:49):  Some pages there, not much, like a few. Yeah, I like a few, but they are not even interconnected to me. This is a tool.\\nRT (37:04):  This is a tool I use to audit. So we are now scanning your site. It's more than one It's more than one page you have, right?\\nRT (37:05):  Yeah.\\nRT (37:05):  Okay.\\nRT (37:06):  Yeah.\\nRT (37:07):  So in terms of use.\\nRT (37:11):  Okay.\\nRT (37:16):  So, eight pages is correct?\\nRT (37:19):  No.\\nDG (37:20):  These are not the pages.\\nDG (37:23):  Not all the pages, obviously.\\nDG (37:24):  Okay.\\nDG (37:26):  But are you having JavaScript pages or?\\nRT (37:29):  But are you having JavaScript pages, or are they...\\nDG (37:36):  They're static, but they might not be just accessible from the main...\\nDG (37:37):  Oh, okay, okay, okay.\\nDG (37:37):  Yeah.\\nDG (37:38):  Maybe it's blocked.\\nRT (37:47):  But this is nice because you can do like, I don't know, you can see your 404, like this pages are broken.\\nRT (37:56):  You can also click on this and you can see where, and see where your links are going to.\\nRT (37:59):  You see that here? So, outlinks.\\nRT (38:03):  You can also see the problems here.\\nRT (38:23):  So, for example, you have if we export this look this one page has has no security protocol i don't know if you have like I don't know if you have like automatic redirect.\\nDG (38:27):  Yes, we do, we do have.\\nDG (38:29):  Okay, I don't know why it's detecting this,\\nRT (38:32):  but okay, anyway, what happened?\\nRT (39:09):  What I want to show you is this one. You can also make your diagram. And red is usually broken so if you have a link that is going to a red page it means there's something wrong with the link and if it's a bigger website you're going to see like all the problems so for example um scraper scraper api i'm gonna test it yeah so this is a website that i want to analyze\\nnan (39:23):  So it's showing me like all the types.\\nRT (39:40):  me like all the types of elements here also javascript so images and applications and we are crawling and it has a lot of pages so this one has maybe It's maybe 700 pages, I think.\\nRT (39:47):  Anyway, we can use tools like this.\\nRT (40:30):  tools like this to fix your website if there's any problems yeah so this is like an analysis tool because sometimes you can't always see everything if you're making it you know you don't know everything if you're making it you know you don't know what broken links are and this is a tool that that we always use to get your website 100 right but of course it's much better if you already at the start of course it's much better if you already at the start everything is is okay yeah yeah um so this is also possible but it sounds like you want to make your own um Like you want to make your own CMS from scratch, right?\\nDG (40:35):  Yeah, because CMS is about user interface.\\nDG (40:40):  is about user interface.\\nDG (40:46):  It's heavy lifting is about user interfaces, which I don't need.\\nDG (40:47):  Okay.\\nDG (42:09):  And this like, it's kind of, is like it's a kind of burden for me because like I and yeah I feel like we'll have the we'll have the universal interface for anything which will be around chat soon so we won't need that many that much interface in the future that much interface in the future and if yeah if i want to code something it's very straightforward i just go and it creates code for me which works yeah yeah i understand understand I can put things into pipelines into loops easily and everyone will be able to do so with just a pure knowledge of English language soon, really soon, so we won't need that many interfaces because like learning interface is something which Chagipty can't help you with to search for these three dots that is the right corner and the button name is changed and the interface changed.\\nRT (42:33):  is changed and okay so let's let's do it like this right um what i can do is you can create your thing Your your own CMS, and if you have your page ready, let me do a scan and if there's anything missing, I will give you feedback and then you can program it like you wish.\\nRT (43:06):  you know like hey um maybe some of these tags are not there maybe there's something wrong with the schema you still need this i can i can help you with this yeah that's super cool yeah yeah because I have the tools they are paid by the company you don't have to buy them you know so it's nice to have like this collection of tools where I can just you know you saw you saw it right it was very fast i can give you feedback right away yeah that this networking thing is uh\\nDG (43:12):  yeah so it seems pretty pretty valuable yeah you should come\\nRT (43:22):  Next week, Wednesday, if you have time, 7 o'clock, 7.30, I will send you the meeting.\\nRT (43:24):  There's another event.\\nRT (43:43):  another event for the marketing tribe and if you want to meet other people there's also developers there so it's always interesting to to have a chat yeah good idea yeah and they can give you some you some inspiration yeah i will probably come yeah i will send you the link then\\nDG (43:48):  um and your rico where are you originally from just curious\\nRT (44:01):  from Belgium from Belgium okay yeah I'm only here for one year and probably not your final\\nDG (44:14):  destination I'm moving to Caparica in November in November and you you plan to stay in Portugal yeah I\\nRT (44:36):  I think so but I don't I'm not a big fan of the big city so I like more the the beach I like you know calm you know and you are fully remote I'm a hybrid, but I don't have to go to the office so much, like one time in a week.\\nDG (44:46):  um we actually live um around 30 minutes drive from lisbon in a golf resort\\nRT (44:51):  oh nice that's cool and uh it's a very\\nDG (45:04):  the Portuguese, so not that many nomads here, because nobody knows this place, actually.\\nDG (45:27):  actually it's on the top of a hill and i i can see lisbon from my window oh wow that's cool even though it's 15 kilometers and so yeah it's a very nice area yeah if you if you'll be curious to visit me here it'll be cool yeah it'll be cool\\nRT (46:01):  I don't have a lot of a lot of expat friends um but it will be nice to to uh make some more friends you know in the in the network uh would be very cool i really want to introduce you to um to one of my friends he's also doing he's also like an AI engineer and maybe it's interesting to introduce you yeah it's also working yeah he's also working on a different project it's totally different of course cool\\nDG (46:20):  um yeah rick uh thank you very much it's ton of information and i'll i'll need to forget about it for a while in order to you know properly study tomorrow yeah yeah yeah just let me know when your page is ready\\nRT (47:22):  page is ready and then I can do like an audit and then give you like a quick recommendation and then you can implement this in all your pages uh from from because uh the problem is I the problem is i have a lot of clients they are they have their custom cms but they are already 10 000 pages further you know so yeah for them it's a big big problem when it's already not already not not good from the start it's a big headache then you need to find the problem you know like it's really like this sort of pain in the ass and so i want you if you are are starting a website that it's it's really good from the start you know you don't have to worry about technical requirements from Google then you're just ranking yeah you just need to create the content that's it's the only thing you need to worry about and we'll have a good template to reuse yep there's one thing i want to show you before uh we we finish\\nRT( (47:36):  so um what i can also give you and this this one is free of charge you don't have to\\nRT (47:51):  I just want to help you, is if you know any keywords that would be interesting for your for your websites, you just let me know.\\nRT (47:56):  So what would be like a keyword for someone to find?\\nDG (48:00):  A A I note.\\nDG (48:13):  no taker like this yeah yeah okay let's have a look so this is a really interesting keyword\\nRT (48:46):  because it's already 35 400 times someone is looking this many people are looking this online and i can give you Your competitors mm-hmm, so this is interesting Apple comb yeah, I don't know why that YouTube also I don't item for the zapier i don't know maybe they're not relevant competitors but let me export\\nDG (49:01):  i feel like this is it looks very Very similar to Google Ads Keyword Planner, which I was using today to define my keywords.\\nDG (49:03):  Yeah, this is...\\nRT (49:06):  I mean, it's a free tool. You can also use this one.\\nDG (49:08):  Okay. Okay. Yeah.\\nnan (49:10):  Cool. Cool. Cool.\\nDG (49:13):  So Simrush common analytics keyword magic.\\nnan (49:16):  Yeah.\\nRT (49:20):  So let me just, I think you already have a list like this now.\\nDG (49:27):  Uh, yeah, I've, yeah, I've made up, I've made some, something.\\nDG (49:28):  Okay.\\nDG (49:29):  Then you already know.\\nDG (49:54):  I exported from my Google Ads account and it looks pretty similar but this one is a little bit more pretty video and it's got some other uh functionality so it's a it's a free thing keyword magic pool yeah but it's it's um limited so you know\\nRT (50:05):  is the problem with a lot of these tools is that some features are not 100%, but what I can give you here is maybe the questions.\\nRT (50:24):  no question yeah so you can filter by questions question keywords and this is maybe like in interesting things to write blogs about.\\nRT (50:31):  What I also do is, so for example, you go to Reddit, right?\\nRT (50:38):  There's like a forum section, so subreddits.\\nRT (50:41):  Oh, wow, why is it strange?\\nRT (50:48):  And what would be the subreddit for your category?\\nnan (50:52):  AI tools?\\nDG (50:54):  Maybe, yeah.\\nRT (51:09):  So what you can also do is scan the website.\\nRT (51:14):  So let's scan this one, right?\\nRT (51:22):  And here we want to get the subfolder.\\nRT (51:44):  folder and this is like all the keywords that this um uh forum section is is ranking on so if you have a competitor give me you like another competitor like alter AI\\nDG (51:46):  yeah let's try\\nRT (52:22):  so they have oh my god this has a lot of traffic they are very strong so they have 26 000 keywords but a lot of it is alter alter ai so what we can do here is For example, let's say we exclude otter and let's see what keywords they have.\\nRT (52:26):  And also let's just exclude everything with ot.\\nRT (52:40):  Okay, so AI note-taker they are number two AI transcription, so this is also keyword that is interesting and\\nDG (52:52):  but they got the traffic which is really really tiny percentage of their uh brand brand uh direct\\nRT (53:04):  Yeah, I think SEMrush is not 100% accurate, I think it's making estimations, so I'm not sure if this is correct.\\nRT (53:47):  right so 1000 traffic um could be could be off by um by a lot um but here let me export all these keywords there's a lot that could be interesting for you you know like if you want to programmatic steal all the keywords make pages you can make thousands so this is the list keyword search volume here it's the same like like the Google ads situation.\\nRT (53:52):  Where do you want me to send this to?\\nRT (53:53):  Do you have an email?\\nRT (53:54):  Yeah.\\nRT (54:06):  sorry what telegram do you use telegram uh i'm on my um i call it um computer from\\nDG (54:11):  Okay, I'll just stop you now.\\nRT (54:18):  Yeah, they locked down, I'm on the company computer, so they locked down all the programs that are not allowed.\\nRT (54:28):  But normally I have Telegram. It's on my phone.\\nRT (54:40):  So let me just email it to you.\\nDG (54:45):  Let me check how you get there, this SEMrush.\\nRT (55:13):  I think they have also free trial but it's expensive like the normal but I think you can do I do I don't know one one or two weeks you can do for free some rush so that what you've been\\nDG (55:25):  you've been using now was paid version this paid version from the company so yeah the company pays for a lot of stuff yeah i'm happy i don't have to pay it\\nRT (55:35):  um okay so what is your email that i can send this yeah i i send it to you over this google meet\\nDG (55:36):  thank you\\nRT (55:48):  So I will just call it Keywords, Non-Branded Keywords Otter AI.\\nRT (55:55):  I'm going to touch this file.\\nRT (56:00):  So yeah, have fun with this.\\nRT (56:03):  Yeah, there's a lot.\\nRT (56:05):  Yeah, there's a lot, a lot.\\nRT (56:09):  But I think you can program your AI to analyze it, no?\\nRT (56:12):  Like a quick, quick filters?\\nRT (56:15):  To analyze?\\nDG (57:09):  analyze keywords for yeah that was pretty pretty funny today I was playing around with this thing and one of the competitors names is fireflies and fireflies yeah and uh yeah so it's great uh this um yeah 10 pages with this firefly says there was a lot about the bug and the article was was really funny because it was about my company yeah and And the context, the mix of context was, you know, pretty interesting. So it mixed up this to meet an assistant with an animal.\\nRT (57:14):  I think it got confused.\\nDG (57:25):  Yeah, I was thinking maybe I should even publish this, you know, because uh because why not it still could be could be considered really one\\nRT (57:31):  i think it's like a funny um linkedin post via a funny one to share\\nDG (57:57):  so yeah uh i i still don't believe that it's gonna work really good out of the box i still don't know but uh yeah we could iterate until it's something valuable i'm pretty sure yeah\\nRT (58:22):  You know what you can do is you can also, I think you also have this feature in, so let's say you want your keyword difficulty yeah here yeah i think you can actually filter it um so for example ai\\nDG (58:35):  let's try yeah so um so you you suggest to to target\\nRT (58:55):  low so zero till maybe let's say 30 yeah because anyways i'm i don't have a domain their authority yeah you will need to get all the the quick ones first\\nDG (58:59):  yeah i think you should try to automate\\nRT (59:17):  automate all the easy ones first and then maybe uh go up to let's say 49 then you have more the yellow Because Fireflies is always everywhere.\\nRT (59:23):  Yeah, you will need to filter the branded keywords.\\nRT (59:25):  Need to filter.\\nDG (59:43):  to filter yeah you need to remove it um so no fireflies is it is not a good idea to create um comparison pages yeah it's a good idea\\nRT (60:17):  they are doing this for a lot of uh websites so scraper api versus just scraping the alternatives look this is a really good idea they are doing this i think you should also i think you should also do it yeah if you want some ideas on what to do in seconds and\\nDG (60:45):  like in order to kickstart a new version start a new website how long does it take for Google to start to start showing the content to start showing the content you have to index it so um\\nRT (61:15):  yeah i believe that these tools that i showed you uh live like rank Matt has like an auto indexer so it automatically does it but I think you can also program it now with your With your background, um, it's also possible to manually index it, but it's the one that you showed me, right? Search console.\\nRT (61:31):  Yeah, so for example, I don't know just request your\\nDG (62:07):  flexing here but i think there's ways to to automate it yes you can do it via api in google Google API but there's some limitation to this people even those who want to have like hundreds of thousands of pages the event you know scale number of projects with their own API limits in order to you know to index everything really quick\\nRT (62:24):  yeah um you also have to remember that google has the google bot has a crawling budget right so if you make 10 000 pages even if they They are all indexed.\\nRT (62:33):  The Google has a limitation of, I don't know, let's say, your crawl budget, for example, is only 3,000 pages, for example.\\nRT (62:48):  right you want the three thousand your three thousand budget to to target the most important pages so this is why you need to be very very strict tactical with what you want to put online.\\nRT (62:55):  You don't want it to only look at the pages that are not so important, you know?\\nRT (63:12):  So keep this in mind when you're creating like 10,000 pages pages um be sure that it's 10 000 a lot that the majority of those pages are really important for your business if that makes\\nDG (63:20):  sense i don't know yeah um how do you call it but what kind of budget is that\\nnan (63:25):  roll crawling budget yeah crawl budget\\nDG (63:36):  but it's not the same for our website I believe it's not the same for every website so they are like gradually increase it\\nRT (63:40):  Yeah, so this is some more information.\\nRT (63:43):  I think nobody really knows exactly what the number is.\\nnan (63:48):  Yeah.\\nDG (63:56):  yeah say then why it's important okay good to know\\nRT (64:27):  yeah so be careful with this when you're creating a lot of pages um this can also be a problem that google does not have the budget yet for your website maybe if you have a very old website it will give you more but crawl budget but for new websites sites um google will also i don't know i hope they don't penalize you you know this is also something that can happen yeah in order to overcome this you want to create\\nDG (64:58):  want to create many websites yeah exactly so yeah anyway so what is common is a massive wave of information online. And that's interesting how it's going on to how search engines search engine is going to deal with it oh yeah i think uh last year\\nRT (65:07):  google was trying to build a dam you know for all the ai content and uh And this was the result I show you.\\nRT (65:12):  Like so many websites.\\nRT (65:23):  So the website from my company was It was targeted and we went all the way down.\\nDG (65:43):  this was the result what was the reason for that because they did algorithm update of Google and\\nRT (65:45):  And here they did it again.\\nRT (65:47):  So you see it's going back up.\\nRT (65:50):  But the reason was because of ChatGPT.\\nRT (65:54):  They wanted to make it more strict.\\nRT (66:08):  But yeah, a lot of businesses went out of business, they became bankrupt because Google, one day they decided, okay, now we're gonna change the algorithm.\\nRT (66:15):  You know, so this is also something that can happen and they are trying to, they don't know what to do with it, with the AI content.\\nDG (66:27):  I mean, they were trying to, to detect, uh, generated content and it wasn't the case where you're generating a lot of content at times\\nRT (66:57):  not really no we were not um using i mean i mean people using ai but not like programmatic you know like not thousands of pages um but for some reason yeah the algorithm um wasn't smart enough to detect really what was with our sites that are doing it and which ones not so yeah this was the results and this is also the case with a lot of websites I think\\nDG (67:10):  Maybe that's the result of the amount of information increased significantly.\\nDG (67:12):  It's just you lose you.\\nDG (67:25):  this stake of market just because newcomers just took over maybe that was the case not the update it's it's possible\\nRT (67:32):  well yeah that's a good theory yeah yeah yeah yeah and it's it's going to happen again it's\\nDG (67:44):  going to increase even it's that was uh you know that was a first wave second And next waves will be massive, much, much bigger than this one.\\nDG (67:46):  Then these ones we have, um,\\nRT (67:54):  I think you're, you're in a good branch, you know, if you're part of of the next wave, then you really have a good business.\\nRT (68:03):  You don't need people anymore to write because the AI can write better than a lot of copywriter, no mistake.\\nRT (68:23):  no spelling mistakes it will write better maybe it will not know specific knowledge you know like very niche um maybe this is not possible but but for a lot of topics i think it can the second wave will come you're correct yeah i think that\\nDG (68:56):  what will distinguish uh generated content with more like a native one is is images because images are much easier to detect whether it's an ii images image and the easier way to detect is just to look at the image but it's not it's a pretty heavy to process on every image with some algorithm with the AI tool for it.\\nDG (68:59):  But we can, you can see it, right?\\nRT (69:06):  So I don't know if you ever saw like the articles from Surfer SEO, the AI generated articles.\\nDG (69:19):  Yeah, and actually it's quite a good question of what you're going to do, what I am going to do.\\nDG (69:36):  to do is that do I have to generate images as well a friend of mine is got a good business creating generate energy which is selling them on photo stocks, photo stocks.\\nDG (69:44):  He used to have, he used to be doing normal images and now completely switched to AI generated\\nRT (70:09):  and his business said even grow oh my god okay so this one look it's very very strange images see like i mean it's you can tell that it's ai you know like it's yeah what human would make like this you know like this is\\nDG (70:16):  mm-hmm yeah yeah that's that's definitely an ai image all of them\\nRT (70:26):  yeah so if i just upload this on the website then people are going to know that i'm using ai you know so it's really funny like what is this but actually\\nDG (70:35):  do they care at all because i would not care i wouldn't even i wouldn't even you know but\\nRT (70:43):  yeah yeah but look look at this chat chat pt you know like it's small details right\\nDG (70:53):  yeah you can even like i could i could you know, have an idea of what is the model and what's the generation of the model.\\nDG (70:57):  It was made probably like a year ago already.\\nDG (70:59):  Pretty well, pretty old.\\nDG (71:20):  old images the newer ones are much better yeah yeah yeah so i need to take care of this part as well it's more expensive yeah make sure that it's at least not like\\nRT (71:24):  strange you know like you you feel like it's your own\\nDG (71:33):  strange page like with a woman with with thing with feet as fingers you know like\\nRT (71:37):  like this is really strange it's pretty strange for\\nDG (71:58):  for a ai note taker okay but yeah so the copywriter's job will be to to basically have a human validation of whether it's an appropriate information.\\nRT (72:52):  Yeah, I think but this you can also course you know like they are already doing this with asia or also our company is doing this like all the creative uh jobs are now in malaysia because they are paying 10 times less than you know like an american you know who's asking like a lot of money to check they do exactly if you know english it's enough you know yeah like six dollars an hour and if you have many like this you have i don't know for the same price you have like i don't know 10 people that can check all your content and i think that is probably the only thing that you will need to do is just like have someone actually check if it's okay yeah and uh it's still\\nDG (73:42):  not a good check because these people are not part of your target audience yeah they do not have no idea what it is about what is supposed to be and base you're just trying to buy a little bit of yeah it's just just yeah just uh to know that the human there was some kind of human touch to it because otherwise it's pretty creepy stuff if you are established company to have 10 000 pages Which not a single human except of some users, some real, you know, if you're a real target audience have visited.\\nDG (73:56):  That's weird. Yeah, but still, these guys in Malaysia, even if they try hard, they can miss this.\\nnan (73:59):  Yeah, that's possible.\\nRT (74:02):  I guess it depends on the topic.\\nRT (74:05):  If you have an easy topic, then no problem.\\nRT (74:08):  But if it's more technical, yeah, you're one on.\\nRT (74:20):  percent right that's very hard to but even the normal writers it's it's hard you know more they will ask more and so on yeah\\nnan (74:30):  okay dimitri let me know um when if you have some pages ready and um i will\\nnan (74:33):  help you with doing some audits okay\\nnan (74:41):  very yeah very nice and very interesting and helpful thank you very much yeah thank\\nnan (74:46):  you also for helping i really appreciate it and i'm gonna put some more pages on\\nnan (74:53):  tomorrow i have some more time and uh let's um do continue the experiment\\nnan (74:58):  yeah let's do the next batch yeah thank\\n\""
      ]
     },
     "execution_count": 40,
     "metadata": {},
     "output_type": "execute_result"
    }
   ],
   "source": [
    "formatted_input"
   ]
  },
  {
   "cell_type": "code",
   "execution_count": 41,
   "metadata": {},
   "outputs": [],
   "source": [
    "from pydantic import Field\n",
    "from core import BaseCall,system_msg,user_msg\n",
    "\n",
    "class MeetingNameAndSummary(BaseCall):\n",
    "    summary: str = Field(..., description=\"\"\"\n",
    "                         Dense, direct long text representation of the key points discussed, NO introductory words like meeting, discussion, etc. Reference speakers. \n",
    "                         Make sure you include and highlight ALL the provided Points are included, 1000 chars max. ALWAYS: Use markdown to highlight ALL the Points\"\"\")\n",
    "    meeting_name: str = Field(..., max_length=100, description=\"Concise, explanatory name for the meeting that captures its main purpose\")\n",
    "\n",
    "    @classmethod\n",
    "    async def extract(cls, formatted_input: str, summary_input: str, model: str = \"gpt-4o-mini\", use_cache: bool = False, force_store: bool = False):\n",
    "        output = await cls.call([\n",
    "            system_msg(\"\"\"Create a direct text representation and concise meeting name based on the discussion points and transcript.\n",
    "                      For the text: Start immediately with content, no introductory phrases.\n",
    "                      For the meeting name: Create a dense, explanatory name (max 50 chars) that captures the main purpose.\n",
    "                      NO introductory words like meeting, discussion, etc. Reference speakers. Include and highlight ALL the POINTS adn important keywords\"\"\"),\n",
    "            user_msg(f\"\"\"Points. Include and highlight ALL the POINTS:\n",
    "                        {summary_input}\n",
    "\n",
    "                        Full transcript:\n",
    "                        {formatted_input}\n",
    "\n",
    "Generate a direct summary and concise meeting name.\"\"\")\n",
    "        ], model=model, use_cache=use_cache, force_store=force_store)\n",
    "\n",
    "        return output"
   ]
  },
  {
   "cell_type": "code",
   "execution_count": 42,
   "metadata": {},
   "outputs": [],
   "source": [
    "r = await MeetingNameAndSummary.extract(formatted_input, summary_input)"
   ]
  },
  {
   "cell_type": "code",
   "execution_count": 43,
   "metadata": {},
   "outputs": [
    {
     "data": {
      "text/plain": [
       "'**PageSpeed Insights** is a tool by Google for analyzing web page performance; **Rick** emphasizes its importance for monitoring and enhancing website loading speeds. **Screaming Frog** is mentioned as a website crawler for SEO audits. **Surfer SEO** helps optimize content based on data-driven insights, aiding in creating content clusters. **Meta descriptions** are crucial for SEO, influencing click-through rates. **Alt text** improves SEO and accessibility. **Dmitriy** is setting up a **WordPress** site using **Elementor** for design and **Rank Math** for SEO, with Rick offering tutorials. The necessity of **schema markup** and meta descriptions for SEO is discussed. Website speed concerns are addressed, recommending plugins like **WP Rocket** and **Cloudflare**. A follow-up meeting is scheduled for further assistance. Rick shares insights on various SEO tools and strategies, including the importance of managing **crawl budgets** and using AI in content creation. **AI note-takers** and **AI-generated images** are also discussed, highlighting their implications for productivity and user perception.'"
      ]
     },
     "execution_count": 43,
     "metadata": {},
     "output_type": "execute_result"
    }
   ],
   "source": [
    "r.model_dump()['summary']"
   ]
  },
  {
   "cell_type": "code",
   "execution_count": 44,
   "metadata": {},
   "outputs": [],
   "source": [
    "from IPython.display import Markdown"
   ]
  },
  {
   "cell_type": "code",
   "execution_count": 45,
   "metadata": {},
   "outputs": [
    {
     "data": {
      "text/markdown": [
       "**PageSpeed Insights** is a tool by Google for analyzing web page performance; **Rick** emphasizes its importance for monitoring and enhancing website loading speeds. **Screaming Frog** is mentioned as a website crawler for SEO audits. **Surfer SEO** helps optimize content based on data-driven insights, aiding in creating content clusters. **Meta descriptions** are crucial for SEO, influencing click-through rates. **Alt text** improves SEO and accessibility. **Dmitriy** is setting up a **WordPress** site using **Elementor** for design and **Rank Math** for SEO, with Rick offering tutorials. The necessity of **schema markup** and meta descriptions for SEO is discussed. Website speed concerns are addressed, recommending plugins like **WP Rocket** and **Cloudflare**. A follow-up meeting is scheduled for further assistance. Rick shares insights on various SEO tools and strategies, including the importance of managing **crawl budgets** and using AI in content creation. **AI note-takers** and **AI-generated images** are also discussed, highlighting their implications for productivity and user perception."
      ],
      "text/plain": [
       "<IPython.core.display.Markdown object>"
      ]
     },
     "execution_count": 45,
     "metadata": {},
     "output_type": "execute_result"
    }
   ],
   "source": [
    "Markdown(r.model_dump()['summary'])\n",
    "\n"
   ]
  },
  {
   "cell_type": "code",
   "execution_count": 46,
   "metadata": {},
   "outputs": [
    {
     "data": {
      "text/plain": [
       "'SEO Tools and WordPress Setup Guidance'"
      ]
     },
     "execution_count": 46,
     "metadata": {},
     "output_type": "execute_result"
    }
   ],
   "source": [
    "r.model_dump()['meeting_name']"
   ]
  },
  {
   "cell_type": "code",
   "execution_count": 47,
   "metadata": {},
   "outputs": [],
   "source": [
    "pd.options.display.max_colwidth = 1000"
   ]
  },
  {
   "cell_type": "code",
   "execution_count": 48,
   "metadata": {},
   "outputs": [
    {
     "data": {
      "text/plain": [
       "['PageSpeed Insights',\n",
       " 'Screaming Frog',\n",
       " 'Surfer SEO',\n",
       " 'Meta description',\n",
       " 'Alt text',\n",
       " 'Setting up WordPress with Elementor and Rank Math',\n",
       " 'Schema markup and meta descriptions',\n",
       " 'Website speed optimization',\n",
       " 'Using detailed SEO extension for audits',\n",
       " 'Follow-up meeting planning',\n",
       " 'Rick Tousseyn',\n",
       " 'Dmitriy Grankin',\n",
       " 'WordPress',\n",
       " 'Elementor',\n",
       " 'Rank Math',\n",
       " 'Yoast',\n",
       " 'SEO',\n",
       " 'schema markup',\n",
       " 'Google',\n",
       " 'AI',\n",
       " 'cPanel',\n",
       " 'Docker',\n",
       " 'Cloudflare',\n",
       " 'Crawl budget',\n",
       " 'AI note-taker',\n",
       " 'AI-generated images']"
      ]
     },
     "execution_count": 48,
     "metadata": {},
     "output_type": "execute_result"
    }
   ],
   "source": [
    "df['topic_name'].tolist()"
   ]
  },
  {
   "cell_type": "code",
   "execution_count": null,
   "metadata": {},
   "outputs": [],
   "source": []
  }
 ],
 "metadata": {
  "kernelspec": {
   "display_name": "langchain",
   "language": "python",
   "name": "python3"
  },
  "language_info": {
   "codemirror_mode": {
    "name": "ipython",
    "version": 3
   },
   "file_extension": ".py",
   "mimetype": "text/x-python",
   "name": "python",
   "nbconvert_exporter": "python",
   "pygments_lexer": "ipython3",
   "version": "3.11.2"
  }
 },
 "nbformat": 4,
 "nbformat_minor": 2
}
