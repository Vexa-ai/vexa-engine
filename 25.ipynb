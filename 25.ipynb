{
 "cells": [
  {
   "cell_type": "code",
   "execution_count": 1,
   "metadata": {},
   "outputs": [],
   "source": [
    "%load_ext autoreload\n",
    "%autoreload 2\n"
   ]
  },
  {
   "cell_type": "code",
   "execution_count": 2,
   "metadata": {},
   "outputs": [],
   "source": [
    "from psql_helpers import get_schema_info,init_db, set_default_access,get_accessible_meetings,get_session"
   ]
  },
  {
   "cell_type": "code",
   "execution_count": 3,
   "metadata": {},
   "outputs": [],
   "source": [
    "from psql_models import AccessLevel"
   ]
  },
  {
   "cell_type": "code",
   "execution_count": 17,
   "metadata": {},
   "outputs": [],
   "source": [
    "olga_token = '5faa86ba0dc74b14a78c60c8aa20a014'\n",
    "olga_id = '8b767b85-44fb-4c20-97df-7aa172242273'\n",
    "from vexa import VexaAPI\n",
    "\n",
    "\n",
    "\n"
   ]
  },
  {
   "cell_type": "markdown",
   "metadata": {},
   "source": []
  },
  {
   "cell_type": "code",
   "execution_count": 14,
   "metadata": {},
   "outputs": [
    {
     "data": {
      "text/plain": [
       "{'id': 'ef7c085b-fdb5-4c94-b7b6-a61a3d04c210',\n",
       " 'email': '2280905@gmail.com',\n",
       " 'is_allowed_send_init_message': True,\n",
       " 'username': 'Dmitriy Grankin',\n",
       " 'first_name': 'Dmitriy',\n",
       " 'last_name': 'Grankin',\n",
       " 'image': 'https://lh3.googleusercontent.com/a/ACg8ocLu4ZPfzj9KFNVqKL3NTF4SXUYvJ4mwoXLuoQ0BZzjw7OBIRA=s96-c',\n",
       " 'created_timestamp': '2024-05-28T11:16:50.894711Z',\n",
       " 'updated_timestamp': '2024-10-18T08:47:02.519781Z'}"
      ]
     },
     "execution_count": 14,
     "metadata": {},
     "output_type": "execute_result"
    }
   ],
   "source": [
    "user_info"
   ]
  },
  {
   "cell_type": "code",
   "execution_count": 5,
   "metadata": {},
   "outputs": [
    {
     "name": "stdout",
     "output_type": "stream",
     "text": [
      "Database initialized successfully.\n"
     ]
    }
   ],
   "source": [
    "await init_db()"
   ]
  },
  {
   "cell_type": "code",
   "execution_count": 6,
   "metadata": {},
   "outputs": [
    {
     "data": {
      "text/plain": [
       "[('alembic_version', ['version_num character varying NOT NULL', 'version_num character varying NOT NULL'], ['PK: version_num', 'CHECK: 2200_25737_1_not_null']),\n",
       " ('default_access', ['owner_user_id uuid NOT NULL', 'owner_user_id uuid NOT NULL', 'owner_user_id uuid NOT NULL', 'owner_user_id uuid NOT NULL', 'owner_user_id uuid NOT N ... (1520 characters truncated) ... id uuid NOT NULL', 'granted_user_id uuid NOT NULL', 'granted_user_id uuid NOT NULL', 'granted_user_id uuid NOT NULL', 'granted_user_id uuid NOT NULL'], ['FK: owner_user_id -> users.id', 'FK: granted_user_id -> users.id', 'PK: owner_user_id', 'PK: owner_user_id', 'PK: granted_user_id', 'PK: granted_use ... (856 characters truncated) ... granted_user_id', 'CHECK: valid_default_access_level', 'CHECK: 2200_26957_2_not_null', 'CHECK: 2200_26957_3_not_null', 'CHECK: 2200_26957_1_not_null']),\n",
       " ('discussion_points', ['speaker_id integer', 'speaker_id integer', 'speaker_id integer', 'speaker_id integer', 'meeting_id uuid', 'meeting_id uuid', 'meeting_id uuid', 'mee ... (860 characters truncated) ... me character varying', 'topic_name character varying', 'topic_name character varying', 'summary text', 'summary text', 'summary text', 'summary text'], ['FK: speaker_id -> speakers.id', 'CHECK: 2200_26927_1_not_null', 'FK: meeting_id -> meetings.meeting_id', 'PK: id', 'FK: speaker_id -> speakers.id',  ... (860 characters truncated) ... -> meetings.meeting_id', 'PK: id', 'FK: speaker_id -> speakers.id', 'CHECK: 2200_26927_1_not_null', 'FK: meeting_id -> meetings.meeting_id', 'PK: id']),\n",
       " ('meeting_speaker', ['meeting_id integer', 'meeting_id integer', 'speaker_id integer', 'speaker_id integer'], ['FK: meeting_id -> meetings.id', 'FK: speaker_id -> speakers.id', 'FK: meeting_id -> meetings.id', 'FK: speaker_id -> speakers.id']),\n",
       " ('meetings', ['transcript text', 'transcript text', 'transcript text', 'transcript text', 'timestamp timestamp without time zone', 'timestamp timestamp without tim ... (324 characters truncated) ... nextval('meetings_id_seq'::regclass)\", 'meeting_id uuid NOT NULL', 'meeting_id uuid NOT NULL', 'meeting_id uuid NOT NULL', 'meeting_id uuid NOT NULL'], ['UQ: meeting_id', 'CHECK: 2200_26844_1_not_null', 'CHECK: 2200_26844_2_not_null', 'PK: id', 'UQ: meeting_id', 'CHECK: 2200_26844_1_not_null', 'CHECK: ... (68 characters truncated) ... 844_1_not_null', 'CHECK: 2200_26844_2_not_null', 'PK: id', 'UQ: meeting_id', 'CHECK: 2200_26844_1_not_null', 'CHECK: 2200_26844_2_not_null', 'PK: id']),\n",
       " ('outputs', ['output_text text', 'output_text text', 'output_text text', 'output_text text', 'output_text text', 'output_text text', 'output_text text', 'output_t ... (1804 characters truncated) ... eq'::regclass)\", \"id integer NOT NULL DEFAULT nextval('outputs_id_seq'::regclass)\", \"id integer NOT NULL DEFAULT nextval('outputs_id_seq'::regclass)\"], ['CHECK: 2200_26864_4_not_null', 'CHECK: 2200_26864_6_not_null', 'CHECK: 2200_26864_7_not_null', 'CHECK: 2200_26864_1_not_null', 'PK: id', 'UQ: cache_ ... (1233 characters truncated) ... CK: 2200_26864_7_not_null', 'CHECK: 2200_26864_1_not_null', 'PK: id', 'UQ: cache_key', 'CHECK: 2200_26864_2_not_null', 'CHECK: 2200_26864_5_not_null']),\n",
       " ('speakers', ['name character varying NOT NULL', 'name character varying NOT NULL', 'name character varying NOT NULL', 'name character varying NOT NULL', \"id integ ... (112 characters truncated) ... '::regclass)\", \"id integer NOT NULL DEFAULT nextval('speakers_id_seq'::regclass)\", \"id integer NOT NULL DEFAULT nextval('speakers_id_seq'::regclass)\"], ['CHECK: 2200_26855_2_not_null', 'PK: id', 'UQ: name', 'CHECK: 2200_26855_1_not_null', 'CHECK: 2200_26855_2_not_null', 'PK: id', 'UQ: name', 'CHECK: 2200_26855_1_not_null']),\n",
       " ('threads', ['timestamp timestamp with time zone', 'timestamp timestamp with time zone', 'timestamp timestamp with time zone', 'timestamp timestamp with time zone ... (312 characters truncated) ... , 'messages text', 'thread_name character varying', 'thread_name character varying', 'thread_name character varying', 'thread_name character varying'], ['PK: thread_id', 'CHECK: 2200_26945_2_not_null', 'CHECK: 2200_26945_1_not_null', 'FK: user_id -> users.id', 'PK: thread_id', 'CHECK: 2200_26945_2_not ... (240 characters truncated) ... 45_1_not_null', 'FK: user_id -> users.id', 'PK: thread_id', 'CHECK: 2200_26945_2_not_null', 'CHECK: 2200_26945_1_not_null', 'FK: user_id -> users.id']),\n",
       " ('user_meetings', ['created_by uuid', 'created_by uuid', 'created_by uuid', 'created_by uuid', 'created_by uuid', 'created_by uuid', 'created_by uuid', 'created_by uuid ... (2988 characters truncated) ... ted_at timestamp with time zone', 'created_at timestamp with time zone', 'created_at timestamp with time zone', 'created_at timestamp with time zone'], ['FK: meeting_id -> meetings.meeting_id', 'PK: id', 'CHECK: valid_access_level', 'CHECK: 2200_26901_7_not_null', 'CHECK: 2200_26901_1_not_null', 'CHEC ... (1793 characters truncated) ... CK: 2200_26901_4_not_null', 'FK: user_id -> users.id', 'FK: created_by -> users.id', 'UQ: meeting_id', 'UQ: meeting_id', 'UQ: user_id', 'UQ: user_id']),\n",
       " ('user_tokens', ['token character varying NOT NULL', 'token character varying NOT NULL', 'token character varying NOT NULL', 'token character varying NOT NULL', 'toke ... (605 characters truncated) ... racter varying NOT NULL', 'user_id uuid NOT NULL', 'user_id uuid NOT NULL', 'user_id uuid NOT NULL', 'user_id uuid NOT NULL', 'user_id uuid NOT NULL'], ['CHECK: 2200_26887_1_not_null', 'CHECK: 2200_26887_2_not_null', 'CHECK: 2200_26887_3_not_null', 'FK: user_id -> users.id', 'PK: token', 'CHECK: 2200_ ... (380 characters truncated) ... , 'PK: token', 'CHECK: 2200_26887_1_not_null', 'CHECK: 2200_26887_2_not_null', 'CHECK: 2200_26887_3_not_null', 'FK: user_id -> users.id', 'PK: token']),\n",
       " ('users', ['created_timestamp timestamp with time zone', 'created_timestamp timestamp with time zone', 'created_timestamp timestamp with time zone', 'created_ti ... (772 characters truncated) ... ying', 'email character varying NOT NULL', 'email character varying NOT NULL', 'email character varying NOT NULL', 'email character varying NOT NULL'], ['CHECK: 2200_26834_1_not_null', 'PK: id', 'CHECK: 2200_26834_2_not_null', 'UQ: email', 'CHECK: 2200_26834_1_not_null', 'PK: id', 'CHECK: 2200_26834_2 ... (396 characters truncated) ... t_null', 'PK: id', 'CHECK: 2200_26834_2_not_null', 'UQ: email', 'CHECK: 2200_26834_1_not_null', 'PK: id', 'CHECK: 2200_26834_2_not_null', 'UQ: email'])]"
      ]
     },
     "execution_count": 6,
     "metadata": {},
     "output_type": "execute_result"
    }
   ],
   "source": [
    "await get_schema_info()"
   ]
  },
  {
   "cell_type": "code",
   "execution_count": 11,
   "metadata": {},
   "outputs": [],
   "source": [
    "from psql_helpers import create_user"
   ]
  },
  {
   "cell_type": "code",
   "execution_count": 18,
   "metadata": {},
   "outputs": [
    {
     "name": "stdout",
     "output_type": "stream",
     "text": [
      "User information retrieved successfully.\n"
     ]
    }
   ],
   "source": [
    "vexa = VexaAPI(olga_token)\n",
    "user_info = await vexa.get_user_info()\n",
    "\n",
    "async with get_session() as session:\n",
    "    # Filter and rename fields to match create_user parameters\n",
    "    filtered_user_info = {\n",
    "        'user_id': user_info['id'],\n",
    "        'email': user_info['email'],\n",
    "        'username': user_info['username'],\n",
    "        'first_name': user_info['first_name'],\n",
    "        'last_name': user_info['last_name'],\n",
    "        'image': user_info['image']\n",
    "    }\n",
    "    await create_user(session, **filtered_user_info)"
   ]
  },
  {
   "cell_type": "code",
   "execution_count": 29,
   "metadata": {},
   "outputs": [],
   "source": [
    "from psql_helpers import read_table_async"
   ]
  },
  {
   "cell_type": "code",
   "execution_count": 30,
   "metadata": {},
   "outputs": [],
   "source": [
    "from psql_models import User,DefaultAccess"
   ]
  },
  {
   "cell_type": "code",
   "execution_count": 31,
   "metadata": {},
   "outputs": [
    {
     "data": {
      "text/html": [
       "<div>\n",
       "<style scoped>\n",
       "    .dataframe tbody tr th:only-of-type {\n",
       "        vertical-align: middle;\n",
       "    }\n",
       "\n",
       "    .dataframe tbody tr th {\n",
       "        vertical-align: top;\n",
       "    }\n",
       "\n",
       "    .dataframe thead th {\n",
       "        text-align: right;\n",
       "    }\n",
       "</style>\n",
       "<table border=\"1\" class=\"dataframe\">\n",
       "  <thead>\n",
       "    <tr style=\"text-align: right;\">\n",
       "      <th></th>\n",
       "      <th>id</th>\n",
       "      <th>email</th>\n",
       "      <th>username</th>\n",
       "      <th>first_name</th>\n",
       "      <th>last_name</th>\n",
       "      <th>image</th>\n",
       "      <th>created_timestamp</th>\n",
       "      <th>updated_timestamp</th>\n",
       "    </tr>\n",
       "  </thead>\n",
       "  <tbody>\n",
       "    <tr>\n",
       "      <th>0</th>\n",
       "      <td>ef7c085b-fdb5-4c94-b7b6-a61a3d04c210</td>\n",
       "      <td>2280905@gmail.com</td>\n",
       "      <td>Dmitriy Grankin</td>\n",
       "      <td>Dmitriy</td>\n",
       "      <td>Grankin</td>\n",
       "      <td>https://lh3.googleusercontent.com/a/ACg8ocLu4Z...</td>\n",
       "      <td>2024-10-29 14:02:16.627179+00:00</td>\n",
       "      <td>2024-10-29 14:02:16.627181+00:00</td>\n",
       "    </tr>\n",
       "    <tr>\n",
       "      <th>1</th>\n",
       "      <td>8b767b85-44fb-4c20-97df-7aa172242273</td>\n",
       "      <td>olganemirovskaya@gmail.com</td>\n",
       "      <td>Olga Nemirovskaya</td>\n",
       "      <td>Olga</td>\n",
       "      <td>Nemirovskaya</td>\n",
       "      <td>https://lh3.googleusercontent.com/a/ACg8ocKR1i...</td>\n",
       "      <td>2024-10-29 14:02:58.711841+00:00</td>\n",
       "      <td>2024-10-29 14:02:58.711844+00:00</td>\n",
       "    </tr>\n",
       "    <tr>\n",
       "      <th>2</th>\n",
       "      <td>fc97506f-0e97-409d-8bdd-699d6dd330a4</td>\n",
       "      <td>user1@example.com</td>\n",
       "      <td>user1</td>\n",
       "      <td>First1</td>\n",
       "      <td>Last1</td>\n",
       "      <td>None</td>\n",
       "      <td>2024-10-29 14:16:41.074831+00:00</td>\n",
       "      <td>2024-10-29 14:16:41.074833+00:00</td>\n",
       "    </tr>\n",
       "    <tr>\n",
       "      <th>3</th>\n",
       "      <td>b15fd48d-e746-41a1-934b-f70cab046c2e</td>\n",
       "      <td>user2@example.com</td>\n",
       "      <td>user2</td>\n",
       "      <td>First2</td>\n",
       "      <td>Last2</td>\n",
       "      <td>None</td>\n",
       "      <td>2024-10-29 14:16:41.074836+00:00</td>\n",
       "      <td>2024-10-29 14:16:41.074836+00:00</td>\n",
       "    </tr>\n",
       "    <tr>\n",
       "      <th>4</th>\n",
       "      <td>5eaa1e88-0d20-4986-9129-919d1227db52</td>\n",
       "      <td>user3@example.com</td>\n",
       "      <td>user3</td>\n",
       "      <td>First3</td>\n",
       "      <td>Last3</td>\n",
       "      <td>None</td>\n",
       "      <td>2024-10-29 14:16:41.074845+00:00</td>\n",
       "      <td>2024-10-29 14:16:41.074846+00:00</td>\n",
       "    </tr>\n",
       "  </tbody>\n",
       "</table>\n",
       "</div>"
      ],
      "text/plain": [
       "                                     id                       email  \\\n",
       "0  ef7c085b-fdb5-4c94-b7b6-a61a3d04c210           2280905@gmail.com   \n",
       "1  8b767b85-44fb-4c20-97df-7aa172242273  olganemirovskaya@gmail.com   \n",
       "2  fc97506f-0e97-409d-8bdd-699d6dd330a4           user1@example.com   \n",
       "3  b15fd48d-e746-41a1-934b-f70cab046c2e           user2@example.com   \n",
       "4  5eaa1e88-0d20-4986-9129-919d1227db52           user3@example.com   \n",
       "\n",
       "            username first_name     last_name  \\\n",
       "0    Dmitriy Grankin    Dmitriy       Grankin   \n",
       "1  Olga Nemirovskaya       Olga  Nemirovskaya   \n",
       "2              user1     First1         Last1   \n",
       "3              user2     First2         Last2   \n",
       "4              user3     First3         Last3   \n",
       "\n",
       "                                               image  \\\n",
       "0  https://lh3.googleusercontent.com/a/ACg8ocLu4Z...   \n",
       "1  https://lh3.googleusercontent.com/a/ACg8ocKR1i...   \n",
       "2                                               None   \n",
       "3                                               None   \n",
       "4                                               None   \n",
       "\n",
       "                 created_timestamp                updated_timestamp  \n",
       "0 2024-10-29 14:02:16.627179+00:00 2024-10-29 14:02:16.627181+00:00  \n",
       "1 2024-10-29 14:02:58.711841+00:00 2024-10-29 14:02:58.711844+00:00  \n",
       "2 2024-10-29 14:16:41.074831+00:00 2024-10-29 14:16:41.074833+00:00  \n",
       "3 2024-10-29 14:16:41.074836+00:00 2024-10-29 14:16:41.074836+00:00  \n",
       "4 2024-10-29 14:16:41.074845+00:00 2024-10-29 14:16:41.074846+00:00  "
      ]
     },
     "execution_count": 31,
     "metadata": {},
     "output_type": "execute_result"
    }
   ],
   "source": [
    "await read_table_async(User)"
   ]
  },
  {
   "cell_type": "code",
   "execution_count": 32,
   "metadata": {},
   "outputs": [
    {
     "ename": "NameError",
     "evalue": "name 'DiscussionPoint' is not defined",
     "output_type": "error",
     "traceback": [
      "\u001b[0;31m---------------------------------------------------------------------------\u001b[0m",
      "\u001b[0;31mNameError\u001b[0m                                 Traceback (most recent call last)",
      "Cell \u001b[0;32mIn[32], line 1\u001b[0m\n\u001b[0;32m----> 1\u001b[0m \u001b[38;5;28;01mawait\u001b[39;00m read_table_async(\u001b[43mDiscussionPoint\u001b[49m)\n",
      "\u001b[0;31mNameError\u001b[0m: name 'DiscussionPoint' is not defined"
     ]
    }
   ],
   "source": [
    "await read_table_async(DiscussionPoint)"
   ]
  },
  {
   "cell_type": "code",
   "execution_count": null,
   "metadata": {},
   "outputs": [],
   "source": []
  },
  {
   "cell_type": "code",
   "execution_count": 26,
   "metadata": {},
   "outputs": [
    {
     "data": {
      "text/plain": [
       "<psql_models.DefaultAccess at 0x7ff7c0d75f50>"
      ]
     },
     "execution_count": 26,
     "metadata": {},
     "output_type": "execute_result"
    }
   ],
   "source": [
    "await set_default_access(\n",
    "        session,\n",
    "        owner_user_id='ef7c085b-fdb5-4c94-b7b6-a61a3d04c210',\n",
    "        granted_user_id='8b767b85-44fb-4c20-97df-7aa172242273',\n",
    "        access_level=AccessLevel.SEARCH\n",
    "    )"
   ]
  },
  {
   "cell_type": "code",
   "execution_count": 28,
   "metadata": {},
   "outputs": [
    {
     "data": {
      "text/html": [
       "<div>\n",
       "<style scoped>\n",
       "    .dataframe tbody tr th:only-of-type {\n",
       "        vertical-align: middle;\n",
       "    }\n",
       "\n",
       "    .dataframe tbody tr th {\n",
       "        vertical-align: top;\n",
       "    }\n",
       "\n",
       "    .dataframe thead th {\n",
       "        text-align: right;\n",
       "    }\n",
       "</style>\n",
       "<table border=\"1\" class=\"dataframe\">\n",
       "  <thead>\n",
       "    <tr style=\"text-align: right;\">\n",
       "      <th></th>\n",
       "      <th>owner_user_id</th>\n",
       "      <th>granted_user_id</th>\n",
       "      <th>access_level</th>\n",
       "      <th>created_at</th>\n",
       "    </tr>\n",
       "  </thead>\n",
       "  <tbody>\n",
       "    <tr>\n",
       "      <th>0</th>\n",
       "      <td>ef7c085b-fdb5-4c94-b7b6-a61a3d04c210</td>\n",
       "      <td>8b767b85-44fb-4c20-97df-7aa172242273</td>\n",
       "      <td>search</td>\n",
       "      <td>2024-10-29 14:04:30.543456+00:00</td>\n",
       "    </tr>\n",
       "  </tbody>\n",
       "</table>\n",
       "</div>"
      ],
      "text/plain": [
       "                          owner_user_id                       granted_user_id  \\\n",
       "0  ef7c085b-fdb5-4c94-b7b6-a61a3d04c210  8b767b85-44fb-4c20-97df-7aa172242273   \n",
       "\n",
       "  access_level                       created_at  \n",
       "0       search 2024-10-29 14:04:30.543456+00:00  "
      ]
     },
     "execution_count": 28,
     "metadata": {},
     "output_type": "execute_result"
    }
   ],
   "source": [
    "await read_table_async(DefaultAccess)"
   ]
  },
  {
   "cell_type": "code",
   "execution_count": null,
   "metadata": {},
   "outputs": [],
   "source": []
  },
  {
   "cell_type": "code",
   "execution_count": null,
   "metadata": {},
   "outputs": [],
   "source": [
    "async with get_session() as session:\n",
    "    # First create the users if they don't exist\n",
    "    owner = await create_user(session, owner_user_id, \"Owner Name\")\n",
    "    granted = await create_user(session, granted_user_id, \"Granted User Name\")\n",
    "    \n",
    "    # Then set the default access\n",
    "    await set_default_access(\n",
    "        session,\n",
    "        owner_user_id=owner_user_id,\n",
    "        granted_user_id=granted_user_id,\n",
    "        access_level=AccessLevel.SEARCH\n",
    "    )"
   ]
  },
  {
   "cell_type": "code",
   "execution_count": null,
   "metadata": {},
   "outputs": [],
   "source": [
    "async with get_session() as session:\n",
    "    # First create the users if they don't exist\n",
    "    owner = await create_user(session, owner_user_id, \"Owner Name\")\n",
    "    granted = await create_user(session, granted_user_id, \"Granted User Name\")\n",
    "    \n",
    "    # Then set the default access\n",
    "    await set_default_access(\n",
    "        session,\n",
    "        owner_user_id=owner_user_id,\n",
    "        granted_user_id=granted_user_id,\n",
    "        access_level=AccessLevel.SEARCH\n",
    "    )"
   ]
  },
  {
   "cell_type": "code",
   "execution_count": 18,
   "metadata": {},
   "outputs": [
    {
     "ename": "IntegrityError",
     "evalue": "(sqlalchemy.dialects.postgresql.asyncpg.IntegrityError) <class 'asyncpg.exceptions.ForeignKeyViolationError'>: insert or update on table \"default_access\" violates foreign key constraint \"default_access_owner_user_id_fkey\"\nDETAIL:  Key (owner_user_id)=(ef7c085b-fdb5-4c94-b7b6-a61a3d04c210) is not present in table \"users\".\n[SQL: INSERT INTO default_access (owner_user_id, granted_user_id, access_level, created_at) VALUES ($1::UUID, $2::UUID, $3::VARCHAR, $4::TIMESTAMP WITH TIME ZONE)]\n[parameters: ('ef7c085b-fdb5-4c94-b7b6-a61a3d04c210', '8b767b85-44fb-4c20-97df-7aa172242273', 'search', datetime.datetime(2024, 10, 29, 16, 49, 57, 38839))]\n(Background on this error at: https://sqlalche.me/e/20/gkpj)",
     "output_type": "error",
     "traceback": [
      "\u001b[0;31m---------------------------------------------------------------------------\u001b[0m",
      "\u001b[0;31mForeignKeyViolationError\u001b[0m                  Traceback (most recent call last)",
      "File \u001b[0;32m~/anaconda3/envs/langchain/lib/python3.11/site-packages/sqlalchemy/dialects/postgresql/asyncpg.py:538\u001b[0m, in \u001b[0;36mAsyncAdapt_asyncpg_cursor._prepare_and_execute\u001b[0;34m(self, operation, parameters)\u001b[0m\n\u001b[1;32m    537\u001b[0m \u001b[38;5;28;01melse\u001b[39;00m:\n\u001b[0;32m--> 538\u001b[0m     \u001b[38;5;28mself\u001b[39m\u001b[38;5;241m.\u001b[39m_rows \u001b[38;5;241m=\u001b[39m \u001b[38;5;28;01mawait\u001b[39;00m prepared_stmt\u001b[38;5;241m.\u001b[39mfetch(\u001b[38;5;241m*\u001b[39mparameters)\n\u001b[1;32m    539\u001b[0m     status \u001b[38;5;241m=\u001b[39m prepared_stmt\u001b[38;5;241m.\u001b[39mget_statusmsg()\n",
      "File \u001b[0;32m~/anaconda3/envs/langchain/lib/python3.11/site-packages/asyncpg/prepared_stmt.py:176\u001b[0m, in \u001b[0;36mPreparedStatement.fetch\u001b[0;34m(self, timeout, *args)\u001b[0m\n\u001b[1;32m    168\u001b[0m \u001b[38;5;250m\u001b[39m\u001b[38;5;124mr\u001b[39m\u001b[38;5;124;03m\"\"\"Execute the statement and return a list of :class:`Record` objects.\u001b[39;00m\n\u001b[1;32m    169\u001b[0m \n\u001b[1;32m    170\u001b[0m \u001b[38;5;124;03m:param str query: Query text\u001b[39;00m\n\u001b[0;32m   (...)\u001b[0m\n\u001b[1;32m    174\u001b[0m \u001b[38;5;124;03m:return: A list of :class:`Record` instances.\u001b[39;00m\n\u001b[1;32m    175\u001b[0m \u001b[38;5;124;03m\"\"\"\u001b[39;00m\n\u001b[0;32m--> 176\u001b[0m data \u001b[38;5;241m=\u001b[39m \u001b[38;5;28;01mawait\u001b[39;00m \u001b[38;5;28mself\u001b[39m\u001b[38;5;241m.\u001b[39m__bind_execute(args, \u001b[38;5;241m0\u001b[39m, timeout)\n\u001b[1;32m    177\u001b[0m \u001b[38;5;28;01mreturn\u001b[39;00m data\n",
      "File \u001b[0;32m~/anaconda3/envs/langchain/lib/python3.11/site-packages/asyncpg/prepared_stmt.py:267\u001b[0m, in \u001b[0;36mPreparedStatement.__bind_execute\u001b[0;34m(self, args, limit, timeout)\u001b[0m\n\u001b[1;32m    266\u001b[0m \u001b[38;5;28;01masync\u001b[39;00m \u001b[38;5;28;01mdef\u001b[39;00m \u001b[38;5;21m__bind_execute\u001b[39m(\u001b[38;5;28mself\u001b[39m, args, limit, timeout):\n\u001b[0;32m--> 267\u001b[0m     data, status, _ \u001b[38;5;241m=\u001b[39m \u001b[38;5;28;01mawait\u001b[39;00m \u001b[38;5;28mself\u001b[39m\u001b[38;5;241m.\u001b[39m__do_execute(\n\u001b[1;32m    268\u001b[0m         \u001b[38;5;28;01mlambda\u001b[39;00m protocol: protocol\u001b[38;5;241m.\u001b[39mbind_execute(\n\u001b[1;32m    269\u001b[0m             \u001b[38;5;28mself\u001b[39m\u001b[38;5;241m.\u001b[39m_state, args, \u001b[38;5;124m'\u001b[39m\u001b[38;5;124m'\u001b[39m, limit, \u001b[38;5;28;01mTrue\u001b[39;00m, timeout))\n\u001b[1;32m    270\u001b[0m     \u001b[38;5;28mself\u001b[39m\u001b[38;5;241m.\u001b[39m_last_status \u001b[38;5;241m=\u001b[39m status\n",
      "File \u001b[0;32m~/anaconda3/envs/langchain/lib/python3.11/site-packages/asyncpg/prepared_stmt.py:256\u001b[0m, in \u001b[0;36mPreparedStatement.__do_execute\u001b[0;34m(self, executor)\u001b[0m\n\u001b[1;32m    255\u001b[0m \u001b[38;5;28;01mtry\u001b[39;00m:\n\u001b[0;32m--> 256\u001b[0m     \u001b[38;5;28;01mreturn\u001b[39;00m \u001b[38;5;28;01mawait\u001b[39;00m executor(protocol)\n\u001b[1;32m    257\u001b[0m \u001b[38;5;28;01mexcept\u001b[39;00m exceptions\u001b[38;5;241m.\u001b[39mOutdatedSchemaCacheError:\n",
      "File \u001b[0;32m~/anaconda3/envs/langchain/lib/python3.11/site-packages/asyncpg/protocol/protocol.pyx:206\u001b[0m, in \u001b[0;36mbind_execute\u001b[0;34m()\u001b[0m\n",
      "\u001b[0;31mForeignKeyViolationError\u001b[0m: insert or update on table \"default_access\" violates foreign key constraint \"default_access_owner_user_id_fkey\"\nDETAIL:  Key (owner_user_id)=(ef7c085b-fdb5-4c94-b7b6-a61a3d04c210) is not present in table \"users\".",
      "\nThe above exception was the direct cause of the following exception:\n",
      "\u001b[0;31mIntegrityError\u001b[0m                            Traceback (most recent call last)",
      "File \u001b[0;32m~/anaconda3/envs/langchain/lib/python3.11/site-packages/sqlalchemy/engine/base.py:1970\u001b[0m, in \u001b[0;36mConnection._exec_single_context\u001b[0;34m(self, dialect, context, statement, parameters)\u001b[0m\n\u001b[1;32m   1969\u001b[0m     \u001b[38;5;28;01mif\u001b[39;00m \u001b[38;5;129;01mnot\u001b[39;00m evt_handled:\n\u001b[0;32m-> 1970\u001b[0m         \u001b[38;5;28;43mself\u001b[39;49m\u001b[38;5;241;43m.\u001b[39;49m\u001b[43mdialect\u001b[49m\u001b[38;5;241;43m.\u001b[39;49m\u001b[43mdo_execute\u001b[49m\u001b[43m(\u001b[49m\n\u001b[1;32m   1971\u001b[0m \u001b[43m            \u001b[49m\u001b[43mcursor\u001b[49m\u001b[43m,\u001b[49m\u001b[43m \u001b[49m\u001b[43mstr_statement\u001b[49m\u001b[43m,\u001b[49m\u001b[43m \u001b[49m\u001b[43meffective_parameters\u001b[49m\u001b[43m,\u001b[49m\u001b[43m \u001b[49m\u001b[43mcontext\u001b[49m\n\u001b[1;32m   1972\u001b[0m \u001b[43m        \u001b[49m\u001b[43m)\u001b[49m\n\u001b[1;32m   1974\u001b[0m \u001b[38;5;28;01mif\u001b[39;00m \u001b[38;5;28mself\u001b[39m\u001b[38;5;241m.\u001b[39m_has_events \u001b[38;5;129;01mor\u001b[39;00m \u001b[38;5;28mself\u001b[39m\u001b[38;5;241m.\u001b[39mengine\u001b[38;5;241m.\u001b[39m_has_events:\n",
      "File \u001b[0;32m~/anaconda3/envs/langchain/lib/python3.11/site-packages/sqlalchemy/engine/default.py:924\u001b[0m, in \u001b[0;36mDefaultDialect.do_execute\u001b[0;34m(self, cursor, statement, parameters, context)\u001b[0m\n\u001b[1;32m    923\u001b[0m \u001b[38;5;28;01mdef\u001b[39;00m \u001b[38;5;21mdo_execute\u001b[39m(\u001b[38;5;28mself\u001b[39m, cursor, statement, parameters, context\u001b[38;5;241m=\u001b[39m\u001b[38;5;28;01mNone\u001b[39;00m):\n\u001b[0;32m--> 924\u001b[0m     \u001b[43mcursor\u001b[49m\u001b[38;5;241;43m.\u001b[39;49m\u001b[43mexecute\u001b[49m\u001b[43m(\u001b[49m\u001b[43mstatement\u001b[49m\u001b[43m,\u001b[49m\u001b[43m \u001b[49m\u001b[43mparameters\u001b[49m\u001b[43m)\u001b[49m\n",
      "File \u001b[0;32m~/anaconda3/envs/langchain/lib/python3.11/site-packages/sqlalchemy/dialects/postgresql/asyncpg.py:572\u001b[0m, in \u001b[0;36mAsyncAdapt_asyncpg_cursor.execute\u001b[0;34m(self, operation, parameters)\u001b[0m\n\u001b[1;32m    571\u001b[0m \u001b[38;5;28;01mdef\u001b[39;00m \u001b[38;5;21mexecute\u001b[39m(\u001b[38;5;28mself\u001b[39m, operation, parameters\u001b[38;5;241m=\u001b[39m\u001b[38;5;28;01mNone\u001b[39;00m):\n\u001b[0;32m--> 572\u001b[0m     \u001b[38;5;28;43mself\u001b[39;49m\u001b[38;5;241;43m.\u001b[39;49m\u001b[43m_adapt_connection\u001b[49m\u001b[38;5;241;43m.\u001b[39;49m\u001b[43mawait_\u001b[49m\u001b[43m(\u001b[49m\n\u001b[1;32m    573\u001b[0m \u001b[43m        \u001b[49m\u001b[38;5;28;43mself\u001b[39;49m\u001b[38;5;241;43m.\u001b[39;49m\u001b[43m_prepare_and_execute\u001b[49m\u001b[43m(\u001b[49m\u001b[43moperation\u001b[49m\u001b[43m,\u001b[49m\u001b[43m \u001b[49m\u001b[43mparameters\u001b[49m\u001b[43m)\u001b[49m\n\u001b[1;32m    574\u001b[0m \u001b[43m    \u001b[49m\u001b[43m)\u001b[49m\n",
      "File \u001b[0;32m~/anaconda3/envs/langchain/lib/python3.11/site-packages/sqlalchemy/util/_concurrency_py3k.py:127\u001b[0m, in \u001b[0;36mawait_only\u001b[0;34m(awaitable)\u001b[0m\n\u001b[1;32m    123\u001b[0m \u001b[38;5;66;03m# returns the control to the driver greenlet passing it\u001b[39;00m\n\u001b[1;32m    124\u001b[0m \u001b[38;5;66;03m# a coroutine to run. Once the awaitable is done, the driver greenlet\u001b[39;00m\n\u001b[1;32m    125\u001b[0m \u001b[38;5;66;03m# switches back to this greenlet with the result of awaitable that is\u001b[39;00m\n\u001b[1;32m    126\u001b[0m \u001b[38;5;66;03m# then returned to the caller (or raised as error)\u001b[39;00m\n\u001b[0;32m--> 127\u001b[0m \u001b[38;5;28;01mreturn\u001b[39;00m \u001b[43mcurrent\u001b[49m\u001b[38;5;241;43m.\u001b[39;49m\u001b[43mdriver\u001b[49m\u001b[38;5;241;43m.\u001b[39;49m\u001b[43mswitch\u001b[49m\u001b[43m(\u001b[49m\u001b[43mawaitable\u001b[49m\u001b[43m)\u001b[49m\n",
      "File \u001b[0;32m~/anaconda3/envs/langchain/lib/python3.11/site-packages/sqlalchemy/util/_concurrency_py3k.py:192\u001b[0m, in \u001b[0;36mgreenlet_spawn\u001b[0;34m(fn, _require_await, *args, **kwargs)\u001b[0m\n\u001b[1;32m    189\u001b[0m \u001b[38;5;28;01mtry\u001b[39;00m:\n\u001b[1;32m    190\u001b[0m     \u001b[38;5;66;03m# wait for a coroutine from await_only and then return its\u001b[39;00m\n\u001b[1;32m    191\u001b[0m     \u001b[38;5;66;03m# result back to it.\u001b[39;00m\n\u001b[0;32m--> 192\u001b[0m     value \u001b[38;5;241m=\u001b[39m \u001b[38;5;28;01mawait\u001b[39;00m result\n\u001b[1;32m    193\u001b[0m \u001b[38;5;28;01mexcept\u001b[39;00m \u001b[38;5;167;01mBaseException\u001b[39;00m:\n\u001b[1;32m    194\u001b[0m     \u001b[38;5;66;03m# this allows an exception to be raised within\u001b[39;00m\n\u001b[1;32m    195\u001b[0m     \u001b[38;5;66;03m# the moderated greenlet so that it can continue\u001b[39;00m\n\u001b[1;32m    196\u001b[0m     \u001b[38;5;66;03m# its expected flow.\u001b[39;00m\n",
      "File \u001b[0;32m~/anaconda3/envs/langchain/lib/python3.11/site-packages/sqlalchemy/dialects/postgresql/asyncpg.py:550\u001b[0m, in \u001b[0;36mAsyncAdapt_asyncpg_cursor._prepare_and_execute\u001b[0;34m(self, operation, parameters)\u001b[0m\n\u001b[1;32m    549\u001b[0m \u001b[38;5;28;01mexcept\u001b[39;00m \u001b[38;5;167;01mException\u001b[39;00m \u001b[38;5;28;01mas\u001b[39;00m error:\n\u001b[0;32m--> 550\u001b[0m     \u001b[38;5;28;43mself\u001b[39;49m\u001b[38;5;241;43m.\u001b[39;49m\u001b[43m_handle_exception\u001b[49m\u001b[43m(\u001b[49m\u001b[43merror\u001b[49m\u001b[43m)\u001b[49m\n",
      "File \u001b[0;32m~/anaconda3/envs/langchain/lib/python3.11/site-packages/sqlalchemy/dialects/postgresql/asyncpg.py:501\u001b[0m, in \u001b[0;36mAsyncAdapt_asyncpg_cursor._handle_exception\u001b[0;34m(self, error)\u001b[0m\n\u001b[1;32m    500\u001b[0m \u001b[38;5;28;01mdef\u001b[39;00m \u001b[38;5;21m_handle_exception\u001b[39m(\u001b[38;5;28mself\u001b[39m, error):\n\u001b[0;32m--> 501\u001b[0m     \u001b[38;5;28;43mself\u001b[39;49m\u001b[38;5;241;43m.\u001b[39;49m\u001b[43m_adapt_connection\u001b[49m\u001b[38;5;241;43m.\u001b[39;49m\u001b[43m_handle_exception\u001b[49m\u001b[43m(\u001b[49m\u001b[43merror\u001b[49m\u001b[43m)\u001b[49m\n",
      "File \u001b[0;32m~/anaconda3/envs/langchain/lib/python3.11/site-packages/sqlalchemy/dialects/postgresql/asyncpg.py:789\u001b[0m, in \u001b[0;36mAsyncAdapt_asyncpg_connection._handle_exception\u001b[0;34m(self, error)\u001b[0m\n\u001b[1;32m    786\u001b[0m         translated_error\u001b[38;5;241m.\u001b[39mpgcode \u001b[38;5;241m=\u001b[39m translated_error\u001b[38;5;241m.\u001b[39msqlstate \u001b[38;5;241m=\u001b[39m (\n\u001b[1;32m    787\u001b[0m             \u001b[38;5;28mgetattr\u001b[39m(error, \u001b[38;5;124m\"\u001b[39m\u001b[38;5;124msqlstate\u001b[39m\u001b[38;5;124m\"\u001b[39m, \u001b[38;5;28;01mNone\u001b[39;00m)\n\u001b[1;32m    788\u001b[0m         )\n\u001b[0;32m--> 789\u001b[0m         \u001b[38;5;28;01mraise\u001b[39;00m translated_error \u001b[38;5;28;01mfrom\u001b[39;00m \u001b[38;5;21;01merror\u001b[39;00m\n\u001b[1;32m    790\u001b[0m \u001b[38;5;28;01melse\u001b[39;00m:\n",
      "\u001b[0;31mIntegrityError\u001b[0m: <class 'asyncpg.exceptions.ForeignKeyViolationError'>: insert or update on table \"default_access\" violates foreign key constraint \"default_access_owner_user_id_fkey\"\nDETAIL:  Key (owner_user_id)=(ef7c085b-fdb5-4c94-b7b6-a61a3d04c210) is not present in table \"users\".",
      "\nThe above exception was the direct cause of the following exception:\n",
      "\u001b[0;31mIntegrityError\u001b[0m                            Traceback (most recent call last)",
      "Cell \u001b[0;32mIn[18], line 2\u001b[0m\n\u001b[1;32m      1\u001b[0m \u001b[38;5;28;01masync\u001b[39;00m \u001b[38;5;28;01mwith\u001b[39;00m get_session() \u001b[38;5;28;01mas\u001b[39;00m session:\n\u001b[0;32m----> 2\u001b[0m     \u001b[38;5;28;01mawait\u001b[39;00m set_default_access(\n\u001b[1;32m      3\u001b[0m         session,\n\u001b[1;32m      4\u001b[0m         owner_user_id\u001b[38;5;241m=\u001b[39mvexa\u001b[38;5;241m.\u001b[39muser_id,\n\u001b[1;32m      5\u001b[0m         granted_user_id\u001b[38;5;241m=\u001b[39molga_id,\n\u001b[1;32m      6\u001b[0m         access_level\u001b[38;5;241m=\u001b[39mAccessLevel\u001b[38;5;241m.\u001b[39mSEARCH\n\u001b[1;32m      7\u001b[0m     )\n",
      "File \u001b[0;32m~/playground/vexa_multiassistant/back/psql_helpers.py:492\u001b[0m, in \u001b[0;36mset_default_access\u001b[0;34m(session, owner_user_id, granted_user_id, access_level)\u001b[0m\n\u001b[1;32m    485\u001b[0m     default_access \u001b[38;5;241m=\u001b[39m DefaultAccess(\n\u001b[1;32m    486\u001b[0m         owner_user_id\u001b[38;5;241m=\u001b[39mowner_user_id,\n\u001b[1;32m    487\u001b[0m         granted_user_id\u001b[38;5;241m=\u001b[39mgranted_user_id,\n\u001b[1;32m    488\u001b[0m         access_level\u001b[38;5;241m=\u001b[39maccess_level\u001b[38;5;241m.\u001b[39mvalue\n\u001b[1;32m    489\u001b[0m     )\n\u001b[1;32m    490\u001b[0m     session\u001b[38;5;241m.\u001b[39madd(default_access)\n\u001b[0;32m--> 492\u001b[0m \u001b[38;5;28;01mawait\u001b[39;00m session\u001b[38;5;241m.\u001b[39mcommit()\n\u001b[1;32m    493\u001b[0m \u001b[38;5;28;01mreturn\u001b[39;00m default_access\n",
      "File \u001b[0;32m~/anaconda3/envs/langchain/lib/python3.11/site-packages/sqlalchemy/ext/asyncio/session.py:1000\u001b[0m, in \u001b[0;36mAsyncSession.commit\u001b[0;34m(self)\u001b[0m\n\u001b[1;32m    992\u001b[0m \u001b[38;5;28;01masync\u001b[39;00m \u001b[38;5;28;01mdef\u001b[39;00m \u001b[38;5;21mcommit\u001b[39m(\u001b[38;5;28mself\u001b[39m) \u001b[38;5;241m-\u001b[39m\u001b[38;5;241m>\u001b[39m \u001b[38;5;28;01mNone\u001b[39;00m:\n\u001b[1;32m    993\u001b[0m \u001b[38;5;250m    \u001b[39m\u001b[38;5;124;03m\"\"\"Commit the current transaction in progress.\u001b[39;00m\n\u001b[1;32m    994\u001b[0m \n\u001b[1;32m    995\u001b[0m \u001b[38;5;124;03m    .. seealso::\u001b[39;00m\n\u001b[0;32m   (...)\u001b[0m\n\u001b[1;32m    998\u001b[0m \u001b[38;5;124;03m        \"commit\"\u001b[39;00m\n\u001b[1;32m    999\u001b[0m \u001b[38;5;124;03m    \"\"\"\u001b[39;00m\n\u001b[0;32m-> 1000\u001b[0m     \u001b[38;5;28;01mawait\u001b[39;00m greenlet_spawn(\u001b[38;5;28mself\u001b[39m\u001b[38;5;241m.\u001b[39msync_session\u001b[38;5;241m.\u001b[39mcommit)\n",
      "File \u001b[0;32m~/anaconda3/envs/langchain/lib/python3.11/site-packages/sqlalchemy/util/_concurrency_py3k.py:199\u001b[0m, in \u001b[0;36mgreenlet_spawn\u001b[0;34m(fn, _require_await, *args, **kwargs)\u001b[0m\n\u001b[1;32m    197\u001b[0m             result \u001b[38;5;241m=\u001b[39m context\u001b[38;5;241m.\u001b[39mthrow(\u001b[38;5;241m*\u001b[39msys\u001b[38;5;241m.\u001b[39mexc_info())\n\u001b[1;32m    198\u001b[0m         \u001b[38;5;28;01melse\u001b[39;00m:\n\u001b[0;32m--> 199\u001b[0m             result \u001b[38;5;241m=\u001b[39m \u001b[43mcontext\u001b[49m\u001b[38;5;241;43m.\u001b[39;49m\u001b[43mswitch\u001b[49m\u001b[43m(\u001b[49m\u001b[43mvalue\u001b[49m\u001b[43m)\u001b[49m\n\u001b[1;32m    200\u001b[0m \u001b[38;5;28;01mfinally\u001b[39;00m:\n\u001b[1;32m    201\u001b[0m     \u001b[38;5;66;03m# clean up to avoid cycle resolution by gc\u001b[39;00m\n\u001b[1;32m    202\u001b[0m     \u001b[38;5;28;01mdel\u001b[39;00m context\u001b[38;5;241m.\u001b[39mdriver\n",
      "File \u001b[0;32m~/anaconda3/envs/langchain/lib/python3.11/site-packages/sqlalchemy/orm/session.py:1972\u001b[0m, in \u001b[0;36mSession.commit\u001b[0;34m(self)\u001b[0m\n\u001b[1;32m   1969\u001b[0m \u001b[38;5;28;01mif\u001b[39;00m trans \u001b[38;5;129;01mis\u001b[39;00m \u001b[38;5;28;01mNone\u001b[39;00m:\n\u001b[1;32m   1970\u001b[0m     trans \u001b[38;5;241m=\u001b[39m \u001b[38;5;28mself\u001b[39m\u001b[38;5;241m.\u001b[39m_autobegin_t()\n\u001b[0;32m-> 1972\u001b[0m \u001b[43mtrans\u001b[49m\u001b[38;5;241;43m.\u001b[39;49m\u001b[43mcommit\u001b[49m\u001b[43m(\u001b[49m\u001b[43m_to_root\u001b[49m\u001b[38;5;241;43m=\u001b[39;49m\u001b[38;5;28;43;01mTrue\u001b[39;49;00m\u001b[43m)\u001b[49m\n",
      "File \u001b[0;32m<string>:2\u001b[0m, in \u001b[0;36mcommit\u001b[0;34m(self, _to_root)\u001b[0m\n",
      "File \u001b[0;32m~/anaconda3/envs/langchain/lib/python3.11/site-packages/sqlalchemy/orm/state_changes.py:139\u001b[0m, in \u001b[0;36m_StateChange.declare_states.<locals>._go\u001b[0;34m(fn, self, *arg, **kw)\u001b[0m\n\u001b[1;32m    137\u001b[0m \u001b[38;5;28mself\u001b[39m\u001b[38;5;241m.\u001b[39m_next_state \u001b[38;5;241m=\u001b[39m _StateChangeStates\u001b[38;5;241m.\u001b[39mCHANGE_IN_PROGRESS\n\u001b[1;32m    138\u001b[0m \u001b[38;5;28;01mtry\u001b[39;00m:\n\u001b[0;32m--> 139\u001b[0m     ret_value \u001b[38;5;241m=\u001b[39m \u001b[43mfn\u001b[49m\u001b[43m(\u001b[49m\u001b[38;5;28;43mself\u001b[39;49m\u001b[43m,\u001b[49m\u001b[43m \u001b[49m\u001b[38;5;241;43m*\u001b[39;49m\u001b[43marg\u001b[49m\u001b[43m,\u001b[49m\u001b[43m \u001b[49m\u001b[38;5;241;43m*\u001b[39;49m\u001b[38;5;241;43m*\u001b[39;49m\u001b[43mkw\u001b[49m\u001b[43m)\u001b[49m\n\u001b[1;32m    140\u001b[0m \u001b[38;5;28;01mexcept\u001b[39;00m:\n\u001b[1;32m    141\u001b[0m     \u001b[38;5;28;01mraise\u001b[39;00m\n",
      "File \u001b[0;32m~/anaconda3/envs/langchain/lib/python3.11/site-packages/sqlalchemy/orm/session.py:1257\u001b[0m, in \u001b[0;36mSessionTransaction.commit\u001b[0;34m(self, _to_root)\u001b[0m\n\u001b[1;32m   1255\u001b[0m \u001b[38;5;28;01mif\u001b[39;00m \u001b[38;5;28mself\u001b[39m\u001b[38;5;241m.\u001b[39m_state \u001b[38;5;129;01mis\u001b[39;00m \u001b[38;5;129;01mnot\u001b[39;00m SessionTransactionState\u001b[38;5;241m.\u001b[39mPREPARED:\n\u001b[1;32m   1256\u001b[0m     \u001b[38;5;28;01mwith\u001b[39;00m \u001b[38;5;28mself\u001b[39m\u001b[38;5;241m.\u001b[39m_expect_state(SessionTransactionState\u001b[38;5;241m.\u001b[39mPREPARED):\n\u001b[0;32m-> 1257\u001b[0m         \u001b[38;5;28;43mself\u001b[39;49m\u001b[38;5;241;43m.\u001b[39;49m\u001b[43m_prepare_impl\u001b[49m\u001b[43m(\u001b[49m\u001b[43m)\u001b[49m\n\u001b[1;32m   1259\u001b[0m \u001b[38;5;28;01mif\u001b[39;00m \u001b[38;5;28mself\u001b[39m\u001b[38;5;241m.\u001b[39m_parent \u001b[38;5;129;01mis\u001b[39;00m \u001b[38;5;28;01mNone\u001b[39;00m \u001b[38;5;129;01mor\u001b[39;00m \u001b[38;5;28mself\u001b[39m\u001b[38;5;241m.\u001b[39mnested:\n\u001b[1;32m   1260\u001b[0m     \u001b[38;5;28;01mfor\u001b[39;00m conn, trans, should_commit, autoclose \u001b[38;5;129;01min\u001b[39;00m \u001b[38;5;28mset\u001b[39m(\n\u001b[1;32m   1261\u001b[0m         \u001b[38;5;28mself\u001b[39m\u001b[38;5;241m.\u001b[39m_connections\u001b[38;5;241m.\u001b[39mvalues()\n\u001b[1;32m   1262\u001b[0m     ):\n",
      "File \u001b[0;32m<string>:2\u001b[0m, in \u001b[0;36m_prepare_impl\u001b[0;34m(self)\u001b[0m\n",
      "File \u001b[0;32m~/anaconda3/envs/langchain/lib/python3.11/site-packages/sqlalchemy/orm/state_changes.py:139\u001b[0m, in \u001b[0;36m_StateChange.declare_states.<locals>._go\u001b[0;34m(fn, self, *arg, **kw)\u001b[0m\n\u001b[1;32m    137\u001b[0m \u001b[38;5;28mself\u001b[39m\u001b[38;5;241m.\u001b[39m_next_state \u001b[38;5;241m=\u001b[39m _StateChangeStates\u001b[38;5;241m.\u001b[39mCHANGE_IN_PROGRESS\n\u001b[1;32m    138\u001b[0m \u001b[38;5;28;01mtry\u001b[39;00m:\n\u001b[0;32m--> 139\u001b[0m     ret_value \u001b[38;5;241m=\u001b[39m \u001b[43mfn\u001b[49m\u001b[43m(\u001b[49m\u001b[38;5;28;43mself\u001b[39;49m\u001b[43m,\u001b[49m\u001b[43m \u001b[49m\u001b[38;5;241;43m*\u001b[39;49m\u001b[43marg\u001b[49m\u001b[43m,\u001b[49m\u001b[43m \u001b[49m\u001b[38;5;241;43m*\u001b[39;49m\u001b[38;5;241;43m*\u001b[39;49m\u001b[43mkw\u001b[49m\u001b[43m)\u001b[49m\n\u001b[1;32m    140\u001b[0m \u001b[38;5;28;01mexcept\u001b[39;00m:\n\u001b[1;32m    141\u001b[0m     \u001b[38;5;28;01mraise\u001b[39;00m\n",
      "File \u001b[0;32m~/anaconda3/envs/langchain/lib/python3.11/site-packages/sqlalchemy/orm/session.py:1232\u001b[0m, in \u001b[0;36mSessionTransaction._prepare_impl\u001b[0;34m(self)\u001b[0m\n\u001b[1;32m   1230\u001b[0m     \u001b[38;5;28;01mif\u001b[39;00m \u001b[38;5;28mself\u001b[39m\u001b[38;5;241m.\u001b[39msession\u001b[38;5;241m.\u001b[39m_is_clean():\n\u001b[1;32m   1231\u001b[0m         \u001b[38;5;28;01mbreak\u001b[39;00m\n\u001b[0;32m-> 1232\u001b[0m     \u001b[38;5;28;43mself\u001b[39;49m\u001b[38;5;241;43m.\u001b[39;49m\u001b[43msession\u001b[49m\u001b[38;5;241;43m.\u001b[39;49m\u001b[43mflush\u001b[49m\u001b[43m(\u001b[49m\u001b[43m)\u001b[49m\n\u001b[1;32m   1233\u001b[0m \u001b[38;5;28;01melse\u001b[39;00m:\n\u001b[1;32m   1234\u001b[0m     \u001b[38;5;28;01mraise\u001b[39;00m exc\u001b[38;5;241m.\u001b[39mFlushError(\n\u001b[1;32m   1235\u001b[0m         \u001b[38;5;124m\"\u001b[39m\u001b[38;5;124mOver 100 subsequent flushes have occurred within \u001b[39m\u001b[38;5;124m\"\u001b[39m\n\u001b[1;32m   1236\u001b[0m         \u001b[38;5;124m\"\u001b[39m\u001b[38;5;124msession.commit() - is an after_flush() hook \u001b[39m\u001b[38;5;124m\"\u001b[39m\n\u001b[1;32m   1237\u001b[0m         \u001b[38;5;124m\"\u001b[39m\u001b[38;5;124mcreating new objects?\u001b[39m\u001b[38;5;124m\"\u001b[39m\n\u001b[1;32m   1238\u001b[0m     )\n",
      "File \u001b[0;32m~/anaconda3/envs/langchain/lib/python3.11/site-packages/sqlalchemy/orm/session.py:4296\u001b[0m, in \u001b[0;36mSession.flush\u001b[0;34m(self, objects)\u001b[0m\n\u001b[1;32m   4294\u001b[0m \u001b[38;5;28;01mtry\u001b[39;00m:\n\u001b[1;32m   4295\u001b[0m     \u001b[38;5;28mself\u001b[39m\u001b[38;5;241m.\u001b[39m_flushing \u001b[38;5;241m=\u001b[39m \u001b[38;5;28;01mTrue\u001b[39;00m\n\u001b[0;32m-> 4296\u001b[0m     \u001b[38;5;28;43mself\u001b[39;49m\u001b[38;5;241;43m.\u001b[39;49m\u001b[43m_flush\u001b[49m\u001b[43m(\u001b[49m\u001b[43mobjects\u001b[49m\u001b[43m)\u001b[49m\n\u001b[1;32m   4297\u001b[0m \u001b[38;5;28;01mfinally\u001b[39;00m:\n\u001b[1;32m   4298\u001b[0m     \u001b[38;5;28mself\u001b[39m\u001b[38;5;241m.\u001b[39m_flushing \u001b[38;5;241m=\u001b[39m \u001b[38;5;28;01mFalse\u001b[39;00m\n",
      "File \u001b[0;32m~/anaconda3/envs/langchain/lib/python3.11/site-packages/sqlalchemy/orm/session.py:4431\u001b[0m, in \u001b[0;36mSession._flush\u001b[0;34m(self, objects)\u001b[0m\n\u001b[1;32m   4428\u001b[0m     transaction\u001b[38;5;241m.\u001b[39mcommit()\n\u001b[1;32m   4430\u001b[0m \u001b[38;5;28;01mexcept\u001b[39;00m:\n\u001b[0;32m-> 4431\u001b[0m \u001b[43m    \u001b[49m\u001b[38;5;28;43;01mwith\u001b[39;49;00m\u001b[43m \u001b[49m\u001b[43mutil\u001b[49m\u001b[38;5;241;43m.\u001b[39;49m\u001b[43msafe_reraise\u001b[49m\u001b[43m(\u001b[49m\u001b[43m)\u001b[49m\u001b[43m:\u001b[49m\n\u001b[1;32m   4432\u001b[0m \u001b[43m        \u001b[49m\u001b[43mtransaction\u001b[49m\u001b[38;5;241;43m.\u001b[39;49m\u001b[43mrollback\u001b[49m\u001b[43m(\u001b[49m\u001b[43m_capture_exception\u001b[49m\u001b[38;5;241;43m=\u001b[39;49m\u001b[38;5;28;43;01mTrue\u001b[39;49;00m\u001b[43m)\u001b[49m\n",
      "File \u001b[0;32m~/anaconda3/envs/langchain/lib/python3.11/site-packages/sqlalchemy/util/langhelpers.py:146\u001b[0m, in \u001b[0;36msafe_reraise.__exit__\u001b[0;34m(self, type_, value, traceback)\u001b[0m\n\u001b[1;32m    144\u001b[0m     \u001b[38;5;28;01massert\u001b[39;00m exc_value \u001b[38;5;129;01mis\u001b[39;00m \u001b[38;5;129;01mnot\u001b[39;00m \u001b[38;5;28;01mNone\u001b[39;00m\n\u001b[1;32m    145\u001b[0m     \u001b[38;5;28mself\u001b[39m\u001b[38;5;241m.\u001b[39m_exc_info \u001b[38;5;241m=\u001b[39m \u001b[38;5;28;01mNone\u001b[39;00m  \u001b[38;5;66;03m# remove potential circular references\u001b[39;00m\n\u001b[0;32m--> 146\u001b[0m     \u001b[38;5;28;01mraise\u001b[39;00m exc_value\u001b[38;5;241m.\u001b[39mwith_traceback(exc_tb)\n\u001b[1;32m    147\u001b[0m \u001b[38;5;28;01melse\u001b[39;00m:\n\u001b[1;32m    148\u001b[0m     \u001b[38;5;28mself\u001b[39m\u001b[38;5;241m.\u001b[39m_exc_info \u001b[38;5;241m=\u001b[39m \u001b[38;5;28;01mNone\u001b[39;00m  \u001b[38;5;66;03m# remove potential circular references\u001b[39;00m\n",
      "File \u001b[0;32m~/anaconda3/envs/langchain/lib/python3.11/site-packages/sqlalchemy/orm/session.py:4392\u001b[0m, in \u001b[0;36mSession._flush\u001b[0;34m(self, objects)\u001b[0m\n\u001b[1;32m   4390\u001b[0m \u001b[38;5;28mself\u001b[39m\u001b[38;5;241m.\u001b[39m_warn_on_events \u001b[38;5;241m=\u001b[39m \u001b[38;5;28;01mTrue\u001b[39;00m\n\u001b[1;32m   4391\u001b[0m \u001b[38;5;28;01mtry\u001b[39;00m:\n\u001b[0;32m-> 4392\u001b[0m     \u001b[43mflush_context\u001b[49m\u001b[38;5;241;43m.\u001b[39;49m\u001b[43mexecute\u001b[49m\u001b[43m(\u001b[49m\u001b[43m)\u001b[49m\n\u001b[1;32m   4393\u001b[0m \u001b[38;5;28;01mfinally\u001b[39;00m:\n\u001b[1;32m   4394\u001b[0m     \u001b[38;5;28mself\u001b[39m\u001b[38;5;241m.\u001b[39m_warn_on_events \u001b[38;5;241m=\u001b[39m \u001b[38;5;28;01mFalse\u001b[39;00m\n",
      "File \u001b[0;32m~/anaconda3/envs/langchain/lib/python3.11/site-packages/sqlalchemy/orm/unitofwork.py:466\u001b[0m, in \u001b[0;36mUOWTransaction.execute\u001b[0;34m(self)\u001b[0m\n\u001b[1;32m    464\u001b[0m \u001b[38;5;28;01melse\u001b[39;00m:\n\u001b[1;32m    465\u001b[0m     \u001b[38;5;28;01mfor\u001b[39;00m rec \u001b[38;5;129;01min\u001b[39;00m topological\u001b[38;5;241m.\u001b[39msort(\u001b[38;5;28mself\u001b[39m\u001b[38;5;241m.\u001b[39mdependencies, postsort_actions):\n\u001b[0;32m--> 466\u001b[0m         \u001b[43mrec\u001b[49m\u001b[38;5;241;43m.\u001b[39;49m\u001b[43mexecute\u001b[49m\u001b[43m(\u001b[49m\u001b[38;5;28;43mself\u001b[39;49m\u001b[43m)\u001b[49m\n",
      "File \u001b[0;32m~/anaconda3/envs/langchain/lib/python3.11/site-packages/sqlalchemy/orm/unitofwork.py:642\u001b[0m, in \u001b[0;36mSaveUpdateAll.execute\u001b[0;34m(self, uow)\u001b[0m\n\u001b[1;32m    640\u001b[0m \u001b[38;5;129m@util\u001b[39m\u001b[38;5;241m.\u001b[39mpreload_module(\u001b[38;5;124m\"\u001b[39m\u001b[38;5;124msqlalchemy.orm.persistence\u001b[39m\u001b[38;5;124m\"\u001b[39m)\n\u001b[1;32m    641\u001b[0m \u001b[38;5;28;01mdef\u001b[39;00m \u001b[38;5;21mexecute\u001b[39m(\u001b[38;5;28mself\u001b[39m, uow):\n\u001b[0;32m--> 642\u001b[0m     \u001b[43mutil\u001b[49m\u001b[38;5;241;43m.\u001b[39;49m\u001b[43mpreloaded\u001b[49m\u001b[38;5;241;43m.\u001b[39;49m\u001b[43morm_persistence\u001b[49m\u001b[38;5;241;43m.\u001b[39;49m\u001b[43msave_obj\u001b[49m\u001b[43m(\u001b[49m\n\u001b[1;32m    643\u001b[0m \u001b[43m        \u001b[49m\u001b[38;5;28;43mself\u001b[39;49m\u001b[38;5;241;43m.\u001b[39;49m\u001b[43mmapper\u001b[49m\u001b[43m,\u001b[49m\n\u001b[1;32m    644\u001b[0m \u001b[43m        \u001b[49m\u001b[43muow\u001b[49m\u001b[38;5;241;43m.\u001b[39;49m\u001b[43mstates_for_mapper_hierarchy\u001b[49m\u001b[43m(\u001b[49m\u001b[38;5;28;43mself\u001b[39;49m\u001b[38;5;241;43m.\u001b[39;49m\u001b[43mmapper\u001b[49m\u001b[43m,\u001b[49m\u001b[43m \u001b[49m\u001b[38;5;28;43;01mFalse\u001b[39;49;00m\u001b[43m,\u001b[49m\u001b[43m \u001b[49m\u001b[38;5;28;43;01mFalse\u001b[39;49;00m\u001b[43m)\u001b[49m\u001b[43m,\u001b[49m\n\u001b[1;32m    645\u001b[0m \u001b[43m        \u001b[49m\u001b[43muow\u001b[49m\u001b[43m,\u001b[49m\n\u001b[1;32m    646\u001b[0m \u001b[43m    \u001b[49m\u001b[43m)\u001b[49m\n",
      "File \u001b[0;32m~/anaconda3/envs/langchain/lib/python3.11/site-packages/sqlalchemy/orm/persistence.py:93\u001b[0m, in \u001b[0;36msave_obj\u001b[0;34m(base_mapper, states, uowtransaction, single)\u001b[0m\n\u001b[1;32m     81\u001b[0m     update \u001b[38;5;241m=\u001b[39m _collect_update_commands(\n\u001b[1;32m     82\u001b[0m         uowtransaction, table, states_to_update\n\u001b[1;32m     83\u001b[0m     )\n\u001b[1;32m     85\u001b[0m     _emit_update_statements(\n\u001b[1;32m     86\u001b[0m         base_mapper,\n\u001b[1;32m     87\u001b[0m         uowtransaction,\n\u001b[0;32m   (...)\u001b[0m\n\u001b[1;32m     90\u001b[0m         update,\n\u001b[1;32m     91\u001b[0m     )\n\u001b[0;32m---> 93\u001b[0m     \u001b[43m_emit_insert_statements\u001b[49m\u001b[43m(\u001b[49m\n\u001b[1;32m     94\u001b[0m \u001b[43m        \u001b[49m\u001b[43mbase_mapper\u001b[49m\u001b[43m,\u001b[49m\n\u001b[1;32m     95\u001b[0m \u001b[43m        \u001b[49m\u001b[43muowtransaction\u001b[49m\u001b[43m,\u001b[49m\n\u001b[1;32m     96\u001b[0m \u001b[43m        \u001b[49m\u001b[43mmapper\u001b[49m\u001b[43m,\u001b[49m\n\u001b[1;32m     97\u001b[0m \u001b[43m        \u001b[49m\u001b[43mtable\u001b[49m\u001b[43m,\u001b[49m\n\u001b[1;32m     98\u001b[0m \u001b[43m        \u001b[49m\u001b[43minsert\u001b[49m\u001b[43m,\u001b[49m\n\u001b[1;32m     99\u001b[0m \u001b[43m    \u001b[49m\u001b[43m)\u001b[49m\n\u001b[1;32m    101\u001b[0m _finalize_insert_update_commands(\n\u001b[1;32m    102\u001b[0m     base_mapper,\n\u001b[1;32m    103\u001b[0m     uowtransaction,\n\u001b[0;32m   (...)\u001b[0m\n\u001b[1;32m    119\u001b[0m     ),\n\u001b[1;32m    120\u001b[0m )\n",
      "File \u001b[0;32m~/anaconda3/envs/langchain/lib/python3.11/site-packages/sqlalchemy/orm/persistence.py:1048\u001b[0m, in \u001b[0;36m_emit_insert_statements\u001b[0;34m(base_mapper, uowtransaction, mapper, table, insert, bookkeeping, use_orm_insert_stmt, execution_options)\u001b[0m\n\u001b[1;32m   1045\u001b[0m records \u001b[38;5;241m=\u001b[39m \u001b[38;5;28mlist\u001b[39m(records)\n\u001b[1;32m   1046\u001b[0m multiparams \u001b[38;5;241m=\u001b[39m [rec[\u001b[38;5;241m2\u001b[39m] \u001b[38;5;28;01mfor\u001b[39;00m rec \u001b[38;5;129;01min\u001b[39;00m records]\n\u001b[0;32m-> 1048\u001b[0m result \u001b[38;5;241m=\u001b[39m \u001b[43mconnection\u001b[49m\u001b[38;5;241;43m.\u001b[39;49m\u001b[43mexecute\u001b[49m\u001b[43m(\u001b[49m\n\u001b[1;32m   1049\u001b[0m \u001b[43m    \u001b[49m\u001b[43mstatement\u001b[49m\u001b[43m,\u001b[49m\u001b[43m \u001b[49m\u001b[43mmultiparams\u001b[49m\u001b[43m,\u001b[49m\u001b[43m \u001b[49m\u001b[43mexecution_options\u001b[49m\u001b[38;5;241;43m=\u001b[39;49m\u001b[43mexecution_options\u001b[49m\n\u001b[1;32m   1050\u001b[0m \u001b[43m\u001b[49m\u001b[43m)\u001b[49m\n\u001b[1;32m   1051\u001b[0m \u001b[38;5;28;01mif\u001b[39;00m bookkeeping:\n\u001b[1;32m   1052\u001b[0m     \u001b[38;5;28;01mfor\u001b[39;00m (\n\u001b[1;32m   1053\u001b[0m         (\n\u001b[1;32m   1054\u001b[0m             state,\n\u001b[0;32m   (...)\u001b[0m\n\u001b[1;32m   1063\u001b[0m         last_inserted_params,\n\u001b[1;32m   1064\u001b[0m     ) \u001b[38;5;129;01min\u001b[39;00m \u001b[38;5;28mzip\u001b[39m(records, result\u001b[38;5;241m.\u001b[39mcontext\u001b[38;5;241m.\u001b[39mcompiled_parameters):\n",
      "File \u001b[0;32m~/anaconda3/envs/langchain/lib/python3.11/site-packages/sqlalchemy/engine/base.py:1421\u001b[0m, in \u001b[0;36mConnection.execute\u001b[0;34m(self, statement, parameters, execution_options)\u001b[0m\n\u001b[1;32m   1419\u001b[0m     \u001b[38;5;28;01mraise\u001b[39;00m exc\u001b[38;5;241m.\u001b[39mObjectNotExecutableError(statement) \u001b[38;5;28;01mfrom\u001b[39;00m \u001b[38;5;21;01merr\u001b[39;00m\n\u001b[1;32m   1420\u001b[0m \u001b[38;5;28;01melse\u001b[39;00m:\n\u001b[0;32m-> 1421\u001b[0m     \u001b[38;5;28;01mreturn\u001b[39;00m \u001b[43mmeth\u001b[49m\u001b[43m(\u001b[49m\n\u001b[1;32m   1422\u001b[0m \u001b[43m        \u001b[49m\u001b[38;5;28;43mself\u001b[39;49m\u001b[43m,\u001b[49m\n\u001b[1;32m   1423\u001b[0m \u001b[43m        \u001b[49m\u001b[43mdistilled_parameters\u001b[49m\u001b[43m,\u001b[49m\n\u001b[1;32m   1424\u001b[0m \u001b[43m        \u001b[49m\u001b[43mexecution_options\u001b[49m\u001b[43m \u001b[49m\u001b[38;5;129;43;01mor\u001b[39;49;00m\u001b[43m \u001b[49m\u001b[43mNO_OPTIONS\u001b[49m\u001b[43m,\u001b[49m\n\u001b[1;32m   1425\u001b[0m \u001b[43m    \u001b[49m\u001b[43m)\u001b[49m\n",
      "File \u001b[0;32m~/anaconda3/envs/langchain/lib/python3.11/site-packages/sqlalchemy/sql/elements.py:514\u001b[0m, in \u001b[0;36mClauseElement._execute_on_connection\u001b[0;34m(self, connection, distilled_params, execution_options)\u001b[0m\n\u001b[1;32m    512\u001b[0m     \u001b[38;5;28;01mif\u001b[39;00m TYPE_CHECKING:\n\u001b[1;32m    513\u001b[0m         \u001b[38;5;28;01massert\u001b[39;00m \u001b[38;5;28misinstance\u001b[39m(\u001b[38;5;28mself\u001b[39m, Executable)\n\u001b[0;32m--> 514\u001b[0m     \u001b[38;5;28;01mreturn\u001b[39;00m \u001b[43mconnection\u001b[49m\u001b[38;5;241;43m.\u001b[39;49m\u001b[43m_execute_clauseelement\u001b[49m\u001b[43m(\u001b[49m\n\u001b[1;32m    515\u001b[0m \u001b[43m        \u001b[49m\u001b[38;5;28;43mself\u001b[39;49m\u001b[43m,\u001b[49m\u001b[43m \u001b[49m\u001b[43mdistilled_params\u001b[49m\u001b[43m,\u001b[49m\u001b[43m \u001b[49m\u001b[43mexecution_options\u001b[49m\n\u001b[1;32m    516\u001b[0m \u001b[43m    \u001b[49m\u001b[43m)\u001b[49m\n\u001b[1;32m    517\u001b[0m \u001b[38;5;28;01melse\u001b[39;00m:\n\u001b[1;32m    518\u001b[0m     \u001b[38;5;28;01mraise\u001b[39;00m exc\u001b[38;5;241m.\u001b[39mObjectNotExecutableError(\u001b[38;5;28mself\u001b[39m)\n",
      "File \u001b[0;32m~/anaconda3/envs/langchain/lib/python3.11/site-packages/sqlalchemy/engine/base.py:1643\u001b[0m, in \u001b[0;36mConnection._execute_clauseelement\u001b[0;34m(self, elem, distilled_parameters, execution_options)\u001b[0m\n\u001b[1;32m   1631\u001b[0m compiled_cache: Optional[CompiledCacheType] \u001b[38;5;241m=\u001b[39m execution_options\u001b[38;5;241m.\u001b[39mget(\n\u001b[1;32m   1632\u001b[0m     \u001b[38;5;124m\"\u001b[39m\u001b[38;5;124mcompiled_cache\u001b[39m\u001b[38;5;124m\"\u001b[39m, \u001b[38;5;28mself\u001b[39m\u001b[38;5;241m.\u001b[39mengine\u001b[38;5;241m.\u001b[39m_compiled_cache\n\u001b[1;32m   1633\u001b[0m )\n\u001b[1;32m   1635\u001b[0m compiled_sql, extracted_params, cache_hit \u001b[38;5;241m=\u001b[39m elem\u001b[38;5;241m.\u001b[39m_compile_w_cache(\n\u001b[1;32m   1636\u001b[0m     dialect\u001b[38;5;241m=\u001b[39mdialect,\n\u001b[1;32m   1637\u001b[0m     compiled_cache\u001b[38;5;241m=\u001b[39mcompiled_cache,\n\u001b[0;32m   (...)\u001b[0m\n\u001b[1;32m   1641\u001b[0m     linting\u001b[38;5;241m=\u001b[39m\u001b[38;5;28mself\u001b[39m\u001b[38;5;241m.\u001b[39mdialect\u001b[38;5;241m.\u001b[39mcompiler_linting \u001b[38;5;241m|\u001b[39m compiler\u001b[38;5;241m.\u001b[39mWARN_LINTING,\n\u001b[1;32m   1642\u001b[0m )\n\u001b[0;32m-> 1643\u001b[0m ret \u001b[38;5;241m=\u001b[39m \u001b[38;5;28;43mself\u001b[39;49m\u001b[38;5;241;43m.\u001b[39;49m\u001b[43m_execute_context\u001b[49m\u001b[43m(\u001b[49m\n\u001b[1;32m   1644\u001b[0m \u001b[43m    \u001b[49m\u001b[43mdialect\u001b[49m\u001b[43m,\u001b[49m\n\u001b[1;32m   1645\u001b[0m \u001b[43m    \u001b[49m\u001b[43mdialect\u001b[49m\u001b[38;5;241;43m.\u001b[39;49m\u001b[43mexecution_ctx_cls\u001b[49m\u001b[38;5;241;43m.\u001b[39;49m\u001b[43m_init_compiled\u001b[49m\u001b[43m,\u001b[49m\n\u001b[1;32m   1646\u001b[0m \u001b[43m    \u001b[49m\u001b[43mcompiled_sql\u001b[49m\u001b[43m,\u001b[49m\n\u001b[1;32m   1647\u001b[0m \u001b[43m    \u001b[49m\u001b[43mdistilled_parameters\u001b[49m\u001b[43m,\u001b[49m\n\u001b[1;32m   1648\u001b[0m \u001b[43m    \u001b[49m\u001b[43mexecution_options\u001b[49m\u001b[43m,\u001b[49m\n\u001b[1;32m   1649\u001b[0m \u001b[43m    \u001b[49m\u001b[43mcompiled_sql\u001b[49m\u001b[43m,\u001b[49m\n\u001b[1;32m   1650\u001b[0m \u001b[43m    \u001b[49m\u001b[43mdistilled_parameters\u001b[49m\u001b[43m,\u001b[49m\n\u001b[1;32m   1651\u001b[0m \u001b[43m    \u001b[49m\u001b[43melem\u001b[49m\u001b[43m,\u001b[49m\n\u001b[1;32m   1652\u001b[0m \u001b[43m    \u001b[49m\u001b[43mextracted_params\u001b[49m\u001b[43m,\u001b[49m\n\u001b[1;32m   1653\u001b[0m \u001b[43m    \u001b[49m\u001b[43mcache_hit\u001b[49m\u001b[38;5;241;43m=\u001b[39;49m\u001b[43mcache_hit\u001b[49m\u001b[43m,\u001b[49m\n\u001b[1;32m   1654\u001b[0m \u001b[43m\u001b[49m\u001b[43m)\u001b[49m\n\u001b[1;32m   1655\u001b[0m \u001b[38;5;28;01mif\u001b[39;00m has_events:\n\u001b[1;32m   1656\u001b[0m     \u001b[38;5;28mself\u001b[39m\u001b[38;5;241m.\u001b[39mdispatch\u001b[38;5;241m.\u001b[39mafter_execute(\n\u001b[1;32m   1657\u001b[0m         \u001b[38;5;28mself\u001b[39m,\n\u001b[1;32m   1658\u001b[0m         elem,\n\u001b[0;32m   (...)\u001b[0m\n\u001b[1;32m   1662\u001b[0m         ret,\n\u001b[1;32m   1663\u001b[0m     )\n",
      "File \u001b[0;32m~/anaconda3/envs/langchain/lib/python3.11/site-packages/sqlalchemy/engine/base.py:1849\u001b[0m, in \u001b[0;36mConnection._execute_context\u001b[0;34m(self, dialect, constructor, statement, parameters, execution_options, *args, **kw)\u001b[0m\n\u001b[1;32m   1847\u001b[0m     \u001b[38;5;28;01mreturn\u001b[39;00m \u001b[38;5;28mself\u001b[39m\u001b[38;5;241m.\u001b[39m_exec_insertmany_context(dialect, context)\n\u001b[1;32m   1848\u001b[0m \u001b[38;5;28;01melse\u001b[39;00m:\n\u001b[0;32m-> 1849\u001b[0m     \u001b[38;5;28;01mreturn\u001b[39;00m \u001b[38;5;28;43mself\u001b[39;49m\u001b[38;5;241;43m.\u001b[39;49m\u001b[43m_exec_single_context\u001b[49m\u001b[43m(\u001b[49m\n\u001b[1;32m   1850\u001b[0m \u001b[43m        \u001b[49m\u001b[43mdialect\u001b[49m\u001b[43m,\u001b[49m\u001b[43m \u001b[49m\u001b[43mcontext\u001b[49m\u001b[43m,\u001b[49m\u001b[43m \u001b[49m\u001b[43mstatement\u001b[49m\u001b[43m,\u001b[49m\u001b[43m \u001b[49m\u001b[43mparameters\u001b[49m\n\u001b[1;32m   1851\u001b[0m \u001b[43m    \u001b[49m\u001b[43m)\u001b[49m\n",
      "File \u001b[0;32m~/anaconda3/envs/langchain/lib/python3.11/site-packages/sqlalchemy/engine/base.py:1989\u001b[0m, in \u001b[0;36mConnection._exec_single_context\u001b[0;34m(self, dialect, context, statement, parameters)\u001b[0m\n\u001b[1;32m   1986\u001b[0m     result \u001b[38;5;241m=\u001b[39m context\u001b[38;5;241m.\u001b[39m_setup_result_proxy()\n\u001b[1;32m   1988\u001b[0m \u001b[38;5;28;01mexcept\u001b[39;00m \u001b[38;5;167;01mBaseException\u001b[39;00m \u001b[38;5;28;01mas\u001b[39;00m e:\n\u001b[0;32m-> 1989\u001b[0m     \u001b[38;5;28;43mself\u001b[39;49m\u001b[38;5;241;43m.\u001b[39;49m\u001b[43m_handle_dbapi_exception\u001b[49m\u001b[43m(\u001b[49m\n\u001b[1;32m   1990\u001b[0m \u001b[43m        \u001b[49m\u001b[43me\u001b[49m\u001b[43m,\u001b[49m\u001b[43m \u001b[49m\u001b[43mstr_statement\u001b[49m\u001b[43m,\u001b[49m\u001b[43m \u001b[49m\u001b[43meffective_parameters\u001b[49m\u001b[43m,\u001b[49m\u001b[43m \u001b[49m\u001b[43mcursor\u001b[49m\u001b[43m,\u001b[49m\u001b[43m \u001b[49m\u001b[43mcontext\u001b[49m\n\u001b[1;32m   1991\u001b[0m \u001b[43m    \u001b[49m\u001b[43m)\u001b[49m\n\u001b[1;32m   1993\u001b[0m \u001b[38;5;28;01mreturn\u001b[39;00m result\n",
      "File \u001b[0;32m~/anaconda3/envs/langchain/lib/python3.11/site-packages/sqlalchemy/engine/base.py:2356\u001b[0m, in \u001b[0;36mConnection._handle_dbapi_exception\u001b[0;34m(self, e, statement, parameters, cursor, context, is_sub_exec)\u001b[0m\n\u001b[1;32m   2354\u001b[0m \u001b[38;5;28;01melif\u001b[39;00m should_wrap:\n\u001b[1;32m   2355\u001b[0m     \u001b[38;5;28;01massert\u001b[39;00m sqlalchemy_exception \u001b[38;5;129;01mis\u001b[39;00m \u001b[38;5;129;01mnot\u001b[39;00m \u001b[38;5;28;01mNone\u001b[39;00m\n\u001b[0;32m-> 2356\u001b[0m     \u001b[38;5;28;01mraise\u001b[39;00m sqlalchemy_exception\u001b[38;5;241m.\u001b[39mwith_traceback(exc_info[\u001b[38;5;241m2\u001b[39m]) \u001b[38;5;28;01mfrom\u001b[39;00m \u001b[38;5;21;01me\u001b[39;00m\n\u001b[1;32m   2357\u001b[0m \u001b[38;5;28;01melse\u001b[39;00m:\n\u001b[1;32m   2358\u001b[0m     \u001b[38;5;28;01massert\u001b[39;00m exc_info[\u001b[38;5;241m1\u001b[39m] \u001b[38;5;129;01mis\u001b[39;00m \u001b[38;5;129;01mnot\u001b[39;00m \u001b[38;5;28;01mNone\u001b[39;00m\n",
      "File \u001b[0;32m~/anaconda3/envs/langchain/lib/python3.11/site-packages/sqlalchemy/engine/base.py:1970\u001b[0m, in \u001b[0;36mConnection._exec_single_context\u001b[0;34m(self, dialect, context, statement, parameters)\u001b[0m\n\u001b[1;32m   1968\u001b[0m                 \u001b[38;5;28;01mbreak\u001b[39;00m\n\u001b[1;32m   1969\u001b[0m     \u001b[38;5;28;01mif\u001b[39;00m \u001b[38;5;129;01mnot\u001b[39;00m evt_handled:\n\u001b[0;32m-> 1970\u001b[0m         \u001b[38;5;28;43mself\u001b[39;49m\u001b[38;5;241;43m.\u001b[39;49m\u001b[43mdialect\u001b[49m\u001b[38;5;241;43m.\u001b[39;49m\u001b[43mdo_execute\u001b[49m\u001b[43m(\u001b[49m\n\u001b[1;32m   1971\u001b[0m \u001b[43m            \u001b[49m\u001b[43mcursor\u001b[49m\u001b[43m,\u001b[49m\u001b[43m \u001b[49m\u001b[43mstr_statement\u001b[49m\u001b[43m,\u001b[49m\u001b[43m \u001b[49m\u001b[43meffective_parameters\u001b[49m\u001b[43m,\u001b[49m\u001b[43m \u001b[49m\u001b[43mcontext\u001b[49m\n\u001b[1;32m   1972\u001b[0m \u001b[43m        \u001b[49m\u001b[43m)\u001b[49m\n\u001b[1;32m   1974\u001b[0m \u001b[38;5;28;01mif\u001b[39;00m \u001b[38;5;28mself\u001b[39m\u001b[38;5;241m.\u001b[39m_has_events \u001b[38;5;129;01mor\u001b[39;00m \u001b[38;5;28mself\u001b[39m\u001b[38;5;241m.\u001b[39mengine\u001b[38;5;241m.\u001b[39m_has_events:\n\u001b[1;32m   1975\u001b[0m     \u001b[38;5;28mself\u001b[39m\u001b[38;5;241m.\u001b[39mdispatch\u001b[38;5;241m.\u001b[39mafter_cursor_execute(\n\u001b[1;32m   1976\u001b[0m         \u001b[38;5;28mself\u001b[39m,\n\u001b[1;32m   1977\u001b[0m         cursor,\n\u001b[0;32m   (...)\u001b[0m\n\u001b[1;32m   1981\u001b[0m         context\u001b[38;5;241m.\u001b[39mexecutemany,\n\u001b[1;32m   1982\u001b[0m     )\n",
      "File \u001b[0;32m~/anaconda3/envs/langchain/lib/python3.11/site-packages/sqlalchemy/engine/default.py:924\u001b[0m, in \u001b[0;36mDefaultDialect.do_execute\u001b[0;34m(self, cursor, statement, parameters, context)\u001b[0m\n\u001b[1;32m    923\u001b[0m \u001b[38;5;28;01mdef\u001b[39;00m \u001b[38;5;21mdo_execute\u001b[39m(\u001b[38;5;28mself\u001b[39m, cursor, statement, parameters, context\u001b[38;5;241m=\u001b[39m\u001b[38;5;28;01mNone\u001b[39;00m):\n\u001b[0;32m--> 924\u001b[0m     \u001b[43mcursor\u001b[49m\u001b[38;5;241;43m.\u001b[39;49m\u001b[43mexecute\u001b[49m\u001b[43m(\u001b[49m\u001b[43mstatement\u001b[49m\u001b[43m,\u001b[49m\u001b[43m \u001b[49m\u001b[43mparameters\u001b[49m\u001b[43m)\u001b[49m\n",
      "File \u001b[0;32m~/anaconda3/envs/langchain/lib/python3.11/site-packages/sqlalchemy/dialects/postgresql/asyncpg.py:572\u001b[0m, in \u001b[0;36mAsyncAdapt_asyncpg_cursor.execute\u001b[0;34m(self, operation, parameters)\u001b[0m\n\u001b[1;32m    571\u001b[0m \u001b[38;5;28;01mdef\u001b[39;00m \u001b[38;5;21mexecute\u001b[39m(\u001b[38;5;28mself\u001b[39m, operation, parameters\u001b[38;5;241m=\u001b[39m\u001b[38;5;28;01mNone\u001b[39;00m):\n\u001b[0;32m--> 572\u001b[0m     \u001b[38;5;28;43mself\u001b[39;49m\u001b[38;5;241;43m.\u001b[39;49m\u001b[43m_adapt_connection\u001b[49m\u001b[38;5;241;43m.\u001b[39;49m\u001b[43mawait_\u001b[49m\u001b[43m(\u001b[49m\n\u001b[1;32m    573\u001b[0m \u001b[43m        \u001b[49m\u001b[38;5;28;43mself\u001b[39;49m\u001b[38;5;241;43m.\u001b[39;49m\u001b[43m_prepare_and_execute\u001b[49m\u001b[43m(\u001b[49m\u001b[43moperation\u001b[49m\u001b[43m,\u001b[49m\u001b[43m \u001b[49m\u001b[43mparameters\u001b[49m\u001b[43m)\u001b[49m\n\u001b[1;32m    574\u001b[0m \u001b[43m    \u001b[49m\u001b[43m)\u001b[49m\n",
      "File \u001b[0;32m~/anaconda3/envs/langchain/lib/python3.11/site-packages/sqlalchemy/util/_concurrency_py3k.py:127\u001b[0m, in \u001b[0;36mawait_only\u001b[0;34m(awaitable)\u001b[0m\n\u001b[1;32m    118\u001b[0m     \u001b[38;5;28;01mraise\u001b[39;00m exc\u001b[38;5;241m.\u001b[39mMissingGreenlet(\n\u001b[1;32m    119\u001b[0m         \u001b[38;5;124m\"\u001b[39m\u001b[38;5;124mgreenlet_spawn has not been called; can\u001b[39m\u001b[38;5;124m'\u001b[39m\u001b[38;5;124mt call await_only() \u001b[39m\u001b[38;5;124m\"\u001b[39m\n\u001b[1;32m    120\u001b[0m         \u001b[38;5;124m\"\u001b[39m\u001b[38;5;124mhere. Was IO attempted in an unexpected place?\u001b[39m\u001b[38;5;124m\"\u001b[39m\n\u001b[1;32m    121\u001b[0m     )\n\u001b[1;32m    123\u001b[0m \u001b[38;5;66;03m# returns the control to the driver greenlet passing it\u001b[39;00m\n\u001b[1;32m    124\u001b[0m \u001b[38;5;66;03m# a coroutine to run. Once the awaitable is done, the driver greenlet\u001b[39;00m\n\u001b[1;32m    125\u001b[0m \u001b[38;5;66;03m# switches back to this greenlet with the result of awaitable that is\u001b[39;00m\n\u001b[1;32m    126\u001b[0m \u001b[38;5;66;03m# then returned to the caller (or raised as error)\u001b[39;00m\n\u001b[0;32m--> 127\u001b[0m \u001b[38;5;28;01mreturn\u001b[39;00m \u001b[43mcurrent\u001b[49m\u001b[38;5;241;43m.\u001b[39;49m\u001b[43mdriver\u001b[49m\u001b[38;5;241;43m.\u001b[39;49m\u001b[43mswitch\u001b[49m\u001b[43m(\u001b[49m\u001b[43mawaitable\u001b[49m\u001b[43m)\u001b[49m\n",
      "File \u001b[0;32m~/anaconda3/envs/langchain/lib/python3.11/site-packages/sqlalchemy/util/_concurrency_py3k.py:192\u001b[0m, in \u001b[0;36mgreenlet_spawn\u001b[0;34m(fn, _require_await, *args, **kwargs)\u001b[0m\n\u001b[1;32m    188\u001b[0m switch_occurred \u001b[38;5;241m=\u001b[39m \u001b[38;5;28;01mTrue\u001b[39;00m\n\u001b[1;32m    189\u001b[0m \u001b[38;5;28;01mtry\u001b[39;00m:\n\u001b[1;32m    190\u001b[0m     \u001b[38;5;66;03m# wait for a coroutine from await_only and then return its\u001b[39;00m\n\u001b[1;32m    191\u001b[0m     \u001b[38;5;66;03m# result back to it.\u001b[39;00m\n\u001b[0;32m--> 192\u001b[0m     value \u001b[38;5;241m=\u001b[39m \u001b[38;5;28;01mawait\u001b[39;00m result\n\u001b[1;32m    193\u001b[0m \u001b[38;5;28;01mexcept\u001b[39;00m \u001b[38;5;167;01mBaseException\u001b[39;00m:\n\u001b[1;32m    194\u001b[0m     \u001b[38;5;66;03m# this allows an exception to be raised within\u001b[39;00m\n\u001b[1;32m    195\u001b[0m     \u001b[38;5;66;03m# the moderated greenlet so that it can continue\u001b[39;00m\n\u001b[1;32m    196\u001b[0m     \u001b[38;5;66;03m# its expected flow.\u001b[39;00m\n\u001b[1;32m    197\u001b[0m     result \u001b[38;5;241m=\u001b[39m context\u001b[38;5;241m.\u001b[39mthrow(\u001b[38;5;241m*\u001b[39msys\u001b[38;5;241m.\u001b[39mexc_info())\n",
      "File \u001b[0;32m~/anaconda3/envs/langchain/lib/python3.11/site-packages/sqlalchemy/dialects/postgresql/asyncpg.py:550\u001b[0m, in \u001b[0;36mAsyncAdapt_asyncpg_cursor._prepare_and_execute\u001b[0;34m(self, operation, parameters)\u001b[0m\n\u001b[1;32m    547\u001b[0m             \u001b[38;5;28mself\u001b[39m\u001b[38;5;241m.\u001b[39mrowcount \u001b[38;5;241m=\u001b[39m \u001b[38;5;241m-\u001b[39m\u001b[38;5;241m1\u001b[39m\n\u001b[1;32m    549\u001b[0m \u001b[38;5;28;01mexcept\u001b[39;00m \u001b[38;5;167;01mException\u001b[39;00m \u001b[38;5;28;01mas\u001b[39;00m error:\n\u001b[0;32m--> 550\u001b[0m     \u001b[38;5;28;43mself\u001b[39;49m\u001b[38;5;241;43m.\u001b[39;49m\u001b[43m_handle_exception\u001b[49m\u001b[43m(\u001b[49m\u001b[43merror\u001b[49m\u001b[43m)\u001b[49m\n",
      "File \u001b[0;32m~/anaconda3/envs/langchain/lib/python3.11/site-packages/sqlalchemy/dialects/postgresql/asyncpg.py:501\u001b[0m, in \u001b[0;36mAsyncAdapt_asyncpg_cursor._handle_exception\u001b[0;34m(self, error)\u001b[0m\n\u001b[1;32m    500\u001b[0m \u001b[38;5;28;01mdef\u001b[39;00m \u001b[38;5;21m_handle_exception\u001b[39m(\u001b[38;5;28mself\u001b[39m, error):\n\u001b[0;32m--> 501\u001b[0m     \u001b[38;5;28;43mself\u001b[39;49m\u001b[38;5;241;43m.\u001b[39;49m\u001b[43m_adapt_connection\u001b[49m\u001b[38;5;241;43m.\u001b[39;49m\u001b[43m_handle_exception\u001b[49m\u001b[43m(\u001b[49m\u001b[43merror\u001b[49m\u001b[43m)\u001b[49m\n",
      "File \u001b[0;32m~/anaconda3/envs/langchain/lib/python3.11/site-packages/sqlalchemy/dialects/postgresql/asyncpg.py:789\u001b[0m, in \u001b[0;36mAsyncAdapt_asyncpg_connection._handle_exception\u001b[0;34m(self, error)\u001b[0m\n\u001b[1;32m    783\u001b[0m         translated_error \u001b[38;5;241m=\u001b[39m exception_mapping[super_](\n\u001b[1;32m    784\u001b[0m             \u001b[38;5;124m\"\u001b[39m\u001b[38;5;132;01m%s\u001b[39;00m\u001b[38;5;124m: \u001b[39m\u001b[38;5;132;01m%s\u001b[39;00m\u001b[38;5;124m\"\u001b[39m \u001b[38;5;241m%\u001b[39m (\u001b[38;5;28mtype\u001b[39m(error), error)\n\u001b[1;32m    785\u001b[0m         )\n\u001b[1;32m    786\u001b[0m         translated_error\u001b[38;5;241m.\u001b[39mpgcode \u001b[38;5;241m=\u001b[39m translated_error\u001b[38;5;241m.\u001b[39msqlstate \u001b[38;5;241m=\u001b[39m (\n\u001b[1;32m    787\u001b[0m             \u001b[38;5;28mgetattr\u001b[39m(error, \u001b[38;5;124m\"\u001b[39m\u001b[38;5;124msqlstate\u001b[39m\u001b[38;5;124m\"\u001b[39m, \u001b[38;5;28;01mNone\u001b[39;00m)\n\u001b[1;32m    788\u001b[0m         )\n\u001b[0;32m--> 789\u001b[0m         \u001b[38;5;28;01mraise\u001b[39;00m translated_error \u001b[38;5;28;01mfrom\u001b[39;00m \u001b[38;5;21;01merror\u001b[39;00m\n\u001b[1;32m    790\u001b[0m \u001b[38;5;28;01melse\u001b[39;00m:\n\u001b[1;32m    791\u001b[0m     \u001b[38;5;28;01mraise\u001b[39;00m error\n",
      "\u001b[0;31mIntegrityError\u001b[0m: (sqlalchemy.dialects.postgresql.asyncpg.IntegrityError) <class 'asyncpg.exceptions.ForeignKeyViolationError'>: insert or update on table \"default_access\" violates foreign key constraint \"default_access_owner_user_id_fkey\"\nDETAIL:  Key (owner_user_id)=(ef7c085b-fdb5-4c94-b7b6-a61a3d04c210) is not present in table \"users\".\n[SQL: INSERT INTO default_access (owner_user_id, granted_user_id, access_level, created_at) VALUES ($1::UUID, $2::UUID, $3::VARCHAR, $4::TIMESTAMP WITH TIME ZONE)]\n[parameters: ('ef7c085b-fdb5-4c94-b7b6-a61a3d04c210', '8b767b85-44fb-4c20-97df-7aa172242273', 'search', datetime.datetime(2024, 10, 29, 16, 49, 57, 38839))]\n(Background on this error at: https://sqlalche.me/e/20/gkpj)"
     ]
    }
   ],
   "source": [
    "async with get_session() as session:\n",
    "    await set_default_access(\n",
    "        session,\n",
    "        owner_user_id=vexa.user_id,\n",
    "        granted_user_id=olga_id,\n",
    "        access_level=AccessLevel.SEARCH\n",
    "    )\n"
   ]
  },
  {
   "cell_type": "code",
   "execution_count": 9,
   "metadata": {},
   "outputs": [],
   "source": [
    "from psql_models import get_accessible_meetings,get_session,set_default_access,AccessLevel,read_table_async,DefaultAccess,UserMeeting"
   ]
  },
  {
   "cell_type": "code",
   "execution_count": 10,
   "metadata": {},
   "outputs": [
    {
     "data": {
      "text/html": [
       "<div>\n",
       "<style scoped>\n",
       "    .dataframe tbody tr th:only-of-type {\n",
       "        vertical-align: middle;\n",
       "    }\n",
       "\n",
       "    .dataframe tbody tr th {\n",
       "        vertical-align: top;\n",
       "    }\n",
       "\n",
       "    .dataframe thead th {\n",
       "        text-align: right;\n",
       "    }\n",
       "</style>\n",
       "<table border=\"1\" class=\"dataframe\">\n",
       "  <thead>\n",
       "    <tr style=\"text-align: right;\">\n",
       "      <th></th>\n",
       "    </tr>\n",
       "  </thead>\n",
       "  <tbody>\n",
       "  </tbody>\n",
       "</table>\n",
       "</div>"
      ],
      "text/plain": [
       "Empty DataFrame\n",
       "Columns: []\n",
       "Index: []"
      ]
     },
     "execution_count": 10,
     "metadata": {},
     "output_type": "execute_result"
    }
   ],
   "source": [
    "await read_table_async(DefaultAccess)"
   ]
  },
  {
   "cell_type": "code",
   "execution_count": 11,
   "metadata": {},
   "outputs": [
    {
     "data": {
      "text/html": [
       "<div>\n",
       "<style scoped>\n",
       "    .dataframe tbody tr th:only-of-type {\n",
       "        vertical-align: middle;\n",
       "    }\n",
       "\n",
       "    .dataframe tbody tr th {\n",
       "        vertical-align: top;\n",
       "    }\n",
       "\n",
       "    .dataframe thead th {\n",
       "        text-align: right;\n",
       "    }\n",
       "</style>\n",
       "<table border=\"1\" class=\"dataframe\">\n",
       "  <thead>\n",
       "    <tr style=\"text-align: right;\">\n",
       "      <th></th>\n",
       "    </tr>\n",
       "  </thead>\n",
       "  <tbody>\n",
       "  </tbody>\n",
       "</table>\n",
       "</div>"
      ],
      "text/plain": [
       "Empty DataFrame\n",
       "Columns: []\n",
       "Index: []"
      ]
     },
     "execution_count": 11,
     "metadata": {},
     "output_type": "execute_result"
    }
   ],
   "source": [
    "await read_table_async(UserMeeting)"
   ]
  },
  {
   "cell_type": "code",
   "execution_count": 2,
   "metadata": {},
   "outputs": [],
   "source": []
  },
  {
   "cell_type": "code",
   "execution_count": 5,
   "metadata": {},
   "outputs": [],
   "source": [
    "async with get_session() as session:\n",
    "    # Set default search access\n",
    "    await set_default_access(\n",
    "        session,\n",
    "        owner_user_id=vexa.user_id,\n",
    "        granted_user_id='ef7c085b-fdb5-4c94-b7b6-a61a3d04c210',\n",
    "        access_level=AccessLevel.TRANSCRIPT\n",
    "    )"
   ]
  },
  {
   "cell_type": "code",
   "execution_count": null,
   "metadata": {},
   "outputs": [],
   "source": []
  },
  {
   "cell_type": "code",
   "execution_count": null,
   "metadata": {},
   "outputs": [],
   "source": [
    "'ef7c085b-fdb5-4c94-b7b6-a61a3d04c210'"
   ]
  },
  {
   "cell_type": "code",
   "execution_count": null,
   "metadata": {},
   "outputs": [],
   "source": []
  },
  {
   "cell_type": "code",
   "execution_count": 21,
   "metadata": {},
   "outputs": [
    {
     "data": {
      "text/plain": [
       "'8b767b85-44fb-4c20-97df-7aa172242273'"
      ]
     },
     "execution_count": 21,
     "metadata": {},
     "output_type": "execute_result"
    }
   ],
   "source": [
    "vexa.user_id"
   ]
  },
  {
   "cell_type": "code",
   "execution_count": 7,
   "metadata": {},
   "outputs": [
    {
     "name": "stdout",
     "output_type": "stream",
     "text": [
      "[<psql_models.Meeting object at 0x7f4224f1fc50>, <psql_models.Meeting object at 0x7f4224f10c90>, <psql_models.Meeting object at 0x7f4224f1fd10>, <psql_models.Meeting object at 0x7f4224f1fd90>, <psql_models.Meeting object at 0x7f4224f1fe10>, <psql_models.Meeting object at 0x7f4224f1fed0>, <psql_models.Meeting object at 0x7f4224f1ff50>, <psql_models.Meeting object at 0x7f4224f1ffd0>, <psql_models.Meeting object at 0x7f4224f34090>, <psql_models.Meeting object at 0x7f4224f1fe90>, <psql_models.Meeting object at 0x7f4224f34150>, <psql_models.Meeting object at 0x7f4224f341d0>, <psql_models.Meeting object at 0x7f4224f34250>, <psql_models.Meeting object at 0x7f4224f342d0>, <psql_models.Meeting object at 0x7f4224f34350>, <psql_models.Meeting object at 0x7f4224f343d0>, <psql_models.Meeting object at 0x7f4224f34450>, <psql_models.Meeting object at 0x7f4224f344d0>, <psql_models.Meeting object at 0x7f4224f34590>, <psql_models.Meeting object at 0x7f4224f34690>, <psql_models.Meeting object at 0x7f4224f34790>, <psql_models.Meeting object at 0x7f4224f34890>, <psql_models.Meeting object at 0x7f4224f34990>, <psql_models.Meeting object at 0x7f4224f34a90>, <psql_models.Meeting object at 0x7f4224f34b90>, <psql_models.Meeting object at 0x7f4224f34c90>, <psql_models.Meeting object at 0x7f4224f34d90>, <psql_models.Meeting object at 0x7f4224f34e90>, <psql_models.Meeting object at 0x7f4224f34f90>, <psql_models.Meeting object at 0x7f4224f35090>, <psql_models.Meeting object at 0x7f4224f35190>, <psql_models.Meeting object at 0x7f4224f35290>, <psql_models.Meeting object at 0x7f4224f35390>, <psql_models.Meeting object at 0x7f4224f35490>, <psql_models.Meeting object at 0x7f4224f35590>, <psql_models.Meeting object at 0x7f4224f35690>, <psql_models.Meeting object at 0x7f4224f35790>, <psql_models.Meeting object at 0x7f4224f35890>, <psql_models.Meeting object at 0x7f4224f35990>, <psql_models.Meeting object at 0x7f4224f35a90>, <psql_models.Meeting object at 0x7f4224f35b90>, <psql_models.Meeting object at 0x7f4224f35c90>, <psql_models.Meeting object at 0x7f4224f35d90>, <psql_models.Meeting object at 0x7f4224f35e90>, <psql_models.Meeting object at 0x7f4224f35f90>, <psql_models.Meeting object at 0x7f4224f36090>, <psql_models.Meeting object at 0x7f4224f36190>, <psql_models.Meeting object at 0x7f4224f36290>, <psql_models.Meeting object at 0x7f4224f36390>, <psql_models.Meeting object at 0x7f4224f36490>, <psql_models.Meeting object at 0x7f4224f36590>, <psql_models.Meeting object at 0x7f4224f36690>, <psql_models.Meeting object at 0x7f4224f36790>, <psql_models.Meeting object at 0x7f4224f36890>, <psql_models.Meeting object at 0x7f4224f36990>, <psql_models.Meeting object at 0x7f4224f36a90>, <psql_models.Meeting object at 0x7f4224f36b90>, <psql_models.Meeting object at 0x7f4224f36c90>, <psql_models.Meeting object at 0x7f4224f36d90>, <psql_models.Meeting object at 0x7f4224f36e90>, <psql_models.Meeting object at 0x7f4224f36f90>, <psql_models.Meeting object at 0x7f4224f37090>, <psql_models.Meeting object at 0x7f4224f37190>, <psql_models.Meeting object at 0x7f4224f37290>, <psql_models.Meeting object at 0x7f4224f37390>, <psql_models.Meeting object at 0x7f4224f37490>, <psql_models.Meeting object at 0x7f4224f375d0>, <psql_models.Meeting object at 0x7f4224f37710>, <psql_models.Meeting object at 0x7f4224f37850>, <psql_models.Meeting object at 0x7f4224f37990>, <psql_models.Meeting object at 0x7f4224f37ad0>, <psql_models.Meeting object at 0x7f4224f37c10>, <psql_models.Meeting object at 0x7f4224f37d50>, <psql_models.Meeting object at 0x7f4224f37e90>, <psql_models.Meeting object at 0x7f4224f37fd0>, <psql_models.Meeting object at 0x7f4224f3c150>, <psql_models.Meeting object at 0x7f4224f3c290>, <psql_models.Meeting object at 0x7f4224f3c3d0>, <psql_models.Meeting object at 0x7f4224f3c510>, <psql_models.Meeting object at 0x7f4224f3c650>, <psql_models.Meeting object at 0x7f4224f3c790>, <psql_models.Meeting object at 0x7f4224f3c8d0>, <psql_models.Meeting object at 0x7f4224f3ca10>, <psql_models.Meeting object at 0x7f4224f3cb50>, <psql_models.Meeting object at 0x7f4224f3cc90>, <psql_models.Meeting object at 0x7f4224f3cdd0>, <psql_models.Meeting object at 0x7f4224f3cf10>, <psql_models.Meeting object at 0x7f4224f3d050>, <psql_models.Meeting object at 0x7f4224f3d190>, <psql_models.Meeting object at 0x7f4224f3d2d0>, <psql_models.Meeting object at 0x7f4224f3d410>, <psql_models.Meeting object at 0x7f4224f3d550>, <psql_models.Meeting object at 0x7f4224f3d690>, <psql_models.Meeting object at 0x7f4224f3d7d0>, <psql_models.Meeting object at 0x7f4224f3d910>, <psql_models.Meeting object at 0x7f4224f3da50>, <psql_models.Meeting object at 0x7f4224f3db90>, <psql_models.Meeting object at 0x7f4224f3dcd0>, <psql_models.Meeting object at 0x7f4224f3de10>, <psql_models.Meeting object at 0x7f4224f3df50>]\n",
      "236\n"
     ]
    }
   ],
   "source": [
    "async with get_session() as session:\n",
    "    meetings, total = await get_accessible_meetings(session, vexa.user_id)\n",
    "    print(meetings)\n",
    "    print(total)"
   ]
  },
  {
   "cell_type": "code",
   "execution_count": 9,
   "metadata": {},
   "outputs": [
    {
     "ename": "DetachedInstanceError",
     "evalue": "Parent instance <Meeting at 0x7f4224f1fc50> is not bound to a Session; lazy load operation of attribute 'owner' cannot proceed (Background on this error at: https://sqlalche.me/e/20/bhk3)",
     "output_type": "error",
     "traceback": [
      "\u001b[0;31m---------------------------------------------------------------------------\u001b[0m",
      "\u001b[0;31mDetachedInstanceError\u001b[0m                     Traceback (most recent call last)",
      "Cell \u001b[0;32mIn[9], line 1\u001b[0m\n\u001b[0;32m----> 1\u001b[0m \u001b[43mmeetings\u001b[49m\u001b[43m[\u001b[49m\u001b[38;5;241;43m0\u001b[39;49m\u001b[43m]\u001b[49m\u001b[38;5;241;43m.\u001b[39;49m\u001b[43mowner\u001b[49m\n",
      "File \u001b[0;32m~/anaconda3/envs/langchain/lib/python3.11/site-packages/sqlalchemy/orm/attributes.py:566\u001b[0m, in \u001b[0;36mInstrumentedAttribute.__get__\u001b[0;34m(self, instance, owner)\u001b[0m\n\u001b[1;32m    564\u001b[0m \u001b[38;5;28;01mexcept\u001b[39;00m \u001b[38;5;167;01mAttributeError\u001b[39;00m \u001b[38;5;28;01mas\u001b[39;00m err:\n\u001b[1;32m    565\u001b[0m     \u001b[38;5;28;01mraise\u001b[39;00m orm_exc\u001b[38;5;241m.\u001b[39mUnmappedInstanceError(instance) \u001b[38;5;28;01mfrom\u001b[39;00m \u001b[38;5;21;01merr\u001b[39;00m\n\u001b[0;32m--> 566\u001b[0m \u001b[38;5;28;01mreturn\u001b[39;00m \u001b[38;5;28;43mself\u001b[39;49m\u001b[38;5;241;43m.\u001b[39;49m\u001b[43mimpl\u001b[49m\u001b[38;5;241;43m.\u001b[39;49m\u001b[43mget\u001b[49m\u001b[43m(\u001b[49m\u001b[43mstate\u001b[49m\u001b[43m,\u001b[49m\u001b[43m \u001b[49m\u001b[43mdict_\u001b[49m\u001b[43m)\u001b[49m\n",
      "File \u001b[0;32m~/anaconda3/envs/langchain/lib/python3.11/site-packages/sqlalchemy/orm/attributes.py:1086\u001b[0m, in \u001b[0;36mAttributeImpl.get\u001b[0;34m(self, state, dict_, passive)\u001b[0m\n\u001b[1;32m   1083\u001b[0m \u001b[38;5;28;01mif\u001b[39;00m \u001b[38;5;129;01mnot\u001b[39;00m passive \u001b[38;5;241m&\u001b[39m CALLABLES_OK:\n\u001b[1;32m   1084\u001b[0m     \u001b[38;5;28;01mreturn\u001b[39;00m PASSIVE_NO_RESULT\n\u001b[0;32m-> 1086\u001b[0m value \u001b[38;5;241m=\u001b[39m \u001b[38;5;28;43mself\u001b[39;49m\u001b[38;5;241;43m.\u001b[39;49m\u001b[43m_fire_loader_callables\u001b[49m\u001b[43m(\u001b[49m\u001b[43mstate\u001b[49m\u001b[43m,\u001b[49m\u001b[43m \u001b[49m\u001b[43mkey\u001b[49m\u001b[43m,\u001b[49m\u001b[43m \u001b[49m\u001b[43mpassive\u001b[49m\u001b[43m)\u001b[49m\n\u001b[1;32m   1088\u001b[0m \u001b[38;5;28;01mif\u001b[39;00m value \u001b[38;5;129;01mis\u001b[39;00m PASSIVE_NO_RESULT \u001b[38;5;129;01mor\u001b[39;00m value \u001b[38;5;129;01mis\u001b[39;00m NO_VALUE:\n\u001b[1;32m   1089\u001b[0m     \u001b[38;5;28;01mreturn\u001b[39;00m value\n",
      "File \u001b[0;32m~/anaconda3/envs/langchain/lib/python3.11/site-packages/sqlalchemy/orm/attributes.py:1121\u001b[0m, in \u001b[0;36mAttributeImpl._fire_loader_callables\u001b[0;34m(self, state, key, passive)\u001b[0m\n\u001b[1;32m   1119\u001b[0m     \u001b[38;5;28;01mreturn\u001b[39;00m callable_(state, passive)\n\u001b[1;32m   1120\u001b[0m \u001b[38;5;28;01melif\u001b[39;00m \u001b[38;5;28mself\u001b[39m\u001b[38;5;241m.\u001b[39mcallable_:\n\u001b[0;32m-> 1121\u001b[0m     \u001b[38;5;28;01mreturn\u001b[39;00m \u001b[38;5;28;43mself\u001b[39;49m\u001b[38;5;241;43m.\u001b[39;49m\u001b[43mcallable_\u001b[49m\u001b[43m(\u001b[49m\u001b[43mstate\u001b[49m\u001b[43m,\u001b[49m\u001b[43m \u001b[49m\u001b[43mpassive\u001b[49m\u001b[43m)\u001b[49m\n\u001b[1;32m   1122\u001b[0m \u001b[38;5;28;01melse\u001b[39;00m:\n\u001b[1;32m   1123\u001b[0m     \u001b[38;5;28;01mreturn\u001b[39;00m ATTR_EMPTY\n",
      "File \u001b[0;32m~/anaconda3/envs/langchain/lib/python3.11/site-packages/sqlalchemy/orm/strategies.py:918\u001b[0m, in \u001b[0;36mLazyLoader._load_for_state\u001b[0;34m(self, state, passive, loadopt, extra_criteria, extra_options, alternate_effective_path, execution_options)\u001b[0m\n\u001b[1;32m    915\u001b[0m     \u001b[38;5;28;01mif\u001b[39;00m passive \u001b[38;5;241m&\u001b[39m PassiveFlag\u001b[38;5;241m.\u001b[39mNO_RAISE:\n\u001b[1;32m    916\u001b[0m         \u001b[38;5;28;01mreturn\u001b[39;00m LoaderCallableStatus\u001b[38;5;241m.\u001b[39mPASSIVE_NO_RESULT\n\u001b[0;32m--> 918\u001b[0m     \u001b[38;5;28;01mraise\u001b[39;00m orm_exc\u001b[38;5;241m.\u001b[39mDetachedInstanceError(\n\u001b[1;32m    919\u001b[0m         \u001b[38;5;124m\"\u001b[39m\u001b[38;5;124mParent instance \u001b[39m\u001b[38;5;132;01m%s\u001b[39;00m\u001b[38;5;124m is not bound to a Session; \u001b[39m\u001b[38;5;124m\"\u001b[39m\n\u001b[1;32m    920\u001b[0m         \u001b[38;5;124m\"\u001b[39m\u001b[38;5;124mlazy load operation of attribute \u001b[39m\u001b[38;5;124m'\u001b[39m\u001b[38;5;132;01m%s\u001b[39;00m\u001b[38;5;124m'\u001b[39m\u001b[38;5;124m cannot proceed\u001b[39m\u001b[38;5;124m\"\u001b[39m\n\u001b[1;32m    921\u001b[0m         \u001b[38;5;241m%\u001b[39m (orm_util\u001b[38;5;241m.\u001b[39mstate_str(state), \u001b[38;5;28mself\u001b[39m\u001b[38;5;241m.\u001b[39mkey)\n\u001b[1;32m    922\u001b[0m     )\n\u001b[1;32m    924\u001b[0m \u001b[38;5;66;03m# if we have a simple primary key load, check the\u001b[39;00m\n\u001b[1;32m    925\u001b[0m \u001b[38;5;66;03m# identity map without generating a Query at all\u001b[39;00m\n\u001b[1;32m    926\u001b[0m \u001b[38;5;28;01mif\u001b[39;00m use_get:\n",
      "\u001b[0;31mDetachedInstanceError\u001b[0m: Parent instance <Meeting at 0x7f4224f1fc50> is not bound to a Session; lazy load operation of attribute 'owner' cannot proceed (Background on this error at: https://sqlalche.me/e/20/bhk3)"
     ]
    }
   ],
   "source": [
    "meetings[0]."
   ]
  },
  {
   "cell_type": "code",
   "execution_count": null,
   "metadata": {},
   "outputs": [],
   "source": []
  },
  {
   "cell_type": "code",
   "execution_count": 1,
   "metadata": {},
   "outputs": [],
   "source": [
    "from psql_models import get_schema_info"
   ]
  },
  {
   "cell_type": "code",
   "execution_count": 6,
   "metadata": {},
   "outputs": [
    {
     "data": {
      "text/plain": [
       "[('alembic_version', ['version_num character varying NOT NULL', 'version_num character varying NOT NULL'], ['PK: version_num', 'CHECK: 2200_25737_1_not_null']),\n",
       " ('default_access', ['created_at timestamp with time zone', 'created_at timestamp with time zone', 'created_at timestamp with time zone', 'created_at timestamp with time  ... (1520 characters truncated) ... er_user_id uuid NOT NULL', 'owner_user_id uuid NOT NULL', 'owner_user_id uuid NOT NULL', 'owner_user_id uuid NOT NULL', 'owner_user_id uuid NOT NULL'], ['FK: granted_user_id -> users.id', 'FK: owner_user_id -> users.id', 'CHECK: 2200_26513_3_not_null', 'PK: owner_user_id', 'PK: owner_user_id', 'PK: gr ... (856 characters truncated) ... d', 'PK: granted_user_id', 'PK: granted_user_id', 'CHECK: valid_default_access_level', 'CHECK: 2200_26513_1_not_null', 'CHECK: 2200_26513_2_not_null']),\n",
       " ('discussion_points', ['summary_index integer', 'summary_index integer', 'summary_index integer', 'summary_index integer', 'summary text', 'summary text', 'summary text', ' ... (860 characters truncated) ...  integer NOT NULL DEFAULT nextval('discussion_points_id_seq'::regclass)\", \"id integer NOT NULL DEFAULT nextval('discussion_points_id_seq'::regclass)\"], ['FK: speaker_id -> speakers.id', 'CHECK: 2200_17599_1_not_null', 'PK: id', 'FK: meeting_id -> meetings.meeting_id', 'FK: speaker_id -> speakers.id',  ... (860 characters truncated) ... eeting_id -> meetings.meeting_id', 'FK: speaker_id -> speakers.id', 'CHECK: 2200_17599_1_not_null', 'PK: id', 'FK: meeting_id -> meetings.meeting_id']),\n",
       " ('meeting_shares', ['user_id uuid', 'user_id uuid', 'user_id uuid', 'user_id uuid', 'user_id uuid', 'user_id uuid', 'user_id uuid', 'user_id uuid', 'user_id uuid', 'user ... (2406 characters truncated) ... created_by uuid', 'created_by uuid', 'created_by uuid', 'created_by uuid', 'created_by uuid', 'created_by uuid', 'created_by uuid', 'created_by uuid'], ['FK: created_by -> users.id', 'FK: user_id -> users.id', 'CHECK: valid_access_level', 'PK: id', 'CHECK: 2200_25855_1_not_null', 'CHECK: 2200_25855_4_ ... (1302 characters truncated) ... _not_null', 'CHECK: 2200_25855_4_not_null', 'FK: meeting_id -> meetings.meeting_id', 'UQ: meeting_id', 'UQ: meeting_id', 'UQ: user_id', 'UQ: user_id']),\n",
       " ('meeting_speaker', ['speaker_id integer', 'speaker_id integer', 'meeting_id integer', 'meeting_id integer'], ['FK: speaker_id -> speakers.id', 'FK: meeting_id -> meetings.id', 'FK: speaker_id -> speakers.id', 'FK: meeting_id -> meetings.id']),\n",
       " ('meetings', ['meeting_id uuid NOT NULL', 'meeting_id uuid NOT NULL', 'meeting_id uuid NOT NULL', 'meeting_id uuid NOT NULL', 'meeting_id uuid NOT NULL', 'meeting_ ... (792 characters truncated) ... mestamp without time zone', 'timestamp timestamp without time zone', 'timestamp timestamp without time zone', 'timestamp timestamp without time zone'], ['UQ: meeting_id', 'PK: id', 'CHECK: 2200_17564_1_not_null', 'CHECK: 2200_17564_2_not_null', 'FK: owner_id -> users.id', 'CHECK: 2200_17564_5_not_null ... (460 characters truncated) ... UQ: meeting_id', 'PK: id', 'CHECK: 2200_17564_1_not_null', 'CHECK: 2200_17564_2_not_null', 'FK: owner_id -> users.id', 'CHECK: 2200_17564_5_not_null']),\n",
       " ('outputs', ['output_text text', 'output_text text', 'output_text text', 'output_text text', 'output_text text', 'output_text text', 'output_text text', 'output_t ... (1804 characters truncated) ... NOT NULL', 'input_text text NOT NULL', 'input_text text NOT NULL', 'input_text text NOT NULL', 'input_text text NOT NULL', 'input_text text NOT NULL'], ['CHECK: 2200_17575_5_not_null', 'CHECK: 2200_17575_1_not_null', 'CHECK: 2200_17575_7_not_null', 'CHECK: 2200_17575_6_not_null', 'CHECK: 2200_17575_4_ ... (1233 characters truncated) ... CK: 2200_17575_7_not_null', 'CHECK: 2200_17575_6_not_null', 'CHECK: 2200_17575_4_not_null', 'UQ: cache_key', 'PK: id', 'CHECK: 2200_17575_2_not_null']),\n",
       " ('speakers', [\"id integer NOT NULL DEFAULT nextval('speakers_id_seq'::regclass)\", \"id integer NOT NULL DEFAULT nextval('speakers_id_seq'::regclass)\", \"id integer N ... (112 characters truncated) ... egclass)\", 'name character varying NOT NULL', 'name character varying NOT NULL', 'name character varying NOT NULL', 'name character varying NOT NULL'], ['CHECK: 2200_17555_1_not_null', 'CHECK: 2200_17555_2_not_null', 'PK: id', 'UQ: name', 'CHECK: 2200_17555_1_not_null', 'CHECK: 2200_17555_2_not_null', 'PK: id', 'UQ: name']),\n",
       " ('threads', ['thread_name character varying', 'thread_name character varying', 'thread_name character varying', 'thread_name character varying', 'thread_id charac ... (312 characters truncated) ... 'messages text', 'messages text', 'messages text', 'user_id uuid NOT NULL', 'user_id uuid NOT NULL', 'user_id uuid NOT NULL', 'user_id uuid NOT NULL'], ['CHECK: 2200_25886_1_not_null', 'CHECK: 2200_25886_2_not_null', 'FK: user_id -> users.id', 'PK: thread_id', 'CHECK: 2200_25886_1_not_null', 'CHECK: 2 ... (240 characters truncated) ... FK: user_id -> users.id', 'PK: thread_id', 'CHECK: 2200_25886_1_not_null', 'CHECK: 2200_25886_2_not_null', 'FK: user_id -> users.id', 'PK: thread_id']),\n",
       " ('user_tokens', ['created_at timestamp with time zone', 'created_at timestamp with time zone', 'created_at timestamp with time zone', 'created_at timestamp with time  ... (605 characters truncated) ...  timestamp with time zone', 'last_used_at timestamp with time zone', 'last_used_at timestamp with time zone', 'last_used_at timestamp with time zone'], ['CHECK: 2200_25841_3_not_null', 'CHECK: 2200_25841_1_not_null', 'PK: token', 'FK: user_id -> users.id', 'CHECK: 2200_25841_2_not_null', 'CHECK: 2200_ ... (380 characters truncated) ... 1_2_not_null', 'CHECK: 2200_25841_3_not_null', 'CHECK: 2200_25841_1_not_null', 'PK: token', 'FK: user_id -> users.id', 'CHECK: 2200_25841_2_not_null']),\n",
       " ('users', ['id uuid NOT NULL', 'id uuid NOT NULL', 'id uuid NOT NULL', 'id uuid NOT NULL', 'email character varying', 'email character varying', 'email characte ... (184 characters truncated) ... ime zone', 'name character varying NOT NULL', 'name character varying NOT NULL', 'name character varying NOT NULL', 'name character varying NOT NULL'], ['CHECK: 2200_25834_2_not_null', 'PK: id', 'UQ: email', 'CHECK: 2200_25834_1_not_null', 'CHECK: 2200_25834_2_not_null', 'PK: id', 'UQ: email', 'CHECK: ... (48 characters truncated) ... t_null', 'PK: id', 'UQ: email', 'CHECK: 2200_25834_1_not_null', 'CHECK: 2200_25834_2_not_null', 'PK: id', 'UQ: email', 'CHECK: 2200_25834_1_not_null'])]"
      ]
     },
     "execution_count": 6,
     "metadata": {},
     "output_type": "execute_result"
    }
   ],
   "source": [
    "await get_schema_info()"
   ]
  },
  {
   "cell_type": "code",
   "execution_count": 1,
   "metadata": {},
   "outputs": [],
   "source": [
    "import pandas as pd\n",
    "from typing import Optional, List\n",
    "from core import system_msg, user_msg, assistant_msg, generic_call_stream\n",
    "from qdrant_search import QdrantSearchEngine\n",
    "\n",
    "from psql_models import get_session"
   ]
  },
  {
   "cell_type": "code",
   "execution_count": 2,
   "metadata": {},
   "outputs": [],
   "source": [
    "engine = QdrantSearchEngine()"
   ]
  },
  {
   "cell_type": "code",
   "execution_count": null,
   "metadata": {},
   "outputs": [],
   "source": [
    "#await engine.initialize()\n",
    "await engine.sync_from_postgres(get_session)"
   ]
  }
 ],
 "metadata": {
  "kernelspec": {
   "display_name": "langchain",
   "language": "python",
   "name": "python3"
  },
  "language_info": {
   "codemirror_mode": {
    "name": "ipython",
    "version": 3
   },
   "file_extension": ".py",
   "mimetype": "text/x-python",
   "name": "python",
   "nbconvert_exporter": "python",
   "pygments_lexer": "ipython3",
   "version": "3.11.2"
  }
 },
 "nbformat": 4,
 "nbformat_minor": 2
}
