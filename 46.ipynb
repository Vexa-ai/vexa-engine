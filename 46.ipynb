{
 "cells": [
  {
   "cell_type": "code",
   "execution_count": 1,
   "metadata": {},
   "outputs": [],
   "source": [
    "%load_ext autoreload\n",
    "%autoreload 2"
   ]
  },
  {
   "cell_type": "code",
   "execution_count": 2,
   "metadata": {},
   "outputs": [],
   "source": [
    "from redis import Redis\n",
    "import os"
   ]
  },
  {
   "cell_type": "code",
   "execution_count": 3,
   "metadata": {},
   "outputs": [],
   "source": [
    "redis = Redis(\n",
    "            host=os.getenv('REDIS_HOST', '127.0.0.1'),\n",
    "            port=int(os.getenv('REDIS_PORT', 6379)),\n",
    "            db=0,\n",
    "            decode_responses=True,\n",
    "            max_connections=10,  # Add connection pooling\n",
    "            socket_timeout=5\n",
    "        )\n",
    "        "
   ]
  },
  {
   "cell_type": "code",
   "execution_count": 4,
   "metadata": {},
   "outputs": [],
   "source": [
    "from indexing_new import IndexingWorker,RedisKeys,ActiveMeetingsMonitor,IndexingPipeline,UserMeetingsScanner"
   ]
  },
  {
   "cell_type": "code",
   "execution_count": 5,
   "metadata": {},
   "outputs": [
    {
     "name": "stderr",
     "output_type": "stream",
     "text": [
      "INFO:sentence_transformers.SentenceTransformer:Load pretrained SentenceTransformer: paraphrase-multilingual-MiniLM-L12-v2\n"
     ]
    },
    {
     "name": "stderr",
     "output_type": "stream",
     "text": [
      "/home/dima/anaconda3/envs/langchain/lib/python3.11/site-packages/huggingface_hub/file_download.py:1132: FutureWarning: `resume_download` is deprecated and will be removed in version 1.0.0. Downloads always resume when possible. If you want to force a new download, use `force_download=True`.\n",
      "  warnings.warn(\n"
     ]
    },
    {
     "data": {
      "application/vnd.jupyter.widget-view+json": {
       "model_id": "e1c7fe28682b4ba79fa4ab546de462c0",
       "version_major": 2,
       "version_minor": 0
      },
      "text/plain": [
       "Fetching 29 files:   0%|          | 0/29 [00:00<?, ?it/s]"
      ]
     },
     "metadata": {},
     "output_type": "display_data"
    }
   ],
   "source": [
    "pipeline = IndexingPipeline()"
   ]
  },
  {
   "cell_type": "code",
   "execution_count": 6,
   "metadata": {},
   "outputs": [
    {
     "name": "stderr",
     "output_type": "stream",
     "text": [
      "INFO:indexing_new:Starting Indexing Pipeline\n",
      "INFO:indexing_new:Starting Active Meetings Monitor\n",
      "INFO:indexing_new:Starting User Meetings Scanner\n",
      "INFO:indexing_new:Starting Indexing Worker\n"
     ]
    },
    {
     "name": "stderr",
     "output_type": "stream",
     "text": [
      "INFO:httpx:HTTP Request: GET http://127.0.0.1:8001/api/v1/tools/meetings/active \"HTTP/1.1 200 OK\"\n",
      "INFO:httpx:HTTP Request: GET http://127.0.0.1:8001/api/v1/users/me?token=5faa86ba0dc74b14a78c60c8aa20a014 \"HTTP/1.1 200 OK\"\n",
      "INFO:httpx:HTTP Request: GET http://127.0.0.1:8001/api/v1/calls/all?token=62863718be034fe9aa8044f5048cc367 \"HTTP/1.1 200 OK\"\n",
      "INFO:indexing_new:Added 0 meetings for user e77e9304-9adb-4654-9a9e-3d66fad3f3ac (checked 14 recent meetings)\n"
     ]
    },
    {
     "name": "stdout",
     "output_type": "stream",
     "text": [
      "Vexa token: 62863718be034fe9aa8044f5048cc367\n",
      "Request URL: http://127.0.0.1:8001/api/v1/calls/all\n",
      "Request Params: {'token': '62863718be034fe9aa8044f5048cc367'}\n",
      "Vexa token: 5faa86ba0dc74b14a78c60c8aa20a014\n",
      "User information retrieved successfully.\n"
     ]
    },
    {
     "name": "stderr",
     "output_type": "stream",
     "text": [
      "INFO:httpx:HTTP Request: GET http://127.0.0.1:8001/api/v1/transcription?meeting_id=&meeting_session_id=baed8c5d-3363-4534-a41d-832e95f8dc14&token=5faa86ba0dc74b14a78c60c8aa20a014 \"HTTP/1.1 200 OK\"\n"
     ]
    },
    {
     "name": "stdout",
     "output_type": "stream",
     "text": [
      "Vexa token: 5faa86ba0dc74b14a78c60c8aa20a014\n",
      "Request URL: http://127.0.0.1:8001/api/v1/calls/all\n",
      "Request Params: {'token': '5faa86ba0dc74b14a78c60c8aa20a014'}\n"
     ]
    },
    {
     "name": "stderr",
     "output_type": "stream",
     "text": [
      "INFO:httpx:HTTP Request: GET http://127.0.0.1:8001/api/v1/calls/all?token=5faa86ba0dc74b14a78c60c8aa20a014 \"HTTP/1.1 200 OK\"\n",
      "INFO:indexing_new:Added 0 meetings for user 8b767b85-44fb-4c20-97df-7aa172242273 (checked 20 recent meetings)\n",
      "INFO:httpx:HTTP Request: GET http://127.0.0.1:8001/api/v1/tools/user/token/id/ef7c085b-fdb5-4c94-b7b6-a61a3d04c210?service_token=stage_token \"HTTP/1.1 200 OK\"\n",
      "INFO:httpx:HTTP Request: GET http://127.0.0.1:8001/api/v1/users/me?token=3ae04e20124d40babc5107e658c666b6 \"HTTP/1.1 200 OK\"\n",
      "ERROR:indexing_new:Error processing meetings for user ef7c085b-fdb5-4c94-b7b6-a61a3d04c210: (sqlalchemy.dialects.postgresql.asyncpg.IntegrityError) <class 'asyncpg.exceptions.UniqueViolationError'>: duplicate key value violates unique constraint \"users_email_key\"\n",
      "DETAIL:  Key (email)=(2280905@gmail.com) already exists.\n",
      "[SQL: INSERT INTO users (id, email, username, first_name, last_name, image, created_timestamp, updated_timestamp) VALUES ($1::UUID, $2::VARCHAR, $3::VARCHAR, $4::VARCHAR, $5::VARCHAR, $6::VARCHAR, $7::TIMESTAMP WITH TIME ZONE, $8::TIMESTAMP WITH TIME ZONE)]\n",
      "[parameters: ('ef7c085b-fdb5-4c94-b7b6-a61a3d04c210', '2280905@gmail.com', 'Dmitriy Grankin', 'Dmitriy', 'Grankin', None, datetime.datetime(2024, 11, 11, 16, 42, 26, 185032, tzinfo=datetime.timezone.utc), datetime.datetime(2024, 11, 11, 16, 42, 26, 188099))]\n",
      "(Background on this error at: https://sqlalche.me/e/20/gkpj)\n"
     ]
    },
    {
     "name": "stdout",
     "output_type": "stream",
     "text": [
      "Vexa token: 3ae04e20124d40babc5107e658c666b6\n",
      "User information retrieved successfully.\n"
     ]
    },
    {
     "name": "stderr",
     "output_type": "stream",
     "text": [
      "INFO:httpx:HTTP Request: GET http://127.0.0.1:8001/api/v1/calls/all?token=e79a7431614546f3b1ec5930ff91015e \"HTTP/1.1 200 OK\"\n",
      "INFO:indexing_new:Added 0 meetings for user 638129fd-9722-4430-bd1d-cd3f9a0c3dd6 (checked 3 recent meetings)\n"
     ]
    },
    {
     "name": "stdout",
     "output_type": "stream",
     "text": [
      "Vexa token: e79a7431614546f3b1ec5930ff91015e\n",
      "Request URL: http://127.0.0.1:8001/api/v1/calls/all\n",
      "Request Params: {'token': 'e79a7431614546f3b1ec5930ff91015e'}\n"
     ]
    },
    {
     "name": "stderr",
     "output_type": "stream",
     "text": [
      "INFO:httpx:HTTP Request: GET http://127.0.0.1:8001/api/v1/tools/meetings/active \"HTTP/1.1 200 OK\"\n",
      "INFO:httpx:HTTP Request: GET http://127.0.0.1:8001/api/v1/calls/all?token=62863718be034fe9aa8044f5048cc367 \"HTTP/1.1 200 OK\"\n",
      "INFO:indexing_new:Added 0 meetings for user e77e9304-9adb-4654-9a9e-3d66fad3f3ac (checked 14 recent meetings)\n"
     ]
    },
    {
     "name": "stdout",
     "output_type": "stream",
     "text": [
      "Vexa token: 62863718be034fe9aa8044f5048cc367\n",
      "Request URL: http://127.0.0.1:8001/api/v1/calls/all\n",
      "Request Params: {'token': '62863718be034fe9aa8044f5048cc367'}\n"
     ]
    },
    {
     "name": "stderr",
     "output_type": "stream",
     "text": [
      "INFO:httpx:HTTP Request: GET http://127.0.0.1:8001/api/v1/tools/meetings/active \"HTTP/1.1 200 OK\"\n"
     ]
    },
    {
     "name": "stdout",
     "output_type": "stream",
     "text": [
      "Vexa token: 5faa86ba0dc74b14a78c60c8aa20a014\n",
      "Request URL: http://127.0.0.1:8001/api/v1/calls/all\n",
      "Request Params: {'token': '5faa86ba0dc74b14a78c60c8aa20a014'}\n"
     ]
    },
    {
     "name": "stderr",
     "output_type": "stream",
     "text": [
      "INFO:httpx:HTTP Request: GET http://127.0.0.1:8001/api/v1/calls/all?token=5faa86ba0dc74b14a78c60c8aa20a014 \"HTTP/1.1 200 OK\"\n",
      "INFO:indexing_new:Added 0 meetings for user 8b767b85-44fb-4c20-97df-7aa172242273 (checked 20 recent meetings)\n",
      "INFO:httpx:HTTP Request: GET http://127.0.0.1:8001/api/v1/tools/user/token/id/ef7c085b-fdb5-4c94-b7b6-a61a3d04c210?service_token=stage_token \"HTTP/1.1 200 OK\"\n",
      "INFO:httpx:HTTP Request: GET http://127.0.0.1:8001/api/v1/users/me?token=3ae04e20124d40babc5107e658c666b6 \"HTTP/1.1 200 OK\"\n",
      "ERROR:indexing_new:Error processing meetings for user ef7c085b-fdb5-4c94-b7b6-a61a3d04c210: (sqlalchemy.dialects.postgresql.asyncpg.IntegrityError) <class 'asyncpg.exceptions.UniqueViolationError'>: duplicate key value violates unique constraint \"users_email_key\"\n",
      "DETAIL:  Key (email)=(2280905@gmail.com) already exists.\n",
      "[SQL: INSERT INTO users (id, email, username, first_name, last_name, image, created_timestamp, updated_timestamp) VALUES ($1::UUID, $2::VARCHAR, $3::VARCHAR, $4::VARCHAR, $5::VARCHAR, $6::VARCHAR, $7::TIMESTAMP WITH TIME ZONE, $8::TIMESTAMP WITH TIME ZONE)]\n",
      "[parameters: ('ef7c085b-fdb5-4c94-b7b6-a61a3d04c210', '2280905@gmail.com', 'Dmitriy Grankin', 'Dmitriy', 'Grankin', None, datetime.datetime(2024, 11, 11, 16, 42, 35, 824485, tzinfo=datetime.timezone.utc), datetime.datetime(2024, 11, 11, 16, 42, 35, 825298))]\n",
      "(Background on this error at: https://sqlalche.me/e/20/gkpj)\n"
     ]
    },
    {
     "name": "stdout",
     "output_type": "stream",
     "text": [
      "Vexa token: 3ae04e20124d40babc5107e658c666b6\n",
      "User information retrieved successfully.\n"
     ]
    },
    {
     "name": "stderr",
     "output_type": "stream",
     "text": [
      "INFO:httpx:HTTP Request: GET http://127.0.0.1:8001/api/v1/calls/all?token=e79a7431614546f3b1ec5930ff91015e \"HTTP/1.1 200 OK\"\n",
      "INFO:indexing_new:Added 0 meetings for user 638129fd-9722-4430-bd1d-cd3f9a0c3dd6 (checked 3 recent meetings)\n"
     ]
    },
    {
     "name": "stdout",
     "output_type": "stream",
     "text": [
      "Vexa token: e79a7431614546f3b1ec5930ff91015e\n",
      "Request URL: http://127.0.0.1:8001/api/v1/calls/all\n",
      "Request Params: {'token': 'e79a7431614546f3b1ec5930ff91015e'}\n"
     ]
    },
    {
     "name": "stderr",
     "output_type": "stream",
     "text": [
      "INFO:httpx:HTTP Request: GET http://127.0.0.1:8001/api/v1/tools/meetings/active \"HTTP/1.1 200 OK\"\n",
      "INFO:httpx:HTTP Request: POST https://api.openai.com/v1/chat/completions \"HTTP/1.1 200 OK\"\n",
      "INFO:httpx:HTTP Request: GET http://127.0.0.1:8001/api/v1/calls/all?token=62863718be034fe9aa8044f5048cc367 \"HTTP/1.1 200 OK\"\n",
      "INFO:indexing_new:Added 0 meetings for user e77e9304-9adb-4654-9a9e-3d66fad3f3ac (checked 14 recent meetings)\n"
     ]
    },
    {
     "name": "stdout",
     "output_type": "stream",
     "text": [
      "Vexa token: 62863718be034fe9aa8044f5048cc367\n",
      "Request URL: http://127.0.0.1:8001/api/v1/calls/all\n",
      "Request Params: {'token': '62863718be034fe9aa8044f5048cc367'}\n"
     ]
    },
    {
     "name": "stderr",
     "output_type": "stream",
     "text": [
      "INFO:httpx:HTTP Request: GET http://127.0.0.1:8001/api/v1/tools/meetings/active \"HTTP/1.1 200 OK\"\n"
     ]
    },
    {
     "name": "stdout",
     "output_type": "stream",
     "text": [
      "Vexa token: 5faa86ba0dc74b14a78c60c8aa20a014\n",
      "Request URL: http://127.0.0.1:8001/api/v1/calls/all\n",
      "Request Params: {'token': '5faa86ba0dc74b14a78c60c8aa20a014'}\n"
     ]
    },
    {
     "name": "stderr",
     "output_type": "stream",
     "text": [
      "INFO:httpx:HTTP Request: GET http://127.0.0.1:8001/api/v1/calls/all?token=5faa86ba0dc74b14a78c60c8aa20a014 \"HTTP/1.1 200 OK\"\n",
      "INFO:indexing_new:Added 0 meetings for user 8b767b85-44fb-4c20-97df-7aa172242273 (checked 20 recent meetings)\n",
      "INFO:httpx:HTTP Request: GET http://127.0.0.1:8001/api/v1/tools/user/token/id/ef7c085b-fdb5-4c94-b7b6-a61a3d04c210?service_token=stage_token \"HTTP/1.1 200 OK\"\n",
      "INFO:httpx:HTTP Request: GET http://127.0.0.1:8001/api/v1/users/me?token=3ae04e20124d40babc5107e658c666b6 \"HTTP/1.1 200 OK\"\n",
      "ERROR:indexing_new:Error processing meetings for user ef7c085b-fdb5-4c94-b7b6-a61a3d04c210: (sqlalchemy.dialects.postgresql.asyncpg.IntegrityError) <class 'asyncpg.exceptions.UniqueViolationError'>: duplicate key value violates unique constraint \"users_email_key\"\n",
      "DETAIL:  Key (email)=(2280905@gmail.com) already exists.\n",
      "[SQL: INSERT INTO users (id, email, username, first_name, last_name, image, created_timestamp, updated_timestamp) VALUES ($1::UUID, $2::VARCHAR, $3::VARCHAR, $4::VARCHAR, $5::VARCHAR, $6::VARCHAR, $7::TIMESTAMP WITH TIME ZONE, $8::TIMESTAMP WITH TIME ZONE)]\n",
      "[parameters: ('ef7c085b-fdb5-4c94-b7b6-a61a3d04c210', '2280905@gmail.com', 'Dmitriy Grankin', 'Dmitriy', 'Grankin', None, datetime.datetime(2024, 11, 11, 16, 42, 45, 533664, tzinfo=datetime.timezone.utc), datetime.datetime(2024, 11, 11, 16, 42, 45, 534467))]\n",
      "(Background on this error at: https://sqlalche.me/e/20/gkpj)\n"
     ]
    },
    {
     "name": "stdout",
     "output_type": "stream",
     "text": [
      "Vexa token: 3ae04e20124d40babc5107e658c666b6\n",
      "User information retrieved successfully.\n"
     ]
    },
    {
     "name": "stderr",
     "output_type": "stream",
     "text": [
      "INFO:httpx:HTTP Request: GET http://127.0.0.1:8001/api/v1/calls/all?token=e79a7431614546f3b1ec5930ff91015e \"HTTP/1.1 200 OK\"\n",
      "INFO:indexing_new:Added 0 meetings for user 638129fd-9722-4430-bd1d-cd3f9a0c3dd6 (checked 3 recent meetings)\n"
     ]
    },
    {
     "name": "stdout",
     "output_type": "stream",
     "text": [
      "Vexa token: e79a7431614546f3b1ec5930ff91015e\n",
      "Request URL: http://127.0.0.1:8001/api/v1/calls/all\n",
      "Request Params: {'token': 'e79a7431614546f3b1ec5930ff91015e'}\n"
     ]
    },
    {
     "name": "stderr",
     "output_type": "stream",
     "text": [
      "INFO:httpx:HTTP Request: GET http://127.0.0.1:8001/api/v1/tools/meetings/active \"HTTP/1.1 200 OK\"\n",
      "INFO:httpx:HTTP Request: GET http://127.0.0.1:8001/api/v1/calls/all?token=62863718be034fe9aa8044f5048cc367 \"HTTP/1.1 200 OK\"\n",
      "INFO:indexing_new:Added 0 meetings for user e77e9304-9adb-4654-9a9e-3d66fad3f3ac (checked 14 recent meetings)\n"
     ]
    },
    {
     "name": "stdout",
     "output_type": "stream",
     "text": [
      "Vexa token: 62863718be034fe9aa8044f5048cc367\n",
      "Request URL: http://127.0.0.1:8001/api/v1/calls/all\n",
      "Request Params: {'token': '62863718be034fe9aa8044f5048cc367'}\n"
     ]
    },
    {
     "name": "stderr",
     "output_type": "stream",
     "text": [
      "INFO:httpx:HTTP Request: GET http://127.0.0.1:8001/api/v1/tools/meetings/active \"HTTP/1.1 200 OK\"\n"
     ]
    },
    {
     "name": "stdout",
     "output_type": "stream",
     "text": [
      "Vexa token: 5faa86ba0dc74b14a78c60c8aa20a014\n",
      "Request URL: http://127.0.0.1:8001/api/v1/calls/all\n",
      "Request Params: {'token': '5faa86ba0dc74b14a78c60c8aa20a014'}\n"
     ]
    },
    {
     "name": "stderr",
     "output_type": "stream",
     "text": [
      "INFO:httpx:HTTP Request: GET http://127.0.0.1:8001/api/v1/calls/all?token=5faa86ba0dc74b14a78c60c8aa20a014 \"HTTP/1.1 200 OK\"\n",
      "INFO:indexing_new:Added 0 meetings for user 8b767b85-44fb-4c20-97df-7aa172242273 (checked 20 recent meetings)\n",
      "INFO:httpx:HTTP Request: GET http://127.0.0.1:8001/api/v1/tools/user/token/id/ef7c085b-fdb5-4c94-b7b6-a61a3d04c210?service_token=stage_token \"HTTP/1.1 200 OK\"\n",
      "INFO:httpx:HTTP Request: GET http://127.0.0.1:8001/api/v1/users/me?token=3ae04e20124d40babc5107e658c666b6 \"HTTP/1.1 200 OK\"\n",
      "ERROR:indexing_new:Error processing meetings for user ef7c085b-fdb5-4c94-b7b6-a61a3d04c210: (sqlalchemy.dialects.postgresql.asyncpg.IntegrityError) <class 'asyncpg.exceptions.UniqueViolationError'>: duplicate key value violates unique constraint \"users_email_key\"\n",
      "DETAIL:  Key (email)=(2280905@gmail.com) already exists.\n",
      "[SQL: INSERT INTO users (id, email, username, first_name, last_name, image, created_timestamp, updated_timestamp) VALUES ($1::UUID, $2::VARCHAR, $3::VARCHAR, $4::VARCHAR, $5::VARCHAR, $6::VARCHAR, $7::TIMESTAMP WITH TIME ZONE, $8::TIMESTAMP WITH TIME ZONE)]\n",
      "[parameters: ('ef7c085b-fdb5-4c94-b7b6-a61a3d04c210', '2280905@gmail.com', 'Dmitriy Grankin', 'Dmitriy', 'Grankin', None, datetime.datetime(2024, 11, 11, 16, 42, 55, 203840, tzinfo=datetime.timezone.utc), datetime.datetime(2024, 11, 11, 16, 42, 55, 204648))]\n",
      "(Background on this error at: https://sqlalche.me/e/20/gkpj)\n"
     ]
    },
    {
     "name": "stdout",
     "output_type": "stream",
     "text": [
      "Vexa token: 3ae04e20124d40babc5107e658c666b6\n",
      "User information retrieved successfully.\n"
     ]
    },
    {
     "name": "stderr",
     "output_type": "stream",
     "text": [
      "INFO:httpx:HTTP Request: GET http://127.0.0.1:8001/api/v1/calls/all?token=e79a7431614546f3b1ec5930ff91015e \"HTTP/1.1 200 OK\"\n",
      "INFO:indexing_new:Added 0 meetings for user 638129fd-9722-4430-bd1d-cd3f9a0c3dd6 (checked 3 recent meetings)\n"
     ]
    },
    {
     "name": "stdout",
     "output_type": "stream",
     "text": [
      "Vexa token: e79a7431614546f3b1ec5930ff91015e\n",
      "Request URL: http://127.0.0.1:8001/api/v1/calls/all\n",
      "Request Params: {'token': 'e79a7431614546f3b1ec5930ff91015e'}\n"
     ]
    },
    {
     "name": "stderr",
     "output_type": "stream",
     "text": [
      "INFO:httpx:HTTP Request: GET http://127.0.0.1:8001/api/v1/tools/meetings/active \"HTTP/1.1 200 OK\"\n",
      "INFO:httpx:HTTP Request: GET http://127.0.0.1:8001/api/v1/calls/all?token=62863718be034fe9aa8044f5048cc367 \"HTTP/1.1 200 OK\"\n",
      "INFO:indexing_new:Added 0 meetings for user e77e9304-9adb-4654-9a9e-3d66fad3f3ac (checked 14 recent meetings)\n"
     ]
    },
    {
     "name": "stdout",
     "output_type": "stream",
     "text": [
      "Vexa token: 62863718be034fe9aa8044f5048cc367\n",
      "Request URL: http://127.0.0.1:8001/api/v1/calls/all\n",
      "Request Params: {'token': '62863718be034fe9aa8044f5048cc367'}\n",
      "Vexa token: 5faa86ba0dc74b14a78c60c8aa20a014\n",
      "Request URL: http://127.0.0.1:8001/api/v1/calls/all\n",
      "Request Params: {'token': '5faa86ba0dc74b14a78c60c8aa20a014'}\n"
     ]
    },
    {
     "name": "stderr",
     "output_type": "stream",
     "text": [
      "INFO:httpx:HTTP Request: GET http://127.0.0.1:8001/api/v1/calls/all?token=5faa86ba0dc74b14a78c60c8aa20a014 \"HTTP/1.1 200 OK\"\n",
      "INFO:indexing_new:Added 0 meetings for user 8b767b85-44fb-4c20-97df-7aa172242273 (checked 20 recent meetings)\n",
      "INFO:httpx:HTTP Request: GET http://127.0.0.1:8001/api/v1/tools/meetings/active \"HTTP/1.1 200 OK\"\n",
      "INFO:httpx:HTTP Request: GET http://127.0.0.1:8001/api/v1/tools/user/token/id/ef7c085b-fdb5-4c94-b7b6-a61a3d04c210?service_token=stage_token \"HTTP/1.1 200 OK\"\n",
      "INFO:httpx:HTTP Request: GET http://127.0.0.1:8001/api/v1/users/me?token=3ae04e20124d40babc5107e658c666b6 \"HTTP/1.1 200 OK\"\n",
      "ERROR:indexing_new:Error processing meetings for user ef7c085b-fdb5-4c94-b7b6-a61a3d04c210: (sqlalchemy.dialects.postgresql.asyncpg.IntegrityError) <class 'asyncpg.exceptions.UniqueViolationError'>: duplicate key value violates unique constraint \"users_email_key\"\n",
      "DETAIL:  Key (email)=(2280905@gmail.com) already exists.\n",
      "[SQL: INSERT INTO users (id, email, username, first_name, last_name, image, created_timestamp, updated_timestamp) VALUES ($1::UUID, $2::VARCHAR, $3::VARCHAR, $4::VARCHAR, $5::VARCHAR, $6::VARCHAR, $7::TIMESTAMP WITH TIME ZONE, $8::TIMESTAMP WITH TIME ZONE)]\n",
      "[parameters: ('ef7c085b-fdb5-4c94-b7b6-a61a3d04c210', '2280905@gmail.com', 'Dmitriy Grankin', 'Dmitriy', 'Grankin', None, datetime.datetime(2024, 11, 11, 16, 43, 4, 711537, tzinfo=datetime.timezone.utc), datetime.datetime(2024, 11, 11, 16, 43, 4, 712316))]\n",
      "(Background on this error at: https://sqlalche.me/e/20/gkpj)\n"
     ]
    },
    {
     "name": "stdout",
     "output_type": "stream",
     "text": [
      "Vexa token: 3ae04e20124d40babc5107e658c666b6\n",
      "User information retrieved successfully.\n"
     ]
    },
    {
     "name": "stderr",
     "output_type": "stream",
     "text": [
      "INFO:httpx:HTTP Request: GET http://127.0.0.1:8001/api/v1/calls/all?token=e79a7431614546f3b1ec5930ff91015e \"HTTP/1.1 200 OK\"\n",
      "INFO:indexing_new:Added 0 meetings for user 638129fd-9722-4430-bd1d-cd3f9a0c3dd6 (checked 3 recent meetings)\n"
     ]
    },
    {
     "name": "stdout",
     "output_type": "stream",
     "text": [
      "Vexa token: e79a7431614546f3b1ec5930ff91015e\n",
      "Request URL: http://127.0.0.1:8001/api/v1/calls/all\n",
      "Request Params: {'token': 'e79a7431614546f3b1ec5930ff91015e'}\n"
     ]
    },
    {
     "name": "stderr",
     "output_type": "stream",
     "text": [
      "INFO:httpx:HTTP Request: GET http://127.0.0.1:8001/api/v1/tools/meetings/active \"HTTP/1.1 200 OK\"\n",
      "INFO:httpx:HTTP Request: GET http://127.0.0.1:8001/api/v1/calls/all?token=62863718be034fe9aa8044f5048cc367 \"HTTP/1.1 200 OK\"\n",
      "INFO:indexing_new:Added 0 meetings for user e77e9304-9adb-4654-9a9e-3d66fad3f3ac (checked 14 recent meetings)\n"
     ]
    },
    {
     "name": "stdout",
     "output_type": "stream",
     "text": [
      "Vexa token: 62863718be034fe9aa8044f5048cc367\n",
      "Request URL: http://127.0.0.1:8001/api/v1/calls/all\n",
      "Request Params: {'token': '62863718be034fe9aa8044f5048cc367'}\n",
      "Vexa token: 5faa86ba0dc74b14a78c60c8aa20a014\n",
      "Request URL: http://127.0.0.1:8001/api/v1/calls/all\n",
      "Request Params: {'token': '5faa86ba0dc74b14a78c60c8aa20a014'}\n"
     ]
    },
    {
     "name": "stderr",
     "output_type": "stream",
     "text": [
      "INFO:httpx:HTTP Request: GET http://127.0.0.1:8001/api/v1/calls/all?token=5faa86ba0dc74b14a78c60c8aa20a014 \"HTTP/1.1 200 OK\"\n",
      "INFO:indexing_new:Added 0 meetings for user 8b767b85-44fb-4c20-97df-7aa172242273 (checked 20 recent meetings)\n",
      "INFO:httpx:HTTP Request: GET http://127.0.0.1:8001/api/v1/tools/meetings/active \"HTTP/1.1 200 OK\"\n",
      "INFO:httpx:HTTP Request: GET http://127.0.0.1:8001/api/v1/tools/user/token/id/ef7c085b-fdb5-4c94-b7b6-a61a3d04c210?service_token=stage_token \"HTTP/1.1 200 OK\"\n",
      "INFO:httpx:HTTP Request: GET http://127.0.0.1:8001/api/v1/users/me?token=3ae04e20124d40babc5107e658c666b6 \"HTTP/1.1 200 OK\"\n",
      "ERROR:indexing_new:Error processing meetings for user ef7c085b-fdb5-4c94-b7b6-a61a3d04c210: (sqlalchemy.dialects.postgresql.asyncpg.IntegrityError) <class 'asyncpg.exceptions.UniqueViolationError'>: duplicate key value violates unique constraint \"users_email_key\"\n",
      "DETAIL:  Key (email)=(2280905@gmail.com) already exists.\n",
      "[SQL: INSERT INTO users (id, email, username, first_name, last_name, image, created_timestamp, updated_timestamp) VALUES ($1::UUID, $2::VARCHAR, $3::VARCHAR, $4::VARCHAR, $5::VARCHAR, $6::VARCHAR, $7::TIMESTAMP WITH TIME ZONE, $8::TIMESTAMP WITH TIME ZONE)]\n",
      "[parameters: ('ef7c085b-fdb5-4c94-b7b6-a61a3d04c210', '2280905@gmail.com', 'Dmitriy Grankin', 'Dmitriy', 'Grankin', None, datetime.datetime(2024, 11, 11, 16, 43, 14, 330773, tzinfo=datetime.timezone.utc), datetime.datetime(2024, 11, 11, 16, 43, 14, 331504))]\n",
      "(Background on this error at: https://sqlalche.me/e/20/gkpj)\n"
     ]
    },
    {
     "name": "stdout",
     "output_type": "stream",
     "text": [
      "Vexa token: 3ae04e20124d40babc5107e658c666b6\n",
      "User information retrieved successfully.\n"
     ]
    },
    {
     "name": "stderr",
     "output_type": "stream",
     "text": [
      "INFO:httpx:HTTP Request: GET http://127.0.0.1:8001/api/v1/calls/all?token=e79a7431614546f3b1ec5930ff91015e \"HTTP/1.1 200 OK\"\n",
      "INFO:indexing_new:Added 0 meetings for user 638129fd-9722-4430-bd1d-cd3f9a0c3dd6 (checked 3 recent meetings)\n"
     ]
    },
    {
     "name": "stdout",
     "output_type": "stream",
     "text": [
      "Vexa token: e79a7431614546f3b1ec5930ff91015e\n",
      "Request URL: http://127.0.0.1:8001/api/v1/calls/all\n",
      "Request Params: {'token': 'e79a7431614546f3b1ec5930ff91015e'}\n"
     ]
    },
    {
     "name": "stderr",
     "output_type": "stream",
     "text": [
      "INFO:httpx:HTTP Request: GET http://127.0.0.1:8001/api/v1/tools/meetings/active \"HTTP/1.1 200 OK\"\n",
      "INFO:httpx:HTTP Request: GET http://127.0.0.1:8001/api/v1/calls/all?token=62863718be034fe9aa8044f5048cc367 \"HTTP/1.1 200 OK\"\n",
      "INFO:indexing_new:Added 0 meetings for user e77e9304-9adb-4654-9a9e-3d66fad3f3ac (checked 14 recent meetings)\n"
     ]
    },
    {
     "name": "stdout",
     "output_type": "stream",
     "text": [
      "Vexa token: 62863718be034fe9aa8044f5048cc367\n",
      "Request URL: http://127.0.0.1:8001/api/v1/calls/all\n",
      "Request Params: {'token': '62863718be034fe9aa8044f5048cc367'}\n",
      "Vexa token: 5faa86ba0dc74b14a78c60c8aa20a014\n",
      "Request URL: http://127.0.0.1:8001/api/v1/calls/all\n",
      "Request Params: {'token': '5faa86ba0dc74b14a78c60c8aa20a014'}\n"
     ]
    },
    {
     "name": "stderr",
     "output_type": "stream",
     "text": [
      "INFO:httpx:HTTP Request: GET http://127.0.0.1:8001/api/v1/calls/all?token=5faa86ba0dc74b14a78c60c8aa20a014 \"HTTP/1.1 200 OK\"\n",
      "INFO:indexing_new:Added 0 meetings for user 8b767b85-44fb-4c20-97df-7aa172242273 (checked 20 recent meetings)\n",
      "INFO:httpx:HTTP Request: GET http://127.0.0.1:8001/api/v1/tools/meetings/active \"HTTP/1.1 200 OK\"\n",
      "INFO:httpx:HTTP Request: GET http://127.0.0.1:8001/api/v1/tools/user/token/id/ef7c085b-fdb5-4c94-b7b6-a61a3d04c210?service_token=stage_token \"HTTP/1.1 200 OK\"\n",
      "INFO:httpx:HTTP Request: GET http://127.0.0.1:8001/api/v1/users/me?token=3ae04e20124d40babc5107e658c666b6 \"HTTP/1.1 200 OK\"\n",
      "ERROR:indexing_new:Error processing meetings for user ef7c085b-fdb5-4c94-b7b6-a61a3d04c210: (sqlalchemy.dialects.postgresql.asyncpg.IntegrityError) <class 'asyncpg.exceptions.UniqueViolationError'>: duplicate key value violates unique constraint \"users_email_key\"\n",
      "DETAIL:  Key (email)=(2280905@gmail.com) already exists.\n",
      "[SQL: INSERT INTO users (id, email, username, first_name, last_name, image, created_timestamp, updated_timestamp) VALUES ($1::UUID, $2::VARCHAR, $3::VARCHAR, $4::VARCHAR, $5::VARCHAR, $6::VARCHAR, $7::TIMESTAMP WITH TIME ZONE, $8::TIMESTAMP WITH TIME ZONE)]\n",
      "[parameters: ('ef7c085b-fdb5-4c94-b7b6-a61a3d04c210', '2280905@gmail.com', 'Dmitriy Grankin', 'Dmitriy', 'Grankin', None, datetime.datetime(2024, 11, 11, 16, 43, 23, 991951, tzinfo=datetime.timezone.utc), datetime.datetime(2024, 11, 11, 16, 43, 23, 992651))]\n",
      "(Background on this error at: https://sqlalche.me/e/20/gkpj)\n"
     ]
    },
    {
     "name": "stdout",
     "output_type": "stream",
     "text": [
      "Vexa token: 3ae04e20124d40babc5107e658c666b6\n",
      "User information retrieved successfully.\n"
     ]
    },
    {
     "name": "stderr",
     "output_type": "stream",
     "text": [
      "ERROR:indexing_new:Error processing meeting baed8c5d-3363-4534-a41d-832e95f8dc14: \n",
      "ERROR:indexing_new:Meeting baed8c5d-3363-4534-a41d-832e95f8dc14 failed permanently after 3 retries\n",
      "INFO:httpx:HTTP Request: GET http://127.0.0.1:8001/api/v1/calls/all?token=e79a7431614546f3b1ec5930ff91015e \"HTTP/1.1 200 OK\"\n",
      "INFO:indexing_new:Added 0 meetings for user 638129fd-9722-4430-bd1d-cd3f9a0c3dd6 (checked 3 recent meetings)\n"
     ]
    },
    {
     "name": "stdout",
     "output_type": "stream",
     "text": [
      "Vexa token: e79a7431614546f3b1ec5930ff91015e\n",
      "Request URL: http://127.0.0.1:8001/api/v1/calls/all\n",
      "Request Params: {'token': 'e79a7431614546f3b1ec5930ff91015e'}\n"
     ]
    },
    {
     "name": "stderr",
     "output_type": "stream",
     "text": [
      "INFO:httpx:HTTP Request: GET http://127.0.0.1:8001/api/v1/tools/meetings/active \"HTTP/1.1 200 OK\"\n"
     ]
    }
   ],
   "source": [
    "await pipeline.start()"
   ]
  },
  {
   "cell_type": "code",
   "execution_count": 13,
   "metadata": {},
   "outputs": [],
   "source": [
    "from psql_models import Meeting\n",
    "from psql_helpers import read_table_async"
   ]
  },
  {
   "cell_type": "code",
   "execution_count": 14,
   "metadata": {},
   "outputs": [],
   "source": [
    "from sqlalchemy import select, and_\n",
    "from psql_models import UserToken, UserMeeting,Meeting"
   ]
  },
  {
   "cell_type": "code",
   "execution_count": 19,
   "metadata": {},
   "outputs": [],
   "source": [
    "meetings = await read_table_async(Meeting)\n"
   ]
  },
  {
   "cell_type": "code",
   "execution_count": 22,
   "metadata": {},
   "outputs": [
    {
     "data": {
      "text/plain": [
       "12"
      ]
     },
     "execution_count": 22,
     "metadata": {},
     "output_type": "execute_result"
    }
   ],
   "source": [
    "meetings['meeting_summary'].notna().sum()\n"
   ]
  },
  {
   "cell_type": "code",
   "execution_count": 25,
   "metadata": {},
   "outputs": [],
   "source": [
    "token = 'e79a7431614546f3b1ec5930ff91015e'"
   ]
  },
  {
   "cell_type": "code",
   "execution_count": null,
   "metadata": {},
   "outputs": [],
   "source": []
  },
  {
   "cell_type": "code",
   "execution_count": 26,
   "metadata": {},
   "outputs": [
    {
     "name": "stderr",
     "output_type": "stream",
     "text": [
      "INFO:httpx:HTTP Request: GET http://127.0.0.1:8001/api/v1/calls/all?token=e79a7431614546f3b1ec5930ff91015e \"HTTP/1.1 200 OK\"\n"
     ]
    },
    {
     "name": "stdout",
     "output_type": "stream",
     "text": [
      "Vexa token: e79a7431614546f3b1ec5930ff91015e\n",
      "Request URL: http://127.0.0.1:8001/api/v1/calls/all\n",
      "Request Params: {'token': 'e79a7431614546f3b1ec5930ff91015e'}\n"
     ]
    }
   ],
   "source": [
    "vexa_api = VexaAPI(token=token)\n",
    "meetings = await vexa_api.get_meetings()"
   ]
  },
  {
   "cell_type": "code",
   "execution_count": 34,
   "metadata": {},
   "outputs": [
    {
     "name": "stderr",
     "output_type": "stream",
     "text": [
      "INFO:httpx:HTTP Request: GET http://127.0.0.1:8001/api/v1/tools/meetings/active \"HTTP/1.1 200 OK\"\n"
     ]
    },
    {
     "data": {
      "text/plain": [
       "[{'id': 'a9f75311-3e72-4925-a6e8-e286d1346b07',\n",
       "  'external_id': 'oaz-qfgy-vsb',\n",
       "  'title': 'meeting_2024-11-11T13:21:28.686524+00:00',\n",
       "  'created_at': '2024-11-11T13:21:28.686524Z',\n",
       "  'updated_at': '2024-11-11T13:21:28.686529Z',\n",
       "  'user_ids': ['638129fd-9722-4430-bd1d-cd3f9a0c3dd6',\n",
       "   '638129fd-9722-4430-bd1d-cd3f9a0c3dd6'],\n",
       "  'sessions': [{'id': '6fb41ae1-e7ae-4005-9d00-6e6f665bb674',\n",
       "    'start_timestamp': '2024-11-11T13:21:15Z',\n",
       "    'finish_timestamp': None}]},\n",
       " {'id': 'b85a7f1a-321f-43c1-b475-f4726f532ed7',\n",
       "  'external_id': 'isc-jsgg-sfm',\n",
       "  'title': 'meeting_2024-11-11T14:37:25.199149+00:00',\n",
       "  'created_at': '2024-11-11T14:37:25.199149Z',\n",
       "  'updated_at': '2024-11-11T14:37:25.199152Z',\n",
       "  'user_ids': ['8b767b85-44fb-4c20-97df-7aa172242273'],\n",
       "  'sessions': [{'id': '9d474f0c-4b20-45b8-9beb-29bd4cc490f3',\n",
       "    'start_timestamp': '2024-11-11T14:37:16Z',\n",
       "    'finish_timestamp': None}]}]"
      ]
     },
     "execution_count": 34,
     "metadata": {},
     "output_type": "execute_result"
    }
   ],
   "source": [
    "await vexa_auth.get_active_meetings()"
   ]
  },
  {
   "cell_type": "code",
   "execution_count": 31,
   "metadata": {},
   "outputs": [
    {
     "data": {
      "text/plain": [
       "[{'id': '6e7334f3-544b-4b0a-a787-cf7299d45579',\n",
       "  'title': 'call_2024-11-07T14:26:06+00:00',\n",
       "  'start_timestamp': '2024-11-07T14:26:06Z',\n",
       "  'finish_timestamp': '2024-11-07T14:27:21.886000Z',\n",
       "  'meeting': {'id': '7c403a67-6765-481b-835c-0e7588323e8d',\n",
       "   'external_id': 'twj-rkdu-maj',\n",
       "   'title': None}},\n",
       " {'id': '8d0f7a03-3f3f-4f1e-b1db-3bc9cbbc400b',\n",
       "  'title': 'call_2024-11-11T12:00:07+00:00',\n",
       "  'start_timestamp': '2024-11-11T12:00:07Z',\n",
       "  'finish_timestamp': '2024-11-11T12:36:52.748000Z',\n",
       "  'meeting': {'id': 'be441d82-4b32-4131-a44c-7926fb86c67d',\n",
       "   'external_id': 'gvz-ghwt-ycf',\n",
       "   'title': None}},\n",
       " {'id': '6fb41ae1-e7ae-4005-9d00-6e6f665bb674',\n",
       "  'title': 'call_2024-11-11T13:21:15+00:00',\n",
       "  'start_timestamp': '2024-11-11T13:21:15Z',\n",
       "  'finish_timestamp': None,\n",
       "  'meeting': {'id': 'a9f75311-3e72-4925-a6e8-e286d1346b07',\n",
       "   'external_id': 'oaz-qfgy-vsb',\n",
       "   'title': None}}]"
      ]
     },
     "execution_count": 31,
     "metadata": {},
     "output_type": "execute_result"
    }
   ],
   "source": [
    "meetings"
   ]
  },
  {
   "cell_type": "code",
   "execution_count": 28,
   "metadata": {},
   "outputs": [],
   "source": [
    "from psql_models import Meeting, UserMeeting"
   ]
  },
  {
   "cell_type": "code",
   "execution_count": 30,
   "metadata": {},
   "outputs": [
    {
     "data": {
      "text/plain": [
       "'a9f75311-3e72-4925-a6e8-e286d1346b07'"
      ]
     },
     "execution_count": 30,
     "metadata": {},
     "output_type": "execute_result"
    }
   ],
   "source": [
    "meeting_id"
   ]
  },
  {
   "cell_type": "code",
   "execution_count": 29,
   "metadata": {},
   "outputs": [
    {
     "data": {
      "text/html": [
       "<div>\n",
       "<style scoped>\n",
       "    .dataframe tbody tr th:only-of-type {\n",
       "        vertical-align: middle;\n",
       "    }\n",
       "\n",
       "    .dataframe tbody tr th {\n",
       "        vertical-align: top;\n",
       "    }\n",
       "\n",
       "    .dataframe thead th {\n",
       "        text-align: right;\n",
       "    }\n",
       "</style>\n",
       "<table border=\"1\" class=\"dataframe\">\n",
       "  <thead>\n",
       "    <tr style=\"text-align: right;\">\n",
       "      <th></th>\n",
       "      <th>id</th>\n",
       "      <th>meeting_id</th>\n",
       "      <th>transcript</th>\n",
       "      <th>timestamp</th>\n",
       "      <th>meeting_name</th>\n",
       "      <th>meeting_summary</th>\n",
       "    </tr>\n",
       "  </thead>\n",
       "  <tbody>\n",
       "    <tr>\n",
       "      <th>0</th>\n",
       "      <td>1</td>\n",
       "      <td>6e7334f3-544b-4b0a-a787-cf7299d45579</td>\n",
       "      <td>None</td>\n",
       "      <td>2024-11-07 14:26:06</td>\n",
       "      <td>call_2024-11-07T14:26:06+00:00</td>\n",
       "      <td>None</td>\n",
       "    </tr>\n",
       "    <tr>\n",
       "      <th>1</th>\n",
       "      <td>2</td>\n",
       "      <td>8d0f7a03-3f3f-4f1e-b1db-3bc9cbbc400b</td>\n",
       "      <td>None</td>\n",
       "      <td>2024-11-11 12:00:07</td>\n",
       "      <td>call_2024-11-11T12:00:07+00:00</td>\n",
       "      <td>None</td>\n",
       "    </tr>\n",
       "    <tr>\n",
       "      <th>2</th>\n",
       "      <td>3</td>\n",
       "      <td>6fb41ae1-e7ae-4005-9d00-6e6f665bb674</td>\n",
       "      <td>None</td>\n",
       "      <td>2024-11-11 13:21:15</td>\n",
       "      <td>call_2024-11-11T13:21:15+00:00</td>\n",
       "      <td>None</td>\n",
       "    </tr>\n",
       "  </tbody>\n",
       "</table>\n",
       "</div>"
      ],
      "text/plain": [
       "   id                            meeting_id transcript           timestamp  \\\n",
       "0   1  6e7334f3-544b-4b0a-a787-cf7299d45579       None 2024-11-07 14:26:06   \n",
       "1   2  8d0f7a03-3f3f-4f1e-b1db-3bc9cbbc400b       None 2024-11-11 12:00:07   \n",
       "2   3  6fb41ae1-e7ae-4005-9d00-6e6f665bb674       None 2024-11-11 13:21:15   \n",
       "\n",
       "                     meeting_name meeting_summary  \n",
       "0  call_2024-11-07T14:26:06+00:00            None  \n",
       "1  call_2024-11-11T12:00:07+00:00            None  \n",
       "2  call_2024-11-11T13:21:15+00:00            None  "
      ]
     },
     "execution_count": 29,
     "metadata": {},
     "output_type": "execute_result"
    }
   ],
   "source": [
    "await read_table_async(Meeting)\n"
   ]
  },
  {
   "cell_type": "code",
   "execution_count": null,
   "metadata": {},
   "outputs": [],
   "source": []
  },
  {
   "cell_type": "code",
   "execution_count": null,
   "metadata": {},
   "outputs": [],
   "source": []
  },
  {
   "cell_type": "code",
   "execution_count": 22,
   "metadata": {},
   "outputs": [
    {
     "data": {
      "text/plain": [
       "{'queue_stats': {'active_meetings': {'count': 1,\n",
       "   'items': ['a9f75311-3e72-4925-a6e8-e286d1346b07']},\n",
       "  'queued_meetings': {'count': 3,\n",
       "   'items': [{'id': '8d0f7a03-3f3f-4f1e-b1db-3bc9cbbc400b',\n",
       "     'scheduled_time': '2024-11-11T16:44:17.100661'},\n",
       "    {'id': '6fb41ae1-e7ae-4005-9d00-6e6f665bb674',\n",
       "     'scheduled_time': '2024-11-11T16:44:17.102452'},\n",
       "    {'id': '6e7334f3-544b-4b0a-a787-cf7299d45579',\n",
       "     'scheduled_time': '2024-11-11T16:49:24.847961'}]},\n",
       "  'processing_meetings': {'count': 0, 'items': []},\n",
       "  'failed_meetings': {'count': 0, 'items': {}},\n",
       "  'seen_users': {'count': 1,\n",
       "   'items': ['638129fd-9722-4430-bd1d-cd3f9a0c3dd6']},\n",
       "  'retry_counts': {'350937fb-6eb9-4b21-bcae-eafc2ffbcae5': 3,\n",
       "   '1d5587f4-d88d-44a6-88ee-bfaf3e875c8e': 3,\n",
       "   '6e7334f3-544b-4b0a-a787-cf7299d45579': 2,\n",
       "   '42b2f1db-a1b1-423e-90f3-79330320e4f9': 1,\n",
       "   '8c7fd54a-fb7b-48dc-b91c-0d857579ec4f': 2,\n",
       "   '0e6d4428-6c61-4289-91e4-7173b1a21121': 2},\n",
       "  'last_active_check': '2024-11-11T16:47:08.220428'},\n",
       " 'database_stats': {'total_meetings': 148,\n",
       "  'indexed_meetings': 148,\n",
       "  'total_users': 3,\n",
       "  'indexing_progress': '100.00%'}}"
      ]
     },
     "execution_count": 22,
     "metadata": {},
     "output_type": "execute_result"
    }
   ],
   "source": [
    "await pipeline.get_detailed_stats()"
   ]
  },
  {
   "cell_type": "code",
   "execution_count": null,
   "metadata": {},
   "outputs": [],
   "source": []
  },
  {
   "cell_type": "code",
   "execution_count": null,
   "metadata": {},
   "outputs": [],
   "source": [
    "\n",
    "self = IndexingWorker(redis)"
   ]
  },
  {
   "cell_type": "code",
   "execution_count": 15,
   "metadata": {},
   "outputs": [],
   "source": [
    "next_meetings = self.redis.zrange(\n",
    "                    RedisKeys.INDEXING_QUEUE, \n",
    "                    0, \n",
    "                    0, \n",
    "                    withscores=True\n",
    "                )"
   ]
  },
  {
   "cell_type": "code",
   "execution_count": 16,
   "metadata": {},
   "outputs": [
    {
     "data": {
      "text/plain": [
       "[]"
      ]
     },
     "execution_count": 16,
     "metadata": {},
     "output_type": "execute_result"
    }
   ],
   "source": [
    "next_meetings"
   ]
  },
  {
   "cell_type": "code",
   "execution_count": 35,
   "metadata": {},
   "outputs": [
    {
     "ename": "TypeError",
     "evalue": "IndexingPipeline.reset_queues() missing 1 required positional argument: 'self'",
     "output_type": "error",
     "traceback": [
      "\u001b[0;31m---------------------------------------------------------------------------\u001b[0m",
      "\u001b[0;31mTypeError\u001b[0m                                 Traceback (most recent call last)",
      "Cell \u001b[0;32mIn[35], line 1\u001b[0m\n\u001b[0;32m----> 1\u001b[0m \u001b[43mIndexingPipeline\u001b[49m\u001b[38;5;241;43m.\u001b[39;49m\u001b[43mreset_queues\u001b[49m\u001b[43m(\u001b[49m\u001b[43m)\u001b[49m\n",
      "\u001b[0;31mTypeError\u001b[0m: IndexingPipeline.reset_queues() missing 1 required positional argument: 'self'"
     ]
    }
   ],
   "source": [
    "IndexingPipeline.reset_queues()"
   ]
  },
  {
   "cell_type": "code",
   "execution_count": 36,
   "metadata": {},
   "outputs": [
    {
     "name": "stderr",
     "output_type": "stream",
     "text": [
      "INFO:sentence_transformers.SentenceTransformer:Load pretrained SentenceTransformer: paraphrase-multilingual-MiniLM-L12-v2\n"
     ]
    },
    {
     "name": "stderr",
     "output_type": "stream",
     "text": [
      "/home/dima/anaconda3/envs/langchain/lib/python3.11/site-packages/huggingface_hub/file_download.py:1132: FutureWarning: `resume_download` is deprecated and will be removed in version 1.0.0. Downloads always resume when possible. If you want to force a new download, use `force_download=True`.\n",
      "  warnings.warn(\n"
     ]
    },
    {
     "data": {
      "application/vnd.jupyter.widget-view+json": {
       "model_id": "bd3f178e3a24450ca65f117c672c222d",
       "version_major": 2,
       "version_minor": 0
      },
      "text/plain": [
       "Fetching 29 files:   0%|          | 0/29 [00:00<?, ?it/s]"
      ]
     },
     "metadata": {},
     "output_type": "display_data"
    },
    {
     "data": {
      "text/plain": [
       "{'status': 'success', 'message': 'All queues have been reset'}"
      ]
     },
     "execution_count": 36,
     "metadata": {},
     "output_type": "execute_result"
    }
   ],
   "source": [
    "from indexing_new import IndexingPipeline\n",
    "indexing_pipeline = IndexingPipeline()\n",
    "indexing_pipeline.reset_queues()\n"
   ]
  },
  {
   "cell_type": "code",
   "execution_count": 4,
   "metadata": {},
   "outputs": [
    {
     "name": "stderr",
     "output_type": "stream",
     "text": [
      "INFO:indexing_new:Starting Indexing Pipeline\n",
      "INFO:indexing_new:Starting Active Meetings Monitor\n",
      "INFO:indexing_new:Starting User Meetings Scanner\n",
      "INFO:indexing_new:Starting Indexing Worker\n",
      "INFO:httpx:HTTP Request: GET http://127.0.0.1:8001/api/v1/tools/meetings/active \"HTTP/1.1 200 OK\"\n"
     ]
    },
    {
     "name": "stderr",
     "output_type": "stream",
     "text": [
      "INFO:httpx:HTTP Request: GET http://127.0.0.1:8001/api/v1/tools/meetings/active \"HTTP/1.1 200 OK\"\n"
     ]
    },
    {
     "ename": "CancelledError",
     "evalue": "",
     "output_type": "error",
     "traceback": [
      "\u001b[0;31m---------------------------------------------------------------------------\u001b[0m",
      "\u001b[0;31mCancelledError\u001b[0m                            Traceback (most recent call last)",
      "Cell \u001b[0;32mIn[4], line 1\u001b[0m\n\u001b[0;32m----> 1\u001b[0m \u001b[38;5;28;01mawait\u001b[39;00m indexing_pipeline\u001b[38;5;241m.\u001b[39mstart()\n",
      "File \u001b[0;32m~/playground/dev_multiassistant/back/indexing_new.py:500\u001b[0m, in \u001b[0;36mIndexingPipeline.start\u001b[0;34m(self)\u001b[0m\n\u001b[1;32m    498\u001b[0m \u001b[38;5;28;01masync\u001b[39;00m \u001b[38;5;28;01mdef\u001b[39;00m \u001b[38;5;21mstart\u001b[39m(\u001b[38;5;28mself\u001b[39m):\n\u001b[1;32m    499\u001b[0m     logger\u001b[38;5;241m.\u001b[39minfo(\u001b[38;5;124m\"\u001b[39m\u001b[38;5;124mStarting Indexing Pipeline\u001b[39m\u001b[38;5;124m\"\u001b[39m)\n\u001b[0;32m--> 500\u001b[0m     \u001b[38;5;28;01mawait\u001b[39;00m asyncio\u001b[38;5;241m.\u001b[39mgather(\n\u001b[1;32m    501\u001b[0m         \u001b[38;5;28mself\u001b[39m\u001b[38;5;241m.\u001b[39mmonitor\u001b[38;5;241m.\u001b[39mrun(),\n\u001b[1;32m    502\u001b[0m         \u001b[38;5;28mself\u001b[39m\u001b[38;5;241m.\u001b[39mscanner\u001b[38;5;241m.\u001b[39mrun(),\n\u001b[1;32m    503\u001b[0m         \u001b[38;5;28mself\u001b[39m\u001b[38;5;241m.\u001b[39mworker\u001b[38;5;241m.\u001b[39mrun()\n\u001b[1;32m    504\u001b[0m     )\n",
      "File \u001b[0;32m~/playground/dev_multiassistant/back/indexing_new.py:432\u001b[0m, in \u001b[0;36mIndexingWorker.run\u001b[0;34m(self)\u001b[0m\n\u001b[1;32m    429\u001b[0m         \u001b[38;5;28;01masync\u001b[39;00m \u001b[38;5;28;01mwith\u001b[39;00m \u001b[38;5;28mself\u001b[39m\u001b[38;5;241m.\u001b[39msemaphore:\n\u001b[1;32m    430\u001b[0m             \u001b[38;5;28;01mawait\u001b[39;00m \u001b[38;5;28mself\u001b[39m\u001b[38;5;241m.\u001b[39m_process_meeting(meeting_id)\n\u001b[0;32m--> 432\u001b[0m     \u001b[38;5;28;01mawait\u001b[39;00m asyncio\u001b[38;5;241m.\u001b[39msleep(\u001b[38;5;28mself\u001b[39m\u001b[38;5;241m.\u001b[39mprocess_interval)\n\u001b[1;32m    433\u001b[0m \u001b[38;5;28;01mexcept\u001b[39;00m \u001b[38;5;167;01mException\u001b[39;00m \u001b[38;5;28;01mas\u001b[39;00m e:\n\u001b[1;32m    434\u001b[0m     logger\u001b[38;5;241m.\u001b[39merror(\u001b[38;5;124mf\u001b[39m\u001b[38;5;124m\"\u001b[39m\u001b[38;5;124mError in Indexing Worker main loop: \u001b[39m\u001b[38;5;132;01m{\u001b[39;00me\u001b[38;5;132;01m}\u001b[39;00m\u001b[38;5;124m\"\u001b[39m)\n",
      "File \u001b[0;32m~/anaconda3/envs/langchain/lib/python3.11/asyncio/tasks.py:639\u001b[0m, in \u001b[0;36msleep\u001b[0;34m(delay, result)\u001b[0m\n\u001b[1;32m    635\u001b[0m h \u001b[38;5;241m=\u001b[39m loop\u001b[38;5;241m.\u001b[39mcall_later(delay,\n\u001b[1;32m    636\u001b[0m                     futures\u001b[38;5;241m.\u001b[39m_set_result_unless_cancelled,\n\u001b[1;32m    637\u001b[0m                     future, result)\n\u001b[1;32m    638\u001b[0m \u001b[38;5;28;01mtry\u001b[39;00m:\n\u001b[0;32m--> 639\u001b[0m     \u001b[38;5;28;01mreturn\u001b[39;00m \u001b[38;5;28;01mawait\u001b[39;00m future\n\u001b[1;32m    640\u001b[0m \u001b[38;5;28;01mfinally\u001b[39;00m:\n\u001b[1;32m    641\u001b[0m     h\u001b[38;5;241m.\u001b[39mcancel()\n",
      "\u001b[0;31mCancelledError\u001b[0m: "
     ]
    }
   ],
   "source": [
    "await indexing_pipeline.start()"
   ]
  },
  {
   "cell_type": "code",
   "execution_count": 2,
   "metadata": {},
   "outputs": [],
   "source": [
    "from vexa import VexaAuth\n",
    "\n",
    "vexa_auth = VexaAuth()"
   ]
  },
  {
   "cell_type": "code",
   "execution_count": 6,
   "metadata": {},
   "outputs": [],
   "source": []
  },
  {
   "cell_type": "code",
   "execution_count": null,
   "metadata": {},
   "outputs": [],
   "source": [
    "from indexing_new import IndexingPipeline"
   ]
  },
  {
   "cell_type": "code",
   "execution_count": null,
   "metadata": {},
   "outputs": [],
   "source": []
  },
  {
   "cell_type": "code",
   "execution_count": null,
   "metadata": {},
   "outputs": [],
   "source": []
  },
  {
   "cell_type": "code",
   "execution_count": 20,
   "metadata": {},
   "outputs": [],
   "source": [
    "from indexing_new import ActiveMeetingsMonitor\n",
    "\n",
    "active_meetings_monitor = ActiveMeetingsMonitor(redis,vexa_auth,check_interval=10)\n",
    "\n"
   ]
  },
  {
   "cell_type": "code",
   "execution_count": 21,
   "metadata": {},
   "outputs": [
    {
     "name": "stderr",
     "output_type": "stream",
     "text": [
      "INFO:httpx:HTTP Request: GET http://127.0.0.1:8001/api/v1/tools/meetings/active \"HTTP/1.1 200 OK\"\n"
     ]
    }
   ],
   "source": [
    "await active_meetings_monitor._process_active_meetings()\n"
   ]
  },
  {
   "cell_type": "code",
   "execution_count": null,
   "metadata": {},
   "outputs": [],
   "source": []
  },
  {
   "cell_type": "code",
   "execution_count": null,
   "metadata": {},
   "outputs": [],
   "source": []
  },
  {
   "cell_type": "code",
   "execution_count": 3,
   "metadata": {},
   "outputs": [
    {
     "data": {
      "text/plain": [
       "[{'id': '6fa923bb-1845-48c2-b865-bd399a426700',\n",
       "  'external_id': 'hys-pdhy-kcu',\n",
       "  'title': 'meeting_2024-06-27T10:36:14.661619+00:00',\n",
       "  'created_at': '2024-06-27T10:36:14.661619Z',\n",
       "  'updated_at': '2024-06-27T10:36:14.661623Z',\n",
       "  'user_ids': ['b7a44b71-c622-420a-aa03-58f996f4c863',\n",
       "   'b7a44b71-c622-420a-aa03-58f996f4c863',\n",
       "   'b7a44b71-c622-420a-aa03-58f996f4c863',\n",
       "   'b7a44b71-c622-420a-aa03-58f996f4c863',\n",
       "   'b7a44b71-c622-420a-aa03-58f996f4c863',\n",
       "   'b7a44b71-c622-420a-aa03-58f996f4c863',\n",
       "   'b7a44b71-c622-420a-aa03-58f996f4c863',\n",
       "   'b7a44b71-c622-420a-aa03-58f996f4c863',\n",
       "   'b7a44b71-c622-420a-aa03-58f996f4c863',\n",
       "   'b7a44b71-c622-420a-aa03-58f996f4c863',\n",
       "   'b7a44b71-c622-420a-aa03-58f996f4c863',\n",
       "   'b7a44b71-c622-420a-aa03-58f996f4c863',\n",
       "   'b7a44b71-c622-420a-aa03-58f996f4c863',\n",
       "   'b7a44b71-c622-420a-aa03-58f996f4c863',\n",
       "   'b7a44b71-c622-420a-aa03-58f996f4c863',\n",
       "   'b7a44b71-c622-420a-aa03-58f996f4c863',\n",
       "   'b7a44b71-c622-420a-aa03-58f996f4c863',\n",
       "   'b7a44b71-c622-420a-aa03-58f996f4c863',\n",
       "   'b7a44b71-c622-420a-aa03-58f996f4c863',\n",
       "   'b7a44b71-c622-420a-aa03-58f996f4c863',\n",
       "   'b7a44b71-c622-420a-aa03-58f996f4c863',\n",
       "   'b7a44b71-c622-420a-aa03-58f996f4c863',\n",
       "   'b7a44b71-c622-420a-aa03-58f996f4c863',\n",
       "   'b7a44b71-c622-420a-aa03-58f996f4c863',\n",
       "   'b7a44b71-c622-420a-aa03-58f996f4c863',\n",
       "   'b7a44b71-c622-420a-aa03-58f996f4c863',\n",
       "   'b7a44b71-c622-420a-aa03-58f996f4c863',\n",
       "   'b7a44b71-c622-420a-aa03-58f996f4c863',\n",
       "   'b7a44b71-c622-420a-aa03-58f996f4c863',\n",
       "   'b7a44b71-c622-420a-aa03-58f996f4c863',\n",
       "   'b5651caf-b466-48a7-ac67-648a47ff3b93',\n",
       "   'b5651caf-b466-48a7-ac67-648a47ff3b93'],\n",
       "  'sessions': [{'id': 'e706dbcc-4bd5-4435-b2e1-67a6044f0e1f',\n",
       "    'start_timestamp': '2024-11-11T11:31:12Z',\n",
       "    'finish_timestamp': None}]},\n",
       " {'id': 'be441d82-4b32-4131-a44c-7926fb86c67d',\n",
       "  'external_id': 'gvz-ghwt-ycf',\n",
       "  'title': 'meeting_2024-11-11T12:00:11.483438+00:00',\n",
       "  'created_at': '2024-11-11T12:00:11.483438Z',\n",
       "  'updated_at': '2024-11-11T12:00:11.483440Z',\n",
       "  'user_ids': ['638129fd-9722-4430-bd1d-cd3f9a0c3dd6',\n",
       "   '638129fd-9722-4430-bd1d-cd3f9a0c3dd6'],\n",
       "  'sessions': [{'id': '8d0f7a03-3f3f-4f1e-b1db-3bc9cbbc400b',\n",
       "    'start_timestamp': '2024-11-11T12:00:07Z',\n",
       "    'finish_timestamp': None}]},\n",
       " {'id': 'aab4d3c3-b370-4183-b7b2-e5927c115146',\n",
       "  'external_id': 'yzt-gwse-vzi',\n",
       "  'title': 'meeting_2024-11-11T11:16:26.063407+00:00',\n",
       "  'created_at': '2024-11-11T11:16:26.063407Z',\n",
       "  'updated_at': '2024-11-11T11:16:26.063411Z',\n",
       "  'user_ids': ['8b767b85-44fb-4c20-97df-7aa172242273'],\n",
       "  'sessions': [{'id': '2282ae72-ce59-4313-aaea-f165c021048d',\n",
       "    'start_timestamp': '2024-11-11T11:16:25Z',\n",
       "    'finish_timestamp': None}]},\n",
       " {'id': '5cc53112-4f0d-447a-9c87-bc3ee3d0a4ed',\n",
       "  'external_id': 'jha-wyjm-tpm',\n",
       "  'title': 'meeting_2024-11-11T12:01:46.903186+00:00',\n",
       "  'created_at': '2024-11-11T12:01:46.903186Z',\n",
       "  'updated_at': '2024-11-11T12:01:46.903192Z',\n",
       "  'user_ids': ['3ae88d90-6f28-43d1-a5d8-043851d261cd'],\n",
       "  'sessions': [{'id': '38171212-0dfc-429a-b102-05824dbd25b8',\n",
       "    'start_timestamp': '2024-11-11T12:01:48Z',\n",
       "    'finish_timestamp': None}]}]"
      ]
     },
     "execution_count": 3,
     "metadata": {},
     "output_type": "execute_result"
    }
   ],
   "source": [
    "await vexa_auth.get_active_meetings()"
   ]
  },
  {
   "cell_type": "code",
   "execution_count": 4,
   "metadata": {},
   "outputs": [
    {
     "name": "stdout",
     "output_type": "stream",
     "text": [
      "Vexa token: 3ae04e20124d40babc5107e658c666b6\n",
      "Request URL: http://127.0.0.1:8001/api/v1/calls/all\n",
      "Request Params: {'token': '3ae04e20124d40babc5107e658c666b6'}\n"
     ]
    },
    {
     "data": {
      "text/plain": [
       "{'id': 'a88412e4-3df6-4c31-92d7-78b354c741bc',\n",
       " 'title': 'call_2024-11-10T18:59:16+00:00',\n",
       " 'start_timestamp': '2024-11-10T18:59:16Z',\n",
       " 'finish_timestamp': None,\n",
       " 'meeting': {'id': '9a810762-d873-4c7a-a4e2-fb31854755d0',\n",
       "  'external_id': 'arw-drqb-gvh',\n",
       "  'title': None}}"
      ]
     },
     "execution_count": 4,
     "metadata": {},
     "output_type": "execute_result"
    }
   ],
   "source": [
    "from vexa import VexaAPI \n",
    "vexa_api = VexaAPI()\n",
    "meetings = await vexa_api.get_meetings()\n",
    "meetings[-1]"
   ]
  },
  {
   "cell_type": "code",
   "execution_count": 6,
   "metadata": {},
   "outputs": [],
   "source": [
    "import pandas as pd"
   ]
  },
  {
   "cell_type": "code",
   "execution_count": 11,
   "metadata": {},
   "outputs": [],
   "source": [
    "df = pd.DataFrame(meetings)"
   ]
  },
  {
   "cell_type": "code",
   "execution_count": 15,
   "metadata": {},
   "outputs": [],
   "source": [
    "df['start_timestamp'] = pd.to_datetime(df['start_timestamp'],format = 'mixed')"
   ]
  },
  {
   "cell_type": "code",
   "execution_count": 17,
   "metadata": {},
   "outputs": [
    {
     "data": {
      "text/html": [
       "<div>\n",
       "<style scoped>\n",
       "    .dataframe tbody tr th:only-of-type {\n",
       "        vertical-align: middle;\n",
       "    }\n",
       "\n",
       "    .dataframe tbody tr th {\n",
       "        vertical-align: top;\n",
       "    }\n",
       "\n",
       "    .dataframe thead th {\n",
       "        text-align: right;\n",
       "    }\n",
       "</style>\n",
       "<table border=\"1\" class=\"dataframe\">\n",
       "  <thead>\n",
       "    <tr style=\"text-align: right;\">\n",
       "      <th></th>\n",
       "      <th>id</th>\n",
       "      <th>title</th>\n",
       "      <th>start_timestamp</th>\n",
       "      <th>finish_timestamp</th>\n",
       "      <th>meeting</th>\n",
       "    </tr>\n",
       "  </thead>\n",
       "  <tbody>\n",
       "    <tr>\n",
       "      <th>0</th>\n",
       "      <td>bc0bcb5d-5d27-437e-9be9-1d368bdcdcd3</td>\n",
       "      <td>call_2024-06-03T09:14:48.631110+00:00</td>\n",
       "      <td>2024-06-03T09:14:48.631110Z</td>\n",
       "      <td>2024-06-13T09:37:41.113555Z</td>\n",
       "      <td>{'id': 'cd81c41a-0eba-4021-93e2-f740d95df46e',...</td>\n",
       "    </tr>\n",
       "    <tr>\n",
       "      <th>1</th>\n",
       "      <td>53cca12b-daee-49b3-9276-ec708043a023</td>\n",
       "      <td>call_2024-06-03T09:31:12.228905+00:00</td>\n",
       "      <td>2024-06-03T09:31:12.228905Z</td>\n",
       "      <td>2024-06-13T10:28:22.068485Z</td>\n",
       "      <td>{'id': '85f9c1e3-c299-48a2-a660-2a77b8af8991',...</td>\n",
       "    </tr>\n",
       "    <tr>\n",
       "      <th>2</th>\n",
       "      <td>7e58a9c6-047b-478b-8f41-922b6ef137c2</td>\n",
       "      <td>call_2024-06-03T10:27:38.112013+00:00</td>\n",
       "      <td>2024-06-03T10:27:38.112013Z</td>\n",
       "      <td>2024-06-03T10:28:52.508013Z</td>\n",
       "      <td>{'id': 'd7cdf053-42fd-4e09-8b92-f3a51a6db475',...</td>\n",
       "    </tr>\n",
       "    <tr>\n",
       "      <th>3</th>\n",
       "      <td>9f2b0996-8b2c-4a0d-b2ba-39f903f6e563</td>\n",
       "      <td>call_2024-06-03T11:40:20.036272+00:00</td>\n",
       "      <td>2024-06-03T11:40:20.036272Z</td>\n",
       "      <td>2024-06-03T11:49:09.011290Z</td>\n",
       "      <td>{'id': 'b321b1c4-887c-4945-b099-916994697ab3',...</td>\n",
       "    </tr>\n",
       "    <tr>\n",
       "      <th>4</th>\n",
       "      <td>cebb9ac0-ad53-401b-913c-4b5b2d076d2c</td>\n",
       "      <td>call_2024-06-03T12:07:40.232278+00:00</td>\n",
       "      <td>2024-06-03T12:07:40.232278Z</td>\n",
       "      <td>2024-06-03T12:09:37.360278Z</td>\n",
       "      <td>{'id': '66050fcd-7778-468f-b8af-26bc78bf8b23',...</td>\n",
       "    </tr>\n",
       "    <tr>\n",
       "      <th>...</th>\n",
       "      <td>...</td>\n",
       "      <td>...</td>\n",
       "      <td>...</td>\n",
       "      <td>...</td>\n",
       "      <td>...</td>\n",
       "    </tr>\n",
       "    <tr>\n",
       "      <th>635</th>\n",
       "      <td>ab27bb1f-93d5-4500-9865-6f5de4d433ea</td>\n",
       "      <td>call_2024-11-04T16:52:05+00:00</td>\n",
       "      <td>2024-11-04T16:52:05Z</td>\n",
       "      <td>2024-11-04T16:59:45.995999Z</td>\n",
       "      <td>{'id': '11d3b4fb-1f22-45b9-ab2a-f262b27f7f6c',...</td>\n",
       "    </tr>\n",
       "    <tr>\n",
       "      <th>636</th>\n",
       "      <td>842afeb6-ab24-4a2c-87f2-49a7a1456e12</td>\n",
       "      <td>call_2024-11-04T19:48:36+00:00</td>\n",
       "      <td>2024-11-04T19:48:36Z</td>\n",
       "      <td>2024-11-04T19:48:42.120000Z</td>\n",
       "      <td>{'id': '6e9d2fad-02a2-4705-b276-49b1d6bfbdbd',...</td>\n",
       "    </tr>\n",
       "    <tr>\n",
       "      <th>637</th>\n",
       "      <td>1a7354c8-649d-4356-94dd-0da191c3f665</td>\n",
       "      <td>call_2024-11-05T09:37:45+00:00</td>\n",
       "      <td>2024-11-05T09:37:45Z</td>\n",
       "      <td>2024-11-05T09:37:50Z</td>\n",
       "      <td>{'id': '8f45919c-f320-4989-8a1e-616d8f82c9c4',...</td>\n",
       "    </tr>\n",
       "    <tr>\n",
       "      <th>638</th>\n",
       "      <td>8ff59e4c-7cf3-444d-88bc-c6b25392e3e2</td>\n",
       "      <td>call_2024-11-06T15:42:37+00:00</td>\n",
       "      <td>2024-11-06T15:42:37Z</td>\n",
       "      <td>2024-11-06T16:41:07.924000Z</td>\n",
       "      <td>{'id': '464b791c-6905-4ebb-9ef5-c24f9d1e034d',...</td>\n",
       "    </tr>\n",
       "    <tr>\n",
       "      <th>639</th>\n",
       "      <td>c67de1f3-8677-4596-9dc0-831e11cac7fb</td>\n",
       "      <td>call_2024-11-07T10:07:13+00:00</td>\n",
       "      <td>2024-11-07T10:07:13Z</td>\n",
       "      <td>2024-11-07T11:24:23.045989Z</td>\n",
       "      <td>{'id': '44c4d363-f52b-4f29-ae99-b5c3902c60f1',...</td>\n",
       "    </tr>\n",
       "  </tbody>\n",
       "</table>\n",
       "<p>640 rows × 5 columns</p>\n",
       "</div>"
      ],
      "text/plain": [
       "                                       id  \\\n",
       "0    bc0bcb5d-5d27-437e-9be9-1d368bdcdcd3   \n",
       "1    53cca12b-daee-49b3-9276-ec708043a023   \n",
       "2    7e58a9c6-047b-478b-8f41-922b6ef137c2   \n",
       "3    9f2b0996-8b2c-4a0d-b2ba-39f903f6e563   \n",
       "4    cebb9ac0-ad53-401b-913c-4b5b2d076d2c   \n",
       "..                                    ...   \n",
       "635  ab27bb1f-93d5-4500-9865-6f5de4d433ea   \n",
       "636  842afeb6-ab24-4a2c-87f2-49a7a1456e12   \n",
       "637  1a7354c8-649d-4356-94dd-0da191c3f665   \n",
       "638  8ff59e4c-7cf3-444d-88bc-c6b25392e3e2   \n",
       "639  c67de1f3-8677-4596-9dc0-831e11cac7fb   \n",
       "\n",
       "                                     title              start_timestamp  \\\n",
       "0    call_2024-06-03T09:14:48.631110+00:00  2024-06-03T09:14:48.631110Z   \n",
       "1    call_2024-06-03T09:31:12.228905+00:00  2024-06-03T09:31:12.228905Z   \n",
       "2    call_2024-06-03T10:27:38.112013+00:00  2024-06-03T10:27:38.112013Z   \n",
       "3    call_2024-06-03T11:40:20.036272+00:00  2024-06-03T11:40:20.036272Z   \n",
       "4    call_2024-06-03T12:07:40.232278+00:00  2024-06-03T12:07:40.232278Z   \n",
       "..                                     ...                          ...   \n",
       "635         call_2024-11-04T16:52:05+00:00         2024-11-04T16:52:05Z   \n",
       "636         call_2024-11-04T19:48:36+00:00         2024-11-04T19:48:36Z   \n",
       "637         call_2024-11-05T09:37:45+00:00         2024-11-05T09:37:45Z   \n",
       "638         call_2024-11-06T15:42:37+00:00         2024-11-06T15:42:37Z   \n",
       "639         call_2024-11-07T10:07:13+00:00         2024-11-07T10:07:13Z   \n",
       "\n",
       "                finish_timestamp  \\\n",
       "0    2024-06-13T09:37:41.113555Z   \n",
       "1    2024-06-13T10:28:22.068485Z   \n",
       "2    2024-06-03T10:28:52.508013Z   \n",
       "3    2024-06-03T11:49:09.011290Z   \n",
       "4    2024-06-03T12:09:37.360278Z   \n",
       "..                           ...   \n",
       "635  2024-11-04T16:59:45.995999Z   \n",
       "636  2024-11-04T19:48:42.120000Z   \n",
       "637         2024-11-05T09:37:50Z   \n",
       "638  2024-11-06T16:41:07.924000Z   \n",
       "639  2024-11-07T11:24:23.045989Z   \n",
       "\n",
       "                                               meeting  \n",
       "0    {'id': 'cd81c41a-0eba-4021-93e2-f740d95df46e',...  \n",
       "1    {'id': '85f9c1e3-c299-48a2-a660-2a77b8af8991',...  \n",
       "2    {'id': 'd7cdf053-42fd-4e09-8b92-f3a51a6db475',...  \n",
       "3    {'id': 'b321b1c4-887c-4945-b099-916994697ab3',...  \n",
       "4    {'id': '66050fcd-7778-468f-b8af-26bc78bf8b23',...  \n",
       "..                                                 ...  \n",
       "635  {'id': '11d3b4fb-1f22-45b9-ab2a-f262b27f7f6c',...  \n",
       "636  {'id': '6e9d2fad-02a2-4705-b276-49b1d6bfbdbd',...  \n",
       "637  {'id': '8f45919c-f320-4989-8a1e-616d8f82c9c4',...  \n",
       "638  {'id': '464b791c-6905-4ebb-9ef5-c24f9d1e034d',...  \n",
       "639  {'id': '44c4d363-f52b-4f29-ae99-b5c3902c60f1',...  \n",
       "\n",
       "[640 rows x 5 columns]"
      ]
     },
     "execution_count": 17,
     "metadata": {},
     "output_type": "execute_result"
    }
   ],
   "source": [
    "pd.DataFrame(meetings).sort_values(by='start_timestamp')"
   ]
  },
  {
   "cell_type": "code",
   "execution_count": 1,
   "metadata": {},
   "outputs": [],
   "source": [
    "import httpx"
   ]
  }
 ],
 "metadata": {
  "kernelspec": {
   "display_name": "langchain",
   "language": "python",
   "name": "python3"
  },
  "language_info": {
   "codemirror_mode": {
    "name": "ipython",
    "version": 3
   },
   "file_extension": ".py",
   "mimetype": "text/x-python",
   "name": "python",
   "nbconvert_exporter": "python",
   "pygments_lexer": "ipython3",
   "version": "3.11.2"
  }
 },
 "nbformat": 4,
 "nbformat_minor": 2
}
