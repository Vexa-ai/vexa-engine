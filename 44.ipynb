{
 "cells": [
  {
   "cell_type": "code",
   "execution_count": 20,
   "metadata": {},
   "outputs": [],
   "source": [
    "from psql_helpers import get_session, read_table_async\n",
    "from psql_models import Thread, User"
   ]
  },
  {
   "cell_type": "code",
   "execution_count": 24,
   "metadata": {},
   "outputs": [],
   "source": [
    "from pytz import timezone"
   ]
  },
  {
   "cell_type": "code",
   "execution_count": 27,
   "metadata": {},
   "outputs": [
    {
     "data": {
      "text/plain": [
       "<UTC>"
      ]
     },
     "execution_count": 27,
     "metadata": {},
     "output_type": "execute_result"
    }
   ],
   "source": [
    "timezone('utc')"
   ]
  },
  {
   "cell_type": "code",
   "execution_count": 21,
   "metadata": {},
   "outputs": [],
   "source": [
    "r = await read_table_async(User)"
   ]
  },
  {
   "cell_type": "code",
   "execution_count": 23,
   "metadata": {},
   "outputs": [
    {
     "data": {
      "text/html": [
       "<div>\n",
       "<style scoped>\n",
       "    .dataframe tbody tr th:only-of-type {\n",
       "        vertical-align: middle;\n",
       "    }\n",
       "\n",
       "    .dataframe tbody tr th {\n",
       "        vertical-align: top;\n",
       "    }\n",
       "\n",
       "    .dataframe thead th {\n",
       "        text-align: right;\n",
       "    }\n",
       "</style>\n",
       "<table border=\"1\" class=\"dataframe\">\n",
       "  <thead>\n",
       "    <tr style=\"text-align: right;\">\n",
       "      <th></th>\n",
       "      <th>id</th>\n",
       "      <th>email</th>\n",
       "      <th>username</th>\n",
       "      <th>first_name</th>\n",
       "      <th>last_name</th>\n",
       "      <th>image</th>\n",
       "      <th>created_timestamp</th>\n",
       "      <th>updated_timestamp</th>\n",
       "    </tr>\n",
       "  </thead>\n",
       "  <tbody>\n",
       "    <tr>\n",
       "      <th>0</th>\n",
       "      <td>ef7c085b-fdb5-4c94-b7b6-a61a3d04c210</td>\n",
       "      <td>2280905@gmail.com</td>\n",
       "      <td>string</td>\n",
       "      <td>string</td>\n",
       "      <td>string</td>\n",
       "      <td>None</td>\n",
       "      <td>2024-11-06 09:48:34.231147+00:00</td>\n",
       "      <td>2024-11-06 09:48:34.231150+00:00</td>\n",
       "    </tr>\n",
       "    <tr>\n",
       "      <th>1</th>\n",
       "      <td>aa8d9413-8d77-437f-96f1-0187bc9d412f</td>\n",
       "      <td>ryabenko.sergey@gmail.com</td>\n",
       "      <td>string</td>\n",
       "      <td>string</td>\n",
       "      <td>string</td>\n",
       "      <td>None</td>\n",
       "      <td>2024-11-06 12:52:16.721608+00:00</td>\n",
       "      <td>2024-11-06 12:52:16.721611+00:00</td>\n",
       "    </tr>\n",
       "    <tr>\n",
       "      <th>2</th>\n",
       "      <td>f05bd139-3fa1-4563-a900-2516dffb67b3</td>\n",
       "      <td>dmitrygrankin0@gmail.com</td>\n",
       "      <td>string</td>\n",
       "      <td>string</td>\n",
       "      <td>string</td>\n",
       "      <td>None</td>\n",
       "      <td>2024-11-07 09:01:39.836940+00:00</td>\n",
       "      <td>2024-11-07 09:01:39.836943+00:00</td>\n",
       "    </tr>\n",
       "    <tr>\n",
       "      <th>3</th>\n",
       "      <td>92c90e8d-6ab9-416c-a906-0e5c58e82153</td>\n",
       "      <td>v.tsurenkova@citydrive.ru</td>\n",
       "      <td>string</td>\n",
       "      <td>string</td>\n",
       "      <td>string</td>\n",
       "      <td>None</td>\n",
       "      <td>2024-11-07 09:07:39.483721+00:00</td>\n",
       "      <td>2024-11-07 09:07:39.483724+00:00</td>\n",
       "    </tr>\n",
       "    <tr>\n",
       "      <th>4</th>\n",
       "      <td>a97b05c3-ed1b-40f3-bf71-ba6937b4da39</td>\n",
       "      <td>iaprobotsamuel@gmail.com</td>\n",
       "      <td>string</td>\n",
       "      <td>string</td>\n",
       "      <td>string</td>\n",
       "      <td>None</td>\n",
       "      <td>2024-11-07 09:09:35.279943+00:00</td>\n",
       "      <td>2024-11-07 09:09:35.279947+00:00</td>\n",
       "    </tr>\n",
       "    <tr>\n",
       "      <th>5</th>\n",
       "      <td>fcd46b26-ddd4-4bd2-99d4-24629fea46a7</td>\n",
       "      <td>sota197508@gmail.com</td>\n",
       "      <td>None</td>\n",
       "      <td>None</td>\n",
       "      <td>None</td>\n",
       "      <td>None</td>\n",
       "      <td>2024-11-07 09:11:21.020094+00:00</td>\n",
       "      <td>2024-11-07 09:11:21.020096+00:00</td>\n",
       "    </tr>\n",
       "    <tr>\n",
       "      <th>6</th>\n",
       "      <td>058980af-dfa0-4dc1-b9c0-adf6c24e4994</td>\n",
       "      <td>evgenia.grudtseva@oom-agency.ru</td>\n",
       "      <td>Евгения Грудцева</td>\n",
       "      <td>Евгения</td>\n",
       "      <td>Грудцева</td>\n",
       "      <td>https://lh3.googleusercontent.com/a/ACg8ocIO7b...</td>\n",
       "      <td>2024-11-07 09:21:14.641562+00:00</td>\n",
       "      <td>2024-11-07 09:21:14.641564+00:00</td>\n",
       "    </tr>\n",
       "  </tbody>\n",
       "</table>\n",
       "</div>"
      ],
      "text/plain": [
       "                                     id                            email  \\\n",
       "0  ef7c085b-fdb5-4c94-b7b6-a61a3d04c210                2280905@gmail.com   \n",
       "1  aa8d9413-8d77-437f-96f1-0187bc9d412f        ryabenko.sergey@gmail.com   \n",
       "2  f05bd139-3fa1-4563-a900-2516dffb67b3         dmitrygrankin0@gmail.com   \n",
       "3  92c90e8d-6ab9-416c-a906-0e5c58e82153        v.tsurenkova@citydrive.ru   \n",
       "4  a97b05c3-ed1b-40f3-bf71-ba6937b4da39         iaprobotsamuel@gmail.com   \n",
       "5  fcd46b26-ddd4-4bd2-99d4-24629fea46a7             sota197508@gmail.com   \n",
       "6  058980af-dfa0-4dc1-b9c0-adf6c24e4994  evgenia.grudtseva@oom-agency.ru   \n",
       "\n",
       "           username first_name last_name  \\\n",
       "0            string     string    string   \n",
       "1            string     string    string   \n",
       "2            string     string    string   \n",
       "3            string     string    string   \n",
       "4            string     string    string   \n",
       "5              None       None      None   \n",
       "6  Евгения Грудцева    Евгения  Грудцева   \n",
       "\n",
       "                                               image  \\\n",
       "0                                               None   \n",
       "1                                               None   \n",
       "2                                               None   \n",
       "3                                               None   \n",
       "4                                               None   \n",
       "5                                               None   \n",
       "6  https://lh3.googleusercontent.com/a/ACg8ocIO7b...   \n",
       "\n",
       "                 created_timestamp                updated_timestamp  \n",
       "0 2024-11-06 09:48:34.231147+00:00 2024-11-06 09:48:34.231150+00:00  \n",
       "1 2024-11-06 12:52:16.721608+00:00 2024-11-06 12:52:16.721611+00:00  \n",
       "2 2024-11-07 09:01:39.836940+00:00 2024-11-07 09:01:39.836943+00:00  \n",
       "3 2024-11-07 09:07:39.483721+00:00 2024-11-07 09:07:39.483724+00:00  \n",
       "4 2024-11-07 09:09:35.279943+00:00 2024-11-07 09:09:35.279947+00:00  \n",
       "5 2024-11-07 09:11:21.020094+00:00 2024-11-07 09:11:21.020096+00:00  \n",
       "6 2024-11-07 09:21:14.641562+00:00 2024-11-07 09:21:14.641564+00:00  "
      ]
     },
     "execution_count": 23,
     "metadata": {},
     "output_type": "execute_result"
    }
   ],
   "source": [
    "r"
   ]
  },
  {
   "cell_type": "code",
   "execution_count": 22,
   "metadata": {},
   "outputs": [
    {
     "data": {
      "text/plain": [
       "'https://lh3.googleusercontent.com/a/ACg8ocIO7bXqB1NMoidwvpbMTTyBYZiQWPk33qXjJuI9k1b3m9pxK_8=s96-c'"
      ]
     },
     "execution_count": 22,
     "metadata": {},
     "output_type": "execute_result"
    }
   ],
   "source": [
    "r['image'].iloc[-1]"
   ]
  },
  {
   "cell_type": "code",
   "execution_count": null,
   "metadata": {},
   "outputs": [],
   "source": [
    "\n",
    "\n",
    "async with get_session() as session:\n",
    "    await session.execute(Thread.__table__.delete())\n",
    "    await session.commit()"
   ]
  },
  {
   "cell_type": "code",
   "execution_count": null,
   "metadata": {},
   "outputs": [],
   "source": []
  },
  {
   "cell_type": "code",
   "execution_count": 1,
   "metadata": {},
   "outputs": [],
   "source": [
    "%load_ext autoreload\n",
    "%autoreload 2"
   ]
  },
  {
   "cell_type": "code",
   "execution_count": 2,
   "metadata": {},
   "outputs": [],
   "source": [
    "from uuid import UUID\n",
    "from sqlalchemy.ext.asyncio import AsyncSession\n",
    "from chat import MeetingChatManager\n",
    "from psql_helpers import get_session"
   ]
  },
  {
   "cell_type": "code",
   "execution_count": 3,
   "metadata": {},
   "outputs": [
    {
     "name": "stdout",
     "output_type": "stream",
     "text": [
      "Vexa token: 3ae04e20124d40babc5107e658c666b6\n",
      "User information retrieved successfully.\n"
     ]
    }
   ],
   "source": [
    "from vexa import VexaAPI\n",
    "vexa = VexaAPI()\n",
    "await vexa.get_user_info()\n",
    "user_id = vexa.user_id\n"
   ]
  },
  {
   "cell_type": "code",
   "execution_count": 4,
   "metadata": {},
   "outputs": [],
   "source": [
    "from uuid import UUID"
   ]
  },
  {
   "cell_type": "code",
   "execution_count": 5,
   "metadata": {},
   "outputs": [
    {
     "name": "stdout",
     "output_type": "stream",
     "text": [
      "16:05:46 - vexa_api - INFO - Initializing ChatManager\n"
     ]
    },
    {
     "name": "stdout",
     "output_type": "stream",
     "text": [
      "Dmitriy completed API; frontend integration ongoing."
     ]
    }
   ],
   "source": [
    "\n",
    "\n",
    "# Single meeting chat\n",
    "meeting_id = UUID('aa87b543-f5c9-426c-a6ed-77b26f93e0da')\n",
    "async with get_session() as session:\n",
    "    chat_manager = MeetingChatManager(session)\n",
    "    await chat_manager.initialize()\n",
    "    \n",
    "    # Chat about specific meeting - will create meeting-specific thread\n",
    "    async for result in chat_manager.chat(\n",
    "        user_id=user_id,\n",
    "        meeting_ids=[meeting_id],\n",
    "        query=\"50 char on the meeting\"\n",
    "    ):\n",
    "        if \"chunk\" in result:\n",
    "            print(result[\"chunk\"], end=\"\")\n",
    "        elif \"thread_id\" in result:\n",
    "            thread_id = result[\"thread_id\"]  # Store for continued conversation"
   ]
  },
  {
   "cell_type": "code",
   "execution_count": 6,
   "metadata": {},
   "outputs": [
    {
     "data": {
      "text/plain": [
       "'cf75f12e-5205-434a-abad-6e9540ededf1'"
      ]
     },
     "execution_count": 6,
     "metadata": {},
     "output_type": "execute_result"
    }
   ],
   "source": [
    "thread_id"
   ]
  },
  {
   "cell_type": "code",
   "execution_count": 7,
   "metadata": {},
   "outputs": [
    {
     "name": "stdout",
     "output_type": "stream",
     "text": [
      "- **API Development Completion**: Dmitriy Grankin confirmed the completion of the API, which is now ready for frontend integration.\n",
      "\n",
      "- **Frontend Integration**: Ongoing work on integrating the frontend with the API, with a focus on ensuring elements are clickable and functional.\n",
      "\n",
      "- **Model Testing**: Decision to test the LAMA 3.2 model with 90 billion parameters, which has shown promising results but requires further refinement.\n",
      "\n",
      "- **Authorization Method**: Agreement to implement Google authorization for user access, utilizing LocalStorage for storing user tokens.\n",
      "\n",
      "- **Error Handling**: Acknowledgment of issues related to 'incomplete chunk encoding' errors, necessitating further investigation and resolution.\n",
      "\n",
      "- **Data Indexing**: Plan to index data on the dashboard to facilitate the display of information related to calls and chats, enhancing user experience.\n",
      "\n",
      "- **Design Considerations**: Discussion on the importance of adhering to a design system for the frontend, ensuring consistency and usability in the user interface."
     ]
    }
   ],
   "source": [
    "async for result in chat_manager.chat(\n",
    "    user_id=user_id,\n",
    "    meeting_ids=[meeting_id],\n",
    "    thread_id=thread_id,\n",
    "    query=\"What were the key decisions?\"\n",
    "):\n",
    "    print(result.get(\"chunk\", \"\"), end=\"\")"
   ]
  },
  {
   "cell_type": "code",
   "execution_count": 8,
   "metadata": {},
   "outputs": [
    {
     "name": "stdout",
     "output_type": "stream",
     "text": [
      "Dmitriy completed API; frontend integration ongoing; testing LAMA 3.2 model; addressing authorization and error handling issues."
     ]
    }
   ],
   "source": [
    "async for result in chat_manager.chat(\n",
    "    user_id=user_id,\n",
    "    meeting_ids=[meeting_id],\n",
    "    thread_id=thread_id,\n",
    "    query=\"in a few words\"\n",
    "):\n",
    "    print(result.get(\"chunk\", \"\"), end=\"\")"
   ]
  },
  {
   "cell_type": "code",
   "execution_count": null,
   "metadata": {},
   "outputs": [],
   "source": [
    "async for result in chat_manager.chat(\n",
    "    user_id=user_id,\n",
    "    meeting_ids=[meeting_id],\n",
    "    thread_id=thread_id,\n",
    "    query=\"\"\n",
    "):\n",
    "    print(result.get(\"chunk\", \"\"), end=\"\")"
   ]
  },
  {
   "cell_type": "code",
   "execution_count": 13,
   "metadata": {},
   "outputs": [],
   "source": [
    "from chat import SearchChatManager"
   ]
  },
  {
   "cell_type": "code",
   "execution_count": 14,
   "metadata": {},
   "outputs": [
    {
     "ename": "TypeError",
     "evalue": "ChatManager.__init__() takes 1 positional argument but 2 were given",
     "output_type": "error",
     "traceback": [
      "\u001b[0;31m---------------------------------------------------------------------------\u001b[0m",
      "\u001b[0;31mTypeError\u001b[0m                                 Traceback (most recent call last)",
      "Cell \u001b[0;32mIn[14], line 2\u001b[0m\n\u001b[1;32m      1\u001b[0m \u001b[38;5;28;01masync\u001b[39;00m \u001b[38;5;28;01mwith\u001b[39;00m get_session() \u001b[38;5;28;01mas\u001b[39;00m session:\n\u001b[0;32m----> 2\u001b[0m     chat_manager \u001b[38;5;241m=\u001b[39m \u001b[43mSearchChatManager\u001b[49m\u001b[43m(\u001b[49m\u001b[43msession\u001b[49m\u001b[43m)\u001b[49m\n\u001b[1;32m      3\u001b[0m     \u001b[38;5;28;01mawait\u001b[39;00m chat_manager\u001b[38;5;241m.\u001b[39minitialize()\n",
      "\u001b[0;31mTypeError\u001b[0m: ChatManager.__init__() takes 1 positional argument but 2 were given"
     ]
    }
   ],
   "source": [
    "\n",
    "async with get_session() as session:\n",
    "    chat_manager = SearchChatManager(session)\n",
    "    await chat_manager.initialize()"
   ]
  },
  {
   "cell_type": "code",
   "execution_count": null,
   "metadata": {},
   "outputs": [],
   "source": [
    "# Follow up in global chat\n",
    "async for result in chat_manager.chat(\n",
    "    user_id=user_id,\n",
    "    meeting_ids=None,\n",
    "    thread_id=None,\n",
    "    query=\"Can you help me analyze meetings?\"\n",
    "):\n",
    "    print(result.get(\"chunk\", \"\"), end=\"\")"
   ]
  },
  {
   "cell_type": "code",
   "execution_count": null,
   "metadata": {},
   "outputs": [],
   "source": [
    "\n",
    "# Chat about multiple meetings\n",
    "async for result in chat_manager.chat(\n",
    "    user_id=user_id,\n",
    "    meeting_ids=[UUID('id1'), UUID('id2')],\n",
    "    query=\"Compare these meetings\"\n",
    "):\n",
    "    print(result.get(\"chunk\", \"\"), end=\"\")"
   ]
  }
 ],
 "metadata": {
  "kernelspec": {
   "display_name": "langchain",
   "language": "python",
   "name": "python3"
  },
  "language_info": {
   "codemirror_mode": {
    "name": "ipython",
    "version": 3
   },
   "file_extension": ".py",
   "mimetype": "text/x-python",
   "name": "python",
   "nbconvert_exporter": "python",
   "pygments_lexer": "ipython3",
   "version": "3.11.2"
  }
 },
 "nbformat": 4,
 "nbformat_minor": 2
}
