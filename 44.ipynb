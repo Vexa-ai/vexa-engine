{
 "cells": [
  {
   "cell_type": "code",
   "execution_count": 1,
   "metadata": {},
   "outputs": [],
   "source": [
    "%load_ext autoreload\n",
    "%autoreload 2"
   ]
  },
  {
   "cell_type": "code",
   "execution_count": 2,
   "metadata": {},
   "outputs": [],
   "source": [
    "from uuid import UUID\n",
    "from sqlalchemy.ext.asyncio import AsyncSession\n",
    "from chat import MeetingChatManager\n",
    "from psql_helpers import get_session"
   ]
  },
  {
   "cell_type": "code",
   "execution_count": 3,
   "metadata": {},
   "outputs": [
    {
     "name": "stdout",
     "output_type": "stream",
     "text": [
      "Vexa token: 3ae04e20124d40babc5107e658c666b6\n",
      "User information retrieved successfully.\n"
     ]
    }
   ],
   "source": [
    "from vexa import VexaAPI\n",
    "vexa = VexaAPI()\n",
    "await vexa.get_user_info()\n",
    "user_id = vexa.user_id\n"
   ]
  },
  {
   "cell_type": "code",
   "execution_count": 4,
   "metadata": {},
   "outputs": [],
   "source": [
    "from uuid import UUID"
   ]
  },
  {
   "cell_type": "code",
   "execution_count": 5,
   "metadata": {},
   "outputs": [
    {
     "name": "stdout",
     "output_type": "stream",
     "text": [
      "16:05:46 - vexa_api - INFO - Initializing ChatManager\n"
     ]
    },
    {
     "name": "stdout",
     "output_type": "stream",
     "text": [
      "Dmitriy completed API; frontend integration ongoing."
     ]
    }
   ],
   "source": [
    "\n",
    "\n",
    "# Single meeting chat\n",
    "meeting_id = UUID('aa87b543-f5c9-426c-a6ed-77b26f93e0da')\n",
    "async with get_session() as session:\n",
    "    chat_manager = MeetingChatManager(session)\n",
    "    await chat_manager.initialize()\n",
    "    \n",
    "    # Chat about specific meeting - will create meeting-specific thread\n",
    "    async for result in chat_manager.chat(\n",
    "        user_id=user_id,\n",
    "        meeting_ids=[meeting_id],\n",
    "        query=\"50 char on the meeting\"\n",
    "    ):\n",
    "        if \"chunk\" in result:\n",
    "            print(result[\"chunk\"], end=\"\")\n",
    "        elif \"thread_id\" in result:\n",
    "            thread_id = result[\"thread_id\"]  # Store for continued conversation"
   ]
  },
  {
   "cell_type": "code",
   "execution_count": 6,
   "metadata": {},
   "outputs": [
    {
     "data": {
      "text/plain": [
       "'cf75f12e-5205-434a-abad-6e9540ededf1'"
      ]
     },
     "execution_count": 6,
     "metadata": {},
     "output_type": "execute_result"
    }
   ],
   "source": [
    "thread_id"
   ]
  },
  {
   "cell_type": "code",
   "execution_count": 7,
   "metadata": {},
   "outputs": [
    {
     "name": "stdout",
     "output_type": "stream",
     "text": [
      "- **API Development Completion**: Dmitriy Grankin confirmed the completion of the API, which is now ready for frontend integration.\n",
      "\n",
      "- **Frontend Integration**: Ongoing work on integrating the frontend with the API, with a focus on ensuring elements are clickable and functional.\n",
      "\n",
      "- **Model Testing**: Decision to test the LAMA 3.2 model with 90 billion parameters, which has shown promising results but requires further refinement.\n",
      "\n",
      "- **Authorization Method**: Agreement to implement Google authorization for user access, utilizing LocalStorage for storing user tokens.\n",
      "\n",
      "- **Error Handling**: Acknowledgment of issues related to 'incomplete chunk encoding' errors, necessitating further investigation and resolution.\n",
      "\n",
      "- **Data Indexing**: Plan to index data on the dashboard to facilitate the display of information related to calls and chats, enhancing user experience.\n",
      "\n",
      "- **Design Considerations**: Discussion on the importance of adhering to a design system for the frontend, ensuring consistency and usability in the user interface."
     ]
    }
   ],
   "source": [
    "async for result in chat_manager.chat(\n",
    "    user_id=user_id,\n",
    "    meeting_ids=[meeting_id],\n",
    "    thread_id=thread_id,\n",
    "    query=\"What were the key decisions?\"\n",
    "):\n",
    "    print(result.get(\"chunk\", \"\"), end=\"\")"
   ]
  },
  {
   "cell_type": "code",
   "execution_count": 8,
   "metadata": {},
   "outputs": [
    {
     "name": "stdout",
     "output_type": "stream",
     "text": [
      "Dmitriy completed API; frontend integration ongoing; testing LAMA 3.2 model; addressing authorization and error handling issues."
     ]
    }
   ],
   "source": [
    "async for result in chat_manager.chat(\n",
    "    user_id=user_id,\n",
    "    meeting_ids=[meeting_id],\n",
    "    thread_id=thread_id,\n",
    "    query=\"in a few words\"\n",
    "):\n",
    "    print(result.get(\"chunk\", \"\"), end=\"\")"
   ]
  },
  {
   "cell_type": "code",
   "execution_count": null,
   "metadata": {},
   "outputs": [],
   "source": [
    "async for result in chat_manager.chat(\n",
    "    user_id=user_id,\n",
    "    meeting_ids=[meeting_id],\n",
    "    thread_id=thread_id,\n",
    "    query=\"\"\n",
    "):\n",
    "    print(result.get(\"chunk\", \"\"), end=\"\")"
   ]
  },
  {
   "cell_type": "code",
   "execution_count": 13,
   "metadata": {},
   "outputs": [],
   "source": [
    "from chat import SearchChatManager"
   ]
  },
  {
   "cell_type": "code",
   "execution_count": 14,
   "metadata": {},
   "outputs": [
    {
     "ename": "TypeError",
     "evalue": "ChatManager.__init__() takes 1 positional argument but 2 were given",
     "output_type": "error",
     "traceback": [
      "\u001b[0;31m---------------------------------------------------------------------------\u001b[0m",
      "\u001b[0;31mTypeError\u001b[0m                                 Traceback (most recent call last)",
      "Cell \u001b[0;32mIn[14], line 2\u001b[0m\n\u001b[1;32m      1\u001b[0m \u001b[38;5;28;01masync\u001b[39;00m \u001b[38;5;28;01mwith\u001b[39;00m get_session() \u001b[38;5;28;01mas\u001b[39;00m session:\n\u001b[0;32m----> 2\u001b[0m     chat_manager \u001b[38;5;241m=\u001b[39m \u001b[43mSearchChatManager\u001b[49m\u001b[43m(\u001b[49m\u001b[43msession\u001b[49m\u001b[43m)\u001b[49m\n\u001b[1;32m      3\u001b[0m     \u001b[38;5;28;01mawait\u001b[39;00m chat_manager\u001b[38;5;241m.\u001b[39minitialize()\n",
      "\u001b[0;31mTypeError\u001b[0m: ChatManager.__init__() takes 1 positional argument but 2 were given"
     ]
    }
   ],
   "source": [
    "\n",
    "async with get_session() as session:\n",
    "    chat_manager = SearchChatManager(session)\n",
    "    await chat_manager.initialize()"
   ]
  },
  {
   "cell_type": "code",
   "execution_count": null,
   "metadata": {},
   "outputs": [],
   "source": [
    "# Follow up in global chat\n",
    "async for result in chat_manager.chat(\n",
    "    user_id=user_id,\n",
    "    meeting_ids=None,\n",
    "    thread_id=None,\n",
    "    query=\"Can you help me analyze meetings?\"\n",
    "):\n",
    "    print(result.get(\"chunk\", \"\"), end=\"\")"
   ]
  },
  {
   "cell_type": "code",
   "execution_count": null,
   "metadata": {},
   "outputs": [],
   "source": [
    "\n",
    "# Chat about multiple meetings\n",
    "async for result in chat_manager.chat(\n",
    "    user_id=user_id,\n",
    "    meeting_ids=[UUID('id1'), UUID('id2')],\n",
    "    query=\"Compare these meetings\"\n",
    "):\n",
    "    print(result.get(\"chunk\", \"\"), end=\"\")"
   ]
  }
 ],
 "metadata": {
  "kernelspec": {
   "display_name": "langchain",
   "language": "python",
   "name": "python3"
  },
  "language_info": {
   "codemirror_mode": {
    "name": "ipython",
    "version": 3
   },
   "file_extension": ".py",
   "mimetype": "text/x-python",
   "name": "python",
   "nbconvert_exporter": "python",
   "pygments_lexer": "ipython3",
   "version": "3.11.2"
  }
 },
 "nbformat": 4,
 "nbformat_minor": 2
}
