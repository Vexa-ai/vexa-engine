{
 "cells": [
  {
   "cell_type": "code",
   "execution_count": 1,
   "metadata": {},
   "outputs": [],
   "source": [
    "%load_ext autoreload\n",
    "%autoreload 2"
   ]
  },
  {
   "cell_type": "code",
   "execution_count": 2,
   "metadata": {},
   "outputs": [],
   "source": [
    "from chat import SearchChatManager, MeetingChatManager, SearchContextProvider, MeetingContextProvider\n",
    "from search import SearchAssistant"
   ]
  },
  {
   "cell_type": "code",
   "execution_count": 3,
   "metadata": {},
   "outputs": [
    {
     "name": "stdout",
     "output_type": "stream",
     "text": [
      "Vexa token: 3ae04e20124d40babc5107e658c666b6\n",
      "User information retrieved successfully.\n"
     ]
    },
    {
     "data": {
      "text/plain": [
       "{'id': 'ef7c085b-fdb5-4c94-b7b6-a61a3d04c210',\n",
       " 'email': '2280905@gmail.com',\n",
       " 'is_allowed_send_init_message': True,\n",
       " 'username': 'string',\n",
       " 'first_name': 'string',\n",
       " 'last_name': 'string',\n",
       " 'image': None,\n",
       " 'created_timestamp': '2024-05-28T11:16:50.894711Z',\n",
       " 'updated_timestamp': '2024-11-03T11:03:13.285761Z'}"
      ]
     },
     "execution_count": 3,
     "metadata": {},
     "output_type": "execute_result"
    }
   ],
   "source": [
    "from vexa import VexaAPI\n",
    "vexa_api = VexaAPI()\n",
    "await vexa_api.get_user_info()"
   ]
  },
  {
   "cell_type": "code",
   "execution_count": 4,
   "metadata": {},
   "outputs": [
    {
     "name": "stdout",
     "output_type": "stream",
     "text": [
      "14:51:15 - vexa_api - INFO - Initializing SearchAssistant\n"
     ]
    },
    {
     "name": "stderr",
     "output_type": "stream",
     "text": [
      "/home/dima/anaconda3/envs/langchain/lib/python3.11/site-packages/huggingface_hub/file_download.py:1132: FutureWarning: `resume_download` is deprecated and will be removed in version 1.0.0. Downloads always resume when possible. If you want to force a new download, use `force_download=True`.\n",
      "  warnings.warn(\n"
     ]
    }
   ],
   "source": [
    "search_assistant = SearchAssistant()\n",
    "await search_assistant.initialize()\n"
   ]
  },
  {
   "cell_type": "code",
   "execution_count": 5,
   "metadata": {},
   "outputs": [
    {
     "name": "stdout",
     "output_type": "stream",
     "text": [
      "14:51:31 - vexa_api - INFO - Initializing ChatManager\n"
     ]
    },
    {
     "name": "stdout",
     "output_type": "stream",
     "text": [
      "Model device: cuda:3\n",
      "Model device: cuda:3\n",
      "Model device: cuda:3\n",
      "Model device: cuda:3\n",
      "Model device: cuda:3\n",
      "Model device: cuda:3\n",
      "Model device: cuda:3\n"
     ]
    },
    {
     "name": "stderr",
     "output_type": "stream",
     "text": [
      "/home/dima/playground/dev_multiassistant/back/search.py:167: FutureWarning: The behavior of DataFrame concatenation with empty or all-NA entries is deprecated. In a future version, this will no longer exclude empty or all-NA columns when determining the result dtypes. To retain the old behavior, exclude the relevant entries before the concat operation.\n",
      "  results = pd.concat([main_df, speaker_df]).drop_duplicates(subset=columns).reset_index(drop=True)\n",
      "/home/dima/playground/dev_multiassistant/back/search.py:167: FutureWarning: The behavior of DataFrame concatenation with empty or all-NA entries is deprecated. In a future version, this will no longer exclude empty or all-NA columns when determining the result dtypes. To retain the old behavior, exclude the relevant entries before the concat operation.\n",
      "  results = pd.concat([main_df, speaker_df]).drop_duplicates(subset=columns).reset_index(drop=True)\n"
     ]
    },
    {
     "name": "stdout",
     "output_type": "stream",
     "text": [
      "Model device: cuda:3\n",
      "Model device: cuda:3\n",
      "Model device: cuda:3\n"
     ]
    },
    {
     "name": "stderr",
     "output_type": "stream",
     "text": [
      "/home/dima/playground/dev_multiassistant/back/search.py:167: FutureWarning: The behavior of DataFrame concatenation with empty or all-NA entries is deprecated. In a future version, this will no longer exclude empty or all-NA columns when determining the result dtypes. To retain the old behavior, exclude the relevant entries before the concat operation.\n",
      "  results = pd.concat([main_df, speaker_df]).drop_duplicates(subset=columns).reset_index(drop=True)\n"
     ]
    },
    {
     "name": "stdout",
     "output_type": "stream",
     "text": [
      "Model device: cuda:3\n",
      "Model device: cuda:3\n",
      "I don't have that information! It's frustrating that you can't find the CEO of Vexa easily. You might want to check their official website or LinkedIn for the most accurate details.\n",
      "Final output with links: I don't have that information! It's frustrating that you can't find the CEO of Vexa easily. You might want to check their official website or LinkedIn for the most accurate details.\n"
     ]
    }
   ],
   "source": [
    "chat_manager = SearchChatManager()\n",
    "await chat_manager.initialize()\n",
    "\n",
    "# Use it for chat\n",
    "async for result in chat_manager.chat(\n",
    "    user_id=vexa_api.user_id,\n",
    "    prompt=\"You are angry assistant\",\n",
    "    query=\"who is the CEO of vexa?\",\n",
    "    search_assistant=search_assistant,\n",
    "    model=\"gpt-4o-mini\"\n",
    "):\n",
    "    if \"chunk\" in result:\n",
    "        print(result[\"chunk\"], end=\"\")  # Stream response\n",
    "    elif \"output\" in result:\n",
    "        print(\"\\nFinal output with links:\", result[\"output\"])"
   ]
  },
  {
   "cell_type": "code",
   "execution_count": 6,
   "metadata": {},
   "outputs": [],
   "source": [
    "from sqlalchemy.ext.asyncio import AsyncSession\n",
    "from psql_models import engine"
   ]
  },
  {
   "cell_type": "code",
   "execution_count": 8,
   "metadata": {},
   "outputs": [],
   "source": [
    "from uuid import UUID"
   ]
  },
  {
   "cell_type": "code",
   "execution_count": 9,
   "metadata": {},
   "outputs": [
    {
     "data": {
      "text/plain": [
       "'ef7c085b-fdb5-4c94-b7b6-a61a3d04c210'"
      ]
     },
     "execution_count": 9,
     "metadata": {},
     "output_type": "execute_result"
    }
   ],
   "source": [
    "vexa_api.user_id"
   ]
  },
  {
   "cell_type": "code",
   "execution_count": 15,
   "metadata": {},
   "outputs": [
    {
     "name": "stdout",
     "output_type": "stream",
     "text": [
      "14:41:35 - vexa_api - INFO - Initializing ChatManager\n"
     ]
    },
    {
     "name": "stdout",
     "output_type": "stream",
     "text": [
      "{'chunk': 'Recent'}\n",
      "{'chunk': ' meetings'}\n",
      "{'chunk': ' focused'}\n",
      "{'chunk': ' on'}\n",
      "{'chunk': ' the'}\n",
      "{'chunk': ' functionality'}\n",
      "{'chunk': ' testing'}\n",
      "{'chunk': ' of'}\n",
      "{'chunk': ' the'}\n",
      "{'chunk': ' end'}\n",
      "{'chunk': '-to'}\n",
      "{'chunk': '-end'}\n",
      "{'chunk': ' system'}\n",
      "{'chunk': '.'}\n",
      "{'chunk': ' The'}\n",
      "{'chunk': ' primary'}\n",
      "{'chunk': ' objectives'}\n",
      "{'chunk': ' included'}\n",
      "{'chunk': ':\\n\\n'}\n",
      "{'chunk': '-'}\n",
      "{'chunk': ' **'}\n",
      "{'chunk': 'Testing'}\n",
      "{'chunk': ' System'}\n",
      "{'chunk': ' Operations'}\n",
      "{'chunk': '**'}\n",
      "{'chunk': ':'}\n",
      "{'chunk': ' Evalu'}\n",
      "{'chunk': 'ating'}\n",
      "{'chunk': ' whether'}\n",
      "{'chunk': ' the'}\n",
      "{'chunk': ' end'}\n",
      "{'chunk': '-to'}\n",
      "{'chunk': '-end'}\n",
      "{'chunk': ' system'}\n",
      "{'chunk': ' is'}\n",
      "{'chunk': ' operational'}\n",
      "{'chunk': ' and'}\n",
      "{'chunk': ' identifying'}\n",
      "{'chunk': ' any'}\n",
      "{'chunk': ' issues'}\n",
      "{'chunk': ' that'}\n",
      "{'chunk': ' may'}\n",
      "{'chunk': ' arise'}\n",
      "{'chunk': ' during'}\n",
      "{'chunk': ' the'}\n",
      "{'chunk': ' testing'}\n",
      "{'chunk': ' process'}\n",
      "{'chunk': '.\\n'}\n",
      "{'chunk': '-'}\n",
      "{'chunk': ' **'}\n",
      "{'chunk': 'Ens'}\n",
      "{'chunk': 'uring'}\n",
      "{'chunk': ' Reliability'}\n",
      "{'chunk': ' and'}\n",
      "{'chunk': ' Performance'}\n",
      "{'chunk': '**'}\n",
      "{'chunk': ':'}\n",
      "{'chunk': ' Confirm'}\n",
      "{'chunk': 'ing'}\n",
      "{'chunk': ' that'}\n",
      "{'chunk': ' the'}\n",
      "{'chunk': ' system'}\n",
      "{'chunk': ' meets'}\n",
      "{'chunk': ' operational'}\n",
      "{'chunk': ' requirements'}\n",
      "{'chunk': ' and'}\n",
      "{'chunk': ' performs'}\n",
      "{'chunk': ' as'}\n",
      "{'chunk': ' expected'}\n",
      "{'chunk': ' before'}\n",
      "{'chunk': ' going'}\n",
      "{'chunk': ' live'}\n",
      "{'chunk': '.\\n'}\n",
      "{'chunk': '-'}\n",
      "{'chunk': ' **'}\n",
      "{'chunk': 'Complete'}\n",
      "{'chunk': ' Workflow'}\n",
      "{'chunk': ' Assessment'}\n",
      "{'chunk': '**'}\n",
      "{'chunk': ':'}\n",
      "{'chunk': ' Checking'}\n",
      "{'chunk': ' the'}\n",
      "{'chunk': ' functionality'}\n",
      "{'chunk': ' of'}\n",
      "{'chunk': ' all'}\n",
      "{'chunk': ' components'}\n",
      "{'chunk': ' within'}\n",
      "{'chunk': ' the'}\n",
      "{'chunk': ' system'}\n",
      "{'chunk': ' to'}\n",
      "{'chunk': ' ensure'}\n",
      "{'chunk': ' they'}\n",
      "{'chunk': ' work'}\n",
      "{'chunk': ' together'}\n",
      "{'chunk': ' seamlessly'}\n",
      "{'chunk': ' from'}\n",
      "{'chunk': ' start'}\n",
      "{'chunk': ' to'}\n",
      "{'chunk': ' finish'}\n",
      "{'chunk': '.\\n\\n'}\n",
      "{'chunk': 'The'}\n",
      "{'chunk': ' meeting'}\n",
      "{'chunk': ' on'}\n",
      "{'chunk': ' November'}\n",
      "{'chunk': ' '}\n",
      "{'chunk': '1'}\n",
      "{'chunk': ','}\n",
      "{'chunk': ' '}\n",
      "{'chunk': '202'}\n",
      "{'chunk': '4'}\n",
      "{'chunk': ','}\n",
      "{'chunk': ' specifically'}\n",
      "{'chunk': ' addressed'}\n",
      "{'chunk': ' these'}\n",
      "{'chunk': ' points'}\n",
      "{'chunk': ','}\n",
      "{'chunk': ' emphasizing'}\n",
      "{'chunk': ' the'}\n",
      "{'chunk': ' importance'}\n",
      "{'chunk': ' of'}\n",
      "{'chunk': ' thorough'}\n",
      "{'chunk': ' testing'}\n",
      "{'chunk': ' to'}\n",
      "{'chunk': ' guarantee'}\n",
      "{'chunk': ' system'}\n",
      "{'chunk': ' reliability'}\n",
      "{'chunk': '.'}\n",
      "{'thread_id': 'cdf5dc51-6507-478d-8fc3-4f76134c8910', 'output': 'Recent meetings focused on the functionality testing of the end-to-end system. The primary objectives included:\\n\\n- **Testing System Operations**: Evaluating whether the end-to-end system is operational and identifying any issues that may arise during the testing process.\\n- **Ensuring Reliability and Performance**: Confirming that the system meets operational requirements and performs as expected before going live.\\n- **Complete Workflow Assessment**: Checking the functionality of all components within the system to ensure they work together seamlessly from start to finish.\\n\\nThe meeting on November 1, 2024, specifically addressed these points, emphasizing the importance of thorough testing to guarantee system reliability.', 'service_content': {'output': 'Recent meetings focused on the functionality testing of the end-to-end system. The primary objectives included:\\n\\n- **Testing System Operations**: Evaluating whether the end-to-end system is operational and identifying any issues that may arise during the testing process.\\n- **Ensuring Reliability and Performance**: Confirming that the system meets operational requirements and performs as expected before going live.\\n- **Complete Workflow Assessment**: Checking the functionality of all components within the system to ensure they work together seamlessly from start to finish.\\n\\nThe meeting on November 1, 2024, specifically addressed these points, emphasizing the importance of thorough testing to guarantee system reliability.', 'context': \"Meeting: End-to-End System Functionality Testing Overview\\nDate: 2024-11-01 12:29:15.130000\\nTranscript:\\n[{'speaker': 'TBD', 'speaker_id': 'TBD', 'content': ' Тестирую работы системы end-to-end, как у меня тут вообще что-нибудь работает или ничего не работает, или поднялось уже.', 'html_content': None, 'html_content_short': None, 'keywords': [], 'timestamp': '2024-11-01T12:29:15.130000Z'}]\\n\\nSummary:\\nTesting the functionality of the **end-to-end system** to ensure it operates correctly and meets requirements. The testing involves checking whether the system is operational and identifying any issues that may arise during the process. This is crucial for ensuring the **reliability** and **performance** of the system before it goes live. The speaker is conducting a test to check the functionality of the **end-to-end system**, questioning whether it is operational or not. The **end-to-end system** is designed to test the complete workflow from start to finish, ensuring that all components are functioning correctly.\\n\\n--------------------------------------------------------------------------------\\n\", 'context_source': 'meeting', 'meeting_count': 1}}\n"
     ]
    }
   ],
   "source": [
    "# Initialize\n",
    "async with AsyncSession(engine) as session:\n",
    "    chat_manager = MeetingChatManager(session)\n",
    "    await chat_manager.initialize()\n",
    "\n",
    "\n",
    "        \n",
    "    # Use with all accessible meetings\n",
    "    async for result in chat_manager.chat(\n",
    "        meeting_ids=['732f3c41-8757-4033-bf23-9f1788a4757f'],\n",
    "        user_id=vexa_api.user_id,\n",
    "        query=\"What were my recent meetings about?\"\n",
    "    ):\n",
    "        print(result)"
   ]
  },
  {
   "cell_type": "code",
   "execution_count": 11,
   "metadata": {},
   "outputs": [],
   "source": [
    "from psql_models import Meeting\n",
    "from psql_helpers import read_table_async"
   ]
  },
  {
   "cell_type": "code",
   "execution_count": 13,
   "metadata": {},
   "outputs": [
    {
     "data": {
      "text/html": [
       "<div>\n",
       "<style scoped>\n",
       "    .dataframe tbody tr th:only-of-type {\n",
       "        vertical-align: middle;\n",
       "    }\n",
       "\n",
       "    .dataframe tbody tr th {\n",
       "        vertical-align: top;\n",
       "    }\n",
       "\n",
       "    .dataframe thead th {\n",
       "        text-align: right;\n",
       "    }\n",
       "</style>\n",
       "<table border=\"1\" class=\"dataframe\">\n",
       "  <thead>\n",
       "    <tr style=\"text-align: right;\">\n",
       "      <th></th>\n",
       "      <th>id</th>\n",
       "      <th>meeting_id</th>\n",
       "      <th>transcript</th>\n",
       "      <th>timestamp</th>\n",
       "      <th>meeting_name</th>\n",
       "      <th>meeting_summary</th>\n",
       "    </tr>\n",
       "  </thead>\n",
       "  <tbody>\n",
       "    <tr>\n",
       "      <th>0</th>\n",
       "      <td>1</td>\n",
       "      <td>732f3c41-8757-4033-bf23-9f1788a4757f</td>\n",
       "      <td>[{'speaker': 'TBD', 'speaker_id': 'TBD', 'cont...</td>\n",
       "      <td>2024-11-01 12:29:15.130000</td>\n",
       "      <td>End-to-End System Functionality Testing Overview</td>\n",
       "      <td>Testing the functionality of the **end-to-end ...</td>\n",
       "    </tr>\n",
       "    <tr>\n",
       "      <th>1</th>\n",
       "      <td>2</td>\n",
       "      <td>e77ea83e-fe07-4e8b-879b-2939f208775f</td>\n",
       "      <td>[{'speaker': 'TBD', 'speaker_id': 'TBD', 'cont...</td>\n",
       "      <td>2024-11-01 12:34:50.470000</td>\n",
       "      <td>System Testing and Performance Assessment</td>\n",
       "      <td>**Testing functionality of the system**: The t...</td>\n",
       "    </tr>\n",
       "    <tr>\n",
       "      <th>2</th>\n",
       "      <td>3</td>\n",
       "      <td>9211c3e2-6e25-470c-8daf-d317d6555b34</td>\n",
       "      <td>[{'speaker': 'Dmitriy Grankin', 'speaker_id': ...</td>\n",
       "      <td>2024-11-01 13:44:06.620000</td>\n",
       "      <td>DevOps Service Reliability and Cloud Transition</td>\n",
       "      <td>Emphasis on the **need for a reliable DevOps s...</td>\n",
       "    </tr>\n",
       "    <tr>\n",
       "      <th>3</th>\n",
       "      <td>4</td>\n",
       "      <td>d719cff2-5322-42f7-ae09-19e65a206711</td>\n",
       "      <td>[{'speaker': 'Dmitriy Grankin', 'speaker_id': ...</td>\n",
       "      <td>2024-10-30 11:38:18.215999</td>\n",
       "      <td>Introduction of Bit Beta System for Knowledge ...</td>\n",
       "      <td>A new **beta system** introduced by **Dmitriy ...</td>\n",
       "    </tr>\n",
       "    <tr>\n",
       "      <th>4</th>\n",
       "      <td>5</td>\n",
       "      <td>553fcfe6-0143-4971-99e7-213245f63347</td>\n",
       "      <td>[{'speaker': 'Sergey Ryabenko', 'speaker_id': ...</td>\n",
       "      <td>2024-10-30 14:13:45.884000</td>\n",
       "      <td>Review Vexa Multi Assistant Performance &amp; Oppo...</td>\n",
       "      <td>Dmitriy and Sergey reviewed the **Vexa Multi A...</td>\n",
       "    </tr>\n",
       "    <tr>\n",
       "      <th>...</th>\n",
       "      <td>...</td>\n",
       "      <td>...</td>\n",
       "      <td>...</td>\n",
       "      <td>...</td>\n",
       "      <td>...</td>\n",
       "      <td>...</td>\n",
       "    </tr>\n",
       "    <tr>\n",
       "      <th>117</th>\n",
       "      <td>118</td>\n",
       "      <td>68097e56-44c2-4d5a-b4bc-8e0486aa911b</td>\n",
       "      <td>[{'speaker': 'Sergey Ryabenko', 'speaker_id': ...</td>\n",
       "      <td>2024-09-27 14:14:15.650000</td>\n",
       "      <td>Project Updates: Document Edits, Timeline, and...</td>\n",
       "      <td>Final edits to the document are awaited from *...</td>\n",
       "    </tr>\n",
       "    <tr>\n",
       "      <th>118</th>\n",
       "      <td>119</td>\n",
       "      <td>039a3a58-70af-43c8-82fd-8c0193f5ad6c</td>\n",
       "      <td>[{'speaker': 'Sergey Ryabenko', 'speaker_id': ...</td>\n",
       "      <td>2024-10-09 10:05:46.516000</td>\n",
       "      <td>Breathwork Marketing Strategy and Updates</td>\n",
       "      <td>**Julian** completed a **landing page** for th...</td>\n",
       "    </tr>\n",
       "    <tr>\n",
       "      <th>119</th>\n",
       "      <td>120</td>\n",
       "      <td>4d7b0cee-4c71-45fa-aa37-a1556aceb2ce</td>\n",
       "      <td>[{'speaker': 'TBD', 'speaker_id': 'TBD', 'cont...</td>\n",
       "      <td>2024-09-26 10:26:22.840000</td>\n",
       "      <td>Scheduler and Functional Testing Review Call</td>\n",
       "      <td>A call was planned to discuss the **scheduler*...</td>\n",
       "    </tr>\n",
       "    <tr>\n",
       "      <th>120</th>\n",
       "      <td>121</td>\n",
       "      <td>0aee5d35-5e04-4b48-b428-6e2979aab55c</td>\n",
       "      <td>[{'speaker': 'TBD', 'speaker_id': 'TBD', 'cont...</td>\n",
       "      <td>2024-09-25 13:28:55.560000</td>\n",
       "      <td>Google Meet Transcription Extension Marketing ...</td>\n",
       "      <td>Dmitry Grankin is developing a **Google Meet t...</td>\n",
       "    </tr>\n",
       "    <tr>\n",
       "      <th>121</th>\n",
       "      <td>122</td>\n",
       "      <td>9a3a7008-4352-41a6-add7-62108cbf6999</td>\n",
       "      <td>[{'speaker': 'Dmitriy Grankin', 'speaker_id': ...</td>\n",
       "      <td>2024-10-04 10:14:41.300000</td>\n",
       "      <td>GitHub Access, SSH Setup, and IDE Preferences</td>\n",
       "      <td>**Access to GitHub for Nikolay**: Nikolay need...</td>\n",
       "    </tr>\n",
       "  </tbody>\n",
       "</table>\n",
       "<p>122 rows × 6 columns</p>\n",
       "</div>"
      ],
      "text/plain": [
       "      id                            meeting_id  \\\n",
       "0      1  732f3c41-8757-4033-bf23-9f1788a4757f   \n",
       "1      2  e77ea83e-fe07-4e8b-879b-2939f208775f   \n",
       "2      3  9211c3e2-6e25-470c-8daf-d317d6555b34   \n",
       "3      4  d719cff2-5322-42f7-ae09-19e65a206711   \n",
       "4      5  553fcfe6-0143-4971-99e7-213245f63347   \n",
       "..   ...                                   ...   \n",
       "117  118  68097e56-44c2-4d5a-b4bc-8e0486aa911b   \n",
       "118  119  039a3a58-70af-43c8-82fd-8c0193f5ad6c   \n",
       "119  120  4d7b0cee-4c71-45fa-aa37-a1556aceb2ce   \n",
       "120  121  0aee5d35-5e04-4b48-b428-6e2979aab55c   \n",
       "121  122  9a3a7008-4352-41a6-add7-62108cbf6999   \n",
       "\n",
       "                                            transcript  \\\n",
       "0    [{'speaker': 'TBD', 'speaker_id': 'TBD', 'cont...   \n",
       "1    [{'speaker': 'TBD', 'speaker_id': 'TBD', 'cont...   \n",
       "2    [{'speaker': 'Dmitriy Grankin', 'speaker_id': ...   \n",
       "3    [{'speaker': 'Dmitriy Grankin', 'speaker_id': ...   \n",
       "4    [{'speaker': 'Sergey Ryabenko', 'speaker_id': ...   \n",
       "..                                                 ...   \n",
       "117  [{'speaker': 'Sergey Ryabenko', 'speaker_id': ...   \n",
       "118  [{'speaker': 'Sergey Ryabenko', 'speaker_id': ...   \n",
       "119  [{'speaker': 'TBD', 'speaker_id': 'TBD', 'cont...   \n",
       "120  [{'speaker': 'TBD', 'speaker_id': 'TBD', 'cont...   \n",
       "121  [{'speaker': 'Dmitriy Grankin', 'speaker_id': ...   \n",
       "\n",
       "                     timestamp  \\\n",
       "0   2024-11-01 12:29:15.130000   \n",
       "1   2024-11-01 12:34:50.470000   \n",
       "2   2024-11-01 13:44:06.620000   \n",
       "3   2024-10-30 11:38:18.215999   \n",
       "4   2024-10-30 14:13:45.884000   \n",
       "..                         ...   \n",
       "117 2024-09-27 14:14:15.650000   \n",
       "118 2024-10-09 10:05:46.516000   \n",
       "119 2024-09-26 10:26:22.840000   \n",
       "120 2024-09-25 13:28:55.560000   \n",
       "121 2024-10-04 10:14:41.300000   \n",
       "\n",
       "                                          meeting_name  \\\n",
       "0     End-to-End System Functionality Testing Overview   \n",
       "1            System Testing and Performance Assessment   \n",
       "2      DevOps Service Reliability and Cloud Transition   \n",
       "3    Introduction of Bit Beta System for Knowledge ...   \n",
       "4    Review Vexa Multi Assistant Performance & Oppo...   \n",
       "..                                                 ...   \n",
       "117  Project Updates: Document Edits, Timeline, and...   \n",
       "118          Breathwork Marketing Strategy and Updates   \n",
       "119       Scheduler and Functional Testing Review Call   \n",
       "120  Google Meet Transcription Extension Marketing ...   \n",
       "121      GitHub Access, SSH Setup, and IDE Preferences   \n",
       "\n",
       "                                       meeting_summary  \n",
       "0    Testing the functionality of the **end-to-end ...  \n",
       "1    **Testing functionality of the system**: The t...  \n",
       "2    Emphasis on the **need for a reliable DevOps s...  \n",
       "3    A new **beta system** introduced by **Dmitriy ...  \n",
       "4    Dmitriy and Sergey reviewed the **Vexa Multi A...  \n",
       "..                                                 ...  \n",
       "117  Final edits to the document are awaited from *...  \n",
       "118  **Julian** completed a **landing page** for th...  \n",
       "119  A call was planned to discuss the **scheduler*...  \n",
       "120  Dmitry Grankin is developing a **Google Meet t...  \n",
       "121  **Access to GitHub for Nikolay**: Nikolay need...  \n",
       "\n",
       "[122 rows x 6 columns]"
      ]
     },
     "execution_count": 13,
     "metadata": {},
     "output_type": "execute_result"
    }
   ],
   "source": [
    "\n",
    "await read_table_async(Meeting)"
   ]
  },
  {
   "cell_type": "code",
   "execution_count": null,
   "metadata": {},
   "outputs": [],
   "source": []
  }
 ],
 "metadata": {
  "kernelspec": {
   "display_name": "langchain",
   "language": "python",
   "name": "python3"
  },
  "language_info": {
   "codemirror_mode": {
    "name": "ipython",
    "version": 3
   },
   "file_extension": ".py",
   "mimetype": "text/x-python",
   "name": "python",
   "nbconvert_exporter": "python",
   "pygments_lexer": "ipython3",
   "version": "3.11.2"
  }
 },
 "nbformat": 4,
 "nbformat_minor": 2
}
