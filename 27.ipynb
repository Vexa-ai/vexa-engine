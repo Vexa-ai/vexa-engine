{
 "cells": [
  {
   "cell_type": "code",
   "execution_count": 1,
   "metadata": {},
   "outputs": [],
   "source": [
    "%load_ext autoreload\n",
    "%autoreload 2\n"
   ]
  },
  {
   "cell_type": "code",
   "execution_count": 27,
   "metadata": {},
   "outputs": [
    {
     "name": "stdout",
     "output_type": "stream",
     "text": [
      "User information retrieved successfully.\n"
     ]
    },
    {
     "data": {
      "text/plain": [
       "{'id': '8b767b85-44fb-4c20-97df-7aa172242273',\n",
       " 'email': 'olganemirovskaya@gmail.com',\n",
       " 'is_allowed_send_init_message': True,\n",
       " 'username': 'Olga Nemirovskaya',\n",
       " 'first_name': 'Olga',\n",
       " 'last_name': 'Nemirovskaya',\n",
       " 'image': 'https://lh3.googleusercontent.com/a/ACg8ocKR1iFeaYf1j_vKhuy3YwN-9ejP69m0LisKCe3SOCt33_BEb25U=s96-c',\n",
       " 'created_timestamp': '2024-05-28T11:16:50.894711Z',\n",
       " 'updated_timestamp': '2024-10-29T13:13:48.906673Z'}"
      ]
     },
     "execution_count": 27,
     "metadata": {},
     "output_type": "execute_result"
    }
   ],
   "source": [
    "await vexa.get_user_info()"
   ]
  },
  {
   "cell_type": "code",
   "execution_count": 36,
   "metadata": {},
   "outputs": [],
   "source": [
    "from psql_helpers import create_share_link,accept_share_link"
   ]
  },
  {
   "cell_type": "code",
   "execution_count": 29,
   "metadata": {},
   "outputs": [],
   "source": [
    "from psql_helpers import get_session\n",
    "from psql_models import AccessLevel\n",
    "from datetime import datetime, timedelta\n"
   ]
  },
  {
   "cell_type": "code",
   "execution_count": 38,
   "metadata": {},
   "outputs": [
    {
     "name": "stdout",
     "output_type": "stream",
     "text": [
      "User information retrieved successfully.\n"
     ]
    },
    {
     "data": {
      "text/plain": [
       "{'id': 'ef7c085b-fdb5-4c94-b7b6-a61a3d04c210',\n",
       " 'email': '2280905@gmail.com',\n",
       " 'is_allowed_send_init_message': True,\n",
       " 'username': 'Dmitriy Grankin',\n",
       " 'first_name': 'Dmitriy',\n",
       " 'last_name': 'Grankin',\n",
       " 'image': 'https://lh3.googleusercontent.com/a/ACg8ocLu4ZPfzj9KFNVqKL3NTF4SXUYvJ4mwoXLuoQ0BZzjw7OBIRA=s96-c',\n",
       " 'created_timestamp': '2024-05-28T11:16:50.894711Z',\n",
       " 'updated_timestamp': '2024-10-18T08:47:02.519781Z'}"
      ]
     },
     "execution_count": 38,
     "metadata": {},
     "output_type": "execute_result"
    }
   ],
   "source": [
    "from indexing import Indexing\n",
    "from vexa import VexaAPI\n",
    "\n",
    "\n",
    "\n",
    "token = '3ae04e20124d40babc5107e658c666b6'\n",
    "olga_token = '5faa86ba0dc74b14a78c60c8aa20a014'\n",
    "vexa = VexaAPI(token)\n",
    "await vexa.get_user_info()"
   ]
  },
  {
   "cell_type": "code",
   "execution_count": 39,
   "metadata": {},
   "outputs": [
    {
     "data": {
      "text/plain": [
       "'ef7c085b-fdb5-4c94-b7b6-a61a3d04c210'"
      ]
     },
     "execution_count": 39,
     "metadata": {},
     "output_type": "execute_result"
    }
   ],
   "source": [
    "vexa.user_id"
   ]
  },
  {
   "cell_type": "code",
   "execution_count": 32,
   "metadata": {},
   "outputs": [
    {
     "data": {
      "text/plain": [
       "'fKLJiPiMjNJ-GcQiGjfiF6-5hP1QFAxRnedjEYqriEs'"
      ]
     },
     "execution_count": 32,
     "metadata": {},
     "output_type": "execute_result"
    }
   ],
   "source": [
    "async with get_session() as session:\n",
    "    link = await create_share_link(session, owner_id=vexa.user_id, access_level=AccessLevel.SEARCH, expiration_hours=1)\n",
    "link\n"
   ]
  },
  {
   "cell_type": "code",
   "execution_count": 33,
   "metadata": {},
   "outputs": [
    {
     "data": {
      "text/plain": [
       "'fKLJiPiMjNJ-GcQiGjfiF6-5hP1QFAxRnedjEYqriEs'"
      ]
     },
     "execution_count": 33,
     "metadata": {},
     "output_type": "execute_result"
    }
   ],
   "source": [
    "link"
   ]
  },
  {
   "cell_type": "code",
   "execution_count": 41,
   "metadata": {},
   "outputs": [],
   "source": [
    "success = await accept_share_link(\n",
    "    session,\n",
    "    token='fKLJiPiMjNJ-GcQiGjfiF6-5hP1QFAxRnedjEYqriEs',\n",
    "    accepting_user_id=vexa.user_id,\n",
    ")"
   ]
  },
  {
   "cell_type": "code",
   "execution_count": 42,
   "metadata": {},
   "outputs": [
    {
     "data": {
      "text/plain": [
       "True"
      ]
     },
     "execution_count": 42,
     "metadata": {},
     "output_type": "execute_result"
    }
   ],
   "source": [
    "success"
   ]
  },
  {
   "cell_type": "code",
   "execution_count": null,
   "metadata": {},
   "outputs": [],
   "source": [
    "create_share_link"
   ]
  },
  {
   "cell_type": "code",
   "execution_count": 3,
   "metadata": {},
   "outputs": [
    {
     "name": "stdout",
     "output_type": "stream",
     "text": [
      "User information retrieved successfully.\n",
      "Request URL: http://127.0.0.1:8001/api/v1/calls/all\n",
      "Request Params: {'token': '3ae04e20124d40babc5107e658c666b6'}\n",
      "Processing meeting 7343734f-7311-4844-aa5e-86f1f93595c5\n",
      "Meeting data and discussion points saved successfully to the database.\n",
      "Successfully processed meeting 7343734f-7311-4844-aa5e-86f1f93595c5\n",
      "Processing meeting 50d5d659-3a57-42f2-8f32-31c7145ebe91\n",
      "Meeting data and discussion points saved successfully to the database.\n",
      "Successfully processed meeting 50d5d659-3a57-42f2-8f32-31c7145ebe91\n"
     ]
    }
   ],
   "source": [
    "await indexing.index_meetings(num_meetings=2)"
   ]
  },
  {
   "cell_type": "code",
   "execution_count": 5,
   "metadata": {},
   "outputs": [],
   "source": [
    "from qdrant_search import QdrantSearchEngine"
   ]
  },
  {
   "cell_type": "code",
   "execution_count": 7,
   "metadata": {},
   "outputs": [],
   "source": [
    "from psql_helpers import get_session"
   ]
  },
  {
   "cell_type": "code",
   "execution_count": 8,
   "metadata": {},
   "outputs": [
    {
     "name": "stdout",
     "output_type": "stream",
     "text": [
      "Created text index for field: topic_name\n",
      "Created text index for field: summary\n",
      "Created text index for field: details\n"
     ]
    }
   ],
   "source": [
    "engine = QdrantSearchEngine()\n",
    "await engine.initialize()\n",
    "await engine.sync_from_postgres(get_session)"
   ]
  },
  {
   "cell_type": "code",
   "execution_count": 3,
   "metadata": {},
   "outputs": [],
   "source": [
    "from search import SearchAssistant"
   ]
  },
  {
   "cell_type": "code",
   "execution_count": 11,
   "metadata": {},
   "outputs": [],
   "source": [
    "search = SearchAssistant()\n",
    "await search.initialize()\n"
   ]
  },
  {
   "cell_type": "code",
   "execution_count": 12,
   "metadata": {},
   "outputs": [
    {
     "data": {
      "text/html": [
       "<div>\n",
       "<style scoped>\n",
       "    .dataframe tbody tr th:only-of-type {\n",
       "        vertical-align: middle;\n",
       "    }\n",
       "\n",
       "    .dataframe tbody tr th {\n",
       "        vertical-align: top;\n",
       "    }\n",
       "\n",
       "    .dataframe thead th {\n",
       "        text-align: right;\n",
       "    }\n",
       "</style>\n",
       "<table border=\"1\" class=\"dataframe\">\n",
       "  <thead>\n",
       "    <tr style=\"text-align: right;\">\n",
       "      <th></th>\n",
       "      <th>topic_name</th>\n",
       "      <th>speaker_name</th>\n",
       "      <th>summary</th>\n",
       "      <th>details</th>\n",
       "      <th>meeting_id</th>\n",
       "      <th>timestamp</th>\n",
       "      <th>score</th>\n",
       "      <th>vector_scores</th>\n",
       "      <th>exact_matches</th>\n",
       "      <th>source</th>\n",
       "    </tr>\n",
       "  </thead>\n",
       "  <tbody>\n",
       "    <tr>\n",
       "      <th>0</th>\n",
       "      <td>Ravshan S.K.</td>\n",
       "      <td>Ravshan S.K.</td>\n",
       "      <td>Ravshan S.K. is a speaker in the meeting, coll...</td>\n",
       "      <td>Ravshan mentions the need for an API and expre...</td>\n",
       "      <td>7343734f-7311-4844-aa5e-86f1f93595c5</td>\n",
       "      <td>2024-10-25T12:01:02.055999</td>\n",
       "      <td>1.219427</td>\n",
       "      <td>{'speaker': 0.60971335, 'topic_name': 0.609713...</td>\n",
       "      <td>[topic_name, summary, details, topic_name, sum...</td>\n",
       "      <td>main</td>\n",
       "    </tr>\n",
       "    <tr>\n",
       "      <th>1</th>\n",
       "      <td>API access setup</td>\n",
       "      <td>RS</td>\n",
       "      <td>Ravshan needs to set up access to an API for f...</td>\n",
       "      <td>Ravshan mentioned the need for an API key to p...</td>\n",
       "      <td>7343734f-7311-4844-aa5e-86f1f93595c5</td>\n",
       "      <td>2024-10-25T12:01:02.055999</td>\n",
       "      <td>0.661076</td>\n",
       "      <td>{'summary': 0.47219736500000004, 'speaker': 0....</td>\n",
       "      <td>[summary, details, summary, details]</td>\n",
       "      <td>main</td>\n",
       "    </tr>\n",
       "    <tr>\n",
       "      <th>2</th>\n",
       "      <td>Dmitry Grankin</td>\n",
       "      <td>Dmitry Grankin</td>\n",
       "      <td>Dmitry Grankin is a speaker in the meeting, di...</td>\n",
       "      <td>Dmitry expresses interest in how Ravshan codes...</td>\n",
       "      <td>7343734f-7311-4844-aa5e-86f1f93595c5</td>\n",
       "      <td>2024-10-25T12:01:02.055999</td>\n",
       "      <td>0.640184</td>\n",
       "      <td>{'details': 0.45727395}</td>\n",
       "      <td>[details, details]</td>\n",
       "      <td>main</td>\n",
       "    </tr>\n",
       "    <tr>\n",
       "      <th>3</th>\n",
       "      <td>API</td>\n",
       "      <td>Ravshan S.K.</td>\n",
       "      <td>An application programming interface that is n...</td>\n",
       "      <td>Ravshan mentions needing an API to proceed wit...</td>\n",
       "      <td>7343734f-7311-4844-aa5e-86f1f93595c5</td>\n",
       "      <td>2024-10-25T12:01:02.055999</td>\n",
       "      <td>0.609713</td>\n",
       "      <td>{'speaker': 0.60971335, 'details': 0.402495000...</td>\n",
       "      <td>[details]</td>\n",
       "      <td>main</td>\n",
       "    </tr>\n",
       "    <tr>\n",
       "      <th>4</th>\n",
       "      <td>Code demonstration</td>\n",
       "      <td>DG</td>\n",
       "      <td>Dmitry expressed interest in seeing Ravshan's ...</td>\n",
       "      <td>Dmitry wants to understand how Ravshan approac...</td>\n",
       "      <td>7343734f-7311-4844-aa5e-86f1f93595c5</td>\n",
       "      <td>2024-10-25T12:01:02.055999</td>\n",
       "      <td>0.586159</td>\n",
       "      <td>{'summary': 0.46868535, 'details': 0.460842325...</td>\n",
       "      <td>[summary, details, summary, details]</td>\n",
       "      <td>main</td>\n",
       "    </tr>\n",
       "    <tr>\n",
       "      <th>5</th>\n",
       "      <td>Vexa</td>\n",
       "      <td>Dmitry Grankin</td>\n",
       "      <td>Vexa is a product that Dmitry is developing, w...</td>\n",
       "      <td>Dmitry discusses the functionality of Vexa and...</td>\n",
       "      <td>50d5d659-3a57-42f2-8f32-31c7145ebe91</td>\n",
       "      <td>2024-10-24T09:32:32.980000</td>\n",
       "      <td>0.559645</td>\n",
       "      <td>{'topic_name': 0.5596452}</td>\n",
       "      <td>[]</td>\n",
       "      <td>main</td>\n",
       "    </tr>\n",
       "    <tr>\n",
       "      <th>9</th>\n",
       "      <td>Problem resolution</td>\n",
       "      <td>RS</td>\n",
       "      <td>The team successfully resolved a technical iss...</td>\n",
       "      <td>The specific problem was not detailed, but it ...</td>\n",
       "      <td>7343734f-7311-4844-aa5e-86f1f93595c5</td>\n",
       "      <td>2024-10-25T12:01:02.055999</td>\n",
       "      <td>0.513459</td>\n",
       "      <td>NaN</td>\n",
       "      <td>NaN</td>\n",
       "      <td>speaker</td>\n",
       "    </tr>\n",
       "    <tr>\n",
       "      <th>6</th>\n",
       "      <td>Fathom</td>\n",
       "      <td>Dmitry Grankin</td>\n",
       "      <td>Fathom is mentioned as a competitor in the mar...</td>\n",
       "      <td>Dmitry references Fathom as part of the compet...</td>\n",
       "      <td>50d5d659-3a57-42f2-8f32-31c7145ebe91</td>\n",
       "      <td>2024-10-24T09:32:32.980000</td>\n",
       "      <td>0.465952</td>\n",
       "      <td>{'topic_name': 0.46595228}</td>\n",
       "      <td>[]</td>\n",
       "      <td>main</td>\n",
       "    </tr>\n",
       "    <tr>\n",
       "      <th>10</th>\n",
       "      <td>Hiring considerations</td>\n",
       "      <td>DG</td>\n",
       "      <td>Dmitry discussed the need for hiring developer...</td>\n",
       "      <td>Dmitry expressed that there is no need to hire...</td>\n",
       "      <td>7343734f-7311-4844-aa5e-86f1f93595c5</td>\n",
       "      <td>2024-10-25T12:01:02.055999</td>\n",
       "      <td>0.417655</td>\n",
       "      <td>NaN</td>\n",
       "      <td>NaN</td>\n",
       "      <td>speaker</td>\n",
       "    </tr>\n",
       "    <tr>\n",
       "      <th>7</th>\n",
       "      <td>Real-time weather access</td>\n",
       "      <td>DG</td>\n",
       "      <td>The team plans to integrate real-time weather ...</td>\n",
       "      <td>Dmitry proposed adding real-time weather acces...</td>\n",
       "      <td>7343734f-7311-4844-aa5e-86f1f93595c5</td>\n",
       "      <td>2024-10-25T12:01:02.055999</td>\n",
       "      <td>0.413710</td>\n",
       "      <td>{'details': 0.4137096, 'speaker': 0.4088273500...</td>\n",
       "      <td>[details]</td>\n",
       "      <td>main</td>\n",
       "    </tr>\n",
       "    <tr>\n",
       "      <th>8</th>\n",
       "      <td>Streaming chat task</td>\n",
       "      <td>DG</td>\n",
       "      <td>The team discussed creating a streaming chat a...</td>\n",
       "      <td>Ravshan suggested developing a streaming chat ...</td>\n",
       "      <td>7343734f-7311-4844-aa5e-86f1f93595c5</td>\n",
       "      <td>2024-10-25T12:01:02.055999</td>\n",
       "      <td>0.408827</td>\n",
       "      <td>{'speaker': 0.40882735000000003}</td>\n",
       "      <td>[]</td>\n",
       "      <td>main</td>\n",
       "    </tr>\n",
       "  </tbody>\n",
       "</table>\n",
       "</div>"
      ],
      "text/plain": [
       "                  topic_name    speaker_name  \\\n",
       "0               Ravshan S.K.    Ravshan S.K.   \n",
       "1           API access setup              RS   \n",
       "2             Dmitry Grankin  Dmitry Grankin   \n",
       "3                        API    Ravshan S.K.   \n",
       "4         Code demonstration              DG   \n",
       "5                       Vexa  Dmitry Grankin   \n",
       "9         Problem resolution              RS   \n",
       "6                     Fathom  Dmitry Grankin   \n",
       "10     Hiring considerations              DG   \n",
       "7   Real-time weather access              DG   \n",
       "8        Streaming chat task              DG   \n",
       "\n",
       "                                              summary  \\\n",
       "0   Ravshan S.K. is a speaker in the meeting, coll...   \n",
       "1   Ravshan needs to set up access to an API for f...   \n",
       "2   Dmitry Grankin is a speaker in the meeting, di...   \n",
       "3   An application programming interface that is n...   \n",
       "4   Dmitry expressed interest in seeing Ravshan's ...   \n",
       "5   Vexa is a product that Dmitry is developing, w...   \n",
       "9   The team successfully resolved a technical iss...   \n",
       "6   Fathom is mentioned as a competitor in the mar...   \n",
       "10  Dmitry discussed the need for hiring developer...   \n",
       "7   The team plans to integrate real-time weather ...   \n",
       "8   The team discussed creating a streaming chat a...   \n",
       "\n",
       "                                              details  \\\n",
       "0   Ravshan mentions the need for an API and expre...   \n",
       "1   Ravshan mentioned the need for an API key to p...   \n",
       "2   Dmitry expresses interest in how Ravshan codes...   \n",
       "3   Ravshan mentions needing an API to proceed wit...   \n",
       "4   Dmitry wants to understand how Ravshan approac...   \n",
       "5   Dmitry discusses the functionality of Vexa and...   \n",
       "9   The specific problem was not detailed, but it ...   \n",
       "6   Dmitry references Fathom as part of the compet...   \n",
       "10  Dmitry expressed that there is no need to hire...   \n",
       "7   Dmitry proposed adding real-time weather acces...   \n",
       "8   Ravshan suggested developing a streaming chat ...   \n",
       "\n",
       "                              meeting_id                   timestamp  \\\n",
       "0   7343734f-7311-4844-aa5e-86f1f93595c5  2024-10-25T12:01:02.055999   \n",
       "1   7343734f-7311-4844-aa5e-86f1f93595c5  2024-10-25T12:01:02.055999   \n",
       "2   7343734f-7311-4844-aa5e-86f1f93595c5  2024-10-25T12:01:02.055999   \n",
       "3   7343734f-7311-4844-aa5e-86f1f93595c5  2024-10-25T12:01:02.055999   \n",
       "4   7343734f-7311-4844-aa5e-86f1f93595c5  2024-10-25T12:01:02.055999   \n",
       "5   50d5d659-3a57-42f2-8f32-31c7145ebe91  2024-10-24T09:32:32.980000   \n",
       "9   7343734f-7311-4844-aa5e-86f1f93595c5  2024-10-25T12:01:02.055999   \n",
       "6   50d5d659-3a57-42f2-8f32-31c7145ebe91  2024-10-24T09:32:32.980000   \n",
       "10  7343734f-7311-4844-aa5e-86f1f93595c5  2024-10-25T12:01:02.055999   \n",
       "7   7343734f-7311-4844-aa5e-86f1f93595c5  2024-10-25T12:01:02.055999   \n",
       "8   7343734f-7311-4844-aa5e-86f1f93595c5  2024-10-25T12:01:02.055999   \n",
       "\n",
       "       score                                      vector_scores  \\\n",
       "0   1.219427  {'speaker': 0.60971335, 'topic_name': 0.609713...   \n",
       "1   0.661076  {'summary': 0.47219736500000004, 'speaker': 0....   \n",
       "2   0.640184                            {'details': 0.45727395}   \n",
       "3   0.609713  {'speaker': 0.60971335, 'details': 0.402495000...   \n",
       "4   0.586159  {'summary': 0.46868535, 'details': 0.460842325...   \n",
       "5   0.559645                          {'topic_name': 0.5596452}   \n",
       "9   0.513459                                                NaN   \n",
       "6   0.465952                         {'topic_name': 0.46595228}   \n",
       "10  0.417655                                                NaN   \n",
       "7   0.413710  {'details': 0.4137096, 'speaker': 0.4088273500...   \n",
       "8   0.408827                   {'speaker': 0.40882735000000003}   \n",
       "\n",
       "                                        exact_matches   source  \n",
       "0   [topic_name, summary, details, topic_name, sum...     main  \n",
       "1                [summary, details, summary, details]     main  \n",
       "2                                  [details, details]     main  \n",
       "3                                           [details]     main  \n",
       "4                [summary, details, summary, details]     main  \n",
       "5                                                  []     main  \n",
       "9                                                 NaN  speaker  \n",
       "6                                                  []     main  \n",
       "10                                                NaN  speaker  \n",
       "7                                           [details]     main  \n",
       "8                                                  []     main  "
      ]
     },
     "execution_count": 12,
     "metadata": {},
     "output_type": "execute_result"
    }
   ],
   "source": [
    "\n",
    "await search.search(query='Ravshan', user_id='ef7c085b-fdb5-4c94-b7b6-a61a3d04c210', limit=200, min_score=0.4)"
   ]
  },
  {
   "cell_type": "code",
   "execution_count": null,
   "metadata": {},
   "outputs": [],
   "source": []
  }
 ],
 "metadata": {
  "kernelspec": {
   "display_name": "langchain",
   "language": "python",
   "name": "python3"
  },
  "language_info": {
   "codemirror_mode": {
    "name": "ipython",
    "version": 3
   },
   "file_extension": ".py",
   "mimetype": "text/x-python",
   "name": "python",
   "nbconvert_exporter": "python",
   "pygments_lexer": "ipython3",
   "version": "3.11.2"
  }
 },
 "nbformat": 4,
 "nbformat_minor": 2
}
