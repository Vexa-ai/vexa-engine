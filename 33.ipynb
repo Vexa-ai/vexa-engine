{
 "cells": [
  {
   "cell_type": "code",
   "execution_count": 1,
   "metadata": {},
   "outputs": [],
   "source": [
    "%load_ext autoreload\n",
    "%autoreload 2"
   ]
  },
  {
   "cell_type": "code",
   "execution_count": 2,
   "metadata": {},
   "outputs": [
    {
     "data": {
      "text/plain": [
       "[{'user_id': 'ef7c085b-fdb5-4c94-b7b6-a61a3d04c210',\n",
       "  'user_name': 'string string'}]"
      ]
     },
     "execution_count": 2,
     "metadata": {},
     "output_type": "execute_result"
    }
   ],
   "source": [
    "\n",
    "from indexing import get_indexing_stats,start_indexing_for_users\n",
    "from psql_helpers import get_session\n",
    "from vexa import VexaAuth\n",
    "active_users = ['a.zakharov@citydrive.ru', 'arabuli.sh@gmail.com', 'ahmed@forager.ai',\n",
    "       'liza@blasterstudio.ru', 'evgeniya@blasterstudio.ru',\n",
    "       'vitaliy.eremeychik@gmail.com', 'marianna.inozemtseva@gmail.com',\n",
    "       'nick@occam.fi', 'joes82242@gmail.com', 'Arabuli.Sh@gmail.com',\n",
    "       'makarenkov93@gmail.com', 'adam@ispeedtolead.com', 'lenishe@gmail.com',\n",
    "       'ilia.semukhin@gmail.com', 'hello@motiohead.com',\n",
    "       'stacygulyaeva@gmail.com', 'iv.bess@gmail.com',\n",
    "       'adm.publisher@gmail.com', 'guilherme.francisco@hotmart.com',\n",
    "       'OlgaNemirovskaya@gmail.com']\n",
    "selected = ['2280905@gmail.com']\n",
    "\n",
    "\n",
    "vexa_auth = VexaAuth()\n",
    "[await vexa_auth.authenticate_user(s) for s in selected]"
   ]
  },
  {
   "cell_type": "code",
   "execution_count": 3,
   "metadata": {},
   "outputs": [],
   "source": [
    "from psql_helpers import init_db\n",
    "#await init_db()"
   ]
  },
  {
   "cell_type": "code",
   "execution_count": 4,
   "metadata": {},
   "outputs": [
    {
     "name": "stdout",
     "output_type": "stream",
     "text": [
      "Vexa token: 3ae04e20124d40babc5107e658c666b6\n",
      "User information retrieved successfully.\n",
      "Created text index for field: topic_name\n",
      "Created text index for field: summary\n",
      "Created text index for field: details\n",
      "Request URL: http://127.0.0.1:8001/api/v1/calls/all\n",
      "Request Params: {'token': '3ae04e20124d40babc5107e658c666b6'}\n"
     ]
    }
   ],
   "source": [
    "\n",
    "async with get_session() as session:\n",
    "    # Example 1: Start indexing for specific users by email\n",
    "    user_emails = selected\n",
    "    results = await start_indexing_for_users(\n",
    "        session, \n",
    "        emails=user_emails,\n",
    "        num_meetings=2\n",
    "    )"
   ]
  },
  {
   "cell_type": "code",
   "execution_count": 5,
   "metadata": {},
   "outputs": [
    {
     "name": "stdout",
     "output_type": "stream",
     "text": [
      "Vexa token: 3ae04e20124d40babc5107e658c666b6\n",
      "User information retrieved successfully.\n"
     ]
    },
    {
     "data": {
      "text/plain": [
       "{'id': 'ef7c085b-fdb5-4c94-b7b6-a61a3d04c210',\n",
       " 'email': '2280905@gmail.com',\n",
       " 'is_allowed_send_init_message': True,\n",
       " 'username': 'string',\n",
       " 'first_name': 'string',\n",
       " 'last_name': 'string',\n",
       " 'image': None,\n",
       " 'created_timestamp': '2024-05-28T11:16:50.894711Z',\n",
       " 'updated_timestamp': '2024-11-03T11:03:13.285761Z'}"
      ]
     },
     "execution_count": 5,
     "metadata": {},
     "output_type": "execute_result"
    }
   ],
   "source": [
    "from vexa import VexaAPI\n",
    "vexa = VexaAPI()\n",
    "await vexa.get_user_info()"
   ]
  },
  {
   "cell_type": "code",
   "execution_count": 6,
   "metadata": {},
   "outputs": [
    {
     "name": "stdout",
     "output_type": "stream",
     "text": [
      "Vexa token: 3ae04e20124d40babc5107e658c666b6\n"
     ]
    },
    {
     "data": {
      "text/plain": [
       "{'is_indexing': False,\n",
       " 'current_meeting': 'aca6db34-d81c-41e9-ae7e-088e3c721042',\n",
       " 'processing_meetings': ['9211c3e2-6e25-470c-8daf-d317d6555b34',\n",
       "  '553fcfe6-0143-4971-99e7-213245f63347',\n",
       "  'aca6db34-d81c-41e9-ae7e-088e3c721042']}"
      ]
     },
     "execution_count": 6,
     "metadata": {},
     "output_type": "execute_result"
    }
   ],
   "source": [
    "from indexing import Indexing\n",
    "indexing = Indexing(vexa.token)\n",
    "indexing.status"
   ]
  },
  {
   "cell_type": "code",
   "execution_count": 7,
   "metadata": {},
   "outputs": [
    {
     "data": {
      "text/plain": [
       "{'Processing Queue': ['9211c3e2-6e25-470c-8daf-d317d6555b34',\n",
       "  '553fcfe6-0143-4971-99e7-213245f63347',\n",
       "  'aca6db34-d81c-41e9-ae7e-088e3c721042'],\n",
       " 'Dead Letter Queue': [],\n",
       " 'Current Meeting': 'aca6db34-d81c-41e9-ae7e-088e3c721042',\n",
       " 'Is Indexing': False,\n",
       " 'Retry Counts': {}}"
      ]
     },
     "execution_count": 7,
     "metadata": {},
     "output_type": "execute_result"
    },
    {
     "name": "stdout",
     "output_type": "stream",
     "text": [
      "Error in BaseCall.call_sync: 1 validation error for EntityExtraction\n",
      "entities.12.speaker\n",
      "  Field required [type=missing, input_value={'entity': 'Audio', 'type...d to user interaction.\"}, input_type=dict]\n",
      "    For further information visit https://errors.pydantic.dev/2.9/v/missing\n",
      "Error processing meeting 9a3a7008-4352-41a6-add7-62108cbf6999: 'NoneType' object has no attribute 'model_dump'\n",
      "Error in BaseCall.call_sync: 1 validation error for EntityExtraction\n",
      "entities.17.speaker\n",
      "  Field required [type=missing, input_value={'entity': 'команд...d product development.'}, input_type=dict]\n",
      "    For further information visit https://errors.pydantic.dev/2.9/v/missing\n",
      "Error processing meeting 0aee5d35-5e04-4b48-b428-6e2979aab55c: 'NoneType' object has no attribute 'model_dump'\n",
      "Error processing meeting data: \"Column(s) ['details', 'speaker', 'summary', 'topic_name', 'topic_type'] do not exist\"\n",
      "Error processing meeting 350937fb-6eb9-4b21-bcae-eafc2ffbcae5: not enough values to unpack (expected 2, got 0)\n"
     ]
    }
   ],
   "source": [
    "indexing.show_redis_queues()"
   ]
  },
  {
   "cell_type": "code",
   "execution_count": 7,
   "metadata": {},
   "outputs": [
    {
     "data": {
      "text/plain": [
       "{'status': 'success', 'message': 'All indexing queues have been reset'}"
      ]
     },
     "execution_count": 7,
     "metadata": {},
     "output_type": "execute_result"
    }
   ],
   "source": [
    "#indexing.reset_redis_queues()"
   ]
  },
  {
   "cell_type": "code",
   "execution_count": null,
   "metadata": {},
   "outputs": [],
   "source": []
  }
 ],
 "metadata": {
  "kernelspec": {
   "display_name": "langchain",
   "language": "python",
   "name": "python3"
  },
  "language_info": {
   "codemirror_mode": {
    "name": "ipython",
    "version": 3
   },
   "file_extension": ".py",
   "mimetype": "text/x-python",
   "name": "python",
   "nbconvert_exporter": "python",
   "pygments_lexer": "ipython3",
   "version": "3.11.2"
  }
 },
 "nbformat": 4,
 "nbformat_minor": 2
}
