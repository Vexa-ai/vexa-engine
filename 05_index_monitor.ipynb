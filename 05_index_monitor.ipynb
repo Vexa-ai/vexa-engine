{
 "cells": [
  {
   "cell_type": "code",
   "execution_count": 1,
   "metadata": {},
   "outputs": [],
   "source": [
    "%load_ext autoreload\n",
    "%autoreload 2\n"
   ]
  },
  {
   "cell_type": "code",
   "execution_count": 2,
   "metadata": {},
   "outputs": [],
   "source": [
    "import sys\n",
    "sys.path.append('/app')"
   ]
  },
  {
   "cell_type": "code",
   "execution_count": 3,
   "metadata": {},
   "outputs": [],
   "source": [
    "from indexing.meetings_monitor import MeetingsMonitor\n",
    "import asyncio\n",
    "import logging\n",
    "from datetime import datetime, timezone\n",
    "\n",
    "\n"
   ]
  },
  {
   "cell_type": "code",
   "execution_count": 4,
   "metadata": {},
   "outputs": [],
   "source": [
    "from psql_helpers import get_session\n",
    "\n",
    "from datetime import timedelta"
   ]
  },
  {
   "cell_type": "code",
   "execution_count": 5,
   "metadata": {},
   "outputs": [],
   "source": [
    "self = MeetingsMonitor()"
   ]
  },
  {
   "cell_type": "code",
   "execution_count": 6,
   "metadata": {},
   "outputs": [],
   "source": [
    "async with get_session() as session:\n",
    "    max_timestamp = await self._get_stored_max_timestamp(session)\n",
    "    meetings = await self.vexa_auth.get_speech_stats(max_timestamp-timedelta(hours=40))\n"
   ]
  },
  {
   "cell_type": "code",
   "execution_count": 7,
   "metadata": {},
   "outputs": [
    {
     "data": {
      "text/plain": [
       "datetime.datetime(2024, 12, 4, 14, 55, 36, tzinfo=datetime.timezone.utc)"
      ]
     },
     "execution_count": 7,
     "metadata": {},
     "output_type": "execute_result"
    }
   ],
   "source": [
    "max_timestamp"
   ]
  },
  {
   "cell_type": "code",
   "execution_count": 8,
   "metadata": {},
   "outputs": [
    {
     "data": {
      "text/plain": [
       "[SessionSpeakerStats(meeting_session_id=UUID('abf0b3e8-65cb-4cf2-b121-95b732c43f5b'), start_timestamp=datetime.datetime(2024, 12, 3, 6, 33, 6, tzinfo=TzInfo(UTC)), updated_timestamp=datetime.datetime(2024, 12, 3, 7, 39, 47, 528957, tzinfo=TzInfo(UTC)), user_id=UUID('6202a397-75ef-41a6-a8e5-48516a1aac77'), last_finish=datetime.datetime(2024, 12, 3, 6, 43, 27, tzinfo=TzInfo(UTC)), speakers=['Pooja Raj', 'TBD', 'The GrowthClub Team']),\n",
       " SessionSpeakerStats(meeting_session_id=UUID('f354fd08-8e4d-4f7f-b100-96323462ca21'), start_timestamp=datetime.datetime(2024, 12, 3, 7, 31, 32, tzinfo=TzInfo(UTC)), updated_timestamp=datetime.datetime(2024, 12, 3, 9, 20, 54, 785006, tzinfo=TzInfo(UTC)), user_id=UUID('bcf446ed-e0ef-4040-92df-07fcaaaf9390'), last_finish=datetime.datetime(2024, 12, 3, 8, 19, 54, tzinfo=TzInfo(UTC)), speakers=['TBD', 'Алексей Захаров', 'Егор Дмитриев', 'Иван Тиняев', 'Кристина Хохлова', 'Никита Степанец', 'Полина Ксенофонтова', 'Станислав Мишин', 'Федор Опарин']),\n",
       " SessionSpeakerStats(meeting_session_id=UUID('a5dab682-2d80-40e5-8f9d-926a92e8c6a7'), start_timestamp=datetime.datetime(2024, 12, 3, 8, 29, 44, tzinfo=TzInfo(UTC)), updated_timestamp=datetime.datetime(2024, 12, 3, 9, 49, 10, 579317, tzinfo=TzInfo(UTC)), user_id=UUID('d5a490e8-3eb6-41a2-9ae6-e28796986631'), last_finish=datetime.datetime(2024, 12, 3, 8, 48, 21, tzinfo=TzInfo(UTC)), speakers=['David Lahoz Martín', 'Nacho Lueña Ibañez', 'TBD']),\n",
       " SessionSpeakerStats(meeting_session_id=UUID('08b8398e-0b1b-4771-9516-f414888dc500'), start_timestamp=datetime.datetime(2024, 12, 3, 10, 23, 18, tzinfo=TzInfo(UTC)), updated_timestamp=datetime.datetime(2024, 12, 3, 10, 39, 20, 15566, tzinfo=TzInfo(UTC)), user_id=UUID('ef7c085b-fdb5-4c94-b7b6-a61a3d04c210'), last_finish=datetime.datetime(2024, 12, 3, 10, 23, 46, tzinfo=TzInfo(UTC)), speakers=['TBD']),\n",
       " SessionSpeakerStats(meeting_session_id=UUID('3125ba3d-81ca-408f-b8a6-330e159ebdba'), start_timestamp=datetime.datetime(2024, 12, 3, 10, 34, 34, tzinfo=TzInfo(UTC)), updated_timestamp=datetime.datetime(2024, 12, 3, 10, 50, 47, 456585, tzinfo=TzInfo(UTC)), user_id=UUID('404aea1e-27b3-4226-9664-02e5be2fd2df'), last_finish=datetime.datetime(2024, 12, 3, 10, 59, 49, tzinfo=TzInfo(UTC)), speakers=['TBD']),\n",
       " SessionSpeakerStats(meeting_session_id=UUID('5571f711-719c-426e-8787-20e7cc1e06eb'), start_timestamp=datetime.datetime(2024, 12, 3, 10, 6, 33, tzinfo=TzInfo(UTC)), updated_timestamp=datetime.datetime(2024, 12, 3, 11, 12, 21, 802329, tzinfo=TzInfo(UTC)), user_id=UUID('8b767b85-44fb-4c20-97df-7aa172242273'), last_finish=datetime.datetime(2024, 12, 3, 10, 11, 41, tzinfo=TzInfo(UTC)), speakers=['Irina Degtyareva', 'Olia Nemirovski', 'Rina andal', 'TBD']),\n",
       " SessionSpeakerStats(meeting_session_id=UUID('1c60b920-3fd1-477e-b1fd-b650e994536b'), start_timestamp=datetime.datetime(2024, 12, 3, 10, 59, 16, tzinfo=TzInfo(UTC)), updated_timestamp=datetime.datetime(2024, 12, 3, 11, 15, 17, 459837, tzinfo=TzInfo(UTC)), user_id=UUID('8b767b85-44fb-4c20-97df-7aa172242273'), last_finish=datetime.datetime(2024, 12, 3, 14, 11, 22, tzinfo=TzInfo(UTC)), speakers=['TBD']),\n",
       " SessionSpeakerStats(meeting_session_id=UUID('6c894bfc-a3aa-439a-9f81-550f86a65af8'), start_timestamp=datetime.datetime(2024, 12, 3, 9, 58, 52, tzinfo=TzInfo(UTC)), updated_timestamp=datetime.datetime(2024, 12, 3, 11, 35, 54, 149840, tzinfo=TzInfo(UTC)), user_id=UUID('2f85551a-ef14-469b-85d3-c057182ad868'), last_finish=datetime.datetime(2024, 12, 3, 10, 36, 18, tzinfo=TzInfo(UTC)), speakers=['Dan Kenny', 'Kate Mahoney', 'Motiohead Post Production', 'Nadya Gorodetskaya', 'TBD']),\n",
       " SessionSpeakerStats(meeting_session_id=UUID('fa123aab-240d-4186-b711-655b298729be'), start_timestamp=datetime.datetime(2024, 12, 3, 10, 30, 38, tzinfo=TzInfo(UTC)), updated_timestamp=datetime.datetime(2024, 12, 3, 12, 25, 13, 874723, tzinfo=TzInfo(UTC)), user_id=UUID('bcf446ed-e0ef-4040-92df-07fcaaaf9390'), last_finish=datetime.datetime(2024, 12, 3, 11, 23, 43, tzinfo=TzInfo(UTC)), speakers=['TBD', 'Алексей Захаров', 'Рушан Абдулганиев']),\n",
       " SessionSpeakerStats(meeting_session_id=UUID('8eb8d512-2ba3-40f4-8535-8bba86779336'), start_timestamp=datetime.datetime(2024, 12, 3, 11, 5, 12, tzinfo=TzInfo(UTC)), updated_timestamp=datetime.datetime(2024, 12, 3, 12, 36, 26, 381987, tzinfo=TzInfo(UTC)), user_id=UUID('ef7c085b-fdb5-4c94-b7b6-a61a3d04c210'), last_finish=datetime.datetime(2024, 12, 3, 11, 35, 14, tzinfo=TzInfo(UTC)), speakers=['Daniel', 'Dmitriy Grankin', 'TBD']),\n",
       " SessionSpeakerStats(meeting_session_id=UUID('c027a5e3-8467-4df2-9a75-f95d4d99fd15'), start_timestamp=datetime.datetime(2024, 12, 3, 11, 4, 29, tzinfo=TzInfo(UTC)), updated_timestamp=datetime.datetime(2024, 12, 3, 12, 57, 3, 547351, tzinfo=TzInfo(UTC)), user_id=UUID('7a718ecd-84c8-497f-adcf-dad952746c45'), last_finish=datetime.datetime(2024, 12, 3, 11, 54, 15, tzinfo=TzInfo(UTC)), speakers=['Leandro Andrade Candido', 'Mathias Nikkel', 'TBD']),\n",
       " SessionSpeakerStats(meeting_session_id=UUID('d2cf5b07-e5da-4961-91bc-0a039e29e02c'), start_timestamp=datetime.datetime(2024, 12, 2, 18, 9, tzinfo=TzInfo(UTC)), updated_timestamp=datetime.datetime(2024, 12, 3, 13, 2, 19, 565544, tzinfo=TzInfo(UTC)), user_id=UUID('548fecdb-dc49-4a68-b7ea-ee46c439e6c6'), last_finish=datetime.datetime(2024, 12, 3, 13, 31, 4, tzinfo=TzInfo(UTC)), speakers=['Endrigo Valente', 'Joao Victor Custodio Marques', 'TBD']),\n",
       " SessionSpeakerStats(meeting_session_id=UUID('4efd2910-7bcf-4e2b-94ba-f8b8750ce1ad'), start_timestamp=datetime.datetime(2024, 12, 3, 11, 36, 51, tzinfo=TzInfo(UTC)), updated_timestamp=datetime.datetime(2024, 12, 3, 13, 16, 39, 605942, tzinfo=TzInfo(UTC)), user_id=UUID('12262e9c-a9e8-49b3-b0ee-547240fac7a9'), last_finish=datetime.datetime(2024, 12, 3, 12, 14, 18, tzinfo=TzInfo(UTC)), speakers=['Janise Tan', 'Max Weber', 'Monika Janota (xWF)', 'Sylvia Dieckmann', 'TBD']),\n",
       " SessionSpeakerStats(meeting_session_id=UUID('9947c2be-45e8-4926-8530-d5fe8b49e9e7'), start_timestamp=datetime.datetime(2024, 12, 3, 12, 4, 1, tzinfo=TzInfo(UTC)), updated_timestamp=datetime.datetime(2024, 12, 3, 13, 24, 31, 955437, tzinfo=TzInfo(UTC)), user_id=UUID('60d09916-2332-4924-bbbf-58d593b7a604'), last_finish=datetime.datetime(2024, 12, 3, 12, 21, 42, tzinfo=TzInfo(UTC)), speakers=['Fundação Rede Solidária Somar Floripa', 'Marcelo Vilela', 'pedro cherem', 'TBD']),\n",
       " SessionSpeakerStats(meeting_session_id=UUID('4b6afe63-011d-446c-9159-32baf78aff45'), start_timestamp=datetime.datetime(2024, 12, 3, 11, 3, 27, tzinfo=TzInfo(UTC)), updated_timestamp=datetime.datetime(2024, 12, 3, 13, 25, 49, 97201, tzinfo=TzInfo(UTC)), user_id=UUID('b7a44b71-c622-420a-aa03-58f996f4c863'), last_finish=datetime.datetime(2024, 12, 3, 12, 23, 44, tzinfo=TzInfo(UTC)), speakers=['Rita', 'Shota Arabuli', 'TBD', 'vladislava', 'Александр Самойлов']),\n",
       " SessionSpeakerStats(meeting_session_id=UUID('fc46bccd-b6e3-4c9f-9445-7aef59c6810a'), start_timestamp=datetime.datetime(2024, 12, 3, 11, 59, 46, tzinfo=TzInfo(UTC)), updated_timestamp=datetime.datetime(2024, 12, 3, 13, 47, 57, 617357, tzinfo=TzInfo(UTC)), user_id=UUID('8b767b85-44fb-4c20-97df-7aa172242273'), last_finish=datetime.datetime(2024, 12, 3, 12, 47, 13, tzinfo=TzInfo(UTC)), speakers=['Anastasia Agafonova', 'Anton Andrianov', 'Elena Garnitsarik', 'Olia Nemirovski', 'Polina Morozova', 'TBD']),\n",
       " SessionSpeakerStats(meeting_session_id=UUID('e85a7645-53aa-4e18-92a9-09a5b1886f30'), start_timestamp=datetime.datetime(2024, 12, 3, 13, 1, 15, tzinfo=TzInfo(UTC)), updated_timestamp=datetime.datetime(2024, 12, 3, 14, 17, 10, 256546, tzinfo=TzInfo(UTC)), user_id=UUID('ef7c085b-fdb5-4c94-b7b6-a61a3d04c210'), last_finish=datetime.datetime(2024, 12, 3, 13, 16, 25, tzinfo=TzInfo(UTC)), speakers=['Anna Pavlova (Lupenko)', 'Dmitry Grankin', 'TBD']),\n",
       " SessionSpeakerStats(meeting_session_id=UUID('2af7c6fc-d620-4d27-a551-baa5f1cff70b'), start_timestamp=datetime.datetime(2024, 12, 3, 13, 1, 7, tzinfo=TzInfo(UTC)), updated_timestamp=datetime.datetime(2024, 12, 3, 14, 32, 33, 120969, tzinfo=TzInfo(UTC)), user_id=UUID('548fecdb-dc49-4a68-b7ea-ee46c439e6c6'), last_finish=datetime.datetime(2024, 12, 3, 13, 31, 4, tzinfo=TzInfo(UTC)), speakers=['Anderson Augusto da Silva Saldanha', 'Endrigo Valente', 'Joao Victor Custodio Marques', 'TBD']),\n",
       " SessionSpeakerStats(meeting_session_id=UUID('2b2253c6-0947-42c3-b3c7-a1887cce7666'), start_timestamp=datetime.datetime(2024, 12, 3, 12, 2, 37, tzinfo=TzInfo(UTC)), updated_timestamp=datetime.datetime(2024, 12, 3, 14, 41, 9, 8835, tzinfo=TzInfo(UTC)), user_id=UUID('55ebc8d4-003d-4117-a407-8019a58c1cd2'), last_finish=datetime.datetime(2024, 12, 3, 13, 32, 34, tzinfo=TzInfo(UTC)), speakers=['Fernanda Negrão', 'Luiza Duarte', 'TBD']),\n",
       " SessionSpeakerStats(meeting_session_id=UUID('afc99a8c-7eae-47b4-b50d-8dd8005b1e99'), start_timestamp=datetime.datetime(2024, 12, 3, 13, 18, 54, tzinfo=TzInfo(UTC)), updated_timestamp=datetime.datetime(2024, 12, 3, 14, 41, 29, 570206, tzinfo=TzInfo(UTC)), user_id=UUID('d1c0f562-4814-41c9-b0a8-db568927503a'), last_finish=datetime.datetime(2024, 12, 3, 13, 33, 32, tzinfo=TzInfo(UTC)), speakers=['César Santana', 'Ricardo Othuki', 'TBD']),\n",
       " SessionSpeakerStats(meeting_session_id=UUID('794816aa-dba0-41ff-88bc-aa0824dea586'), start_timestamp=datetime.datetime(2024, 12, 3, 13, 2, 38, tzinfo=TzInfo(UTC)), updated_timestamp=datetime.datetime(2024, 12, 3, 14, 59, 20, 946239, tzinfo=TzInfo(UTC)), user_id=UUID('a6279088-3885-47c9-b08b-a306f40c066b'), last_finish=datetime.datetime(2024, 12, 3, 13, 57, 13, tzinfo=TzInfo(UTC)), speakers=['TBD', 'Yuri Lysenko', 'Александр Демкович', 'Дмитрий Ступаков', 'Павел Семенов']),\n",
       " SessionSpeakerStats(meeting_session_id=UUID('a5dcc226-c0ad-47c4-9a8c-6bede3d09bd5'), start_timestamp=datetime.datetime(2024, 12, 3, 13, 28, 23, tzinfo=TzInfo(UTC)), updated_timestamp=datetime.datetime(2024, 12, 3, 15, 45, 14, 302724, tzinfo=TzInfo(UTC)), user_id=UUID('8b767b85-44fb-4c20-97df-7aa172242273'), last_finish=datetime.datetime(2024, 12, 3, 14, 11, 22, tzinfo=TzInfo(UTC)), speakers=['Olia Nemirovski', 'TBD', 'Vlad Shipilov']),\n",
       " SessionSpeakerStats(meeting_session_id=UUID('8a7d2eab-b488-4147-b89f-04a31838331e'), start_timestamp=datetime.datetime(2024, 12, 3, 13, 2, 46, tzinfo=TzInfo(UTC)), updated_timestamp=datetime.datetime(2024, 12, 3, 16, 3, 53, 184, tzinfo=TzInfo(UTC)), user_id=UUID('1c35ab0b-a11d-4dc2-b428-5341e7774824'), last_finish=datetime.datetime(2024, 12, 3, 14, 42, 31, tzinfo=TzInfo(UTC)), speakers=['Alice Santos', 'Allana Figueiredo', 'ARGUILIS ANDRE ALVARENGA SOUSA', 'Janaina Batista', 'Joao Paulo Lucena Lopes', 'John Lennon Ribeiro de Sousa', 'kassia santos', 'keep', 'Marcio Ferreira', 'Marcos Paulo', 'Marcos vasconcelos ferreira', 'Marcos Vaz', 'MARLEIA', 'Rodrigo Cordeiro', 'Rolim', 'stepheson honorato', 'TBD']),\n",
       " SessionSpeakerStats(meeting_session_id=UUID('7bac546e-43b4-48f1-8347-35d567c805df'), start_timestamp=datetime.datetime(2024, 12, 3, 14, 1, 1, tzinfo=TzInfo(UTC)), updated_timestamp=datetime.datetime(2024, 12, 3, 16, 3, 53, 189, tzinfo=TzInfo(UTC)), user_id=UUID('ef7c085b-fdb5-4c94-b7b6-a61a3d04c210'), last_finish=datetime.datetime(2024, 12, 3, 14, 30, 29, tzinfo=TzInfo(UTC)), speakers=['Dmitriy Grankin', 'Sergio Goriachev', 'TBD']),\n",
       " SessionSpeakerStats(meeting_session_id=UUID('a7973009-1387-47e4-a0cc-19694593194f'), start_timestamp=datetime.datetime(2024, 12, 3, 14, 31, 18, tzinfo=TzInfo(UTC)), updated_timestamp=datetime.datetime(2024, 12, 3, 16, 15, 23, 766025, tzinfo=TzInfo(UTC)), user_id=UUID('ef7c085b-fdb5-4c94-b7b6-a61a3d04c210'), last_finish=datetime.datetime(2024, 12, 3, 14, 57, 10, tzinfo=TzInfo(UTC)), speakers=['Aleksandr Lavrinenko', 'Dmitry Grankin', 'TBD']),\n",
       " SessionSpeakerStats(meeting_session_id=UUID('a7973009-1387-47e4-a0cc-19694593194f'), start_timestamp=datetime.datetime(2024, 12, 3, 14, 31, 18, tzinfo=TzInfo(UTC)), updated_timestamp=datetime.datetime(2024, 12, 3, 16, 15, 23, 766025, tzinfo=TzInfo(UTC)), user_id=UUID('e55112b8-c4b5-47a5-a5c4-95ea1dec76a5'), last_finish=datetime.datetime(2024, 12, 3, 14, 55, 27, tzinfo=TzInfo(UTC)), speakers=['Aleksandr Lavrinenko', 'Dmitry Grankin', 'TBD']),\n",
       " SessionSpeakerStats(meeting_session_id=UUID('c00e1d5a-4477-4087-af56-4428edf211b3'), start_timestamp=datetime.datetime(2024, 12, 3, 14, 39, 56, tzinfo=TzInfo(UTC)), updated_timestamp=datetime.datetime(2024, 12, 3, 16, 15, 23, 766031, tzinfo=TzInfo(UTC)), user_id=UUID('d363a680-1167-4087-94dc-adc07f46adb3'), last_finish=datetime.datetime(2024, 12, 3, 15, 1, 35, tzinfo=TzInfo(UTC)), speakers=['Igor Lyubimov', 'TBD', 'Вадим Пимченко']),\n",
       " SessionSpeakerStats(meeting_session_id=UUID('3c512eb3-d83b-47ab-af1b-dafbad6eff08'), start_timestamp=datetime.datetime(2024, 12, 3, 14, 42, 2, tzinfo=TzInfo(UTC)), updated_timestamp=datetime.datetime(2024, 12, 3, 16, 15, 23, 766032, tzinfo=TzInfo(UTC)), user_id=UUID('8b767b85-44fb-4c20-97df-7aa172242273'), last_finish=datetime.datetime(2024, 12, 3, 15, 2, 56, tzinfo=TzInfo(UTC)), speakers=['Olga Nemirovskaya', 'TBD', 'Victoria', 'Vlad Shipilov']),\n",
       " SessionSpeakerStats(meeting_session_id=UUID('8cadb2a4-e45c-42ce-99ab-b3dc253874d7'), start_timestamp=datetime.datetime(2024, 12, 3, 15, 1, 54, tzinfo=TzInfo(UTC)), updated_timestamp=datetime.datetime(2024, 12, 3, 16, 24, 43, 487285, tzinfo=TzInfo(UTC)), user_id=UUID('d363a680-1167-4087-94dc-adc07f46adb3'), last_finish=datetime.datetime(2024, 12, 3, 15, 21, 21, tzinfo=TzInfo(UTC)), speakers=['Diana Chertkova', 'Igor Lyubimov', 'TBD', 'Vadim Smirnov']),\n",
       " SessionSpeakerStats(meeting_session_id=UUID('aa1ddacc-d868-45cb-8122-716600e12241'), start_timestamp=datetime.datetime(2024, 12, 3, 15, 0, 24, tzinfo=TzInfo(UTC)), updated_timestamp=datetime.datetime(2024, 12, 3, 16, 30, 0, 195942, tzinfo=TzInfo(UTC)), user_id=UUID('92c90e8d-6ab9-416c-a906-0e5c58e82153'), last_finish=datetime.datetime(2024, 12, 3, 15, 29, 20, tzinfo=TzInfo(UTC)), speakers=['TBD', 'Yana Abakumova', 'Виктория Цуренкова']),\n",
       " SessionSpeakerStats(meeting_session_id=UUID('1eb906fa-9b62-4346-9fb9-c114ba58bc66'), start_timestamp=datetime.datetime(2024, 11, 26, 17, 39, 21, tzinfo=TzInfo(UTC)), updated_timestamp=datetime.datetime(2024, 12, 3, 17, 33, 51, 364730, tzinfo=TzInfo(UTC)), user_id=UUID('60d09916-2332-4924-bbbf-58d593b7a604'), last_finish=datetime.datetime(2024, 12, 3, 17, 41, 11, tzinfo=TzInfo(UTC)), speakers=['Daniella Moreira', 'Julieta Silva leite', 'Marcelo Vilela', 'TBD']),\n",
       " SessionSpeakerStats(meeting_session_id=UUID('ae4a65b8-d067-425c-b0c6-817b350df754'), start_timestamp=datetime.datetime(2024, 12, 3, 16, 42, 49, tzinfo=TzInfo(UTC)), updated_timestamp=datetime.datetime(2024, 12, 3, 17, 44, 47, 604707, tzinfo=TzInfo(UTC)), user_id=UUID('2d59a17f-3092-49fd-82e4-87cf01bc416d'), last_finish=datetime.datetime(2024, 12, 3, 16, 46, 39, tzinfo=TzInfo(UTC)), speakers=['Pedro Naves', 'TBD']),\n",
       " SessionSpeakerStats(meeting_session_id=UUID('7d8d4e11-7fc0-43d9-a38e-523edcc9354f'), start_timestamp=datetime.datetime(2024, 12, 3, 16, 34, 24, tzinfo=TzInfo(UTC)), updated_timestamp=datetime.datetime(2024, 12, 3, 17, 50, 5, 90118, tzinfo=TzInfo(UTC)), user_id=UUID('638129fd-9722-4430-bd1d-cd3f9a0c3dd6'), last_finish=datetime.datetime(2024, 12, 3, 16, 49, 28, tzinfo=TzInfo(UTC)), speakers=['José Vinícius', 'Luiza Duarte', 'TBD']),\n",
       " SessionSpeakerStats(meeting_session_id=UUID('2c2f058e-6615-44a9-aac1-82cd325fa3e0'), start_timestamp=datetime.datetime(2024, 12, 3, 16, 48, 33, tzinfo=TzInfo(UTC)), updated_timestamp=datetime.datetime(2024, 12, 3, 17, 59, 47, 609345, tzinfo=TzInfo(UTC)), user_id=UUID('2d59a17f-3092-49fd-82e4-87cf01bc416d'), last_finish=datetime.datetime(2024, 12, 3, 16, 59, 30, tzinfo=TzInfo(UTC)), speakers=['Pedro Naves', 'TBD']),\n",
       " SessionSpeakerStats(meeting_session_id=UUID('aa154fff-8406-41e5-83e9-b3ce8984ba21'), start_timestamp=datetime.datetime(2024, 12, 3, 17, 1, 52, tzinfo=TzInfo(UTC)), updated_timestamp=datetime.datetime(2024, 12, 3, 18, 33, 25, 683575, tzinfo=TzInfo(UTC)), user_id=UUID('8b767b85-44fb-4c20-97df-7aa172242273'), last_finish=datetime.datetime(2024, 12, 3, 17, 32, 34, tzinfo=TzInfo(UTC)), speakers=['Daria Gavrilova', 'Olga Nemirovskaya', 'TBD']),\n",
       " SessionSpeakerStats(meeting_session_id=UUID('ac221a97-d10e-4f11-8f26-d2f05bdb8372'), start_timestamp=datetime.datetime(2024, 12, 3, 17, 3, 27, tzinfo=TzInfo(UTC)), updated_timestamp=datetime.datetime(2024, 12, 3, 18, 35, 13, 206954, tzinfo=TzInfo(UTC)), user_id=UUID('dc33070b-7138-4da1-97c4-a9bd6cb8d71a'), last_finish=datetime.datetime(2024, 12, 3, 17, 34, 27, tzinfo=TzInfo(UTC)), speakers=['Alice Santos', 'Allana Figueiredo', 'ARGUILIS ANDRE ALVARENGA SOUSA', 'Fábio Teixeira', 'Janaina Sousa', 'Joao Paulo Lucena Lopes', 'John Lennon Ribeiro de Sousa', 'kassia santos', 'keep', 'stepheson honorato', 'TBD']),\n",
       " SessionSpeakerStats(meeting_session_id=UUID('28c49c62-d0cd-4a54-b1a9-bcd53bb90505'), start_timestamp=datetime.datetime(2024, 12, 3, 17, 32, 52, tzinfo=TzInfo(UTC)), updated_timestamp=datetime.datetime(2024, 12, 3, 18, 41, 52, 376068, tzinfo=TzInfo(UTC)), user_id=UUID('60d09916-2332-4924-bbbf-58d593b7a604'), last_finish=datetime.datetime(2024, 12, 3, 17, 41, 11, tzinfo=TzInfo(UTC)), speakers=['Daniella Moreira', 'Jeane Nunes', 'Julieta Silva leite', 'Marcelo Vilela', 'TBD']),\n",
       " SessionSpeakerStats(meeting_session_id=UUID('4af8ccab-b964-4010-a4c4-71411687a392'), start_timestamp=datetime.datetime(2024, 12, 3, 17, 33, 34, tzinfo=TzInfo(UTC)), updated_timestamp=datetime.datetime(2024, 12, 3, 18, 57, 11, 842795, tzinfo=TzInfo(UTC)), user_id=UUID('2095fc29-87c2-4696-a36d-e2002a625c69'), last_finish=datetime.datetime(2024, 12, 3, 17, 56, 21, tzinfo=TzInfo(UTC)), speakers=['Coronel Ramalho', 'Léo Szterenzys', 'TBD']),\n",
       " SessionSpeakerStats(meeting_session_id=UUID('21d4d45e-19c3-40c3-ad9d-277b5dc7405b'), start_timestamp=datetime.datetime(2024, 12, 3, 18, 40, 42, tzinfo=TzInfo(UTC)), updated_timestamp=datetime.datetime(2024, 12, 3, 20, 15, 11, 320275, tzinfo=TzInfo(UTC)), user_id=UUID('ef7c085b-fdb5-4c94-b7b6-a61a3d04c210'), last_finish=datetime.datetime(2024, 12, 3, 19, 14, 50, tzinfo=TzInfo(UTC)), speakers=['Dmitriy Grankin', 'Sergio Goriachev', 'TBD']),\n",
       " SessionSpeakerStats(meeting_session_id=UUID('7c115604-230b-4d20-bb19-2a0708c7a60b'), start_timestamp=datetime.datetime(2024, 12, 3, 18, 30, 47, tzinfo=TzInfo(UTC)), updated_timestamp=datetime.datetime(2024, 12, 3, 20, 22, 41, 575320, tzinfo=TzInfo(UTC)), user_id=UUID('447f8b00-db04-4e95-811c-e659369752e8'), last_finish=datetime.datetime(2024, 12, 3, 19, 21, 11, tzinfo=TzInfo(UTC)), speakers=['Gavin Jung', 'Tatiana Sukhova', 'TBD']),\n",
       " SessionSpeakerStats(meeting_session_id=UUID('ae64c269-e1f5-419a-98c6-1a7739c43438'), start_timestamp=datetime.datetime(2024, 12, 3, 18, 52, 40, tzinfo=TzInfo(UTC)), updated_timestamp=datetime.datetime(2024, 12, 3, 20, 23, 17, 997322, tzinfo=TzInfo(UTC)), user_id=UUID('93138775-2f5a-4e20-898b-8b98ea45dcdf'), last_finish=datetime.datetime(2024, 12, 3, 19, 22, 31, tzinfo=TzInfo(UTC)), speakers=['Henrique Tavares', 'Hugo Nascimento', 'TBD']),\n",
       " SessionSpeakerStats(meeting_session_id=UUID('93da1ecd-c46f-4605-8638-49368c42d470'), start_timestamp=datetime.datetime(2024, 12, 3, 19, 0, 25, tzinfo=TzInfo(UTC)), updated_timestamp=datetime.datetime(2024, 12, 3, 20, 37, 40, 319343, tzinfo=TzInfo(UTC)), user_id=UUID('55ebc8d4-003d-4117-a407-8019a58c1cd2'), last_finish=datetime.datetime(2024, 12, 3, 19, 36, 47, tzinfo=TzInfo(UTC)), speakers=['Camila Cornelsen', 'Fernanda Negrão', 'TBD']),\n",
       " SessionSpeakerStats(meeting_session_id=UUID('6e8122cd-26c8-44b5-bae3-c01c309c64a3'), start_timestamp=datetime.datetime(2024, 12, 3, 19, 44, 29, tzinfo=TzInfo(UTC)), updated_timestamp=datetime.datetime(2024, 12, 3, 21, 1, 19, 394363, tzinfo=TzInfo(UTC)), user_id=UUID('f05bd139-3fa1-4563-a900-2516dffb67b3'), last_finish=datetime.datetime(2024, 12, 3, 20, 5, 37, tzinfo=TzInfo(UTC)), speakers=['Dmitriy Grankin', 'TBD']),\n",
       " SessionSpeakerStats(meeting_session_id=UUID('fd90fce1-79f3-4ee1-bbad-9bd0f9f17adf'), start_timestamp=datetime.datetime(2024, 12, 3, 20, 17, 32, tzinfo=TzInfo(UTC)), updated_timestamp=datetime.datetime(2024, 12, 3, 21, 51, 55, 306781, tzinfo=TzInfo(UTC)), user_id=UUID('8b767b85-44fb-4c20-97df-7aa172242273'), last_finish=datetime.datetime(2024, 12, 3, 20, 51, 29, tzinfo=TzInfo(UTC)), speakers=['Olga Nemirovskaya', 'Sergey Ryabenko', 'TBD']),\n",
       " SessionSpeakerStats(meeting_session_id=UUID('784eea79-4144-4bb8-8bc2-eb7e0e3420d9'), start_timestamp=datetime.datetime(2024, 12, 3, 22, 42, 11, tzinfo=TzInfo(UTC)), updated_timestamp=datetime.datetime(2024, 12, 3, 22, 58, 17, 569606, tzinfo=TzInfo(UTC)), user_id=UUID('c28e45ed-3dd2-4ccb-89cd-85024c5d3df8'), last_finish=datetime.datetime(2024, 12, 3, 22, 42, 56, tzinfo=TzInfo(UTC)), speakers=['TBD']),\n",
       " SessionSpeakerStats(meeting_session_id=UUID('2b7942a3-beae-46e8-886c-8bad0bd79016'), start_timestamp=datetime.datetime(2024, 12, 3, 22, 56, 5, tzinfo=TzInfo(UTC)), updated_timestamp=datetime.datetime(2024, 12, 4, 0, 57, 59, 642343, tzinfo=TzInfo(UTC)), user_id=UUID('2095fc29-87c2-4696-a36d-e2002a625c69'), last_finish=datetime.datetime(2024, 12, 3, 23, 57, 26, tzinfo=TzInfo(UTC)), speakers=['Armando Nascimento', 'Coronel Ramalho', 'Luciano Nunes da Silva', 'TBD']),\n",
       " SessionSpeakerStats(meeting_session_id=UUID('b2263504-143c-47c8-97c1-6736fcb577e9'), start_timestamp=datetime.datetime(2024, 12, 4, 8, 0, 16, tzinfo=TzInfo(UTC)), updated_timestamp=datetime.datetime(2024, 12, 4, 8, 16, 17, 597610, tzinfo=TzInfo(UTC)), user_id=UUID('bcf446ed-e0ef-4040-92df-07fcaaaf9390'), last_finish=datetime.datetime(2024, 12, 4, 8, 9, 25, tzinfo=TzInfo(UTC)), speakers=['TBD']),\n",
       " SessionSpeakerStats(meeting_session_id=UUID('eeff2264-ca19-485d-a5d4-69f640b59ba2'), start_timestamp=datetime.datetime(2024, 12, 4, 10, 42, 55, tzinfo=TzInfo(UTC)), updated_timestamp=datetime.datetime(2024, 12, 4, 10, 59, 17, 618236, tzinfo=TzInfo(UTC)), user_id=UUID('f05bd139-3fa1-4563-a900-2516dffb67b3'), last_finish=datetime.datetime(2024, 12, 4, 10, 44, 12, tzinfo=TzInfo(UTC)), speakers=['TBD']),\n",
       " SessionSpeakerStats(meeting_session_id=UUID('466381c5-50ff-41a5-a93c-90c59f5add1d'), start_timestamp=datetime.datetime(2024, 12, 4, 13, 0, 31, tzinfo=TzInfo(UTC)), updated_timestamp=datetime.datetime(2024, 12, 4, 13, 0, 32, 745259, tzinfo=TzInfo(UTC)), user_id=UUID('93138775-2f5a-4e20-898b-8b98ea45dcdf'), last_finish=datetime.datetime(2024, 12, 4, 14, 52, 23, tzinfo=TzInfo(UTC)), speakers=['Hugo Nascimento', 'keep', 'Luiz Vieira', 'TBD']),\n",
       " SessionSpeakerStats(meeting_session_id=UUID('2623c733-7ec5-413d-a75e-2b289434bddd'), start_timestamp=datetime.datetime(2024, 12, 4, 12, 0, 24, tzinfo=TzInfo(UTC)), updated_timestamp=datetime.datetime(2024, 12, 4, 13, 19, 21, 141018, tzinfo=TzInfo(UTC)), user_id=UUID('51672061-5f34-4721-b7ca-418ffcd7309b'), last_finish=datetime.datetime(2024, 12, 4, 12, 18, 46, tzinfo=TzInfo(UTC)), speakers=['Compras Faiol Construtora', 'Tainá Peccinati (Administrativo Financeiro)', 'TBD']),\n",
       " SessionSpeakerStats(meeting_session_id=UUID('0190cc88-46eb-4ac1-8891-c98504fb6290'), start_timestamp=datetime.datetime(2024, 12, 4, 13, 31, 28, tzinfo=TzInfo(UTC)), updated_timestamp=datetime.datetime(2024, 12, 4, 13, 31, 28, 588692, tzinfo=TzInfo(UTC)), user_id=UUID('12262e9c-a9e8-49b3-b0ee-547240fac7a9'), last_finish=datetime.datetime(2024, 12, 4, 14, 0, 9, tzinfo=TzInfo(UTC)), speakers=['Daniel', 'Ricardo Freitas', 'TBD']),\n",
       " SessionSpeakerStats(meeting_session_id=UUID('ed13340d-39fd-454f-b332-fa816d0a3803'), start_timestamp=datetime.datetime(2024, 12, 4, 13, 39, 27, tzinfo=TzInfo(UTC)), updated_timestamp=datetime.datetime(2024, 12, 4, 13, 39, 28, 670299, tzinfo=TzInfo(UTC)), user_id=UUID('8b767b85-44fb-4c20-97df-7aa172242273'), last_finish=datetime.datetime(2024, 12, 4, 14, 12, 39, tzinfo=TzInfo(UTC)), speakers=['Christian Tegethoff', 'TBD', 'Vladimir Nikitenko', 'Vlad Shipilov']),\n",
       " SessionSpeakerStats(meeting_session_id=UUID('56fb667c-3850-4b84-83a3-42383abcb2c2'), start_timestamp=datetime.datetime(2024, 12, 4, 14, 0, 27, tzinfo=TzInfo(UTC)), updated_timestamp=datetime.datetime(2024, 12, 4, 14, 0, 27, 404336, tzinfo=TzInfo(UTC)), user_id=UUID('2f4ab929-6aa2-4125-abf9-f9a917bde150'), last_finish=datetime.datetime(2024, 12, 4, 14, 35, 48, tzinfo=TzInfo(UTC)), speakers=['Deanna Leonard', 'Tatiana Sukhova', 'TBD']),\n",
       " SessionSpeakerStats(meeting_session_id=UUID('0a3cba6f-9bdf-46ed-b2f6-e528712fd1f6'), start_timestamp=datetime.datetime(2024, 12, 4, 12, 6, 36, tzinfo=TzInfo(UTC)), updated_timestamp=datetime.datetime(2024, 12, 4, 14, 1, 49, 144077, tzinfo=TzInfo(UTC)), user_id=UUID('f10b9d7c-c0f7-4066-982c-1a51b9ad29ef'), last_finish=datetime.datetime(2024, 12, 4, 13, 0, 4, tzinfo=TzInfo(UTC)), speakers=['Anderson Santos', 'Luis G', 'TBD']),\n",
       " SessionSpeakerStats(meeting_session_id=UUID('8f6b3e72-b709-46f8-abca-b1831003f583'), start_timestamp=datetime.datetime(2024, 12, 4, 14, 4, 34, tzinfo=TzInfo(UTC)), updated_timestamp=datetime.datetime(2024, 12, 4, 14, 4, 35, 656949, tzinfo=TzInfo(UTC)), user_id=UUID('60d09916-2332-4924-bbbf-58d593b7a604'), last_finish=datetime.datetime(2024, 12, 4, 14, 23, 46, tzinfo=TzInfo(UTC)), speakers=['Leandro Salviano', 'Marcelo Vilela', 'TBD']),\n",
       " SessionSpeakerStats(meeting_session_id=UUID('49b1e7ee-df37-41c5-82a9-85fb2653fdd1'), start_timestamp=datetime.datetime(2024, 12, 4, 13, 3, 25, tzinfo=TzInfo(UTC)), updated_timestamp=datetime.datetime(2024, 12, 4, 14, 12, 27, 663515, tzinfo=TzInfo(UTC)), user_id=UUID('8b767b85-44fb-4c20-97df-7aa172242273'), last_finish=datetime.datetime(2024, 12, 4, 13, 13, 8, tzinfo=TzInfo(UTC)), speakers=['Eitan Lightman', 'hello immi', 'Olia Nemirovski', 'Olya Immigration Services', 'TBD', 'Vlad Shipilov']),\n",
       " SessionSpeakerStats(meeting_session_id=UUID('687d4e4b-13f4-45d3-83f3-0647876caced'), start_timestamp=datetime.datetime(2024, 12, 4, 14, 13, 53, tzinfo=TzInfo(UTC)), updated_timestamp=datetime.datetime(2024, 12, 4, 14, 13, 55, 108865, tzinfo=TzInfo(UTC)), user_id=UUID('68cb80bd-bd6a-41fc-a423-2de30734982a'), last_finish=datetime.datetime(2024, 12, 4, 14, 48, 13, tzinfo=TzInfo(UTC)), speakers=['Henrique Von Glehn', 'Richarlyson Guilherme', 'TBD']),\n",
       " SessionSpeakerStats(meeting_session_id=UUID('fe68e389-800e-48c6-b963-166eb2505154'), start_timestamp=datetime.datetime(2024, 12, 4, 12, 28, 13, tzinfo=TzInfo(UTC)), updated_timestamp=datetime.datetime(2024, 12, 4, 14, 23, 7, 900150, tzinfo=TzInfo(UTC)), user_id=UUID('4aa729fc-7131-4104-b7af-dbdaec7b7923'), last_finish=datetime.datetime(2024, 12, 4, 13, 22, 43, tzinfo=TzInfo(UTC)), speakers=['André Weidgenant', 'Clelia Araujo', 'Dev Lab47', 'Flavia Crespi', 'TBD']),\n",
       " SessionSpeakerStats(meeting_session_id=UUID('7197b169-9849-4ebd-b964-8524d4e02743'), start_timestamp=datetime.datetime(2024, 12, 4, 14, 30, 59, tzinfo=TzInfo(UTC)), updated_timestamp=datetime.datetime(2024, 12, 4, 14, 30, 59, 941299, tzinfo=TzInfo(UTC)), user_id=UUID('8b767b85-44fb-4c20-97df-7aa172242273'), last_finish=datetime.datetime(2024, 12, 4, 14, 46, 12, tzinfo=TzInfo(UTC)), speakers=['Chibuzo Amadi', 'Olia Nemirovski', 'TBD']),\n",
       " SessionSpeakerStats(meeting_session_id=UUID('65f7cfa7-8360-4054-98a9-cf5f808488bf'), start_timestamp=datetime.datetime(2024, 12, 4, 14, 35, 43, tzinfo=TzInfo(UTC)), updated_timestamp=datetime.datetime(2024, 12, 4, 14, 35, 43, 861178, tzinfo=TzInfo(UTC)), user_id=UUID('12262e9c-a9e8-49b3-b0ee-547240fac7a9'), last_finish=datetime.datetime(2024, 12, 4, 14, 59, 11, tzinfo=TzInfo(UTC)), speakers=['Andre Froes', 'Anna Bida', 'Daniel', 'Rafael Castaneda', 'TBD', 'Yan Luiz']),\n",
       " SessionSpeakerStats(meeting_session_id=UUID('6796d6f4-fbb8-4073-9d26-c71977271718'), start_timestamp=datetime.datetime(2024, 12, 4, 14, 50, 55, tzinfo=TzInfo(UTC)), updated_timestamp=datetime.datetime(2024, 12, 4, 14, 50, 55, 774129, tzinfo=TzInfo(UTC)), user_id=UUID('8b767b85-44fb-4c20-97df-7aa172242273'), last_finish=datetime.datetime(2024, 12, 4, 14, 55, 36, tzinfo=TzInfo(UTC)), speakers=['Olia Nemirovski', 'TBD', 'Victoria'])]"
      ]
     },
     "execution_count": 8,
     "metadata": {},
     "output_type": "execute_result"
    }
   ],
   "source": [
    "meetings"
   ]
  },
  {
   "cell_type": "code",
   "execution_count": 10,
   "metadata": {},
   "outputs": [
    {
     "name": "stdout",
     "output_type": "stream",
     "text": [
      "Vexa token: a348956cfac74798b24c452ba82253cd\n",
      "User information retrieved successfully.\n",
      "Vexa token: ffc47fdc1f79475994fb93a29a394a09\n",
      "User information retrieved successfully.\n",
      "Vexa token: 070f1df768a448298c99fa2504d29bd5\n",
      "User information retrieved successfully.\n",
      "Vexa token: 3ae04e20124d40babc5107e658c666b6\n",
      "User information retrieved successfully.\n",
      "Vexa token: 117cde619acd4d68b8943b33003e6d56\n",
      "User information retrieved successfully.\n",
      "Vexa token: 5faa86ba0dc74b14a78c60c8aa20a014\n",
      "User information retrieved successfully.\n",
      "Vexa token: 5faa86ba0dc74b14a78c60c8aa20a014\n",
      "User information retrieved successfully.\n",
      "Vexa token: 901d8ad1c84c4662bec7d2767156271d\n",
      "User information retrieved successfully.\n",
      "Vexa token: ffc47fdc1f79475994fb93a29a394a09\n",
      "User information retrieved successfully.\n",
      "Vexa token: 3ae04e20124d40babc5107e658c666b6\n",
      "User information retrieved successfully.\n",
      "Vexa token: 73da9daba9444703b0b71d055f790b6a\n",
      "User information retrieved successfully.\n",
      "Vexa token: 62c0efdfe46d41f28ea8026af36e331a\n",
      "User information retrieved successfully.\n",
      "Vexa token: 9ce3ca4b29e349beac6e9b2892fe4f2b\n",
      "User information retrieved successfully.\n",
      "Vexa token: c554afbeea3a41d8bb00202ea3422482\n",
      "User information retrieved successfully.\n",
      "Vexa token: 160ad3dda96c4d6697e95028bbcc2614\n",
      "User information retrieved successfully.\n",
      "Vexa token: 5faa86ba0dc74b14a78c60c8aa20a014\n",
      "User information retrieved successfully.\n",
      "Vexa token: 3ae04e20124d40babc5107e658c666b6\n",
      "User information retrieved successfully.\n",
      "Vexa token: 62c0efdfe46d41f28ea8026af36e331a\n",
      "User information retrieved successfully.\n",
      "Vexa token: e6bf8f5b22dc4515a11a755ed77e1c20\n",
      "User information retrieved successfully.\n",
      "Vexa token: 858f860d5f0945f5802474bb1613beb3\n",
      "User information retrieved successfully.\n",
      "Vexa token: ee295c5c52484af49a86d088d3bea010\n",
      "User information retrieved successfully.\n",
      "Vexa token: 5faa86ba0dc74b14a78c60c8aa20a014\n",
      "User information retrieved successfully.\n",
      "Vexa token: 3dfff278bf51410cb368bf361e0f5b05\n",
      "User information retrieved successfully.\n",
      "Vexa token: 3ae04e20124d40babc5107e658c666b6\n",
      "User information retrieved successfully.\n",
      "Vexa token: 58c9326d2e8940c786852a431f587b38\n",
      "User information retrieved successfully.\n",
      "Vexa token: 3ae04e20124d40babc5107e658c666b6\n",
      "User information retrieved successfully.\n",
      "Vexa token: e5b63ea6a8f94375b3bdf5f6d71d6ee7\n",
      "User information retrieved successfully.\n",
      "Vexa token: 5faa86ba0dc74b14a78c60c8aa20a014\n",
      "User information retrieved successfully.\n",
      "Vexa token: e5b63ea6a8f94375b3bdf5f6d71d6ee7\n",
      "User information retrieved successfully.\n",
      "Vexa token: c1f64d1069dd4bf8bdcdea4c1b18fded\n",
      "User information retrieved successfully.\n",
      "Vexa token: c554afbeea3a41d8bb00202ea3422482\n",
      "User information retrieved successfully.\n",
      "Vexa token: deb731ab1e34432eacc8bf1c6c215bb3\n",
      "User information retrieved successfully.\n",
      "Vexa token: e79a7431614546f3b1ec5930ff91015e\n",
      "User information retrieved successfully.\n",
      "Vexa token: deb731ab1e34432eacc8bf1c6c215bb3\n",
      "User information retrieved successfully.\n",
      "Vexa token: 5faa86ba0dc74b14a78c60c8aa20a014\n",
      "User information retrieved successfully.\n",
      "Vexa token: 3cfbdb3a8ad641f7a4c8d09955020d0e\n",
      "User information retrieved successfully.\n",
      "Vexa token: c554afbeea3a41d8bb00202ea3422482\n",
      "User information retrieved successfully.\n",
      "Vexa token: cbb96c19990f4dc8bb481e87103f1a0a\n",
      "User information retrieved successfully.\n",
      "Vexa token: 3ae04e20124d40babc5107e658c666b6\n",
      "User information retrieved successfully.\n",
      "Vexa token: cd1e7e9d163f44c2bc7b281b571c370d\n",
      "User information retrieved successfully.\n",
      "Vexa token: 201bb43ba56a49fabb34e2a52d26b87d\n",
      "User information retrieved successfully.\n",
      "Vexa token: e6bf8f5b22dc4515a11a755ed77e1c20\n",
      "User information retrieved successfully.\n",
      "Vexa token: 918c9f3899d54f3bbcf445cd053c2304\n",
      "User information retrieved successfully.\n",
      "Vexa token: 5faa86ba0dc74b14a78c60c8aa20a014\n",
      "User information retrieved successfully.\n",
      "Vexa token: df98c55fa3b347f7bdc42eceb9f69c2e\n",
      "User information retrieved successfully.\n",
      "Vexa token: cbb96c19990f4dc8bb481e87103f1a0a\n",
      "User information retrieved successfully.\n",
      "Vexa token: ffc47fdc1f79475994fb93a29a394a09\n",
      "User information retrieved successfully.\n",
      "Vexa token: 918c9f3899d54f3bbcf445cd053c2304\n",
      "User information retrieved successfully.\n",
      "Vexa token: 201bb43ba56a49fabb34e2a52d26b87d\n",
      "User information retrieved successfully.\n",
      "Vexa token: 007daafb26d8423a81895f259e38a0e4\n",
      "User information retrieved successfully.\n",
      "Vexa token: 5faa86ba0dc74b14a78c60c8aa20a014\n",
      "User information retrieved successfully.\n",
      "Vexa token: 65fa493d71e1443da75e851095e7217a\n",
      "User information retrieved successfully.\n",
      "Vexa token: 71eb2619f70a4b86980f24b5b5589ffc\n",
      "User information retrieved successfully.\n",
      "Vexa token: c554afbeea3a41d8bb00202ea3422482\n",
      "User information retrieved successfully.\n",
      "Vexa token: 5faa86ba0dc74b14a78c60c8aa20a014\n",
      "User information retrieved successfully.\n",
      "Vexa token: b087fc7220514edd9e58d57dd6da8fc5\n",
      "User information retrieved successfully.\n",
      "Vexa token: b26570eef4c24b2ab1adc7d8ed8a0176\n",
      "User information retrieved successfully.\n",
      "Vexa token: 5faa86ba0dc74b14a78c60c8aa20a014\n",
      "User information retrieved successfully.\n",
      "Vexa token: 9ce3ca4b29e349beac6e9b2892fe4f2b\n",
      "User information retrieved successfully.\n",
      "Vexa token: 5faa86ba0dc74b14a78c60c8aa20a014\n",
      "User information retrieved successfully.\n",
      "Vexa token: 5faa86ba0dc74b14a78c60c8aa20a014\n",
      "User information retrieved successfully.\n",
      "Vexa token: 9ce3ca4b29e349beac6e9b2892fe4f2b\n",
      "User information retrieved successfully.\n"
     ]
    }
   ],
   "source": [
    "await self.sync_meetings(overlap_minutes=40*60)\n"
   ]
  },
  {
   "cell_type": "code",
   "execution_count": null,
   "metadata": {},
   "outputs": [],
   "source": []
  }
 ],
 "metadata": {
  "kernelspec": {
   "display_name": "Python 3",
   "language": "python",
   "name": "python3"
  },
  "language_info": {
   "codemirror_mode": {
    "name": "ipython",
    "version": 3
   },
   "file_extension": ".py",
   "mimetype": "text/x-python",
   "name": "python",
   "nbconvert_exporter": "python",
   "pygments_lexer": "ipython3",
   "version": "3.11.10"
  }
 },
 "nbformat": 4,
 "nbformat_minor": 2
}
