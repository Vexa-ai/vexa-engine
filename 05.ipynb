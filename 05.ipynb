{
 "cells": [
  {
   "cell_type": "code",
   "execution_count": 2,
   "metadata": {},
   "outputs": [],
   "source": [
    "%load_ext autoreload\n",
    "%autoreload 2\n"
   ]
  },
  {
   "cell_type": "code",
   "execution_count": 3,
   "metadata": {},
   "outputs": [],
   "source": [
    "import sys\n",
    "sys.path.append('/app')"
   ]
  },
  {
   "cell_type": "code",
   "execution_count": 4,
   "metadata": {},
   "outputs": [],
   "source": [
    "from indexing.meetings_monitor import MeetingsMonitor\n",
    "import asyncio\n",
    "import logging\n",
    "from datetime import datetime, timezone\n",
    "\n",
    "\n"
   ]
  },
  {
   "cell_type": "code",
   "execution_count": 14,
   "metadata": {},
   "outputs": [],
   "source": [
    "from psql_helpers import get_session\n",
    "\n",
    "from datetime import timedelta"
   ]
  },
  {
   "cell_type": "code",
   "execution_count": 15,
   "metadata": {},
   "outputs": [],
   "source": [
    "self = MeetingsMonitor()"
   ]
  },
  {
   "cell_type": "code",
   "execution_count": 16,
   "metadata": {},
   "outputs": [],
   "source": [
    "async with get_session() as session:\n",
    "    max_timestamp = await self._get_stored_max_timestamp(session)\n",
    "    meetings = await self.vexa_auth.get_speech_stats(max_timestamp-timedelta(hours=3))\n"
   ]
  },
  {
   "cell_type": "code",
   "execution_count": 18,
   "metadata": {},
   "outputs": [
    {
     "data": {
      "text/plain": [
       "datetime.datetime(2024, 11, 28, 13, 27, 34, tzinfo=datetime.timezone.utc)"
      ]
     },
     "execution_count": 18,
     "metadata": {},
     "output_type": "execute_result"
    }
   ],
   "source": [
    "max_timestamp"
   ]
  },
  {
   "cell_type": "code",
   "execution_count": 17,
   "metadata": {},
   "outputs": [
    {
     "data": {
      "text/plain": [
       "[SessionSpeakerStats(meeting_session_id=UUID('ec36c0c2-c407-427e-a3d8-173abe5374dd'), start_timestamp=datetime.datetime(2024, 11, 27, 11, 0, 42, tzinfo=TzInfo(UTC)), user_id=UUID('fd57278e-1cdc-4ad9-b12e-837ac39e9a55'), last_finish=datetime.datetime(2024, 11, 28, 11, 10, 7, tzinfo=TzInfo(UTC)), speakers=['Aleksei C.', 'Alex A.', 'Alex K.', 'keep', 'Nick M.', 'nik', 'Nikita M.', 'Stan D.', 'TBD']),\n",
       " SessionSpeakerStats(meeting_session_id=UUID('3c5da49a-2831-4d4d-871f-c8d2aef959de'), start_timestamp=datetime.datetime(2024, 11, 28, 10, 1, 16, tzinfo=TzInfo(UTC)), user_id=UUID('c70fe4a8-06c1-47b3-b238-2aefb7cf8152'), last_finish=datetime.datetime(2024, 11, 28, 10, 14, 15, tzinfo=TzInfo(UTC)), speakers=['Alex Titov', 'Egor Tarasov', 'Sergey Galtsev', 'TBD']),\n",
       " SessionSpeakerStats(meeting_session_id=UUID('0081a7a3-31b1-4bb5-8750-f8f293e752f8'), start_timestamp=datetime.datetime(2024, 11, 28, 10, 59, 10, tzinfo=TzInfo(UTC)), user_id=UUID('bcf446ed-e0ef-4040-92df-07fcaaaf9390'), last_finish=datetime.datetime(2024, 11, 28, 11, 30, 8, tzinfo=TzInfo(UTC)), speakers=['TBD', 'Алексей Захаров', 'Владимир Соколов']),\n",
       " SessionSpeakerStats(meeting_session_id=UUID('e827c600-db13-45e8-a49f-b4acdb6b701c'), start_timestamp=datetime.datetime(2024, 11, 28, 11, 2, 46, tzinfo=TzInfo(UTC)), user_id=UUID('fd57278e-1cdc-4ad9-b12e-837ac39e9a55'), last_finish=datetime.datetime(2024, 11, 28, 11, 10, 7, tzinfo=TzInfo(UTC)), speakers=['Aleksei C.', 'Alex A.', 'Alex K.', 'Frederik Zwilling', 'Nick M.', 'Nikita M.', 'TBD']),\n",
       " SessionSpeakerStats(meeting_session_id=UUID('a12f5703-c176-431d-99cc-7ce968b154a1'), start_timestamp=datetime.datetime(2024, 11, 28, 11, 25, 44, tzinfo=TzInfo(UTC)), user_id=UUID('a6279088-3885-47c9-b08b-a306f40c066b'), last_finish=datetime.datetime(2024, 11, 28, 11, 50, 42, tzinfo=TzInfo(UTC)), speakers=['TBD', 'Yuri Lysenko', 'Павел Семенов']),\n",
       " SessionSpeakerStats(meeting_session_id=UUID('40df9cfd-1073-4b6e-a741-2087d062b280'), start_timestamp=datetime.datetime(2024, 11, 28, 11, 56, tzinfo=TzInfo(UTC)), user_id=UUID('a5224f3d-8f5c-43d0-bec7-197dc5fc1317'), last_finish=datetime.datetime(2024, 11, 28, 12, 45, 31, tzinfo=TzInfo(UTC)), speakers=['Brunno Oliveira', 'Felipe Americo', 'keep', 'TBD']),\n",
       " SessionSpeakerStats(meeting_session_id=UUID('a06b4e96-deee-45f6-86e1-76fa2daed45b'), start_timestamp=datetime.datetime(2024, 11, 28, 11, 57, 50, tzinfo=TzInfo(UTC)), user_id=UUID('e160a1a1-6a42-497b-916f-6c8026b8c68f'), last_finish=datetime.datetime(2024, 11, 28, 13, 21, 8, tzinfo=TzInfo(UTC)), speakers=['Elena giltcoach (giltfox)', 'Sergey Rozov', 'Stas Jastreb', 'TBD']),\n",
       " SessionSpeakerStats(meeting_session_id=UUID('6e68fdfc-01c4-4308-989c-0fdc9975f824'), start_timestamp=datetime.datetime(2024, 11, 28, 12, 12, 53, tzinfo=TzInfo(UTC)), user_id=UUID('2f4ab929-6aa2-4125-abf9-f9a917bde150'), last_finish=datetime.datetime(2024, 11, 28, 12, 41, 34, tzinfo=TzInfo(UTC)), speakers=['Alexander Korchevskiy', 'Nikolay Kirpichnikov', 'Tatiana Sukhova', 'TBD']),\n",
       " SessionSpeakerStats(meeting_session_id=UUID('8f0c3004-4fb2-4cfa-98c4-7bb535f19b20'), start_timestamp=datetime.datetime(2024, 11, 28, 13, 0, 9, tzinfo=TzInfo(UTC)), user_id=UUID('b7a44b71-c622-420a-aa03-58f996f4c863'), last_finish=datetime.datetime(2024, 11, 28, 13, 22, 54, tzinfo=TzInfo(UTC)), speakers=['Rita', 'Shota Arabuli', 'TBD', 'Александр Кудрявцев', 'Александр Самойлов', 'Ирина Лаврова']),\n",
       " SessionSpeakerStats(meeting_session_id=UUID('8a53bc6e-5efe-4e52-a1be-a080aeaa7a59'), start_timestamp=datetime.datetime(2024, 11, 28, 13, 5, 32, tzinfo=TzInfo(UTC)), user_id=UUID('92c90e8d-6ab9-416c-a906-0e5c58e82153'), last_finish=datetime.datetime(2024, 11, 28, 13, 29, 36, tzinfo=TzInfo(UTC)), speakers=['TBD', 'Александр Лобов', 'Алина Симонова', 'Анастасия Кочармина', 'Анна Дедяева', 'Виктория Цуренкова', 'Даниил Сухарев', 'Денис Антипин', 'Иван Лукин', 'Илья Зыков', 'Надежда Иванова']),\n",
       " SessionSpeakerStats(meeting_session_id=UUID('0699ef2d-4e5f-4326-bc96-775afe72b32b'), start_timestamp=datetime.datetime(2024, 11, 28, 13, 6, 31, tzinfo=TzInfo(UTC)), user_id=UUID('a5224f3d-8f5c-43d0-bec7-197dc5fc1317'), last_finish=datetime.datetime(2024, 11, 28, 13, 6, 32, tzinfo=TzInfo(UTC)), speakers=['TBD']),\n",
       " SessionSpeakerStats(meeting_session_id=UUID('16705c46-ba51-4f1b-83d2-08e0bfc5eae5'), start_timestamp=datetime.datetime(2024, 11, 28, 13, 12, 2, tzinfo=TzInfo(UTC)), user_id=UUID('ef7c085b-fdb5-4c94-b7b6-a61a3d04c210'), last_finish=datetime.datetime(2024, 11, 28, 13, 25, 3, tzinfo=TzInfo(UTC)), speakers=['Dmitriy Grankin']),\n",
       " SessionSpeakerStats(meeting_session_id=UUID('161275cc-d6c5-4bfb-b2bc-fb4b27d654ac'), start_timestamp=datetime.datetime(2024, 11, 28, 13, 24, 11, tzinfo=TzInfo(UTC)), user_id=UUID('b5651caf-b466-48a7-ac67-648a47ff3b93'), last_finish=datetime.datetime(2024, 11, 11, 12, 36, 44, tzinfo=TzInfo(UTC)), speakers=['Rita', 'Shota Arabuli', 'TBD', 'Александр Кудрявцев', 'Александр Самойлов']),\n",
       " SessionSpeakerStats(meeting_session_id=UUID('161275cc-d6c5-4bfb-b2bc-fb4b27d654ac'), start_timestamp=datetime.datetime(2024, 11, 28, 13, 24, 11, tzinfo=TzInfo(UTC)), user_id=UUID('b7a44b71-c622-420a-aa03-58f996f4c863'), last_finish=datetime.datetime(2024, 11, 28, 13, 29, 37, tzinfo=TzInfo(UTC)), speakers=['Rita', 'Shota Arabuli', 'TBD', 'Александр Кудрявцев', 'Александр Самойлов'])]"
      ]
     },
     "execution_count": 17,
     "metadata": {},
     "output_type": "execute_result"
    }
   ],
   "source": [
    "meetings"
   ]
  },
  {
   "cell_type": "code",
   "execution_count": null,
   "metadata": {},
   "outputs": [],
   "source": []
  },
  {
   "cell_type": "code",
   "execution_count": 8,
   "metadata": {},
   "outputs": [
    {
     "name": "stdout",
     "output_type": "stream",
     "text": [
      "Vexa token: 48c193136ef545e28201c2abd13a81d0\n",
      "User information retrieved successfully.\n",
      "Vexa token: d638834565534df7b4c4c02ef8126245\n",
      "User information retrieved successfully.\n",
      "Vexa token: ffc47fdc1f79475994fb93a29a394a09\n",
      "User information retrieved successfully.\n",
      "Vexa token: 48c193136ef545e28201c2abd13a81d0\n",
      "User information retrieved successfully.\n",
      "Vexa token: ee295c5c52484af49a86d088d3bea010\n",
      "User information retrieved successfully.\n",
      "Vexa token: ed3270c73f144484ab1ff860d295e6d4\n",
      "User information retrieved successfully.\n",
      "Vexa token: 711911bf949b4cc4a52807a0ee864367\n",
      "User information retrieved successfully.\n",
      "Vexa token: 65fa493d71e1443da75e851095e7217a\n",
      "User information retrieved successfully.\n",
      "Vexa token: 160ad3dda96c4d6697e95028bbcc2614\n",
      "User information retrieved successfully.\n",
      "Vexa token: c1f64d1069dd4bf8bdcdea4c1b18fded\n",
      "User information retrieved successfully.\n",
      "Vexa token: ed3270c73f144484ab1ff860d295e6d4\n"
     ]
    },
    {
     "name": "stderr",
     "output_type": "stream",
     "text": [
      "Failed to create user ef7c085b-fdb5-4c94-b7b6-a61a3d04c210\n"
     ]
    },
    {
     "name": "stdout",
     "output_type": "stream",
     "text": [
      "User information retrieved successfully.\n",
      "Vexa token: 3ae04e20124d40babc5107e658c666b6\n",
      "User information retrieved successfully.\n",
      "Vexa token: 41bdaed93b0f4179a44f3ec9118775d7\n",
      "User information retrieved successfully.\n",
      "Vexa token: 160ad3dda96c4d6697e95028bbcc2614\n",
      "User information retrieved successfully.\n"
     ]
    }
   ],
   "source": [
    "await monitor.sync_meetings()"
   ]
  },
  {
   "cell_type": "code",
   "execution_count": null,
   "metadata": {},
   "outputs": [],
   "source": []
  }
 ],
 "metadata": {
  "kernelspec": {
   "display_name": "Python 3",
   "language": "python",
   "name": "python3"
  },
  "language_info": {
   "codemirror_mode": {
    "name": "ipython",
    "version": 3
   },
   "file_extension": ".py",
   "mimetype": "text/x-python",
   "name": "python",
   "nbconvert_exporter": "python",
   "pygments_lexer": "ipython3",
   "version": "3.11.10"
  }
 },
 "nbformat": 4,
 "nbformat_minor": 2
}
