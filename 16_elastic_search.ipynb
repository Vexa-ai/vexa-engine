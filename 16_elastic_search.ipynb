{
 "cells": [
  {
   "cell_type": "code",
   "execution_count": 1,
   "metadata": {},
   "outputs": [],
   "source": [
    "%load_ext autoreload\n",
    "%autoreload 2"
   ]
  },
  {
   "cell_type": "code",
   "execution_count": 2,
   "metadata": {},
   "outputs": [],
   "source": [
    "from core import system_msg, user_msg, assistant_msg"
   ]
  },
  {
   "cell_type": "code",
   "execution_count": 3,
   "metadata": {},
   "outputs": [],
   "source": [
    "from sampling import fetch_joined_data\n",
    "df = await fetch_joined_data()\n",
    "df = df.sort_values(['meeting_timestamp'])"
   ]
  },
  {
   "cell_type": "code",
   "execution_count": 4,
   "metadata": {},
   "outputs": [
    {
     "name": "stdout",
     "output_type": "stream",
     "text": [
      "Using device: cpu\n",
      "Creating field-specific indices...\n",
      "Processing topic_name...\n"
     ]
    },
    {
     "data": {
      "application/vnd.jupyter.widget-view+json": {
       "model_id": "73249f56ac234a1482ed71e5d3dcc129",
       "version_major": 2,
       "version_minor": 0
      },
      "text/plain": [
       "  0%|          | 0/400 [00:00<?, ?it/s]"
      ]
     },
     "metadata": {},
     "output_type": "display_data"
    },
    {
     "name": "stdout",
     "output_type": "stream",
     "text": [
      "Processing summary...\n"
     ]
    },
    {
     "data": {
      "application/vnd.jupyter.widget-view+json": {
       "model_id": "fc777be0d15d4fa88171120a3806c561",
       "version_major": 2,
       "version_minor": 0
      },
      "text/plain": [
       "  0%|          | 0/400 [00:00<?, ?it/s]"
      ]
     },
     "metadata": {},
     "output_type": "display_data"
    },
    {
     "name": "stdout",
     "output_type": "stream",
     "text": [
      "Processing details...\n"
     ]
    },
    {
     "data": {
      "application/vnd.jupyter.widget-view+json": {
       "model_id": "a7cb5500e36b48a1b558a8825fab2842",
       "version_major": 2,
       "version_minor": 0
      },
      "text/plain": [
       "  0%|          | 0/400 [00:00<?, ?it/s]"
      ]
     },
     "metadata": {},
     "output_type": "display_data"
    }
   ],
   "source": [
    "from elastic_search import VectorSearchEngine\n",
    "search_engine = VectorSearchEngine(device=None)\n",
    "search_engine.create_index(df)\n"
   ]
  },
  {
   "cell_type": "code",
   "execution_count": 5,
   "metadata": {},
   "outputs": [
    {
     "name": "stdout",
     "output_type": "stream",
     "text": [
      "speaker_name\n",
      "(Olga Nemirovskaya, Dmitriy Grankin)                                    33\n",
      "(Dmitriy Grankin)                                                       32\n",
      "(nan)                                                                   20\n",
      "(Sergey Ryabenko, Dmitriy Grankin)                                      15\n",
      "(nan (1), nan (0))                                                       6\n",
      "(Dmitriy Grankin, Andrey Pisankin)                                       4\n",
      "(Sergey Ryabenko, Dmitriy Grankin, Nikolay)                              3\n",
      "(Dmitriy Grankin, Alex Shevliakov)                                       2\n",
      "(nan (1), nan, nan (0))                                                  2\n",
      "(Dmitriy Grankin, Matt Lewis)                                            2\n",
      "(Dmitriy Grankin, Ilia Semukhin)                                         2\n",
      "(Alex Shevliakov, Dmitry Grankin)                                        2\n",
      "(Rick Tousseyn, Dmitriy Grankin)                                         2\n",
      "(Sergey Ryabenko, Dmitriy Grankin, Andrey Pisankin)                      2\n",
      "(Olga Nemirovskaya, Dmitriy Grankin, Lidiia Abramova, Shota Arabuli)     2\n",
      "(Karine Stepanyan, KS, Dmitriy Grankin, DG)                              2\n",
      "(nan (2), nan (1), nan (0))                                              2\n",
      "(nan (3), nan (1), nan (0))                                              2\n",
      "(Karine Stepanyan, nan, Dmitriy Grankin)                                 1\n",
      "(Sergey Ryabenko, Dmitriy Grankin, XT, DG, SR, Xut tuX)                  1\n",
      "Name: count, dtype: int64\n"
     ]
    }
   ],
   "source": [
    "meeting_speaker_sets = df.groupby('meeting_id')['speaker_name'].agg(set)\n",
    "meeting_speaker_sets = meeting_speaker_sets.apply(frozenset)\n",
    "meeting_combinations = meeting_speaker_sets.value_counts()\n",
    "print(meeting_combinations.head(20))"
   ]
  },
  {
   "cell_type": "code",
   "execution_count": 6,
   "metadata": {},
   "outputs": [],
   "source": [
    "team = ['Dmitry Grankin','Olga Nemirovskaya','Dmitriy Grankin','Sergey Ryabenko','Alex Shevliakov','Karine Stepanyan','Andrey Pisankin',\n",
    "        'Okafor Ikenna','nan']"
   ]
  },
  {
   "cell_type": "code",
   "execution_count": 7,
   "metadata": {},
   "outputs": [],
   "source": [
    "import pandas as pd\n",
    "pd.set_option('display.max_colwidth', None)"
   ]
  },
  {
   "cell_type": "code",
   "execution_count": 8,
   "metadata": {},
   "outputs": [
    {
     "data": {
      "text/plain": [
       "['Product Hunt',\n",
       " 'Product Hunter',\n",
       " 'Product School',\n",
       " 'product hunter',\n",
       " 'Product Managers']"
      ]
     },
     "execution_count": 8,
     "metadata": {},
     "output_type": "execute_result"
    }
   ],
   "source": [
    "search_engine.get_search_hints(\"product \", max_hints=5)"
   ]
  },
  {
   "cell_type": "code",
   "execution_count": 9,
   "metadata": {},
   "outputs": [],
   "source": [
    "from IPython.display import Markdown\n",
    "from core import system_msg, user_msg, generic_call_stream"
   ]
  },
  {
   "cell_type": "code",
   "execution_count": 10,
   "metadata": {},
   "outputs": [],
   "source": [
    "from prompts import Prompts\n",
    "prompts = Prompts()\n"
   ]
  },
  {
   "cell_type": "code",
   "execution_count": 11,
   "metadata": {},
   "outputs": [],
   "source": [
    "class ChatSession:\n",
    "    def __init__(self, search_engine, prompts):\n",
    "        self.search_engine = search_engine\n",
    "        self.prompts = prompts\n",
    "        self.messages = []\n",
    "    \n",
    "    def add_message(self, role, content):\n",
    "        # Convert to Msg object instead of dict\n",
    "        if role == \"system\":\n",
    "            self.messages.append(system_msg(content))\n",
    "        elif role == \"user\":\n",
    "            self.messages.append(user_msg(content))\n",
    "        elif role == \"assistant\":\n",
    "            self.messages.append(assistant_msg(content))\n",
    "    \n",
    "    async def process_user_message(self, query):\n",
    "\n",
    "        self.add_message(\"user\", query)\n",
    "        query, instructions = query.split(':') if ':' in query else (query, '')\n",
    "        \n",
    "        # Search for context\n",
    "        main_results = self.search_engine.search(\n",
    "            query=query,\n",
    "            k=200,\n",
    "            min_similarity=0.4,\n",
    "            exact_match_boost=0.3,\n",
    "            return_scores=True\n",
    "        )\n",
    "        speaker_results = self.search_engine.search_by_speaker(\n",
    "            query,\n",
    "            k=200,\n",
    "            min_similarity=0.49,\n",
    "            return_scores=True\n",
    "        )\n",
    "        \n",
    "        # Process results\n",
    "        main_results = main_results[['topic_name','speaker_name','summary','details']] if len(main_results) > 0 else pd.DataFrame()\n",
    "        speaker_results = speaker_results[['topic_name','speaker_name','summary','details']] if len(speaker_results) > 0 else pd.DataFrame()\n",
    "        self.results = pd.concat([main_results, speaker_results]).drop_duplicates().reset_index(drop=True)\n",
    "        context = self.results[['speaker_name','topic_name','summary','details']].to_markdown(index=False)\n",
    "        \n",
    "        # Add context message\n",
    "        context_msg = system_msg(f\"Context: {context}\")\n",
    "        \n",
    "        # Generate response\n",
    "        messages_with_context = [\n",
    "            system_msg(self.prompts.perplexity),\n",
    "            system_msg('special instructions: '+instructions),\n",
    "            *self.messages,\n",
    "            context_msg\n",
    "        ]\n",
    "        \n",
    "        response = await generic_call_stream(messages_with_context)\n",
    "        \n",
    "        # Add assistant response\n",
    "        self.add_message(\"assistant\", response)\n",
    "        \n",
    "        return response"
   ]
  },
  {
   "cell_type": "code",
   "execution_count": 12,
   "metadata": {},
   "outputs": [],
   "source": [
    "\n",
    "chat = ChatSession(search_engine, prompts)"
   ]
  },
  {
   "cell_type": "code",
   "execution_count": 13,
   "metadata": {},
   "outputs": [
    {
     "data": {
      "text/plain": [
       "[]"
      ]
     },
     "execution_count": 13,
     "metadata": {},
     "output_type": "execute_result"
    }
   ],
   "source": [
    "chat.messages"
   ]
  },
  {
   "cell_type": "code",
   "execution_count": 14,
   "metadata": {},
   "outputs": [
    {
     "name": "stdout",
     "output_type": "stream",
     "text": [
      "The dashboard is a critical feature of the VEX product, serving as a user interface that organizes and presents information in an easily readable format. It allows users to interact with various functionalities, track user engagement, and manage meeting summaries and action items. The team is actively working on enhancing the dashboard's usability, addressing issues such as thread naming, button functionality, and the need for filtering options to improve user experience[1][2][3][4][5][6][7][8][9][10].\n",
      "\n",
      "Recent discussions have highlighted the importance of user feedback in guiding the dashboard's development, with plans to implement features that facilitate better navigation and data visibility. The dashboard is also undergoing updates to ensure it collects necessary data, including cookies for tracking user interactions[11][12][13][14][15][16][17][18][19][20].\n"
     ]
    },
    {
     "data": {
      "text/markdown": [
       "The dashboard is a critical feature of the VEX product, serving as a user interface that organizes and presents information in an easily readable format. It allows users to interact with various functionalities, track user engagement, and manage meeting summaries and action items. The team is actively working on enhancing the dashboard's usability, addressing issues such as thread naming, button functionality, and the need for filtering options to improve user experience[1][2][3][4][5][6][7][8][9][10].\n",
       "\n",
       "Recent discussions have highlighted the importance of user feedback in guiding the dashboard's development, with plans to implement features that facilitate better navigation and data visibility. The dashboard is also undergoing updates to ensure it collects necessary data, including cookies for tracking user interactions[11][12][13][14][15][16][17][18][19][20]."
      ],
      "text/plain": [
       "<IPython.core.display.Markdown object>"
      ]
     },
     "execution_count": 14,
     "metadata": {},
     "output_type": "execute_result"
    }
   ],
   "source": [
    "\n",
    "response = await chat.process_user_message(\"dashboard\")\n",
    "Markdown(response)"
   ]
  },
  {
   "cell_type": "code",
   "execution_count": null,
   "metadata": {},
   "outputs": [],
   "source": []
  },
  {
   "cell_type": "code",
   "execution_count": 82,
   "metadata": {},
   "outputs": [
    {
     "data": {
      "text/html": [
       "<div>\n",
       "<style scoped>\n",
       "    .dataframe tbody tr th:only-of-type {\n",
       "        vertical-align: middle;\n",
       "    }\n",
       "\n",
       "    .dataframe tbody tr th {\n",
       "        vertical-align: top;\n",
       "    }\n",
       "\n",
       "    .dataframe thead th {\n",
       "        text-align: right;\n",
       "    }\n",
       "</style>\n",
       "<table border=\"1\" class=\"dataframe\">\n",
       "  <thead>\n",
       "    <tr style=\"text-align: right;\">\n",
       "      <th></th>\n",
       "    </tr>\n",
       "  </thead>\n",
       "  <tbody>\n",
       "  </tbody>\n",
       "</table>\n",
       "</div>"
      ],
      "text/plain": [
       "Empty DataFrame\n",
       "Columns: []\n",
       "Index: []"
      ]
     },
     "execution_count": 82,
     "metadata": {},
     "output_type": "execute_result"
    }
   ],
   "source": [
    "chat.results"
   ]
  },
  {
   "cell_type": "code",
   "execution_count": 22,
   "metadata": {},
   "outputs": [
    {
     "name": "stdout",
     "output_type": "stream",
     "text": [
      "Alexey\n",
      " more people\n",
      "Alexey is involved in several key activities related to project development and promotion:\n",
      "\n",
      "1. **New Build Development**: Alexey is responsible for providing a new build aimed at resolving issues with the extension, particularly concerning button functionality. This build is crucial for the next steps in the project, although no specific deadline has been mentioned[1][3].\n",
      "\n",
      "2. **Promotion through Network**: Olga Nemirovskaya suggested engaging Alexey to leverage his network for promoting Vexu, as he is currently leading the project. This could enhance the reach of their promotional efforts[2].\n",
      "\n",
      "3. **UI Development**: Alexey is also a developer focused on creating the user interface for the project. His work is being reviewed by Dmitriy Grankin, who is discussing backend requirements and the overall functionality of the assistant[3][4].\n",
      "\n",
      "4. **Insights into Web3**: Alexey Khintz, another individual mentioned, is noted as a contact in the Web3 space who could provide valuable insights into the audience and their preferences[2]. \n",
      "\n",
      "These activities highlight Alexey's significant role in both the technical and promotional aspects of the project.\n"
     ]
    }
   ],
   "source": [
    "response = await chat.process_user_message(\"Alexey: more people\")"
   ]
  },
  {
   "cell_type": "code",
   "execution_count": 55,
   "metadata": {},
   "outputs": [
    {
     "data": {
      "text/html": [
       "<div>\n",
       "<style scoped>\n",
       "    .dataframe tbody tr th:only-of-type {\n",
       "        vertical-align: middle;\n",
       "    }\n",
       "\n",
       "    .dataframe tbody tr th {\n",
       "        vertical-align: top;\n",
       "    }\n",
       "\n",
       "    .dataframe thead th {\n",
       "        text-align: right;\n",
       "    }\n",
       "</style>\n",
       "<table border=\"1\" class=\"dataframe\">\n",
       "  <thead>\n",
       "    <tr style=\"text-align: right;\">\n",
       "      <th></th>\n",
       "      <th>topic_name</th>\n",
       "      <th>speaker_name</th>\n",
       "      <th>summary</th>\n",
       "      <th>details</th>\n",
       "    </tr>\n",
       "  </thead>\n",
       "  <tbody>\n",
       "    <tr>\n",
       "      <th>0</th>\n",
       "      <td>Alex Shevliakov</td>\n",
       "      <td>Alex Shevliakov</td>\n",
       "      <td>Alex Shevliakov is a speaker in the meeting who is working on a startup and his own projects.</td>\n",
       "      <td>Alex shares his current work situation, mentioning he is trying to minimize freelance work and is focused on developing his projects. He discusses the importance of user feedback in product development.</td>\n",
       "    </tr>\n",
       "    <tr>\n",
       "      <th>1</th>\n",
       "      <td>Alex Shevliakov</td>\n",
       "      <td>Alex Shevliakov</td>\n",
       "      <td>Alex Shevliakov is a speaker in the meeting, contributing to discussions on dashboard functionalities and user experience.</td>\n",
       "      <td>Alex discussed various features for the dashboard, including filtering options and the assistant's capabilities.</td>\n",
       "    </tr>\n",
       "    <tr>\n",
       "      <th>2</th>\n",
       "      <td>Alex Shevliakov</td>\n",
       "      <td>Alex Shevliakov</td>\n",
       "      <td>Alex Shevliakov is a speaker in the meeting, contributing to discussions about the interface and layout issues.</td>\n",
       "      <td>Alex is involved in addressing the design and usability of the interface, particularly in relation to buttons and highlights.</td>\n",
       "    </tr>\n",
       "    <tr>\n",
       "      <th>3</th>\n",
       "      <td>Alex Shevliakov</td>\n",
       "      <td>Alex Shevliakov</td>\n",
       "      <td>Alex Shevliakov is a speaker in the meeting who discusses work hours, project management, and coding practices.</td>\n",
       "      <td>He shares his experiences with work hours and the challenges of debugging and testing in software development.</td>\n",
       "    </tr>\n",
       "    <tr>\n",
       "      <th>4</th>\n",
       "      <td>Alex Shevliakov</td>\n",
       "      <td>Alex Shevliakov</td>\n",
       "      <td>Alex Shevliakov is a speaker in the meeting who discusses project timelines and component integration.</td>\n",
       "      <td>He is focused on delivering components for a dashboard and integrating server logic, while also managing his time effectively.</td>\n",
       "    </tr>\n",
       "    <tr>\n",
       "      <th>...</th>\n",
       "      <td>...</td>\n",
       "      <td>...</td>\n",
       "      <td>...</td>\n",
       "      <td>...</td>\n",
       "    </tr>\n",
       "    <tr>\n",
       "      <th>199</th>\n",
       "      <td>HTML code</td>\n",
       "      <td>Olga Nemirovskaya</td>\n",
       "      <td>HTML code is discussed in the context of inserting necessary scripts into the Tilda platform.</td>\n",
       "      <td>The team discusses where to place the HTML code within the head section of the website settings.</td>\n",
       "    </tr>\n",
       "    <tr>\n",
       "      <th>200</th>\n",
       "      <td>Insert HTML code into the head section of the website</td>\n",
       "      <td>Olga Nemirovskaya</td>\n",
       "      <td>Olga Nemirovskaya will insert the necessary HTML code into the head section of the website to ensure proper functionality.</td>\n",
       "      <td>Olga will access the project settings in Tilda and insert the provided HTML code into the head section. This task is important for integrating necessary scripts and tracking functionalities.</td>\n",
       "    </tr>\n",
       "    <tr>\n",
       "      <th>201</th>\n",
       "      <td>Olga Nemirovskaya</td>\n",
       "      <td>Olga Nemirovskaya</td>\n",
       "      <td>Olga Nemirovskaya is a participant in the meeting, assisting with technical changes in the Tilda platform.</td>\n",
       "      <td>She is asked to make changes in Tilda regarding domain settings and HTML code insertion.</td>\n",
       "    </tr>\n",
       "    <tr>\n",
       "      <th>202</th>\n",
       "      <td>B2B</td>\n",
       "      <td>Olga Nemirovskaya</td>\n",
       "      <td>B2B refers to business-to-business marketing strategies and approaches.</td>\n",
       "      <td>The team discusses the need for a separate B2B page to cater to business clients.</td>\n",
       "    </tr>\n",
       "    <tr>\n",
       "      <th>203</th>\n",
       "      <td>Community Building</td>\n",
       "      <td>Olga Nemirovskaya</td>\n",
       "      <td>Community Building involves creating a space for users to interact and share experiences.</td>\n",
       "      <td>The team discusses the importance of building a community around VEX using platforms like WhatsApp and Instagram.</td>\n",
       "    </tr>\n",
       "  </tbody>\n",
       "</table>\n",
       "<p>204 rows × 4 columns</p>\n",
       "</div>"
      ],
      "text/plain": [
       "                                                topic_name       speaker_name  \\\n",
       "0                                          Alex Shevliakov    Alex Shevliakov   \n",
       "1                                          Alex Shevliakov    Alex Shevliakov   \n",
       "2                                          Alex Shevliakov    Alex Shevliakov   \n",
       "3                                          Alex Shevliakov    Alex Shevliakov   \n",
       "4                                          Alex Shevliakov    Alex Shevliakov   \n",
       "..                                                     ...                ...   \n",
       "199                                              HTML code  Olga Nemirovskaya   \n",
       "200  Insert HTML code into the head section of the website  Olga Nemirovskaya   \n",
       "201                                      Olga Nemirovskaya  Olga Nemirovskaya   \n",
       "202                                                    B2B  Olga Nemirovskaya   \n",
       "203                                     Community Building  Olga Nemirovskaya   \n",
       "\n",
       "                                                                                                                        summary  \\\n",
       "0                                 Alex Shevliakov is a speaker in the meeting who is working on a startup and his own projects.   \n",
       "1    Alex Shevliakov is a speaker in the meeting, contributing to discussions on dashboard functionalities and user experience.   \n",
       "2               Alex Shevliakov is a speaker in the meeting, contributing to discussions about the interface and layout issues.   \n",
       "3               Alex Shevliakov is a speaker in the meeting who discusses work hours, project management, and coding practices.   \n",
       "4                        Alex Shevliakov is a speaker in the meeting who discusses project timelines and component integration.   \n",
       "..                                                                                                                          ...   \n",
       "199                               HTML code is discussed in the context of inserting necessary scripts into the Tilda platform.   \n",
       "200  Olga Nemirovskaya will insert the necessary HTML code into the head section of the website to ensure proper functionality.   \n",
       "201                  Olga Nemirovskaya is a participant in the meeting, assisting with technical changes in the Tilda platform.   \n",
       "202                                                     B2B refers to business-to-business marketing strategies and approaches.   \n",
       "203                                   Community Building involves creating a space for users to interact and share experiences.   \n",
       "\n",
       "                                                                                                                                                                                                        details  \n",
       "0    Alex shares his current work situation, mentioning he is trying to minimize freelance work and is focused on developing his projects. He discusses the importance of user feedback in product development.  \n",
       "1                                                                                              Alex discussed various features for the dashboard, including filtering options and the assistant's capabilities.  \n",
       "2                                                                                 Alex is involved in addressing the design and usability of the interface, particularly in relation to buttons and highlights.  \n",
       "3                                                                                                He shares his experiences with work hours and the challenges of debugging and testing in software development.  \n",
       "4                                                                                He is focused on delivering components for a dashboard and integrating server logic, while also managing his time effectively.  \n",
       "..                                                                                                                                                                                                          ...  \n",
       "199                                                                                                            The team discusses where to place the HTML code within the head section of the website settings.  \n",
       "200              Olga will access the project settings in Tilda and insert the provided HTML code into the head section. This task is important for integrating necessary scripts and tracking functionalities.  \n",
       "201                                                                                                                    She is asked to make changes in Tilda regarding domain settings and HTML code insertion.  \n",
       "202                                                                                                                           The team discusses the need for a separate B2B page to cater to business clients.  \n",
       "203                                                                                           The team discusses the importance of building a community around VEX using platforms like WhatsApp and Instagram.  \n",
       "\n",
       "[204 rows x 4 columns]"
      ]
     },
     "execution_count": 55,
     "metadata": {},
     "output_type": "execute_result"
    }
   ],
   "source": [
    "chat.results"
   ]
  },
  {
   "cell_type": "code",
   "execution_count": 54,
   "metadata": {},
   "outputs": [
    {
     "name": "stdout",
     "output_type": "stream",
     "text": [
      "how Xut tuX relevant to vexa technology stack\n",
      "\n",
      "Xut tuX's background and experience are highly relevant to Vexa's technology stack, particularly in the areas of backend development and voice processing. His expertise includes:\n",
      "\n",
      "- **Backend Development**: Xut has significant experience in backend technologies, particularly with Python and Rust. This aligns with Vexa's need for robust backend systems to handle real-time audio processing and transcription.\n",
      "\n",
      "- **Voice Bot Technology**: Xut has worked on projects involving voice bots and call center automation, which directly relates to Vexa's focus on transcribing spoken words into text and providing real-time assistance during meetings. His experience with automating call handling for clients like Почта России and Unicredit Bank showcases his capability in developing systems that enhance communication, similar to Vexa's objectives.\n",
      "\n",
      "- **Database Management**: His work with Postgres, including implementing physical replication for real-time data updates, is crucial for Vexa's architecture, which requires efficient data handling and storage solutions.\n",
      "\n",
      "- **Containerization and DevOps**: Xut's familiarity with Docker and DevOps practices can contribute to Vexa's microservices architecture, facilitating deployment and scalability of its services.\n",
      "\n",
      "- **Asynchronous Task Management**: His experience with Celery for managing asynchronous tasks can enhance Vexa's ability to process audio and generate transcripts in real-time, improving overall user experience.\n",
      "\n",
      "Overall, Xut tuX's skills and experiences align well with the technological needs of Vexa, making him a valuable asset for further development and enhancement of the product[1][2][3][4][5][6][7][8][9].\n"
     ]
    }
   ],
   "source": [
    "response = await chat.process_user_message(\"how Xut tuX relevant to vexa technology stack\")"
   ]
  },
  {
   "cell_type": "code",
   "execution_count": 56,
   "metadata": {},
   "outputs": [
    {
     "data": {
      "text/plain": [
       "[Msg(role='user', content='Xut tuX technology stack', stage=None, service_content=None),\n",
       " Msg(role='assistant', content=\"Xut tuX's technology stack primarily includes:\\n\\n- **Programming Languages**: Xut has experience with Python and is currently transitioning to Rust for backend development, particularly in high-frequency trading applications.\\n\\n- **Database Technologies**: He works with Postgres, implementing physical replication for real-time data updates and backups. Redis is also mentioned as part of his projects for data management.\\n\\n- **Containerization and Deployment**: Xut utilizes Docker for containerization, enhancing deployment and scalability of applications. He has also worked with Nginx for managing containerized applications.\\n\\n- **Asynchronous Task Management**: Celery is part of his stack for handling asynchronous tasks in backend development.\\n\\n- **DevOps Practices**: Xut has experience with DevOps methodologies, focusing on collaboration between development and operations to improve software delivery.\\n\\nHis background includes significant work in backend development, voice bot technology, and automation projects for clients like Почта России and Unicredit Bank, showcasing a diverse range of applications and technologies in his experience[1][2][3][4][5][6][7][8][9].\", stage=None, service_content=None),\n",
       " Msg(role='user', content='vexa technology stack in detail', stage=None, service_content=None),\n",
       " Msg(role='assistant', content=\"Vexa's technology stack is designed to support its real-time meeting assistant functionalities, focusing on audio processing and transcription. Key components of the stack include:\\n\\n- **Microservices Architecture**: Vexa employs a microservices architecture that allows for modular development and scalability. This structure facilitates the handling of various tasks such as audio processing and transcription independently.\\n\\n- **Audio Processing**: The system processes audio in chunks, enabling real-time transcription and speaker identification. This approach enhances the efficiency and responsiveness of the service during meetings.\\n\\n- **Data Storage**: Redis is utilized for temporary storage of audio processing states and metadata, ensuring quick access and management of data during transcription tasks.\\n\\n- **Real-Time Features**: Vexa is designed to provide real-time assistance by highlighting key terms and summarizing discussions, which improves user engagement and productivity during calls.\\n\\n- **User Interface**: The interface is crafted to be clean and user-friendly, allowing for easy interaction with transcripts and contextual information during meetings.\\n\\n- **Continuous Development**: The architecture and functionalities are still evolving, with ongoing enhancements based on user feedback and testing, indicating a commitment to improving user experience and product capabilities.\\n\\nOverall, Vexa's technology stack is focused on delivering a seamless and efficient experience for users during meetings, leveraging modern software architecture and real-time processing capabilities[1][2][3][4][5][6][7][8][9].\", stage=None, service_content=None),\n",
       " Msg(role='user', content='how Xut tuX relevant to vexa technology stack', stage=None, service_content=None),\n",
       " Msg(role='assistant', content=\"Xut tuX's background and experience are highly relevant to Vexa's technology stack, particularly in the areas of backend development and voice processing. His expertise includes:\\n\\n- **Backend Development**: Xut has significant experience in backend technologies, particularly with Python and Rust. This aligns with Vexa's need for robust backend systems to handle real-time audio processing and transcription.\\n\\n- **Voice Bot Technology**: Xut has worked on projects involving voice bots and call center automation, which directly relates to Vexa's focus on transcribing spoken words into text and providing real-time assistance during meetings. His experience with automating call handling for clients like Почта России and Unicredit Bank showcases his capability in developing systems that enhance communication, similar to Vexa's objectives.\\n\\n- **Database Management**: His work with Postgres, including implementing physical replication for real-time data updates, is crucial for Vexa's architecture, which requires efficient data handling and storage solutions.\\n\\n- **Containerization and DevOps**: Xut's familiarity with Docker and DevOps practices can contribute to Vexa's microservices architecture, facilitating deployment and scalability of its services.\\n\\n- **Asynchronous Task Management**: His experience with Celery for managing asynchronous tasks can enhance Vexa's ability to process audio and generate transcripts in real-time, improving overall user experience.\\n\\nOverall, Xut tuX's skills and experiences align well with the technological needs of Vexa, making him a valuable asset for further development and enhancement of the product[1][2][3][4][5][6][7][8][9].\", stage=None, service_content=None)]"
      ]
     },
     "execution_count": 56,
     "metadata": {},
     "output_type": "execute_result"
    }
   ],
   "source": [
    "chat.messages"
   ]
  },
  {
   "cell_type": "code",
   "execution_count": null,
   "metadata": {},
   "outputs": [],
   "source": []
  },
  {
   "cell_type": "code",
   "execution_count": null,
   "metadata": {},
   "outputs": [],
   "source": []
  },
  {
   "cell_type": "code",
   "execution_count": 15,
   "metadata": {},
   "outputs": [
    {
     "data": {
      "text/plain": [
       "[Msg(role='user', content='', stage=None, service_content=None),\n",
       " Msg(role='assistant', content='The discussions surrounding marketing strategies for Vexa and its products highlight a multifaceted approach involving various platforms and community engagement methods. \\n\\nGoogle Ads is a central focus, with multiple team members, including Dmitriy Grankin and Olga Nemirovskaya, emphasizing its role in user acquisition and advertising effectiveness. The team is actively setting up campaigns, analyzing performance data, and planning targeted ads to attract users, particularly in relation to competitors and user needs[1][2][3][4][5]. \\n\\nCommunity engagement is also a significant theme, with suggestions to utilize platforms like Reddit and Telegram for outreach and feedback collection. Olga Nemirovskaya advocates for building a community around Vexa to enhance user experience and retention, while Dmitriy Grankin stresses the importance of active participation in relevant communities to foster collaboration and knowledge sharing[6][7][8][9]. \\n\\nInfluencer marketing is another strategy being explored, with team members discussing potential collaborations with influencers to boost visibility and credibility. This includes leveraging social media platforms like Instagram and TikTok for promotional activities[10][11][12]. \\n\\nThe team is also considering the optimization of landing pages and the overall user experience (UX) to improve conversion rates from their advertising efforts. This involves simplifying landing pages for ads while ensuring the main site remains comprehensive[13][14]. \\n\\nOverall, the marketing strategy for Vexa is characterized by a blend of digital advertising, community building, and influencer partnerships, aimed at enhancing user engagement and driving product visibility in a competitive landscape.', stage=None, service_content=None)]"
      ]
     },
     "execution_count": 15,
     "metadata": {},
     "output_type": "execute_result"
    }
   ],
   "source": [
    "chat.messages"
   ]
  },
  {
   "cell_type": "code",
   "execution_count": null,
   "metadata": {},
   "outputs": [],
   "source": []
  }
 ],
 "metadata": {
  "kernelspec": {
   "display_name": "langchain",
   "language": "python",
   "name": "python3"
  },
  "language_info": {
   "codemirror_mode": {
    "name": "ipython",
    "version": 3
   },
   "file_extension": ".py",
   "mimetype": "text/x-python",
   "name": "python",
   "nbconvert_exporter": "python",
   "pygments_lexer": "ipython3",
   "version": "3.11.2"
  }
 },
 "nbformat": 4,
 "nbformat_minor": 2
}
