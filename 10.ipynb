{
 "cells": [
  {
   "cell_type": "code",
   "execution_count": 1,
   "metadata": {},
   "outputs": [],
   "source": [
    "%reload_ext autoreload\n",
    "%autoreload 2"
   ]
  },
  {
   "cell_type": "code",
   "execution_count": 2,
   "metadata": {},
   "outputs": [],
   "source": [
    "from query_agent import init_agent"
   ]
  },
  {
   "cell_type": "code",
   "execution_count": 4,
   "metadata": {},
   "outputs": [
    {
     "name": "stdout",
     "output_type": "stream",
     "text": [
      "Building vector index...\n"
     ]
    },
    {
     "data": {
      "application/vnd.jupyter.widget-view+json": {
       "model_id": "1a762fb5b77d4ddbb15d4c5d700c1e84",
       "version_major": 2,
       "version_minor": 0
      },
      "text/plain": [
       "Batches:   0%|          | 0/100 [00:00<?, ?it/s]"
      ]
     },
     "metadata": {},
     "output_type": "display_data"
    },
    {
     "name": "stdout",
     "output_type": "stream",
     "text": [
      "Index built successfully!\n"
     ]
    }
   ],
   "source": [
    "# Initialize agent\n",
    "agent = await init_agent()"
   ]
  },
  {
   "cell_type": "code",
   "execution_count": 7,
   "metadata": {},
   "outputs": [
    {
     "name": "stdout",
     "output_type": "stream",
     "text": [
      "Building vector index...\n"
     ]
    },
    {
     "data": {
      "application/vnd.jupyter.widget-view+json": {
       "model_id": "57ee2119411d406e99133a388cfacfa2",
       "version_major": 2,
       "version_minor": 0
      },
      "text/plain": [
       "Batches:   0%|          | 0/63 [00:00<?, ?it/s]"
      ]
     },
     "metadata": {},
     "output_type": "display_data"
    },
    {
     "name": "stdout",
     "output_type": "stream",
     "text": [
      "Index built successfully!\n",
      "The discussions surrounding Vexa and its user experiences highlight several key themes and insights from external users, particularly focusing on the tool's functionality, user interface, and marketing strategies.\n",
      "\n",
      "### User Feedback and Experiences\n",
      "\n",
      "1. **User Interface and Usability**:\n",
      "   - Robert Hangu provided positive feedback on Vexa's clean interface, emphasizing its user-friendliness compared to competitors like Fireflies, which he found to be bloated and less intuitive. He appreciates Vexa's straightforward design, which allows for easy interaction with transcripts during meetings (2024-09-09).\n",
      "   - Karine Stepanyan raised concerns about usability issues within the dashboard, such as the visibility of the logo and the functionality of the scroll bar, which does not automatically scroll to the latest answer. These issues indicate a need for further refinement to enhance user experience (2024-09-13).\n",
      "\n",
      "2. **Transcription Accuracy and Features**:\n",
      "   - Users have expressed a desire for improved transcription accuracy and additional analytics features. Anastasiia GULIAEVA noted that enhancing these aspects could better serve users' needs during meetings (2024-09-05). This aligns with Robert Hangu's feedback, where he highlighted the importance of effective transcription tools in his experience with Vexa and Fireflies (2024-09-09).\n",
      "\n",
      "3. **Market Positioning and Competitor Analysis**:\n",
      "   - The discussions also touched on Vexa's positioning in the market relative to competitors. Umar Lateef noted that while Fireflies is a market leader, Vexa's focus on real-time transcription without bots could be a unique selling point (2024-09-30). This sentiment was echoed by Robert Hangu, who preferred Vexa's functionality over Fireflies due to its user-friendly interface (2024-09-09).\n",
      "\n",
      "### Marketing Strategies and User Acquisition\n",
      "\n",
      "1. **Trial Offers and User Conversion**:\n",
      "   - Ahmed Abdelaziz emphasized the importance of offering trial periods to attract users, suggesting that a trial could encourage potential customers to experience the service before committing to a paid plan (2024-08-30). This aligns with feedback from Umar Lateef, who suggested that the current free plan might be too generous, potentially deterring users from upgrading to paid plans (2024-09-30).\n",
      "\n",
      "2. **Targeted Outreach and Community Engagement**:\n",
      "   - Sergey Ryabenko and Ahmed Abdelaziz discussed the need for targeted outreach strategies to convert free users into paying customers. They suggested focusing on identifying target customers willing to pay for the service and building a robust marketing strategy (2024-09-25; 2024-08-30). Olga Miller also proposed leveraging business communities and partnerships to enhance visibility and attract initial users (2024-09-06).\n",
      "\n",
      "3. **Product Launch Strategies**:\n",
      "   - Julia Zakharova highlighted the significance of effective marketing materials and audience engagement for a successful launch on platforms like Product Hunt. She noted that well-prepared marketing materials could significantly impact visibility and user acquisition (2024-09-13). This aligns with the broader consensus that collaboration among team members is crucial for maximizing the product's chances of being featured (2024-09-13).\n",
      "\n",
      "### Temporal Patterns and Trends\n",
      "\n",
      "- The feedback and discussions reflect a growing awareness of the importance of user experience and marketing strategies as Vexa continues to develop its product. Over the course of the meetings, there has been a consistent emphasis on refining the user interface and enhancing transcription features, indicating a responsive approach to user feedback.\n",
      "- Additionally, the discussions around marketing strategies have evolved, with a clear shift towards more targeted outreach and community engagement as the team seeks to convert free users into paying customers.\n",
      "\n",
      "### Conclusion\n",
      "\n",
      "In summary, the feedback from external users emphasizes the need for Vexa to enhance its user interface, improve transcription accuracy, and develop effective marketing strategies to attract and retain users. The insights from speakers like Robert Hangu, Anastasiia GULIAEVA, and Umar Lateef provide a comprehensive view of the current landscape, highlighting both strengths and areas for improvement. As Vexa continues to evolve, addressing these user experiences and feedback will be crucial for its success in the competitive market of meeting transcription tools.\n"
     ]
    }
   ],
   "source": [
    "\n",
    "# Initial query with detailed output\n",
    "result, conv_id = await agent.search(\"let vexa users\")"
   ]
  },
  {
   "cell_type": "code",
   "execution_count": null,
   "metadata": {},
   "outputs": [],
   "source": []
  },
  {
   "cell_type": "code",
   "execution_count": null,
   "metadata": {},
   "outputs": [],
   "source": [
    "\n",
    "print(\"\\nInitial Answer:\", result.answer)\n",
    "print(\"\\nEvidence Details:\")\n",
    "\n",
    "# Print external feedback first\n",
    "print(\"\\nExternal User Feedback:\")\n",
    "external_sources = [s for s in result.sources if s['speaker_type'] == 'external']\n",
    "for source in external_sources:\n",
    "    print(f\"\\n- Date: {source['date']}\")\n",
    "    print(f\"  Speaker: {', '.join(source['speakers'])}\")\n",
    "    print(f\"  Topic: {source['topic']}\")\n",
    "    print(f\"  Summary: {source['summary']}\")\n",
    "    if source['details']:\n",
    "        print(f\"  Details: {source['details']}\")\n",
    "    print(f\"  Relevance: {source['relevance']:.2f}\")\n",
    "\n",
    "# Print internal discussions\n",
    "print(\"\\nInternal Discussions:\")\n",
    "internal_sources = [s for s in result.sources if s['speaker_type'] == 'internal']\n",
    "for source in internal_sources[:5]:  # Limit to top 5 internal discussions\n",
    "    print(f\"\\n- Date: {source['date']}\")\n",
    "    print(f\"  Speakers: {', '.join(source['speakers'])}\")\n",
    "    print(f\"  Topic: {source['topic']}\")\n",
    "    print(f\"  Summary: {source['summary']}\")\n",
    "    print(f\"  Relevance: {source['relevance']:.2f}\")\n",
    "\n",
    "# Follow-up query about specific issues\n",
    "follow_up, _ = await agent.search(\"what specific issues were mentioned?\", conv_id)\n",
    "print(\"\\nFollow-up Answer:\", follow_up.answer)"
   ]
  },
  {
   "cell_type": "code",
   "execution_count": null,
   "metadata": {},
   "outputs": [],
   "source": []
  }
 ],
 "metadata": {
  "kernelspec": {
   "display_name": "langchain",
   "language": "python",
   "name": "python3"
  },
  "language_info": {
   "codemirror_mode": {
    "name": "ipython",
    "version": 3
   },
   "file_extension": ".py",
   "mimetype": "text/x-python",
   "name": "python",
   "nbconvert_exporter": "python",
   "pygments_lexer": "ipython3",
   "version": "3.11.2"
  }
 },
 "nbformat": 4,
 "nbformat_minor": 2
}
