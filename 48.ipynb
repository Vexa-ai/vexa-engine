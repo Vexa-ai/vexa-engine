{
 "cells": [
  {
   "cell_type": "code",
   "execution_count": 4,
   "metadata": {},
   "outputs": [
    {
     "name": "stdout",
     "output_type": "stream",
     "text": [
      "The autoreload extension is already loaded. To reload it, use:\n",
      "  %reload_ext autoreload\n"
     ]
    }
   ],
   "source": [
    "%load_ext autoreload\n",
    "%autoreload 2"
   ]
  },
  {
   "cell_type": "code",
   "execution_count": 10,
   "metadata": {},
   "outputs": [],
   "source": [
    "from indexing_newv2 import MeetingsScanner, ActiveMeetingsMonitor, VexaAPI, VexaAuth, IndexingWorker,RedisMonitor,RedisKeys,IndexingPipeline"
   ]
  },
  {
   "cell_type": "code",
   "execution_count": 11,
   "metadata": {},
   "outputs": [],
   "source": [
    "from redis import Redis"
   ]
  },
  {
   "cell_type": "code",
   "execution_count": 12,
   "metadata": {},
   "outputs": [],
   "source": [
    "import os"
   ]
  },
  {
   "cell_type": "code",
   "execution_count": 13,
   "metadata": {},
   "outputs": [],
   "source": [
    "redis = Redis(\n",
    "            host=os.getenv('REDIS_HOST', '127.0.0.1'),\n",
    "            port=int(os.getenv('REDIS_PORT', 6379)),\n",
    "            db=0,\n",
    "            decode_responses=True,\n",
    "            max_connections=10,  # Add connection pooling\n",
    "            socket_timeout=5\n",
    "        )"
   ]
  },
  {
   "cell_type": "code",
   "execution_count": 14,
   "metadata": {},
   "outputs": [
    {
     "name": "stderr",
     "output_type": "stream",
     "text": [
      "/home/dima/anaconda3/envs/langchain/lib/python3.11/site-packages/huggingface_hub/file_download.py:1132: FutureWarning: `resume_download` is deprecated and will be removed in version 1.0.0. Downloads always resume when possible. If you want to force a new download, use `force_download=True`.\n",
      "  warnings.warn(\n"
     ]
    },
    {
     "data": {
      "application/vnd.jupyter.widget-view+json": {
       "model_id": "de401adeb10845bc926385bb406669c2",
       "version_major": 2,
       "version_minor": 0
      },
      "text/plain": [
       "Fetching 29 files:   0%|          | 0/29 [00:00<?, ?it/s]"
      ]
     },
     "metadata": {},
     "output_type": "display_data"
    },
    {
     "name": "stdout",
     "output_type": "stream",
     "text": [
      "Vexa token: 5ce9e6757a7f4ec18ff87c5001787a3c\n",
      "User information retrieved successfully.\n",
      "Vexa token: 5ce9e6757a7f4ec18ff87c5001787a3c\n",
      "Request URL: http://127.0.0.1:8001/api/v1/calls/all\n",
      "Request Params: {'token': '5ce9e6757a7f4ec18ff87c5001787a3c'}\n",
      "Vexa token: e79a7431614546f3b1ec5930ff91015e\n",
      "User information retrieved successfully.\n",
      "Vexa token: e79a7431614546f3b1ec5930ff91015e\n",
      "Request URL: http://127.0.0.1:8001/api/v1/calls/all\n",
      "Request Params: {'token': 'e79a7431614546f3b1ec5930ff91015e'}\n",
      "Vexa token: 5faa86ba0dc74b14a78c60c8aa20a014\n",
      "User information retrieved successfully.\n",
      "Vexa token: 5faa86ba0dc74b14a78c60c8aa20a014\n",
      "Request URL: http://127.0.0.1:8001/api/v1/calls/all\n",
      "Request Params: {'token': '5faa86ba0dc74b14a78c60c8aa20a014'}\n",
      "Vexa token: 5ce9e6757a7f4ec18ff87c5001787a3c\n",
      "Request URL: http://127.0.0.1:8001/api/v1/calls/all\n",
      "Request Params: {'token': '5ce9e6757a7f4ec18ff87c5001787a3c'}\n",
      "Vexa token: e79a7431614546f3b1ec5930ff91015e\n",
      "Request URL: http://127.0.0.1:8001/api/v1/calls/all\n",
      "Request Params: {'token': 'e79a7431614546f3b1ec5930ff91015e'}\n",
      "Vexa token: 5faa86ba0dc74b14a78c60c8aa20a014\n",
      "Request URL: http://127.0.0.1:8001/api/v1/calls/all\n",
      "Request Params: {'token': '5faa86ba0dc74b14a78c60c8aa20a014'}\n",
      "Vexa token: 5ce9e6757a7f4ec18ff87c5001787a3c\n",
      "Request URL: http://127.0.0.1:8001/api/v1/calls/all\n",
      "Request Params: {'token': '5ce9e6757a7f4ec18ff87c5001787a3c'}\n",
      "Vexa token: e79a7431614546f3b1ec5930ff91015e\n",
      "Request URL: http://127.0.0.1:8001/api/v1/calls/all\n",
      "Request Params: {'token': 'e79a7431614546f3b1ec5930ff91015e'}\n",
      "Vexa token: 5faa86ba0dc74b14a78c60c8aa20a014\n",
      "Request URL: http://127.0.0.1:8001/api/v1/calls/all\n",
      "Request Params: {'token': '5faa86ba0dc74b14a78c60c8aa20a014'}\n",
      "Vexa token: 5ce9e6757a7f4ec18ff87c5001787a3c\n",
      "Request URL: http://127.0.0.1:8001/api/v1/calls/all\n",
      "Request Params: {'token': '5ce9e6757a7f4ec18ff87c5001787a3c'}\n",
      "Vexa token: e79a7431614546f3b1ec5930ff91015e\n",
      "Request URL: http://127.0.0.1:8001/api/v1/calls/all\n",
      "Request Params: {'token': 'e79a7431614546f3b1ec5930ff91015e'}\n",
      "Vexa token: 5faa86ba0dc74b14a78c60c8aa20a014\n",
      "Request URL: http://127.0.0.1:8001/api/v1/calls/all\n",
      "Request Params: {'token': '5faa86ba0dc74b14a78c60c8aa20a014'}\n",
      "Vexa token: 5ce9e6757a7f4ec18ff87c5001787a3c\n",
      "Request URL: http://127.0.0.1:8001/api/v1/calls/all\n",
      "Request Params: {'token': '5ce9e6757a7f4ec18ff87c5001787a3c'}\n",
      "Vexa token: e79a7431614546f3b1ec5930ff91015e\n",
      "Request URL: http://127.0.0.1:8001/api/v1/calls/all\n",
      "Request Params: {'token': 'e79a7431614546f3b1ec5930ff91015e'}\n",
      "Vexa token: 5faa86ba0dc74b14a78c60c8aa20a014\n",
      "Request URL: http://127.0.0.1:8001/api/v1/calls/all\n",
      "Request Params: {'token': '5faa86ba0dc74b14a78c60c8aa20a014'}\n",
      "Vexa token: 5ce9e6757a7f4ec18ff87c5001787a3c\n",
      "Request URL: http://127.0.0.1:8001/api/v1/calls/all\n",
      "Request Params: {'token': '5ce9e6757a7f4ec18ff87c5001787a3c'}\n",
      "Vexa token: e79a7431614546f3b1ec5930ff91015e\n",
      "Request URL: http://127.0.0.1:8001/api/v1/calls/all\n",
      "Request Params: {'token': 'e79a7431614546f3b1ec5930ff91015e'}\n",
      "Vexa token: 5faa86ba0dc74b14a78c60c8aa20a014\n",
      "Request URL: http://127.0.0.1:8001/api/v1/calls/all\n",
      "Request Params: {'token': '5faa86ba0dc74b14a78c60c8aa20a014'}\n",
      "Vexa token: 5ce9e6757a7f4ec18ff87c5001787a3c\n",
      "Request URL: http://127.0.0.1:8001/api/v1/calls/all\n",
      "Request Params: {'token': '5ce9e6757a7f4ec18ff87c5001787a3c'}\n",
      "Vexa token: e79a7431614546f3b1ec5930ff91015e\n",
      "Request URL: http://127.0.0.1:8001/api/v1/calls/all\n",
      "Request Params: {'token': 'e79a7431614546f3b1ec5930ff91015e'}\n",
      "Vexa token: 5faa86ba0dc74b14a78c60c8aa20a014\n",
      "Request URL: http://127.0.0.1:8001/api/v1/calls/all\n",
      "Request Params: {'token': '5faa86ba0dc74b14a78c60c8aa20a014'}\n",
      "Vexa token: 5ce9e6757a7f4ec18ff87c5001787a3c\n",
      "Request URL: http://127.0.0.1:8001/api/v1/calls/all\n",
      "Request Params: {'token': '5ce9e6757a7f4ec18ff87c5001787a3c'}\n",
      "Vexa token: e79a7431614546f3b1ec5930ff91015e\n",
      "Request URL: http://127.0.0.1:8001/api/v1/calls/all\n",
      "Request Params: {'token': 'e79a7431614546f3b1ec5930ff91015e'}\n",
      "Vexa token: 5faa86ba0dc74b14a78c60c8aa20a014\n",
      "Request URL: http://127.0.0.1:8001/api/v1/calls/all\n",
      "Request Params: {'token': '5faa86ba0dc74b14a78c60c8aa20a014'}\n",
      "Vexa token: 5ce9e6757a7f4ec18ff87c5001787a3c\n",
      "Request URL: http://127.0.0.1:8001/api/v1/calls/all\n",
      "Request Params: {'token': '5ce9e6757a7f4ec18ff87c5001787a3c'}\n",
      "Vexa token: e79a7431614546f3b1ec5930ff91015e\n",
      "Request URL: http://127.0.0.1:8001/api/v1/calls/all\n",
      "Request Params: {'token': 'e79a7431614546f3b1ec5930ff91015e'}\n",
      "Vexa token: 5faa86ba0dc74b14a78c60c8aa20a014\n",
      "Request URL: http://127.0.0.1:8001/api/v1/calls/all\n",
      "Request Params: {'token': '5faa86ba0dc74b14a78c60c8aa20a014'}\n",
      "Vexa token: 5ce9e6757a7f4ec18ff87c5001787a3c\n",
      "Request URL: http://127.0.0.1:8001/api/v1/calls/all\n",
      "Request Params: {'token': '5ce9e6757a7f4ec18ff87c5001787a3c'}\n",
      "Vexa token: e79a7431614546f3b1ec5930ff91015e\n",
      "Request URL: http://127.0.0.1:8001/api/v1/calls/all\n",
      "Request Params: {'token': 'e79a7431614546f3b1ec5930ff91015e'}\n",
      "Vexa token: 5faa86ba0dc74b14a78c60c8aa20a014\n",
      "Request URL: http://127.0.0.1:8001/api/v1/calls/all\n",
      "Request Params: {'token': '5faa86ba0dc74b14a78c60c8aa20a014'}\n",
      "Vexa token: 5ce9e6757a7f4ec18ff87c5001787a3c\n",
      "Request URL: http://127.0.0.1:8001/api/v1/calls/all\n",
      "Request Params: {'token': '5ce9e6757a7f4ec18ff87c5001787a3c'}\n",
      "Vexa token: e79a7431614546f3b1ec5930ff91015e\n",
      "Request URL: http://127.0.0.1:8001/api/v1/calls/all\n",
      "Request Params: {'token': 'e79a7431614546f3b1ec5930ff91015e'}\n",
      "Vexa token: 5faa86ba0dc74b14a78c60c8aa20a014\n",
      "Request URL: http://127.0.0.1:8001/api/v1/calls/all\n",
      "Request Params: {'token': '5faa86ba0dc74b14a78c60c8aa20a014'}\n",
      "Vexa token: 5ce9e6757a7f4ec18ff87c5001787a3c\n",
      "Request URL: http://127.0.0.1:8001/api/v1/calls/all\n",
      "Request Params: {'token': '5ce9e6757a7f4ec18ff87c5001787a3c'}\n",
      "Vexa token: e79a7431614546f3b1ec5930ff91015e\n",
      "Request URL: http://127.0.0.1:8001/api/v1/calls/all\n",
      "Request Params: {'token': 'e79a7431614546f3b1ec5930ff91015e'}\n",
      "Vexa token: 5faa86ba0dc74b14a78c60c8aa20a014\n",
      "Request URL: http://127.0.0.1:8001/api/v1/calls/all\n",
      "Request Params: {'token': '5faa86ba0dc74b14a78c60c8aa20a014'}\n",
      "Vexa token: 5ce9e6757a7f4ec18ff87c5001787a3c\n",
      "Request URL: http://127.0.0.1:8001/api/v1/calls/all\n",
      "Request Params: {'token': '5ce9e6757a7f4ec18ff87c5001787a3c'}\n",
      "Vexa token: e79a7431614546f3b1ec5930ff91015e\n",
      "Request URL: http://127.0.0.1:8001/api/v1/calls/all\n",
      "Request Params: {'token': 'e79a7431614546f3b1ec5930ff91015e'}\n",
      "Vexa token: 5faa86ba0dc74b14a78c60c8aa20a014\n",
      "Request URL: http://127.0.0.1:8001/api/v1/calls/all\n",
      "Request Params: {'token': '5faa86ba0dc74b14a78c60c8aa20a014'}\n",
      "Vexa token: 5ce9e6757a7f4ec18ff87c5001787a3c\n",
      "Request URL: http://127.0.0.1:8001/api/v1/calls/all\n",
      "Request Params: {'token': '5ce9e6757a7f4ec18ff87c5001787a3c'}\n",
      "Vexa token: e79a7431614546f3b1ec5930ff91015e\n",
      "Request URL: http://127.0.0.1:8001/api/v1/calls/all\n",
      "Request Params: {'token': 'e79a7431614546f3b1ec5930ff91015e'}\n",
      "Vexa token: 5faa86ba0dc74b14a78c60c8aa20a014\n",
      "Request URL: http://127.0.0.1:8001/api/v1/calls/all\n",
      "Request Params: {'token': '5faa86ba0dc74b14a78c60c8aa20a014'}\n",
      "Vexa token: 5ce9e6757a7f4ec18ff87c5001787a3c\n",
      "Request URL: http://127.0.0.1:8001/api/v1/calls/all\n",
      "Request Params: {'token': '5ce9e6757a7f4ec18ff87c5001787a3c'}\n",
      "Vexa token: e79a7431614546f3b1ec5930ff91015e\n",
      "Request URL: http://127.0.0.1:8001/api/v1/calls/all\n",
      "Request Params: {'token': 'e79a7431614546f3b1ec5930ff91015e'}\n",
      "Vexa token: 5faa86ba0dc74b14a78c60c8aa20a014\n",
      "Request URL: http://127.0.0.1:8001/api/v1/calls/all\n",
      "Request Params: {'token': '5faa86ba0dc74b14a78c60c8aa20a014'}\n",
      "Vexa token: 5ce9e6757a7f4ec18ff87c5001787a3c\n",
      "Request URL: http://127.0.0.1:8001/api/v1/calls/all\n",
      "Request Params: {'token': '5ce9e6757a7f4ec18ff87c5001787a3c'}\n",
      "Vexa token: e79a7431614546f3b1ec5930ff91015e\n",
      "Request URL: http://127.0.0.1:8001/api/v1/calls/all\n",
      "Request Params: {'token': 'e79a7431614546f3b1ec5930ff91015e'}\n",
      "Vexa token: 5faa86ba0dc74b14a78c60c8aa20a014\n",
      "Request URL: http://127.0.0.1:8001/api/v1/calls/all\n",
      "Request Params: {'token': '5faa86ba0dc74b14a78c60c8aa20a014'}\n",
      "Vexa token: 5ce9e6757a7f4ec18ff87c5001787a3c\n",
      "Request URL: http://127.0.0.1:8001/api/v1/calls/all\n",
      "Request Params: {'token': '5ce9e6757a7f4ec18ff87c5001787a3c'}\n",
      "Vexa token: e79a7431614546f3b1ec5930ff91015e\n",
      "Request URL: http://127.0.0.1:8001/api/v1/calls/all\n",
      "Request Params: {'token': 'e79a7431614546f3b1ec5930ff91015e'}\n",
      "Vexa token: 5faa86ba0dc74b14a78c60c8aa20a014\n",
      "Request URL: http://127.0.0.1:8001/api/v1/calls/all\n",
      "Request Params: {'token': '5faa86ba0dc74b14a78c60c8aa20a014'}\n",
      "Vexa token: 5ce9e6757a7f4ec18ff87c5001787a3c\n",
      "Request URL: http://127.0.0.1:8001/api/v1/calls/all\n",
      "Request Params: {'token': '5ce9e6757a7f4ec18ff87c5001787a3c'}\n",
      "Vexa token: e79a7431614546f3b1ec5930ff91015e\n",
      "Request URL: http://127.0.0.1:8001/api/v1/calls/all\n",
      "Request Params: {'token': 'e79a7431614546f3b1ec5930ff91015e'}\n",
      "Vexa token: 5faa86ba0dc74b14a78c60c8aa20a014\n",
      "Request URL: http://127.0.0.1:8001/api/v1/calls/all\n",
      "Request Params: {'token': '5faa86ba0dc74b14a78c60c8aa20a014'}\n"
     ]
    }
   ],
   "source": [
    "pipeline = IndexingPipeline()\n",
    "await pipeline.start()\n"
   ]
  },
  {
   "cell_type": "code",
   "execution_count": 6,
   "metadata": {},
   "outputs": [],
   "source": [
    "redis_stats = RedisMonitor(redis)\n"
   ]
  },
  {
   "cell_type": "code",
   "execution_count": 7,
   "metadata": {},
   "outputs": [],
   "source": [
    "#redis_stats.reset_pipeline()"
   ]
  },
  {
   "cell_type": "code",
   "execution_count": 8,
   "metadata": {},
   "outputs": [],
   "source": [
    "monitor = ActiveMeetingsMonitor(redis, VexaAuth())\n",
    "await monitor._collect_active_users()"
   ]
  },
  {
   "cell_type": "code",
   "execution_count": 9,
   "metadata": {},
   "outputs": [
    {
     "data": {
      "text/plain": [
       "{'users': {'count': 3,\n",
       "  'items': ['638129fd-9722-4430-bd1d-cd3f9a0c3dd6',\n",
       "   'd47466b3-fb76-42ea-8ed2-0d05f1a64486',\n",
       "   '8b767b85-44fb-4c20-97df-7aa172242273']},\n",
       " 'meetings': {'queued': {'count': 0, 'items': []},\n",
       "  'processing': {'count': 0, 'items': []},\n",
       "  'failed': {'count': 0, 'items': {}},\n",
       "  'retries': {}}}"
      ]
     },
     "execution_count": 9,
     "metadata": {},
     "output_type": "execute_result"
    }
   ],
   "source": [
    "redis_stats.get_pipeline_stats()"
   ]
  },
  {
   "cell_type": "code",
   "execution_count": 10,
   "metadata": {},
   "outputs": [],
   "source": [
    "\n",
    "self = MeetingsScanner(redis, VexaAuth())\n"
   ]
  },
  {
   "cell_type": "code",
   "execution_count": 11,
   "metadata": {},
   "outputs": [],
   "source": [
    "seen_users = self.redis.smembers(RedisKeys.SEEN_USERS)"
   ]
  },
  {
   "cell_type": "code",
   "execution_count": 12,
   "metadata": {},
   "outputs": [
    {
     "data": {
      "text/plain": [
       "{'638129fd-9722-4430-bd1d-cd3f9a0c3dd6',\n",
       " '8b767b85-44fb-4c20-97df-7aa172242273',\n",
       " 'd47466b3-fb76-42ea-8ed2-0d05f1a64486'}"
      ]
     },
     "execution_count": 12,
     "metadata": {},
     "output_type": "execute_result"
    }
   ],
   "source": [
    "seen_users"
   ]
  },
  {
   "cell_type": "code",
   "execution_count": 13,
   "metadata": {},
   "outputs": [
    {
     "name": "stdout",
     "output_type": "stream",
     "text": [
      "Vexa token: e79a7431614546f3b1ec5930ff91015e\n",
      "Request URL: http://127.0.0.1:8001/api/v1/calls/all\n",
      "Request Params: {'token': 'e79a7431614546f3b1ec5930ff91015e'}\n"
     ]
    }
   ],
   "source": [
    "user_id = list(seen_users)[0]\n",
    "await self._scan_user_meetings(user_id)\n"
   ]
  },
  {
   "cell_type": "code",
   "execution_count": 14,
   "metadata": {},
   "outputs": [
    {
     "data": {
      "text/plain": [
       "{'users': {'count': 3,\n",
       "  'items': ['638129fd-9722-4430-bd1d-cd3f9a0c3dd6',\n",
       "   'd47466b3-fb76-42ea-8ed2-0d05f1a64486',\n",
       "   '8b767b85-44fb-4c20-97df-7aa172242273']},\n",
       " 'meetings': {'queued': {'count': 3,\n",
       "   'items': [{'id': '6fb41ae1-e7ae-4005-9d00-6e6f665bb674',\n",
       "     'score': 1731346871.789839},\n",
       "    {'id': '8d0f7a03-3f3f-4f1e-b1db-3bc9cbbc400b', 'score': 1731346871.790121},\n",
       "    {'id': '6e7334f3-544b-4b0a-a787-cf7299d45579',\n",
       "     'score': 1731346871.790327}]},\n",
       "  'processing': {'count': 0, 'items': []},\n",
       "  'failed': {'count': 0, 'items': {}},\n",
       "  'retries': {}}}"
      ]
     },
     "execution_count": 14,
     "metadata": {},
     "output_type": "execute_result"
    }
   ],
   "source": [
    "redis_stats.get_pipeline_stats()"
   ]
  },
  {
   "cell_type": "code",
   "execution_count": 15,
   "metadata": {},
   "outputs": [
    {
     "name": "stderr",
     "output_type": "stream",
     "text": [
      "/home/dima/anaconda3/envs/langchain/lib/python3.11/site-packages/huggingface_hub/file_download.py:1132: FutureWarning: `resume_download` is deprecated and will be removed in version 1.0.0. Downloads always resume when possible. If you want to force a new download, use `force_download=True`.\n",
      "  warnings.warn(\n"
     ]
    },
    {
     "data": {
      "application/vnd.jupyter.widget-view+json": {
       "model_id": "301d6304ed5c4cf6beb7f99bd2d10b89",
       "version_major": 2,
       "version_minor": 0
      },
      "text/plain": [
       "Fetching 29 files:   0%|          | 0/29 [00:00<?, ?it/s]"
      ]
     },
     "metadata": {},
     "output_type": "display_data"
    }
   ],
   "source": [
    "self = IndexingWorker(redis)"
   ]
  },
  {
   "cell_type": "code",
   "execution_count": 16,
   "metadata": {},
   "outputs": [],
   "source": [
    "next_meetings = self.redis.zrevrange(RedisKeys.INDEXING_QUEUE, 0, 0, withscores=True)"
   ]
  },
  {
   "cell_type": "code",
   "execution_count": 17,
   "metadata": {},
   "outputs": [
    {
     "data": {
      "text/plain": [
       "[('6e7334f3-544b-4b0a-a787-cf7299d45579', 1731346871.790327)]"
      ]
     },
     "execution_count": 17,
     "metadata": {},
     "output_type": "execute_result"
    }
   ],
   "source": [
    "next_meetings"
   ]
  },
  {
   "cell_type": "code",
   "execution_count": 18,
   "metadata": {},
   "outputs": [],
   "source": [
    "meeting_id, score = next_meetings[0]"
   ]
  },
  {
   "cell_type": "code",
   "execution_count": 19,
   "metadata": {},
   "outputs": [
    {
     "data": {
      "text/plain": [
       "0"
      ]
     },
     "execution_count": 19,
     "metadata": {},
     "output_type": "execute_result"
    }
   ],
   "source": [
    "self.redis.sismember(RedisKeys.PROCESSING_SET, meeting_id)"
   ]
  },
  {
   "cell_type": "code",
   "execution_count": 25,
   "metadata": {},
   "outputs": [
    {
     "name": "stdout",
     "output_type": "stream",
     "text": [
      "Vexa token: e79a7431614546f3b1ec5930ff91015e\n",
      "User information retrieved successfully.\n",
      "Model device: cuda:3\n",
      "Model device: cuda:3\n",
      "Model device: cuda:3\n",
      "Model device: cuda:3\n",
      "Model device: cuda:3\n",
      "Model device: cuda:3\n",
      "Model device: cuda:3\n",
      "Model device: cuda:3\n",
      "Model device: cuda:3\n",
      "Model device: cuda:3\n",
      "Model device: cuda:3\n",
      "Model device: cuda:3\n",
      "Model device: cuda:3\n",
      "Model device: cuda:3\n",
      "Model device: cuda:3\n",
      "Model device: cuda:3\n",
      "Model device: cuda:3\n",
      "Model device: cuda:3\n",
      "Model device: cuda:3\n",
      "Model device: cuda:3\n",
      "Model device: cuda:3\n",
      "Model device: cuda:3\n",
      "Model device: cuda:3\n",
      "Model device: cuda:3\n"
     ]
    }
   ],
   "source": [
    "await self._process_meeting(meeting_id)"
   ]
  },
  {
   "cell_type": "code",
   "execution_count": 26,
   "metadata": {},
   "outputs": [
    {
     "data": {
      "text/plain": [
       "{'users': {'count': 3,\n",
       "  'items': ['638129fd-9722-4430-bd1d-cd3f9a0c3dd6',\n",
       "   'd47466b3-fb76-42ea-8ed2-0d05f1a64486',\n",
       "   '8b767b85-44fb-4c20-97df-7aa172242273']},\n",
       " 'meetings': {'queued': {'count': 2,\n",
       "   'items': [{'id': '6fb41ae1-e7ae-4005-9d00-6e6f665bb674',\n",
       "     'score': 1731346871.789839},\n",
       "    {'id': '8d0f7a03-3f3f-4f1e-b1db-3bc9cbbc400b',\n",
       "     'score': 1731346871.790121}]},\n",
       "  'processing': {'count': 0, 'items': []},\n",
       "  'failed': {'count': 0, 'items': {}},\n",
       "  'retries': {}}}"
      ]
     },
     "execution_count": 26,
     "metadata": {},
     "output_type": "execute_result"
    }
   ],
   "source": [
    "redis_stats.get_pipeline_stats()"
   ]
  },
  {
   "cell_type": "code",
   "execution_count": 49,
   "metadata": {},
   "outputs": [
    {
     "data": {
      "text/plain": [
       "{'status': 'reset', 'keys_deleted': 4}"
      ]
     },
     "execution_count": 49,
     "metadata": {},
     "output_type": "execute_result"
    }
   ],
   "source": [
    "redis_stats.reset_pipeline()"
   ]
  },
  {
   "cell_type": "code",
   "execution_count": null,
   "metadata": {},
   "outputs": [],
   "source": []
  }
 ],
 "metadata": {
  "kernelspec": {
   "display_name": "langchain",
   "language": "python",
   "name": "python3"
  },
  "language_info": {
   "codemirror_mode": {
    "name": "ipython",
    "version": 3
   },
   "file_extension": ".py",
   "mimetype": "text/x-python",
   "name": "python",
   "nbconvert_exporter": "python",
   "pygments_lexer": "ipython3",
   "version": "3.11.2"
  }
 },
 "nbformat": 4,
 "nbformat_minor": 2
}
