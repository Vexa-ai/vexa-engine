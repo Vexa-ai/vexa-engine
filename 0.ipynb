{
 "cells": [
  {
   "cell_type": "code",
   "execution_count": 13,
   "metadata": {},
   "outputs": [
    {
     "name": "stdout",
     "output_type": "stream",
     "text": [
      "/app\n"
     ]
    }
   ],
   "source": [
    "import os\n",
    "os.chdir('/app')\n",
    "print(os.getcwd())  # Confirm the change\n"
   ]
  },
  {
   "cell_type": "code",
   "execution_count": 14,
   "metadata": {},
   "outputs": [],
   "source": [
    "from vexa import VexaAPI\n"
   ]
  },
  {
   "cell_type": "code",
   "execution_count": 15,
   "metadata": {},
   "outputs": [
    {
     "name": "stdout",
     "output_type": "stream",
     "text": [
      "Vexa token: 3ae04e20124d40babc5107e658c666b6\n",
      "User information retrieved successfully.\n"
     ]
    },
    {
     "data": {
      "text/plain": [
       "{'id': 'ef7c085b-fdb5-4c94-b7b6-a61a3d04c210',\n",
       " 'email': '2280905@gmail.com',\n",
       " 'is_allowed_send_init_message': True,\n",
       " 'username': 'Dmitriy Grankin',\n",
       " 'first_name': 'Dmitriy',\n",
       " 'last_name': 'Grankin',\n",
       " 'image': 'https://lh3.googleusercontent.com/a/ACg8ocLu4ZPfzj9KFNVqKL3NTF4SXUYvJ4mwoXLuoQ0BZzjw7OBIRA=s96-c',\n",
       " 'created_timestamp': '2024-05-28T11:16:50.894711Z',\n",
       " 'updated_timestamp': '2024-11-19T09:41:13.434442Z'}"
      ]
     },
     "execution_count": 15,
     "metadata": {},
     "output_type": "execute_result"
    }
   ],
   "source": [
    "vexa = VexaAPI()\n",
    "await vexa.get_user_info()"
   ]
  },
  {
   "cell_type": "code",
   "execution_count": 16,
   "metadata": {},
   "outputs": [
    {
     "name": "stdout",
     "output_type": "stream",
     "text": [
      "Request URL: http://host.docker.internal:8001/api/v1/calls/all\n",
      "Request Params: {'token': '3ae04e20124d40babc5107e658c666b6'}\n"
     ]
    },
    {
     "data": {
      "text/html": [
       "<div>\n",
       "<style scoped>\n",
       "    .dataframe tbody tr th:only-of-type {\n",
       "        vertical-align: middle;\n",
       "    }\n",
       "\n",
       "    .dataframe tbody tr th {\n",
       "        vertical-align: top;\n",
       "    }\n",
       "\n",
       "    .dataframe thead th {\n",
       "        text-align: right;\n",
       "    }\n",
       "</style>\n",
       "<table border=\"1\" class=\"dataframe\">\n",
       "  <thead>\n",
       "    <tr style=\"text-align: right;\">\n",
       "      <th></th>\n",
       "      <th>id</th>\n",
       "      <th>title</th>\n",
       "      <th>start_timestamp</th>\n",
       "      <th>finish_timestamp</th>\n",
       "      <th>meeting</th>\n",
       "      <th>speakers</th>\n",
       "    </tr>\n",
       "  </thead>\n",
       "  <tbody>\n",
       "    <tr>\n",
       "      <th>699</th>\n",
       "      <td>7afff477-c0bd-44c1-92c9-75f94ac75d68</td>\n",
       "      <td>call_2024-11-18T20:00:08+00:00</td>\n",
       "      <td>2024-11-18T20:00:08Z</td>\n",
       "      <td>2024-11-18T20:13:40.208000Z</td>\n",
       "      <td>{'id': '612101bb-089d-42d2-8c9f-41d4436dee99',...</td>\n",
       "      <td>[]</td>\n",
       "    </tr>\n",
       "    <tr>\n",
       "      <th>700</th>\n",
       "      <td>b8fee8c4-a4d4-433d-a6bb-0407fc93b1e6</td>\n",
       "      <td>call_2024-11-19T09:38:49+00:00</td>\n",
       "      <td>2024-11-19T09:38:49Z</td>\n",
       "      <td>2024-11-19T09:39:11.384000Z</td>\n",
       "      <td>{'id': 'cc4ca6cc-231f-4f43-8d72-714fc53d4973',...</td>\n",
       "      <td>[]</td>\n",
       "    </tr>\n",
       "    <tr>\n",
       "      <th>701</th>\n",
       "      <td>2aeecf38-313d-490a-b07d-aa95c95ee8ea</td>\n",
       "      <td>call_2024-11-19T09:40:58+00:00</td>\n",
       "      <td>2024-11-19T09:40:58Z</td>\n",
       "      <td>2024-11-19T09:42:09.607999Z</td>\n",
       "      <td>{'id': '65cb31fd-269c-4785-bf02-73da1773ce43',...</td>\n",
       "      <td>[]</td>\n",
       "    </tr>\n",
       "    <tr>\n",
       "      <th>702</th>\n",
       "      <td>71b06f9d-518a-4bf6-98f6-ba3492f918a6</td>\n",
       "      <td>call_2024-11-19T10:01:29+00:00</td>\n",
       "      <td>2024-11-19T10:01:29Z</td>\n",
       "      <td>2024-11-19T10:01:34Z</td>\n",
       "      <td>{'id': 'b93cc478-cdde-4518-8ce4-c00f28638762',...</td>\n",
       "      <td>[]</td>\n",
       "    </tr>\n",
       "    <tr>\n",
       "      <th>703</th>\n",
       "      <td>cb5421b9-1364-49d1-88b4-139a4c145d41</td>\n",
       "      <td>call_2024-11-19T10:08:24+00:00</td>\n",
       "      <td>2024-11-19T10:08:24Z</td>\n",
       "      <td>None</td>\n",
       "      <td>{'id': 'e55a6f4d-6f5c-4fe7-a854-7e1147f94f54',...</td>\n",
       "      <td>[]</td>\n",
       "    </tr>\n",
       "  </tbody>\n",
       "</table>\n",
       "</div>"
      ],
      "text/plain": [
       "                                       id                           title  \\\n",
       "699  7afff477-c0bd-44c1-92c9-75f94ac75d68  call_2024-11-18T20:00:08+00:00   \n",
       "700  b8fee8c4-a4d4-433d-a6bb-0407fc93b1e6  call_2024-11-19T09:38:49+00:00   \n",
       "701  2aeecf38-313d-490a-b07d-aa95c95ee8ea  call_2024-11-19T09:40:58+00:00   \n",
       "702  71b06f9d-518a-4bf6-98f6-ba3492f918a6  call_2024-11-19T10:01:29+00:00   \n",
       "703  cb5421b9-1364-49d1-88b4-139a4c145d41  call_2024-11-19T10:08:24+00:00   \n",
       "\n",
       "          start_timestamp             finish_timestamp  \\\n",
       "699  2024-11-18T20:00:08Z  2024-11-18T20:13:40.208000Z   \n",
       "700  2024-11-19T09:38:49Z  2024-11-19T09:39:11.384000Z   \n",
       "701  2024-11-19T09:40:58Z  2024-11-19T09:42:09.607999Z   \n",
       "702  2024-11-19T10:01:29Z         2024-11-19T10:01:34Z   \n",
       "703  2024-11-19T10:08:24Z                         None   \n",
       "\n",
       "                                               meeting speakers  \n",
       "699  {'id': '612101bb-089d-42d2-8c9f-41d4436dee99',...       []  \n",
       "700  {'id': 'cc4ca6cc-231f-4f43-8d72-714fc53d4973',...       []  \n",
       "701  {'id': '65cb31fd-269c-4785-bf02-73da1773ce43',...       []  \n",
       "702  {'id': 'b93cc478-cdde-4518-8ce4-c00f28638762',...       []  \n",
       "703  {'id': 'e55a6f4d-6f5c-4fe7-a854-7e1147f94f54',...       []  "
      ]
     },
     "execution_count": 16,
     "metadata": {},
     "output_type": "execute_result"
    }
   ],
   "source": [
    "import pandas as pd\n",
    "meetings = await vexa.get_meetings()\n",
    "meetings_df = pd.DataFrame(meetings)\n",
    "meetings_df.tail()\n"
   ]
  },
  {
   "cell_type": "code",
   "execution_count": null,
   "metadata": {},
   "outputs": [],
   "source": []
  },
  {
   "cell_type": "code",
   "execution_count": 16,
   "metadata": {},
   "outputs": [],
   "source": [
    "from indexing.meetings_monitor import MeetingsMonitor"
   ]
  },
  {
   "cell_type": "code",
   "execution_count": 17,
   "metadata": {},
   "outputs": [],
   "source": [
    "self = MeetingsMonitor()"
   ]
  },
  {
   "cell_type": "code",
   "execution_count": 18,
   "metadata": {},
   "outputs": [],
   "source": [
    "from psql_helpers import get_session"
   ]
  },
  {
   "cell_type": "code",
   "execution_count": null,
   "metadata": {},
   "outputs": [],
   "source": []
  },
  {
   "cell_type": "code",
   "execution_count": 12,
   "metadata": {},
   "outputs": [],
   "source": [
    "async with get_session() as session:\n",
    "    max_timestamp = await self._get_stored_max_timestamp(session)\n",
    "    meetings = await self.vexa_auth.get_speech_stats(max_timestamp)\n",
    "    await self.upsert_meetings(meetings)"
   ]
  },
  {
   "cell_type": "code",
   "execution_count": 13,
   "metadata": {},
   "outputs": [
    {
     "data": {
      "text/plain": [
       "datetime.datetime(2024, 11, 15, 11, 41, 34)"
      ]
     },
     "execution_count": 13,
     "metadata": {},
     "output_type": "execute_result"
    }
   ],
   "source": [
    "max_timestamp"
   ]
  },
  {
   "cell_type": "code",
   "execution_count": 8,
   "metadata": {},
   "outputs": [],
   "source": [
    "await monitor.sync_meetings()"
   ]
  },
  {
   "cell_type": "code",
   "execution_count": null,
   "metadata": {},
   "outputs": [],
   "source": [
    "\n",
    "while True:\n",
    "    try:\n",
    "        await monitor.sync_meetings()\n",
    "        await monitor.sync_meetings_queue()\n",
    "        await monitor.print_queue_status()"
   ]
  }
 ],
 "metadata": {
  "kernelspec": {
   "display_name": "Python 3",
   "language": "python",
   "name": "python3"
  },
  "language_info": {
   "codemirror_mode": {
    "name": "ipython",
    "version": 3
   },
   "file_extension": ".py",
   "mimetype": "text/x-python",
   "name": "python",
   "nbconvert_exporter": "python",
   "pygments_lexer": "ipython3",
   "version": "3.11.10"
  }
 },
 "nbformat": 4,
 "nbformat_minor": 2
}
