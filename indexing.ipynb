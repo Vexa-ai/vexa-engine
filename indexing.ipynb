{
 "cells": [
  {
   "cell_type": "code",
   "execution_count": 1,
   "metadata": {},
   "outputs": [
    {
     "name": "stdout",
     "output_type": "stream",
     "text": [
      "User information retrieved successfully.\n"
     ]
    }
   ],
   "source": [
    "%load_ext autoreload\n",
    "%autoreload 2\n",
    "\n",
    "import asyncio\n",
    "import pandas as pd\n",
    "from meeting_search import MeetingSearch, build_context_string\n",
    "from vexa import VexaAPI\n",
    "import pandas as pd\n",
    "\n",
    "# Initialize the VexaAPI\n",
    "vexa = VexaAPI(token='32228beb2a8c44ee845a6a24e8525694')\n",
    "from core import generic_call, system_msg, user_msg\n",
    "from pydantic_models import Summary"
   ]
  },
  {
   "cell_type": "code",
   "execution_count": 2,
   "metadata": {},
   "outputs": [],
   "source": [
    "\n",
    "\n",
    "def create_exploded_points_df(output):\n",
    "    points_data = output[0].model_dump()['points']\n",
    "    df_points = pd.DataFrame(points_data)\n",
    "    df_points = df_points.rename(columns={'c': 'point'})\n",
    "    def create_range(start, end):\n",
    "        return list(range(int(start), int(end) + 1))\n",
    "    df_points['range'] = df_points.apply(lambda row: create_range(row['s'], row['e']), axis=1)\n",
    "    df_exploded = df_points.explode('range')\n",
    "    df_exploded = df_exploded.drop(columns=['s', 'e'])\n",
    "    df_exploded = df_exploded.reset_index(drop=True)\n",
    "    return df_exploded"
   ]
  },
  {
   "cell_type": "code",
   "execution_count": 3,
   "metadata": {},
   "outputs": [],
   "source": [
    "def combine_initials_and_content(group):\n",
    "    combined = group['speaker'].fillna('').astype(str) + ': ' + group['content'].fillna('')\n",
    "\n",
    "\n",
    "    return ' '.join(combined)"
   ]
  },
  {
   "cell_type": "code",
   "execution_count": 4,
   "metadata": {},
   "outputs": [],
   "source": [
    "from prompts import Prompts\n",
    "prompts = Prompts()"
   ]
  },
  {
   "cell_type": "code",
   "execution_count": 5,
   "metadata": {},
   "outputs": [],
   "source": [
    "analyzer = MeetingSearch(gpu_device=3)\n",
    "meetings = vexa.get_meetings()\n",
    "meetings = meetings[-50:]\n"
   ]
  },
  {
   "cell_type": "code",
   "execution_count": 6,
   "metadata": {},
   "outputs": [
    {
     "data": {
      "text/plain": [
       "'fecb31b5-e6b3-4ccd-a275-a25007988aad'"
      ]
     },
     "execution_count": 6,
     "metadata": {},
     "output_type": "execute_result"
    }
   ],
   "source": [
    "vexa.user_id"
   ]
  },
  {
   "cell_type": "code",
   "execution_count": 7,
   "metadata": {},
   "outputs": [
    {
     "data": {
      "text/plain": [
       "'string'"
      ]
     },
     "execution_count": 7,
     "metadata": {},
     "output_type": "execute_result"
    }
   ],
   "source": [
    "vexa.user_name"
   ]
  },
  {
   "cell_type": "code",
   "execution_count": 8,
   "metadata": {},
   "outputs": [],
   "source": [
    "#analyzer.delete_collection()"
   ]
  },
  {
   "cell_type": "code",
   "execution_count": 9,
   "metadata": {},
   "outputs": [
    {
     "name": "stderr",
     "output_type": "stream",
     "text": [
      "/tmp/ipykernel_1860855/1924970825.py:12: DeprecationWarning: DataFrameGroupBy.apply operated on the grouping columns. This behavior is deprecated, and in a future version of pandas the grouping columns will be excluded from the operation. Either pass `include_groups=False` to exclude the groupings or explicitly select the grouping columns after groupby to silence this warning.\n",
      "  points_with_qoutes = joined_df.groupby('point').apply(combine_initials_and_content)\n",
      "/tmp/ipykernel_1860855/1924970825.py:12: DeprecationWarning: DataFrameGroupBy.apply operated on the grouping columns. This behavior is deprecated, and in a future version of pandas the grouping columns will be excluded from the operation. Either pass `include_groups=False` to exclude the groupings or explicitly select the grouping columns after groupby to silence this warning.\n",
      "  points_with_qoutes = joined_df.groupby('point').apply(combine_initials_and_content)\n",
      "/tmp/ipykernel_1860855/1924970825.py:12: DeprecationWarning: DataFrameGroupBy.apply operated on the grouping columns. This behavior is deprecated, and in a future version of pandas the grouping columns will be excluded from the operation. Either pass `include_groups=False` to exclude the groupings or explicitly select the grouping columns after groupby to silence this warning.\n",
      "  points_with_qoutes = joined_df.groupby('point').apply(combine_initials_and_content)\n",
      "/tmp/ipykernel_1860855/1924970825.py:12: DeprecationWarning: DataFrameGroupBy.apply operated on the grouping columns. This behavior is deprecated, and in a future version of pandas the grouping columns will be excluded from the operation. Either pass `include_groups=False` to exclude the groupings or explicitly select the grouping columns after groupby to silence this warning.\n",
      "  points_with_qoutes = joined_df.groupby('point').apply(combine_initials_and_content)\n",
      "/tmp/ipykernel_1860855/1924970825.py:12: DeprecationWarning: DataFrameGroupBy.apply operated on the grouping columns. This behavior is deprecated, and in a future version of pandas the grouping columns will be excluded from the operation. Either pass `include_groups=False` to exclude the groupings or explicitly select the grouping columns after groupby to silence this warning.\n",
      "  points_with_qoutes = joined_df.groupby('point').apply(combine_initials_and_content)\n",
      "/tmp/ipykernel_1860855/1924970825.py:12: DeprecationWarning: DataFrameGroupBy.apply operated on the grouping columns. This behavior is deprecated, and in a future version of pandas the grouping columns will be excluded from the operation. Either pass `include_groups=False` to exclude the groupings or explicitly select the grouping columns after groupby to silence this warning.\n",
      "  points_with_qoutes = joined_df.groupby('point').apply(combine_initials_and_content)\n",
      "/tmp/ipykernel_1860855/1924970825.py:12: DeprecationWarning: DataFrameGroupBy.apply operated on the grouping columns. This behavior is deprecated, and in a future version of pandas the grouping columns will be excluded from the operation. Either pass `include_groups=False` to exclude the groupings or explicitly select the grouping columns after groupby to silence this warning.\n",
      "  points_with_qoutes = joined_df.groupby('point').apply(combine_initials_and_content)\n",
      "/tmp/ipykernel_1860855/1924970825.py:12: DeprecationWarning: DataFrameGroupBy.apply operated on the grouping columns. This behavior is deprecated, and in a future version of pandas the grouping columns will be excluded from the operation. Either pass `include_groups=False` to exclude the groupings or explicitly select the grouping columns after groupby to silence this warning.\n",
      "  points_with_qoutes = joined_df.groupby('point').apply(combine_initials_and_content)\n",
      "/tmp/ipykernel_1860855/1924970825.py:12: DeprecationWarning: DataFrameGroupBy.apply operated on the grouping columns. This behavior is deprecated, and in a future version of pandas the grouping columns will be excluded from the operation. Either pass `include_groups=False` to exclude the groupings or explicitly select the grouping columns after groupby to silence this warning.\n",
      "  points_with_qoutes = joined_df.groupby('point').apply(combine_initials_and_content)\n",
      "/tmp/ipykernel_1860855/1924970825.py:12: DeprecationWarning: DataFrameGroupBy.apply operated on the grouping columns. This behavior is deprecated, and in a future version of pandas the grouping columns will be excluded from the operation. Either pass `include_groups=False` to exclude the groupings or explicitly select the grouping columns after groupby to silence this warning.\n",
      "  points_with_qoutes = joined_df.groupby('point').apply(combine_initials_and_content)\n",
      "/tmp/ipykernel_1860855/1924970825.py:12: DeprecationWarning: DataFrameGroupBy.apply operated on the grouping columns. This behavior is deprecated, and in a future version of pandas the grouping columns will be excluded from the operation. Either pass `include_groups=False` to exclude the groupings or explicitly select the grouping columns after groupby to silence this warning.\n",
      "  points_with_qoutes = joined_df.groupby('point').apply(combine_initials_and_content)\n",
      "/tmp/ipykernel_1860855/1924970825.py:12: DeprecationWarning: DataFrameGroupBy.apply operated on the grouping columns. This behavior is deprecated, and in a future version of pandas the grouping columns will be excluded from the operation. Either pass `include_groups=False` to exclude the groupings or explicitly select the grouping columns after groupby to silence this warning.\n",
      "  points_with_qoutes = joined_df.groupby('point').apply(combine_initials_and_content)\n",
      "/tmp/ipykernel_1860855/1924970825.py:12: DeprecationWarning: DataFrameGroupBy.apply operated on the grouping columns. This behavior is deprecated, and in a future version of pandas the grouping columns will be excluded from the operation. Either pass `include_groups=False` to exclude the groupings or explicitly select the grouping columns after groupby to silence this warning.\n",
      "  points_with_qoutes = joined_df.groupby('point').apply(combine_initials_and_content)\n",
      "/tmp/ipykernel_1860855/1924970825.py:12: DeprecationWarning: DataFrameGroupBy.apply operated on the grouping columns. This behavior is deprecated, and in a future version of pandas the grouping columns will be excluded from the operation. Either pass `include_groups=False` to exclude the groupings or explicitly select the grouping columns after groupby to silence this warning.\n",
      "  points_with_qoutes = joined_df.groupby('point').apply(combine_initials_and_content)\n",
      "/tmp/ipykernel_1860855/1924970825.py:12: DeprecationWarning: DataFrameGroupBy.apply operated on the grouping columns. This behavior is deprecated, and in a future version of pandas the grouping columns will be excluded from the operation. Either pass `include_groups=False` to exclude the groupings or explicitly select the grouping columns after groupby to silence this warning.\n",
      "  points_with_qoutes = joined_df.groupby('point').apply(combine_initials_and_content)\n",
      "/tmp/ipykernel_1860855/1924970825.py:12: DeprecationWarning: DataFrameGroupBy.apply operated on the grouping columns. This behavior is deprecated, and in a future version of pandas the grouping columns will be excluded from the operation. Either pass `include_groups=False` to exclude the groupings or explicitly select the grouping columns after groupby to silence this warning.\n",
      "  points_with_qoutes = joined_df.groupby('point').apply(combine_initials_and_content)\n",
      "/tmp/ipykernel_1860855/1924970825.py:12: DeprecationWarning: DataFrameGroupBy.apply operated on the grouping columns. This behavior is deprecated, and in a future version of pandas the grouping columns will be excluded from the operation. Either pass `include_groups=False` to exclude the groupings or explicitly select the grouping columns after groupby to silence this warning.\n",
      "  points_with_qoutes = joined_df.groupby('point').apply(combine_initials_and_content)\n",
      "/tmp/ipykernel_1860855/1924970825.py:12: DeprecationWarning: DataFrameGroupBy.apply operated on the grouping columns. This behavior is deprecated, and in a future version of pandas the grouping columns will be excluded from the operation. Either pass `include_groups=False` to exclude the groupings or explicitly select the grouping columns after groupby to silence this warning.\n",
      "  points_with_qoutes = joined_df.groupby('point').apply(combine_initials_and_content)\n",
      "/tmp/ipykernel_1860855/1924970825.py:12: DeprecationWarning: DataFrameGroupBy.apply operated on the grouping columns. This behavior is deprecated, and in a future version of pandas the grouping columns will be excluded from the operation. Either pass `include_groups=False` to exclude the groupings or explicitly select the grouping columns after groupby to silence this warning.\n",
      "  points_with_qoutes = joined_df.groupby('point').apply(combine_initials_and_content)\n",
      "/tmp/ipykernel_1860855/1924970825.py:12: DeprecationWarning: DataFrameGroupBy.apply operated on the grouping columns. This behavior is deprecated, and in a future version of pandas the grouping columns will be excluded from the operation. Either pass `include_groups=False` to exclude the groupings or explicitly select the grouping columns after groupby to silence this warning.\n",
      "  points_with_qoutes = joined_df.groupby('point').apply(combine_initials_and_content)\n",
      "/tmp/ipykernel_1860855/1924970825.py:12: DeprecationWarning: DataFrameGroupBy.apply operated on the grouping columns. This behavior is deprecated, and in a future version of pandas the grouping columns will be excluded from the operation. Either pass `include_groups=False` to exclude the groupings or explicitly select the grouping columns after groupby to silence this warning.\n",
      "  points_with_qoutes = joined_df.groupby('point').apply(combine_initials_and_content)\n",
      "/tmp/ipykernel_1860855/1924970825.py:12: DeprecationWarning: DataFrameGroupBy.apply operated on the grouping columns. This behavior is deprecated, and in a future version of pandas the grouping columns will be excluded from the operation. Either pass `include_groups=False` to exclude the groupings or explicitly select the grouping columns after groupby to silence this warning.\n",
      "  points_with_qoutes = joined_df.groupby('point').apply(combine_initials_and_content)\n",
      "/tmp/ipykernel_1860855/1924970825.py:12: DeprecationWarning: DataFrameGroupBy.apply operated on the grouping columns. This behavior is deprecated, and in a future version of pandas the grouping columns will be excluded from the operation. Either pass `include_groups=False` to exclude the groupings or explicitly select the grouping columns after groupby to silence this warning.\n",
      "  points_with_qoutes = joined_df.groupby('point').apply(combine_initials_and_content)\n",
      "/tmp/ipykernel_1860855/1924970825.py:12: DeprecationWarning: DataFrameGroupBy.apply operated on the grouping columns. This behavior is deprecated, and in a future version of pandas the grouping columns will be excluded from the operation. Either pass `include_groups=False` to exclude the groupings or explicitly select the grouping columns after groupby to silence this warning.\n",
      "  points_with_qoutes = joined_df.groupby('point').apply(combine_initials_and_content)\n",
      "/tmp/ipykernel_1860855/1924970825.py:12: DeprecationWarning: DataFrameGroupBy.apply operated on the grouping columns. This behavior is deprecated, and in a future version of pandas the grouping columns will be excluded from the operation. Either pass `include_groups=False` to exclude the groupings or explicitly select the grouping columns after groupby to silence this warning.\n",
      "  points_with_qoutes = joined_df.groupby('point').apply(combine_initials_and_content)\n",
      "/tmp/ipykernel_1860855/1924970825.py:12: DeprecationWarning: DataFrameGroupBy.apply operated on the grouping columns. This behavior is deprecated, and in a future version of pandas the grouping columns will be excluded from the operation. Either pass `include_groups=False` to exclude the groupings or explicitly select the grouping columns after groupby to silence this warning.\n",
      "  points_with_qoutes = joined_df.groupby('point').apply(combine_initials_and_content)\n",
      "/tmp/ipykernel_1860855/1924970825.py:12: DeprecationWarning: DataFrameGroupBy.apply operated on the grouping columns. This behavior is deprecated, and in a future version of pandas the grouping columns will be excluded from the operation. Either pass `include_groups=False` to exclude the groupings or explicitly select the grouping columns after groupby to silence this warning.\n",
      "  points_with_qoutes = joined_df.groupby('point').apply(combine_initials_and_content)\n",
      "/tmp/ipykernel_1860855/1924970825.py:12: DeprecationWarning: DataFrameGroupBy.apply operated on the grouping columns. This behavior is deprecated, and in a future version of pandas the grouping columns will be excluded from the operation. Either pass `include_groups=False` to exclude the groupings or explicitly select the grouping columns after groupby to silence this warning.\n",
      "  points_with_qoutes = joined_df.groupby('point').apply(combine_initials_and_content)\n",
      "/tmp/ipykernel_1860855/1924970825.py:12: DeprecationWarning: DataFrameGroupBy.apply operated on the grouping columns. This behavior is deprecated, and in a future version of pandas the grouping columns will be excluded from the operation. Either pass `include_groups=False` to exclude the groupings or explicitly select the grouping columns after groupby to silence this warning.\n",
      "  points_with_qoutes = joined_df.groupby('point').apply(combine_initials_and_content)\n",
      "/tmp/ipykernel_1860855/1924970825.py:12: DeprecationWarning: DataFrameGroupBy.apply operated on the grouping columns. This behavior is deprecated, and in a future version of pandas the grouping columns will be excluded from the operation. Either pass `include_groups=False` to exclude the groupings or explicitly select the grouping columns after groupby to silence this warning.\n",
      "  points_with_qoutes = joined_df.groupby('point').apply(combine_initials_and_content)\n",
      "/tmp/ipykernel_1860855/1924970825.py:12: DeprecationWarning: DataFrameGroupBy.apply operated on the grouping columns. This behavior is deprecated, and in a future version of pandas the grouping columns will be excluded from the operation. Either pass `include_groups=False` to exclude the groupings or explicitly select the grouping columns after groupby to silence this warning.\n",
      "  points_with_qoutes = joined_df.groupby('point').apply(combine_initials_and_content)\n",
      "/tmp/ipykernel_1860855/1924970825.py:12: DeprecationWarning: DataFrameGroupBy.apply operated on the grouping columns. This behavior is deprecated, and in a future version of pandas the grouping columns will be excluded from the operation. Either pass `include_groups=False` to exclude the groupings or explicitly select the grouping columns after groupby to silence this warning.\n",
      "  points_with_qoutes = joined_df.groupby('point').apply(combine_initials_and_content)\n",
      "/tmp/ipykernel_1860855/1924970825.py:12: DeprecationWarning: DataFrameGroupBy.apply operated on the grouping columns. This behavior is deprecated, and in a future version of pandas the grouping columns will be excluded from the operation. Either pass `include_groups=False` to exclude the groupings or explicitly select the grouping columns after groupby to silence this warning.\n",
      "  points_with_qoutes = joined_df.groupby('point').apply(combine_initials_and_content)\n",
      "/tmp/ipykernel_1860855/1924970825.py:12: DeprecationWarning: DataFrameGroupBy.apply operated on the grouping columns. This behavior is deprecated, and in a future version of pandas the grouping columns will be excluded from the operation. Either pass `include_groups=False` to exclude the groupings or explicitly select the grouping columns after groupby to silence this warning.\n",
      "  points_with_qoutes = joined_df.groupby('point').apply(combine_initials_and_content)\n",
      "/tmp/ipykernel_1860855/1924970825.py:12: DeprecationWarning: DataFrameGroupBy.apply operated on the grouping columns. This behavior is deprecated, and in a future version of pandas the grouping columns will be excluded from the operation. Either pass `include_groups=False` to exclude the groupings or explicitly select the grouping columns after groupby to silence this warning.\n",
      "  points_with_qoutes = joined_df.groupby('point').apply(combine_initials_and_content)\n",
      "/tmp/ipykernel_1860855/1924970825.py:12: DeprecationWarning: DataFrameGroupBy.apply operated on the grouping columns. This behavior is deprecated, and in a future version of pandas the grouping columns will be excluded from the operation. Either pass `include_groups=False` to exclude the groupings or explicitly select the grouping columns after groupby to silence this warning.\n",
      "  points_with_qoutes = joined_df.groupby('point').apply(combine_initials_and_content)\n",
      "/tmp/ipykernel_1860855/1924970825.py:12: DeprecationWarning: DataFrameGroupBy.apply operated on the grouping columns. This behavior is deprecated, and in a future version of pandas the grouping columns will be excluded from the operation. Either pass `include_groups=False` to exclude the groupings or explicitly select the grouping columns after groupby to silence this warning.\n",
      "  points_with_qoutes = joined_df.groupby('point').apply(combine_initials_and_content)\n",
      "/tmp/ipykernel_1860855/1924970825.py:12: DeprecationWarning: DataFrameGroupBy.apply operated on the grouping columns. This behavior is deprecated, and in a future version of pandas the grouping columns will be excluded from the operation. Either pass `include_groups=False` to exclude the groupings or explicitly select the grouping columns after groupby to silence this warning.\n",
      "  points_with_qoutes = joined_df.groupby('point').apply(combine_initials_and_content)\n",
      "/tmp/ipykernel_1860855/1924970825.py:12: DeprecationWarning: DataFrameGroupBy.apply operated on the grouping columns. This behavior is deprecated, and in a future version of pandas the grouping columns will be excluded from the operation. Either pass `include_groups=False` to exclude the groupings or explicitly select the grouping columns after groupby to silence this warning.\n",
      "  points_with_qoutes = joined_df.groupby('point').apply(combine_initials_and_content)\n",
      "/tmp/ipykernel_1860855/1924970825.py:12: DeprecationWarning: DataFrameGroupBy.apply operated on the grouping columns. This behavior is deprecated, and in a future version of pandas the grouping columns will be excluded from the operation. Either pass `include_groups=False` to exclude the groupings or explicitly select the grouping columns after groupby to silence this warning.\n",
      "  points_with_qoutes = joined_df.groupby('point').apply(combine_initials_and_content)\n",
      "/tmp/ipykernel_1860855/1924970825.py:12: DeprecationWarning: DataFrameGroupBy.apply operated on the grouping columns. This behavior is deprecated, and in a future version of pandas the grouping columns will be excluded from the operation. Either pass `include_groups=False` to exclude the groupings or explicitly select the grouping columns after groupby to silence this warning.\n",
      "  points_with_qoutes = joined_df.groupby('point').apply(combine_initials_and_content)\n",
      "/tmp/ipykernel_1860855/1924970825.py:12: DeprecationWarning: DataFrameGroupBy.apply operated on the grouping columns. This behavior is deprecated, and in a future version of pandas the grouping columns will be excluded from the operation. Either pass `include_groups=False` to exclude the groupings or explicitly select the grouping columns after groupby to silence this warning.\n",
      "  points_with_qoutes = joined_df.groupby('point').apply(combine_initials_and_content)\n",
      "/tmp/ipykernel_1860855/1924970825.py:12: DeprecationWarning: DataFrameGroupBy.apply operated on the grouping columns. This behavior is deprecated, and in a future version of pandas the grouping columns will be excluded from the operation. Either pass `include_groups=False` to exclude the groupings or explicitly select the grouping columns after groupby to silence this warning.\n",
      "  points_with_qoutes = joined_df.groupby('point').apply(combine_initials_and_content)\n",
      "/tmp/ipykernel_1860855/1924970825.py:12: DeprecationWarning: DataFrameGroupBy.apply operated on the grouping columns. This behavior is deprecated, and in a future version of pandas the grouping columns will be excluded from the operation. Either pass `include_groups=False` to exclude the groupings or explicitly select the grouping columns after groupby to silence this warning.\n",
      "  points_with_qoutes = joined_df.groupby('point').apply(combine_initials_and_content)\n",
      "/tmp/ipykernel_1860855/1924970825.py:12: DeprecationWarning: DataFrameGroupBy.apply operated on the grouping columns. This behavior is deprecated, and in a future version of pandas the grouping columns will be excluded from the operation. Either pass `include_groups=False` to exclude the groupings or explicitly select the grouping columns after groupby to silence this warning.\n",
      "  points_with_qoutes = joined_df.groupby('point').apply(combine_initials_and_content)\n",
      "/tmp/ipykernel_1860855/1924970825.py:12: DeprecationWarning: DataFrameGroupBy.apply operated on the grouping columns. This behavior is deprecated, and in a future version of pandas the grouping columns will be excluded from the operation. Either pass `include_groups=False` to exclude the groupings or explicitly select the grouping columns after groupby to silence this warning.\n",
      "  points_with_qoutes = joined_df.groupby('point').apply(combine_initials_and_content)\n",
      "/tmp/ipykernel_1860855/1924970825.py:12: DeprecationWarning: DataFrameGroupBy.apply operated on the grouping columns. This behavior is deprecated, and in a future version of pandas the grouping columns will be excluded from the operation. Either pass `include_groups=False` to exclude the groupings or explicitly select the grouping columns after groupby to silence this warning.\n",
      "  points_with_qoutes = joined_df.groupby('point').apply(combine_initials_and_content)\n"
     ]
    }
   ],
   "source": [
    "for meeting in meetings:\n",
    "    if meeting['finish_timestamp']:\n",
    "        meeting_id = meeting['id']\n",
    "        if not analyzer.check_meeting_session_id_exists(meeting_id):\n",
    "            result = vexa.get_transcription(meeting_session_id=meeting_id,use_index=True)\n",
    "            if result:\n",
    "                df, formatted_input, start_datetime, speakers = result\n",
    "                output = await Summary.call([system_msg(prompts.think+ prompts.summarize_meeting+ '.The User: '+ vexa.user_name),user_msg(formatted_input)],model='gpt-4o-mini')\n",
    "                df_exploded = create_exploded_points_df(output)\n",
    "                joined_df = df_exploded.join(df, on='range', rsuffix='_transcript')\n",
    "\n",
    "                points_with_qoutes = joined_df.groupby('point').apply(combine_initials_and_content)\n",
    "                points_with_qoutes.name = 'qoutes'\n",
    "                points_with_qoutes = points_with_qoutes.reset_index().to_dict(orient='records')\n",
    "                summary = output[0].summary\n",
    "                meeting_name = output[0].meeting_name\n",
    "                \n",
    "                if points_with_qoutes:\n",
    "                    chunks = [f\"{summary}\\n\\n{p['point']}\\n\\n{p['qoutes']}\" for p in points_with_qoutes]\n",
    "                    points = [p['point'] for p in points_with_qoutes]\n",
    "                    qoutes = [p['qoutes'] for p in points_with_qoutes]\n",
    "                    await analyzer.add_summary(meeting_name, summary, start_datetime, speakers, meeting_id,vexa.user_id,vexa.user_name)\n",
    "                    await analyzer.update_vectorstore_with_qoutes(chunks, points, qoutes, start_datetime, speakers, meeting_id,vexa.user_id,vexa.user_name)\n"
   ]
  },
  {
   "cell_type": "code",
   "execution_count": null,
   "metadata": {},
   "outputs": [],
   "source": []
  }
 ],
 "metadata": {
  "kernelspec": {
   "display_name": "langchain",
   "language": "python",
   "name": "langchain"
  },
  "language_info": {
   "codemirror_mode": {
    "name": "ipython",
    "version": 3
   },
   "file_extension": ".py",
   "mimetype": "text/x-python",
   "name": "python",
   "nbconvert_exporter": "python",
   "pygments_lexer": "ipython3",
   "version": "3.11.2"
  }
 },
 "nbformat": 4,
 "nbformat_minor": 2
}
