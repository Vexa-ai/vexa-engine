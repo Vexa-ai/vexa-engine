{
 "cells": [
  {
   "cell_type": "code",
   "execution_count": 1,
   "metadata": {},
   "outputs": [],
   "source": [
    "%load_ext autoreload\n",
    "%autoreload 2"
   ]
  },
  {
   "cell_type": "code",
   "execution_count": 2,
   "metadata": {},
   "outputs": [],
   "source": [
    "#python setup_database.py & python setup_qdrant.py & python setup_elastic.py & python setup_redis.py"
   ]
  },
  {
   "cell_type": "code",
   "execution_count": 3,
   "metadata": {},
   "outputs": [],
   "source": [
    "import sys\n",
    "sys.path.append('/app')"
   ]
  },
  {
   "cell_type": "code",
   "execution_count": 4,
   "metadata": {},
   "outputs": [],
   "source": [
    "\n",
    "from api_client import APIClient\n",
    "from uuid import UUID\n",
    "import asyncio\n",
    "from datetime import datetime, timedelta"
   ]
  },
  {
   "cell_type": "code",
   "execution_count": 5,
   "metadata": {},
   "outputs": [],
   "source": [
    "\n",
    "client = await APIClient.create(email=\"dmitrygrankin0@gmail.com\")"
   ]
  },
  {
   "cell_type": "code",
   "execution_count": null,
   "metadata": {},
   "outputs": [
    {
     "data": {
      "text/plain": [
       "<api_client.APIClient at 0x7f8efccd7950>"
      ]
     },
     "execution_count": 6,
     "metadata": {},
     "output_type": "execute_result"
    }
   ],
   "source": [
    "client"
   ]
  },
  {
   "cell_type": "code",
   "execution_count": 7,
   "metadata": {},
   "outputs": [],
   "source": [
    "\n",
    "# Auth examples\n",
    "#auth_result = await client.google_auth(\"google_token_here\", {\"utm_source\": \"web\"})\n",
    "\n"
   ]
  },
  {
   "cell_type": "code",
   "execution_count": 8,
   "metadata": {},
   "outputs": [],
   "source": [
    "#token_result = await client.submit_token(\"918c9f3899d54f3bbcf445cd053c2304\")\n",
    "    \n"
   ]
  },
  {
   "cell_type": "markdown",
   "metadata": {},
   "source": [
    "### Contents"
   ]
  },
  {
   "cell_type": "code",
   "execution_count": 9,
   "metadata": {},
   "outputs": [],
   "source": [
    "contents = await client.get_contents(\n",
    "    only_archived=False,\n",
    "    offset=0,\n",
    "    limit=20\n",
    ")"
   ]
  },
  {
   "cell_type": "code",
   "execution_count": 10,
   "metadata": {},
   "outputs": [
    {
     "data": {
      "text/plain": [
       "{'total': 166,\n",
       " 'contents': [{'content_id': '0349a69c-8028-49e5-8d20-7906e4e1d5dd',\n",
       "   'type': 'meeting',\n",
       "   'text': None,\n",
       "   'timestamp': '2024-09-05T09:16:22',\n",
       "   'is_indexed': True,\n",
       "   'is_owner': True,\n",
       "   'access_level': 'owner',\n",
       "   'entities': []},\n",
       "  {'content_id': '048c81b0-359c-463f-8159-4ccbca8bf185',\n",
       "   'type': 'meeting',\n",
       "   'text': None,\n",
       "   'timestamp': '2025-01-28T10:44:41',\n",
       "   'is_indexed': True,\n",
       "   'is_owner': True,\n",
       "   'access_level': 'owner',\n",
       "   'entities': []},\n",
       "  {'content_id': '05016b38-185d-4bb9-9ccf-2352775a4522',\n",
       "   'type': 'meeting',\n",
       "   'text': None,\n",
       "   'timestamp': '2024-11-08T20:33:54',\n",
       "   'is_indexed': True,\n",
       "   'is_owner': True,\n",
       "   'access_level': 'owner',\n",
       "   'entities': []},\n",
       "  {'content_id': '07e1c53a-5157-4cfb-9a56-7672ad3482d9',\n",
       "   'type': 'meeting',\n",
       "   'text': None,\n",
       "   'timestamp': '2025-01-14T18:31:55',\n",
       "   'is_indexed': True,\n",
       "   'is_owner': True,\n",
       "   'access_level': 'owner',\n",
       "   'entities': []},\n",
       "  {'content_id': '080975d2-7261-4ee1-83d5-556408ff8509',\n",
       "   'type': 'meeting',\n",
       "   'text': None,\n",
       "   'timestamp': '2024-08-08T17:56:43.635769',\n",
       "   'is_indexed': True,\n",
       "   'is_owner': True,\n",
       "   'access_level': 'owner',\n",
       "   'entities': [{'name': 'click to name speaker', 'type': 'speaker'}]},\n",
       "  {'content_id': '084fe1ba-054b-42ec-aebe-3fe1e10cd6a0',\n",
       "   'type': 'meeting',\n",
       "   'text': None,\n",
       "   'timestamp': '2024-07-20T17:27:29.586532',\n",
       "   'is_indexed': True,\n",
       "   'is_owner': True,\n",
       "   'access_level': 'owner',\n",
       "   'entities': [{'name': 'Majestic Paladin', 'type': 'speaker'}]},\n",
       "  {'content_id': '0feb9441-1b51-49d8-ae23-66b497fede30',\n",
       "   'type': 'meeting',\n",
       "   'text': None,\n",
       "   'timestamp': '2024-11-10T14:38:36',\n",
       "   'is_indexed': True,\n",
       "   'is_owner': True,\n",
       "   'access_level': 'owner',\n",
       "   'entities': []},\n",
       "  {'content_id': '11c24ee8-5fb3-423a-b257-6cb6a2cb5661',\n",
       "   'type': 'meeting',\n",
       "   'text': None,\n",
       "   'timestamp': '2025-01-30T11:31:19',\n",
       "   'is_indexed': True,\n",
       "   'is_owner': True,\n",
       "   'access_level': 'owner',\n",
       "   'entities': []},\n",
       "  {'content_id': '12b17577-2e4a-4940-a0b4-98f527c32cff',\n",
       "   'type': 'meeting',\n",
       "   'text': None,\n",
       "   'timestamp': '2024-06-14T09:21:16.301179',\n",
       "   'is_indexed': True,\n",
       "   'is_owner': True,\n",
       "   'access_level': 'owner',\n",
       "   'entities': [{'name': 'Arcane Spider', 'type': 'speaker'}]},\n",
       "  {'content_id': '15bb5fe2-cb32-408e-a079-8973a3008899',\n",
       "   'type': 'meeting',\n",
       "   'text': None,\n",
       "   'timestamp': '2024-12-29T21:57:59',\n",
       "   'is_indexed': True,\n",
       "   'is_owner': True,\n",
       "   'access_level': 'owner',\n",
       "   'entities': []},\n",
       "  {'content_id': '1606cc0b-a20f-468e-b454-040e43561148',\n",
       "   'type': 'meeting',\n",
       "   'text': None,\n",
       "   'timestamp': '2024-11-30T11:31:23',\n",
       "   'is_indexed': True,\n",
       "   'is_owner': True,\n",
       "   'access_level': 'owner',\n",
       "   'entities': [{'name': 'Dmitriy Grankin', 'type': 'speaker'}]},\n",
       "  {'content_id': '16dbbda4-dcdb-4e04-bb2e-11cebe10795a',\n",
       "   'type': 'meeting',\n",
       "   'text': None,\n",
       "   'timestamp': '2024-07-30T09:19:45.520098',\n",
       "   'is_indexed': True,\n",
       "   'is_owner': True,\n",
       "   'access_level': 'owner',\n",
       "   'entities': [{'name': 'Arcane Spider', 'type': 'speaker'}]},\n",
       "  {'content_id': '17c5b993-999a-4380-95ef-ffe0c9c35c5f',\n",
       "   'type': 'note',\n",
       "   'text': 'Sample content text',\n",
       "   'timestamp': '2025-02-03T10:46:07.817587',\n",
       "   'is_indexed': False,\n",
       "   'is_owner': True,\n",
       "   'access_level': 'owner',\n",
       "   'entities': [{'name': 'test', 'type': 'tag'}]},\n",
       "  {'content_id': '1a920cac-1ea1-418a-a70b-0ed85279728a',\n",
       "   'type': 'meeting',\n",
       "   'text': None,\n",
       "   'timestamp': '2024-07-13T12:17:59.196785',\n",
       "   'is_indexed': True,\n",
       "   'is_owner': True,\n",
       "   'access_level': 'owner',\n",
       "   'entities': [{'name': 'Daring Siren', 'type': 'speaker'}]},\n",
       "  {'content_id': '1b285f09-8a7b-44f3-970f-87062246b625',\n",
       "   'type': 'meeting',\n",
       "   'text': None,\n",
       "   'timestamp': '2025-01-19T18:55:32',\n",
       "   'is_indexed': True,\n",
       "   'is_owner': True,\n",
       "   'access_level': 'owner',\n",
       "   'entities': [{'name': 'Dmitriy Grankin', 'type': 'speaker'}]},\n",
       "  {'content_id': '1d5587f4-d88d-44a6-88ee-bfaf3e875c8e',\n",
       "   'type': 'meeting',\n",
       "   'text': None,\n",
       "   'timestamp': '2024-09-23T09:18:34',\n",
       "   'is_indexed': True,\n",
       "   'is_owner': True,\n",
       "   'access_level': 'owner',\n",
       "   'entities': []},\n",
       "  {'content_id': '1eaed067-e127-4c9c-9f3b-b9b3e1c68455',\n",
       "   'type': 'meeting',\n",
       "   'text': None,\n",
       "   'timestamp': '2024-06-22T09:04:24.566827',\n",
       "   'is_indexed': True,\n",
       "   'is_owner': True,\n",
       "   'access_level': 'owner',\n",
       "   'entities': [{'name': 'Enigmatic Vanguard', 'type': 'speaker'}]},\n",
       "  {'content_id': '20394eb9-cfa2-4c71-821a-d94e5ca33fdc',\n",
       "   'type': 'meeting',\n",
       "   'text': None,\n",
       "   'timestamp': '2025-01-17T10:19:27',\n",
       "   'is_indexed': True,\n",
       "   'is_owner': True,\n",
       "   'access_level': 'owner',\n",
       "   'entities': []},\n",
       "  {'content_id': '20a32d58-ff01-4511-a911-d40efa729d38',\n",
       "   'type': 'meeting',\n",
       "   'text': None,\n",
       "   'timestamp': '2024-06-21T13:12:36.325547',\n",
       "   'is_indexed': True,\n",
       "   'is_owner': True,\n",
       "   'access_level': 'owner',\n",
       "   'entities': []},\n",
       "  {'content_id': '210015cf-6540-43ff-a2cb-71f9ec03c5e8',\n",
       "   'type': 'meeting',\n",
       "   'text': None,\n",
       "   'timestamp': '2024-12-13T10:16:34',\n",
       "   'is_indexed': True,\n",
       "   'is_owner': True,\n",
       "   'access_level': 'owner',\n",
       "   'entities': []}]}"
      ]
     },
     "execution_count": 10,
     "metadata": {},
     "output_type": "execute_result"
    }
   ],
   "source": [
    "contents"
   ]
  },
  {
   "cell_type": "code",
   "execution_count": 11,
   "metadata": {},
   "outputs": [],
   "source": [
    "# Add new content\n",
    "content = await client.add_content(\n",
    "    body=\"Sample content text\",\n",
    "    content_type=\"note\",\n",
    "    entities=[{\"type\": \"tag\", \"name\": \"test\"}]\n",
    ")\n"
   ]
  },
  {
   "cell_type": "code",
   "execution_count": 12,
   "metadata": {},
   "outputs": [],
   "source": [
    "content_id = content[\"content_id\"]"
   ]
  },
  {
   "cell_type": "code",
   "execution_count": 13,
   "metadata": {},
   "outputs": [],
   "source": [
    "content_id = '0349a69c-8028-49e5-8d20-7906e4e1d5dd'"
   ]
  },
  {
   "cell_type": "code",
   "execution_count": 14,
   "metadata": {},
   "outputs": [
    {
     "data": {
      "text/plain": [
       "{'content_id': '0349a69c-8028-49e5-8d20-7906e4e1d5dd',\n",
       " 'type': 'meeting',\n",
       " 'text': \"Meeting Metadata:\\nStart Date and Time: 2024-09-05 09:31:44\\nSpeakers (Always  reference the names EXACTLY as provided with NO changes letter by letter):\\n\\nMeeting Transcript:\\n\\n(0): :  It takes a while, but it works, so...\\n(1): :  should be something that's not entirely correct yeah or absolutely incorrect uh no like all the\\n(2): :  requests are pending for up to yeah they they resolved like uh four minutes four minutes per\",\n",
       " 'timestamp': '2024-09-05T09:16:22',\n",
       " 'is_indexed': True,\n",
       " 'access_level': 'owner',\n",
       " 'is_owner': True,\n",
       " 'entities': [],\n",
       " 'parent_id': None,\n",
       " 'meta': None}"
      ]
     },
     "execution_count": 14,
     "metadata": {},
     "output_type": "execute_result"
    }
   ],
   "source": [
    "\n",
    "# Get single content\n",
    "single_content = await client.get_content(content_id)\n",
    "single_content"
   ]
  },
  {
   "cell_type": "code",
   "execution_count": 77,
   "metadata": {},
   "outputs": [],
   "source": [
    "# Modify content\n",
    "modified = await client.modify_content(\n",
    "    content_id,\n",
    "    body=\"Updated content text\",\n",
    "    entities=[{\"type\": \"speaker\", \"name\": \"Jane Doe\"}]\n",
    ")\n"
   ]
  },
  {
   "cell_type": "code",
   "execution_count": 78,
   "metadata": {},
   "outputs": [
    {
     "data": {
      "text/plain": [
       "{'success': True}"
      ]
     },
     "execution_count": 78,
     "metadata": {},
     "output_type": "execute_result"
    }
   ],
   "source": [
    "modified"
   ]
  },
  {
   "cell_type": "code",
   "execution_count": 79,
   "metadata": {},
   "outputs": [
    {
     "data": {
      "text/plain": [
       "{'content_id': 'a7ab7b39-ed6a-429e-988f-00191e477c69',\n",
       " 'type': 'note',\n",
       " 'text': 'Updated content text',\n",
       " 'timestamp': '2025-01-28T19:24:33.833424',\n",
       " 'is_indexed': False,\n",
       " 'access_level': 'owner',\n",
       " 'is_owner': True,\n",
       " 'entities': [{'name': 'Jane Doe', 'type': 'speaker'}],\n",
       " 'parent_id': None,\n",
       " 'meta': None}"
      ]
     },
     "execution_count": 79,
     "metadata": {},
     "output_type": "execute_result"
    }
   ],
   "source": [
    "# Get single content\n",
    "single_content = await client.get_content(content_id)\n",
    "single_content\n",
    "\n"
   ]
  },
  {
   "cell_type": "code",
   "execution_count": 80,
   "metadata": {},
   "outputs": [],
   "source": [
    "archived = await client.archive_content(content_id)"
   ]
  },
  {
   "cell_type": "code",
   "execution_count": 81,
   "metadata": {},
   "outputs": [
    {
     "data": {
      "text/plain": [
       "{'success': True}"
      ]
     },
     "execution_count": 81,
     "metadata": {},
     "output_type": "execute_result"
    }
   ],
   "source": [
    "archived"
   ]
  },
  {
   "cell_type": "code",
   "execution_count": 82,
   "metadata": {},
   "outputs": [
    {
     "data": {
      "text/plain": [
       "UUID('a7ab7b39-ed6a-429e-988f-00191e477c69')"
      ]
     },
     "execution_count": 82,
     "metadata": {},
     "output_type": "execute_result"
    }
   ],
   "source": [
    "content_id"
   ]
  },
  {
   "cell_type": "code",
   "execution_count": 83,
   "metadata": {},
   "outputs": [
    {
     "name": "stdout",
     "output_type": "stream",
     "text": [
      "Content not found or no access\n"
     ]
    }
   ],
   "source": [
    "try:\n",
    "    single_content = await client.get_content(content_id)\n",
    "except Exception as e:\n",
    "    print(e)\n",
    "\n",
    "\n",
    "#OK - content unavailable after archive"
   ]
  },
  {
   "cell_type": "code",
   "execution_count": 84,
   "metadata": {},
   "outputs": [
    {
     "data": {
      "text/plain": [
       "{'content_id': 'a7ab7b39-ed6a-429e-988f-00191e477c69',\n",
       " 'type': 'note',\n",
       " 'text': 'Updated content text',\n",
       " 'timestamp': '2025-01-28T19:24:33.833424',\n",
       " 'is_indexed': False,\n",
       " 'access_level': 'owner',\n",
       " 'is_owner': True,\n",
       " 'entities': [{'name': 'Jane Doe', 'type': 'speaker'}],\n",
       " 'parent_id': None,\n",
       " 'meta': None}"
      ]
     },
     "execution_count": 84,
     "metadata": {},
     "output_type": "execute_result"
    }
   ],
   "source": [
    "restored = await client.restore_content(content_id)\n",
    "single_content = await client.get_content(content_id)\n",
    "single_content"
   ]
  },
  {
   "cell_type": "code",
   "execution_count": 85,
   "metadata": {},
   "outputs": [
    {
     "name": "stdout",
     "output_type": "stream",
     "text": [
      "Content not found or no access\n"
     ]
    }
   ],
   "source": [
    "\n",
    "try:\n",
    "    deleted = await client.delete_content(content_id)\n",
    "except Exception as e:\n",
    "    print(e)\n",
    "try:\n",
    "    single_content = await client.get_content(content_id)\n",
    "except Exception as e:\n",
    "    print(e)\n",
    "    \n",
    "#OK - content unavailable after delete"
   ]
  },
  {
   "cell_type": "code",
   "execution_count": 86,
   "metadata": {},
   "outputs": [
    {
     "name": "stdout",
     "output_type": "stream",
     "text": [
      "Content not found or not archived\n"
     ]
    }
   ],
   "source": [
    "\n",
    "try:\n",
    "    restored = await client.restore_content(content_id)\n",
    "except Exception as e:\n",
    "    print(e)\n",
    "try:\n",
    "    single_content = await client.get_content(content_id)\n",
    "except Exception as e:\n",
    "    print(e)\n",
    "\n",
    "#OK - content unavailable after delete"
   ]
  },
  {
   "cell_type": "code",
   "execution_count": 87,
   "metadata": {},
   "outputs": [
    {
     "data": {
      "text/plain": [
       "{'content_id': 'fc55550a-ad9b-46e9-b084-de2daa56e59b'}"
      ]
     },
     "execution_count": 87,
     "metadata": {},
     "output_type": "execute_result"
    }
   ],
   "source": [
    "# Add new content\n",
    "content = await client.add_content(\n",
    "    body=\"Sample content text\",\n",
    "    content_type=\"note\",\n",
    "    entities=[{\"type\": \"speaker\", \"name\": \"John Doe\"}]\n",
    ")\n",
    "content"
   ]
  },
  {
   "cell_type": "code",
   "execution_count": 88,
   "metadata": {},
   "outputs": [],
   "source": [
    "# Sharing\n",
    "share_link = await client.create_share_link(\n",
    "    access_level=\"transcript\",\n",
    "    content_ids=[content_id],\n",
    "    target_email=\"recipient@example.com\",\n",
    "    expiration_hours=24\n",
    ")\n",
    "    \n"
   ]
  },
  {
   "cell_type": "code",
   "execution_count": 89,
   "metadata": {},
   "outputs": [],
   "source": [
    "accepted = await client.accept_share_link(\n",
    "    token=share_link[\"token\"],\n",
    "    accepting_email=\"recipient@example.com\"\n",
    ")\n"
   ]
  },
  {
   "cell_type": "code",
   "execution_count": 90,
   "metadata": {},
   "outputs": [
    {
     "data": {
      "text/plain": [
       "{'status': 'queued', 'message': 'Content has been queued for indexing'}"
      ]
     },
     "execution_count": 90,
     "metadata": {},
     "output_type": "execute_result"
    }
   ],
   "source": [
    "\n",
    "# Index content\n",
    "indexed = await client.index_content(content_id)\n",
    "indexed\n",
    "\n"
   ]
  },
  {
   "cell_type": "code",
   "execution_count": 14,
   "metadata": {},
   "outputs": [
    {
     "data": {
      "text/plain": [
       "[{'type': 'speaker', 'name': 'John Doe', 'id': 5704},\n",
       " {'type': 'speaker', 'name': 'Jane Doe', 'id': 5705}]"
      ]
     },
     "execution_count": 14,
     "metadata": {},
     "output_type": "execute_result"
    }
   ],
   "source": [
    "# Entity management\n",
    "entities = await client.get_entities(\"speaker\", offset=0, limit=20)\n",
    "entities\n"
   ]
  },
  {
   "cell_type": "code",
   "execution_count": 92,
   "metadata": {},
   "outputs": [
    {
     "data": {
      "text/plain": [
       "[{'type': 'tag', 'name': 'AI', 'id': 5729},\n",
       " {'type': 'tag', 'name': 'test', 'id': 5722}]"
      ]
     },
     "execution_count": 92,
     "metadata": {},
     "output_type": "execute_result"
    }
   ],
   "source": [
    "# Entity management\n",
    "entities = await client.get_entities(\"tag\", offset=0, limit=20)\n",
    "entities\n"
   ]
  },
  {
   "cell_type": "code",
   "execution_count": 93,
   "metadata": {},
   "outputs": [
    {
     "name": "stdout",
     "output_type": "stream",
     "text": [
      "{'chunk': 'Could'}\n",
      "{'chunk': ' you'}\n",
      "{'chunk': ' please'}\n",
      "{'chunk': ' provide'}\n",
      "{'chunk': ' the'}\n",
      "{'chunk': ' document'}\n",
      "{'chunk': ' or'}\n",
      "{'chunk': ' specify'}\n",
      "{'chunk': ' its'}\n",
      "{'chunk': ' content'}\n",
      "{'chunk': '?'}\n",
      "{'chunk': ' This'}\n",
      "{'chunk': ' will'}\n",
      "{'chunk': ' help'}\n",
      "{'chunk': ' me'}\n",
      "{'chunk': ' give'}\n",
      "{'chunk': ' you'}\n",
      "{'chunk': ' a'}\n",
      "{'chunk': ' detailed'}\n",
      "{'chunk': ' overview'}\n",
      "{'chunk': ' of'}\n",
      "{'chunk': ' what'}\n",
      "{'chunk': ' it'}\n",
      "{'chunk': ' is'}\n",
      "{'chunk': ' about'}\n",
      "{'chunk': '.'}\n",
      "{'thread_id': '6dc737f7-4cb9-40e0-a947-b871ac3a5dd1', 'content_id': 'a7ab7b39-ed6a-429e-988f-00191e477c69', 'entity_id': None, 'content_ids': None, 'entity_ids': None, 'output': 'Could you please provide the document or specify its content? This will help me give you a detailed overview of what it is about.', 'linked_output': 'Could you please provide the document or specify its content? This will help me give you a detailed overview of what it is about.', 'service_content': {'output': 'Could you please provide the document or specify its content? This will help me give you a detailed overview of what it is about.', 'context': 'No relevant context found.'}}\n"
     ]
    }
   ],
   "source": [
    "# Chat interactions\n",
    "async for response in client.chat(\n",
    "    query=\"What is this document about?\",\n",
    "    content_id=content_id,\n",
    "    model=\"gpt-4o-mini\",\n",
    "    temperature=0.7\n",
    "):\n",
    "    print(response)\n",
    "\n"
   ]
  },
  {
   "cell_type": "code",
   "execution_count": 94,
   "metadata": {},
   "outputs": [
    {
     "name": "stdout",
     "output_type": "stream",
     "text": [
      "{'error': \"Edit failed: ChatManager.edit_and_continue() missing 1 required positional argument: 'context_provider'\"}\n"
     ]
    },
    {
     "ename": "ValueError",
     "evalue": "Thread not found",
     "output_type": "error",
     "traceback": [
      "\u001b[0;31m---------------------------------------------------------------------------\u001b[0m",
      "\u001b[0;31mValueError\u001b[0m                                Traceback (most recent call last)",
      "Cell \u001b[0;32mIn[94], line 18\u001b[0m\n\u001b[1;32m     10\u001b[0m \u001b[38;5;66;03m# Thread management\u001b[39;00m\n\u001b[1;32m     11\u001b[0m threads \u001b[38;5;241m=\u001b[39m \u001b[38;5;28;01mawait\u001b[39;00m client\u001b[38;5;241m.\u001b[39mget_threads(\n\u001b[1;32m     12\u001b[0m     content_id\u001b[38;5;241m=\u001b[39mcontent_id,\n\u001b[1;32m     13\u001b[0m     only_archived\u001b[38;5;241m=\u001b[39m\u001b[38;5;28;01mFalse\u001b[39;00m,\n\u001b[1;32m     14\u001b[0m     limit\u001b[38;5;241m=\u001b[39m\u001b[38;5;241m50\u001b[39m,\n\u001b[1;32m     15\u001b[0m     start_date\u001b[38;5;241m=\u001b[39mdatetime\u001b[38;5;241m.\u001b[39mnow() \u001b[38;5;241m-\u001b[39m timedelta(days\u001b[38;5;241m=\u001b[39m\u001b[38;5;241m7\u001b[39m)\n\u001b[1;32m     16\u001b[0m )\n\u001b[0;32m---> 18\u001b[0m thread \u001b[38;5;241m=\u001b[39m \u001b[38;5;28;01mawait\u001b[39;00m client\u001b[38;5;241m.\u001b[39mget_thread(\u001b[38;5;124m\"\u001b[39m\u001b[38;5;124mthread_123\u001b[39m\u001b[38;5;124m\"\u001b[39m)\n\u001b[1;32m     19\u001b[0m archived_thread \u001b[38;5;241m=\u001b[39m \u001b[38;5;28;01mawait\u001b[39;00m client\u001b[38;5;241m.\u001b[39marchive_thread(\u001b[38;5;124m\"\u001b[39m\u001b[38;5;124mthread_123\u001b[39m\u001b[38;5;124m\"\u001b[39m)\n\u001b[1;32m     20\u001b[0m restored_thread \u001b[38;5;241m=\u001b[39m \u001b[38;5;28;01mawait\u001b[39;00m client\u001b[38;5;241m.\u001b[39mrestore_thread(\u001b[38;5;124m\"\u001b[39m\u001b[38;5;124mthread_123\u001b[39m\u001b[38;5;124m\"\u001b[39m)\n",
      "File \u001b[0;32m/app/api_client.py:372\u001b[0m, in \u001b[0;36mAPIClient.get_thread\u001b[0;34m(self, thread_id)\u001b[0m\n\u001b[1;32m    370\u001b[0m     \u001b[38;5;28;01mreturn\u001b[39;00m response\u001b[38;5;241m.\u001b[39mjson()\n\u001b[1;32m    371\u001b[0m \u001b[38;5;28;01melif\u001b[39;00m response\u001b[38;5;241m.\u001b[39mstatus_code \u001b[38;5;241m==\u001b[39m \u001b[38;5;241m404\u001b[39m:\n\u001b[0;32m--> 372\u001b[0m     \u001b[38;5;28;01mraise\u001b[39;00m \u001b[38;5;167;01mValueError\u001b[39;00m(\u001b[38;5;124m\"\u001b[39m\u001b[38;5;124mThread not found\u001b[39m\u001b[38;5;124m\"\u001b[39m)\n\u001b[1;32m    373\u001b[0m \u001b[38;5;28;01melse\u001b[39;00m:\n\u001b[1;32m    374\u001b[0m     \u001b[38;5;28;01mraise\u001b[39;00m APIError(\u001b[38;5;124mf\u001b[39m\u001b[38;5;124m\"\u001b[39m\u001b[38;5;124mFailed to get thread: \u001b[39m\u001b[38;5;132;01m{\u001b[39;00mresponse\u001b[38;5;241m.\u001b[39mtext\u001b[38;5;132;01m}\u001b[39;00m\u001b[38;5;124m\"\u001b[39m)\n",
      "\u001b[0;31mValueError\u001b[0m: Thread not found"
     ]
    }
   ],
   "source": [
    "# Edit chat message\n",
    "async for response in client.edit_chat_message(\n",
    "    thread_id=\"thread_123\",\n",
    "    message_index=1,\n",
    "    new_content=\"Updated message content\",\n",
    "    model=\"gpt-4o-mini\"\n",
    "):\n",
    "    print(response)\n"
   ]
  },
  {
   "cell_type": "code",
   "execution_count": 12,
   "metadata": {},
   "outputs": [],
   "source": [
    "\n",
    "# Thread management\n",
    "threads = await client.get_threads(\n",
    " #   content_id=content_id,\n",
    "    only_archived=False,\n",
    "    limit=50,\n",
    "    start_date=datetime.now() - timedelta(days=7)\n",
    ")\n"
   ]
  },
  {
   "cell_type": "code",
   "execution_count": 13,
   "metadata": {},
   "outputs": [
    {
     "data": {
      "text/plain": [
       "{'total': 3,\n",
       " 'threads': [{'thread_id': '08bef20f-fccf-4fd9-bdf8-53b25839aae6',\n",
       "   'thread_name': 'and the last person you mentioned name is?',\n",
       "   'timestamp': '2025-01-28T19:19:54.658328+00:00',\n",
       "   'content_id': None,\n",
       "   'entity_id': None,\n",
       "   'meta': {'content_ids': ['a0c3f703-2a5e-4ed0-9561-807121516984',\n",
       "     '6a7287fb-b6ae-46cf-8b99-1ce1bcc81403',\n",
       "     '580bb613-00de-4c4a-b048-2c2576fcdef0',\n",
       "     'fb996504-0475-4ee9-a85e-dda4e9f15a4b']},\n",
       "   'is_archived': False},\n",
       "  {'thread_id': 'ff7aaa47-23e7-4af7-b871-4528e4272a72',\n",
       "   'thread_name': 'and the last person you mentioned name is?',\n",
       "   'timestamp': '2025-01-28T19:14:22.901236+00:00',\n",
       "   'content_id': None,\n",
       "   'entity_id': None,\n",
       "   'meta': {'content_ids': ['a0c3f703-2a5e-4ed0-9561-807121516984',\n",
       "     '6a7287fb-b6ae-46cf-8b99-1ce1bcc81403',\n",
       "     '580bb613-00de-4c4a-b048-2c2576fcdef0',\n",
       "     'fb996504-0475-4ee9-a85e-dda4e9f15a4b']},\n",
       "   'is_archived': False},\n",
       "  {'thread_id': '90dce980-5dff-4559-9e25-c59a39f6fce0',\n",
       "   'thread_name': 'and the last person you mentioned name is?',\n",
       "   'timestamp': '2025-01-28T18:26:28.441475+00:00',\n",
       "   'content_id': None,\n",
       "   'entity_id': None,\n",
       "   'meta': {'content_ids': ['a0c3f703-2a5e-4ed0-9561-807121516984',\n",
       "     '6a7287fb-b6ae-46cf-8b99-1ce1bcc81403',\n",
       "     '580bb613-00de-4c4a-b048-2c2576fcdef0',\n",
       "     'fb996504-0475-4ee9-a85e-dda4e9f15a4b']},\n",
       "   'is_archived': False}]}"
      ]
     },
     "execution_count": 13,
     "metadata": {},
     "output_type": "execute_result"
    }
   ],
   "source": [
    "threads"
   ]
  },
  {
   "cell_type": "code",
   "execution_count": null,
   "metadata": {},
   "outputs": [],
   "source": [
    "\n",
    "\n",
    "thread = await client.get_thread(\"thread_123\")\n",
    "archived_thread = await client.archive_thread(\"thread_123\")\n",
    "restored_thread = await client.restore_thread(\"thread_123\")\n",
    "renamed = await client.rename_thread(\"thread_123\", \"New Thread Name\")\n"
   ]
  },
  {
   "cell_type": "code",
   "execution_count": null,
   "metadata": {},
   "outputs": [],
   "source": []
  }
 ],
 "metadata": {
  "kernelspec": {
   "display_name": "Python 3",
   "language": "python",
   "name": "python3"
  },
  "language_info": {
   "codemirror_mode": {
    "name": "ipython",
    "version": 3
   },
   "file_extension": ".py",
   "mimetype": "text/x-python",
   "name": "python",
   "nbconvert_exporter": "python",
   "pygments_lexer": "ipython3",
   "version": "3.11.11"
  }
 },
 "nbformat": 4,
 "nbformat_minor": 2
}
