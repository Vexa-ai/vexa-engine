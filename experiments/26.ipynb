{
 "cells": [
  {
   "cell_type": "code",
   "execution_count": 1,
   "metadata": {},
   "outputs": [],
   "source": [
    "%load_ext autoreload\n",
    "%autoreload 2"
   ]
  },
  {
   "cell_type": "code",
   "execution_count": 2,
   "metadata": {},
   "outputs": [],
   "source": [
    "#python setup_database.py & python setup_qdrant.py & python setup_elastic.py & python setup_redis.py"
   ]
  },
  {
   "cell_type": "code",
   "execution_count": 3,
   "metadata": {},
   "outputs": [],
   "source": [
    "import sys\n",
    "sys.path.append('/app')"
   ]
  },
  {
   "cell_type": "code",
   "execution_count": 4,
   "metadata": {},
   "outputs": [],
   "source": [
    "\n",
    "from api_client import APIClient\n",
    "from uuid import UUID\n",
    "import asyncio\n",
    "from datetime import datetime, timedelta"
   ]
  },
  {
   "cell_type": "code",
   "execution_count": 5,
   "metadata": {},
   "outputs": [],
   "source": [
    "\n",
    "client = await APIClient.create(email=\"2280905@gmail.com\")"
   ]
  },
  {
   "cell_type": "code",
   "execution_count": 6,
   "metadata": {},
   "outputs": [
    {
     "data": {
      "text/plain": [
       "<api_client.APIClient at 0x7f5c7b132b90>"
      ]
     },
     "execution_count": 6,
     "metadata": {},
     "output_type": "execute_result"
    }
   ],
   "source": [
    "client"
   ]
  },
  {
   "cell_type": "code",
   "execution_count": 7,
   "metadata": {},
   "outputs": [],
   "source": [
    "\n",
    "# Auth examples\n",
    "#auth_result = await client.google_auth(\"google_token_here\", {\"utm_source\": \"web\"})\n",
    "\n"
   ]
  },
  {
   "cell_type": "code",
   "execution_count": 8,
   "metadata": {},
   "outputs": [],
   "source": [
    "token_result = await client.submit_token(\"3ae04e20124d40babc5107e658c666b6\")\n",
    "    \n"
   ]
  },
  {
   "cell_type": "code",
   "execution_count": 9,
   "metadata": {},
   "outputs": [
    {
     "data": {
      "text/plain": [
       "{'user_id': 'ef7c085b-fdb5-4c94-b7b6-a61a3d04c210',\n",
       " 'user_name': 'Dmitriy Grankin',\n",
       " 'image': None}"
      ]
     },
     "execution_count": 9,
     "metadata": {},
     "output_type": "execute_result"
    }
   ],
   "source": [
    "token_result"
   ]
  },
  {
   "cell_type": "code",
   "execution_count": 10,
   "metadata": {},
   "outputs": [
    {
     "data": {
      "text/plain": [
       "{'total': 48,\n",
       " 'contents': [{'content_id': '081d04c6-827d-4375-af68-9f8fbd50b707',\n",
       "   'type': 'meeting',\n",
       "   'text': None,\n",
       "   'timestamp': '2024-09-10T12:01:58',\n",
       "   'is_indexed': False,\n",
       "   'is_owner': True,\n",
       "   'access_level': 'owner',\n",
       "   'entities': [{'name': 'Dmitry Grankin', 'type': 'speaker'}]},\n",
       "  {'content_id': '0aee5d35-5e04-4b48-b428-6e2979aab55c',\n",
       "   'type': 'meeting',\n",
       "   'text': None,\n",
       "   'timestamp': '2024-09-25T13:28:47',\n",
       "   'is_indexed': False,\n",
       "   'is_owner': True,\n",
       "   'access_level': 'owner',\n",
       "   'entities': [{'name': 'Dmitry Grankin', 'type': 'speaker'}]},\n",
       "  {'content_id': '1fb0bd86-3ca7-41bb-8561-f56586a5dadd',\n",
       "   'type': 'meeting',\n",
       "   'text': None,\n",
       "   'timestamp': '2025-01-08T16:04:35',\n",
       "   'is_indexed': False,\n",
       "   'is_owner': True,\n",
       "   'access_level': 'owner',\n",
       "   'entities': [{'name': 'Dmitry Grankin', 'type': 'speaker'}]},\n",
       "  {'content_id': '2182def0-c078-45f6-bce1-cbac254c8007',\n",
       "   'type': 'meeting',\n",
       "   'text': None,\n",
       "   'timestamp': '2024-12-05T11:02:05',\n",
       "   'is_indexed': False,\n",
       "   'is_owner': True,\n",
       "   'access_level': 'owner',\n",
       "   'entities': [{'name': 'Dmitry Grankin', 'type': 'speaker'}]},\n",
       "  {'content_id': '247a9f4e-1182-401e-bf61-95a6c3a12137',\n",
       "   'type': 'meeting',\n",
       "   'text': None,\n",
       "   'timestamp': '2024-08-30T10:28:53',\n",
       "   'is_indexed': False,\n",
       "   'is_owner': True,\n",
       "   'access_level': 'owner',\n",
       "   'entities': [{'name': 'Dmitry Grankin', 'type': 'speaker'}]},\n",
       "  {'content_id': '26bc6978-2fa6-4d29-a17f-1b12fa58a91e',\n",
       "   'type': 'meeting',\n",
       "   'text': None,\n",
       "   'timestamp': '2025-01-27T18:05:24',\n",
       "   'is_indexed': False,\n",
       "   'is_owner': True,\n",
       "   'access_level': 'owner',\n",
       "   'entities': [{'name': 'Dmitry Grankin', 'type': 'speaker'}]},\n",
       "  {'content_id': '2a40c363-c52b-4f89-8719-e0be87591485',\n",
       "   'type': 'meeting',\n",
       "   'text': None,\n",
       "   'timestamp': '2024-12-04T15:31:04',\n",
       "   'is_indexed': False,\n",
       "   'is_owner': True,\n",
       "   'access_level': 'owner',\n",
       "   'entities': [{'name': 'Dmitry Grankin', 'type': 'speaker'}]},\n",
       "  {'content_id': '2a92e93e-dc1c-455d-acbb-182555197434',\n",
       "   'type': 'meeting',\n",
       "   'text': None,\n",
       "   'timestamp': '2024-12-10T11:01:14',\n",
       "   'is_indexed': False,\n",
       "   'is_owner': True,\n",
       "   'access_level': 'owner',\n",
       "   'entities': [{'name': 'Dmitry Grankin', 'type': 'speaker'}]},\n",
       "  {'content_id': '2e36140e-e62e-4657-bbb4-a0473dbf608e',\n",
       "   'type': 'meeting',\n",
       "   'text': None,\n",
       "   'timestamp': '2024-09-10T10:05:24',\n",
       "   'is_indexed': False,\n",
       "   'is_owner': True,\n",
       "   'access_level': 'owner',\n",
       "   'entities': [{'name': 'Dmitry Grankin', 'type': 'speaker'}]},\n",
       "  {'content_id': '3540f190-1f83-4100-8d6f-e648752f336d',\n",
       "   'type': 'meeting',\n",
       "   'text': None,\n",
       "   'timestamp': '2024-09-26T12:02:02',\n",
       "   'is_indexed': False,\n",
       "   'is_owner': True,\n",
       "   'access_level': 'owner',\n",
       "   'entities': [{'name': 'Dmitry Grankin', 'type': 'speaker'}]},\n",
       "  {'content_id': '4917d10d-8f27-4670-9301-1cb84d40b8dd',\n",
       "   'type': 'meeting',\n",
       "   'text': None,\n",
       "   'timestamp': '2024-08-26T10:32:37',\n",
       "   'is_indexed': False,\n",
       "   'is_owner': True,\n",
       "   'access_level': 'owner',\n",
       "   'entities': [{'name': 'Dmitry Grankin', 'type': 'speaker'}]},\n",
       "  {'content_id': '4ff12d56-f520-4391-a283-03d6365b49e6',\n",
       "   'type': 'meeting',\n",
       "   'text': None,\n",
       "   'timestamp': '2024-09-09T10:46:10',\n",
       "   'is_indexed': False,\n",
       "   'is_owner': True,\n",
       "   'access_level': 'owner',\n",
       "   'entities': [{'name': 'Dmitry Grankin', 'type': 'speaker'}]},\n",
       "  {'content_id': '50d5d659-3a57-42f2-8f32-31c7145ebe91',\n",
       "   'type': 'meeting',\n",
       "   'text': None,\n",
       "   'timestamp': '2024-10-24T09:32:32',\n",
       "   'is_indexed': False,\n",
       "   'is_owner': True,\n",
       "   'access_level': 'owner',\n",
       "   'entities': [{'name': 'Dmitry Grankin', 'type': 'speaker'}]},\n",
       "  {'content_id': '52be5305-ba39-44ca-9296-743c6555b61e',\n",
       "   'type': 'meeting',\n",
       "   'text': None,\n",
       "   'timestamp': '2024-11-04T11:15:56',\n",
       "   'is_indexed': False,\n",
       "   'is_owner': True,\n",
       "   'access_level': 'owner',\n",
       "   'entities': [{'name': 'Dmitry Grankin', 'type': 'speaker'}]},\n",
       "  {'content_id': '5401ff51-4f8f-4f95-a5d2-21564c9b3cc4',\n",
       "   'type': 'meeting',\n",
       "   'text': None,\n",
       "   'timestamp': '2024-12-05T10:02:10',\n",
       "   'is_indexed': False,\n",
       "   'is_owner': True,\n",
       "   'access_level': 'owner',\n",
       "   'entities': [{'name': 'Dmitry Grankin', 'type': 'speaker'}]},\n",
       "  {'content_id': '55fb40e1-096c-4280-b205-aa4cc68f6c76',\n",
       "   'type': 'meeting',\n",
       "   'text': None,\n",
       "   'timestamp': '2024-09-06T14:31:40',\n",
       "   'is_indexed': False,\n",
       "   'is_owner': True,\n",
       "   'access_level': 'owner',\n",
       "   'entities': [{'name': 'Dmitry Grankin', 'type': 'speaker'}]},\n",
       "  {'content_id': '563c58ec-10ce-4c14-ba47-cddf45e87902',\n",
       "   'type': 'meeting',\n",
       "   'text': None,\n",
       "   'timestamp': '2024-09-10T11:03:49',\n",
       "   'is_indexed': False,\n",
       "   'is_owner': True,\n",
       "   'access_level': 'owner',\n",
       "   'entities': [{'name': 'Dmitry Grankin', 'type': 'speaker'}]},\n",
       "  {'content_id': '577a2c8f-f406-479d-9618-2fa48297e70d',\n",
       "   'type': 'meeting',\n",
       "   'text': None,\n",
       "   'timestamp': '2024-09-06T10:30:07',\n",
       "   'is_indexed': False,\n",
       "   'is_owner': True,\n",
       "   'access_level': 'owner',\n",
       "   'entities': [{'name': 'Dmitry Grankin', 'type': 'speaker'}]},\n",
       "  {'content_id': '580bb613-00de-4c4a-b048-2c2576fcdef0',\n",
       "   'type': 'meeting',\n",
       "   'text': None,\n",
       "   'timestamp': '2025-01-23T09:40:29',\n",
       "   'is_indexed': False,\n",
       "   'is_owner': True,\n",
       "   'access_level': 'owner',\n",
       "   'entities': [{'name': 'Dmitry Grankin', 'type': 'speaker'}]},\n",
       "  {'content_id': '5e8bf76a-a7cf-4507-acd5-1e1d25152ded',\n",
       "   'type': 'meeting',\n",
       "   'text': None,\n",
       "   'timestamp': '2024-10-02T11:00:52',\n",
       "   'is_indexed': False,\n",
       "   'is_owner': True,\n",
       "   'access_level': 'owner',\n",
       "   'entities': [{'name': 'Dmitry Grankin', 'type': 'speaker'}]}]}"
      ]
     },
     "execution_count": 10,
     "metadata": {},
     "output_type": "execute_result"
    }
   ],
   "source": [
    "# Content management\n",
    "# Get contents with filters\n",
    "contents = await client.get_contents(\n",
    "    content_type=\"meeting\",\n",
    "    filters=[{\n",
    "       \"type\": \"speaker\",\n",
    "       \"values\": [\"Dmitry Grankin\"]\n",
    "    }],\n",
    "    offset=0,\n",
    "    limit=20\n",
    ")\n",
    "\n",
    "contents\n",
    "\n",
    "\n",
    "\n",
    "#failed - filter does not work"
   ]
  },
  {
   "cell_type": "code",
   "execution_count": 11,
   "metadata": {},
   "outputs": [],
   "source": [
    "# Add new content\n",
    "content = await client.add_content(\n",
    "    body=\"Sample content text\",\n",
    "    content_type=\"note\",\n",
    "    entities=[{\"type\": \"tag\", \"name\": \"test\"}]\n",
    ")\n"
   ]
  },
  {
   "cell_type": "code",
   "execution_count": 12,
   "metadata": {},
   "outputs": [
    {
     "data": {
      "text/plain": [
       "{'content_id': '81104253-21da-4943-9029-484b2e4115ae'}"
      ]
     },
     "execution_count": 12,
     "metadata": {},
     "output_type": "execute_result"
    }
   ],
   "source": [
    "content"
   ]
  },
  {
   "cell_type": "code",
   "execution_count": 13,
   "metadata": {},
   "outputs": [
    {
     "data": {
      "text/plain": [
       "{'content_id': '81104253-21da-4943-9029-484b2e4115ae',\n",
       " 'type': 'note',\n",
       " 'text': 'Sample content text',\n",
       " 'timestamp': '2025-01-28T17:59:56.842105',\n",
       " 'is_indexed': False,\n",
       " 'access_level': 'owner',\n",
       " 'is_owner': True,\n",
       " 'entities': [{'name': 'test', 'type': 'tag'}],\n",
       " 'parent_id': None,\n",
       " 'meta': None}"
      ]
     },
     "execution_count": 13,
     "metadata": {},
     "output_type": "execute_result"
    }
   ],
   "source": [
    "content_id = UUID(content[\"content_id\"])\n",
    "\n",
    "# Get single content\n",
    "single_content = await client.get_content(content_id)\n",
    "single_content"
   ]
  },
  {
   "cell_type": "code",
   "execution_count": 14,
   "metadata": {},
   "outputs": [],
   "source": [
    "# Modify content\n",
    "modified = await client.modify_content(\n",
    "    content_id,\n",
    "    body=\"Updated content text\",\n",
    "    entities=[{\"type\": \"speaker\", \"name\": \"Jane Doe\"}]\n",
    ")\n"
   ]
  },
  {
   "cell_type": "code",
   "execution_count": 15,
   "metadata": {},
   "outputs": [
    {
     "data": {
      "text/plain": [
       "{'success': True}"
      ]
     },
     "execution_count": 15,
     "metadata": {},
     "output_type": "execute_result"
    }
   ],
   "source": [
    "modified"
   ]
  },
  {
   "cell_type": "code",
   "execution_count": 16,
   "metadata": {},
   "outputs": [
    {
     "data": {
      "text/plain": [
       "{'content_id': '81104253-21da-4943-9029-484b2e4115ae',\n",
       " 'type': 'note',\n",
       " 'text': 'Updated content text',\n",
       " 'timestamp': '2025-01-28T17:59:56.842105',\n",
       " 'is_indexed': False,\n",
       " 'access_level': 'owner',\n",
       " 'is_owner': True,\n",
       " 'entities': [{'name': 'Jane Doe', 'type': 'speaker'}],\n",
       " 'parent_id': None,\n",
       " 'meta': None}"
      ]
     },
     "execution_count": 16,
     "metadata": {},
     "output_type": "execute_result"
    }
   ],
   "source": [
    "# Get single content\n",
    "single_content = await client.get_content(content_id)\n",
    "single_content\n",
    "\n"
   ]
  },
  {
   "cell_type": "code",
   "execution_count": 17,
   "metadata": {},
   "outputs": [],
   "source": [
    "archived = await client.archive_content(content_id)"
   ]
  },
  {
   "cell_type": "code",
   "execution_count": 18,
   "metadata": {},
   "outputs": [
    {
     "data": {
      "text/plain": [
       "{'success': True}"
      ]
     },
     "execution_count": 18,
     "metadata": {},
     "output_type": "execute_result"
    }
   ],
   "source": [
    "archived"
   ]
  },
  {
   "cell_type": "code",
   "execution_count": 19,
   "metadata": {},
   "outputs": [
    {
     "data": {
      "text/plain": [
       "UUID('81104253-21da-4943-9029-484b2e4115ae')"
      ]
     },
     "execution_count": 19,
     "metadata": {},
     "output_type": "execute_result"
    }
   ],
   "source": [
    "content_id"
   ]
  },
  {
   "cell_type": "code",
   "execution_count": 20,
   "metadata": {},
   "outputs": [
    {
     "name": "stdout",
     "output_type": "stream",
     "text": [
      "Content not found or no access\n"
     ]
    }
   ],
   "source": [
    "try:\n",
    "    single_content = await client.get_content(content_id)\n",
    "except Exception as e:\n",
    "    print(e)\n",
    "\n",
    "\n",
    "#OK - content unavailable after archive"
   ]
  },
  {
   "cell_type": "code",
   "execution_count": 21,
   "metadata": {},
   "outputs": [
    {
     "data": {
      "text/plain": [
       "{'content_id': '81104253-21da-4943-9029-484b2e4115ae',\n",
       " 'type': 'note',\n",
       " 'text': 'Updated content text',\n",
       " 'timestamp': '2025-01-28T17:59:56.842105',\n",
       " 'is_indexed': False,\n",
       " 'access_level': 'owner',\n",
       " 'is_owner': True,\n",
       " 'entities': [{'name': 'Jane Doe', 'type': 'speaker'}],\n",
       " 'parent_id': None,\n",
       " 'meta': None}"
      ]
     },
     "execution_count": 21,
     "metadata": {},
     "output_type": "execute_result"
    }
   ],
   "source": [
    "restored = await client.restore_content(content_id)\n",
    "single_content = await client.get_content(content_id)\n",
    "single_content"
   ]
  },
  {
   "cell_type": "code",
   "execution_count": 23,
   "metadata": {},
   "outputs": [
    {
     "name": "stdout",
     "output_type": "stream",
     "text": [
      "Content not found or no access\n"
     ]
    }
   ],
   "source": [
    "\n",
    "try:\n",
    "    deleted = await client.delete_content(content_id)\n",
    "except Exception as e:\n",
    "    print(e)\n",
    "try:\n",
    "    single_content = await client.get_content(content_id)\n",
    "except Exception as e:\n",
    "    print(e)\n",
    "    \n",
    "#OK - content unavailable after delete"
   ]
  },
  {
   "cell_type": "code",
   "execution_count": 24,
   "metadata": {},
   "outputs": [
    {
     "name": "stdout",
     "output_type": "stream",
     "text": [
      "Content not found or not archived\n"
     ]
    }
   ],
   "source": [
    "\n",
    "try:\n",
    "    restored = await client.restore_content(content_id)\n",
    "except Exception as e:\n",
    "    print(e)\n",
    "try:\n",
    "    single_content = await client.get_content(content_id)\n",
    "except Exception as e:\n",
    "    print(e)\n",
    "\n",
    "#OK - content unavailable after delete"
   ]
  },
  {
   "cell_type": "code",
   "execution_count": 25,
   "metadata": {},
   "outputs": [
    {
     "data": {
      "text/plain": [
       "{'content_id': 'e96072cf-daa5-408b-8ac3-fd79955c6b82'}"
      ]
     },
     "execution_count": 25,
     "metadata": {},
     "output_type": "execute_result"
    }
   ],
   "source": [
    "# Add new content\n",
    "content = await client.add_content(\n",
    "    body=\"Sample content text\",\n",
    "    content_type=\"note\",\n",
    "    entities=[{\"type\": \"speaker\", \"name\": \"John Doe\"}]\n",
    ")\n",
    "content"
   ]
  },
  {
   "cell_type": "code",
   "execution_count": 26,
   "metadata": {},
   "outputs": [],
   "source": [
    "# Sharing\n",
    "share_link = await client.create_share_link(\n",
    "    access_level=\"transcript\",\n",
    "    content_ids=[content_id],\n",
    "    target_email=\"recipient@example.com\",\n",
    "    expiration_hours=24\n",
    ")\n",
    "    \n"
   ]
  },
  {
   "cell_type": "code",
   "execution_count": 27,
   "metadata": {},
   "outputs": [],
   "source": [
    "accepted = await client.accept_share_link(\n",
    "    token=share_link[\"token\"],\n",
    "    accepting_email=\"recipient@example.com\"\n",
    ")\n"
   ]
  },
  {
   "cell_type": "code",
   "execution_count": null,
   "metadata": {},
   "outputs": [],
   "source": []
  },
  {
   "cell_type": "code",
   "execution_count": null,
   "metadata": {},
   "outputs": [],
   "source": [
    "\n",
    "# Index content\n",
    "indexed = await client.index_content(content_id)\n",
    "\n"
   ]
  },
  {
   "cell_type": "code",
   "execution_count": 31,
   "metadata": {},
   "outputs": [
    {
     "data": {
      "text/plain": [
       "[{'name': 'John Doe', 'id': 5704, 'type': 'speaker'},\n",
       " {'name': 'Jane Doe', 'id': 5705, 'type': 'speaker'},\n",
       " {'name': 'Arina Soboleva', 'id': 3665, 'type': 'speaker'},\n",
       " {'name': 'Dmitry Grankin', 'id': 3448, 'type': 'speaker'},\n",
       " {'name': 'Artem Puzik', 'id': 3484, 'type': 'speaker'},\n",
       " {'name': 'Sergey Ryabenko', 'id': 3441, 'type': 'speaker'},\n",
       " {'name': 'Dmitriy Grankin', 'id': 3440, 'type': 'speaker'},\n",
       " {'name': 'Pedro Teixeira', 'id': 4131, 'type': 'speaker'},\n",
       " {'name': 'Mariana Montenegro', 'id': 5432, 'type': 'speaker'},\n",
       " {'name': 'Alex Shevliakov', 'id': 3491, 'type': 'speaker'},\n",
       " {'name': 'Graham Ó Maonaigh', 'id': 5197, 'type': 'speaker'},\n",
       " {'name': 'Matt Lewis', 'id': 3543, 'type': 'speaker'}]"
      ]
     },
     "execution_count": 31,
     "metadata": {},
     "output_type": "execute_result"
    }
   ],
   "source": [
    "# Entity management\n",
    "entities = await client.get_entities(\"speaker\", offset=0, limit=20)\n",
    "entities\n"
   ]
  },
  {
   "cell_type": "code",
   "execution_count": 32,
   "metadata": {},
   "outputs": [
    {
     "data": {
      "text/plain": [
       "[]"
      ]
     },
     "execution_count": 32,
     "metadata": {},
     "output_type": "execute_result"
    }
   ],
   "source": [
    "# Entity management\n",
    "entities = await client.get_entities(\"tag\", offset=0, limit=20)\n",
    "entities\n"
   ]
  },
  {
   "cell_type": "code",
   "execution_count": 33,
   "metadata": {},
   "outputs": [
    {
     "ename": "APIError",
     "evalue": "Chat request failed: {\"detail\":\"Not Found\"}",
     "output_type": "error",
     "traceback": [
      "\u001b[0;31m---------------------------------------------------------------------------\u001b[0m",
      "\u001b[0;31mAPIError\u001b[0m                                  Traceback (most recent call last)",
      "Cell \u001b[0;32mIn[33], line 2\u001b[0m\n\u001b[1;32m      1\u001b[0m \u001b[38;5;66;03m# Chat interactions\u001b[39;00m\n\u001b[0;32m----> 2\u001b[0m \u001b[38;5;28;01masync\u001b[39;00m \u001b[38;5;28;01mfor\u001b[39;00m response \u001b[38;5;129;01min\u001b[39;00m client\u001b[38;5;241m.\u001b[39mchat(\n\u001b[1;32m      3\u001b[0m     query\u001b[38;5;241m=\u001b[39m\u001b[38;5;124m\"\u001b[39m\u001b[38;5;124mWhat is this document about?\u001b[39m\u001b[38;5;124m\"\u001b[39m,\n\u001b[1;32m      4\u001b[0m     content_id\u001b[38;5;241m=\u001b[39mcontent_id,\n\u001b[1;32m      5\u001b[0m     model\u001b[38;5;241m=\u001b[39m\u001b[38;5;124m\"\u001b[39m\u001b[38;5;124mgpt-4o-mini\u001b[39m\u001b[38;5;124m\"\u001b[39m,\n\u001b[1;32m      6\u001b[0m     temperature\u001b[38;5;241m=\u001b[39m\u001b[38;5;241m0.7\u001b[39m\n\u001b[1;32m      7\u001b[0m ):\n\u001b[1;32m      8\u001b[0m     \u001b[38;5;28mprint\u001b[39m(response[\u001b[38;5;124m\"\u001b[39m\u001b[38;5;124mcontent\u001b[39m\u001b[38;5;124m\"\u001b[39m])\n",
      "File \u001b[0;32m/app/api_client.py:251\u001b[0m, in \u001b[0;36mAPIClient.chat\u001b[0;34m(self, query, content_id, entity, content_ids, entities, thread_id, model, temperature, meta)\u001b[0m\n\u001b[1;32m    249\u001b[0m \u001b[38;5;28;01mif\u001b[39;00m response\u001b[38;5;241m.\u001b[39mstatus \u001b[38;5;241m!=\u001b[39m \u001b[38;5;241m200\u001b[39m:\n\u001b[1;32m    250\u001b[0m     error_text \u001b[38;5;241m=\u001b[39m \u001b[38;5;28;01mawait\u001b[39;00m response\u001b[38;5;241m.\u001b[39mtext()\n\u001b[0;32m--> 251\u001b[0m     \u001b[38;5;28;01mraise\u001b[39;00m APIError(\u001b[38;5;124mf\u001b[39m\u001b[38;5;124m\"\u001b[39m\u001b[38;5;124mChat request failed: \u001b[39m\u001b[38;5;132;01m{\u001b[39;00merror_text\u001b[38;5;132;01m}\u001b[39;00m\u001b[38;5;124m\"\u001b[39m)\n\u001b[1;32m    253\u001b[0m \u001b[38;5;28;01masync\u001b[39;00m \u001b[38;5;28;01mfor\u001b[39;00m line \u001b[38;5;129;01min\u001b[39;00m response\u001b[38;5;241m.\u001b[39mcontent:\n\u001b[1;32m    254\u001b[0m     line \u001b[38;5;241m=\u001b[39m line\u001b[38;5;241m.\u001b[39mdecode(\u001b[38;5;124m'\u001b[39m\u001b[38;5;124mutf-8\u001b[39m\u001b[38;5;124m'\u001b[39m)\u001b[38;5;241m.\u001b[39mstrip()\n",
      "\u001b[0;31mAPIError\u001b[0m: Chat request failed: {\"detail\":\"Not Found\"}"
     ]
    }
   ],
   "source": [
    "# Chat interactions\n",
    "async for response in client.chat(\n",
    "    query=\"What is this document about?\",\n",
    "    content_id=content_id,\n",
    "    model=\"gpt-4o-mini\",\n",
    "    temperature=0.7\n",
    "):\n",
    "    print(response[\"content\"])\n",
    "\n"
   ]
  },
  {
   "cell_type": "code",
   "execution_count": null,
   "metadata": {},
   "outputs": [],
   "source": [
    "    # Edit chat message\n",
    "    async for response in client.edit_chat_message(\n",
    "        thread_id=\"thread_123\",\n",
    "        message_index=1,\n",
    "        new_content=\"Updated message content\",\n",
    "        model=\"gpt-4o-mini\"\n",
    "    ):\n",
    "        print(response[\"content\"])\n",
    "    \n",
    "    # Thread management\n",
    "    threads = await client.get_threads(\n",
    "        content_id=content_id,\n",
    "        only_archived=False,\n",
    "        limit=50,\n",
    "        start_date=datetime.now() - timedelta(days=7)\n",
    "    )\n",
    "    \n",
    "    thread = await client.get_thread(\"thread_123\")\n",
    "    archived_thread = await client.archive_thread(\"thread_123\")\n",
    "    restored_thread = await client.restore_thread(\"thread_123\")\n",
    "    renamed = await client.rename_thread(\"thread_123\", \"New Thread Name\")\n",
    "\n",
    "# Run examples\n",
    "asyncio.run(main())"
   ]
  }
 ],
 "metadata": {
  "kernelspec": {
   "display_name": "Python 3",
   "language": "python",
   "name": "python3"
  },
  "language_info": {
   "codemirror_mode": {
    "name": "ipython",
    "version": 3
   },
   "file_extension": ".py",
   "mimetype": "text/x-python",
   "name": "python",
   "nbconvert_exporter": "python",
   "pygments_lexer": "ipython3",
   "version": "3.11.11"
  }
 },
 "nbformat": 4,
 "nbformat_minor": 2
}
