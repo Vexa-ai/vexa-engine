{
 "cells": [
  {
   "cell_type": "code",
   "execution_count": 1,
   "metadata": {},
   "outputs": [],
   "source": [
    "%load_ext autoreload\n",
    "%autoreload 2"
   ]
  },
  {
   "cell_type": "code",
   "execution_count": 2,
   "metadata": {},
   "outputs": [],
   "source": [
    "#python setup_database.py & python setup_qdrant.py & python setup_elastic.py & python setup_redis.py"
   ]
  },
  {
   "cell_type": "code",
   "execution_count": 3,
   "metadata": {},
   "outputs": [],
   "source": [
    "import sys\n",
    "sys.path.append('/app')"
   ]
  },
  {
   "cell_type": "code",
   "execution_count": 4,
   "metadata": {},
   "outputs": [],
   "source": [
    "\n",
    "from api_client import APIClient\n",
    "from uuid import UUID\n",
    "import asyncio\n",
    "from datetime import datetime, timedelta"
   ]
  },
  {
   "cell_type": "code",
   "execution_count": 12,
   "metadata": {},
   "outputs": [],
   "source": [
    "\n",
    "client = await APIClient.create(email=\"2280905@gmail.com\")"
   ]
  },
  {
   "cell_type": "code",
   "execution_count": 11,
   "metadata": {},
   "outputs": [
    {
     "ename": "TypeError",
     "evalue": "cannot unpack non-iterable NoneType object",
     "output_type": "error",
     "traceback": [
      "\u001b[0;31m---------------------------------------------------------------------------\u001b[0m",
      "\u001b[0;31mTypeError\u001b[0m                                 Traceback (most recent call last)",
      "Cell \u001b[0;32mIn[11], line 1\u001b[0m\n\u001b[0;32m----> 1\u001b[0m client \u001b[38;5;241m=\u001b[39m \u001b[38;5;28;01mawait\u001b[39;00m APIClient\u001b[38;5;241m.\u001b[39mcreate(email\u001b[38;5;241m=\u001b[39m\u001b[38;5;124m\"\u001b[39m\u001b[38;5;124mdmitrygrankin0@gmail.com\u001b[39m\u001b[38;5;124m\"\u001b[39m)\n",
      "File \u001b[0;32m/app/api_client.py:37\u001b[0m, in \u001b[0;36mAPIClient.create\u001b[0;34m(cls, email, base_url)\u001b[0m\n\u001b[1;32m     35\u001b[0m client \u001b[38;5;241m=\u001b[39m \u001b[38;5;28mcls\u001b[39m(email\u001b[38;5;241m=\u001b[39memail, base_url\u001b[38;5;241m=\u001b[39mbase_url)\n\u001b[1;32m     36\u001b[0m \u001b[38;5;28;01mif\u001b[39;00m email:\n\u001b[0;32m---> 37\u001b[0m     \u001b[38;5;28;01mawait\u001b[39;00m client\u001b[38;5;241m.\u001b[39mset_email(email)\n\u001b[1;32m     38\u001b[0m \u001b[38;5;28;01mreturn\u001b[39;00m client\n",
      "File \u001b[0;32m/app/api_client.py:42\u001b[0m, in \u001b[0;36mAPIClient.set_email\u001b[0;34m(self, email)\u001b[0m\n\u001b[1;32m     40\u001b[0m \u001b[38;5;28;01masync\u001b[39;00m \u001b[38;5;28;01mdef\u001b[39;00m \u001b[38;5;21mset_email\u001b[39m(\u001b[38;5;28mself\u001b[39m, email: \u001b[38;5;28mstr\u001b[39m) \u001b[38;5;241m-\u001b[39m\u001b[38;5;241m>\u001b[39m \u001b[38;5;28;01mNone\u001b[39;00m:\n\u001b[1;32m     41\u001b[0m     \u001b[38;5;28mself\u001b[39m\u001b[38;5;241m.\u001b[39memail \u001b[38;5;241m=\u001b[39m email\n\u001b[0;32m---> 42\u001b[0m     token, _ \u001b[38;5;241m=\u001b[39m \u001b[38;5;28;01mawait\u001b[39;00m get_token_by_email(email)\n\u001b[1;32m     43\u001b[0m     \u001b[38;5;28;01mif\u001b[39;00m \u001b[38;5;129;01mnot\u001b[39;00m token:\n\u001b[1;32m     44\u001b[0m         \u001b[38;5;28;01mraise\u001b[39;00m \u001b[38;5;167;01mValueError\u001b[39;00m(\u001b[38;5;124mf\u001b[39m\u001b[38;5;124m\"\u001b[39m\u001b[38;5;124mNo token found for email: \u001b[39m\u001b[38;5;132;01m{\u001b[39;00memail\u001b[38;5;132;01m}\u001b[39;00m\u001b[38;5;124m\"\u001b[39m)\n",
      "\u001b[0;31mTypeError\u001b[0m: cannot unpack non-iterable NoneType object"
     ]
    }
   ],
   "source": [
    "\n",
    "client = await APIClient.create(email=\"dmitrygrankin0@gmail.com\")"
   ]
  },
  {
   "cell_type": "code",
   "execution_count": 13,
   "metadata": {},
   "outputs": [
    {
     "data": {
      "text/plain": [
       "<api_client.APIClient at 0x7fd3a5fd0dd0>"
      ]
     },
     "execution_count": 13,
     "metadata": {},
     "output_type": "execute_result"
    }
   ],
   "source": [
    "client"
   ]
  },
  {
   "cell_type": "code",
   "execution_count": 14,
   "metadata": {},
   "outputs": [],
   "source": [
    "\n",
    "# Auth examples\n",
    "#auth_result = await client.google_auth(\"google_token_here\", {\"utm_source\": \"web\"})\n",
    "\n"
   ]
  },
  {
   "cell_type": "code",
   "execution_count": 15,
   "metadata": {},
   "outputs": [],
   "source": [
    "#token_result = await client.submit_token(\"918c9f3899d54f3bbcf445cd053c2304\")\n",
    "    \n"
   ]
  },
  {
   "cell_type": "markdown",
   "metadata": {},
   "source": [
    "### Contents"
   ]
  },
  {
   "cell_type": "code",
   "execution_count": 16,
   "metadata": {},
   "outputs": [],
   "source": [
    "contents = await client.get_contents(\n",
    "    only_archived=False,\n",
    "    offset=0,\n",
    "    limit=20\n",
    ")"
   ]
  },
  {
   "cell_type": "code",
   "execution_count": 17,
   "metadata": {},
   "outputs": [
    {
     "data": {
      "text/plain": [
       "{'total': 3,\n",
       " 'contents': [{'content_id': '8a5f28e7-e970-44ba-9ced-740f176e69c3',\n",
       "   'type': 'meeting',\n",
       "   'text': None,\n",
       "   'timestamp': '2025-02-04T12:30:11',\n",
       "   'is_indexed': False,\n",
       "   'is_owner': True,\n",
       "   'access_level': 'owner',\n",
       "   'entities': [{'name': 'Dmitriy Grankin', 'type': 'speaker'}]},\n",
       "  {'content_id': 'e36a3d84-a63e-4f86-b119-7bd4e7696c2b',\n",
       "   'type': 'meeting',\n",
       "   'text': None,\n",
       "   'timestamp': '2025-02-04T11:15:46',\n",
       "   'is_indexed': False,\n",
       "   'is_owner': True,\n",
       "   'access_level': 'owner',\n",
       "   'entities': [{'name': 'Artem Puzik', 'type': 'speaker'}]},\n",
       "  {'content_id': '08aba88d-3c49-4969-8471-609666e7514a',\n",
       "   'type': 'meeting',\n",
       "   'text': None,\n",
       "   'timestamp': '2025-02-04T10:02:37',\n",
       "   'is_indexed': False,\n",
       "   'is_owner': True,\n",
       "   'access_level': 'owner',\n",
       "   'entities': [{'name': 'Dmitriy Grankin', 'type': 'speaker'}]}]}"
      ]
     },
     "execution_count": 17,
     "metadata": {},
     "output_type": "execute_result"
    }
   ],
   "source": [
    "contents"
   ]
  },
  {
   "cell_type": "code",
   "execution_count": 18,
   "metadata": {},
   "outputs": [],
   "source": [
    "# Add new content\n",
    "content = await client.add_content(\n",
    "    body=\"Sample content text\",\n",
    "    content_type=\"note\",\n",
    "    entities=[{\"type\": \"tag\", \"name\": \"test\"}]\n",
    ")\n"
   ]
  },
  {
   "cell_type": "code",
   "execution_count": null,
   "metadata": {},
   "outputs": [],
   "source": []
  },
  {
   "cell_type": "code",
   "execution_count": 20,
   "metadata": {},
   "outputs": [],
   "source": [
    "content_id = content[\"content_id\"]"
   ]
  },
  {
   "cell_type": "code",
   "execution_count": 21,
   "metadata": {},
   "outputs": [
    {
     "data": {
      "text/plain": [
       "{'content_id': 'c7adad2c-d7f1-404b-bc4a-0d1e82bf0e75',\n",
       " 'type': 'note',\n",
       " 'text': 'Sample content text',\n",
       " 'timestamp': '2025-02-04T14:58:43.128391',\n",
       " 'is_indexed': False,\n",
       " 'access_level': 'owner',\n",
       " 'is_owner': True,\n",
       " 'entities': [{'name': 'test', 'type': 'tag'}],\n",
       " 'parent_id': None,\n",
       " 'meta': None}"
      ]
     },
     "execution_count": 21,
     "metadata": {},
     "output_type": "execute_result"
    }
   ],
   "source": [
    "# Get single content\n",
    "single_content = await client.get_content(content_id)\n",
    "single_content\n",
    "\n"
   ]
  },
  {
   "cell_type": "code",
   "execution_count": 22,
   "metadata": {},
   "outputs": [],
   "source": [
    "archived = await client.archive_content(content_id)"
   ]
  },
  {
   "cell_type": "code",
   "execution_count": 23,
   "metadata": {},
   "outputs": [
    {
     "data": {
      "text/plain": [
       "{'success': True}"
      ]
     },
     "execution_count": 23,
     "metadata": {},
     "output_type": "execute_result"
    }
   ],
   "source": [
    "archived"
   ]
  },
  {
   "cell_type": "code",
   "execution_count": 24,
   "metadata": {},
   "outputs": [
    {
     "data": {
      "text/plain": [
       "'c7adad2c-d7f1-404b-bc4a-0d1e82bf0e75'"
      ]
     },
     "execution_count": 24,
     "metadata": {},
     "output_type": "execute_result"
    }
   ],
   "source": [
    "content_id"
   ]
  },
  {
   "cell_type": "code",
   "execution_count": 25,
   "metadata": {},
   "outputs": [
    {
     "name": "stdout",
     "output_type": "stream",
     "text": [
      "Content not found or no access\n"
     ]
    }
   ],
   "source": [
    "try:\n",
    "    single_content = await client.get_content(content_id)\n",
    "except Exception as e:\n",
    "    print(e)\n",
    "\n",
    "\n",
    "#OK - content unavailable after archive"
   ]
  },
  {
   "cell_type": "code",
   "execution_count": 26,
   "metadata": {},
   "outputs": [
    {
     "data": {
      "text/plain": [
       "{'content_id': 'c7adad2c-d7f1-404b-bc4a-0d1e82bf0e75',\n",
       " 'type': 'note',\n",
       " 'text': 'Sample content text',\n",
       " 'timestamp': '2025-02-04T14:58:43.128391',\n",
       " 'is_indexed': False,\n",
       " 'access_level': 'owner',\n",
       " 'is_owner': True,\n",
       " 'entities': [{'name': 'test', 'type': 'tag'}],\n",
       " 'parent_id': None,\n",
       " 'meta': None}"
      ]
     },
     "execution_count": 26,
     "metadata": {},
     "output_type": "execute_result"
    }
   ],
   "source": [
    "restored = await client.restore_content(content_id)\n",
    "single_content = await client.get_content(content_id)\n",
    "single_content"
   ]
  },
  {
   "cell_type": "code",
   "execution_count": 27,
   "metadata": {},
   "outputs": [
    {
     "name": "stdout",
     "output_type": "stream",
     "text": [
      "Content not found or no access\n"
     ]
    }
   ],
   "source": [
    "\n",
    "try:\n",
    "    deleted = await client.delete_content(content_id)\n",
    "except Exception as e:\n",
    "    print(e)\n",
    "try:\n",
    "    single_content = await client.get_content(content_id)\n",
    "except Exception as e:\n",
    "    print(e)\n",
    "    \n",
    "#OK - content unavailable after delete"
   ]
  },
  {
   "cell_type": "code",
   "execution_count": 28,
   "metadata": {},
   "outputs": [
    {
     "name": "stdout",
     "output_type": "stream",
     "text": [
      "Content not found or not archived\n"
     ]
    }
   ],
   "source": [
    "\n",
    "try:\n",
    "    restored = await client.restore_content(content_id)\n",
    "except Exception as e:\n",
    "    print(e)\n",
    "try:\n",
    "    single_content = await client.get_content(content_id)\n",
    "except Exception as e:\n",
    "    print(e)\n",
    "\n",
    "#OK - content unavailable after delete"
   ]
  },
  {
   "cell_type": "code",
   "execution_count": 29,
   "metadata": {},
   "outputs": [
    {
     "data": {
      "text/plain": [
       "{'content_id': 'de23ed0f-234f-4200-ae23-839e198bca15'}"
      ]
     },
     "execution_count": 29,
     "metadata": {},
     "output_type": "execute_result"
    }
   ],
   "source": [
    "# Add new content\n",
    "content = await client.add_content(\n",
    "    body=\"Sample content text\",\n",
    "    content_type=\"note\",\n",
    "    entities=[{\"type\": \"speaker\", \"name\": \"John Doe\"}]\n",
    ")\n",
    "content"
   ]
  },
  {
   "cell_type": "code",
   "execution_count": 30,
   "metadata": {},
   "outputs": [],
   "source": [
    "# Sharing\n",
    "share_link = await client.create_share_link(\n",
    "    access_level=\"transcript\",\n",
    "    content_ids=[content_id],\n",
    "    target_email=\"recipient@example.com\",\n",
    "    expiration_hours=24\n",
    ")\n",
    "    \n"
   ]
  },
  {
   "cell_type": "code",
   "execution_count": 31,
   "metadata": {},
   "outputs": [],
   "source": [
    "accepted = await client.accept_share_link(\n",
    "    token=share_link[\"token\"],\n",
    "    accepting_email=\"recipient@example.com\"\n",
    ")\n"
   ]
  },
  {
   "cell_type": "code",
   "execution_count": 32,
   "metadata": {},
   "outputs": [
    {
     "data": {
      "text/plain": [
       "{'status': 'queued', 'message': 'Content has been queued for indexing'}"
      ]
     },
     "execution_count": 32,
     "metadata": {},
     "output_type": "execute_result"
    }
   ],
   "source": [
    "\n",
    "# Index content\n",
    "indexed = await client.index_content(content_id)\n",
    "indexed\n",
    "\n"
   ]
  },
  {
   "cell_type": "code",
   "execution_count": 33,
   "metadata": {},
   "outputs": [
    {
     "data": {
      "text/plain": [
       "[{'name': 'John Doe', 'type': 'speaker', 'id': 5704},\n",
       " {'name': 'Dmitriy Grankin', 'type': 'speaker', 'id': 3440},\n",
       " {'name': 'Sergey Ryabenko', 'type': 'speaker', 'id': 3441},\n",
       " {'name': 'Artem Puzik', 'type': 'speaker', 'id': 3484},\n",
       " {'name': 'Zlata Shakhovich', 'type': 'speaker', 'id': 5965}]"
      ]
     },
     "execution_count": 33,
     "metadata": {},
     "output_type": "execute_result"
    }
   ],
   "source": [
    "# Entity management\n",
    "entities = await client.get_entities(\"speaker\", offset=0, limit=20)\n",
    "entities\n"
   ]
  },
  {
   "cell_type": "code",
   "execution_count": 34,
   "metadata": {},
   "outputs": [
    {
     "data": {
      "text/plain": [
       "[{'name': 'test', 'type': 'tag', 'id': 5722}]"
      ]
     },
     "execution_count": 34,
     "metadata": {},
     "output_type": "execute_result"
    }
   ],
   "source": [
    "# Entity management\n",
    "entities = await client.get_entities(\"tag\", offset=0, limit=20)\n",
    "entities\n"
   ]
  },
  {
   "cell_type": "code",
   "execution_count": 35,
   "metadata": {},
   "outputs": [
    {
     "name": "stdout",
     "output_type": "stream",
     "text": [
      "{'chunk': '**'}\n",
      "{'chunk': 'V'}\n",
      "{'chunk': 'exa'}\n",
      "{'chunk': '**'}\n",
      "{'chunk': ' is'}\n",
      "{'chunk': ' a'}\n",
      "{'chunk': ' term'}\n",
      "{'chunk': ' that'}\n",
      "{'chunk': ' can'}\n",
      "{'chunk': ' refer'}\n",
      "{'chunk': ' to'}\n",
      "{'chunk': ' different'}\n",
      "{'chunk': ' things'}\n",
      "{'chunk': ' depending'}\n",
      "{'chunk': ' on'}\n",
      "{'chunk': ' the'}\n",
      "{'chunk': ' context'}\n",
      "{'chunk': '.'}\n",
      "{'chunk': ' However'}\n",
      "{'chunk': ','}\n",
      "{'chunk': ' in'}\n",
      "{'chunk': ' the'}\n",
      "{'chunk': ' tech'}\n",
      "{'chunk': ' and'}\n",
      "{'chunk': ' business'}\n",
      "{'chunk': ' landscape'}\n",
      "{'chunk': ','}\n",
      "{'chunk': ' it'}\n",
      "{'chunk': ' is'}\n",
      "{'chunk': ' often'}\n",
      "{'chunk': ' associated'}\n",
      "{'chunk': ' with'}\n",
      "{'chunk': ' a'}\n",
      "{'chunk': ' software'}\n",
      "{'chunk': ' platform'}\n",
      "{'chunk': ' or'}\n",
      "{'chunk': ' a'}\n",
      "{'chunk': ' company'}\n",
      "{'chunk': ' that'}\n",
      "{'chunk': ' provides'}\n",
      "{'chunk': ' solutions'}\n",
      "{'chunk': ' for'}\n",
      "{'chunk': ' data'}\n",
      "{'chunk': ' management'}\n",
      "{'chunk': ','}\n",
      "{'chunk': ' analytics'}\n",
      "{'chunk': ','}\n",
      "{'chunk': ' or'}\n",
      "{'chunk': ' cloud'}\n",
      "{'chunk': ' services'}\n",
      "{'chunk': '.'}\n",
      "{'chunk': ' \\n\\n'}\n",
      "{'chunk': 'If'}\n",
      "{'chunk': ' you'}\n",
      "{'chunk': ' are'}\n",
      "{'chunk': ' looking'}\n",
      "{'chunk': ' for'}\n",
      "{'chunk': ' specific'}\n",
      "{'chunk': ' information'}\n",
      "{'chunk': ' about'}\n",
      "{'chunk': ' a'}\n",
      "{'chunk': ' company'}\n",
      "{'chunk': ' named'}\n",
      "{'chunk': ' V'}\n",
      "{'chunk': 'exa'}\n",
      "{'chunk': ' or'}\n",
      "{'chunk': ' a'}\n",
      "{'chunk': ' particular'}\n",
      "{'chunk': ' product'}\n",
      "{'chunk': ','}\n",
      "{'chunk': ' please'}\n",
      "{'chunk': ' provide'}\n",
      "{'chunk': ' more'}\n",
      "{'chunk': ' details'}\n",
      "{'chunk': ','}\n",
      "{'chunk': ' and'}\n",
      "{'chunk': ' I'}\n",
      "{'chunk': ' can'}\n",
      "{'chunk': ' help'}\n",
      "{'chunk': ' you'}\n",
      "{'chunk': ' further'}\n",
      "{'chunk': '!'}\n",
      "{'thread_id': 'fb95c18b-62ec-4e92-8500-aad3567b25ef', 'content_id': None, 'entity_id': None, 'content_ids': None, 'entity_ids': None, 'output': '**Vexa** is a term that can refer to different things depending on the context. However, in the tech and business landscape, it is often associated with a software platform or a company that provides solutions for data management, analytics, or cloud services. \\n\\nIf you are looking for specific information about a company named Vexa or a particular product, please provide more details, and I can help you further!', 'linked_output': '**Vexa** is a term that can refer to different things depending on the context. However, in the tech and business landscape, it is often associated with a software platform or a company that provides solutions for data management, analytics, or cloud services. \\n\\nIf you are looking for specific information about a company named Vexa or a particular product, please provide more details, and I can help you further!', 'service_content': {'output': '**Vexa** is a term that can refer to different things depending on the context. However, in the tech and business landscape, it is often associated with a software platform or a company that provides solutions for data management, analytics, or cloud services. \\n\\nIf you are looking for specific information about a company named Vexa or a particular product, please provide more details, and I can help you further!', 'context': 'No relevant context found.'}}\n"
     ]
    }
   ],
   "source": [
    "# Chat interactions\n",
    "async for response in client.chat(\n",
    "    query=\"what is vexa?\",\n",
    "    model=\"gpt-4o-mini\",\n",
    "    temperature=0.7\n",
    "):\n",
    "    print(response)\n",
    "\n"
   ]
  },
  {
   "cell_type": "code",
   "execution_count": 36,
   "metadata": {},
   "outputs": [
    {
     "name": "stdout",
     "output_type": "stream",
     "text": [
      "{'chunk': 'You'}\n",
      "{'chunk': ' are'}\n",
      "{'chunk': ' Dmit'}\n",
      "{'chunk': 'riy'}\n",
      "{'chunk': ' Gr'}\n",
      "{'chunk': 'ank'}\n",
      "{'chunk': 'in'}\n",
      "{'chunk': ','}\n",
      "{'chunk': ' and'}\n",
      "{'chunk': ' I'}\n",
      "{'chunk': ' am'}\n",
      "{'chunk': ' here'}\n",
      "{'chunk': ' to'}\n",
      "{'chunk': ' assist'}\n",
      "{'chunk': ' you'}\n",
      "{'chunk': ' with'}\n",
      "{'chunk': ' your'}\n",
      "{'chunk': ' inquiries'}\n",
      "{'chunk': ' and'}\n",
      "{'chunk': ' provide'}\n",
      "{'chunk': ' information'}\n",
      "{'chunk': ' tailored'}\n",
      "{'chunk': ' to'}\n",
      "{'chunk': ' your'}\n",
      "{'chunk': ' interests'}\n",
      "{'chunk': ' and'}\n",
      "{'chunk': ' needs'}\n",
      "{'chunk': '.'}\n",
      "{'chunk': ' If'}\n",
      "{'chunk': ' you'}\n",
      "{'chunk': ' have'}\n",
      "{'chunk': ' specific'}\n",
      "{'chunk': ' questions'}\n",
      "{'chunk': ' or'}\n",
      "{'chunk': ' topics'}\n",
      "{'chunk': \" you'd\"}\n",
      "{'chunk': ' like'}\n",
      "{'chunk': ' to'}\n",
      "{'chunk': ' explore'}\n",
      "{'chunk': ','}\n",
      "{'chunk': ' feel'}\n",
      "{'chunk': ' free'}\n",
      "{'chunk': ' to'}\n",
      "{'chunk': ' ask'}\n",
      "{'chunk': '!'}\n",
      "{'thread_id': '91d1f279-13d2-4de1-8aa0-d7cd2491e676', 'content_id': None, 'entity_id': None, 'content_ids': None, 'entity_ids': None, 'output': \"You are Dmitriy Grankin, and I am here to assist you with your inquiries and provide information tailored to your interests and needs. If you have specific questions or topics you'd like to explore, feel free to ask!\", 'linked_output': \"You are Dmitriy Grankin, and I am here to assist you with your inquiries and provide information tailored to your interests and needs. If you have specific questions or topics you'd like to explore, feel free to ask!\", 'service_content': {'output': \"You are Dmitriy Grankin, and I am here to assist you with your inquiries and provide information tailored to your interests and needs. If you have specific questions or topics you'd like to explore, feel free to ask!\", 'context': 'No relevant context found.'}}\n"
     ]
    }
   ],
   "source": [
    "# Chat interactions\n",
    "async for response in client.chat(\n",
    "    query=\"who is Dmitry?\",\n",
    "    model=\"gpt-4o-mini\",\n",
    "    temperature=0.7\n",
    "):\n",
    "    print(response)\n",
    "\n"
   ]
  },
  {
   "cell_type": "code",
   "execution_count": 37,
   "metadata": {},
   "outputs": [
    {
     "name": "stdout",
     "output_type": "stream",
     "text": [
      "{'error': \"Edit failed: ChatManager.edit_and_continue() missing 1 required positional argument: 'context_provider'\"}\n"
     ]
    }
   ],
   "source": [
    "# Edit chat message\n",
    "async for response in client.edit_chat_message(\n",
    "    thread_id=\"thread_123\",\n",
    "    message_index=1,\n",
    "    new_content=\"Updated message content\",\n",
    "    model=\"gpt-4o-mini\"\n",
    "):\n",
    "    print(response)\n"
   ]
  },
  {
   "cell_type": "code",
   "execution_count": 38,
   "metadata": {},
   "outputs": [],
   "source": [
    "\n",
    "# Thread management\n",
    "threads = await client.get_threads(\n",
    " #   content_id=content_id,\n",
    "    only_archived=False,\n",
    "    limit=50,\n",
    "    start_date=datetime.now() - timedelta(days=7)\n",
    ")\n"
   ]
  },
  {
   "cell_type": "code",
   "execution_count": 39,
   "metadata": {},
   "outputs": [
    {
     "data": {
      "text/plain": [
       "{'total': 2,\n",
       " 'threads': [{'thread_id': '91d1f279-13d2-4de1-8aa0-d7cd2491e676',\n",
       "   'thread_name': 'who is Dmitry?',\n",
       "   'timestamp': '2025-02-04T14:59:15.640980+00:00',\n",
       "   'content_id': None,\n",
       "   'entity_id': None,\n",
       "   'meta': None,\n",
       "   'is_archived': False},\n",
       "  {'thread_id': 'fb95c18b-62ec-4e92-8500-aad3567b25ef',\n",
       "   'thread_name': 'what is vexa?',\n",
       "   'timestamp': '2025-02-04T14:59:14.169357+00:00',\n",
       "   'content_id': None,\n",
       "   'entity_id': None,\n",
       "   'meta': None,\n",
       "   'is_archived': False}]}"
      ]
     },
     "execution_count": 39,
     "metadata": {},
     "output_type": "execute_result"
    }
   ],
   "source": [
    "threads"
   ]
  },
  {
   "cell_type": "code",
   "execution_count": 40,
   "metadata": {},
   "outputs": [
    {
     "ename": "ValueError",
     "evalue": "Thread not found",
     "output_type": "error",
     "traceback": [
      "\u001b[0;31m---------------------------------------------------------------------------\u001b[0m",
      "\u001b[0;31mValueError\u001b[0m                                Traceback (most recent call last)",
      "Cell \u001b[0;32mIn[40], line 1\u001b[0m\n\u001b[0;32m----> 1\u001b[0m thread \u001b[38;5;241m=\u001b[39m \u001b[38;5;28;01mawait\u001b[39;00m client\u001b[38;5;241m.\u001b[39mget_thread(\u001b[38;5;124m\"\u001b[39m\u001b[38;5;124mthread_123\u001b[39m\u001b[38;5;124m\"\u001b[39m)\n\u001b[1;32m      2\u001b[0m archived_thread \u001b[38;5;241m=\u001b[39m \u001b[38;5;28;01mawait\u001b[39;00m client\u001b[38;5;241m.\u001b[39marchive_thread(\u001b[38;5;124m\"\u001b[39m\u001b[38;5;124mthread_123\u001b[39m\u001b[38;5;124m\"\u001b[39m)\n\u001b[1;32m      3\u001b[0m restored_thread \u001b[38;5;241m=\u001b[39m \u001b[38;5;28;01mawait\u001b[39;00m client\u001b[38;5;241m.\u001b[39mrestore_thread(\u001b[38;5;124m\"\u001b[39m\u001b[38;5;124mthread_123\u001b[39m\u001b[38;5;124m\"\u001b[39m)\n",
      "File \u001b[0;32m/app/api_client.py:383\u001b[0m, in \u001b[0;36mAPIClient.get_thread\u001b[0;34m(self, thread_id)\u001b[0m\n\u001b[1;32m    381\u001b[0m     \u001b[38;5;28;01mreturn\u001b[39;00m response\u001b[38;5;241m.\u001b[39mjson()\n\u001b[1;32m    382\u001b[0m \u001b[38;5;28;01melif\u001b[39;00m response\u001b[38;5;241m.\u001b[39mstatus_code \u001b[38;5;241m==\u001b[39m \u001b[38;5;241m404\u001b[39m:\n\u001b[0;32m--> 383\u001b[0m     \u001b[38;5;28;01mraise\u001b[39;00m \u001b[38;5;167;01mValueError\u001b[39;00m(\u001b[38;5;124m\"\u001b[39m\u001b[38;5;124mThread not found\u001b[39m\u001b[38;5;124m\"\u001b[39m)\n\u001b[1;32m    384\u001b[0m \u001b[38;5;28;01melse\u001b[39;00m:\n\u001b[1;32m    385\u001b[0m     \u001b[38;5;28;01mraise\u001b[39;00m APIError(\u001b[38;5;124mf\u001b[39m\u001b[38;5;124m\"\u001b[39m\u001b[38;5;124mFailed to get thread: \u001b[39m\u001b[38;5;132;01m{\u001b[39;00mresponse\u001b[38;5;241m.\u001b[39mtext\u001b[38;5;132;01m}\u001b[39;00m\u001b[38;5;124m\"\u001b[39m)\n",
      "\u001b[0;31mValueError\u001b[0m: Thread not found"
     ]
    }
   ],
   "source": [
    "\n",
    "\n",
    "thread = await client.get_thread(\"thread_123\")\n",
    "archived_thread = await client.archive_thread(\"thread_123\")\n",
    "restored_thread = await client.restore_thread(\"thread_123\")\n",
    "renamed = await client.rename_thread(\"thread_123\", \"New Thread Name\")\n"
   ]
  },
  {
   "cell_type": "code",
   "execution_count": 41,
   "metadata": {},
   "outputs": [
    {
     "name": "stdout",
     "output_type": "stream",
     "text": [
      "\n",
      "Creating user prompt...\n",
      "Created user prompt with ID: 2\n",
      "\n",
      "Getting all prompts...\n",
      "All prompts:\n",
      "- speaker: What did {speaker} say about {topic}? (alias: speaker_topic)\n",
      "\n",
      "Getting meeting prompts...\n",
      "Meeting prompts:\n"
     ]
    }
   ],
   "source": [
    "\n",
    "print(\"\\nCreating user prompt...\")\n",
    "user_prompt = await client.create_prompt(\n",
    "    prompt=\"What did {speaker} say about {topic}?\",\n",
    "    prompt_type=\"speaker\",\n",
    "    alias=\"speaker_topic\"\n",
    ")\n",
    "print(f\"Created user prompt with ID: {user_prompt['prompt_id']}\")\n",
    "\n",
    "print(\"\\nGetting all prompts...\")\n",
    "all_prompts = await client.get_prompts()\n",
    "print(\"All prompts:\")\n",
    "for p in all_prompts:\n",
    "    print(f\"- {p['type']}: {p['prompt']}\" + (f\" (alias: {p['alias']})\" if p['alias'] else \"\"))\n",
    "\n",
    "print(\"\\nGetting meeting prompts...\")\n",
    "meeting_prompts = await client.get_prompts(prompt_type=\"meeting\")\n",
    "print(\"Meeting prompts:\")\n",
    "for p in meeting_prompts:\n",
    "    print(f\"- {p['prompt']}\" + (f\" (alias: {p['alias']})\" if p['alias'] else \"\"))"
   ]
  },
  {
   "cell_type": "code",
   "execution_count": 7,
   "metadata": {},
   "outputs": [
    {
     "name": "stdout",
     "output_type": "stream",
     "text": [
      "\n",
      "Creating user prompt...\n",
      "Created user prompt with ID: 3\n",
      "\n",
      "Getting all prompts...\n",
      "All prompts:\n",
      "- speaker: What did {speaker} say about {topic}? (alias: speaker_topic)\n",
      "\n",
      "Getting meeting prompts...\n",
      "Meeting prompts:\n",
      "\n",
      "Updating prompt...\n",
      "Update result: {'success': True}\n",
      "\n",
      "Verifying update...\n",
      "Updated prompt: speaker: What did {speaker} discuss about {topic}? (alias: speaker_discussion)\n",
      "\n",
      "Deleting prompt...\n",
      "Delete result: {'success': True}\n",
      "\n",
      "Verifying deletion...\n",
      "Remaining prompts count: 0\n",
      "\n",
      "Testing error cases...\n",
      "Expected error on non-existent prompt: Prompt not found\n",
      "Expected error on non-existent prompt: Prompt not found\n"
     ]
    },
    {
     "ename": "NameError",
     "evalue": "name 'APIError' is not defined",
     "output_type": "error",
     "traceback": [
      "\u001b[0;31m---------------------------------------------------------------------------\u001b[0m",
      "\u001b[0;31mAPIError\u001b[0m                                  Traceback (most recent call last)",
      "Cell \u001b[0;32mIn[7], line 62\u001b[0m\n\u001b[1;32m     61\u001b[0m \u001b[38;5;28;01mtry\u001b[39;00m:\n\u001b[0;32m---> 62\u001b[0m     \u001b[38;5;28;01mawait\u001b[39;00m client\u001b[38;5;241m.\u001b[39mupdate_prompt(prompt_id, prompt_type\u001b[38;5;241m=\u001b[39m\u001b[38;5;124m\"\u001b[39m\u001b[38;5;124minvalid_type\u001b[39m\u001b[38;5;124m\"\u001b[39m)\n\u001b[1;32m     63\u001b[0m     \u001b[38;5;28mprint\u001b[39m(\u001b[38;5;124m\"\u001b[39m\u001b[38;5;124mShould not reach here\u001b[39m\u001b[38;5;124m\"\u001b[39m)\n",
      "File \u001b[0;32m/app/api_client.py:473\u001b[0m, in \u001b[0;36mAPIClient.update_prompt\u001b[0;34m(self, prompt_id, prompt, prompt_type, alias)\u001b[0m\n\u001b[1;32m    472\u001b[0m \u001b[38;5;28;01melse\u001b[39;00m:\n\u001b[0;32m--> 473\u001b[0m     \u001b[38;5;28;01mraise\u001b[39;00m APIError(\u001b[38;5;124mf\u001b[39m\u001b[38;5;124m\"\u001b[39m\u001b[38;5;124mFailed to update prompt: \u001b[39m\u001b[38;5;132;01m{\u001b[39;00mresponse\u001b[38;5;241m.\u001b[39mtext\u001b[38;5;132;01m}\u001b[39;00m\u001b[38;5;124m\"\u001b[39m)\n",
      "\u001b[0;31mAPIError\u001b[0m: Failed to update prompt: {\"detail\":\"Invalid prompt type. Must be one of: ['meeting', 'note', 'speaker', 'tag', 'chat']\"}",
      "\nDuring handling of the above exception, another exception occurred:\n",
      "\u001b[0;31mNameError\u001b[0m                                 Traceback (most recent call last)",
      "Cell \u001b[0;32mIn[7], line 64\u001b[0m\n\u001b[1;32m     62\u001b[0m     \u001b[38;5;28;01mawait\u001b[39;00m client\u001b[38;5;241m.\u001b[39mupdate_prompt(prompt_id, prompt_type\u001b[38;5;241m=\u001b[39m\u001b[38;5;124m\"\u001b[39m\u001b[38;5;124minvalid_type\u001b[39m\u001b[38;5;124m\"\u001b[39m)\n\u001b[1;32m     63\u001b[0m     \u001b[38;5;28mprint\u001b[39m(\u001b[38;5;124m\"\u001b[39m\u001b[38;5;124mShould not reach here\u001b[39m\u001b[38;5;124m\"\u001b[39m)\n\u001b[0;32m---> 64\u001b[0m \u001b[38;5;28;01mexcept\u001b[39;00m \u001b[43mAPIError\u001b[49m \u001b[38;5;28;01mas\u001b[39;00m e:\n\u001b[1;32m     65\u001b[0m     \u001b[38;5;28mprint\u001b[39m(\u001b[38;5;124mf\u001b[39m\u001b[38;5;124m\"\u001b[39m\u001b[38;5;124mExpected error on invalid prompt type: \u001b[39m\u001b[38;5;132;01m{\u001b[39;00me\u001b[38;5;132;01m}\u001b[39;00m\u001b[38;5;124m\"\u001b[39m)\n",
      "\u001b[0;31mNameError\u001b[0m: name 'APIError' is not defined"
     ]
    }
   ],
   "source": [
    "print(\"\\nCreating user prompt...\")\n",
    "user_prompt = await client.create_prompt(\n",
    "    prompt=\"What did {speaker} say about {topic}?\",\n",
    "    prompt_type=\"speaker\",\n",
    "    alias=\"speaker_topic\"\n",
    ")\n",
    "print(f\"Created user prompt with ID: {user_prompt['prompt_id']}\")\n",
    "\n",
    "print(\"\\nGetting all prompts...\")\n",
    "all_prompts = await client.get_prompts()\n",
    "print(\"All prompts:\")\n",
    "for p in all_prompts:\n",
    "    print(f\"- {p['type']}: {p['prompt']}\" + (f\" (alias: {p['alias']})\" if p['alias'] else \"\"))\n",
    "\n",
    "print(\"\\nGetting meeting prompts...\")\n",
    "meeting_prompts = await client.get_prompts(prompt_type=\"meeting\")\n",
    "print(\"Meeting prompts:\")\n",
    "for p in meeting_prompts:\n",
    "    print(f\"- {p['prompt']}\" + (f\" (alias: {p['alias']})\" if p['alias'] else \"\"))\n",
    "\n",
    "print(\"\\nUpdating prompt...\")\n",
    "prompt_id = user_prompt['prompt_id']\n",
    "update_result = await client.update_prompt(\n",
    "    prompt_id=prompt_id,\n",
    "    prompt=\"What did {speaker} discuss about {topic}?\",\n",
    "    prompt_type=\"speaker\",\n",
    "    alias=\"speaker_discussion\"\n",
    ")\n",
    "print(f\"Update result: {update_result}\")\n",
    "\n",
    "print(\"\\nVerifying update...\")\n",
    "updated_prompts = await client.get_prompts()\n",
    "for p in updated_prompts:\n",
    "    if p['id'] == prompt_id:\n",
    "        print(f\"Updated prompt: {p['type']}: {p['prompt']}\" + (f\" (alias: {p['alias']})\" if p['alias'] else \"\"))\n",
    "\n",
    "print(\"\\nDeleting prompt...\")\n",
    "delete_result = await client.delete_prompt(prompt_id)\n",
    "print(f\"Delete result: {delete_result}\")\n",
    "\n",
    "print(\"\\nVerifying deletion...\")\n",
    "remaining_prompts = await client.get_prompts()\n",
    "print(f\"Remaining prompts count: {len(remaining_prompts)}\")\n",
    "for p in remaining_prompts:\n",
    "    print(f\"- {p['type']}: {p['prompt']}\" + (f\" (alias: {p['alias']})\" if p['alias'] else \"\"))\n",
    "\n",
    "# Error handling examples\n",
    "print(\"\\nTesting error cases...\")\n",
    "try:\n",
    "    await client.update_prompt(999999, prompt=\"This should fail\")\n",
    "    print(\"Should not reach here\")\n",
    "except ValueError as e:\n",
    "    print(f\"Expected error on non-existent prompt: {e}\")\n",
    "\n",
    "try:\n",
    "    await client.delete_prompt(999999)\n",
    "    print(\"Should not reach here\")\n",
    "except ValueError as e:\n",
    "    print(f\"Expected error on non-existent prompt: {e}\")\n",
    "\n",
    "try:\n",
    "    await client.update_prompt(prompt_id, prompt_type=\"invalid_type\")\n",
    "    print(\"Should not reach here\")\n",
    "except APIError as e:\n",
    "    print(f\"Expected error on invalid prompt type: {e}\")"
   ]
  },
  {
   "cell_type": "code",
   "execution_count": null,
   "metadata": {},
   "outputs": [],
   "source": []
  }
 ],
 "metadata": {
  "kernelspec": {
   "display_name": "Python 3",
   "language": "python",
   "name": "python3"
  },
  "language_info": {
   "codemirror_mode": {
    "name": "ipython",
    "version": 3
   },
   "file_extension": ".py",
   "mimetype": "text/x-python",
   "name": "python",
   "nbconvert_exporter": "python",
   "pygments_lexer": "ipython3",
   "version": "3.11.11"
  }
 },
 "nbformat": 4,
 "nbformat_minor": 2
}
