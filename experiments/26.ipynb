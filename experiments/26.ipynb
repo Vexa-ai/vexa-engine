{
 "cells": [
  {
   "cell_type": "code",
   "execution_count": 1,
   "metadata": {},
   "outputs": [],
   "source": [
    "%load_ext autoreload\n",
    "%autoreload 2"
   ]
  },
  {
   "cell_type": "code",
   "execution_count": 2,
   "metadata": {},
   "outputs": [],
   "source": [
    "#python setup_database.py & python setup_qdrant.py & python setup_elastic.py & python setup_redis.py"
   ]
  },
  {
   "cell_type": "code",
   "execution_count": 3,
   "metadata": {},
   "outputs": [],
   "source": [
    "import sys\n",
    "sys.path.append('/app')"
   ]
  },
  {
   "cell_type": "code",
   "execution_count": 4,
   "metadata": {},
   "outputs": [],
   "source": [
    "\n",
    "from api_client import APIClient\n",
    "from uuid import UUID\n",
    "import asyncio\n",
    "from datetime import datetime, timedelta"
   ]
  },
  {
   "cell_type": "code",
   "execution_count": 5,
   "metadata": {},
   "outputs": [],
   "source": [
    "\n",
    "client = await APIClient.create(email=\"2280905@gmail.com\")"
   ]
  },
  {
   "cell_type": "code",
   "execution_count": 6,
   "metadata": {},
   "outputs": [
    {
     "data": {
      "text/plain": [
       "<api_client.APIClient at 0x7faebbc40050>"
      ]
     },
     "execution_count": 6,
     "metadata": {},
     "output_type": "execute_result"
    }
   ],
   "source": [
    "client"
   ]
  },
  {
   "cell_type": "code",
   "execution_count": 7,
   "metadata": {},
   "outputs": [],
   "source": [
    "\n",
    "# Auth examples\n",
    "#auth_result = await client.google_auth(\"google_token_here\", {\"utm_source\": \"web\"})\n",
    "\n"
   ]
  },
  {
   "cell_type": "code",
   "execution_count": 8,
   "metadata": {},
   "outputs": [],
   "source": [
    "token_result = await client.submit_token(\"3ae04e20124d40babc5107e658c666b6\")\n",
    "    \n"
   ]
  },
  {
   "cell_type": "code",
   "execution_count": 9,
   "metadata": {},
   "outputs": [
    {
     "data": {
      "text/plain": [
       "{'user_id': 'ef7c085b-fdb5-4c94-b7b6-a61a3d04c210',\n",
       " 'user_name': 'Dmitriy Grankin',\n",
       " 'image': None}"
      ]
     },
     "execution_count": 9,
     "metadata": {},
     "output_type": "execute_result"
    }
   ],
   "source": [
    "token_result"
   ]
  },
  {
   "cell_type": "code",
   "execution_count": 10,
   "metadata": {},
   "outputs": [
    {
     "data": {
      "text/plain": [
       "{'total': 778,\n",
       " 'contents': [{'content_id': '005d79ed-bbf8-44d3-8a21-ea859fe47ce5',\n",
       "   'type': 'meeting',\n",
       "   'text': None,\n",
       "   'timestamp': '2024-06-05T13:53:15.818873',\n",
       "   'is_indexed': False,\n",
       "   'is_owner': True,\n",
       "   'access_level': 'owner',\n",
       "   'entities': []},\n",
       "  {'content_id': '00a949d7-cdb8-4988-a138-0a37491ff177',\n",
       "   'type': 'meeting',\n",
       "   'text': None,\n",
       "   'timestamp': '2024-10-17T11:06:26',\n",
       "   'is_indexed': False,\n",
       "   'is_owner': True,\n",
       "   'access_level': 'owner',\n",
       "   'entities': []},\n",
       "  {'content_id': '01266938-c09c-4354-a084-1c4c9b36ac37',\n",
       "   'type': 'meeting',\n",
       "   'text': None,\n",
       "   'timestamp': '2024-07-31T19:05:41.579511',\n",
       "   'is_indexed': False,\n",
       "   'is_owner': True,\n",
       "   'access_level': 'owner',\n",
       "   'entities': [{'name': 'Avalanche Lion', 'type': 'speaker'}]},\n",
       "  {'content_id': '0179e794-e071-45e2-ae1c-f9d3880dc789',\n",
       "   'type': 'meeting',\n",
       "   'text': None,\n",
       "   'timestamp': '2024-06-30T07:03:32.394896',\n",
       "   'is_indexed': False,\n",
       "   'is_owner': True,\n",
       "   'access_level': 'owner',\n",
       "   'entities': [{'name': 'Gallant Knight', 'type': 'speaker'}]},\n",
       "  {'content_id': '0220af3b-b112-47c5-b65f-6e75778c0842',\n",
       "   'type': 'meeting',\n",
       "   'text': None,\n",
       "   'timestamp': '2024-11-25T13:53:17',\n",
       "   'is_indexed': False,\n",
       "   'is_owner': True,\n",
       "   'access_level': 'owner',\n",
       "   'entities': []},\n",
       "  {'content_id': '022b2361-82c7-49dd-af35-44b9eb707794',\n",
       "   'type': 'meeting',\n",
       "   'text': None,\n",
       "   'timestamp': '2024-09-05T10:46:02',\n",
       "   'is_indexed': False,\n",
       "   'is_owner': True,\n",
       "   'access_level': 'owner',\n",
       "   'entities': []},\n",
       "  {'content_id': '02e9ca50-756a-4d1a-95e9-e355572d1bcd',\n",
       "   'type': 'meeting',\n",
       "   'text': None,\n",
       "   'timestamp': '2024-07-09T17:24:51.284550',\n",
       "   'is_indexed': False,\n",
       "   'is_owner': True,\n",
       "   'access_level': 'owner',\n",
       "   'entities': [{'name': 'Frozen Spectre', 'type': 'speaker'}]},\n",
       "  {'content_id': '033983cb-a6cc-4f47-a787-21d394c3c327',\n",
       "   'type': 'meeting',\n",
       "   'text': None,\n",
       "   'timestamp': '2024-10-03T10:42:56',\n",
       "   'is_indexed': False,\n",
       "   'is_owner': True,\n",
       "   'access_level': 'owner',\n",
       "   'entities': [{'name': 'Dmitriy Grankin', 'type': 'speaker'}]},\n",
       "  {'content_id': '0349a69c-8028-49e5-8d20-7906e4e1d5dd',\n",
       "   'type': 'meeting',\n",
       "   'text': None,\n",
       "   'timestamp': '2024-09-05T09:16:22',\n",
       "   'is_indexed': False,\n",
       "   'is_owner': True,\n",
       "   'access_level': 'owner',\n",
       "   'entities': []},\n",
       "  {'content_id': '03a00cbb-5a17-4f0f-839d-9d6716cd392b',\n",
       "   'type': 'meeting',\n",
       "   'text': None,\n",
       "   'timestamp': '2024-08-22T15:02:22.566634',\n",
       "   'is_indexed': False,\n",
       "   'is_owner': True,\n",
       "   'access_level': 'owner',\n",
       "   'entities': [{'name': 'click to name speaker', 'type': 'speaker'}]},\n",
       "  {'content_id': '03a64799-e044-47a3-851e-21b4819a53d4',\n",
       "   'type': 'meeting',\n",
       "   'text': None,\n",
       "   'timestamp': '2024-09-27T09:14:13',\n",
       "   'is_indexed': False,\n",
       "   'is_owner': True,\n",
       "   'access_level': 'owner',\n",
       "   'entities': []},\n",
       "  {'content_id': '04406bb5-cc5f-4937-af16-036fa96ce789',\n",
       "   'type': 'meeting',\n",
       "   'text': None,\n",
       "   'timestamp': '2024-09-10T21:19:09',\n",
       "   'is_indexed': False,\n",
       "   'is_owner': True,\n",
       "   'access_level': 'owner',\n",
       "   'entities': [{'name': 'Dmitriy Grankin', 'type': 'speaker'}]},\n",
       "  {'content_id': '045b1182-d64d-421a-8b33-1ff503e7fd58',\n",
       "   'type': 'meeting',\n",
       "   'text': None,\n",
       "   'timestamp': '2024-09-02T18:07:19',\n",
       "   'is_indexed': False,\n",
       "   'is_owner': True,\n",
       "   'access_level': 'owner',\n",
       "   'entities': [{'name': 'Dmitriy Grankin', 'type': 'speaker'}]},\n",
       "  {'content_id': '0470691b-260e-4e65-94cc-b9114d08ee1a',\n",
       "   'type': 'meeting',\n",
       "   'text': None,\n",
       "   'timestamp': '2024-06-27T09:47:29.769568',\n",
       "   'is_indexed': False,\n",
       "   'is_owner': True,\n",
       "   'access_level': 'owner',\n",
       "   'entities': []},\n",
       "  {'content_id': '04de7398-49fd-4a57-962f-2798fc080b04',\n",
       "   'type': 'meeting',\n",
       "   'text': None,\n",
       "   'timestamp': '2024-09-26T14:00:39',\n",
       "   'is_indexed': False,\n",
       "   'is_owner': True,\n",
       "   'access_level': 'owner',\n",
       "   'entities': [{'name': 'Dmitriy Grankin', 'type': 'speaker'}]},\n",
       "  {'content_id': '053df0b9-d0d3-4018-8bbe-a89b2747f149',\n",
       "   'type': 'meeting',\n",
       "   'text': None,\n",
       "   'timestamp': '2024-10-16T11:51:11',\n",
       "   'is_indexed': False,\n",
       "   'is_owner': True,\n",
       "   'access_level': 'owner',\n",
       "   'entities': []},\n",
       "  {'content_id': '060ece36-9a69-438b-903c-8c46a46ddd95',\n",
       "   'type': 'meeting',\n",
       "   'text': None,\n",
       "   'timestamp': '2024-06-26T18:41:36.503043',\n",
       "   'is_indexed': False,\n",
       "   'is_owner': True,\n",
       "   'access_level': 'owner',\n",
       "   'entities': [{'name': 'Ethereal Nomad', 'type': 'speaker'}]},\n",
       "  {'content_id': '0610b3ba-38d4-420c-b2f1-345dff31f33a',\n",
       "   'type': 'meeting',\n",
       "   'text': None,\n",
       "   'timestamp': '2024-11-15T09:58:29',\n",
       "   'is_indexed': False,\n",
       "   'is_owner': True,\n",
       "   'access_level': 'owner',\n",
       "   'entities': []},\n",
       "  {'content_id': '06629e03-c6a1-4100-af68-1871697c8db2',\n",
       "   'type': 'meeting',\n",
       "   'text': None,\n",
       "   'timestamp': '2024-07-17T23:41:24.796281',\n",
       "   'is_indexed': False,\n",
       "   'is_owner': True,\n",
       "   'access_level': 'owner',\n",
       "   'entities': []},\n",
       "  {'content_id': '06e239a1-dbc9-4e3d-968c-a307f30c0adc',\n",
       "   'type': 'meeting',\n",
       "   'text': None,\n",
       "   'timestamp': '2024-10-09T12:05:41',\n",
       "   'is_indexed': False,\n",
       "   'is_owner': True,\n",
       "   'access_level': 'owner',\n",
       "   'entities': [{'name': 'Dmitriy Grankin', 'type': 'speaker'}]}]}"
      ]
     },
     "execution_count": 10,
     "metadata": {},
     "output_type": "execute_result"
    }
   ],
   "source": [
    "# Content management\n",
    "# Get contents with filters\n",
    "contents = await client.get_contents(\n",
    "    content_type=\"meeting\",\n",
    "    filters=[{\n",
    "       \"type\": \"speaker\",\n",
    "       \"values\": [\"Dmitry Grankin\"]\n",
    "    }],\n",
    "    offset=0,\n",
    "    limit=20\n",
    ")\n",
    "\n",
    "contents\n",
    "\n",
    "\n",
    "\n",
    "#failed - filter does not work"
   ]
  },
  {
   "cell_type": "code",
   "execution_count": 11,
   "metadata": {},
   "outputs": [],
   "source": [
    "# Add new content\n",
    "content = await client.add_content(\n",
    "    body=\"Sample content text\",\n",
    "    content_type=\"note\",\n",
    "    entities=[{\"type\": \"speaker\", \"name\": \"John Doe\"}]\n",
    ")\n"
   ]
  },
  {
   "cell_type": "code",
   "execution_count": 12,
   "metadata": {},
   "outputs": [
    {
     "data": {
      "text/plain": [
       "{'content_id': 'b97dc4ad-b5d3-4a5a-a7e5-b88ab95a559a'}"
      ]
     },
     "execution_count": 12,
     "metadata": {},
     "output_type": "execute_result"
    }
   ],
   "source": [
    "content"
   ]
  },
  {
   "cell_type": "code",
   "execution_count": 13,
   "metadata": {},
   "outputs": [],
   "source": [
    "content_id = UUID(content[\"content_id\"])\n",
    "\n",
    "# Get single content\n",
    "single_content = await client.get_content(content_id)\n",
    "single_content"
   ]
  },
  {
   "cell_type": "code",
   "execution_count": 15,
   "metadata": {},
   "outputs": [],
   "source": [
    "# Modify content\n",
    "modified = await client.modify_content(\n",
    "    content_id,\n",
    "    body=\"Updated content text\",\n",
    "    entities=[{\"type\": \"speaker\", \"name\": \"Jane Doe\"}]\n",
    ")\n"
   ]
  },
  {
   "cell_type": "code",
   "execution_count": 16,
   "metadata": {},
   "outputs": [
    {
     "data": {
      "text/plain": [
       "{'success': True}"
      ]
     },
     "execution_count": 16,
     "metadata": {},
     "output_type": "execute_result"
    }
   ],
   "source": [
    "modified"
   ]
  },
  {
   "cell_type": "code",
   "execution_count": 17,
   "metadata": {},
   "outputs": [
    {
     "data": {
      "text/plain": [
       "{'content_id': 'b97dc4ad-b5d3-4a5a-a7e5-b88ab95a559a',\n",
       " 'type': 'note',\n",
       " 'text': 'Updated content text',\n",
       " 'timestamp': '2025-01-28T17:03:51.724949',\n",
       " 'is_indexed': False,\n",
       " 'access_level': 'owner',\n",
       " 'is_owner': True,\n",
       " 'entities': [{'name': 'Jane Doe', 'type': 'speaker'}],\n",
       " 'parent_id': None,\n",
       " 'meta': None}"
      ]
     },
     "execution_count": 17,
     "metadata": {},
     "output_type": "execute_result"
    }
   ],
   "source": [
    "# Get single content\n",
    "single_content = await client.get_content(content_id)\n",
    "single_content\n",
    "\n"
   ]
  },
  {
   "cell_type": "code",
   "execution_count": 18,
   "metadata": {},
   "outputs": [],
   "source": [
    "archived = await client.archive_content(content_id)"
   ]
  },
  {
   "cell_type": "code",
   "execution_count": 19,
   "metadata": {},
   "outputs": [
    {
     "data": {
      "text/plain": [
       "{'success': True}"
      ]
     },
     "execution_count": 19,
     "metadata": {},
     "output_type": "execute_result"
    }
   ],
   "source": [
    "archived"
   ]
  },
  {
   "cell_type": "code",
   "execution_count": 20,
   "metadata": {},
   "outputs": [
    {
     "data": {
      "text/plain": [
       "UUID('b97dc4ad-b5d3-4a5a-a7e5-b88ab95a559a')"
      ]
     },
     "execution_count": 20,
     "metadata": {},
     "output_type": "execute_result"
    }
   ],
   "source": [
    "content_id"
   ]
  },
  {
   "cell_type": "code",
   "execution_count": 21,
   "metadata": {},
   "outputs": [
    {
     "ename": "ValueError",
     "evalue": "Content not found or no access",
     "output_type": "error",
     "traceback": [
      "\u001b[0;31m---------------------------------------------------------------------------\u001b[0m",
      "\u001b[0;31mValueError\u001b[0m                                Traceback (most recent call last)",
      "Cell \u001b[0;32mIn[21], line 1\u001b[0m\n\u001b[0;32m----> 1\u001b[0m single_content \u001b[38;5;241m=\u001b[39m \u001b[38;5;28;01mawait\u001b[39;00m client\u001b[38;5;241m.\u001b[39mget_content(content_id)\n\u001b[1;32m      2\u001b[0m single_content\n\u001b[1;32m      4\u001b[0m \u001b[38;5;66;03m#OK - content unavailable after archive\u001b[39;00m\n",
      "File \u001b[0;32m/app/api_client.py:103\u001b[0m, in \u001b[0;36mAPIClient.get_content\u001b[0;34m(self, content_id)\u001b[0m\n\u001b[1;32m    101\u001b[0m     \u001b[38;5;28;01mreturn\u001b[39;00m response\u001b[38;5;241m.\u001b[39mjson()\n\u001b[1;32m    102\u001b[0m \u001b[38;5;28;01melif\u001b[39;00m response\u001b[38;5;241m.\u001b[39mstatus_code \u001b[38;5;241m==\u001b[39m \u001b[38;5;241m404\u001b[39m:\n\u001b[0;32m--> 103\u001b[0m     \u001b[38;5;28;01mraise\u001b[39;00m \u001b[38;5;167;01mValueError\u001b[39;00m(\u001b[38;5;124m\"\u001b[39m\u001b[38;5;124mContent not found or no access\u001b[39m\u001b[38;5;124m\"\u001b[39m)\n\u001b[1;32m    104\u001b[0m \u001b[38;5;28;01melse\u001b[39;00m:\n\u001b[1;32m    105\u001b[0m     \u001b[38;5;28;01mraise\u001b[39;00m APIError(\u001b[38;5;124mf\u001b[39m\u001b[38;5;124m\"\u001b[39m\u001b[38;5;124mFailed to get content: \u001b[39m\u001b[38;5;132;01m{\u001b[39;00mresponse\u001b[38;5;241m.\u001b[39mtext\u001b[38;5;132;01m}\u001b[39;00m\u001b[38;5;124m\"\u001b[39m)\n",
      "\u001b[0;31mValueError\u001b[0m: Content not found or no access"
     ]
    }
   ],
   "source": [
    "single_content = await client.get_content(content_id)\n",
    "single_content\n",
    "\n",
    "#OK - content unavailable after archive"
   ]
  },
  {
   "cell_type": "code",
   "execution_count": 22,
   "metadata": {},
   "outputs": [
    {
     "data": {
      "text/plain": [
       "{'content_id': 'b97dc4ad-b5d3-4a5a-a7e5-b88ab95a559a',\n",
       " 'type': 'note',\n",
       " 'text': 'Updated content text',\n",
       " 'timestamp': '2025-01-28T17:03:51.724949',\n",
       " 'is_indexed': False,\n",
       " 'access_level': 'owner',\n",
       " 'is_owner': True,\n",
       " 'entities': [{'name': 'Jane Doe', 'type': 'speaker'}],\n",
       " 'parent_id': None,\n",
       " 'meta': None}"
      ]
     },
     "execution_count": 22,
     "metadata": {},
     "output_type": "execute_result"
    }
   ],
   "source": [
    "restored = await client.restore_content(content_id)\n",
    "single_content = await client.get_content(content_id)\n",
    "single_content"
   ]
  },
  {
   "cell_type": "code",
   "execution_count": 23,
   "metadata": {},
   "outputs": [
    {
     "ename": "ValueError",
     "evalue": "Content not found or no access",
     "output_type": "error",
     "traceback": [
      "\u001b[0;31m---------------------------------------------------------------------------\u001b[0m",
      "\u001b[0;31mValueError\u001b[0m                                Traceback (most recent call last)",
      "Cell \u001b[0;32mIn[23], line 1\u001b[0m\n\u001b[0;32m----> 1\u001b[0m deleted \u001b[38;5;241m=\u001b[39m \u001b[38;5;28;01mawait\u001b[39;00m client\u001b[38;5;241m.\u001b[39mdelete_content(content_id)\n\u001b[1;32m      2\u001b[0m single_content \u001b[38;5;241m=\u001b[39m \u001b[38;5;28;01mawait\u001b[39;00m client\u001b[38;5;241m.\u001b[39mget_content(content_id)\n\u001b[1;32m      3\u001b[0m single_content\n",
      "File \u001b[0;32m/app/api_client.py:142\u001b[0m, in \u001b[0;36mAPIClient.delete_content\u001b[0;34m(self, content_id)\u001b[0m\n\u001b[1;32m    140\u001b[0m     \u001b[38;5;28;01mreturn\u001b[39;00m response\u001b[38;5;241m.\u001b[39mjson()\n\u001b[1;32m    141\u001b[0m \u001b[38;5;28;01melif\u001b[39;00m response\u001b[38;5;241m.\u001b[39mstatus_code \u001b[38;5;241m==\u001b[39m \u001b[38;5;241m404\u001b[39m:\n\u001b[0;32m--> 142\u001b[0m     \u001b[38;5;28;01mraise\u001b[39;00m \u001b[38;5;167;01mValueError\u001b[39;00m(\u001b[38;5;124m\"\u001b[39m\u001b[38;5;124mContent not found or no access\u001b[39m\u001b[38;5;124m\"\u001b[39m)\n\u001b[1;32m    143\u001b[0m \u001b[38;5;28;01melse\u001b[39;00m:\n\u001b[1;32m    144\u001b[0m     \u001b[38;5;28;01mraise\u001b[39;00m APIError(\u001b[38;5;124mf\u001b[39m\u001b[38;5;124m\"\u001b[39m\u001b[38;5;124mFailed to delete content: \u001b[39m\u001b[38;5;132;01m{\u001b[39;00mresponse\u001b[38;5;241m.\u001b[39mtext\u001b[38;5;132;01m}\u001b[39;00m\u001b[38;5;124m\"\u001b[39m)\n",
      "\u001b[0;31mValueError\u001b[0m: Content not found or no access"
     ]
    }
   ],
   "source": [
    "deleted = await client.delete_content(content_id)\n",
    "single_content = await client.get_content(content_id)\n",
    "single_content\n",
    "    \n"
   ]
  },
  {
   "cell_type": "code",
   "execution_count": 24,
   "metadata": {},
   "outputs": [
    {
     "ename": "ValueError",
     "evalue": "Content not found or not archived",
     "output_type": "error",
     "traceback": [
      "\u001b[0;31m---------------------------------------------------------------------------\u001b[0m",
      "\u001b[0;31mValueError\u001b[0m                                Traceback (most recent call last)",
      "Cell \u001b[0;32mIn[24], line 1\u001b[0m\n\u001b[0;32m----> 1\u001b[0m restored \u001b[38;5;241m=\u001b[39m \u001b[38;5;28;01mawait\u001b[39;00m client\u001b[38;5;241m.\u001b[39mrestore_content(content_id)\n\u001b[1;32m      2\u001b[0m single_content \u001b[38;5;241m=\u001b[39m \u001b[38;5;28;01mawait\u001b[39;00m client\u001b[38;5;241m.\u001b[39mget_content(content_id)\n\u001b[1;32m      3\u001b[0m single_content\n",
      "File \u001b[0;32m/app/api_client.py:164\u001b[0m, in \u001b[0;36mAPIClient.restore_content\u001b[0;34m(self, content_id)\u001b[0m\n\u001b[1;32m    162\u001b[0m     \u001b[38;5;28;01mreturn\u001b[39;00m response\u001b[38;5;241m.\u001b[39mjson()\n\u001b[1;32m    163\u001b[0m \u001b[38;5;28;01melif\u001b[39;00m response\u001b[38;5;241m.\u001b[39mstatus_code \u001b[38;5;241m==\u001b[39m \u001b[38;5;241m404\u001b[39m:\n\u001b[0;32m--> 164\u001b[0m     \u001b[38;5;28;01mraise\u001b[39;00m \u001b[38;5;167;01mValueError\u001b[39;00m(\u001b[38;5;124m\"\u001b[39m\u001b[38;5;124mContent not found or not archived\u001b[39m\u001b[38;5;124m\"\u001b[39m)\n\u001b[1;32m    165\u001b[0m \u001b[38;5;28;01melse\u001b[39;00m:\n\u001b[1;32m    166\u001b[0m     \u001b[38;5;28;01mraise\u001b[39;00m APIError(\u001b[38;5;124mf\u001b[39m\u001b[38;5;124m\"\u001b[39m\u001b[38;5;124mFailed to restore content: \u001b[39m\u001b[38;5;132;01m{\u001b[39;00mresponse\u001b[38;5;241m.\u001b[39mtext\u001b[38;5;132;01m}\u001b[39;00m\u001b[38;5;124m\"\u001b[39m)\n",
      "\u001b[0;31mValueError\u001b[0m: Content not found or not archived"
     ]
    }
   ],
   "source": [
    "restored = await client.restore_content(content_id)\n",
    "single_content = await client.get_content(content_id)\n",
    "single_content\n",
    "\n",
    "#OK - content unavailable after delete"
   ]
  },
  {
   "cell_type": "code",
   "execution_count": 25,
   "metadata": {},
   "outputs": [
    {
     "data": {
      "text/plain": [
       "{'content_id': 'a7ffdc5c-351c-4c3c-8f32-b15301cfcb9d'}"
      ]
     },
     "execution_count": 25,
     "metadata": {},
     "output_type": "execute_result"
    }
   ],
   "source": [
    "# Add new content\n",
    "content = await client.add_content(\n",
    "    body=\"Sample content text\",\n",
    "    content_type=\"note\",\n",
    "    entities=[{\"type\": \"speaker\", \"name\": \"John Doe\"}]\n",
    ")\n",
    "content"
   ]
  },
  {
   "cell_type": "code",
   "execution_count": null,
   "metadata": {},
   "outputs": [],
   "source": []
  },
  {
   "cell_type": "code",
   "execution_count": 29,
   "metadata": {},
   "outputs": [
    {
     "ename": "APIError",
     "evalue": "Failed to create share link: Internal Server Error",
     "output_type": "error",
     "traceback": [
      "\u001b[0;31m---------------------------------------------------------------------------\u001b[0m",
      "\u001b[0;31mAPIError\u001b[0m                                  Traceback (most recent call last)",
      "Cell \u001b[0;32mIn[29], line 2\u001b[0m\n\u001b[1;32m      1\u001b[0m \u001b[38;5;66;03m# Sharing\u001b[39;00m\n\u001b[0;32m----> 2\u001b[0m share_link \u001b[38;5;241m=\u001b[39m \u001b[38;5;28;01mawait\u001b[39;00m client\u001b[38;5;241m.\u001b[39mcreate_share_link(\n\u001b[1;32m      3\u001b[0m     access_level\u001b[38;5;241m=\u001b[39m\u001b[38;5;124m\"\u001b[39m\u001b[38;5;124mtranscript\u001b[39m\u001b[38;5;124m\"\u001b[39m,\n\u001b[1;32m      4\u001b[0m     meeting_ids\u001b[38;5;241m=\u001b[39m[content_id],\n\u001b[1;32m      5\u001b[0m     target_email\u001b[38;5;241m=\u001b[39m\u001b[38;5;124m\"\u001b[39m\u001b[38;5;124mrecipient@example.com\u001b[39m\u001b[38;5;124m\"\u001b[39m,\n\u001b[1;32m      6\u001b[0m     expiration_hours\u001b[38;5;241m=\u001b[39m\u001b[38;5;241m24\u001b[39m\n\u001b[1;32m      7\u001b[0m )\n",
      "File \u001b[0;32m/app/api_client.py:185\u001b[0m, in \u001b[0;36mAPIClient.create_share_link\u001b[0;34m(self, access_level, meeting_ids, target_email, expiration_hours)\u001b[0m\n\u001b[1;32m    179\u001b[0m response \u001b[38;5;241m=\u001b[39m requests\u001b[38;5;241m.\u001b[39mpost(\n\u001b[1;32m    180\u001b[0m     \u001b[38;5;124mf\u001b[39m\u001b[38;5;124m\"\u001b[39m\u001b[38;5;132;01m{\u001b[39;00m\u001b[38;5;28mself\u001b[39m\u001b[38;5;241m.\u001b[39mbase_url\u001b[38;5;132;01m}\u001b[39;00m\u001b[38;5;124m/contents/share-links\u001b[39m\u001b[38;5;124m\"\u001b[39m,\n\u001b[1;32m    181\u001b[0m     headers\u001b[38;5;241m=\u001b[39mheaders,\n\u001b[1;32m    182\u001b[0m     data\u001b[38;5;241m=\u001b[39mjson\u001b[38;5;241m.\u001b[39mdumps(data, \u001b[38;5;28mcls\u001b[39m\u001b[38;5;241m=\u001b[39mUUIDEncoder)\n\u001b[1;32m    183\u001b[0m )\n\u001b[1;32m    184\u001b[0m \u001b[38;5;28;01mif\u001b[39;00m response\u001b[38;5;241m.\u001b[39mstatus_code \u001b[38;5;241m!=\u001b[39m \u001b[38;5;241m200\u001b[39m:\n\u001b[0;32m--> 185\u001b[0m     \u001b[38;5;28;01mraise\u001b[39;00m APIError(\u001b[38;5;124mf\u001b[39m\u001b[38;5;124m\"\u001b[39m\u001b[38;5;124mFailed to create share link: \u001b[39m\u001b[38;5;132;01m{\u001b[39;00mresponse\u001b[38;5;241m.\u001b[39mtext\u001b[38;5;132;01m}\u001b[39;00m\u001b[38;5;124m\"\u001b[39m)\n\u001b[1;32m    186\u001b[0m \u001b[38;5;28;01mreturn\u001b[39;00m response\u001b[38;5;241m.\u001b[39mjson()\n",
      "\u001b[0;31mAPIError\u001b[0m: Failed to create share link: Internal Server Error"
     ]
    }
   ],
   "source": [
    "# Sharing\n",
    "share_link = await client.create_share_link(\n",
    "    access_level=\"transcript\",\n",
    "    meeting_ids=[content_id],\n",
    "    target_email=\"recipient@example.com\",\n",
    "    expiration_hours=24\n",
    ")\n",
    "    \n"
   ]
  },
  {
   "cell_type": "code",
   "execution_count": null,
   "metadata": {},
   "outputs": [],
   "source": []
  },
  {
   "cell_type": "code",
   "execution_count": null,
   "metadata": {},
   "outputs": [],
   "source": [
    "    accepted = await client.accept_share_link(\n",
    "        token=share_link[\"token\"],\n",
    "        accepting_email=\"recipient@example.com\"\n",
    "    )\n",
    "    \n",
    "    # Index content\n",
    "    indexed = await client.index_content(content_id)\n",
    "    \n"
   ]
  },
  {
   "cell_type": "code",
   "execution_count": 31,
   "metadata": {},
   "outputs": [
    {
     "data": {
      "text/plain": [
       "[{'name': 'John Doe', 'id': 5704, 'type': 'speaker'},\n",
       " {'name': 'Jane Doe', 'id': 5705, 'type': 'speaker'},\n",
       " {'name': 'Arina Soboleva', 'id': 3665, 'type': 'speaker'},\n",
       " {'name': 'Dmitry Grankin', 'id': 3448, 'type': 'speaker'},\n",
       " {'name': 'Artem Puzik', 'id': 3484, 'type': 'speaker'},\n",
       " {'name': 'Sergey Ryabenko', 'id': 3441, 'type': 'speaker'},\n",
       " {'name': 'Dmitriy Grankin', 'id': 3440, 'type': 'speaker'},\n",
       " {'name': 'Pedro Teixeira', 'id': 4131, 'type': 'speaker'},\n",
       " {'name': 'Mariana Montenegro', 'id': 5432, 'type': 'speaker'},\n",
       " {'name': 'Alex Shevliakov', 'id': 3491, 'type': 'speaker'},\n",
       " {'name': 'Graham Ó Maonaigh', 'id': 5197, 'type': 'speaker'},\n",
       " {'name': 'Matt Lewis', 'id': 3543, 'type': 'speaker'}]"
      ]
     },
     "execution_count": 31,
     "metadata": {},
     "output_type": "execute_result"
    }
   ],
   "source": [
    "# Entity management\n",
    "entities = await client.get_entities(\"speaker\", offset=0, limit=20)\n",
    "entities\n"
   ]
  },
  {
   "cell_type": "code",
   "execution_count": 32,
   "metadata": {},
   "outputs": [
    {
     "data": {
      "text/plain": [
       "[]"
      ]
     },
     "execution_count": 32,
     "metadata": {},
     "output_type": "execute_result"
    }
   ],
   "source": [
    "# Entity management\n",
    "entities = await client.get_entities(\"tag\", offset=0, limit=20)\n",
    "entities\n"
   ]
  },
  {
   "cell_type": "code",
   "execution_count": 33,
   "metadata": {},
   "outputs": [
    {
     "ename": "APIError",
     "evalue": "Chat request failed: {\"detail\":\"Not Found\"}",
     "output_type": "error",
     "traceback": [
      "\u001b[0;31m---------------------------------------------------------------------------\u001b[0m",
      "\u001b[0;31mAPIError\u001b[0m                                  Traceback (most recent call last)",
      "Cell \u001b[0;32mIn[33], line 2\u001b[0m\n\u001b[1;32m      1\u001b[0m \u001b[38;5;66;03m# Chat interactions\u001b[39;00m\n\u001b[0;32m----> 2\u001b[0m \u001b[38;5;28;01masync\u001b[39;00m \u001b[38;5;28;01mfor\u001b[39;00m response \u001b[38;5;129;01min\u001b[39;00m client\u001b[38;5;241m.\u001b[39mchat(\n\u001b[1;32m      3\u001b[0m     query\u001b[38;5;241m=\u001b[39m\u001b[38;5;124m\"\u001b[39m\u001b[38;5;124mWhat is this document about?\u001b[39m\u001b[38;5;124m\"\u001b[39m,\n\u001b[1;32m      4\u001b[0m     content_id\u001b[38;5;241m=\u001b[39mcontent_id,\n\u001b[1;32m      5\u001b[0m     model\u001b[38;5;241m=\u001b[39m\u001b[38;5;124m\"\u001b[39m\u001b[38;5;124mgpt-4o-mini\u001b[39m\u001b[38;5;124m\"\u001b[39m,\n\u001b[1;32m      6\u001b[0m     temperature\u001b[38;5;241m=\u001b[39m\u001b[38;5;241m0.7\u001b[39m\n\u001b[1;32m      7\u001b[0m ):\n\u001b[1;32m      8\u001b[0m     \u001b[38;5;28mprint\u001b[39m(response[\u001b[38;5;124m\"\u001b[39m\u001b[38;5;124mcontent\u001b[39m\u001b[38;5;124m\"\u001b[39m])\n",
      "File \u001b[0;32m/app/api_client.py:251\u001b[0m, in \u001b[0;36mAPIClient.chat\u001b[0;34m(self, query, content_id, entity, content_ids, entities, thread_id, model, temperature, meta)\u001b[0m\n\u001b[1;32m    249\u001b[0m \u001b[38;5;28;01mif\u001b[39;00m response\u001b[38;5;241m.\u001b[39mstatus \u001b[38;5;241m!=\u001b[39m \u001b[38;5;241m200\u001b[39m:\n\u001b[1;32m    250\u001b[0m     error_text \u001b[38;5;241m=\u001b[39m \u001b[38;5;28;01mawait\u001b[39;00m response\u001b[38;5;241m.\u001b[39mtext()\n\u001b[0;32m--> 251\u001b[0m     \u001b[38;5;28;01mraise\u001b[39;00m APIError(\u001b[38;5;124mf\u001b[39m\u001b[38;5;124m\"\u001b[39m\u001b[38;5;124mChat request failed: \u001b[39m\u001b[38;5;132;01m{\u001b[39;00merror_text\u001b[38;5;132;01m}\u001b[39;00m\u001b[38;5;124m\"\u001b[39m)\n\u001b[1;32m    253\u001b[0m \u001b[38;5;28;01masync\u001b[39;00m \u001b[38;5;28;01mfor\u001b[39;00m line \u001b[38;5;129;01min\u001b[39;00m response\u001b[38;5;241m.\u001b[39mcontent:\n\u001b[1;32m    254\u001b[0m     line \u001b[38;5;241m=\u001b[39m line\u001b[38;5;241m.\u001b[39mdecode(\u001b[38;5;124m'\u001b[39m\u001b[38;5;124mutf-8\u001b[39m\u001b[38;5;124m'\u001b[39m)\u001b[38;5;241m.\u001b[39mstrip()\n",
      "\u001b[0;31mAPIError\u001b[0m: Chat request failed: {\"detail\":\"Not Found\"}"
     ]
    }
   ],
   "source": [
    "# Chat interactions\n",
    "async for response in client.chat(\n",
    "    query=\"What is this document about?\",\n",
    "    content_id=content_id,\n",
    "    model=\"gpt-4o-mini\",\n",
    "    temperature=0.7\n",
    "):\n",
    "    print(response[\"content\"])\n",
    "\n"
   ]
  },
  {
   "cell_type": "code",
   "execution_count": null,
   "metadata": {},
   "outputs": [],
   "source": [
    "    # Edit chat message\n",
    "    async for response in client.edit_chat_message(\n",
    "        thread_id=\"thread_123\",\n",
    "        message_index=1,\n",
    "        new_content=\"Updated message content\",\n",
    "        model=\"gpt-4o-mini\"\n",
    "    ):\n",
    "        print(response[\"content\"])\n",
    "    \n",
    "    # Thread management\n",
    "    threads = await client.get_threads(\n",
    "        content_id=content_id,\n",
    "        only_archived=False,\n",
    "        limit=50,\n",
    "        start_date=datetime.now() - timedelta(days=7)\n",
    "    )\n",
    "    \n",
    "    thread = await client.get_thread(\"thread_123\")\n",
    "    archived_thread = await client.archive_thread(\"thread_123\")\n",
    "    restored_thread = await client.restore_thread(\"thread_123\")\n",
    "    renamed = await client.rename_thread(\"thread_123\", \"New Thread Name\")\n",
    "\n",
    "# Run examples\n",
    "asyncio.run(main())"
   ]
  }
 ],
 "metadata": {
  "kernelspec": {
   "display_name": "Python 3",
   "language": "python",
   "name": "python3"
  },
  "language_info": {
   "codemirror_mode": {
    "name": "ipython",
    "version": 3
   },
   "file_extension": ".py",
   "mimetype": "text/x-python",
   "name": "python",
   "nbconvert_exporter": "python",
   "pygments_lexer": "ipython3",
   "version": "3.11.11"
  }
 },
 "nbformat": 4,
 "nbformat_minor": 2
}
