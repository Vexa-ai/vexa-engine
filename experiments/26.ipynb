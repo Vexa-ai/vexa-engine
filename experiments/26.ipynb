{
 "cells": [
  {
   "cell_type": "code",
   "execution_count": 1,
   "metadata": {},
   "outputs": [],
   "source": [
    "%load_ext autoreload\n",
    "%autoreload 2"
   ]
  },
  {
   "cell_type": "code",
   "execution_count": 2,
   "metadata": {},
   "outputs": [],
   "source": [
    "#python setup_database.py & python setup_qdrant.py & python setup_elastic.py & python setup_redis.py"
   ]
  },
  {
   "cell_type": "code",
   "execution_count": 3,
   "metadata": {},
   "outputs": [],
   "source": [
    "import sys\n",
    "sys.path.append('/app')"
   ]
  },
  {
   "cell_type": "code",
   "execution_count": 4,
   "metadata": {},
   "outputs": [],
   "source": [
    "\n",
    "from api_client import APIClient\n",
    "from uuid import UUID\n",
    "import asyncio\n",
    "from datetime import datetime, timedelta"
   ]
  },
  {
   "cell_type": "code",
   "execution_count": 5,
   "metadata": {},
   "outputs": [],
   "source": [
    "\n",
    "client = await APIClient.create(email=\"2280905@gmail.com\")"
   ]
  },
  {
   "cell_type": "code",
   "execution_count": 6,
   "metadata": {},
   "outputs": [
    {
     "data": {
      "text/plain": [
       "<api_client.APIClient at 0x7f4b4a93b150>"
      ]
     },
     "execution_count": 6,
     "metadata": {},
     "output_type": "execute_result"
    }
   ],
   "source": [
    "client"
   ]
  },
  {
   "cell_type": "code",
   "execution_count": 7,
   "metadata": {},
   "outputs": [],
   "source": [
    "\n",
    "# Auth examples\n",
    "#auth_result = await client.google_auth(\"google_token_here\", {\"utm_source\": \"web\"})\n",
    "\n"
   ]
  },
  {
   "cell_type": "code",
   "execution_count": 8,
   "metadata": {},
   "outputs": [],
   "source": [
    "token_result = await client.submit_token(\"3ae04e20124d40babc5107e658c666b6\")\n",
    "    \n"
   ]
  },
  {
   "cell_type": "code",
   "execution_count": 9,
   "metadata": {},
   "outputs": [
    {
     "data": {
      "text/plain": [
       "{'user_id': 'ef7c085b-fdb5-4c94-b7b6-a61a3d04c210',\n",
       " 'user_name': 'Dmitriy Grankin',\n",
       " 'image': None}"
      ]
     },
     "execution_count": 9,
     "metadata": {},
     "output_type": "execute_result"
    }
   ],
   "source": [
    "token_result"
   ]
  },
  {
   "cell_type": "markdown",
   "metadata": {},
   "source": [
    "### Contents"
   ]
  },
  {
   "cell_type": "code",
   "execution_count": 10,
   "metadata": {},
   "outputs": [],
   "source": [
    "contents = await client.get_contents(\n",
    "    only_archived=True,\n",
    "    offset=0,\n",
    "    limit=20\n",
    ")"
   ]
  },
  {
   "cell_type": "code",
   "execution_count": 74,
   "metadata": {},
   "outputs": [],
   "source": [
    "# Add new content\n",
    "content = await client.add_content(\n",
    "    body=\"Sample content text\",\n",
    "    content_type=\"note\",\n",
    "    entities=[{\"type\": \"tag\", \"name\": \"test\"}]\n",
    ")\n"
   ]
  },
  {
   "cell_type": "code",
   "execution_count": 75,
   "metadata": {},
   "outputs": [
    {
     "data": {
      "text/plain": [
       "{'content_id': 'a7ab7b39-ed6a-429e-988f-00191e477c69'}"
      ]
     },
     "execution_count": 75,
     "metadata": {},
     "output_type": "execute_result"
    }
   ],
   "source": [
    "content"
   ]
  },
  {
   "cell_type": "code",
   "execution_count": 76,
   "metadata": {},
   "outputs": [
    {
     "data": {
      "text/plain": [
       "{'content_id': 'a7ab7b39-ed6a-429e-988f-00191e477c69',\n",
       " 'type': 'note',\n",
       " 'text': 'Sample content text',\n",
       " 'timestamp': '2025-01-28T19:24:33.833424',\n",
       " 'is_indexed': False,\n",
       " 'access_level': 'owner',\n",
       " 'is_owner': True,\n",
       " 'entities': [{'name': 'test', 'type': 'tag'}],\n",
       " 'parent_id': None,\n",
       " 'meta': None}"
      ]
     },
     "execution_count": 76,
     "metadata": {},
     "output_type": "execute_result"
    }
   ],
   "source": [
    "content_id = UUID(content[\"content_id\"])\n",
    "\n",
    "# Get single content\n",
    "single_content = await client.get_content(content_id)\n",
    "single_content"
   ]
  },
  {
   "cell_type": "code",
   "execution_count": 77,
   "metadata": {},
   "outputs": [],
   "source": [
    "# Modify content\n",
    "modified = await client.modify_content(\n",
    "    content_id,\n",
    "    body=\"Updated content text\",\n",
    "    entities=[{\"type\": \"speaker\", \"name\": \"Jane Doe\"}]\n",
    ")\n"
   ]
  },
  {
   "cell_type": "code",
   "execution_count": 78,
   "metadata": {},
   "outputs": [
    {
     "data": {
      "text/plain": [
       "{'success': True}"
      ]
     },
     "execution_count": 78,
     "metadata": {},
     "output_type": "execute_result"
    }
   ],
   "source": [
    "modified"
   ]
  },
  {
   "cell_type": "code",
   "execution_count": 79,
   "metadata": {},
   "outputs": [
    {
     "data": {
      "text/plain": [
       "{'content_id': 'a7ab7b39-ed6a-429e-988f-00191e477c69',\n",
       " 'type': 'note',\n",
       " 'text': 'Updated content text',\n",
       " 'timestamp': '2025-01-28T19:24:33.833424',\n",
       " 'is_indexed': False,\n",
       " 'access_level': 'owner',\n",
       " 'is_owner': True,\n",
       " 'entities': [{'name': 'Jane Doe', 'type': 'speaker'}],\n",
       " 'parent_id': None,\n",
       " 'meta': None}"
      ]
     },
     "execution_count": 79,
     "metadata": {},
     "output_type": "execute_result"
    }
   ],
   "source": [
    "# Get single content\n",
    "single_content = await client.get_content(content_id)\n",
    "single_content\n",
    "\n"
   ]
  },
  {
   "cell_type": "code",
   "execution_count": 80,
   "metadata": {},
   "outputs": [],
   "source": [
    "archived = await client.archive_content(content_id)"
   ]
  },
  {
   "cell_type": "code",
   "execution_count": 81,
   "metadata": {},
   "outputs": [
    {
     "data": {
      "text/plain": [
       "{'success': True}"
      ]
     },
     "execution_count": 81,
     "metadata": {},
     "output_type": "execute_result"
    }
   ],
   "source": [
    "archived"
   ]
  },
  {
   "cell_type": "code",
   "execution_count": 82,
   "metadata": {},
   "outputs": [
    {
     "data": {
      "text/plain": [
       "UUID('a7ab7b39-ed6a-429e-988f-00191e477c69')"
      ]
     },
     "execution_count": 82,
     "metadata": {},
     "output_type": "execute_result"
    }
   ],
   "source": [
    "content_id"
   ]
  },
  {
   "cell_type": "code",
   "execution_count": 83,
   "metadata": {},
   "outputs": [
    {
     "name": "stdout",
     "output_type": "stream",
     "text": [
      "Content not found or no access\n"
     ]
    }
   ],
   "source": [
    "try:\n",
    "    single_content = await client.get_content(content_id)\n",
    "except Exception as e:\n",
    "    print(e)\n",
    "\n",
    "\n",
    "#OK - content unavailable after archive"
   ]
  },
  {
   "cell_type": "code",
   "execution_count": 84,
   "metadata": {},
   "outputs": [
    {
     "data": {
      "text/plain": [
       "{'content_id': 'a7ab7b39-ed6a-429e-988f-00191e477c69',\n",
       " 'type': 'note',\n",
       " 'text': 'Updated content text',\n",
       " 'timestamp': '2025-01-28T19:24:33.833424',\n",
       " 'is_indexed': False,\n",
       " 'access_level': 'owner',\n",
       " 'is_owner': True,\n",
       " 'entities': [{'name': 'Jane Doe', 'type': 'speaker'}],\n",
       " 'parent_id': None,\n",
       " 'meta': None}"
      ]
     },
     "execution_count": 84,
     "metadata": {},
     "output_type": "execute_result"
    }
   ],
   "source": [
    "restored = await client.restore_content(content_id)\n",
    "single_content = await client.get_content(content_id)\n",
    "single_content"
   ]
  },
  {
   "cell_type": "code",
   "execution_count": 85,
   "metadata": {},
   "outputs": [
    {
     "name": "stdout",
     "output_type": "stream",
     "text": [
      "Content not found or no access\n"
     ]
    }
   ],
   "source": [
    "\n",
    "try:\n",
    "    deleted = await client.delete_content(content_id)\n",
    "except Exception as e:\n",
    "    print(e)\n",
    "try:\n",
    "    single_content = await client.get_content(content_id)\n",
    "except Exception as e:\n",
    "    print(e)\n",
    "    \n",
    "#OK - content unavailable after delete"
   ]
  },
  {
   "cell_type": "code",
   "execution_count": 86,
   "metadata": {},
   "outputs": [
    {
     "name": "stdout",
     "output_type": "stream",
     "text": [
      "Content not found or not archived\n"
     ]
    }
   ],
   "source": [
    "\n",
    "try:\n",
    "    restored = await client.restore_content(content_id)\n",
    "except Exception as e:\n",
    "    print(e)\n",
    "try:\n",
    "    single_content = await client.get_content(content_id)\n",
    "except Exception as e:\n",
    "    print(e)\n",
    "\n",
    "#OK - content unavailable after delete"
   ]
  },
  {
   "cell_type": "code",
   "execution_count": 87,
   "metadata": {},
   "outputs": [
    {
     "data": {
      "text/plain": [
       "{'content_id': 'fc55550a-ad9b-46e9-b084-de2daa56e59b'}"
      ]
     },
     "execution_count": 87,
     "metadata": {},
     "output_type": "execute_result"
    }
   ],
   "source": [
    "# Add new content\n",
    "content = await client.add_content(\n",
    "    body=\"Sample content text\",\n",
    "    content_type=\"note\",\n",
    "    entities=[{\"type\": \"speaker\", \"name\": \"John Doe\"}]\n",
    ")\n",
    "content"
   ]
  },
  {
   "cell_type": "code",
   "execution_count": 88,
   "metadata": {},
   "outputs": [],
   "source": [
    "# Sharing\n",
    "share_link = await client.create_share_link(\n",
    "    access_level=\"transcript\",\n",
    "    content_ids=[content_id],\n",
    "    target_email=\"recipient@example.com\",\n",
    "    expiration_hours=24\n",
    ")\n",
    "    \n"
   ]
  },
  {
   "cell_type": "code",
   "execution_count": 89,
   "metadata": {},
   "outputs": [],
   "source": [
    "accepted = await client.accept_share_link(\n",
    "    token=share_link[\"token\"],\n",
    "    accepting_email=\"recipient@example.com\"\n",
    ")\n"
   ]
  },
  {
   "cell_type": "code",
   "execution_count": 90,
   "metadata": {},
   "outputs": [
    {
     "data": {
      "text/plain": [
       "{'status': 'queued', 'message': 'Content has been queued for indexing'}"
      ]
     },
     "execution_count": 90,
     "metadata": {},
     "output_type": "execute_result"
    }
   ],
   "source": [
    "\n",
    "# Index content\n",
    "indexed = await client.index_content(content_id)\n",
    "indexed\n",
    "\n"
   ]
  },
  {
   "cell_type": "code",
   "execution_count": 14,
   "metadata": {},
   "outputs": [
    {
     "data": {
      "text/plain": [
       "[{'type': 'speaker', 'name': 'John Doe', 'id': 5704},\n",
       " {'type': 'speaker', 'name': 'Jane Doe', 'id': 5705}]"
      ]
     },
     "execution_count": 14,
     "metadata": {},
     "output_type": "execute_result"
    }
   ],
   "source": [
    "# Entity management\n",
    "entities = await client.get_entities(\"speaker\", offset=0, limit=20)\n",
    "entities\n"
   ]
  },
  {
   "cell_type": "code",
   "execution_count": 92,
   "metadata": {},
   "outputs": [
    {
     "data": {
      "text/plain": [
       "[{'type': 'tag', 'name': 'AI', 'id': 5729},\n",
       " {'type': 'tag', 'name': 'test', 'id': 5722}]"
      ]
     },
     "execution_count": 92,
     "metadata": {},
     "output_type": "execute_result"
    }
   ],
   "source": [
    "# Entity management\n",
    "entities = await client.get_entities(\"tag\", offset=0, limit=20)\n",
    "entities\n"
   ]
  },
  {
   "cell_type": "code",
   "execution_count": 93,
   "metadata": {},
   "outputs": [
    {
     "name": "stdout",
     "output_type": "stream",
     "text": [
      "{'chunk': 'Could'}\n",
      "{'chunk': ' you'}\n",
      "{'chunk': ' please'}\n",
      "{'chunk': ' provide'}\n",
      "{'chunk': ' the'}\n",
      "{'chunk': ' document'}\n",
      "{'chunk': ' or'}\n",
      "{'chunk': ' specify'}\n",
      "{'chunk': ' its'}\n",
      "{'chunk': ' content'}\n",
      "{'chunk': '?'}\n",
      "{'chunk': ' This'}\n",
      "{'chunk': ' will'}\n",
      "{'chunk': ' help'}\n",
      "{'chunk': ' me'}\n",
      "{'chunk': ' give'}\n",
      "{'chunk': ' you'}\n",
      "{'chunk': ' a'}\n",
      "{'chunk': ' detailed'}\n",
      "{'chunk': ' overview'}\n",
      "{'chunk': ' of'}\n",
      "{'chunk': ' what'}\n",
      "{'chunk': ' it'}\n",
      "{'chunk': ' is'}\n",
      "{'chunk': ' about'}\n",
      "{'chunk': '.'}\n",
      "{'thread_id': '6dc737f7-4cb9-40e0-a947-b871ac3a5dd1', 'content_id': 'a7ab7b39-ed6a-429e-988f-00191e477c69', 'entity_id': None, 'content_ids': None, 'entity_ids': None, 'output': 'Could you please provide the document or specify its content? This will help me give you a detailed overview of what it is about.', 'linked_output': 'Could you please provide the document or specify its content? This will help me give you a detailed overview of what it is about.', 'service_content': {'output': 'Could you please provide the document or specify its content? This will help me give you a detailed overview of what it is about.', 'context': 'No relevant context found.'}}\n"
     ]
    }
   ],
   "source": [
    "# Chat interactions\n",
    "async for response in client.chat(\n",
    "    query=\"What is this document about?\",\n",
    "    content_id=content_id,\n",
    "    model=\"gpt-4o-mini\",\n",
    "    temperature=0.7\n",
    "):\n",
    "    print(response)\n",
    "\n"
   ]
  },
  {
   "cell_type": "code",
   "execution_count": 94,
   "metadata": {},
   "outputs": [
    {
     "name": "stdout",
     "output_type": "stream",
     "text": [
      "{'error': \"Edit failed: ChatManager.edit_and_continue() missing 1 required positional argument: 'context_provider'\"}\n"
     ]
    },
    {
     "ename": "ValueError",
     "evalue": "Thread not found",
     "output_type": "error",
     "traceback": [
      "\u001b[0;31m---------------------------------------------------------------------------\u001b[0m",
      "\u001b[0;31mValueError\u001b[0m                                Traceback (most recent call last)",
      "Cell \u001b[0;32mIn[94], line 18\u001b[0m\n\u001b[1;32m     10\u001b[0m \u001b[38;5;66;03m# Thread management\u001b[39;00m\n\u001b[1;32m     11\u001b[0m threads \u001b[38;5;241m=\u001b[39m \u001b[38;5;28;01mawait\u001b[39;00m client\u001b[38;5;241m.\u001b[39mget_threads(\n\u001b[1;32m     12\u001b[0m     content_id\u001b[38;5;241m=\u001b[39mcontent_id,\n\u001b[1;32m     13\u001b[0m     only_archived\u001b[38;5;241m=\u001b[39m\u001b[38;5;28;01mFalse\u001b[39;00m,\n\u001b[1;32m     14\u001b[0m     limit\u001b[38;5;241m=\u001b[39m\u001b[38;5;241m50\u001b[39m,\n\u001b[1;32m     15\u001b[0m     start_date\u001b[38;5;241m=\u001b[39mdatetime\u001b[38;5;241m.\u001b[39mnow() \u001b[38;5;241m-\u001b[39m timedelta(days\u001b[38;5;241m=\u001b[39m\u001b[38;5;241m7\u001b[39m)\n\u001b[1;32m     16\u001b[0m )\n\u001b[0;32m---> 18\u001b[0m thread \u001b[38;5;241m=\u001b[39m \u001b[38;5;28;01mawait\u001b[39;00m client\u001b[38;5;241m.\u001b[39mget_thread(\u001b[38;5;124m\"\u001b[39m\u001b[38;5;124mthread_123\u001b[39m\u001b[38;5;124m\"\u001b[39m)\n\u001b[1;32m     19\u001b[0m archived_thread \u001b[38;5;241m=\u001b[39m \u001b[38;5;28;01mawait\u001b[39;00m client\u001b[38;5;241m.\u001b[39marchive_thread(\u001b[38;5;124m\"\u001b[39m\u001b[38;5;124mthread_123\u001b[39m\u001b[38;5;124m\"\u001b[39m)\n\u001b[1;32m     20\u001b[0m restored_thread \u001b[38;5;241m=\u001b[39m \u001b[38;5;28;01mawait\u001b[39;00m client\u001b[38;5;241m.\u001b[39mrestore_thread(\u001b[38;5;124m\"\u001b[39m\u001b[38;5;124mthread_123\u001b[39m\u001b[38;5;124m\"\u001b[39m)\n",
      "File \u001b[0;32m/app/api_client.py:372\u001b[0m, in \u001b[0;36mAPIClient.get_thread\u001b[0;34m(self, thread_id)\u001b[0m\n\u001b[1;32m    370\u001b[0m     \u001b[38;5;28;01mreturn\u001b[39;00m response\u001b[38;5;241m.\u001b[39mjson()\n\u001b[1;32m    371\u001b[0m \u001b[38;5;28;01melif\u001b[39;00m response\u001b[38;5;241m.\u001b[39mstatus_code \u001b[38;5;241m==\u001b[39m \u001b[38;5;241m404\u001b[39m:\n\u001b[0;32m--> 372\u001b[0m     \u001b[38;5;28;01mraise\u001b[39;00m \u001b[38;5;167;01mValueError\u001b[39;00m(\u001b[38;5;124m\"\u001b[39m\u001b[38;5;124mThread not found\u001b[39m\u001b[38;5;124m\"\u001b[39m)\n\u001b[1;32m    373\u001b[0m \u001b[38;5;28;01melse\u001b[39;00m:\n\u001b[1;32m    374\u001b[0m     \u001b[38;5;28;01mraise\u001b[39;00m APIError(\u001b[38;5;124mf\u001b[39m\u001b[38;5;124m\"\u001b[39m\u001b[38;5;124mFailed to get thread: \u001b[39m\u001b[38;5;132;01m{\u001b[39;00mresponse\u001b[38;5;241m.\u001b[39mtext\u001b[38;5;132;01m}\u001b[39;00m\u001b[38;5;124m\"\u001b[39m)\n",
      "\u001b[0;31mValueError\u001b[0m: Thread not found"
     ]
    }
   ],
   "source": [
    "# Edit chat message\n",
    "async for response in client.edit_chat_message(\n",
    "    thread_id=\"thread_123\",\n",
    "    message_index=1,\n",
    "    new_content=\"Updated message content\",\n",
    "    model=\"gpt-4o-mini\"\n",
    "):\n",
    "    print(response)\n"
   ]
  },
  {
   "cell_type": "code",
   "execution_count": 12,
   "metadata": {},
   "outputs": [],
   "source": [
    "\n",
    "# Thread management\n",
    "threads = await client.get_threads(\n",
    " #   content_id=content_id,\n",
    "    only_archived=False,\n",
    "    limit=50,\n",
    "    start_date=datetime.now() - timedelta(days=7)\n",
    ")\n"
   ]
  },
  {
   "cell_type": "code",
   "execution_count": 13,
   "metadata": {},
   "outputs": [
    {
     "data": {
      "text/plain": [
       "{'total': 3,\n",
       " 'threads': [{'thread_id': '08bef20f-fccf-4fd9-bdf8-53b25839aae6',\n",
       "   'thread_name': 'and the last person you mentioned name is?',\n",
       "   'timestamp': '2025-01-28T19:19:54.658328+00:00',\n",
       "   'content_id': None,\n",
       "   'entity_id': None,\n",
       "   'meta': {'content_ids': ['a0c3f703-2a5e-4ed0-9561-807121516984',\n",
       "     '6a7287fb-b6ae-46cf-8b99-1ce1bcc81403',\n",
       "     '580bb613-00de-4c4a-b048-2c2576fcdef0',\n",
       "     'fb996504-0475-4ee9-a85e-dda4e9f15a4b']},\n",
       "   'is_archived': False},\n",
       "  {'thread_id': 'ff7aaa47-23e7-4af7-b871-4528e4272a72',\n",
       "   'thread_name': 'and the last person you mentioned name is?',\n",
       "   'timestamp': '2025-01-28T19:14:22.901236+00:00',\n",
       "   'content_id': None,\n",
       "   'entity_id': None,\n",
       "   'meta': {'content_ids': ['a0c3f703-2a5e-4ed0-9561-807121516984',\n",
       "     '6a7287fb-b6ae-46cf-8b99-1ce1bcc81403',\n",
       "     '580bb613-00de-4c4a-b048-2c2576fcdef0',\n",
       "     'fb996504-0475-4ee9-a85e-dda4e9f15a4b']},\n",
       "   'is_archived': False},\n",
       "  {'thread_id': '90dce980-5dff-4559-9e25-c59a39f6fce0',\n",
       "   'thread_name': 'and the last person you mentioned name is?',\n",
       "   'timestamp': '2025-01-28T18:26:28.441475+00:00',\n",
       "   'content_id': None,\n",
       "   'entity_id': None,\n",
       "   'meta': {'content_ids': ['a0c3f703-2a5e-4ed0-9561-807121516984',\n",
       "     '6a7287fb-b6ae-46cf-8b99-1ce1bcc81403',\n",
       "     '580bb613-00de-4c4a-b048-2c2576fcdef0',\n",
       "     'fb996504-0475-4ee9-a85e-dda4e9f15a4b']},\n",
       "   'is_archived': False}]}"
      ]
     },
     "execution_count": 13,
     "metadata": {},
     "output_type": "execute_result"
    }
   ],
   "source": [
    "threads"
   ]
  },
  {
   "cell_type": "code",
   "execution_count": null,
   "metadata": {},
   "outputs": [],
   "source": [
    "\n",
    "\n",
    "thread = await client.get_thread(\"thread_123\")\n",
    "archived_thread = await client.archive_thread(\"thread_123\")\n",
    "restored_thread = await client.restore_thread(\"thread_123\")\n",
    "renamed = await client.rename_thread(\"thread_123\", \"New Thread Name\")\n"
   ]
  },
  {
   "cell_type": "code",
   "execution_count": null,
   "metadata": {},
   "outputs": [],
   "source": []
  }
 ],
 "metadata": {
  "kernelspec": {
   "display_name": "Python 3",
   "language": "python",
   "name": "python3"
  },
  "language_info": {
   "codemirror_mode": {
    "name": "ipython",
    "version": 3
   },
   "file_extension": ".py",
   "mimetype": "text/x-python",
   "name": "python",
   "nbconvert_exporter": "python",
   "pygments_lexer": "ipython3",
   "version": "3.11.11"
  }
 },
 "nbformat": 4,
 "nbformat_minor": 2
}
