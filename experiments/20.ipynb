{
 "cells": [
  {
   "cell_type": "code",
   "execution_count": 1,
   "metadata": {},
   "outputs": [],
   "source": [
    "# 17_search.ipynb\n",
    "\n",
    "%load_ext autoreload\n",
    "%autoreload 2\n",
    "\n",
    "import sys\n",
    "sys.path.append('/app')"
   ]
  },
  {
   "cell_type": "code",
   "execution_count": 2,
   "metadata": {},
   "outputs": [],
   "source": [
    "from indexing.meetings_monitor import MeetingsMonitor\n",
    "import asyncio\n",
    "import logging\n",
    "from datetime import datetime, timezone"
   ]
  },
  {
   "cell_type": "code",
   "execution_count": 3,
   "metadata": {},
   "outputs": [],
   "source": [
    "monitor = MeetingsMonitor(test_user_id=\"ef7c085b-fdb5-4c94-b7b6-a61a3d04c210\")\n",
    "    "
   ]
  },
  {
   "cell_type": "code",
   "execution_count": 4,
   "metadata": {},
   "outputs": [
    {
     "name": "stdout",
     "output_type": "stream",
     "text": [
      "Vexa token: 5faa86ba0dc74b14a78c60c8aa20a014\n",
      "User information retrieved successfully.\n",
      "Vexa token: e6bf8f5b22dc4515a11a755ed77e1c20\n",
      "User information retrieved successfully.\n",
      "Vexa token: 918c9f3899d54f3bbcf445cd053c2304\n",
      "User information retrieved successfully.\n",
      "Vexa token: ed3270c73f144484ab1ff860d295e6d4\n",
      "User information retrieved successfully.\n",
      "Vexa token: ffc47fdc1f79475994fb93a29a394a09\n",
      "User information retrieved successfully.\n",
      "Vexa token: 3d23e81e34e745baa5d02f42c01b4213\n",
      "User information retrieved successfully.\n",
      "Vexa token: 8364646f24c94104bfd34ba8c2575787\n",
      "User information retrieved successfully.\n",
      "Vexa token: ed3270c73f144484ab1ff860d295e6d4\n",
      "User information retrieved successfully.\n",
      "Vexa token: 117cde619acd4d68b8943b33003e6d56\n",
      "User information retrieved successfully.\n",
      "Vexa token: 48c193136ef545e28201c2abd13a81d0\n",
      "User information retrieved successfully.\n",
      "Vexa token: cf9824e0829a4697974884f643719476\n",
      "User information retrieved successfully.\n",
      "Vexa token: 5faa86ba0dc74b14a78c60c8aa20a014\n",
      "User information retrieved successfully.\n",
      "Vexa token: 9ce3ca4b29e349beac6e9b2892fe4f2b\n",
      "User information retrieved successfully.\n",
      "Vexa token: 71eb2619f70a4b86980f24b5b5589ffc\n",
      "User information retrieved successfully.\n",
      "Vexa token: cd1e7e9d163f44c2bc7b281b571c370d\n",
      "User information retrieved successfully.\n",
      "Vexa token: 3cfbdb3a8ad641f7a4c8d09955020d0e\n",
      "User information retrieved successfully.\n",
      "Vexa token: c554afbeea3a41d8bb00202ea3422482\n",
      "User information retrieved successfully.\n"
     ]
    }
   ],
   "source": [
    "await monitor.sync_meetings(overlap_minutes=5*60)"
   ]
  },
  {
   "cell_type": "code",
   "execution_count": 5,
   "metadata": {},
   "outputs": [],
   "source": [
    "await monitor.sync_meetings_queue(last_days=30)"
   ]
  },
  {
   "cell_type": "code",
   "execution_count": 6,
   "metadata": {},
   "outputs": [
    {
     "name": "stdout",
     "output_type": "stream",
     "text": [
      "\n",
      "=== Queue Status ===\n",
      "Time: 2024-12-16T18:56:57.751672\n",
      "Queue Size: 52\n",
      "Processing: 0\n",
      "Failed: 0\n",
      "Seen Users: 0\n",
      "Active Contents: 4\n",
      "\n",
      "=== Ready to Process ===\n",
      "Content 7a2b0c2f-c043-427c-b2a0-68e9a6a18b34 - 2024-12-16T18:38:52.983562\n",
      "Content d6b623d8-542e-40ed-8660-cdb9efceaf81 - 2024-12-16T18:38:52.983807\n",
      "Content e4b4ba0c-1249-400a-81eb-469361572591 - 2024-12-16T18:38:52.984052\n",
      "Content 2182def0-c078-45f6-bce1-cbac254c8007 - 2024-12-16T18:38:52.984303\n",
      "Content 5401ff51-4f8f-4f95-a5d2-21564c9b3cc4 - 2024-12-16T18:38:52.984548\n",
      "Content 2a40c363-c52b-4f89-8719-e0be87591485 - 2024-12-16T18:38:52.984799\n",
      "Content 21d4d45e-19c3-40c3-ad9d-277b5dc7405b - 2024-12-16T18:38:52.985041\n",
      "Content a7973009-1387-47e4-a0cc-19694593194f - 2024-12-16T18:38:52.985285\n",
      "Content 7bac546e-43b4-48f1-8347-35d567c805df - 2024-12-16T18:38:52.985528\n",
      "Content e85a7645-53aa-4e18-92a9-09a5b1886f30 - 2024-12-16T18:38:52.985775\n",
      "Content 8eb8d512-2ba3-40f4-8535-8bba86779336 - 2024-12-16T18:38:52.986020\n",
      "Content 08b8398e-0b1b-4771-9516-f414888dc500 - 2024-12-16T18:38:52.986267\n",
      "Content 33c14d85-55c7-4bce-854f-eb9e617c9ea5 - 2024-12-16T18:38:52.986527\n",
      "Content b2df54b2-e91e-4d41-bd4a-48c8fc99e5fb - 2024-12-16T18:38:52.986776\n",
      "Content 1579143f-3d96-4346-9220-febb329ca5ce - 2024-12-16T18:38:52.987026\n",
      "Content 16705c46-ba51-4f1b-83d2-08e0bfc5eae5 - 2024-12-16T18:38:52.987273\n",
      "Content 8c21aec2-1d7c-4bb6-95da-c2d66085f85a - 2024-12-16T18:38:52.987521\n",
      "Content 8f275c86-e397-43fe-a884-b4535f7f82e3 - 2024-12-16T18:38:52.987770\n",
      "Content a5fe10ae-2525-44a5-8931-7033c353973c - 2024-12-16T18:38:52.988016\n",
      "Content 317ddaa3-711c-482f-b830-4ee924963b70 - 2024-12-16T18:38:52.988263\n",
      "Content 61b8db8b-f0c6-4895-8ca2-00e82466c8da - 2024-12-16T18:38:52.988515\n",
      "Content 4b253b0e-6b15-452a-b66c-da5f06ec3fcf - 2024-12-16T18:38:52.988765\n",
      "Content d44d0430-2754-428b-b934-9264c255578c - 2024-12-16T18:38:52.989120\n",
      "Content 1e98ec1a-891f-4e89-bca5-9be39c8a4856 - 2024-12-16T18:38:52.989373\n",
      "Content 7781e37d-f733-4bfc-ad18-041e8ba20231 - 2024-12-16T18:38:52.989625\n",
      "Content 0220af3b-b112-47c5-b65f-6e75778c0842 - 2024-12-16T18:38:52.989880\n",
      "Content 21a176db-7ff4-4c3c-a806-d6437a635388 - 2024-12-16T18:38:52.990132\n",
      "Content 3f6ac1da-0bd8-4681-825a-4b29c68a61f6 - 2024-12-16T18:38:52.990392\n",
      "Content 13c8cb72-9421-4181-a782-db4d66f12481 - 2024-12-16T18:38:52.990653\n",
      "Content 8056a2ad-0c94-4654-b888-321c68e6174c - 2024-12-16T18:38:52.990911\n",
      "Content c0b22605-f51f-4307-bbbc-d873fe21f4e8 - 2024-12-16T18:38:52.991174\n",
      "Content 257b078d-2ae6-4cfe-8456-b95f7cc8bec1 - 2024-12-16T18:38:52.991430\n",
      "Content bb03116a-9a62-4196-8bad-c4322095a8a3 - 2024-12-16T18:38:52.991684\n",
      "Content 361335a4-f97f-44b6-a0ba-aa2e81d74f88 - 2024-12-16T18:38:52.991941\n",
      "Content cc46bac8-a4f1-404d-b07d-d2e2231d15d8 - 2024-12-16T18:38:52.992198\n",
      "Content f22e2fd3-8e15-4b7e-8d14-076b3bbb50af - 2024-12-16T18:38:52.992455\n",
      "Content a4ed2674-b383-4d2d-992c-d85ade04d21a - 2024-12-16T18:38:52.992712\n",
      "Content 5738f21e-7b78-41bc-84d9-cb0bbbc24c12 - 2024-12-16T18:38:52.992970\n",
      "Content f5114d1b-b319-4474-8d7e-24f96fd5241b - 2024-12-16T18:38:52.993236\n",
      "Content 6132de2e-3d0a-4a94-b10e-0460fa613d81 - 2024-12-16T18:38:52.993493\n",
      "Content a4d20e6e-6eb2-4dac-ba63-7f1d241b357e - 2024-12-16T18:38:52.993750\n",
      "Content 6a115a4d-ef35-41e0-8f51-8d648d523da0 - 2024-12-16T18:38:52.994009\n",
      "Content 851092b9-5019-4be1-9749-df479b1e6cd6 - 2024-12-16T18:38:52.994271\n",
      "Content e03b0fef-0425-409c-b4bc-e8d0f4553dfa - 2024-12-16T18:56:57.535636\n",
      "Content c41c68aa-a3f1-4af9-b378-d076304c4db9 - 2024-12-16T18:56:57.687435\n",
      "Content 6a3451aa-f18c-4211-8140-fbc77ea7ba05 - 2024-12-16T18:56:57.721315\n",
      "Content 77af4031-a5a9-4dae-ad90-80d12bdadde0 - 2024-12-16T18:56:57.721652\n",
      "Content 860f9495-13a2-486e-8abf-3b5a3ec22a48 - 2024-12-16T18:56:57.721917\n",
      "Content 4f64ba1e-fd80-4b5d-a1be-345225028f6c - 2024-12-16T18:56:57.722172\n",
      "Content 2a92e93e-dc1c-455d-acbb-182555197434 - 2024-12-16T18:56:57.726057\n",
      "Content 15af0212-e418-4476-8586-085581bfd8c9 - 2024-12-16T18:56:57.726325\n",
      "Content 161f80a4-135f-4aa4-b2fc-84dec9d6445c - 2024-12-16T18:56:57.726597\n",
      "\n",
      "=== Delayed for Retry ===\n",
      "\n",
      "=== Currently Processing ===\n",
      "\n",
      "=== Active Contents ===\n",
      "Content c41c68aa-a3f1-4af9-b378-d076304c4db9 - last updated at 2024-12-16T18:08:20.828880\n",
      "Content df88af49-a65b-46b1-9cbe-e9d24517276a - last updated at 2024-12-16T18:08:20.828880\n",
      "Content e03b0fef-0425-409c-b4bc-e8d0f4553dfa - last updated at 2024-12-16T18:08:20.828880\n",
      "Content ede9d544-1cd8-49a9-81a6-1d26bc6f86d2 - last updated at 2024-12-16T18:08:20.828880\n"
     ]
    }
   ],
   "source": [
    "await monitor.print_queue_status()"
   ]
  },
  {
   "cell_type": "code",
   "execution_count": null,
   "metadata": {},
   "outputs": [],
   "source": [
    "\n",
    "    monitor = MeetingsMonitor(test_user_id=\"ef7c085b-fdb5-4c94-b7b6-a61a3d04c210\")\n",
    "    \n",
    "    while True:\n",
    "        try:\n",
    "            await monitor.sync_meetings(overlap_minutes=5*60)\n",
    "            await monitor.sync_meetings_queue(last_days=30)\n",
    "            await monitor.print_queue_status()\n",
    "            await asyncio.sleep(15)  # Check every 30 seconds\n",
    "        except KeyboardInterrupt:\n",
    "            logging.info(\"Monitor shutdown requested\")\n",
    "            break\n",
    "        except Exception as e:\n",
    "            logging.error(f\"Monitor error: {e}\")\n",
    "            await asyncio.sleep(60)  # Brief pause on error\n",
    "\n",
    "if __name__ == \"__main__\":\n",
    "    asyncio.run(monitor_loop()) \n",
    "    \n",
    "#conda activate langchain; python run_monitor.py"
   ]
  }
 ],
 "metadata": {
  "kernelspec": {
   "display_name": "Python 3",
   "language": "python",
   "name": "python3"
  },
  "language_info": {
   "codemirror_mode": {
    "name": "ipython",
    "version": 3
   },
   "file_extension": ".py",
   "mimetype": "text/x-python",
   "name": "python",
   "nbconvert_exporter": "python",
   "pygments_lexer": "ipython3",
   "version": "3.11.11"
  }
 },
 "nbformat": 4,
 "nbformat_minor": 2
}
