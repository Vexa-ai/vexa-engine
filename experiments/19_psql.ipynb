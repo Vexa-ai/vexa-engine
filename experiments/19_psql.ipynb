{
 "cells": [
  {
   "cell_type": "code",
   "execution_count": null,
   "metadata": {},
   "outputs": [],
   "source": []
  },
  {
   "cell_type": "code",
   "execution_count": 1,
   "metadata": {},
   "outputs": [],
   "source": [
    "# 17_search.ipynb\n",
    "\n",
    "%load_ext autoreload\n",
    "%autoreload 2\n",
    "\n",
    "import sys\n",
    "sys.path.append('/app')"
   ]
  },
  {
   "cell_type": "code",
   "execution_count": 6,
   "metadata": {},
   "outputs": [],
   "source": [
    "from services.psql_helpers import read_table_async\n",
    "from services.psql_helpers import get_session\n",
    "from models.db import *\n",
    "from sqlalchemy import select, delete, func"
   ]
  },
  {
   "cell_type": "code",
   "execution_count": 13,
   "metadata": {},
   "outputs": [],
   "source": [
    "\n",
    "async def delete_all_transcripts(dry_run=True, session=None):\n",
    "    async with (session or get_session()) as session:\n",
    "        # Count records before deletion\n",
    "        transcript_count_query = select(func.count()).select_from(Transcript)\n",
    "        transcript_access_count_query = select(func.count()).select_from(TranscriptAccess)\n",
    "        \n",
    "        transcript_count = await session.execute(transcript_count_query)\n",
    "        transcript_access_count = await session.execute(transcript_access_count_query)\n",
    "        \n",
    "        total_transcripts = transcript_count.scalar()\n",
    "        total_transcript_access = transcript_access_count.scalar()\n",
    "        \n",
    "        # Prepare deletion statements\n",
    "        delete_transcript_access = delete(TranscriptAccess)\n",
    "        delete_transcripts = delete(Transcript)\n",
    "        \n",
    "        # Only execute if not dry run\n",
    "        if not dry_run:\n",
    "            # Delete transcript access records first (due to foreign key constraint)\n",
    "            if total_transcript_access > 0:\n",
    "                await session.execute(delete_transcript_access)\n",
    "            \n",
    "            # Then delete transcript records\n",
    "            if total_transcripts > 0:\n",
    "                await session.execute(delete_transcripts)\n",
    "                \n",
    "            # Commit changes\n",
    "            await session.commit()\n",
    "            status = \"DELETED\"\n",
    "        else:\n",
    "            status = \"DRY RUN - NO CHANGES MADE\"\n",
    "        \n",
    "        # Return summary\n",
    "        return {\n",
    "            \"status\": status,\n",
    "            \"total_transcripts\": total_transcripts,\n",
    "            \"total_transcript_access\": total_transcript_access,\n",
    "            \"action\": \"would delete\" if dry_run else \"deleted\"\n",
    "        }"
   ]
  },
  {
   "cell_type": "code",
   "execution_count": 14,
   "metadata": {},
   "outputs": [
    {
     "data": {
      "text/plain": [
       "{'status': 'DELETED',\n",
       " 'total_transcripts': 130,\n",
       " 'total_transcript_access': 130,\n",
       " 'action': 'deleted'}"
      ]
     },
     "execution_count": 14,
     "metadata": {},
     "output_type": "execute_result"
    }
   ],
   "source": [
    "await delete_all_transcripts(dry_run=False)"
   ]
  },
  {
   "cell_type": "code",
   "execution_count": 15,
   "metadata": {},
   "outputs": [],
   "source": [
    "df = await read_table_async(User)"
   ]
  },
  {
   "cell_type": "code",
   "execution_count": 16,
   "metadata": {},
   "outputs": [
    {
     "data": {
      "text/html": [
       "<div>\n",
       "<style scoped>\n",
       "    .dataframe tbody tr th:only-of-type {\n",
       "        vertical-align: middle;\n",
       "    }\n",
       "\n",
       "    .dataframe tbody tr th {\n",
       "        vertical-align: top;\n",
       "    }\n",
       "\n",
       "    .dataframe thead th {\n",
       "        text-align: right;\n",
       "    }\n",
       "</style>\n",
       "<table border=\"1\" class=\"dataframe\">\n",
       "  <thead>\n",
       "    <tr style=\"text-align: right;\">\n",
       "      <th></th>\n",
       "      <th>id</th>\n",
       "      <th>email</th>\n",
       "      <th>username</th>\n",
       "      <th>first_name</th>\n",
       "      <th>last_name</th>\n",
       "      <th>image</th>\n",
       "      <th>created_timestamp</th>\n",
       "      <th>updated_timestamp</th>\n",
       "      <th>is_indexed</th>\n",
       "    </tr>\n",
       "  </thead>\n",
       "  <tbody>\n",
       "    <tr>\n",
       "      <th>0</th>\n",
       "      <td>48de1194-1a9b-4197-9deb-bc1b0cabb03d</td>\n",
       "      <td>test_808d0847aa@example.com</td>\n",
       "      <td>None</td>\n",
       "      <td>None</td>\n",
       "      <td>None</td>\n",
       "      <td>None</td>\n",
       "      <td>2025-03-03 16:29:44.011560+00:00</td>\n",
       "      <td>2025-03-03 16:29:44.011564+00:00</td>\n",
       "      <td>False</td>\n",
       "    </tr>\n",
       "  </tbody>\n",
       "</table>\n",
       "</div>"
      ],
      "text/plain": [
       "                                     id                        email username  \\\n",
       "0  48de1194-1a9b-4197-9deb-bc1b0cabb03d  test_808d0847aa@example.com     None   \n",
       "\n",
       "  first_name last_name image                created_timestamp  \\\n",
       "0       None      None  None 2025-03-03 16:29:44.011560+00:00   \n",
       "\n",
       "                 updated_timestamp  is_indexed  \n",
       "0 2025-03-03 16:29:44.011564+00:00       False  "
      ]
     },
     "execution_count": 16,
     "metadata": {},
     "output_type": "execute_result"
    }
   ],
   "source": [
    "df"
   ]
  },
  {
   "cell_type": "code",
   "execution_count": 17,
   "metadata": {},
   "outputs": [
    {
     "data": {
      "text/html": [
       "<div>\n",
       "<style scoped>\n",
       "    .dataframe tbody tr th:only-of-type {\n",
       "        vertical-align: middle;\n",
       "    }\n",
       "\n",
       "    .dataframe tbody tr th {\n",
       "        vertical-align: top;\n",
       "    }\n",
       "\n",
       "    .dataframe thead th {\n",
       "        text-align: right;\n",
       "    }\n",
       "</style>\n",
       "<table border=\"1\" class=\"dataframe\">\n",
       "  <thead>\n",
       "    <tr style=\"text-align: right;\">\n",
       "      <th></th>\n",
       "      <th>id</th>\n",
       "      <th>transcript_id</th>\n",
       "      <th>user_id</th>\n",
       "      <th>access_level</th>\n",
       "      <th>granted_at</th>\n",
       "      <th>granted_by</th>\n",
       "    </tr>\n",
       "  </thead>\n",
       "  <tbody>\n",
       "    <tr>\n",
       "      <th>0</th>\n",
       "      <td>305</td>\n",
       "      <td>da1407c6-6ecb-497d-b3d5-bf49b679df45</td>\n",
       "      <td>48de1194-1a9b-4197-9deb-bc1b0cabb03d</td>\n",
       "      <td>owner</td>\n",
       "      <td>2025-03-08 17:48:56.571385+00:00</td>\n",
       "      <td>48de1194-1a9b-4197-9deb-bc1b0cabb03d</td>\n",
       "    </tr>\n",
       "  </tbody>\n",
       "</table>\n",
       "</div>"
      ],
      "text/plain": [
       "    id                         transcript_id  \\\n",
       "0  305  da1407c6-6ecb-497d-b3d5-bf49b679df45   \n",
       "\n",
       "                                user_id access_level  \\\n",
       "0  48de1194-1a9b-4197-9deb-bc1b0cabb03d        owner   \n",
       "\n",
       "                        granted_at                            granted_by  \n",
       "0 2025-03-08 17:48:56.571385+00:00  48de1194-1a9b-4197-9deb-bc1b0cabb03d  "
      ]
     },
     "execution_count": 17,
     "metadata": {},
     "output_type": "execute_result"
    }
   ],
   "source": [
    "await read_table_async(TranscriptAccess)"
   ]
  },
  {
   "cell_type": "code",
   "execution_count": 18,
   "metadata": {},
   "outputs": [],
   "source": [
    "import pandas as pd\n",
    "pd.options.display.max_colwidth = 1000"
   ]
  },
  {
   "cell_type": "code",
   "execution_count": 19,
   "metadata": {},
   "outputs": [
    {
     "data": {
      "text/html": [
       "<div>\n",
       "<style scoped>\n",
       "    .dataframe tbody tr th:only-of-type {\n",
       "        vertical-align: middle;\n",
       "    }\n",
       "\n",
       "    .dataframe tbody tr th {\n",
       "        vertical-align: top;\n",
       "    }\n",
       "\n",
       "    .dataframe thead th {\n",
       "        text-align: right;\n",
       "    }\n",
       "</style>\n",
       "<table border=\"1\" class=\"dataframe\">\n",
       "  <thead>\n",
       "    <tr style=\"text-align: right;\">\n",
       "      <th></th>\n",
       "      <th>id</th>\n",
       "      <th>content_id</th>\n",
       "      <th>text_content</th>\n",
       "      <th>speaker</th>\n",
       "      <th>start_timestamp</th>\n",
       "      <th>end_timestamp</th>\n",
       "      <th>confidence</th>\n",
       "      <th>word_timing_data</th>\n",
       "      <th>segment_metadata</th>\n",
       "    </tr>\n",
       "  </thead>\n",
       "  <tbody>\n",
       "    <tr>\n",
       "      <th>0</th>\n",
       "      <td>da1407c6-6ecb-497d-b3d5-bf49b679df45</td>\n",
       "      <td>4cc8ca66-6df8-5d79-b158-22552547e62c</td>\n",
       "      <td>Так и остался один endpoint, просто он в облака переехал</td>\n",
       "      <td>Dmitriy Grankin</td>\n",
       "      <td>2025-02-13 15:35:45.400000+00:00</td>\n",
       "      <td>2025-02-13 15:35:49.060000+00:00</td>\n",
       "      <td>1.0</td>\n",
       "      <td>{'words': [{'word': 'Так', 'start': 0.0, 'end': 0.44, 'confidence': 0.237060546875}, {'word': 'и', 'start': 0.44, 'end': 0.64, 'confidence': 0.83203125}, {'word': 'остался', 'start': 0.64, 'end': 0.96, 'confidence': 0.998291015625}, {'word': 'один', 'start': 0.96, 'end': 1.26, 'confidence': 0.97705078125}, {'word': 'endpoint,', 'start': 1.26, 'end': 1.58, 'confidence': 0.65673828125}, {'word': 'просто', 'start': 1.86, 'end': 2.08, 'confidence': 0.9296875}, {'word': 'он', 'start': 2.08, 'end': 2.34, 'confidence': 0.9765625}, {'word': 'в', 'start': 2.34, 'end': 2.46, 'confidence': 0.98779296875}, {'word': 'облака', 'start': 2.46, 'end': 2.88, 'confidence': 0.9811197916666666}, {'word': 'переехал', 'start': 2.88, 'end': 3.66, 'confidence': 0.9990234375}]}</td>\n",
       "      <td>{'speaker': 'Dmitriy Grankin', 'present_user_ids': ['48de1194-1a9b-4197-9deb-bc1b0cabb03d'], 'server_timestamp': '2025-02-13T15:32:16+00:00'}</td>\n",
       "    </tr>\n",
       "  </tbody>\n",
       "</table>\n",
       "</div>"
      ],
      "text/plain": [
       "                                     id                            content_id  \\\n",
       "0  da1407c6-6ecb-497d-b3d5-bf49b679df45  4cc8ca66-6df8-5d79-b158-22552547e62c   \n",
       "\n",
       "                                               text_content          speaker  \\\n",
       "0  Так и остался один endpoint, просто он в облака переехал  Dmitriy Grankin   \n",
       "\n",
       "                   start_timestamp                    end_timestamp  \\\n",
       "0 2025-02-13 15:35:45.400000+00:00 2025-02-13 15:35:49.060000+00:00   \n",
       "\n",
       "   confidence  \\\n",
       "0         1.0   \n",
       "\n",
       "                                                                                                                                                                                                                                                                                                                                                                                                                                                                                                                                                                                                                                                                                                                                                                             word_timing_data  \\\n",
       "0  {'words': [{'word': 'Так', 'start': 0.0, 'end': 0.44, 'confidence': 0.237060546875}, {'word': 'и', 'start': 0.44, 'end': 0.64, 'confidence': 0.83203125}, {'word': 'остался', 'start': 0.64, 'end': 0.96, 'confidence': 0.998291015625}, {'word': 'один', 'start': 0.96, 'end': 1.26, 'confidence': 0.97705078125}, {'word': 'endpoint,', 'start': 1.26, 'end': 1.58, 'confidence': 0.65673828125}, {'word': 'просто', 'start': 1.86, 'end': 2.08, 'confidence': 0.9296875}, {'word': 'он', 'start': 2.08, 'end': 2.34, 'confidence': 0.9765625}, {'word': 'в', 'start': 2.34, 'end': 2.46, 'confidence': 0.98779296875}, {'word': 'облака', 'start': 2.46, 'end': 2.88, 'confidence': 0.9811197916666666}, {'word': 'переехал', 'start': 2.88, 'end': 3.66, 'confidence': 0.9990234375}]}   \n",
       "\n",
       "                                                                                                                                segment_metadata  \n",
       "0  {'speaker': 'Dmitriy Grankin', 'present_user_ids': ['48de1194-1a9b-4197-9deb-bc1b0cabb03d'], 'server_timestamp': '2025-02-13T15:32:16+00:00'}  "
      ]
     },
     "execution_count": 19,
     "metadata": {},
     "output_type": "execute_result"
    }
   ],
   "source": [
    "df = await read_table_async(Transcript)\n",
    "df.sort_values(by='start_timestamp').tail(10)"
   ]
  },
  {
   "cell_type": "code",
   "execution_count": 44,
   "metadata": {},
   "outputs": [],
   "source": [
    "df = await read_table_async(Content)"
   ]
  },
  {
   "cell_type": "code",
   "execution_count": 45,
   "metadata": {},
   "outputs": [
    {
     "data": {
      "text/html": [
       "<div>\n",
       "<style scoped>\n",
       "    .dataframe tbody tr th:only-of-type {\n",
       "        vertical-align: middle;\n",
       "    }\n",
       "\n",
       "    .dataframe tbody tr th {\n",
       "        vertical-align: top;\n",
       "    }\n",
       "\n",
       "    .dataframe thead th {\n",
       "        text-align: right;\n",
       "    }\n",
       "</style>\n",
       "<table border=\"1\" class=\"dataframe\">\n",
       "  <thead>\n",
       "    <tr style=\"text-align: right;\">\n",
       "      <th></th>\n",
       "      <th>id</th>\n",
       "      <th>type</th>\n",
       "      <th>text</th>\n",
       "      <th>timestamp</th>\n",
       "      <th>external_id</th>\n",
       "      <th>external_id_type</th>\n",
       "      <th>last_update</th>\n",
       "      <th>parent_id</th>\n",
       "      <th>is_indexed</th>\n",
       "      <th>content_metadata</th>\n",
       "    </tr>\n",
       "  </thead>\n",
       "  <tbody>\n",
       "    <tr>\n",
       "      <th>0</th>\n",
       "      <td>4cc8ca66-6df8-5d79-b158-22552547e62c</td>\n",
       "      <td>meeting</td>\n",
       "      <td></td>\n",
       "      <td>2025-03-03 16:55:14.986422+00:00</td>\n",
       "      <td>the-zdjv-byg</td>\n",
       "      <td>google_meet</td>\n",
       "      <td>2025-03-03 16:55:14.986426+00:00</td>\n",
       "      <td>None</td>\n",
       "      <td>False</td>\n",
       "      <td>None</td>\n",
       "    </tr>\n",
       "  </tbody>\n",
       "</table>\n",
       "</div>"
      ],
      "text/plain": [
       "                                     id     type text  \\\n",
       "0  4cc8ca66-6df8-5d79-b158-22552547e62c  meeting        \n",
       "\n",
       "                         timestamp   external_id external_id_type  \\\n",
       "0 2025-03-03 16:55:14.986422+00:00  the-zdjv-byg      google_meet   \n",
       "\n",
       "                       last_update parent_id  is_indexed content_metadata  \n",
       "0 2025-03-03 16:55:14.986426+00:00      None       False             None  "
      ]
     },
     "execution_count": 45,
     "metadata": {},
     "output_type": "execute_result"
    }
   ],
   "source": [
    "df"
   ]
  },
  {
   "cell_type": "code",
   "execution_count": 13,
   "metadata": {},
   "outputs": [
    {
     "data": {
      "text/html": [
       "<div>\n",
       "<style scoped>\n",
       "    .dataframe tbody tr th:only-of-type {\n",
       "        vertical-align: middle;\n",
       "    }\n",
       "\n",
       "    .dataframe tbody tr th {\n",
       "        vertical-align: top;\n",
       "    }\n",
       "\n",
       "    .dataframe thead th {\n",
       "        text-align: right;\n",
       "    }\n",
       "</style>\n",
       "<table border=\"1\" class=\"dataframe\">\n",
       "  <thead>\n",
       "    <tr style=\"text-align: right;\">\n",
       "      <th></th>\n",
       "      <th>id</th>\n",
       "      <th>type</th>\n",
       "      <th>text</th>\n",
       "      <th>timestamp</th>\n",
       "      <th>external_id</th>\n",
       "      <th>external_id_type</th>\n",
       "      <th>last_update</th>\n",
       "      <th>parent_id</th>\n",
       "      <th>is_indexed</th>\n",
       "      <th>content_metadata</th>\n",
       "    </tr>\n",
       "  </thead>\n",
       "  <tbody>\n",
       "  </tbody>\n",
       "</table>\n",
       "</div>"
      ],
      "text/plain": [
       "Empty DataFrame\n",
       "Columns: [id, type, text, timestamp, external_id, external_id_type, last_update, parent_id, is_indexed, content_metadata]\n",
       "Index: []"
      ]
     },
     "execution_count": 13,
     "metadata": {},
     "output_type": "execute_result"
    }
   ],
   "source": [
    "df[df['is_indexed']]"
   ]
  },
  {
   "cell_type": "code",
   "execution_count": 14,
   "metadata": {},
   "outputs": [],
   "source": [
    "df = await read_table_async(Content)"
   ]
  },
  {
   "cell_type": "code",
   "execution_count": 15,
   "metadata": {},
   "outputs": [
    {
     "data": {
      "text/html": [
       "<div>\n",
       "<style scoped>\n",
       "    .dataframe tbody tr th:only-of-type {\n",
       "        vertical-align: middle;\n",
       "    }\n",
       "\n",
       "    .dataframe tbody tr th {\n",
       "        vertical-align: top;\n",
       "    }\n",
       "\n",
       "    .dataframe thead th {\n",
       "        text-align: right;\n",
       "    }\n",
       "</style>\n",
       "<table border=\"1\" class=\"dataframe\">\n",
       "  <thead>\n",
       "    <tr style=\"text-align: right;\">\n",
       "      <th></th>\n",
       "      <th>id</th>\n",
       "      <th>type</th>\n",
       "      <th>text</th>\n",
       "      <th>timestamp</th>\n",
       "      <th>external_id</th>\n",
       "      <th>external_id_type</th>\n",
       "      <th>last_update</th>\n",
       "      <th>parent_id</th>\n",
       "      <th>is_indexed</th>\n",
       "      <th>content_metadata</th>\n",
       "    </tr>\n",
       "  </thead>\n",
       "  <tbody>\n",
       "    <tr>\n",
       "      <th>0</th>\n",
       "      <td>4cc8ca66-6df8-5d79-b158-22552547e62c</td>\n",
       "      <td>meeting</td>\n",
       "      <td></td>\n",
       "      <td>2025-02-28 13:38:25.722251+00:00</td>\n",
       "      <td>the-zdjv-byg</td>\n",
       "      <td>google_meet</td>\n",
       "      <td>2025-02-28 13:38:25.722259+00:00</td>\n",
       "      <td>None</td>\n",
       "      <td>False</td>\n",
       "      <td>None</td>\n",
       "    </tr>\n",
       "  </tbody>\n",
       "</table>\n",
       "</div>"
      ],
      "text/plain": [
       "                                     id     type text  \\\n",
       "0  4cc8ca66-6df8-5d79-b158-22552547e62c  meeting        \n",
       "\n",
       "                         timestamp   external_id external_id_type  \\\n",
       "0 2025-02-28 13:38:25.722251+00:00  the-zdjv-byg      google_meet   \n",
       "\n",
       "                       last_update parent_id  is_indexed content_metadata  \n",
       "0 2025-02-28 13:38:25.722259+00:00      None       False             None  "
      ]
     },
     "execution_count": 15,
     "metadata": {},
     "output_type": "execute_result"
    }
   ],
   "source": [
    "df"
   ]
  },
  {
   "cell_type": "code",
   "execution_count": null,
   "metadata": {},
   "outputs": [],
   "source": []
  },
  {
   "cell_type": "code",
   "execution_count": null,
   "metadata": {},
   "outputs": [],
   "source": []
  },
  {
   "cell_type": "code",
   "execution_count": 16,
   "metadata": {},
   "outputs": [
    {
     "data": {
      "text/plain": [
       "is_indexed\n",
       "False    1\n",
       "Name: count, dtype: int64"
      ]
     },
     "execution_count": 16,
     "metadata": {},
     "output_type": "execute_result"
    }
   ],
   "source": [
    "df['is_indexed'].value_counts()\n"
   ]
  },
  {
   "cell_type": "code",
   "execution_count": 17,
   "metadata": {},
   "outputs": [
    {
     "data": {
      "text/plain": [
       "type\n",
       "meeting    1\n",
       "Name: count, dtype: int64"
      ]
     },
     "execution_count": 17,
     "metadata": {},
     "output_type": "execute_result"
    }
   ],
   "source": [
    "df['type'].value_counts()\n"
   ]
  },
  {
   "cell_type": "code",
   "execution_count": null,
   "metadata": {},
   "outputs": [],
   "source": []
  },
  {
   "cell_type": "code",
   "execution_count": 18,
   "metadata": {},
   "outputs": [
    {
     "ename": "NameError",
     "evalue": "name 'ContentProcessor' is not defined",
     "output_type": "error",
     "traceback": [
      "\u001b[0;31m---------------------------------------------------------------------------\u001b[0m",
      "\u001b[0;31mNameError\u001b[0m                                 Traceback (most recent call last)",
      "Cell \u001b[0;32mIn[18], line 1\u001b[0m\n\u001b[0;32m----> 1\u001b[0m processor \u001b[38;5;241m=\u001b[39m \u001b[43mContentProcessor\u001b[49m(\n\u001b[1;32m      2\u001b[0m             qdrant_engine\u001b[38;5;241m=\u001b[39m\u001b[38;5;28mself\u001b[39m\u001b[38;5;241m.\u001b[39mqdrant_engine,\n\u001b[1;32m      3\u001b[0m             es_engine\u001b[38;5;241m=\u001b[39m\u001b[38;5;28mself\u001b[39m\u001b[38;5;241m.\u001b[39mes_engine\n\u001b[1;32m      4\u001b[0m         )\n",
      "\u001b[0;31mNameError\u001b[0m: name 'ContentProcessor' is not defined"
     ]
    }
   ],
   "source": [
    "processor = ContentProcessor(\n",
    "            qdrant_engine=self.qdrant_engine,\n",
    "            es_engine=self.es_engine\n",
    "        )"
   ]
  },
  {
   "cell_type": "code",
   "execution_count": null,
   "metadata": {},
   "outputs": [],
   "source": []
  }
 ],
 "metadata": {
  "kernelspec": {
   "display_name": "Python 3",
   "language": "python",
   "name": "python3"
  },
  "language_info": {
   "codemirror_mode": {
    "name": "ipython",
    "version": 3
   },
   "file_extension": ".py",
   "mimetype": "text/x-python",
   "name": "python",
   "nbconvert_exporter": "python",
   "pygments_lexer": "ipython3",
   "version": "3.12.9"
  }
 },
 "nbformat": 4,
 "nbformat_minor": 2
}
