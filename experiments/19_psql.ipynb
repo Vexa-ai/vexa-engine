{
 "cells": [
  {
   "cell_type": "code",
   "execution_count": null,
   "metadata": {},
   "outputs": [],
   "source": []
  },
  {
   "cell_type": "code",
   "execution_count": 1,
   "metadata": {},
   "outputs": [],
   "source": [
    "# 17_search.ipynb\n",
    "\n",
    "%load_ext autoreload\n",
    "%autoreload 2\n",
    "\n",
    "import sys\n",
    "sys.path.append('/app')"
   ]
  },
  {
   "cell_type": "code",
   "execution_count": 2,
   "metadata": {},
   "outputs": [],
   "source": [
    "from psql_helpers import read_table_async"
   ]
  },
  {
   "cell_type": "code",
   "execution_count": 3,
   "metadata": {},
   "outputs": [],
   "source": [
    "from psql_models import *"
   ]
  },
  {
   "cell_type": "code",
   "execution_count": 4,
   "metadata": {},
   "outputs": [],
   "source": [
    "from psql_access import get_meeting_token\n",
    "from datetime import datetime\n",
    "from indexing.redis_keys import RedisKeys\n",
    "from indexing.worker import IndexingWorker\n",
    "from redis import Redis\n"
   ]
  },
  {
   "cell_type": "code",
   "execution_count": 5,
   "metadata": {},
   "outputs": [],
   "source": [
    "from sqlalchemy import update\n",
    "from psql_helpers import get_session\n",
    "\n",
    "async def reset_content_indexing():\n",
    "    async with get_session() as session:\n",
    "        await session.execute(\n",
    "            update(Content).values(is_indexed=False)\n",
    "        )\n",
    "        await session.commit()\n",
    "\n",
    "# Execute\n",
    "#await reset_content_indexing()"
   ]
  },
  {
   "cell_type": "code",
   "execution_count": 9,
   "metadata": {},
   "outputs": [],
   "source": [
    "df = await read_table_async(Content)"
   ]
  },
  {
   "cell_type": "code",
   "execution_count": 10,
   "metadata": {},
   "outputs": [
    {
     "data": {
      "text/html": [
       "<div>\n",
       "<style scoped>\n",
       "    .dataframe tbody tr th:only-of-type {\n",
       "        vertical-align: middle;\n",
       "    }\n",
       "\n",
       "    .dataframe tbody tr th {\n",
       "        vertical-align: top;\n",
       "    }\n",
       "\n",
       "    .dataframe thead th {\n",
       "        text-align: right;\n",
       "    }\n",
       "</style>\n",
       "<table border=\"1\" class=\"dataframe\">\n",
       "  <thead>\n",
       "    <tr style=\"text-align: right;\">\n",
       "      <th></th>\n",
       "      <th>id</th>\n",
       "      <th>type</th>\n",
       "      <th>text</th>\n",
       "      <th>timestamp</th>\n",
       "      <th>parent_id</th>\n",
       "      <th>is_indexed</th>\n",
       "      <th>last_update</th>\n",
       "    </tr>\n",
       "  </thead>\n",
       "  <tbody>\n",
       "    <tr>\n",
       "      <th>0</th>\n",
       "      <td>dfa86d3e-4946-414d-bd66-bd0ea472dc5c</td>\n",
       "      <td>meeting</td>\n",
       "      <td>None</td>\n",
       "      <td>2024-06-05 12:56:23.602416</td>\n",
       "      <td>None</td>\n",
       "      <td>False</td>\n",
       "      <td>2024-06-05 12:46:02.777662</td>\n",
       "    </tr>\n",
       "    <tr>\n",
       "      <th>1</th>\n",
       "      <td>f858cb3e-ac65-467c-8f5f-d0704abff5d3</td>\n",
       "      <td>meeting</td>\n",
       "      <td>None</td>\n",
       "      <td>2024-06-18 11:00:08.984681</td>\n",
       "      <td>None</td>\n",
       "      <td>False</td>\n",
       "      <td>2024-06-04 10:36:58.015811</td>\n",
       "    </tr>\n",
       "    <tr>\n",
       "      <th>2</th>\n",
       "      <td>f57553c1-1b73-47e6-97e9-ae3d5295d6d4</td>\n",
       "      <td>meeting</td>\n",
       "      <td>None</td>\n",
       "      <td>2024-06-10 15:09:50.271597</td>\n",
       "      <td>None</td>\n",
       "      <td>False</td>\n",
       "      <td>2024-06-10 14:16:30.597309</td>\n",
       "    </tr>\n",
       "    <tr>\n",
       "      <th>3</th>\n",
       "      <td>aa6f0a6a-60a4-4a14-a005-78a377ad6b15</td>\n",
       "      <td>meeting</td>\n",
       "      <td>None</td>\n",
       "      <td>2024-06-11 13:28:41.232765</td>\n",
       "      <td>None</td>\n",
       "      <td>False</td>\n",
       "      <td>2024-06-11 12:47:32.693585</td>\n",
       "    </tr>\n",
       "    <tr>\n",
       "      <th>4</th>\n",
       "      <td>167773e6-12f1-41b1-af82-8fa586fc83f7</td>\n",
       "      <td>meeting</td>\n",
       "      <td>None</td>\n",
       "      <td>2024-06-11 15:00:47.108002</td>\n",
       "      <td>None</td>\n",
       "      <td>False</td>\n",
       "      <td>2024-06-11 15:23:09.096777</td>\n",
       "    </tr>\n",
       "    <tr>\n",
       "      <th>...</th>\n",
       "      <td>...</td>\n",
       "      <td>...</td>\n",
       "      <td>...</td>\n",
       "      <td>...</td>\n",
       "      <td>...</td>\n",
       "      <td>...</td>\n",
       "      <td>...</td>\n",
       "    </tr>\n",
       "    <tr>\n",
       "      <th>4942</th>\n",
       "      <td>3ccc968c-4442-4db9-bd53-906c699b480c</td>\n",
       "      <td>meeting</td>\n",
       "      <td>None</td>\n",
       "      <td>2024-07-16 12:30:12.646382</td>\n",
       "      <td>None</td>\n",
       "      <td>True</td>\n",
       "      <td>2024-07-16 12:30:17.431634</td>\n",
       "    </tr>\n",
       "    <tr>\n",
       "      <th>4943</th>\n",
       "      <td>6ce92345-80f9-4273-8f5b-3ae947a15d70</td>\n",
       "      <td>meeting</td>\n",
       "      <td>None</td>\n",
       "      <td>2024-08-08 09:25:20.482626</td>\n",
       "      <td>None</td>\n",
       "      <td>True</td>\n",
       "      <td>2024-08-08 10:27:10.631886</td>\n",
       "    </tr>\n",
       "    <tr>\n",
       "      <th>4944</th>\n",
       "      <td>bbceeaf7-4c9b-4c68-b6b4-9d1a0086fb88</td>\n",
       "      <td>meeting</td>\n",
       "      <td>None</td>\n",
       "      <td>2025-01-29 21:52:21.000000</td>\n",
       "      <td>None</td>\n",
       "      <td>False</td>\n",
       "      <td>2025-01-29 21:55:46.000000</td>\n",
       "    </tr>\n",
       "    <tr>\n",
       "      <th>4945</th>\n",
       "      <td>8ad79505-744f-4e6b-be15-d80d3be7e1ed</td>\n",
       "      <td>title</td>\n",
       "      <td>22:04</td>\n",
       "      <td>NaT</td>\n",
       "      <td>5ff0dfc4-6a04-4fd6-8ead-9cd93eb30b87</td>\n",
       "      <td>False</td>\n",
       "      <td>NaT</td>\n",
       "    </tr>\n",
       "    <tr>\n",
       "      <th>4946</th>\n",
       "      <td>68660c21-192c-47c7-ba6c-f908b5116e99</td>\n",
       "      <td>title</td>\n",
       "      <td>06:29</td>\n",
       "      <td>NaT</td>\n",
       "      <td>7762ab20-063f-47e8-8a37-6ffa006010c2</td>\n",
       "      <td>False</td>\n",
       "      <td>NaT</td>\n",
       "    </tr>\n",
       "  </tbody>\n",
       "</table>\n",
       "<p>4947 rows × 7 columns</p>\n",
       "</div>"
      ],
      "text/plain": [
       "                                        id     type   text  \\\n",
       "0     dfa86d3e-4946-414d-bd66-bd0ea472dc5c  meeting   None   \n",
       "1     f858cb3e-ac65-467c-8f5f-d0704abff5d3  meeting   None   \n",
       "2     f57553c1-1b73-47e6-97e9-ae3d5295d6d4  meeting   None   \n",
       "3     aa6f0a6a-60a4-4a14-a005-78a377ad6b15  meeting   None   \n",
       "4     167773e6-12f1-41b1-af82-8fa586fc83f7  meeting   None   \n",
       "...                                    ...      ...    ...   \n",
       "4942  3ccc968c-4442-4db9-bd53-906c699b480c  meeting   None   \n",
       "4943  6ce92345-80f9-4273-8f5b-3ae947a15d70  meeting   None   \n",
       "4944  bbceeaf7-4c9b-4c68-b6b4-9d1a0086fb88  meeting   None   \n",
       "4945  8ad79505-744f-4e6b-be15-d80d3be7e1ed    title  22:04   \n",
       "4946  68660c21-192c-47c7-ba6c-f908b5116e99    title  06:29   \n",
       "\n",
       "                      timestamp                             parent_id  \\\n",
       "0    2024-06-05 12:56:23.602416                                  None   \n",
       "1    2024-06-18 11:00:08.984681                                  None   \n",
       "2    2024-06-10 15:09:50.271597                                  None   \n",
       "3    2024-06-11 13:28:41.232765                                  None   \n",
       "4    2024-06-11 15:00:47.108002                                  None   \n",
       "...                         ...                                   ...   \n",
       "4942 2024-07-16 12:30:12.646382                                  None   \n",
       "4943 2024-08-08 09:25:20.482626                                  None   \n",
       "4944 2025-01-29 21:52:21.000000                                  None   \n",
       "4945                        NaT  5ff0dfc4-6a04-4fd6-8ead-9cd93eb30b87   \n",
       "4946                        NaT  7762ab20-063f-47e8-8a37-6ffa006010c2   \n",
       "\n",
       "      is_indexed                last_update  \n",
       "0          False 2024-06-05 12:46:02.777662  \n",
       "1          False 2024-06-04 10:36:58.015811  \n",
       "2          False 2024-06-10 14:16:30.597309  \n",
       "3          False 2024-06-11 12:47:32.693585  \n",
       "4          False 2024-06-11 15:23:09.096777  \n",
       "...          ...                        ...  \n",
       "4942        True 2024-07-16 12:30:17.431634  \n",
       "4943        True 2024-08-08 10:27:10.631886  \n",
       "4944       False 2025-01-29 21:55:46.000000  \n",
       "4945       False                        NaT  \n",
       "4946       False                        NaT  \n",
       "\n",
       "[4947 rows x 7 columns]"
      ]
     },
     "execution_count": 10,
     "metadata": {},
     "output_type": "execute_result"
    }
   ],
   "source": [
    "df"
   ]
  },
  {
   "cell_type": "code",
   "execution_count": 8,
   "metadata": {},
   "outputs": [
    {
     "ename": "KeyError",
     "evalue": "'is_indexed'",
     "output_type": "error",
     "traceback": [
      "\u001b[0;31m---------------------------------------------------------------------------\u001b[0m",
      "\u001b[0;31mKeyError\u001b[0m                                  Traceback (most recent call last)",
      "File \u001b[0;32m/usr/local/lib/python3.11/site-packages/pandas/core/indexes/base.py:3805\u001b[0m, in \u001b[0;36mIndex.get_loc\u001b[0;34m(self, key)\u001b[0m\n\u001b[1;32m   3804\u001b[0m \u001b[38;5;28;01mtry\u001b[39;00m:\n\u001b[0;32m-> 3805\u001b[0m     \u001b[38;5;28;01mreturn\u001b[39;00m \u001b[38;5;28;43mself\u001b[39;49m\u001b[38;5;241;43m.\u001b[39;49m\u001b[43m_engine\u001b[49m\u001b[38;5;241;43m.\u001b[39;49m\u001b[43mget_loc\u001b[49m\u001b[43m(\u001b[49m\u001b[43mcasted_key\u001b[49m\u001b[43m)\u001b[49m\n\u001b[1;32m   3806\u001b[0m \u001b[38;5;28;01mexcept\u001b[39;00m \u001b[38;5;167;01mKeyError\u001b[39;00m \u001b[38;5;28;01mas\u001b[39;00m err:\n",
      "File \u001b[0;32mindex.pyx:167\u001b[0m, in \u001b[0;36mpandas._libs.index.IndexEngine.get_loc\u001b[0;34m()\u001b[0m\n",
      "File \u001b[0;32mindex.pyx:196\u001b[0m, in \u001b[0;36mpandas._libs.index.IndexEngine.get_loc\u001b[0;34m()\u001b[0m\n",
      "File \u001b[0;32mpandas/_libs/hashtable_class_helper.pxi:7081\u001b[0m, in \u001b[0;36mpandas._libs.hashtable.PyObjectHashTable.get_item\u001b[0;34m()\u001b[0m\n",
      "File \u001b[0;32mpandas/_libs/hashtable_class_helper.pxi:7089\u001b[0m, in \u001b[0;36mpandas._libs.hashtable.PyObjectHashTable.get_item\u001b[0;34m()\u001b[0m\n",
      "\u001b[0;31mKeyError\u001b[0m: 'is_indexed'",
      "\nThe above exception was the direct cause of the following exception:\n",
      "\u001b[0;31mKeyError\u001b[0m                                  Traceback (most recent call last)",
      "Cell \u001b[0;32mIn[8], line 1\u001b[0m\n\u001b[0;32m----> 1\u001b[0m df[\u001b[43mdf\u001b[49m\u001b[43m[\u001b[49m\u001b[38;5;124;43m'\u001b[39;49m\u001b[38;5;124;43mis_indexed\u001b[39;49m\u001b[38;5;124;43m'\u001b[39;49m\u001b[43m]\u001b[49m]\n",
      "File \u001b[0;32m/usr/local/lib/python3.11/site-packages/pandas/core/frame.py:4102\u001b[0m, in \u001b[0;36mDataFrame.__getitem__\u001b[0;34m(self, key)\u001b[0m\n\u001b[1;32m   4100\u001b[0m \u001b[38;5;28;01mif\u001b[39;00m \u001b[38;5;28mself\u001b[39m\u001b[38;5;241m.\u001b[39mcolumns\u001b[38;5;241m.\u001b[39mnlevels \u001b[38;5;241m>\u001b[39m \u001b[38;5;241m1\u001b[39m:\n\u001b[1;32m   4101\u001b[0m     \u001b[38;5;28;01mreturn\u001b[39;00m \u001b[38;5;28mself\u001b[39m\u001b[38;5;241m.\u001b[39m_getitem_multilevel(key)\n\u001b[0;32m-> 4102\u001b[0m indexer \u001b[38;5;241m=\u001b[39m \u001b[38;5;28;43mself\u001b[39;49m\u001b[38;5;241;43m.\u001b[39;49m\u001b[43mcolumns\u001b[49m\u001b[38;5;241;43m.\u001b[39;49m\u001b[43mget_loc\u001b[49m\u001b[43m(\u001b[49m\u001b[43mkey\u001b[49m\u001b[43m)\u001b[49m\n\u001b[1;32m   4103\u001b[0m \u001b[38;5;28;01mif\u001b[39;00m is_integer(indexer):\n\u001b[1;32m   4104\u001b[0m     indexer \u001b[38;5;241m=\u001b[39m [indexer]\n",
      "File \u001b[0;32m/usr/local/lib/python3.11/site-packages/pandas/core/indexes/base.py:3812\u001b[0m, in \u001b[0;36mIndex.get_loc\u001b[0;34m(self, key)\u001b[0m\n\u001b[1;32m   3807\u001b[0m     \u001b[38;5;28;01mif\u001b[39;00m \u001b[38;5;28misinstance\u001b[39m(casted_key, \u001b[38;5;28mslice\u001b[39m) \u001b[38;5;129;01mor\u001b[39;00m (\n\u001b[1;32m   3808\u001b[0m         \u001b[38;5;28misinstance\u001b[39m(casted_key, abc\u001b[38;5;241m.\u001b[39mIterable)\n\u001b[1;32m   3809\u001b[0m         \u001b[38;5;129;01mand\u001b[39;00m \u001b[38;5;28many\u001b[39m(\u001b[38;5;28misinstance\u001b[39m(x, \u001b[38;5;28mslice\u001b[39m) \u001b[38;5;28;01mfor\u001b[39;00m x \u001b[38;5;129;01min\u001b[39;00m casted_key)\n\u001b[1;32m   3810\u001b[0m     ):\n\u001b[1;32m   3811\u001b[0m         \u001b[38;5;28;01mraise\u001b[39;00m InvalidIndexError(key)\n\u001b[0;32m-> 3812\u001b[0m     \u001b[38;5;28;01mraise\u001b[39;00m \u001b[38;5;167;01mKeyError\u001b[39;00m(key) \u001b[38;5;28;01mfrom\u001b[39;00m \u001b[38;5;21;01merr\u001b[39;00m\n\u001b[1;32m   3813\u001b[0m \u001b[38;5;28;01mexcept\u001b[39;00m \u001b[38;5;167;01mTypeError\u001b[39;00m:\n\u001b[1;32m   3814\u001b[0m     \u001b[38;5;66;03m# If we have a listlike key, _check_indexing_error will raise\u001b[39;00m\n\u001b[1;32m   3815\u001b[0m     \u001b[38;5;66;03m#  InvalidIndexError. Otherwise we fall through and re-raise\u001b[39;00m\n\u001b[1;32m   3816\u001b[0m     \u001b[38;5;66;03m#  the TypeError.\u001b[39;00m\n\u001b[1;32m   3817\u001b[0m     \u001b[38;5;28mself\u001b[39m\u001b[38;5;241m.\u001b[39m_check_indexing_error(key)\n",
      "\u001b[0;31mKeyError\u001b[0m: 'is_indexed'"
     ]
    }
   ],
   "source": [
    "df[df['is_indexed']]"
   ]
  },
  {
   "cell_type": "code",
   "execution_count": 19,
   "metadata": {},
   "outputs": [],
   "source": [
    "df = await read_table_async(Content)"
   ]
  },
  {
   "cell_type": "code",
   "execution_count": 20,
   "metadata": {},
   "outputs": [
    {
     "data": {
      "text/html": [
       "<div>\n",
       "<style scoped>\n",
       "    .dataframe tbody tr th:only-of-type {\n",
       "        vertical-align: middle;\n",
       "    }\n",
       "\n",
       "    .dataframe tbody tr th {\n",
       "        vertical-align: top;\n",
       "    }\n",
       "\n",
       "    .dataframe thead th {\n",
       "        text-align: right;\n",
       "    }\n",
       "</style>\n",
       "<table border=\"1\" class=\"dataframe\">\n",
       "  <thead>\n",
       "    <tr style=\"text-align: right;\">\n",
       "      <th></th>\n",
       "    </tr>\n",
       "  </thead>\n",
       "  <tbody>\n",
       "  </tbody>\n",
       "</table>\n",
       "</div>"
      ],
      "text/plain": [
       "Empty DataFrame\n",
       "Columns: []\n",
       "Index: []"
      ]
     },
     "execution_count": 20,
     "metadata": {},
     "output_type": "execute_result"
    }
   ],
   "source": [
    "df"
   ]
  },
  {
   "cell_type": "code",
   "execution_count": null,
   "metadata": {},
   "outputs": [],
   "source": []
  },
  {
   "cell_type": "code",
   "execution_count": null,
   "metadata": {},
   "outputs": [],
   "source": []
  },
  {
   "cell_type": "code",
   "execution_count": 8,
   "metadata": {},
   "outputs": [
    {
     "data": {
      "text/plain": [
       "is_indexed\n",
       "False    3683\n",
       "Name: count, dtype: int64"
      ]
     },
     "execution_count": 8,
     "metadata": {},
     "output_type": "execute_result"
    }
   ],
   "source": [
    "df['is_indexed'].value_counts()\n"
   ]
  },
  {
   "cell_type": "code",
   "execution_count": 9,
   "metadata": {},
   "outputs": [
    {
     "data": {
      "text/plain": [
       "type\n",
       "meeting    3683\n",
       "Name: count, dtype: int64"
      ]
     },
     "execution_count": 9,
     "metadata": {},
     "output_type": "execute_result"
    }
   ],
   "source": [
    "df['type'].value_counts()\n"
   ]
  },
  {
   "cell_type": "code",
   "execution_count": null,
   "metadata": {},
   "outputs": [],
   "source": []
  },
  {
   "cell_type": "code",
   "execution_count": 30,
   "metadata": {},
   "outputs": [
    {
     "ename": "NameError",
     "evalue": "name 'self' is not defined",
     "output_type": "error",
     "traceback": [
      "\u001b[0;31m---------------------------------------------------------------------------\u001b[0m",
      "\u001b[0;31mNameError\u001b[0m                                 Traceback (most recent call last)",
      "Cell \u001b[0;32mIn[30], line 2\u001b[0m\n\u001b[1;32m      1\u001b[0m processor \u001b[38;5;241m=\u001b[39m ContentProcessor(\n\u001b[0;32m----> 2\u001b[0m             qdrant_engine\u001b[38;5;241m=\u001b[39m\u001b[38;5;28;43mself\u001b[39;49m\u001b[38;5;241m.\u001b[39mqdrant_engine,\n\u001b[1;32m      3\u001b[0m             es_engine\u001b[38;5;241m=\u001b[39m\u001b[38;5;28mself\u001b[39m\u001b[38;5;241m.\u001b[39mes_engine\n\u001b[1;32m      4\u001b[0m         )\n",
      "\u001b[0;31mNameError\u001b[0m: name 'self' is not defined"
     ]
    }
   ],
   "source": [
    "processor = ContentProcessor(\n",
    "            qdrant_engine=self.qdrant_engine,\n",
    "            es_engine=self.es_engine\n",
    "        )"
   ]
  },
  {
   "cell_type": "code",
   "execution_count": null,
   "metadata": {},
   "outputs": [],
   "source": []
  }
 ],
 "metadata": {
  "kernelspec": {
   "display_name": "Python 3",
   "language": "python",
   "name": "python3"
  },
  "language_info": {
   "codemirror_mode": {
    "name": "ipython",
    "version": 3
   },
   "file_extension": ".py",
   "mimetype": "text/x-python",
   "name": "python",
   "nbconvert_exporter": "python",
   "pygments_lexer": "ipython3",
   "version": "3.11.11"
  }
 },
 "nbformat": 4,
 "nbformat_minor": 2
}
