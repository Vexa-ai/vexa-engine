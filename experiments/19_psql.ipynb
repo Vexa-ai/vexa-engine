{
 "cells": [
  {
   "cell_type": "code",
   "execution_count": null,
   "metadata": {},
   "outputs": [],
   "source": []
  },
  {
   "cell_type": "code",
   "execution_count": 206,
   "metadata": {},
   "outputs": [
    {
     "name": "stdout",
     "output_type": "stream",
     "text": [
      "The autoreload extension is already loaded. To reload it, use:\n",
      "  %reload_ext autoreload\n"
     ]
    }
   ],
   "source": [
    "# 17_search.ipynb\n",
    "\n",
    "%load_ext autoreload\n",
    "%autoreload 2\n",
    "\n",
    "import sys\n",
    "sys.path.append('/app')"
   ]
  },
  {
   "cell_type": "code",
   "execution_count": 218,
   "metadata": {},
   "outputs": [],
   "source": [
    "from psql_helpers import read_table_async\n",
    "from psql_helpers import get_session\n",
    "from psql_models import Transcript, TranscriptAccess\n",
    "from sqlalchemy import select, delete, func"
   ]
  },
  {
   "cell_type": "code",
   "execution_count": 219,
   "metadata": {},
   "outputs": [],
   "source": [
    "from psql_models import *"
   ]
  },
  {
   "cell_type": "code",
   "execution_count": 220,
   "metadata": {},
   "outputs": [],
   "source": [
    "from psql_access import get_meeting_token\n",
    "from datetime import datetime\n",
    "from indexing.redis_keys import RedisKeys\n",
    "from indexing.worker import IndexingWorker\n",
    "from redis import Redis\n"
   ]
  },
  {
   "cell_type": "code",
   "execution_count": 221,
   "metadata": {},
   "outputs": [],
   "source": [
    "from sqlalchemy import update\n",
    "from psql_helpers import get_session\n",
    "\n",
    "async def reset_content_indexing():\n",
    "    async with get_session() as session:\n",
    "        await session.execute(\n",
    "            update(Content).values(is_indexed=False)\n",
    "        )\n",
    "        await session.commit()\n",
    "\n",
    "# Execute\n",
    "#await reset_content_indexing()"
   ]
  },
  {
   "cell_type": "code",
   "execution_count": 222,
   "metadata": {},
   "outputs": [],
   "source": [
    "\n",
    "async def delete_all_transcripts(dry_run=True, session=None):\n",
    "    async with (session or get_session()) as session:\n",
    "        # Count records before deletion\n",
    "        transcript_count_query = select(func.count()).select_from(Transcript)\n",
    "        transcript_access_count_query = select(func.count()).select_from(TranscriptAccess)\n",
    "        \n",
    "        transcript_count = await session.execute(transcript_count_query)\n",
    "        transcript_access_count = await session.execute(transcript_access_count_query)\n",
    "        \n",
    "        total_transcripts = transcript_count.scalar()\n",
    "        total_transcript_access = transcript_access_count.scalar()\n",
    "        \n",
    "        # Prepare deletion statements\n",
    "        delete_transcript_access = delete(TranscriptAccess)\n",
    "        delete_transcripts = delete(Transcript)\n",
    "        \n",
    "        # Only execute if not dry run\n",
    "        if not dry_run:\n",
    "            # Delete transcript access records first (due to foreign key constraint)\n",
    "            if total_transcript_access > 0:\n",
    "                await session.execute(delete_transcript_access)\n",
    "            \n",
    "            # Then delete transcript records\n",
    "            if total_transcripts > 0:\n",
    "                await session.execute(delete_transcripts)\n",
    "                \n",
    "            # Commit changes\n",
    "            await session.commit()\n",
    "            status = \"DELETED\"\n",
    "        else:\n",
    "            status = \"DRY RUN - NO CHANGES MADE\"\n",
    "        \n",
    "        # Return summary\n",
    "        return {\n",
    "            \"status\": status,\n",
    "            \"total_transcripts\": total_transcripts,\n",
    "            \"total_transcript_access\": total_transcript_access,\n",
    "            \"action\": \"would delete\" if dry_run else \"deleted\"\n",
    "        }"
   ]
  },
  {
   "cell_type": "code",
   "execution_count": 229,
   "metadata": {},
   "outputs": [
    {
     "data": {
      "text/plain": [
       "{'status': 'DELETED',\n",
       " 'total_transcripts': 174,\n",
       " 'total_transcript_access': 174,\n",
       " 'action': 'deleted'}"
      ]
     },
     "execution_count": 229,
     "metadata": {},
     "output_type": "execute_result"
    }
   ],
   "source": [
    "await delete_all_transcripts(dry_run=False)"
   ]
  },
  {
   "cell_type": "code",
   "execution_count": 230,
   "metadata": {},
   "outputs": [],
   "source": [
    "df = await read_table_async(User)"
   ]
  },
  {
   "cell_type": "code",
   "execution_count": 231,
   "metadata": {},
   "outputs": [
    {
     "data": {
      "text/html": [
       "<div>\n",
       "<style scoped>\n",
       "    .dataframe tbody tr th:only-of-type {\n",
       "        vertical-align: middle;\n",
       "    }\n",
       "\n",
       "    .dataframe tbody tr th {\n",
       "        vertical-align: top;\n",
       "    }\n",
       "\n",
       "    .dataframe thead th {\n",
       "        text-align: right;\n",
       "    }\n",
       "</style>\n",
       "<table border=\"1\" class=\"dataframe\">\n",
       "  <thead>\n",
       "    <tr style=\"text-align: right;\">\n",
       "      <th></th>\n",
       "      <th>id</th>\n",
       "      <th>email</th>\n",
       "      <th>username</th>\n",
       "      <th>first_name</th>\n",
       "      <th>last_name</th>\n",
       "      <th>image</th>\n",
       "      <th>created_timestamp</th>\n",
       "      <th>updated_timestamp</th>\n",
       "      <th>is_indexed</th>\n",
       "    </tr>\n",
       "  </thead>\n",
       "  <tbody>\n",
       "    <tr>\n",
       "      <th>0</th>\n",
       "      <td>48de1194-1a9b-4197-9deb-bc1b0cabb03d</td>\n",
       "      <td>test_808d0847aa@example.com</td>\n",
       "      <td>None</td>\n",
       "      <td>None</td>\n",
       "      <td>None</td>\n",
       "      <td>None</td>\n",
       "      <td>2025-03-03 16:29:44.011560+00:00</td>\n",
       "      <td>2025-03-03 16:29:44.011564+00:00</td>\n",
       "      <td>False</td>\n",
       "    </tr>\n",
       "  </tbody>\n",
       "</table>\n",
       "</div>"
      ],
      "text/plain": [
       "                                     id                        email username  \\\n",
       "0  48de1194-1a9b-4197-9deb-bc1b0cabb03d  test_808d0847aa@example.com     None   \n",
       "\n",
       "  first_name last_name image                created_timestamp  \\\n",
       "0       None      None  None 2025-03-03 16:29:44.011560+00:00   \n",
       "\n",
       "                 updated_timestamp  is_indexed  \n",
       "0 2025-03-03 16:29:44.011564+00:00       False  "
      ]
     },
     "execution_count": 231,
     "metadata": {},
     "output_type": "execute_result"
    }
   ],
   "source": [
    "df"
   ]
  },
  {
   "cell_type": "code",
   "execution_count": 232,
   "metadata": {},
   "outputs": [
    {
     "data": {
      "text/html": [
       "<div>\n",
       "<style scoped>\n",
       "    .dataframe tbody tr th:only-of-type {\n",
       "        vertical-align: middle;\n",
       "    }\n",
       "\n",
       "    .dataframe tbody tr th {\n",
       "        vertical-align: top;\n",
       "    }\n",
       "\n",
       "    .dataframe thead th {\n",
       "        text-align: right;\n",
       "    }\n",
       "</style>\n",
       "<table border=\"1\" class=\"dataframe\">\n",
       "  <thead>\n",
       "    <tr style=\"text-align: right;\">\n",
       "      <th></th>\n",
       "    </tr>\n",
       "  </thead>\n",
       "  <tbody>\n",
       "  </tbody>\n",
       "</table>\n",
       "</div>"
      ],
      "text/plain": [
       "Empty DataFrame\n",
       "Columns: []\n",
       "Index: []"
      ]
     },
     "execution_count": 232,
     "metadata": {},
     "output_type": "execute_result"
    }
   ],
   "source": [
    "await read_table_async(TranscriptAccess)"
   ]
  },
  {
   "cell_type": "code",
   "execution_count": 233,
   "metadata": {},
   "outputs": [],
   "source": [
    "import pandas as pd\n",
    "pd.options.display.max_colwidth = 1000"
   ]
  },
  {
   "cell_type": "code",
   "execution_count": 255,
   "metadata": {},
   "outputs": [
    {
     "data": {
      "text/html": [
       "<div>\n",
       "<style scoped>\n",
       "    .dataframe tbody tr th:only-of-type {\n",
       "        vertical-align: middle;\n",
       "    }\n",
       "\n",
       "    .dataframe tbody tr th {\n",
       "        vertical-align: top;\n",
       "    }\n",
       "\n",
       "    .dataframe thead th {\n",
       "        text-align: right;\n",
       "    }\n",
       "</style>\n",
       "<table border=\"1\" class=\"dataframe\">\n",
       "  <thead>\n",
       "    <tr style=\"text-align: right;\">\n",
       "      <th></th>\n",
       "      <th>id</th>\n",
       "      <th>content_id</th>\n",
       "      <th>text_content</th>\n",
       "      <th>speaker</th>\n",
       "      <th>start_timestamp</th>\n",
       "      <th>end_timestamp</th>\n",
       "      <th>confidence</th>\n",
       "      <th>word_timing_data</th>\n",
       "      <th>segment_metadata</th>\n",
       "    </tr>\n",
       "  </thead>\n",
       "  <tbody>\n",
       "    <tr>\n",
       "      <th>0</th>\n",
       "      <td>39d484b9-8c5e-46b3-b56f-afda94dc679a</td>\n",
       "      <td>4cc8ca66-6df8-5d79-b158-22552547e62c</td>\n",
       "      <td>он значит не только первая да значит в очереди</td>\n",
       "      <td>Dmitriy Grankin</td>\n",
       "      <td>2025-02-13 15:38:25.984000+00:00</td>\n",
       "      <td>2025-02-13 15:38:32.064000+00:00</td>\n",
       "      <td>0.825000</td>\n",
       "      <td>{'words': [{'word': 'он', 'start': 0.0, 'end': 0.2, 'confidence': 0.1343994140625}, {'word': 'значит', 'start': 0.2, 'end': 1.38, 'confidence': 0.81201171875}, {'word': 'не', 'start': 1.38, 'end': 3.42, 'confidence': 0.374755859375}, {'word': 'только', 'start': 3.42, 'end': 3.74, 'confidence': 0.346435546875}, {'word': 'первая', 'start': 3.74, 'end': 4.3, 'confidence': 0.673095703125}, {'word': 'да', 'start': 4.3, 'end': 4.92, 'confidence': 0.426025390625}, {'word': 'значит', 'start': 4.92, 'end': 5.46, 'confidence': 0.994140625}, {'word': 'в', 'start': 5.46, 'end': 5.66, 'confidence': 0.84912109375}, {'word': 'очереди', 'start': 5.66, 'end': 6.08, 'confidence': 0.969970703125}]}</td>\n",
       "      <td>{'speaker': 'Dmitriy Grankin', 'present_user_ids': ['48de1194-1a9b-4197-9deb-bc1b0cabb03d'], 'server_timestamp': '2025-02-13T15:32:16+00:00'}</td>\n",
       "    </tr>\n",
       "    <tr>\n",
       "      <th>1</th>\n",
       "      <td>7a1d180e-d03e-42d9-91e9-fff25942506a</td>\n",
       "      <td>4cc8ca66-6df8-5d79-b158-22552547e62c</td>\n",
       "      <td>И получается, что распознавалка возвращает...</td>\n",
       "      <td>Sergey Ryabenko</td>\n",
       "      <td>2025-02-13 15:38:32.104000+00:00</td>\n",
       "      <td>2025-02-13 15:38:38.064000+00:00</td>\n",
       "      <td>0.346309</td>\n",
       "      <td>{'words': [{'word': 'И', 'start': 0.0, 'end': 2.5, 'confidence': 0.11871337890625}, {'word': 'получается,', 'start': 2.5, 'end': 3.14, 'confidence': 0.923828125}, {'word': 'что', 'start': 3.52, 'end': 3.96, 'confidence': 0.9970703125}, {'word': 'распознавалка', 'start': 3.96, 'end': 5.22, 'confidence': 0.9971516927083334}, {'word': 'возвращает...', 'start': 5.22, 'end': 5.96, 'confidence': 0.8556315104166666}]}</td>\n",
       "      <td>{'speaker': 'Sergey Ryabenko', 'present_user_ids': ['48de1194-1a9b-4197-9deb-bc1b0cabb03d'], 'server_timestamp': '2025-02-13T15:32:16+00:00'}</td>\n",
       "    </tr>\n",
       "  </tbody>\n",
       "</table>\n",
       "</div>"
      ],
      "text/plain": [
       "                                     id                            content_id  \\\n",
       "0  39d484b9-8c5e-46b3-b56f-afda94dc679a  4cc8ca66-6df8-5d79-b158-22552547e62c   \n",
       "1  7a1d180e-d03e-42d9-91e9-fff25942506a  4cc8ca66-6df8-5d79-b158-22552547e62c   \n",
       "\n",
       "                                     text_content          speaker  \\\n",
       "0  он значит не только первая да значит в очереди  Dmitriy Grankin   \n",
       "1   И получается, что распознавалка возвращает...  Sergey Ryabenko   \n",
       "\n",
       "                   start_timestamp                    end_timestamp  \\\n",
       "0 2025-02-13 15:38:25.984000+00:00 2025-02-13 15:38:32.064000+00:00   \n",
       "1 2025-02-13 15:38:32.104000+00:00 2025-02-13 15:38:38.064000+00:00   \n",
       "\n",
       "   confidence  \\\n",
       "0    0.825000   \n",
       "1    0.346309   \n",
       "\n",
       "                                                                                                                                                                                                                                                                                                                                                                                                                                                                                                                                                                                                                                                                                                   word_timing_data  \\\n",
       "0  {'words': [{'word': 'он', 'start': 0.0, 'end': 0.2, 'confidence': 0.1343994140625}, {'word': 'значит', 'start': 0.2, 'end': 1.38, 'confidence': 0.81201171875}, {'word': 'не', 'start': 1.38, 'end': 3.42, 'confidence': 0.374755859375}, {'word': 'только', 'start': 3.42, 'end': 3.74, 'confidence': 0.346435546875}, {'word': 'первая', 'start': 3.74, 'end': 4.3, 'confidence': 0.673095703125}, {'word': 'да', 'start': 4.3, 'end': 4.92, 'confidence': 0.426025390625}, {'word': 'значит', 'start': 4.92, 'end': 5.46, 'confidence': 0.994140625}, {'word': 'в', 'start': 5.46, 'end': 5.66, 'confidence': 0.84912109375}, {'word': 'очереди', 'start': 5.66, 'end': 6.08, 'confidence': 0.969970703125}]}   \n",
       "1                                                                                                                                                                                                                                                                                    {'words': [{'word': 'И', 'start': 0.0, 'end': 2.5, 'confidence': 0.11871337890625}, {'word': 'получается,', 'start': 2.5, 'end': 3.14, 'confidence': 0.923828125}, {'word': 'что', 'start': 3.52, 'end': 3.96, 'confidence': 0.9970703125}, {'word': 'распознавалка', 'start': 3.96, 'end': 5.22, 'confidence': 0.9971516927083334}, {'word': 'возвращает...', 'start': 5.22, 'end': 5.96, 'confidence': 0.8556315104166666}]}   \n",
       "\n",
       "                                                                                                                                segment_metadata  \n",
       "0  {'speaker': 'Dmitriy Grankin', 'present_user_ids': ['48de1194-1a9b-4197-9deb-bc1b0cabb03d'], 'server_timestamp': '2025-02-13T15:32:16+00:00'}  \n",
       "1  {'speaker': 'Sergey Ryabenko', 'present_user_ids': ['48de1194-1a9b-4197-9deb-bc1b0cabb03d'], 'server_timestamp': '2025-02-13T15:32:16+00:00'}  "
      ]
     },
     "execution_count": 255,
     "metadata": {},
     "output_type": "execute_result"
    }
   ],
   "source": [
    "df = await read_table_async(Transcript)\n",
    "df.sort_values(by='start_timestamp').tail(10)"
   ]
  },
  {
   "cell_type": "code",
   "execution_count": 44,
   "metadata": {},
   "outputs": [],
   "source": [
    "df = await read_table_async(Content)"
   ]
  },
  {
   "cell_type": "code",
   "execution_count": 45,
   "metadata": {},
   "outputs": [
    {
     "data": {
      "text/html": [
       "<div>\n",
       "<style scoped>\n",
       "    .dataframe tbody tr th:only-of-type {\n",
       "        vertical-align: middle;\n",
       "    }\n",
       "\n",
       "    .dataframe tbody tr th {\n",
       "        vertical-align: top;\n",
       "    }\n",
       "\n",
       "    .dataframe thead th {\n",
       "        text-align: right;\n",
       "    }\n",
       "</style>\n",
       "<table border=\"1\" class=\"dataframe\">\n",
       "  <thead>\n",
       "    <tr style=\"text-align: right;\">\n",
       "      <th></th>\n",
       "      <th>id</th>\n",
       "      <th>type</th>\n",
       "      <th>text</th>\n",
       "      <th>timestamp</th>\n",
       "      <th>external_id</th>\n",
       "      <th>external_id_type</th>\n",
       "      <th>last_update</th>\n",
       "      <th>parent_id</th>\n",
       "      <th>is_indexed</th>\n",
       "      <th>content_metadata</th>\n",
       "    </tr>\n",
       "  </thead>\n",
       "  <tbody>\n",
       "    <tr>\n",
       "      <th>0</th>\n",
       "      <td>4cc8ca66-6df8-5d79-b158-22552547e62c</td>\n",
       "      <td>meeting</td>\n",
       "      <td></td>\n",
       "      <td>2025-03-03 16:55:14.986422+00:00</td>\n",
       "      <td>the-zdjv-byg</td>\n",
       "      <td>google_meet</td>\n",
       "      <td>2025-03-03 16:55:14.986426+00:00</td>\n",
       "      <td>None</td>\n",
       "      <td>False</td>\n",
       "      <td>None</td>\n",
       "    </tr>\n",
       "  </tbody>\n",
       "</table>\n",
       "</div>"
      ],
      "text/plain": [
       "                                     id     type text  \\\n",
       "0  4cc8ca66-6df8-5d79-b158-22552547e62c  meeting        \n",
       "\n",
       "                         timestamp   external_id external_id_type  \\\n",
       "0 2025-03-03 16:55:14.986422+00:00  the-zdjv-byg      google_meet   \n",
       "\n",
       "                       last_update parent_id  is_indexed content_metadata  \n",
       "0 2025-03-03 16:55:14.986426+00:00      None       False             None  "
      ]
     },
     "execution_count": 45,
     "metadata": {},
     "output_type": "execute_result"
    }
   ],
   "source": [
    "df"
   ]
  },
  {
   "cell_type": "code",
   "execution_count": 13,
   "metadata": {},
   "outputs": [
    {
     "data": {
      "text/html": [
       "<div>\n",
       "<style scoped>\n",
       "    .dataframe tbody tr th:only-of-type {\n",
       "        vertical-align: middle;\n",
       "    }\n",
       "\n",
       "    .dataframe tbody tr th {\n",
       "        vertical-align: top;\n",
       "    }\n",
       "\n",
       "    .dataframe thead th {\n",
       "        text-align: right;\n",
       "    }\n",
       "</style>\n",
       "<table border=\"1\" class=\"dataframe\">\n",
       "  <thead>\n",
       "    <tr style=\"text-align: right;\">\n",
       "      <th></th>\n",
       "      <th>id</th>\n",
       "      <th>type</th>\n",
       "      <th>text</th>\n",
       "      <th>timestamp</th>\n",
       "      <th>external_id</th>\n",
       "      <th>external_id_type</th>\n",
       "      <th>last_update</th>\n",
       "      <th>parent_id</th>\n",
       "      <th>is_indexed</th>\n",
       "      <th>content_metadata</th>\n",
       "    </tr>\n",
       "  </thead>\n",
       "  <tbody>\n",
       "  </tbody>\n",
       "</table>\n",
       "</div>"
      ],
      "text/plain": [
       "Empty DataFrame\n",
       "Columns: [id, type, text, timestamp, external_id, external_id_type, last_update, parent_id, is_indexed, content_metadata]\n",
       "Index: []"
      ]
     },
     "execution_count": 13,
     "metadata": {},
     "output_type": "execute_result"
    }
   ],
   "source": [
    "df[df['is_indexed']]"
   ]
  },
  {
   "cell_type": "code",
   "execution_count": 14,
   "metadata": {},
   "outputs": [],
   "source": [
    "df = await read_table_async(Content)"
   ]
  },
  {
   "cell_type": "code",
   "execution_count": 15,
   "metadata": {},
   "outputs": [
    {
     "data": {
      "text/html": [
       "<div>\n",
       "<style scoped>\n",
       "    .dataframe tbody tr th:only-of-type {\n",
       "        vertical-align: middle;\n",
       "    }\n",
       "\n",
       "    .dataframe tbody tr th {\n",
       "        vertical-align: top;\n",
       "    }\n",
       "\n",
       "    .dataframe thead th {\n",
       "        text-align: right;\n",
       "    }\n",
       "</style>\n",
       "<table border=\"1\" class=\"dataframe\">\n",
       "  <thead>\n",
       "    <tr style=\"text-align: right;\">\n",
       "      <th></th>\n",
       "      <th>id</th>\n",
       "      <th>type</th>\n",
       "      <th>text</th>\n",
       "      <th>timestamp</th>\n",
       "      <th>external_id</th>\n",
       "      <th>external_id_type</th>\n",
       "      <th>last_update</th>\n",
       "      <th>parent_id</th>\n",
       "      <th>is_indexed</th>\n",
       "      <th>content_metadata</th>\n",
       "    </tr>\n",
       "  </thead>\n",
       "  <tbody>\n",
       "    <tr>\n",
       "      <th>0</th>\n",
       "      <td>4cc8ca66-6df8-5d79-b158-22552547e62c</td>\n",
       "      <td>meeting</td>\n",
       "      <td></td>\n",
       "      <td>2025-02-28 13:38:25.722251+00:00</td>\n",
       "      <td>the-zdjv-byg</td>\n",
       "      <td>google_meet</td>\n",
       "      <td>2025-02-28 13:38:25.722259+00:00</td>\n",
       "      <td>None</td>\n",
       "      <td>False</td>\n",
       "      <td>None</td>\n",
       "    </tr>\n",
       "  </tbody>\n",
       "</table>\n",
       "</div>"
      ],
      "text/plain": [
       "                                     id     type text  \\\n",
       "0  4cc8ca66-6df8-5d79-b158-22552547e62c  meeting        \n",
       "\n",
       "                         timestamp   external_id external_id_type  \\\n",
       "0 2025-02-28 13:38:25.722251+00:00  the-zdjv-byg      google_meet   \n",
       "\n",
       "                       last_update parent_id  is_indexed content_metadata  \n",
       "0 2025-02-28 13:38:25.722259+00:00      None       False             None  "
      ]
     },
     "execution_count": 15,
     "metadata": {},
     "output_type": "execute_result"
    }
   ],
   "source": [
    "df"
   ]
  },
  {
   "cell_type": "code",
   "execution_count": null,
   "metadata": {},
   "outputs": [],
   "source": []
  },
  {
   "cell_type": "code",
   "execution_count": null,
   "metadata": {},
   "outputs": [],
   "source": []
  },
  {
   "cell_type": "code",
   "execution_count": 16,
   "metadata": {},
   "outputs": [
    {
     "data": {
      "text/plain": [
       "is_indexed\n",
       "False    1\n",
       "Name: count, dtype: int64"
      ]
     },
     "execution_count": 16,
     "metadata": {},
     "output_type": "execute_result"
    }
   ],
   "source": [
    "df['is_indexed'].value_counts()\n"
   ]
  },
  {
   "cell_type": "code",
   "execution_count": 17,
   "metadata": {},
   "outputs": [
    {
     "data": {
      "text/plain": [
       "type\n",
       "meeting    1\n",
       "Name: count, dtype: int64"
      ]
     },
     "execution_count": 17,
     "metadata": {},
     "output_type": "execute_result"
    }
   ],
   "source": [
    "df['type'].value_counts()\n"
   ]
  },
  {
   "cell_type": "code",
   "execution_count": null,
   "metadata": {},
   "outputs": [],
   "source": []
  },
  {
   "cell_type": "code",
   "execution_count": 18,
   "metadata": {},
   "outputs": [
    {
     "ename": "NameError",
     "evalue": "name 'ContentProcessor' is not defined",
     "output_type": "error",
     "traceback": [
      "\u001b[0;31m---------------------------------------------------------------------------\u001b[0m",
      "\u001b[0;31mNameError\u001b[0m                                 Traceback (most recent call last)",
      "Cell \u001b[0;32mIn[18], line 1\u001b[0m\n\u001b[0;32m----> 1\u001b[0m processor \u001b[38;5;241m=\u001b[39m \u001b[43mContentProcessor\u001b[49m(\n\u001b[1;32m      2\u001b[0m             qdrant_engine\u001b[38;5;241m=\u001b[39m\u001b[38;5;28mself\u001b[39m\u001b[38;5;241m.\u001b[39mqdrant_engine,\n\u001b[1;32m      3\u001b[0m             es_engine\u001b[38;5;241m=\u001b[39m\u001b[38;5;28mself\u001b[39m\u001b[38;5;241m.\u001b[39mes_engine\n\u001b[1;32m      4\u001b[0m         )\n",
      "\u001b[0;31mNameError\u001b[0m: name 'ContentProcessor' is not defined"
     ]
    }
   ],
   "source": [
    "processor = ContentProcessor(\n",
    "            qdrant_engine=self.qdrant_engine,\n",
    "            es_engine=self.es_engine\n",
    "        )"
   ]
  },
  {
   "cell_type": "code",
   "execution_count": null,
   "metadata": {},
   "outputs": [],
   "source": []
  }
 ],
 "metadata": {
  "kernelspec": {
   "display_name": "Python 3",
   "language": "python",
   "name": "python3"
  },
  "language_info": {
   "codemirror_mode": {
    "name": "ipython",
    "version": 3
   },
   "file_extension": ".py",
   "mimetype": "text/x-python",
   "name": "python",
   "nbconvert_exporter": "python",
   "pygments_lexer": "ipython3",
   "version": "3.12.7"
  }
 },
 "nbformat": 4,
 "nbformat_minor": 2
}
