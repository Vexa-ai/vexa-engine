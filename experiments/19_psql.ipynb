{
 "cells": [
  {
   "cell_type": "code",
   "execution_count": 1,
   "metadata": {},
   "outputs": [],
   "source": [
    "# 17_search.ipynb\n",
    "\n",
    "%load_ext autoreload\n",
    "%autoreload 2\n",
    "\n",
    "import sys\n",
    "sys.path.append('/app')"
   ]
  },
  {
   "cell_type": "code",
   "execution_count": 2,
   "metadata": {},
   "outputs": [],
   "source": [
    "from psql_helpers import read_table_async"
   ]
  },
  {
   "cell_type": "code",
   "execution_count": 3,
   "metadata": {},
   "outputs": [],
   "source": [
    "from psql_models import *"
   ]
  },
  {
   "cell_type": "code",
   "execution_count": 4,
   "metadata": {},
   "outputs": [],
   "source": [
    "from psql_access import get_meeting_token\n",
    "from datetime import datetime\n",
    "from indexing.redis_keys import RedisKeys\n",
    "from indexing.worker import IndexingWorker\n",
    "from redis import Redis\n"
   ]
  },
  {
   "cell_type": "code",
   "execution_count": 5,
   "metadata": {},
   "outputs": [],
   "source": [
    "from sqlalchemy import update\n",
    "from psql_helpers import get_session\n",
    "\n",
    "async def reset_content_indexing():\n",
    "    async with get_session() as session:\n",
    "        await session.execute(\n",
    "            update(Content).values(is_indexed=False)\n",
    "        )\n",
    "        await session.commit()\n",
    "\n",
    "# Execute\n",
    "#await reset_content_indexing()"
   ]
  },
  {
   "cell_type": "code",
   "execution_count": 8,
   "metadata": {},
   "outputs": [],
   "source": [
    "df = await read_table_async(Entity)"
   ]
  },
  {
   "cell_type": "code",
   "execution_count": 14,
   "metadata": {},
   "outputs": [
    {
     "data": {
      "text/html": [
       "<div>\n",
       "<style scoped>\n",
       "    .dataframe tbody tr th:only-of-type {\n",
       "        vertical-align: middle;\n",
       "    }\n",
       "\n",
       "    .dataframe tbody tr th {\n",
       "        vertical-align: top;\n",
       "    }\n",
       "\n",
       "    .dataframe thead th {\n",
       "        text-align: right;\n",
       "    }\n",
       "</style>\n",
       "<table border=\"1\" class=\"dataframe\">\n",
       "  <thead>\n",
       "    <tr style=\"text-align: right;\">\n",
       "      <th></th>\n",
       "      <th>id</th>\n",
       "      <th>name</th>\n",
       "      <th>type</th>\n",
       "    </tr>\n",
       "  </thead>\n",
       "  <tbody>\n",
       "    <tr>\n",
       "      <th>5431</th>\n",
       "      <td>5432</td>\n",
       "      <td>Mariana Montenegro</td>\n",
       "      <td>speaker</td>\n",
       "    </tr>\n",
       "  </tbody>\n",
       "</table>\n",
       "</div>"
      ],
      "text/plain": [
       "        id                name     type\n",
       "5431  5432  Mariana Montenegro  speaker"
      ]
     },
     "execution_count": 14,
     "metadata": {},
     "output_type": "execute_result"
    }
   ],
   "source": [
    "df[df['name'].str.contains('Montenegro')]"
   ]
  },
  {
   "cell_type": "code",
   "execution_count": 16,
   "metadata": {},
   "outputs": [
    {
     "data": {
      "text/html": [
       "<div>\n",
       "<style scoped>\n",
       "    .dataframe tbody tr th:only-of-type {\n",
       "        vertical-align: middle;\n",
       "    }\n",
       "\n",
       "    .dataframe tbody tr th {\n",
       "        vertical-align: top;\n",
       "    }\n",
       "\n",
       "    .dataframe thead th {\n",
       "        text-align: right;\n",
       "    }\n",
       "</style>\n",
       "<table border=\"1\" class=\"dataframe\">\n",
       "  <thead>\n",
       "    <tr style=\"text-align: right;\">\n",
       "      <th></th>\n",
       "      <th>id</th>\n",
       "      <th>type</th>\n",
       "      <th>text</th>\n",
       "      <th>timestamp</th>\n",
       "      <th>parent_id</th>\n",
       "      <th>is_indexed</th>\n",
       "      <th>last_update</th>\n",
       "    </tr>\n",
       "  </thead>\n",
       "  <tbody>\n",
       "  </tbody>\n",
       "</table>\n",
       "</div>"
      ],
      "text/plain": [
       "Empty DataFrame\n",
       "Columns: [id, type, text, timestamp, parent_id, is_indexed, last_update]\n",
       "Index: []"
      ]
     },
     "execution_count": 16,
     "metadata": {},
     "output_type": "execute_result"
    }
   ],
   "source": [
    "df[df['is_indexed']]"
   ]
  },
  {
   "cell_type": "code",
   "execution_count": 15,
   "metadata": {},
   "outputs": [],
   "source": [
    "df = await read_table_async(Thread)"
   ]
  },
  {
   "cell_type": "code",
   "execution_count": null,
   "metadata": {},
   "outputs": [
    {
     "data": {
      "text/html": [
       "<div>\n",
       "<style scoped>\n",
       "    .dataframe tbody tr th:only-of-type {\n",
       "        vertical-align: middle;\n",
       "    }\n",
       "\n",
       "    .dataframe tbody tr th {\n",
       "        vertical-align: top;\n",
       "    }\n",
       "\n",
       "    .dataframe thead th {\n",
       "        text-align: right;\n",
       "    }\n",
       "</style>\n",
       "<table border=\"1\" class=\"dataframe\">\n",
       "  <thead>\n",
       "    <tr style=\"text-align: right;\">\n",
       "      <th></th>\n",
       "      <th>thread_id</th>\n",
       "      <th>user_id</th>\n",
       "      <th>content_id</th>\n",
       "      <th>entity_id</th>\n",
       "      <th>prompt_id</th>\n",
       "      <th>thread_name</th>\n",
       "      <th>messages</th>\n",
       "      <th>timestamp</th>\n",
       "      <th>meta</th>\n",
       "    </tr>\n",
       "  </thead>\n",
       "  <tbody>\n",
       "    <tr>\n",
       "      <th>0</th>\n",
       "      <td>b585c8c1-a0e1-41b5-a055-446871d343b2</td>\n",
       "      <td>ef7c085b-fdb5-4c94-b7b6-a61a3d04c210</td>\n",
       "      <td>None</td>\n",
       "      <td>NaN</td>\n",
       "      <td>None</td>\n",
       "      <td>what is vexa?</td>\n",
       "      <td>[{\"role\": \"user\", \"content\": \"what is vexa?\", ...</td>\n",
       "      <td>2025-01-27 17:29:22.620176+00:00</td>\n",
       "      <td>None</td>\n",
       "    </tr>\n",
       "    <tr>\n",
       "      <th>1</th>\n",
       "      <td>e9ff173a-7bb3-450e-9f7b-9b68e2bd6052</td>\n",
       "      <td>ef7c085b-fdb5-4c94-b7b6-a61a3d04c210</td>\n",
       "      <td>None</td>\n",
       "      <td>NaN</td>\n",
       "      <td>None</td>\n",
       "      <td>what did we say about software??</td>\n",
       "      <td>[{\"role\": \"user\", \"content\": \"what did we say ...</td>\n",
       "      <td>2025-01-27 17:31:05.647719+00:00</td>\n",
       "      <td>None</td>\n",
       "    </tr>\n",
       "    <tr>\n",
       "      <th>2</th>\n",
       "      <td>3b93779b-78a3-4a2f-b0c3-01886cf2fda9</td>\n",
       "      <td>ef7c085b-fdb5-4c94-b7b6-a61a3d04c210</td>\n",
       "      <td>None</td>\n",
       "      <td>NaN</td>\n",
       "      <td>None</td>\n",
       "      <td>what did we say about software??</td>\n",
       "      <td>[{\"role\": \"user\", \"content\": \"what did we say ...</td>\n",
       "      <td>2025-01-28 10:26:34.287865+00:00</td>\n",
       "      <td>None</td>\n",
       "    </tr>\n",
       "    <tr>\n",
       "      <th>3</th>\n",
       "      <td>379c5f00-a4cd-417d-a627-dceabb76c262</td>\n",
       "      <td>ef7c085b-fdb5-4c94-b7b6-a61a3d04c210</td>\n",
       "      <td>None</td>\n",
       "      <td>NaN</td>\n",
       "      <td>None</td>\n",
       "      <td>what did we say about software??</td>\n",
       "      <td>[{\"role\": \"user\", \"content\": \"what did we say ...</td>\n",
       "      <td>2025-01-28 10:31:02.214519+00:00</td>\n",
       "      <td>{'content_ids': ['580bb613-00de-4c4a-b048-2c25...</td>\n",
       "    </tr>\n",
       "    <tr>\n",
       "      <th>4</th>\n",
       "      <td>dd9af680-2577-4a58-a2bb-7520c10cd34e</td>\n",
       "      <td>ef7c085b-fdb5-4c94-b7b6-a61a3d04c210</td>\n",
       "      <td>None</td>\n",
       "      <td>NaN</td>\n",
       "      <td>None</td>\n",
       "      <td>what did we say about software??</td>\n",
       "      <td>[{\"role\": \"user\", \"content\": \"what did we say ...</td>\n",
       "      <td>2025-01-28 10:31:51.345178+00:00</td>\n",
       "      <td>{'content_ids': ['580bb613-00de-4c4a-b048-2c25...</td>\n",
       "    </tr>\n",
       "    <tr>\n",
       "      <th>5</th>\n",
       "      <td>a3967c6d-9392-4c1f-bebb-ff8ddae17b10</td>\n",
       "      <td>ef7c085b-fdb5-4c94-b7b6-a61a3d04c210</td>\n",
       "      <td>None</td>\n",
       "      <td>NaN</td>\n",
       "      <td>None</td>\n",
       "      <td>what did we say about software??</td>\n",
       "      <td>[{\"role\": \"user\", \"content\": \"what did we say ...</td>\n",
       "      <td>2025-01-28 10:32:17.838608+00:00</td>\n",
       "      <td>{'content_ids': ['a0c3f703-2a5e-4ed0-9561-8071...</td>\n",
       "    </tr>\n",
       "    <tr>\n",
       "      <th>6</th>\n",
       "      <td>157fd9da-42dc-43c1-9900-81dcb33039d6</td>\n",
       "      <td>ef7c085b-fdb5-4c94-b7b6-a61a3d04c210</td>\n",
       "      <td>None</td>\n",
       "      <td>NaN</td>\n",
       "      <td>None</td>\n",
       "      <td>how many meetings did we have?</td>\n",
       "      <td>[{\"role\": \"user\", \"content\": \"how many meeting...</td>\n",
       "      <td>2025-01-28 10:32:42.835127+00:00</td>\n",
       "      <td>{'content_ids': ['a0c3f703-2a5e-4ed0-9561-8071...</td>\n",
       "    </tr>\n",
       "    <tr>\n",
       "      <th>7</th>\n",
       "      <td>ded29b6d-c31f-4798-a804-13971d375644</td>\n",
       "      <td>ef7c085b-fdb5-4c94-b7b6-a61a3d04c210</td>\n",
       "      <td>None</td>\n",
       "      <td>NaN</td>\n",
       "      <td>None</td>\n",
       "      <td>how many meetings did we have?</td>\n",
       "      <td>[{\"role\": \"user\", \"content\": \"how many meeting...</td>\n",
       "      <td>2025-01-28 10:33:27.276101+00:00</td>\n",
       "      <td>{'content_ids': ['a0c3f703-2a5e-4ed0-9561-8071...</td>\n",
       "    </tr>\n",
       "    <tr>\n",
       "      <th>8</th>\n",
       "      <td>475e6948-a903-4f63-b067-3084bef1c5fb</td>\n",
       "      <td>ef7c085b-fdb5-4c94-b7b6-a61a3d04c210</td>\n",
       "      <td>None</td>\n",
       "      <td>NaN</td>\n",
       "      <td>None</td>\n",
       "      <td>how many meetings did we have?</td>\n",
       "      <td>[{\"role\": \"user\", \"content\": \"how many meeting...</td>\n",
       "      <td>2025-01-28 10:33:53.483767+00:00</td>\n",
       "      <td>{'content_ids': ['a0c3f703-2a5e-4ed0-9561-8071...</td>\n",
       "    </tr>\n",
       "    <tr>\n",
       "      <th>9</th>\n",
       "      <td>9d977ba9-4c7c-4e01-ab5c-d08215a96b4c</td>\n",
       "      <td>ef7c085b-fdb5-4c94-b7b6-a61a3d04c210</td>\n",
       "      <td>None</td>\n",
       "      <td>3484.0</td>\n",
       "      <td>None</td>\n",
       "      <td>who is this guy?</td>\n",
       "      <td>[{\"role\": \"user\", \"content\": \"who is this guy?...</td>\n",
       "      <td>2025-01-28 10:37:52.402732+00:00</td>\n",
       "      <td>None</td>\n",
       "    </tr>\n",
       "    <tr>\n",
       "      <th>10</th>\n",
       "      <td>6186c279-03e9-4fa0-8629-2ac2457e46c8</td>\n",
       "      <td>ef7c085b-fdb5-4c94-b7b6-a61a3d04c210</td>\n",
       "      <td>None</td>\n",
       "      <td>3441.0</td>\n",
       "      <td>None</td>\n",
       "      <td>who is this guy?</td>\n",
       "      <td>[{\"role\": \"user\", \"content\": \"who is this guy?...</td>\n",
       "      <td>2025-01-28 10:38:15.070597+00:00</td>\n",
       "      <td>None</td>\n",
       "    </tr>\n",
       "    <tr>\n",
       "      <th>11</th>\n",
       "      <td>01403086-bbb3-4b99-93d4-44e16866c8eb</td>\n",
       "      <td>ef7c085b-fdb5-4c94-b7b6-a61a3d04c210</td>\n",
       "      <td>None</td>\n",
       "      <td>3684.0</td>\n",
       "      <td>None</td>\n",
       "      <td>who is this guy?</td>\n",
       "      <td>[{\"role\": \"user\", \"content\": \"who is this guy?...</td>\n",
       "      <td>2025-01-28 10:38:31.978274+00:00</td>\n",
       "      <td>None</td>\n",
       "    </tr>\n",
       "    <tr>\n",
       "      <th>12</th>\n",
       "      <td>0561cd26-04be-4c56-96ac-86e1dfa8d9a7</td>\n",
       "      <td>ef7c085b-fdb5-4c94-b7b6-a61a3d04c210</td>\n",
       "      <td>None</td>\n",
       "      <td>5432.0</td>\n",
       "      <td>None</td>\n",
       "      <td>who is this guy?</td>\n",
       "      <td>[{\"role\": \"user\", \"content\": \"who is this guy?...</td>\n",
       "      <td>2025-01-28 10:39:35.436554+00:00</td>\n",
       "      <td>None</td>\n",
       "    </tr>\n",
       "    <tr>\n",
       "      <th>13</th>\n",
       "      <td>0396fa00-7514-4d3b-abf2-716fb2fed08c</td>\n",
       "      <td>ef7c085b-fdb5-4c94-b7b6-a61a3d04c210</td>\n",
       "      <td>None</td>\n",
       "      <td>5432.0</td>\n",
       "      <td>None</td>\n",
       "      <td>who is this guy?</td>\n",
       "      <td>[{\"role\": \"user\", \"content\": \"who is this guy?...</td>\n",
       "      <td>2025-01-28 10:41:42.181509+00:00</td>\n",
       "      <td>None</td>\n",
       "    </tr>\n",
       "  </tbody>\n",
       "</table>\n",
       "</div>"
      ],
      "text/plain": [
       "                               thread_id  \\\n",
       "0   b585c8c1-a0e1-41b5-a055-446871d343b2   \n",
       "1   e9ff173a-7bb3-450e-9f7b-9b68e2bd6052   \n",
       "2   3b93779b-78a3-4a2f-b0c3-01886cf2fda9   \n",
       "3   379c5f00-a4cd-417d-a627-dceabb76c262   \n",
       "4   dd9af680-2577-4a58-a2bb-7520c10cd34e   \n",
       "5   a3967c6d-9392-4c1f-bebb-ff8ddae17b10   \n",
       "6   157fd9da-42dc-43c1-9900-81dcb33039d6   \n",
       "7   ded29b6d-c31f-4798-a804-13971d375644   \n",
       "8   475e6948-a903-4f63-b067-3084bef1c5fb   \n",
       "9   9d977ba9-4c7c-4e01-ab5c-d08215a96b4c   \n",
       "10  6186c279-03e9-4fa0-8629-2ac2457e46c8   \n",
       "11  01403086-bbb3-4b99-93d4-44e16866c8eb   \n",
       "12  0561cd26-04be-4c56-96ac-86e1dfa8d9a7   \n",
       "13  0396fa00-7514-4d3b-abf2-716fb2fed08c   \n",
       "\n",
       "                                 user_id content_id  entity_id prompt_id  \\\n",
       "0   ef7c085b-fdb5-4c94-b7b6-a61a3d04c210       None        NaN      None   \n",
       "1   ef7c085b-fdb5-4c94-b7b6-a61a3d04c210       None        NaN      None   \n",
       "2   ef7c085b-fdb5-4c94-b7b6-a61a3d04c210       None        NaN      None   \n",
       "3   ef7c085b-fdb5-4c94-b7b6-a61a3d04c210       None        NaN      None   \n",
       "4   ef7c085b-fdb5-4c94-b7b6-a61a3d04c210       None        NaN      None   \n",
       "5   ef7c085b-fdb5-4c94-b7b6-a61a3d04c210       None        NaN      None   \n",
       "6   ef7c085b-fdb5-4c94-b7b6-a61a3d04c210       None        NaN      None   \n",
       "7   ef7c085b-fdb5-4c94-b7b6-a61a3d04c210       None        NaN      None   \n",
       "8   ef7c085b-fdb5-4c94-b7b6-a61a3d04c210       None        NaN      None   \n",
       "9   ef7c085b-fdb5-4c94-b7b6-a61a3d04c210       None     3484.0      None   \n",
       "10  ef7c085b-fdb5-4c94-b7b6-a61a3d04c210       None     3441.0      None   \n",
       "11  ef7c085b-fdb5-4c94-b7b6-a61a3d04c210       None     3684.0      None   \n",
       "12  ef7c085b-fdb5-4c94-b7b6-a61a3d04c210       None     5432.0      None   \n",
       "13  ef7c085b-fdb5-4c94-b7b6-a61a3d04c210       None     5432.0      None   \n",
       "\n",
       "                         thread_name  \\\n",
       "0                      what is vexa?   \n",
       "1   what did we say about software??   \n",
       "2   what did we say about software??   \n",
       "3   what did we say about software??   \n",
       "4   what did we say about software??   \n",
       "5   what did we say about software??   \n",
       "6     how many meetings did we have?   \n",
       "7     how many meetings did we have?   \n",
       "8     how many meetings did we have?   \n",
       "9                   who is this guy?   \n",
       "10                  who is this guy?   \n",
       "11                  who is this guy?   \n",
       "12                  who is this guy?   \n",
       "13                  who is this guy?   \n",
       "\n",
       "                                             messages  \\\n",
       "0   [{\"role\": \"user\", \"content\": \"what is vexa?\", ...   \n",
       "1   [{\"role\": \"user\", \"content\": \"what did we say ...   \n",
       "2   [{\"role\": \"user\", \"content\": \"what did we say ...   \n",
       "3   [{\"role\": \"user\", \"content\": \"what did we say ...   \n",
       "4   [{\"role\": \"user\", \"content\": \"what did we say ...   \n",
       "5   [{\"role\": \"user\", \"content\": \"what did we say ...   \n",
       "6   [{\"role\": \"user\", \"content\": \"how many meeting...   \n",
       "7   [{\"role\": \"user\", \"content\": \"how many meeting...   \n",
       "8   [{\"role\": \"user\", \"content\": \"how many meeting...   \n",
       "9   [{\"role\": \"user\", \"content\": \"who is this guy?...   \n",
       "10  [{\"role\": \"user\", \"content\": \"who is this guy?...   \n",
       "11  [{\"role\": \"user\", \"content\": \"who is this guy?...   \n",
       "12  [{\"role\": \"user\", \"content\": \"who is this guy?...   \n",
       "13  [{\"role\": \"user\", \"content\": \"who is this guy?...   \n",
       "\n",
       "                          timestamp  \\\n",
       "0  2025-01-27 17:29:22.620176+00:00   \n",
       "1  2025-01-27 17:31:05.647719+00:00   \n",
       "2  2025-01-28 10:26:34.287865+00:00   \n",
       "3  2025-01-28 10:31:02.214519+00:00   \n",
       "4  2025-01-28 10:31:51.345178+00:00   \n",
       "5  2025-01-28 10:32:17.838608+00:00   \n",
       "6  2025-01-28 10:32:42.835127+00:00   \n",
       "7  2025-01-28 10:33:27.276101+00:00   \n",
       "8  2025-01-28 10:33:53.483767+00:00   \n",
       "9  2025-01-28 10:37:52.402732+00:00   \n",
       "10 2025-01-28 10:38:15.070597+00:00   \n",
       "11 2025-01-28 10:38:31.978274+00:00   \n",
       "12 2025-01-28 10:39:35.436554+00:00   \n",
       "13 2025-01-28 10:41:42.181509+00:00   \n",
       "\n",
       "                                                 meta  \n",
       "0                                                None  \n",
       "1                                                None  \n",
       "2                                                None  \n",
       "3   {'content_ids': ['580bb613-00de-4c4a-b048-2c25...  \n",
       "4   {'content_ids': ['580bb613-00de-4c4a-b048-2c25...  \n",
       "5   {'content_ids': ['a0c3f703-2a5e-4ed0-9561-8071...  \n",
       "6   {'content_ids': ['a0c3f703-2a5e-4ed0-9561-8071...  \n",
       "7   {'content_ids': ['a0c3f703-2a5e-4ed0-9561-8071...  \n",
       "8   {'content_ids': ['a0c3f703-2a5e-4ed0-9561-8071...  \n",
       "9                                                None  \n",
       "10                                               None  \n",
       "11                                               None  \n",
       "12                                               None  \n",
       "13                                               None  "
      ]
     },
     "execution_count": 16,
     "metadata": {},
     "output_type": "execute_result"
    },
    {
     "ename": "",
     "evalue": "",
     "output_type": "error",
     "traceback": [
      "\u001b[1;31mThe Kernel crashed while executing code in the current cell or a previous cell. \n",
      "\u001b[1;31mPlease review the code in the cell(s) to identify a possible cause of the failure. \n",
      "\u001b[1;31mClick <a href='https://aka.ms/vscodeJupyterKernelCrash'>here</a> for more info. \n",
      "\u001b[1;31mView Jupyter <a href='command:jupyter.viewOutput'>log</a> for further details."
     ]
    }
   ],
   "source": [
    "df"
   ]
  },
  {
   "cell_type": "code",
   "execution_count": null,
   "metadata": {},
   "outputs": [],
   "source": []
  },
  {
   "cell_type": "code",
   "execution_count": null,
   "metadata": {},
   "outputs": [],
   "source": []
  },
  {
   "cell_type": "code",
   "execution_count": 8,
   "metadata": {},
   "outputs": [
    {
     "data": {
      "text/plain": [
       "is_indexed\n",
       "False    3683\n",
       "Name: count, dtype: int64"
      ]
     },
     "execution_count": 8,
     "metadata": {},
     "output_type": "execute_result"
    }
   ],
   "source": [
    "df['is_indexed'].value_counts()\n"
   ]
  },
  {
   "cell_type": "code",
   "execution_count": 9,
   "metadata": {},
   "outputs": [
    {
     "data": {
      "text/plain": [
       "type\n",
       "meeting    3683\n",
       "Name: count, dtype: int64"
      ]
     },
     "execution_count": 9,
     "metadata": {},
     "output_type": "execute_result"
    }
   ],
   "source": [
    "df['type'].value_counts()\n"
   ]
  },
  {
   "cell_type": "code",
   "execution_count": null,
   "metadata": {},
   "outputs": [],
   "source": []
  },
  {
   "cell_type": "code",
   "execution_count": 30,
   "metadata": {},
   "outputs": [
    {
     "ename": "NameError",
     "evalue": "name 'self' is not defined",
     "output_type": "error",
     "traceback": [
      "\u001b[0;31m---------------------------------------------------------------------------\u001b[0m",
      "\u001b[0;31mNameError\u001b[0m                                 Traceback (most recent call last)",
      "Cell \u001b[0;32mIn[30], line 2\u001b[0m\n\u001b[1;32m      1\u001b[0m processor \u001b[38;5;241m=\u001b[39m ContentProcessor(\n\u001b[0;32m----> 2\u001b[0m             qdrant_engine\u001b[38;5;241m=\u001b[39m\u001b[38;5;28;43mself\u001b[39;49m\u001b[38;5;241m.\u001b[39mqdrant_engine,\n\u001b[1;32m      3\u001b[0m             es_engine\u001b[38;5;241m=\u001b[39m\u001b[38;5;28mself\u001b[39m\u001b[38;5;241m.\u001b[39mes_engine\n\u001b[1;32m      4\u001b[0m         )\n",
      "\u001b[0;31mNameError\u001b[0m: name 'self' is not defined"
     ]
    }
   ],
   "source": [
    "processor = ContentProcessor(\n",
    "            qdrant_engine=self.qdrant_engine,\n",
    "            es_engine=self.es_engine\n",
    "        )"
   ]
  },
  {
   "cell_type": "code",
   "execution_count": null,
   "metadata": {},
   "outputs": [],
   "source": []
  }
 ],
 "metadata": {
  "kernelspec": {
   "display_name": "Python 3",
   "language": "python",
   "name": "python3"
  },
  "language_info": {
   "codemirror_mode": {
    "name": "ipython",
    "version": 3
   },
   "file_extension": ".py",
   "mimetype": "text/x-python",
   "name": "python",
   "nbconvert_exporter": "python",
   "pygments_lexer": "ipython3",
   "version": "3.11.11"
  }
 },
 "nbformat": 4,
 "nbformat_minor": 2
}
