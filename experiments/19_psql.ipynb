{
 "cells": [
  {
   "cell_type": "code",
   "execution_count": null,
   "metadata": {},
   "outputs": [],
   "source": []
  },
  {
   "cell_type": "code",
   "execution_count": 1,
   "metadata": {},
   "outputs": [],
   "source": [
    "# 17_search.ipynb\n",
    "\n",
    "%load_ext autoreload\n",
    "%autoreload 2\n",
    "\n",
    "import sys\n",
    "sys.path.append('/app')"
   ]
  },
  {
   "cell_type": "code",
   "execution_count": 2,
   "metadata": {},
   "outputs": [],
   "source": [
    "from psql_helpers import read_table_async"
   ]
  },
  {
   "cell_type": "code",
   "execution_count": 3,
   "metadata": {},
   "outputs": [],
   "source": [
    "from psql_models import *"
   ]
  },
  {
   "cell_type": "code",
   "execution_count": 4,
   "metadata": {},
   "outputs": [],
   "source": [
    "from psql_access import get_meeting_token\n",
    "from datetime import datetime\n",
    "from indexing.redis_keys import RedisKeys\n",
    "from indexing.worker import IndexingWorker\n",
    "from redis import Redis\n"
   ]
  },
  {
   "cell_type": "code",
   "execution_count": 5,
   "metadata": {},
   "outputs": [],
   "source": [
    "from sqlalchemy import update\n",
    "from psql_helpers import get_session\n",
    "\n",
    "async def reset_content_indexing():\n",
    "    async with get_session() as session:\n",
    "        await session.execute(\n",
    "            update(Content).values(is_indexed=False)\n",
    "        )\n",
    "        await session.commit()\n",
    "\n",
    "# Execute\n",
    "#await reset_content_indexing()"
   ]
  },
  {
   "cell_type": "code",
   "execution_count": 8,
   "metadata": {},
   "outputs": [],
   "source": [
    "df = await read_table_async(UserToken)"
   ]
  },
  {
   "cell_type": "code",
   "execution_count": 9,
   "metadata": {},
   "outputs": [
    {
     "data": {
      "text/html": [
       "<div>\n",
       "<style scoped>\n",
       "    .dataframe tbody tr th:only-of-type {\n",
       "        vertical-align: middle;\n",
       "    }\n",
       "\n",
       "    .dataframe tbody tr th {\n",
       "        vertical-align: top;\n",
       "    }\n",
       "\n",
       "    .dataframe thead th {\n",
       "        text-align: right;\n",
       "    }\n",
       "</style>\n",
       "<table border=\"1\" class=\"dataframe\">\n",
       "  <thead>\n",
       "    <tr style=\"text-align: right;\">\n",
       "      <th></th>\n",
       "      <th>token</th>\n",
       "      <th>user_id</th>\n",
       "      <th>created_at</th>\n",
       "      <th>last_used_at</th>\n",
       "    </tr>\n",
       "  </thead>\n",
       "  <tbody>\n",
       "    <tr>\n",
       "      <th>0</th>\n",
       "      <td>52327145521a41429fa144666e5fceb1</td>\n",
       "      <td>52a33c88-4972-45ac-ac31-000bdd0799fb</td>\n",
       "      <td>2025-01-28 15:21:39.341124+00:00</td>\n",
       "      <td>2025-01-28 15:21:39.341574+00:00</td>\n",
       "    </tr>\n",
       "    <tr>\n",
       "      <th>1</th>\n",
       "      <td>5faa86ba0dc74b14a78c60c8aa20a014</td>\n",
       "      <td>8b767b85-44fb-4c20-97df-7aa172242273</td>\n",
       "      <td>2025-01-28 15:21:39.427042+00:00</td>\n",
       "      <td>2025-01-28 15:21:39.427201+00:00</td>\n",
       "    </tr>\n",
       "    <tr>\n",
       "      <th>2</th>\n",
       "      <td>fc5cc65fa5e7481aa1098282da213cb9</td>\n",
       "      <td>d5fe11cf-b87e-4bf8-9800-d8931098bfb2</td>\n",
       "      <td>2025-01-28 15:21:39.471007+00:00</td>\n",
       "      <td>2025-01-28 15:21:39.471150+00:00</td>\n",
       "    </tr>\n",
       "    <tr>\n",
       "      <th>3</th>\n",
       "      <td>3ae04e20124d40babc5107e658c666b6</td>\n",
       "      <td>ef7c085b-fdb5-4c94-b7b6-a61a3d04c210</td>\n",
       "      <td>2025-01-28 15:21:39.510248+00:00</td>\n",
       "      <td>2025-01-28 15:21:39.510383+00:00</td>\n",
       "    </tr>\n",
       "    <tr>\n",
       "      <th>4</th>\n",
       "      <td>1deb82ffa6ec45f883a8827fd30fe858</td>\n",
       "      <td>a2496afb-bd54-4450-8ffa-e3903a228df0</td>\n",
       "      <td>2025-01-28 15:21:39.811874+00:00</td>\n",
       "      <td>2025-01-28 15:21:39.812038+00:00</td>\n",
       "    </tr>\n",
       "    <tr>\n",
       "      <th>...</th>\n",
       "      <td>...</td>\n",
       "      <td>...</td>\n",
       "      <td>...</td>\n",
       "      <td>...</td>\n",
       "    </tr>\n",
       "    <tr>\n",
       "      <th>60</th>\n",
       "      <td>5b943fcc066641e593107d70f68df402</td>\n",
       "      <td>33d39015-fc1a-4bbd-b5e7-bfa9b44d3283</td>\n",
       "      <td>2025-01-28 15:23:32.238285+00:00</td>\n",
       "      <td>2025-01-28 15:23:32.238429+00:00</td>\n",
       "    </tr>\n",
       "    <tr>\n",
       "      <th>61</th>\n",
       "      <td>b97645dcc699415da5e46910cee5ba4c</td>\n",
       "      <td>225d2cb4-99fc-47db-a9dd-df057feb77ec</td>\n",
       "      <td>2025-01-28 15:23:33.915963+00:00</td>\n",
       "      <td>2025-01-28 15:23:33.916111+00:00</td>\n",
       "    </tr>\n",
       "    <tr>\n",
       "      <th>62</th>\n",
       "      <td>2a804b660c4547a0959bdd4a7714cbb1</td>\n",
       "      <td>2b2bc056-fbf5-4a9d-b736-887ba47ba13a</td>\n",
       "      <td>2025-01-28 15:23:35.170384+00:00</td>\n",
       "      <td>2025-01-28 15:23:35.170530+00:00</td>\n",
       "    </tr>\n",
       "    <tr>\n",
       "      <th>63</th>\n",
       "      <td>b2104b2ddd3242debe66eb7ba8d3ea7d</td>\n",
       "      <td>1ea79bb9-ff5f-49f0-9b18-345f81636be6</td>\n",
       "      <td>2025-01-28 15:23:35.373977+00:00</td>\n",
       "      <td>2025-01-28 15:23:35.374117+00:00</td>\n",
       "    </tr>\n",
       "    <tr>\n",
       "      <th>64</th>\n",
       "      <td>a348956cfac74798b24c452ba82253cd</td>\n",
       "      <td>6202a397-75ef-41a6-a8e5-48516a1aac77</td>\n",
       "      <td>2025-01-28 15:23:56.565718+00:00</td>\n",
       "      <td>2025-01-28 15:23:56.565862+00:00</td>\n",
       "    </tr>\n",
       "  </tbody>\n",
       "</table>\n",
       "<p>65 rows × 4 columns</p>\n",
       "</div>"
      ],
      "text/plain": [
       "                               token                               user_id  \\\n",
       "0   52327145521a41429fa144666e5fceb1  52a33c88-4972-45ac-ac31-000bdd0799fb   \n",
       "1   5faa86ba0dc74b14a78c60c8aa20a014  8b767b85-44fb-4c20-97df-7aa172242273   \n",
       "2   fc5cc65fa5e7481aa1098282da213cb9  d5fe11cf-b87e-4bf8-9800-d8931098bfb2   \n",
       "3   3ae04e20124d40babc5107e658c666b6  ef7c085b-fdb5-4c94-b7b6-a61a3d04c210   \n",
       "4   1deb82ffa6ec45f883a8827fd30fe858  a2496afb-bd54-4450-8ffa-e3903a228df0   \n",
       "..                               ...                                   ...   \n",
       "60  5b943fcc066641e593107d70f68df402  33d39015-fc1a-4bbd-b5e7-bfa9b44d3283   \n",
       "61  b97645dcc699415da5e46910cee5ba4c  225d2cb4-99fc-47db-a9dd-df057feb77ec   \n",
       "62  2a804b660c4547a0959bdd4a7714cbb1  2b2bc056-fbf5-4a9d-b736-887ba47ba13a   \n",
       "63  b2104b2ddd3242debe66eb7ba8d3ea7d  1ea79bb9-ff5f-49f0-9b18-345f81636be6   \n",
       "64  a348956cfac74798b24c452ba82253cd  6202a397-75ef-41a6-a8e5-48516a1aac77   \n",
       "\n",
       "                         created_at                     last_used_at  \n",
       "0  2025-01-28 15:21:39.341124+00:00 2025-01-28 15:21:39.341574+00:00  \n",
       "1  2025-01-28 15:21:39.427042+00:00 2025-01-28 15:21:39.427201+00:00  \n",
       "2  2025-01-28 15:21:39.471007+00:00 2025-01-28 15:21:39.471150+00:00  \n",
       "3  2025-01-28 15:21:39.510248+00:00 2025-01-28 15:21:39.510383+00:00  \n",
       "4  2025-01-28 15:21:39.811874+00:00 2025-01-28 15:21:39.812038+00:00  \n",
       "..                              ...                              ...  \n",
       "60 2025-01-28 15:23:32.238285+00:00 2025-01-28 15:23:32.238429+00:00  \n",
       "61 2025-01-28 15:23:33.915963+00:00 2025-01-28 15:23:33.916111+00:00  \n",
       "62 2025-01-28 15:23:35.170384+00:00 2025-01-28 15:23:35.170530+00:00  \n",
       "63 2025-01-28 15:23:35.373977+00:00 2025-01-28 15:23:35.374117+00:00  \n",
       "64 2025-01-28 15:23:56.565718+00:00 2025-01-28 15:23:56.565862+00:00  \n",
       "\n",
       "[65 rows x 4 columns]"
      ]
     },
     "execution_count": 9,
     "metadata": {},
     "output_type": "execute_result"
    }
   ],
   "source": [
    "df"
   ]
  },
  {
   "cell_type": "code",
   "execution_count": 7,
   "metadata": {},
   "outputs": [
    {
     "data": {
      "text/html": [
       "<div>\n",
       "<style scoped>\n",
       "    .dataframe tbody tr th:only-of-type {\n",
       "        vertical-align: middle;\n",
       "    }\n",
       "\n",
       "    .dataframe tbody tr th {\n",
       "        vertical-align: top;\n",
       "    }\n",
       "\n",
       "    .dataframe thead th {\n",
       "        text-align: right;\n",
       "    }\n",
       "</style>\n",
       "<table border=\"1\" class=\"dataframe\">\n",
       "  <thead>\n",
       "    <tr style=\"text-align: right;\">\n",
       "      <th></th>\n",
       "      <th>id</th>\n",
       "      <th>name</th>\n",
       "      <th>type</th>\n",
       "    </tr>\n",
       "  </thead>\n",
       "  <tbody>\n",
       "  </tbody>\n",
       "</table>\n",
       "</div>"
      ],
      "text/plain": [
       "Empty DataFrame\n",
       "Columns: [id, name, type]\n",
       "Index: []"
      ]
     },
     "execution_count": 7,
     "metadata": {},
     "output_type": "execute_result"
    }
   ],
   "source": [
    "df[df['name'].str.contains('Montenegro')]"
   ]
  },
  {
   "cell_type": "code",
   "execution_count": 16,
   "metadata": {},
   "outputs": [
    {
     "data": {
      "text/html": [
       "<div>\n",
       "<style scoped>\n",
       "    .dataframe tbody tr th:only-of-type {\n",
       "        vertical-align: middle;\n",
       "    }\n",
       "\n",
       "    .dataframe tbody tr th {\n",
       "        vertical-align: top;\n",
       "    }\n",
       "\n",
       "    .dataframe thead th {\n",
       "        text-align: right;\n",
       "    }\n",
       "</style>\n",
       "<table border=\"1\" class=\"dataframe\">\n",
       "  <thead>\n",
       "    <tr style=\"text-align: right;\">\n",
       "      <th></th>\n",
       "      <th>id</th>\n",
       "      <th>type</th>\n",
       "      <th>text</th>\n",
       "      <th>timestamp</th>\n",
       "      <th>parent_id</th>\n",
       "      <th>is_indexed</th>\n",
       "      <th>last_update</th>\n",
       "    </tr>\n",
       "  </thead>\n",
       "  <tbody>\n",
       "  </tbody>\n",
       "</table>\n",
       "</div>"
      ],
      "text/plain": [
       "Empty DataFrame\n",
       "Columns: [id, type, text, timestamp, parent_id, is_indexed, last_update]\n",
       "Index: []"
      ]
     },
     "execution_count": 16,
     "metadata": {},
     "output_type": "execute_result"
    }
   ],
   "source": [
    "df[df['is_indexed']]"
   ]
  },
  {
   "cell_type": "code",
   "execution_count": 19,
   "metadata": {},
   "outputs": [],
   "source": [
    "df = await read_table_async(Content)"
   ]
  },
  {
   "cell_type": "code",
   "execution_count": 20,
   "metadata": {},
   "outputs": [
    {
     "data": {
      "text/html": [
       "<div>\n",
       "<style scoped>\n",
       "    .dataframe tbody tr th:only-of-type {\n",
       "        vertical-align: middle;\n",
       "    }\n",
       "\n",
       "    .dataframe tbody tr th {\n",
       "        vertical-align: top;\n",
       "    }\n",
       "\n",
       "    .dataframe thead th {\n",
       "        text-align: right;\n",
       "    }\n",
       "</style>\n",
       "<table border=\"1\" class=\"dataframe\">\n",
       "  <thead>\n",
       "    <tr style=\"text-align: right;\">\n",
       "      <th></th>\n",
       "    </tr>\n",
       "  </thead>\n",
       "  <tbody>\n",
       "  </tbody>\n",
       "</table>\n",
       "</div>"
      ],
      "text/plain": [
       "Empty DataFrame\n",
       "Columns: []\n",
       "Index: []"
      ]
     },
     "execution_count": 20,
     "metadata": {},
     "output_type": "execute_result"
    }
   ],
   "source": [
    "df"
   ]
  },
  {
   "cell_type": "code",
   "execution_count": null,
   "metadata": {},
   "outputs": [],
   "source": []
  },
  {
   "cell_type": "code",
   "execution_count": null,
   "metadata": {},
   "outputs": [],
   "source": []
  },
  {
   "cell_type": "code",
   "execution_count": 8,
   "metadata": {},
   "outputs": [
    {
     "data": {
      "text/plain": [
       "is_indexed\n",
       "False    3683\n",
       "Name: count, dtype: int64"
      ]
     },
     "execution_count": 8,
     "metadata": {},
     "output_type": "execute_result"
    }
   ],
   "source": [
    "df['is_indexed'].value_counts()\n"
   ]
  },
  {
   "cell_type": "code",
   "execution_count": 9,
   "metadata": {},
   "outputs": [
    {
     "data": {
      "text/plain": [
       "type\n",
       "meeting    3683\n",
       "Name: count, dtype: int64"
      ]
     },
     "execution_count": 9,
     "metadata": {},
     "output_type": "execute_result"
    }
   ],
   "source": [
    "df['type'].value_counts()\n"
   ]
  },
  {
   "cell_type": "code",
   "execution_count": null,
   "metadata": {},
   "outputs": [],
   "source": []
  },
  {
   "cell_type": "code",
   "execution_count": 30,
   "metadata": {},
   "outputs": [
    {
     "ename": "NameError",
     "evalue": "name 'self' is not defined",
     "output_type": "error",
     "traceback": [
      "\u001b[0;31m---------------------------------------------------------------------------\u001b[0m",
      "\u001b[0;31mNameError\u001b[0m                                 Traceback (most recent call last)",
      "Cell \u001b[0;32mIn[30], line 2\u001b[0m\n\u001b[1;32m      1\u001b[0m processor \u001b[38;5;241m=\u001b[39m ContentProcessor(\n\u001b[0;32m----> 2\u001b[0m             qdrant_engine\u001b[38;5;241m=\u001b[39m\u001b[38;5;28;43mself\u001b[39;49m\u001b[38;5;241m.\u001b[39mqdrant_engine,\n\u001b[1;32m      3\u001b[0m             es_engine\u001b[38;5;241m=\u001b[39m\u001b[38;5;28mself\u001b[39m\u001b[38;5;241m.\u001b[39mes_engine\n\u001b[1;32m      4\u001b[0m         )\n",
      "\u001b[0;31mNameError\u001b[0m: name 'self' is not defined"
     ]
    }
   ],
   "source": [
    "processor = ContentProcessor(\n",
    "            qdrant_engine=self.qdrant_engine,\n",
    "            es_engine=self.es_engine\n",
    "        )"
   ]
  },
  {
   "cell_type": "code",
   "execution_count": null,
   "metadata": {},
   "outputs": [],
   "source": []
  }
 ],
 "metadata": {
  "kernelspec": {
   "display_name": "Python 3",
   "language": "python",
   "name": "python3"
  },
  "language_info": {
   "codemirror_mode": {
    "name": "ipython",
    "version": 3
   },
   "file_extension": ".py",
   "mimetype": "text/x-python",
   "name": "python",
   "nbconvert_exporter": "python",
   "pygments_lexer": "ipython3",
   "version": "3.12.7"
  }
 },
 "nbformat": 4,
 "nbformat_minor": 2
}
