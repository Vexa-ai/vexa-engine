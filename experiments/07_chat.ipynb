{
 "cells": [
  {
   "cell_type": "code",
   "execution_count": 17,
   "metadata": {},
   "outputs": [
    {
     "name": "stdout",
     "output_type": "stream",
     "text": [
      "The autoreload extension is already loaded. To reload it, use:\n",
      "  %reload_ext autoreload\n"
     ]
    }
   ],
   "source": [
    "%load_ext autoreload\n",
    "%autoreload 2"
   ]
  },
  {
   "cell_type": "code",
   "execution_count": 18,
   "metadata": {},
   "outputs": [],
   "source": [
    "import sys\n",
    "sys.path.append('/app')"
   ]
  },
  {
   "cell_type": "code",
   "execution_count": 19,
   "metadata": {},
   "outputs": [],
   "source": [
    "from vexa import VexaAuth, VexaAPI\n",
    "from chat import UnifiedChatManager, UnifiedContextProvider\n",
    "from qdrant_search import QdrantSearchEngine\n",
    "from bm25_search import ElasticsearchBM25\n",
    "from helpers import jupyter_stream_output\n",
    "from uuid import UUID\n",
    "from typing import Optional, List"
   ]
  },
  {
   "cell_type": "code",
   "execution_count": 20,
   "metadata": {},
   "outputs": [
    {
     "name": "stdout",
     "output_type": "stream",
     "text": [
      "Vexa token: 3ae04e20124d40babc5107e658c666b6\n",
      "User information retrieved successfully.\n"
     ]
    }
   ],
   "source": [
    "auth = VexaAuth()\n",
    "vexa = VexaAPI()\n",
    "user_id = (await vexa.get_user_info())['id']\n",
    "\n",
    "# Initialize search engines"
   ]
  },
  {
   "cell_type": "code",
   "execution_count": 21,
   "metadata": {},
   "outputs": [],
   "source": [
    "import os\n",
    "voyage_apikey = os.getenv('VOYAGE_API_KEY')"
   ]
  },
  {
   "cell_type": "code",
   "execution_count": 22,
   "metadata": {},
   "outputs": [],
   "source": [
    "from chat import UnifiedContextProvider\n",
    "from chat import UnifiedChatManager"
   ]
  },
  {
   "cell_type": "code",
   "execution_count": 23,
   "metadata": {},
   "outputs": [],
   "source": [
    "from qdrant_search import QdrantSearchEngine\n",
    "from bm25_search import ElasticsearchBM25\n"
   ]
  },
  {
   "cell_type": "code",
   "execution_count": 24,
   "metadata": {},
   "outputs": [
    {
     "name": "stdout",
     "output_type": "stream",
     "text": [
      "Connecting to Elasticsearch at elasticsearch:9200\n"
     ]
    }
   ],
   "source": [
    "qdrant_engine = QdrantSearchEngine(voyage_apikey)\n",
    "es_engine = ElasticsearchBM25()"
   ]
  },
  {
   "cell_type": "code",
   "execution_count": 25,
   "metadata": {},
   "outputs": [],
   "source": [
    "context_provider = UnifiedContextProvider(qdrant_engine=qdrant_engine,es_engine=es_engine)"
   ]
  },
  {
   "cell_type": "code",
   "execution_count": 26,
   "metadata": {},
   "outputs": [],
   "source": [
    "from IPython.display import Markdown"
   ]
  },
  {
   "cell_type": "code",
   "execution_count": 27,
   "metadata": {},
   "outputs": [
    {
     "data": {
      "text/markdown": [
       "##  [6] - June 17, 2024 13:00\n",
       "\n",
       "- [00:00] The chunk is part of a conversation between Mystic Wizard and Polar Vulture discussing the organization and analysis of audio data, specifically focusing on speaker identification and diarization processes.\n",
       "  > Mystic Wizard:  Мы с тобой по спикерам пройдемся.  Спикерам давай, по диарайзу.\n",
       "- [35:32] The chunk occurs during a technical discussion between Mystic Wizard and Polar Vulture about processing audio data, specifically focusing on the synchronization of speech segments from a transcription service and a diarization service. Polar Vulture is seeking clarification on how to match the speech segments received from these two different methods.\n",
       "  > Polar Vulture:  Так, хорошо. У меня еще один вопрос, но он такой, на понятие.  В какой момент мне начинать угадывать, получается, как бы это спросить-то...  Смотри, у меня транскрипт и диарайз, они из аудиосервиса приходят разными методами, да?  Как мне понять, что тот спич, который мне пришел от транскрипта, соответствует спич?\n",
       "\n",
       "##  [11] - December 03, 2024 18:40\n",
       "\n",
       "- [2024-12-03 18:40:49] The chunk is part of a conversation between Sergio Goriachev and Dmitriy Grankin discussing the challenges and opportunities in international trade, specifically focusing on liquidity provision through DeFi tools for transactions involving suppliers and buyers in different countries.\n",
       "  > Sergio Goriachev:  Короче, не совсем даже токенизация самих товаров, это когда-нибудь потом, но меня интересует налив ликвидности через DeFi-инструменты, то есть, допустим, вот...  Как это работает? У тебя есть поставщик с товаром в одной стране, у тебя есть покупатель с деньгами в другой стране.  И у них вечная проблема, что поставщик...  Отставщик хочет отдать товар вот здесь, в своем порту, а покупатель хочет заплатить за него вот здесь, в своем порту.  И обычно нужно очень много ликвидности на логистику, страховки, на веса.  товар, и здесь получается такое плечо инвесторское.  То есть, допустим, 5 миллионов долларов загружают, чтобы чуваку здесь заплатить, а товар здесь отдать и заработать на этом процент трейдерская операция наш клиент как раз и эту ликвидность не всегда очень просто найти То есть это должен быть человек с экспертизой в домене, потому что никто просто так не даст деньги на руду марганцев.  из Бразилии в Россию, ну это crazy, нужно быть.  Вот, а...  Да, а...  Самое удивительное.  Да, а через\n",
       "\n",
       "##  [10] - December 10, 2024 11:01\n",
       "\n",
       "- [2024-12-10 11:01:18] This chunk occurs towards the end of a conversation between Waqas Arshad and Dmitry Grankin, where Waqas provides strategic advice on content marketing for Dmitry's AI product. He emphasizes the importance of focusing on high-quality content over quantity, discusses the relevance of targeted traffic in the SaaS industry, and suggests conducting trials with different content providers to evaluate effectiveness and pricing.\n",
       "  > Waqas Arshad:  So my suggestion to you would be just focus on quality content content if you don't have budget for like four articles of a month just do two if you don't have budget for two just do one it should be high quality don't go towards quantity don't go towards cheap seo i would say Search for the market leaders in the SEO and see what they have to say.  Traffic is just a vanity these days.  People, especially in the SaaS industry, they're not looking for traffic.  They say, we don't want traffic on our website.  We only want people who want our product because that's the main goal.  We are here to sell.  We are not here to give any public service and they're not running ads or they are not doing any affiliate marketing on the website.  So any traffic is not relevant.  they only want people who are interested so that's a very important thing that you need to consider and from my side i would i can only say before you opt you can try I on a free or on a trial with us.  And one trial with me, one trial with any other chief agency, do a benchmark on maybe as you are aware of AI, you can produce one content on your own using AI and see what's the difference, which one performs better.  And then only then you can actually figure out of the pricing that I'm quoting  is actually, uh, expensive or is it cost effective?  So, uh, I'll share some case studies with you that.  have published you can have a look upon what our customers have seen and then maybe at that point  you can decide if it's something that you would like to buy or not okay thank you very much  with me your uh yeah the portfolio the things that you want to share with  yeah sure thing i'll drop it after the call on your linkedin chat and  i'll be looking forward to your response okay thank you very much have a nice day\n",
       "\n",
       "##  [4] - June 09, 2024 09:51\n",
       "\n",
       "- [06:57] This chunk is part of a discussion on building LLM agents using open source LLMs, specifically focusing on the LandGraph framework, which manages state and nodes in the agent's graphical flow.\n",
       "  > Dreamy Sorcerer:  So LandGraph basically takes a state which can live over the course of your graphical flow, and it can be accessed by all kind of what we're going to call nodes in your graph, OK?  So first, as state, I'm just going I'm just going to find a set of messages, and don't worry too much about this for now, this will all make sense in about a minute.  Okay, now here's where things are going to get interesting.\n",
       "- [00:00] The document is a detailed guide by Dreamy Sorcerer on building LLM agents using open source LLMs, specifically focusing on the components of agents such as planning, memory, and tool use, with practical examples and code implementations using LLAMA3.\n",
       "  > Dreamy Sorcerer:  We seem very high interest in building LLM agents using open source LLMs, and so we wanted to talk through how to do that from scratch using LLAMA3.\n",
       "\n",
       "##  [7] - June 11, 2024 10:44\n",
       "\n",
       "- [02:20] The chunk is part of a discussion on Retrieval Augmented Generation (RAG) techniques, where Nova Alchemist introduces RAG and references previous videos that explain its fundamentals and comparisons with frameworks like Lanchain and Llama Index. This context is situated within a broader conversation about enhancing information retrieval and response generation using RAG and knowledge graphs.\n",
       "  > Nova Alchemist:  This solution is called RAG, Retrieval Augmented Generation.  We have talked about RAG in some videos in more details.  We recently had a video about, oh, you need to know about basic RAG.  details we recently had a video about oh you need to know about basic rat where we introduce how to build basic rep from scratch and contrasting how to do that versus framework like lan chain and llama index to do that versus framework like Lanchain and Llama Index.  Check that one out if you're interested.  Henry Suryawirawan, All right.\n",
       "- [01:32] The chunk discusses the challenges faced by large language models (LLMs), specifically hallucination and limited reasoning capabilities, and introduces Retrieval Augmented Generation (RAG) as a potential solution to enhance the accuracy and grounding of information retrieval in complex queries.\n",
       "  > Polar Paladin:  And two of these important problems are one is the hallucination, meaning that when we use LLMs to generate some text, then it is very likely that we get inaccurate or inaccurate.  inconsistent information.  And the other thing is that LLMs struggle with real world having complex reasoning capability is not there yet.  So how can we address these two problems when we are working with LLM?  One potential solution is to use RAG.  with LLMs, and we can use external knowledge  It's text that is grounded based on facts.\n",
       "\n",
       "##  [12] - December 11, 2024 18:31\n",
       "\n",
       "- [2024-12-11 18:31:31] This chunk is part of a conversation between Lara Vargas and Dmitriy Grankin, where Lara discusses an incident involving windows falling from a building, expressing concern about the building's construction quality. The dialogue transitions into a discussion about marketing strategies and influencer outreach.\n",
       "  > Lara Vargas:  the code uh that's what the the fire brigade said maybe the code made the glasses uh change the the you know the the structure and so they fell on the street it was it was a bit scary but thankfully everything is settled now they had to come in and and change everything it's pretty strange that windows just fall out of the building  yes apparently it had already happened to  other people before in this in the building oh yeah yeah okay so so i think it's it's uh the way that it was built it was bad yeah i don't know some mistakes in the construction or yeah yeah anyway that yeah i also had\n",
       "\n",
       "##  [20] - June 11, 2024 15:19\n",
       "\n",
       "- [06:06] The chunk is part of a discussion about the implications of recent European elections on national politics, particularly focusing on the challenges faced by Ukraine in securing support from European nations amid rising nationalism and self-interest within the EU.\n",
       "  > Astral Nomad:  А когда речь идет о национальных эгоизмах, даже ближайшему соседу помогать уже не так просто, даже если вы бы хотели это делать.  Поэтому, да, Украине нужно беспокоиться полезный союзник и удобный союзник для Украины, это может означать, что он станет гораздо более сложным.\n",
       "- [05:26] The chunk is part of a discussion about the implications of recent European elections on the political landscape, particularly focusing on the influence of far-right parties in the European Parliament and their potential impact on support for Ukraine. It highlights concerns about decision-making delays and the prioritization of national interests over collective European support, amidst fears of economic instability due to geopolitical tensions.\n",
       "  > Astral Nomad:  Большая зависимость. Большая зависимость значит замедление решений. Большая зависимость значит большая компромиссность. Большая зависимость значит, что есть какие-то красные линии, которые те же крайне правые силы в Европарламенте затребуют как цену своей поддержки той же Урсу.  То есть, конечно же, продолжение курса до сего момента, курс продолжения Украины станет медленнее, менее стабильный и, возможно, в какой-то момент превратится в deal breaker, потому что в Европе зашел разговор о распределении нагрузок.  Речь идет о собственной рубашке, об экономике, о страхе многих избирателей и политиков попасть между конфликтующими США и Китаем в торговую войну и потерять свой экономический достаток.  ...ждающаяся эпоха национальных эгоизмов.\n",
       "\n",
       "##  [17] - June 21, 2024 18:00\n",
       "\n",
       "- [42:41] The chunk occurs towards the end of a conversation among several participants discussing topics related to machine learning, knowledge extraction, and potential collaborations. Mystic Wizard is suggesting to connect on LinkedIn and create a chat for further communication, expressing gratitude for the meeting and wishing everyone a good evening.\n",
       "  > Mystic Wizard:  сергей еще дополнительно вот там linkedin какой-нибудь например хорошо я сделаю чат  после разговора и в телеге и туда надо просто сбрасывать отлично раздор  Ладно, ребят, спасибо Приятно было познакомиться  Хорошего вечера\n",
       "- [10:35] The chunk is part of a conversation among several participants discussing topics related to machine learning, knowledge extraction, and the application of these technologies in business contexts. Mystic Wizard is expressing thoughts on the demand for capturing specific terminology and data related to business interactions, while also acknowledging a moment of distraction.\n",
       "  > Mystic Wizard:  люди до хотят зафиксировать вот спрос идет сейчас оба перечислили там ряд люди до хотят зафиксировать спрос идет сейчас оба перечислили там ряд всяких специфических всяких специфических терминов для меня да то есть мне их И подумаю, что с ним делать.  Ага, да.  Что это?  Ой.  Сори, это я случайно нажал на play в своем геймпаде.  Очень удивился.\n",
       "- [22:13] The chunk is part of a conversation among several participants discussing technical aspects of machine learning and knowledge extraction, specifically focusing on the implementation and commercialization of AI models in various industries. Whispering Pioneer is inquiring about the technical details and practical applications of these models, including their deployment and client experiences.\n",
       "  > Whispering Pioneer:  Дмитрий, меня опять интересует какая техническая составляющая, мне просто это очень близко. А что-то уже внедрено в индустрию, что-то уже продается?  какие-то клиенты есть по похожим моделям просто полом как это происходит например вот меня просто вопросы там костов интересуют если все ранится локально то люди могут посмотреть как это все ранен ранится там и не всегда это приятно или условно говоря есть какой-то клауд локальном смысле на ранится там и не всегда это приятно или условно говоря есть какой-то клауд локальном смысле на\n",
       "\n",
       "##  [1] - December 20, 2024 13:25\n",
       "\n",
       "- [2024-12-20 13:25:46] The chunk is part of a conversation between Dmitriy Grankin and Anton Saburov discussing the use of AI tools for organizing information and enhancing productivity, specifically mentioning the potential of Claude AI as an example of a tool that can assist in managing transcriptions effectively.\n",
       "  > Dmitriy Grankin:  То есть в качестве примера есть, например, Клод AI.  Там есть проекты, если ты туда аккуратно будешь складывать транскрипты, то ты получишь очень хорошего ассистента.\n",
       "- [01:47] The chunk is part of a conversation between Dmitriy Grankin and Anton Saburov discussing the use of AI tools for organizing information and enhancing productivity, specifically mentioning the capabilities of Claude AI in managing transcripts to create an effective assistant.\n",
       "  > Dmitriy Grankin:  То есть в качестве примера есть, например, Клод AI.  Там есть проекты, если ты туда аккуратно будешь складывать транскрипты, то ты получишь очень хорошего ассистента.  ...происходит автоматически.  Автоматически, но и там почему-то у них проект лимитирован по размеру.\n",
       "- [01:42] The chunk is part of a conversation between Dmitriy Grankin and Anton Saburov discussing the development and functionality of an AI chat tool that organizes information and assists users by utilizing transcriptions, with a specific mention of a project called Claude AI.\n",
       "  > Dmitriy Grankin:  которая накапливается, у тебя получается чат, AI-чат, в котором все очень хорошо доступно, вся эта информация по полочкам.  То есть в качестве примера есть, например, Клод AI.  Там есть проекты, если ты туда аккуратно будешь складывать транскрипты, то ты получишь очень хорошего ассистента.  ...происходит автоматически.  Автоматически, но и там почему-то у них проект лимитирован по размеру.\n",
       "\n",
       "##  [2] - June 23, 2024 08:15\n",
       "\n",
       "- [22:44] The chunk is part of a technical discussion between developers, specifically focusing on a comparative analysis of two code files related to diarization and transcription processes. They are reviewing code implementations, discussing potential improvements, and planning further collaboration on debugging and development tasks.\n",
       "  > Mystic Wizard:  Давай вот просто сравнительный анализ сделаем двух файлов.  Угу, давай.  Так, вот у тебя get all diarizations, transcriptions, как и у меня.  Вот, смотри, вот они, да.  Обычно надо. Вот здесь я получил в две строчки подготовленные к мержу транскрипты и диарайзер.  у меня по сути также я обезопасился через их да да ну здесь когда ты в  доступ ко всему что можно попробовать поэтому надо всегда убираешь вот если у тебя счет сломалась ничего страшного вручную все это отрабатываешь вот и что здесь у нас происходит ну да здесь пусть здесь мы просто банально делаем самую самую простую обработку самую простую обработку здесь у нас вот здесь простая обработка банально то есть это буквально тот же самый а это буквально обрабатываем мы обрабатываем идеализация совершенно по-другому а вот здесь мерджор этим занимается процесс вот и а мерч по сути дела работает также посмотрим вот видишь вот  видишь код а ты его просто метод мерсис нормально вот так класс да то есть он работает прямо прямо  аналогично соответственно вот сюда я еще не ходил дальше но как ты понимаешь что здесь то понимаешь, что здесь, как бы, этот панк-код довольно  легко должен сложиться.  Ну да, как будто бы тут ничего и не надо менять.  Мы, по сути, на выходе все те же сегменты получим.  Вот.  передать исходя из этого сравнительного анализа уже можно наверное уже ну как бы такой немножко уже по крайней мере можно уже в пару лучше этот код уже дальше работать я могу  Я могу пока имплементировать, а ты можешь пока какие-нибудь баги отлавливать, что-то еще.  Ну и да, у тебя там где-то что-то сломается, не пойми чего.  Вот, поэтому дальше, давай уже дальше в паре его докручивать, вот, поэтому...  Да, вообще не вопрос.  Вот, я...  Тем более, что я с этими, с чейнами закончил.  Да, да, да.  Вот, дальше что тут у меня, я вот это вот закоммичу там, чтобы оно не сломало ничего.  вот здесь особо никаких изменений нет вот так кино вот вот что все дальше смотри как у тебя дальше будет я тебе передал и у тебя если будет возможность над этим поработать.  Да, я, наверное, завтра, пока у Лиссабона еще будет раннее утро или ночь,  это я попробую сделать.  Ну вот, отлично.  Вот, давай попробуем теперь сделать рубрика «Давайте это попробуем».  А у тебя он сейчас настроен на какой? На стейдж или на свой?  Давай я тебе покажу, если будешь тестить, чтобы ты мог девелоперские создать.  О, кабайл работает.  Так а что он должен не работать-то?  Я же обновил стейч в части работы с кодом.  Я его проверил, но мне всегда боится, что где-то что-то сломается.\n",
       "- [27:48] The chunk is part of a conversation among software developers discussing technical issues related to configuring an extension for domain functionality, troubleshooting a welcome link, and sharing insights on local application settings. The dialogue also touches on personal experiences and environmental observations, particularly about the ocean's temperature and climate.\n",
       "  > Mystic Wizard:  Смотри, допустим, да, ты хочешь настроить экстеншн, чтобы он работал с доменами.  Это я, по-моему, это я должен новую ссылку приветственную просто скинерить, не помню, кем я рассказывал.  Нет, нет, нет, не работает приветственная ссылка.  Я вот вчера, я помню, это реально целый день, Приветственный пресс-кинеретик, не помню, кем я рассказывал.  Нет, нет, нет, не работает приветственный сылок.  Вчера, я помню, это реально целый день потерял из-за этого, ну, во многом.  Поэтому, чтобы ты на эту проблему не наткнулся, я тебе покажу.  Вот, сам пишешь, продаешь, продаешь, продаешь.  Горд, конспект.  вот так вот я а я должен в кучу свой залезть application local и вот здесь вот у тебя есть LocalForge. И вот здесь вот у тебя есть, вот видишь MainStageDef.exe, меняешь на MainAndre, токен, который ты вытащил оттуда, и StreamStage.  оттуда и стрим стричь и вот после этого наверное что-то надо еще какую-то станцевать что-то вокруг с нашими минимально руки может почистить или просто перезапустить переустановить и все работает И все работает.  Так что вообще не очевидно, как это делать, но вот теперь это должно быть понятно. Да, ну теперь мы знаем.  Окей. Так, ну хорошо, все, вот, и это и так.  Все, вот. И через дашборд тоже все хорошо. Ну, ляпота,  ляпота.  Ну, все. Давай тогда.  Все, давай, тебе хорошего отдыха, хорошо вам покупаться. Я вам завидую.  Вот, да.  Вода здесь...  Вода здесь, океан, он холодный, он там выше 17 градусов вода не поднимается никогда.  Ну, все равно, хоть какой-то полезный воздух.\n",
       "\n",
       "##  [5] - June 24, 2024 10:47\n",
       "\n",
       "- [00:29] The chunk occurs during a conversation between two colleagues, Mystic Wizard and Polar Vulture, discussing the code in the New Diarise branch of a project. Polar Vulture mentions the presence of unnecessary code, indicating a focus on code optimization and collaboration on implementation tasks.\n",
       "  > Polar Vulture:  Да, и мы пришли же еще к тому, что тут есть какие-то частички ненужного кода.  Ну, слушай, ну...\n",
       "- [00:17] The chunk is part of a conversation between two colleagues, Mystic Wizard and Polar Vulture, discussing the progress and implementation of code in the New Diarise branch of a project. Mystic Wizard is confirming that the code is understandable and ready for Polar Vulture to work on, following a previous discussion where they reviewed the code together.\n",
       "  > Mystic Wizard:  New Diarise. Ну, я тебе все показал вчера, я это... Мы с тобой вроде пришли к тому, что...  как бы там все для тебя понятно и можно это имплементировать.\n",
       "- [00:09] The chunk is part of a conversation between two developers, Mystic Wizard and Polar Vulture, discussing the implementation of code in the \"New Diarise\" branch of a project. Polar Vulture is seeking clarification on the code in the Engine and confirming that it is ready for implementation, following a previous discussion.\n",
       "  > Polar Vulture:  Так, да, привет. Короче, смотри, ты, по-моему, говорил, что в этом коде, который в Engine... Я же ветку New Diarise, во-первых, смотрю, да?  New Diarise. Ну, я тебе все показал вчера, я это... Мы с тобой вроде пришли к тому, что...  как бы там все для тебя понятно и можно это имплементировать.\n",
       "- [05:25] The chunk occurs during a conversation between Mystic Wizard and Polar Vulture, where they discuss the implementation and testing of code related to an audio service and the deployment of a development environment in the cloud.\n",
       "  > Mystic Wizard:  Деф с тобой сделаем на следующей неделе.  Вытащим отдельный деф и уже его развернем в облаках.  А, ну окей.  Хорошо. Только смотри, получается,  А, ну окей, хорошо.  Только смотри, получается в аудиосервис  в Python-коде. Ничего делать не надо,  его достаточно просто проверить.\n",
       "- [01:47] The chunk is part of a conversation between Mystic Wizard and Polar Vulture discussing project tasks and code implementation. Mystic Wizard expresses concern about Polar Vulture's workload and encourages him to start working on the code, while also noting the presence of unnecessary code fragments and the need for collaboration amidst other team members' requests.\n",
       "  > Mystic Wizard:  я сам после отпуска говорю я же говорю что твой завал разберется по всем твоим делам вот ну с собирает собирайся я-то рассчитываю что ты это начнешь делать и доставишь ну как бы я могу конечно пойти и сам все делать просто я за ним занимаюсь более перспективными перспективными уже в этом состоянии код вполне как мы с тобой выяснили вполне готов потому что его имплементировать непонятно давай посмотрим да тут нет ну и давай это И занимаешься, то это так же непонятно, то ли ты пытаешься горячие все подобрать, все что у тебя сыпется из рук, у меня такое ощущение.  Можно быть. Ну, потому что, да, тут ты говоришь им беденьки делать, тут еще Сергей говорит то-си делать.\n",
       "- [02:02] The chunk is part of a conversation between Mystic Wizard and Polar Vulture discussing project priorities and communication regarding tasks and responsibilities within their team. Mystic Wizard references a previous discussion with Sergey about a blocker and emphasizes that the team is currently waiting for Polar Vulture to proceed with his work.\n",
       "  > Mystic Wizard:  Нет, нет, с Сергеем мы это проговорили, как бы это самое.  Просто у нас был с ним разговор какое-то время назад, когда блокер был Экена. А сейчас на твоей стороне все тебя ждут.\n",
       "\n",
       "##  [19] - June 17, 2024 22:09\n",
       "\n",
       "- [1144:25] This chunk discusses the limitations and potential improvements in large language models (LLMs) through various techniques such as chain of thought reasoning, scaffolding, and the use of agents and tools, highlighting the evolution of algorithmic strategies in AI research.\n",
       "  > Gallant Knight:  with chain of thought reasoning and even with that it's still not great here he talks about the different potential algorithmic gains we've already talked about rlhf we've talked about chain of thought, scaffolding, which is chain of thought plus plus, rather than just about chain of thought scaffolding, which is chain of thought plus plus rather than just asking the asking the model to solve a problem, have one model have a plan of attack, another propose a model to solve a problem, have one model have a plan of attack another propose a bunch of possible bunch of possible solutions, he's basically describing agents, then we have tools, again, solutions is basically describing agents, then we have tools again, agents use tools. So that's x agents use tools. So that's external math libraries, that's searching the internet, etc.\n",
       "\n",
       "##  [18] - December 05, 2024 19:00\n",
       "\n",
       "- [2024-12-05 19:00:53] This chunk occurs at the beginning of a conversation between Lara Vargas and Dmitry Grankin, where they discuss their locations, the weather, and Lara's experience as a Brazilian in a colder climate.\n",
       "  > Lara Vargas:  I'm on my iPad, so I just want to check on Lisbon.  Yeah, I am. Are you as well?  Yes, on Belas Clube do Campo, not far from Lisbon.  Oh, okay, nice. It's been very cold, isn't it?  for a brazilian like me where uh what part of brazil are you from i'm from rio so yeah i'm not used to this I think the greys is already a lot for me, I mean.\n",
       "\n",
       "##  [9] - June 10, 2024 10:29\n",
       "\n",
       "- [10:34] The chunk is part of a discussion among developers analyzing performance bottlenecks in a streaming audio processing system. Mystic Wizard emphasizes the importance of identifying and addressing bottlenecks in the system, particularly in relation to file recording and processing, while also highlighting the need to focus on global issues rather than local ones. This conversation occurs in the context of optimizing the system's components, including the Transcribe and Diarise services.\n",
       "  > Mystic Wizard:  один connection короче за тот лодж от другой это смотри у тебя есть гипотеза отдела затык и гипотеза в том что затык в записи файла а если она не а если она в другом месте то тогда значит неправильно не в том месте решаем проблему надо идентифицировать но вообще все таки я еще раз хотите мысли повторить одну и ту же что все таки надо начинать решать расшивать те места в которых вся система ловит bottleneck они по-прежнему ты еще до них не добрался вот сейчас вот и  почему эти только что объясняю что у нас есть вообще уже на стриме типа полна ради но это не  Это тебе кажется, что он номер один, а так как ты не смотрел еще, что происходит на Transcribe и Diarise, вот, я бы, вот, как бы у тебя сейчас появилось представление о том, где у тебя есть какие локальные...  вот он теперь нужно тебя поймать все-таки глобальный это уже много бы хорошо что-то эту работу проделала все равно тебе придется к этому вернуться но все-таки нам у нас если система не работает она не работает и в общем то все равно что ты расширил бутылок в том месте где Если система не работает, то она не работает. И в общем-то все равно, что ты расширил бутылок в том месте, где он сейчас не блокирует. Надо все-таки начинать всегда с тех мест, которые системно, глобально.  он не сейчас не блокирует надо все-таки начинать всегда с тех мест которые системно глобально и дело тебя нужно теперь поставить в цепочку поставить транскрибер\n",
       "\n",
       "##  [13] - June 19, 2024 10:53\n",
       "\n",
       "- [00:24] The chunk is part of a playful conversation among characters, where Mystic Wizard expresses hope about something working, leading to laughter and lighthearted banter with Mariner Maverick and Gallant Stallion.\n",
       "  > Mystic Wizard:  Работает, значит, идет миха-миха.  Но оно работает, поэтому ха-ха-ха.\n",
       "\n",
       "##  [14] - December 05, 2024 13:59\n",
       "\n",
       "- [2024-12-05 13:59:51] This chunk occurs at the beginning of a conversation between Dmitry Grankin and Sunny Wyrzykowski, where they introduce themselves, discuss their locations, and agree to record the call for note-taking purposes.\n",
       "  > Dmitry Grankin:  I'm in Lisbon, Portugal.  Lisbon, sweet.  I just got...  What about you?  I am in San Francisco, the Bay Area.  okay and i actually just got back from uh three months in brazil so i picked up a little portuguese but that's a little different from yours i assume a little same  But we've got a lot of Brazilians here who continue to be Brazilian, no matter.  Cool. So before we start, is it okay if I record?  this call so i can summarize the key action steps for my notes and so no information gets lost yeah absolutely same same for me cool yeah no worries\n",
       "\n",
       "##  [15] - June 22, 2024 20:09\n",
       "\n",
       "- [00:26] The chunk is part of a conversation among multiple speakers discussing various topics, including personal experiences and observations, with a mix of languages and playful interactions.\n",
       "  > Wandering Explorer:  Et le premier second, on va dire, toi, tu l'as vu, tu l'as vu, tu l'as vu, tu l'as vu, tu l'as vu.\n",
       "- [03:15] The chunk is part of a conversation among various characters discussing different topics, including personal experiences and observations, with \"Infinite Bear\" mentioning subtitles created by \"DimaTorzok\" at the end of the dialogue.\n",
       "  > Infinite Bear:  Субтитры создавал DimaTorzok Tchau.\n",
       "- [01:18] The chunk is part of a conversation among multiple participants discussing various topics, including personal experiences and observations, with a focus on casual dialogue and playful interactions.\n",
       "  > Majestic Spirit:  На улице, по-человечески?\n",
       "- [01:10] The chunk is part of a conversation among multiple participants discussing various topics, including technology, personal experiences, and observations, with Spectral Cheetah questioning the unusual way someone is recording information.\n",
       "  > Spectral Cheetah:  Почему она так странно записывает?\n",
       "\n",
       "##  [8] - December 03, 2024 13:01\n",
       "\n",
       "- [2024-12-03 13:01:31] This chunk occurs during a conversation between Anna Pavlova and Dmitry Grankin, where they discuss a challenge faced by Anna's husband, Alex Pavlov, to build 12 startups in 12 months. They are coordinating a meeting to discuss this further, focusing on scheduling and location preferences for their meeting in Lisbon.\n",
       "  > Anna Pavlova (Lupenko):  Он сейчас, у него очень классный челлендж за ближайшие 12 месяцев построить 12 стартапов, запустить очень быстро.  Я думаю, что будет что обсудить.  На этой неделе готовы встретиться?  Как его зовут?  Алекс Павлов.  Александр Павлов.  нет не знаю супруг  да супруг  семейный бизнес буду рад познакомиться  хорошо а на этой неделе  где-нибудь в первой половине дня?  Свободно?  Я отвожу детей в школу в Оэйрш  к 8.30.  Угу.  Где вам удобно встречаться?  Желательно в Лиссабоне.  Потом из Эйрыша в Лиссабон очень весело ехать.  Да, особенно сейчас, сегодня.  застовка в метро, и, в общем, все вылезли на улицу.  Окей, а какие  по времени варианты?\n",
       "\n",
       "##  [16] - June 17, 2024 17:46\n",
       "\n",
       "- [00:42] The chunk occurs during a discussion among a group of individuals, where they are troubleshooting and exploring technical issues related to files and containers. Serenity Prophet is seeking clarification about the ongoing activities and requests to be shown what is happening in the context of their technical exploration.\n",
       "  > Serenity Prophet:  И что здесь у нас происходит? Покажите нам, пожалуйста.  И что здесь у нас происходит?\n",
       "- [03:48] The chunk occurs after a discussion among several participants about troubleshooting and examining a Docker Compose file, indicating a shift in focus or decision to leave the current situation.\n",
       "  > Mystic Wizard:  Окей, пошли отсюда, тогда по-моему приводится.\n",
       "- [03:54] The chunk is part of a conversation among several users discussing technical issues related to file retrieval, container management, and Docker Compose, with Mystic Wizard expressing a realization about a different situation regarding their current task.\n",
       "  > Mystic Wizard:  Тут оказывается немножко другая ситуация.\n",
       "\n",
       "##  [3] - December 20, 2024 18:01\n",
       "\n",
       "- [12:58] This chunk occurs during a conversation between Dmitriy Grankin and Windy Hell, where they discuss potential collaboration involving influencers and marketing strategies. Dmitriy is inquiring about the necessary steps and information Windy needs to begin working with designers and bloggers for promoting his product.\n",
       "  > Dmitriy Grankin:  дизайнеров слушай ну давай так я не знаю тебе какой-то по ресерчить надо или или что Если предварительно окей, давай. Что тебе от меня нужно? Тебе надо подумать, что ты будешь делать, или тебе надо собрать от меня...  ...информацию сейчас. Что тебе от меня надо, чтобы начать?\n",
       "- [19:47] This chunk occurs towards the end of a conversation between Dmitriy Grankin and Windy Hell, where they discuss the next steps for collaborating with bloggers to promote Dmitriy's product. They agree on a timeline for identifying and engaging bloggers for advertising purposes.\n",
       "  > Dmitriy Grankin:  Окей, на чем остановимся?  Я думаю, в пределах двух недель смогу первых блогеров прислать.  с кем можно запустить рекламу.  Ну, окей.  И что тогда, когда в следующий раз  Какой следующий шаг?  Но после того, как на это блогеров, блогер под них.  Ну и всё.  Окей, договорились.\n",
       "- [2024-12-20 18:01:44] This chunk occurs towards the end of a conversation between Dmitriy Grankin and Windy Hell, where they discuss the next steps for collaborating with bloggers to promote Dmitriy's product. They agree on a timeline for identifying and engaging bloggers for advertising, indicating a plan to move forward with their marketing strategy.\n",
       "  > Dmitriy Grankin:  Окей, на чем остановимся?  Я думаю, в пределах двух недель смогу первых блогеров прислать.  с кем можно запустить рекламу.  Ну, окей.  И что тогда, когда в следующий раз  Какой следующий шаг?  Но после того, как на это блогеров, блогер под них.  Ну и всё.  Окей, договорились.\n",
       "- [08:15] The chunk occurs during a conversation between Dmitriy Grankin and Windy Hell, where they discuss influencer marketing strategies, specifically focusing on collaborating with bloggers for promotional content. Windy shares his experience working with bloggers in the cryptocurrency sector, highlighting the platforms used and the target audience.\n",
       "  > Windy Hell:  Ич блогеров договаривались о работе по программе, придумываем идеи для рекламных роликов.  То есть это ты идеи придумываешь, а не блогеры, да?  Ну по-разному, но я стараюсь активно им помогать с этим.  Окей, а ты это YouTube или что?  Ну, основной YouTube и Telegram, где-то процентов 30.  YouTube и Telegram, это русскоязычные или кто, или нет?  СНГшные.  А? СНГшные?  СНГ.  Русскоязычные, да?  Понятно. У меня рынок глобальный, он совсем не обязательно русскоязычный.  скорее нет. Вот. И чего? И какие у тебя идеи здесь? Что есть конкретное?\n",
       "- [13:15] The chunk occurs during a discussion between Dmitriy Grankin and Windy Hell about potential collaboration with bloggers for marketing purposes. Windy is inquiring about an agency contract for working with bloggers, indicating the need for formal agreements as they explore partnership opportunities.\n",
       "  > Windy Hell:  Ну, агентский договор на работу с блогерами.  Который компания будет подписывать с блогерами.  Ну да.  Окей. У тебя шаблон есть, наверное, какой-то?  Да.  Я не подписывал никакого договора с ним.  Потому что у нас никаких денежных отношений не было.  Собственно, он все сделал бесплатно.\n",
       "- [07:52] The chunk occurs during a conversation between Dmitriy Grankin and Windy Hell, where they discuss their respective experiences in influencer marketing and partnerships with bloggers. Windy shares his recent work with a cryptocurrency exchange, highlighting his role in attracting traders through a blogger partnership program.\n",
       "  > Windy Hell:  В последнее время я для криптобиржи Гейтео, партнерской программы для блогеров.  занимался, привлекал антрейдеров.  Как это выглядит?  Как твоя работа построена?\n",
       "- [05:44] The chunk is part of a conversation between Dmitriy Grankin and Windy Hell, where Dmitriy discusses his product that provides real-time transcription of calls and highlights important information, mentioning Firefly's capabilities in creating automatic transcriptions from various platforms.\n",
       "  > Dmitriy Grankin:  Вот. Firefly создает автоматическую транскрипцию встреч от RAIL, TL9, GONG, CSLock.\n",
       "- [11:54] This chunk occurs during a conversation between Dmitriy Grankin and Windy Hell, where they discuss strategies for collaborating with bloggers to promote a product. Dmitriy is inquiring about the niches they should target and what Windy needs to begin the outreach process.\n",
       "  > Dmitriy Grankin:  Ну, как бы нам надо определить ниши там, да, наверное, как мы определим, кому...  Ну, вот сейчас, допустим, мы с тобой договорились, всё, поехали.  Что ты будешь делать?  Ну, я бы попробовал разные тематики.  Я почав без професійних блогерів.  Павловским нишам, все потом айтишников, дизайнеров, такие нишевые облаки.  дизайнеров слушай ну давай так я не знаю тебе какой-то по ресерчить надо или или что Если предварительно окей, давай. Что тебе от меня нужно? Тебе надо подумать, что ты будешь делать, или тебе надо собрать от меня...  ...информацию сейчас. Что тебе от меня надо, чтобы начать?\n",
       "- [12:08] This chunk occurs during a conversation between Dmitriy Grankin and Windy Hell, where they discuss strategies for collaborating with bloggers to promote a product. Windy suggests exploring various niches and emphasizes the need for an agency contract to formalize the partnerships with bloggers, highlighting the absence of previous financial agreements.\n",
       "  > Windy Hell:  Ну, я бы попробовал разные тематики.  Я почав без професійних блогерів.  Павловским нишам, все потом айтишников, дизайнеров, такие нишевые облаки.  дизайнеров слушай ну давай так я не знаю тебе какой-то по ресерчить надо или или что Если предварительно окей, давай. Что тебе от меня нужно? Тебе надо подумать, что ты будешь делать, или тебе надо собрать от меня...  ...информацию сейчас. Что тебе от меня надо, чтобы начать?  Ну, агентский договор на работу с блогерами.  Который компания будет подписывать с блогерами.  Ну да.  Окей. У тебя шаблон есть, наверное, какой-то?  Да.  Я не подписывал никакого договора с ним.  Потому что у нас никаких денежных отношений не было.  Собственно, он все сделал бесплатно.\n",
       "- [19:21] This chunk occurs towards the end of a conversation between Dmitriy Grankin and Windy Hell, where they discuss strategies for influencer marketing and the next steps for collaborating with bloggers to promote Dmitriy's product. It highlights the planning and indexing of information for effective marketing, as well as setting a timeline for future actions.\n",
       "  > Dmitriy Grankin:  Нужно сделать рагу на это все дело, навернуть, проиндексировать все этот массив для того, чтобы придумать, как его подкидывать в контекст.  то, что называется Retrieval Augmented Generation.  Окей, на чем остановимся?  Я думаю, в пределах двух недель смогу первых блогеров прислать.  с кем можно запустить рекламу.  Ну, окей.  И что тогда, когда в следующий раз  Какой следующий шаг?  Но после того, как на это блогеров, блогер под них.  Ну и всё.  Окей, договорились.\n",
       "- [18:12] This chunk is part of a conversation between Dmitriy Grankin and Windy Hell, where Dmitriy discusses the technical aspects of his product, specifically its ability to transcribe audio to text using Whisper technology and its integration with GPT-4 for processing and contextualization of the transcriptions.\n",
       "  > Dmitriy Grankin:  Потому что я могу на любом языке разговаривать, и он моментально переключится.  А под капотом Charger 5?  Charger 5, он же  Не делает из аудио в текст.  Это идет под капотом Whisper.  Whisper это моделька, которая делает из аудио в текст.  И у них там есть несколько размеров моделей, несколько разных версий, которые очень по-разному место занимают в памяти.  Усилительное устройство и так далее. Я запустил самую тяжелую модель. Она очень легко переключается. Потом дальше это обрабатывается GPT-шкой.  И чат тоже на GPT-4 работает.  Нужно сделать рагу на это все дело, навернуть, проиндексировать все этот массив для того, чтобы придумать, как его подкидывать в контекст.  то, что называется Retrieval Augmented Generation.\n",
       "- [09:21] In this section of the conversation, Dmitriy Grankin is discussing potential collaboration ideas with Windy Hell, specifically focusing on attracting bloggers to promote his product through partnership or free trial offers.\n",
       "  > Dmitriy Grankin:  скорее нет. Вот. И чего? И какие у тебя идеи здесь? Что есть конкретное?  Какая-то идея, какое-то предложение, что мы можем обсудить, что мы можем сделать.  Могу попробовать блогеров 30-40 на таких же условиях привлечь.  А какие такие же?  Ну, по партнёрке или за бесплатный триал попробовать.  По партнёрке или бесплатный триал.\n",
       "- [14:03] This chunk occurs during a conversation between Dmitriy Grankin and Windy Hell, where they discuss the challenges and experiences related to collaborating with a Brazilian influencer. Dmitriy reflects on a previous agreement with a girl who was supposed to help find the influencer but could not continue, leading to a discussion about the nature of work and the expectations for future collaborations with bloggers to attract users to Dmitriy's product.\n",
       "  > Dmitriy Grankin:  У меня был договор, у меня была девушка, которая занималась его поиском этого чувака нашла вы на этом и закончилась она такая в облаках летающая бразильянка Она пропала?  Нет, она не пропала, просто она как-то так, что-то у нее.  Мы не смогли продолжить просто.  но она не в состоянии странных стран не вообще португальцы бразильцы они вообще Вообще от жизни по-другому кайф получаю.  Не обязательно работать и зарабатывать.  Вот, так что ты мне сформулируй, что тебе от меня надо, чтобы начать, и давай попробуем, потому что я не знаю, что. Сформулируй, если еще.  какие-то есть условия, которые для тебя важны. И давай пробовать.  А сколько  в ближайшее время ходится?  темблогеров привлечь или пользователей?\n"
      ],
      "text/plain": [
       "<IPython.core.display.Markdown object>"
      ]
     },
     "metadata": {},
     "output_type": "display_data"
    }
   ],
   "source": [
    "display(Markdown(await context_provider.get_context(user_id=user_id,query=\"Dianna Lloyd\")))"
   ]
  },
  {
   "cell_type": "code",
   "execution_count": 28,
   "metadata": {},
   "outputs": [],
   "source": [
    "chat_manager = UnifiedChatManager(\n",
    "        qdrant_engine=qdrant_engine,\n",
    "        es_engine=es_engine\n",
    "    )"
   ]
  },
  {
   "cell_type": "code",
   "execution_count": 29,
   "metadata": {},
   "outputs": [
    {
     "data": {
      "text/plain": [
       "[]"
      ]
     },
     "execution_count": 29,
     "metadata": {},
     "output_type": "execute_result"
    }
   ],
   "source": [
    "chat_manager.messages"
   ]
  },
  {
   "cell_type": "code",
   "execution_count": 36,
   "metadata": {},
   "outputs": [],
   "source": [
    "\n",
    "@jupyter_stream_output(markdown=True)\n",
    "async def unified_chat(\n",
    "    query: str,\n",
    "    meeting_id: Optional[UUID] = None,\n",
    "    entities: Optional[List[str]] = None,\n",
    "    thread_id: Optional[str] = None,\n",
    "    temperature: float = 0.7\n",
    "):\n",
    "    \"\"\"\n",
    "    Unified chat function supporting both single-meeting and multi-meeting search\n",
    "    \"\"\"\n",
    "    \n",
    "    async for result in chat_manager.chat(\n",
    "        user_id=user_id,\n",
    "        query=query,\n",
    "        meeting_ids=[meeting_id],\n",
    "        entities=entities,\n",
    "        thread_id=thread_id,\n",
    "        temperature=temperature\n",
    "    ):\n",
    "        if 'chunk' in result:\n",
    "            yield result['chunk']\n",
    "        elif 'linked_output' in result:\n",
    "            yield result"
   ]
  },
  {
   "cell_type": "code",
   "execution_count": 37,
   "metadata": {},
   "outputs": [],
   "source": [
    "thread_id=None"
   ]
  },
  {
   "cell_type": "code",
   "execution_count": 47,
   "metadata": {},
   "outputs": [
    {
     "ename": "TypeError",
     "evalue": "string indices must be integers, not 'str'",
     "output_type": "error",
     "traceback": [
      "\u001b[0;31m---------------------------------------------------------------------------\u001b[0m",
      "\u001b[0;31mTypeError\u001b[0m                                 Traceback (most recent call last)",
      "Cell \u001b[0;32mIn[47], line 5\u001b[0m\n\u001b[1;32m      1\u001b[0m r \u001b[38;5;241m=\u001b[39m \u001b[38;5;28;01mawait\u001b[39;00m unified_chat(\n\u001b[1;32m      2\u001b[0m     query\u001b[38;5;241m=\u001b[39m\u001b[38;5;124m\"\u001b[39m\u001b[38;5;124mwhat is vexa\u001b[39m\u001b[38;5;124m\"\u001b[39m,\n\u001b[1;32m      3\u001b[0m     thread_id\u001b[38;5;241m=\u001b[39mthread_id\n\u001b[1;32m      4\u001b[0m )\n\u001b[0;32m----> 5\u001b[0m thread_id \u001b[38;5;241m=\u001b[39m \u001b[43mr\u001b[49m\u001b[43m[\u001b[49m\u001b[38;5;124;43m'\u001b[39;49m\u001b[38;5;124;43mthread_id\u001b[39;49m\u001b[38;5;124;43m'\u001b[39;49m\u001b[43m]\u001b[49m\n",
      "\u001b[0;31mTypeError\u001b[0m: string indices must be integers, not 'str'"
     ]
    }
   ],
   "source": [
    "r = await unified_chat(\n",
    "    query=\"what is vexa\",\n",
    "    thread_id=thread_id\n",
    ")\n",
    "thread_id = r['thread_id']"
   ]
  },
  {
   "cell_type": "code",
   "execution_count": 49,
   "metadata": {},
   "outputs": [
    {
     "name": "stdout",
     "output_type": "stream",
     "text": [
      "what is vexa\n",
      "{'chunk': '**'}\n",
      "{'chunk': 'V'}\n",
      "{'chunk': 'exa'}\n",
      "{'chunk': '**'}\n",
      "{'chunk': ' is'}\n",
      "{'chunk': ' an'}\n",
      "{'chunk': ' innovative'}\n",
      "{'chunk': ' **'}\n",
      "{'chunk': 'assistant'}\n",
      "{'chunk': ' for'}\n",
      "{'chunk': ' Google'}\n",
      "{'chunk': ' Meet'}\n",
      "{'chunk': '**'}\n",
      "{'chunk': ' that'}\n",
      "{'chunk': ' focuses'}\n",
      "{'chunk': ' on'}\n",
      "{'chunk': ' collecting'}\n",
      "{'chunk': ' and'}\n",
      "{'chunk': ' providing'}\n",
      "{'chunk': ' access'}\n",
      "{'chunk': ' to'}\n",
      "{'chunk': ' knowledge'}\n",
      "{'chunk': ' generated'}\n",
      "{'chunk': ' during'}\n",
      "{'chunk': ' meetings'}\n",
      "{'chunk': '.'}\n",
      "{'chunk': ' It'}\n",
      "{'chunk': ' functions'}\n",
      "{'chunk': ' similarly'}\n",
      "{'chunk': ' to'}\n",
      "{'chunk': ' Chat'}\n",
      "{'chunk': 'GPT'}\n",
      "{'chunk': ','}\n",
      "{'chunk': ' general'}\n",
      "{'chunk': 'izing'}\n",
      "{'chunk': ' data'}\n",
      "{'chunk': ' based'}\n",
      "{'chunk': ' on'}\n",
      "{'chunk': ' its'}\n",
      "{'chunk': ' training'}\n",
      "{'chunk': ' to'}\n",
      "{'chunk': ' enhance'}\n",
      "{'chunk': ' user'}\n",
      "{'chunk': ' experience'}\n",
      "{'chunk': ' and'}\n",
      "{'chunk': ' facilitate'}\n",
      "{'chunk': ' knowledge'}\n",
      "{'chunk': ' sharing'}\n",
      "{'chunk': '.'}\n",
      "{'chunk': ' \\n\\n'}\n",
      "{'chunk': 'In'}\n",
      "{'chunk': ' your'}\n",
      "{'chunk': ' discussions'}\n",
      "{'chunk': ','}\n",
      "{'chunk': ' you'}\n",
      "{'chunk': ' mentioned'}\n",
      "{'chunk': ' that'}\n",
      "{'chunk': ' V'}\n",
      "{'chunk': 'exa'}\n",
      "{'chunk': ' is'}\n",
      "{'chunk': ' designed'}\n",
      "{'chunk': ' to'}\n",
      "{'chunk': ' help'}\n",
      "{'chunk': ' users'}\n",
      "{'chunk': ' by'}\n",
      "{'chunk': ' recording'}\n",
      "{'chunk': ' meetings'}\n",
      "{'chunk': ','}\n",
      "{'chunk': ' trans'}\n",
      "{'chunk': 'cribing'}\n",
      "{'chunk': ' discussions'}\n",
      "{'chunk': ','}\n",
      "{'chunk': ' and'}\n",
      "{'chunk': ' summar'}\n",
      "{'chunk': 'izing'}\n",
      "{'chunk': ' key'}\n",
      "{'chunk': ' points'}\n",
      "{'chunk': ','}\n",
      "{'chunk': ' which'}\n",
      "{'chunk': ' can'}\n",
      "{'chunk': ' significantly'}\n",
      "{'chunk': ' improve'}\n",
      "{'chunk': ' team'}\n",
      "{'chunk': ' collaboration'}\n",
      "{'chunk': ' and'}\n",
      "{'chunk': ' knowledge'}\n",
      "{'chunk': ' management'}\n",
      "{'chunk': '.'}\n",
      "{'chunk': ' You'}\n",
      "{'chunk': ' also'}\n",
      "{'chunk': ' highlighted'}\n",
      "{'chunk': ' its'}\n",
      "{'chunk': ' potential'}\n",
      "{'chunk': ' for'}\n",
      "{'chunk': ' **'}\n",
      "{'chunk': 'bottom'}\n",
      "{'chunk': '-up'}\n",
      "{'chunk': '**'}\n",
      "{'chunk': ' penetration'}\n",
      "{'chunk': ' into'}\n",
      "{'chunk': ' companies'}\n",
      "{'chunk': ' through'}\n",
      "{'chunk': ' individual'}\n",
      "{'chunk': ' users'}\n",
      "{'chunk': ','}\n",
      "{'chunk': ' addressing'}\n",
      "{'chunk': ' security'}\n",
      "{'chunk': ' and'}\n",
      "{'chunk': ' privacy'}\n",
      "{'chunk': ' concerns'}\n",
      "{'chunk': ' by'}\n",
      "{'chunk': ' allowing'}\n",
      "{'chunk': ' organizations'}\n",
      "{'chunk': ' to'}\n",
      "{'chunk': ' deploy'}\n",
      "{'chunk': ' their'}\n",
      "{'chunk': ' own'}\n",
      "{'chunk': ' V'}\n",
      "{'chunk': 'exa'}\n",
      "{'chunk': ' backend'}\n",
      "{'chunk': ' within'}\n",
      "{'chunk': ' their'}\n",
      "{'chunk': ' infrastructure'}\n",
      "{'chunk': ' if'}\n",
      "{'chunk': ' needed'}\n",
      "{'chunk': '['}\n",
      "{'chunk': '10'}\n",
      "{'chunk': ']['}\n",
      "{'chunk': '29'}\n",
      "{'chunk': ']['}\n",
      "{'chunk': '3'}\n",
      "{'chunk': '].\\n\\n'}\n",
      "{'chunk': 'As'}\n",
      "{'chunk': ' you'}\n",
      "{'chunk': ' continue'}\n",
      "{'chunk': ' to'}\n",
      "{'chunk': ' develop'}\n",
      "{'chunk': ' V'}\n",
      "{'chunk': 'exa'}\n",
      "{'chunk': ','}\n",
      "{'chunk': ' consider'}\n",
      "{'chunk': ' exploring'}\n",
      "{'chunk': ' new'}\n",
      "{'chunk': ' integrations'}\n",
      "{'chunk': ' and'}\n",
      "{'chunk': ' features'}\n",
      "{'chunk': ' that'}\n",
      "{'chunk': ' can'}\n",
      "{'chunk': ' enhance'}\n",
      "{'chunk': ' its'}\n",
      "{'chunk': ' value'}\n",
      "{'chunk': ' for'}\n",
      "{'chunk': ' users'}\n",
      "{'chunk': ','}\n",
      "{'chunk': ' especially'}\n",
      "{'chunk': ' in'}\n",
      "{'chunk': ' environments'}\n",
      "{'chunk': ' where'}\n",
      "{'chunk': ' tools'}\n",
      "{'chunk': ' like'}\n",
      "{'chunk': ' Microsoft'}\n",
      "{'chunk': ' Teams'}\n",
      "{'chunk': ' are'}\n",
      "{'chunk': ' prevalent'}\n",
      "{'chunk': '['}\n",
      "{'chunk': '3'}\n",
      "{'chunk': '].'}\n",
      "{'thread_id': '1d251579-3d42-4670-8cee-bec9ba72f2f6', 'linked_output': '**Vexa** is an innovative **assistant for Google Meet** that focuses on collecting and providing access to knowledge generated during meetings. It functions similarly to ChatGPT, generalizing data based on its training to enhance user experience and facilitate knowledge sharing. \\n\\nIn your discussions, you mentioned that Vexa is designed to help users by recording meetings, transcribing discussions, and summarizing key points, which can significantly improve team collaboration and knowledge management. You also highlighted its potential for **bottom-up** penetration into companies through individual users, addressing security and privacy concerns by allowing organizations to deploy their own Vexa backend within their infrastructure if needed[10](/meeting/15af0212-e418-4476-8586-085581bfd8c9) [29](/meeting/161f80a4-135f-4aa4-b2fc-84dec9d6445c) [3](/meeting/d6b623d8-542e-40ed-8660-cdb9efceaf81).\\n\\nAs you continue to develop Vexa, consider exploring new integrations and features that can enhance its value for users, especially in environments where tools like Microsoft Teams are prevalent[3](/meeting/d6b623d8-542e-40ed-8660-cdb9efceaf81).'}\n"
     ]
    }
   ],
   "source": [
    "async for result in chat_manager.chat(\n",
    "        user_id=user_id,\n",
    "        query='what is vexa',\n",
    "    ):\n",
    "    print(result)"
   ]
  },
  {
   "cell_type": "code",
   "execution_count": 52,
   "metadata": {},
   "outputs": [
    {
     "name": "stdout",
     "output_type": "stream",
     "text": [
      "what is vexa why is it called so?\n",
      "{'chunk': 'The'}\n",
      "{'chunk': ' name'}\n",
      "{'chunk': ' **'}\n",
      "{'chunk': 'V'}\n",
      "{'chunk': 'exa'}\n",
      "{'chunk': '**'}\n",
      "{'chunk': ' likely'}\n",
      "{'chunk': ' derives'}\n",
      "{'chunk': ' from'}\n",
      "{'chunk': ' the'}\n",
      "{'chunk': ' concept'}\n",
      "{'chunk': ' of'}\n",
      "{'chunk': ' **'}\n",
      "{'chunk': '\"'}\n",
      "{'chunk': 'v'}\n",
      "{'chunk': 'ex'}\n",
      "{'chunk': 'ation'}\n",
      "{'chunk': ',\"'}\n",
      "{'chunk': '**'}\n",
      "{'chunk': ' which'}\n",
      "{'chunk': ' refers'}\n",
      "{'chunk': ' to'}\n",
      "{'chunk': ' the'}\n",
      "{'chunk': ' act'}\n",
      "{'chunk': ' of'}\n",
      "{'chunk': ' causing'}\n",
      "{'chunk': ' annoyance'}\n",
      "{'chunk': ' or'}\n",
      "{'chunk': ' frustration'}\n",
      "{'chunk': '.'}\n",
      "{'chunk': ' This'}\n",
      "{'chunk': ' could'}\n",
      "{'chunk': ' symbolize'}\n",
      "{'chunk': ' the'}\n",
      "{'chunk': ' tool'}\n",
      "{'chunk': \"'s\"}\n",
      "{'chunk': ' purpose'}\n",
      "{'chunk': ' of'}\n",
      "{'chunk': ' allev'}\n",
      "{'chunk': 'iating'}\n",
      "{'chunk': ' the'}\n",
      "{'chunk': ' frustrations'}\n",
      "{'chunk': ' often'}\n",
      "{'chunk': ' associated'}\n",
      "{'chunk': ' with'}\n",
      "{'chunk': ' managing'}\n",
      "{'chunk': ' and'}\n",
      "{'chunk': ' accessing'}\n",
      "{'chunk': ' knowledge'}\n",
      "{'chunk': ' in'}\n",
      "{'chunk': ' meetings'}\n",
      "{'chunk': '.'}\n",
      "{'chunk': ' By'}\n",
      "{'chunk': ' providing'}\n",
      "{'chunk': ' a'}\n",
      "{'chunk': ' streamlined'}\n",
      "{'chunk': ' way'}\n",
      "{'chunk': ' to'}\n",
      "{'chunk': ' capture'}\n",
      "{'chunk': ','}\n",
      "{'chunk': ' organize'}\n",
      "{'chunk': ','}\n",
      "{'chunk': ' and'}\n",
      "{'chunk': ' retrieve'}\n",
      "{'chunk': ' information'}\n",
      "{'chunk': ','}\n",
      "{'chunk': ' V'}\n",
      "{'chunk': 'exa'}\n",
      "{'chunk': ' aims'}\n",
      "{'chunk': ' to'}\n",
      "{'chunk': ' reduce'}\n",
      "{'chunk': ' the'}\n",
      "{'chunk': ' vex'}\n",
      "{'chunk': 'ation'}\n",
      "{'chunk': ' that'}\n",
      "{'chunk': ' users'}\n",
      "{'chunk': ' experience'}\n",
      "{'chunk': ' when'}\n",
      "{'chunk': ' trying'}\n",
      "{'chunk': ' to'}\n",
      "{'chunk': ' keep'}\n",
      "{'chunk': ' track'}\n",
      "{'chunk': ' of'}\n",
      "{'chunk': ' important'}\n",
      "{'chunk': ' discussions'}\n",
      "{'chunk': ' and'}\n",
      "{'chunk': ' decisions'}\n",
      "{'chunk': ' made'}\n",
      "{'chunk': ' during'}\n",
      "{'chunk': ' meetings'}\n",
      "{'chunk': '.\\n\\n'}\n",
      "{'chunk': 'Additionally'}\n",
      "{'chunk': ','}\n",
      "{'chunk': ' the'}\n",
      "{'chunk': ' name'}\n",
      "{'chunk': ' may'}\n",
      "{'chunk': ' also'}\n",
      "{'chunk': ' evoke'}\n",
      "{'chunk': ' a'}\n",
      "{'chunk': ' sense'}\n",
      "{'chunk': ' of'}\n",
      "{'chunk': ' **'}\n",
      "{'chunk': '\"'}\n",
      "{'chunk': 'v'}\n",
      "{'chunk': 'ex'}\n",
      "{'chunk': 'ing'}\n",
      "{'chunk': '\"'}\n",
      "{'chunk': '**'}\n",
      "{'chunk': ' challenges'}\n",
      "{'chunk': ' in'}\n",
      "{'chunk': ' knowledge'}\n",
      "{'chunk': ' management'}\n",
      "{'chunk': ','}\n",
      "{'chunk': ' suggesting'}\n",
      "{'chunk': ' that'}\n",
      "{'chunk': ' V'}\n",
      "{'chunk': 'exa'}\n",
      "{'chunk': ' is'}\n",
      "{'chunk': ' designed'}\n",
      "{'chunk': ' to'}\n",
      "{'chunk': ' tackle'}\n",
      "{'chunk': ' these'}\n",
      "{'chunk': ' challenges'}\n",
      "{'chunk': ' head'}\n",
      "{'chunk': '-on'}\n",
      "{'chunk': ','}\n",
      "{'chunk': ' making'}\n",
      "{'chunk': ' it'}\n",
      "{'chunk': ' easier'}\n",
      "{'chunk': ' for'}\n",
      "{'chunk': ' users'}\n",
      "{'chunk': ' to'}\n",
      "{'chunk': ' navigate'}\n",
      "{'chunk': ' their'}\n",
      "{'chunk': ' information'}\n",
      "{'chunk': ' landscape'}\n",
      "{'chunk': ' effectively'}\n",
      "{'chunk': '.'}\n",
      "{'chunk': ' This'}\n",
      "{'chunk': ' aligns'}\n",
      "{'chunk': ' with'}\n",
      "{'chunk': ' your'}\n",
      "{'chunk': ' goal'}\n",
      "{'chunk': ' of'}\n",
      "{'chunk': ' creating'}\n",
      "{'chunk': ' a'}\n",
      "{'chunk': ' **'}\n",
      "{'chunk': 'central'}\n",
      "{'chunk': 'ized'}\n",
      "{'chunk': ' hub'}\n",
      "{'chunk': ' for'}\n",
      "{'chunk': ' project'}\n",
      "{'chunk': '-related'}\n",
      "{'chunk': ' information'}\n",
      "{'chunk': '**'}\n",
      "{'chunk': ' within'}\n",
      "{'chunk': ' companies'}\n",
      "{'chunk': ','}\n",
      "{'chunk': ' enhancing'}\n",
      "{'chunk': ' knowledge'}\n",
      "{'chunk': ' sharing'}\n",
      "{'chunk': ' and'}\n",
      "{'chunk': ' collaboration'}\n",
      "{'chunk': '['}\n",
      "{'chunk': '23'}\n",
      "{'chunk': ']'}\n",
      "{'chunk': '(/'}\n",
      "{'chunk': 'meeting'}\n",
      "{'chunk': '/'}\n",
      "{'chunk': '1'}\n",
      "{'chunk': 'e'}\n",
      "{'chunk': '0'}\n",
      "{'chunk': 'c'}\n",
      "{'chunk': '1'}\n",
      "{'chunk': 'c'}\n",
      "{'chunk': '1'}\n",
      "{'chunk': 'e'}\n",
      "{'chunk': '-'}\n",
      "{'chunk': '1'}\n",
      "{'chunk': 'c'}\n",
      "{'chunk': '1'}\n",
      "{'chunk': 'e'}\n",
      "{'chunk': '-'}\n",
      "{'chunk': '4'}\n",
      "{'chunk': 'c'}\n",
      "{'chunk': '1'}\n",
      "{'chunk': 'e'}\n",
      "{'chunk': '-'}\n",
      "{'chunk': '8'}\n",
      "{'chunk': 'c'}\n",
      "{'chunk': '1'}\n",
      "{'chunk': 'e'}\n",
      "{'chunk': '-'}\n",
      "{'chunk': '1'}\n",
      "{'chunk': 'c'}\n",
      "{'chunk': '1'}\n",
      "{'chunk': 'e'}\n",
      "{'chunk': '1'}\n",
      "{'chunk': 'c'}\n",
      "{'chunk': '1'}\n",
      "{'chunk': 'e'}\n",
      "{'chunk': '1'}\n",
      "{'chunk': 'c'}\n",
      "{'chunk': '1'}\n",
      "{'chunk': 'e'}\n",
      "{'chunk': ').'}\n",
      "{'thread_id': '1d251579-3d42-4670-8cee-bec9ba72f2f6', 'linked_output': 'The name **Vexa** likely derives from the concept of **\"vexation,\"** which refers to the act of causing annoyance or frustration. This could symbolize the tool\\'s purpose of alleviating the frustrations often associated with managing and accessing knowledge in meetings. By providing a streamlined way to capture, organize, and retrieve information, Vexa aims to reduce the vexation that users experience when trying to keep track of important discussions and decisions made during meetings.\\n\\nAdditionally, the name may also evoke a sense of **\"vexing\"** challenges in knowledge management, suggesting that Vexa is designed to tackle these challenges head-on, making it easier for users to navigate their information landscape effectively. This aligns with your goal of creating a **centralized hub for project-related information** within companies, enhancing knowledge sharing and collaboration[23](/meeting/6a3451aa-f18c-4211-8140-fbc77ea7ba05)(/meeting/1e0c1c1e-1c1e-4c1e-8c1e-1c1e1c1e1c1e).'}\n"
     ]
    }
   ],
   "source": [
    "async for result in chat_manager.chat(\n",
    "        user_id=user_id,\n",
    "        query='why is it called so?',\n",
    "        thread_id=thread_id\n",
    "    ):\n",
    "    print(result)"
   ]
  },
  {
   "cell_type": "code",
   "execution_count": 56,
   "metadata": {},
   "outputs": [
    {
     "name": "stdout",
     "output_type": "stream",
     "text": [
      "{'chunk': '**'}\n",
      "{'chunk': 'V'}\n",
      "{'chunk': 'exa'}\n",
      "{'chunk': '**'}\n",
      "{'chunk': ' is'}\n",
      "{'chunk': ' an'}\n",
      "{'chunk': ' innovative'}\n",
      "{'chunk': ' **'}\n",
      "{'chunk': 'assistant'}\n",
      "{'chunk': ' for'}\n",
      "{'chunk': ' Google'}\n",
      "{'chunk': ' Meet'}\n",
      "{'chunk': '**'}\n",
      "{'chunk': ' that'}\n",
      "{'chunk': ' focuses'}\n",
      "{'chunk': ' on'}\n",
      "{'chunk': ' enhancing'}\n",
      "{'chunk': ' knowledge'}\n",
      "{'chunk': ' management'}\n",
      "{'chunk': ' and'}\n",
      "{'chunk': ' collaboration'}\n",
      "{'chunk': ' during'}\n",
      "{'chunk': ' virtual'}\n",
      "{'chunk': ' meetings'}\n",
      "{'chunk': '.'}\n",
      "{'chunk': ' It'}\n",
      "{'chunk': ' collects'}\n",
      "{'chunk': ' and'}\n",
      "{'chunk': ' provides'}\n",
      "{'chunk': ' access'}\n",
      "{'chunk': ' to'}\n",
      "{'chunk': ' knowledge'}\n",
      "{'chunk': ' generated'}\n",
      "{'chunk': ' during'}\n",
      "{'chunk': ' these'}\n",
      "{'chunk': ' meetings'}\n",
      "{'chunk': ','}\n",
      "{'chunk': ' making'}\n",
      "{'chunk': ' it'}\n",
      "{'chunk': ' easier'}\n",
      "{'chunk': ' for'}\n",
      "{'chunk': ' users'}\n",
      "{'chunk': ' to'}\n",
      "{'chunk': ' reference'}\n",
      "{'chunk': ' and'}\n",
      "{'chunk': ' utilize'}\n",
      "{'chunk': ' information'}\n",
      "{'chunk': ' discussed'}\n",
      "{'chunk': '.\\n\\n'}\n",
      "{'chunk': '###'}\n",
      "{'chunk': ' Key'}\n",
      "{'chunk': ' Features'}\n",
      "{'chunk': ' of'}\n",
      "{'chunk': ' V'}\n",
      "{'chunk': 'exa'}\n",
      "{'chunk': ':\\n'}\n",
      "{'chunk': '-'}\n",
      "{'chunk': ' **'}\n",
      "{'chunk': 'Real'}\n",
      "{'chunk': '-time'}\n",
      "{'chunk': ' Trans'}\n",
      "{'chunk': 'cription'}\n",
      "{'chunk': '**'}\n",
      "{'chunk': ':'}\n",
      "{'chunk': ' V'}\n",
      "{'chunk': 'exa'}\n",
      "{'chunk': ' trans'}\n",
      "{'chunk': 'cribes'}\n",
      "{'chunk': ' meetings'}\n",
      "{'chunk': ' in'}\n",
      "{'chunk': ' real'}\n",
      "{'chunk': '-time'}\n",
      "{'chunk': ','}\n",
      "{'chunk': ' allowing'}\n",
      "{'chunk': ' participants'}\n",
      "{'chunk': ' to'}\n",
      "{'chunk': ' focus'}\n",
      "{'chunk': ' on'}\n",
      "{'chunk': ' discussions'}\n",
      "{'chunk': ' without'}\n",
      "{'chunk': ' worrying'}\n",
      "{'chunk': ' about'}\n",
      "{'chunk': ' taking'}\n",
      "{'chunk': ' notes'}\n",
      "{'chunk': '.\\n'}\n",
      "{'chunk': '-'}\n",
      "{'chunk': ' **'}\n",
      "{'chunk': 'Knowledge'}\n",
      "{'chunk': ' Access'}\n",
      "{'chunk': '**'}\n",
      "{'chunk': ':'}\n",
      "{'chunk': ' It'}\n",
      "{'chunk': ' organizes'}\n",
      "{'chunk': ' and'}\n",
      "{'chunk': ' stores'}\n",
      "{'chunk': ' the'}\n",
      "{'chunk': ' information'}\n",
      "{'chunk': ' shared'}\n",
      "{'chunk': ' during'}\n",
      "{'chunk': ' meetings'}\n",
      "{'chunk': ','}\n",
      "{'chunk': ' making'}\n",
      "{'chunk': ' it'}\n",
      "{'chunk': ' easily'}\n",
      "{'chunk': ' retr'}\n",
      "{'chunk': 'ievable'}\n",
      "{'chunk': ' for'}\n",
      "{'chunk': ' future'}\n",
      "{'chunk': ' reference'}\n",
      "{'chunk': '.\\n'}\n",
      "{'chunk': '-'}\n",
      "{'chunk': ' **'}\n",
      "{'chunk': 'User'}\n",
      "{'chunk': '-Friendly'}\n",
      "{'chunk': ' Interface'}\n",
      "{'chunk': '**'}\n",
      "{'chunk': ':'}\n",
      "{'chunk': ' The'}\n",
      "{'chunk': ' tool'}\n",
      "{'chunk': ' is'}\n",
      "{'chunk': ' designed'}\n",
      "{'chunk': ' to'}\n",
      "{'chunk': ' be'}\n",
      "{'chunk': ' intuitive'}\n",
      "{'chunk': ','}\n",
      "{'chunk': ' ensuring'}\n",
      "{'chunk': ' that'}\n",
      "{'chunk': ' users'}\n",
      "{'chunk': ' can'}\n",
      "{'chunk': ' navigate'}\n",
      "{'chunk': ' and'}\n",
      "{'chunk': ' utilize'}\n",
      "{'chunk': ' its'}\n",
      "{'chunk': ' features'}\n",
      "{'chunk': ' without'}\n",
      "{'chunk': ' extensive'}\n",
      "{'chunk': ' training'}\n",
      "{'chunk': '.\\n'}\n",
      "{'chunk': '-'}\n",
      "{'chunk': ' **'}\n",
      "{'chunk': 'Integration'}\n",
      "{'chunk': ' Cap'}\n",
      "{'chunk': 'abilities'}\n",
      "{'chunk': '**'}\n",
      "{'chunk': ':'}\n",
      "{'chunk': ' V'}\n",
      "{'chunk': 'exa'}\n",
      "{'chunk': ' can'}\n",
      "{'chunk': ' integrate'}\n",
      "{'chunk': ' with'}\n",
      "{'chunk': ' existing'}\n",
      "{'chunk': ' tools'}\n",
      "{'chunk': ' and'}\n",
      "{'chunk': ' platforms'}\n",
      "{'chunk': ','}\n",
      "{'chunk': ' enhancing'}\n",
      "{'chunk': ' its'}\n",
      "{'chunk': ' functionality'}\n",
      "{'chunk': ' and'}\n",
      "{'chunk': ' making'}\n",
      "{'chunk': ' it'}\n",
      "{'chunk': ' a'}\n",
      "{'chunk': ' versatile'}\n",
      "{'chunk': ' addition'}\n",
      "{'chunk': ' to'}\n",
      "{'chunk': ' any'}\n",
      "{'chunk': \" team's\"}\n",
      "{'chunk': ' workflow'}\n",
      "{'chunk': '.\\n\\n'}\n",
      "{'chunk': '###'}\n",
      "{'chunk': ' Why'}\n",
      "{'chunk': ' is'}\n",
      "{'chunk': ' V'}\n",
      "{'chunk': 'exa'}\n",
      "{'chunk': ' Good'}\n",
      "{'chunk': '?\\n'}\n",
      "{'chunk': '-'}\n",
      "{'chunk': ' **'}\n",
      "{'chunk': 'Impro'}\n",
      "{'chunk': 'ves'}\n",
      "{'chunk': ' Productivity'}\n",
      "{'chunk': '**'}\n",
      "{'chunk': ':'}\n",
      "{'chunk': ' By'}\n",
      "{'chunk': ' autom'}\n",
      "{'chunk': 'ating'}\n",
      "{'chunk': ' the'}\n",
      "{'chunk': ' transcription'}\n",
      "{'chunk': ' and'}\n",
      "{'chunk': ' organization'}\n",
      "{'chunk': ' of'}\n",
      "{'chunk': ' meeting'}\n",
      "{'chunk': ' notes'}\n",
      "{'chunk': ','}\n",
      "{'chunk': ' V'}\n",
      "{'chunk': 'exa'}\n",
      "{'chunk': ' allows'}\n",
      "{'chunk': ' team'}\n",
      "{'chunk': ' members'}\n",
      "{'chunk': ' to'}\n",
      "{'chunk': ' concentrate'}\n",
      "{'chunk': ' on'}\n",
      "{'chunk': ' the'}\n",
      "{'chunk': ' conversation'}\n",
      "{'chunk': ' rather'}\n",
      "{'chunk': ' than'}\n",
      "{'chunk': ' note'}\n",
      "{'chunk': '-taking'}\n",
      "{'chunk': '.\\n'}\n",
      "{'chunk': '-'}\n",
      "{'chunk': ' **'}\n",
      "{'chunk': 'Enh'}\n",
      "{'chunk': 'ances'}\n",
      "{'chunk': ' Collaboration'}\n",
      "{'chunk': '**'}\n",
      "{'chunk': ':'}\n",
      "{'chunk': ' With'}\n",
      "{'chunk': ' easy'}\n",
      "{'chunk': ' access'}\n",
      "{'chunk': ' to'}\n",
      "{'chunk': ' past'}\n",
      "{'chunk': ' discussions'}\n",
      "{'chunk': ' and'}\n",
      "{'chunk': ' decisions'}\n",
      "{'chunk': ','}\n",
      "{'chunk': ' teams'}\n",
      "{'chunk': ' can'}\n",
      "{'chunk': ' collaborate'}\n",
      "{'chunk': ' more'}\n",
      "{'chunk': ' effectively'}\n",
      "{'chunk': ' and'}\n",
      "{'chunk': ' ensure'}\n",
      "{'chunk': ' that'}\n",
      "{'chunk': ' everyone'}\n",
      "{'chunk': ' is'}\n",
      "{'chunk': ' on'}\n",
      "{'chunk': ' the'}\n",
      "{'chunk': ' same'}\n",
      "{'chunk': ' page'}\n",
      "{'chunk': '.\\n'}\n",
      "{'chunk': '-'}\n",
      "{'chunk': ' **'}\n",
      "{'chunk': 'Supports'}\n",
      "{'chunk': ' Knowledge'}\n",
      "{'chunk': ' Ret'}\n",
      "{'chunk': 'ention'}\n",
      "{'chunk': '**'}\n",
      "{'chunk': ':'}\n",
      "{'chunk': ' V'}\n",
      "{'chunk': 'exa'}\n",
      "{'chunk': ' helps'}\n",
      "{'chunk': ' organizations'}\n",
      "{'chunk': ' retain'}\n",
      "{'chunk': ' valuable'}\n",
      "{'chunk': ' knowledge'}\n",
      "{'chunk': ' generated'}\n",
      "{'chunk': ' during'}\n",
      "{'chunk': ' meetings'}\n",
      "{'chunk': ','}\n",
      "{'chunk': ' which'}\n",
      "{'chunk': ' can'}\n",
      "{'chunk': ' be'}\n",
      "{'chunk': ' crucial'}\n",
      "{'chunk': ' for'}\n",
      "{'chunk': ' onboarding'}\n",
      "{'chunk': ' new'}\n",
      "{'chunk': ' team'}\n",
      "{'chunk': ' members'}\n",
      "{'chunk': ' and'}\n",
      "{'chunk': ' maintaining'}\n",
      "{'chunk': ' continuity'}\n",
      "{'chunk': '.\\n'}\n",
      "{'chunk': '-'}\n",
      "{'chunk': ' **'}\n",
      "{'chunk': 'Addresses'}\n",
      "{'chunk': ' Security'}\n",
      "{'chunk': ' Conc'}\n",
      "{'chunk': 'erns'}\n",
      "{'chunk': '**'}\n",
      "{'chunk': ':'}\n",
      "{'chunk': ' V'}\n",
      "{'chunk': 'exa'}\n",
      "{'chunk': ' offers'}\n",
      "{'chunk': ' solutions'}\n",
      "{'chunk': ' for'}\n",
      "{'chunk': ' companies'}\n",
      "{'chunk': ' with'}\n",
      "{'chunk': ' strict'}\n",
      "{'chunk': ' security'}\n",
      "{'chunk': ' and'}\n",
      "{'chunk': ' privacy'}\n",
      "{'chunk': ' policies'}\n",
      "{'chunk': ','}\n",
      "{'chunk': ' allowing'}\n",
      "{'chunk': ' them'}\n",
      "{'chunk': ' to'}\n",
      "{'chunk': ' deploy'}\n",
      "{'chunk': ' their'}\n",
      "{'chunk': ' own'}\n",
      "{'chunk': ' backend'}\n",
      "{'chunk': ' infrastructure'}\n",
      "{'chunk': ' if'}\n",
      "{'chunk': ' needed'}\n",
      "{'chunk': ','}\n",
      "{'chunk': ' ensuring'}\n",
      "{'chunk': ' data'}\n",
      "{'chunk': ' security'}\n",
      "{'chunk': '.\\n\\n'}\n",
      "{'chunk': 'As'}\n",
      "{'chunk': ' you'}\n",
      "{'chunk': ' continue'}\n",
      "{'chunk': ' to'}\n",
      "{'chunk': ' develop'}\n",
      "{'chunk': ' V'}\n",
      "{'chunk': 'exa'}\n",
      "{'chunk': ','}\n",
      "{'chunk': ' focusing'}\n",
      "{'chunk': ' on'}\n",
      "{'chunk': ' these'}\n",
      "{'chunk': ' features'}\n",
      "{'chunk': ' and'}\n",
      "{'chunk': ' benefits'}\n",
      "{'chunk': ' will'}\n",
      "{'chunk': ' be'}\n",
      "{'chunk': ' essential'}\n",
      "{'chunk': ' in'}\n",
      "{'chunk': ' attracting'}\n",
      "{'chunk': ' users'}\n",
      "{'chunk': ' and'}\n",
      "{'chunk': ' demonstrating'}\n",
      "{'chunk': ' the'}\n",
      "{'chunk': ' value'}\n",
      "{'chunk': ' of'}\n",
      "{'chunk': ' the'}\n",
      "{'chunk': ' tool'}\n",
      "{'chunk': ' in'}\n",
      "{'chunk': ' enhancing'}\n",
      "{'chunk': ' virtual'}\n",
      "{'chunk': ' collaboration'}\n",
      "{'chunk': '.'}\n",
      "{'thread_id': '1d251579-3d42-4670-8cee-bec9ba72f2f6', 'output': \"**Vexa** is an innovative **assistant for Google Meet** that focuses on enhancing knowledge management and collaboration during virtual meetings. It collects and provides access to knowledge generated during these meetings, making it easier for users to reference and utilize information discussed.\\n\\n### Key Features of Vexa:\\n- **Real-time Transcription**: Vexa transcribes meetings in real-time, allowing participants to focus on discussions without worrying about taking notes.\\n- **Knowledge Access**: It organizes and stores the information shared during meetings, making it easily retrievable for future reference.\\n- **User-Friendly Interface**: The tool is designed to be intuitive, ensuring that users can navigate and utilize its features without extensive training.\\n- **Integration Capabilities**: Vexa can integrate with existing tools and platforms, enhancing its functionality and making it a versatile addition to any team's workflow.\\n\\n### Why is Vexa Good?\\n- **Improves Productivity**: By automating the transcription and organization of meeting notes, Vexa allows team members to concentrate on the conversation rather than note-taking.\\n- **Enhances Collaboration**: With easy access to past discussions and decisions, teams can collaborate more effectively and ensure that everyone is on the same page.\\n- **Supports Knowledge Retention**: Vexa helps organizations retain valuable knowledge generated during meetings, which can be crucial for onboarding new team members and maintaining continuity.\\n- **Addresses Security Concerns**: Vexa offers solutions for companies with strict security and privacy policies, allowing them to deploy their own backend infrastructure if needed, ensuring data security.\\n\\nAs you continue to develop Vexa, focusing on these features and benefits will be essential in attracting users and demonstrating the value of the tool in enhancing virtual collaboration.\", 'service_content': {'output': \"**Vexa** is an innovative **assistant for Google Meet** that focuses on enhancing knowledge management and collaboration during virtual meetings. It collects and provides access to knowledge generated during these meetings, making it easier for users to reference and utilize information discussed.\\n\\n### Key Features of Vexa:\\n- **Real-time Transcription**: Vexa transcribes meetings in real-time, allowing participants to focus on discussions without worrying about taking notes.\\n- **Knowledge Access**: It organizes and stores the information shared during meetings, making it easily retrievable for future reference.\\n- **User-Friendly Interface**: The tool is designed to be intuitive, ensuring that users can navigate and utilize its features without extensive training.\\n- **Integration Capabilities**: Vexa can integrate with existing tools and platforms, enhancing its functionality and making it a versatile addition to any team's workflow.\\n\\n### Why is Vexa Good?\\n- **Improves Productivity**: By automating the transcription and organization of meeting notes, Vexa allows team members to concentrate on the conversation rather than note-taking.\\n- **Enhances Collaboration**: With easy access to past discussions and decisions, teams can collaborate more effectively and ensure that everyone is on the same page.\\n- **Supports Knowledge Retention**: Vexa helps organizations retain valuable knowledge generated during meetings, which can be crucial for onboarding new team members and maintaining continuity.\\n- **Addresses Security Concerns**: Vexa offers solutions for companies with strict security and privacy policies, allowing them to deploy their own backend infrastructure if needed, ensuring data security.\\n\\nAs you continue to develop Vexa, focusing on these features and benefits will be essential in attracting users and demonstrating the value of the tool in enhancing virtual collaboration.\", 'context': '##  [42] - June 17, 2024 13:00\\n\\n- [16:09] The chunk is part of a conversation between Mystic Wizard and Polar Vulture discussing the implementation and visualization of clustering algorithms in their project. Mystic Wizard refers to a dashboard and a file that illustrates their work, indicating a focus on improving the understanding and presentation of their data analysis process.\\n  > Mystic Wizard:  Пластер это, вот смотри, сейчас у меня тут тогда есть получше файлик для этих целей, сейчас я покажу их для себя нарисован.  наш дашборд  наш дашборд сейчас утомляет встречу видишь вот вот вот такая штука здесь посту ли она глядя на дело рисовал Здесь просто более наглядно я это дело рисовал.  Вы, кстати, писали, скорее всего, что сейчас ассистент помер.  Что там?  Не помер он, просто неправильно.\\n- [00:40] The chunk occurs early in a conversation between Mystic Wizard and Polar Vulture, where they discuss their work on a coding project, specifically focusing on reviewing and thinking about the code they are working with.\\n  > Mystic Wizard:  Так, ну ладно, так, ну давай, давай просто посмотрим код и подумаем, что с ним делать, например, вот так.  Угу, давай, вот так.\\n- [00:08] The chunk is part of a conversation between Mystic Wizard and Polar Vulture discussing their work schedules and upcoming vacations, set against a backdrop of technical discussions about audio processing and clustering algorithms.\\n  > Mystic Wizard:  Последний день перед отпуском на основной работе.  Блин, то понос, то золотова.  Все мое, блин.  У тебя два дня отпуск?  Нет, у меня четыре со вторника по пятницу на основной работе, а здесь я отдохну в среду в четверг, завтра я в Строюгово.  А, окей.\\n- [01:11] The chunk is part of a conversation between Mystic Wizard and Polar Vulture discussing the implementation and functionality of a vector store in their project. They are analyzing code and iterating through functions related to audio processing and speaker identification, reflecting on the results of their manual iterations and the data they are receiving.\\n  > Mystic Wizard:  Что у нас тут есть? У нас есть вот этот вектор store, который сейчас у нас работает в отдельном отдельном контейнере как обычно это нам здесь нужно так чисто для сердца тут у нас несколько  функций вот несколько функций это все там где ты скинул до в 02 до 10 какой-то файл  Вот, и у нас вот просто сейчас типа вручную по одной итерации самостоятельно делаю.  вот и у нас просто сейчас типа вручную по одной итерации самостоятельно делаю раз запустил вот видишь получил какое-то вот какие то какие то люди четко ловили Вот, раз, запустил, вот, видишь, получил какое-то, вот, какие-то люди что-то говорили.\\n\\n##  [32] - June 07, 2024 13:36\\n\\n- [05:46] The chunk is part of a feedback session where the user, Emerald Astronaut, discusses the features and usability of a software extension, highlighting the quick response time of the assistant\\'s messages as a positive aspect.\\n  > Emerald Astronaut:  Да, сообщение появляется практически мгновенно, это супер классно, это отлично, даже лавер не нужен, вообще огонь.\\n- [02:38] The chunk is part of a discussion by Emerald Astronaut regarding the functionality and user experience of a software extension, specifically addressing the timing and frequency of request intervals for processing messages.\\n  > Emerald Astronaut:  понемногу этих реквестов, не знаю, может быть, 30 секунд или 20 секунд понемногу этих реквестов, не знаю, может быть, 30 секунд, 20 секунд отсечки.  отсечки.\\n- [00:31] The chunk is part of a feedback session where the speaker, Emerald Astronaut, discusses user interface improvements for a software extension, specifically mentioning the microphone connection and the desire for a hover feature.\\n  > Emerald Astronaut:  единственный маленький коммент декоративный, было бы круто, чтобы здесь был ховер. Вот так все У меня здесь появилась индикация, что подключен мой микрофон. Вначале там нужно было выбрать, но сейчас он по дефолту уже здесь. Это вообще отлично, что он сохраняет микрофон выбранный до этого. Прекрасно.\\n- [02:44] The chunk is part of a feedback session where the Emerald Astronaut is providing suggestions for improving a software extension, specifically addressing issues related to message visibility and readability.\\n  > Emerald Astronaut:  У меня здесь небольшое предложение.  В общем, у меня здесь небольшое предложение.\\n\\n##  [45] - June 17, 2024 22:27\\n\\n- [00:00] The chunk is a response from Obsidian Falcon, likely in a discussion or evaluation of a project, idea, or performance, indicating a positive assessment of progress or quality.\\n  > Obsidian Falcon:  Да, это уже неплохо.\\n\\n##  [40] - June 17, 2024 11:51\\n\\n- [00:00] The chunk is part of a conversation between Mystic Wizard and Polar Vulture discussing issues related to meeting transcriptions and session management in a software system. It serves as the opening of their dialogue, setting the stage for a technical discussion about bugs and system behavior.\\n  > Mystic Wizard:  Алло, алло.  А, привет.  Да, привет.\\n- [07:00] The document is a conversation between Mystic Wizard and Polar Vulture discussing technical issues related to meeting transcriptions and session management in a software system. The chunk reflects Polar Vulture\\'s optimism about releasing the first version of their project and the potential for further development, including creating a service bus between services.\\n  > Polar Vulture:  И релизнем первую версию, и уже можно разгуляться и сделать вообще шину между сервисами.\\n\\n##  [10] - December 06, 2024 16:21\\n\\n- [2024-12-06 16:21:35] The document discusses Dmitriy Grankin\\'s vision for VXR, focusing on creating a platform for recording and sharing online events, enhancing community engagement, and utilizing collaborative indexing to generate valuable content from meetups. The chunk highlights the capability to record large gatherings of participants using the same virtual experience (VX).\\n  > Dmitriy Grankin:  So, This way we can record meetups of enormous amount of people with the same VXs we have.\\n\\n##  [29] - December 06, 2024 12:05\\n\\n- [2024-12-06 12:05:37] This chunk is part of a discussion led by Dmitriy Grankin about a meeting management tool that records and transcribes meetings, providing summaries and key points. It highlights the features of the tool, including the ability to create participant tables and summarize discussions.\\n  > Dmitriy Grankin:  Yeah, so we\\'ve got Meetings. This is one which is ongoing meeting now. This one is that that is what I have been recording and transcribing. It\\'s a little summary of what what was about with some key points and i can continue like create a table of participants ...people mentioned with description, something like this.\\n\\n##  [21] - December 05, 2024 11:02\\n\\n- [2024-12-05 11:02:09] In this conversation, Alex Shevliakov discusses the growth strategies of different tech products, specifically comparing Loom\\'s approach of sharing screen recordings to the internal information-sharing capabilities of VEX. He reflects on the importance of organic growth and product-led strategies, noting the lack of advertising and reliance on user sharing for growth in their respective markets.\\n  > Alex Shevliakov:  То есть я сразу вспоминаю, например, Loom, который просто запись экрана и потом шар, они как раз росли за счет того, что один и тот же кейс записи экрана.  раскручивали по-разному.  И он работает, в том числе, как ты говоришь, за счет шара, потому что люди стали друг другу это шарить.  А там кейс чуть другой.  Там не так, что это...  То есть это не...  Не внутренняя информация компании, а любой человек может любому человеку отправить.  А здесь я не знаю.  Мне кажется, что ценность даже больше у VEX именно в том, чтобы информацию внутри компании генерировать и получать. Не знаю, как там будет шар работать на органическом  Ну, я пообщался с клиентом, я ему скинул ссылочку. Мне не нужен никакой файл, флоп делает может быть вот сама разбирайся чем это но это здесь ничего нового Нет, делают все конкуренты, и по косвенным признакам видно, что у них никакого другого механизма роста и нет, кроме органического.  Нет никакой рекламы, есть вот трафик весь органический, либо брендовый в поисковике, либо прямой заход на сайт. Откуда это берется?  Должен быть какой-то то, что называется product-led growth.\\n\\n##  [34] - December 04, 2024 15:32\\n\\n- [2024-12-04 15:32:04] This chunk is part of a conversation between Jasper Vanuytrecht and Dmitry Grankin, where they discuss their current locations and the weather while Jasper is on vacation in Catalonia and Dmitry is in Cascais, Portugal.\\n  > Jasper Vanuytrecht:  how is it going good I\\'m spending some days at the coast here in Catalonia  what\\'s the weather like it\\'s a little bit cold uh like well  cold you know 10 15 degrees oh yeah but it\\'s funny and you\\'re in cascades uh yeah not far  It\\'s about 20, I think now, this morning it was 16.  Okay, and it\\'s Cascais, right?  It\\'s 20 kilometers from Kashkash.  Okay.  If you\\'re familiar with the area, I can be more specific.  Okay.  I\\'ve just been to Lisbon yeah it\\'s it\\'s about the same distance from Lisbon to like 20 kilometers\\n\\n##  [33] - December 10, 2024 11:01\\n\\n- [2024-12-10 11:01:18] This chunk occurs during a conversation between Waqas Arshad and Dmitry Grankin, where they discuss the features and user experience of a Chrome extension for transcribing Google Meet meetings. Waqas inquires about the visibility of the transcription process to other meeting participants and highlights a competitive advantage of the product, emphasizing its discreet operation compared to other tools.\\n  > Waqas Arshad:  Okay, so basically only the person who is using this Chrome extension will know that you are actually transcribing this meeting.  Other people will not know about that, right?  Yeah.  supposed to send a message to the uh to the um to the to the uh google meet message and uh Yeah, I just got the message now.  Yeah.  I mean, did you send it manually or is it an automatic message that every recipient in the meeting would receive it?  Yes.  it\\'s supposed to be an automatic message it\\'s another one it\\'s uh it\\'s a competitor i\\'m testing now my messages are don\\'t are not sent for some reason i need to check it okay okay okay no problem so dimitri i see  i was actually i also checked your product hand page and i was actually i read those uh comments that people have given to your product.  And I was really amazed to see, I mean, this major competitive advantage that you just mentioned about that it doesn\\'t add a new, as a separate person in the meeting.  So the bot is not something that annoys the customers and the UX is kind of a little bit better.\\n\\n##  [39] - June 20, 2024 13:12\\n\\n- [09:02] This chunk discusses the availability of code related to large graph generative models, highlighting its potential and limitations, and emphasizes the early stage of development in this area, following a detailed explanation of the methodology and applications of the models presented earlier in the document.\\n  > Scarlet Sorcerer:  beautiful now have a look at the code this here is here the github library and if you play around with the cope with the code a little bit I noticed well yes this is what I would call here very nice publication but of course it does not show us the real potential what is developed here you just have a kind of a sandbox with the code get familiar yourself and see what you can do but I think we are just at the beginning here for large graph generative models here.\\n\\n##  [27] - December 02, 2024 17:27\\n\\n- [2024-12-02 17:27:53] This chunk occurs towards the end of a conversation where Dmitriy Grankin is reviewing a tool called Tactic, discussing features such as labeling and action items, and expressing confusion about certain functionalities before transitioning to the next topic.\\n  > Dmitriy Grankin:  label conference long create new label labels label yeah labeling is a good idea okay basically that\\'s it okay let\\'s move forward action okay because me i told so which i just don\\'t get it why what\\'s that maybe it\\'s um kann da gast und prompt automatically insert um ok, my prompt Herzlich Willkommen bei Tchau.\\n\\n##  [43] - June 14, 2024 09:36\\n\\n- [00:34] The chunk is part of a technical discussion between two individuals, Mystic Wizard and Polar Vulture, regarding the handling of session management and transcription retrieval in a software system. They are troubleshooting issues related to distinguishing between old and new sessions, focusing on connection tracking rather than speech data.\\n  > Polar Vulture:  Потому что я прям проверял этот механизм отделения старой сессии от новой.  Ну да, но ты же как раз начинаешь новую сессию, у тебя еще ни одного спичата нет.  Но я не по спичам ориентируюсь, а по коннекшнам ориентируюсь.  Коннекшнам...  Окей, но я тогда не знаю.  Тогда да, я посмотрю.  Я сейчас через опишку запросил транскрипт для нашего Дейлика.  Он не выдал...  Если я сейчас пойду... Ой, давай я сейчас эту самую демонстрацию покажу.  Вот, в общем, да.  А как быть, ну, ты сейчас какой его у тебя? Не запускал сейчас?  Не, я...\\n\\n##  [35] - June 09, 2024 09:51\\n\\n- [08:00] This chunk discusses the implementation of a conditional edge in the LandGraph framework, which determines whether a tool should be invoked based on the input from a human message. It explains how the LLM (Large Language Model) makes decisions to call tools, using the example of invoking a \"magic function\" and routing the necessary information to a tool node for execution. This is part of a broader explanation on building LLM agents using open-source LLMs, specifically focusing on tool use and decision-making processes within the agent\\'s architecture.\\n  > Dreamy Sorcerer:  seen, right? Now what we\\'re going to do in LandGraph is, we\\'re going to add basically what we\\'re going to call a conditional edge. So this edge is going to, all it\\'s going to do is say, was there a tool call or not? If there was, You\\'ve seen right now what we\\'re going to do in Landgraf is we\\'re going to add basic. We\\'re going to call a conditional edge. So this edge is going to all it\\'s going to do is say, was there a tool call or not? If they\\'re first, we\\'re going to take our input. Again, it\\'s a human message. We pass that to our alone.  which has the bound tools. The LLM is going to make a decision to use a tool or not. Now we just walk through this. That\\'s the step one. That\\'s this thing we\\'ve already seen, right? Now what we\\'re going to do in LandGraph is we\\'re going to add basically what we\\'re going to call a A conditional edge this edge is going to all it\\'s going to do is say was there a tool call or not if there was a tool call I\\'m going to route that over to a separate node that basically runs the tool let\\'s walk through with our example we just did.  what is magic function of three the llm make the decision to invoke the magic function and it gave it had the it gave us the payload right we just saw that so that\\'s arguments input is three name is magic function those get plumbed over to what we\\'re going to call tool node, which actually invokes the necessary tool. So it\\'s going to basically take in this name magic function. It\\'s going to look up magic function itself. And it\\'s basically as a tool message to the LLM.  That\\'s all it\\'s gonna go on.  LLM\\'s gonna see that tool message.  It\\'s gonna make a decision about what to do next.  And eventually this is gonna keep running until there\\'s a natural language response.\\n- [00:02] The document discusses the process of building LLM agents using open-source LLMs, specifically LLAMA3, and outlines the central components of agents, including planning, memory, and tool use. The chunk introduces the concept of an agent, setting the stage for a deeper exploration of its components and functionalities.\\n  > Dreamy Sorcerer:  So first, what is an agent?\\n\\n##  [25] - June 11, 2024 10:44\\n\\n- [19:10] This chunk introduces the concept of knowledge graphs as a solution to the limitations of Retrieval Augmented Generation (RAG) systems, highlighting their structure of nodes and edges that represent entities and their relationships, which can enhance information retrieval and reasoning capabilities.\\n  > Polar Paladin:  So here is when knowledge graphs come into the picture.  So what is a knowledge graph?  So what is a knowledge graph?  Very high level knowledge graph is a graph of some nodes and edges.  Very high level knowledge graph is a graph of some nodes and edges.  So what are these nodes and edges?  So what are these nodes and edges?  These are a bunch of entities and the relationships between These are a bunch of entities and the relationships between these entities.  You represent that as a graph.\\n- [02:20] The chunk is part of a discussion on Retrieval Augmented Generation (RAG) techniques, where Nova Alchemist introduces RAG and references previous videos that explain its fundamentals and comparisons with frameworks like Lanchain and Llama Index. This context is situated within a broader conversation about enhancing information retrieval and response generation using RAG and knowledge graphs.\\n  > Nova Alchemist:  This solution is called RAG, Retrieval Augmented Generation.  We have talked about RAG in some videos in more details.  We recently had a video about, oh, you need to know about basic RAG.  details we recently had a video about oh you need to know about basic rat where we introduce how to build basic rep from scratch and contrasting how to do that versus framework like lan chain and llama index to do that versus framework like Lanchain and Llama Index.  Check that one out if you\\'re interested.  Henry Suryawirawan, All right.\\n\\n##  [2] - December 11, 2024 18:31\\n\\n- [2024-12-11 18:31:31] This chunk occurs during a discussion between Lara Vargas and Dmitriy Grankin about strategies for influencer marketing and content creation for VEXA. Lara is seeking clarification on the next steps in their collaborative efforts after sharing her ideas and insights on potential use cases for the tool.\\n  > Lara Vargas:  so uh what do you feel the next step should be i am now that\\'s what i\\'ve been doing now\\n\\n##  [9] - December 05, 2024 10:02\\n\\n- [2024-12-05 10:02:26] The chunk is part of a conversation between Dmitry Grankin and Oleg Ageychev, where Dmitry discusses his project, Vexia, an assistant for Google Meet that collects and provides access to knowledge. He compares its functionality to that of ChatGPT, explaining how it generalizes data based on its training.\\n  > Dmitry Grankin:  версию общаюсь вот показываю что у меня есть еще резонанс и понятно Ну, в общем, векция – это ассистент для Google Meet, который собирает знания, дает им доступ.  А можешь ты меня пояснить, что подразумевается подзнание?  Ну, вот когда в чат GPT заходишь и там что-то ищешь, что-то спрашиваешь, Он генерализирует данные, на которых обучался.\\n\\n##  [17] - June 05, 2024 13:30\\n\\n- [00:25] The document features a conversation among several individuals, including Mystic Wizard, Radiant Wasp, and Quiet Siren, discussing various topics, including communication and plans for eating. The chunk reflects Quiet Siren\\'s commentary on a previous discussion about tickets with someone named Vitya, indicating her awareness of the conversation\\'s context.\\n  > Quiet Siren:  Смотрела я билеты с Витей, поэтому я это и услышала, понимаешь, не только он услышал.\\n- [00:30] The chunk occurs during a conversation where participants discuss their experiences and observations related to a previous event, with Quiet Siren reflecting on her understanding of a situation based on context.\\n  > Quiet Siren:  Я потом из контекста догадалась, что...\\n\\n##  [20] - June 21, 2024 18:00\\n\\n- [02:08] The chunk is part of a conversation among several individuals discussing their professional backgrounds and interests in knowledge extraction, machine learning, and related technologies. Silver Pegasus highlights a shared interest in knowledge extraction as a universal problem that affects their work from different perspectives.\\n  > Silver Pegasus:  Мы в некотором смысле имеем общий интерес в плане knowledge extraction.  потому что это достаточно универсальная проблема.  Она нас немножко с разных позиций интересует.\\n- [16:40] The chunk is part of a discussion among several participants, including Silver Pegasus, about the challenges and strategies in knowledge extraction and classification within various domains, particularly focusing on legal documents and the use of machine learning models in corporate settings. It highlights the complexity of creating specialized classifications and references the experiences of large companies like Sanofi in dealing with similar issues.\\n  > Silver Pegasus:  свободная тематика тем сложнее будет то есть условно говоря если искать специализация скажем фокус на обсуждение юридических документов то ты там можешь классификацию задавать немножко исходя из субъекта гражданское право или уголовное право и так далее и у тебя эта структура будет структура будет с экспертной стороны тем можно один раз попробовать вытащить или в общем контексте запускать. В общем контексте не знаю, насколько это легко. Знаю, что те решения, с которыми большие компании сталкиваются, опять же, я рынок прям не мониторил, но когда разговариваешь с какими-нибудь Sanofi, у них есть похожие решения.  У них есть похожая проблема. Они взаимодействуют с экспертами, чтобы продавать им свои товары.  Им скрипты нужно писать.  2 и так далее.  И они просто большую бустинг-модель гоняют, и АБ-тесты к ней доставляют, и все.  И вообще голову не включают в плане контекста туда.  То есть там довольно...\\n- [00:10] The chunk occurs during a conversation where Silver Pegasus introduces a colleague from Tübingen, indicating a transition to discussing their professional backgrounds and areas of expertise in machine learning and knowledge extraction.\\n  > Silver Pegasus:  Я упоминал, коротко, да, вот он.\\n- [12:02] The chunk is part of a discussion among several professionals about their respective projects and interests in machine learning, knowledge extraction, and AI applications. Specifically, \"Whispering Pioneer\" is describing a startup focused on developing a tool for experts to enhance client interactions, emphasizing data collection and AI-driven recommendations. This conversation explores various technical aspects and potential collaborations in the field.\\n  > Whispering Pioneer:  деле у нас в старта который мы сейчас разрабатываем есть запрос подобную штуку то есть я не запрос подобную штуку то есть я не знаю в каком виде мы ее будем реализовывать но это запроса, подобная штука, то есть я не знаю, в каком виде мы ее будем реализовывать, но это промежуточная такая стадия, потому что у нас стартап про скинкер, и скинкер, я не знаю, как это по-русски, и хоже.  рассмотреть и продвигать бесплатно для экспертов, которые общаются с клиентами, чтобы, с одной стороны, шел сбор данных для нас, как происходит эта консультация, и как раз, собственно говоря, подобная штука, а с другой стороны, ну, помогать им в каком-то смысле с предварительными предварительными, условно говоря, рекомендациями от AI.\\n- [03:00] The chunk is part of a discussion among several participants about knowledge extraction, ontological modeling, and the use of formal models in data representation. Mystic Wizard is seeking clarification on the nature of a specific model being discussed, questioning whether it resembles a graph and how it relates to standard descriptions in various contexts, including the World Wide Web.\\n  > Mystic Wizard:  А вот это что-то вроде графа, да, или что?  Там, ну, формально это формальная модель, как-нибудь, это автологично звучит.  То есть это...  Способ описаний, приведенный к некоторому стандарту.  Он может быть графовым, например, в World Wide Web графовый, но может быть разным, может быть просто схематически некоторое представление стандарта.\\n- [41:02] This chunk is part of a conversation among several participants discussing the intersection of business, technology, and research, specifically focusing on knowledge extraction, machine learning, and the potential for innovative applications in these fields. Mystic Wizard expresses a desire to explore and implement interesting ideas, highlighting the gap between academic research and practical applications in production environments.\\n  > Mystic Wizard:  Да, я для себя понял, что когда у меня будут на поверхности будут животрепещущие вопросы, связанные с этими вещами, по бизнесу вот то тогда я это все дело сформулирую каким-то образом и предложу это дело обсудить хорошо будет очень интересно что хочется сделать что-то крутое вариантов прям мощи много всяких разных мне кажется что можно покрутить и выкатить действительно что-то очень интересное, хотя бы просто потому, что в продакшене ничего нет, а в научной среде очень много.  В среде научно-практической тоже довольно-таки много всего, что просто можно, просто можно код запускать раз для чужих, посмотреть, что из этого получается как минимум, да.  Ну да, низковисящих фруктов много в этом смысле, людей, способных это втаскивать в оборот меньше.  Я такую миссию себе беру, потому что на большую науку уже, наверное, нет.  Хотя кто его знает, может быть, в процессе.  работы с фактически фактически в процессе всей этой деятельности но большая наука\\n- [01:47] The chunk is part of a conversation among several individuals discussing their professional backgrounds and expertise in fields such as machine learning, causal inference, and knowledge extraction. Silver Pegasus is introducing his colleague Vlad, highlighting their complementary skills in neural networks and probabilistic modeling.\\n  > Silver Pegasus:  и нейронки, особенно глубокие сети, но чуть больше в вероятностное моделирование и управление знаниями.  Влад хороший, имеет экспертизу ровно в обратном.\\n- [14:52] The chunk is part of a discussion among several participants, including Mystic Wizard, about knowledge extraction, semantic representation, and the challenges of structuring and categorizing information in the context of machine learning and data analysis. It specifically addresses the idea of creating compressed representations of meaning through the selection of important tokens from text, emphasizing the importance of semantic accuracy and the need to avoid redundancy in representing similar entities.\\n  > Mystic Wizard:  тегов формировать сжатые репрезентации смысла, то есть ограничить теми токенами, которые присутствуют в тексте, но выбирать самые важные токены для того, чтобы семантически токены для того чтобы семантическое соответствие было максимально получается очень сжатая репрезентация с которой что-то можно делать вот то есть дальше планы такие то есть пристал как на эту базу отстроим то есть основная работа на конечно Основная работа, она, конечно, будет находиться вот в этом.  дублировали себя чтобы не было множество разных похожих сущности означающих одно и\\n- [27:25] In this section of the document, Silver Pegasus suggests sharing information about auto-extraction and relevant articles within a specific professional community. He offers to assist in connecting with clients in finance or law and proposes organizing discussions around these topics to enhance collaboration and knowledge sharing among participants.\\n  > Silver Pegasus:  Я предлагаю немножко поделиться информацией, есть ли пересечение по авто экстракшен есть несколько статей сегодня по вытаскивание профильное предметное комьюнити и посмотреть, насколько эти статьи выдают что-то разумное в терминах этого комьюнити. С комьюнити в Лондоне я могу помочь, если вы Будут клиенты, которые попадают под финансы или юриспруденцию.  Можно их пособирать, поискать какой-то пул людей и попробовать это организовать.  всем сторонам.  Но начать можно с обсуждения некоторых статей про это, про все.\\n- [08:12] The chunk is part of a conversation among several participants discussing their experiences and insights related to advancements in technology, particularly in the fields of machine learning, knowledge extraction, and applications in various industries, including fintech. Silver Pegasus shares observations about the lack of effective solutions in production and mentions recent discussions with professionals from Revolut regarding new features being developed in banking technology.\\n  > Silver Pegasus:  Я тоже не очень много в проде видел уже хороших решений.  я тоже не очень много вроде видел уже хороших решений я знаю что техподдержки особенно разного Я знаю, что техподдержки, особенно разного финтеха, сейчас с этим много экспериментируют.  финтеха сейчас с этим много экспериментируют я пару недель назад разговаривал с чуваками Я пару недель назад разговаривал с чуваками из Революта, кто этим занимается.  Новые фичи выкатываются внутри самого банкинга.  Просто какое-то регулирование или событие случается, на которое начинают обращать внимание и так далее.\\n- [39:13] The chunk is part of a discussion among several participants about knowledge extraction, data modeling, and the application of machine learning techniques in various industries. Mystic Wizard expresses interest in applying a data model to extract ontologies and suggests sharing information and collaborating further on this topic.\\n  > Mystic Wizard:  Да, применить какую-то модель массива данных, подготовить репорт, посмотреть.  Я могу на каком-то этапе, если это будет интересная любопытность.  повытаскивать антологов на свет божий их попросить присоединиться посмотреть можно Не будет, что показывать или что обсуждать.  Ну, как-то так.  Поэтому я в течение недели-двух просто позакидываю эту информацию, наверное, в Директ.  И если будет время...\\n- [05:37] The chunk is part of a conversation among several participants discussing their backgrounds, expertise, and projects related to machine learning, knowledge extraction, and startup developments. Specifically, Whispering Pioneer inquires about the technical aspects and language support of a startup\\'s product that utilizes Whisper technology, indicating a focus on practical applications and integrations in the tech industry.\\n  > Whispering Pioneer:  А можно вопрос по стартапам? Мне просто интересно, какие языки поддерживаются у вас?  Ну, это Whisper, они там...  Ага, то есть обертка вокруг Whisper, а...  сам интерфейс это он тоже использует что-то в духе зума или это полностью какая-то коса\\n- [10:35] The chunk is part of a conversation among several participants discussing topics related to machine learning, knowledge extraction, and the application of these technologies in business contexts. Mystic Wizard is expressing thoughts on the demand for capturing specific terminology and data related to business interactions, while also acknowledging a moment of distraction.\\n  > Mystic Wizard:  люди до хотят зафиксировать вот спрос идет сейчас оба перечислили там ряд люди до хотят зафиксировать спрос идет сейчас оба перечислили там ряд всяких специфических всяких специфических терминов для меня да то есть мне их И подумаю, что с ним делать.  Ага, да.  Что это?  Ой.  Сори, это я случайно нажал на play в своем геймпаде.  Очень удивился.\\n- [01:39] The chunk is part of a conversation among professionals discussing their backgrounds and expertise in fields such as behavioral economics, causal inference, and machine learning. Silver Pegasus introduces himself and highlights his experience related to demand forecasting and causal inference, setting the stage for a broader discussion on knowledge extraction and related topics.\\n  > Silver Pegasus:  основной специальности вообще поведенческий экономист я косвенно записался в основном формате того что Я много делал разных вещей для компаний, связанных с прогнозированием спроса и козл-инференсом как таковым. Я чуть-чуть меньше в машинное обучение.\\n- [36:27] The chunk is part of a discussion among several participants, including Silver Pegasus, about knowledge extraction, semantic models, and ontological systems. It specifically addresses the importance of maintaining closed operations within models, using algebra as an analogy, and emphasizes the necessity of spatial coordinates for objects in a semantic or ontological framework to reduce confusion during information accumulation.\\n  > Silver Pegasus:  менять элементы модели к самой себе, то output, который вы получите, не будет выходить за границы самой модели. Это может быть применено как к формальным моделям со всем. Например, вы какую-нибудь алгебру возьмете, вам нужно что-то чтобы операции были замкнуты, чтобы не было такого, что вы возьмете, например, корень из двух, а ответа нет в базовой алгебре.  в такую семантическую или онтологическую систему, замкнутую, скажем, на пространство.  Можно сказать, что любой объект должен иметь координаты в пространстве.  Вы не можете ввести объект без пространственных координат.  Если вы переложите какой-то объект или сделаете себе объект, операции, у них все равно или останутся такие же координаты, они все равно или останутся такие же координаты, или они переместятся.  или они переместятся.  В этом смысле это тоже будет замкнутая В этом смысле это тоже будет замкнутая система, система, у которой путаницы будет меньше при накоплении у которой путаницы будет меньше при накоплении информации, информации, потому что вы всегда можете Наверное.\\n- [23:24] The chunk is part of a discussion among several participants about the technical aspects and infrastructure of a startup focused on machine learning and knowledge extraction. Mystic Wizard is explaining the server setup and resource requirements for their model, emphasizing that the models are not small enough to run on client devices and discussing the efficiency and cost-effectiveness of their server configuration.\\n  > Mystic Wizard:  клиентском устройстве нет это не на клиентском нашем локальном сервере не настолько маленькие клиентском устройстве нет это не на клиентском нашем локальном сервере нет не настолько маленькие модельки да и но они на гэп ушках крутишь шкида и насколько какой масштаб ну у нас стоят у нас 8 пушек стоит два сервера на 4 но это прям ну как бы это не то чтобы прям вот столько надо на самом деле это  это окупилась как-то достаточно быстро это дешевле получается чем на использовать какой-то\\n- [00:52] The chunk is part of a conversation among professionals discussing their backgrounds and areas of expertise, specifically focusing on topics related to machine learning, causal inference, and knowledge extraction within the context of their work in Germany.\\n  > Silver Pegasus:  в Германии с разнонаправленным фокусом, в том числе занимающийся causal inference и explainable ML. Там довольно большой кластер.\\n- [38:32] The chunk is part of a discussion among several participants, including Silver Pegasus, Mystic Wizard, and Whispering Pioneer, about knowledge extraction, machine learning, and the potential for collaboration on projects involving data analysis and ontology development. Silver Pegasus suggests focusing on exchanging articles and technical discussions to explore the feasibility of implementing their ideas, emphasizing the importance of using both external and internal data for experimentation.\\n  > Silver Pegasus:  Поэтому я первую часть обсуждения предлагаю все еще вернуть просто к обмену статьями и техническому обсуждению, насколько это реально где-нибудь развернуть и поиграться.  Если это реально, Развернуть и поиграться. Дальше, может быть, еще разок созвониться, обсудить более конкретно какой-то массив данных, который может для этого подойти и так далее.  Это может быть внешняя вещь, это может быть внутренняя вещь на ваших данных.  У вас есть достаточно интересного, и вы можете себе позволить потом, например, в агрегированном, анонимизированном виде что-нибудь из этого на свет божий вытащить и сказать «смотрите, как классно выходит».  Тоже вполне, я думаю, нас всех устроит.\\n- [00:19] The chunk occurs during an introduction phase of a conversation among several participants, where Silver Pegasus is welcoming a colleague who has just joined the discussion and is about to introduce both himself and Vlad to the group.\\n  > Silver Pegasus:  А, вон, все, он здесь.  Привет.  Добрый, добрый вечер.  Ну я тогда коротко, наверное, нас с Владом представлю.\\n- [22:13] The chunk is part of a conversation among several participants discussing technical aspects of machine learning and knowledge extraction, specifically focusing on the implementation and commercialization of AI models in various industries. Whispering Pioneer is inquiring about the technical details and practical applications of these models, including their deployment and client experiences.\\n  > Whispering Pioneer:  Дмитрий, меня опять интересует какая техническая составляющая, мне просто это очень близко. А что-то уже внедрено в индустрию, что-то уже продается?  какие-то клиенты есть по похожим моделям просто полом как это происходит например вот меня просто вопросы там костов интересуют если все ранится локально то люди могут посмотреть как это все ранен ранится там и не всегда это приятно или условно говоря есть какой-то клауд локальном смысле на ранится там и не всегда это приятно или условно говоря есть какой-то клауд локальном смысле на\\n\\n##  [46] - June 21, 2024 10:14\\n\\n- [21:00] This chunk is part of a conversation between two individuals, Polar Vulture and Mystic Wizard, discussing technical issues related to Docker, Redis, and project development. They also touch on personal topics, including potential relocation and financial considerations, while planning their next steps in the project.\\n  > Polar Vulture:  А, ну, ноль стримов, окей, хорошо.  Чего у нас там в Янгах находится?  В Янгах все хорошо.  Чего у нас там в йенах находятся?  В йенах все хорошо.  Чего у нас там в йенах находится? В йенах все хорошо.  Та-та-та-та-та-та-та-та.  Порт вроде не занят, по крайней мере, не должен.  Ну хорошо, теперь я делаю докер.  Он у меня, видишь, там наверху закаменчанный Докер Компоуз, вот он А, ну я вижу Вот ты делаешь Докер Компоуз тире, а я и тире делаю Может быть в этом тоже какая-то истрастия от разных Ну вот, пошел, билдит сам Ну вот, пошел, бил лица.  Так, все, смотрим, чего, потому что рейтинг, что с рейтингом не то.  А, да, кстати, смотри, да, тут тоже момент, смотри, ты, у нас Смотри, это вот тоже момент, смотри, у нас на самом деле нет никакого смысла exposure делать Redis наружу, потому что он у нас обслуживает API внутри. Поэтому это нужно делать только когда необходимо вытаскивать папку.  топи внутри. Поэтому броутит, а ты его наружу вытаскиваешь, и у тебя начинаются всякие конфликты на хосте по портам.  Поэтому я рекомендую посмотреть на эту сторону, в интернете тоже есть всякие статьи, которые объясняют, что вы, скорее всего, неправильно занимаетесь нетворкингом докера, и там вот как раз начинается надворкингом докера вот это вот как раз начинается с этого что не надо все вытаскивать что надо надворкингом докера. И там вот как раз начинается все с этого, что не надо все вытаскивать, что надо Да, я все обновил, потом форкнул в отдельную ветку, что-то начал делать, потом обратно откатился, потому что оно не взлетело.  Но Энф обновленный, потому что он в гит и нере, в гит и норе.  в гит и нире, в гит и норе.  Вот, так что, ну, это, в общем, да, надо сделать, но, в общем, сейчас у нас с тобой есть хоть, может, без разницы.  В принципе, пока я сейчас доделаю мёд, мёд, что-то тут причешу.  А я сейчас доделаю мертвый, вот этот вот причешу.  Ну я тогда с этим, да, с портами тоже разберусь,  я понял.  У нас конфликтует как раз вот этот трейдер и тот трейдер.  Да, естественно.  Потому что они, а все потому что, в принципе, они нам Да, естественно, потому что они нам на самом деле не нужны на хосте. У тебя через API все построено.  Хорошо, я это уберу.  Все хорошо, тогда давай разделяемся, через час-полтора сфоткаемся.  Ага, все хорошо, тогда давай разделяемся, через час-полтора ситкаемся.  Ты в Таиланд не задумывал переезжать, нет?  Нет, там слишком жарко для меня.  Ну...  нет, там слишком жарко для меня, точнее даже душно, не то что жарко ну уж куда-нибудь просто, на самом деле с тобой проблем потом не оберешься ну в плане?  с тобой проблем потом не берешься в плане в плане с локациями забанит ну просто даже у тебя же это сам не надо будет у меня щас там счета открываются и порядок все это переводить Там счета открываются, и надо будет порядок все это переводить, право-право переводить, вот.  Как бы, если бы у тебя там был хотя бы счет открыт где-нибудь за границей, я бы мог там, ну, типа, какой-нибудь utility bill там, ну, еще, еще, ну, просто я бы тебе там какой-нибудь заграничный счет, окей.  билдом еще еще это не то чтобы прям конец света но в принципе если ты начнешь в эту  Ну, в принципе, хотелось бы узнать просто, какие у тебя есть на этот счет мысли.  Не, я из своего, на Сибири  не перееду, не смогу.  Ну, ладно.  Будем с тобой сходить.  Вот, окей, ничего, я думаю, Будем за тобой сходить.  Вот, ничего, я думаю, найдем решение этого вопроса.  Вот, ну или что-нибудь, может быть, предназначение.  Ну, или что-нибудь, может быть, придумаешь что-нибудь получше.  Я не знаю, я попробовал, что-то с зарубежных счетов, что-то.  Ну, можно попробовать на той бирже, может быть, там можно счетов.  Ага, хотя я же к России привязан, чего я же не смогу.  может быть, там можно что-то... Хотя я же к России привязан, почему я же не смогу? Зараза.  Ну, можно, если прям сильно припрёт и у меня прям без вариантов будет, то тогда, в принципе, у тебя будет вариант...  прям без вариантов будет, то тогда, в принципе, у тебя будет вариант, ну, проработаем какую-нибудь схему по типу того, что тебе надо будет просто счет открыть, чтобы счет открыть, ну, не знаю, ну, в Армении сгоняешь, откроешь счет где-нибудь в Казахстане, в Армении.  В Армении сгоняешь, откроешь счет где-нибудь в Казахстане, в Армении, получишь там utility bill какой-нибудь и нарисуешь какой-то utility.  Ну, это опять же я не смогу, я сейчас не выездной, здесь по семейным обстоятельствам.  Ну, там посмотрим уже ближе к полю.  Ну, там посмотрим уже в ближайшем ходе, но тут что-то с этим проблемой не надо.  В смысле, у тебя нет этого, что ли, паспорта заграник?  В смысле, у тебя нет этого, что ли, паспорта за границей?  За границей сделать это без проблем, это на самом деле пофиг.  Паспорт заграник сделать ты без проблем, это на самом деле пофиг.  Я в целом сейчас с ритмом жизни и прочей-прочей не имею возможности сейчас куда-то выехать.  Я в целом сейчас с ритмом жизни и прочее-прочее не имею возможности сейчас куда-нибудь выехать.  То есть, типа там, что, на неделю не можешь выехать?  Неа, никак. У меня пока сейчас свободные дела.  Сейчас вроде и не надо. На сейчас, я думаю, может, они будут придумывать.  Угу, ну хорошо.  Сейчас вроде и не надо, но сейчас, я думаю, мы что-нибудь придумаем.  Когда стартап реально будет стоить 100 миллионов, а это может случиться, то ты понимаешь, что для тебя здесь хорошие перспективы.  как бы, ну, для тебя здесь, ну, и хорошая перспектива, да и вообще, ну, слушай, ты, я тебе гарантирую, что, как бы, просто если ты выйдешь нормально, ну, по крайней мере, твой ценник, как минимум,  в четыре раза вырастет. Это было бы шикарно.  И твой ценник как минимум в 4 раза вырастет.  Это было бы шикарно.  Ну, понятно, что затраты тоже вырастут, как минимум в 2.  Но, как бы, вот, сам понимаешь, как бы...  А когда полежать может?\\n\\n##  [26] - June 17, 2024 11:07\\n\\n- [03:26] The chunk is part of a conversation among various mystical characters discussing the functionality and real-time updates of a system or tool, highlighting the excitement and effectiveness of its operation.\\n  > Mystic Wizard:  Да, еще и обновляет.  Да, еще и обновляет в реальном времени.\\n- [04:18] The chunk occurs in a conversation among various mystical characters discussing the functionality of a system, with Mariner Comet signaling the end of their interaction.\\n  > Mariner Comet:  See you then.\\n- [09:22] The chunk is part of a conversation among various mystical characters discussing the functionality of a system, with Blazing Samurai expressing enthusiasm and approval about the situation, emphasizing its positive aspects.\\n  > Blazing Samurai:  Ну и что, это очень хорошо, это очень сталь, это очень хорошо, это очень сталь.\\n- [08:54] The chunk occurs during a conversation among various mystical characters discussing the functionality of a system, with Blazing Samurai expressing enthusiasm and prompting further dialogue.\\n  > Blazing Samurai:  Ну что?\\n- [04:02] The chunk features Polar Wanderer expressing approval or excitement in response to a discussion about a system or feature that is functioning well, following a conversation among various mystical characters about the effectiveness and real-time updates of their communication.\\n  > Polar Wanderer:  Это, конечно, круто.\\n\\n##  [18] - December 13, 2024 11:30\\n\\n- [2024-12-13 11:30:30] The chunk occurs during a conversation between Viktoria Kharlamova and Dmitry Grankin, where they discuss the development and features of a product aimed at enhancing knowledge management within a company. Viktoria is summarizing her understanding of the product\\'s goal as a centralized hub for project-related information.\\n  > Viktoria Kharlamova:  если я правильно понимаю, то то, куда вы движетесь, это какой-то умный хаб всех знаний внутри компании, всех проектов. Вот. Ну, соответственно, вы просто будете больше структурировать.\\n\\n##  [4] - December 12, 2024 16:00\\n\\n- [2024-12-12 16:00:42] This chunk occurs during a conversation between Dmitry Grankin and representatives from AI Marketing Directory, where they discuss the current state of Dmitry\\'s company, Vexa, and its focus on supporting founder-led growth while updating their landing page and product offerings.\\n  > Dmitry Grankin:  okay so the idea is that you help founders uh leading uh leading founder-led growth yeah and um  And I guess we\\'re like in the process of like updating our actual landing page, which is, you know, like we were like very, you know, we have a couple of test clients that we\\'ve been working with.  For the most part, you know, we\\'re in sort of the embryonic stages of it. I guess you could say So you\\'re in the process of building?  your product Say it again. You\\'re pivoting your\\n\\n##  [16] - December 20, 2024 13:25\\n\\n- [20:40] This chunk is part of a conversation between Anton Saburov and Dmitriy Grankin discussing strategies for marketing a product, particularly focusing on identifying potential corporate clients and the challenges of navigating complex markets like Brazil and Mexico.\\n  > Anton Saburov:  прости как как продукт не расскажу ты смотришь откуда риге идут если идут из какой-то компании среднего плюс сегмента ты просто идешь эти в компании и мужик продаешь и тут может быть такой что у тебя продукт становится пилот же и продаклад груз когда он снизу вверх поднимается вот у меня там на сборке много ребят то на самом деле по стратегии идет то есть он видит что регистрируется там из домена apple много ребят Пользователь твоего продукта, какой-то он потребность закрывает, идешь к ним, договариваешься с ними на хорошие чеки корпоративные, ну и закрываешь им, он примет свое решение.  И, собственно, ты выигрыш.  То есть ты считаешь, что это мне так повезло с одного выстрела, да, с этим?  Ну, ты что, на объеме пока не проверил? Мы на объеме эти цифры видим, но Бразилия, раз, это суперсложный регион.  Они не системные, они не основные, ну, просто, короче, колхоз делают, знаешь, простым языком говоря, и их очень тяжело до целевого результата довести.  Мексика тоже очень близка к этому.\\n- [2024-12-20 13:25:46] This chunk is part of a conversation between Anton Saburov and Dmitriy Grankin discussing strategies for marketing and sales, specifically focusing on targeting corporate clients and the challenges of operating in complex markets like Brazil and Mexico.\\n  > Anton Saburov:  прости как как продукт не расскажу ты смотришь откуда риге идут если идут из какой-то компании среднего плюс сегмента ты просто идешь эти в компании и мужик продаешь и тут может быть такой что у тебя продукт становится пилот же и продаклад груз когда он снизу вверх поднимается вот у меня там на сборке много ребят то на самом деле по стратегии идет то есть он видит что регистрируется там из домена apple много ребят Пользователь твоего продукта, какой-то он потребность закрывает, идешь к ним, договариваешься с ними на хорошие чеки корпоративные, ну и закрываешь им, он примет свое решение.  И, собственно, ты выигрыш.  То есть ты считаешь, что это мне так повезло с одного выстрела, да, с этим?  Ну, ты что, на объеме пока не проверил? Мы на объеме эти цифры видим, но Бразилия, раз, это суперсложный регион.  Они не системные, они не основные, ну, просто, короче, колхоз делают, знаешь, простым языком говоря, и их очень тяжело до целевого результата довести.  Мексика тоже очень близка к этому.\\n\\n##  [31] - June 23, 2024 08:15\\n\\n- [01:05] The chunk is part of a technical discussion among team members about software development and data management, specifically addressing the use of \"biginta\" for handling large datasets and the challenges faced in their current implementation.\\n  > Icy Ranger:  В таких случаях бигинта используем.  Надо посмотреть, кстати, да, может реально переехать бигинта.  На самом деле, довольно быстро упираешься в это, и это потом очень неприятно.  Я просто секвенс использую.  Да, я просто не знаю, точнее, я не пробовал даже,\\n\\n##  [22] - December 03, 2024 14:01\\n\\n- [2024-12-03 14:01:13] The chunk occurs towards the end of a conversation between Dmitriy Grankin and Sergio Goriachev, where they discuss the benefits of working within a venture builder framework, emphasizing the importance of focusing on product development and user engagement rather than administrative tasks. Grankin highlights the potential for significant exits and the advantages of being involved in a supportive environment that fosters innovation and growth.\\n  > Dmitriy Grankin:  Это непродуктивное время ты тратишь.  Человеку не дается пилить продукты, общаться с пользователями, а вот на то, чтобы...  Да, тут тебе дают возможность так делать, тут тебе дают возможность так делать.  Именно продуктом заниматься, именно общением с пользователями.  И финальная мысль здесь...  Блин, пока это разгоняли, забыл ее.  А, это exit.  То есть ты получаешь в свое портфолио настоящий экзит с оценкой несколько десятков миллионов.  И все, это тебе дает дорогу к стартапу.  Да, естественно, но она здесь выше, но в моем, в моей картине мира она здесь выше и этого  То есть ты, скорее всего, играешь в игру с положительной  суммой.  Но она лучше просто в силу того, что здесь, наверное,  больше вовлечены в твой процесс.  И таким образом...  Потому что они имеют 90% шерсть.  Шерстишники хотят...  Извини, интересный разговор,  но мне надо переключиться.  Давай, давай, набирай.\\n\\n##  [36] - June 03, 2024 10:28\\n\\n- [00:00] The chunk features the Mystic Wizard discussing the process of verification and the need for thorough checks, amidst a conversation with other characters, the Solar Wizard and Blazing Samurai, who express their concerns about the lack of updates and codecs.\\n  > Mystic Wizard:  проверка проверка проверка проверка проверка проверка что что у нас тут лишь Происходит проверочная проверка. Проверяю проверочную проверку путем проверочных проверок, потому что проверять требовано более проверочник.  Как у нас проверка проверяется, надо проверить.\\n\\n##  [6] - December 03, 2024 11:05\\n\\n- [2024-12-03 11:05:19] This chunk occurs during a conversation where Dmitriy Grankin is explaining how to access and use the Vexa AI plugin, highlighting its straightforward installation process and real-time functionality while discussing its features with Daniel.\\n  > Dmitriy Grankin:  it my own yeah you can go to vexa.ai and it\\'s pretty straightforward you can get vexa at or at at the external extension and then a couple of clicks you can do it right away and you\\'ll join the conversation where you\\'ll get same thing you\\'ll have it started from the beginning of Yeah, if you want to do it right now, it\\'s like you can do it online, right, while we speak.  And, yeah.\\n\\n##  [47] - June 18, 2024 12:34\\n\\n- [00:00] This chunk is part of a conversation between Terra Sorcerer and Kiana discussing host permissions for a Chrome browser extension, specifically focusing on the need for permissions related to audio and tab capture, the implications of these permissions, and the technical requirements for interacting with web pages like Google Meet and YouTube.\\n  > Terra Sorcerer:  Hey, Kiana. Hello.  Hello? Hello? Hello? Can you hear me?  Okay, good. Okay, so.  so tell me uh so as far as i understand host permissions is something that is in fact we are sorry pushed wrong button okay so in trello we\\'ve got this uh these what publication  Yeah, we have two cards for that, okay.  Rejection, that was about rejection.  ActiveTab, so those ones were actually different from this one.  So the first one, the previous one that we had was for ActiveTab and scripting.  Yeah, those ones, those are no longer coming up in that list, they should not come up in that list anymore.  Also, I don\\'t know, can you share your screen, let me see.  i can\\'t see you oh okay sorry yeah but yeah i just wanted to find the the list first  items yeah mm-hmm takes rejected items okay so where we are here relation or question but not using the following permissions active tap and scripting question but not using the following permissions active tap and scripting and we are good with that  and we are good with that now yes yes those have been removed we are not request those ones you now yes yes those have been removed we are not requested those ones you have to request them have to request them explicitly like you can\\'t do active tab without adding it to the list of explicitly like you can\\'t do active tab without adding it to the list of missions host permission vexa.ai so we have to give reason for that we have to give a general you not necessarily specific reason but in general reason for for those so okay so so for host permissions we want to say that we need to capture audio tab capture we\\'re also doing tab capture i don\\'t think yeah so if you look up you see tab cap  right they\\'ve caught on but still we need to meanings like we want to what what what\\'s the reason for for host permissions what is actually is in in terms of technology what what what is it about okay so host  permissions is essentially your the user has to allow you to inject content like modify an existing web page so if you request host permissions explicitly then The user will be not, in terms of Chrome browser extensions, the user will be not in terms of chrome browser extensions a a model will come up letting the a model will come up letting the user know, the user has to accept it, right?  So even if we are given permission, user know the user has to accept it right so even if even if you are given permission the user has the user has to accept it that, okay, implication is that we are, what\\'s this?  Sorry.  okay implication sorry implication is that  functionality of a website, right?  So that is essentially what Host Permissions is about.  We are, there\\'s a host, which is Google Meet, which is YouTube, and we want to interact with that host.  So that\\'s essentially what it is.  That is in order to, but basically on this page, that\\'s not about acquiring audio, that\\'s about injecting the audio.  Yes, the UI and other background, you know, we are also doing ground scripts that\\'s not UI.  So on dashboard.vexa, we are doing background.  That\\'s the login page.  We are doing background, that\\'s the sign-in page.  The same thing.  they were doing intermediary then but no ui so why and other things we inject in the in the background so that\\'s what that\\'s for  like this  So the difference here is that we can just limit this.  So we show real-time transcriptions and questions so that we can move the capture to Tab Capture.  I\\'ll ask Vexel what she feels about it.  Justify based on the call.  Here\\'s the user must explicitly allow functionality for sprints are necessary to interact.  Security, okay, to provide the accessibility enhanced functionality and features so that that\\'s that\\'s what it\\'s been given  opportunity  We don\\'t need that.  We are sure users because, yeah, that last part.  Yeah.  This must be security.  So we can, yeah.  they would not accept closed beta testing closed beta testing oh that\\'s you have to change yeah  it\\'s not an automatic one, so storage justification, okay, provide stores.  store storage justification of screen tabs  tabs tab capture and web navigation just notifications okay let\\'s see how it goes okay that\\'s what we\\'ve got  Okay, that\\'s what we\\'ve got, justification for hosting, for storage, extension requires storage to save user preferences, settings and other necessary data locally.  good yeah that\\'s good okay off-screen permissions  screen okay and stop yeah complete real time of day  It\\'s a real-time updates.  We also need to update off-screen to include microphone levels for that off-screen.  It\\'s necessary to perform um it\\'s necessary to perform but because that\\'s actually what we are  Yeah, yeah, yeah, we\\'re using off-screen for microphone level, we\\'re using off-screen to send audio chunks and to send transcriptions.  Yeah, again, I just wanted to show you the bug I\\'ve just found.  I\\'m copying the output.  copy in the output and i\\'m not sure maybe it\\'s about related to the to okay yeah that\\'s related  phone level so when we determine this person is speaking we need to send audio chunks to the server they need to send transcriptions so there are two death transcriptions from the server so essentially api calls uh audio processing yeah processing if it calls audio processing and uh and  processing yeah we\\'re also using audio processing it calls audio processing and microphone levels okay let\\'s see how it goes okay so what did Okay, so that\\'s what we\\'ve got.  That\\'s too much, that\\'s too much.  Okay, so it requires a screen to perform essential It requires a screen to perform a central program with the microphone-level monitoring.  We can do like this, right?  Microphone-level monitoring.\\n\\n##  [30] - June 13, 2024 18:44\\n\\n- [07:00] The chunk features a conversation among multiple participants discussing physical health, exercises, and the use of technology for communication and productivity. Dreamy Fox shares personal experiences with muscle spasms and flexibility, while also touching on the use of yoga and digital tools like Google Meet and Notion.\\n  > Dreamy Fox:  Там много, там много.  Неплохое.  одно из плохое  Я вот начал делать, сейчас и...  Вот.  Субтитры сделал DimaTorzok Субтитры сделал DimaTorzok Я спазм произошел, допустим, была хна, да, и тебе надо добраться до этого.  Ты иногда вот здесь вот разминаешь и двигаешься, двигаешься, двигаешься, находишь вообще точку в другом месте.  Я помню, как у меня болело плечо или что у меня очень сильно, и какое-то там чудо получилось.  Удесник в Москве, вот меня Дима привел к нему, и он, знаешь, типа там вообще-вообще в другом месте, не отпустил.  Он просто очень хорошо знал анатомию, как бы, и вот...  Один иголками был, один здесь остеопат.  Слушай, тебе надо, если коврик завести, он уже...  Кузнецовый.  Нет, ну нет, йога коврик, если завести, он уже...  Да, ну я делаю это.  Ты йоговские упражнения делаешь?  Нет, я не делаю йоговские упражнения.  Ну, ты встал и делаешь вот эту ложку, да?  А, вот это я делаю.  Я очень негибкий человек, я очень негибкий.  Я приехал в 20 лет, у меня было, я приехал во Вьетнам, и я на полу не мог вообще сесть, в принципе.  Я сейчас могу 20 минут спокойно полчаса на полу сидеть.  А ты тоже делаешь елку?  Ну, я делаю сейчас прям совсем, знаешь, такими просто набегами, ну, несколько раз в день, просто по 30 секунд буквально. Это очень хорошо работает.  Чёрный или мягкий.  Обязательно.  Если не хочешь, тогда мягкий.  Я тебя прощаю.  но эта штука слушает и в реальном времени а вот это которая оцифровывает она оцифровывает Но она дальше потом, это GT4, поэтому что-нибудь спрашиваешь, он тебе вот так.  Можно там, не знаю, таблицу.  Можно там, не знаю, таблицу, по-моему, сделать.  На форуме, да.  Asset.  Хорошо.  Asset table.  Таблицу не печатает.  Можно вставить в док.  Asset table, таблицу не печатает. Можно взять, вставить в док.  Сейчас вот берешь в Notion, вот, смотри, подпомнил.  Делал я, все читал.  то есть поняла практически все да это в реальном времени моменте доступны вот  У нас в прошлую пятницу это в таком виде появилось.  что было, но в виде телеграм-бота существует.  Это гораздо удобнее.  Да, телеграм-бот не годится.  А вот это что?  Это Google Meet.\\n- [00:00] The chunk is part of a conversation among multiple speakers discussing physical discomfort, specifically related to shoulder and neck pain, and various methods for relief, including exercises and self-massage techniques. The dialogue reflects personal experiences and suggestions for managing pain, with references to the impact of sitting in a car and the use of specific tools like a Kuznetsov applicator.\\n  > Solar Prophet:  Вот здесь. А плечом поверить? Вот между плечом и, понимаешь, да, вот в этом, вот в этой зоне.  Это не утром было просто защемило, знаешь, такое? Да нет, у меня болит несколько лет.  Не как мячик, нет? Нет, нет, да, болит у меня уже давно, год-два.  Слушай, ну я это...  С этой стороны вот, вот здесь.  Ну ты делаешь зарядку там.  Да, да, делаю, все, ну...  У меня от машины на самом деле, знаешь, я сижу в машине и катастрофически вот...  Ну я хорошо понимаю, да.  Результат от этого, да.  Я с тобой.  Вот такая ерунда, что я прям заметила, у меня вот здесь очень много её надо разминать, и она у меня хрустит по утрам, в отличие от...  я уже сходил кости оплату зарядку делаю сейчас это очень  аппарат кузнецова у меня тоже есть но я им не пользовался пока  Еще, Эрик, извини, у тебя там давление все на ногу, да?  Вроде да.  Вот смотри, а вот тут разберешь вот так вот, расслабляешь прям шею, извини, прям расслабляешь.  Да.  И тянешь. Ну, попробуй, что-нибудь.  Да.  Это может странно выглядеть, но...  Нет, нет, нет.  Берешь расческу или что-нибудь и прямо себе массируешь зону головы, чтобы улучшить кровоотражение, и вот здесь прямо берешь и стираешь уши и плечи.  Берешь расческу или что-нибудь и прямо себе массируешь зону головы, чтобы улучшить кровоотражение, и вот здесь прямо берешь и стираешь уши и плечи вот так вот идешь, ну, мне хорошо.  И плавно, в очень бережном режиме я делаю. У тебя объем движений не уменьшен?  Да, уменьшен частично.  Извините, что я раздражаю.  Нет, не важно.  Да, я уже попробовал много раз. В общем-то у меня от машины, по-моему, это. Если я в машине не сижу, у тебя дыма. Если я посидел, я сейчас уже обложился подушками.  сиденья\\n\\n##  [24] - June 07, 2024 08:34\\n\\n- [00:00] The chunk features a conversation between Harmonic Specter and another participant, Marusya, expressing enthusiasm about a balloon she made, amidst a broader discussion on political parties and ideologies among various speakers.\\n  > Harmonic Specter:  Что, Маруся?  Что, Маруся?  Классный шарик сделала.\\n- [04:02] The chunk appears in a conversation among various participants discussing political parties, ideologies, and social systems, with Astral Vulture interjecting a seemingly unrelated phrase in a different language, which may indicate a shift in topic or a non sequitur within the dialogue.\\n  > Astral Vulture:  Nombor 15 Siapa putih cair?\\n\\n##  [48] - June 03, 2024 11:40\\n\\n- [05:45] The chunk is part of a discussion among multiple participants about handling timestamps in requests for transcripts, specifically focusing on the first request and the proposal to omit timestamps.\\n  > Majestic Unicorn:  can you hear me yep oh now i can hear you so bad okay better now okay So, I\\'m currently, I\\'m using CTC time for the first request.  Mm-hmm. What\\'s my proposal? What if, for for the first request we do not use any timestamps I mean for the first request\\n- [03:16] The chunk occurs during a discussion among participants about handling timestamps for requests related to transcripts, specifically addressing the approach for the first request and the implications of using or not using timestamps.\\n  > Pioneer Explorer:  For the first request, what timestamp do you use?\\n\\n##  [8] - June 24, 2024 09:44\\n\\n- [01:56] The chunk is part of a conversation among team members discussing project tasks and priorities, specifically focusing on the status of urgent tasks related to the VEX project and the availability of a team member named Андрей to complete these tasks.\\n  > Wild Shaman:  Сейчас он работает, сейчас он на тебя, то есть мы обсудили, что он сначала закрывает все срочные задачи по Векси, да, и потом там начинает, то есть у меня они до конца недели, до пятницы, вот, то есть он их там планирует сделать где-то там в вторник, в среду.  в среду вот то есть я тебе просто говорю что ну я просто я тоже рассчитал с этим с ригелем ну давай бы и ну еще все отрезали что можно чтобы просто уложиться  в этот первый мы можем сделать просто вообще как бы сейчас вообще как бы сейчас ну вот сейчас он тоже пишет он ну как бы он сегодня ничего не делал просто понимаешь но он и на меня тоже ничего не делал ну то есть я просто как бы не знаю как с тобой  это сейчас обсуждать потому что как бы на нем просто завал сейчас вот смотри я говорю вот Вот, смотри, я говорю, мы обсудили, мы сейчас с Андреем созвонились, что он делает все, что по VEX необходимо сделать. То есть это он делает в первую очередь. Он сейчас ничего не делает мне, но как только он доделывает срочные задачи, то...\\n\\n##  [15] - June 11, 2024 09:45\\n\\n- [07:13] This chunk is part of a podcast episode featuring Uri Levine, co-founder of Waze, where the host, Olympic Wolf, discusses various topics related to entrepreneurship, including the importance of security practices for startups. The chunk specifically promotes Vanta, a platform for managing security and compliance, highlighting its benefits for companies.\\n  > Olympic Wolf:  When it comes to ensuring your company has top-notch security practices, things get complicated fast. Now you can assess risk, secure the trust of your customers, and more with a single platform, Vanta.  Vanta\\'s market-leading trust management platform helps you continuously monitor compliance alongside reporting and tracking risks.  Plus, you can save hours by completing security questionnaires with Vanta Join thousands of global companies that use Vanta to automate evidence collection, Join thousands of global companies that use Vanta to automate evidence collection, unify risk management, and streamline security reviews.  unify risk management, and streamline security reviews.  Get $1,000 off Vanta when you go to vanta.com slash lenny.  Get $1,000 off Vanta when you go to vanta.com slash Lenny.  That\\'s V-E-N-T-A.\\n- [00:51] This chunk introduces Uri Levine, a prominent entrepreneur and co-founder of Waze, highlighting his extensive experience in startups, including successful exits and advisory roles, setting the stage for a discussion about his insights on entrepreneurship and problem-solving.\\n  > Olympic Wolf:  Today, my guest is Uri Levine.  Uri is the co-founder of Waze and nine other companies.  He sold two companies for over a billion dollars.  been on 20 different startup boards, including a dozen he\\'s still currently on.  He\\'s also advised over 50 founders and startups over his career.\\n- [01:32] This chunk is part of a conversation between Olympic Wolf and Breezy Bear, where they discuss Uri Levine\\'s entrepreneurial journey, his co-founding of Waze, and the insights shared in his book \"Not the Solution,\" which provides practical advice for entrepreneurs from ideation to exit.\\n  > Olympic Wolf:  More recently, he wrote a book that summarizes all of his advice Not the Solution, a handbook for entrepreneurs. In the foreword to the book, Steve Wozniak said this book will change your life and become your bible if you are an entrepreneur. And I cannot disagree with that. This book is very tactical, with amazing stories, and walks you through the through the ideation phase all the way to exiting your company.\\n- [00:00] The chunk is part of a conversation where Breezy Bear discusses the significance of falling in love with the problem in entrepreneurship, referencing successful startups, including Waze, co-founded by Uri Levine, who is the guest on the podcast.\\n  > Breezy Bear:  Two unicorns including Waze.\\n- [02:09] This chunk is part of a podcast conversation between Olympic Wolf and Uri Levine, co-founder of Waze, where they discuss key insights from Levine\\'s book \"Not the Solution,\" focusing on the importance of falling in love with the problem, finding product-market fit, and tactical advice for startups, including hiring and firing practices.\\n  > Olympic Wolf:  the ideation phase all the way to exiting your company. In my conversation with Uri, In my conversation with Uri, we chat about many of my favorite chapters, including why we chat about many of my favorite chapters, including why falling in love with the problem falling in love with the problem is so important, how to find product market fit, a really clever is so important, how to find product market fit, a really clever tactic for firing people who tactic for firing people who aren\\'t a fit for your company, a ton of really genius tactical aren\\'t a fit for your company, a ton of really genius tactical advice for improving your advice for improving your fundraising Thank you so much for being here.  Welcome to the podcast.  Welcome to the podcast.  Thank you.  Thank you.  Happy to be here.  Okay, so here\\'s what I\\'ve gathered about your career.  Okay, so here\\'s what I\\'ve gathered about your career.  And let me know if I\\'ve missed anything.  You\\'ve co-founded Tandif.  Is there anything big I missed about your career?  That sounds about right.\\n\\n##  [41] - June 06, 2024 22:42\\n\\n- [07:00] The chunk occurs during a conversation between two characters, Gallant Wasp and Quiet Spartan, who are discussing their experiences in prison, the concept of misunderstandings in the legal system, and personal relationships, particularly focusing on the impact of their situations on their lives and loved ones.\\n  > Quiet Spartan:  Очень интересно.  Очень интересно.  Я бы об этом написал, когда выйду.  Я бы об этом написал, когда выйду.  И что он сейчас делает?  И что он сейчас делает?  Ну, я же сказал тебе.  Ну, я же сказал тебе.  Начал жизнь сначала.  Начал жизнь сначала.  Вот.  Письмо от жены?  Угу.  Ну, давай слух.  У меня жены нет.  Будем твою на двоих делить.  Так это, я бы попросил.  Попроси.\\n\\n##  [50] - June 05, 2024 21:06\\n\\n- [06:05] This chunk is part of a discussion during the Engineering Key Review at GitLab, focusing on the measurement of community contributions to the organization\\'s development efforts. It addresses the complexities of defining and tracking metrics related to external contributions (MRs) and the potential for gaming these metrics, while emphasizing the importance of understanding and simplifying the taxonomy used for these measurements.\\n  > Icy Silhouette:  so we so what we\\'re doing there eric is we\\'re not trying to say how many how many mrs does someone send if they send something we\\'re saying how many mrs from external do we get for the size of our organization.  Sorry, I have a childhood emergency outside the door.  So maybe explain the context behind this.  thing is for the community to flatline and the size of the org to go and before you know it you\\'ve kind of outgrown the wider community yeah and what i\\'m  seeing is we we created this pre-sophisticated taxonomy with prefixes and posts fixes to talk about these things but in reality we\\'ve only got two of them and it\\'s we keep forgetting and we have a hard time discussing this thing so i\\'d rather just name them simply two names for what they are rather than than using the taxon two names for what they are rather than than using the taxonomy but also like in f i have  The thing why we have this complex thing is because you can game that.  You want to game that, you just produce fewer MRs with the engineers at GitLab.  So if you drive that really hard and say, this is your number one goal, it\\'s very easy to achieve is just tell all your engineers to produce half make these conversations go if you as our cto don\\'t even understand them we went overboard so  i\\'m supportive you understand them and i forgot and i was reading the stuff this morning i\\'m like there\\'s a problem with this and then you just remind me of the context so yeah I can\\'t believe my head.  Percentage that come from the community.  I love that.  It\\'s what all our investors ask about.  Let\\'s do that.  OK, cool.  So, Lily, if you can work with Mac  I\\'m on the call, sorry, it was a bit late, timeline, we do have PIs on the raw number of community MRs and we can make the shift and wider confirming from the definition, counts for community, and that\\'s what the definition is.  Cool.  counts for community and and that\\'s that\\'s what the definition is cool all right so uh number All right, so number six then, Christopher.\\n\\n##  [11] - June 24, 2024 10:47\\n\\n- [03:12] The chunk occurs during a conversation between Polar Vulture and Mystic Wizard, where they discuss project priorities and tasks related to code implementation and development. Polar Vulture mentions that he has been informed by Sergey that his current task, \"векса,\" is a priority, indicating a focus on project management and collaboration within their team.\\n  > Polar Vulture:  Мне Сергей сказал, что у меня векса сейчас приоритет, поэтому...  Приоритет поставлю, сейчас так и все сделаю.\\n- [00:17] The chunk is part of a conversation between two colleagues, Mystic Wizard and Polar Vulture, discussing the progress and implementation of code in the New Diarise branch of a project. Mystic Wizard is confirming that the code is understandable and ready for Polar Vulture to work on, following a previous discussion where they reviewed the code together.\\n  > Mystic Wizard:  New Diarise. Ну, я тебе все показал вчера, я это... Мы с тобой вроде пришли к тому, что...  как бы там все для тебя понятно и можно это имплементировать.\\n- [00:09] The chunk is part of a conversation between two colleagues, Mystic Wizard and Polar Vulture, discussing the code in the \"New Diarise\" branch of a project. Polar Vulture is seeking clarification about the code in the Engine and confirming which branch he is reviewing, indicating a collaborative effort to address coding tasks and project priorities.\\n  > Polar Vulture:  Так, да, привет. Короче, смотри, ты, по-моему, говорил, что в этом коде, который в Engine... Я же ветку New Diarise, во-первых, смотрю, да?\\n\\n##  [38] - June 17, 2024 21:58\\n\\n- [00:33] This chunk introduces Leopold Aschenbrenner\\'s concerns about the rapid advancement of artificial general intelligence (AGI) and superintelligence, highlighting his belief that these developments will occur imminently, specifically by 2027 and the end of the decade. It sets the stage for a detailed analysis of his 165-page report titled \"Situational Awareness, The Decade Ahead.\"\\n  > Gallant Knight:  But what he says is that he was just warning the board about their talking about what he believes is the future of not only hitting AGI by 2027, but then achieving super intelligence by the end of this decade. And he says very few people are actually aware of what is coming. And I read all 165 pages, and I\\'m going to break it down.  Break the whole thing down for you.  All right, so here it is, Leopold Aschenbrenner, Situational Awareness, The Decade Ahead.  I read through everything and I highlighted the most important bits.\\n\\n##  [23] - June 07, 2024 07:48\\n\\n- [01:44] This chunk is part of a discussion among startup partners at YC about the impact of advancements in large language models, particularly from OpenAI, on consumer-focused startups. Iron Titan expresses concern about how these startups will compete with OpenAI\\'s consumer applications, referencing the viral success of ChatGPT.\\n  > Iron Titan:  applications, which makes sense. That\\'s kind of what ChatGPT was, was a consumer app that applications which makes sense that\\'s kind of what chat gbt was was a consumer app that went went really viral. I just wonder what it means for the consumer companies that we\\'re funding, really viral i just wonder what it means for the consumer companies that we\\'re funding and in and in particular, like how will they compete with open AI for these users?  particular like how will they compete with open ai for these users what did you think like even if\\n\\n##  [12] - June 05, 2024 12:51\\n\\n- [02:41] The chunk discusses the Brex founders\\' realization that their initial idea for a virtual reality headset was not feasible, leading them to pivot towards a payments-related company, highlighting the challenges and time it took for them to identify a viable business direction.\\n  > Iron Titan:  So it\\'s probably in the Brex guys\\' case, maybe like, I payments related company maybe felt easier than building like a vr company A long time ago, like over 10 years ago at this point, but I bring it up because it took them a while to figure out what to work on.\\n- [01:53] This chunk is part of a discussion about the pivoting process of startup founders, specifically focusing on the experience of the founders of Bricks, who initially pursued a virtual reality headset idea before realizing their lack of expertise in hardware. Iron Titan reflects on the timeline of their realization and the influence of expert consultations on their decision to pivot.\\n  > Iron Titan:  Were they when they finally gave up on the VR headset idea?  It\\'s probably like three or four weeks.  It wasn\\'t it wasn\\'t like on day one.  I think we had them talk to a bunch of experts.  Reality sort of started to seep in where they\\'re like, wait a second.  Like, what do we even know about this stuff?\\n\\n##  [1] - December 19, 2024 12:08\\n\\n- [2024-12-19 12:08:42] This chunk occurs after Dmitriy Grankin introduces Vexa and explains its functionalities, leading into a demonstration of the tool\\'s capabilities during Google Meet calls.\\n  > Dmitriy Grankin:  Let\\'s see it in action.\\n\\n##  [14] - December 30, 2024 19:55\\n\\n- [2024-12-30 19:55:27] This document contains various notes and observations, with a specific focus on unique aspects and insights related to abigunga, highlighting its significance and relevance.\\n  > new interesting note about abigunga\\n\\n##  [3] - December 05, 2024 19:00\\n\\n- [2024-12-05 19:00:53] This chunk is part of a conversation between Dmitry Grankin and Lara Vargas discussing strategies for VEXA\\'s market approach, focusing on penetrating companies through individual users, addressing security and privacy concerns, and exploring new integrations to enhance the product\\'s value.\\n  > Dmitry Grankin:  Currently, the idea is that we are kind of implementing is that we approach individuals improving their day-to-day work working setup but sure enough this most likely this individuals are part of a company employees yeah and so the idea is that we could potentially if penetrate these companies through these individuals bottom up yeah and uh but actually this top-down approach could potentially work as well because there is something that blocks this bottom-up approach because of uh the security and privacy issues yeah from power and privacy policies they have and these things have to be addressed top down top down yes and we have an idea of a solution for that is that currently works is works uh server service in multiple clients and you have to trust vexa to uh to secure the data If you don\\'t want to do this, the idea is that you can deploy your own VEX backend inside your company infrastructure.  That\\'s a great idea.  Yeah, and that\\'s the way for those who want to to use this kind of service, but cannot.  Yeah, that sounds great.  And there\\'s a lot of users who basically They use VXR silently and they have no power to introduce VXR in silence.  that these companies because of these problems decisions  yeah i think that um do you also think in terms of new integrations Porque eu estava falando com algumas pessoas, por exemplo, eu conheço algumas pessoas no Venture Capital Building, mas no British Telecom, e eles said the product is amazing but they also have this barrier and even if they didn\\'t they use for example they use teams so considering that is that in your you  Yeah, new integration is something that is kind of an obvious way to go to expand, but even in this google meet environment there is still a lot of opportunities for now and in order You have limited resources where you want to go, whether you want to go and expand horizontally with new integrations or vertically to get...  more into the value the product delivers to the end customer.\\n\\n##  [49] - June 19, 2024 10:53\\n\\n- [00:04] The chunk features Mariner Maverick humorously responding to Mystic Wizard\\'s uncertain statement about whether something will work, contributing to a lighthearted and playful exchange among the characters.\\n  > Mariner Maverick:  Это будет ха-ха.  Ха-ха-ха-ха-ха.\\n\\n##  [19] - December 30, 2024 20:27\\n\\n- [2024-12-30 20:27:54] This chunk discusses the importance of aligning the influencer\\'s style with the company\\'s offerings to ensure a positive partnership. It transitions into addressing the influencer\\'s evaluation of the value and relevance of the company\\'s product or service before deciding to promote it.\\n  > 07:02\\n                  be up to you to figure out exactly what that looks like based on what you\\'re offering and what the influencer style is like but with our approach here the more favorable these three things look to your influencer the happier they will be to work with you all right and we\\'re moving on to the next question that your influencer will have before working with you is what you have valuable is it the type of thing that I want to promote now part of answering this question is making sure that what you offer is\\n              \\n                  07:28\\n\\n##  [5] - December 05, 2024 13:59\\n\\n- [2024-12-05 13:59:51] This chunk occurs during a conversation between Dmitry Grankin and Sunny Wyrzykowski, where Dmitry discusses his business goals, specifically aiming for a few thousand paying users for his product, VEX. He shares insights about the product\\'s value for teams and mentions current user statistics, including challenges he faces, such as lacking a bank account and payment integration, while highlighting user retention and engagement.\\n  > Dmitry Grankin:  thousand paying users each paying 20 bucks monthly uh teams teams i mean like uh the product is uh obviously helpful for individuals but it will deliver more value for collective knowledge access and collection with the share uh uh for features uh for sharing that i\\'ve been now testing sharing uh functionality which i also and the link to you after the call, so you could basically see what it looks like.  And if you continue using VEX afterwards, you\\'ll, have this call as a as a unit of that uh knowledge cool and then  Right now, where are you kind of at with I know you mentioned you would like to be, you know, in six to 12 months if you\\'d like to be at, you know, a few thousand paying users, what are you at right now? And have you encountered any any blockers?  keeping you from reaching that call the blockers now is that I don\\'t have bank account and I don\\'t have paint integration just because So that\\'s all completely free for now and now I have something about 300 users which just a little but with a good retention with some of them 500 recorded calls 200 recorded calls So that\\'s like months of daily use.  Sweet.\\n\\n##  [7] - June 22, 2024 20:09\\n\\n- [01:04] The chunk is part of a conversation among multiple participants discussing various topics, including personal anecdotes and interactions, with Dynamic Scholar specifically addressing a need to stop someone named Вексу.\\n  > Dynamic Scholar:  Кстати, ты же должен остановить Вексу.  Вексу должен остановить.\\n- [00:26] The chunk is part of a conversation among multiple speakers discussing various topics, including personal experiences and observations, with a mix of languages and playful interactions.\\n  > Wandering Explorer:  Et le premier second, on va dire, toi, tu l\\'as vu, tu l\\'as vu, tu l\\'as vu, tu l\\'as vu, tu l\\'as vu.\\n\\n##  [44] - June 17, 2024 17:46\\n\\n- [00:16] The document is a conversation among several participants discussing technical aspects related to a project, including file retrieval, Docker Compose, and API usage. The chunk from Blazing Samurai indicates a focus on the functionality of an extension ID within this technical context.\\n  > Blazing Samurai:  об экстеншен-айде.  Здесь все работает, значит.\\n- [03:48] The chunk occurs after a discussion among several participants about troubleshooting and examining a Docker Compose file, indicating a shift in focus or decision to leave the current situation.\\n  > Mystic Wizard:  Окей, пошли отсюда, тогда по-моему приводится.\\n\\n##  [13] - June 23, 2024 21:35\\n\\n- [03:11] The chunk occurs during a conversation about the functionality of an assistant and its interaction capabilities, where participants discuss the platform being used (Google Meet) and reference a product called \"Викса.\"\\n  > :  Ну, так это Google Meet просто.  А, это Google Meet.  А что делал вот этот вот Юксо Викса, как он называется, который делает...\\n- [03:21] The chunk occurs during a conversation about various products and technologies, where participants discuss the capabilities of an assistant and mention specific tools like Google Meet and a product called Викса, with one speaker asserting ownership of Викса.\\n  > :  Викса это мой продукт.  Нет, нет.\\n- [00:00] The chunk is part of a conversation discussing the functionality of a virtual assistant, with participants exploring its capabilities and how it can assist users by answering questions.\\n  > Mystic Wizard:  Так это сейчас реализовано.  Ассистент будет что-то помогать, да?  Сейчас его просто о чем-то можно спрашивать, он что-то будет отвечать.  Хорошо.\\n\\n##  [28] - June 20, 2024 11:04\\n\\n- [06:01] В данном документе обсуждается разработка функционала для ассистента, включая управление сообщениями и возможность создания новых веток диалога. В этом контексте Polar Vulture предлагает идею о создании новой переписки без привязки к предыдущим сообщениям, что подчеркивает важность удобства для пользователя и ясности интерфейса.\\n  > Polar Vulture:  Нет, я имею в виду даже не форкать, то есть чтобы даже никакого сообщения не было вообще, как будто бы с ассистентом не велся диалог.  Ну, звучит как правильно, потому что это может быть не очевидно, что надо пойти, отредачить сообщение. Наверное, да, ты прав, что нужно сделать. Это будет с точки зрения...  Ну, звучит как правильно, потому что это может быть не очевидно, что надо пойти, отредачить сообщение. Наверное, да, ты прав, что нужно сделать. Это будет, с точки зрения, это чисто фронтовая история будет, да? То есть мы просто...  Нет, я на бэке тоже сделаю какую-нибудь ручку. Ну, я посмотрю, короче, как на бэке сделать. Ну да, на фронте, условно говоря, будет кнопка начать прям новую переписку, условно говоря.  Да, и переключаться между ними можно было.  Да, это все тот же отдельный чейн, просто без истории предыдущих сообщений.\\n- [03:27] The chunk is part of a conversation between Mystic Wizard and Polar Vulture discussing the functionality of a messaging system, specifically how user messages can be edited and how the system handles different message branches or threads. Mystic Wizard explains the process of editing messages and the visibility of message branches, emphasizing that users typically do not return to previous branches.\\n  > Mystic Wizard:  что вот он как это будет по факту происходить а пользователь написал а и вот тут он ему что-то ответил да пишет но то есть это он отредактировал то есть у нас получается с сообщения разные сообщения через редактирование так происходит понял может вернуться вот он здесь сейчас например а вот он здесь взял так что там не туда пошло у него здесь было вот так что-то я тут не туда пошел решил он так не туда пошло у него здесь было вот так что-то я тут не туда пошел решил он так здесь вот так вот здесь вот так вот напишу посмотрю что здесь мне ответит да и вот она отсюда напишу посмотрю что здесь мне ответит да и вот она заново да то есть эту ветка она уже мы ее не видим заново да то есть эту ветку она уже мы ее не видим вот эту ветку мы видим сейчас вот как бы ты потом можешь переключаться между ними, но это уже фронтовая история по большому счету, тебе она не интересна.  Да, тут она больше фронтовая.  Да, вот посмотрим, надо ли, не надо ли, так практика показывает, что люди потом не возвращаются к предыдущим веткам.\\n- [05:06] The chunk is part of a conversation between Mystic Wizard and Polar Vulture discussing the implementation of a new feature for a messaging system, specifically focusing on creating a new fork of a conversation without retaining previous messages, and the user experience implications of starting fresh dialogues with the assistant.\\n  > Polar Vulture:  Да, я новую ручку для Экена сделаю, которая, типа, как-то в более явном виде новый форк создает.  Я о чем подумал, сейчас, пока с тобой говорил, сделаю, я, короче...  Ручку на всякий случай, которая а-ля как бы форкнуться в плане, что с голой историей.  То есть делать отдельную ветку, но не присобачивать туда ни одного сообщения старого.  Ну, это вот у нас, да, такая была.  идея изначально вот но я просто зачем людям давать что-то другое когда уже  возникла привычка не туда пользователь не хотят например прям с нуля начать переписывать с ассистентом. То есть им не нравятся все эти сообщения?  Нет, если ты хочешь с нуля начать, то ты просто возвращаешься сюда и форкаешь это сообщение первое, а пишешь что-нибудь другое.\\n\\n##  [37] - June 06, 2024 17:25\\n\\n- [17:00] This chunk is part of a conversation between Mystic Wizard and another participant discussing various topics related to business operations, funding, and financial management, including experiences with a banking service called Brexit, investment opportunities, and the challenges of obtaining grants for hardware versus software projects. The dialogue reflects on strategies for client engagement and the importance of feedback in refining their product offerings.\\n  > Mystic Wizard:  Они тебе сами расскажут, где такие же находятся.  Ну да.  Вот. То есть, соответственно, хорошо диверсифицированный, но отсортированный.  список хит-парад их не внедряем получаем обратную связь выискиваем паттерны среди реагирует и вот в то что уж все работает туда начинаем закачивать ресурсы мне кажется плюс-минус алгоритм довольно таки понятия ну да  Пытаюсь еще какие-то вопросы сформулировать на тему того, как это будет идти.  Пока не было никакого. Пока слишком складно звучит.  Ты писал здесь вопрос перед тем, как с каким-то фондом у тебя созвон был, как у тебя с этой стороны дела идут.  А, да, особенно никак я не это...  Я понял, что ты не фокусируешься, но у тебя вот созвон был  ну что я да мне интересовал какие-то конкретные аспекты инкорпорации вот например там вот тот ну что я интересовал какие-то конкретные аспекты инкропорации вот например там вот тот вопрос которым из 10 миллионов стандартного количества вот и что ну там идет как-то процесс рации  Я отпользовался брексовской картой, сейчас очень она мне помогла в покупках, в закупках, точнее, прям сильно это упростило жизнь.  На том, что это все будет идти под списание налоговой базы потом.  Точно мне это все понравилось.  Как работа, поддержка у Brexit просто такая великолепная.  Brexit – это что такое?  Это банк.  Я думал, что американские банки платили, где-то слышал, как они медленно работают и все остальное.  Чат поддержка, письма.  Это виртуальная карта, за толпой привязанная, я ее оплачиваю.  Я с нее покупал билет, что-то там еще делал, все окей.  Я даже в Марокко с нее...  А, с нее в Марокко, в Марокко, в Уфлайн, я ей пользовался несколько раз, когда отели оплачивал, еще что-то.  типа как транслировочный списатель, и все окей.  А тут я приезжаю в Турцию, прикладываю, он мне пишет А тут я приезжаю в Турцию, прикладываю, он мне пишет пин-код.  пин-код.  Я поддерживаю.  Я пишу поддержку, у них во всех инструкциях написано, У них во всех инструкциях написано, что пин-код можно что пин-код можно сделать для физической карты, для сделать для физической карты, для виртуальной карты виртуальной карты пин-кода нет.  пин-кода нет.  Но сейчас мы тебе создадим пин-код, и у тебя все будет.  Создали мне пин-код, я все оплатил, все шикарно.  То есть прям вау.  Только положительные впечатления пока.  Как-то странно схема работает.  это типа это кредитная карта считается но она привязана к основному счету и ты можешь Есть поле для овердрафта при желании потратить чуть больше.  Можно потратить прямым платежом, потратить по этой кредитке и оказаться в овердрафте.  Это мы сейчас рассматривали тоже как вариант для того, чтобы сингапурские вопросы решить себе.  Синюшин рассказывал? Что-то рассказывал, инвестор, да. Да, Синюшин инвестор. Ну, давай, повторюсь. Меня просто впечатлила его реакция. Он чувак, который очень глубоко пошел в геопринцинг.  Он супер крупный инвестор на европейском рынке, у него фонд. Они, оказывается, сейчас фондрайдят сами как фонд, сколько они хотят миллионов собрать, и сами деньги начнут раздавать в августе.  Условия, которые они мне... Кстати, вот тебе, может, интересно будет, что они мне предложили условия, которые я потом пошел по рынку, поспрашивал нормы для этого условия. Мне все сказали, что это больше похоже на русский венчур, потому что он хотел дать типа 150, он дает.  Условия, которые они мне, кстати, вот тебе, может, интересно будет, что они мне предложили условия, которые я потом пошел по рынку, поспрашивал нормы для этого условия, мне все сказали, что, ну, это больше похоже на русский венчур, потому что он хотел дать, типа, 150 он дает, и какие-нибудь, а, нет, 150-250 он будет готов дать, и, типа, до, в районе миллиона опционов.  Поэтому, если это какая-то кратная разница, это уже не очень хэйл и немножко похоже на попытку зайти чуть ли не как паундером в стартап.  Но это вопрос торга, можно все обсудить.  Они нам что сказали? Они пошли спрашивать по европейским грантодателям, и очень тяжело получить гранты на hardware, поэтому мы...  на месте переобулись и сказали, а давайте мы сделаем фокус, что мы гранты будем брать на AI и на софт.  Ну, либо на биологию, но это сложнее, как бы, сейчас описать для запроса. А вот AI и софт мы там. Окей, сделали деку небольшую, И они прошлись еще раз, и им сказали, что да, можно давать зато гранты. А для них это была такая ключевая модель. Они хотят в нас инвестировать деньги и потом грантами добрать еще полмиллиона, например, из разных мест.  Походу эти гранты будут на софт, и походу мы будем сильно растеряться в плане разработки софта, а hardware будет держать на каком-то том, что плюс-минус есть.  Потому что пока не сталкиваюсь с запросами от клиентов, нужно что-то большее.  Что есть, того и хватает.  А вот если мы будем симплификацировать, то тогда Что есть, того и хватает. А вот если мы будем симплифицировать, то тогда может быть интереснее.  может быть интереснее.  Вот.  У меня вопросы основные все еще стоят, как...  Вот. У меня вопросы основные все еще стоят, как, а, у тебя инвестиции в крипте, тебе попроще было.  крипту или нал. Вот поэтому все платится в белую, и тут платятся, но есть в некоторых местах, правда, с проблем помешал, пытаются выяснить. Так что если у тебя будет интерес, либо понятная история, либо тебе нужен будет зачем-то белый нал на счете, ты готов выдавать крипту? Очень интересно.  Да, не знаю, как пока пользоваться будет, как этими деньгами пользоваться, которые белые на счете.  Все, что мы для хардвера покупаем, окей.  Кому-то, что-то из сотрудников, если нужно оплатить картой, то я даю эту карту, точнее выпускаю еще одну.  по ней что-то оплачивают мы этот счет зарплаты пускаем все такими пока супер не системно как бы четырьмя сотрудниками хватает но надо подключать диры и всякие Дир, D-I-R. Я с ними пытался быстро договориться, вот когда еще надо было, что давайте мне срочно нужно, я сейчас поеду, пожалуйста, сделать выплату крипту, я готов там типа на повышенную какую-нибудь...  процент заработает, но там, типа, процент заработает или какого-то, но там, типа, созвониться, сначала созвониться, созвониться, сначала созвониться, а я с ними созвониться не мог так долго, как мы с вами могли созвониться.  а я с ними созвониться не мог так долго, как мы с ним могли созвониться.  Сначала созвониться, Сначала созвониться, потом отбить с них нормальный продукт, потом отбить с них нормальный продукт, потому что они так, как они выгодны.  Я загуглил, что я правильно запомнил.  Олень какой-то.  Какой-то олень.  Дюкшак, по-моему, Дюкшак, по-моему, Дюкшак, по-моему,  попудово где-то внутри какая-нибудь недель а диск возник динамик Наверное, deal, да.  Так, dill.cor.  Загуглил, увидел?  Eso lo tomo por la cúbrea, porque tú sabes que es la cuestión.  Угу, а, дил, не дил.  А, дел, неделя. Так, вот это актуальная для меня история, потому что я послушал эту гравер от вас.  Так, вот это актуальная для меня история, потому что я послушал этого гравера твоего,  что-то просит от вас 2 и 7 миллиона ну да да да да да в смысле шантажирует  заход Хочешь, не знаю, будешь в детали погружаться и какой-нибудь Windows и все остальное переподписывать, приходи, переподпишись, сделаем.  Да, увидишь, у меня один в Новосибирске, я ему сказал, что он в Таиланд переезжает.  Потому что один часовой поезд.  Тамбул, его жена, ребенок, при том, что жили здесь сильно лучше, они сначала в Казахстан выехали, жили везде сильно лучше, чем в Новосибирске, но жена не выдержала, сказала, надо в Казахстан выехать.  в Новосибирск возвращаться.  Так что физически вывезти может быть тяжеловато.  Так что физически вывезти может быть тяжеловато.  Ну да, ну вот не хотелось бы никого никуда вывозить, Ну да, ну вот не хотелось бы никого никуда вывозить.  У нас, господи, я в этот момент просто, короче, дал сотруднику карту с эмиттером на 500 баксов, он говорит, нет, надо по карте всякую штуку закупить, давай в счет зарплаты это сделаем.  Да, окей, создал ему виртуальную карту, дал ему доллар.  Мне приходит уведомление, а верификация на какую-то больше 100 баксов, по-моему, через меня идет.  ...принял, ну мы уже до этого выясняли, что он принял, типа, американскую карту.  Я такой, блин, что ты делаешь? Если сейчас это спишется, это как потом кому-то сказать, что я в России, ты карта расплатился, это же уже...  Так что да, надо все вообще...  Сильно осторожнее делать.  Да, ну вот понятно, что надо делать осторожно, а вот что конкретно, непонятно, честно говоря.  всегда вообще без всяких этих, это раз, документик подписал, сложил в стопочку, два, на всех сделать документы, которые они тебе подпишут, с выписками за электричество с места аренды недвижимости зарубежной, Ну, типа, как самый простой способ верификации Ну, типа, как самый простой способ верификации иностранного местонахождения, это вот эта выписка.  иностранного местонахождения — это вот эта выписка.  Знаешь, о чем я говорю?  Знаешь, о чем я говорю?  — Ну, я понимаю, да, типа, utility bill, Ну, я понимаю, да, типа, utility bill, а где он?  а где он его возьмет?  Так как у меня ВНЖ никакого нет, я тоже утилитибилом пользуюсь.  Ну, сейчас марокканцы тоже, ну, вдруг еще, наконец-то, но...  Вот такие на всех собрал, они у тебя тоже в стопочке лежат.  Если вдруг кто-то где-то когда-то там что-то там высветится, скажешь, у меня был утилитибил, я был уверен, что...  там находится все вот баги отлавливая да ты говоришь надо у этих поспрашиваю дам да можно дел посмотреть с открылась из кейсы какие-то песни я не вижу пока есть хотел\\n'}}\n"
     ]
    }
   ],
   "source": [
    "async for result in chat_manager.edit_and_continue(\n",
    "        user_id=user_id,\n",
    "        new_content='why is it good?',\n",
    "        thread_id=thread_id,\n",
    "        message_index=1,\n",
    "        context_provider=context_provider\n",
    "    ):\n",
    "    print(result)"
   ]
  },
  {
   "cell_type": "markdown",
   "metadata": {},
   "source": []
  },
  {
   "cell_type": "code",
   "execution_count": 20,
   "metadata": {},
   "outputs": [
    {
     "data": {
      "text/plain": [
       "'In the recent meeting between you, Dmitriy Grankin, and Jasper Vanuytrecht, several key topics were discussed regarding your product related to meeting summaries and knowledge management. Here’s a summary of the main points:\\n\\n1. **Product Features and User Base**: You highlighted the functionality of your product, which includes a dashboard that provides summaries and a chat interface similar to ChatGPT. This allows users to generate insights based on specific meetings or a collection of meetings. You mentioned that the product is currently in a free trial phase, attracting a stable user base with minimal marketing efforts ([1](/meeting/2a40c363-c52b-4f89-8719-e0be87591485)).\\n\\n2. **Sales and Marketing Strategy**: Jasper emphasized the importance of identifying target customers and crafting effective outreach messages. He suggested that a strategic approach to sales and marketing is crucial for growth, particularly for tools addressing enterprise privacy and knowledge management challenges. You discussed the need for a systematic approach to lead generation and the potential for your product to transition from a B2C to a B2B model ([20:31], [34:16]).\\n\\n3. **Challenges in Balancing Development and Marketing**: You reflected on the difficulties of balancing product development with marketing and sales efforts. You shared your experiences with hiring a product manager and the challenges of effective communication, emphasizing the need for founders to engage directly with potential customers to understand their needs ([11:33], [17:24]).\\n\\n4. **SEO and Competitor Strategies**: You mentioned the potential of using SEO tools to drive traffic and how competitors are leveraging YouTube transcripts to attract users. This insight could inform your marketing strategy as you consider ways to enhance visibility and user acquisition ([34:16]).\\n\\n5. **Personal Background**: The conversation also touched on your background, including your move from Russia and the political climate that influenced your decision to relocate ([20:31], [2:10]).\\n\\nOverall, the meeting provided valuable insights into product development, marketing strategies, and the importance of understanding your target audience to drive growth. If you need further details or specific aspects to focus on, feel free to ask!'"
      ]
     },
     "execution_count": 20,
     "metadata": {},
     "output_type": "execute_result"
    }
   ],
   "source": [
    "r['linked_output']"
   ]
  },
  {
   "cell_type": "code",
   "execution_count": 13,
   "metadata": {},
   "outputs": [],
   "source": [
    "meeting_ids = ['q','w']"
   ]
  },
  {
   "cell_type": "code",
   "execution_count": 14,
   "metadata": {},
   "outputs": [],
   "source": [
    "url_dict = {\n",
    "    idx+1: f\"/meeting/{mid}\"\n",
    "    for idx, mid in enumerate(meeting_ids) if mid\n",
    "} if meeting_ids else {}"
   ]
  },
  {
   "cell_type": "code",
   "execution_count": 15,
   "metadata": {},
   "outputs": [
    {
     "data": {
      "text/plain": [
       "{1: '/meeting/q', 2: '/meeting/w'}"
      ]
     },
     "execution_count": 15,
     "metadata": {},
     "output_type": "execute_result"
    }
   ],
   "source": [
    "url_dict"
   ]
  },
  {
   "cell_type": "code",
   "execution_count": 16,
   "metadata": {},
   "outputs": [],
   "source": [
    "import re"
   ]
  },
  {
   "cell_type": "code",
   "execution_count": 17,
   "metadata": {},
   "outputs": [],
   "source": [
    "async def embed_links(text: str, url_dict: dict) -> str:\n",
    "    # Find all numeric references in the text\n",
    "    references = re.findall(r'\\[(\\d+)\\]', text)\n",
    "    \n",
    "    # Replace each reference with the corresponding URL based on position\n",
    "    for idx, ref in enumerate(references, 1):\n",
    "        if idx in url_dict:\n",
    "            text = text.replace(f'[{ref}]', f'[{ref}]({url_dict[idx]})')\n",
    "    return text"
   ]
  },
  {
   "cell_type": "code",
   "execution_count": 18,
   "metadata": {},
   "outputs": [
    {
     "data": {
      "text/plain": [
       "'In the recent meeting between you, Dmitriy Grankin, and Jasper Vanuytrecht, several key topics were discussed regarding your product related to meeting summaries and knowledge management. Here’s a summary of the main points:\\n\\n1. **Product Features and User Base**: You highlighted the functionality of your product, which includes a dashboard that provides summaries and a chat interface similar to ChatGPT. This allows users to generate insights based on specific meetings or a collection of meetings. You mentioned that the product is currently in a free trial phase, attracting a stable user base with minimal marketing efforts ([1](/meeting/q)(/meeting/2a40c363-c52b-4f89-8719-e0be87591485)).\\n\\n2. **Sales and Marketing Strategy**: Jasper emphasized the importance of identifying target customers and crafting effective outreach messages. He suggested that a strategic approach to sales and marketing is crucial for growth, particularly for tools addressing enterprise privacy and knowledge management challenges. You discussed the need for a systematic approach to lead generation and the potential for your product to transition from a B2C to a B2B model ([20:31], [34:16]).\\n\\n3. **Challenges in Balancing Development and Marketing**: You reflected on the difficulties of balancing product development with marketing and sales efforts. You shared your experiences with hiring a product manager and the challenges of effective communication, emphasizing the need for founders to engage directly with potential customers to understand their needs ([11:33], [17:24]).\\n\\n4. **SEO and Competitor Strategies**: You mentioned the potential of using SEO tools to drive traffic and how competitors are leveraging YouTube transcripts to attract users. This insight could inform your marketing strategy as you consider ways to enhance visibility and user acquisition ([34:16]).\\n\\n5. **Personal Background**: The conversation also touched on your background, including your move from Russia and the political climate that influenced your decision to relocate ([20:31], [2:10]).\\n\\nOverall, the meeting provided valuable insights into product development, marketing strategies, and the importance of understanding your target audience to drive growth. If you need further details or specific aspects to focus on, feel free to ask!'"
      ]
     },
     "execution_count": 18,
     "metadata": {},
     "output_type": "execute_result"
    }
   ],
   "source": [
    "await embed_links(r['linked_output'],url_dict)"
   ]
  },
  {
   "cell_type": "code",
   "execution_count": null,
   "metadata": {},
   "outputs": [],
   "source": []
  },
  {
   "cell_type": "code",
   "execution_count": null,
   "metadata": {},
   "outputs": [],
   "source": []
  },
  {
   "cell_type": "code",
   "execution_count": 19,
   "metadata": {},
   "outputs": [
    {
     "ename": "NameError",
     "evalue": "name 'SearchChatManager' is not defined",
     "output_type": "error",
     "traceback": [
      "\u001b[0;31m---------------------------------------------------------------------------\u001b[0m",
      "\u001b[0;31mNameError\u001b[0m                                 Traceback (most recent call last)",
      "Cell \u001b[0;32mIn[19], line 1\u001b[0m\n\u001b[0;32m----> 1\u001b[0m chat_manager \u001b[38;5;241m=\u001b[39m \u001b[43mSearchChatManager\u001b[49m()\n",
      "\u001b[0;31mNameError\u001b[0m: name 'SearchChatManager' is not defined"
     ]
    }
   ],
   "source": [
    "chat_manager = SearchChatManager()"
   ]
  },
  {
   "cell_type": "code",
   "execution_count": 65,
   "metadata": {},
   "outputs": [],
   "source": [
    "from helpers import jupyter_stream_output\n",
    "from typing import Optional"
   ]
  },
  {
   "cell_type": "code",
   "execution_count": null,
   "metadata": {},
   "outputs": [],
   "source": [
    "from typing import Optional\n",
    "from helpers import jupyter_stream_output\n",
    "from search import SearchAssistant\n",
    "\n",
    "# Initialize managers\n",
    "search_assistant = SearchAssistant()\n",
    "chat_manager = SearchChatManager()"
   ]
  },
  {
   "cell_type": "code",
   "execution_count": null,
   "metadata": {},
   "outputs": [],
   "source": [
    "\n",
    "@jupyter_stream_output(markdown=True)\n",
    "async def stream_chat(user_id: str, query: str, thread_id: Optional[str] = None):\n",
    "    async for result in chat_manager.chat(\n",
    "        user_id=user_id,\n",
    "        query=query,\n",
    "        search_assistant=search_assistant,\n",
    "        thread_id=thread_id\n",
    "    ):\n",
    "        if 'chunk' in result:\n",
    "            yield result['chunk']\n",
    "        elif 'output' in result:\n",
    "            yield result['output']\n",
    "\n",
    "# Usage\n",
    "await stream_chat(user_id=user_id, query=\"андрей\")"
   ]
  },
  {
   "cell_type": "code",
   "execution_count": null,
   "metadata": {},
   "outputs": [],
   "source": [
    "\n",
    "# Call the decorated function\n",
    "await stream_chat(user_id=user_id, query=\"маркетинг\")"
   ]
  },
  {
   "cell_type": "code",
   "execution_count": null,
   "metadata": {},
   "outputs": [],
   "source": [
    "await stream_chat(user_id=user_id,query=\"маркетинг\")"
   ]
  },
  {
   "cell_type": "code",
   "execution_count": null,
   "metadata": {},
   "outputs": [],
   "source": []
  },
  {
   "cell_type": "code",
   "execution_count": null,
   "metadata": {},
   "outputs": [],
   "source": [
    "SearchChatManager"
   ]
  },
  {
   "cell_type": "code",
   "execution_count": null,
   "metadata": {},
   "outputs": [],
   "source": []
  },
  {
   "cell_type": "code",
   "execution_count": null,
   "metadata": {},
   "outputs": [],
   "source": []
  },
  {
   "cell_type": "code",
   "execution_count": 21,
   "metadata": {},
   "outputs": [],
   "source": [
    "r = await ParsedSearchRequest.parse_request(\"маркетинг\")\n",
    "queries = r.search_queries"
   ]
  },
  {
   "cell_type": "code",
   "execution_count": null,
   "metadata": {},
   "outputs": [],
   "source": [
    "queries"
   ]
  },
  {
   "cell_type": "code",
   "execution_count": 40,
   "metadata": {},
   "outputs": [],
   "source": [
    "search_results = [\n",
    "            await search_assistant.search(q.query, user_id=user_id) \n",
    "            for q in queries\n",
    "        ]"
   ]
  },
  {
   "cell_type": "code",
   "execution_count": 41,
   "metadata": {},
   "outputs": [],
   "source": [
    "import pandas as pd"
   ]
  },
  {
   "cell_type": "code",
   "execution_count": 42,
   "metadata": {},
   "outputs": [],
   "source": [
    "search_results = pd.concat(search_results)\n",
    "search_results = search_results.drop(columns=['vector_scores', 'exact_matches'])\\\n",
    "    .drop_duplicates(subset=['topic_name', 'speaker_name', 'summary', 'details', 'meeting_id'])\n",
    "\n",
    "# Prepare context using search assistant's methods\n",
    "prepared_df, indexed_meetings = search_assistant.prep_context(search_results)"
   ]
  },
  {
   "cell_type": "code",
   "execution_count": 43,
   "metadata": {},
   "outputs": [],
   "source": [
    "columns_to_drop = ['timestamp', 'vector_scores', 'exact_matches', 'source', 'score', 'meeting_id']\n",
    "existing_columns = [col for col in columns_to_drop if col in prepared_df.columns]\n",
    "context_prepared = prepared_df.drop(columns=existing_columns)\n",
    "\n",
    "context = context_prepared.to_markdown(index=False) if not prepared_df.empty else \"No relevant context found.\"\n",
    "        "
   ]
  },
  {
   "cell_type": "code",
   "execution_count": 45,
   "metadata": {},
   "outputs": [],
   "source": [
    "context = await context_provider._get_raw_context(user_id=user_id,query=\"маркетинг\")"
   ]
  },
  {
   "cell_type": "code",
   "execution_count": null,
   "metadata": {},
   "outputs": [],
   "source": [
    "context"
   ]
  },
  {
   "cell_type": "code",
   "execution_count": null,
   "metadata": {},
   "outputs": [],
   "source": [
    "context_provider.url_dict"
   ]
  },
  {
   "cell_type": "code",
   "execution_count": null,
   "metadata": {},
   "outputs": [],
   "source": []
  },
  {
   "cell_type": "code",
   "execution_count": null,
   "metadata": {},
   "outputs": [],
   "source": []
  },
  {
   "cell_type": "code",
   "execution_count": null,
   "metadata": {},
   "outputs": [],
   "source": [
    "await search_assistant.search(query=\"vexa\",user_id=user_id)"
   ]
  },
  {
   "cell_type": "code",
   "execution_count": null,
   "metadata": {},
   "outputs": [],
   "source": [
    "context = await context_provider.get_context(user_id=user_id,query=\"vexa\")"
   ]
  },
  {
   "cell_type": "code",
   "execution_count": null,
   "metadata": {},
   "outputs": [],
   "source": [
    "context"
   ]
  },
  {
   "cell_type": "code",
   "execution_count": null,
   "metadata": {},
   "outputs": [],
   "source": [
    "\n",
    "meetings = await vexa.get_meetings()"
   ]
  },
  {
   "cell_type": "code",
   "execution_count": 6,
   "metadata": {},
   "outputs": [],
   "source": [
    "from chat import MeetingContextProvider,MeetingChatManager"
   ]
  },
  {
   "cell_type": "code",
   "execution_count": 7,
   "metadata": {},
   "outputs": [],
   "source": [
    "from psql_helpers import get_session,get_meeting_by_id"
   ]
  },
  {
   "cell_type": "code",
   "execution_count": 8,
   "metadata": {},
   "outputs": [],
   "source": [
    "from helpers import jupyter_stream_output"
   ]
  },
  {
   "cell_type": "code",
   "execution_count": 21,
   "metadata": {},
   "outputs": [],
   "source": [
    "meeting_id = 'dbf8ad27-649c-4a16-b5a1-5ab3db002bd9'"
   ]
  },
  {
   "cell_type": "code",
   "execution_count": null,
   "metadata": {},
   "outputs": [],
   "source": [
    "from uuid import UUID\n",
    "meeting_id = UUID(meeting_id)"
   ]
  },
  {
   "cell_type": "code",
   "execution_count": null,
   "metadata": {},
   "outputs": [],
   "source": [
    "meeting_id"
   ]
  },
  {
   "cell_type": "code",
   "execution_count": 23,
   "metadata": {},
   "outputs": [],
   "source": [
    "query = 'summary'"
   ]
  },
  {
   "cell_type": "code",
   "execution_count": 24,
   "metadata": {},
   "outputs": [],
   "source": [
    "thread_id = None"
   ]
  },
  {
   "cell_type": "code",
   "execution_count": 25,
   "metadata": {},
   "outputs": [],
   "source": [
    "from prompts import Prompts\n",
    "prompts = Prompts()\n",
    "prompt = prompts.single_meeting_2711"
   ]
  },
  {
   "cell_type": "code",
   "execution_count": 29,
   "metadata": {},
   "outputs": [],
   "source": [
    "context_provider = MeetingContextProvider([meeting_id])"
   ]
  },
  {
   "cell_type": "code",
   "execution_count": null,
   "metadata": {},
   "outputs": [],
   "source": [
    "async with get_session() as session:\n",
    "    context = await context_provider.get_context(session=session)\n",
    "context\n"
   ]
  },
  {
   "cell_type": "code",
   "execution_count": null,
   "metadata": {},
   "outputs": [],
   "source": [
    "@jupyter_stream_output(markdown=True)\n",
    "async def chat_with_meeting(thread_id, user_id, meeting_id, query):\n",
    "    async with get_session() as session:\n",
    "        context_provider = MeetingContextProvider([meeting_id])\n",
    "        meeting_chat_manager = MeetingChatManager(session, context_provider=context_provider)\n",
    "        async for response in meeting_chat_manager.chat(\n",
    "            meeting_ids=[meeting_id],\n",
    "            user_id=user_id,\n",
    "            query=query,\n",
    "            thread_id=thread_id,\n",
    "            temperature=0.7,\n",
    "            prompt=prompts.single_meeting_2711\n",
    "        ):\n",
    "            yield response\n",
    "# Usage\n",
    "response = await chat_with_meeting(\n",
    "    thread_id=thread_id,\n",
    "    user_id='ef7c085b-fdb5-4c94-b7b6-a61a3d04c210',\n",
    "    meeting_id=meeting_id,\n",
    "    query=\"summare meeting\"\n",
    ")"
   ]
  },
  {
   "cell_type": "code",
   "execution_count": null,
   "metadata": {},
   "outputs": [],
   "source": [
    "meeting_"
   ]
  },
  {
   "cell_type": "code",
   "execution_count": null,
   "metadata": {},
   "outputs": [],
   "source": [
    "await meeting_chat_manager.chat(user_id=user_id,query=\"What was the main topic of the meeting?\",meeting_ids=[meeting_id])"
   ]
  }
 ],
 "metadata": {
  "kernelspec": {
   "display_name": "Python 3",
   "language": "python",
   "name": "python3"
  },
  "language_info": {
   "codemirror_mode": {
    "name": "ipython",
    "version": 3
   },
   "file_extension": ".py",
   "mimetype": "text/x-python",
   "name": "python",
   "nbconvert_exporter": "python",
   "pygments_lexer": "ipython3",
   "version": "3.11.11"
  }
 },
 "nbformat": 4,
 "nbformat_minor": 2
}
