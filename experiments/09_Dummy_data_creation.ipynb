{
 "cells": [
  {
   "cell_type": "code",
   "execution_count": 1,
   "metadata": {},
   "outputs": [],
   "source": [
    "%load_ext autoreload\n",
    "%autoreload 2\n"
   ]
  },
  {
   "cell_type": "code",
   "execution_count": 2,
   "metadata": {},
   "outputs": [],
   "source": [
    "import sys\n",
    "sys.path.append('/app')"
   ]
  },
  {
   "cell_type": "code",
   "execution_count": 3,
   "metadata": {},
   "outputs": [],
   "source": [
    "from create_dummy_data import create_dummy_data"
   ]
  },
  {
   "cell_type": "code",
   "execution_count": 5,
   "metadata": {},
   "outputs": [
    {
     "data": {
      "text/plain": [
       "(UUID('4039d4f0-a8ab-4aa0-b412-f6caa405b251'),\n",
       " 'f2293266-1c6d-4887-a7c0-de1352e4d8cc')"
      ]
     },
     "execution_count": 5,
     "metadata": {},
     "output_type": "execute_result"
    }
   ],
   "source": [
    "await create_dummy_data()"
   ]
  },
  {
   "cell_type": "code",
   "execution_count": null,
   "metadata": {},
   "outputs": [],
   "source": []
  },
  {
   "cell_type": "code",
   "execution_count": 3,
   "metadata": {},
   "outputs": [],
   "source": [
    "from core import generic_call,assistant_msg,user_msg,system_msg"
   ]
  },
  {
   "cell_type": "code",
   "execution_count": 4,
   "metadata": {},
   "outputs": [],
   "source": [
    "from prompts import Prompts"
   ]
  },
  {
   "cell_type": "code",
   "execution_count": 5,
   "metadata": {},
   "outputs": [],
   "source": [
    "prompts = Prompts()"
   ]
  },
  {
   "cell_type": "code",
   "execution_count": 6,
   "metadata": {},
   "outputs": [
    {
     "data": {
      "text/plain": [
       "\"You are to create a detailed and realistic transcript of a meeting that lasts between 40 to 60 minutes. The transcript should be based on the meeting summary provided below. Your goal is to produce a genuine and engaging conversation that reflects the distinct characters, their personalities, roles, and the topics discussed during the meeting.\\n\\nGuidelines:\\n\\nParticipants:\\n\\nInclude all attendees mentioned in the summary.\\nGive each participant a distinct voice and personality consistent with their role.\\nReflect their communication styles (e.g., formal, informal, technical, enthusiastic).\\nHave participants reference other colleagues, departments, or stakeholders relevant to the discussion.\\nStructure:\\n\\nBegin with a brief introduction, including greetings and any small talk.\\nIncorporate small stories or anecdotes relevant to the meeting topics.\\nProgress into the main agenda items as outlined in the summary.\\nInclude discussions, debates, questions, and clarifications.\\nConclude with summarizing decisions made and outlining action items.\\nEnd with closing remarks and goodbyes.\\nContent:\\n\\nCover all key points from the meeting summary.\\nExpand on the topics to create a natural flow of conversation.\\nIntroduce realistic dialogues, including interruptions, agreements, disagreements, and humor if appropriate.\\nIncorporate technical details or explanations relevant to the attendees' expertise.\\nReference company dates, products, concepts, and industry-specific jargon.\\nInclude mentions of other company projects, deadlines, or historical data where appropriate.\\nCreate longer conversations by elaborating on points and encouraging detailed discussions.\\nWeave in stories or anecdotes that make the conversation feel real and engaging.\\nFormat:\\n\\nUse speaker labels to indicate who is speaking (e.g., Maya Patel:).\\nWrite in script format without quotation marks.\\nBreak the transcript into paragraphs for readability.\\nTone and Style:\\n\\nMaintain a professional tone appropriate for a business meeting.\\nEnsure the language used is suitable for the characters' backgrounds and roles.\\nAvoid any disallowed content such as offensive language or inappropriate topics.\\nOverall Goal:\\n\\nProduce a comprehensive and engaging transcript that reads like a real meeting, rich with details and authentic interactions.\\nNote: Be creative in adding depth to the conversation, but ensure all additions are consistent with the meeting summary and the characters involved.\""
      ]
     },
     "execution_count": 6,
     "metadata": {},
     "output_type": "execute_result"
    }
   ],
   "source": [
    "prompts.create_dummy_trasncript"
   ]
  },
  {
   "cell_type": "code",
   "execution_count": 7,
   "metadata": {},
   "outputs": [],
   "source": [
    "from pydantic_models import DummyTranscript"
   ]
  },
  {
   "cell_type": "code",
   "execution_count": 15,
   "metadata": {},
   "outputs": [],
   "source": [
    "from datetime import datetime, timedelta\n",
    "import asyncio\n",
    "import uuid\n",
    "from sqlalchemy import select\n",
    "from psql_models import User, Meeting, UserMeeting, Speaker, meeting_speaker_association, AccessLevel\n",
    "from psql_helpers import get_session\n",
    "from pydantic_models import DummyTranscript\n",
    "from core import system_msg, user_msg\n",
    "from prompts import Prompts\n",
    "\n",
    "async def create_dummy_user():\n",
    "    async with get_session() as session:\n",
    "        # Create dummy user if not exists\n",
    "        dummy_user_id = uuid.uuid4()\n",
    "        user_query = select(User).where(User.email == \"maya_petel@example.com\")\n",
    "        existing_user = await session.execute(user_query)\n",
    "        user = existing_user.scalar_one_or_none()\n",
    "        \n",
    "        if not user:\n",
    "            user = User(\n",
    "                id=dummy_user_id,\n",
    "                email=\"maya_petel@example.com\",\n",
    "                username=\"Maya Patel\",\n",
    "                first_name=\"Maya\",\n",
    "                last_name=\"Patel\"\n",
    "            )\n",
    "            session.add(user)\n",
    "            await session.commit()\n",
    "        \n",
    "        return user\n",
    "    \n",
    "user = await create_dummy_user()"
   ]
  },
  {
   "cell_type": "code",
   "execution_count": 17,
   "metadata": {},
   "outputs": [
    {
     "data": {
      "text/plain": [
       "UUID('d4a321c8-6e10-449e-85f2-42124a95cfad')"
      ]
     },
     "execution_count": 17,
     "metadata": {},
     "output_type": "execute_result"
    }
   ],
   "source": [
    "user.id"
   ]
  },
  {
   "cell_type": "code",
   "execution_count": 18,
   "metadata": {},
   "outputs": [],
   "source": [
    "inputs =prompts.dummy_input_prompts.split('|||')"
   ]
  },
  {
   "cell_type": "code",
   "execution_count": 20,
   "metadata": {},
   "outputs": [],
   "source": [
    "inputs = [[system_msg(prompts.create_dummy_trasncript),\n",
    "       user_msg(prompts.dummy_user),\n",
    "       user_msg(i)] for i in inputs]"
   ]
  },
  {
   "cell_type": "code",
   "execution_count": 21,
   "metadata": {},
   "outputs": [
    {
     "data": {
      "text/plain": [
       "[Msg(role='system', content=\"You are to create a detailed and realistic transcript of a meeting that lasts between 40 to 60 minutes. The transcript should be based on the meeting summary provided below. Your goal is to produce a genuine and engaging conversation that reflects the distinct characters, their personalities, roles, and the topics discussed during the meeting.\\n\\nGuidelines:\\n\\nParticipants:\\n\\nInclude all attendees mentioned in the summary.\\nGive each participant a distinct voice and personality consistent with their role.\\nReflect their communication styles (e.g., formal, informal, technical, enthusiastic).\\nHave participants reference other colleagues, departments, or stakeholders relevant to the discussion.\\nStructure:\\n\\nBegin with a brief introduction, including greetings and any small talk.\\nIncorporate small stories or anecdotes relevant to the meeting topics.\\nProgress into the main agenda items as outlined in the summary.\\nInclude discussions, debates, questions, and clarifications.\\nConclude with summarizing decisions made and outlining action items.\\nEnd with closing remarks and goodbyes.\\nContent:\\n\\nCover all key points from the meeting summary.\\nExpand on the topics to create a natural flow of conversation.\\nIntroduce realistic dialogues, including interruptions, agreements, disagreements, and humor if appropriate.\\nIncorporate technical details or explanations relevant to the attendees' expertise.\\nReference company dates, products, concepts, and industry-specific jargon.\\nInclude mentions of other company projects, deadlines, or historical data where appropriate.\\nCreate longer conversations by elaborating on points and encouraging detailed discussions.\\nWeave in stories or anecdotes that make the conversation feel real and engaging.\\nFormat:\\n\\nUse speaker labels to indicate who is speaking (e.g., Maya Patel:).\\nWrite in script format without quotation marks.\\nBreak the transcript into paragraphs for readability.\\nTone and Style:\\n\\nMaintain a professional tone appropriate for a business meeting.\\nEnsure the language used is suitable for the characters' backgrounds and roles.\\nAvoid any disallowed content such as offensive language or inappropriate topics.\\nOverall Goal:\\n\\nProduce a comprehensive and engaging transcript that reads like a real meeting, rich with details and authentic interactions.\\nNote: Be creative in adding depth to the conversation, but ensure all additions are consistent with the meeting summary and the characters involved.\", stage=None, service_content=None),\n",
       " Msg(role='user', content='Maya Patel stood at the floor-to-ceiling window of her corner office, sipping a steaming cup of fair-trade coffee. From the 15th floor of EcoSphere Innovations\\' headquarters in downtown Seattle, she watched the city bustle beneath a misty morning drizzle. The sight always invigorated her—a reminder of the vibrant world she was striving to make more sustainable.\\n\\nBackground and Profile\\n\\nAt 34, Maya was one of the youngest senior product managers at EcoSphere Innovations, a tech company specializing in smart home devices aimed at promoting energy efficiency and environmental sustainability. Born to immigrant parents from India, she grew up in a household that valued resourcefulness and minimal waste. Her father, an electrical engineer, often involved her in tinkering with gadgets, instilling a deep-seated passion for technology. Maya pursued a double major in Environmental Science and Computer Engineering at Stanford University, graduating summa cum laude.\\n\\nAfter college, she spent five years at a leading tech firm but felt something was missing. The products were innovative but lacked a meaningful impact on the world. When she learned about EcoSphere Innovations—a startup at the time—she leaped at the opportunity to align her tech expertise with her environmental values.\\n\\nThe Company: EcoSphere Innovations\\n\\nEcoSphere Innovations had carved a niche in the competitive tech market by focusing on eco-friendly smart devices. Their flagship product, the \"EcoHub,\" was a central system that connected all smart appliances in a home, optimizing energy use without sacrificing comfort. Under the visionary leadership of CEO Elena Rodriguez, the company grew from a small team of enthusiasts to a global player in sustainable technology.\\n\\nMorning Routine\\n\\nMaya\\'s day began at 6:00 AM with a 30-minute meditation session, a practice she adopted to maintain mental clarity amidst her hectic schedule. She then reviewed global energy reports while having a light breakfast—usually oatmeal with fresh berries. By 7:30 AM, she was on her electric bike, commuting to work along the scenic waterfront bike trails.\\n\\nAt 8:00 AM sharp, she arrived at the office, greeting the security staff by name. She believed that every team member, regardless of their role, contributed to the company\\'s success. Maya headed straight to her office, a minimalist space adorned with indoor plants and a whiteboard wall covered in colorful diagrams and notes.\\n\\nWork Begins: The Project\\n\\nCurrently, Maya was spearheading the development of \"SolarSense,\" a smart device that integrated home solar panels with the EcoHub system. The goal was to maximize the efficiency of solar energy usage in households, making renewable energy more accessible to the average consumer.\\n\\nAt 8:30 AM, she convened a virtual meeting with her international team—software developers in Germany, hardware engineers in Japan, and UX designers in Brazil. Time zones were a challenge, but Maya coordinated schedules to ensure everyone felt included. The team discussed progress updates, technical hurdles, and upcoming milestones. Maya emphasized open communication and often reminded her team, \"Innovation thrives in collaboration.\"\\n\\nMidday Activities\\n\\nAfter the morning meetings, Maya spent an hour reviewing user feedback from the beta testers of SolarSense. She meticulously noted patterns in the data—common issues, popular features, and suggestions for improvement. User-centric design was her mantra; she believed that understanding the end-user\\'s experience was paramount to a product\\'s success.\\n\\nAt noon, she joined colleagues for a plant-based lunch in the company\\'s eco-friendly cafeteria. Conversations ranged from casual weekend plans to debates on the latest environmental policies. Maya enjoyed these moments—they fostered a sense of community and often sparked creative ideas.\\n\\nAfternoon Sessions\\n\\nPost-lunch, Maya attended a strategy meeting with the marketing and sales departments. The launch of SolarSense was six months away, and aligning the product features with market expectations was critical. She presented her team\\'s progress, highlighting how SolarSense differed from competitors—its seamless integration, user-friendly interface, and adaptive algorithms that learned from the homeowner\\'s energy consumption patterns.\\n\\nThe CFO raised concerns about production costs, suggesting cuts to certain features to improve profit margins. Maya stood her ground respectfully. \"While I understand the financial implications, compromising on these features would undermine the product\\'s value proposition. Our commitment to quality and sustainability is what sets us apart.\"\\n\\nHer persuasive argument, backed by data and a deep understanding of the market, convinced the team to maintain the original specifications.\\n\\nEvening Wrap-Up\\n\\nBy 5:00 PM, Maya conducted one-on-one meetings with her team members. She provided feedback, discussed career goals, and offered mentorship. She believed in nurturing talent and often said, \"Our people are our greatest asset.\"\\n\\nBefore leaving the office, she spent time organizing her tasks for the next day, responding to emails, and updating the project\\'s dashboard. At 6:30 PM, she left the office, often heading to a local gym for a yoga class or meeting friends for a sustainable cooking workshop.\\n\\nChallenges and Reflections\\n\\nOne of the significant challenges Maya faced was balancing innovation with practicality. Integrating cutting-edge technology into products that were affordable and user-friendly required constant iteration and problem-solving. There were moments of frustration—like when a critical component failed testing or when supply chain issues delayed timelines.\\n\\nDuring such times, Maya found solace in her mentors within the company, including CTO Michael Nguyen, who reminded her that setbacks were stepping stones to success. She also kept a journal, jotting down lessons learned and ideas for future projects.\\n\\nPersonal Life\\n\\nOutside of work, Maya was an advocate for environmental education in schools. She volunteered on weekends to teach children about sustainability, hoping to inspire the next generation. She also enjoyed hiking in the nearby mountains, finding inspiration in nature\\'s beauty.\\n\\nDespite her busy schedule, she maintained close ties with her family. Weekly video calls with her parents and siblings were a cherished routine. They discussed everything from her nephew\\'s soccer games to traditional family recipes adapted for vegan diets.\\n\\nThe Road Ahead\\n\\nAs the launch date for SolarSense approached, Maya\\'s days grew longer. She coordinated a final round of testing, collaborated with the legal team on patent filings, and worked with customer service to prepare for post-launch support.\\n\\nThe night before the launch, Maya stayed late at the office. She walked through each department, thanking everyone for their hard work. Back in her office, she gazed out the window at the city lights reflecting off the bay. A sense of accomplishment washed over her. Regardless of the product\\'s commercial success, she knew they had created something meaningful.\\n\\nLaunch Day\\n\\nThe launch was a resounding success. SolarSense received rave reviews for its innovation and impact on reducing household energy consumption. Orders exceeded projections, and the company\\'s stock saw a significant uptick.\\n\\nMaya was invited to speak at international conferences and featured in industry publications. Yet, she remained humble, always crediting her team\\'s collaborative effort.\\n\\nLegacy and Impact\\n\\nMaya\\'s journey at EcoSphere Innovations was more than a career—it was a mission to make a tangible difference in the world. Under her leadership, the company continued to pioneer products that not only advanced technology but also promoted a sustainable future.\\n\\nHer story inspired many within the industry, especially young women and minorities pursuing STEM careers. Maya often concluded her talks with, \"Success isn\\'t just about the products we create; it\\'s about the positive change we inspire.\"\\n\\nConclusion\\n\\nMaya Patel\\'s tale is a testament to what can be achieved when passion meets purpose. Her meticulous approach to product management, combined with her unwavering commitment to sustainability, propelled both her career and EcoSphere Innovations to new heights. As she continued to innovate and inspire, one thing was certain—the future was a bit brighter and a lot greener with Maya leading the way.', stage=None, service_content=None),\n",
       " Msg(role='user', content='1. Meeting with German Software Team\\n\\nDate: March 1, 2024\\nAttendees:\\n\\nMaya Patel – Senior Product Manager\\nLukas Schmidt – Lead Software Engineer\\nAnja Müller – Backend Developer\\nStefan Weber – QA Specialist\\nSummary:\\n\\nMaya held a virtual meeting with the German software team to discuss the integration of adaptive algorithms into SolarSense. Lukas presented the latest developments on machine learning models that predict energy consumption patterns. Anja expressed concerns about data privacy compliance with European regulations. Stefan highlighted the need for extensive testing before deployment.\\n\\nMaya acknowledged the importance of data privacy and instructed the team to collaborate with the legal department to ensure compliance. She emphasized the goal of providing a seamless user experience while adhering to regulations.\\n\\nAction Items:\\n\\nAnja to consult with the legal team on data privacy issues.\\nStefan to develop a testing plan for the new algorithms.\\nLukas to refine the machine learning models based on feedback.\\n', stage=None, service_content=None)]"
      ]
     },
     "execution_count": 21,
     "metadata": {},
     "output_type": "execute_result"
    }
   ],
   "source": [
    "inputs[0]"
   ]
  },
  {
   "cell_type": "code",
   "execution_count": 22,
   "metadata": {},
   "outputs": [
    {
     "data": {
      "text/plain": [
       "DummyTranscript(entries=[DummyTranscriptEntry(speaker='Maya Patel', timestamp=datetime.datetime(2024, 3, 1, 8, 0), content='Good morning, everyone! I hope you all are doing well. It’s a bit rainy here in Seattle, but that’s typical for this time of year. How’s the weather in Germany?'), DummyTranscriptEntry(speaker='Lukas Schmidt', timestamp=datetime.datetime(2024, 3, 1, 8, 0, 15), content='Good morning, Maya! It’s actually quite sunny here today, which is a nice change. We’re enjoying it while it lasts!'), DummyTranscriptEntry(speaker='Anja Müller', timestamp=datetime.datetime(2024, 3, 1, 8, 0, 30), content='Morning! I wish we could send some of this sunshine your way. It’s been a bit dreary lately.'), DummyTranscriptEntry(speaker='Stefan Weber', timestamp=datetime.datetime(2024, 3, 1, 8, 0, 45), content='Good morning, everyone! I’m just glad we’re not dealing with snow. Let’s keep it that way!'), DummyTranscriptEntry(speaker='Maya Patel', timestamp=datetime.datetime(2024, 3, 1, 8, 1), content='Absolutely! Alright, let’s dive into our agenda for today. Lukas, I believe you have some updates on the machine learning models for SolarSense?'), DummyTranscriptEntry(speaker='Lukas Schmidt', timestamp=datetime.datetime(2024, 3, 1, 8, 1, 15), content='Yes, I do! We’ve made significant progress on the adaptive algorithms. The latest models can now predict energy consumption patterns with about 85% accuracy based on historical data.'), DummyTranscriptEntry(speaker='Anja Müller', timestamp=datetime.datetime(2024, 3, 1, 8, 1, 30), content='That’s impressive, Lukas! But I have some concerns regarding data privacy compliance, especially with the new European regulations coming into effect.'), DummyTranscriptEntry(speaker='Maya Patel', timestamp=datetime.datetime(2024, 3, 1, 8, 1, 45), content='That’s a valid point, Anja. We need to ensure that our algorithms comply with GDPR. Can you take the lead on consulting with the legal team about this?'), DummyTranscriptEntry(speaker='Anja Müller', timestamp=datetime.datetime(2024, 3, 1, 8, 2), content='Of course, I’ll reach out to them right after this meeting.'), DummyTranscriptEntry(speaker='Stefan Weber', timestamp=datetime.datetime(2024, 3, 1, 8, 2, 15), content='And while we’re on the topic, I think we should also discuss the testing phase. We need extensive testing to ensure that the algorithms perform well under different scenarios.'), DummyTranscriptEntry(speaker='Maya Patel', timestamp=datetime.datetime(2024, 3, 1, 8, 2, 30), content='Absolutely, Stefan. What do you propose for the testing plan?'), DummyTranscriptEntry(speaker='Stefan Weber', timestamp=datetime.datetime(2024, 3, 1, 8, 2, 45), content='I suggest we create a multi-phase testing approach. First, we can run simulations with historical data, then move to a controlled environment before any real-world deployment.'), DummyTranscriptEntry(speaker='Lukas Schmidt', timestamp=datetime.datetime(2024, 3, 1, 8, 3), content='That sounds solid. I can refine the models based on the feedback from the testing phase.'), DummyTranscriptEntry(speaker='Maya Patel', timestamp=datetime.datetime(2024, 3, 1, 8, 3, 15), content='Great! So, to summarize our action items: Anja, you’ll consult with the legal team on data privacy issues. Stefan, you’ll develop a comprehensive testing plan, and Lukas, you’ll refine the machine learning models based on the feedback.'), DummyTranscriptEntry(speaker='Anja Müller', timestamp=datetime.datetime(2024, 3, 1, 8, 3, 30), content='Got it! I’ll make sure to prioritize the legal consultation.'), DummyTranscriptEntry(speaker='Stefan Weber', timestamp=datetime.datetime(2024, 3, 1, 8, 3, 45), content='And I’ll start drafting the testing plan right away.'), DummyTranscriptEntry(speaker='Lukas Schmidt', timestamp=datetime.datetime(2024, 3, 1, 8, 4), content='I’ll work on the model refinements and keep you all updated.'), DummyTranscriptEntry(speaker='Maya Patel', timestamp=datetime.datetime(2024, 3, 1, 8, 4, 15), content='Perfect! I appreciate everyone’s input today. Let’s keep the lines of communication open as we move forward. If any issues arise, don’t hesitate to reach out.'), DummyTranscriptEntry(speaker='Anja Müller', timestamp=datetime.datetime(2024, 3, 1, 8, 4, 30), content='Thanks, Maya! Looking forward to our next steps.'), DummyTranscriptEntry(speaker='Stefan Weber', timestamp=datetime.datetime(2024, 3, 1, 8, 4, 45), content='Me too! Let’s make this a success.'), DummyTranscriptEntry(speaker='Lukas Schmidt', timestamp=datetime.datetime(2024, 3, 1, 8, 5), content='Absolutely! Have a great day, everyone!'), DummyTranscriptEntry(speaker='Maya Patel', timestamp=datetime.datetime(2024, 3, 1, 8, 5, 15), content='You too! Talk soon!')])"
      ]
     },
     "execution_count": 22,
     "metadata": {},
     "output_type": "execute_result"
    }
   ],
   "source": [
    "r = await DummyTranscript.call(inputs[0])\n",
    "r\n"
   ]
  },
  {
   "cell_type": "code",
   "execution_count": 23,
   "metadata": {},
   "outputs": [
    {
     "data": {
      "text/plain": [
       "[DummyTranscriptEntry(speaker='Maya Patel', timestamp=datetime.datetime(2024, 3, 1, 8, 0), content='Good morning, everyone! I hope you all are doing well. It’s a bit rainy here in Seattle, but that’s typical for this time of year. How’s the weather in Germany?'),\n",
       " DummyTranscriptEntry(speaker='Lukas Schmidt', timestamp=datetime.datetime(2024, 3, 1, 8, 0, 15), content='Good morning, Maya! It’s actually quite sunny here today, which is a nice change. We’re enjoying it while it lasts!'),\n",
       " DummyTranscriptEntry(speaker='Anja Müller', timestamp=datetime.datetime(2024, 3, 1, 8, 0, 30), content='Morning! I wish we could send some of this sunshine your way. It’s been a bit dreary lately.'),\n",
       " DummyTranscriptEntry(speaker='Stefan Weber', timestamp=datetime.datetime(2024, 3, 1, 8, 0, 45), content='Good morning, everyone! I’m just glad we’re not dealing with snow. Let’s keep it that way!'),\n",
       " DummyTranscriptEntry(speaker='Maya Patel', timestamp=datetime.datetime(2024, 3, 1, 8, 1), content='Absolutely! Alright, let’s dive into our agenda for today. Lukas, I believe you have some updates on the machine learning models for SolarSense?'),\n",
       " DummyTranscriptEntry(speaker='Lukas Schmidt', timestamp=datetime.datetime(2024, 3, 1, 8, 1, 15), content='Yes, I do! We’ve made significant progress on the adaptive algorithms. The latest models can now predict energy consumption patterns with about 85% accuracy based on historical data.'),\n",
       " DummyTranscriptEntry(speaker='Anja Müller', timestamp=datetime.datetime(2024, 3, 1, 8, 1, 30), content='That’s impressive, Lukas! But I have some concerns regarding data privacy compliance, especially with the new European regulations coming into effect.'),\n",
       " DummyTranscriptEntry(speaker='Maya Patel', timestamp=datetime.datetime(2024, 3, 1, 8, 1, 45), content='That’s a valid point, Anja. We need to ensure that our algorithms comply with GDPR. Can you take the lead on consulting with the legal team about this?'),\n",
       " DummyTranscriptEntry(speaker='Anja Müller', timestamp=datetime.datetime(2024, 3, 1, 8, 2), content='Of course, I’ll reach out to them right after this meeting.'),\n",
       " DummyTranscriptEntry(speaker='Stefan Weber', timestamp=datetime.datetime(2024, 3, 1, 8, 2, 15), content='And while we’re on the topic, I think we should also discuss the testing phase. We need extensive testing to ensure that the algorithms perform well under different scenarios.'),\n",
       " DummyTranscriptEntry(speaker='Maya Patel', timestamp=datetime.datetime(2024, 3, 1, 8, 2, 30), content='Absolutely, Stefan. What do you propose for the testing plan?'),\n",
       " DummyTranscriptEntry(speaker='Stefan Weber', timestamp=datetime.datetime(2024, 3, 1, 8, 2, 45), content='I suggest we create a multi-phase testing approach. First, we can run simulations with historical data, then move to a controlled environment before any real-world deployment.'),\n",
       " DummyTranscriptEntry(speaker='Lukas Schmidt', timestamp=datetime.datetime(2024, 3, 1, 8, 3), content='That sounds solid. I can refine the models based on the feedback from the testing phase.'),\n",
       " DummyTranscriptEntry(speaker='Maya Patel', timestamp=datetime.datetime(2024, 3, 1, 8, 3, 15), content='Great! So, to summarize our action items: Anja, you’ll consult with the legal team on data privacy issues. Stefan, you’ll develop a comprehensive testing plan, and Lukas, you’ll refine the machine learning models based on the feedback.'),\n",
       " DummyTranscriptEntry(speaker='Anja Müller', timestamp=datetime.datetime(2024, 3, 1, 8, 3, 30), content='Got it! I’ll make sure to prioritize the legal consultation.'),\n",
       " DummyTranscriptEntry(speaker='Stefan Weber', timestamp=datetime.datetime(2024, 3, 1, 8, 3, 45), content='And I’ll start drafting the testing plan right away.'),\n",
       " DummyTranscriptEntry(speaker='Lukas Schmidt', timestamp=datetime.datetime(2024, 3, 1, 8, 4), content='I’ll work on the model refinements and keep you all updated.'),\n",
       " DummyTranscriptEntry(speaker='Maya Patel', timestamp=datetime.datetime(2024, 3, 1, 8, 4, 15), content='Perfect! I appreciate everyone’s input today. Let’s keep the lines of communication open as we move forward. If any issues arise, don’t hesitate to reach out.'),\n",
       " DummyTranscriptEntry(speaker='Anja Müller', timestamp=datetime.datetime(2024, 3, 1, 8, 4, 30), content='Thanks, Maya! Looking forward to our next steps.'),\n",
       " DummyTranscriptEntry(speaker='Stefan Weber', timestamp=datetime.datetime(2024, 3, 1, 8, 4, 45), content='Me too! Let’s make this a success.'),\n",
       " DummyTranscriptEntry(speaker='Lukas Schmidt', timestamp=datetime.datetime(2024, 3, 1, 8, 5), content='Absolutely! Have a great day, everyone!'),\n",
       " DummyTranscriptEntry(speaker='Maya Patel', timestamp=datetime.datetime(2024, 3, 1, 8, 5, 15), content='You too! Talk soon!')]"
      ]
     },
     "execution_count": 23,
     "metadata": {},
     "output_type": "execute_result"
    }
   ],
   "source": [
    "r.entries"
   ]
  },
  {
   "cell_type": "code",
   "execution_count": null,
   "metadata": {},
   "outputs": [],
   "source": [
    "meeting = Meeting(\n",
    "                meeting_id=uuid.uuid4(),\n",
    "                transcript=str([{\n",
    "                    'speaker': entry.speaker,\n",
    "                    'timestamp': entry.timestamp.isoformat(),\n",
    "                    'content': entry.content\n",
    "                } for entry in transcript.entries),\n",
    "                timestamp=base_date + timedelta(days=i),\n",
    "                meeting_name=f\"Dummy Meeting {i+1}\",\n",
    "                meeting_summary=\"Sample meeting about product feedback\",\n",
    "                is_indexed=True\n",
    "            )\n",
    "session.add(meeting)\n",
    "await session.flush()"
   ]
  }
 ],
 "metadata": {
  "kernelspec": {
   "display_name": "langchain",
   "language": "python",
   "name": "python3"
  },
  "language_info": {
   "codemirror_mode": {
    "name": "ipython",
    "version": 3
   },
   "file_extension": ".py",
   "mimetype": "text/x-python",
   "name": "python",
   "nbconvert_exporter": "python",
   "pygments_lexer": "ipython3",
   "version": "3.11.10"
  }
 },
 "nbformat": 4,
 "nbformat_minor": 2
}
