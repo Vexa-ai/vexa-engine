{
 "cells": [
  {
   "cell_type": "code",
   "execution_count": 1,
   "metadata": {},
   "outputs": [],
   "source": [
    "%load_ext autoreload\n",
    "%autoreload 2"
   ]
  },
  {
   "cell_type": "code",
   "execution_count": 2,
   "metadata": {},
   "outputs": [],
   "source": [
    "import sys\n",
    "sys.path.append('/app')"
   ]
  },
  {
   "cell_type": "code",
   "execution_count": 3,
   "metadata": {},
   "outputs": [],
   "source": [
    "from nest_asyncio import apply\n",
    "apply()"
   ]
  },
  {
   "cell_type": "code",
   "execution_count": 4,
   "metadata": {},
   "outputs": [],
   "source": [
    "from chat import *\n",
    "import os"
   ]
  },
  {
   "cell_type": "code",
   "execution_count": 5,
   "metadata": {},
   "outputs": [],
   "source": [
    "from psql_helpers import (\n",
    "    async_session, get_session,\n",
    "\n",
    ")\n",
    "from vexa import *"
   ]
  },
  {
   "cell_type": "code",
   "execution_count": 6,
   "metadata": {},
   "outputs": [
    {
     "name": "stdout",
     "output_type": "stream",
     "text": [
      "Vexa token: 3ae04e20124d40babc5107e658c666b6\n",
      "User information retrieved successfully.\n"
     ]
    }
   ],
   "source": [
    "auth = VexaAuth()\n",
    "vexa = VexaAPI()\n",
    "user_id = (await vexa.get_user_info())['id']\n",
    "\n",
    "# Initialize search engines"
   ]
  },
  {
   "cell_type": "code",
   "execution_count": 7,
   "metadata": {},
   "outputs": [
    {
     "name": "stdout",
     "output_type": "stream",
     "text": [
      "Connecting to Elasticsearch at elasticsearch:9200\n"
     ]
    }
   ],
   "source": [
    "qdrant_engine = QdrantSearchEngine(os.getenv('VOYAGE_API_KEY'))\n",
    "es_engine = await ElasticsearchBM25.create() "
   ]
  },
  {
   "cell_type": "code",
   "execution_count": 8,
   "metadata": {},
   "outputs": [],
   "source": [
    "chat_manager = UnifiedChatManager(\n",
    "        session=get_session(),\n",
    "        qdrant_engine=qdrant_engine,\n",
    "        es_engine=es_engine\n",
    "    )"
   ]
  },
  {
   "cell_type": "code",
   "execution_count": 9,
   "metadata": {},
   "outputs": [],
   "source": [
    "query = \"What is the weather in San Francisco?\""
   ]
  },
  {
   "cell_type": "code",
   "execution_count": 10,
   "metadata": {},
   "outputs": [],
   "source": [
    "fronten_id = None\n",
    "thread_id = None\n",
    "content_id = None\n",
    "entity_id = None\n",
    "content_ids = None\n",
    "entity_ids = None\n",
    "model = \"gpt-4o-mini\"\n",
    "temperature = 0.0\n",
    "meta = None\n"
   ]
  },
  {
   "cell_type": "code",
   "execution_count": 11,
   "metadata": {},
   "outputs": [],
   "source": [
    "from helpers import jupyter_stream_output\n"
   ]
  },
  {
   "cell_type": "code",
   "execution_count": 12,
   "metadata": {},
   "outputs": [],
   "source": [
    "from psql_helpers import get_session\n",
    "\n",
    "@jupyter_stream_output(markdown=True)\n",
    "async def unified_chat(\n",
    "    query: str,\n",
    "    content_id: Optional[UUID] = None,\n",
    "    entity_id: Optional[int] = None,\n",
    "    content_ids: Optional[List[UUID]] = None,\n",
    "    entity_ids: Optional[List[int]] = None,\n",
    "    thread_id: Optional[str] = None,\n",
    "    temperature: float = 0.7\n",
    "):\n",
    "    \"\"\"\n",
    "    Unified chat function supporting both content and entity-based search\n",
    "    \n",
    "    Args:\n",
    "        query: The user's query\n",
    "        content_id: Optional single content ID for direct thread mapping\n",
    "        entity_id: Optional single entity ID for direct thread mapping\n",
    "        content_ids: Optional list of content IDs for search scope\n",
    "        entity_ids: Optional list of entity IDs for search scope\n",
    "        thread_id: Optional thread ID to continue conversation\n",
    "        temperature: Model temperature parameter\n",
    "    \"\"\"\n",
    "    \n",
    "    async with get_session() as session:\n",
    "        chat_manager = UnifiedChatManager(\n",
    "            session=session,\n",
    "            qdrant_engine=qdrant_engine,\n",
    "            es_engine=es_engine\n",
    "        )\n",
    "        \n",
    "        async for result in chat_manager.chat(\n",
    "            user_id=user_id,\n",
    "            query=query,\n",
    "            content_id=content_id,\n",
    "            entity_id=entity_id,\n",
    "            content_ids=content_ids,\n",
    "            entity_ids=entity_ids,\n",
    "            thread_id=thread_id,\n",
    "            temperature=temperature\n",
    "        ):\n",
    "            if 'chunk' in result:\n",
    "                yield result['chunk']\n",
    "            elif 'linked_output' in result:\n",
    "                yield result\n",
    "                \n",
    "            print(result)"
   ]
  },
  {
   "cell_type": "code",
   "execution_count": 13,
   "metadata": {},
   "outputs": [
    {
     "data": {
      "text/markdown": [
       "The last person I mentioned is **Artem Puzik**. He participated in the discussion on **January 23, 2025**, where you talked about the integration of an API within an existing application, specifically focusing on the authentication process and handling user tokens. If you need more details about your conversation with him or any other topic, just let me know!"
      ],
      "text/plain": [
       "<IPython.core.display.Markdown object>"
      ]
     },
     "metadata": {},
     "output_type": "display_data"
    },
    {
     "name": "stdout",
     "output_type": "stream",
     "text": [
      "{'chunk': '!'}\n"
     ]
    },
    {
     "data": {
      "text/plain": [
       "{'thread_id': '475e6948-a903-4f63-b067-3084bef1c5fb',\n",
       " 'output': 'The last person I mentioned is **Artem Puzik**. He participated in the discussion on **January 23, 2025**, where you talked about the integration of an API within an existing application, specifically focusing on the authentication process and handling user tokens. If you need more details about your conversation with him or any other topic, just let me know!',\n",
       " 'linked_output': 'The last person I mentioned is **Artem Puzik**. He participated in the discussion on **January 23, 2025**, where you talked about the integration of an API within an existing application, specifically focusing on the authentication process and handling user tokens. If you need more details about your conversation with him or any other topic, just let me know!',\n",
       " 'service_content': {'output': 'The last person I mentioned is **Artem Puzik**. He participated in the discussion on **January 23, 2025**, where you talked about the integration of an API within an existing application, specifically focusing on the authentication process and handling user tokens. If you need more details about your conversation with him or any other topic, just let me know!',\n",
       "  'context': \"## Meeting 1 - January 23, 2025 09:40\\n\\n- [2025-01-23 09:40:30] This chunk is part of a conversation between Artem Puzik and Dmitry Grankin discussing the integration of an API within an existing application. Artem is clarifying the authentication process and the handling of user tokens within the app, emphasizing that the user will already be authorized when accessing the chat feature.\\n  > Artem Puzik:  это же внутри уже готового приложения будет правильно ну то есть пользователь туда уже на эту страницу он придет авторизована или это просто что-то отдельная мне как бы окошко там авторизации я да если ты сейчас пойдешь там у тебя есть еще  можно взять пока ту страницу, которая есть, она там неадаптивная, надо будет адаптивнее справиться, но это потом.  там слово такое что сначала сначала у тебя идет google авторизация и сначала как пользователь  Нет, Дим, я о другом.  То есть, допустим, если моя страница, мой компонент или что-то там, API мое будет лежать уже внутри страницы, Твоего приложения, то есть авторизация, значит, уже пройдена.  Значит, этот токен у тебя где-то там лежит, я его найду, правильно?  Этот токен, ты его получаешь от приложения.  Женя, у тебя там как раз описано, как авторизация происходит, и ты его сохраняешь в руке.  Еще раз.  Да. Для того, чтобы дойти до этого чата, я уже у тебя в существующем Vexo App, да, уже какой-то путь прошел, правильно?  Авторизация.\\n\\n## Meeting 3 - January 21, 2025 15:36\\n\\n- [2025-01-21 15:36:56] The chunk is part of a discussion among team members, primarily Dmitriy Grankin, about the development process of a project involving API integration and component creation. They are planning how to structure their work, including the documentation of APIs and the implementation of user interface components, while considering collaboration and efficiency in their workflow.\\n  > Dmitriy Grankin:  Или сейчас можем пойти посмотреть.  Хотя он у меня лежит, надо его запустить.  А свагер есть какой-нибудь?  Да, конечно.  Ну вот, я подниму тебе, скину свагер, и да, могу просто расписать просто все.  Ну да, и скажи, допустим, за что тянуть, потому что там, наверное, больше, чем пару методов.  Там побольше, чем пару методов.  Да, ну, знаешь, я большой кучи могу не найти.  Ну да, может, там еще что-то лишнее есть.  Ну, я думаю, мы начнем в любом случае с самого...  как бы маркапа и ксс, ну, html, ксс, или как, подожди, или нет, или, Артем, как ты?  Нет, ну, как бы хотелось бы сразу рендерить что-то.  Окей, я никогда не лезу, потому что у меня свои как бы подходы.  Нет, просто пустые компоненты, да окей, я там один компонент сделаю вот там с левой панели, там второй с правой панели и так далее.  Ну, тут 10 компонентов сделал, в принципе, уже готово.  Остальное надо уже прикручивать к API.  Ну, тогда, я думаю, можно как раз по этому, по каждому, чтобы не тратить...  Сейчас кучу времени на обсуждение.  Можно по каждому компоненту спрашивать там регулярно.  Дима не против будет, чтобы мы не описывали сейчас все, а вот, допустим, Артем делает.  Лет там, список чатов, дай мне API для конкретного вот этого действия.  Ну, у меня есть все API, но мы от него будем отталкиваться.  Ну, я имею в виду, что информацию про API...  Если ты можешь подготовить документацию, потому что, допустим, левая панель, какие опять дергать, правая панель, какие опять дергать.  Да, вот фильтры сверху там, еще что-то, да.  То есть ты это можешь делать заранее,  а мы можем это сделать по очереди.  Артем делает как бы компонент, говорит, какой API для этого компонента, ты говоришь.  То есть вот как бы два подхода.  Можешь делать сразу документацию, то Китай, если нет, то тогда...  Окей, да, ну давайте я тогда действительно это сделаю для того, чтобы как бы вот такой вот walkthrough, окей.  но чтобы у нас был действительно полный референс а пешкой вот давайте я тогда сегодня это сделаем делаю, чтобы не откладывать.  Давай. Вот. И можем, может, как сделаем, можем еще раз созвониться, если будет время. Да, отлично.  Вот.  Что еще?  Вот, а в плане все-таки вот этот вот шат-сиен, вот эти все компоненты, я сейчас запрошу у Алексея, потому что он как бы здесь в этой теме хорошо шутит.\\n\\n## Meeting 4 - January 21, 2025 15:02\\n\\n- [2025-01-21 15:02:50] This chunk occurs during a discussion between Dmitry Grankin and representatives from the Lisbon Unicorn Factory, where Dmitry expresses excitement about potential collaboration and inquires about the vision for integrating his project, VEXA, with the AI Hub at the Unicorn Factory. The conversation focuses on understanding the concept of the AI Hub, its activities, and how VEXA could fit into this ecosystem.\\n  > Dmitry Grankin:  I am very excited about the opportunity and attention from your side it's very cool actually and but what was what what it looks like let's say we are like doing things together as you would what's your vision of VEXA and Lisbon unicorn factory together what's gonna look like on a day-to-day basis what are the if we got gonna have commercial what's commercial site what's a non-commercial site yeah from our side  it's mainly just to expose you that the the concept exists for for you to have visibility on it. We are doing it with several startups on the AI ecosystem, here in Portugal mainly, but also internationally with some of the startups. So our main purpose today was giving you some some visibility about the concept, how it works, so on and so on.  So you have it clear in terms of the events that we do.  So if you want to participate.  So in that part, there is no specific key takeaway.  And even in terms of services, we don't have a specific need.  So it was not the main purpose for the meeting.  It was mainly to present you the concept that we have at the AI Hub.  And if it makes sense for you.  Absolutely, I think it's a very strong concept, very interesting one, and how to get to know more about what's going to look like.  Yeah, so basically at our...\\n\\n## Meeting 2 - January 15, 2025 14:07\\n\\n- [2025-01-15 14:07:51] The chunk is part of a discussion between Alex Shevliakov and Dmitriy Grankin about the user entities in their application, specifically focusing on the types of entities a user can interact with, such as projects, calls, tags, and speakers, as well as the nature of content associated with calls.\\n  > Alex Shevliakov:  У юзера какие есть entities?  У него есть проекты, у него есть звонки, у него есть теги, у него есть спикеры.  теги и проекты одно и то же давай их называть тегами потому что потому что мы не тумане relations между ними спікери, дзвонки, чати, среди.  Реду получается с ассистентом уже с Vex'ой?  Да.  То есть, какие-то другие, короче говоря, звонки, это контент, да, контент, типа контента могут быть.  Звонок может быть какой-то другой тип контента, какой-то текст в произвольном тексте.  В тексте может не быть спикеров и даже теков.  Да.  Окей.  Сложнее.\\n\"}}"
      ]
     },
     "execution_count": 13,
     "metadata": {},
     "output_type": "execute_result"
    }
   ],
   "source": [
    "await unified_chat(query=\"and the last person you mentioned name is?\",content_ids=[UUID('580bb613-00de-4c4a-b048-2c2576fcdef0'),\n",
    "                                                                         UUID('fb996504-0475-4ee9-a85e-dda4e9f15a4b'),\n",
    "                                                                         UUID('a0c3f703-2a5e-4ed0-9561-807121516984'),\n",
    "                                                                              UUID('6a7287fb-b6ae-46cf-8b99-1ce1bcc81403')],thread_id='475e6948-a903-4f63-b067-3084bef1c5fb')\n",
    "\n"
   ]
  },
  {
   "cell_type": "code",
   "execution_count": 14,
   "metadata": {},
   "outputs": [
    {
     "data": {
      "text/markdown": [
       "The person you're referring to is **Mariana Montenegro**, who introduced herself during the meeting on **January 21, 2025**. She is the manager responsible for the **AI hub** at **Unicorn Factory Lisboa**. Mariana discussed the purpose of the AI hub, emphasizing its community focus and potential for collaboration in the AI startup space, which aligns with your interests in AI and startup ecosystems. If you need more specific information about her role or the AI hub, feel free to ask!"
      ],
      "text/plain": [
       "<IPython.core.display.Markdown object>"
      ]
     },
     "metadata": {},
     "output_type": "display_data"
    },
    {
     "name": "stdout",
     "output_type": "stream",
     "text": [
      "{'chunk': '!'}\n"
     ]
    },
    {
     "data": {
      "text/plain": [
       "{'thread_id': '0396fa00-7514-4d3b-abf2-716fb2fed08c',\n",
       " 'output': \"The person you're referring to is **Mariana Montenegro**, who introduced herself during the meeting on **January 21, 2025**. She is the manager responsible for the **AI hub** at **Unicorn Factory Lisboa**. Mariana discussed the purpose of the AI hub, emphasizing its community focus and potential for collaboration in the AI startup space, which aligns with your interests in AI and startup ecosystems. If you need more specific information about her role or the AI hub, feel free to ask!\",\n",
       " 'linked_output': \"The person you're referring to is **Mariana Montenegro**, who introduced herself during the meeting on **January 21, 2025**. She is the manager responsible for the **AI hub** at **Unicorn Factory Lisboa**. Mariana discussed the purpose of the AI hub, emphasizing its community focus and potential for collaboration in the AI startup space, which aligns with your interests in AI and startup ecosystems. If you need more specific information about her role or the AI hub, feel free to ask!\",\n",
       " 'service_content': {'output': \"The person you're referring to is **Mariana Montenegro**, who introduced herself during the meeting on **January 21, 2025**. She is the manager responsible for the **AI hub** at **Unicorn Factory Lisboa**. Mariana discussed the purpose of the AI hub, emphasizing its community focus and potential for collaboration in the AI startup space, which aligns with your interests in AI and startup ecosystems. If you need more specific information about her role or the AI hub, feel free to ask!\",\n",
       "  'context': \"## Meeting 1 - January 21, 2025 15:02\\n\\n- [2025-01-21 15:02:50] This chunk is part of a conversation where Mariana Montenegro introduces herself and the AI hub at Unicorn Factory Lisboa, discussing its purpose and community focus, as part of a larger dialogue involving Dmitry Grankin and Pedro Teixeira about AI startups and collaboration opportunities.\\n  > Mariana Montenegro:  half an hour yeah okay um so i think pedro is running a bit late but but well i will introduce myself firstly so my name is mariana i'm the manager the responsible for the ai hub on parts of the unicorn factory lisboa So, the AI hub is more than building with offices.\\n\"}}"
      ]
     },
     "execution_count": 14,
     "metadata": {},
     "output_type": "execute_result"
    }
   ],
   "source": [
    "await unified_chat(query=\"who is this guy?\",entity_id=5432)\n",
    "\n"
   ]
  },
  {
   "cell_type": "code",
   "execution_count": null,
   "metadata": {},
   "outputs": [],
   "source": []
  }
 ],
 "metadata": {
  "kernelspec": {
   "display_name": "Python 3",
   "language": "python",
   "name": "python3"
  },
  "language_info": {
   "codemirror_mode": {
    "name": "ipython",
    "version": 3
   },
   "file_extension": ".py",
   "mimetype": "text/x-python",
   "name": "python",
   "nbconvert_exporter": "python",
   "pygments_lexer": "ipython3",
   "version": "3.11.11"
  }
 },
 "nbformat": 4,
 "nbformat_minor": 2
}
