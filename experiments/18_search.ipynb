{
 "cells": [
  {
   "cell_type": "code",
   "execution_count": 1,
   "metadata": {},
   "outputs": [],
   "source": [
    "# 17_search.ipynb\n",
    "\n",
    "%load_ext autoreload\n",
    "%autoreload 2\n",
    "\n",
    "import sys\n",
    "sys.path.append('/app')\n",
    "\n",
    "from IPython.display import Markdown"
   ]
  },
  {
   "cell_type": "code",
   "execution_count": 2,
   "metadata": {},
   "outputs": [],
   "source": [
    "from hybrid_search import hybrid_search"
   ]
  },
  {
   "cell_type": "code",
   "execution_count": 3,
   "metadata": {},
   "outputs": [
    {
     "name": "stdout",
     "output_type": "stream",
     "text": [
      "Connecting to Elasticsearch at elasticsearch:9200\n"
     ]
    }
   ],
   "source": [
    "from qdrant_search import QdrantSearchEngine\n",
    "from bm25_search import ElasticsearchBM25\n",
    "voyage_apikey = 'pa-g4x1yHL4Hv6qBjXcrT2Nhm5gG0srlDhVBp6Op7_IJBQ'\n",
    "\n",
    "\n",
    "qdrant_engine = QdrantSearchEngine(voyage_apikey)\n",
    "es_engine = await ElasticsearchBM25.create() "
   ]
  },
  {
   "cell_type": "code",
   "execution_count": 4,
   "metadata": {},
   "outputs": [],
   "source": [
    "q = \"\"\"\n",
    "meeting notetakers\n",
    "\"\"\""
   ]
  },
  {
   "cell_type": "code",
   "execution_count": 5,
   "metadata": {},
   "outputs": [],
   "source": [
    "import os\n",
    "QDRANT_HOST = os.getenv('QDRANT_HOST')\n",
    "QDRANT_PORT = os.getenv('QDRANT_PORT')"
   ]
  },
  {
   "cell_type": "code",
   "execution_count": 6,
   "metadata": {},
   "outputs": [],
   "source": [
    "from qdrant_client import AsyncQdrantClient"
   ]
  },
  {
   "cell_type": "code",
   "execution_count": 7,
   "metadata": {},
   "outputs": [],
   "source": [
    "query = \"software\"\n",
    "content_ids = None\n",
    "k = 100"
   ]
  },
  {
   "cell_type": "code",
   "execution_count": 8,
   "metadata": {},
   "outputs": [
    {
     "name": "stderr",
     "output_type": "stream",
     "text": [
      "/usr/local/lib/python3.11/site-packages/voyageai/client.py:58: UserWarning: The `model` argument is not specified and defaults to voyage-2. It will be a required argument in the future. We recommend to specify the model when using this function. Please see https://docs.voyageai.com/docs/embeddings for the list of latest models provided by Voyage AI.\n",
      "  warnings.warn(\n"
     ]
    }
   ],
   "source": [
    "semantic_results = []\n",
    "if qdrant_engine:\n",
    "    semantic_results = await qdrant_engine.search(\n",
    "        query=query,\n",
    "        content_ids=content_ids,\n",
    "        k=k\n",
    "    )\n",
    "text_results = []\n",
    "if es_engine:\n",
    "    text_results = await es_engine.search(\n",
    "        query=query,\n",
    "        content_ids=content_ids,\n",
    "        k=k\n",
    "    )"
   ]
  },
  {
   "cell_type": "code",
   "execution_count": 9,
   "metadata": {},
   "outputs": [
    {
     "data": {
      "text/plain": [
       "34"
      ]
     },
     "execution_count": 9,
     "metadata": {},
     "output_type": "execute_result"
    }
   ],
   "source": [
    "len(semantic_results)"
   ]
  },
  {
   "cell_type": "code",
   "execution_count": 10,
   "metadata": {},
   "outputs": [
    {
     "data": {
      "text/plain": [
       "4"
      ]
     },
     "execution_count": 10,
     "metadata": {},
     "output_type": "execute_result"
    }
   ],
   "source": [
    "len(text_results)"
   ]
  },
  {
   "cell_type": "code",
   "execution_count": 13,
   "metadata": {},
   "outputs": [],
   "source": [
    "# Merge results\n",
    "all_results = []\n",
    "seen_content = set()\n",
    "\n",
    "# Process semantic results first\n",
    "for result in semantic_results:\n",
    "    content_id = result.payload.get('content_id')\n",
    "    if content_id not in seen_content:\n",
    "        seen_content.add(content_id)\n",
    "        all_results.append({\n",
    "            'score': result.score,\n",
    "            'content': result.payload.get('content', ''),\n",
    "            'content_id': content_id,\n",
    "            'timestamp': result.payload.get('timestamp'),\n",
    "            'formatted_time': result.payload.get('formatted_time'),\n",
    "            'contextualized_content': result.payload.get('contextualized_content', ''),\n",
    "            'content_type': result.payload.get('content_type', '')\n",
    "            \n",
    "            \n",
    "            \n",
    "            \n",
    "        })"
   ]
  },
  {
   "cell_type": "code",
   "execution_count": 14,
   "metadata": {},
   "outputs": [
    {
     "data": {
      "text/plain": [
       "2"
      ]
     },
     "execution_count": 14,
     "metadata": {},
     "output_type": "execute_result"
    }
   ],
   "source": [
    "len(all_results)"
   ]
  },
  {
   "cell_type": "code",
   "execution_count": 15,
   "metadata": {},
   "outputs": [],
   "source": [
    "\n",
    "# Process text results\n",
    "for hit in text_results['hits']['hits']:\n",
    "    content_id = hit['_source'].get('content_id')\n",
    "    if content_id not in seen_content:\n",
    "        seen_content.add(content_id)\n",
    "        all_results.append({\n",
    "            'score': hit['_score'],\n",
    "            'content': hit['_source'].get('content', ''),\n",
    "            'content_id': content_id,\n",
    "            'timestamp': hit['_source'].get('timestamp'),\n",
    "            'formatted_time': hit['_source'].get('formatted_time'),\n",
    "            'contextualized_content': hit['_source'].get('contextualized_content', ''),\n",
    "            'content_type': hit['_source'].get('content_type', '')\n",
    "        })\n",
    "\n",
    "# Sort by score descending\n",
    "all_results.sort(key=lambda x: x['score'], reverse=True)"
   ]
  },
  {
   "cell_type": "code",
   "execution_count": 16,
   "metadata": {},
   "outputs": [
    {
     "data": {
      "text/plain": [
       "[{'score': 0.04467252,\n",
       "  'content': 'Artem Puzik:  этот кусок верстаю компонент и пытаясь там опи я примерно знаю какая там взять типа meetings all и пытаюсь отрисовать эту историю вот дальше уже надо будет понятно что я могу верстать пустые вот эти вот компоненты но их надо будет скоро там чем-то заполнять но я сегодня я сегодня сделаю я понял что нужно сделать ой еще бы я дима знаешь что попросил допустим тут типа кнопка да не знаю можно фиг мини фигни фигни можно какие-то там ссылочки или пометки оставлять да и может быть Условно, тут была бы пометка, что там, раз, типа, get all, там, meetings all с такими-то параметрами.  Ну, просто в этом, в свагере, как бы, большое...  Твой список. Не буду каждый тянуть и смотреть, что он дает, чтобы понимать, что оно не оно.  Допустим, транскрипт. Тут ссылочка, что нажимаешь и должен спросить твой бэк.  о том-то, о том-то. Я спрашиваю, смотрю, ой, типа круто получил, отрисовал. Если я вижу, что оно похоже не совсем на то, что нарисовано, вот, мы с тобой уже согласовываем, как бы, то не то и так далее.  И мы так потихонечку пойдем, условно, когда я упрусь в то, что, допустим, а что дальше так, окей, нажимать, вот как получить серединку, да, там, ты говоришь про контексты, не контексты, вот это запоминаем, не запоминаем.  Тогда я буду тебе писать, но когда уже более подробно будет, что я раз уже как бы в коде сделал это, а как получить дальше, куда пойти дальше, тогда я тебя спрошу.  пока вот это легко отрисовать левая вот это вот я так понимаю что скоро будет я тоже но там да да сейчас есть вот эту правую штуку чтобы взять что тебя  Митинг details он отдает.  А тут такого как бы пока...  Митинг ID details он отдает.  то есть я типа если потянул за тот end point то я вы что-то там увижу что люди  как-то называются и и вот текст да ты получишь можешь поможешь Ну да, то текущее исполнение, которое есть, тоже можно посмотреть, как работает.  Единственное, что там другая версия API есть.  Поэтому, короче говоря, да, я сегодня приведу в порядок бакен до 7 вечера, я все планировал сделать.  Хорошо, дай мне тогда доступы и напиши название этой вот типа чудо-библиотечки, я проверю, если нет, если что, установлю и начну.  Там у тебя вот Markdown Renderer, вообще вот вся чат, вот эта история, рендеринг, его надо, наверное, целиком просто брать готовый.  что он лежит и работает.  Ну, он есть у тебя в проекте, да?  Да, и это вообще, я подозреваю,  там, половину всей работы, скорее всего.  Ну, как молодые.',\n",
       "  'content_id': '580bb613-00de-4c4a-b048-2c2576fcdef0',\n",
       "  'timestamp': '2025-01-23T09:40:30.720000+00:00',\n",
       "  'formatted_time': '2025-01-23 09:40:30',\n",
       "  'contextualized_content': 'The chunk is part of a conversation between Artem Puzik and Dmitry Grankin discussing the development of a user interface component for a meetings application. Artem is outlining his progress on the component design, mentioning the need for links and notes for API calls, and expressing plans to integrate and render data from the backend. The discussion also touches on the use of a Markdown Renderer and the overall structure of the application.',\n",
       "  'content_type': 'meeting'},\n",
       " {'score': 0.04181964,\n",
       "  'content': 'Dmitriy Grankin:  Или сейчас можем пойти посмотреть.  Хотя он у меня лежит, надо его запустить.  А свагер есть какой-нибудь?  Да, конечно.  Ну вот, я подниму тебе, скину свагер, и да, могу просто расписать просто все.  Ну да, и скажи, допустим, за что тянуть, потому что там, наверное, больше, чем пару методов.  Там побольше, чем пару методов.  Да, ну, знаешь, я большой кучи могу не найти.  Ну да, может, там еще что-то лишнее есть.  Ну, я думаю, мы начнем в любом случае с самого...  как бы маркапа и ксс, ну, html, ксс, или как, подожди, или нет, или, Артем, как ты?  Нет, ну, как бы хотелось бы сразу рендерить что-то.  Окей, я никогда не лезу, потому что у меня свои как бы подходы.  Нет, просто пустые компоненты, да окей, я там один компонент сделаю вот там с левой панели, там второй с правой панели и так далее.  Ну, тут 10 компонентов сделал, в принципе, уже готово.  Остальное надо уже прикручивать к API.  Ну, тогда, я думаю, можно как раз по этому, по каждому, чтобы не тратить...  Сейчас кучу времени на обсуждение.  Можно по каждому компоненту спрашивать там регулярно.  Дима не против будет, чтобы мы не описывали сейчас все, а вот, допустим, Артем делает.  Лет там, список чатов, дай мне API для конкретного вот этого действия.  Ну, у меня есть все API, но мы от него будем отталкиваться.  Ну, я имею в виду, что информацию про API...  Если ты можешь подготовить документацию, потому что, допустим, левая панель, какие опять дергать, правая панель, какие опять дергать.  Да, вот фильтры сверху там, еще что-то, да.  То есть ты это можешь делать заранее,  а мы можем это сделать по очереди.  Артем делает как бы компонент, говорит, какой API для этого компонента, ты говоришь.  То есть вот как бы два подхода.  Можешь делать сразу документацию, то Китай, если нет, то тогда...  Окей, да, ну давайте я тогда действительно это сделаю для того, чтобы как бы вот такой вот walkthrough, окей.  но чтобы у нас был действительно полный референс а пешкой вот давайте я тогда сегодня это сделаем делаю, чтобы не откладывать.  Давай. Вот. И можем, может, как сделаем, можем еще раз созвониться, если будет время. Да, отлично.  Вот.  Что еще?  Вот, а в плане все-таки вот этот вот шат-сиен, вот эти все компоненты, я сейчас запрошу у Алексея, потому что он как бы здесь в этой теме хорошо шутит.',\n",
       "  'content_id': '6a7287fb-b6ae-46cf-8b99-1ce1bcc81403',\n",
       "  'timestamp': '2025-01-21T15:36:56.606000+00:00',\n",
       "  'formatted_time': '2025-01-21 15:36:56',\n",
       "  'contextualized_content': 'The chunk is part of a discussion among team members, primarily Dmitriy Grankin, about the development process of a project involving API integration and component creation. They are planning how to structure their work, including the documentation of APIs and the implementation of user interface components, while considering collaboration and efficiency in their workflow.',\n",
       "  'content_type': 'meeting'}]"
      ]
     },
     "execution_count": 16,
     "metadata": {},
     "output_type": "execute_result"
    }
   ],
   "source": [
    "all_results"
   ]
  },
  {
   "cell_type": "code",
   "execution_count": 17,
   "metadata": {},
   "outputs": [
    {
     "name": "stderr",
     "output_type": "stream",
     "text": [
      "/usr/local/lib/python3.11/site-packages/voyageai/client.py:58: UserWarning: The `model` argument is not specified and defaults to voyage-2. It will be a required argument in the future. We recommend to specify the model when using this function. Please see https://docs.voyageai.com/docs/embeddings for the list of latest models provided by Voyage AI.\n",
      "  warnings.warn(\n"
     ]
    }
   ],
   "source": [
    "r = await hybrid_search(q, qdrant_engine, es_engine)"
   ]
  },
  {
   "cell_type": "code",
   "execution_count": 18,
   "metadata": {},
   "outputs": [],
   "source": [
    "import pandas as pd\n",
    "df = pd.DataFrame(r['results'])"
   ]
  },
  {
   "cell_type": "code",
   "execution_count": 19,
   "metadata": {},
   "outputs": [
    {
     "data": {
      "text/html": [
       "<div>\n",
       "<style scoped>\n",
       "    .dataframe tbody tr th:only-of-type {\n",
       "        vertical-align: middle;\n",
       "    }\n",
       "\n",
       "    .dataframe tbody tr th {\n",
       "        vertical-align: top;\n",
       "    }\n",
       "\n",
       "    .dataframe thead th {\n",
       "        text-align: right;\n",
       "    }\n",
       "</style>\n",
       "<table border=\"1\" class=\"dataframe\">\n",
       "  <thead>\n",
       "    <tr style=\"text-align: right;\">\n",
       "      <th></th>\n",
       "      <th>score</th>\n",
       "      <th>content</th>\n",
       "      <th>content_id</th>\n",
       "      <th>timestamp</th>\n",
       "      <th>formatted_time</th>\n",
       "      <th>contextualized_content</th>\n",
       "    </tr>\n",
       "  </thead>\n",
       "  <tbody>\n",
       "    <tr>\n",
       "      <th>0</th>\n",
       "      <td>0.049259</td>\n",
       "      <td>Artem Puzik:  этот кусок верстаю компонент и п...</td>\n",
       "      <td>580bb613-00de-4c4a-b048-2c2576fcdef0</td>\n",
       "      <td>2025-01-23T09:40:30.720000+00:00</td>\n",
       "      <td>2025-01-23 09:40:30</td>\n",
       "      <td>The chunk is part of a conversation between Ar...</td>\n",
       "    </tr>\n",
       "    <tr>\n",
       "      <th>1</th>\n",
       "      <td>0.040986</td>\n",
       "      <td>Dmitriy Grankin:  Или сейчас можем пойти посмо...</td>\n",
       "      <td>6a7287fb-b6ae-46cf-8b99-1ce1bcc81403</td>\n",
       "      <td>2025-01-21T15:36:56.606000+00:00</td>\n",
       "      <td>2025-01-21 15:36:56</td>\n",
       "      <td>The chunk is part of a discussion among team m...</td>\n",
       "    </tr>\n",
       "    <tr>\n",
       "      <th>2</th>\n",
       "      <td>0.036078</td>\n",
       "      <td>Alex Shevliakov:  Да, тем более, если ты хочеш...</td>\n",
       "      <td>fb996504-0475-4ee9-a85e-dda4e9f15a4b</td>\n",
       "      <td>2025-01-15T14:07:51.364000+00:00</td>\n",
       "      <td>2025-01-15 14:07:51</td>\n",
       "      <td>The chunk is part of a conversation between Al...</td>\n",
       "    </tr>\n",
       "    <tr>\n",
       "      <th>3</th>\n",
       "      <td>0.014125</td>\n",
       "      <td>Mariana Montenegro:  half an hour yeah okay um...</td>\n",
       "      <td>a0c3f703-2a5e-4ed0-9561-807121516984</td>\n",
       "      <td>2025-01-21T15:02:50.184000+00:00</td>\n",
       "      <td>2025-01-21 15:02:50</td>\n",
       "      <td>This chunk is part of a conversation where Mar...</td>\n",
       "    </tr>\n",
       "  </tbody>\n",
       "</table>\n",
       "</div>"
      ],
      "text/plain": [
       "      score                                            content  \\\n",
       "0  0.049259  Artem Puzik:  этот кусок верстаю компонент и п...   \n",
       "1  0.040986  Dmitriy Grankin:  Или сейчас можем пойти посмо...   \n",
       "2  0.036078  Alex Shevliakov:  Да, тем более, если ты хочеш...   \n",
       "3  0.014125  Mariana Montenegro:  half an hour yeah okay um...   \n",
       "\n",
       "                             content_id                         timestamp  \\\n",
       "0  580bb613-00de-4c4a-b048-2c2576fcdef0  2025-01-23T09:40:30.720000+00:00   \n",
       "1  6a7287fb-b6ae-46cf-8b99-1ce1bcc81403  2025-01-21T15:36:56.606000+00:00   \n",
       "2  fb996504-0475-4ee9-a85e-dda4e9f15a4b  2025-01-15T14:07:51.364000+00:00   \n",
       "3  a0c3f703-2a5e-4ed0-9561-807121516984  2025-01-21T15:02:50.184000+00:00   \n",
       "\n",
       "        formatted_time                             contextualized_content  \n",
       "0  2025-01-23 09:40:30  The chunk is part of a conversation between Ar...  \n",
       "1  2025-01-21 15:36:56  The chunk is part of a discussion among team m...  \n",
       "2  2025-01-15 14:07:51  The chunk is part of a conversation between Al...  \n",
       "3  2025-01-21 15:02:50  This chunk is part of a conversation where Mar...  "
      ]
     },
     "execution_count": 19,
     "metadata": {},
     "output_type": "execute_result"
    }
   ],
   "source": [
    "df"
   ]
  },
  {
   "cell_type": "code",
   "execution_count": 20,
   "metadata": {},
   "outputs": [],
   "source": [
    "def format_meeting_context(df, show_content=True, show_contextualized=True):\n",
    "    unique_meetings = df['content_id'].unique()\n",
    "    meeting_map = {mid: idx+1 for idx, mid in enumerate(unique_meetings)}\n",
    "    meeting_map_reverse = {v:k for k,v in meeting_map.items()}\n",
    "    \n",
    "    # Sort by timestamp for meetings, then by formatted_time within meetings\n",
    "    df = df.sort_values(['timestamp', 'formatted_time'])\n",
    "    \n",
    "    meetings = []\n",
    "    for content_id, group in df.groupby('content_id'):\n",
    "        int_content_id = meeting_map[content_id]\n",
    "        timestamp = pd.to_datetime(group['timestamp'].iloc[0])\n",
    "        date_header = f\"## Meeting {int_content_id} - {timestamp.strftime('%B %d, %Y %H:%M')}\"\n",
    "        \n",
    "        content_items = []\n",
    "        for _, row in group.iterrows():\n",
    "            time_prefix = f\"[{row['formatted_time']}]\" if row['formatted_time'] else ''\n",
    "            if show_contextualized:\n",
    "                content_items.append(f\"- {time_prefix} {row['contextualized_content']}\")\n",
    "            if show_content:\n",
    "                prefix = \"  > \" if show_contextualized else \"- \"\n",
    "                content_items.append(f\"{prefix}{row['content']}\")\n",
    "        \n",
    "        content = \"\\n\".join(content_items)\n",
    "        meetings.append(f\"{date_header}\\n\\n{content}\\n\")\n",
    "    \n",
    "    return \"\\n\".join(meetings), meeting_map_reverse"
   ]
  },
  {
   "cell_type": "code",
   "execution_count": 23,
   "metadata": {},
   "outputs": [],
   "source": [
    "input_context, meeting_id_map = format_meeting_context(df,show_contextualized=True)"
   ]
  },
  {
   "cell_type": "code",
   "execution_count": 24,
   "metadata": {},
   "outputs": [
    {
     "data": {
      "text/markdown": [
       "## Meeting 3 - January 23, 2025 09:40\n",
       "\n",
       "- [2025-01-23 09:40:30] This chunk is part of a conversation between Artem Puzik and Dmitry Grankin discussing the integration of an API within an existing application, specifically focusing on user authorization and the handling of authentication tokens in the context of a chat feature.\n",
       "  > Artem Puzik:  это же внутри уже готового приложения будет правильно ну то есть пользователь туда уже на эту страницу он придет авторизована или это просто что-то отдельная мне как бы окошко там авторизации я да если ты сейчас пойдешь там у тебя есть еще  можно взять пока ту страницу, которая есть, она там неадаптивная, надо будет адаптивнее справиться, но это потом.  там слово такое что сначала сначала у тебя идет google авторизация и сначала как пользователь  Нет, Дим, я о другом.  То есть, допустим, если моя страница, мой компонент или что-то там, API мое будет лежать уже внутри страницы, Твоего приложения, то есть авторизация, значит, уже пройдена.  Значит, этот токен у тебя где-то там лежит, я его найду, правильно?  Этот токен, ты его получаешь от приложения.  Женя, у тебя там как раз описано, как авторизация происходит, и ты его сохраняешь в руке.  Еще раз.  Да. Для того, чтобы дойти до этого чата, я уже у тебя в существующем Vexo App, да, уже какой-то путь прошел, правильно?  Авторизация.\n",
       "\n",
       "## Meeting 1 - January 21, 2025 15:36\n",
       "\n",
       "- [2025-01-21 15:36:56] The chunk is part of a discussion among Dmitriy Grankin, Artem Puzik, and Sergey Ryabenko about the user flow and functionality of an application that includes chat and meeting features. In this specific segment, Dmitriy outlines the first user flow, focusing on how users can interact with meeting cards to access transcriptions and chat related to past meetings.\n",
       "  > Dmitriy Grankin:  чуть попозже сделаем вот в чем здесь ну как бы первый юзер флоу до начнем под давайте по user flow пойдем первый это Я хочу что-нибудь посмотреть по встрече, которая только прошла или какая-нибудь другая.  Я нажимаю на карт, на митинг-карт, у меня открывается...  Правая панель, в которой у меня есть транскрипция. И чат работает сейчас в контексте этой встречи. Контекст, да, это то, что мы подаем.  скажем так до чата да то есть контекст имеет разным образом определяется самый простой флоу от когда мы выбрали встречу, и он определяется по этой встрече, соответственно, по этой встрече.  Можем что-нибудь спросить про эту встречу, можем выбрать Quick Action.\n",
       "\n",
       "## Meeting 4 - January 21, 2025 15:02\n",
       "\n",
       "- [2025-01-21 15:02:50] This chunk is part of a conversation where Mariana Montenegro introduces herself and the AI hub at Unicorn Factory Lisboa, discussing its purpose and community focus before other participants, including Dmitry Grankin and Pedro Teixeira, join the discussion.\n",
       "  > Mariana Montenegro:  half an hour yeah okay um so i think pedro is running a bit late but but well i will introduce myself firstly so my name is mariana i'm the manager the responsible for the ai hub on parts of the unicorn factory lisboa So, the AI hub is more than building with offices.\n",
       "\n",
       "## Meeting 2 - January 15, 2025 14:07\n",
       "\n",
       "- [2025-01-15 14:07:51] The chunk is part of a discussion between Alex Shevliakov and Dmitriy Grankin about the user experience and functionality of the VEX application, specifically focusing on the primary user scenarios for finding and interacting with calls and utilizing chat for inquiries and references.\n",
       "  > Alex Shevliakov:  Ну окей, хорошо. Давай с другой стороны зайдем.  Какой основной у пользователя сценарий работы с VEX?  Наверное, два. Один – это пойти найти звонок и что-то с ним поделать по ресерче.  а другой это чат я задаю вопрос получаю какой-то ответ с референсами с референсами на звонки и могу найти эти звонки через чат то есть я попадаю нахожу звонок либо через фильтрацию и скроллинг или через чат понял но при этом как бы чат имеет основные со мной несет основную информационную нагрузку что я в этой версии даже пока не знаю надо ли реализовывать самаре какой Потому что в старой версии там есть короткое summary под каждой единицей.  Нужно ли это делать или нет?\n"
      ],
      "text/plain": [
       "<IPython.core.display.Markdown object>"
      ]
     },
     "metadata": {},
     "output_type": "display_data"
    }
   ],
   "source": [
    "display(Markdown(input_context))"
   ]
  },
  {
   "cell_type": "code",
   "execution_count": 10,
   "metadata": {},
   "outputs": [
    {
     "ename": "NameError",
     "evalue": "name 'meeting_id_map' is not defined",
     "output_type": "error",
     "traceback": [
      "\u001b[0;31m---------------------------------------------------------------------------\u001b[0m",
      "\u001b[0;31mNameError\u001b[0m                                 Traceback (most recent call last)",
      "Cell \u001b[0;32mIn[10], line 1\u001b[0m\n\u001b[0;32m----> 1\u001b[0m [v \u001b[38;5;28;01mfor\u001b[39;00m v \u001b[38;5;129;01min\u001b[39;00m \u001b[43mmeeting_id_map\u001b[49m\u001b[38;5;241m.\u001b[39mvalues()]\n",
      "\u001b[0;31mNameError\u001b[0m: name 'meeting_id_map' is not defined"
     ]
    }
   ],
   "source": [
    "[v for v in meeting_id_map.values()]"
   ]
  },
  {
   "cell_type": "code",
   "execution_count": 36,
   "metadata": {},
   "outputs": [],
   "source": [
    "from core import generic_call,system_msg,user_msg,count_tokens"
   ]
  },
  {
   "cell_type": "code",
   "execution_count": 37,
   "metadata": {},
   "outputs": [],
   "source": [
    "input = count_tokens(input_context)"
   ]
  },
  {
   "cell_type": "code",
   "execution_count": 38,
   "metadata": {},
   "outputs": [
    {
     "data": {
      "text/plain": [
       "2517"
      ]
     },
     "execution_count": 38,
     "metadata": {},
     "output_type": "execute_result"
    }
   ],
   "source": [
    "input"
   ]
  },
  {
   "cell_type": "code",
   "execution_count": 39,
   "metadata": {},
   "outputs": [],
   "source": [
    "from core import generic_call,system_msg,user_msg\n"
   ]
  },
  {
   "cell_type": "code",
   "execution_count": 134,
   "metadata": {},
   "outputs": [],
   "source": []
  },
  {
   "cell_type": "code",
   "execution_count": 40,
   "metadata": {},
   "outputs": [],
   "source": [
    "system_prompt = \"\"\"\n",
    "you are helpful assistant that is answering user requests by interpreting  while interpreting the context\n",
    "You have to rely on the context to answer the user request\n",
    "\n",
    "User is Dmitry Grankin, Address his as YOU and distinguish them in in the provided context in in the response.\n",
    "\n",
    "Always supply reference to specific meeting with [#meeting_id]\n",
    "\n",
    "If appropriate, inlude qoutes with speaker reference\n",
    "\n",
    "whenever you're responding consider everything you know about me in the memory to form a context of things that I would find interesting and where possible link back to those topics and include key terminologies and concepts that will help expand my knowledge along those areas.\n",
    "\"\"\"\n",
    "\n",
    "\n"
   ]
  },
  {
   "cell_type": "code",
   "execution_count": 41,
   "metadata": {},
   "outputs": [
    {
     "name": "stdout",
     "output_type": "stream",
     "text": [
      "The representatives from the AI Marketing Directory are the individuals you were speaking with during the meeting on December 12, 2024. They are involved in discussing their company's strategic pivot towards creating high-quality content specifically for founder-led businesses, which aligns with your interests in content creation and marketing strategies for Vexa. \n",
      "\n",
      "In the meeting, they mentioned their focus on understanding client products, analyzing market competition, and developing tailored content strategies. They also highlighted their expertise in crafting viral content and leveraging an influencer network, particularly on Twitter, which could be beneficial for your personal brand and Vexa's marketing efforts. \n",
      "\n",
      "If you need more specific details about their roles or the company, feel free to ask!\n"
     ]
    },
    {
     "data": {
      "text/plain": [
       "\"The representatives from the AI Marketing Directory are the individuals you were speaking with during the meeting on December 12, 2024. They are involved in discussing their company's strategic pivot towards creating high-quality content specifically for founder-led businesses, which aligns with your interests in content creation and marketing strategies for Vexa. \\n\\nIn the meeting, they mentioned their focus on understanding client products, analyzing market competition, and developing tailored content strategies. They also highlighted their expertise in crafting viral content and leveraging an influencer network, particularly on Twitter, which could be beneficial for your personal brand and Vexa's marketing efforts. \\n\\nIf you need more specific details about their roles or the company, feel free to ask!\""
      ]
     },
     "execution_count": 41,
     "metadata": {},
     "output_type": "execute_result"
    }
   ],
   "source": [
    "\n",
    "r = await generic_call([system_msg(system_prompt),\n",
    "                        user_msg(f'context: {input_context}'),\n",
    "                        user_msg(f'request: {q}')])\n",
    "r\n",
    "\n"
   ]
  },
  {
   "cell_type": "code",
   "execution_count": 42,
   "metadata": {},
   "outputs": [
    {
     "data": {
      "text/markdown": [
       "The representatives from the AI Marketing Directory are the individuals you were speaking with during the meeting on December 12, 2024. They are involved in discussing their company's strategic pivot towards creating high-quality content specifically for founder-led businesses, which aligns with your interests in content creation and marketing strategies for Vexa. \n",
       "\n",
       "In the meeting, they mentioned their focus on understanding client products, analyzing market competition, and developing tailored content strategies. They also highlighted their expertise in crafting viral content and leveraging an influencer network, particularly on Twitter, which could be beneficial for your personal brand and Vexa's marketing efforts. \n",
       "\n",
       "If you need more specific details about their roles or the company, feel free to ask!"
      ],
      "text/plain": [
       "<IPython.core.display.Markdown object>"
      ]
     },
     "metadata": {},
     "output_type": "display_data"
    }
   ],
   "source": [
    "display(Markdown(r))"
   ]
  },
  {
   "cell_type": "code",
   "execution_count": null,
   "metadata": {},
   "outputs": [],
   "source": []
  },
  {
   "cell_type": "code",
   "execution_count": 37,
   "metadata": {},
   "outputs": [],
   "source": [
    "def extract_tagged_content(text: str, tag: str) -> str:\n",
    "    import re\n",
    "    # Try exact match first\n",
    "    pattern = f\"<{tag}>(.*?)</{tag}>\"\n",
    "    match = re.search(pattern, text, re.DOTALL)\n",
    "    if match:\n",
    "        return match.group(1).strip()\n",
    "    \n",
    "    # If no exact match, try to find content after opening tag\n",
    "    pattern = f\"<{tag}>(.*?)(?:</?|$)\"\n",
    "    match = re.search(pattern, text, re.DOTALL)\n",
    "    return match.group(1).strip() if match else \"\"\n",
    "\n",
    "# Example usage:\n",
    "thinking = extract_tagged_content(r, \"thinking\")\n",
    "answer = extract_tagged_content(r, \"answer\")"
   ]
  },
  {
   "cell_type": "code",
   "execution_count": 50,
   "metadata": {},
   "outputs": [
    {
     "data": {
      "text/plain": [
       "'Entities:\\n- People: **Dmitriy Grankin**, **Lara Vargas**\\n- Companies: None mentioned\\n- Products: **VEXA**\\n- Ideas: Engaging with **micro-influencers**, influencer outreach strategies, audience targeting, content creation, qualitative research\\n- Action Points: \\n  - Create a set of short descriptions about target audiences\\n  - Identify and outreach to **micro-influencers**\\n  - Develop a pipeline for influencer engagement\\n  - Create YouTube queries for influencer research\\n  - Analyze engagement rates of influencers\\n  - Set up meetings with identified influencers'"
      ]
     },
     "execution_count": 50,
     "metadata": {},
     "output_type": "execute_result"
    }
   ],
   "source": [
    "thinking"
   ]
  },
  {
   "cell_type": "code",
   "execution_count": null,
   "metadata": {},
   "outputs": [],
   "source": []
  }
 ],
 "metadata": {
  "kernelspec": {
   "display_name": "Python 3",
   "language": "python",
   "name": "python3"
  },
  "language_info": {
   "codemirror_mode": {
    "name": "ipython",
    "version": 3
   },
   "file_extension": ".py",
   "mimetype": "text/x-python",
   "name": "python",
   "nbconvert_exporter": "python",
   "pygments_lexer": "ipython3",
   "version": "3.11.11"
  }
 },
 "nbformat": 4,
 "nbformat_minor": 2
}
