{
 "cells": [
  {
   "cell_type": "code",
   "execution_count": 1,
   "metadata": {},
   "outputs": [],
   "source": [
    "# 17_search.ipynb\n",
    "\n",
    "%load_ext autoreload\n",
    "%autoreload 2\n",
    "\n",
    "import sys\n",
    "sys.path.append('/app')\n",
    "\n",
    "from IPython.display import Markdown"
   ]
  },
  {
   "cell_type": "code",
   "execution_count": 2,
   "metadata": {},
   "outputs": [],
   "source": [
    "from hybrid_search import hybrid_search"
   ]
  },
  {
   "cell_type": "code",
   "execution_count": 3,
   "metadata": {},
   "outputs": [
    {
     "name": "stdout",
     "output_type": "stream",
     "text": [
      "Connecting to Elasticsearch at elasticsearch:9200\n"
     ]
    }
   ],
   "source": [
    "from qdrant_search import QdrantSearchEngine\n",
    "from bm25_search import ElasticsearchBM25\n",
    "voyage_apikey = 'pa-g4x1yHL4Hv6qBjXcrT2Nhm5gG0srlDhVBp6Op7_IJBQ'\n",
    "\n",
    "\n",
    "qdrant_engine = QdrantSearchEngine(voyage_apikey)\n",
    "es_engine = ElasticsearchBM25()"
   ]
  },
  {
   "cell_type": "code",
   "execution_count": 5,
   "metadata": {},
   "outputs": [],
   "source": [
    "q = \"\"\"\n",
    "enclose thinking into <thinking> tag and answer into <answer> tag. \n",
    "\n",
    "While thinking extract all entities like people, companies, products, ideas, action points, tasks as simple list.\n",
    "then generate consise summary of the meeting based on the extracted entities.\n",
    "Highlight entities in bold markdown\n",
    "\n",
    "\n",
    "\"\"\""
   ]
  },
  {
   "cell_type": "code",
   "execution_count": 24,
   "metadata": {},
   "outputs": [],
   "source": [
    "q = \"\"\"\n",
    "who are this guys?\n",
    "\"\"\""
   ]
  },
  {
   "cell_type": "code",
   "execution_count": 25,
   "metadata": {},
   "outputs": [],
   "source": [
    "import os\n",
    "QDRANT_HOST = os.getenv('QDRANT_HOST')\n",
    "QDRANT_PORT = os.getenv('QDRANT_PORT')"
   ]
  },
  {
   "cell_type": "code",
   "execution_count": 26,
   "metadata": {},
   "outputs": [],
   "source": [
    "from qdrant_client import AsyncQdrantClient"
   ]
  },
  {
   "cell_type": "code",
   "execution_count": 27,
   "metadata": {},
   "outputs": [],
   "source": [
    "meeting_ids = ['e85a7645-53aa-4e18-92a9-09a5b1886f30',\n",
    " 'e4b4ba0c-1249-400a-81eb-469361572591',\n",
    " 'd6b623d8-542e-40ed-8660-cdb9efceaf81',\n",
    " 'd44d0430-2754-428b-b934-9264c255578c',\n",
    " 'cc46bac8-a4f1-404d-b07d-d2e2231d15d8',\n",
    " 'c41c68aa-a3f1-4af9-b378-d076304c4db9',\n",
    " 'b2df54b2-e91e-4d41-bd4a-48c8fc99e5fb',\n",
    " 'a7973009-1387-47e4-a0cc-19694593194f',\n",
    " 'a4ed2674-b383-4d2d-992c-d85ade04d21a',\n",
    " '8f275c86-e397-43fe-a884-b4535f7f82e3',\n",
    " '8eb8d512-2ba3-40f4-8535-8bba86779336',\n",
    " '860f9495-13a2-486e-8abf-3b5a3ec22a48',\n",
    " '7a2b0c2f-c043-427c-b2a0-68e9a6a18b34',\n",
    " '77af4031-a5a9-4dae-ad90-80d12bdadde0',\n",
    " '7781e37d-f733-4bfc-ad18-041e8ba20231',\n",
    " '6a3451aa-f18c-4211-8140-fbc77ea7ba05',\n",
    " '61b8db8b-f0c6-4895-8ca2-00e82466c8da',\n",
    " '5401ff51-4f8f-4f95-a5d2-21564c9b3cc4',\n",
    " '4f64ba1e-fd80-4b5d-a1be-345225028f6c',\n",
    " '33c14d85-55c7-4bce-854f-eb9e617c9ea5',\n",
    " '2a92e93e-dc1c-455d-acbb-182555197434',\n",
    " '2a40c363-c52b-4f89-8719-e0be87591485',\n",
    " '21d4d45e-19c3-40c3-ad9d-277b5dc7405b',\n",
    " '2182def0-c078-45f6-bce1-cbac254c8007',\n",
    " '16705c46-ba51-4f1b-83d2-08e0bfc5eae5',\n",
    " '161f80a4-135f-4aa4-b2fc-84dec9d6445c',\n",
    " '15af0212-e418-4476-8586-085581bfd8c9',\n",
    " '1579143f-3d96-4346-9220-febb329ca5ce',\n",
    " '13c8cb72-9421-4181-a782-db4d66f12481']"
   ]
  },
  {
   "cell_type": "code",
   "execution_count": 28,
   "metadata": {},
   "outputs": [],
   "source": [
    "r = await hybrid_search(q, qdrant_engine, es_engine,speakers=['AI Marketing Directory'])"
   ]
  },
  {
   "cell_type": "code",
   "execution_count": 29,
   "metadata": {},
   "outputs": [],
   "source": [
    "import pandas as pd\n",
    "df = pd.DataFrame(r['results']).sort_values('meeting_id', ascending=False)"
   ]
  },
  {
   "cell_type": "code",
   "execution_count": 31,
   "metadata": {},
   "outputs": [
    {
     "data": {
      "text/html": [
       "<div>\n",
       "<style scoped>\n",
       "    .dataframe tbody tr th:only-of-type {\n",
       "        vertical-align: middle;\n",
       "    }\n",
       "\n",
       "    .dataframe tbody tr th {\n",
       "        vertical-align: top;\n",
       "    }\n",
       "\n",
       "    .dataframe thead th {\n",
       "        text-align: right;\n",
       "    }\n",
       "</style>\n",
       "<table border=\"1\" class=\"dataframe\">\n",
       "  <thead>\n",
       "    <tr style=\"text-align: right;\">\n",
       "      <th></th>\n",
       "      <th>score</th>\n",
       "      <th>content</th>\n",
       "      <th>contextualized_content</th>\n",
       "      <th>topic</th>\n",
       "      <th>meeting_id</th>\n",
       "      <th>formatted_time</th>\n",
       "      <th>timestamp</th>\n",
       "      <th>speaker</th>\n",
       "      <th>speakers</th>\n",
       "      <th>chunk_index</th>\n",
       "      <th>combined_score</th>\n",
       "      <th>sources</th>\n",
       "    </tr>\n",
       "  </thead>\n",
       "  <tbody>\n",
       "    <tr>\n",
       "      <th>0</th>\n",
       "      <td>0.186763</td>\n",
       "      <td>AI Marketing Directory:  I guess while he does...</td>\n",
       "      <td>This chunk is part of a conversation between r...</td>\n",
       "      <td>Introduction and Greetings</td>\n",
       "      <td>77af4031-a5a9-4dae-ad90-80d12bdadde0</td>\n",
       "      <td>00:00</td>\n",
       "      <td>2024-12-12T16:00:42.624000+00:00</td>\n",
       "      <td>AI Marketing Directory</td>\n",
       "      <td>[Dmitry Grankin, AI Marketing Directory]</td>\n",
       "      <td>0</td>\n",
       "      <td>1.000000</td>\n",
       "      <td>[semantic, bm25]</td>\n",
       "    </tr>\n",
       "    <tr>\n",
       "      <th>1</th>\n",
       "      <td>0.175371</td>\n",
       "      <td>AI Marketing Directory:  So yeah, Phil and I s...</td>\n",
       "      <td>This chunk is part of a conversation between r...</td>\n",
       "      <td>Company Background</td>\n",
       "      <td>77af4031-a5a9-4dae-ad90-80d12bdadde0</td>\n",
       "      <td>00:12</td>\n",
       "      <td>2024-12-12T16:00:42.624000+00:00</td>\n",
       "      <td>AI Marketing Directory</td>\n",
       "      <td>[Dmitry Grankin, AI Marketing Directory]</td>\n",
       "      <td>1</td>\n",
       "      <td>0.400000</td>\n",
       "      <td>[semantic]</td>\n",
       "    </tr>\n",
       "    <tr>\n",
       "      <th>2</th>\n",
       "      <td>0.173037</td>\n",
       "      <td>AI Marketing Directory:  Yeah, we'll detail ou...</td>\n",
       "      <td>This chunk is part of a conversation between t...</td>\n",
       "      <td>Content Creation and Collaboration Process</td>\n",
       "      <td>77af4031-a5a9-4dae-ad90-80d12bdadde0</td>\n",
       "      <td>22:22</td>\n",
       "      <td>2024-12-12T16:00:42.624000+00:00</td>\n",
       "      <td>AI Marketing Directory</td>\n",
       "      <td>[Dmitry Grankin, AI Marketing Directory]</td>\n",
       "      <td>18</td>\n",
       "      <td>0.266667</td>\n",
       "      <td>[semantic]</td>\n",
       "    </tr>\n",
       "    <tr>\n",
       "      <th>3</th>\n",
       "      <td>0.151563</td>\n",
       "      <td>AI Marketing Directory:  And we could just, we...</td>\n",
       "      <td>This chunk is part of a conversation between r...</td>\n",
       "      <td>Utilizing Influencer Network</td>\n",
       "      <td>77af4031-a5a9-4dae-ad90-80d12bdadde0</td>\n",
       "      <td>25:19</td>\n",
       "      <td>2024-12-12T16:00:42.624000+00:00</td>\n",
       "      <td>AI Marketing Directory</td>\n",
       "      <td>[Dmitry Grankin, AI Marketing Directory]</td>\n",
       "      <td>22</td>\n",
       "      <td>0.200000</td>\n",
       "      <td>[semantic]</td>\n",
       "    </tr>\n",
       "    <tr>\n",
       "      <th>4</th>\n",
       "      <td>0.102936</td>\n",
       "      <td>AI Marketing Directory:  literally only one sp...</td>\n",
       "      <td>This chunk occurs during a conversation betwee...</td>\n",
       "      <td>Archiving Meeting Notes</td>\n",
       "      <td>77af4031-a5a9-4dae-ad90-80d12bdadde0</td>\n",
       "      <td>08:42</td>\n",
       "      <td>2024-12-12T16:00:42.624000+00:00</td>\n",
       "      <td>AI Marketing Directory</td>\n",
       "      <td>[Dmitry Grankin, AI Marketing Directory]</td>\n",
       "      <td>11</td>\n",
       "      <td>0.172727</td>\n",
       "      <td>[semantic, bm25]</td>\n",
       "    </tr>\n",
       "    <tr>\n",
       "      <th>5</th>\n",
       "      <td>0.150613</td>\n",
       "      <td>AI Marketing Directory:  I guess the goal from...</td>\n",
       "      <td>This chunk occurs during a conversation betwee...</td>\n",
       "      <td>Changing Direction and Future Plans</td>\n",
       "      <td>77af4031-a5a9-4dae-ad90-80d12bdadde0</td>\n",
       "      <td>04:11</td>\n",
       "      <td>2024-12-12T16:00:42.624000+00:00</td>\n",
       "      <td>AI Marketing Directory</td>\n",
       "      <td>[Dmitry Grankin, AI Marketing Directory]</td>\n",
       "      <td>6</td>\n",
       "      <td>0.160000</td>\n",
       "      <td>[semantic]</td>\n",
       "    </tr>\n",
       "    <tr>\n",
       "      <th>6</th>\n",
       "      <td>0.147359</td>\n",
       "      <td>AI Marketing Directory:  have you been using s...</td>\n",
       "      <td>This chunk occurs during a conversation betwee...</td>\n",
       "      <td>Experience with Note-taking Products</td>\n",
       "      <td>77af4031-a5a9-4dae-ad90-80d12bdadde0</td>\n",
       "      <td>05:12</td>\n",
       "      <td>2024-12-12T16:00:42.624000+00:00</td>\n",
       "      <td>AI Marketing Directory</td>\n",
       "      <td>[Dmitry Grankin, AI Marketing Directory]</td>\n",
       "      <td>8</td>\n",
       "      <td>0.133333</td>\n",
       "      <td>[semantic]</td>\n",
       "    </tr>\n",
       "    <tr>\n",
       "      <th>7</th>\n",
       "      <td>0.122990</td>\n",
       "      <td>AI Marketing Directory:  Yeah, at one point we...</td>\n",
       "      <td>This chunk occurs during a discussion between ...</td>\n",
       "      <td>Value of Note-taking Tools</td>\n",
       "      <td>77af4031-a5a9-4dae-ad90-80d12bdadde0</td>\n",
       "      <td>09:55</td>\n",
       "      <td>2024-12-12T16:00:42.624000+00:00</td>\n",
       "      <td>AI Marketing Directory</td>\n",
       "      <td>[Dmitry Grankin, AI Marketing Directory]</td>\n",
       "      <td>12</td>\n",
       "      <td>0.114286</td>\n",
       "      <td>[semantic]</td>\n",
       "    </tr>\n",
       "    <tr>\n",
       "      <th>8</th>\n",
       "      <td>0.122920</td>\n",
       "      <td>AI Marketing Directory:  Yeah, that's why we w...</td>\n",
       "      <td>This chunk is part of a conversation between t...</td>\n",
       "      <td>Communication and Updates</td>\n",
       "      <td>77af4031-a5a9-4dae-ad90-80d12bdadde0</td>\n",
       "      <td>24:47</td>\n",
       "      <td>2024-12-12T16:00:42.624000+00:00</td>\n",
       "      <td>AI Marketing Directory</td>\n",
       "      <td>[Dmitry Grankin, AI Marketing Directory]</td>\n",
       "      <td>21</td>\n",
       "      <td>0.100000</td>\n",
       "      <td>[semantic]</td>\n",
       "    </tr>\n",
       "    <tr>\n",
       "      <th>9</th>\n",
       "      <td>0.122525</td>\n",
       "      <td>AI Marketing Directory:  So I guess maybe the ...</td>\n",
       "      <td>This chunk occurs towards the end of a convers...</td>\n",
       "      <td>Next Steps and Collaboration</td>\n",
       "      <td>77af4031-a5a9-4dae-ad90-80d12bdadde0</td>\n",
       "      <td>19:14</td>\n",
       "      <td>2024-12-12T16:00:42.624000+00:00</td>\n",
       "      <td>AI Marketing Directory</td>\n",
       "      <td>[Dmitry Grankin, AI Marketing Directory]</td>\n",
       "      <td>16</td>\n",
       "      <td>0.088889</td>\n",
       "      <td>[semantic]</td>\n",
       "    </tr>\n",
       "    <tr>\n",
       "      <th>10</th>\n",
       "      <td>0.105355</td>\n",
       "      <td>AI Marketing Directory:  So yeah, I guess now ...</td>\n",
       "      <td>This chunk is part of a conversation between r...</td>\n",
       "      <td>Target Audience and Content Strategy</td>\n",
       "      <td>77af4031-a5a9-4dae-ad90-80d12bdadde0</td>\n",
       "      <td>00:56</td>\n",
       "      <td>2024-12-12T16:00:42.624000+00:00</td>\n",
       "      <td>AI Marketing Directory</td>\n",
       "      <td>[Dmitry Grankin, AI Marketing Directory]</td>\n",
       "      <td>2</td>\n",
       "      <td>0.080000</td>\n",
       "      <td>[semantic]</td>\n",
       "    </tr>\n",
       "    <tr>\n",
       "      <th>11</th>\n",
       "      <td>0.099943</td>\n",
       "      <td>AI Marketing Directory:  would be correct yeah...</td>\n",
       "      <td>This chunk is part of a conversation between r...</td>\n",
       "      <td>Client Engagement and Content Planning</td>\n",
       "      <td>77af4031-a5a9-4dae-ad90-80d12bdadde0</td>\n",
       "      <td>02:03</td>\n",
       "      <td>2024-12-12T16:00:42.624000+00:00</td>\n",
       "      <td>AI Marketing Directory</td>\n",
       "      <td>[Dmitry Grankin, AI Marketing Directory]</td>\n",
       "      <td>4</td>\n",
       "      <td>0.066667</td>\n",
       "      <td>[semantic]</td>\n",
       "    </tr>\n",
       "  </tbody>\n",
       "</table>\n",
       "</div>"
      ],
      "text/plain": [
       "       score                                            content  \\\n",
       "0   0.186763  AI Marketing Directory:  I guess while he does...   \n",
       "1   0.175371  AI Marketing Directory:  So yeah, Phil and I s...   \n",
       "2   0.173037  AI Marketing Directory:  Yeah, we'll detail ou...   \n",
       "3   0.151563  AI Marketing Directory:  And we could just, we...   \n",
       "4   0.102936  AI Marketing Directory:  literally only one sp...   \n",
       "5   0.150613  AI Marketing Directory:  I guess the goal from...   \n",
       "6   0.147359  AI Marketing Directory:  have you been using s...   \n",
       "7   0.122990  AI Marketing Directory:  Yeah, at one point we...   \n",
       "8   0.122920  AI Marketing Directory:  Yeah, that's why we w...   \n",
       "9   0.122525  AI Marketing Directory:  So I guess maybe the ...   \n",
       "10  0.105355  AI Marketing Directory:  So yeah, I guess now ...   \n",
       "11  0.099943  AI Marketing Directory:  would be correct yeah...   \n",
       "\n",
       "                               contextualized_content  \\\n",
       "0   This chunk is part of a conversation between r...   \n",
       "1   This chunk is part of a conversation between r...   \n",
       "2   This chunk is part of a conversation between t...   \n",
       "3   This chunk is part of a conversation between r...   \n",
       "4   This chunk occurs during a conversation betwee...   \n",
       "5   This chunk occurs during a conversation betwee...   \n",
       "6   This chunk occurs during a conversation betwee...   \n",
       "7   This chunk occurs during a discussion between ...   \n",
       "8   This chunk is part of a conversation between t...   \n",
       "9   This chunk occurs towards the end of a convers...   \n",
       "10  This chunk is part of a conversation between r...   \n",
       "11  This chunk is part of a conversation between r...   \n",
       "\n",
       "                                         topic  \\\n",
       "0                   Introduction and Greetings   \n",
       "1                           Company Background   \n",
       "2   Content Creation and Collaboration Process   \n",
       "3                 Utilizing Influencer Network   \n",
       "4                      Archiving Meeting Notes   \n",
       "5          Changing Direction and Future Plans   \n",
       "6         Experience with Note-taking Products   \n",
       "7                   Value of Note-taking Tools   \n",
       "8                    Communication and Updates   \n",
       "9                 Next Steps and Collaboration   \n",
       "10        Target Audience and Content Strategy   \n",
       "11      Client Engagement and Content Planning   \n",
       "\n",
       "                              meeting_id formatted_time  \\\n",
       "0   77af4031-a5a9-4dae-ad90-80d12bdadde0          00:00   \n",
       "1   77af4031-a5a9-4dae-ad90-80d12bdadde0          00:12   \n",
       "2   77af4031-a5a9-4dae-ad90-80d12bdadde0          22:22   \n",
       "3   77af4031-a5a9-4dae-ad90-80d12bdadde0          25:19   \n",
       "4   77af4031-a5a9-4dae-ad90-80d12bdadde0          08:42   \n",
       "5   77af4031-a5a9-4dae-ad90-80d12bdadde0          04:11   \n",
       "6   77af4031-a5a9-4dae-ad90-80d12bdadde0          05:12   \n",
       "7   77af4031-a5a9-4dae-ad90-80d12bdadde0          09:55   \n",
       "8   77af4031-a5a9-4dae-ad90-80d12bdadde0          24:47   \n",
       "9   77af4031-a5a9-4dae-ad90-80d12bdadde0          19:14   \n",
       "10  77af4031-a5a9-4dae-ad90-80d12bdadde0          00:56   \n",
       "11  77af4031-a5a9-4dae-ad90-80d12bdadde0          02:03   \n",
       "\n",
       "                           timestamp                 speaker  \\\n",
       "0   2024-12-12T16:00:42.624000+00:00  AI Marketing Directory   \n",
       "1   2024-12-12T16:00:42.624000+00:00  AI Marketing Directory   \n",
       "2   2024-12-12T16:00:42.624000+00:00  AI Marketing Directory   \n",
       "3   2024-12-12T16:00:42.624000+00:00  AI Marketing Directory   \n",
       "4   2024-12-12T16:00:42.624000+00:00  AI Marketing Directory   \n",
       "5   2024-12-12T16:00:42.624000+00:00  AI Marketing Directory   \n",
       "6   2024-12-12T16:00:42.624000+00:00  AI Marketing Directory   \n",
       "7   2024-12-12T16:00:42.624000+00:00  AI Marketing Directory   \n",
       "8   2024-12-12T16:00:42.624000+00:00  AI Marketing Directory   \n",
       "9   2024-12-12T16:00:42.624000+00:00  AI Marketing Directory   \n",
       "10  2024-12-12T16:00:42.624000+00:00  AI Marketing Directory   \n",
       "11  2024-12-12T16:00:42.624000+00:00  AI Marketing Directory   \n",
       "\n",
       "                                    speakers  chunk_index  combined_score  \\\n",
       "0   [Dmitry Grankin, AI Marketing Directory]            0        1.000000   \n",
       "1   [Dmitry Grankin, AI Marketing Directory]            1        0.400000   \n",
       "2   [Dmitry Grankin, AI Marketing Directory]           18        0.266667   \n",
       "3   [Dmitry Grankin, AI Marketing Directory]           22        0.200000   \n",
       "4   [Dmitry Grankin, AI Marketing Directory]           11        0.172727   \n",
       "5   [Dmitry Grankin, AI Marketing Directory]            6        0.160000   \n",
       "6   [Dmitry Grankin, AI Marketing Directory]            8        0.133333   \n",
       "7   [Dmitry Grankin, AI Marketing Directory]           12        0.114286   \n",
       "8   [Dmitry Grankin, AI Marketing Directory]           21        0.100000   \n",
       "9   [Dmitry Grankin, AI Marketing Directory]           16        0.088889   \n",
       "10  [Dmitry Grankin, AI Marketing Directory]            2        0.080000   \n",
       "11  [Dmitry Grankin, AI Marketing Directory]            4        0.066667   \n",
       "\n",
       "             sources  \n",
       "0   [semantic, bm25]  \n",
       "1         [semantic]  \n",
       "2         [semantic]  \n",
       "3         [semantic]  \n",
       "4   [semantic, bm25]  \n",
       "5         [semantic]  \n",
       "6         [semantic]  \n",
       "7         [semantic]  \n",
       "8         [semantic]  \n",
       "9         [semantic]  \n",
       "10        [semantic]  \n",
       "11        [semantic]  "
      ]
     },
     "execution_count": 31,
     "metadata": {},
     "output_type": "execute_result"
    }
   ],
   "source": [
    "df"
   ]
  },
  {
   "cell_type": "code",
   "execution_count": 32,
   "metadata": {},
   "outputs": [],
   "source": [
    "def format_meeting_context(df, show_content=True, show_contextualized=True):\n",
    "    unique_meetings = df['meeting_id'].unique()\n",
    "    meeting_map = {mid: idx+1 for idx, mid in enumerate(unique_meetings)}\n",
    "    meeting_map_reverse = {v:k for k,v in meeting_map.items()}\n",
    "    \n",
    "    # Sort by timestamp for meetings, then by formatted_time within meetings\n",
    "    df = df.sort_values(['timestamp', 'formatted_time'])\n",
    "    \n",
    "    meetings = []\n",
    "    for meeting_id, group in df.groupby('meeting_id'):\n",
    "        int_meeting_id = meeting_map[meeting_id]\n",
    "        timestamp = pd.to_datetime(group['timestamp'].iloc[0])\n",
    "        date_header = f\"## Meeting {int_meeting_id} - {timestamp.strftime('%B %d, %Y %H:%M')}\"\n",
    "        \n",
    "        content_items = []\n",
    "        for _, row in group.iterrows():\n",
    "            time_prefix = f\"[{row['formatted_time']}]\" if row['formatted_time'] else ''\n",
    "            if show_contextualized:\n",
    "                content_items.append(f\"- {time_prefix} {row['contextualized_content']}\")\n",
    "            if show_content:\n",
    "                prefix = \"  > \" if show_contextualized else \"- \"\n",
    "                content_items.append(f\"{prefix}{row['content']}\")\n",
    "        \n",
    "        content = \"\\n\".join(content_items)\n",
    "        meetings.append(f\"{date_header}\\n\\n{content}\\n\")\n",
    "    \n",
    "    return \"\\n\".join(meetings), meeting_map_reverse"
   ]
  },
  {
   "cell_type": "code",
   "execution_count": 33,
   "metadata": {},
   "outputs": [],
   "source": [
    "input_context, meeting_id_map = format_meeting_context(df,show_contextualized=True)"
   ]
  },
  {
   "cell_type": "code",
   "execution_count": 34,
   "metadata": {},
   "outputs": [
    {
     "data": {
      "text/markdown": [
       "## Meeting 1 - December 12, 2024 16:00\n",
       "\n",
       "- [00:00] This chunk is part of a conversation between representatives of AI Marketing Directory and Dmitry Grankin, discussing their respective companies, recent changes, and the focus on content creation for founder-led businesses. It serves as an introduction to the dialogue.\n",
       "  > AI Marketing Directory:  I guess while he does, yeah, well, it's nice to speak to you again after a little while.  It sounds like with both of us, others, Phil.  Hey, guys.  Hey, guys.\n",
       "- [00:12] This chunk is part of a conversation between representatives of AI Marketing Directory and Dmitry Grankin, discussing the evolution of their respective companies and the changes they have made since their last interaction.\n",
       "  > AI Marketing Directory:  So yeah, Phil and I started the company together.  We've made significant changes since we last spoke, which it sounds like you have as well, you know, which is what brought you to reach out to me in the first place.\n",
       "- [00:56] This chunk is part of a conversation between representatives of AI Marketing Directory and Dmitry Grankin, discussing the company's strategic pivot towards creating high-quality content for founder-led companies, with an initial focus on Twitter for distribution.\n",
       "  > AI Marketing Directory:  So yeah, I guess now instead of really targeting content on our own distribution, We are targeting founder-led companies and trying to create high-quality content by real people on our team for either the founders or their Brands socials, we're starting with Twitter for now because that's where we have the most success, you know actual documented success But eventually we'll be trying to get over to LinkedIn probably\n",
       "- [02:03] This chunk is part of a conversation between representatives of AI Marketing Directory and Dmitry Grankin, discussing the company's pivot towards creating tailored content strategies for founder-led companies. It outlines their approach to understanding client products, analyzing market competition, and developing a collaborative content plan over a specified timeline.\n",
       "  > AI Marketing Directory:  would be correct yeah we were pivoting right yeah um yeah so essentially as as ethan said we we We are going to like, well, what we've been doing with our clients is taking like a whole look at their product under completely understanding what our client's product is looking at competitive and what content is doing well in the marketplace.  And then just like taking all of that into account, like doing a deep dive into the target audience and then putting together a content content plan and executing on that content plan with our content team over like a 30 60 90 day period and obviously beyond that but that's that's what we would start with yeah and like I guess also the goal on top of what Phil said would be to like, you know, we want to actually learn, you know, everything there is to learn about our customers and do the best job we can.  The way we, you know, do that is, you know, just by making it more quality over quality, I guess you could say.  So like, yeah, you know, just really like making it a collaborative process, you know, And being able to share their ideas, but also just like really creating a specific catered plan 30 60 90. No, okay schedule so\n",
       "- [04:11] This chunk occurs during a conversation between representatives of AI Marketing Directory and Dmitry Grankin, the founder of Vexa, where they discuss a shift in the marketing company's focus and express interest in collaborating on Vexa's content strategy.\n",
       "  > AI Marketing Directory:  I guess the goal from our side was just to inform you that we're changing our direction and maybe this something that might be more interesting to you um than what we spoke about before um and yeah i mean we're happy to talk more on this call about vexa specifically i mean we could also schedule more calls in the future to do that whatever you prefer okay I love that\n",
       "- [05:12] This chunk occurs during a conversation between the AI Marketing Directory and Dmitry Grankin, where they discuss their experiences with various meeting note-taking products, including Fireflies and Otter AI, as part of a broader dialogue about the functionality and usefulness of such tools in their work processes.\n",
       "  > AI Marketing Directory:  have you been using such products I I have tested a couple of them yeah work wise or which ones I've tested Fireflies and then... What's the one that Nate uses for the meeting? I don't know which one he uses, but I've used Fireflies, and then let me see what else I've used.  I'm gonna try and look up the one he uses.  I have not actually stuck with one yet personally, but I've tried a couple of different ones.  I like use, yeah, I personally use it for myself rather than sending it to other- Oh, TLDV.  Okay.  in Otter AI is another one that I've tried.  Oh, that's the one, Otter AI, yeah.  Okay.\n",
       "- [08:42] This chunk occurs during a conversation between the AI Marketing Directory and Dmitry Grankin, where they discuss the use of meeting note-taking tools. Dmitry shares his personal experience with summarizing calls for his older partner, highlighting the limited use he finds for the tool, which is primarily for recalling general ideas from meetings.\n",
       "  > AI Marketing Directory:  literally only one specific i started doing it for one reason because our third partner um is an older guy and he uh he you know sometimes when i like talk to him about calls that i have a little summary so I literally you know if he asked me I'll pull it up but but that's pretty much the only use I found for it so far you've been reporting with was this  so you've been creating reports about your communities with with the other partner  no no so like i summarize my i don't use it for like you know sometimes You know, like I, I do it for, you know, I summarize like a call that I had, I'll put it, you know, in like a Google drive document and like, you know, if, if my, if the other partner asks us about it, I'll pull it up on my phone.  I'll just read it you know okay I don't do anything else with it after that yeah  basically you want to recall at least some general idea what was going on\n",
       "- [09:55] This chunk occurs during a discussion between the AI Marketing Directory and Dmitry Grankin about the use and perceived value of meeting note-taking tools. The conversation reflects on their personal experiences with such tools, their current needs, and the potential benefits of using them in a business context.\n",
       "  > AI Marketing Directory:  Yeah, at one point we got, and also to answer your question about our potential interests, we have our opinions about it, but if we had a much bigger company, maybe we'd be less reluctant to to getting it you know but um like like um uh i mean i guess what i'm trying to say is like you know like at one point i got like a free trial for it or something and that's why was using it i think you know um you know we're i guess it's just not something that we feel like we need right now and like that's sort of the stage run but like i definitely 100 see the value you know  okay okay but basically did you have any like you don't use it for a for a daily for for every meeting uh even though it's pretty easy to sit up and uh i don't yeah personally i don't but i i i mean i know a lot of people  that do i've met with a lot of people that do i know there's value there for sure okay\n",
       "- [19:14] This chunk occurs towards the end of a conversation between representatives of AI Marketing Directory and Dmitry Grankin, the founder of Vexa. It focuses on discussing the next steps for collaboration, specifically regarding the crafting of a new landing page and how the AI Marketing Directory can support Vexa in growing its personal brand and content strategy.\n",
       "  > AI Marketing Directory:  So I guess maybe the next step for us might be, you know, like i said we're crafting a new landing page but we could send you we pretty much have it all we know what we're what it's going what's going to be on it and everything so we could send you an email um you know with you know, all the, all the information, and we can maybe, you know, you can let us know how you feel about that, and I guess, you know, in light of your situation, you know, we'll, we'll, you know, we'll see, um, like, but, um, like, what we can deal with with respect to that um so does that sound good to you yeah sure um all right and then yeah sorry we're gonna say no i was gonna say yeah we could just send over an email with what our offer is and kind of how we think it would work well for BEXA and you personally, especially if you're trying to grow your personal brand along with BEXA.  Because obviously, that's going to help.  So yeah, we'll send over all the details, and then.  MARIUSZ GASIEWSKI, But can you share with me the idea?\n",
       "- [22:22] This chunk is part of a conversation between the AI Marketing Directory and Dmitry Grankin, discussing the structure and frequency of their potential partnership, specifically focusing on content planning and collaboration for VEXA, a meeting note-taking tool.\n",
       "  > AI Marketing Directory:  Yeah, we'll detail out what the partnership would even look like, cause we would wanna meet with you like every two weeks, get an idea of what's going on with VEXA and he, product updates, any thing that you want to push to these audiences that we're building up for you. Any like industry news that you want to touch on like those kind of things. And then, like come up with a content plan based on our conversations for like the next two weeks and then we just kind of do it all over again yeah I feel like as of May\n",
       "- [24:47] This chunk is part of a conversation between the AI Marketing Directory and Dmitry Grankin, where they discuss the importance of maintaining constant communication with clients to effectively manage their personal brands and create tailored content that aligns with their goals and narratives.\n",
       "  > AI Marketing Directory:  Yeah, that's why we would want to be in constant communication with anyone we're working with because we're not in the day-to-day.  So getting those updates makes it super simple.  And then also just like if we're managing, a personal brand, what are the types of content that they want created?  What are the topics that they want?  What are the stories they want to tell?\n",
       "- [25:19] This chunk is part of a conversation between representatives of AI Marketing Directory and Dmitry Grankin, discussing their new approach to content creation for founder-led companies. It highlights their expertise in crafting viral content and leveraging an influencer network, emphasizing the importance of both content creation and distribution strategies in their marketing efforts.\n",
       "  > AI Marketing Directory:  And we could just, we just have the knowledge and skill set to put that together in a way that has like viral potential yeah and two things i want to say uh echoing phil's point yeah like one that's like the common problem we're finding is like you know all these founders they have great ideas obviously for other starting companies.  But like Phil said, like, you know, we have the knowledge and expertise to not only put it together in a way that's well, but quickly.  And the second thing is like, you know, we're also gonna be utilizing our, influencer network that we've been aggregating.  Part of the reason we're targeting Twitter first and not LinkedIn right now is not just because we have probably more knowledge of Twitter, but we've been aggregating a huge influencer network for a long time.  know, um, you know, and we we pay for that exposure out of our pockets. So we take care of that, you know, so there are elements of distribution and elements of creation involved in it. So, you know, it's it's not\n"
      ],
      "text/plain": [
       "<IPython.core.display.Markdown object>"
      ]
     },
     "metadata": {},
     "output_type": "display_data"
    }
   ],
   "source": [
    "display(Markdown(input_context))"
   ]
  },
  {
   "cell_type": "code",
   "execution_count": 35,
   "metadata": {},
   "outputs": [
    {
     "data": {
      "text/plain": [
       "['77af4031-a5a9-4dae-ad90-80d12bdadde0']"
      ]
     },
     "execution_count": 35,
     "metadata": {},
     "output_type": "execute_result"
    }
   ],
   "source": [
    "[v for v in meeting_id_map.values()]"
   ]
  },
  {
   "cell_type": "code",
   "execution_count": 36,
   "metadata": {},
   "outputs": [],
   "source": [
    "from core import generic_call,system_msg,user_msg,count_tokens"
   ]
  },
  {
   "cell_type": "code",
   "execution_count": 37,
   "metadata": {},
   "outputs": [],
   "source": [
    "input = count_tokens(input_context)"
   ]
  },
  {
   "cell_type": "code",
   "execution_count": 38,
   "metadata": {},
   "outputs": [
    {
     "data": {
      "text/plain": [
       "2517"
      ]
     },
     "execution_count": 38,
     "metadata": {},
     "output_type": "execute_result"
    }
   ],
   "source": [
    "input"
   ]
  },
  {
   "cell_type": "code",
   "execution_count": 39,
   "metadata": {},
   "outputs": [],
   "source": [
    "from core import generic_call,system_msg,user_msg\n"
   ]
  },
  {
   "cell_type": "code",
   "execution_count": 134,
   "metadata": {},
   "outputs": [],
   "source": []
  },
  {
   "cell_type": "code",
   "execution_count": 40,
   "metadata": {},
   "outputs": [],
   "source": [
    "system_prompt = \"\"\"\n",
    "you are helpful assistant that is answering user requests by interpreting  while interpreting the context\n",
    "You have to rely on the context to answer the user request\n",
    "\n",
    "User is Dmitry Grankin, Address his as YOU and distinguish them in in the provided context in in the response.\n",
    "\n",
    "Always supply reference to specific meeting with [#meeting_id]\n",
    "\n",
    "If appropriate, inlude qoutes with speaker reference\n",
    "\n",
    "whenever you're responding consider everything you know about me in the memory to form a context of things that I would find interesting and where possible link back to those topics and include key terminologies and concepts that will help expand my knowledge along those areas.\n",
    "\"\"\"\n",
    "\n",
    "\n"
   ]
  },
  {
   "cell_type": "code",
   "execution_count": 41,
   "metadata": {},
   "outputs": [
    {
     "name": "stdout",
     "output_type": "stream",
     "text": [
      "The representatives from the AI Marketing Directory are the individuals you were speaking with during the meeting on December 12, 2024. They are involved in discussing their company's strategic pivot towards creating high-quality content specifically for founder-led businesses, which aligns with your interests in content creation and marketing strategies for Vexa. \n",
      "\n",
      "In the meeting, they mentioned their focus on understanding client products, analyzing market competition, and developing tailored content strategies. They also highlighted their expertise in crafting viral content and leveraging an influencer network, particularly on Twitter, which could be beneficial for your personal brand and Vexa's marketing efforts. \n",
      "\n",
      "If you need more specific details about their roles or the company, feel free to ask!\n"
     ]
    },
    {
     "data": {
      "text/plain": [
       "\"The representatives from the AI Marketing Directory are the individuals you were speaking with during the meeting on December 12, 2024. They are involved in discussing their company's strategic pivot towards creating high-quality content specifically for founder-led businesses, which aligns with your interests in content creation and marketing strategies for Vexa. \\n\\nIn the meeting, they mentioned their focus on understanding client products, analyzing market competition, and developing tailored content strategies. They also highlighted their expertise in crafting viral content and leveraging an influencer network, particularly on Twitter, which could be beneficial for your personal brand and Vexa's marketing efforts. \\n\\nIf you need more specific details about their roles or the company, feel free to ask!\""
      ]
     },
     "execution_count": 41,
     "metadata": {},
     "output_type": "execute_result"
    }
   ],
   "source": [
    "\n",
    "r = await generic_call([system_msg(system_prompt),\n",
    "                        user_msg(f'context: {input_context}'),\n",
    "                        user_msg(f'request: {q}')])\n",
    "r\n",
    "\n"
   ]
  },
  {
   "cell_type": "code",
   "execution_count": 42,
   "metadata": {},
   "outputs": [
    {
     "data": {
      "text/markdown": [
       "The representatives from the AI Marketing Directory are the individuals you were speaking with during the meeting on December 12, 2024. They are involved in discussing their company's strategic pivot towards creating high-quality content specifically for founder-led businesses, which aligns with your interests in content creation and marketing strategies for Vexa. \n",
       "\n",
       "In the meeting, they mentioned their focus on understanding client products, analyzing market competition, and developing tailored content strategies. They also highlighted their expertise in crafting viral content and leveraging an influencer network, particularly on Twitter, which could be beneficial for your personal brand and Vexa's marketing efforts. \n",
       "\n",
       "If you need more specific details about their roles or the company, feel free to ask!"
      ],
      "text/plain": [
       "<IPython.core.display.Markdown object>"
      ]
     },
     "metadata": {},
     "output_type": "display_data"
    }
   ],
   "source": [
    "display(Markdown(r))"
   ]
  },
  {
   "cell_type": "code",
   "execution_count": null,
   "metadata": {},
   "outputs": [],
   "source": []
  },
  {
   "cell_type": "code",
   "execution_count": 37,
   "metadata": {},
   "outputs": [],
   "source": [
    "def extract_tagged_content(text: str, tag: str) -> str:\n",
    "    import re\n",
    "    # Try exact match first\n",
    "    pattern = f\"<{tag}>(.*?)</{tag}>\"\n",
    "    match = re.search(pattern, text, re.DOTALL)\n",
    "    if match:\n",
    "        return match.group(1).strip()\n",
    "    \n",
    "    # If no exact match, try to find content after opening tag\n",
    "    pattern = f\"<{tag}>(.*?)(?:</?|$)\"\n",
    "    match = re.search(pattern, text, re.DOTALL)\n",
    "    return match.group(1).strip() if match else \"\"\n",
    "\n",
    "# Example usage:\n",
    "thinking = extract_tagged_content(r, \"thinking\")\n",
    "answer = extract_tagged_content(r, \"answer\")"
   ]
  },
  {
   "cell_type": "code",
   "execution_count": 50,
   "metadata": {},
   "outputs": [
    {
     "data": {
      "text/plain": [
       "'Entities:\\n- People: **Dmitriy Grankin**, **Lara Vargas**\\n- Companies: None mentioned\\n- Products: **VEXA**\\n- Ideas: Engaging with **micro-influencers**, influencer outreach strategies, audience targeting, content creation, qualitative research\\n- Action Points: \\n  - Create a set of short descriptions about target audiences\\n  - Identify and outreach to **micro-influencers**\\n  - Develop a pipeline for influencer engagement\\n  - Create YouTube queries for influencer research\\n  - Analyze engagement rates of influencers\\n  - Set up meetings with identified influencers'"
      ]
     },
     "execution_count": 50,
     "metadata": {},
     "output_type": "execute_result"
    }
   ],
   "source": [
    "thinking"
   ]
  },
  {
   "cell_type": "code",
   "execution_count": null,
   "metadata": {},
   "outputs": [],
   "source": []
  }
 ],
 "metadata": {
  "kernelspec": {
   "display_name": "Python 3",
   "language": "python",
   "name": "python3"
  },
  "language_info": {
   "codemirror_mode": {
    "name": "ipython",
    "version": 3
   },
   "file_extension": ".py",
   "mimetype": "text/x-python",
   "name": "python",
   "nbconvert_exporter": "python",
   "pygments_lexer": "ipython3",
   "version": "3.11.11"
  }
 },
 "nbformat": 4,
 "nbformat_minor": 2
}
