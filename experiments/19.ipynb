{
 "cells": [
  {
   "cell_type": "code",
   "execution_count": 1,
   "metadata": {},
   "outputs": [],
   "source": [
    "# 17_search.ipynb\n",
    "\n",
    "%load_ext autoreload\n",
    "%autoreload 2\n",
    "\n",
    "import sys\n",
    "sys.path.append('/app')"
   ]
  },
  {
   "cell_type": "code",
   "execution_count": 2,
   "metadata": {},
   "outputs": [],
   "source": [
    "from psql_helpers import read_table_async"
   ]
  },
  {
   "cell_type": "code",
   "execution_count": 3,
   "metadata": {},
   "outputs": [],
   "source": [
    "from psql_models import User,Content"
   ]
  },
  {
   "cell_type": "code",
   "execution_count": 4,
   "metadata": {},
   "outputs": [],
   "source": [
    "from psql_access import get_meeting_token\n",
    "from datetime import datetime\n",
    "from indexing.redis_keys import RedisKeys\n",
    "from indexing.worker import IndexingWorker\n",
    "from redis import Redis\n"
   ]
  },
  {
   "cell_type": "code",
   "execution_count": 5,
   "metadata": {},
   "outputs": [],
   "source": [
    "from sqlalchemy import update\n",
    "from psql_helpers import get_session\n",
    "\n",
    "async def reset_content_indexing():\n",
    "    async with get_session() as session:\n",
    "        await session.execute(\n",
    "            update(Content).values(is_indexed=False)\n",
    "        )\n",
    "        await session.commit()\n",
    "\n",
    "# Execute\n",
    "await reset_content_indexing()"
   ]
  },
  {
   "cell_type": "code",
   "execution_count": 6,
   "metadata": {},
   "outputs": [],
   "source": [
    "df = await read_table_async(Content)"
   ]
  },
  {
   "cell_type": "code",
   "execution_count": 7,
   "metadata": {},
   "outputs": [
    {
     "data": {
      "text/html": [
       "<div>\n",
       "<style scoped>\n",
       "    .dataframe tbody tr th:only-of-type {\n",
       "        vertical-align: middle;\n",
       "    }\n",
       "\n",
       "    .dataframe tbody tr th {\n",
       "        vertical-align: top;\n",
       "    }\n",
       "\n",
       "    .dataframe thead th {\n",
       "        text-align: right;\n",
       "    }\n",
       "</style>\n",
       "<table border=\"1\" class=\"dataframe\">\n",
       "  <thead>\n",
       "    <tr style=\"text-align: right;\">\n",
       "      <th></th>\n",
       "      <th>id</th>\n",
       "      <th>content_id</th>\n",
       "      <th>type</th>\n",
       "      <th>text</th>\n",
       "      <th>timestamp</th>\n",
       "      <th>parent_id</th>\n",
       "      <th>is_indexed</th>\n",
       "      <th>last_update</th>\n",
       "    </tr>\n",
       "  </thead>\n",
       "  <tbody>\n",
       "    <tr>\n",
       "      <th>0</th>\n",
       "      <td>8fcc6d32-cc29-4790-85d1-bb2e518de579</td>\n",
       "      <td>8fcc6d32-cc29-4790-85d1-bb2e518de579</td>\n",
       "      <td>meeting</td>\n",
       "      <td>None</td>\n",
       "      <td>2024-12-09 14:01:20</td>\n",
       "      <td>None</td>\n",
       "      <td>False</td>\n",
       "      <td>2024-12-09 15:54:04</td>\n",
       "    </tr>\n",
       "    <tr>\n",
       "      <th>1</th>\n",
       "      <td>e434c677-5d44-418d-a655-c8c2641a7c15</td>\n",
       "      <td>e434c677-5d44-418d-a655-c8c2641a7c15</td>\n",
       "      <td>meeting</td>\n",
       "      <td>None</td>\n",
       "      <td>2024-12-12 13:01:05</td>\n",
       "      <td>None</td>\n",
       "      <td>False</td>\n",
       "      <td>2024-12-12 13:28:37</td>\n",
       "    </tr>\n",
       "    <tr>\n",
       "      <th>2</th>\n",
       "      <td>0f3fde7d-6e77-4159-86a4-32d502fac590</td>\n",
       "      <td>0f3fde7d-6e77-4159-86a4-32d502fac590</td>\n",
       "      <td>meeting</td>\n",
       "      <td>None</td>\n",
       "      <td>2024-12-12 13:04:21</td>\n",
       "      <td>None</td>\n",
       "      <td>False</td>\n",
       "      <td>2024-12-12 13:29:25</td>\n",
       "    </tr>\n",
       "    <tr>\n",
       "      <th>3</th>\n",
       "      <td>3fd2555d-502b-4693-b548-d31b51309867</td>\n",
       "      <td>3fd2555d-502b-4693-b548-d31b51309867</td>\n",
       "      <td>meeting</td>\n",
       "      <td>None</td>\n",
       "      <td>2024-12-12 13:32:55</td>\n",
       "      <td>None</td>\n",
       "      <td>False</td>\n",
       "      <td>2024-12-12 13:53:01</td>\n",
       "    </tr>\n",
       "    <tr>\n",
       "      <th>4</th>\n",
       "      <td>2153c43d-0d3f-4a22-a074-01942813132b</td>\n",
       "      <td>2153c43d-0d3f-4a22-a074-01942813132b</td>\n",
       "      <td>meeting</td>\n",
       "      <td>None</td>\n",
       "      <td>2024-12-12 13:40:05</td>\n",
       "      <td>None</td>\n",
       "      <td>False</td>\n",
       "      <td>2024-12-12 14:01:45</td>\n",
       "    </tr>\n",
       "    <tr>\n",
       "      <th>...</th>\n",
       "      <td>...</td>\n",
       "      <td>...</td>\n",
       "      <td>...</td>\n",
       "      <td>...</td>\n",
       "      <td>...</td>\n",
       "      <td>...</td>\n",
       "      <td>...</td>\n",
       "      <td>...</td>\n",
       "    </tr>\n",
       "    <tr>\n",
       "      <th>3687</th>\n",
       "      <td>fdedde82-0669-4cbd-bccd-305b89348180</td>\n",
       "      <td>fdedde82-0669-4cbd-bccd-305b89348180</td>\n",
       "      <td>meeting</td>\n",
       "      <td>None</td>\n",
       "      <td>2024-12-09 13:49:26</td>\n",
       "      <td>None</td>\n",
       "      <td>False</td>\n",
       "      <td>2024-12-09 14:53:34</td>\n",
       "    </tr>\n",
       "    <tr>\n",
       "      <th>3688</th>\n",
       "      <td>08c180da-b827-407b-90b5-12f53a7967ed</td>\n",
       "      <td>08c180da-b827-407b-90b5-12f53a7967ed</td>\n",
       "      <td>meeting</td>\n",
       "      <td>None</td>\n",
       "      <td>2024-12-09 14:16:13</td>\n",
       "      <td>None</td>\n",
       "      <td>False</td>\n",
       "      <td>2024-12-09 15:04:15</td>\n",
       "    </tr>\n",
       "    <tr>\n",
       "      <th>3689</th>\n",
       "      <td>89339980-8931-4330-80f6-2ae0157b1c7e</td>\n",
       "      <td>89339980-8931-4330-80f6-2ae0157b1c7e</td>\n",
       "      <td>meeting</td>\n",
       "      <td>None</td>\n",
       "      <td>2024-12-09 15:00:10</td>\n",
       "      <td>None</td>\n",
       "      <td>False</td>\n",
       "      <td>2024-12-09 15:07:52</td>\n",
       "    </tr>\n",
       "    <tr>\n",
       "      <th>3690</th>\n",
       "      <td>4ff8d2e1-defa-4e26-93fb-9723c7d205bc</td>\n",
       "      <td>4ff8d2e1-defa-4e26-93fb-9723c7d205bc</td>\n",
       "      <td>meeting</td>\n",
       "      <td>None</td>\n",
       "      <td>2024-12-09 15:06:05</td>\n",
       "      <td>None</td>\n",
       "      <td>False</td>\n",
       "      <td>2024-12-09 15:16:53</td>\n",
       "    </tr>\n",
       "    <tr>\n",
       "      <th>3691</th>\n",
       "      <td>bc19ab9d-394a-4705-8e04-24292d371a84</td>\n",
       "      <td>bc19ab9d-394a-4705-8e04-24292d371a84</td>\n",
       "      <td>meeting</td>\n",
       "      <td>None</td>\n",
       "      <td>2024-12-12 12:43:35</td>\n",
       "      <td>None</td>\n",
       "      <td>False</td>\n",
       "      <td>2024-12-12 12:54:24</td>\n",
       "    </tr>\n",
       "  </tbody>\n",
       "</table>\n",
       "<p>3692 rows × 8 columns</p>\n",
       "</div>"
      ],
      "text/plain": [
       "                                        id  \\\n",
       "0     8fcc6d32-cc29-4790-85d1-bb2e518de579   \n",
       "1     e434c677-5d44-418d-a655-c8c2641a7c15   \n",
       "2     0f3fde7d-6e77-4159-86a4-32d502fac590   \n",
       "3     3fd2555d-502b-4693-b548-d31b51309867   \n",
       "4     2153c43d-0d3f-4a22-a074-01942813132b   \n",
       "...                                    ...   \n",
       "3687  fdedde82-0669-4cbd-bccd-305b89348180   \n",
       "3688  08c180da-b827-407b-90b5-12f53a7967ed   \n",
       "3689  89339980-8931-4330-80f6-2ae0157b1c7e   \n",
       "3690  4ff8d2e1-defa-4e26-93fb-9723c7d205bc   \n",
       "3691  bc19ab9d-394a-4705-8e04-24292d371a84   \n",
       "\n",
       "                                content_id     type  text           timestamp  \\\n",
       "0     8fcc6d32-cc29-4790-85d1-bb2e518de579  meeting  None 2024-12-09 14:01:20   \n",
       "1     e434c677-5d44-418d-a655-c8c2641a7c15  meeting  None 2024-12-12 13:01:05   \n",
       "2     0f3fde7d-6e77-4159-86a4-32d502fac590  meeting  None 2024-12-12 13:04:21   \n",
       "3     3fd2555d-502b-4693-b548-d31b51309867  meeting  None 2024-12-12 13:32:55   \n",
       "4     2153c43d-0d3f-4a22-a074-01942813132b  meeting  None 2024-12-12 13:40:05   \n",
       "...                                    ...      ...   ...                 ...   \n",
       "3687  fdedde82-0669-4cbd-bccd-305b89348180  meeting  None 2024-12-09 13:49:26   \n",
       "3688  08c180da-b827-407b-90b5-12f53a7967ed  meeting  None 2024-12-09 14:16:13   \n",
       "3689  89339980-8931-4330-80f6-2ae0157b1c7e  meeting  None 2024-12-09 15:00:10   \n",
       "3690  4ff8d2e1-defa-4e26-93fb-9723c7d205bc  meeting  None 2024-12-09 15:06:05   \n",
       "3691  bc19ab9d-394a-4705-8e04-24292d371a84  meeting  None 2024-12-12 12:43:35   \n",
       "\n",
       "     parent_id  is_indexed         last_update  \n",
       "0         None       False 2024-12-09 15:54:04  \n",
       "1         None       False 2024-12-12 13:28:37  \n",
       "2         None       False 2024-12-12 13:29:25  \n",
       "3         None       False 2024-12-12 13:53:01  \n",
       "4         None       False 2024-12-12 14:01:45  \n",
       "...        ...         ...                 ...  \n",
       "3687      None       False 2024-12-09 14:53:34  \n",
       "3688      None       False 2024-12-09 15:04:15  \n",
       "3689      None       False 2024-12-09 15:07:52  \n",
       "3690      None       False 2024-12-09 15:16:53  \n",
       "3691      None       False 2024-12-12 12:54:24  \n",
       "\n",
       "[3692 rows x 8 columns]"
      ]
     },
     "execution_count": 7,
     "metadata": {},
     "output_type": "execute_result"
    }
   ],
   "source": [
    "df"
   ]
  },
  {
   "cell_type": "code",
   "execution_count": 8,
   "metadata": {},
   "outputs": [
    {
     "data": {
      "text/plain": [
       "is_indexed\n",
       "False    3692\n",
       "Name: count, dtype: int64"
      ]
     },
     "execution_count": 8,
     "metadata": {},
     "output_type": "execute_result"
    }
   ],
   "source": [
    "df['is_indexed'].value_counts()\n"
   ]
  },
  {
   "cell_type": "code",
   "execution_count": 29,
   "metadata": {},
   "outputs": [
    {
     "data": {
      "text/plain": [
       "type\n",
       "meeting    3687\n",
       "title         4\n",
       "Name: count, dtype: int64"
      ]
     },
     "execution_count": 29,
     "metadata": {},
     "output_type": "execute_result"
    }
   ],
   "source": [
    "df['type'].value_counts()\n"
   ]
  },
  {
   "cell_type": "code",
   "execution_count": null,
   "metadata": {},
   "outputs": [],
   "source": []
  },
  {
   "cell_type": "code",
   "execution_count": 30,
   "metadata": {},
   "outputs": [
    {
     "ename": "NameError",
     "evalue": "name 'self' is not defined",
     "output_type": "error",
     "traceback": [
      "\u001b[0;31m---------------------------------------------------------------------------\u001b[0m",
      "\u001b[0;31mNameError\u001b[0m                                 Traceback (most recent call last)",
      "Cell \u001b[0;32mIn[30], line 2\u001b[0m\n\u001b[1;32m      1\u001b[0m processor \u001b[38;5;241m=\u001b[39m ContentProcessor(\n\u001b[0;32m----> 2\u001b[0m             qdrant_engine\u001b[38;5;241m=\u001b[39m\u001b[38;5;28;43mself\u001b[39;49m\u001b[38;5;241m.\u001b[39mqdrant_engine,\n\u001b[1;32m      3\u001b[0m             es_engine\u001b[38;5;241m=\u001b[39m\u001b[38;5;28mself\u001b[39m\u001b[38;5;241m.\u001b[39mes_engine\n\u001b[1;32m      4\u001b[0m         )\n",
      "\u001b[0;31mNameError\u001b[0m: name 'self' is not defined"
     ]
    }
   ],
   "source": [
    "processor = ContentProcessor(\n",
    "            qdrant_engine=self.qdrant_engine,\n",
    "            es_engine=self.es_engine\n",
    "        )"
   ]
  },
  {
   "cell_type": "code",
   "execution_count": null,
   "metadata": {},
   "outputs": [],
   "source": []
  }
 ],
 "metadata": {
  "kernelspec": {
   "display_name": "Python 3",
   "language": "python",
   "name": "python3"
  },
  "language_info": {
   "codemirror_mode": {
    "name": "ipython",
    "version": 3
   },
   "file_extension": ".py",
   "mimetype": "text/x-python",
   "name": "python",
   "nbconvert_exporter": "python",
   "pygments_lexer": "ipython3",
   "version": "3.11.11"
  }
 },
 "nbformat": 4,
 "nbformat_minor": 2
}
