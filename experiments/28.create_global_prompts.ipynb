{
 "cells": [
  {
   "cell_type": "code",
   "execution_count": 1,
   "metadata": {},
   "outputs": [],
   "source": [
    "%load_ext autoreload\n",
    "%autoreload 2"
   ]
  },
  {
   "cell_type": "code",
   "execution_count": 2,
   "metadata": {},
   "outputs": [],
   "source": [
    "import sys\n",
    "sys.path.append('/app')"
   ]
  },
  {
   "cell_type": "code",
   "execution_count": 3,
   "metadata": {},
   "outputs": [],
   "source": [
    "from prompts_manager import PromptsManager\n",
    "from psql_models import PromptTypeEnum\n",
    "from psql_helpers import get_session\n",
    "from uuid import UUID\n",
    "\n",
    "manager = await PromptsManager.create()"
   ]
  },
  {
   "cell_type": "code",
   "execution_count": 11,
   "metadata": {},
   "outputs": [],
   "source": [
    "r = await manager.get_global_prompts()"
   ]
  },
  {
   "cell_type": "code",
   "execution_count": 16,
   "metadata": {},
   "outputs": [
    {
     "data": {
      "text/plain": [
       "\"\\nCreate a concise summary of the following text as markdown with attention to company FACTS, names, people, dates, numbers, and facts. All FACTS must be preserved.\\n                    The output should be at most 10000 characters long, if the meeting is long enough.\\n                    Cover all the  transcript.\\n                    Structure:\\n                    1. Short summary (500 characters max)\\n                    2. Main points as bullets (500 characters each). Each point should:\\n                       - try to understand the meetings  type and structure, if it's a team meeting, sales meeting, job interviews, customer meeting, etc, not limited to this list.\\n                       - Mention speakers\\n                       - Include FACTS\\n                       - Present main ideas\\n                       - Provide concise information\\n\\n\\n\""
      ]
     },
     "execution_count": 16,
     "metadata": {},
     "output_type": "execute_result"
    }
   ],
   "source": [
    "r[0].prompt"
   ]
  },
  {
   "cell_type": "code",
   "execution_count": 17,
   "metadata": {},
   "outputs": [
    {
     "data": {
      "text/plain": [
       "'meeting_summary'"
      ]
     },
     "execution_count": 17,
     "metadata": {},
     "output_type": "execute_result"
    }
   ],
   "source": [
    "r[0].alias"
   ]
  },
  {
   "cell_type": "code",
   "execution_count": 5,
   "metadata": {},
   "outputs": [],
   "source": [
    "prompt = \"\"\"\n",
    "Create a concise summary of the following text as markdown with attention to company FACTS, names, people, dates, numbers, and facts. All FACTS must be preserved.\n",
    "                    The output should be at most 10000 characters long, if the meeting is long enough.\n",
    "                    Cover all the  transcript.\n",
    "                    Structure:\n",
    "                    1. Short summary (500 characters max)\n",
    "                    2. Main points as bullets (500 characters each). Each point should:\n",
    "                       - try to understand the meetings  type and structure, if it's a team meeting, sales meeting, job interviews, customer meeting, etc, not limited to this list.\n",
    "                       - Mention speakers\n",
    "                       - Include FACTS\n",
    "                       - Present main ideas\n",
    "                       - Provide concise information\n",
    "\n",
    "\n",
    "\"\"\"\n",
    "\n",
    "alias = \"meeting_summary\""
   ]
  },
  {
   "cell_type": "code",
   "execution_count": 9,
   "metadata": {},
   "outputs": [
    {
     "data": {
      "text/plain": [
       "2"
      ]
     },
     "execution_count": 9,
     "metadata": {},
     "output_type": "execute_result"
    }
   ],
   "source": [
    "await manager.create_global_prompt(\n",
    "    prompt_text=prompt,\n",
    "    prompt_type=\"meeting\",\n",
    "    alias=\"meeting_summary\"\n",
    ")"
   ]
  },
  {
   "cell_type": "code",
   "execution_count": null,
   "metadata": {},
   "outputs": [],
   "source": []
  }
 ],
 "metadata": {
  "kernelspec": {
   "display_name": "Python 3",
   "language": "python",
   "name": "python3"
  },
  "language_info": {
   "codemirror_mode": {
    "name": "ipython",
    "version": 3
   },
   "file_extension": ".py",
   "mimetype": "text/x-python",
   "name": "python",
   "nbconvert_exporter": "python",
   "pygments_lexer": "ipython3",
   "version": "3.11.11"
  }
 },
 "nbformat": 4,
 "nbformat_minor": 2
}
