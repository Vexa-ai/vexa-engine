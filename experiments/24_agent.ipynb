{
 "cells": [
  {
   "cell_type": "code",
   "execution_count": 11,
   "metadata": {},
   "outputs": [],
   "source": [
    "import sys\n",
    "sys.path.append('/app')"
   ]
  },
  {
   "cell_type": "code",
   "execution_count": 8,
   "metadata": {},
   "outputs": [],
   "source": [
    "from nest_asyncio import apply\n",
    "apply()"
   ]
  },
  {
   "cell_type": "code",
   "execution_count": 9,
   "metadata": {},
   "outputs": [],
   "source": [
    "import asyncio\n",
    "import os\n",
    "import uuid\n",
    "from dotenv import load_dotenv\n",
    "from qdrant_search import QdrantSearchEngine\n",
    "from bm25_search import ElasticsearchBM25\n",
    "from agents import ChatAgent\n",
    "from psql_models import User, async_session\n",
    "async def create_test_user() -> str:\n",
    "    \"\"\"Create a test user and return their ID\"\"\"\n",
    "    user_id = uuid.uuid4()\n",
    "    user = User(\n",
    "        id=user_id,\n",
    "        email=f\"test_{user_id}@example.com\",\n",
    "        username=f\"test_user_{user_id}\"\n",
    "    )\n",
    "    async with async_session() as session:\n",
    "        async with session.begin():\n",
    "            session.add(user)\n",
    "            await session.commit()\n",
    "    return str(user_id)"
   ]
  },
  {
   "cell_type": "code",
   "execution_count": 10,
   "metadata": {},
   "outputs": [
    {
     "name": "stdout",
     "output_type": "stream",
     "text": [
      "Connecting to Elasticsearch at elasticsearch:9200\n"
     ]
    }
   ],
   "source": [
    "\n",
    "# Load environment variables\n",
    "load_dotenv()\n",
    "voyage_api_key = os.getenv(\"VOYAGE_API_KEY\")\n",
    "if not voyage_api_key:\n",
    "    raise ValueError(\"VOYAGE_API_KEY not found in environment variables\")\n",
    "# Init search engines\n",
    "qdrant_engine = QdrantSearchEngine(voyage_api_key=voyage_api_key)\n",
    "es_engine = ElasticsearchBM25()\n",
    "# Create agent\n",
    "agent = ChatAgent(qdrant_engine=qdrant_engine, es_engine=es_engine)"
   ]
  },
  {
   "cell_type": "code",
   "execution_count": 12,
   "metadata": {},
   "outputs": [],
   "source": [
    "user_id = await create_test_user()"
   ]
  },
  {
   "cell_type": "code",
   "execution_count": 13,
   "metadata": {},
   "outputs": [],
   "source": [
    "\n",
    "query = \"Find discussions about machine learning from our meetings\""
   ]
  },
  {
   "cell_type": "code",
   "execution_count": 14,
   "metadata": {},
   "outputs": [],
   "source": [
    "\n",
    "result = await agent.chat(user_id=user_id, query=query)"
   ]
  },
  {
   "cell_type": "code",
   "execution_count": null,
   "metadata": {},
   "outputs": [],
   "source": []
  },
  {
   "cell_type": "code",
   "execution_count": null,
   "metadata": {},
   "outputs": [],
   "source": [
    "\n",
    "print(result.response)\n",
    "thread_id = result.thread_id\n",
    "# Test thread continuation\n",
    "print(\"\\n\\nTesting thread continuation...\")\n",
    "# First message\n",
    "print(\"\\nFirst message:\")\n",
    "query = \"What were the key points discussed about data processing?\"\n",
    "result = await agent.chat(user_id=user_id, query=query)\n",
    "print(result.response)\n",
    "thread_id = result.thread_id\n",
    "# Follow-up\n",
    "print(\"\\n\\nFollow-up question:\")\n",
    "query = \"Can you elaborate on the first point?\"\n",
    "result = await agent.chat(\n",
    "    user_id=user_id,\n",
    "    query=query,\n",
    "    thread_id=thread_id\n",
    ")\n",
    "print(result.response)\n",
    "\n"
   ]
  },
  {
   "cell_type": "code",
   "execution_count": null,
   "metadata": {},
   "outputs": [],
   "source": []
  }
 ],
 "metadata": {
  "kernelspec": {
   "display_name": "Python 3",
   "language": "python",
   "name": "python3"
  },
  "language_info": {
   "codemirror_mode": {
    "name": "ipython",
    "version": 3
   },
   "file_extension": ".py",
   "mimetype": "text/x-python",
   "name": "python",
   "nbconvert_exporter": "python",
   "pygments_lexer": "ipython3",
   "version": "3.11.11"
  }
 },
 "nbformat": 4,
 "nbformat_minor": 2
}
